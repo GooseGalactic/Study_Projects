{
 "cells": [
  {
   "cell_type": "markdown",
   "metadata": {},
   "source": [
    "## Подготовка данных"
   ]
  },
  {
   "cell_type": "code",
   "execution_count": 1,
   "metadata": {
    "ExecuteTime": {
     "end_time": "2022-02-06T16:22:33.973432Z",
     "start_time": "2022-02-06T16:22:31.795451Z"
    }
   },
   "outputs": [],
   "source": [
    "import pandas as pd\n",
    "import numpy as np\n",
    "import matplotlib.pyplot as plt\n",
    "import seaborn as sns\n",
    "\n",
    "from sklearn.model_selection import train_test_split \n",
    "from sklearn.tree import DecisionTreeClassifier\n",
    "from sklearn.ensemble import RandomForestClassifier\n",
    "from sklearn.linear_model import LogisticRegression\n",
    "from sklearn.metrics import f1_score, roc_curve, roc_auc_score\n",
    "from sklearn.preprocessing import StandardScaler\n",
    "from sklearn.utils import shuffle\n",
    "\n",
    "from tqdm import tqdm\n",
    "\n",
    "import warnings\n",
    "warnings.filterwarnings(\"ignore\")\n",
    "\n",
    "%matplotlib inline"
   ]
  },
  {
   "cell_type": "code",
   "execution_count": 2,
   "metadata": {
    "ExecuteTime": {
     "end_time": "2022-02-06T16:22:34.005346Z",
     "start_time": "2022-02-06T16:22:33.974429Z"
    }
   },
   "outputs": [],
   "source": [
    "df = pd.read_csv('Churn.csv', index_col = 'RowNumber')"
   ]
  },
  {
   "cell_type": "markdown",
   "metadata": {},
   "source": [
    "### Предобработка и исследовательский анализ"
   ]
  },
  {
   "cell_type": "markdown",
   "metadata": {},
   "source": [
    "Проведем исследовательский анализ данных и предобработку датасета"
   ]
  },
  {
   "cell_type": "code",
   "execution_count": 3,
   "metadata": {
    "ExecuteTime": {
     "end_time": "2022-02-06T16:22:34.037261Z",
     "start_time": "2022-02-06T16:22:34.006344Z"
    }
   },
   "outputs": [
    {
     "data": {
      "text/html": [
       "<div>\n",
       "<style scoped>\n",
       "    .dataframe tbody tr th:only-of-type {\n",
       "        vertical-align: middle;\n",
       "    }\n",
       "\n",
       "    .dataframe tbody tr th {\n",
       "        vertical-align: top;\n",
       "    }\n",
       "\n",
       "    .dataframe thead th {\n",
       "        text-align: right;\n",
       "    }\n",
       "</style>\n",
       "<table border=\"1\" class=\"dataframe\">\n",
       "  <thead>\n",
       "    <tr style=\"text-align: right;\">\n",
       "      <th></th>\n",
       "      <th>CustomerId</th>\n",
       "      <th>Surname</th>\n",
       "      <th>CreditScore</th>\n",
       "      <th>Geography</th>\n",
       "      <th>Gender</th>\n",
       "      <th>Age</th>\n",
       "      <th>Tenure</th>\n",
       "      <th>Balance</th>\n",
       "      <th>NumOfProducts</th>\n",
       "      <th>HasCrCard</th>\n",
       "      <th>IsActiveMember</th>\n",
       "      <th>EstimatedSalary</th>\n",
       "      <th>Exited</th>\n",
       "    </tr>\n",
       "    <tr>\n",
       "      <th>RowNumber</th>\n",
       "      <th></th>\n",
       "      <th></th>\n",
       "      <th></th>\n",
       "      <th></th>\n",
       "      <th></th>\n",
       "      <th></th>\n",
       "      <th></th>\n",
       "      <th></th>\n",
       "      <th></th>\n",
       "      <th></th>\n",
       "      <th></th>\n",
       "      <th></th>\n",
       "      <th></th>\n",
       "    </tr>\n",
       "  </thead>\n",
       "  <tbody>\n",
       "    <tr>\n",
       "      <th>1</th>\n",
       "      <td>15634602</td>\n",
       "      <td>Hargrave</td>\n",
       "      <td>619</td>\n",
       "      <td>France</td>\n",
       "      <td>Female</td>\n",
       "      <td>42</td>\n",
       "      <td>2.0</td>\n",
       "      <td>0.00</td>\n",
       "      <td>1</td>\n",
       "      <td>1</td>\n",
       "      <td>1</td>\n",
       "      <td>101348.88</td>\n",
       "      <td>1</td>\n",
       "    </tr>\n",
       "    <tr>\n",
       "      <th>2</th>\n",
       "      <td>15647311</td>\n",
       "      <td>Hill</td>\n",
       "      <td>608</td>\n",
       "      <td>Spain</td>\n",
       "      <td>Female</td>\n",
       "      <td>41</td>\n",
       "      <td>1.0</td>\n",
       "      <td>83807.86</td>\n",
       "      <td>1</td>\n",
       "      <td>0</td>\n",
       "      <td>1</td>\n",
       "      <td>112542.58</td>\n",
       "      <td>0</td>\n",
       "    </tr>\n",
       "    <tr>\n",
       "      <th>3</th>\n",
       "      <td>15619304</td>\n",
       "      <td>Onio</td>\n",
       "      <td>502</td>\n",
       "      <td>France</td>\n",
       "      <td>Female</td>\n",
       "      <td>42</td>\n",
       "      <td>8.0</td>\n",
       "      <td>159660.80</td>\n",
       "      <td>3</td>\n",
       "      <td>1</td>\n",
       "      <td>0</td>\n",
       "      <td>113931.57</td>\n",
       "      <td>1</td>\n",
       "    </tr>\n",
       "    <tr>\n",
       "      <th>4</th>\n",
       "      <td>15701354</td>\n",
       "      <td>Boni</td>\n",
       "      <td>699</td>\n",
       "      <td>France</td>\n",
       "      <td>Female</td>\n",
       "      <td>39</td>\n",
       "      <td>1.0</td>\n",
       "      <td>0.00</td>\n",
       "      <td>2</td>\n",
       "      <td>0</td>\n",
       "      <td>0</td>\n",
       "      <td>93826.63</td>\n",
       "      <td>0</td>\n",
       "    </tr>\n",
       "    <tr>\n",
       "      <th>5</th>\n",
       "      <td>15737888</td>\n",
       "      <td>Mitchell</td>\n",
       "      <td>850</td>\n",
       "      <td>Spain</td>\n",
       "      <td>Female</td>\n",
       "      <td>43</td>\n",
       "      <td>2.0</td>\n",
       "      <td>125510.82</td>\n",
       "      <td>1</td>\n",
       "      <td>1</td>\n",
       "      <td>1</td>\n",
       "      <td>79084.10</td>\n",
       "      <td>0</td>\n",
       "    </tr>\n",
       "  </tbody>\n",
       "</table>\n",
       "</div>"
      ],
      "text/plain": [
       "           CustomerId   Surname  CreditScore Geography  Gender  Age  Tenure  \\\n",
       "RowNumber                                                                     \n",
       "1            15634602  Hargrave          619    France  Female   42     2.0   \n",
       "2            15647311      Hill          608     Spain  Female   41     1.0   \n",
       "3            15619304      Onio          502    France  Female   42     8.0   \n",
       "4            15701354      Boni          699    France  Female   39     1.0   \n",
       "5            15737888  Mitchell          850     Spain  Female   43     2.0   \n",
       "\n",
       "             Balance  NumOfProducts  HasCrCard  IsActiveMember  \\\n",
       "RowNumber                                                        \n",
       "1               0.00              1          1               1   \n",
       "2           83807.86              1          0               1   \n",
       "3          159660.80              3          1               0   \n",
       "4               0.00              2          0               0   \n",
       "5          125510.82              1          1               1   \n",
       "\n",
       "           EstimatedSalary  Exited  \n",
       "RowNumber                           \n",
       "1                101348.88       1  \n",
       "2                112542.58       0  \n",
       "3                113931.57       1  \n",
       "4                 93826.63       0  \n",
       "5                 79084.10       0  "
      ]
     },
     "execution_count": 3,
     "metadata": {},
     "output_type": "execute_result"
    }
   ],
   "source": [
    "df.head()"
   ]
  },
  {
   "cell_type": "code",
   "execution_count": 4,
   "metadata": {
    "ExecuteTime": {
     "end_time": "2022-02-06T16:22:34.053228Z",
     "start_time": "2022-02-06T16:22:34.039257Z"
    }
   },
   "outputs": [
    {
     "name": "stdout",
     "output_type": "stream",
     "text": [
      "<class 'pandas.core.frame.DataFrame'>\n",
      "Int64Index: 10000 entries, 1 to 10000\n",
      "Data columns (total 13 columns):\n",
      " #   Column           Non-Null Count  Dtype  \n",
      "---  ------           --------------  -----  \n",
      " 0   CustomerId       10000 non-null  int64  \n",
      " 1   Surname          10000 non-null  object \n",
      " 2   CreditScore      10000 non-null  int64  \n",
      " 3   Geography        10000 non-null  object \n",
      " 4   Gender           10000 non-null  object \n",
      " 5   Age              10000 non-null  int64  \n",
      " 6   Tenure           9091 non-null   float64\n",
      " 7   Balance          10000 non-null  float64\n",
      " 8   NumOfProducts    10000 non-null  int64  \n",
      " 9   HasCrCard        10000 non-null  int64  \n",
      " 10  IsActiveMember   10000 non-null  int64  \n",
      " 11  EstimatedSalary  10000 non-null  float64\n",
      " 12  Exited           10000 non-null  int64  \n",
      "dtypes: float64(3), int64(7), object(3)\n",
      "memory usage: 1.1+ MB\n"
     ]
    }
   ],
   "source": [
    "df.info()"
   ]
  },
  {
   "cell_type": "markdown",
   "metadata": {},
   "source": [
    "Приведем признаки датафрейма к нижнему регистру"
   ]
  },
  {
   "cell_type": "code",
   "execution_count": 5,
   "metadata": {
    "ExecuteTime": {
     "end_time": "2022-02-06T16:22:34.069176Z",
     "start_time": "2022-02-06T16:22:34.054217Z"
    }
   },
   "outputs": [
    {
     "data": {
      "text/html": [
       "<div>\n",
       "<style scoped>\n",
       "    .dataframe tbody tr th:only-of-type {\n",
       "        vertical-align: middle;\n",
       "    }\n",
       "\n",
       "    .dataframe tbody tr th {\n",
       "        vertical-align: top;\n",
       "    }\n",
       "\n",
       "    .dataframe thead th {\n",
       "        text-align: right;\n",
       "    }\n",
       "</style>\n",
       "<table border=\"1\" class=\"dataframe\">\n",
       "  <thead>\n",
       "    <tr style=\"text-align: right;\">\n",
       "      <th></th>\n",
       "      <th>customerid</th>\n",
       "      <th>surname</th>\n",
       "      <th>creditscore</th>\n",
       "      <th>geography</th>\n",
       "      <th>gender</th>\n",
       "      <th>age</th>\n",
       "      <th>tenure</th>\n",
       "      <th>balance</th>\n",
       "      <th>numofproducts</th>\n",
       "      <th>hascrcard</th>\n",
       "      <th>isactivemember</th>\n",
       "      <th>estimatedsalary</th>\n",
       "      <th>exited</th>\n",
       "    </tr>\n",
       "    <tr>\n",
       "      <th>RowNumber</th>\n",
       "      <th></th>\n",
       "      <th></th>\n",
       "      <th></th>\n",
       "      <th></th>\n",
       "      <th></th>\n",
       "      <th></th>\n",
       "      <th></th>\n",
       "      <th></th>\n",
       "      <th></th>\n",
       "      <th></th>\n",
       "      <th></th>\n",
       "      <th></th>\n",
       "      <th></th>\n",
       "    </tr>\n",
       "  </thead>\n",
       "  <tbody>\n",
       "    <tr>\n",
       "      <th>1</th>\n",
       "      <td>15634602</td>\n",
       "      <td>Hargrave</td>\n",
       "      <td>619</td>\n",
       "      <td>France</td>\n",
       "      <td>Female</td>\n",
       "      <td>42</td>\n",
       "      <td>2.0</td>\n",
       "      <td>0.00</td>\n",
       "      <td>1</td>\n",
       "      <td>1</td>\n",
       "      <td>1</td>\n",
       "      <td>101348.88</td>\n",
       "      <td>1</td>\n",
       "    </tr>\n",
       "    <tr>\n",
       "      <th>2</th>\n",
       "      <td>15647311</td>\n",
       "      <td>Hill</td>\n",
       "      <td>608</td>\n",
       "      <td>Spain</td>\n",
       "      <td>Female</td>\n",
       "      <td>41</td>\n",
       "      <td>1.0</td>\n",
       "      <td>83807.86</td>\n",
       "      <td>1</td>\n",
       "      <td>0</td>\n",
       "      <td>1</td>\n",
       "      <td>112542.58</td>\n",
       "      <td>0</td>\n",
       "    </tr>\n",
       "    <tr>\n",
       "      <th>3</th>\n",
       "      <td>15619304</td>\n",
       "      <td>Onio</td>\n",
       "      <td>502</td>\n",
       "      <td>France</td>\n",
       "      <td>Female</td>\n",
       "      <td>42</td>\n",
       "      <td>8.0</td>\n",
       "      <td>159660.80</td>\n",
       "      <td>3</td>\n",
       "      <td>1</td>\n",
       "      <td>0</td>\n",
       "      <td>113931.57</td>\n",
       "      <td>1</td>\n",
       "    </tr>\n",
       "    <tr>\n",
       "      <th>4</th>\n",
       "      <td>15701354</td>\n",
       "      <td>Boni</td>\n",
       "      <td>699</td>\n",
       "      <td>France</td>\n",
       "      <td>Female</td>\n",
       "      <td>39</td>\n",
       "      <td>1.0</td>\n",
       "      <td>0.00</td>\n",
       "      <td>2</td>\n",
       "      <td>0</td>\n",
       "      <td>0</td>\n",
       "      <td>93826.63</td>\n",
       "      <td>0</td>\n",
       "    </tr>\n",
       "    <tr>\n",
       "      <th>5</th>\n",
       "      <td>15737888</td>\n",
       "      <td>Mitchell</td>\n",
       "      <td>850</td>\n",
       "      <td>Spain</td>\n",
       "      <td>Female</td>\n",
       "      <td>43</td>\n",
       "      <td>2.0</td>\n",
       "      <td>125510.82</td>\n",
       "      <td>1</td>\n",
       "      <td>1</td>\n",
       "      <td>1</td>\n",
       "      <td>79084.10</td>\n",
       "      <td>0</td>\n",
       "    </tr>\n",
       "  </tbody>\n",
       "</table>\n",
       "</div>"
      ],
      "text/plain": [
       "           customerid   surname  creditscore geography  gender  age  tenure  \\\n",
       "RowNumber                                                                     \n",
       "1            15634602  Hargrave          619    France  Female   42     2.0   \n",
       "2            15647311      Hill          608     Spain  Female   41     1.0   \n",
       "3            15619304      Onio          502    France  Female   42     8.0   \n",
       "4            15701354      Boni          699    France  Female   39     1.0   \n",
       "5            15737888  Mitchell          850     Spain  Female   43     2.0   \n",
       "\n",
       "             balance  numofproducts  hascrcard  isactivemember  \\\n",
       "RowNumber                                                        \n",
       "1               0.00              1          1               1   \n",
       "2           83807.86              1          0               1   \n",
       "3          159660.80              3          1               0   \n",
       "4               0.00              2          0               0   \n",
       "5          125510.82              1          1               1   \n",
       "\n",
       "           estimatedsalary  exited  \n",
       "RowNumber                           \n",
       "1                101348.88       1  \n",
       "2                112542.58       0  \n",
       "3                113931.57       1  \n",
       "4                 93826.63       0  \n",
       "5                 79084.10       0  "
      ]
     },
     "execution_count": 5,
     "metadata": {},
     "output_type": "execute_result"
    }
   ],
   "source": [
    "df.columns = df.columns.str.lower()\n",
    "df.head()"
   ]
  },
  {
   "cell_type": "markdown",
   "metadata": {},
   "source": [
    "Признаки `customerid` и `surname` не нужны для обучения модели, мы можем их удалить"
   ]
  },
  {
   "cell_type": "code",
   "execution_count": 6,
   "metadata": {
    "ExecuteTime": {
     "end_time": "2022-02-06T16:22:34.101090Z",
     "start_time": "2022-02-06T16:22:34.070174Z"
    }
   },
   "outputs": [
    {
     "data": {
      "text/html": [
       "<div>\n",
       "<style scoped>\n",
       "    .dataframe tbody tr th:only-of-type {\n",
       "        vertical-align: middle;\n",
       "    }\n",
       "\n",
       "    .dataframe tbody tr th {\n",
       "        vertical-align: top;\n",
       "    }\n",
       "\n",
       "    .dataframe thead th {\n",
       "        text-align: right;\n",
       "    }\n",
       "</style>\n",
       "<table border=\"1\" class=\"dataframe\">\n",
       "  <thead>\n",
       "    <tr style=\"text-align: right;\">\n",
       "      <th></th>\n",
       "      <th>creditscore</th>\n",
       "      <th>geography</th>\n",
       "      <th>gender</th>\n",
       "      <th>age</th>\n",
       "      <th>tenure</th>\n",
       "      <th>balance</th>\n",
       "      <th>numofproducts</th>\n",
       "      <th>hascrcard</th>\n",
       "      <th>isactivemember</th>\n",
       "      <th>estimatedsalary</th>\n",
       "      <th>exited</th>\n",
       "    </tr>\n",
       "    <tr>\n",
       "      <th>RowNumber</th>\n",
       "      <th></th>\n",
       "      <th></th>\n",
       "      <th></th>\n",
       "      <th></th>\n",
       "      <th></th>\n",
       "      <th></th>\n",
       "      <th></th>\n",
       "      <th></th>\n",
       "      <th></th>\n",
       "      <th></th>\n",
       "      <th></th>\n",
       "    </tr>\n",
       "  </thead>\n",
       "  <tbody>\n",
       "    <tr>\n",
       "      <th>1</th>\n",
       "      <td>619</td>\n",
       "      <td>France</td>\n",
       "      <td>Female</td>\n",
       "      <td>42</td>\n",
       "      <td>2.0</td>\n",
       "      <td>0.00</td>\n",
       "      <td>1</td>\n",
       "      <td>1</td>\n",
       "      <td>1</td>\n",
       "      <td>101348.88</td>\n",
       "      <td>1</td>\n",
       "    </tr>\n",
       "    <tr>\n",
       "      <th>2</th>\n",
       "      <td>608</td>\n",
       "      <td>Spain</td>\n",
       "      <td>Female</td>\n",
       "      <td>41</td>\n",
       "      <td>1.0</td>\n",
       "      <td>83807.86</td>\n",
       "      <td>1</td>\n",
       "      <td>0</td>\n",
       "      <td>1</td>\n",
       "      <td>112542.58</td>\n",
       "      <td>0</td>\n",
       "    </tr>\n",
       "    <tr>\n",
       "      <th>3</th>\n",
       "      <td>502</td>\n",
       "      <td>France</td>\n",
       "      <td>Female</td>\n",
       "      <td>42</td>\n",
       "      <td>8.0</td>\n",
       "      <td>159660.80</td>\n",
       "      <td>3</td>\n",
       "      <td>1</td>\n",
       "      <td>0</td>\n",
       "      <td>113931.57</td>\n",
       "      <td>1</td>\n",
       "    </tr>\n",
       "    <tr>\n",
       "      <th>4</th>\n",
       "      <td>699</td>\n",
       "      <td>France</td>\n",
       "      <td>Female</td>\n",
       "      <td>39</td>\n",
       "      <td>1.0</td>\n",
       "      <td>0.00</td>\n",
       "      <td>2</td>\n",
       "      <td>0</td>\n",
       "      <td>0</td>\n",
       "      <td>93826.63</td>\n",
       "      <td>0</td>\n",
       "    </tr>\n",
       "    <tr>\n",
       "      <th>5</th>\n",
       "      <td>850</td>\n",
       "      <td>Spain</td>\n",
       "      <td>Female</td>\n",
       "      <td>43</td>\n",
       "      <td>2.0</td>\n",
       "      <td>125510.82</td>\n",
       "      <td>1</td>\n",
       "      <td>1</td>\n",
       "      <td>1</td>\n",
       "      <td>79084.10</td>\n",
       "      <td>0</td>\n",
       "    </tr>\n",
       "  </tbody>\n",
       "</table>\n",
       "</div>"
      ],
      "text/plain": [
       "           creditscore geography  gender  age  tenure    balance  \\\n",
       "RowNumber                                                          \n",
       "1                  619    France  Female   42     2.0       0.00   \n",
       "2                  608     Spain  Female   41     1.0   83807.86   \n",
       "3                  502    France  Female   42     8.0  159660.80   \n",
       "4                  699    France  Female   39     1.0       0.00   \n",
       "5                  850     Spain  Female   43     2.0  125510.82   \n",
       "\n",
       "           numofproducts  hascrcard  isactivemember  estimatedsalary  exited  \n",
       "RowNumber                                                                     \n",
       "1                      1          1               1        101348.88       1  \n",
       "2                      1          0               1        112542.58       0  \n",
       "3                      3          1               0        113931.57       1  \n",
       "4                      2          0               0         93826.63       0  \n",
       "5                      1          1               1         79084.10       0  "
      ]
     },
     "execution_count": 6,
     "metadata": {},
     "output_type": "execute_result"
    }
   ],
   "source": [
    "df = df.drop(['customerid', 'surname'], axis=1)\n",
    "df.head()"
   ]
  },
  {
   "cell_type": "markdown",
   "metadata": {},
   "source": [
    "Изучим признак `tenure`, так как мы имеем в нем пропущенные значения"
   ]
  },
  {
   "cell_type": "code",
   "execution_count": 7,
   "metadata": {
    "ExecuteTime": {
     "end_time": "2022-02-06T16:22:34.117048Z",
     "start_time": "2022-02-06T16:22:34.103086Z"
    }
   },
   "outputs": [
    {
     "data": {
      "text/plain": [
       "1.0     0.0952\n",
       "2.0     0.0950\n",
       "8.0     0.0933\n",
       "3.0     0.0928\n",
       "5.0     0.0927\n",
       "7.0     0.0925\n",
       "NaN     0.0909\n",
       "4.0     0.0885\n",
       "9.0     0.0882\n",
       "6.0     0.0881\n",
       "10.0    0.0446\n",
       "0.0     0.0382\n",
       "Name: tenure, dtype: float64"
      ]
     },
     "execution_count": 7,
     "metadata": {},
     "output_type": "execute_result"
    }
   ],
   "source": [
    "df['tenure'].value_counts(normalize=True, dropna=False)"
   ]
  },
  {
   "cell_type": "markdown",
   "metadata": {},
   "source": [
    "Почти 9% данных имеют пропуски в признаке. Заполним пропущенные значения случайным числом и заменим тип переменной с `float` на `int` для экономии памяти"
   ]
  },
  {
   "cell_type": "code",
   "execution_count": 8,
   "metadata": {
    "ExecuteTime": {
     "end_time": "2022-02-06T16:22:34.133005Z",
     "start_time": "2022-02-06T16:22:34.119043Z"
    }
   },
   "outputs": [],
   "source": [
    "def fill_missing(column_val):\n",
    "    if np.isnan(column_val) == True: \n",
    "        column_val = np.random.randint(0,11)\n",
    "    else:\n",
    "         column_val = column_val\n",
    "    return column_val"
   ]
  },
  {
   "cell_type": "code",
   "execution_count": 9,
   "metadata": {
    "ExecuteTime": {
     "end_time": "2022-02-06T16:22:34.180877Z",
     "start_time": "2022-02-06T16:22:34.134003Z"
    }
   },
   "outputs": [
    {
     "data": {
      "text/plain": [
       "2     0.1042\n",
       "1     0.1031\n",
       "8     0.1020\n",
       "7     0.1019\n",
       "5     0.1019\n",
       "3     0.0997\n",
       "4     0.0974\n",
       "9     0.0962\n",
       "6     0.0959\n",
       "10    0.0521\n",
       "0     0.0456\n",
       "Name: tenure, dtype: float64"
      ]
     },
     "execution_count": 9,
     "metadata": {},
     "output_type": "execute_result"
    }
   ],
   "source": [
    "df['tenure'] = df['tenure'].apply(fill_missing).astype('int')\n",
    "df['tenure'].value_counts(normalize=True, dropna=False)"
   ]
  },
  {
   "cell_type": "markdown",
   "metadata": {},
   "source": [
    "Признаки `geography` и `gender` имеют тип `object`. Применим One-Hot-Encoding для преобразования признаков в подходящие для обучения"
   ]
  },
  {
   "cell_type": "code",
   "execution_count": 10,
   "metadata": {
    "ExecuteTime": {
     "end_time": "2022-02-06T16:22:34.433712Z",
     "start_time": "2022-02-06T16:22:34.400802Z"
    }
   },
   "outputs": [
    {
     "data": {
      "text/html": [
       "<div>\n",
       "<style scoped>\n",
       "    .dataframe tbody tr th:only-of-type {\n",
       "        vertical-align: middle;\n",
       "    }\n",
       "\n",
       "    .dataframe tbody tr th {\n",
       "        vertical-align: top;\n",
       "    }\n",
       "\n",
       "    .dataframe thead th {\n",
       "        text-align: right;\n",
       "    }\n",
       "</style>\n",
       "<table border=\"1\" class=\"dataframe\">\n",
       "  <thead>\n",
       "    <tr style=\"text-align: right;\">\n",
       "      <th></th>\n",
       "      <th>creditscore</th>\n",
       "      <th>age</th>\n",
       "      <th>tenure</th>\n",
       "      <th>balance</th>\n",
       "      <th>numofproducts</th>\n",
       "      <th>hascrcard</th>\n",
       "      <th>isactivemember</th>\n",
       "      <th>estimatedsalary</th>\n",
       "      <th>exited</th>\n",
       "      <th>geography_Germany</th>\n",
       "      <th>geography_Spain</th>\n",
       "      <th>gender_Male</th>\n",
       "    </tr>\n",
       "    <tr>\n",
       "      <th>RowNumber</th>\n",
       "      <th></th>\n",
       "      <th></th>\n",
       "      <th></th>\n",
       "      <th></th>\n",
       "      <th></th>\n",
       "      <th></th>\n",
       "      <th></th>\n",
       "      <th></th>\n",
       "      <th></th>\n",
       "      <th></th>\n",
       "      <th></th>\n",
       "      <th></th>\n",
       "    </tr>\n",
       "  </thead>\n",
       "  <tbody>\n",
       "    <tr>\n",
       "      <th>1</th>\n",
       "      <td>619</td>\n",
       "      <td>42</td>\n",
       "      <td>2</td>\n",
       "      <td>0.00</td>\n",
       "      <td>1</td>\n",
       "      <td>1</td>\n",
       "      <td>1</td>\n",
       "      <td>101348.88</td>\n",
       "      <td>1</td>\n",
       "      <td>0</td>\n",
       "      <td>0</td>\n",
       "      <td>0</td>\n",
       "    </tr>\n",
       "    <tr>\n",
       "      <th>2</th>\n",
       "      <td>608</td>\n",
       "      <td>41</td>\n",
       "      <td>1</td>\n",
       "      <td>83807.86</td>\n",
       "      <td>1</td>\n",
       "      <td>0</td>\n",
       "      <td>1</td>\n",
       "      <td>112542.58</td>\n",
       "      <td>0</td>\n",
       "      <td>0</td>\n",
       "      <td>1</td>\n",
       "      <td>0</td>\n",
       "    </tr>\n",
       "    <tr>\n",
       "      <th>3</th>\n",
       "      <td>502</td>\n",
       "      <td>42</td>\n",
       "      <td>8</td>\n",
       "      <td>159660.80</td>\n",
       "      <td>3</td>\n",
       "      <td>1</td>\n",
       "      <td>0</td>\n",
       "      <td>113931.57</td>\n",
       "      <td>1</td>\n",
       "      <td>0</td>\n",
       "      <td>0</td>\n",
       "      <td>0</td>\n",
       "    </tr>\n",
       "    <tr>\n",
       "      <th>4</th>\n",
       "      <td>699</td>\n",
       "      <td>39</td>\n",
       "      <td>1</td>\n",
       "      <td>0.00</td>\n",
       "      <td>2</td>\n",
       "      <td>0</td>\n",
       "      <td>0</td>\n",
       "      <td>93826.63</td>\n",
       "      <td>0</td>\n",
       "      <td>0</td>\n",
       "      <td>0</td>\n",
       "      <td>0</td>\n",
       "    </tr>\n",
       "    <tr>\n",
       "      <th>5</th>\n",
       "      <td>850</td>\n",
       "      <td>43</td>\n",
       "      <td>2</td>\n",
       "      <td>125510.82</td>\n",
       "      <td>1</td>\n",
       "      <td>1</td>\n",
       "      <td>1</td>\n",
       "      <td>79084.10</td>\n",
       "      <td>0</td>\n",
       "      <td>0</td>\n",
       "      <td>1</td>\n",
       "      <td>0</td>\n",
       "    </tr>\n",
       "  </tbody>\n",
       "</table>\n",
       "</div>"
      ],
      "text/plain": [
       "           creditscore  age  tenure    balance  numofproducts  hascrcard  \\\n",
       "RowNumber                                                                  \n",
       "1                  619   42       2       0.00              1          1   \n",
       "2                  608   41       1   83807.86              1          0   \n",
       "3                  502   42       8  159660.80              3          1   \n",
       "4                  699   39       1       0.00              2          0   \n",
       "5                  850   43       2  125510.82              1          1   \n",
       "\n",
       "           isactivemember  estimatedsalary  exited  geography_Germany  \\\n",
       "RowNumber                                                               \n",
       "1                       1        101348.88       1                  0   \n",
       "2                       1        112542.58       0                  0   \n",
       "3                       0        113931.57       1                  0   \n",
       "4                       0         93826.63       0                  0   \n",
       "5                       1         79084.10       0                  0   \n",
       "\n",
       "           geography_Spain  gender_Male  \n",
       "RowNumber                                \n",
       "1                        0            0  \n",
       "2                        1            0  \n",
       "3                        0            0  \n",
       "4                        0            0  \n",
       "5                        1            0  "
      ]
     },
     "execution_count": 10,
     "metadata": {},
     "output_type": "execute_result"
    }
   ],
   "source": [
    "df = pd.get_dummies(df, drop_first=True)\n",
    "df.head()"
   ]
  },
  {
   "cell_type": "markdown",
   "metadata": {},
   "source": [
    "Наконец оценим мультиколлинеарность признаков, построив хитмап"
   ]
  },
  {
   "cell_type": "code",
   "execution_count": 11,
   "metadata": {
    "ExecuteTime": {
     "end_time": "2022-02-06T16:22:35.564259Z",
     "start_time": "2022-02-06T16:22:34.741947Z"
    }
   },
   "outputs": [
    {
     "data": {
      "image/png": "[encoded data removed]",
      "text/plain": [
       "<Figure size 864x576 with 2 Axes>"
      ]
     },
     "metadata": {
      "needs_background": "light"
     },
     "output_type": "display_data"
    }
   ],
   "source": [
    "plt.figure(figsize=(12,8))\n",
    "sns.heatmap(df.corr(), annot=True)\n",
    "plt.show()"
   ]
  },
  {
   "cell_type": "markdown",
   "metadata": {},
   "source": [
    "В датафрейме есть несколько коррелирующих между собой признаков, но не настолько сильно, чтобы их удалять"
   ]
  },
  {
   "cell_type": "markdown",
   "metadata": {},
   "source": [
    "### Подготовка выборок"
   ]
  },
  {
   "cell_type": "markdown",
   "metadata": {},
   "source": [
    "Создадим выборки `feature` и `target`, после разделим выборки на обучающую, валидационную и тестовую"
   ]
  },
  {
   "cell_type": "code",
   "execution_count": 12,
   "metadata": {
    "ExecuteTime": {
     "end_time": "2022-02-06T16:22:35.787203Z",
     "start_time": "2022-02-06T16:22:35.780222Z"
    }
   },
   "outputs": [],
   "source": [
    "features = df.drop('exited', axis=1)\n",
    "target = df['exited']"
   ]
  },
  {
   "cell_type": "code",
   "execution_count": 13,
   "metadata": {
    "ExecuteTime": {
     "end_time": "2022-02-06T16:22:35.819148Z",
     "start_time": "2022-02-06T16:22:35.789198Z"
    }
   },
   "outputs": [],
   "source": [
    "features_train, features_int, target_train, target_int = train_test_split(\n",
    "    features, \n",
    "    target,\n",
    "    test_size=0.4,\n",
    "    stratify=target,\n",
    "    random_state=12345\n",
    ")                                                                      "
   ]
  },
  {
   "cell_type": "code",
   "execution_count": 14,
   "metadata": {
    "ExecuteTime": {
     "end_time": "2022-02-06T16:22:35.835074Z",
     "start_time": "2022-02-06T16:22:35.821112Z"
    }
   },
   "outputs": [
    {
     "data": {
      "text/plain": [
       "(6000, 4000)"
      ]
     },
     "execution_count": 14,
     "metadata": {},
     "output_type": "execute_result"
    }
   ],
   "source": [
    "#Проверим размеры выборок\n",
    "features_train.shape[0], features_int.shape[0]"
   ]
  },
  {
   "cell_type": "code",
   "execution_count": 15,
   "metadata": {
    "ExecuteTime": {
     "end_time": "2022-02-06T16:22:35.851049Z",
     "start_time": "2022-02-06T16:22:35.837069Z"
    }
   },
   "outputs": [],
   "source": [
    "#Разделим промежуточную выборку пополам, на валидационную и тестовую\n",
    "features_valid, features_test, target_valid, target_test = train_test_split(\n",
    "    features_int,\n",
    "    target_int,\n",
    "    test_size=0.5,\n",
    "    stratify=target_int,\n",
    "    random_state=12345\n",
    ")     "
   ]
  },
  {
   "cell_type": "code",
   "execution_count": 16,
   "metadata": {
    "ExecuteTime": {
     "end_time": "2022-02-06T16:22:35.866989Z",
     "start_time": "2022-02-06T16:22:35.853027Z"
    }
   },
   "outputs": [
    {
     "data": {
      "text/plain": [
       "(2000, 2000)"
      ]
     },
     "execution_count": 16,
     "metadata": {},
     "output_type": "execute_result"
    }
   ],
   "source": [
    "features_valid.shape[0], features_test.shape[0]"
   ]
  },
  {
   "cell_type": "markdown",
   "metadata": {},
   "source": [
    "Скалируем значения выборок"
   ]
  },
  {
   "cell_type": "code",
   "execution_count": 17,
   "metadata": {
    "ExecuteTime": {
     "end_time": "2022-02-06T16:22:36.166910Z",
     "start_time": "2022-02-06T16:22:36.143001Z"
    }
   },
   "outputs": [
    {
     "data": {
      "text/html": [
       "<div>\n",
       "<style scoped>\n",
       "    .dataframe tbody tr th:only-of-type {\n",
       "        vertical-align: middle;\n",
       "    }\n",
       "\n",
       "    .dataframe tbody tr th {\n",
       "        vertical-align: top;\n",
       "    }\n",
       "\n",
       "    .dataframe thead th {\n",
       "        text-align: right;\n",
       "    }\n",
       "</style>\n",
       "<table border=\"1\" class=\"dataframe\">\n",
       "  <thead>\n",
       "    <tr style=\"text-align: right;\">\n",
       "      <th></th>\n",
       "      <th>creditscore</th>\n",
       "      <th>age</th>\n",
       "      <th>tenure</th>\n",
       "      <th>balance</th>\n",
       "      <th>numofproducts</th>\n",
       "      <th>hascrcard</th>\n",
       "      <th>isactivemember</th>\n",
       "      <th>estimatedsalary</th>\n",
       "      <th>geography_Germany</th>\n",
       "      <th>geography_Spain</th>\n",
       "      <th>gender_Male</th>\n",
       "    </tr>\n",
       "    <tr>\n",
       "      <th>RowNumber</th>\n",
       "      <th></th>\n",
       "      <th></th>\n",
       "      <th></th>\n",
       "      <th></th>\n",
       "      <th></th>\n",
       "      <th></th>\n",
       "      <th></th>\n",
       "      <th></th>\n",
       "      <th></th>\n",
       "      <th></th>\n",
       "      <th></th>\n",
       "    </tr>\n",
       "  </thead>\n",
       "  <tbody>\n",
       "    <tr>\n",
       "      <th>2838</th>\n",
       "      <td>-1.040434</td>\n",
       "      <td>0.953312</td>\n",
       "      <td>6</td>\n",
       "      <td>0.774657</td>\n",
       "      <td>1</td>\n",
       "      <td>0</td>\n",
       "      <td>1</td>\n",
       "      <td>-0.119110</td>\n",
       "      <td>1</td>\n",
       "      <td>0</td>\n",
       "      <td>0</td>\n",
       "    </tr>\n",
       "    <tr>\n",
       "      <th>9926</th>\n",
       "      <td>0.454006</td>\n",
       "      <td>-0.095244</td>\n",
       "      <td>2</td>\n",
       "      <td>1.910540</td>\n",
       "      <td>1</td>\n",
       "      <td>1</td>\n",
       "      <td>1</td>\n",
       "      <td>-0.258658</td>\n",
       "      <td>0</td>\n",
       "      <td>0</td>\n",
       "      <td>0</td>\n",
       "    </tr>\n",
       "    <tr>\n",
       "      <th>8747</th>\n",
       "      <td>0.103585</td>\n",
       "      <td>-0.476537</td>\n",
       "      <td>8</td>\n",
       "      <td>0.481608</td>\n",
       "      <td>2</td>\n",
       "      <td>0</td>\n",
       "      <td>1</td>\n",
       "      <td>1.422836</td>\n",
       "      <td>0</td>\n",
       "      <td>0</td>\n",
       "      <td>1</td>\n",
       "    </tr>\n",
       "    <tr>\n",
       "      <th>661</th>\n",
       "      <td>-0.184996</td>\n",
       "      <td>0.190726</td>\n",
       "      <td>0</td>\n",
       "      <td>0.088439</td>\n",
       "      <td>1</td>\n",
       "      <td>1</td>\n",
       "      <td>1</td>\n",
       "      <td>-1.160427</td>\n",
       "      <td>1</td>\n",
       "      <td>0</td>\n",
       "      <td>0</td>\n",
       "    </tr>\n",
       "    <tr>\n",
       "      <th>3611</th>\n",
       "      <td>-0.720933</td>\n",
       "      <td>1.620574</td>\n",
       "      <td>1</td>\n",
       "      <td>0.879129</td>\n",
       "      <td>1</td>\n",
       "      <td>1</td>\n",
       "      <td>0</td>\n",
       "      <td>0.113236</td>\n",
       "      <td>0</td>\n",
       "      <td>0</td>\n",
       "      <td>0</td>\n",
       "    </tr>\n",
       "  </tbody>\n",
       "</table>\n",
       "</div>"
      ],
      "text/plain": [
       "           creditscore       age  tenure   balance  numofproducts  hascrcard  \\\n",
       "RowNumber                                                                      \n",
       "2838         -1.040434  0.953312       6  0.774657              1          0   \n",
       "9926          0.454006 -0.095244       2  1.910540              1          1   \n",
       "8747          0.103585 -0.476537       8  0.481608              2          0   \n",
       "661          -0.184996  0.190726       0  0.088439              1          1   \n",
       "3611         -0.720933  1.620574       1  0.879129              1          1   \n",
       "\n",
       "           isactivemember  estimatedsalary  geography_Germany  \\\n",
       "RowNumber                                                       \n",
       "2838                    1        -0.119110                  1   \n",
       "9926                    1        -0.258658                  0   \n",
       "8747                    1         1.422836                  0   \n",
       "661                     1        -1.160427                  1   \n",
       "3611                    0         0.113236                  0   \n",
       "\n",
       "           geography_Spain  gender_Male  \n",
       "RowNumber                                \n",
       "2838                     0            0  \n",
       "9926                     0            0  \n",
       "8747                     0            1  \n",
       "661                      0            0  \n",
       "3611                     0            0  "
      ]
     },
     "execution_count": 17,
     "metadata": {},
     "output_type": "execute_result"
    }
   ],
   "source": [
    "numeric = ['creditscore', 'age', 'balance', 'estimatedsalary']\n",
    "\n",
    "scaler = StandardScaler()\n",
    "scaler.fit(features_train[numeric])\n",
    "\n",
    "features_train[numeric] = scaler.transform(features_train[numeric])\n",
    "features_valid[numeric] = scaler.transform(features_valid[numeric])\n",
    "features_test[numeric] = scaler.transform(features_test[numeric])\n",
    "\n",
    "features_train.head()"
   ]
  },
  {
   "cell_type": "markdown",
   "metadata": {},
   "source": [
    "### Выводы"
   ]
  },
  {
   "cell_type": "markdown",
   "metadata": {},
   "source": [
    "Данные были обработаны и подготовлены для обучения:\n",
    "1) Исправлены ошибки в датафрейме, удалены лишние признаки, заполнены пропуски  \n",
    "2) Закодированы категориальные признаки с помощью методики OHE  \n",
    "3) Численные признаки отмасштабированы  \n",
    "4) Построена матрица корреляции между признаками для выявления зависимых признаков  \n",
    "5) Созданы выборки для обучения, верификации и тестирования моделей"
   ]
  },
  {
   "cell_type": "markdown",
   "metadata": {},
   "source": [
    "Данные готовы, можно переходить к обучению моделей"
   ]
  },
  {
   "cell_type": "markdown",
   "metadata": {},
   "source": [
    "## Исследование задачи"
   ]
  },
  {
   "cell_type": "markdown",
   "metadata": {},
   "source": [
    "Проверим дисбаланс классов на примере обучающей выборки"
   ]
  },
  {
   "cell_type": "code",
   "execution_count": 18,
   "metadata": {
    "ExecuteTime": {
     "end_time": "2022-02-06T16:22:38.099520Z",
     "start_time": "2022-02-06T16:22:38.091541Z"
    }
   },
   "outputs": [
    {
     "data": {
      "text/plain": [
       "0    0.796333\n",
       "1    0.203667\n",
       "Name: exited, dtype: float64"
      ]
     },
     "execution_count": 18,
     "metadata": {},
     "output_type": "execute_result"
    }
   ],
   "source": [
    "target_train.value_counts(normalize=True)"
   ]
  },
  {
   "cell_type": "markdown",
   "metadata": {},
   "source": [
    "Соотношение отрицательных и положительных классов приблизительно 80:20. Налицо явный дисбаланс. Попробуем обучить модели без поправок на дисбаланс.  \n",
    "В качестве метрик выбираем F1-score и AUC-ROC"
   ]
  },
  {
   "cell_type": "markdown",
   "metadata": {},
   "source": [
    "Обучим каждую модель и оценим значения метрик F1 и AUC-ROC. Кроме того, для каждой модели построим график кривой ошибок и сравним его со случайной моделью"
   ]
  },
  {
   "cell_type": "code",
   "execution_count": 19,
   "metadata": {
    "ExecuteTime": {
     "end_time": "2022-02-06T16:22:38.945960Z",
     "start_time": "2022-02-06T16:22:38.888116Z"
    }
   },
   "outputs": [
    {
     "name": "stdout",
     "output_type": "stream",
     "text": [
      "F1-score модели решающего дерева: 0.5172824791418357\n",
      "AUC-ROC-score модели решающего дерева: 0.6987203172726376\n"
     ]
    }
   ],
   "source": [
    "#Решающее дерево\n",
    "\n",
    "model_t = DecisionTreeClassifier(random_state=12345)\n",
    "\n",
    "model_t.fit(features_train, target_train)\n",
    "\n",
    "prediction = model_t.predict(features_valid)\n",
    "probabilities = model_t.predict_proba(features_valid)\n",
    "probabilities_one = probabilities[:, 1]\n",
    "\n",
    "print(f'F1-score модели решающего дерева: {f1_score(target_valid, prediction)}')\n",
    "print(f'AUC-ROC-score модели решающего дерева: {roc_auc_score(target_valid, probabilities_one)}')"
   ]
  },
  {
   "cell_type": "code",
   "execution_count": 20,
   "metadata": {
    "ExecuteTime": {
     "end_time": "2022-02-06T16:22:39.103542Z",
     "start_time": "2022-02-06T16:22:38.946958Z"
    }
   },
   "outputs": [
    {
     "data": {
      "image/png": "[encoded data removed]",
      "text/plain": [
       "<Figure size 432x288 with 1 Axes>"
      ]
     },
     "metadata": {
      "needs_background": "light"
     },
     "output_type": "display_data"
    }
   ],
   "source": [
    "fpr, tpr, thresholds = roc_curve(target_valid, probabilities_one)\n",
    "sns.lineplot(fpr, tpr)\n",
    "sns.lineplot([0,1], [0,1], linestyle='dashed')\n",
    "plt.legend(labels=['Model', 'Constant'])\n",
    "plt.show()"
   ]
  },
  {
   "cell_type": "markdown",
   "metadata": {},
   "source": [
    "Модель решающего дерева на несбалансированной выборке показывает себя слабо. Она смогла обучиться и без настройки гиперпараметров, но метрики оставляют желать лучшего"
   ]
  },
  {
   "cell_type": "code",
   "execution_count": 21,
   "metadata": {
    "ExecuteTime": {
     "end_time": "2022-02-06T16:22:39.373820Z",
     "start_time": "2022-02-06T16:22:39.267143Z"
    }
   },
   "outputs": [
    {
     "name": "stdout",
     "output_type": "stream",
     "text": [
      "F1-score модели случайного леса: 0.5940298507462687\n",
      "AUC-ROC-score модели случайного леса: 0.841641571829737\n"
     ]
    }
   ],
   "source": [
    "#Случайный лес\n",
    "\n",
    "model_f = RandomForestClassifier(n_estimators=10, random_state=12345)\n",
    "\n",
    "model_f.fit(features_train, target_train)\n",
    "\n",
    "prediction = model_f.predict(features_valid)\n",
    "probabilities = model_f.predict_proba(features_valid)\n",
    "probabilities_one = probabilities[:, 1]\n",
    "\n",
    "print(f'F1-score модели случайного леса: {f1_score(target_valid, prediction)}')\n",
    "print(f'AUC-ROC-score модели случайного леса: {roc_auc_score(target_valid, probabilities_one)}')"
   ]
  },
  {
   "cell_type": "code",
   "execution_count": 22,
   "metadata": {
    "ExecuteTime": {
     "end_time": "2022-02-06T16:22:39.562315Z",
     "start_time": "2022-02-06T16:22:39.375814Z"
    }
   },
   "outputs": [
    {
     "data": {
      "image/png": "[encoded data removed]",
      "text/plain": [
       "<Figure size 432x288 with 1 Axes>"
      ]
     },
     "metadata": {
      "needs_background": "light"
     },
     "output_type": "display_data"
    }
   ],
   "source": [
    "fpr, tpr, thresholds = roc_curve(target_valid, probabilities_one)\n",
    "sns.lineplot(fpr, tpr)\n",
    "sns.lineplot([0,1], [0,1], linestyle='dashed')\n",
    "plt.legend(labels=['Model', 'Constant'])\n",
    "plt.show()"
   ]
  },
  {
   "cell_type": "markdown",
   "metadata": {},
   "source": [
    "Модель случайного леса показывает себя гораздо лучше модели решающего дерева. F1-score практически достиг заданного показателя, площадь кривой отлична от 0.5. Эту модель мы будем настраивать далее"
   ]
  },
  {
   "cell_type": "code",
   "execution_count": 23,
   "metadata": {
    "ExecuteTime": {
     "end_time": "2022-02-06T16:22:39.798683Z",
     "start_time": "2022-02-06T16:22:39.748817Z"
    }
   },
   "outputs": [
    {
     "name": "stdout",
     "output_type": "stream",
     "text": [
      "F1-score модели логистической регрессии: 0.3071297989031079\n",
      "AUC-ROC-score модели логистической регрессии: 0.7872342718494434\n"
     ]
    }
   ],
   "source": [
    "#Логистическая регрессия\n",
    "model_r = LogisticRegression(solver='liblinear',\n",
    "                            random_state=12345)\n",
    "\n",
    "model_r.fit(features_train, target_train)\n",
    "\n",
    "prediction = model_r.predict(features_valid)\n",
    "probabilities = model_r.predict_proba(features_valid)\n",
    "probabilities_one = probabilities[:, 1]\n",
    "\n",
    "print(f'F1-score модели логистической регрессии: {f1_score(target_valid, prediction)}')\n",
    "print(f'AUC-ROC-score модели логистической регрессии: {roc_auc_score(target_valid, probabilities_one)}')"
   ]
  },
  {
   "cell_type": "code",
   "execution_count": 24,
   "metadata": {
    "ExecuteTime": {
     "end_time": "2022-02-06T16:22:46.399319Z",
     "start_time": "2022-02-06T16:22:39.799681Z"
    }
   },
   "outputs": [
    {
     "data": {
      "image/png": "[encoded data removed]",
      "text/plain": [
       "<Figure size 432x288 with 1 Axes>"
      ]
     },
     "metadata": {
      "needs_background": "light"
     },
     "output_type": "display_data"
    }
   ],
   "source": [
    "fpr, tpr, thresholds = roc_curve(target_valid, probabilities_one)\n",
    "sns.lineplot(fpr, tpr)\n",
    "sns.lineplot([0,1], [0,1], linestyle='dashed')\n",
    "plt.legend(labels=['Model', 'Constant'])\n",
    "plt.show()"
   ]
  },
  {
   "cell_type": "markdown",
   "metadata": {},
   "source": [
    "Модель логистической регрессии плохо показывает себя на несбалансированных выборках, но при этом у нее неплохой показатель AUC-ROC. Учитывая то, что она обучается в разы быстрее леса (особенно после увеличения глубины и количества оценщиков последнего), мы можем попробовать получить удовлетворительные варианты и у нее."
   ]
  },
  {
   "cell_type": "markdown",
   "metadata": {},
   "source": [
    "### Выводы"
   ]
  },
  {
   "cell_type": "markdown",
   "metadata": {},
   "source": [
    "Мы быстро обучили несколько тестовых моделей и посмотрели, как они себя показывают на несбалансированных данных. Учитывая распределение целевого признака (~80:20 для отрицательного и положительного класса соответственно), нам необходимо попробовать обработать выборки (проведя upsampling и downsampling), или же попробовать задать модели равный вес классов. Для оценки сбалансированных выборок мы берем наши модели леса и регрессии."
   ]
  },
  {
   "cell_type": "markdown",
   "metadata": {},
   "source": [
    "## Борьба с дисбалансом"
   ]
  },
  {
   "cell_type": "markdown",
   "metadata": {},
   "source": [
    "Для борьбы с дисбалансом классов в выборке мы последовательно применим следующие шаги:  \n",
    "1) Сначала попробуем задать одинаковый вес в каждой модели  \n",
    "2) Затем увеличим выборку - \"upsampling\"  \n",
    "3) Затем попробуем уменьшить выборку - \"downsampling\" \n",
    "\n",
    "На каждом шаге мы будем мониторить метрики F1 и AUC-ROC. После того, как мы достигнем лучших результатов на исправленных выборках, мы можем настроить гиперпараметры выбранной модели и перейти к ее тестированию"
   ]
  },
  {
   "cell_type": "markdown",
   "metadata": {},
   "source": [
    "### Взвешивание классов"
   ]
  },
  {
   "cell_type": "markdown",
   "metadata": {},
   "source": [
    "Попробуем задать `class_weight='balanced'` нашим моделям"
   ]
  },
  {
   "cell_type": "code",
   "execution_count": 25,
   "metadata": {
    "ExecuteTime": {
     "end_time": "2022-02-06T16:22:46.509026Z",
     "start_time": "2022-02-06T16:22:46.402312Z"
    }
   },
   "outputs": [
    {
     "name": "stdout",
     "output_type": "stream",
     "text": [
      "F1-score модели случайного леса: 0.5709969788519638\n",
      "AUC-ROC-score модели случайного леса: 0.8310994309784214\n"
     ]
    }
   ],
   "source": [
    "#Случайный лес\n",
    "model_f = RandomForestClassifier(n_estimators=10, \n",
    "                                 random_state=12345,\n",
    "                                 class_weight='balanced'\n",
    "                                )\n",
    "\n",
    "model_f.fit(features_train, target_train)\n",
    "\n",
    "prediction = model_f.predict(features_valid)\n",
    "probabilities = model_f.predict_proba(features_valid)\n",
    "probabilities_one = probabilities[:, 1]\n",
    "\n",
    "print(f'F1-score модели случайного леса: {f1_score(target_valid, prediction)}')\n",
    "print(f'AUC-ROC-score модели случайного леса: {roc_auc_score(target_valid, probabilities_one)}')"
   ]
  },
  {
   "cell_type": "code",
   "execution_count": 26,
   "metadata": {
    "ExecuteTime": {
     "end_time": "2022-02-06T16:22:46.668064Z",
     "start_time": "2022-02-06T16:22:46.510024Z"
    }
   },
   "outputs": [
    {
     "data": {
      "image/png": "[encoded data removed]",
      "text/plain": [
       "<Figure size 432x288 with 1 Axes>"
      ]
     },
     "metadata": {
      "needs_background": "light"
     },
     "output_type": "display_data"
    }
   ],
   "source": [
    "fpr, tpr, thresholds = roc_curve(target_valid, probabilities_one)\n",
    "sns.lineplot(fpr, tpr)\n",
    "sns.lineplot([0,1], [0,1], linestyle='dashed')\n",
    "plt.legend(labels=['Model', 'Constant'])\n",
    "plt.show()"
   ]
  },
  {
   "cell_type": "markdown",
   "metadata": {},
   "source": [
    "Изменение данного параметра ухудшило метрики нашей модели. Посмотрим на регрессию"
   ]
  },
  {
   "cell_type": "code",
   "execution_count": 27,
   "metadata": {
    "ExecuteTime": {
     "end_time": "2022-02-06T16:22:46.698982Z",
     "start_time": "2022-02-06T16:22:46.670059Z"
    }
   },
   "outputs": [
    {
     "name": "stdout",
     "output_type": "stream",
     "text": [
      "F1-score модели логистической регрессии: 0.5289982425307558\n",
      "AUC-ROC-score модели логистической регрессии: 0.7935757217459848\n"
     ]
    }
   ],
   "source": [
    "#Логистическая регрессия\n",
    "model_r = LogisticRegression(solver='liblinear',\n",
    "                            class_weight='balanced',\n",
    "                            random_state=12345)\n",
    "\n",
    "model_r.fit(features_train, target_train)\n",
    "\n",
    "prediction = model_r.predict(features_valid)\n",
    "probabilities = model_r.predict_proba(features_valid)\n",
    "probabilities_one = probabilities[:, 1]\n",
    "\n",
    "print(f'F1-score модели логистической регрессии: {f1_score(target_valid, prediction)}')\n",
    "print(f'AUC-ROC-score модели логистической регрессии: {roc_auc_score(target_valid, probabilities_one)}')"
   ]
  },
  {
   "cell_type": "code",
   "execution_count": 28,
   "metadata": {
    "ExecuteTime": {
     "end_time": "2022-02-06T16:22:52.480078Z",
     "start_time": "2022-02-06T16:22:46.700976Z"
    }
   },
   "outputs": [
    {
     "data": {
      "image/png": "[encoded data removed]",
      "text/plain": [
       "<Figure size 432x288 with 1 Axes>"
      ]
     },
     "metadata": {
      "needs_background": "light"
     },
     "output_type": "display_data"
    }
   ],
   "source": [
    "fpr, tpr, thresholds = roc_curve(target_valid, probabilities_one)\n",
    "sns.lineplot(fpr, tpr)\n",
    "sns.lineplot([0,1], [0,1], linestyle='dashed')\n",
    "plt.legend(labels=['Model', 'Constant'])\n",
    "plt.show()"
   ]
  },
  {
   "cell_type": "markdown",
   "metadata": {},
   "source": [
    "В случае регрессии данный параметр помог (больше, чем в 1,5 раза) увеличить метрику F1-score; площадь под кривой также увеличилась"
   ]
  },
  {
   "cell_type": "markdown",
   "metadata": {},
   "source": [
    "#### Результаты и выводы"
   ]
  },
  {
   "cell_type": "markdown",
   "metadata": {},
   "source": [
    "Параметр `class_weight` не стоит задавать для модели случайного леса, но он помогает логистической регрессии. В дальнейшем попробуем у нее задавать и не задавать этот параметр"
   ]
  },
  {
   "cell_type": "markdown",
   "metadata": {},
   "source": [
    "### Upsampling"
   ]
  },
  {
   "cell_type": "markdown",
   "metadata": {},
   "source": [
    "Попробуем увеличить размер выборки с положительным классом в 4 раза - чтобы соотношение целевых классов было 1:1"
   ]
  },
  {
   "cell_type": "code",
   "execution_count": 29,
   "metadata": {
    "ExecuteTime": {
     "end_time": "2022-02-06T16:22:52.495038Z",
     "start_time": "2022-02-06T16:22:52.481076Z"
    }
   },
   "outputs": [],
   "source": [
    "# Функция, принимающая выборки и увеличивающая их в repeat раз\n",
    "\n",
    "def upsample(features, target, repeat):\n",
    "    features_zeros = features[target == 0] \n",
    "    features_ones = features[target == 1]\n",
    "    target_zeros = target[target == 0]\n",
    "    target_ones = target[target == 1]\n",
    "    \n",
    "    features_upsampled = pd.concat([features_zeros] + [features_ones] * repeat)\n",
    "    target_upsampled = pd.concat([target_zeros] + [target_ones] * repeat)\n",
    "\n",
    "    features_upsampled, target_upsampled = shuffle(\n",
    "        features_upsampled, target_upsampled, random_state=12345)\n",
    "    \n",
    "    return features_upsampled, target_upsampled"
   ]
  },
  {
   "cell_type": "code",
   "execution_count": 30,
   "metadata": {
    "ExecuteTime": {
     "end_time": "2022-02-06T16:22:52.510000Z",
     "start_time": "2022-02-06T16:22:52.496037Z"
    }
   },
   "outputs": [
    {
     "data": {
      "text/plain": [
       "1    0.50569\n",
       "0    0.49431\n",
       "Name: exited, dtype: float64"
      ]
     },
     "execution_count": 30,
     "metadata": {},
     "output_type": "execute_result"
    }
   ],
   "source": [
    "# Создадим upsampled обучающую выборку\n",
    "features_train_upsampled, target_train_upsampled = upsample(features_train, target_train, 4) \n",
    "target_train_upsampled.value_counts(normalize=True)"
   ]
  },
  {
   "cell_type": "markdown",
   "metadata": {},
   "source": [
    "Обучим наши модели на новых выборках. В случае регрессии применим два варианта - с параметром `class_weight` и без"
   ]
  },
  {
   "cell_type": "code",
   "execution_count": 31,
   "metadata": {
    "ExecuteTime": {
     "end_time": "2022-02-06T16:22:52.637166Z",
     "start_time": "2022-02-06T16:22:52.511994Z"
    }
   },
   "outputs": [
    {
     "name": "stdout",
     "output_type": "stream",
     "text": [
      "F1-score модели случайного леса: 0.592797783933518\n",
      "AUC-ROC-score модели случайного леса: 0.8383546100601045\n"
     ]
    }
   ],
   "source": [
    "#Случайный лес\n",
    "model_f = RandomForestClassifier(n_estimators=10, \n",
    "                                 random_state=12345,\n",
    "                                )\n",
    "\n",
    "model_f.fit(features_train_upsampled, target_train_upsampled)\n",
    "\n",
    "prediction = model_f.predict(features_valid)\n",
    "probabilities = model_f.predict_proba(features_valid)\n",
    "probabilities_one = probabilities[:, 1]\n",
    "\n",
    "print(f'F1-score модели случайного леса: {f1_score(target_valid, prediction)}')\n",
    "print(f'AUC-ROC-score модели случайного леса: {roc_auc_score(target_valid, probabilities_one)}')"
   ]
  },
  {
   "cell_type": "code",
   "execution_count": 32,
   "metadata": {
    "ExecuteTime": {
     "end_time": "2022-02-06T16:22:52.856587Z",
     "start_time": "2022-02-06T16:22:52.639161Z"
    }
   },
   "outputs": [
    {
     "data": {
      "image/png": "[encoded data removed]",
      "text/plain": [
       "<Figure size 432x288 with 1 Axes>"
      ]
     },
     "metadata": {
      "needs_background": "light"
     },
     "output_type": "display_data"
    }
   ],
   "source": [
    "fpr, tpr, thresholds = roc_curve(target_valid, probabilities_one)\n",
    "sns.lineplot(fpr, tpr)\n",
    "sns.lineplot([0,1], [0,1], linestyle='dashed')\n",
    "plt.legend(labels=['Model', 'Constant'])\n",
    "plt.show()"
   ]
  },
  {
   "cell_type": "markdown",
   "metadata": {},
   "source": [
    "Увеличение выборки повысило метрики модели случайного леса. Посмотрим на модель регрессии"
   ]
  },
  {
   "cell_type": "code",
   "execution_count": 33,
   "metadata": {
    "ExecuteTime": {
     "end_time": "2022-02-06T16:22:52.904459Z",
     "start_time": "2022-02-06T16:22:52.859581Z"
    }
   },
   "outputs": [
    {
     "name": "stdout",
     "output_type": "stream",
     "text": [
      "F1-score модели логистической регрессии без параметра: 0.5251299826689775\n",
      "AUC-ROC-score модели логистической регрессии без параметра: 0.7936326854862548\n"
     ]
    }
   ],
   "source": [
    "# Логистическая регрессия\n",
    "model_r = LogisticRegression(solver='liblinear',\n",
    "                            random_state=12345)\n",
    "\n",
    "model_r.fit(features_train_upsampled, target_train_upsampled)\n",
    "\n",
    "prediction = model_r.predict(features_valid)\n",
    "probabilities = model_r.predict_proba(features_valid)\n",
    "probabilities_one = probabilities[:, 1]\n",
    "\n",
    "print(f'F1-score модели логистической регрессии без параметра: {f1_score(target_valid, prediction)}')\n",
    "print(f'AUC-ROC-score модели логистической регрессии без параметра: {roc_auc_score(target_valid, probabilities_one)}')"
   ]
  },
  {
   "cell_type": "code",
   "execution_count": 34,
   "metadata": {
    "ExecuteTime": {
     "end_time": "2022-02-06T16:22:58.747688Z",
     "start_time": "2022-02-06T16:22:52.905456Z"
    }
   },
   "outputs": [
    {
     "data": {
      "image/png": "[encoded data removed]",
      "text/plain": [
       "<Figure size 432x288 with 1 Axes>"
      ]
     },
     "metadata": {
      "needs_background": "light"
     },
     "output_type": "display_data"
    }
   ],
   "source": [
    "fpr, tpr, thresholds = roc_curve(target_valid, probabilities_one)\n",
    "sns.lineplot(fpr, tpr)\n",
    "sns.lineplot([0,1], [0,1], linestyle='dashed')\n",
    "plt.legend(labels=['Model', 'Constant'])\n",
    "plt.show()"
   ]
  },
  {
   "cell_type": "markdown",
   "metadata": {},
   "source": [
    "Без параметра на увеличенной выборке модель логистической регрессии показывает результаты хуже, чем с параметром без увеличения выборки. Попробуем задать параметр"
   ]
  },
  {
   "cell_type": "code",
   "execution_count": 35,
   "metadata": {
    "ExecuteTime": {
     "end_time": "2022-02-06T16:22:58.779603Z",
     "start_time": "2022-02-06T16:22:58.749684Z"
    }
   },
   "outputs": [
    {
     "name": "stdout",
     "output_type": "stream",
     "text": [
      "F1-score модели логистической регрессии с параметром: 0.5289982425307558\n",
      "AUC-ROC-score модели логистической регрессии с параметром: 0.793555707458863\n"
     ]
    }
   ],
   "source": [
    "#Логистическая регрессия\n",
    "model_r = LogisticRegression(solver='liblinear',\n",
    "                            class_weight='balanced',\n",
    "                            random_state=12345)\n",
    "\n",
    "model_r.fit(features_train_upsampled, target_train_upsampled)\n",
    "\n",
    "prediction = model_r.predict(features_valid)\n",
    "probabilities = model_r.predict_proba(features_valid)\n",
    "probabilities_one = probabilities[:, 1]\n",
    "\n",
    "print(f'F1-score модели логистической регрессии с параметром: {f1_score(target_valid, prediction)}')\n",
    "print(f'AUC-ROC-score модели логистической регрессии с параметром: {roc_auc_score(target_valid, probabilities_one)}')"
   ]
  },
  {
   "cell_type": "code",
   "execution_count": 36,
   "metadata": {
    "ExecuteTime": {
     "end_time": "2022-02-06T16:23:03.913730Z",
     "start_time": "2022-02-06T16:22:58.780601Z"
    }
   },
   "outputs": [
    {
     "data": {
      "image/png": "[encoded data removed]",
      "text/plain": [
       "<Figure size 432x288 with 1 Axes>"
      ]
     },
     "metadata": {
      "needs_background": "light"
     },
     "output_type": "display_data"
    }
   ],
   "source": [
    "fpr, tpr, thresholds = roc_curve(target_valid, probabilities_one)\n",
    "sns.lineplot(fpr, tpr)\n",
    "sns.lineplot([0,1], [0,1], linestyle='dashed')\n",
    "plt.legend(labels=['Model', 'Constant'])\n",
    "plt.show()"
   ]
  },
  {
   "cell_type": "markdown",
   "metadata": {},
   "source": [
    "На увеличенной выборке с параметром модель регрессии показывает себя немного хуже, чем на обычной выборке. Следовательно, для обучения модели регрессии не имеет смысла увеличивать выборку."
   ]
  },
  {
   "cell_type": "markdown",
   "metadata": {},
   "source": [
    "#### Результаты и выводы"
   ]
  },
  {
   "cell_type": "markdown",
   "metadata": {},
   "source": [
    "Модель случайного леса имеет более высокие метрики F1 и AUC-ROC, нежели модель логистической регрессии. Увеличенная выборка увеличила метрики модели леса, но модель регрессии показывает себя на ней хуже, чем на обычной выборке. Попробуем уменьшить выборку и сравнить результаты"
   ]
  },
  {
   "cell_type": "markdown",
   "metadata": {},
   "source": [
    "### Downsampling"
   ]
  },
  {
   "cell_type": "markdown",
   "metadata": {},
   "source": [
    "Уменьшим нашу обучающую выборку, чтобы соотношение целевого признака было 1:1. Как и в случае с увеличенной выборкой, для регрессии построим две модели - с параметром и без"
   ]
  },
  {
   "cell_type": "code",
   "execution_count": 37,
   "metadata": {
    "ExecuteTime": {
     "end_time": "2022-02-06T16:23:03.929688Z",
     "start_time": "2022-02-06T16:23:03.915726Z"
    }
   },
   "outputs": [],
   "source": [
    "# Функция принимает две выборки и долю, возвращает уменьшенные выборки\n",
    "\n",
    "def downsample(features, target, fraction):\n",
    "    features_zeros = features[target == 0]\n",
    "    features_ones = features[target == 1]\n",
    "    target_zeros = target[target == 0]\n",
    "    target_ones = target[target == 1]\n",
    "\n",
    "    features_downsampled = pd.concat(\n",
    "        [features_zeros.sample(frac=fraction, random_state=12345)] + [features_ones])\n",
    "    target_downsampled = pd.concat(\n",
    "        [target_zeros.sample(frac=fraction, random_state=12345)] + [target_ones])\n",
    "    \n",
    "    features_downsampled, target_downsampled = shuffle(\n",
    "        features_downsampled, target_downsampled, random_state=12345)\n",
    "    \n",
    "    return features_downsampled, target_downsampled"
   ]
  },
  {
   "cell_type": "code",
   "execution_count": 38,
   "metadata": {
    "ExecuteTime": {
     "end_time": "2022-02-06T16:23:03.945645Z",
     "start_time": "2022-02-06T16:23:03.930686Z"
    }
   },
   "outputs": [],
   "source": [
    "features_train_downsampled, target_train_downsampled = downsample(features_train, target_train, 0.25)"
   ]
  },
  {
   "cell_type": "code",
   "execution_count": 39,
   "metadata": {
    "ExecuteTime": {
     "end_time": "2022-02-06T16:23:03.961602Z",
     "start_time": "2022-02-06T16:23:03.946642Z"
    }
   },
   "outputs": [
    {
     "data": {
      "text/plain": [
       "1    0.505795\n",
       "0    0.494205\n",
       "Name: exited, dtype: float64"
      ]
     },
     "execution_count": 39,
     "metadata": {},
     "output_type": "execute_result"
    }
   ],
   "source": [
    "target_train_downsampled.value_counts(normalize=True)"
   ]
  },
  {
   "cell_type": "markdown",
   "metadata": {},
   "source": [
    "Обучим модели, сравним метрики"
   ]
  },
  {
   "cell_type": "code",
   "execution_count": 40,
   "metadata": {
    "ExecuteTime": {
     "end_time": "2022-02-06T16:23:04.023686Z",
     "start_time": "2022-02-06T16:23:03.963597Z"
    }
   },
   "outputs": [
    {
     "name": "stdout",
     "output_type": "stream",
     "text": [
      "F1-score модели случайного леса: 0.5776458951533135\n",
      "AUC-ROC-score модели случайного леса: 0.8292242462311556\n"
     ]
    }
   ],
   "source": [
    "#Случайный лес\n",
    "model_f = RandomForestClassifier(n_estimators=10, \n",
    "                                 random_state=12345,\n",
    "                                )\n",
    "\n",
    "model_f.fit(features_train_downsampled, target_train_downsampled)\n",
    "\n",
    "prediction = model_f.predict(features_valid)\n",
    "probabilities = model_f.predict_proba(features_valid)\n",
    "probabilities_one = probabilities[:, 1]\n",
    "\n",
    "print(f'F1-score модели случайного леса: {f1_score(target_valid, prediction)}')\n",
    "print(f'AUC-ROC-score модели случайного леса: {roc_auc_score(target_valid, probabilities_one)}')"
   ]
  },
  {
   "cell_type": "code",
   "execution_count": 41,
   "metadata": {
    "ExecuteTime": {
     "end_time": "2022-02-06T16:23:04.166577Z",
     "start_time": "2022-02-06T16:23:04.024650Z"
    }
   },
   "outputs": [
    {
     "data": {
      "image/png": "[encoded data removed]",
      "text/plain": [
       "<Figure size 432x288 with 1 Axes>"
      ]
     },
     "metadata": {
      "needs_background": "light"
     },
     "output_type": "display_data"
    }
   ],
   "source": [
    "fpr, tpr, thresholds = roc_curve(target_valid, probabilities_one)\n",
    "sns.lineplot(fpr, tpr)\n",
    "sns.lineplot([0,1], [0,1], linestyle='dashed')\n",
    "plt.legend(labels=['Model', 'Constant'])\n",
    "plt.show()"
   ]
  },
  {
   "cell_type": "markdown",
   "metadata": {},
   "source": [
    "Модель случайного леса на уменьшенной выборке показала себя хуже, чем на выборке без изменений. Очевидно, такой способ не подходит для нее. Проверим регрессию"
   ]
  },
  {
   "cell_type": "code",
   "execution_count": 42,
   "metadata": {
    "ExecuteTime": {
     "end_time": "2022-02-06T16:23:04.197496Z",
     "start_time": "2022-02-06T16:23:04.168579Z"
    }
   },
   "outputs": [
    {
     "name": "stdout",
     "output_type": "stream",
     "text": [
      "F1-score модели логистической регрессии без параметра: 0.5283993115318416\n",
      "AUC-ROC-score модели логистической регрессии без параметра: 0.7926581436594738\n"
     ]
    }
   ],
   "source": [
    "# Логистическая регрессия\n",
    "model_r = LogisticRegression(solver='liblinear',\n",
    "                            random_state=12345)\n",
    "\n",
    "model_r.fit(features_train_downsampled, target_train_downsampled)\n",
    "\n",
    "prediction = model_r.predict(features_valid)\n",
    "probabilities = model_r.predict_proba(features_valid)\n",
    "probabilities_one = probabilities[:, 1]\n",
    "\n",
    "print(f'F1-score модели логистической регрессии без параметра: {f1_score(target_valid, prediction)}')\n",
    "print(f'AUC-ROC-score модели логистической регрессии без параметра: {roc_auc_score(target_valid, probabilities_one)}')"
   ]
  },
  {
   "cell_type": "code",
   "execution_count": 43,
   "metadata": {
    "ExecuteTime": {
     "end_time": "2022-02-06T16:23:09.240126Z",
     "start_time": "2022-02-06T16:23:04.198494Z"
    }
   },
   "outputs": [
    {
     "data": {
      "image/png": "[encoded data removed]",
      "text/plain": [
       "<Figure size 432x288 with 1 Axes>"
      ]
     },
     "metadata": {
      "needs_background": "light"
     },
     "output_type": "display_data"
    }
   ],
   "source": [
    "fpr, tpr, thresholds = roc_curve(target_valid, probabilities_one)\n",
    "sns.lineplot(fpr, tpr)\n",
    "sns.lineplot([0,1], [0,1], linestyle='dashed')\n",
    "plt.legend(labels=['Model', 'Constant'])\n",
    "plt.show()"
   ]
  },
  {
   "cell_type": "markdown",
   "metadata": {},
   "source": [
    "Увы, но уменьшение выборки так же не помогло модели регрессии. Проверим, что будет с метриками, если мы зададим параметр"
   ]
  },
  {
   "cell_type": "code",
   "execution_count": 44,
   "metadata": {
    "ExecuteTime": {
     "end_time": "2022-02-06T16:23:09.286968Z",
     "start_time": "2022-02-06T16:23:09.241092Z"
    }
   },
   "outputs": [
    {
     "name": "stdout",
     "output_type": "stream",
     "text": [
      "F1-score модели логистической регрессии с параметром: 0.5289982425307558\n",
      "AUC-ROC-score модели логистической регрессии с параметром: 0.793555707458863\n"
     ]
    }
   ],
   "source": [
    "#Логистическая регрессия\n",
    "model_r = LogisticRegression(solver='liblinear',\n",
    "                            class_weight='balanced',\n",
    "                            random_state=12345)\n",
    "\n",
    "model_r.fit(features_train_upsampled, target_train_upsampled)\n",
    "\n",
    "prediction = model_r.predict(features_valid)\n",
    "probabilities = model_r.predict_proba(features_valid)\n",
    "probabilities_one = probabilities[:, 1]\n",
    "\n",
    "print(f'F1-score модели логистической регрессии с параметром: {f1_score(target_valid, prediction)}')\n",
    "print(f'AUC-ROC-score модели логистической регрессии с параметром: {roc_auc_score(target_valid, probabilities_one)}')"
   ]
  },
  {
   "cell_type": "code",
   "execution_count": 45,
   "metadata": {
    "ExecuteTime": {
     "end_time": "2022-02-06T16:23:14.403035Z",
     "start_time": "2022-02-06T16:23:09.287966Z"
    }
   },
   "outputs": [
    {
     "data": {
      "image/png": "[encoded data removed]",
      "text/plain": [
       "<Figure size 432x288 with 1 Axes>"
      ]
     },
     "metadata": {
      "needs_background": "light"
     },
     "output_type": "display_data"
    }
   ],
   "source": [
    "fpr, tpr, thresholds = roc_curve(target_valid, probabilities_one)\n",
    "sns.lineplot(fpr, tpr)\n",
    "sns.lineplot([0,1], [0,1], linestyle='dashed')\n",
    "plt.legend(labels=['Model', 'Constant'])\n",
    "plt.show()"
   ]
  },
  {
   "cell_type": "markdown",
   "metadata": {},
   "source": [
    "Метрики немного увеличились, но все еще далеко от порогового значения"
   ]
  },
  {
   "cell_type": "markdown",
   "metadata": {},
   "source": [
    "#### Результаты и выводы"
   ]
  },
  {
   "cell_type": "markdown",
   "metadata": {},
   "source": [
    "Было проведено уменьшение выборки для достижения баланса классов. К сожалению, это не привело к улучшению метрик моделей - F1-score и AUC-ROC у регрессии и случайного леса практически не изменился.\n",
    "Опираясь на показатели метрик, только модель случайного леса обладает достаточным показателем F1-score. Подберем для нее лучшие гиперпараметры и обучим на увеличенных тренировочной + валидационных выборках перед тестированием"
   ]
  },
  {
   "cell_type": "markdown",
   "metadata": {},
   "source": [
    "### Подбор гиперпараметров модели и ее обучение"
   ]
  },
  {
   "cell_type": "code",
   "execution_count": 46,
   "metadata": {
    "ExecuteTime": {
     "end_time": "2022-02-06T16:24:54.123749Z",
     "start_time": "2022-02-06T16:23:14.405007Z"
    }
   },
   "outputs": [
    {
     "name": "stderr",
     "output_type": "stream",
     "text": [
      "100%|██████████████████████████████████████████████████████████████████████████████████| 15/15 [01:39<00:00,  6.65s/it]"
     ]
    },
    {
     "name": "stdout",
     "output_type": "stream",
     "text": [
      "Лучший F1-score:0.6570155902004454, \n",
      "          Глубина: 10,\n",
      "          Количество оценщиков: 80\n"
     ]
    },
    {
     "name": "stderr",
     "output_type": "stream",
     "text": [
      "\n"
     ]
    }
   ],
   "source": [
    "model_f = None\n",
    "best_estimators = 0\n",
    "best_depth = 0\n",
    "best_score = 0\n",
    "\n",
    "for depth in tqdm(range(1,16,1)):\n",
    "    for estimators in range(10,150,10):\n",
    "        model = RandomForestClassifier(random_state=12345,\n",
    "                                     max_depth=depth,\n",
    "                                     n_estimators=estimators)\n",
    "        model.fit(features_train_upsampled, target_train_upsampled)\n",
    "        prediction = model.predict(features_valid)\n",
    "        score = f1_score(target_valid, prediction)\n",
    "        \n",
    "        if score > best_score:\n",
    "            model_f = model\n",
    "            best_estimators = estimators\n",
    "            best_depth = depth\n",
    "            best_score = score\n",
    "\n",
    "print(f'''Лучший F1-score:{best_score}, \n",
    "          Глубина: {best_depth},\n",
    "          Количество оценщиков: {best_estimators}'''\n",
    "     )"
   ]
  },
  {
   "cell_type": "markdown",
   "metadata": {},
   "source": [
    "Объединим выборки train и valid, чтобы не терять данные, после используя RandomizedSearchCv подберем гиперпараметры модели"
   ]
  },
  {
   "cell_type": "code",
   "execution_count": 47,
   "metadata": {
    "ExecuteTime": {
     "end_time": "2022-02-06T16:24:54.138708Z",
     "start_time": "2022-02-06T16:24:54.125743Z"
    }
   },
   "outputs": [],
   "source": [
    "features_train = pd.concat([features_train_upsampled, features_valid])\n",
    "target_train = pd.concat([target_train_upsampled, target_valid])\n",
    "features_train, target_train = shuffle(features_train, target_train, random_state=12345)"
   ]
  },
  {
   "cell_type": "code",
   "execution_count": 48,
   "metadata": {
    "ExecuteTime": {
     "end_time": "2022-02-06T16:24:55.145568Z",
     "start_time": "2022-02-06T16:24:54.141701Z"
    }
   },
   "outputs": [
    {
     "name": "stdout",
     "output_type": "stream",
     "text": [
      "Финальное значение метрик:\n",
      "        F1-score: 0.7897310513447432,\n",
      "        AUC-ROC-score: 0.9593186520839492\n",
      "        \n"
     ]
    }
   ],
   "source": [
    "model_f = RandomForestClassifier(random_state=12345,\n",
    "                               max_depth=11,\n",
    "                               n_estimators=90)\n",
    "model_f.fit(features_train, target_train)\n",
    "prediction_f = model_f.predict(features_valid)\n",
    "\n",
    "probabilities_f = model_f.predict_proba(features_valid)\n",
    "probabilities_one_f = probabilities_f[:, 1]\n",
    "\n",
    "fpr, tpr, thresholds = roc_curve(target_valid, probabilities_one_f)\n",
    "\n",
    "print(f'''Финальное значение метрик:\n",
    "        F1-score: {f1_score(target_valid, prediction_f)},\n",
    "        AUC-ROC-score: {roc_auc_score(target_valid, probabilities_one_f)}\n",
    "        ''')"
   ]
  },
  {
   "cell_type": "markdown",
   "metadata": {},
   "source": [
    "Лучшие значения метрик мы получили на `max_depth = 10` и `n_estimators = 140`. Модель готова к тестированию."
   ]
  },
  {
   "cell_type": "markdown",
   "metadata": {},
   "source": [
    "### Выводы"
   ]
  },
  {
   "cell_type": "markdown",
   "metadata": {},
   "source": [
    "В этой части работы было проведено исследование возможности устранения дисбаланса классов в датасете.  \n",
    "Были использованы следующие методы: взвешивание классов, увеличение выборки, уменьшение выборки.  \n",
    "По результатам работы была отобрана модель случайного леса, которая имела лучшие показатели метрик F1 и AUC-ROC.  \n",
    "Были подобраны оптимальные гиперпараметры данной модели.  "
   ]
  },
  {
   "cell_type": "markdown",
   "metadata": {},
   "source": [
    "## Тестирование модели"
   ]
  },
  {
   "cell_type": "markdown",
   "metadata": {},
   "source": [
    "Все готово к тестированию модели. Возьмем нашу модель и предскажем целевой признак для тестовой выборки, сравним метрики, построим график."
   ]
  },
  {
   "cell_type": "code",
   "execution_count": 49,
   "metadata": {
    "ExecuteTime": {
     "end_time": "2022-02-06T16:24:55.241296Z",
     "start_time": "2022-02-06T16:24:55.150540Z"
    }
   },
   "outputs": [
    {
     "name": "stdout",
     "output_type": "stream",
     "text": [
      "F1-score: 0.6077481840193705, AUC-ROC-score: 0.8541114303826169\n"
     ]
    }
   ],
   "source": [
    "prediction_test = model_f.predict(features_test)\n",
    "\n",
    "probabilities_test = model_f.predict_proba(features_test)\n",
    "probabilities_one_test = probabilities_test[:, 1]\n",
    "    \n",
    "f1 = f1_score(target_test, prediction_test)\n",
    "roc_auc = roc_auc_score(target_test, probabilities_one_test)\n",
    "    \n",
    "print(f'F1-score: {f1}, AUC-ROC-score: {roc_auc}')"
   ]
  },
  {
   "cell_type": "code",
   "execution_count": 50,
   "metadata": {
    "ExecuteTime": {
     "end_time": "2022-02-06T16:24:55.256425Z",
     "start_time": "2022-02-06T16:24:55.243292Z"
    }
   },
   "outputs": [],
   "source": [
    "fpr_test, tpr_test, thresholds_test = roc_curve(target_test, probabilities_one_test)"
   ]
  },
  {
   "cell_type": "code",
   "execution_count": 51,
   "metadata": {
    "ExecuteTime": {
     "end_time": "2022-02-06T16:25:02.309033Z",
     "start_time": "2022-02-06T16:24:55.258420Z"
    }
   },
   "outputs": [
    {
     "data": {
      "image/png": "[encoded data removed]",
      "text/plain": [
       "<Figure size 432x288 with 1 Axes>"
      ]
     },
     "metadata": {
      "needs_background": "light"
     },
     "output_type": "display_data"
    }
   ],
   "source": [
    "roc_train = sns.lineplot(fpr, tpr)\n",
    "roc_test = sns.lineplot(fpr_test, tpr_test)\n",
    "dummy_roc = sns.lineplot([0,1], [0,1], linestyle='dashed')\n",
    "roc_train.plot()\n",
    "roc_test.plot()\n",
    "dummy_roc.plot()\n",
    "plt.legend(labels = ['Train', 'Test', 'Constant'])\n",
    "plt.show()"
   ]
  },
  {
   "cell_type": "markdown",
   "metadata": {},
   "source": [
    "Налицо большая разница между значениями метрик на обучающей и тестовых выборках. Очевидно, что модель была переучена. Несмотря на этот факт, мы смогли достигнуть установленного порога F1-score в 0.59"
   ]
  },
  {
   "cell_type": "markdown",
   "metadata": {},
   "source": [
    "**Результаты по качеству моделей (округление до тысячных):**"
   ]
  },
  {
   "cell_type": "markdown",
   "metadata": {},
   "source": [
    "Дисбаланс классов:"
   ]
  },
  {
   "cell_type": "markdown",
   "metadata": {},
   "source": [
    "|             |   Решающее дерево|     Случайный лес|         Регрессия|\n",
    "|-------------|------------------|------------------|------------------| \n",
    "|  F1-score   |             0.513|             0.584|             0.308|\n",
    "|AUC-ROC-score|             0.696|            0.832 |             0.787|"
   ]
  },
  {
   "cell_type": "markdown",
   "metadata": {},
   "source": [
    "Взвешивание классов:"
   ]
  },
  {
   "cell_type": "markdown",
   "metadata": {},
   "source": [
    "|             |     Случайный лес|         Регрессия|\n",
    "|-------------|------------------|------------------| \n",
    "|  F1-score   |             0.553|            0.5299|\n",
    "|AUC-ROC-score|             0.824|             0.794|"
   ]
  },
  {
   "cell_type": "markdown",
   "metadata": {},
   "source": [
    "Upsampling:"
   ]
  },
  {
   "cell_type": "markdown",
   "metadata": {},
   "source": [
    "|             |Случайный лес|Регрессия (c взвешиванием)|Регрессия (без взвешивания)|\n",
    "|-------------|-------------|--------------------------|---------------------------| \n",
    "|  F1-score   |        0.608|                    0.5299|                      0.524|\n",
    "|AUC-ROC-score|        0.834|                     0.794|                      0.794|"
   ]
  },
  {
   "cell_type": "markdown",
   "metadata": {},
   "source": [
    "Downsampling:"
   ]
  },
  {
   "cell_type": "markdown",
   "metadata": {},
   "source": [
    "|             |Случайный лес|Регрессия (c взвешиванием)|Регрессия (без взвешивания)|\n",
    "|-------------|-------------|--------------------------|---------------------------| \n",
    "|  F1-score   |        0.596|                    0.5299|                      0.528|\n",
    "|AUC-ROC-score|        0.834|                     0.794|                      0.793|"
   ]
  },
  {
   "cell_type": "markdown",
   "metadata": {},
   "source": [
    "## Результаты и выводы"
   ]
  },
  {
   "cell_type": "code",
   "execution_count": 52,
   "metadata": {
    "ExecuteTime": {
     "end_time": "2022-02-06T16:25:02.339178Z",
     "start_time": "2022-02-06T16:25:02.312027Z"
    }
   },
   "outputs": [
    {
     "name": "stdout",
     "output_type": "stream",
     "text": [
      "Feature: 0, Score: 0.08997\n",
      "Feature: 1, Score: 0.30315\n",
      "Feature: 2, Score: 0.04952\n",
      "Feature: 3, Score: 0.12981\n",
      "Feature: 4, Score: 0.19116\n",
      "Feature: 5, Score: 0.01192\n",
      "Feature: 6, Score: 0.05808\n",
      "Feature: 7, Score: 0.09002\n",
      "Feature: 8, Score: 0.04456\n",
      "Feature: 9, Score: 0.01157\n",
      "Feature: 10, Score: 0.02024\n"
     ]
    }
   ],
   "source": [
    "importance = model_f.feature_importances_\n",
    "for i,v in enumerate(importance):\n",
    "    print(f'Feature: {i}, Score: {v:.5f}')"
   ]
  },
  {
   "cell_type": "code",
   "execution_count": 53,
   "metadata": {
    "ExecuteTime": {
     "end_time": "2022-02-06T16:25:02.371092Z",
     "start_time": "2022-02-06T16:25:02.341173Z"
    }
   },
   "outputs": [
    {
     "data": {
      "text/html": [
       "<div>\n",
       "<style scoped>\n",
       "    .dataframe tbody tr th:only-of-type {\n",
       "        vertical-align: middle;\n",
       "    }\n",
       "\n",
       "    .dataframe tbody tr th {\n",
       "        vertical-align: top;\n",
       "    }\n",
       "\n",
       "    .dataframe thead th {\n",
       "        text-align: right;\n",
       "    }\n",
       "</style>\n",
       "<table border=\"1\" class=\"dataframe\">\n",
       "  <thead>\n",
       "    <tr style=\"text-align: right;\">\n",
       "      <th></th>\n",
       "      <th>creditscore</th>\n",
       "      <th>age</th>\n",
       "      <th>tenure</th>\n",
       "      <th>balance</th>\n",
       "      <th>numofproducts</th>\n",
       "      <th>hascrcard</th>\n",
       "      <th>isactivemember</th>\n",
       "      <th>estimatedsalary</th>\n",
       "      <th>geography_Germany</th>\n",
       "      <th>geography_Spain</th>\n",
       "      <th>gender_Male</th>\n",
       "    </tr>\n",
       "  </thead>\n",
       "  <tbody>\n",
       "    <tr>\n",
       "      <th>0</th>\n",
       "      <td>0.089968</td>\n",
       "      <td>0.303147</td>\n",
       "      <td>0.049517</td>\n",
       "      <td>0.129813</td>\n",
       "      <td>0.191165</td>\n",
       "      <td>0.011917</td>\n",
       "      <td>0.058082</td>\n",
       "      <td>0.090023</td>\n",
       "      <td>0.044561</td>\n",
       "      <td>0.011571</td>\n",
       "      <td>0.020238</td>\n",
       "    </tr>\n",
       "  </tbody>\n",
       "</table>\n",
       "</div>"
      ],
      "text/plain": [
       "   creditscore       age    tenure   balance  numofproducts  hascrcard  \\\n",
       "0     0.089968  0.303147  0.049517  0.129813       0.191165   0.011917   \n",
       "\n",
       "   isactivemember  estimatedsalary  geography_Germany  geography_Spain  \\\n",
       "0        0.058082         0.090023           0.044561         0.011571   \n",
       "\n",
       "   gender_Male  \n",
       "0     0.020238  "
      ]
     },
     "execution_count": 53,
     "metadata": {},
     "output_type": "execute_result"
    }
   ],
   "source": [
    "feature_importance = dict(zip(features_train.columns, importance))\n",
    "feature_importance = pd.DataFrame(data=feature_importance, index=[0])\n",
    "feature_importance"
   ]
  },
  {
   "cell_type": "code",
   "execution_count": 54,
   "metadata": {
    "ExecuteTime": {
     "end_time": "2022-02-06T16:25:02.560587Z",
     "start_time": "2022-02-06T16:25:02.373088Z"
    },
    "scrolled": true
   },
   "outputs": [
    {
     "data": {
      "image/png": "[encoded data removed]",
      "text/plain": [
       "<Figure size 720x360 with 1 Axes>"
      ]
     },
     "metadata": {
      "needs_background": "light"
     },
     "output_type": "display_data"
    }
   ],
   "source": [
    "plt.figure(figsize=(10,5))\n",
    "sns.barplot(data=feature_importance.sort_values(by=0, axis=1, ascending=False), orient='h')\n",
    "plt.title('Вес признаков')\n",
    "plt.show()"
   ]
  },
  {
   "cell_type": "markdown",
   "metadata": {},
   "source": [
    "Исходя из веса признаков для выбранной модели, самыми важными признаками для предсказания модели были возраст клиента, баланс на счете и количество продуктов банка, используемых клиентом.  \n",
    "При этом малое значение имели такие признаки, как наличие кредитной карты, пол или место проживания клиента.  "
   ]
  },
  {
   "cell_type": "markdown",
   "metadata": {},
   "source": [
    "В ходе выполнения работы были проведены следующие мероприятия:  \n",
    "1) Данные были подготовлены для обучения, заполнены пропуски, удалены некоторые признаки  \n",
    "2) Три модели были обучены на неподготовленных данных, две из них были выбраны для обучения на обработанных данных  \n",
    "3) Проверено три способа борьбы с дисбалансом классов в выборках - в результате, был выбран один из них (upsampling) и одна модель (random forest)  \n",
    "4) Для выбранной модели были подобраны оптимальные гиперпараметры, показывающие высокие показатели метрик  \n",
    "5) Модель была дообучена и проверена на тестовой выборке  \n",
    "По результатам проверки была подготовлена, протестирована и проверена на адекватность модель, которая превышает заданное пороговое значение метрики F1-score"
   ]
  }
 ],
 "metadata": {
  "ExecuteTimeLog": [
   {
    "duration": 1554,
    "start_time": "2021-11-24T11:55:23.531Z"
   },
   {
    "duration": 44,
    "start_time": "2021-11-24T11:55:26.962Z"
   },
   {
    "duration": 42,
    "start_time": "2021-11-24T11:55:28.347Z"
   },
   {
    "duration": 23,
    "start_time": "2021-11-24T11:55:38.905Z"
   },
   {
    "duration": 36,
    "start_time": "2021-11-24T11:55:52.220Z"
   },
   {
    "duration": 19,
    "start_time": "2021-11-24T11:55:53.633Z"
   },
   {
    "duration": 5,
    "start_time": "2021-11-24T11:57:21.768Z"
   },
   {
    "duration": 13,
    "start_time": "2021-11-24T11:57:28.136Z"
   },
   {
    "duration": 13,
    "start_time": "2021-11-24T11:57:58.457Z"
   },
   {
    "duration": 61,
    "start_time": "2021-11-24T11:58:05.237Z"
   },
   {
    "duration": 14,
    "start_time": "2021-11-24T12:17:13.552Z"
   },
   {
    "duration": 621,
    "start_time": "2021-11-24T12:21:57.896Z"
   },
   {
    "duration": 690,
    "start_time": "2021-11-24T12:22:09.126Z"
   },
   {
    "duration": 1005,
    "start_time": "2021-11-24T12:22:18.651Z"
   },
   {
    "duration": 414,
    "start_time": "2021-11-24T12:22:37.015Z"
   },
   {
    "duration": 41,
    "start_time": "2021-11-24T12:22:45.555Z"
   },
   {
    "duration": 18,
    "start_time": "2021-11-24T12:22:47.485Z"
   },
   {
    "duration": 12,
    "start_time": "2021-11-24T12:22:49.573Z"
   },
   {
    "duration": 6,
    "start_time": "2021-11-24T12:22:51.504Z"
   },
   {
    "duration": 6,
    "start_time": "2021-11-24T12:23:00.414Z"
   },
   {
    "duration": 33,
    "start_time": "2021-11-24T12:23:06.148Z"
   },
   {
    "duration": 19,
    "start_time": "2021-11-24T12:23:26.958Z"
   },
   {
    "duration": 6,
    "start_time": "2021-11-24T12:24:34.016Z"
   },
   {
    "duration": 402,
    "start_time": "2021-11-24T12:24:40.048Z"
   },
   {
    "duration": 8,
    "start_time": "2021-11-24T12:24:51.864Z"
   },
   {
    "duration": 69,
    "start_time": "2021-11-24T12:24:51.876Z"
   },
   {
    "duration": 25,
    "start_time": "2021-11-24T12:24:51.950Z"
   },
   {
    "duration": 49,
    "start_time": "2021-11-24T12:24:51.978Z"
   },
   {
    "duration": 28,
    "start_time": "2021-11-24T12:24:52.030Z"
   },
   {
    "duration": 39,
    "start_time": "2021-11-24T12:24:52.062Z"
   },
   {
    "duration": 17,
    "start_time": "2021-11-24T12:31:27.412Z"
   },
   {
    "duration": 9,
    "start_time": "2021-11-24T12:36:22.041Z"
   },
   {
    "duration": 5,
    "start_time": "2021-11-24T12:36:30.011Z"
   },
   {
    "duration": 8,
    "start_time": "2021-11-24T12:36:39.812Z"
   },
   {
    "duration": 377,
    "start_time": "2021-11-24T12:36:52.433Z"
   },
   {
    "duration": 5993,
    "start_time": "2021-11-24T12:36:56.383Z"
   },
   {
    "duration": 10,
    "start_time": "2021-11-24T12:37:07.237Z"
   },
   {
    "duration": 7,
    "start_time": "2021-11-24T12:37:10.607Z"
   },
   {
    "duration": 2105,
    "start_time": "2021-11-24T12:38:26.817Z"
   },
   {
    "duration": 383,
    "start_time": "2021-11-24T12:39:02.924Z"
   },
   {
    "duration": 386,
    "start_time": "2021-11-24T12:39:16.932Z"
   },
   {
    "duration": 7167,
    "start_time": "2021-11-24T12:41:14.086Z"
   },
   {
    "duration": 7143,
    "start_time": "2021-11-24T12:41:24.600Z"
   },
   {
    "duration": 136,
    "start_time": "2021-11-24T12:41:36.565Z"
   },
   {
    "duration": 391,
    "start_time": "2021-11-24T12:41:40.553Z"
   },
   {
    "duration": 390,
    "start_time": "2021-11-24T12:41:56.940Z"
   },
   {
    "duration": 4068,
    "start_time": "2021-11-24T12:42:09.114Z"
   },
   {
    "duration": 1977,
    "start_time": "2021-11-24T12:42:28.986Z"
   },
   {
    "duration": 379,
    "start_time": "2021-11-24T12:42:46.555Z"
   },
   {
    "duration": 387,
    "start_time": "2021-11-24T12:42:56.701Z"
   },
   {
    "duration": 2015,
    "start_time": "2021-11-24T12:43:25.066Z"
   },
   {
    "duration": 5,
    "start_time": "2021-11-24T12:43:47.050Z"
   },
   {
    "duration": 15,
    "start_time": "2021-11-24T12:47:05.783Z"
   },
   {
    "duration": 11,
    "start_time": "2021-11-24T12:48:08.683Z"
   },
   {
    "duration": 11,
    "start_time": "2021-11-24T12:51:43.788Z"
   },
   {
    "duration": 11,
    "start_time": "2021-11-24T12:51:53.588Z"
   },
   {
    "duration": 7,
    "start_time": "2021-11-24T12:59:53.386Z"
   },
   {
    "duration": 7,
    "start_time": "2021-11-24T13:01:11.711Z"
   },
   {
    "duration": 7,
    "start_time": "2021-11-24T13:02:15.618Z"
   },
   {
    "duration": 38,
    "start_time": "2021-11-24T13:11:19.178Z"
   },
   {
    "duration": 8,
    "start_time": "2021-11-24T13:11:38.236Z"
   },
   {
    "duration": 46,
    "start_time": "2021-11-24T13:11:38.247Z"
   },
   {
    "duration": 18,
    "start_time": "2021-11-24T13:11:38.296Z"
   },
   {
    "duration": 21,
    "start_time": "2021-11-24T13:11:38.318Z"
   },
   {
    "duration": 44,
    "start_time": "2021-11-24T13:11:38.342Z"
   },
   {
    "duration": 28,
    "start_time": "2021-11-24T13:11:38.389Z"
   },
   {
    "duration": 10,
    "start_time": "2021-11-24T13:11:38.420Z"
   },
   {
    "duration": 33,
    "start_time": "2021-11-24T13:11:38.433Z"
   },
   {
    "duration": 54,
    "start_time": "2021-11-24T13:11:38.468Z"
   },
   {
    "duration": 37,
    "start_time": "2021-11-24T13:13:18.895Z"
   },
   {
    "duration": 506,
    "start_time": "2021-11-24T13:17:08.621Z"
   },
   {
    "duration": 48,
    "start_time": "2021-11-24T13:17:16.534Z"
   },
   {
    "duration": 445,
    "start_time": "2021-11-24T13:17:17.608Z"
   },
   {
    "duration": 9,
    "start_time": "2021-11-24T13:17:48.094Z"
   },
   {
    "duration": 47,
    "start_time": "2021-11-24T13:17:48.106Z"
   },
   {
    "duration": 30,
    "start_time": "2021-11-24T13:17:48.156Z"
   },
   {
    "duration": 13,
    "start_time": "2021-11-24T13:17:48.193Z"
   },
   {
    "duration": 55,
    "start_time": "2021-11-24T13:17:48.209Z"
   },
   {
    "duration": 29,
    "start_time": "2021-11-24T13:17:48.266Z"
   },
   {
    "duration": 15,
    "start_time": "2021-11-24T13:17:48.298Z"
   },
   {
    "duration": 8,
    "start_time": "2021-11-24T13:17:48.316Z"
   },
   {
    "duration": 81,
    "start_time": "2021-11-24T13:17:48.327Z"
   },
   {
    "duration": 4,
    "start_time": "2021-11-24T13:17:48.410Z"
   },
   {
    "duration": 35,
    "start_time": "2021-11-24T13:17:48.416Z"
   },
   {
    "duration": 714,
    "start_time": "2021-11-24T13:18:35.715Z"
   },
   {
    "duration": 396,
    "start_time": "2021-11-24T13:21:53.679Z"
   },
   {
    "duration": 1767,
    "start_time": "2021-11-24T13:21:57.580Z"
   },
   {
    "duration": 2338,
    "start_time": "2021-11-24T13:22:05.899Z"
   },
   {
    "duration": 1977,
    "start_time": "2021-11-24T13:22:17.482Z"
   },
   {
    "duration": 2137,
    "start_time": "2021-11-24T13:22:33.216Z"
   },
   {
    "duration": 2659,
    "start_time": "2021-11-24T13:22:38.128Z"
   },
   {
    "duration": 136,
    "start_time": "2021-11-24T13:22:51.687Z"
   },
   {
    "duration": 2049,
    "start_time": "2021-11-24T13:22:53.759Z"
   },
   {
    "duration": 15,
    "start_time": "2021-11-24T13:38:25.831Z"
   },
   {
    "duration": 8,
    "start_time": "2021-11-24T13:39:36.093Z"
   },
   {
    "duration": 6,
    "start_time": "2021-11-24T13:40:49.345Z"
   },
   {
    "duration": 126,
    "start_time": "2021-11-24T13:43:01.880Z"
   },
   {
    "duration": 13,
    "start_time": "2021-11-24T13:43:06.408Z"
   },
   {
    "duration": 6,
    "start_time": "2021-11-24T13:43:34.010Z"
   },
   {
    "duration": 404,
    "start_time": "2021-11-24T13:45:05.927Z"
   },
   {
    "duration": 388,
    "start_time": "2021-11-24T13:45:19.763Z"
   },
   {
    "duration": 18,
    "start_time": "2021-11-24T13:45:43.727Z"
   },
   {
    "duration": 6,
    "start_time": "2021-11-24T13:45:45.128Z"
   },
   {
    "duration": 411,
    "start_time": "2021-11-24T13:45:47.586Z"
   },
   {
    "duration": 10,
    "start_time": "2021-11-24T13:46:02.395Z"
   },
   {
    "duration": 8,
    "start_time": "2021-11-24T13:46:18.029Z"
   },
   {
    "duration": 10,
    "start_time": "2021-11-24T13:51:02.448Z"
   },
   {
    "duration": 64,
    "start_time": "2021-11-24T14:09:57.471Z"
   },
   {
    "duration": 5,
    "start_time": "2021-11-24T14:10:09.861Z"
   },
   {
    "duration": 5,
    "start_time": "2021-11-24T14:11:51.619Z"
   },
   {
    "duration": 766,
    "start_time": "2021-11-24T14:19:04.277Z"
   },
   {
    "duration": 47,
    "start_time": "2021-11-24T14:19:12.789Z"
   },
   {
    "duration": 4,
    "start_time": "2021-11-24T14:25:34.513Z"
   },
   {
    "duration": 9,
    "start_time": "2021-11-24T14:27:19.440Z"
   },
   {
    "duration": 17,
    "start_time": "2021-11-24T14:30:04.167Z"
   },
   {
    "duration": 16,
    "start_time": "2021-11-24T14:30:16.408Z"
   },
   {
    "duration": 520,
    "start_time": "2021-11-24T14:32:30.639Z"
   },
   {
    "duration": 12,
    "start_time": "2021-11-24T14:32:52.248Z"
   },
   {
    "duration": 68,
    "start_time": "2021-11-24T14:33:08.913Z"
   },
   {
    "duration": 174,
    "start_time": "2021-11-24T14:33:35.803Z"
   },
   {
    "duration": 47,
    "start_time": "2021-11-24T14:34:14.000Z"
   },
   {
    "duration": 142,
    "start_time": "2021-11-24T14:34:51.640Z"
   },
   {
    "duration": 119,
    "start_time": "2021-11-24T14:35:05.958Z"
   },
   {
    "duration": 76,
    "start_time": "2021-11-24T14:35:44.449Z"
   },
   {
    "duration": 155,
    "start_time": "2021-11-24T14:35:46.181Z"
   },
   {
    "duration": 120,
    "start_time": "2021-11-24T14:35:52.850Z"
   },
   {
    "duration": 1183,
    "start_time": "2021-11-24T18:21:48.386Z"
   },
   {
    "duration": 31,
    "start_time": "2021-11-24T18:21:49.571Z"
   },
   {
    "duration": 15,
    "start_time": "2021-11-24T18:21:49.603Z"
   },
   {
    "duration": 8,
    "start_time": "2021-11-24T18:21:49.620Z"
   },
   {
    "duration": 13,
    "start_time": "2021-11-24T18:21:49.629Z"
   },
   {
    "duration": 22,
    "start_time": "2021-11-24T18:21:49.644Z"
   },
   {
    "duration": 16,
    "start_time": "2021-11-24T18:21:49.668Z"
   },
   {
    "duration": 23,
    "start_time": "2021-11-24T18:21:49.686Z"
   },
   {
    "duration": 29,
    "start_time": "2021-11-24T18:21:49.712Z"
   },
   {
    "duration": 20,
    "start_time": "2021-11-24T18:21:49.743Z"
   },
   {
    "duration": 23,
    "start_time": "2021-11-24T18:21:49.765Z"
   },
   {
    "duration": 909,
    "start_time": "2021-11-24T18:21:49.789Z"
   },
   {
    "duration": 16,
    "start_time": "2021-11-24T18:21:50.700Z"
   },
   {
    "duration": 8,
    "start_time": "2021-11-24T18:21:50.718Z"
   },
   {
    "duration": 27,
    "start_time": "2021-11-24T18:21:50.728Z"
   },
   {
    "duration": 11,
    "start_time": "2021-11-24T18:21:50.756Z"
   },
   {
    "duration": 19,
    "start_time": "2021-11-24T18:21:50.769Z"
   },
   {
    "duration": 17,
    "start_time": "2021-11-24T18:21:50.790Z"
   },
   {
    "duration": 13,
    "start_time": "2021-11-24T18:21:50.809Z"
   },
   {
    "duration": 48,
    "start_time": "2021-11-24T18:21:50.823Z"
   },
   {
    "duration": 39,
    "start_time": "2021-11-24T18:21:50.873Z"
   },
   {
    "duration": 82,
    "start_time": "2021-11-24T18:21:50.914Z"
   },
   {
    "duration": 565,
    "start_time": "2021-11-24T18:21:50.998Z"
   },
   {
    "duration": 51,
    "start_time": "2021-11-24T18:21:57.557Z"
   },
   {
    "duration": 355,
    "start_time": "2021-11-24T18:24:21.990Z"
   },
   {
    "duration": 35,
    "start_time": "2021-11-24T18:24:36.726Z"
   },
   {
    "duration": 341,
    "start_time": "2021-11-24T18:24:38.062Z"
   },
   {
    "duration": 165,
    "start_time": "2021-11-24T18:24:49.542Z"
   },
   {
    "duration": 339,
    "start_time": "2021-11-24T18:25:08.062Z"
   },
   {
    "duration": 267,
    "start_time": "2021-11-24T18:25:21.183Z"
   },
   {
    "duration": 303,
    "start_time": "2021-11-24T18:28:33.991Z"
   },
   {
    "duration": 194,
    "start_time": "2021-11-24T18:29:00.462Z"
   },
   {
    "duration": 170,
    "start_time": "2021-11-24T18:29:18.206Z"
   },
   {
    "duration": 90,
    "start_time": "2021-11-24T18:30:07.910Z"
   },
   {
    "duration": 171,
    "start_time": "2021-11-24T18:30:09.477Z"
   },
   {
    "duration": 25,
    "start_time": "2021-11-24T18:30:16.727Z"
   },
   {
    "duration": 4806,
    "start_time": "2021-11-24T18:30:17.590Z"
   },
   {
    "duration": 4868,
    "start_time": "2021-11-24T18:35:54.230Z"
   },
   {
    "duration": 82,
    "start_time": "2021-11-24T18:50:51.525Z"
   },
   {
    "duration": 188,
    "start_time": "2021-11-24T18:51:16.693Z"
   },
   {
    "duration": 117,
    "start_time": "2021-11-24T18:52:21.085Z"
   },
   {
    "duration": 27,
    "start_time": "2021-11-24T18:52:26.387Z"
   },
   {
    "duration": 4385,
    "start_time": "2021-11-24T18:52:50.886Z"
   },
   {
    "duration": 336,
    "start_time": "2021-11-24T18:58:19.413Z"
   },
   {
    "duration": 2,
    "start_time": "2021-11-24T18:58:35.757Z"
   },
   {
    "duration": 4,
    "start_time": "2021-11-24T19:06:48.494Z"
   },
   {
    "duration": 2,
    "start_time": "2021-11-24T19:07:58.733Z"
   },
   {
    "duration": 1037,
    "start_time": "2021-11-24T19:08:41.789Z"
   },
   {
    "duration": 1478,
    "start_time": "2021-11-25T08:57:07.816Z"
   },
   {
    "duration": 37,
    "start_time": "2021-11-25T08:57:09.297Z"
   },
   {
    "duration": 31,
    "start_time": "2021-11-25T08:57:09.337Z"
   },
   {
    "duration": 12,
    "start_time": "2021-11-25T08:57:09.370Z"
   },
   {
    "duration": 18,
    "start_time": "2021-11-25T08:57:09.384Z"
   },
   {
    "duration": 21,
    "start_time": "2021-11-25T08:57:09.404Z"
   },
   {
    "duration": 40,
    "start_time": "2021-11-25T08:57:09.427Z"
   },
   {
    "duration": 6,
    "start_time": "2021-11-25T08:57:09.471Z"
   },
   {
    "duration": 33,
    "start_time": "2021-11-25T08:57:09.480Z"
   },
   {
    "duration": 60,
    "start_time": "2021-11-25T08:57:09.515Z"
   },
   {
    "duration": 32,
    "start_time": "2021-11-25T08:57:09.577Z"
   },
   {
    "duration": 1619,
    "start_time": "2021-11-25T08:57:09.611Z"
   },
   {
    "duration": 28,
    "start_time": "2021-11-25T08:57:11.233Z"
   },
   {
    "duration": 5,
    "start_time": "2021-11-25T08:57:11.264Z"
   },
   {
    "duration": 18,
    "start_time": "2021-11-25T08:57:11.271Z"
   },
   {
    "duration": 5,
    "start_time": "2021-11-25T08:57:11.291Z"
   },
   {
    "duration": 21,
    "start_time": "2021-11-25T08:57:11.298Z"
   },
   {
    "duration": 6,
    "start_time": "2021-11-25T08:57:11.321Z"
   },
   {
    "duration": 8,
    "start_time": "2021-11-25T08:57:11.360Z"
   },
   {
    "duration": 57,
    "start_time": "2021-11-25T08:57:11.370Z"
   },
   {
    "duration": 70,
    "start_time": "2021-11-25T08:57:11.429Z"
   },
   {
    "duration": 295,
    "start_time": "2021-11-25T08:57:11.501Z"
   },
   {
    "duration": 131,
    "start_time": "2021-11-25T08:57:11.801Z"
   },
   {
    "duration": 357,
    "start_time": "2021-11-25T08:57:11.935Z"
   },
   {
    "duration": 165,
    "start_time": "2021-11-25T08:57:12.295Z"
   },
   {
    "duration": 7425,
    "start_time": "2021-11-25T08:57:12.463Z"
   },
   {
    "duration": 128,
    "start_time": "2021-11-25T08:57:19.891Z"
   },
   {
    "duration": 294,
    "start_time": "2021-11-25T08:57:20.022Z"
   },
   {
    "duration": 141,
    "start_time": "2021-11-25T08:57:20.320Z"
   },
   {
    "duration": 7146,
    "start_time": "2021-11-25T08:57:20.464Z"
   },
   {
    "duration": 3,
    "start_time": "2021-11-25T08:57:27.613Z"
   },
   {
    "duration": 7,
    "start_time": "2021-11-25T08:57:27.619Z"
   },
   {
    "duration": 9,
    "start_time": "2021-11-25T08:57:27.628Z"
   },
   {
    "duration": 61,
    "start_time": "2021-11-25T08:57:53.304Z"
   },
   {
    "duration": 7012,
    "start_time": "2021-11-25T08:57:59.276Z"
   },
   {
    "duration": 514,
    "start_time": "2021-11-25T09:01:16.363Z"
   },
   {
    "duration": 22,
    "start_time": "2021-11-25T09:01:43.771Z"
   },
   {
    "duration": 20,
    "start_time": "2021-11-25T09:02:01.774Z"
   },
   {
    "duration": 22,
    "start_time": "2021-11-25T09:02:25.165Z"
   },
   {
    "duration": 168,
    "start_time": "2021-11-25T09:03:41.026Z"
   },
   {
    "duration": 292,
    "start_time": "2021-11-25T09:04:03.672Z"
   },
   {
    "duration": 66,
    "start_time": "2021-11-25T09:05:04.901Z"
   },
   {
    "duration": 7141,
    "start_time": "2021-11-25T09:05:37.546Z"
   },
   {
    "duration": 63,
    "start_time": "2021-11-25T09:05:54.301Z"
   },
   {
    "duration": 208,
    "start_time": "2021-11-25T09:07:02.354Z"
   },
   {
    "duration": 197,
    "start_time": "2021-11-25T09:08:07.764Z"
   },
   {
    "duration": 7358,
    "start_time": "2021-11-25T09:08:09.812Z"
   },
   {
    "duration": 176,
    "start_time": "2021-11-25T09:08:21.787Z"
   },
   {
    "duration": 6,
    "start_time": "2021-11-25T09:18:30.167Z"
   },
   {
    "duration": 9,
    "start_time": "2021-11-25T09:20:04.960Z"
   },
   {
    "duration": 8,
    "start_time": "2021-11-25T09:20:07.027Z"
   },
   {
    "duration": 17,
    "start_time": "2021-11-25T09:20:25.120Z"
   },
   {
    "duration": 9,
    "start_time": "2021-11-25T09:20:34.833Z"
   },
   {
    "duration": 70,
    "start_time": "2021-11-25T09:21:51.415Z"
   },
   {
    "duration": 276,
    "start_time": "2021-11-25T09:22:17.170Z"
   },
   {
    "duration": 375,
    "start_time": "2021-11-25T09:23:57.967Z"
   },
   {
    "duration": 51,
    "start_time": "2021-11-25T09:24:08.714Z"
   },
   {
    "duration": 35,
    "start_time": "2021-11-25T09:24:59.324Z"
   },
   {
    "duration": 6911,
    "start_time": "2021-11-25T09:25:08.128Z"
   },
   {
    "duration": 121,
    "start_time": "2021-11-25T09:25:21.938Z"
   },
   {
    "duration": 7410,
    "start_time": "2021-11-25T09:25:39.768Z"
   },
   {
    "duration": 174,
    "start_time": "2021-11-25T13:44:46.582Z"
   },
   {
    "duration": 72,
    "start_time": "2021-11-25T13:44:53.325Z"
   },
   {
    "duration": 176,
    "start_time": "2021-11-25T13:46:01.828Z"
   },
   {
    "duration": 1896,
    "start_time": "2021-11-25T13:46:11.985Z"
   },
   {
    "duration": 1874,
    "start_time": "2021-11-25T13:48:53.251Z"
   },
   {
    "duration": 2403,
    "start_time": "2021-11-25T13:50:45.817Z"
   },
   {
    "duration": 2355,
    "start_time": "2021-11-25T13:52:05.327Z"
   },
   {
    "duration": 1243,
    "start_time": "2021-11-25T13:52:38.418Z"
   },
   {
    "duration": 119,
    "start_time": "2021-11-25T13:54:55.098Z"
   },
   {
    "duration": 6640,
    "start_time": "2021-11-25T13:55:56.713Z"
   },
   {
    "duration": 12432,
    "start_time": "2021-11-25T13:59:33.527Z"
   },
   {
    "duration": 18840,
    "start_time": "2021-11-25T14:00:07.891Z"
   },
   {
    "duration": 14067,
    "start_time": "2021-11-25T14:01:02.002Z"
   },
   {
    "duration": 15,
    "start_time": "2021-11-25T14:07:16.967Z"
   },
   {
    "duration": 1772,
    "start_time": "2021-11-25T14:08:16.548Z"
   },
   {
    "duration": 460,
    "start_time": "2021-11-25T14:17:19.343Z"
   },
   {
    "duration": 371,
    "start_time": "2021-11-25T14:17:37.056Z"
   },
   {
    "duration": 16824,
    "start_time": "2021-11-25T14:17:54.692Z"
   },
   {
    "duration": 121,
    "start_time": "2021-11-25T14:20:54.711Z"
   },
   {
    "duration": 22623,
    "start_time": "2021-11-25T14:23:47.672Z"
   },
   {
    "duration": 22645,
    "start_time": "2021-11-25T14:24:18.135Z"
   },
   {
    "duration": 22768,
    "start_time": "2021-11-25T14:28:36.943Z"
   },
   {
    "duration": 22658,
    "start_time": "2021-11-25T14:29:41.803Z"
   },
   {
    "duration": 22237,
    "start_time": "2021-11-25T14:30:50.355Z"
   },
   {
    "duration": 22770,
    "start_time": "2021-11-25T14:33:09.168Z"
   },
   {
    "duration": 16946,
    "start_time": "2021-11-25T14:34:23.458Z"
   },
   {
    "duration": 5,
    "start_time": "2021-11-25T14:37:21.688Z"
   },
   {
    "duration": 21667,
    "start_time": "2021-11-25T14:37:30.234Z"
   },
   {
    "duration": 1575,
    "start_time": "2021-11-25T18:10:13.686Z"
   },
   {
    "duration": 212,
    "start_time": "2021-11-25T18:10:15.264Z"
   },
   {
    "duration": 23,
    "start_time": "2021-11-25T18:10:15.479Z"
   },
   {
    "duration": 18,
    "start_time": "2021-11-25T18:10:15.505Z"
   },
   {
    "duration": 20,
    "start_time": "2021-11-25T18:10:15.525Z"
   },
   {
    "duration": 39,
    "start_time": "2021-11-25T18:10:15.548Z"
   },
   {
    "duration": 14,
    "start_time": "2021-11-25T18:10:15.591Z"
   },
   {
    "duration": 13,
    "start_time": "2021-11-25T18:10:15.610Z"
   },
   {
    "duration": 78,
    "start_time": "2021-11-25T18:10:15.626Z"
   },
   {
    "duration": 31,
    "start_time": "2021-11-25T18:10:15.707Z"
   },
   {
    "duration": 62,
    "start_time": "2021-11-25T18:10:15.741Z"
   },
   {
    "duration": 1575,
    "start_time": "2021-11-25T18:10:15.806Z"
   },
   {
    "duration": 17,
    "start_time": "2021-11-25T18:10:17.383Z"
   },
   {
    "duration": 6,
    "start_time": "2021-11-25T18:10:17.402Z"
   },
   {
    "duration": 19,
    "start_time": "2021-11-25T18:10:17.410Z"
   },
   {
    "duration": 6,
    "start_time": "2021-11-25T18:10:17.431Z"
   },
   {
    "duration": 13,
    "start_time": "2021-11-25T18:10:17.469Z"
   },
   {
    "duration": 7,
    "start_time": "2021-11-25T18:10:17.485Z"
   },
   {
    "duration": 11,
    "start_time": "2021-11-25T18:10:17.495Z"
   },
   {
    "duration": 106,
    "start_time": "2021-11-25T18:10:17.509Z"
   },
   {
    "duration": 65,
    "start_time": "2021-11-25T18:10:17.617Z"
   },
   {
    "duration": 1181,
    "start_time": "2021-11-25T18:10:19.455Z"
   },
   {
    "duration": 391,
    "start_time": "2021-11-25T18:10:38.136Z"
   },
   {
    "duration": 6,
    "start_time": "2021-11-25T18:28:23.734Z"
   },
   {
    "duration": 44,
    "start_time": "2021-11-25T18:28:23.743Z"
   },
   {
    "duration": 19,
    "start_time": "2021-11-25T18:28:23.790Z"
   },
   {
    "duration": 13,
    "start_time": "2021-11-25T18:28:23.812Z"
   },
   {
    "duration": 21,
    "start_time": "2021-11-25T18:28:23.868Z"
   },
   {
    "duration": 27,
    "start_time": "2021-11-25T18:28:23.892Z"
   },
   {
    "duration": 11,
    "start_time": "2021-11-25T18:28:23.922Z"
   },
   {
    "duration": 36,
    "start_time": "2021-11-25T18:28:23.937Z"
   },
   {
    "duration": 35,
    "start_time": "2021-11-25T18:28:23.976Z"
   },
   {
    "duration": 4,
    "start_time": "2021-11-25T18:28:24.013Z"
   },
   {
    "duration": 71,
    "start_time": "2021-11-25T18:28:24.019Z"
   },
   {
    "duration": 1430,
    "start_time": "2021-11-25T18:28:24.092Z"
   },
   {
    "duration": 4,
    "start_time": "2021-11-25T18:28:25.524Z"
   },
   {
    "duration": 8,
    "start_time": "2021-11-25T18:28:25.531Z"
   },
   {
    "duration": 32,
    "start_time": "2021-11-25T18:28:25.542Z"
   },
   {
    "duration": 5,
    "start_time": "2021-11-25T18:28:25.576Z"
   },
   {
    "duration": 10,
    "start_time": "2021-11-25T18:28:25.584Z"
   },
   {
    "duration": 6,
    "start_time": "2021-11-25T18:28:25.596Z"
   },
   {
    "duration": 9,
    "start_time": "2021-11-25T18:28:25.604Z"
   },
   {
    "duration": 52,
    "start_time": "2021-11-25T18:28:25.616Z"
   },
   {
    "duration": 53,
    "start_time": "2021-11-25T18:28:25.670Z"
   },
   {
    "duration": 450,
    "start_time": "2021-11-25T18:28:25.726Z"
   },
   {
    "duration": 140,
    "start_time": "2021-11-25T18:28:26.181Z"
   },
   {
    "duration": 364,
    "start_time": "2021-11-25T18:28:26.325Z"
   },
   {
    "duration": 87,
    "start_time": "2021-11-25T18:28:26.692Z"
   },
   {
    "duration": 9895,
    "start_time": "2021-11-25T18:28:26.867Z"
   },
   {
    "duration": 135,
    "start_time": "2021-11-25T18:28:36.764Z"
   },
   {
    "duration": 349,
    "start_time": "2021-11-25T18:28:36.901Z"
   },
   {
    "duration": 117,
    "start_time": "2021-11-25T18:28:37.252Z"
   },
   {
    "duration": 8080,
    "start_time": "2021-11-25T18:28:37.372Z"
   },
   {
    "duration": 14,
    "start_time": "2021-11-25T18:28:45.454Z"
   },
   {
    "duration": 7,
    "start_time": "2021-11-25T18:28:45.470Z"
   },
   {
    "duration": 27,
    "start_time": "2021-11-25T18:28:45.479Z"
   },
   {
    "duration": 193,
    "start_time": "2021-11-25T18:28:45.509Z"
   },
   {
    "duration": 339,
    "start_time": "2021-11-25T18:28:45.704Z"
   },
   {
    "duration": 129,
    "start_time": "2021-11-25T18:28:46.045Z"
   },
   {
    "duration": 8390,
    "start_time": "2021-11-25T18:28:46.177Z"
   },
   {
    "duration": 104,
    "start_time": "2021-11-25T18:28:54.570Z"
   },
   {
    "duration": 8331,
    "start_time": "2021-11-25T18:28:54.767Z"
   },
   {
    "duration": 6,
    "start_time": "2021-11-25T18:29:03.100Z"
   },
   {
    "duration": 38,
    "start_time": "2021-11-25T18:29:03.108Z"
   },
   {
    "duration": 8,
    "start_time": "2021-11-25T18:29:03.148Z"
   },
   {
    "duration": 82,
    "start_time": "2021-11-25T18:29:03.167Z"
   },
   {
    "duration": 381,
    "start_time": "2021-11-25T18:29:03.252Z"
   },
   {
    "duration": 46,
    "start_time": "2021-11-25T18:29:03.635Z"
   },
   {
    "duration": 8574,
    "start_time": "2021-11-25T18:29:03.769Z"
   },
   {
    "duration": 127,
    "start_time": "2021-11-25T18:29:12.346Z"
   },
   {
    "duration": 8510,
    "start_time": "2021-11-25T18:29:12.476Z"
   },
   {
    "duration": 1306,
    "start_time": "2021-11-25T18:29:20.989Z"
   },
   {
    "duration": 15069,
    "start_time": "2021-11-25T18:29:22.298Z"
   },
   {
    "duration": 12,
    "start_time": "2021-11-25T18:29:37.370Z"
   },
   {
    "duration": 1075,
    "start_time": "2021-11-25T18:29:37.384Z"
   },
   {
    "duration": 294,
    "start_time": "2021-11-25T18:29:38.461Z"
   },
   {
    "duration": 18326,
    "start_time": "2021-11-25T18:29:38.758Z"
   },
   {
    "duration": 100,
    "start_time": "2021-11-25T18:29:57.087Z"
   },
   {
    "duration": 5,
    "start_time": "2021-11-25T18:29:57.189Z"
   },
   {
    "duration": 25186,
    "start_time": "2021-11-25T18:29:57.196Z"
   },
   {
    "duration": 1831,
    "start_time": "2021-11-25T18:30:36.407Z"
   },
   {
    "duration": 480,
    "start_time": "2021-11-25T18:30:41.631Z"
   },
   {
    "duration": 128,
    "start_time": "2021-11-25T18:30:46.728Z"
   },
   {
    "duration": 1455,
    "start_time": "2021-11-25T18:46:40.701Z"
   },
   {
    "duration": 36,
    "start_time": "2021-11-25T18:46:42.158Z"
   },
   {
    "duration": 25,
    "start_time": "2021-11-25T18:46:42.196Z"
   },
   {
    "duration": 15,
    "start_time": "2021-11-25T18:46:42.224Z"
   },
   {
    "duration": 45,
    "start_time": "2021-11-25T18:46:42.241Z"
   },
   {
    "duration": 21,
    "start_time": "2021-11-25T18:46:42.290Z"
   },
   {
    "duration": 21,
    "start_time": "2021-11-25T18:46:42.314Z"
   },
   {
    "duration": 7,
    "start_time": "2021-11-25T18:46:42.371Z"
   },
   {
    "duration": 34,
    "start_time": "2021-11-25T18:46:42.382Z"
   },
   {
    "duration": 64,
    "start_time": "2021-11-25T18:46:42.420Z"
   },
   {
    "duration": 34,
    "start_time": "2021-11-25T18:46:42.487Z"
   },
   {
    "duration": 1406,
    "start_time": "2021-11-25T18:46:42.524Z"
   },
   {
    "duration": 36,
    "start_time": "2021-11-25T18:46:43.933Z"
   },
   {
    "duration": 7,
    "start_time": "2021-11-25T18:46:43.972Z"
   },
   {
    "duration": 16,
    "start_time": "2021-11-25T18:46:43.982Z"
   },
   {
    "duration": 7,
    "start_time": "2021-11-25T18:46:44.000Z"
   },
   {
    "duration": 57,
    "start_time": "2021-11-25T18:46:44.010Z"
   },
   {
    "duration": 7,
    "start_time": "2021-11-25T18:46:44.070Z"
   },
   {
    "duration": 11,
    "start_time": "2021-11-25T18:46:44.080Z"
   },
   {
    "duration": 89,
    "start_time": "2021-11-25T18:46:44.093Z"
   },
   {
    "duration": 54,
    "start_time": "2021-11-25T18:46:44.185Z"
   },
   {
    "duration": 335,
    "start_time": "2021-11-25T18:46:44.242Z"
   },
   {
    "duration": 136,
    "start_time": "2021-11-25T18:46:44.585Z"
   },
   {
    "duration": 395,
    "start_time": "2021-11-25T18:46:44.725Z"
   },
   {
    "duration": 247,
    "start_time": "2021-11-25T18:46:45.123Z"
   },
   {
    "duration": 8868,
    "start_time": "2021-11-25T18:46:45.372Z"
   },
   {
    "duration": 138,
    "start_time": "2021-11-25T18:46:54.243Z"
   },
   {
    "duration": 336,
    "start_time": "2021-11-25T18:46:54.384Z"
   },
   {
    "duration": 144,
    "start_time": "2021-11-25T18:46:54.724Z"
   },
   {
    "duration": 7764,
    "start_time": "2021-11-25T18:46:54.872Z"
   },
   {
    "duration": 3,
    "start_time": "2021-11-25T18:47:02.638Z"
   },
   {
    "duration": 23,
    "start_time": "2021-11-25T18:47:02.644Z"
   },
   {
    "duration": 40,
    "start_time": "2021-11-25T18:47:02.670Z"
   },
   {
    "duration": 181,
    "start_time": "2021-11-25T18:47:02.712Z"
   },
   {
    "duration": 329,
    "start_time": "2021-11-25T18:47:02.896Z"
   },
   {
    "duration": 141,
    "start_time": "2021-11-25T18:47:03.227Z"
   },
   {
    "duration": 7645,
    "start_time": "2021-11-25T18:47:03.372Z"
   },
   {
    "duration": 149,
    "start_time": "2021-11-25T18:47:11.020Z"
   },
   {
    "duration": 7944,
    "start_time": "2021-11-25T18:47:11.172Z"
   },
   {
    "duration": 8,
    "start_time": "2021-11-25T18:47:19.119Z"
   },
   {
    "duration": 24,
    "start_time": "2021-11-25T18:47:19.129Z"
   },
   {
    "duration": 11,
    "start_time": "2021-11-25T18:47:19.168Z"
   },
   {
    "duration": 105,
    "start_time": "2021-11-25T18:47:19.182Z"
   },
   {
    "duration": 333,
    "start_time": "2021-11-25T18:47:19.289Z"
   },
   {
    "duration": 50,
    "start_time": "2021-11-25T18:47:19.625Z"
   },
   {
    "duration": 7852,
    "start_time": "2021-11-25T18:47:19.677Z"
   },
   {
    "duration": 145,
    "start_time": "2021-11-25T18:47:27.531Z"
   },
   {
    "duration": 8017,
    "start_time": "2021-11-25T18:47:27.768Z"
   },
   {
    "duration": 1300,
    "start_time": "2021-11-25T18:47:35.787Z"
   },
   {
    "duration": 14461,
    "start_time": "2021-11-25T18:47:37.089Z"
   },
   {
    "duration": 29,
    "start_time": "2021-11-25T18:47:51.552Z"
   },
   {
    "duration": 1859,
    "start_time": "2021-11-25T18:47:51.584Z"
   },
   {
    "duration": 494,
    "start_time": "2021-11-25T18:47:53.446Z"
   },
   {
    "duration": 17428,
    "start_time": "2021-11-25T18:47:53.942Z"
   },
   {
    "duration": 141,
    "start_time": "2021-11-25T18:48:11.372Z"
   },
   {
    "duration": 5,
    "start_time": "2021-11-25T18:48:11.516Z"
   },
   {
    "duration": 23187,
    "start_time": "2021-11-25T18:48:11.523Z"
   },
   {
    "duration": 299,
    "start_time": "2021-11-26T11:59:04.993Z"
   },
   {
    "duration": 258,
    "start_time": "2021-11-26T11:59:12.348Z"
   },
   {
    "duration": 1113,
    "start_time": "2021-11-26T11:59:19.881Z"
   },
   {
    "duration": 5,
    "start_time": "2021-11-26T11:59:30.166Z"
   },
   {
    "duration": 35,
    "start_time": "2021-11-26T11:59:30.174Z"
   },
   {
    "duration": 14,
    "start_time": "2021-11-26T11:59:30.210Z"
   },
   {
    "duration": 15,
    "start_time": "2021-11-26T11:59:30.226Z"
   },
   {
    "duration": 18,
    "start_time": "2021-11-26T11:59:30.242Z"
   },
   {
    "duration": 15,
    "start_time": "2021-11-26T11:59:30.261Z"
   },
   {
    "duration": 18,
    "start_time": "2021-11-26T11:59:30.277Z"
   },
   {
    "duration": 291,
    "start_time": "2021-11-26T11:59:36.208Z"
   },
   {
    "duration": 2,
    "start_time": "2021-11-26T11:59:54.474Z"
   },
   {
    "duration": 4,
    "start_time": "2021-11-26T11:59:59.835Z"
   },
   {
    "duration": 3,
    "start_time": "2021-11-26T12:00:12.661Z"
   },
   {
    "duration": 5,
    "start_time": "2021-11-26T12:00:39.907Z"
   },
   {
    "duration": 5,
    "start_time": "2021-11-26T12:00:52.366Z"
   },
   {
    "duration": 6,
    "start_time": "2021-11-26T12:01:15.243Z"
   },
   {
    "duration": 4,
    "start_time": "2021-11-26T12:01:43.036Z"
   },
   {
    "duration": 4,
    "start_time": "2021-11-26T12:01:46.223Z"
   },
   {
    "duration": 5,
    "start_time": "2021-11-26T12:02:23.266Z"
   },
   {
    "duration": 32,
    "start_time": "2021-11-26T12:02:23.273Z"
   },
   {
    "duration": 12,
    "start_time": "2021-11-26T12:02:23.307Z"
   },
   {
    "duration": 9,
    "start_time": "2021-11-26T12:02:23.321Z"
   },
   {
    "duration": 12,
    "start_time": "2021-11-26T12:02:23.331Z"
   },
   {
    "duration": 16,
    "start_time": "2021-11-26T12:02:23.344Z"
   },
   {
    "duration": 27,
    "start_time": "2021-11-26T12:02:23.362Z"
   },
   {
    "duration": 4,
    "start_time": "2021-11-26T12:05:25.420Z"
   },
   {
    "duration": 4,
    "start_time": "2021-11-26T12:05:27.252Z"
   },
   {
    "duration": 3,
    "start_time": "2021-11-26T12:05:28.619Z"
   },
   {
    "duration": 4,
    "start_time": "2021-11-26T12:05:30.113Z"
   },
   {
    "duration": 4,
    "start_time": "2021-11-26T12:05:31.483Z"
   },
   {
    "duration": 4,
    "start_time": "2021-11-26T12:05:32.856Z"
   },
   {
    "duration": 3,
    "start_time": "2021-11-26T12:05:37.266Z"
   },
   {
    "duration": 80,
    "start_time": "2021-11-26T12:06:14.707Z"
   },
   {
    "duration": 5,
    "start_time": "2021-11-26T12:06:18.004Z"
   },
   {
    "duration": 911,
    "start_time": "2021-11-26T12:06:28.515Z"
   },
   {
    "duration": 4,
    "start_time": "2021-11-26T12:06:39.319Z"
   },
   {
    "duration": 78,
    "start_time": "2021-11-26T12:06:51.123Z"
   },
   {
    "duration": 6,
    "start_time": "2021-11-26T12:07:04.380Z"
   },
   {
    "duration": 6,
    "start_time": "2021-11-26T12:07:08.000Z"
   },
   {
    "duration": 5,
    "start_time": "2021-11-26T12:07:45.761Z"
   },
   {
    "duration": 48,
    "start_time": "2021-11-26T12:07:45.767Z"
   },
   {
    "duration": 10,
    "start_time": "2021-11-26T12:07:45.817Z"
   },
   {
    "duration": 18,
    "start_time": "2021-11-26T12:07:45.829Z"
   },
   {
    "duration": 35,
    "start_time": "2021-11-26T12:07:45.849Z"
   },
   {
    "duration": 25,
    "start_time": "2021-11-26T12:07:45.886Z"
   },
   {
    "duration": 27,
    "start_time": "2021-11-26T12:07:45.913Z"
   },
   {
    "duration": 4,
    "start_time": "2021-11-26T12:08:29.943Z"
   },
   {
    "duration": 3,
    "start_time": "2021-11-26T12:09:14.456Z"
   },
   {
    "duration": 4,
    "start_time": "2021-11-26T12:09:16.115Z"
   },
   {
    "duration": 4,
    "start_time": "2021-11-26T12:09:18.443Z"
   },
   {
    "duration": 4,
    "start_time": "2021-11-26T12:09:19.619Z"
   },
   {
    "duration": 3,
    "start_time": "2021-11-26T12:09:21.255Z"
   },
   {
    "duration": 3,
    "start_time": "2021-11-26T12:09:23.295Z"
   },
   {
    "duration": 6,
    "start_time": "2021-11-26T12:09:40.323Z"
   },
   {
    "duration": 361,
    "start_time": "2021-11-26T12:11:52.510Z"
   },
   {
    "duration": 3,
    "start_time": "2021-11-26T12:12:02.628Z"
   },
   {
    "duration": 30,
    "start_time": "2021-11-26T12:12:39.162Z"
   },
   {
    "duration": 27,
    "start_time": "2021-11-26T12:12:53.081Z"
   },
   {
    "duration": 5,
    "start_time": "2021-11-26T12:21:53.420Z"
   },
   {
    "duration": 32,
    "start_time": "2021-11-26T12:21:53.428Z"
   },
   {
    "duration": 11,
    "start_time": "2021-11-26T12:21:53.462Z"
   },
   {
    "duration": 12,
    "start_time": "2021-11-26T12:21:53.475Z"
   },
   {
    "duration": 18,
    "start_time": "2021-11-26T12:21:53.489Z"
   },
   {
    "duration": 17,
    "start_time": "2021-11-26T12:21:53.509Z"
   },
   {
    "duration": 8,
    "start_time": "2021-11-26T12:21:53.527Z"
   },
   {
    "duration": 5,
    "start_time": "2021-11-26T12:21:53.536Z"
   },
   {
    "duration": 46,
    "start_time": "2021-11-26T12:21:53.543Z"
   },
   {
    "duration": 4,
    "start_time": "2021-11-26T12:22:10.480Z"
   },
   {
    "duration": 34,
    "start_time": "2021-11-26T12:22:10.486Z"
   },
   {
    "duration": 10,
    "start_time": "2021-11-26T12:22:10.522Z"
   },
   {
    "duration": 8,
    "start_time": "2021-11-26T12:22:10.534Z"
   },
   {
    "duration": 11,
    "start_time": "2021-11-26T12:22:10.543Z"
   },
   {
    "duration": 12,
    "start_time": "2021-11-26T12:22:10.556Z"
   },
   {
    "duration": 18,
    "start_time": "2021-11-26T12:22:10.570Z"
   },
   {
    "duration": 2,
    "start_time": "2021-11-26T12:22:10.590Z"
   },
   {
    "duration": 29,
    "start_time": "2021-11-26T12:22:10.594Z"
   },
   {
    "duration": 5,
    "start_time": "2021-11-26T12:39:02.023Z"
   },
   {
    "duration": 41,
    "start_time": "2021-11-26T12:39:02.029Z"
   },
   {
    "duration": 11,
    "start_time": "2021-11-26T12:39:02.072Z"
   },
   {
    "duration": 9,
    "start_time": "2021-11-26T12:39:02.085Z"
   },
   {
    "duration": 19,
    "start_time": "2021-11-26T12:39:02.096Z"
   },
   {
    "duration": 15,
    "start_time": "2021-11-26T12:39:02.116Z"
   },
   {
    "duration": 21,
    "start_time": "2021-11-26T12:39:02.133Z"
   },
   {
    "duration": 6,
    "start_time": "2021-11-26T12:39:02.156Z"
   },
   {
    "duration": 34,
    "start_time": "2021-11-26T12:39:02.163Z"
   },
   {
    "duration": 66,
    "start_time": "2021-11-26T12:39:02.198Z"
   },
   {
    "duration": 870,
    "start_time": "2021-11-26T12:39:02.265Z"
   },
   {
    "duration": 2,
    "start_time": "2021-11-26T12:39:03.136Z"
   },
   {
    "duration": 7,
    "start_time": "2021-11-26T12:39:03.140Z"
   },
   {
    "duration": 13,
    "start_time": "2021-11-26T12:39:03.149Z"
   },
   {
    "duration": 10,
    "start_time": "2021-11-26T12:39:03.164Z"
   },
   {
    "duration": 25,
    "start_time": "2021-11-26T12:39:03.176Z"
   },
   {
    "duration": 6,
    "start_time": "2021-11-26T12:39:03.203Z"
   },
   {
    "duration": 42,
    "start_time": "2021-11-26T12:39:03.211Z"
   },
   {
    "duration": 5,
    "start_time": "2021-11-26T12:39:56.889Z"
   },
   {
    "duration": 34,
    "start_time": "2021-11-26T12:39:56.895Z"
   },
   {
    "duration": 12,
    "start_time": "2021-11-26T12:39:56.931Z"
   },
   {
    "duration": 9,
    "start_time": "2021-11-26T12:39:56.945Z"
   },
   {
    "duration": 13,
    "start_time": "2021-11-26T12:39:56.955Z"
   },
   {
    "duration": 26,
    "start_time": "2021-11-26T12:39:56.969Z"
   },
   {
    "duration": 9,
    "start_time": "2021-11-26T12:39:56.998Z"
   },
   {
    "duration": 2,
    "start_time": "2021-11-26T12:39:57.009Z"
   },
   {
    "duration": 31,
    "start_time": "2021-11-26T12:39:57.013Z"
   },
   {
    "duration": 19,
    "start_time": "2021-11-26T12:39:57.045Z"
   },
   {
    "duration": 1153,
    "start_time": "2021-11-26T12:39:57.065Z"
   },
   {
    "duration": 3,
    "start_time": "2021-11-26T12:39:58.220Z"
   },
   {
    "duration": 8,
    "start_time": "2021-11-26T12:39:58.225Z"
   },
   {
    "duration": 11,
    "start_time": "2021-11-26T12:39:58.235Z"
   },
   {
    "duration": 4,
    "start_time": "2021-11-26T12:39:58.248Z"
   },
   {
    "duration": 7,
    "start_time": "2021-11-26T12:39:58.253Z"
   },
   {
    "duration": 26,
    "start_time": "2021-11-26T12:39:58.262Z"
   },
   {
    "duration": 27,
    "start_time": "2021-11-26T12:39:58.290Z"
   },
   {
    "duration": 5,
    "start_time": "2021-11-26T12:40:47.715Z"
   },
   {
    "duration": 6,
    "start_time": "2021-11-26T12:47:14.897Z"
   },
   {
    "duration": 4,
    "start_time": "2021-11-26T12:50:04.409Z"
   },
   {
    "duration": 4,
    "start_time": "2021-11-26T12:50:17.338Z"
   },
   {
    "duration": 4,
    "start_time": "2021-11-26T12:51:51.716Z"
   },
   {
    "duration": 250,
    "start_time": "2021-11-26T12:57:06.281Z"
   },
   {
    "duration": 4,
    "start_time": "2021-11-26T12:57:13.497Z"
   },
   {
    "duration": 219,
    "start_time": "2021-11-26T13:07:13.582Z"
   },
   {
    "duration": 3,
    "start_time": "2021-11-26T13:07:19.419Z"
   },
   {
    "duration": 5,
    "start_time": "2021-11-26T13:07:21.958Z"
   },
   {
    "duration": 3,
    "start_time": "2021-11-26T13:07:33.934Z"
   },
   {
    "duration": 279,
    "start_time": "2021-11-26T13:10:23.230Z"
   },
   {
    "duration": 7,
    "start_time": "2021-11-26T13:10:31.506Z"
   },
   {
    "duration": 69,
    "start_time": "2021-11-26T13:10:31.515Z"
   },
   {
    "duration": 16,
    "start_time": "2021-11-26T13:10:31.586Z"
   },
   {
    "duration": 14,
    "start_time": "2021-11-26T13:10:31.604Z"
   },
   {
    "duration": 21,
    "start_time": "2021-11-26T13:10:31.620Z"
   },
   {
    "duration": 21,
    "start_time": "2021-11-26T13:10:31.643Z"
   },
   {
    "duration": 25,
    "start_time": "2021-11-26T13:10:31.667Z"
   },
   {
    "duration": 11,
    "start_time": "2021-11-26T13:10:31.695Z"
   },
   {
    "duration": 45,
    "start_time": "2021-11-26T13:10:31.708Z"
   },
   {
    "duration": 22,
    "start_time": "2021-11-26T13:10:31.755Z"
   },
   {
    "duration": 850,
    "start_time": "2021-11-26T13:10:31.779Z"
   },
   {
    "duration": 2,
    "start_time": "2021-11-26T13:10:32.631Z"
   },
   {
    "duration": 7,
    "start_time": "2021-11-26T13:10:32.635Z"
   },
   {
    "duration": 10,
    "start_time": "2021-11-26T13:10:32.643Z"
   },
   {
    "duration": 3,
    "start_time": "2021-11-26T13:10:32.655Z"
   },
   {
    "duration": 8,
    "start_time": "2021-11-26T13:10:32.688Z"
   },
   {
    "duration": 7,
    "start_time": "2021-11-26T13:10:32.698Z"
   },
   {
    "duration": 29,
    "start_time": "2021-11-26T13:10:32.706Z"
   },
   {
    "duration": 5,
    "start_time": "2021-11-26T13:10:32.738Z"
   },
   {
    "duration": 51,
    "start_time": "2021-11-26T13:10:32.744Z"
   },
   {
    "duration": 186,
    "start_time": "2021-11-26T13:10:32.796Z"
   },
   {
    "duration": 79,
    "start_time": "2021-11-26T13:10:32.988Z"
   },
   {
    "duration": 254,
    "start_time": "2021-11-26T13:10:33.069Z"
   },
   {
    "duration": 70,
    "start_time": "2021-11-26T13:10:33.324Z"
   },
   {
    "duration": 4496,
    "start_time": "2021-11-26T13:10:33.396Z"
   },
   {
    "duration": 73,
    "start_time": "2021-11-26T13:10:37.894Z"
   },
   {
    "duration": 210,
    "start_time": "2021-11-26T13:10:37.968Z"
   },
   {
    "duration": 109,
    "start_time": "2021-11-26T13:10:38.180Z"
   },
   {
    "duration": 4403,
    "start_time": "2021-11-26T13:10:38.291Z"
   },
   {
    "duration": 3,
    "start_time": "2021-11-26T13:10:42.696Z"
   },
   {
    "duration": 17,
    "start_time": "2021-11-26T13:10:42.700Z"
   },
   {
    "duration": 111,
    "start_time": "2021-11-26T13:10:42.718Z"
   },
   {
    "duration": 174,
    "start_time": "2021-11-26T13:10:42.831Z"
   },
   {
    "duration": 89,
    "start_time": "2021-11-26T13:10:43.006Z"
   },
   {
    "duration": 4679,
    "start_time": "2021-11-26T13:10:43.097Z"
   },
   {
    "duration": 111,
    "start_time": "2021-11-26T13:10:47.778Z"
   },
   {
    "duration": 4434,
    "start_time": "2021-11-26T13:10:47.891Z"
   },
   {
    "duration": 3,
    "start_time": "2021-11-26T13:10:52.327Z"
   },
   {
    "duration": 19,
    "start_time": "2021-11-26T13:10:52.332Z"
   },
   {
    "duration": 8,
    "start_time": "2021-11-26T13:10:52.352Z"
   },
   {
    "duration": 53,
    "start_time": "2021-11-26T13:10:52.361Z"
   },
   {
    "duration": 193,
    "start_time": "2021-11-26T13:10:52.415Z"
   },
   {
    "duration": 78,
    "start_time": "2021-11-26T13:10:52.610Z"
   },
   {
    "duration": 4547,
    "start_time": "2021-11-26T13:10:52.690Z"
   },
   {
    "duration": 57,
    "start_time": "2021-11-26T13:10:57.238Z"
   },
   {
    "duration": 4589,
    "start_time": "2021-11-26T13:10:57.300Z"
   },
   {
    "duration": 757,
    "start_time": "2021-11-26T13:11:01.891Z"
   },
   {
    "duration": 8652,
    "start_time": "2021-11-26T13:11:02.650Z"
   },
   {
    "duration": 4,
    "start_time": "2021-11-26T13:11:11.304Z"
   },
   {
    "duration": 255,
    "start_time": "2021-11-26T13:11:16.419Z"
   },
   {
    "duration": 410471,
    "start_time": "2021-11-26T13:15:06.417Z"
   },
   {
    "duration": 4,
    "start_time": "2021-11-26T13:22:09.325Z"
   },
   {
    "duration": 3,
    "start_time": "2021-11-26T13:23:39.665Z"
   },
   {
    "duration": 7622,
    "start_time": "2021-11-26T13:23:50.406Z"
   },
   {
    "duration": 7422,
    "start_time": "2021-11-26T13:24:45.775Z"
   },
   {
    "duration": 7402,
    "start_time": "2021-11-26T13:25:06.224Z"
   },
   {
    "duration": 3,
    "start_time": "2021-11-26T13:25:39.242Z"
   },
   {
    "duration": 421804,
    "start_time": "2021-11-26T13:25:40.773Z"
   },
   {
    "duration": 5,
    "start_time": "2021-11-26T13:32:53.199Z"
   },
   {
    "duration": 3,
    "start_time": "2021-11-26T13:34:33.905Z"
   },
   {
    "duration": 4,
    "start_time": "2021-11-26T13:34:39.892Z"
   },
   {
    "duration": 3,
    "start_time": "2021-11-26T13:35:01.965Z"
   },
   {
    "duration": 4,
    "start_time": "2021-11-26T13:35:03.727Z"
   },
   {
    "duration": 4,
    "start_time": "2021-11-26T13:35:12.436Z"
   },
   {
    "duration": 3,
    "start_time": "2021-11-26T13:35:19.138Z"
   },
   {
    "duration": 4,
    "start_time": "2021-11-26T13:35:20.754Z"
   },
   {
    "duration": 3,
    "start_time": "2021-11-26T13:35:29.873Z"
   },
   {
    "duration": 230,
    "start_time": "2021-11-26T13:35:32.983Z"
   },
   {
    "duration": 71,
    "start_time": "2021-11-26T13:36:45.419Z"
   },
   {
    "duration": 3,
    "start_time": "2021-11-26T13:36:51.331Z"
   },
   {
    "duration": 4,
    "start_time": "2021-11-26T13:36:53.450Z"
   },
   {
    "duration": 3,
    "start_time": "2021-11-26T13:37:33.056Z"
   },
   {
    "duration": 256050,
    "start_time": "2021-11-26T13:38:57.049Z"
   },
   {
    "duration": 3,
    "start_time": "2021-11-26T13:43:27.143Z"
   },
   {
    "duration": 80108,
    "start_time": "2021-11-26T13:43:30.070Z"
   },
   {
    "duration": 3,
    "start_time": "2021-11-26T13:45:10.672Z"
   },
   {
    "duration": 256529,
    "start_time": "2021-11-26T13:45:14.792Z"
   },
   {
    "duration": 40638,
    "start_time": "2021-11-26T13:49:39.957Z"
   },
   {
    "duration": 207404,
    "start_time": "2021-11-26T13:50:34.868Z"
   },
   {
    "duration": 3,
    "start_time": "2021-11-26T13:54:48.971Z"
   },
   {
    "duration": 141952,
    "start_time": "2021-11-26T13:54:51.644Z"
   },
   {
    "duration": 1267,
    "start_time": "2021-11-29T12:27:49.708Z"
   },
   {
    "duration": 1876,
    "start_time": "2021-11-29T12:27:50.977Z"
   },
   {
    "duration": -15,
    "start_time": "2021-11-29T12:27:52.870Z"
   },
   {
    "duration": -22,
    "start_time": "2021-11-29T12:27:52.878Z"
   },
   {
    "duration": -27,
    "start_time": "2021-11-29T12:27:52.884Z"
   },
   {
    "duration": -34,
    "start_time": "2021-11-29T12:27:52.892Z"
   },
   {
    "duration": -39,
    "start_time": "2021-11-29T12:27:52.898Z"
   },
   {
    "duration": -46,
    "start_time": "2021-11-29T12:27:52.906Z"
   },
   {
    "duration": -52,
    "start_time": "2021-11-29T12:27:52.913Z"
   },
   {
    "duration": -57,
    "start_time": "2021-11-29T12:27:52.919Z"
   },
   {
    "duration": -64,
    "start_time": "2021-11-29T12:27:52.927Z"
   },
   {
    "duration": -71,
    "start_time": "2021-11-29T12:27:52.935Z"
   },
   {
    "duration": -77,
    "start_time": "2021-11-29T12:27:52.942Z"
   },
   {
    "duration": -82,
    "start_time": "2021-11-29T12:27:52.948Z"
   },
   {
    "duration": -89,
    "start_time": "2021-11-29T12:27:52.956Z"
   },
   {
    "duration": -106,
    "start_time": "2021-11-29T12:27:52.974Z"
   },
   {
    "duration": -111,
    "start_time": "2021-11-29T12:27:52.980Z"
   },
   {
    "duration": -117,
    "start_time": "2021-11-29T12:27:52.987Z"
   },
   {
    "duration": 6,
    "start_time": "2021-11-29T12:28:34.420Z"
   },
   {
    "duration": 51,
    "start_time": "2021-11-29T12:28:34.427Z"
   },
   {
    "duration": 16,
    "start_time": "2021-11-29T12:28:34.480Z"
   },
   {
    "duration": 20,
    "start_time": "2021-11-29T12:28:34.498Z"
   },
   {
    "duration": 19,
    "start_time": "2021-11-29T12:28:34.520Z"
   },
   {
    "duration": 31,
    "start_time": "2021-11-29T12:28:34.541Z"
   },
   {
    "duration": 10,
    "start_time": "2021-11-29T12:28:34.575Z"
   },
   {
    "duration": 12,
    "start_time": "2021-11-29T12:28:34.588Z"
   },
   {
    "duration": 39,
    "start_time": "2021-11-29T12:28:34.602Z"
   },
   {
    "duration": 32,
    "start_time": "2021-11-29T12:28:34.642Z"
   },
   {
    "duration": 930,
    "start_time": "2021-11-29T12:28:34.675Z"
   },
   {
    "duration": 3,
    "start_time": "2021-11-29T12:28:35.606Z"
   },
   {
    "duration": 12,
    "start_time": "2021-11-29T12:28:35.611Z"
   },
   {
    "duration": 29,
    "start_time": "2021-11-29T12:28:35.625Z"
   },
   {
    "duration": 15,
    "start_time": "2021-11-29T12:28:35.657Z"
   },
   {
    "duration": 13,
    "start_time": "2021-11-29T12:28:35.674Z"
   },
   {
    "duration": 25,
    "start_time": "2021-11-29T12:28:35.688Z"
   },
   {
    "duration": 50,
    "start_time": "2021-11-29T12:28:35.715Z"
   },
   {
    "duration": 258,
    "start_time": "2021-11-29T12:29:44.545Z"
   },
   {
    "duration": 7393,
    "start_time": "2021-11-29T12:31:19.778Z"
   },
   {
    "duration": 266,
    "start_time": "2021-11-29T12:31:39.157Z"
   },
   {
    "duration": 328,
    "start_time": "2021-11-29T12:33:18.573Z"
   },
   {
    "duration": 4528,
    "start_time": "2021-11-29T12:33:59.345Z"
   },
   {
    "duration": 2596,
    "start_time": "2021-11-29T12:34:07.331Z"
   },
   {
    "duration": 289,
    "start_time": "2021-11-29T12:34:15.106Z"
   },
   {
    "duration": 7,
    "start_time": "2021-11-29T12:46:20.158Z"
   },
   {
    "duration": 43,
    "start_time": "2021-11-29T12:46:20.170Z"
   },
   {
    "duration": 13,
    "start_time": "2021-11-29T12:46:20.216Z"
   },
   {
    "duration": 16,
    "start_time": "2021-11-29T12:46:20.231Z"
   },
   {
    "duration": 24,
    "start_time": "2021-11-29T12:46:20.250Z"
   },
   {
    "duration": 23,
    "start_time": "2021-11-29T12:46:20.277Z"
   },
   {
    "duration": 12,
    "start_time": "2021-11-29T12:46:20.302Z"
   },
   {
    "duration": 3,
    "start_time": "2021-11-29T12:46:20.316Z"
   },
   {
    "duration": 57,
    "start_time": "2021-11-29T12:46:20.321Z"
   },
   {
    "duration": 122,
    "start_time": "2021-11-29T12:46:20.380Z"
   },
   {
    "duration": 959,
    "start_time": "2021-11-29T12:46:20.504Z"
   },
   {
    "duration": 3,
    "start_time": "2021-11-29T12:46:21.465Z"
   },
   {
    "duration": 14,
    "start_time": "2021-11-29T12:46:21.470Z"
   },
   {
    "duration": 17,
    "start_time": "2021-11-29T12:46:21.486Z"
   },
   {
    "duration": 4,
    "start_time": "2021-11-29T12:46:21.505Z"
   },
   {
    "duration": 9,
    "start_time": "2021-11-29T12:46:21.511Z"
   },
   {
    "duration": 7,
    "start_time": "2021-11-29T12:46:21.522Z"
   },
   {
    "duration": 60,
    "start_time": "2021-11-29T12:46:21.531Z"
   },
   {
    "duration": 5,
    "start_time": "2021-11-29T12:46:21.593Z"
   },
   {
    "duration": 41,
    "start_time": "2021-11-29T12:46:21.600Z"
   },
   {
    "duration": 236,
    "start_time": "2021-11-29T12:46:21.643Z"
   },
   {
    "duration": 102,
    "start_time": "2021-11-29T12:46:21.882Z"
   },
   {
    "duration": 208,
    "start_time": "2021-11-29T12:46:21.986Z"
   },
   {
    "duration": 76,
    "start_time": "2021-11-29T12:46:22.198Z"
   },
   {
    "duration": 4911,
    "start_time": "2021-11-29T12:46:22.368Z"
   },
   {
    "duration": 94,
    "start_time": "2021-11-29T12:46:27.281Z"
   },
   {
    "duration": 212,
    "start_time": "2021-11-29T12:46:27.377Z"
   },
   {
    "duration": 174,
    "start_time": "2021-11-29T12:46:27.591Z"
   },
   {
    "duration": 5029,
    "start_time": "2021-11-29T12:46:27.767Z"
   },
   {
    "duration": 4,
    "start_time": "2021-11-29T12:46:32.798Z"
   },
   {
    "duration": 24,
    "start_time": "2021-11-29T12:46:32.803Z"
   },
   {
    "duration": 128,
    "start_time": "2021-11-29T12:46:32.829Z"
   },
   {
    "duration": 214,
    "start_time": "2021-11-29T12:46:32.963Z"
   },
   {
    "duration": 87,
    "start_time": "2021-11-29T12:46:33.179Z"
   },
   {
    "duration": 5006,
    "start_time": "2021-11-29T12:46:33.268Z"
   },
   {
    "duration": 91,
    "start_time": "2021-11-29T12:46:38.276Z"
   },
   {
    "duration": 5112,
    "start_time": "2021-11-29T12:46:38.369Z"
   },
   {
    "duration": 5,
    "start_time": "2021-11-29T12:46:43.483Z"
   },
   {
    "duration": 20,
    "start_time": "2021-11-29T12:46:43.489Z"
   },
   {
    "duration": 6,
    "start_time": "2021-11-29T12:46:43.511Z"
   },
   {
    "duration": 81,
    "start_time": "2021-11-29T12:46:43.519Z"
   },
   {
    "duration": 216,
    "start_time": "2021-11-29T12:46:43.601Z"
   },
   {
    "duration": 145,
    "start_time": "2021-11-29T12:46:43.819Z"
   },
   {
    "duration": 5648,
    "start_time": "2021-11-29T12:46:43.967Z"
   },
   {
    "duration": 147,
    "start_time": "2021-11-29T12:46:49.617Z"
   },
   {
    "duration": 5272,
    "start_time": "2021-11-29T12:46:49.767Z"
   },
   {
    "duration": 78,
    "start_time": "2021-11-29T12:48:19.534Z"
   },
   {
    "duration": 252,
    "start_time": "2021-11-29T12:49:48.707Z"
   },
   {
    "duration": 108178,
    "start_time": "2021-11-29T12:50:18.567Z"
   },
   {
    "duration": 10,
    "start_time": "2021-11-29T12:53:32.694Z"
   },
   {
    "duration": 11,
    "start_time": "2021-11-29T12:55:06.004Z"
   },
   {
    "duration": 91,
    "start_time": "2021-11-29T12:59:46.253Z"
   },
   {
    "duration": 252,
    "start_time": "2021-11-29T12:59:53.677Z"
   },
   {
    "duration": 282,
    "start_time": "2021-11-29T13:00:06.081Z"
   },
   {
    "duration": 1466,
    "start_time": "2021-11-29T13:00:24.271Z"
   },
   {
    "duration": 1188,
    "start_time": "2021-11-29T13:00:33.476Z"
   },
   {
    "duration": 1536,
    "start_time": "2021-11-29T13:05:38.251Z"
   },
   {
    "duration": 85,
    "start_time": "2021-11-29T13:05:46.852Z"
   },
   {
    "duration": 1245,
    "start_time": "2021-11-29T13:06:02.153Z"
   },
   {
    "duration": 69,
    "start_time": "2021-11-29T13:06:07.780Z"
   },
   {
    "duration": 6582,
    "start_time": "2021-11-29T13:07:21.833Z"
   },
   {
    "duration": 5,
    "start_time": "2021-11-29T13:07:33.688Z"
   },
   {
    "duration": 10221,
    "start_time": "2021-11-29T13:07:37.003Z"
   },
   {
    "duration": 959,
    "start_time": "2021-11-29T13:10:27.895Z"
   },
   {
    "duration": 70,
    "start_time": "2021-11-29T13:10:38.863Z"
   },
   {
    "duration": 4,
    "start_time": "2021-11-29T13:10:40.036Z"
   },
   {
    "duration": 6362,
    "start_time": "2021-11-29T13:10:40.258Z"
   },
   {
    "duration": 236,
    "start_time": "2021-11-29T13:11:24.289Z"
   },
   {
    "duration": 12,
    "start_time": "2021-11-29T13:11:28.620Z"
   },
   {
    "duration": 205,
    "start_time": "2021-11-29T13:11:43.211Z"
   },
   {
    "duration": 5,
    "start_time": "2021-11-29T13:13:23.451Z"
   },
   {
    "duration": 4,
    "start_time": "2021-11-29T13:13:38.438Z"
   },
   {
    "duration": 3,
    "start_time": "2021-11-29T13:15:14.349Z"
   },
   {
    "duration": 4,
    "start_time": "2021-11-29T13:15:19.035Z"
   },
   {
    "duration": 280,
    "start_time": "2021-11-29T13:15:30.414Z"
   },
   {
    "duration": 397,
    "start_time": "2021-11-29T13:15:50.523Z"
   },
   {
    "duration": 241,
    "start_time": "2021-11-29T13:17:09.128Z"
   },
   {
    "duration": 240,
    "start_time": "2021-11-29T13:18:15.252Z"
   },
   {
    "duration": 4,
    "start_time": "2021-11-29T13:19:30.564Z"
   },
   {
    "duration": 13,
    "start_time": "2021-11-29T13:19:38.522Z"
   },
   {
    "duration": 148,
    "start_time": "2021-11-29T13:19:49.137Z"
   },
   {
    "duration": 217,
    "start_time": "2021-11-29T13:19:58.052Z"
   },
   {
    "duration": 247,
    "start_time": "2021-11-29T13:20:18.323Z"
   },
   {
    "duration": 279,
    "start_time": "2021-11-29T13:20:21.564Z"
   },
   {
    "duration": 336,
    "start_time": "2021-11-29T13:20:30.337Z"
   },
   {
    "duration": 254,
    "start_time": "2021-11-29T13:20:37.272Z"
   },
   {
    "duration": 285,
    "start_time": "2021-11-29T13:20:50.849Z"
   },
   {
    "duration": -116,
    "start_time": "2021-11-29T13:24:36.708Z"
   },
   {
    "duration": 7,
    "start_time": "2021-11-29T13:24:38.102Z"
   },
   {
    "duration": 3,
    "start_time": "2021-11-29T13:25:06.930Z"
   },
   {
    "duration": 258,
    "start_time": "2021-11-29T13:25:26.913Z"
   },
   {
    "duration": 4,
    "start_time": "2021-11-29T13:25:39.720Z"
   },
   {
    "duration": 4,
    "start_time": "2021-11-29T13:25:43.776Z"
   },
   {
    "duration": 4,
    "start_time": "2021-11-29T13:25:51.581Z"
   },
   {
    "duration": 5,
    "start_time": "2021-11-29T13:25:53.934Z"
   },
   {
    "duration": 247,
    "start_time": "2021-11-29T13:25:58.394Z"
   },
   {
    "duration": 373,
    "start_time": "2021-11-29T13:26:09.495Z"
   },
   {
    "duration": 13,
    "start_time": "2021-11-29T13:26:19.826Z"
   },
   {
    "duration": 288,
    "start_time": "2021-11-29T13:26:33.184Z"
   },
   {
    "duration": 321,
    "start_time": "2021-11-29T13:29:03.227Z"
   },
   {
    "duration": 473,
    "start_time": "2021-11-29T13:29:07.425Z"
   },
   {
    "duration": 5,
    "start_time": "2021-11-29T13:29:17.220Z"
   },
   {
    "duration": 742,
    "start_time": "2021-11-29T13:29:18.954Z"
   },
   {
    "duration": 721,
    "start_time": "2021-11-29T13:29:29.276Z"
   },
   {
    "duration": 14,
    "start_time": "2021-11-29T13:30:08.604Z"
   },
   {
    "duration": 5,
    "start_time": "2021-11-29T13:30:42.631Z"
   },
   {
    "duration": 6,
    "start_time": "2021-11-29T13:30:49.163Z"
   },
   {
    "duration": 299,
    "start_time": "2021-11-29T13:31:28.959Z"
   },
   {
    "duration": 226,
    "start_time": "2021-11-29T13:31:43.373Z"
   },
   {
    "duration": 302,
    "start_time": "2021-11-29T13:32:07.295Z"
   },
   {
    "duration": 225,
    "start_time": "2021-11-29T13:32:34.359Z"
   },
   {
    "duration": 216,
    "start_time": "2021-11-29T13:32:47.999Z"
   },
   {
    "duration": 278,
    "start_time": "2021-11-29T13:32:57.080Z"
   },
   {
    "duration": 423,
    "start_time": "2021-11-29T13:32:58.975Z"
   },
   {
    "duration": 317,
    "start_time": "2021-11-29T13:33:11.967Z"
   },
   {
    "duration": 237,
    "start_time": "2021-11-29T13:33:34.218Z"
   },
   {
    "duration": 266,
    "start_time": "2021-11-29T13:33:40.844Z"
   },
   {
    "duration": 256,
    "start_time": "2021-11-29T13:33:44.854Z"
   },
   {
    "duration": 228,
    "start_time": "2021-11-29T13:33:49.069Z"
   },
   {
    "duration": 110,
    "start_time": "2021-11-29T13:34:58.751Z"
   },
   {
    "duration": 269,
    "start_time": "2021-11-29T13:35:01.764Z"
   },
   {
    "duration": 258,
    "start_time": "2021-11-29T13:37:24.745Z"
   },
   {
    "duration": 257,
    "start_time": "2021-11-29T13:37:34.606Z"
   },
   {
    "duration": 369,
    "start_time": "2021-11-29T13:39:10.489Z"
   },
   {
    "duration": 245,
    "start_time": "2021-11-29T13:40:09.463Z"
   },
   {
    "duration": 12,
    "start_time": "2021-11-29T13:40:17.618Z"
   },
   {
    "duration": 282,
    "start_time": "2021-11-29T13:40:45.173Z"
   },
   {
    "duration": 943,
    "start_time": "2021-11-29T14:17:10.622Z"
   },
   {
    "duration": 1068,
    "start_time": "2021-11-29T18:18:40.694Z"
   },
   {
    "duration": 28,
    "start_time": "2021-11-29T18:18:41.764Z"
   },
   {
    "duration": 12,
    "start_time": "2021-11-29T18:18:41.794Z"
   },
   {
    "duration": 9,
    "start_time": "2021-11-29T18:18:41.808Z"
   },
   {
    "duration": 11,
    "start_time": "2021-11-29T18:18:41.818Z"
   },
   {
    "duration": 10,
    "start_time": "2021-11-29T18:18:41.830Z"
   },
   {
    "duration": 12,
    "start_time": "2021-11-29T18:18:41.842Z"
   },
   {
    "duration": 2,
    "start_time": "2021-11-29T18:18:41.856Z"
   },
   {
    "duration": 48,
    "start_time": "2021-11-29T18:18:41.860Z"
   },
   {
    "duration": 18,
    "start_time": "2021-11-29T18:18:41.910Z"
   },
   {
    "duration": 817,
    "start_time": "2021-11-29T18:18:41.929Z"
   },
   {
    "duration": 3,
    "start_time": "2021-11-29T18:18:42.748Z"
   },
   {
    "duration": 13,
    "start_time": "2021-11-29T18:18:42.753Z"
   },
   {
    "duration": 4,
    "start_time": "2021-11-29T18:18:42.767Z"
   },
   {
    "duration": 20,
    "start_time": "2021-11-29T18:18:42.772Z"
   },
   {
    "duration": 4,
    "start_time": "2021-11-29T18:18:42.793Z"
   },
   {
    "duration": 26,
    "start_time": "2021-11-29T18:18:42.799Z"
   },
   {
    "duration": 4,
    "start_time": "2021-11-29T18:18:42.827Z"
   },
   {
    "duration": 56,
    "start_time": "2021-11-29T18:18:42.833Z"
   },
   {
    "duration": 177,
    "start_time": "2021-11-29T18:18:42.891Z"
   },
   {
    "duration": 85,
    "start_time": "2021-11-29T18:18:43.070Z"
   },
   {
    "duration": 181,
    "start_time": "2021-11-29T18:18:43.157Z"
   },
   {
    "duration": 52,
    "start_time": "2021-11-29T18:18:43.342Z"
   },
   {
    "duration": 4479,
    "start_time": "2021-11-29T18:18:43.487Z"
   },
   {
    "duration": 80,
    "start_time": "2021-11-29T18:18:47.968Z"
   },
   {
    "duration": 173,
    "start_time": "2021-11-29T18:18:48.050Z"
   },
   {
    "duration": 163,
    "start_time": "2021-11-29T18:18:48.225Z"
   },
   {
    "duration": 4259,
    "start_time": "2021-11-29T18:18:48.391Z"
   },
   {
    "duration": 4,
    "start_time": "2021-11-29T18:18:52.652Z"
   },
   {
    "duration": 17,
    "start_time": "2021-11-29T18:18:52.658Z"
   },
   {
    "duration": 107,
    "start_time": "2021-11-29T18:18:52.688Z"
   },
   {
    "duration": 177,
    "start_time": "2021-11-29T18:18:52.797Z"
   },
   {
    "duration": 115,
    "start_time": "2021-11-29T18:18:52.976Z"
   },
   {
    "duration": 4476,
    "start_time": "2021-11-29T18:18:53.093Z"
   },
   {
    "duration": 37,
    "start_time": "2021-11-29T18:18:57.571Z"
   },
   {
    "duration": 4952,
    "start_time": "2021-11-29T18:18:57.610Z"
   },
   {
    "duration": 3,
    "start_time": "2021-11-29T18:19:02.564Z"
   },
   {
    "duration": 21,
    "start_time": "2021-11-29T18:19:02.569Z"
   },
   {
    "duration": 5,
    "start_time": "2021-11-29T18:19:02.592Z"
   },
   {
    "duration": 46,
    "start_time": "2021-11-29T18:19:02.598Z"
   },
   {
    "duration": 193,
    "start_time": "2021-11-29T18:19:02.646Z"
   },
   {
    "duration": 53,
    "start_time": "2021-11-29T18:19:02.841Z"
   },
   {
    "duration": 4327,
    "start_time": "2021-11-29T18:19:02.896Z"
   },
   {
    "duration": 72,
    "start_time": "2021-11-29T18:19:07.225Z"
   },
   {
    "duration": 4177,
    "start_time": "2021-11-29T18:19:07.388Z"
   },
   {
    "duration": 91946,
    "start_time": "2021-11-29T18:19:11.566Z"
   },
   {
    "duration": 8,
    "start_time": "2021-11-29T18:20:43.514Z"
   },
   {
    "duration": 819,
    "start_time": "2021-11-29T18:20:43.524Z"
   },
   {
    "duration": 67,
    "start_time": "2021-11-29T18:20:44.344Z"
   },
   {
    "duration": 3,
    "start_time": "2021-11-29T18:20:44.412Z"
   },
   {
    "duration": 5608,
    "start_time": "2021-11-29T18:20:44.417Z"
   },
   {
    "duration": 9,
    "start_time": "2021-11-29T18:20:50.027Z"
   },
   {
    "duration": 11,
    "start_time": "2021-11-29T18:20:50.038Z"
   },
   {
    "duration": 210,
    "start_time": "2021-11-29T18:20:50.051Z"
   },
   {
    "duration": 4,
    "start_time": "2021-12-08T17:47:13.241Z"
   }
  ],
  "hide_input": false,
  "kernelspec": {
   "display_name": "Python 3 (ipykernel)",
   "language": "python",
   "name": "python3"
  },
  "language_info": {
   "codemirror_mode": {
    "name": "ipython",
    "version": 3
   },
   "file_extension": ".py",
   "mimetype": "text/x-python",
   "name": "python",
   "nbconvert_exporter": "python",
   "pygments_lexer": "ipython3",
   "version": "3.9.7"
  },
  "toc": {
   "base_numbering": 1,
   "nav_menu": {},
   "number_sections": true,
   "sideBar": true,
   "skip_h1_title": true,
   "title_cell": "Содержание",
   "title_sidebar": "Contents",
   "toc_cell": true,
   "toc_position": {},
   "toc_section_display": true,
   "toc_window_display": false
  },
  "varInspector": {
   "cols": {
    "lenName": 16,
    "lenType": 16,
    "lenVar": 40
   },
   "kernels_config": {
    "python": {
     "delete_cmd_postfix": "",
     "delete_cmd_prefix": "del ",
     "library": "var_list.py",
     "varRefreshCmd": "print(var_dic_list())"
    },
    "r": {
     "delete_cmd_postfix": ") ",
     "delete_cmd_prefix": "rm(",
     "library": "var_list.r",
     "varRefreshCmd": "cat(var_dic_list()) "
    }
   },
   "types_to_exclude": [
    "module",
    "function",
    "builtin_function_or_method",
    "instance",
    "_Feature"
   ],
   "window_display": false
  }
 },
 "nbformat": 4,
 "nbformat_minor": 2
}
