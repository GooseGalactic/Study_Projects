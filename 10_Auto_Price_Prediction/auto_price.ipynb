{
 "cells": [
  {
   "cell_type": "markdown",
   "metadata": {
    "id": "9YqXIF39hJFB"
   },
   "source": [
    "## Описание проекта:"
   ]
  },
  {
   "cell_type": "markdown",
   "metadata": {
    "id": "L5l5YXWTiUFs"
   },
   "source": [
    "**Описание данных:**   \n",
    "**Признаки:**\n",
    "* DateCrawled — дата скачивания анкеты из базы\n",
    "* VehicleType — тип автомобильного кузова\n",
    "* RegistrationYear — год регистрации автомобиля\n",
    "* Gearbox — тип коробки передач\n",
    "* Power — мощность (л. с.)\n",
    "* Model — модель автомобиля\n",
    "* Kilometer — пробег (км)\n",
    "* RegistrationMonth — месяц регистрации автомобиля\n",
    "* FuelType — тип топлива\n",
    "* Brand — марка автомобиля\n",
    "* NotRepaired — была машина в ремонте или нет\n",
    "* DateCreated — дата создания анкеты\n",
    "* NumberOfPictures — количество фотографий автомобиля\n",
    "* PostalCode — почтовый индекс владельца анкеты (пользователя)\n",
    "* LastSeen — дата последней активности пользователя   \n",
    "\n",
    "**Целевой признак:**\n",
    "* Price — цена (евро)"
   ]
  },
  {
   "cell_type": "markdown",
   "metadata": {},
   "source": [
    "Заказчику важны:   \n",
    "* качество предсказания;\n",
    "* скорость предсказания;\n",
    "* время обучения."
   ]
  },
  {
   "cell_type": "markdown",
   "metadata": {
    "id": "8Ose-ORMhke6"
   },
   "source": [
    "## Импорт библиотек:"
   ]
  },
  {
   "cell_type": "code",
   "execution_count": 1,
   "metadata": {
    "ExecuteTime": {
     "end_time": "2022-02-09T17:41:07.184961Z",
     "start_time": "2022-02-09T17:41:04.743543Z"
    },
    "colab": {
     "base_uri": "https://localhost:8080/"
    },
    "id": "TRbMnZ8lhniZ",
    "outputId": "3fd86004-7dae-4ef6-bc16-0e05e7057609"
   },
   "outputs": [
    {
     "name": "stdout",
     "output_type": "stream",
     "text": [
      "catboost version: 0.26.1\n",
      "xgboost version: 1.5.2\n",
      "lightgbm version: 3.2.1\n"
     ]
    }
   ],
   "source": [
    "import pandas as pd\n",
    "import numpy as np\n",
    "import matplotlib.pyplot as plt\n",
    "import seaborn as sns\n",
    "\n",
    "from sklearn.pipeline import Pipeline\n",
    "from sklearn.preprocessing import OneHotEncoder, MinMaxScaler, OrdinalEncoder\n",
    "from sklearn.compose import ColumnTransformer\n",
    "from sklearn.model_selection import train_test_split, KFold, cross_val_score\n",
    "from sklearn.linear_model import LinearRegression, Ridge\n",
    "from sklearn.svm import LinearSVR\n",
    "from sklearn.tree import DecisionTreeRegressor\n",
    "from sklearn.ensemble import RandomForestRegressor\n",
    "from sklearn.metrics import mean_squared_error\n",
    "\n",
    "import time\n",
    "\n",
    "import catboost as ctb\n",
    "print('catboost version:', ctb.__version__)\n",
    "import xgboost as xgb\n",
    "print('xgboost version:', xgb.__version__)\n",
    "import lightgbm as lgb\n",
    "print('lightgbm version:', lgb.__version__)"
   ]
  },
  {
   "cell_type": "code",
   "execution_count": 2,
   "metadata": {
    "ExecuteTime": {
     "end_time": "2022-02-09T17:41:07.200919Z",
     "start_time": "2022-02-09T17:41:07.186956Z"
    },
    "id": "XMEBqVr01v_j"
   },
   "outputs": [],
   "source": [
    "import warnings\n",
    "warnings.filterwarnings(action='ignore')"
   ]
  },
  {
   "cell_type": "markdown",
   "metadata": {
    "id": "fmGRZ05Zhvlj"
   },
   "source": [
    "## Подготовка данных"
   ]
  },
  {
   "cell_type": "markdown",
   "metadata": {
    "id": "r7CssDfewW0g"
   },
   "source": [
    "### Предобработка данных"
   ]
  },
  {
   "cell_type": "markdown",
   "metadata": {
    "id": "cNM8UzIZj2bD"
   },
   "source": [
    "Изучим данные:"
   ]
  },
  {
   "cell_type": "code",
   "execution_count": 3,
   "metadata": {
    "ExecuteTime": {
     "end_time": "2022-02-09T17:41:08.009755Z",
     "start_time": "2022-02-09T17:41:07.202914Z"
    },
    "id": "b3vwh0tWhyuh"
   },
   "outputs": [],
   "source": [
    "data = pd.read_csv('autos.csv')\n",
    "df = data.copy()"
   ]
  },
  {
   "cell_type": "code",
   "execution_count": 4,
   "metadata": {
    "ExecuteTime": {
     "end_time": "2022-02-09T17:41:08.056222Z",
     "start_time": "2022-02-09T17:41:08.011750Z"
    },
    "colab": {
     "base_uri": "https://localhost:8080/"
    },
    "id": "tgD9SXS7Lsdm",
    "outputId": "e1047ddd-a94d-4948-d85f-4b2802482619"
   },
   "outputs": [
    {
     "data": {
      "text/plain": [
       "'2016-04-07 14:58:51'"
      ]
     },
     "execution_count": 4,
     "metadata": {},
     "output_type": "execute_result"
    }
   ],
   "source": [
    "data['LastSeen'].max()"
   ]
  },
  {
   "cell_type": "code",
   "execution_count": 5,
   "metadata": {
    "ExecuteTime": {
     "end_time": "2022-02-09T17:41:08.089101Z",
     "start_time": "2022-02-09T17:41:08.058185Z"
    },
    "colab": {
     "base_uri": "https://localhost:8080/",
     "height": 206
    },
    "id": "jf-9NenuiF6T",
    "outputId": "3f85d28c-c959-4924-8d21-e3ec312c6a09"
   },
   "outputs": [
    {
     "data": {
      "text/html": [
       "<div>\n",
       "<style scoped>\n",
       "    .dataframe tbody tr th:only-of-type {\n",
       "        vertical-align: middle;\n",
       "    }\n",
       "\n",
       "    .dataframe tbody tr th {\n",
       "        vertical-align: top;\n",
       "    }\n",
       "\n",
       "    .dataframe thead th {\n",
       "        text-align: right;\n",
       "    }\n",
       "</style>\n",
       "<table border=\"1\" class=\"dataframe\">\n",
       "  <thead>\n",
       "    <tr style=\"text-align: right;\">\n",
       "      <th></th>\n",
       "      <th>DateCrawled</th>\n",
       "      <th>Price</th>\n",
       "      <th>VehicleType</th>\n",
       "      <th>RegistrationYear</th>\n",
       "      <th>Gearbox</th>\n",
       "      <th>Power</th>\n",
       "      <th>Model</th>\n",
       "      <th>Kilometer</th>\n",
       "      <th>RegistrationMonth</th>\n",
       "      <th>FuelType</th>\n",
       "      <th>Brand</th>\n",
       "      <th>NotRepaired</th>\n",
       "      <th>DateCreated</th>\n",
       "      <th>NumberOfPictures</th>\n",
       "      <th>PostalCode</th>\n",
       "      <th>LastSeen</th>\n",
       "    </tr>\n",
       "  </thead>\n",
       "  <tbody>\n",
       "    <tr>\n",
       "      <th>0</th>\n",
       "      <td>2016-03-24 11:52:17</td>\n",
       "      <td>480</td>\n",
       "      <td>NaN</td>\n",
       "      <td>1993</td>\n",
       "      <td>manual</td>\n",
       "      <td>0</td>\n",
       "      <td>golf</td>\n",
       "      <td>150000</td>\n",
       "      <td>0</td>\n",
       "      <td>petrol</td>\n",
       "      <td>volkswagen</td>\n",
       "      <td>NaN</td>\n",
       "      <td>2016-03-24 00:00:00</td>\n",
       "      <td>0</td>\n",
       "      <td>70435</td>\n",
       "      <td>2016-04-07 03:16:57</td>\n",
       "    </tr>\n",
       "    <tr>\n",
       "      <th>1</th>\n",
       "      <td>2016-03-24 10:58:45</td>\n",
       "      <td>18300</td>\n",
       "      <td>coupe</td>\n",
       "      <td>2011</td>\n",
       "      <td>manual</td>\n",
       "      <td>190</td>\n",
       "      <td>NaN</td>\n",
       "      <td>125000</td>\n",
       "      <td>5</td>\n",
       "      <td>gasoline</td>\n",
       "      <td>audi</td>\n",
       "      <td>yes</td>\n",
       "      <td>2016-03-24 00:00:00</td>\n",
       "      <td>0</td>\n",
       "      <td>66954</td>\n",
       "      <td>2016-04-07 01:46:50</td>\n",
       "    </tr>\n",
       "    <tr>\n",
       "      <th>2</th>\n",
       "      <td>2016-03-14 12:52:21</td>\n",
       "      <td>9800</td>\n",
       "      <td>suv</td>\n",
       "      <td>2004</td>\n",
       "      <td>auto</td>\n",
       "      <td>163</td>\n",
       "      <td>grand</td>\n",
       "      <td>125000</td>\n",
       "      <td>8</td>\n",
       "      <td>gasoline</td>\n",
       "      <td>jeep</td>\n",
       "      <td>NaN</td>\n",
       "      <td>2016-03-14 00:00:00</td>\n",
       "      <td>0</td>\n",
       "      <td>90480</td>\n",
       "      <td>2016-04-05 12:47:46</td>\n",
       "    </tr>\n",
       "    <tr>\n",
       "      <th>3</th>\n",
       "      <td>2016-03-17 16:54:04</td>\n",
       "      <td>1500</td>\n",
       "      <td>small</td>\n",
       "      <td>2001</td>\n",
       "      <td>manual</td>\n",
       "      <td>75</td>\n",
       "      <td>golf</td>\n",
       "      <td>150000</td>\n",
       "      <td>6</td>\n",
       "      <td>petrol</td>\n",
       "      <td>volkswagen</td>\n",
       "      <td>no</td>\n",
       "      <td>2016-03-17 00:00:00</td>\n",
       "      <td>0</td>\n",
       "      <td>91074</td>\n",
       "      <td>2016-03-17 17:40:17</td>\n",
       "    </tr>\n",
       "    <tr>\n",
       "      <th>4</th>\n",
       "      <td>2016-03-31 17:25:20</td>\n",
       "      <td>3600</td>\n",
       "      <td>small</td>\n",
       "      <td>2008</td>\n",
       "      <td>manual</td>\n",
       "      <td>69</td>\n",
       "      <td>fabia</td>\n",
       "      <td>90000</td>\n",
       "      <td>7</td>\n",
       "      <td>gasoline</td>\n",
       "      <td>skoda</td>\n",
       "      <td>no</td>\n",
       "      <td>2016-03-31 00:00:00</td>\n",
       "      <td>0</td>\n",
       "      <td>60437</td>\n",
       "      <td>2016-04-06 10:17:21</td>\n",
       "    </tr>\n",
       "  </tbody>\n",
       "</table>\n",
       "</div>"
      ],
      "text/plain": [
       "           DateCrawled  Price VehicleType  RegistrationYear Gearbox  Power  \\\n",
       "0  2016-03-24 11:52:17    480         NaN              1993  manual      0   \n",
       "1  2016-03-24 10:58:45  18300       coupe              2011  manual    190   \n",
       "2  2016-03-14 12:52:21   9800         suv              2004    auto    163   \n",
       "3  2016-03-17 16:54:04   1500       small              2001  manual     75   \n",
       "4  2016-03-31 17:25:20   3600       small              2008  manual     69   \n",
       "\n",
       "   Model  Kilometer  RegistrationMonth  FuelType       Brand NotRepaired  \\\n",
       "0   golf     150000                  0    petrol  volkswagen         NaN   \n",
       "1    NaN     125000                  5  gasoline        audi         yes   \n",
       "2  grand     125000                  8  gasoline        jeep         NaN   \n",
       "3   golf     150000                  6    petrol  volkswagen          no   \n",
       "4  fabia      90000                  7  gasoline       skoda          no   \n",
       "\n",
       "           DateCreated  NumberOfPictures  PostalCode             LastSeen  \n",
       "0  2016-03-24 00:00:00                 0       70435  2016-04-07 03:16:57  \n",
       "1  2016-03-24 00:00:00                 0       66954  2016-04-07 01:46:50  \n",
       "2  2016-03-14 00:00:00                 0       90480  2016-04-05 12:47:46  \n",
       "3  2016-03-17 00:00:00                 0       91074  2016-03-17 17:40:17  \n",
       "4  2016-03-31 00:00:00                 0       60437  2016-04-06 10:17:21  "
      ]
     },
     "execution_count": 5,
     "metadata": {},
     "output_type": "execute_result"
    }
   ],
   "source": [
    "df.head()"
   ]
  },
  {
   "cell_type": "code",
   "execution_count": 6,
   "metadata": {
    "ExecuteTime": {
     "end_time": "2022-02-09T17:41:08.119022Z",
     "start_time": "2022-02-09T17:41:08.091097Z"
    },
    "id": "uqSVcvCmlUYT"
   },
   "outputs": [],
   "source": [
    "df = df.drop(['DateCrawled', 'DateCreated', 'PostalCode', 'LastSeen'], axis=1) #дропаем лишние признаки"
   ]
  },
  {
   "cell_type": "code",
   "execution_count": 7,
   "metadata": {
    "ExecuteTime": {
     "end_time": "2022-02-09T17:41:08.241693Z",
     "start_time": "2022-02-09T17:41:08.121016Z"
    },
    "colab": {
     "base_uri": "https://localhost:8080/"
    },
    "id": "RLSu8OxZiHOZ",
    "outputId": "36e130b3-60a0-4bd4-b708-4e7b60b41d07"
   },
   "outputs": [
    {
     "name": "stdout",
     "output_type": "stream",
     "text": [
      "<class 'pandas.core.frame.DataFrame'>\n",
      "RangeIndex: 354369 entries, 0 to 354368\n",
      "Data columns (total 12 columns):\n",
      " #   Column             Non-Null Count   Dtype \n",
      "---  ------             --------------   ----- \n",
      " 0   Price              354369 non-null  int64 \n",
      " 1   VehicleType        316879 non-null  object\n",
      " 2   RegistrationYear   354369 non-null  int64 \n",
      " 3   Gearbox            334536 non-null  object\n",
      " 4   Power              354369 non-null  int64 \n",
      " 5   Model              334664 non-null  object\n",
      " 6   Kilometer          354369 non-null  int64 \n",
      " 7   RegistrationMonth  354369 non-null  int64 \n",
      " 8   FuelType           321474 non-null  object\n",
      " 9   Brand              354369 non-null  object\n",
      " 10  NotRepaired        283215 non-null  object\n",
      " 11  NumberOfPictures   354369 non-null  int64 \n",
      "dtypes: int64(6), object(6)\n",
      "memory usage: 32.4+ MB\n"
     ]
    }
   ],
   "source": [
    "df.info()"
   ]
  },
  {
   "cell_type": "code",
   "execution_count": 8,
   "metadata": {
    "ExecuteTime": {
     "end_time": "2022-02-09T17:41:08.368953Z",
     "start_time": "2022-02-09T17:41:08.244685Z"
    },
    "colab": {
     "base_uri": "https://localhost:8080/"
    },
    "id": "ZS6zLGcriwLS",
    "outputId": "87041189-8a91-466c-d9fe-afeee19dfef3"
   },
   "outputs": [
    {
     "data": {
      "text/plain": [
       "Price                 0.00\n",
       "VehicleType          10.58\n",
       "RegistrationYear      0.00\n",
       "Gearbox               5.60\n",
       "Power                 0.00\n",
       "Model                 5.56\n",
       "Kilometer             0.00\n",
       "RegistrationMonth     0.00\n",
       "FuelType              9.28\n",
       "Brand                 0.00\n",
       "NotRepaired          20.08\n",
       "NumberOfPictures      0.00\n",
       "dtype: float64"
      ]
     },
     "execution_count": 8,
     "metadata": {},
     "output_type": "execute_result"
    }
   ],
   "source": [
    "(df.isna().sum() / df.shape[0] * 100).round(2) #Процент пропущенных значений по признакам до второго знака"
   ]
  },
  {
   "cell_type": "code",
   "execution_count": 9,
   "metadata": {
    "ExecuteTime": {
     "end_time": "2022-02-09T17:41:08.462703Z",
     "start_time": "2022-02-09T17:41:08.369951Z"
    },
    "colab": {
     "base_uri": "https://localhost:8080/",
     "height": 300
    },
    "id": "hIcc7873i6dJ",
    "outputId": "13f6fa03-72bb-480a-ba23-f90466c9835f"
   },
   "outputs": [
    {
     "data": {
      "text/html": [
       "<div>\n",
       "<style scoped>\n",
       "    .dataframe tbody tr th:only-of-type {\n",
       "        vertical-align: middle;\n",
       "    }\n",
       "\n",
       "    .dataframe tbody tr th {\n",
       "        vertical-align: top;\n",
       "    }\n",
       "\n",
       "    .dataframe thead th {\n",
       "        text-align: right;\n",
       "    }\n",
       "</style>\n",
       "<table border=\"1\" class=\"dataframe\">\n",
       "  <thead>\n",
       "    <tr style=\"text-align: right;\">\n",
       "      <th></th>\n",
       "      <th>Price</th>\n",
       "      <th>RegistrationYear</th>\n",
       "      <th>Power</th>\n",
       "      <th>Kilometer</th>\n",
       "      <th>RegistrationMonth</th>\n",
       "      <th>NumberOfPictures</th>\n",
       "    </tr>\n",
       "  </thead>\n",
       "  <tbody>\n",
       "    <tr>\n",
       "      <th>count</th>\n",
       "      <td>354369.000000</td>\n",
       "      <td>354369.000000</td>\n",
       "      <td>354369.000000</td>\n",
       "      <td>354369.000000</td>\n",
       "      <td>354369.000000</td>\n",
       "      <td>354369.0</td>\n",
       "    </tr>\n",
       "    <tr>\n",
       "      <th>mean</th>\n",
       "      <td>4416.656776</td>\n",
       "      <td>2004.234448</td>\n",
       "      <td>110.094337</td>\n",
       "      <td>128211.172535</td>\n",
       "      <td>5.714645</td>\n",
       "      <td>0.0</td>\n",
       "    </tr>\n",
       "    <tr>\n",
       "      <th>std</th>\n",
       "      <td>4514.158514</td>\n",
       "      <td>90.227958</td>\n",
       "      <td>189.850405</td>\n",
       "      <td>37905.341530</td>\n",
       "      <td>3.726421</td>\n",
       "      <td>0.0</td>\n",
       "    </tr>\n",
       "    <tr>\n",
       "      <th>min</th>\n",
       "      <td>0.000000</td>\n",
       "      <td>1000.000000</td>\n",
       "      <td>0.000000</td>\n",
       "      <td>5000.000000</td>\n",
       "      <td>0.000000</td>\n",
       "      <td>0.0</td>\n",
       "    </tr>\n",
       "    <tr>\n",
       "      <th>25%</th>\n",
       "      <td>1050.000000</td>\n",
       "      <td>1999.000000</td>\n",
       "      <td>69.000000</td>\n",
       "      <td>125000.000000</td>\n",
       "      <td>3.000000</td>\n",
       "      <td>0.0</td>\n",
       "    </tr>\n",
       "    <tr>\n",
       "      <th>50%</th>\n",
       "      <td>2700.000000</td>\n",
       "      <td>2003.000000</td>\n",
       "      <td>105.000000</td>\n",
       "      <td>150000.000000</td>\n",
       "      <td>6.000000</td>\n",
       "      <td>0.0</td>\n",
       "    </tr>\n",
       "    <tr>\n",
       "      <th>75%</th>\n",
       "      <td>6400.000000</td>\n",
       "      <td>2008.000000</td>\n",
       "      <td>143.000000</td>\n",
       "      <td>150000.000000</td>\n",
       "      <td>9.000000</td>\n",
       "      <td>0.0</td>\n",
       "    </tr>\n",
       "    <tr>\n",
       "      <th>max</th>\n",
       "      <td>20000.000000</td>\n",
       "      <td>9999.000000</td>\n",
       "      <td>20000.000000</td>\n",
       "      <td>150000.000000</td>\n",
       "      <td>12.000000</td>\n",
       "      <td>0.0</td>\n",
       "    </tr>\n",
       "  </tbody>\n",
       "</table>\n",
       "</div>"
      ],
      "text/plain": [
       "               Price  RegistrationYear          Power      Kilometer  \\\n",
       "count  354369.000000     354369.000000  354369.000000  354369.000000   \n",
       "mean     4416.656776       2004.234448     110.094337  128211.172535   \n",
       "std      4514.158514         90.227958     189.850405   37905.341530   \n",
       "min         0.000000       1000.000000       0.000000    5000.000000   \n",
       "25%      1050.000000       1999.000000      69.000000  125000.000000   \n",
       "50%      2700.000000       2003.000000     105.000000  150000.000000   \n",
       "75%      6400.000000       2008.000000     143.000000  150000.000000   \n",
       "max     20000.000000       9999.000000   20000.000000  150000.000000   \n",
       "\n",
       "       RegistrationMonth  NumberOfPictures  \n",
       "count      354369.000000          354369.0  \n",
       "mean            5.714645               0.0  \n",
       "std             3.726421               0.0  \n",
       "min             0.000000               0.0  \n",
       "25%             3.000000               0.0  \n",
       "50%             6.000000               0.0  \n",
       "75%             9.000000               0.0  \n",
       "max            12.000000               0.0  "
      ]
     },
     "execution_count": 9,
     "metadata": {},
     "output_type": "execute_result"
    }
   ],
   "source": [
    "df.describe()"
   ]
  },
  {
   "cell_type": "code",
   "execution_count": 10,
   "metadata": {
    "ExecuteTime": {
     "end_time": "2022-02-09T17:41:08.711038Z",
     "start_time": "2022-02-09T17:41:08.465695Z"
    },
    "colab": {
     "base_uri": "https://localhost:8080/",
     "height": 175
    },
    "id": "3w7s-47gl1D4",
    "outputId": "3328629f-d7cf-424d-e4ab-9369d3cfb4a7"
   },
   "outputs": [
    {
     "data": {
      "text/html": [
       "<div>\n",
       "<style scoped>\n",
       "    .dataframe tbody tr th:only-of-type {\n",
       "        vertical-align: middle;\n",
       "    }\n",
       "\n",
       "    .dataframe tbody tr th {\n",
       "        vertical-align: top;\n",
       "    }\n",
       "\n",
       "    .dataframe thead th {\n",
       "        text-align: right;\n",
       "    }\n",
       "</style>\n",
       "<table border=\"1\" class=\"dataframe\">\n",
       "  <thead>\n",
       "    <tr style=\"text-align: right;\">\n",
       "      <th></th>\n",
       "      <th>VehicleType</th>\n",
       "      <th>Gearbox</th>\n",
       "      <th>Model</th>\n",
       "      <th>FuelType</th>\n",
       "      <th>Brand</th>\n",
       "      <th>NotRepaired</th>\n",
       "    </tr>\n",
       "  </thead>\n",
       "  <tbody>\n",
       "    <tr>\n",
       "      <th>count</th>\n",
       "      <td>316879</td>\n",
       "      <td>334536</td>\n",
       "      <td>334664</td>\n",
       "      <td>321474</td>\n",
       "      <td>354369</td>\n",
       "      <td>283215</td>\n",
       "    </tr>\n",
       "    <tr>\n",
       "      <th>unique</th>\n",
       "      <td>8</td>\n",
       "      <td>2</td>\n",
       "      <td>250</td>\n",
       "      <td>7</td>\n",
       "      <td>40</td>\n",
       "      <td>2</td>\n",
       "    </tr>\n",
       "    <tr>\n",
       "      <th>top</th>\n",
       "      <td>sedan</td>\n",
       "      <td>manual</td>\n",
       "      <td>golf</td>\n",
       "      <td>petrol</td>\n",
       "      <td>volkswagen</td>\n",
       "      <td>no</td>\n",
       "    </tr>\n",
       "    <tr>\n",
       "      <th>freq</th>\n",
       "      <td>91457</td>\n",
       "      <td>268251</td>\n",
       "      <td>29232</td>\n",
       "      <td>216352</td>\n",
       "      <td>77013</td>\n",
       "      <td>247161</td>\n",
       "    </tr>\n",
       "  </tbody>\n",
       "</table>\n",
       "</div>"
      ],
      "text/plain": [
       "       VehicleType Gearbox   Model FuelType       Brand NotRepaired\n",
       "count       316879  334536  334664   321474      354369      283215\n",
       "unique           8       2     250        7          40           2\n",
       "top          sedan  manual    golf   petrol  volkswagen          no\n",
       "freq         91457  268251   29232   216352       77013      247161"
      ]
     },
     "execution_count": 10,
     "metadata": {},
     "output_type": "execute_result"
    }
   ],
   "source": [
    "df.describe(include='object')"
   ]
  },
  {
   "cell_type": "code",
   "execution_count": 11,
   "metadata": {
    "ExecuteTime": {
     "end_time": "2022-02-09T17:41:08.929480Z",
     "start_time": "2022-02-09T17:41:08.713034Z"
    },
    "colab": {
     "base_uri": "https://localhost:8080/"
    },
    "id": "yB6emsdBjymJ",
    "outputId": "1dafd3a0-ef4c-4ada-e2ec-21bf58fe7441"
   },
   "outputs": [
    {
     "data": {
      "text/plain": [
       "27543"
      ]
     },
     "execution_count": 11,
     "metadata": {},
     "output_type": "execute_result"
    }
   ],
   "source": [
    "df.duplicated().sum() #количество дубликатов"
   ]
  },
  {
   "cell_type": "code",
   "execution_count": 12,
   "metadata": {
    "ExecuteTime": {
     "end_time": "2022-02-09T17:41:09.199548Z",
     "start_time": "2022-02-09T17:41:08.931476Z"
    },
    "colab": {
     "base_uri": "https://localhost:8080/",
     "height": 424
    },
    "id": "qadY173OmuSq",
    "outputId": "a22a6ddd-9377-4d7f-e5d6-d2ed9fd47d7d"
   },
   "outputs": [
    {
     "data": {
      "text/html": [
       "<div>\n",
       "<style scoped>\n",
       "    .dataframe tbody tr th:only-of-type {\n",
       "        vertical-align: middle;\n",
       "    }\n",
       "\n",
       "    .dataframe tbody tr th {\n",
       "        vertical-align: top;\n",
       "    }\n",
       "\n",
       "    .dataframe thead th {\n",
       "        text-align: right;\n",
       "    }\n",
       "</style>\n",
       "<table border=\"1\" class=\"dataframe\">\n",
       "  <thead>\n",
       "    <tr style=\"text-align: right;\">\n",
       "      <th></th>\n",
       "      <th>Price</th>\n",
       "      <th>VehicleType</th>\n",
       "      <th>RegistrationYear</th>\n",
       "      <th>Gearbox</th>\n",
       "      <th>Power</th>\n",
       "      <th>Model</th>\n",
       "      <th>Kilometer</th>\n",
       "      <th>RegistrationMonth</th>\n",
       "      <th>FuelType</th>\n",
       "      <th>Brand</th>\n",
       "      <th>NotRepaired</th>\n",
       "      <th>NumberOfPictures</th>\n",
       "    </tr>\n",
       "  </thead>\n",
       "  <tbody>\n",
       "    <tr>\n",
       "      <th>0</th>\n",
       "      <td>480</td>\n",
       "      <td>NaN</td>\n",
       "      <td>1993</td>\n",
       "      <td>manual</td>\n",
       "      <td>0</td>\n",
       "      <td>golf</td>\n",
       "      <td>150000</td>\n",
       "      <td>0</td>\n",
       "      <td>petrol</td>\n",
       "      <td>volkswagen</td>\n",
       "      <td>NaN</td>\n",
       "      <td>0</td>\n",
       "    </tr>\n",
       "    <tr>\n",
       "      <th>1</th>\n",
       "      <td>18300</td>\n",
       "      <td>coupe</td>\n",
       "      <td>2011</td>\n",
       "      <td>manual</td>\n",
       "      <td>190</td>\n",
       "      <td>NaN</td>\n",
       "      <td>125000</td>\n",
       "      <td>5</td>\n",
       "      <td>gasoline</td>\n",
       "      <td>audi</td>\n",
       "      <td>yes</td>\n",
       "      <td>0</td>\n",
       "    </tr>\n",
       "    <tr>\n",
       "      <th>2</th>\n",
       "      <td>9800</td>\n",
       "      <td>suv</td>\n",
       "      <td>2004</td>\n",
       "      <td>auto</td>\n",
       "      <td>163</td>\n",
       "      <td>grand</td>\n",
       "      <td>125000</td>\n",
       "      <td>8</td>\n",
       "      <td>gasoline</td>\n",
       "      <td>jeep</td>\n",
       "      <td>NaN</td>\n",
       "      <td>0</td>\n",
       "    </tr>\n",
       "    <tr>\n",
       "      <th>3</th>\n",
       "      <td>1500</td>\n",
       "      <td>small</td>\n",
       "      <td>2001</td>\n",
       "      <td>manual</td>\n",
       "      <td>75</td>\n",
       "      <td>golf</td>\n",
       "      <td>150000</td>\n",
       "      <td>6</td>\n",
       "      <td>petrol</td>\n",
       "      <td>volkswagen</td>\n",
       "      <td>no</td>\n",
       "      <td>0</td>\n",
       "    </tr>\n",
       "    <tr>\n",
       "      <th>4</th>\n",
       "      <td>3600</td>\n",
       "      <td>small</td>\n",
       "      <td>2008</td>\n",
       "      <td>manual</td>\n",
       "      <td>69</td>\n",
       "      <td>fabia</td>\n",
       "      <td>90000</td>\n",
       "      <td>7</td>\n",
       "      <td>gasoline</td>\n",
       "      <td>skoda</td>\n",
       "      <td>no</td>\n",
       "      <td>0</td>\n",
       "    </tr>\n",
       "    <tr>\n",
       "      <th>...</th>\n",
       "      <td>...</td>\n",
       "      <td>...</td>\n",
       "      <td>...</td>\n",
       "      <td>...</td>\n",
       "      <td>...</td>\n",
       "      <td>...</td>\n",
       "      <td>...</td>\n",
       "      <td>...</td>\n",
       "      <td>...</td>\n",
       "      <td>...</td>\n",
       "      <td>...</td>\n",
       "      <td>...</td>\n",
       "    </tr>\n",
       "    <tr>\n",
       "      <th>326821</th>\n",
       "      <td>0</td>\n",
       "      <td>NaN</td>\n",
       "      <td>2005</td>\n",
       "      <td>manual</td>\n",
       "      <td>0</td>\n",
       "      <td>colt</td>\n",
       "      <td>150000</td>\n",
       "      <td>7</td>\n",
       "      <td>petrol</td>\n",
       "      <td>mitsubishi</td>\n",
       "      <td>yes</td>\n",
       "      <td>0</td>\n",
       "    </tr>\n",
       "    <tr>\n",
       "      <th>326822</th>\n",
       "      <td>2200</td>\n",
       "      <td>NaN</td>\n",
       "      <td>2005</td>\n",
       "      <td>NaN</td>\n",
       "      <td>0</td>\n",
       "      <td>NaN</td>\n",
       "      <td>20000</td>\n",
       "      <td>1</td>\n",
       "      <td>NaN</td>\n",
       "      <td>sonstige_autos</td>\n",
       "      <td>NaN</td>\n",
       "      <td>0</td>\n",
       "    </tr>\n",
       "    <tr>\n",
       "      <th>326823</th>\n",
       "      <td>1199</td>\n",
       "      <td>convertible</td>\n",
       "      <td>2000</td>\n",
       "      <td>auto</td>\n",
       "      <td>101</td>\n",
       "      <td>fortwo</td>\n",
       "      <td>125000</td>\n",
       "      <td>3</td>\n",
       "      <td>petrol</td>\n",
       "      <td>smart</td>\n",
       "      <td>no</td>\n",
       "      <td>0</td>\n",
       "    </tr>\n",
       "    <tr>\n",
       "      <th>326824</th>\n",
       "      <td>9200</td>\n",
       "      <td>bus</td>\n",
       "      <td>1996</td>\n",
       "      <td>manual</td>\n",
       "      <td>102</td>\n",
       "      <td>transporter</td>\n",
       "      <td>150000</td>\n",
       "      <td>3</td>\n",
       "      <td>gasoline</td>\n",
       "      <td>volkswagen</td>\n",
       "      <td>no</td>\n",
       "      <td>0</td>\n",
       "    </tr>\n",
       "    <tr>\n",
       "      <th>326825</th>\n",
       "      <td>3400</td>\n",
       "      <td>wagon</td>\n",
       "      <td>2002</td>\n",
       "      <td>manual</td>\n",
       "      <td>100</td>\n",
       "      <td>golf</td>\n",
       "      <td>150000</td>\n",
       "      <td>6</td>\n",
       "      <td>gasoline</td>\n",
       "      <td>volkswagen</td>\n",
       "      <td>NaN</td>\n",
       "      <td>0</td>\n",
       "    </tr>\n",
       "  </tbody>\n",
       "</table>\n",
       "<p>326826 rows × 12 columns</p>\n",
       "</div>"
      ],
      "text/plain": [
       "        Price  VehicleType  RegistrationYear Gearbox  Power        Model  \\\n",
       "0         480          NaN              1993  manual      0         golf   \n",
       "1       18300        coupe              2011  manual    190          NaN   \n",
       "2        9800          suv              2004    auto    163        grand   \n",
       "3        1500        small              2001  manual     75         golf   \n",
       "4        3600        small              2008  manual     69        fabia   \n",
       "...       ...          ...               ...     ...    ...          ...   \n",
       "326821      0          NaN              2005  manual      0         colt   \n",
       "326822   2200          NaN              2005     NaN      0          NaN   \n",
       "326823   1199  convertible              2000    auto    101       fortwo   \n",
       "326824   9200          bus              1996  manual    102  transporter   \n",
       "326825   3400        wagon              2002  manual    100         golf   \n",
       "\n",
       "        Kilometer  RegistrationMonth  FuelType           Brand NotRepaired  \\\n",
       "0          150000                  0    petrol      volkswagen         NaN   \n",
       "1          125000                  5  gasoline            audi         yes   \n",
       "2          125000                  8  gasoline            jeep         NaN   \n",
       "3          150000                  6    petrol      volkswagen          no   \n",
       "4           90000                  7  gasoline           skoda          no   \n",
       "...           ...                ...       ...             ...         ...   \n",
       "326821     150000                  7    petrol      mitsubishi         yes   \n",
       "326822      20000                  1       NaN  sonstige_autos         NaN   \n",
       "326823     125000                  3    petrol           smart          no   \n",
       "326824     150000                  3  gasoline      volkswagen          no   \n",
       "326825     150000                  6  gasoline      volkswagen         NaN   \n",
       "\n",
       "        NumberOfPictures  \n",
       "0                      0  \n",
       "1                      0  \n",
       "2                      0  \n",
       "3                      0  \n",
       "4                      0  \n",
       "...                  ...  \n",
       "326821                 0  \n",
       "326822                 0  \n",
       "326823                 0  \n",
       "326824                 0  \n",
       "326825                 0  \n",
       "\n",
       "[326826 rows x 12 columns]"
      ]
     },
     "execution_count": 12,
     "metadata": {},
     "output_type": "execute_result"
    }
   ],
   "source": [
    "df = df.drop_duplicates().reset_index(drop=True) #удаляем повторы\n",
    "df"
   ]
  },
  {
   "cell_type": "markdown",
   "metadata": {
    "id": "cesp-SmQkUjp"
   },
   "source": [
    "Датасет содержит в себе отсутствующие значения в категориальных признаках - таких, как тип машины, коробки передач или данные о ремонте. Природа этих пропусков неизвестна - например, в случае типа машины это могут быть как отсутствующие значения (например, продавец не указывал в анкете), так и не указанные в анкете типы кузовов. Так как пропуски находятся у *категориальных номинальных* признаков, мы планируем применять one-hot-encoding для каждого из них - в таком случае, пропуски заполнять не требуется.   \n",
    "Признак `NumberOfPictires` пустой, его следует удалить.   \n",
    "Ряд признаков, такие как целевой (Price), год регистрации содержат в себе нулевые и/или выпадающие значения (такие, как 9999 год регистрации). Признаки с такими значениями необходимо рассмотреть отдельно.   \n",
    "Кроме того, приведем названия признаков в надлежащий вид"
   ]
  },
  {
   "cell_type": "code",
   "execution_count": 13,
   "metadata": {
    "ExecuteTime": {
     "end_time": "2022-02-09T17:41:09.230480Z",
     "start_time": "2022-02-09T17:41:09.200546Z"
    },
    "id": "dG9nH1h1ulGH"
   },
   "outputs": [],
   "source": [
    "df = df.drop('NumberOfPictures', axis=1)\n",
    "df.columns = df.columns.str.lower()\n",
    "df.columns = ['price', 'vehicle_type', 'registration_year', 'gearbox', 'power', 'model',\n",
    "       'kilometer', 'registration_month', 'fuel', 'brand', 'not_repaired']"
   ]
  },
  {
   "cell_type": "markdown",
   "metadata": {
    "id": "xQ2e7bBkvbjW"
   },
   "source": [
    "Данные готовы к исследовательскому анализу"
   ]
  },
  {
   "cell_type": "markdown",
   "metadata": {
    "id": "Pp01W1TnwaQo"
   },
   "source": [
    "### Исследовательский анализ данных"
   ]
  },
  {
   "cell_type": "markdown",
   "metadata": {
    "id": "rFhlxJhHwdH_"
   },
   "source": [
    "Рассмотрим распределения признаков"
   ]
  },
  {
   "cell_type": "code",
   "execution_count": 14,
   "metadata": {
    "ExecuteTime": {
     "end_time": "2022-02-09T17:41:12.581967Z",
     "start_time": "2022-02-09T17:41:09.232462Z"
    },
    "colab": {
     "base_uri": "https://localhost:8080/",
     "height": 432
    },
    "id": "3ZHwkLiH3GZn",
    "outputId": "72011b5e-4a19-4a67-cb8b-22e602ff9215"
   },
   "outputs": [
    {
     "data": {
      "image/png": "[encoded data removed]",
      "text/plain": [
       "<Figure size 504x432 with 2 Axes>"
      ]
     },
     "metadata": {
      "needs_background": "light"
     },
     "output_type": "display_data"
    }
   ],
   "source": [
    "fig, axes = plt.subplots(2, 1, figsize=(7,6))\n",
    "plt.suptitle('Распределение по годам')\n",
    "axes[0].xaxis.set_visible(False)\n",
    "sns.histplot(data=df, ax=axes[0], x='registration_year',\n",
    "             kde=True, bins=100)\n",
    "sns.boxplot(data=df, ax=axes[1], x='registration_year')\n",
    "pass"
   ]
  },
  {
   "cell_type": "markdown",
   "metadata": {
    "id": "zNmMkX504DAh"
   },
   "source": [
    "Удалим выбросы (все машины, с годом регистрации выше 2016 и ниже 1995 года)"
   ]
  },
  {
   "cell_type": "code",
   "execution_count": 15,
   "metadata": {
    "ExecuteTime": {
     "end_time": "2022-02-09T17:41:12.627593Z",
     "start_time": "2022-02-09T17:41:12.583963Z"
    },
    "id": "bqlBdQhF4E3c"
   },
   "outputs": [],
   "source": [
    "df = df[(df['registration_year'] <= 2016) & (df['registration_year'] >= 1995)]"
   ]
  },
  {
   "cell_type": "code",
   "execution_count": 16,
   "metadata": {
    "ExecuteTime": {
     "end_time": "2022-02-09T17:41:13.826421Z",
     "start_time": "2022-02-09T17:41:12.629591Z"
    },
    "colab": {
     "base_uri": "https://localhost:8080/",
     "height": 432
    },
    "id": "uvfd9iK64Lw0",
    "outputId": "d2889c5c-b810-4cb4-fe5f-5ca7b3db95b4"
   },
   "outputs": [
    {
     "data": {
      "image/png": "[encoded data removed]",
      "text/plain": [
       "<Figure size 504x432 with 2 Axes>"
      ]
     },
     "metadata": {
      "needs_background": "light"
     },
     "output_type": "display_data"
    }
   ],
   "source": [
    "fig, axes = plt.subplots(2, 1, figsize=(7,6))\n",
    "plt.suptitle('Распределение по годам, исправленное')\n",
    "axes[0].xaxis.set_visible(False)\n",
    "sns.histplot(data=df, ax=axes[0], x='registration_year',\n",
    "             bins=50, kde=True)\n",
    "sns.boxplot(data=df, ax=axes[1], x='registration_year')\n",
    "pass"
   ]
  },
  {
   "cell_type": "markdown",
   "metadata": {
    "id": "Ol8t6TFl6Tgn"
   },
   "source": [
    "Мы можем наблюдать распределение, похожее на бимодальное, с дополнительным пиком в районе 2016 года. Теперь данные по годам очщены от выбросов.   \n",
    "\n",
    "Оценим распределение целевого признака"
   ]
  },
  {
   "cell_type": "code",
   "execution_count": 17,
   "metadata": {
    "ExecuteTime": {
     "end_time": "2022-02-09T17:41:15.378258Z",
     "start_time": "2022-02-09T17:41:13.828385Z"
    },
    "colab": {
     "base_uri": "https://localhost:8080/",
     "height": 431
    },
    "id": "EieGk_83wgRN",
    "outputId": "a4d3cfae-5d0e-4c9a-ac79-d040779611aa"
   },
   "outputs": [
    {
     "data": {
      "image/png": "[encoded data removed]",
      "text/plain": [
       "<Figure size 504x432 with 2 Axes>"
      ]
     },
     "metadata": {
      "needs_background": "light"
     },
     "output_type": "display_data"
    }
   ],
   "source": [
    "fig, axes = plt.subplots(2, 1, figsize=(7,6))\n",
    "plt.suptitle('Распределение целевого признака')\n",
    "axes[0].xaxis.set_visible(False)\n",
    "sns.histplot(data=df, ax=axes[0], x='price',\n",
    "             kde=True, bins=100)\n",
    "sns.boxplot(data=df, ax=axes[1], x='price')\n",
    "pass"
   ]
  },
  {
   "cell_type": "markdown",
   "metadata": {
    "id": "3MUAB3WVvPK2"
   },
   "source": [
    "Распределение имеет длинный хвост вправо, большое количество околонулевых значений. Было принято решение не удалять хвостовые значения цены, чтобы модель могла обучиться узнавать дорогие марки и модели авто.   \n",
    "Удалим все значения из датасета, цена которых ниже первого квантиля\n",
    "\n"
   ]
  },
  {
   "cell_type": "code",
   "execution_count": 18,
   "metadata": {
    "ExecuteTime": {
     "end_time": "2022-02-09T17:41:15.439793Z",
     "start_time": "2022-02-09T17:41:15.381231Z"
    },
    "colab": {
     "base_uri": "https://localhost:8080/"
    },
    "id": "OYJ2gxo42UbU",
    "outputId": "d3238461-7717-4257-dd2d-71058b5e7c5a"
   },
   "outputs": [
    {
     "data": {
      "text/plain": [
       "count    217092.000000\n",
       "mean       5899.424907\n",
       "std        4562.612255\n",
       "min        1150.000000\n",
       "25%        2300.000000\n",
       "50%        4300.000000\n",
       "75%        8200.000000\n",
       "max       20000.000000\n",
       "Name: price, dtype: float64"
      ]
     },
     "execution_count": 18,
     "metadata": {},
     "output_type": "execute_result"
    }
   ],
   "source": [
    "quantile_1 = df['price'].quantile(0.25)\n",
    "df = df[df['price'] >= quantile_1]\n",
    "df['price'].describe()"
   ]
  },
  {
   "cell_type": "code",
   "execution_count": 19,
   "metadata": {
    "ExecuteTime": {
     "end_time": "2022-02-09T17:41:16.625238Z",
     "start_time": "2022-02-09T17:41:15.441759Z"
    },
    "colab": {
     "base_uri": "https://localhost:8080/",
     "height": 431
    },
    "id": "IgwDQlBB9LM-",
    "outputId": "09bfb43c-d0ea-40ef-97cb-6f50efd613ce"
   },
   "outputs": [
    {
     "data": {
      "image/png": "[encoded data removed]",
      "text/plain": [
       "<Figure size 504x432 with 2 Axes>"
      ]
     },
     "metadata": {
      "needs_background": "light"
     },
     "output_type": "display_data"
    }
   ],
   "source": [
    "fig, axes = plt.subplots(2, 1, figsize=(7,6))\n",
    "plt.suptitle('Распределение целевого признака, исправленное')\n",
    "axes[0].xaxis.set_visible(False)\n",
    "sns.histplot(data=df, ax=axes[0], x='price',\n",
    "             kde=True, bins=100)\n",
    "sns.boxplot(data=df, ax=axes[1], x='price')\n",
    "pass"
   ]
  },
  {
   "cell_type": "markdown",
   "metadata": {
    "id": "ozT-etYD24Qk"
   },
   "source": [
    "Рассмотрим распределение по мощности двигателя, так как там также были артефактные значения"
   ]
  },
  {
   "cell_type": "code",
   "execution_count": 20,
   "metadata": {
    "ExecuteTime": {
     "end_time": "2022-02-09T17:41:18.972933Z",
     "start_time": "2022-02-09T17:41:16.627203Z"
    },
    "colab": {
     "base_uri": "https://localhost:8080/",
     "height": 431
    },
    "id": "Iw3nRUIU9z8s",
    "outputId": "d3f2d02c-e8fc-4dd2-df68-525cef8a942b"
   },
   "outputs": [
    {
     "data": {
      "image/png": "[encoded data removed]",
      "text/plain": [
       "<Figure size 504x432 with 2 Axes>"
      ]
     },
     "metadata": {
      "needs_background": "light"
     },
     "output_type": "display_data"
    }
   ],
   "source": [
    "fig, axes = plt.subplots(2, 1, figsize=(7,6))\n",
    "plt.suptitle('Распределение мощностей двигателя')\n",
    "axes[0].xaxis.set_visible(False)\n",
    "sns.histplot(data=df, ax=axes[0], x='power',\n",
    "             kde=True, bins=100)\n",
    "sns.boxplot(data=df, ax=axes[1], x='power')\n",
    "pass"
   ]
  },
  {
   "cell_type": "markdown",
   "metadata": {
    "id": "U-wP_68U98XS"
   },
   "source": [
    "Мы избавимся от объектов, у которых мощность двигателя превышает 2000 л.с., так как это максимум для машин, находящихся в открытой продаже (Бугатти Вейрон).   \n",
    "Кроме того, удалим машины с мощностью двигателя меньше 50 л.с."
   ]
  },
  {
   "cell_type": "code",
   "execution_count": 21,
   "metadata": {
    "ExecuteTime": {
     "end_time": "2022-02-09T17:41:19.003857Z",
     "start_time": "2022-02-09T17:41:18.974924Z"
    },
    "id": "RgrLjWgjAHrZ"
   },
   "outputs": [],
   "source": [
    "df = df[(df['power'] <= 2000) & (df['power'] >= 50)]"
   ]
  },
  {
   "cell_type": "code",
   "execution_count": 22,
   "metadata": {
    "ExecuteTime": {
     "end_time": "2022-02-09T17:41:21.046643Z",
     "start_time": "2022-02-09T17:41:19.005840Z"
    },
    "colab": {
     "base_uri": "https://localhost:8080/",
     "height": 431
    },
    "id": "fm3_8SdtAMq6",
    "outputId": "bfc6b714-d3c8-4f5e-b302-b5de283d1bc1"
   },
   "outputs": [
    {
     "data": {
      "image/png": "[encoded data removed]",
      "text/plain": [
       "<Figure size 504x432 with 2 Axes>"
      ]
     },
     "metadata": {
      "needs_background": "light"
     },
     "output_type": "display_data"
    }
   ],
   "source": [
    "fig, axes = plt.subplots(2, 1, figsize=(7,6))\n",
    "plt.suptitle('Распределение мощностей двигателя, исправленное')\n",
    "axes[0].xaxis.set_visible(False)\n",
    "sns.histplot(data=df, ax=axes[0], x='power',\n",
    "             kde=True, bins=100)\n",
    "sns.boxplot(data=df, ax=axes[1], x='power')\n",
    "pass"
   ]
  },
  {
   "cell_type": "markdown",
   "metadata": {
    "id": "oFraaWsr_6j7"
   },
   "source": [
    "После обработки распределение все равно имеет ярко выраженный хвост вправо, который было решено оставить - так модель сможет обучиться узнавать мощные автомобили"
   ]
  },
  {
   "cell_type": "code",
   "execution_count": 23,
   "metadata": {
    "ExecuteTime": {
     "end_time": "2022-02-09T17:41:21.062600Z",
     "start_time": "2022-02-09T17:41:21.047640Z"
    },
    "colab": {
     "base_uri": "https://localhost:8080/"
    },
    "id": "85XXbBKyAtny",
    "outputId": "2254998b-be01-42d4-e4fb-ee669c351d07"
   },
   "outputs": [
    {
     "name": "stdout",
     "output_type": "stream",
     "text": [
      "[0, 1, 2, 3, 4, 5, 6, 7, 8, 9, 10, 11, 12]\n",
      "(13,)\n"
     ]
    }
   ],
   "source": [
    "print(sorted(df['registration_month'].unique()))\n",
    "print(df['registration_month'].unique().shape)"
   ]
  },
  {
   "cell_type": "markdown",
   "metadata": {
    "id": "x6T_6-uHBfgR"
   },
   "source": [
    "Признак `registration_month` содержит в себе на один месяц больше, чем необходимо. Посмотрим на количество упоминаний каждого месяца"
   ]
  },
  {
   "cell_type": "code",
   "execution_count": 24,
   "metadata": {
    "ExecuteTime": {
     "end_time": "2022-02-09T17:41:21.236172Z",
     "start_time": "2022-02-09T17:41:21.063598Z"
    },
    "colab": {
     "base_uri": "https://localhost:8080/",
     "height": 459
    },
    "id": "4uPOrttZ9tpK",
    "outputId": "0e95be5d-cb36-4dfc-a66d-3923a3e153bb"
   },
   "outputs": [
    {
     "data": {
      "image/png": "[encoded data removed]",
      "text/plain": [
       "<Figure size 648x504 with 1 Axes>"
      ]
     },
     "metadata": {
      "needs_background": "light"
     },
     "output_type": "display_data"
    }
   ],
   "source": [
    "plt.figure(figsize=(9,7))\n",
    "plt.title('Месяц регистрации')\n",
    "\n",
    "sns.countplot(data=df, x='registration_month')\n",
    "\n",
    "pass"
   ]
  },
  {
   "cell_type": "markdown",
   "metadata": {
    "id": "Dzthp4aL-e9i"
   },
   "source": [
    "Предположим, что значения `0` и `1` обозначают один и тот же месяц - январь. Заменим значения"
   ]
  },
  {
   "cell_type": "code",
   "execution_count": 25,
   "metadata": {
    "ExecuteTime": {
     "end_time": "2022-02-09T17:41:21.252094Z",
     "start_time": "2022-02-09T17:41:21.237136Z"
    },
    "colab": {
     "base_uri": "https://localhost:8080/"
    },
    "id": "r6Se4SUgCDpw",
    "outputId": "d971d823-d5ba-4733-d64f-261b412791f2"
   },
   "outputs": [
    {
     "data": {
      "text/plain": [
       "array([ 5,  8,  6,  7, 12,  2,  3,  1,  4,  9, 11, 10], dtype=int64)"
      ]
     },
     "execution_count": 25,
     "metadata": {},
     "output_type": "execute_result"
    }
   ],
   "source": [
    "df['registration_month'] = df['registration_month'].replace(0, 1)\n",
    "df['registration_month'].unique()"
   ]
  },
  {
   "cell_type": "markdown",
   "metadata": {
    "id": "OXppkdMpBuY5"
   },
   "source": [
    "### Результаты"
   ]
  },
  {
   "cell_type": "markdown",
   "metadata": {
    "id": "7rc5VsS1DDyw"
   },
   "source": [
    "Был проведен исследовательский и статистический анализ данных:\n",
    "* Анализ выявил большое количество пропущенных значений, происхождение - неизвестно, принято решение оставить\n",
    "* С помощью визуального анализа и с использованием сторонних ресурсов были удалены выбросы в ряде признаков\n",
    "* Данные подготовлены к обучению моделей"
   ]
  },
  {
   "cell_type": "markdown",
   "metadata": {
    "id": "hFuti_wEDeV_"
   },
   "source": [
    "## Обучение моделей"
   ]
  },
  {
   "cell_type": "markdown",
   "metadata": {
    "id": "-s6UGzNtAkgo"
   },
   "source": [
    "Для начала мы попробуем обучить на данных простые модели регрессии с использованием библиотеки scikit-learn. Разделим данные на обучающую и тестовую выборки. Категориальные переменные закодируем с использованием one-hot-encoding, некоторые числовые нормализуем.   \n",
    "После этого проверим несколько простых моделей регрессии на данных. Метрикой качества выберем RMSE"
   ]
  },
  {
   "cell_type": "code",
   "execution_count": 26,
   "metadata": {
    "ExecuteTime": {
     "end_time": "2022-02-09T17:41:21.660665Z",
     "start_time": "2022-02-09T17:41:21.255085Z"
    },
    "id": "9AqW8m1VVOjc"
   },
   "outputs": [],
   "source": [
    "X = df.drop('price', axis=1)\n",
    "y = df['price']\n",
    "\n",
    "cat_features = X[['vehicle_type', 'gearbox', 'model', 'fuel', 'brand', 'not_repaired']].columns #OHE\n",
    "X = pd.get_dummies(data=X, columns=cat_features, drop_first=True)"
   ]
  },
  {
   "cell_type": "code",
   "execution_count": 27,
   "metadata": {
    "ExecuteTime": {
     "end_time": "2022-02-09T17:41:22.009831Z",
     "start_time": "2022-02-09T17:41:21.662667Z"
    },
    "colab": {
     "base_uri": "https://localhost:8080/"
    },
    "id": "po-AvB0X0gVA",
    "outputId": "cf5bf42d-158e-461e-db26-bd29c321ae55"
   },
   "outputs": [
    {
     "name": "stdout",
     "output_type": "stream",
     "text": [
      "(141394, 302) \n",
      "\n",
      "(60598, 302) \n",
      "\n",
      "(141394,) \n",
      "\n",
      "(60598,) \n",
      "\n"
     ]
    }
   ],
   "source": [
    "X_train, X_test, y_train, y_test = train_test_split(X, y,\n",
    "                                                    test_size=0.3,\n",
    "                                                    random_state=1) \n",
    "for i in [X_train, X_test, y_train, y_test]:\n",
    "  print(i.shape, '\\n')"
   ]
  },
  {
   "cell_type": "code",
   "execution_count": 28,
   "metadata": {
    "ExecuteTime": {
     "end_time": "2022-02-09T17:41:22.025784Z",
     "start_time": "2022-02-09T17:41:22.014814Z"
    },
    "id": "FeWsh8-uXClz"
   },
   "outputs": [],
   "source": [
    "num_features = df[['power', 'kilometer']].columns\n",
    "\n",
    "preprocessing = ColumnTransformer(\n",
    "    transformers=[('numerical', MinMaxScaler(), num_features)],\n",
    "                  remainder='passthrough'\n",
    ")"
   ]
  },
  {
   "cell_type": "code",
   "execution_count": 29,
   "metadata": {
    "ExecuteTime": {
     "end_time": "2022-02-09T17:42:24.384654Z",
     "start_time": "2022-02-09T17:41:22.027751Z"
    },
    "id": "lUh_6sxuZIlt"
   },
   "outputs": [],
   "source": [
    "regressors = [\n",
    "              LinearRegression(n_jobs=-1),\n",
    "              Ridge(),\n",
    "              LinearSVR(random_state=47),\n",
    "              DecisionTreeRegressor(random_state=47, max_depth=10),\n",
    "              RandomForestRegressor(random_state=47, n_estimators=50, max_depth=10, n_jobs=-1)\n",
    "]\n",
    "\n",
    "results = {}\n",
    "\n",
    "for regression in regressors:\n",
    "  pipe = Pipeline(steps=[\n",
    "                         ('preprocessing', preprocessing),\n",
    "                         ('regressor', regression)\n",
    "  ])\n",
    "  start_time = time.time()\n",
    "  pipe.fit(X_train, y_train)\n",
    "  fit_time = time.time() - start_time\n",
    "\n",
    "  preds_train = pipe.predict(X_train)\n",
    "  start_time = time.time()\n",
    "  preds_test = pipe.predict(X_test)\n",
    "  predict_time = time.time() - start_time\n",
    "\n",
    "  score_train = np.sqrt(mean_squared_error(y_train, preds_train))\n",
    "  score_test = np.sqrt(mean_squared_error(y_test, preds_test))\n",
    "\n",
    "  results.update({regression.__class__.__name__: [round(score_train, 2), round(score_test, 2), round(fit_time, 4), round(predict_time, 2)]})\n",
    "\n",
    "results_final = pd.DataFrame(data=results,\n",
    "                          index=['RMSE train', 'RMSE test', 'Learning Time', 'Prediction Time'])"
   ]
  },
  {
   "cell_type": "code",
   "execution_count": 30,
   "metadata": {
    "ExecuteTime": {
     "end_time": "2022-02-09T17:42:24.400613Z",
     "start_time": "2022-02-09T17:42:24.385652Z"
    },
    "colab": {
     "base_uri": "https://localhost:8080/",
     "height": 175
    },
    "id": "YYELSnA6eUF5",
    "outputId": "d70f3991-d900-4d5b-fd3d-1126e791a0b9"
   },
   "outputs": [
    {
     "data": {
      "text/html": [
       "<div>\n",
       "<style scoped>\n",
       "    .dataframe tbody tr th:only-of-type {\n",
       "        vertical-align: middle;\n",
       "    }\n",
       "\n",
       "    .dataframe tbody tr th {\n",
       "        vertical-align: top;\n",
       "    }\n",
       "\n",
       "    .dataframe thead th {\n",
       "        text-align: right;\n",
       "    }\n",
       "</style>\n",
       "<table border=\"1\" class=\"dataframe\">\n",
       "  <thead>\n",
       "    <tr style=\"text-align: right;\">\n",
       "      <th></th>\n",
       "      <th>LinearRegression</th>\n",
       "      <th>Ridge</th>\n",
       "      <th>LinearSVR</th>\n",
       "      <th>DecisionTreeRegressor</th>\n",
       "      <th>RandomForestRegressor</th>\n",
       "    </tr>\n",
       "  </thead>\n",
       "  <tbody>\n",
       "    <tr>\n",
       "      <th>RMSE train</th>\n",
       "      <td>2385.4200</td>\n",
       "      <td>2385.6000</td>\n",
       "      <td>5316.0600</td>\n",
       "      <td>1881.9500</td>\n",
       "      <td>1779.1000</td>\n",
       "    </tr>\n",
       "    <tr>\n",
       "      <th>RMSE test</th>\n",
       "      <td>2385.9400</td>\n",
       "      <td>2386.1700</td>\n",
       "      <td>5323.3800</td>\n",
       "      <td>1993.3600</td>\n",
       "      <td>1874.0200</td>\n",
       "    </tr>\n",
       "    <tr>\n",
       "      <th>Learning Time</th>\n",
       "      <td>2.8526</td>\n",
       "      <td>0.6453</td>\n",
       "      <td>26.1473</td>\n",
       "      <td>2.6878</td>\n",
       "      <td>27.3641</td>\n",
       "    </tr>\n",
       "    <tr>\n",
       "      <th>Prediction Time</th>\n",
       "      <td>0.1300</td>\n",
       "      <td>0.1300</td>\n",
       "      <td>0.1300</td>\n",
       "      <td>0.1500</td>\n",
       "      <td>0.2400</td>\n",
       "    </tr>\n",
       "  </tbody>\n",
       "</table>\n",
       "</div>"
      ],
      "text/plain": [
       "                 LinearRegression      Ridge  LinearSVR  \\\n",
       "RMSE train              2385.4200  2385.6000  5316.0600   \n",
       "RMSE test               2385.9400  2386.1700  5323.3800   \n",
       "Learning Time              2.8526     0.6453    26.1473   \n",
       "Prediction Time            0.1300     0.1300     0.1300   \n",
       "\n",
       "                 DecisionTreeRegressor  RandomForestRegressor  \n",
       "RMSE train                   1881.9500              1779.1000  \n",
       "RMSE test                    1993.3600              1874.0200  \n",
       "Learning Time                   2.6878                27.3641  \n",
       "Prediction Time                 0.1500                 0.2400  "
      ]
     },
     "execution_count": 30,
     "metadata": {},
     "output_type": "execute_result"
    }
   ],
   "source": [
    "results_final"
   ]
  },
  {
   "cell_type": "markdown",
   "metadata": {
    "id": "2aIrnsRcxbKs"
   },
   "source": [
    "Линейная регрессия без регуляризации плохо показывает себя на этом датасете. Линейный СВМ также не справился. Лучше всего себя показали алгоритмы решающего дерева и случайного леса (с переобучением).   \n",
    "Таким образом, для выполнения поставленной задачи необходимо попробовать ансамблевые методы"
   ]
  },
  {
   "cell_type": "markdown",
   "metadata": {
    "id": "0jAEn-XcMbQU"
   },
   "source": [
    "### XGBoost"
   ]
  },
  {
   "cell_type": "code",
   "execution_count": 31,
   "metadata": {
    "ExecuteTime": {
     "end_time": "2022-02-09T17:46:54.033962Z",
     "start_time": "2022-02-09T17:42:24.402607Z"
    },
    "id": "3xAtbsqYMdoj"
   },
   "outputs": [],
   "source": [
    "xgb_reg = xgb.XGBRegressor(n_estimators=1000, max_depth=5, eta=0.3, random_state=47)\n",
    "\n",
    "pipe = Pipeline(steps=[\n",
    "                         ('preprocessing', preprocessing),\n",
    "                         ('regressor', xgb_reg)\n",
    "  ])\n",
    "start_time = time.time()\n",
    "pipe.fit(X_train, y_train)\n",
    "fit_time = time.time() - start_time\n",
    "\n",
    "preds_train = pipe.predict(X_train)\n",
    "start_time = time.time()\n",
    "preds_test = pipe.predict(X_test)\n",
    "predict_time = time.time() - start_time\n",
    "\n",
    "score_train = np.sqrt(mean_squared_error(y_train, preds_train))\n",
    "score_test = np.sqrt(mean_squared_error(y_test, preds_test))\n",
    "\n",
    "results.update({'XGBoostRegressor': [round(score_train, 2), round(score_test, 2), round(fit_time, 2), round(predict_time, 4)]})\n",
    "\n",
    "results_final = pd.DataFrame(data=results,\n",
    "                          index=['RMSE train', 'RMSE test', 'Learning Time', 'Prediction Time'])"
   ]
  },
  {
   "cell_type": "code",
   "execution_count": 32,
   "metadata": {
    "ExecuteTime": {
     "end_time": "2022-02-09T17:46:54.049921Z",
     "start_time": "2022-02-09T17:46:54.034961Z"
    },
    "colab": {
     "base_uri": "https://localhost:8080/",
     "height": 175
    },
    "id": "PZXbOkGITYrJ",
    "outputId": "584a76b4-ba94-47b9-83a1-f557b217286f"
   },
   "outputs": [
    {
     "data": {
      "text/html": [
       "<div>\n",
       "<style scoped>\n",
       "    .dataframe tbody tr th:only-of-type {\n",
       "        vertical-align: middle;\n",
       "    }\n",
       "\n",
       "    .dataframe tbody tr th {\n",
       "        vertical-align: top;\n",
       "    }\n",
       "\n",
       "    .dataframe thead th {\n",
       "        text-align: right;\n",
       "    }\n",
       "</style>\n",
       "<table border=\"1\" class=\"dataframe\">\n",
       "  <thead>\n",
       "    <tr style=\"text-align: right;\">\n",
       "      <th></th>\n",
       "      <th>LinearRegression</th>\n",
       "      <th>Ridge</th>\n",
       "      <th>LinearSVR</th>\n",
       "      <th>DecisionTreeRegressor</th>\n",
       "      <th>RandomForestRegressor</th>\n",
       "      <th>XGBoostRegressor</th>\n",
       "    </tr>\n",
       "  </thead>\n",
       "  <tbody>\n",
       "    <tr>\n",
       "      <th>RMSE train</th>\n",
       "      <td>2385.4200</td>\n",
       "      <td>2385.6000</td>\n",
       "      <td>5316.0600</td>\n",
       "      <td>1881.9500</td>\n",
       "      <td>1779.1000</td>\n",
       "      <td>1305.4800</td>\n",
       "    </tr>\n",
       "    <tr>\n",
       "      <th>RMSE test</th>\n",
       "      <td>2385.9400</td>\n",
       "      <td>2386.1700</td>\n",
       "      <td>5323.3800</td>\n",
       "      <td>1993.3600</td>\n",
       "      <td>1874.0200</td>\n",
       "      <td>1546.1200</td>\n",
       "    </tr>\n",
       "    <tr>\n",
       "      <th>Learning Time</th>\n",
       "      <td>2.8526</td>\n",
       "      <td>0.6453</td>\n",
       "      <td>26.1473</td>\n",
       "      <td>2.6878</td>\n",
       "      <td>27.3641</td>\n",
       "      <td>267.9300</td>\n",
       "    </tr>\n",
       "    <tr>\n",
       "      <th>Prediction Time</th>\n",
       "      <td>0.1300</td>\n",
       "      <td>0.1300</td>\n",
       "      <td>0.1300</td>\n",
       "      <td>0.1500</td>\n",
       "      <td>0.2400</td>\n",
       "      <td>0.4997</td>\n",
       "    </tr>\n",
       "  </tbody>\n",
       "</table>\n",
       "</div>"
      ],
      "text/plain": [
       "                 LinearRegression      Ridge  LinearSVR  \\\n",
       "RMSE train              2385.4200  2385.6000  5316.0600   \n",
       "RMSE test               2385.9400  2386.1700  5323.3800   \n",
       "Learning Time              2.8526     0.6453    26.1473   \n",
       "Prediction Time            0.1300     0.1300     0.1300   \n",
       "\n",
       "                 DecisionTreeRegressor  RandomForestRegressor  \\\n",
       "RMSE train                   1881.9500              1779.1000   \n",
       "RMSE test                    1993.3600              1874.0200   \n",
       "Learning Time                   2.6878                27.3641   \n",
       "Prediction Time                 0.1500                 0.2400   \n",
       "\n",
       "                 XGBoostRegressor  \n",
       "RMSE train              1305.4800  \n",
       "RMSE test               1546.1200  \n",
       "Learning Time            267.9300  \n",
       "Prediction Time            0.4997  "
      ]
     },
     "execution_count": 32,
     "metadata": {},
     "output_type": "execute_result"
    }
   ],
   "source": [
    "results_final"
   ]
  },
  {
   "cell_type": "markdown",
   "metadata": {
    "id": "HaD-rjO7TeUp"
   },
   "source": [
    "Экстремальный бустинг выдает меньшую ошибку, нежели остальные алгоритмы, хоть и переобучается (исправимо с более точной настройков параметров обучения и использованием валидации).   \n",
    "Попробуем библиотеку CatBoost"
   ]
  },
  {
   "cell_type": "markdown",
   "metadata": {
    "id": "527ao8YTWPFx"
   },
   "source": [
    "### CatBoost"
   ]
  },
  {
   "cell_type": "code",
   "execution_count": 33,
   "metadata": {
    "ExecuteTime": {
     "end_time": "2022-02-09T17:46:54.190543Z",
     "start_time": "2022-02-09T17:46:54.052913Z"
    },
    "id": "5GVlsFzXWSCw"
   },
   "outputs": [],
   "source": [
    "#Для обучения CatBoostRegressor нам не нужно кодирование\n",
    "X = df.drop('price', axis=1)\n",
    "y = df['price']\n",
    "\n",
    "cat_features = ['vehicle_type', 'gearbox', 'model', 'fuel', 'brand', 'not_repaired']\n",
    "X[cat_features] = X[cat_features].astype(str)\n",
    "X_train, X_test, y_train, y_test = train_test_split(X, y,\n",
    "                                                    test_size=0.3,\n",
    "                                                    random_state=1)"
   ]
  },
  {
   "cell_type": "code",
   "execution_count": 34,
   "metadata": {
    "ExecuteTime": {
     "end_time": "2022-02-09T17:48:12.247672Z",
     "start_time": "2022-02-09T17:46:54.192539Z"
    },
    "id": "XGNOaPifXHGJ"
   },
   "outputs": [],
   "source": [
    "cat_reg = ctb.CatBoostRegressor(iterations=1000, max_depth=5, learning_rate=0.3, random_state=47, cat_features=cat_features, verbose=0)\n",
    "\n",
    "start_time = time.time()\n",
    "cat_reg.fit(X_train, y_train)\n",
    "fit_time = time.time() - start_time\n",
    "\n",
    "preds_train = cat_reg.predict(X_train)\n",
    "start_time = time.time()\n",
    "preds_test = cat_reg.predict(X_test)\n",
    "predict_time = time.time() - start_time\n",
    "\n",
    "score_train = np.sqrt(mean_squared_error(y_train, preds_train))\n",
    "score_test = np.sqrt(mean_squared_error(y_test, preds_test))\n",
    "\n",
    "results.update({'CatBoostRegressor': [round(score_train, 2), round(score_test, 2), round(fit_time, 2), round(predict_time, 2)]})\n",
    "\n",
    "results_final = pd.DataFrame(data=results,\n",
    "                          index=['RMSE train', 'RMSE test', 'Learning Time', 'Prediction Time'])"
   ]
  },
  {
   "cell_type": "code",
   "execution_count": 35,
   "metadata": {
    "ExecuteTime": {
     "end_time": "2022-02-09T17:48:12.262634Z",
     "start_time": "2022-02-09T17:48:12.248670Z"
    },
    "colab": {
     "base_uri": "https://localhost:8080/",
     "height": 175
    },
    "id": "UxyVyb2HYgeh",
    "outputId": "0569c30e-d1fa-43a2-a88b-2168d7d0b3d1"
   },
   "outputs": [
    {
     "data": {
      "text/html": [
       "<div>\n",
       "<style scoped>\n",
       "    .dataframe tbody tr th:only-of-type {\n",
       "        vertical-align: middle;\n",
       "    }\n",
       "\n",
       "    .dataframe tbody tr th {\n",
       "        vertical-align: top;\n",
       "    }\n",
       "\n",
       "    .dataframe thead th {\n",
       "        text-align: right;\n",
       "    }\n",
       "</style>\n",
       "<table border=\"1\" class=\"dataframe\">\n",
       "  <thead>\n",
       "    <tr style=\"text-align: right;\">\n",
       "      <th></th>\n",
       "      <th>LinearRegression</th>\n",
       "      <th>Ridge</th>\n",
       "      <th>LinearSVR</th>\n",
       "      <th>DecisionTreeRegressor</th>\n",
       "      <th>RandomForestRegressor</th>\n",
       "      <th>XGBoostRegressor</th>\n",
       "      <th>CatBoostRegressor</th>\n",
       "    </tr>\n",
       "  </thead>\n",
       "  <tbody>\n",
       "    <tr>\n",
       "      <th>RMSE train</th>\n",
       "      <td>2385.4200</td>\n",
       "      <td>2385.6000</td>\n",
       "      <td>5316.0600</td>\n",
       "      <td>1881.9500</td>\n",
       "      <td>1779.1000</td>\n",
       "      <td>1305.4800</td>\n",
       "      <td>1477.88</td>\n",
       "    </tr>\n",
       "    <tr>\n",
       "      <th>RMSE test</th>\n",
       "      <td>2385.9400</td>\n",
       "      <td>2386.1700</td>\n",
       "      <td>5323.3800</td>\n",
       "      <td>1993.3600</td>\n",
       "      <td>1874.0200</td>\n",
       "      <td>1546.1200</td>\n",
       "      <td>1558.92</td>\n",
       "    </tr>\n",
       "    <tr>\n",
       "      <th>Learning Time</th>\n",
       "      <td>2.8526</td>\n",
       "      <td>0.6453</td>\n",
       "      <td>26.1473</td>\n",
       "      <td>2.6878</td>\n",
       "      <td>27.3641</td>\n",
       "      <td>267.9300</td>\n",
       "      <td>76.98</td>\n",
       "    </tr>\n",
       "    <tr>\n",
       "      <th>Prediction Time</th>\n",
       "      <td>0.1300</td>\n",
       "      <td>0.1300</td>\n",
       "      <td>0.1300</td>\n",
       "      <td>0.1500</td>\n",
       "      <td>0.2400</td>\n",
       "      <td>0.4997</td>\n",
       "      <td>0.26</td>\n",
       "    </tr>\n",
       "  </tbody>\n",
       "</table>\n",
       "</div>"
      ],
      "text/plain": [
       "                 LinearRegression      Ridge  LinearSVR  \\\n",
       "RMSE train              2385.4200  2385.6000  5316.0600   \n",
       "RMSE test               2385.9400  2386.1700  5323.3800   \n",
       "Learning Time              2.8526     0.6453    26.1473   \n",
       "Prediction Time            0.1300     0.1300     0.1300   \n",
       "\n",
       "                 DecisionTreeRegressor  RandomForestRegressor  \\\n",
       "RMSE train                   1881.9500              1779.1000   \n",
       "RMSE test                    1993.3600              1874.0200   \n",
       "Learning Time                   2.6878                27.3641   \n",
       "Prediction Time                 0.1500                 0.2400   \n",
       "\n",
       "                 XGBoostRegressor  CatBoostRegressor  \n",
       "RMSE train              1305.4800            1477.88  \n",
       "RMSE test               1546.1200            1558.92  \n",
       "Learning Time            267.9300              76.98  \n",
       "Prediction Time            0.4997               0.26  "
      ]
     },
     "execution_count": 35,
     "metadata": {},
     "output_type": "execute_result"
    }
   ],
   "source": [
    "results_final"
   ]
  },
  {
   "cell_type": "markdown",
   "metadata": {
    "id": "Ekvyr_4haspn"
   },
   "source": [
    "CatBoostRegressor обучается в разы быстрее XGBoostRegressor, и при этом гораздо меньше переобучается и не требует кодирования переменных. Результат также можно улучшить точной настройкой параметров.   \n",
    "Проверим библиотеку LightGBM"
   ]
  },
  {
   "cell_type": "markdown",
   "metadata": {
    "id": "KaecZ2b0bEVg"
   },
   "source": [
    "### LightGBM"
   ]
  },
  {
   "cell_type": "code",
   "execution_count": 36,
   "metadata": {
    "ExecuteTime": {
     "end_time": "2022-02-09T17:48:12.436168Z",
     "start_time": "2022-02-09T17:48:12.264629Z"
    },
    "id": "VurAOGSDOwBh"
   },
   "outputs": [],
   "source": [
    "#LightGBM также принимает категориальные переменные\n",
    "\n",
    "X[cat_features] = X[cat_features].astype('category')\n",
    "X_train, X_test, y_train, y_test = train_test_split(X, y,\n",
    "                                                    test_size=0.3,\n",
    "                                                    random_state=1)"
   ]
  },
  {
   "cell_type": "code",
   "execution_count": 37,
   "metadata": {
    "ExecuteTime": {
     "end_time": "2022-02-09T17:48:12.484041Z",
     "start_time": "2022-02-09T17:48:12.437166Z"
    },
    "id": "yCDTSEi6PQ1w"
   },
   "outputs": [],
   "source": [
    "X_train, X_test, y_train, y_test = train_test_split(X, y,\n",
    "                                                    test_size=0.3,\n",
    "                                                    random_state=1)"
   ]
  },
  {
   "cell_type": "code",
   "execution_count": 38,
   "metadata": {
    "ExecuteTime": {
     "end_time": "2022-02-09T17:48:14.418866Z",
     "start_time": "2022-02-09T17:48:12.486035Z"
    },
    "id": "ZE59ioCXh2sF"
   },
   "outputs": [],
   "source": [
    "lgb_reg = lgb.LGBMRegressor()\n",
    "start_time = time.time()\n",
    "lgb_reg.fit(X_train, y_train)\n",
    "fit_time = time.time() - start_time\n",
    "\n",
    "preds_train = lgb_reg.predict(X_train)\n",
    "start_time = time.time()\n",
    "preds_test = lgb_reg.predict(X_test)\n",
    "preds_time = time.time() - start_time\n",
    "\n",
    "score_train = np.sqrt(mean_squared_error(y_train, preds_train))\n",
    "score_test = np.sqrt(mean_squared_error(y_test, preds_test))\n",
    "\n",
    "results.update({'LightGBMRegressor': [round(score_train, 2), round(score_test, 2), round(fit_time, 2), round(preds_time, 2)]})\n",
    "\n",
    "results_final = pd.DataFrame(data=results,\n",
    "                          index=['RMSE train', 'RMSE test', 'Learning Time', 'Prediction Time'])"
   ]
  },
  {
   "cell_type": "code",
   "execution_count": 39,
   "metadata": {
    "ExecuteTime": {
     "end_time": "2022-02-09T17:48:14.434823Z",
     "start_time": "2022-02-09T17:48:14.419863Z"
    },
    "colab": {
     "base_uri": "https://localhost:8080/",
     "height": 175
    },
    "id": "35TWOelTlVeW",
    "outputId": "852d024b-c447-46c6-d7ec-c12be5b8cebc"
   },
   "outputs": [
    {
     "data": {
      "text/html": [
       "<div>\n",
       "<style scoped>\n",
       "    .dataframe tbody tr th:only-of-type {\n",
       "        vertical-align: middle;\n",
       "    }\n",
       "\n",
       "    .dataframe tbody tr th {\n",
       "        vertical-align: top;\n",
       "    }\n",
       "\n",
       "    .dataframe thead th {\n",
       "        text-align: right;\n",
       "    }\n",
       "</style>\n",
       "<table border=\"1\" class=\"dataframe\">\n",
       "  <thead>\n",
       "    <tr style=\"text-align: right;\">\n",
       "      <th></th>\n",
       "      <th>LinearRegression</th>\n",
       "      <th>Ridge</th>\n",
       "      <th>LinearSVR</th>\n",
       "      <th>DecisionTreeRegressor</th>\n",
       "      <th>RandomForestRegressor</th>\n",
       "      <th>XGBoostRegressor</th>\n",
       "      <th>CatBoostRegressor</th>\n",
       "      <th>LightGBMRegressor</th>\n",
       "    </tr>\n",
       "  </thead>\n",
       "  <tbody>\n",
       "    <tr>\n",
       "      <th>RMSE train</th>\n",
       "      <td>2385.4200</td>\n",
       "      <td>2385.6000</td>\n",
       "      <td>5316.0600</td>\n",
       "      <td>1881.9500</td>\n",
       "      <td>1779.1000</td>\n",
       "      <td>1305.4800</td>\n",
       "      <td>1477.88</td>\n",
       "      <td>1519.99</td>\n",
       "    </tr>\n",
       "    <tr>\n",
       "      <th>RMSE test</th>\n",
       "      <td>2385.9400</td>\n",
       "      <td>2386.1700</td>\n",
       "      <td>5323.3800</td>\n",
       "      <td>1993.3600</td>\n",
       "      <td>1874.0200</td>\n",
       "      <td>1546.1200</td>\n",
       "      <td>1558.92</td>\n",
       "      <td>1577.18</td>\n",
       "    </tr>\n",
       "    <tr>\n",
       "      <th>Learning Time</th>\n",
       "      <td>2.8526</td>\n",
       "      <td>0.6453</td>\n",
       "      <td>26.1473</td>\n",
       "      <td>2.6878</td>\n",
       "      <td>27.3641</td>\n",
       "      <td>267.9300</td>\n",
       "      <td>76.98</td>\n",
       "      <td>1.09</td>\n",
       "    </tr>\n",
       "    <tr>\n",
       "      <th>Prediction Time</th>\n",
       "      <td>0.1300</td>\n",
       "      <td>0.1300</td>\n",
       "      <td>0.1300</td>\n",
       "      <td>0.1500</td>\n",
       "      <td>0.2400</td>\n",
       "      <td>0.4997</td>\n",
       "      <td>0.26</td>\n",
       "      <td>0.25</td>\n",
       "    </tr>\n",
       "  </tbody>\n",
       "</table>\n",
       "</div>"
      ],
      "text/plain": [
       "                 LinearRegression      Ridge  LinearSVR  \\\n",
       "RMSE train              2385.4200  2385.6000  5316.0600   \n",
       "RMSE test               2385.9400  2386.1700  5323.3800   \n",
       "Learning Time              2.8526     0.6453    26.1473   \n",
       "Prediction Time            0.1300     0.1300     0.1300   \n",
       "\n",
       "                 DecisionTreeRegressor  RandomForestRegressor  \\\n",
       "RMSE train                   1881.9500              1779.1000   \n",
       "RMSE test                    1993.3600              1874.0200   \n",
       "Learning Time                   2.6878                27.3641   \n",
       "Prediction Time                 0.1500                 0.2400   \n",
       "\n",
       "                 XGBoostRegressor  CatBoostRegressor  LightGBMRegressor  \n",
       "RMSE train              1305.4800            1477.88            1519.99  \n",
       "RMSE test               1546.1200            1558.92            1577.18  \n",
       "Learning Time            267.9300              76.98               1.09  \n",
       "Prediction Time            0.4997               0.26               0.25  "
      ]
     },
     "execution_count": 39,
     "metadata": {},
     "output_type": "execute_result"
    }
   ],
   "source": [
    "results_final"
   ]
  },
  {
   "cell_type": "markdown",
   "metadata": {
    "id": "rbRbY3IRshtb"
   },
   "source": [
    "LightGBM показывает себя хуже остальных алгоритмов градиентных бустингов, но \n",
    "при этом обучается мгновенно и практически не переобучается.  "
   ]
  },
  {
   "cell_type": "markdown",
   "metadata": {
    "id": "If7LVj-8UL7E"
   },
   "source": [
    "## Результаты и выводы"
   ]
  },
  {
   "cell_type": "markdown",
   "metadata": {
    "id": "EC0RDRyhUPDx"
   },
   "source": [
    "Был получен датасет с данными о продаже автомобилей. В датасете присутствовали отсутствующие значения (до 20% в некоторых признаках), кроме того, в ряде признаков были обнаружены аномальные значения. Перед обучением моделей датасет был обработан, в случае обучения простых моделей и алгоритма экстремального бустинга признаки были закодированы с применением метода One-Hot-Encoding. Алгоритм CatBoost обучался без применения кодирования, LightGBM обучался с применением OrdinaryEncoder.   \n",
    "В результате самую низкую ошибку показала модель XGBoostRegressor, с небольшим отставанием расположилась модель CatBoostRegressor. Учитывая, что в требованиях к модели значилась не только метрика, но и скорость обучения, выбираем модель CatBoostRegressor, которая показала среднюю скорость обучения и достаточно низкую ошибку по сравнению с другими алгоритмами. \n",
    "\n",
    "Рассмотрим feature importance для выбранной модели"
   ]
  },
  {
   "cell_type": "code",
   "execution_count": 40,
   "metadata": {
    "ExecuteTime": {
     "end_time": "2022-02-09T17:48:14.450780Z",
     "start_time": "2022-02-09T17:48:14.435820Z"
    },
    "id": "LVvazwgGSzcs"
   },
   "outputs": [],
   "source": [
    "feat_imp = pd.Series(data=cat_reg.feature_importances_,\n",
    "                        index=X.columns)"
   ]
  },
  {
   "cell_type": "code",
   "execution_count": 41,
   "metadata": {
    "ExecuteTime": {
     "end_time": "2022-02-09T17:48:14.594413Z",
     "start_time": "2022-02-09T17:48:14.452775Z"
    },
    "colab": {
     "base_uri": "https://localhost:8080/",
     "height": 337
    },
    "id": "Iyf1Cm3zSzhD",
    "outputId": "00b487ef-fd2f-4b89-d9d1-402e36e10418"
   },
   "outputs": [
    {
     "data": {
      "image/png": "[encoded data removed]",
      "text/plain": [
       "<Figure size 1080x360 with 1 Axes>"
      ]
     },
     "metadata": {
      "needs_background": "light"
     },
     "output_type": "display_data"
    }
   ],
   "source": [
    "plt.figure(figsize=(15,5))\n",
    "plt.title('Важность признаков')\n",
    "sns.barplot(x=feat_imp.index, y=feat_imp.values)\n",
    "\n",
    "pass"
   ]
  },
  {
   "cell_type": "markdown",
   "metadata": {
    "id": "n4rfrB4YTLRc"
   },
   "source": [
    "Для модели CatBoostRegressor самыми важными признаками оказались год регистрации автомобиля и мощность его двигателя. Так как мы убрали из выборки для обучения старые автомобили, можно предположить, что новейшие машины продаются дороже, нежели более старые.   \n",
    "Ситуация с двигателем легко объяснима - более дорогие модели имеют больше лошадиных сил под капотом.   \n",
    "На третьем месте с практически одинаковым скором расположились марка машины, ее тип и пробег.   \n",
    "В то же время такие признаки, как тип коробки передач и месяц регистрации практически не влияют на предсказание модели - вероятно, стоит попробовать обучить модель без них и сравнить метрики."
   ]
  }
 ],
 "metadata": {
  "ExecuteTimeLog": [
   {
    "duration": 1861,
    "start_time": "2022-01-29T11:16:14.953Z"
   },
   {
    "duration": 3,
    "start_time": "2022-01-29T11:16:16.816Z"
   },
   {
    "duration": 2243,
    "start_time": "2022-01-29T11:16:16.821Z"
   },
   {
    "duration": -38,
    "start_time": "2022-01-29T11:16:19.105Z"
   },
   {
    "duration": -39,
    "start_time": "2022-01-29T11:16:19.107Z"
   },
   {
    "duration": -40,
    "start_time": "2022-01-29T11:16:19.109Z"
   },
   {
    "duration": -40,
    "start_time": "2022-01-29T11:16:19.110Z"
   },
   {
    "duration": -41,
    "start_time": "2022-01-29T11:16:19.112Z"
   },
   {
    "duration": -41,
    "start_time": "2022-01-29T11:16:19.113Z"
   },
   {
    "duration": -42,
    "start_time": "2022-01-29T11:16:19.115Z"
   },
   {
    "duration": -49,
    "start_time": "2022-01-29T11:16:19.123Z"
   },
   {
    "duration": -50,
    "start_time": "2022-01-29T11:16:19.125Z"
   },
   {
    "duration": -50,
    "start_time": "2022-01-29T11:16:19.126Z"
   },
   {
    "duration": -50,
    "start_time": "2022-01-29T11:16:19.127Z"
   },
   {
    "duration": -54,
    "start_time": "2022-01-29T11:16:19.132Z"
   },
   {
    "duration": -53,
    "start_time": "2022-01-29T11:16:19.133Z"
   },
   {
    "duration": -58,
    "start_time": "2022-01-29T11:16:19.139Z"
   },
   {
    "duration": -59,
    "start_time": "2022-01-29T11:16:19.141Z"
   },
   {
    "duration": -60,
    "start_time": "2022-01-29T11:16:19.143Z"
   },
   {
    "duration": -59,
    "start_time": "2022-01-29T11:16:19.144Z"
   },
   {
    "duration": -67,
    "start_time": "2022-01-29T11:16:19.152Z"
   },
   {
    "duration": -76,
    "start_time": "2022-01-29T11:16:19.162Z"
   },
   {
    "duration": -76,
    "start_time": "2022-01-29T11:16:19.163Z"
   },
   {
    "duration": -76,
    "start_time": "2022-01-29T11:16:19.164Z"
   },
   {
    "duration": -82,
    "start_time": "2022-01-29T11:16:19.171Z"
   },
   {
    "duration": -82,
    "start_time": "2022-01-29T11:16:19.172Z"
   },
   {
    "duration": -82,
    "start_time": "2022-01-29T11:16:19.173Z"
   },
   {
    "duration": -90,
    "start_time": "2022-01-29T11:16:19.181Z"
   },
   {
    "duration": -89,
    "start_time": "2022-01-29T11:16:19.182Z"
   },
   {
    "duration": -89,
    "start_time": "2022-01-29T11:16:19.183Z"
   },
   {
    "duration": -97,
    "start_time": "2022-01-29T11:16:19.192Z"
   },
   {
    "duration": -97,
    "start_time": "2022-01-29T11:16:19.193Z"
   },
   {
    "duration": -97,
    "start_time": "2022-01-29T11:16:19.194Z"
   },
   {
    "duration": -97,
    "start_time": "2022-01-29T11:16:19.195Z"
   },
   {
    "duration": -105,
    "start_time": "2022-01-29T11:16:19.204Z"
   },
   {
    "duration": -104,
    "start_time": "2022-01-29T11:16:19.204Z"
   },
   {
    "duration": -104,
    "start_time": "2022-01-29T11:16:19.205Z"
   },
   {
    "duration": -104,
    "start_time": "2022-01-29T11:16:19.206Z"
   },
   {
    "duration": 853,
    "start_time": "2022-01-29T11:16:29.147Z"
   },
   {
    "duration": 5,
    "start_time": "2022-01-29T11:16:32.433Z"
   },
   {
    "duration": 5,
    "start_time": "2022-01-29T11:16:32.439Z"
   },
   {
    "duration": 786,
    "start_time": "2022-01-29T11:16:32.445Z"
   },
   {
    "duration": 15,
    "start_time": "2022-01-29T11:16:33.233Z"
   },
   {
    "duration": 31,
    "start_time": "2022-01-29T11:16:33.249Z"
   },
   {
    "duration": 96,
    "start_time": "2022-01-29T11:16:33.281Z"
   },
   {
    "duration": 79,
    "start_time": "2022-01-29T11:16:33.379Z"
   },
   {
    "duration": 89,
    "start_time": "2022-01-29T11:16:33.460Z"
   },
   {
    "duration": 265,
    "start_time": "2022-01-29T11:16:33.551Z"
   },
   {
    "duration": 162,
    "start_time": "2022-01-29T11:16:33.818Z"
   },
   {
    "duration": 213,
    "start_time": "2022-01-29T11:16:33.982Z"
   },
   {
    "duration": 19,
    "start_time": "2022-01-29T11:16:34.197Z"
   },
   {
    "duration": 524,
    "start_time": "2022-01-29T11:16:34.217Z"
   },
   {
    "duration": 15,
    "start_time": "2022-01-29T11:16:34.728Z"
   },
   {
    "duration": 16,
    "start_time": "2022-01-29T11:16:34.728Z"
   },
   {
    "duration": -13,
    "start_time": "2022-01-29T11:16:34.757Z"
   },
   {
    "duration": -14,
    "start_time": "2022-01-29T11:16:34.759Z"
   },
   {
    "duration": -14,
    "start_time": "2022-01-29T11:16:34.760Z"
   },
   {
    "duration": -14,
    "start_time": "2022-01-29T11:16:34.761Z"
   },
   {
    "duration": -14,
    "start_time": "2022-01-29T11:16:34.762Z"
   },
   {
    "duration": -13,
    "start_time": "2022-01-29T11:16:34.762Z"
   },
   {
    "duration": -13,
    "start_time": "2022-01-29T11:16:34.763Z"
   },
   {
    "duration": -13,
    "start_time": "2022-01-29T11:16:34.764Z"
   },
   {
    "duration": -12,
    "start_time": "2022-01-29T11:16:34.764Z"
   },
   {
    "duration": -12,
    "start_time": "2022-01-29T11:16:34.765Z"
   },
   {
    "duration": -12,
    "start_time": "2022-01-29T11:16:34.766Z"
   },
   {
    "duration": -12,
    "start_time": "2022-01-29T11:16:34.767Z"
   },
   {
    "duration": -15,
    "start_time": "2022-01-29T11:16:34.770Z"
   },
   {
    "duration": -14,
    "start_time": "2022-01-29T11:16:34.770Z"
   },
   {
    "duration": -14,
    "start_time": "2022-01-29T11:16:34.771Z"
   },
   {
    "duration": -14,
    "start_time": "2022-01-29T11:16:34.772Z"
   },
   {
    "duration": -13,
    "start_time": "2022-01-29T11:16:34.772Z"
   },
   {
    "duration": -13,
    "start_time": "2022-01-29T11:16:34.773Z"
   },
   {
    "duration": -14,
    "start_time": "2022-01-29T11:16:34.775Z"
   },
   {
    "duration": -14,
    "start_time": "2022-01-29T11:16:34.776Z"
   },
   {
    "duration": -14,
    "start_time": "2022-01-29T11:16:34.777Z"
   },
   {
    "duration": -13,
    "start_time": "2022-01-29T11:16:34.777Z"
   },
   {
    "duration": -43,
    "start_time": "2022-01-29T11:16:34.808Z"
   },
   {
    "duration": 10,
    "start_time": "2022-01-29T11:17:26.186Z"
   },
   {
    "duration": 770,
    "start_time": "2022-01-29T11:17:26.197Z"
   },
   {
    "duration": 747,
    "start_time": "2022-01-29T11:17:26.969Z"
   },
   {
    "duration": 5,
    "start_time": "2022-01-29T11:17:27.718Z"
   },
   {
    "duration": 241367,
    "start_time": "2022-01-29T11:17:27.724Z"
   },
   {
    "duration": 7,
    "start_time": "2022-01-29T11:21:29.093Z"
   },
   {
    "duration": 1771288,
    "start_time": "2022-01-29T11:21:29.102Z"
   },
   {
    "duration": 9,
    "start_time": "2022-01-29T11:51:00.391Z"
   },
   {
    "duration": 321,
    "start_time": "2022-01-29T11:51:00.403Z"
   },
   {
    "duration": 448014,
    "start_time": "2022-01-29T11:51:00.726Z"
   },
   {
    "duration": 9,
    "start_time": "2022-01-29T11:58:28.741Z"
   },
   {
    "duration": 1065,
    "start_time": "2022-01-29T11:58:28.752Z"
   },
   {
    "duration": 10,
    "start_time": "2022-01-29T11:58:29.818Z"
   },
   {
    "duration": 3966,
    "start_time": "2022-01-29T11:58:29.830Z"
   },
   {
    "duration": 15,
    "start_time": "2022-01-29T11:58:33.798Z"
   },
   {
    "duration": 1605,
    "start_time": "2022-01-29T12:37:20.333Z"
   },
   {
    "duration": 3,
    "start_time": "2022-01-29T12:37:21.941Z"
   },
   {
    "duration": 1185,
    "start_time": "2022-01-29T12:37:21.947Z"
   },
   {
    "duration": 36,
    "start_time": "2022-01-29T12:37:23.135Z"
   },
   {
    "duration": 59,
    "start_time": "2022-01-29T12:37:23.174Z"
   },
   {
    "duration": 115,
    "start_time": "2022-01-29T12:37:23.236Z"
   },
   {
    "duration": 120,
    "start_time": "2022-01-29T12:37:23.354Z"
   },
   {
    "duration": 111,
    "start_time": "2022-01-29T12:37:23.477Z"
   },
   {
    "duration": 394,
    "start_time": "2022-01-29T12:37:23.591Z"
   },
   {
    "duration": 240,
    "start_time": "2022-01-29T12:37:23.987Z"
   },
   {
    "duration": 329,
    "start_time": "2022-01-29T12:37:24.232Z"
   },
   {
    "duration": 28,
    "start_time": "2022-01-29T12:37:24.563Z"
   },
   {
    "duration": 1676,
    "start_time": "2022-02-01T16:21:20.482Z"
   },
   {
    "duration": 4,
    "start_time": "2022-02-01T16:21:26.295Z"
   },
   {
    "duration": 1244,
    "start_time": "2022-02-01T16:21:29.072Z"
   },
   {
    "duration": 51,
    "start_time": "2022-02-01T16:21:30.319Z"
   },
   {
    "duration": 51,
    "start_time": "2022-02-01T16:21:32.640Z"
   },
   {
    "duration": 146,
    "start_time": "2022-02-01T16:21:33.727Z"
   },
   {
    "duration": 196,
    "start_time": "2022-02-01T16:21:36.491Z"
   },
   {
    "duration": 133,
    "start_time": "2022-02-01T16:21:39.592Z"
   },
   {
    "duration": 636,
    "start_time": "2022-02-01T16:21:41.374Z"
   },
   {
    "duration": 288,
    "start_time": "2022-02-01T16:21:43.040Z"
   },
   {
    "duration": 362,
    "start_time": "2022-02-01T16:21:46.153Z"
   },
   {
    "duration": 27,
    "start_time": "2022-02-01T16:26:05.503Z"
   },
   {
    "duration": 815,
    "start_time": "2022-02-01T16:26:22.183Z"
   },
   {
    "duration": 697,
    "start_time": "2022-02-01T16:26:57.968Z"
   },
   {
    "duration": 731,
    "start_time": "2022-02-01T16:27:03.200Z"
   }
  ],
  "colab": {
   "collapsed_sections": [],
   "name": "auto_price_1.ipynb",
   "provenance": []
  },
  "hide_input": false,
  "kernelspec": {
   "display_name": "Python 3 (ipykernel)",
   "language": "python",
   "name": "python3"
  },
  "language_info": {
   "codemirror_mode": {
    "name": "ipython",
    "version": 3
   },
   "file_extension": ".py",
   "mimetype": "text/x-python",
   "name": "python",
   "nbconvert_exporter": "python",
   "pygments_lexer": "ipython3",
   "version": "3.9.7"
  },
  "toc": {
   "base_numbering": 1,
   "nav_menu": {},
   "number_sections": true,
   "sideBar": true,
   "skip_h1_title": true,
   "title_cell": "Table of Contents",
   "title_sidebar": "Contents",
   "toc_cell": false,
   "toc_position": {},
   "toc_section_display": true,
   "toc_window_display": false
  },
  "varInspector": {
   "cols": {
    "lenName": 16,
    "lenType": 16,
    "lenVar": 40
   },
   "kernels_config": {
    "python": {
     "delete_cmd_postfix": "",
     "delete_cmd_prefix": "del ",
     "library": "var_list.py",
     "varRefreshCmd": "print(var_dic_list())"
    },
    "r": {
     "delete_cmd_postfix": ") ",
     "delete_cmd_prefix": "rm(",
     "library": "var_list.r",
     "varRefreshCmd": "cat(var_dic_list()) "
    }
   },
   "types_to_exclude": [
    "module",
    "function",
    "builtin_function_or_method",
    "instance",
    "_Feature"
   ],
   "window_display": false
  }
 },
 "nbformat": 4,
 "nbformat_minor": 1
}
