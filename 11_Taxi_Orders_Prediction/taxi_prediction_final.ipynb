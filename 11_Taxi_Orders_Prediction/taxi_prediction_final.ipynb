{
 "cells": [
  {
   "cell_type": "markdown",
   "metadata": {},
   "source": [
    "## Подготовка"
   ]
  },
  {
   "cell_type": "code",
   "execution_count": 1,
   "metadata": {
    "ExecuteTime": {
     "end_time": "2022-02-21T14:00:51.418008Z",
     "start_time": "2022-02-21T14:00:49.363506Z"
    }
   },
   "outputs": [],
   "source": [
    "import pandas as pd\n",
    "import numpy as np\n",
    "import matplotlib.pyplot as plt\n",
    "import seaborn as sns\n",
    "from statsmodels.tsa.seasonal import seasonal_decompose\n",
    "from sklearn.model_selection import train_test_split\n",
    "from sklearn.metrics import mean_squared_error\n",
    "import lightgbm as lgb\n",
    "\n",
    "import warnings\n",
    "warnings.filterwarnings('ignore')"
   ]
  },
  {
   "cell_type": "markdown",
   "metadata": {},
   "source": [
    "Загрузим и изучим данные"
   ]
  },
  {
   "cell_type": "code",
   "execution_count": 2,
   "metadata": {
    "ExecuteTime": {
     "end_time": "2022-02-21T14:00:51.465880Z",
     "start_time": "2022-02-21T14:00:51.420003Z"
    }
   },
   "outputs": [],
   "source": [
    "data = pd.read_csv('taxi.csv', parse_dates=['datetime'], index_col=['datetime'])\n",
    "df = data.copy()"
   ]
  },
  {
   "cell_type": "code",
   "execution_count": 3,
   "metadata": {
    "ExecuteTime": {
     "end_time": "2022-02-21T14:00:51.480842Z",
     "start_time": "2022-02-21T14:00:51.466878Z"
    }
   },
   "outputs": [
    {
     "data": {
      "text/html": [
       "<div>\n",
       "<style scoped>\n",
       "    .dataframe tbody tr th:only-of-type {\n",
       "        vertical-align: middle;\n",
       "    }\n",
       "\n",
       "    .dataframe tbody tr th {\n",
       "        vertical-align: top;\n",
       "    }\n",
       "\n",
       "    .dataframe thead th {\n",
       "        text-align: right;\n",
       "    }\n",
       "</style>\n",
       "<table border=\"1\" class=\"dataframe\">\n",
       "  <thead>\n",
       "    <tr style=\"text-align: right;\">\n",
       "      <th></th>\n",
       "      <th>num_orders</th>\n",
       "    </tr>\n",
       "    <tr>\n",
       "      <th>datetime</th>\n",
       "      <th></th>\n",
       "    </tr>\n",
       "  </thead>\n",
       "  <tbody>\n",
       "    <tr>\n",
       "      <th>2018-03-01 00:00:00</th>\n",
       "      <td>9</td>\n",
       "    </tr>\n",
       "    <tr>\n",
       "      <th>2018-03-01 00:10:00</th>\n",
       "      <td>14</td>\n",
       "    </tr>\n",
       "    <tr>\n",
       "      <th>2018-03-01 00:20:00</th>\n",
       "      <td>28</td>\n",
       "    </tr>\n",
       "    <tr>\n",
       "      <th>2018-03-01 00:30:00</th>\n",
       "      <td>20</td>\n",
       "    </tr>\n",
       "    <tr>\n",
       "      <th>2018-03-01 00:40:00</th>\n",
       "      <td>32</td>\n",
       "    </tr>\n",
       "  </tbody>\n",
       "</table>\n",
       "</div>"
      ],
      "text/plain": [
       "                     num_orders\n",
       "datetime                       \n",
       "2018-03-01 00:00:00           9\n",
       "2018-03-01 00:10:00          14\n",
       "2018-03-01 00:20:00          28\n",
       "2018-03-01 00:30:00          20\n",
       "2018-03-01 00:40:00          32"
      ]
     },
     "execution_count": 3,
     "metadata": {},
     "output_type": "execute_result"
    }
   ],
   "source": [
    "df.head()"
   ]
  },
  {
   "cell_type": "code",
   "execution_count": 4,
   "metadata": {
    "ExecuteTime": {
     "end_time": "2022-02-21T14:00:51.511757Z",
     "start_time": "2022-02-21T14:00:51.482835Z"
    }
   },
   "outputs": [
    {
     "name": "stdout",
     "output_type": "stream",
     "text": [
      "<class 'pandas.core.frame.DataFrame'>\n",
      "DatetimeIndex: 26496 entries, 2018-03-01 00:00:00 to 2018-08-31 23:50:00\n",
      "Data columns (total 1 columns):\n",
      " #   Column      Non-Null Count  Dtype\n",
      "---  ------      --------------  -----\n",
      " 0   num_orders  26496 non-null  int64\n",
      "dtypes: int64(1)\n",
      "memory usage: 414.0 KB\n",
      "None\n",
      "         num_orders\n",
      "count  26496.000000\n",
      "mean      14.070463\n",
      "std        9.211330\n",
      "min        0.000000\n",
      "25%        8.000000\n",
      "50%       13.000000\n",
      "75%       19.000000\n",
      "max      119.000000\n"
     ]
    }
   ],
   "source": [
    "print(df.info())\n",
    "print(df.describe())"
   ]
  },
  {
   "cell_type": "code",
   "execution_count": 5,
   "metadata": {
    "ExecuteTime": {
     "end_time": "2022-02-21T14:00:52.480196Z",
     "start_time": "2022-02-21T14:00:51.512757Z"
    }
   },
   "outputs": [
    {
     "data": {
      "image/png": "[encoded data removed]",
      "text/plain": [
       "<Figure size 504x360 with 1 Axes>"
      ]
     },
     "metadata": {
      "needs_background": "light"
     },
     "output_type": "display_data"
    }
   ],
   "source": [
    "plt.figure(figsize=(7,5))\n",
    "plt.title('Распределение целевого признака')\n",
    "sns.distplot(a=df['num_orders'])\n",
    "pass"
   ]
  },
  {
   "cell_type": "markdown",
   "metadata": {},
   "source": [
    "Данные не содержат пропусков, распределение с хвостом вправо - учитывая, что у нас распределение величины по времени, это ожидаемый вид распределения. Проверим даты"
   ]
  },
  {
   "cell_type": "code",
   "execution_count": 6,
   "metadata": {
    "ExecuteTime": {
     "end_time": "2022-02-21T14:00:52.495158Z",
     "start_time": "2022-02-21T14:00:52.481167Z"
    }
   },
   "outputs": [
    {
     "data": {
      "text/plain": [
       "True"
      ]
     },
     "execution_count": 6,
     "metadata": {},
     "output_type": "execute_result"
    }
   ],
   "source": [
    "df.index.is_monotonic"
   ]
  },
  {
   "cell_type": "markdown",
   "metadata": {},
   "source": [
    "Даты непрерывные. Выполним ресемплирование данных по одному часу"
   ]
  },
  {
   "cell_type": "code",
   "execution_count": 7,
   "metadata": {
    "ExecuteTime": {
     "end_time": "2022-02-21T14:00:52.526046Z",
     "start_time": "2022-02-21T14:00:52.497123Z"
    }
   },
   "outputs": [
    {
     "data": {
      "text/html": [
       "<div>\n",
       "<style scoped>\n",
       "    .dataframe tbody tr th:only-of-type {\n",
       "        vertical-align: middle;\n",
       "    }\n",
       "\n",
       "    .dataframe tbody tr th {\n",
       "        vertical-align: top;\n",
       "    }\n",
       "\n",
       "    .dataframe thead th {\n",
       "        text-align: right;\n",
       "    }\n",
       "</style>\n",
       "<table border=\"1\" class=\"dataframe\">\n",
       "  <thead>\n",
       "    <tr style=\"text-align: right;\">\n",
       "      <th></th>\n",
       "      <th>num_orders</th>\n",
       "    </tr>\n",
       "    <tr>\n",
       "      <th>datetime</th>\n",
       "      <th></th>\n",
       "    </tr>\n",
       "  </thead>\n",
       "  <tbody>\n",
       "    <tr>\n",
       "      <th>2018-03-01 00:00:00</th>\n",
       "      <td>124</td>\n",
       "    </tr>\n",
       "    <tr>\n",
       "      <th>2018-03-01 01:00:00</th>\n",
       "      <td>85</td>\n",
       "    </tr>\n",
       "    <tr>\n",
       "      <th>2018-03-01 02:00:00</th>\n",
       "      <td>71</td>\n",
       "    </tr>\n",
       "    <tr>\n",
       "      <th>2018-03-01 03:00:00</th>\n",
       "      <td>66</td>\n",
       "    </tr>\n",
       "    <tr>\n",
       "      <th>2018-03-01 04:00:00</th>\n",
       "      <td>43</td>\n",
       "    </tr>\n",
       "    <tr>\n",
       "      <th>...</th>\n",
       "      <td>...</td>\n",
       "    </tr>\n",
       "    <tr>\n",
       "      <th>2018-08-31 19:00:00</th>\n",
       "      <td>136</td>\n",
       "    </tr>\n",
       "    <tr>\n",
       "      <th>2018-08-31 20:00:00</th>\n",
       "      <td>154</td>\n",
       "    </tr>\n",
       "    <tr>\n",
       "      <th>2018-08-31 21:00:00</th>\n",
       "      <td>159</td>\n",
       "    </tr>\n",
       "    <tr>\n",
       "      <th>2018-08-31 22:00:00</th>\n",
       "      <td>223</td>\n",
       "    </tr>\n",
       "    <tr>\n",
       "      <th>2018-08-31 23:00:00</th>\n",
       "      <td>205</td>\n",
       "    </tr>\n",
       "  </tbody>\n",
       "</table>\n",
       "<p>4416 rows × 1 columns</p>\n",
       "</div>"
      ],
      "text/plain": [
       "                     num_orders\n",
       "datetime                       \n",
       "2018-03-01 00:00:00         124\n",
       "2018-03-01 01:00:00          85\n",
       "2018-03-01 02:00:00          71\n",
       "2018-03-01 03:00:00          66\n",
       "2018-03-01 04:00:00          43\n",
       "...                         ...\n",
       "2018-08-31 19:00:00         136\n",
       "2018-08-31 20:00:00         154\n",
       "2018-08-31 21:00:00         159\n",
       "2018-08-31 22:00:00         223\n",
       "2018-08-31 23:00:00         205\n",
       "\n",
       "[4416 rows x 1 columns]"
      ]
     },
     "execution_count": 7,
     "metadata": {},
     "output_type": "execute_result"
    }
   ],
   "source": [
    "df = df.resample('1H').sum()\n",
    "df"
   ]
  },
  {
   "cell_type": "markdown",
   "metadata": {},
   "source": [
    "Данные готовы к анализу"
   ]
  },
  {
   "cell_type": "markdown",
   "metadata": {},
   "source": [
    "## Анализ"
   ]
  },
  {
   "cell_type": "markdown",
   "metadata": {},
   "source": [
    "Для анализа времянного ряда разложим его на составляющие:"
   ]
  },
  {
   "cell_type": "code",
   "execution_count": 8,
   "metadata": {
    "ExecuteTime": {
     "end_time": "2022-02-21T14:00:52.953902Z",
     "start_time": "2022-02-21T14:00:52.528041Z"
    },
    "scrolled": false
   },
   "outputs": [
    {
     "data": {
      "image/png": "[encoded data removed]",
      "text/plain": [
       "<Figure size 432x288 with 4 Axes>"
      ]
     },
     "metadata": {
      "needs_background": "light"
     },
     "output_type": "display_data"
    }
   ],
   "source": [
    "decomposed = seasonal_decompose(df)\n",
    "decomposed.plot();"
   ]
  },
  {
   "cell_type": "markdown",
   "metadata": {},
   "source": [
    "Рассмотрим сезонность, тренды и шум, присутствующие в данных"
   ]
  },
  {
   "cell_type": "code",
   "execution_count": 9,
   "metadata": {
    "ExecuteTime": {
     "end_time": "2022-02-21T14:00:53.236150Z",
     "start_time": "2022-02-21T14:00:52.955897Z"
    }
   },
   "outputs": [
    {
     "data": {
      "image/png": "[encoded data removed]",
      "text/plain": [
       "<Figure size 720x360 with 2 Axes>"
      ]
     },
     "metadata": {
      "needs_background": "light"
     },
     "output_type": "display_data"
    }
   ],
   "source": [
    "fig, axes = plt.subplots(nrows=2, ncols=1, figsize=(10,5))\n",
    "plt.suptitle('Сезонность')\n",
    "sns.lineplot(data=decomposed.seasonal['2018-04-01':'2018-04-07'], ax=axes[0])\n",
    "sns.lineplot(data=decomposed.seasonal['2018-04-01':'2018-04-02'], ax=axes[1])\n",
    "pass"
   ]
  },
  {
   "cell_type": "code",
   "execution_count": 10,
   "metadata": {
    "ExecuteTime": {
     "end_time": "2022-02-21T14:00:53.252105Z",
     "start_time": "2022-02-21T14:00:53.239140Z"
    }
   },
   "outputs": [
    {
     "data": {
      "text/html": [
       "<div>\n",
       "<style scoped>\n",
       "    .dataframe tbody tr th:only-of-type {\n",
       "        vertical-align: middle;\n",
       "    }\n",
       "\n",
       "    .dataframe tbody tr th {\n",
       "        vertical-align: top;\n",
       "    }\n",
       "\n",
       "    .dataframe thead th {\n",
       "        text-align: right;\n",
       "    }\n",
       "</style>\n",
       "<table border=\"1\" class=\"dataframe\">\n",
       "  <thead>\n",
       "    <tr style=\"text-align: right;\">\n",
       "      <th></th>\n",
       "      <th>trend</th>\n",
       "      <th>rolling_mean</th>\n",
       "    </tr>\n",
       "    <tr>\n",
       "      <th>datetime</th>\n",
       "      <th></th>\n",
       "      <th></th>\n",
       "    </tr>\n",
       "  </thead>\n",
       "  <tbody>\n",
       "    <tr>\n",
       "      <th>2018-03-01 00:00:00</th>\n",
       "      <td>NaN</td>\n",
       "      <td>NaN</td>\n",
       "    </tr>\n",
       "    <tr>\n",
       "      <th>2018-03-01 01:00:00</th>\n",
       "      <td>NaN</td>\n",
       "      <td>NaN</td>\n",
       "    </tr>\n",
       "    <tr>\n",
       "      <th>2018-03-01 02:00:00</th>\n",
       "      <td>NaN</td>\n",
       "      <td>NaN</td>\n",
       "    </tr>\n",
       "    <tr>\n",
       "      <th>2018-03-01 03:00:00</th>\n",
       "      <td>NaN</td>\n",
       "      <td>NaN</td>\n",
       "    </tr>\n",
       "    <tr>\n",
       "      <th>2018-03-01 04:00:00</th>\n",
       "      <td>NaN</td>\n",
       "      <td>NaN</td>\n",
       "    </tr>\n",
       "  </tbody>\n",
       "</table>\n",
       "</div>"
      ],
      "text/plain": [
       "                     trend  rolling_mean\n",
       "datetime                                \n",
       "2018-03-01 00:00:00    NaN           NaN\n",
       "2018-03-01 01:00:00    NaN           NaN\n",
       "2018-03-01 02:00:00    NaN           NaN\n",
       "2018-03-01 03:00:00    NaN           NaN\n",
       "2018-03-01 04:00:00    NaN           NaN"
      ]
     },
     "execution_count": 10,
     "metadata": {},
     "output_type": "execute_result"
    }
   ],
   "source": [
    "trend = pd.DataFrame(decomposed.trend)\n",
    "trend['rolling_mean'] = trend.trend.rolling(500).mean()\n",
    "trend.head()"
   ]
  },
  {
   "cell_type": "code",
   "execution_count": 11,
   "metadata": {
    "ExecuteTime": {
     "end_time": "2022-02-21T14:00:53.665999Z",
     "start_time": "2022-02-21T14:00:53.254100Z"
    }
   },
   "outputs": [
    {
     "data": {
      "image/png": "[encoded data removed]",
      "text/plain": [
       "<Figure size 720x360 with 1 Axes>"
      ]
     },
     "metadata": {
      "needs_background": "light"
     },
     "output_type": "display_data"
    }
   ],
   "source": [
    "plt.figure(figsize=(10,5))\n",
    "plt.title('Тренд')\n",
    "sns.lineplot(data=trend)\n",
    "pass"
   ]
  },
  {
   "cell_type": "code",
   "execution_count": 12,
   "metadata": {
    "ExecuteTime": {
     "end_time": "2022-02-21T14:00:53.868458Z",
     "start_time": "2022-02-21T14:00:53.666996Z"
    }
   },
   "outputs": [
    {
     "data": {
      "image/png": "[encoded data removed]",
      "text/plain": [
       "<Figure size 720x360 with 1 Axes>"
      ]
     },
     "metadata": {
      "needs_background": "light"
     },
     "output_type": "display_data"
    }
   ],
   "source": [
    "plt.figure(figsize=(10,5))\n",
    "plt.title('Шум')\n",
    "sns.lineplot(data=decomposed.resid['2018-03-01':'2018-04-01'])\n",
    "pass"
   ]
  },
  {
   "cell_type": "markdown",
   "metadata": {},
   "source": [
    "Ненулевой шум показывает, что библиотека корректно справилась с отделением случайных значений.  \n",
    "\n",
    "График сезонности показывает, что абсолютный максимум заказов приходится на ночь (00:00-02:00). Локальный максимум заказов приходится на вечернее время, (15:00-18:00). Скорее всего подобные колебания приходятся на время, когда люди возвращаются с работы и ночное время, когда люди разъезжаются по домам после различных развлечений. Абсолютный минимум по заказам наблюдается около 6:00 утра.   \n",
    "\n",
    "Анализ тренда временного ряда показывает, что количество заказов растет с каждым месяцем. Вероятно данный тренд на увеличение наблюдается благодаря расширению компании и увеличению количества частых клиентов."
   ]
  },
  {
   "cell_type": "markdown",
   "metadata": {},
   "source": [
    "## Обучение"
   ]
  },
  {
   "cell_type": "markdown",
   "metadata": {},
   "source": [
    "Создадим дополнительные признаки для обучения моделей, разделим выборки на обучающую и тестовую и обучим модель. В качестве метрики валидации выберем RMSE. В качестве модели выберем LightGBM за его скорость. "
   ]
  },
  {
   "cell_type": "code",
   "execution_count": 13,
   "metadata": {
    "ExecuteTime": {
     "end_time": "2022-02-21T14:00:53.883418Z",
     "start_time": "2022-02-21T14:00:53.870453Z"
    }
   },
   "outputs": [],
   "source": [
    "'''\n",
    "Функция принимает на вход датафрейм,\n",
    "максимальное смещение и размер окна\n",
    "скользящего среднего. На основании входа\n",
    "создает дополнительные признаки для \n",
    "обучения\n",
    "'''\n",
    "\n",
    "def make_time_features(data, max_lag, rolling_mean_size):\n",
    "    \n",
    "    data['dayofweek'] = data.index.dayofweek\n",
    "    data['hour'] = data.index.hour\n",
    "    \n",
    "    for lag in range(1, max_lag + 1):\n",
    "        data[f'lag_{lag}'] = data['num_orders'].shift(lag)\n",
    "\n",
    "    data['rolling_mean'] = data['num_orders'].shift().rolling(rolling_mean_size).mean()\n",
    "    \n",
    "    print(data.head())"
   ]
  },
  {
   "cell_type": "code",
   "execution_count": 14,
   "metadata": {
    "ExecuteTime": {
     "end_time": "2022-02-21T14:00:53.915331Z",
     "start_time": "2022-02-21T14:00:53.885413Z"
    }
   },
   "outputs": [
    {
     "name": "stdout",
     "output_type": "stream",
     "text": [
      "                     num_orders  dayofweek  hour  lag_1  lag_2  lag_3  lag_4  \\\n",
      "datetime                                                                       \n",
      "2018-03-01 00:00:00         124          3     0    NaN    NaN    NaN    NaN   \n",
      "2018-03-01 01:00:00          85          3     1  124.0    NaN    NaN    NaN   \n",
      "2018-03-01 02:00:00          71          3     2   85.0  124.0    NaN    NaN   \n",
      "2018-03-01 03:00:00          66          3     3   71.0   85.0  124.0    NaN   \n",
      "2018-03-01 04:00:00          43          3     4   66.0   71.0   85.0  124.0   \n",
      "\n",
      "                     lag_5  lag_6  lag_7  ...  lag_17  lag_18  lag_19  lag_20  \\\n",
      "datetime                                  ...                                   \n",
      "2018-03-01 00:00:00    NaN    NaN    NaN  ...     NaN     NaN     NaN     NaN   \n",
      "2018-03-01 01:00:00    NaN    NaN    NaN  ...     NaN     NaN     NaN     NaN   \n",
      "2018-03-01 02:00:00    NaN    NaN    NaN  ...     NaN     NaN     NaN     NaN   \n",
      "2018-03-01 03:00:00    NaN    NaN    NaN  ...     NaN     NaN     NaN     NaN   \n",
      "2018-03-01 04:00:00    NaN    NaN    NaN  ...     NaN     NaN     NaN     NaN   \n",
      "\n",
      "                     lag_21  lag_22  lag_23  lag_24  lag_25  rolling_mean  \n",
      "datetime                                                                   \n",
      "2018-03-01 00:00:00     NaN     NaN     NaN     NaN     NaN           NaN  \n",
      "2018-03-01 01:00:00     NaN     NaN     NaN     NaN     NaN           NaN  \n",
      "2018-03-01 02:00:00     NaN     NaN     NaN     NaN     NaN           NaN  \n",
      "2018-03-01 03:00:00     NaN     NaN     NaN     NaN     NaN           NaN  \n",
      "2018-03-01 04:00:00     NaN     NaN     NaN     NaN     NaN           NaN  \n",
      "\n",
      "[5 rows x 29 columns]\n"
     ]
    }
   ],
   "source": [
    "make_time_features(df, 25, 15)"
   ]
  },
  {
   "cell_type": "code",
   "execution_count": 15,
   "metadata": {
    "ExecuteTime": {
     "end_time": "2022-02-21T14:00:53.931290Z",
     "start_time": "2022-02-21T14:00:53.917327Z"
    }
   },
   "outputs": [],
   "source": [
    "df = df.dropna()"
   ]
  },
  {
   "cell_type": "markdown",
   "metadata": {},
   "source": [
    "Разделим выборки на тестовую и обучающую"
   ]
  },
  {
   "cell_type": "code",
   "execution_count": 16,
   "metadata": {
    "ExecuteTime": {
     "end_time": "2022-02-21T14:00:53.947247Z",
     "start_time": "2022-02-21T14:00:53.933285Z"
    }
   },
   "outputs": [],
   "source": [
    "features = df.drop('num_orders', axis=1)\n",
    "target = df['num_orders']"
   ]
  },
  {
   "cell_type": "code",
   "execution_count": 17,
   "metadata": {
    "ExecuteTime": {
     "end_time": "2022-02-21T14:00:53.963204Z",
     "start_time": "2022-02-21T14:00:53.949242Z"
    }
   },
   "outputs": [],
   "source": [
    "X_train, X_test, y_train, y_test = train_test_split(features, target, test_size=0.1, shuffle=False)"
   ]
  },
  {
   "cell_type": "code",
   "execution_count": 18,
   "metadata": {
    "ExecuteTime": {
     "end_time": "2022-02-21T14:00:53.979161Z",
     "start_time": "2022-02-21T14:00:53.964201Z"
    }
   },
   "outputs": [
    {
     "name": "stdout",
     "output_type": "stream",
     "text": [
      "(3951, 28)\n",
      "(440, 28)\n",
      "(3951,)\n",
      "(440,)\n"
     ]
    }
   ],
   "source": [
    "for i in [X_train, X_test, y_train, y_test]:\n",
    "    print(i.shape)"
   ]
  },
  {
   "cell_type": "markdown",
   "metadata": {},
   "source": [
    "Обучим модель LGBMRegressor"
   ]
  },
  {
   "cell_type": "code",
   "execution_count": 19,
   "metadata": {
    "ExecuteTime": {
     "end_time": "2022-02-21T14:00:53.995120Z",
     "start_time": "2022-02-21T14:00:53.981156Z"
    }
   },
   "outputs": [],
   "source": [
    "model = lgb.LGBMRegressor(n_estimators=1000, learning_rate=0.3, max_depth=4, random_state=42)"
   ]
  },
  {
   "cell_type": "code",
   "execution_count": 20,
   "metadata": {
    "ExecuteTime": {
     "end_time": "2022-02-21T14:00:54.136740Z",
     "start_time": "2022-02-21T14:00:53.997114Z"
    }
   },
   "outputs": [
    {
     "name": "stdout",
     "output_type": "stream",
     "text": [
      "Training until validation scores don't improve for 10 rounds\n",
      "[20]\tvalid_0's rmse: 43.2538\tvalid_0's l2: 1870.89\n",
      "[40]\tvalid_0's rmse: 41.4247\tvalid_0's l2: 1716\n",
      "Early stopping, best iteration is:\n",
      "[38]\tvalid_0's rmse: 41.1075\tvalid_0's l2: 1689.83\n"
     ]
    },
    {
     "data": {
      "text/plain": [
       "LGBMRegressor(learning_rate=0.3, max_depth=4, n_estimators=1000,\n",
       "              random_state=42)"
      ]
     },
     "execution_count": 20,
     "metadata": {},
     "output_type": "execute_result"
    }
   ],
   "source": [
    "model.fit(X_train, y_train,\n",
    "          eval_set=(X_test,y_test),\n",
    "          early_stopping_rounds=10,\n",
    "          verbose=20,\n",
    "          eval_metric='root_mean_squared_error')"
   ]
  },
  {
   "cell_type": "markdown",
   "metadata": {},
   "source": [
    "## Тестирование"
   ]
  },
  {
   "cell_type": "code",
   "execution_count": 21,
   "metadata": {
    "ExecuteTime": {
     "end_time": "2022-02-21T14:00:54.152698Z",
     "start_time": "2022-02-21T14:00:54.138736Z"
    }
   },
   "outputs": [],
   "source": [
    "preds_train = model.predict(X_train)\n",
    "preds_test = model.predict(X_test)\n",
    "score_train = mean_squared_error(y_train, preds_train) ** 0.5\n",
    "score_test = mean_squared_error(y_test, preds_test) ** 0.5"
   ]
  },
  {
   "cell_type": "code",
   "execution_count": 22,
   "metadata": {
    "ExecuteTime": {
     "end_time": "2022-02-21T14:00:54.168655Z",
     "start_time": "2022-02-21T14:00:54.154693Z"
    }
   },
   "outputs": [
    {
     "data": {
      "text/html": [
       "<div>\n",
       "<style scoped>\n",
       "    .dataframe tbody tr th:only-of-type {\n",
       "        vertical-align: middle;\n",
       "    }\n",
       "\n",
       "    .dataframe tbody tr th {\n",
       "        vertical-align: top;\n",
       "    }\n",
       "\n",
       "    .dataframe thead th {\n",
       "        text-align: right;\n",
       "    }\n",
       "</style>\n",
       "<table border=\"1\" class=\"dataframe\">\n",
       "  <thead>\n",
       "    <tr style=\"text-align: right;\">\n",
       "      <th></th>\n",
       "      <th>RMSE</th>\n",
       "    </tr>\n",
       "  </thead>\n",
       "  <tbody>\n",
       "    <tr>\n",
       "      <th>Обучающая выборка</th>\n",
       "      <td>17.56</td>\n",
       "    </tr>\n",
       "    <tr>\n",
       "      <th>Тестовая выборка</th>\n",
       "      <td>41.11</td>\n",
       "    </tr>\n",
       "  </tbody>\n",
       "</table>\n",
       "</div>"
      ],
      "text/plain": [
       "                    RMSE\n",
       "Обучающая выборка  17.56\n",
       "Тестовая выборка   41.11"
      ]
     },
     "execution_count": 22,
     "metadata": {},
     "output_type": "execute_result"
    }
   ],
   "source": [
    "d = {'RMSE':[round(score_train, 2), round(score_test, 2)]}\n",
    "results = pd.DataFrame(d, index=['Обучающая выборка', 'Тестовая выборка'])\n",
    "results"
   ]
  },
  {
   "cell_type": "code",
   "execution_count": 23,
   "metadata": {
    "ExecuteTime": {
     "end_time": "2022-02-21T14:00:54.544650Z",
     "start_time": "2022-02-21T14:00:54.169653Z"
    }
   },
   "outputs": [
    {
     "data": {
      "image/png": "[encoded data removed]",
      "text/plain": [
       "<Figure size 720x576 with 1 Axes>"
      ]
     },
     "metadata": {
      "needs_background": "light"
     },
     "output_type": "display_data"
    }
   ],
   "source": [
    "lgb.plot_importance(model, figsize=(10,8))\n",
    "pass"
   ]
  },
  {
   "cell_type": "markdown",
   "metadata": {},
   "source": [
    "## Результаты и выводы"
   ]
  },
  {
   "cell_type": "markdown",
   "metadata": {},
   "source": [
    "Выведем график истинных значений и предсказанных значений для оценки адекватности модели"
   ]
  },
  {
   "cell_type": "code",
   "execution_count": 24,
   "metadata": {
    "ExecuteTime": {
     "end_time": "2022-02-21T14:00:54.560606Z",
     "start_time": "2022-02-21T14:00:54.546646Z"
    }
   },
   "outputs": [],
   "source": [
    "#Копируем датасет\n",
    "df_fin = X_test.copy()\n",
    "\n",
    "#Присоединяем таргет и предикт\n",
    "df_fin['true'] = y_test\n",
    "df_fin['predicted'] = preds_test\n",
    "\n",
    "#Отбрасываем признаки и берем два дня\n",
    "df_fin = df_fin[['true', 'predicted']]\n",
    "df_fin = df_fin.iloc[8:56]"
   ]
  },
  {
   "cell_type": "code",
   "execution_count": 25,
   "metadata": {
    "ExecuteTime": {
     "end_time": "2022-02-21T14:00:54.796976Z",
     "start_time": "2022-02-21T14:00:54.562602Z"
    }
   },
   "outputs": [
    {
     "data": {
      "image/png": "[encoded data removed]",
      "text/plain": [
       "<Figure size 720x360 with 1 Axes>"
      ]
     },
     "metadata": {
      "needs_background": "light"
     },
     "output_type": "display_data"
    }
   ],
   "source": [
    "plt.figure(figsize=(10,5))\n",
    "plt.title('Истинные и предсказанные значения')\n",
    "sns.lineplot(data=df_fin)\n",
    "pass"
   ]
  },
  {
   "cell_type": "markdown",
   "metadata": {},
   "source": [
    "В ходе работы было проведено ресемплирование данных по одному часу, выполнена декомпозиция временого ряда, объяснены сезонность и тренды в данных.   \n",
    "На основании 28 новых признаков была обучена ансамблевая модель с метрикой RMSE 41.11 на обучающей выборке.\n",
    "\n",
    "Самыми значимыми признаками оказались час поездки и большие значения сдвига. Предположительно это сказывается влияние сезонности и тренда на рост количества заказов."
   ]
  }
 ],
 "metadata": {
  "ExecuteTimeLog": [
   {
    "duration": 1425,
    "start_time": "2022-02-08T09:37:04.371Z"
   },
   {
    "duration": 38,
    "start_time": "2022-02-08T09:38:04.850Z"
   },
   {
    "duration": 15,
    "start_time": "2022-02-08T09:38:08.363Z"
   },
   {
    "duration": 43,
    "start_time": "2022-02-08T09:38:58.466Z"
   },
   {
    "duration": 10,
    "start_time": "2022-02-08T09:38:59.098Z"
   },
   {
    "duration": 8,
    "start_time": "2022-02-08T09:39:38.706Z"
   },
   {
    "duration": 19,
    "start_time": "2022-02-08T09:40:02.691Z"
   },
   {
    "duration": 453,
    "start_time": "2022-02-08T09:41:10.266Z"
   },
   {
    "duration": 282,
    "start_time": "2022-02-08T09:45:42.020Z"
   },
   {
    "duration": 296,
    "start_time": "2022-02-08T09:45:47.133Z"
   },
   {
    "duration": 424,
    "start_time": "2022-02-08T09:46:15.285Z"
   },
   {
    "duration": 464,
    "start_time": "2022-02-08T09:46:33.638Z"
   },
   {
    "duration": 583,
    "start_time": "2022-02-08T09:46:49.214Z"
   },
   {
    "duration": 542,
    "start_time": "2022-02-08T09:46:56.438Z"
   },
   {
    "duration": 434,
    "start_time": "2022-02-08T09:47:12.098Z"
   },
   {
    "duration": 1158,
    "start_time": "2022-02-09T13:17:44.622Z"
   },
   {
    "duration": 39,
    "start_time": "2022-02-09T13:17:45.782Z"
   },
   {
    "duration": 10,
    "start_time": "2022-02-09T13:17:45.823Z"
   },
   {
    "duration": 17,
    "start_time": "2022-02-09T13:17:45.835Z"
   },
   {
    "duration": 339,
    "start_time": "2022-02-09T13:17:45.854Z"
   },
   {
    "duration": 342,
    "start_time": "2022-02-09T13:24:15.690Z"
   },
   {
    "duration": 4,
    "start_time": "2022-02-09T13:24:23.213Z"
   },
   {
    "duration": 16,
    "start_time": "2022-02-09T13:27:03.313Z"
   },
   {
    "duration": 5,
    "start_time": "2022-02-09T13:27:25.825Z"
   },
   {
    "duration": 212,
    "start_time": "2022-02-09T13:27:29.322Z"
   },
   {
    "duration": 216,
    "start_time": "2022-02-09T13:27:32.666Z"
   },
   {
    "duration": 1189,
    "start_time": "2022-02-09T13:27:36.897Z"
   },
   {
    "duration": 41,
    "start_time": "2022-02-09T13:27:38.088Z"
   },
   {
    "duration": 10,
    "start_time": "2022-02-09T13:27:38.131Z"
   },
   {
    "duration": 18,
    "start_time": "2022-02-09T13:27:38.142Z"
   },
   {
    "duration": 340,
    "start_time": "2022-02-09T13:27:38.162Z"
   },
   {
    "duration": 5,
    "start_time": "2022-02-09T13:27:38.503Z"
   },
   {
    "duration": 23,
    "start_time": "2022-02-09T13:27:38.509Z"
   },
   {
    "duration": 16,
    "start_time": "2022-02-09T13:29:37.446Z"
   },
   {
    "duration": 326,
    "start_time": "2022-02-09T13:38:34.726Z"
   },
   {
    "duration": 238,
    "start_time": "2022-02-09T13:38:41.141Z"
   },
   {
    "duration": 641,
    "start_time": "2022-02-09T13:39:38.606Z"
   },
   {
    "duration": 682,
    "start_time": "2022-02-09T13:40:13.774Z"
   },
   {
    "duration": 476,
    "start_time": "2022-02-09T13:41:53.142Z"
   },
   {
    "duration": 381,
    "start_time": "2022-02-09T13:42:12.118Z"
   },
   {
    "duration": 264,
    "start_time": "2022-02-09T13:42:18.253Z"
   },
   {
    "duration": 288,
    "start_time": "2022-02-09T13:42:25.206Z"
   },
   {
    "duration": 14,
    "start_time": "2022-02-09T13:43:49.767Z"
   },
   {
    "duration": 287,
    "start_time": "2022-02-09T13:43:55.045Z"
   },
   {
    "duration": 18,
    "start_time": "2022-02-09T13:45:41.598Z"
   },
   {
    "duration": 7,
    "start_time": "2022-02-09T13:46:08.173Z"
   },
   {
    "duration": 10,
    "start_time": "2022-02-09T13:46:14.205Z"
   },
   {
    "duration": 3191,
    "start_time": "2022-02-09T13:46:18.141Z"
   },
   {
    "duration": 10,
    "start_time": "2022-02-09T13:46:43.477Z"
   },
   {
    "duration": 10,
    "start_time": "2022-02-09T13:46:54.653Z"
   },
   {
    "duration": 1215,
    "start_time": "2022-02-09T13:47:08.869Z"
   },
   {
    "duration": 39,
    "start_time": "2022-02-09T13:47:10.086Z"
   },
   {
    "duration": 9,
    "start_time": "2022-02-09T13:47:10.128Z"
   },
   {
    "duration": 17,
    "start_time": "2022-02-09T13:47:10.139Z"
   },
   {
    "duration": 353,
    "start_time": "2022-02-09T13:47:10.158Z"
   },
   {
    "duration": 4,
    "start_time": "2022-02-09T13:47:10.514Z"
   },
   {
    "duration": 17,
    "start_time": "2022-02-09T13:47:10.520Z"
   },
   {
    "duration": 3025,
    "start_time": "2022-02-09T13:47:10.540Z"
   },
   {
    "duration": 10,
    "start_time": "2022-02-09T13:47:13.567Z"
   },
   {
    "duration": 708,
    "start_time": "2022-02-09T13:48:37.243Z"
   },
   {
    "duration": 259,
    "start_time": "2022-02-09T13:49:02.650Z"
   },
   {
    "duration": 282,
    "start_time": "2022-02-09T13:49:39.453Z"
   },
   {
    "duration": 282,
    "start_time": "2022-02-09T13:49:44.323Z"
   },
   {
    "duration": 395,
    "start_time": "2022-02-09T13:59:53.451Z"
   },
   {
    "duration": 330,
    "start_time": "2022-02-09T14:00:08.395Z"
   },
   {
    "duration": 414,
    "start_time": "2022-02-09T14:00:24.339Z"
   },
   {
    "duration": 270,
    "start_time": "2022-02-09T14:01:40.027Z"
   },
   {
    "duration": -1613,
    "start_time": "2022-02-09T14:01:49.260Z"
   },
   {
    "duration": 335,
    "start_time": "2022-02-09T14:01:48.787Z"
   },
   {
    "duration": 375,
    "start_time": "2022-02-09T14:01:58.667Z"
   },
   {
    "duration": 390,
    "start_time": "2022-02-09T14:02:04.259Z"
   },
   {
    "duration": 589,
    "start_time": "2022-02-09T14:05:07.659Z"
   },
   {
    "duration": 603,
    "start_time": "2022-02-09T14:05:20.971Z"
   },
   {
    "duration": 595,
    "start_time": "2022-02-09T14:05:42.283Z"
   },
   {
    "duration": 708,
    "start_time": "2022-02-09T14:05:54.443Z"
   },
   {
    "duration": 543,
    "start_time": "2022-02-09T14:06:42.395Z"
   },
   {
    "duration": 560,
    "start_time": "2022-02-09T14:06:58.915Z"
   },
   {
    "duration": 550,
    "start_time": "2022-02-09T14:07:22.059Z"
   },
   {
    "duration": 415,
    "start_time": "2022-02-09T14:07:45.340Z"
   },
   {
    "duration": 16,
    "start_time": "2022-02-09T14:10:31.467Z"
   },
   {
    "duration": 19,
    "start_time": "2022-02-09T14:10:44.451Z"
   },
   {
    "duration": 14,
    "start_time": "2022-02-09T14:10:51.955Z"
   },
   {
    "duration": 18,
    "start_time": "2022-02-09T14:11:08.891Z"
   },
   {
    "duration": 6,
    "start_time": "2022-02-09T14:11:22.339Z"
   },
   {
    "duration": 13,
    "start_time": "2022-02-09T14:12:18.379Z"
   },
   {
    "duration": 12,
    "start_time": "2022-02-09T14:12:25.811Z"
   },
   {
    "duration": 20,
    "start_time": "2022-02-09T14:12:33.907Z"
   },
   {
    "duration": 13,
    "start_time": "2022-02-09T14:13:06.813Z"
   },
   {
    "duration": 10,
    "start_time": "2022-02-09T14:13:12.835Z"
   },
   {
    "duration": 16,
    "start_time": "2022-02-09T14:13:16.020Z"
   },
   {
    "duration": 17,
    "start_time": "2022-02-09T14:13:28.276Z"
   },
   {
    "duration": 7,
    "start_time": "2022-02-09T14:15:25.019Z"
   },
   {
    "duration": 8,
    "start_time": "2022-02-09T14:15:28.067Z"
   },
   {
    "duration": 4054,
    "start_time": "2022-02-09T14:15:31.448Z"
   },
   {
    "duration": 2166,
    "start_time": "2022-02-09T14:15:37.620Z"
   },
   {
    "duration": 632,
    "start_time": "2022-02-09T14:16:02.227Z"
   },
   {
    "duration": 810,
    "start_time": "2022-02-09T14:16:07.539Z"
   },
   {
    "duration": 7,
    "start_time": "2022-02-09T14:16:57.867Z"
   },
   {
    "duration": 1132,
    "start_time": "2022-02-09T14:16:58.716Z"
   },
   {
    "duration": 6,
    "start_time": "2022-02-09T14:17:12.964Z"
   },
   {
    "duration": 1113,
    "start_time": "2022-02-09T14:17:13.931Z"
   },
   {
    "duration": 6,
    "start_time": "2022-02-09T14:17:28.115Z"
   },
   {
    "duration": 1094,
    "start_time": "2022-02-09T14:17:28.938Z"
   },
   {
    "duration": 6,
    "start_time": "2022-02-09T14:17:38.171Z"
   },
   {
    "duration": 1063,
    "start_time": "2022-02-09T14:17:39.139Z"
   },
   {
    "duration": 706,
    "start_time": "2022-02-09T14:18:22.227Z"
   },
   {
    "duration": 725,
    "start_time": "2022-02-09T14:18:33.082Z"
   },
   {
    "duration": 454,
    "start_time": "2022-02-09T14:18:39.955Z"
   },
   {
    "duration": 1166,
    "start_time": "2022-02-09T14:20:37.788Z"
   },
   {
    "duration": 1131,
    "start_time": "2022-02-11T09:03:33.292Z"
   },
   {
    "duration": 33,
    "start_time": "2022-02-11T09:03:34.425Z"
   },
   {
    "duration": 9,
    "start_time": "2022-02-11T09:03:34.462Z"
   },
   {
    "duration": 16,
    "start_time": "2022-02-11T09:03:34.472Z"
   },
   {
    "duration": 272,
    "start_time": "2022-02-11T09:03:34.490Z"
   },
   {
    "duration": 4,
    "start_time": "2022-02-11T09:03:34.764Z"
   },
   {
    "duration": 18,
    "start_time": "2022-02-11T09:03:34.771Z"
   },
   {
    "duration": 1616,
    "start_time": "2022-02-11T09:03:34.791Z"
   },
   {
    "duration": 472,
    "start_time": "2022-02-11T09:03:36.409Z"
   },
   {
    "duration": 7,
    "start_time": "2022-02-11T09:03:36.883Z"
   },
   {
    "duration": 881,
    "start_time": "2022-02-11T09:03:36.892Z"
   },
   {
    "duration": 324,
    "start_time": "2022-02-11T09:03:37.776Z"
   },
   {
    "duration": 7,
    "start_time": "2022-02-11T09:04:23.376Z"
   },
   {
    "duration": 7,
    "start_time": "2022-02-11T09:04:44.535Z"
   },
   {
    "duration": 4,
    "start_time": "2022-02-11T09:10:08.000Z"
   },
   {
    "duration": 4,
    "start_time": "2022-02-11T09:10:23.479Z"
   },
   {
    "duration": 25,
    "start_time": "2022-02-11T09:10:37.168Z"
   },
   {
    "duration": 14,
    "start_time": "2022-02-11T09:10:54.175Z"
   },
   {
    "duration": 30,
    "start_time": "2022-02-11T09:11:10.359Z"
   },
   {
    "duration": 27,
    "start_time": "2022-02-11T09:11:17.559Z"
   },
   {
    "duration": 30,
    "start_time": "2022-02-11T09:56:21.445Z"
   },
   {
    "duration": 1995,
    "start_time": "2022-02-14T10:33:02.373Z"
   },
   {
    "duration": 65,
    "start_time": "2022-02-14T10:33:04.372Z"
   },
   {
    "duration": 20,
    "start_time": "2022-02-14T10:33:04.441Z"
   },
   {
    "duration": 19,
    "start_time": "2022-02-14T10:33:04.463Z"
   },
   {
    "duration": 460,
    "start_time": "2022-02-14T10:33:04.484Z"
   },
   {
    "duration": 13,
    "start_time": "2022-02-14T10:33:04.947Z"
   },
   {
    "duration": 22,
    "start_time": "2022-02-14T10:33:04.962Z"
   },
   {
    "duration": 2800,
    "start_time": "2022-02-14T10:33:04.988Z"
   },
   {
    "duration": 671,
    "start_time": "2022-02-14T10:33:07.792Z"
   },
   {
    "duration": 7,
    "start_time": "2022-02-14T10:33:08.465Z"
   },
   {
    "duration": 1999,
    "start_time": "2022-02-14T10:33:08.475Z"
   },
   {
    "duration": 680,
    "start_time": "2022-02-14T10:33:10.492Z"
   },
   {
    "duration": 9,
    "start_time": "2022-02-14T10:33:11.176Z"
   },
   {
    "duration": 41,
    "start_time": "2022-02-14T10:33:11.188Z"
   },
   {
    "duration": 10,
    "start_time": "2022-02-14T10:33:11.261Z"
   },
   {
    "duration": 7,
    "start_time": "2022-02-14T10:36:59.821Z"
   },
   {
    "duration": 6,
    "start_time": "2022-02-14T10:37:01.309Z"
   },
   {
    "duration": 472,
    "start_time": "2022-02-14T10:37:03.326Z"
   },
   {
    "duration": 1462,
    "start_time": "2022-02-14T10:38:39.902Z"
   },
   {
    "duration": 48,
    "start_time": "2022-02-14T10:38:41.366Z"
   },
   {
    "duration": 12,
    "start_time": "2022-02-14T10:38:41.420Z"
   },
   {
    "duration": 33,
    "start_time": "2022-02-14T10:38:41.434Z"
   },
   {
    "duration": 462,
    "start_time": "2022-02-14T10:38:41.469Z"
   },
   {
    "duration": 5,
    "start_time": "2022-02-14T10:38:41.934Z"
   },
   {
    "duration": 35,
    "start_time": "2022-02-14T10:38:41.942Z"
   },
   {
    "duration": 2682,
    "start_time": "2022-02-14T10:38:41.980Z"
   },
   {
    "duration": 662,
    "start_time": "2022-02-14T10:38:44.665Z"
   },
   {
    "duration": 8,
    "start_time": "2022-02-14T10:38:45.330Z"
   },
   {
    "duration": 1815,
    "start_time": "2022-02-14T10:38:45.360Z"
   },
   {
    "duration": 540,
    "start_time": "2022-02-14T10:38:47.178Z"
   },
   {
    "duration": 8,
    "start_time": "2022-02-14T10:38:47.721Z"
   },
   {
    "duration": 48,
    "start_time": "2022-02-14T10:38:47.732Z"
   },
   {
    "duration": 11,
    "start_time": "2022-02-14T10:38:47.783Z"
   },
   {
    "duration": 5,
    "start_time": "2022-02-14T10:38:47.797Z"
   },
   {
    "duration": 459,
    "start_time": "2022-02-14T10:38:47.805Z"
   },
   {
    "duration": 20,
    "start_time": "2022-02-14T10:38:59.643Z"
   },
   {
    "duration": 7,
    "start_time": "2022-02-14T10:39:15.084Z"
   },
   {
    "duration": 6,
    "start_time": "2022-02-14T10:39:38.805Z"
   },
   {
    "duration": 4,
    "start_time": "2022-02-14T10:43:02.452Z"
   },
   {
    "duration": 329,
    "start_time": "2022-02-14T10:43:06.516Z"
   },
   {
    "duration": 9705,
    "start_time": "2022-02-14T10:43:26.660Z"
   },
   {
    "duration": 4,
    "start_time": "2022-02-14T10:44:52.012Z"
   },
   {
    "duration": 8671,
    "start_time": "2022-02-14T10:44:52.403Z"
   },
   {
    "duration": 4,
    "start_time": "2022-02-14T10:45:51.763Z"
   },
   {
    "duration": 35,
    "start_time": "2022-02-14T10:46:22.433Z"
   },
   {
    "duration": 4,
    "start_time": "2022-02-14T10:46:39.380Z"
   },
   {
    "duration": 15518,
    "start_time": "2022-02-14T10:46:39.559Z"
   },
   {
    "duration": 7468,
    "start_time": "2022-02-14T10:47:52.011Z"
   },
   {
    "duration": 110,
    "start_time": "2022-02-14T10:48:02.339Z"
   },
   {
    "duration": 8327,
    "start_time": "2022-02-14T10:48:02.524Z"
   },
   {
    "duration": -290,
    "start_time": "2022-02-14T10:48:11.144Z"
   },
   {
    "duration": 3,
    "start_time": "2022-02-14T10:48:12.587Z"
   },
   {
    "duration": 8675,
    "start_time": "2022-02-14T10:48:15.403Z"
   },
   {
    "duration": 3,
    "start_time": "2022-02-14T10:48:26.772Z"
   },
   {
    "duration": 8295,
    "start_time": "2022-02-14T10:48:27.291Z"
   },
   {
    "duration": 9022,
    "start_time": "2022-02-14T10:48:40.851Z"
   },
   {
    "duration": 4,
    "start_time": "2022-02-14T10:49:38.395Z"
   },
   {
    "duration": 14139,
    "start_time": "2022-02-14T10:49:38.940Z"
   },
   {
    "duration": 4,
    "start_time": "2022-02-14T10:52:00.003Z"
   },
   {
    "duration": 15071,
    "start_time": "2022-02-14T10:52:00.195Z"
   },
   {
    "duration": 4,
    "start_time": "2022-02-14T10:52:17.874Z"
   },
   {
    "duration": 17113,
    "start_time": "2022-02-14T10:52:18.060Z"
   },
   {
    "duration": 62,
    "start_time": "2022-02-14T10:52:40.899Z"
   },
   {
    "duration": 6019,
    "start_time": "2022-02-14T10:53:39.443Z"
   },
   {
    "duration": 27505,
    "start_time": "2022-02-14T10:53:51.163Z"
   },
   {
    "duration": 25,
    "start_time": "2022-02-14T10:54:42.188Z"
   },
   {
    "duration": 326,
    "start_time": "2022-02-14T10:55:05.635Z"
   },
   {
    "duration": 6,
    "start_time": "2022-02-14T10:55:11.099Z"
   },
   {
    "duration": 45,
    "start_time": "2022-02-14T10:55:33.084Z"
   },
   {
    "duration": 19,
    "start_time": "2022-02-14T10:55:38.227Z"
   },
   {
    "duration": 34,
    "start_time": "2022-02-14T10:55:47.643Z"
   },
   {
    "duration": 8,
    "start_time": "2022-02-14T10:55:50.483Z"
   },
   {
    "duration": 6,
    "start_time": "2022-02-14T10:55:51.387Z"
   },
   {
    "duration": 8,
    "start_time": "2022-02-14T10:55:51.747Z"
   },
   {
    "duration": 5,
    "start_time": "2022-02-14T10:55:52.387Z"
   },
   {
    "duration": 4,
    "start_time": "2022-02-14T10:55:55.348Z"
   },
   {
    "duration": 8485,
    "start_time": "2022-02-14T10:55:55.587Z"
   },
   {
    "duration": 52,
    "start_time": "2022-02-14T10:56:42.812Z"
   },
   {
    "duration": 21,
    "start_time": "2022-02-14T10:56:47.531Z"
   },
   {
    "duration": 47,
    "start_time": "2022-02-14T10:56:51.867Z"
   },
   {
    "duration": 9,
    "start_time": "2022-02-14T10:56:54.699Z"
   },
   {
    "duration": 9343,
    "start_time": "2022-02-14T10:56:59.219Z"
   },
   {
    "duration": 30,
    "start_time": "2022-02-14T10:57:15.603Z"
   },
   {
    "duration": 44,
    "start_time": "2022-02-14T10:57:23.571Z"
   },
   {
    "duration": 20,
    "start_time": "2022-02-14T10:57:26.043Z"
   },
   {
    "duration": 6,
    "start_time": "2022-02-14T10:57:31.259Z"
   },
   {
    "duration": 45,
    "start_time": "2022-02-14T10:57:31.803Z"
   },
   {
    "duration": 9420,
    "start_time": "2022-02-14T10:57:36.356Z"
   },
   {
    "duration": 22,
    "start_time": "2022-02-14T10:57:49.420Z"
   },
   {
    "duration": 5,
    "start_time": "2022-02-14T10:58:07.307Z"
   },
   {
    "duration": 362,
    "start_time": "2022-02-14T10:58:07.507Z"
   },
   {
    "duration": 4,
    "start_time": "2022-02-14T10:58:22.503Z"
   },
   {
    "duration": 603,
    "start_time": "2022-02-14T10:58:22.867Z"
   },
   {
    "duration": 3,
    "start_time": "2022-02-14T10:58:27.188Z"
   },
   {
    "duration": 242,
    "start_time": "2022-02-14T10:58:27.523Z"
   },
   {
    "duration": 4,
    "start_time": "2022-02-14T10:58:30.828Z"
   },
   {
    "duration": 4,
    "start_time": "2022-02-14T10:58:33.851Z"
   },
   {
    "duration": 414,
    "start_time": "2022-02-14T10:58:34.548Z"
   },
   {
    "duration": 4,
    "start_time": "2022-02-14T10:58:37.587Z"
   },
   {
    "duration": 971,
    "start_time": "2022-02-14T10:58:37.900Z"
   },
   {
    "duration": 4,
    "start_time": "2022-02-14T10:58:41.651Z"
   },
   {
    "duration": 353,
    "start_time": "2022-02-14T10:58:42.013Z"
   },
   {
    "duration": 4,
    "start_time": "2022-02-14T10:58:45.547Z"
   },
   {
    "duration": 774,
    "start_time": "2022-02-14T10:58:45.885Z"
   },
   {
    "duration": 4,
    "start_time": "2022-02-14T10:58:51.467Z"
   },
   {
    "duration": 5417,
    "start_time": "2022-02-14T10:58:51.652Z"
   },
   {
    "duration": 4,
    "start_time": "2022-02-14T10:59:00.212Z"
   },
   {
    "duration": 574,
    "start_time": "2022-02-14T10:59:00.396Z"
   },
   {
    "duration": 8,
    "start_time": "2022-02-14T10:59:06.212Z"
   },
   {
    "duration": 265,
    "start_time": "2022-02-14T10:59:06.396Z"
   },
   {
    "duration": 5,
    "start_time": "2022-02-14T10:59:09.715Z"
   },
   {
    "duration": 353,
    "start_time": "2022-02-14T10:59:09.916Z"
   },
   {
    "duration": 60,
    "start_time": "2022-02-14T10:59:22.824Z"
   },
   {
    "duration": 19,
    "start_time": "2022-02-14T10:59:26.359Z"
   },
   {
    "duration": 51,
    "start_time": "2022-02-14T10:59:33.204Z"
   },
   {
    "duration": 417,
    "start_time": "2022-02-14T10:59:38.844Z"
   },
   {
    "duration": 30,
    "start_time": "2022-02-14T10:59:47.076Z"
   },
   {
    "duration": 44,
    "start_time": "2022-02-14T10:59:53.103Z"
   },
   {
    "duration": 56,
    "start_time": "2022-02-14T11:00:01.860Z"
   },
   {
    "duration": 473,
    "start_time": "2022-02-14T11:00:05.587Z"
   },
   {
    "duration": 45,
    "start_time": "2022-02-14T11:01:08.508Z"
   },
   {
    "duration": 21,
    "start_time": "2022-02-14T11:01:11.636Z"
   },
   {
    "duration": 27,
    "start_time": "2022-02-14T11:01:17.052Z"
   },
   {
    "duration": 5,
    "start_time": "2022-02-14T11:01:23.452Z"
   },
   {
    "duration": 8,
    "start_time": "2022-02-14T11:01:27.077Z"
   },
   {
    "duration": 6,
    "start_time": "2022-02-14T11:01:27.403Z"
   },
   {
    "duration": 7,
    "start_time": "2022-02-14T11:01:31.428Z"
   },
   {
    "duration": 8,
    "start_time": "2022-02-14T11:01:31.756Z"
   },
   {
    "duration": 5,
    "start_time": "2022-02-14T11:01:32.091Z"
   },
   {
    "duration": 384,
    "start_time": "2022-02-14T11:01:34.484Z"
   },
   {
    "duration": 52,
    "start_time": "2022-02-14T11:02:17.509Z"
   },
   {
    "duration": 6,
    "start_time": "2022-02-14T11:02:26.484Z"
   },
   {
    "duration": 8,
    "start_time": "2022-02-14T11:02:26.884Z"
   },
   {
    "duration": 5,
    "start_time": "2022-02-14T11:02:27.285Z"
   },
   {
    "duration": 4,
    "start_time": "2022-02-14T11:02:28.013Z"
   },
   {
    "duration": 271,
    "start_time": "2022-02-14T11:02:28.292Z"
   },
   {
    "duration": 54,
    "start_time": "2022-02-14T11:02:34.708Z"
   },
   {
    "duration": 5,
    "start_time": "2022-02-14T11:02:35.628Z"
   },
   {
    "duration": 7,
    "start_time": "2022-02-14T11:02:35.860Z"
   },
   {
    "duration": 5,
    "start_time": "2022-02-14T11:02:36.100Z"
   },
   {
    "duration": 3,
    "start_time": "2022-02-14T11:02:38.508Z"
   },
   {
    "duration": 687,
    "start_time": "2022-02-14T11:02:38.683Z"
   },
   {
    "duration": 61,
    "start_time": "2022-02-14T11:02:43.990Z"
   },
   {
    "duration": 6,
    "start_time": "2022-02-14T11:02:44.244Z"
   },
   {
    "duration": 7,
    "start_time": "2022-02-14T11:02:44.540Z"
   },
   {
    "duration": 5,
    "start_time": "2022-02-14T11:02:45.524Z"
   },
   {
    "duration": 4,
    "start_time": "2022-02-14T11:02:47.219Z"
   },
   {
    "duration": 458,
    "start_time": "2022-02-14T11:02:47.404Z"
   },
   {
    "duration": 19,
    "start_time": "2022-02-14T11:03:42.012Z"
   },
   {
    "duration": 1534,
    "start_time": "2022-02-14T11:03:47.837Z"
   },
   {
    "duration": 47,
    "start_time": "2022-02-14T11:03:49.373Z"
   },
   {
    "duration": 13,
    "start_time": "2022-02-14T11:03:49.423Z"
   },
   {
    "duration": 27,
    "start_time": "2022-02-14T11:03:49.439Z"
   },
   {
    "duration": 452,
    "start_time": "2022-02-14T11:03:49.468Z"
   },
   {
    "duration": 6,
    "start_time": "2022-02-14T11:03:49.922Z"
   },
   {
    "duration": 42,
    "start_time": "2022-02-14T11:03:49.931Z"
   },
   {
    "duration": 2672,
    "start_time": "2022-02-14T11:03:49.976Z"
   },
   {
    "duration": 635,
    "start_time": "2022-02-14T11:03:52.659Z"
   },
   {
    "duration": 7,
    "start_time": "2022-02-14T11:03:53.296Z"
   },
   {
    "duration": 1643,
    "start_time": "2022-02-14T11:03:53.306Z"
   },
   {
    "duration": 525,
    "start_time": "2022-02-14T11:03:54.959Z"
   },
   {
    "duration": 6,
    "start_time": "2022-02-14T11:03:55.487Z"
   },
   {
    "duration": 72,
    "start_time": "2022-02-14T11:03:55.495Z"
   },
   {
    "duration": 10,
    "start_time": "2022-02-14T11:03:55.569Z"
   },
   {
    "duration": 6,
    "start_time": "2022-02-14T11:03:55.581Z"
   },
   {
    "duration": 10,
    "start_time": "2022-02-14T11:03:55.589Z"
   },
   {
    "duration": 5,
    "start_time": "2022-02-14T11:03:55.601Z"
   },
   {
    "duration": 4,
    "start_time": "2022-02-14T11:03:55.608Z"
   },
   {
    "duration": 1056,
    "start_time": "2022-02-14T11:03:55.614Z"
   },
   {
    "duration": 94,
    "start_time": "2022-02-14T11:03:56.672Z"
   },
   {
    "duration": 45,
    "start_time": "2022-02-14T11:05:01.234Z"
   },
   {
    "duration": 448,
    "start_time": "2022-02-14T11:07:33.522Z"
   },
   {
    "duration": 341,
    "start_time": "2022-02-14T11:08:35.801Z"
   },
   {
    "duration": 409,
    "start_time": "2022-02-14T11:09:31.562Z"
   },
   {
    "duration": 342,
    "start_time": "2022-02-14T11:11:15.393Z"
   },
   {
    "duration": 4,
    "start_time": "2022-02-14T11:11:51.617Z"
   },
   {
    "duration": 9,
    "start_time": "2022-02-14T11:11:54.817Z"
   },
   {
    "duration": 320,
    "start_time": "2022-02-14T11:12:06.154Z"
   },
   {
    "duration": 189,
    "start_time": "2022-02-14T11:12:38.258Z"
   },
   {
    "duration": 310,
    "start_time": "2022-02-14T11:12:41.697Z"
   },
   {
    "duration": 6,
    "start_time": "2022-02-14T11:13:02.473Z"
   },
   {
    "duration": 9,
    "start_time": "2022-02-14T11:13:11.258Z"
   },
   {
    "duration": 318,
    "start_time": "2022-02-14T11:13:16.249Z"
   },
   {
    "duration": 10,
    "start_time": "2022-02-14T11:13:18.624Z"
   },
   {
    "duration": 10,
    "start_time": "2022-02-14T11:13:28.937Z"
   },
   {
    "duration": 10,
    "start_time": "2022-02-14T11:13:47.665Z"
   },
   {
    "duration": 5,
    "start_time": "2022-02-14T11:14:23.030Z"
   },
   {
    "duration": 11,
    "start_time": "2022-02-14T11:14:27.217Z"
   },
   {
    "duration": 6,
    "start_time": "2022-02-14T11:14:37.977Z"
   },
   {
    "duration": 631,
    "start_time": "2022-02-14T11:15:04.025Z"
   },
   {
    "duration": 638,
    "start_time": "2022-02-14T11:15:25.424Z"
   },
   {
    "duration": 747,
    "start_time": "2022-02-14T11:15:42.952Z"
   },
   {
    "duration": 700,
    "start_time": "2022-02-14T11:15:47.688Z"
   },
   {
    "duration": 745,
    "start_time": "2022-02-14T11:17:00.465Z"
   },
   {
    "duration": 1620,
    "start_time": "2022-02-14T11:28:28.857Z"
   },
   {
    "duration": 48,
    "start_time": "2022-02-14T11:28:30.481Z"
   },
   {
    "duration": 13,
    "start_time": "2022-02-14T11:28:30.532Z"
   },
   {
    "duration": 28,
    "start_time": "2022-02-14T11:28:30.548Z"
   },
   {
    "duration": 460,
    "start_time": "2022-02-14T11:28:30.578Z"
   },
   {
    "duration": 5,
    "start_time": "2022-02-14T11:28:31.041Z"
   },
   {
    "duration": 27,
    "start_time": "2022-02-14T11:28:31.060Z"
   },
   {
    "duration": 2688,
    "start_time": "2022-02-14T11:28:31.090Z"
   },
   {
    "duration": 663,
    "start_time": "2022-02-14T11:28:33.782Z"
   },
   {
    "duration": 15,
    "start_time": "2022-02-14T11:28:34.448Z"
   },
   {
    "duration": 1655,
    "start_time": "2022-02-14T11:28:34.465Z"
   },
   {
    "duration": 559,
    "start_time": "2022-02-14T11:28:36.123Z"
   },
   {
    "duration": 9,
    "start_time": "2022-02-14T11:28:36.685Z"
   },
   {
    "duration": 74,
    "start_time": "2022-02-14T11:28:36.697Z"
   },
   {
    "duration": 9,
    "start_time": "2022-02-14T11:28:36.774Z"
   },
   {
    "duration": 10,
    "start_time": "2022-02-14T11:28:36.785Z"
   },
   {
    "duration": 9,
    "start_time": "2022-02-14T11:28:36.797Z"
   },
   {
    "duration": 7,
    "start_time": "2022-02-14T11:28:36.808Z"
   },
   {
    "duration": 4,
    "start_time": "2022-02-14T11:28:36.817Z"
   },
   {
    "duration": 510,
    "start_time": "2022-02-14T11:28:36.858Z"
   },
   {
    "duration": 100,
    "start_time": "2022-02-14T11:28:37.371Z"
   },
   {
    "duration": 10,
    "start_time": "2022-02-14T11:28:37.473Z"
   },
   {
    "duration": 799,
    "start_time": "2022-02-14T11:28:37.488Z"
   },
   {
    "duration": 1239,
    "start_time": "2022-02-14T11:55:12.937Z"
   },
   {
    "duration": 146,
    "start_time": "2022-02-14T11:55:14.178Z"
   },
   {
    "duration": 11,
    "start_time": "2022-02-14T11:55:14.326Z"
   },
   {
    "duration": 13,
    "start_time": "2022-02-14T11:55:14.499Z"
   },
   {
    "duration": 258,
    "start_time": "2022-02-14T11:55:15.063Z"
   },
   {
    "duration": 3,
    "start_time": "2022-02-14T11:55:16.793Z"
   },
   {
    "duration": 16,
    "start_time": "2022-02-14T11:55:18.135Z"
   },
   {
    "duration": 3,
    "start_time": "2022-02-14T12:17:22.419Z"
   },
   {
    "duration": 42,
    "start_time": "2022-02-14T12:17:23.358Z"
   },
   {
    "duration": 8,
    "start_time": "2022-02-14T12:17:23.534Z"
   },
   {
    "duration": 18,
    "start_time": "2022-02-14T12:17:23.843Z"
   },
   {
    "duration": 252,
    "start_time": "2022-02-14T12:17:24.038Z"
   },
   {
    "duration": 4,
    "start_time": "2022-02-14T12:17:24.740Z"
   },
   {
    "duration": 15,
    "start_time": "2022-02-14T12:17:25.852Z"
   },
   {
    "duration": 2007,
    "start_time": "2022-02-14T12:17:27.653Z"
   },
   {
    "duration": 398,
    "start_time": "2022-02-14T12:17:29.662Z"
   },
   {
    "duration": 7,
    "start_time": "2022-02-14T12:17:30.062Z"
   },
   {
    "duration": 876,
    "start_time": "2022-02-14T12:17:30.070Z"
   },
   {
    "duration": 325,
    "start_time": "2022-02-14T12:17:30.948Z"
   },
   {
    "duration": 5,
    "start_time": "2022-02-14T12:17:32.388Z"
   },
   {
    "duration": 32,
    "start_time": "2022-02-14T12:17:41.177Z"
   },
   {
    "duration": 8,
    "start_time": "2022-02-14T12:17:43.046Z"
   },
   {
    "duration": 5,
    "start_time": "2022-02-14T12:17:43.966Z"
   },
   {
    "duration": 6,
    "start_time": "2022-02-14T12:17:44.148Z"
   },
   {
    "duration": 5,
    "start_time": "2022-02-14T12:17:44.328Z"
   },
   {
    "duration": 3,
    "start_time": "2022-02-14T12:17:48.748Z"
   },
   {
    "duration": 1680,
    "start_time": "2022-02-14T12:17:51.157Z"
   },
   {
    "duration": 22,
    "start_time": "2022-02-14T12:18:01.771Z"
   },
   {
    "duration": 8,
    "start_time": "2022-02-14T12:18:02.335Z"
   },
   {
    "duration": 422,
    "start_time": "2022-02-14T12:18:03.178Z"
   },
   {
    "duration": 1060,
    "start_time": "2022-02-18T11:00:11.479Z"
   },
   {
    "duration": 35,
    "start_time": "2022-02-18T11:00:12.541Z"
   },
   {
    "duration": 10,
    "start_time": "2022-02-18T11:00:12.579Z"
   },
   {
    "duration": 13,
    "start_time": "2022-02-18T11:00:12.591Z"
   },
   {
    "duration": 286,
    "start_time": "2022-02-18T11:00:12.606Z"
   },
   {
    "duration": 3,
    "start_time": "2022-02-18T11:00:12.894Z"
   },
   {
    "duration": 32,
    "start_time": "2022-02-18T11:00:12.899Z"
   },
   {
    "duration": 1629,
    "start_time": "2022-02-18T11:00:12.933Z"
   },
   {
    "duration": 408,
    "start_time": "2022-02-18T11:00:14.565Z"
   },
   {
    "duration": 5,
    "start_time": "2022-02-18T11:00:14.975Z"
   },
   {
    "duration": 900,
    "start_time": "2022-02-18T11:00:14.981Z"
   },
   {
    "duration": 328,
    "start_time": "2022-02-18T11:00:15.882Z"
   },
   {
    "duration": 4,
    "start_time": "2022-02-18T11:00:16.212Z"
   },
   {
    "duration": 44,
    "start_time": "2022-02-18T11:00:16.218Z"
   },
   {
    "duration": 6,
    "start_time": "2022-02-18T11:00:16.263Z"
   },
   {
    "duration": 13,
    "start_time": "2022-02-18T11:00:16.271Z"
   },
   {
    "duration": 13,
    "start_time": "2022-02-18T11:00:16.285Z"
   },
   {
    "duration": 19,
    "start_time": "2022-02-18T11:00:16.299Z"
   },
   {
    "duration": 6,
    "start_time": "2022-02-18T11:00:16.319Z"
   },
   {
    "duration": 409,
    "start_time": "2022-02-18T11:00:16.327Z"
   },
   {
    "duration": 93,
    "start_time": "2022-02-18T11:00:16.737Z"
   },
   {
    "duration": 7,
    "start_time": "2022-02-18T11:00:16.834Z"
   },
   {
    "duration": 448,
    "start_time": "2022-02-18T11:00:16.843Z"
   },
   {
    "duration": 5,
    "start_time": "2022-02-18T11:02:30.096Z"
   },
   {
    "duration": 15,
    "start_time": "2022-02-18T11:02:37.816Z"
   },
   {
    "duration": 16,
    "start_time": "2022-02-18T11:02:50.215Z"
   },
   {
    "duration": 5,
    "start_time": "2022-02-18T11:05:49.999Z"
   },
   {
    "duration": 28,
    "start_time": "2022-02-18T11:05:53.759Z"
   },
   {
    "duration": 32,
    "start_time": "2022-02-18T11:06:23.424Z"
   },
   {
    "duration": 3625,
    "start_time": "2022-02-18T11:07:01.489Z"
   },
   {
    "duration": 3961,
    "start_time": "2022-02-18T11:07:20.088Z"
   },
   {
    "duration": 46,
    "start_time": "2022-02-18T11:07:31.359Z"
   },
   {
    "duration": 12,
    "start_time": "2022-02-18T11:07:45.708Z"
   },
   {
    "duration": 7,
    "start_time": "2022-02-18T11:07:53.632Z"
   },
   {
    "duration": 330,
    "start_time": "2022-02-18T11:08:28.175Z"
   },
   {
    "duration": 392,
    "start_time": "2022-02-18T11:08:40.432Z"
   },
   {
    "duration": 10,
    "start_time": "2022-02-18T11:09:28.823Z"
   },
   {
    "duration": 8,
    "start_time": "2022-02-18T11:09:32.848Z"
   },
   {
    "duration": 9,
    "start_time": "2022-02-18T11:09:47.489Z"
   },
   {
    "duration": 1200,
    "start_time": "2022-02-18T11:10:37.530Z"
   },
   {
    "duration": 155,
    "start_time": "2022-02-18T11:10:56.255Z"
   },
   {
    "duration": 6,
    "start_time": "2022-02-18T11:11:00.343Z"
   },
   {
    "duration": 211,
    "start_time": "2022-02-18T11:11:13.322Z"
   },
   {
    "duration": 5,
    "start_time": "2022-02-18T11:11:51.112Z"
   },
   {
    "duration": 7,
    "start_time": "2022-02-18T11:14:16.544Z"
   },
   {
    "duration": 8,
    "start_time": "2022-02-18T11:14:37.665Z"
   },
   {
    "duration": 9,
    "start_time": "2022-02-18T11:14:43.151Z"
   },
   {
    "duration": 372,
    "start_time": "2022-02-18T11:14:43.254Z"
   },
   {
    "duration": 9,
    "start_time": "2022-02-18T11:15:45.320Z"
   },
   {
    "duration": 8,
    "start_time": "2022-02-18T11:15:50.792Z"
   },
   {
    "duration": 10,
    "start_time": "2022-02-18T11:15:58.759Z"
   },
   {
    "duration": 8,
    "start_time": "2022-02-18T11:16:09.440Z"
   },
   {
    "duration": 275,
    "start_time": "2022-02-18T11:16:15.359Z"
   },
   {
    "duration": 4,
    "start_time": "2022-02-18T11:17:35.519Z"
   },
   {
    "duration": 4,
    "start_time": "2022-02-18T11:17:40.355Z"
   },
   {
    "duration": 44,
    "start_time": "2022-02-18T11:17:40.361Z"
   },
   {
    "duration": 7,
    "start_time": "2022-02-18T11:17:40.407Z"
   },
   {
    "duration": 16,
    "start_time": "2022-02-18T11:17:40.416Z"
   },
   {
    "duration": 411,
    "start_time": "2022-02-18T11:17:40.434Z"
   },
   {
    "duration": 4,
    "start_time": "2022-02-18T11:17:40.848Z"
   },
   {
    "duration": 30,
    "start_time": "2022-02-18T11:17:40.854Z"
   },
   {
    "duration": 1558,
    "start_time": "2022-02-18T11:17:40.887Z"
   },
   {
    "duration": 389,
    "start_time": "2022-02-18T11:17:42.447Z"
   },
   {
    "duration": 5,
    "start_time": "2022-02-18T11:17:42.837Z"
   },
   {
    "duration": 918,
    "start_time": "2022-02-18T11:17:42.844Z"
   },
   {
    "duration": 333,
    "start_time": "2022-02-18T11:17:43.764Z"
   },
   {
    "duration": 4,
    "start_time": "2022-02-18T11:17:46.919Z"
   },
   {
    "duration": 31,
    "start_time": "2022-02-18T11:17:50.943Z"
   },
   {
    "duration": 6,
    "start_time": "2022-02-18T11:17:58.336Z"
   },
   {
    "duration": 4,
    "start_time": "2022-02-18T11:18:00.344Z"
   },
   {
    "duration": 6,
    "start_time": "2022-02-18T11:18:00.887Z"
   },
   {
    "duration": 4,
    "start_time": "2022-02-18T11:18:01.768Z"
   },
   {
    "duration": 3,
    "start_time": "2022-02-18T11:18:04.151Z"
   },
   {
    "duration": 392,
    "start_time": "2022-02-18T11:18:04.447Z"
   },
   {
    "duration": 20,
    "start_time": "2022-02-18T11:18:19.887Z"
   },
   {
    "duration": 8,
    "start_time": "2022-02-18T11:18:21.664Z"
   },
   {
    "duration": 435,
    "start_time": "2022-02-18T11:18:29.367Z"
   },
   {
    "duration": 10,
    "start_time": "2022-02-18T11:18:36.175Z"
   },
   {
    "duration": 8,
    "start_time": "2022-02-18T11:18:41.919Z"
   },
   {
    "duration": 270,
    "start_time": "2022-02-18T11:18:42.591Z"
   },
   {
    "duration": 4,
    "start_time": "2022-02-18T11:19:22.931Z"
   },
   {
    "duration": 34,
    "start_time": "2022-02-18T11:19:22.936Z"
   },
   {
    "duration": 7,
    "start_time": "2022-02-18T11:19:22.972Z"
   },
   {
    "duration": 13,
    "start_time": "2022-02-18T11:19:22.981Z"
   },
   {
    "duration": 286,
    "start_time": "2022-02-18T11:19:22.995Z"
   },
   {
    "duration": 4,
    "start_time": "2022-02-18T11:19:23.283Z"
   },
   {
    "duration": 16,
    "start_time": "2022-02-18T11:19:23.288Z"
   },
   {
    "duration": 1487,
    "start_time": "2022-02-18T11:19:23.306Z"
   },
   {
    "duration": 402,
    "start_time": "2022-02-18T11:19:24.796Z"
   },
   {
    "duration": 4,
    "start_time": "2022-02-18T11:19:25.200Z"
   },
   {
    "duration": 981,
    "start_time": "2022-02-18T11:19:25.206Z"
   },
   {
    "duration": 325,
    "start_time": "2022-02-18T11:19:26.189Z"
   },
   {
    "duration": 14,
    "start_time": "2022-02-18T11:19:26.516Z"
   },
   {
    "duration": 11,
    "start_time": "2022-02-18T11:20:10.823Z"
   },
   {
    "duration": 6,
    "start_time": "2022-02-18T11:20:15.543Z"
   },
   {
    "duration": 4,
    "start_time": "2022-02-18T11:20:16.696Z"
   },
   {
    "duration": 5,
    "start_time": "2022-02-18T11:20:17.023Z"
   },
   {
    "duration": 5,
    "start_time": "2022-02-18T11:20:17.391Z"
   },
   {
    "duration": 3,
    "start_time": "2022-02-18T11:20:20.015Z"
   },
   {
    "duration": 2225,
    "start_time": "2022-02-18T11:20:20.911Z"
   },
   {
    "duration": 11,
    "start_time": "2022-02-18T11:20:30.592Z"
   },
   {
    "duration": 8,
    "start_time": "2022-02-18T11:20:30.999Z"
   },
   {
    "duration": 209,
    "start_time": "2022-02-18T11:20:33.375Z"
   },
   {
    "duration": 3,
    "start_time": "2022-02-18T11:20:50.275Z"
   },
   {
    "duration": 38,
    "start_time": "2022-02-18T11:20:50.280Z"
   },
   {
    "duration": 6,
    "start_time": "2022-02-18T11:20:50.320Z"
   },
   {
    "duration": 12,
    "start_time": "2022-02-18T11:20:50.328Z"
   },
   {
    "duration": 253,
    "start_time": "2022-02-18T11:20:50.342Z"
   },
   {
    "duration": 4,
    "start_time": "2022-02-18T11:20:50.596Z"
   },
   {
    "duration": 28,
    "start_time": "2022-02-18T11:20:50.602Z"
   },
   {
    "duration": 1526,
    "start_time": "2022-02-18T11:20:50.633Z"
   },
   {
    "duration": 396,
    "start_time": "2022-02-18T11:20:52.161Z"
   },
   {
    "duration": 5,
    "start_time": "2022-02-18T11:20:52.558Z"
   },
   {
    "duration": 993,
    "start_time": "2022-02-18T11:20:52.565Z"
   },
   {
    "duration": 329,
    "start_time": "2022-02-18T11:20:53.560Z"
   },
   {
    "duration": 4,
    "start_time": "2022-02-18T11:20:53.891Z"
   },
   {
    "duration": 31,
    "start_time": "2022-02-18T11:20:55.479Z"
   },
   {
    "duration": 7,
    "start_time": "2022-02-18T11:20:58.591Z"
   },
   {
    "duration": 4,
    "start_time": "2022-02-18T11:21:25.127Z"
   },
   {
    "duration": 5,
    "start_time": "2022-02-18T11:21:25.479Z"
   },
   {
    "duration": 4,
    "start_time": "2022-02-18T11:21:25.806Z"
   },
   {
    "duration": 2,
    "start_time": "2022-02-18T11:21:27.815Z"
   },
   {
    "duration": 360,
    "start_time": "2022-02-18T11:21:28.183Z"
   },
   {
    "duration": 19,
    "start_time": "2022-02-18T11:21:31.887Z"
   },
   {
    "duration": 8,
    "start_time": "2022-02-18T11:21:32.191Z"
   },
   {
    "duration": 425,
    "start_time": "2022-02-18T11:21:33.855Z"
   },
   {
    "duration": 7,
    "start_time": "2022-02-18T11:21:39.816Z"
   },
   {
    "duration": 278,
    "start_time": "2022-02-18T11:21:41.336Z"
   },
   {
    "duration": 272,
    "start_time": "2022-02-18T11:22:18.490Z"
   },
   {
    "duration": 8,
    "start_time": "2022-02-18T11:28:38.214Z"
   },
   {
    "duration": 1166,
    "start_time": "2022-02-18T11:28:42.317Z"
   },
   {
    "duration": 39,
    "start_time": "2022-02-18T11:28:43.486Z"
   },
   {
    "duration": 11,
    "start_time": "2022-02-18T11:28:43.533Z"
   },
   {
    "duration": 14,
    "start_time": "2022-02-18T11:28:43.546Z"
   },
   {
    "duration": 287,
    "start_time": "2022-02-18T11:28:43.562Z"
   },
   {
    "duration": 5,
    "start_time": "2022-02-18T11:28:43.851Z"
   },
   {
    "duration": 15,
    "start_time": "2022-02-18T11:28:43.858Z"
   },
   {
    "duration": 1603,
    "start_time": "2022-02-18T11:28:43.876Z"
   },
   {
    "duration": 396,
    "start_time": "2022-02-18T11:28:45.481Z"
   },
   {
    "duration": 5,
    "start_time": "2022-02-18T11:28:45.879Z"
   },
   {
    "duration": 868,
    "start_time": "2022-02-18T11:28:45.885Z"
   },
   {
    "duration": 310,
    "start_time": "2022-02-18T11:28:46.755Z"
   },
   {
    "duration": 5,
    "start_time": "2022-02-18T11:28:47.066Z"
   },
   {
    "duration": 31,
    "start_time": "2022-02-18T11:28:47.072Z"
   },
   {
    "duration": 27,
    "start_time": "2022-02-18T11:28:47.105Z"
   },
   {
    "duration": 5,
    "start_time": "2022-02-18T11:28:47.134Z"
   },
   {
    "duration": 11,
    "start_time": "2022-02-18T11:28:47.140Z"
   },
   {
    "duration": 5,
    "start_time": "2022-02-18T11:28:47.153Z"
   },
   {
    "duration": 4,
    "start_time": "2022-02-18T11:28:47.160Z"
   },
   {
    "duration": 377,
    "start_time": "2022-02-18T11:28:47.165Z"
   },
   {
    "duration": 100,
    "start_time": "2022-02-18T11:28:47.544Z"
   },
   {
    "duration": 8,
    "start_time": "2022-02-18T11:28:47.647Z"
   },
   {
    "duration": 504,
    "start_time": "2022-02-18T11:28:47.657Z"
   },
   {
    "duration": 9,
    "start_time": "2022-02-18T11:28:48.163Z"
   },
   {
    "duration": 285,
    "start_time": "2022-02-18T11:28:48.173Z"
   }
  ],
  "hide_input": false,
  "kernelspec": {
   "display_name": "Python 3 (ipykernel)",
   "language": "python",
   "name": "python3"
  },
  "language_info": {
   "codemirror_mode": {
    "name": "ipython",
    "version": 3
   },
   "file_extension": ".py",
   "mimetype": "text/x-python",
   "name": "python",
   "nbconvert_exporter": "python",
   "pygments_lexer": "ipython3",
   "version": "3.9.7"
  },
  "toc": {
   "base_numbering": 1,
   "nav_menu": {},
   "number_sections": true,
   "sideBar": true,
   "skip_h1_title": true,
   "title_cell": "Содержание",
   "title_sidebar": "Contents",
   "toc_cell": true,
   "toc_position": {},
   "toc_section_display": true,
   "toc_window_display": false
  },
  "varInspector": {
   "cols": {
    "lenName": 16,
    "lenType": 16,
    "lenVar": 40
   },
   "kernels_config": {
    "python": {
     "delete_cmd_postfix": "",
     "delete_cmd_prefix": "del ",
     "library": "var_list.py",
     "varRefreshCmd": "print(var_dic_list())"
    },
    "r": {
     "delete_cmd_postfix": ") ",
     "delete_cmd_prefix": "rm(",
     "library": "var_list.r",
     "varRefreshCmd": "cat(var_dic_list()) "
    }
   },
   "types_to_exclude": [
    "module",
    "function",
    "builtin_function_or_method",
    "instance",
    "_Feature"
   ],
   "window_display": false
  }
 },
 "nbformat": 4,
 "nbformat_minor": 2
}
