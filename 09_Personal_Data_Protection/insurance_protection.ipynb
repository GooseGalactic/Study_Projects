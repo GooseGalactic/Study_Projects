{
 "cells": [
  {
   "cell_type": "markdown",
   "metadata": {},
   "source": [
    "## Загрузка данных"
   ]
  },
  {
   "cell_type": "code",
   "execution_count": 1,
   "metadata": {
    "ExecuteTime": {
     "end_time": "2022-02-09T17:26:30.322141Z",
     "start_time": "2022-02-09T17:26:28.295562Z"
    }
   },
   "outputs": [],
   "source": [
    "import pandas as pd\n",
    "import numpy as np\n",
    "import matplotlib.pyplot as plt\n",
    "import seaborn as sns\n",
    "\n",
    "from sklearn.linear_model import LinearRegression\n",
    "from sklearn.model_selection import train_test_split, cross_val_score, KFold\n",
    "from sklearn.metrics import r2_score"
   ]
  },
  {
   "cell_type": "code",
   "execution_count": 2,
   "metadata": {
    "ExecuteTime": {
     "end_time": "2022-02-09T17:26:30.353058Z",
     "start_time": "2022-02-09T17:26:30.324136Z"
    }
   },
   "outputs": [],
   "source": [
    "df = pd.read_csv('insurance.csv')"
   ]
  },
  {
   "cell_type": "code",
   "execution_count": 3,
   "metadata": {
    "ExecuteTime": {
     "end_time": "2022-02-09T17:26:30.369016Z",
     "start_time": "2022-02-09T17:26:30.355054Z"
    }
   },
   "outputs": [
    {
     "data": {
      "text/html": [
       "<div>\n",
       "<style scoped>\n",
       "    .dataframe tbody tr th:only-of-type {\n",
       "        vertical-align: middle;\n",
       "    }\n",
       "\n",
       "    .dataframe tbody tr th {\n",
       "        vertical-align: top;\n",
       "    }\n",
       "\n",
       "    .dataframe thead th {\n",
       "        text-align: right;\n",
       "    }\n",
       "</style>\n",
       "<table border=\"1\" class=\"dataframe\">\n",
       "  <thead>\n",
       "    <tr style=\"text-align: right;\">\n",
       "      <th></th>\n",
       "      <th>Пол</th>\n",
       "      <th>Возраст</th>\n",
       "      <th>Зарплата</th>\n",
       "      <th>Члены семьи</th>\n",
       "      <th>Страховые выплаты</th>\n",
       "    </tr>\n",
       "  </thead>\n",
       "  <tbody>\n",
       "    <tr>\n",
       "      <th>0</th>\n",
       "      <td>1</td>\n",
       "      <td>41.0</td>\n",
       "      <td>49600.0</td>\n",
       "      <td>1</td>\n",
       "      <td>0</td>\n",
       "    </tr>\n",
       "    <tr>\n",
       "      <th>1</th>\n",
       "      <td>0</td>\n",
       "      <td>46.0</td>\n",
       "      <td>38000.0</td>\n",
       "      <td>1</td>\n",
       "      <td>1</td>\n",
       "    </tr>\n",
       "    <tr>\n",
       "      <th>2</th>\n",
       "      <td>0</td>\n",
       "      <td>29.0</td>\n",
       "      <td>21000.0</td>\n",
       "      <td>0</td>\n",
       "      <td>0</td>\n",
       "    </tr>\n",
       "    <tr>\n",
       "      <th>3</th>\n",
       "      <td>0</td>\n",
       "      <td>21.0</td>\n",
       "      <td>41700.0</td>\n",
       "      <td>2</td>\n",
       "      <td>0</td>\n",
       "    </tr>\n",
       "    <tr>\n",
       "      <th>4</th>\n",
       "      <td>1</td>\n",
       "      <td>28.0</td>\n",
       "      <td>26100.0</td>\n",
       "      <td>0</td>\n",
       "      <td>0</td>\n",
       "    </tr>\n",
       "  </tbody>\n",
       "</table>\n",
       "</div>"
      ],
      "text/plain": [
       "   Пол  Возраст  Зарплата  Члены семьи  Страховые выплаты\n",
       "0    1     41.0   49600.0            1                  0\n",
       "1    0     46.0   38000.0            1                  1\n",
       "2    0     29.0   21000.0            0                  0\n",
       "3    0     21.0   41700.0            2                  0\n",
       "4    1     28.0   26100.0            0                  0"
      ]
     },
     "execution_count": 3,
     "metadata": {},
     "output_type": "execute_result"
    }
   ],
   "source": [
    "df.head()"
   ]
  },
  {
   "cell_type": "code",
   "execution_count": 4,
   "metadata": {
    "ExecuteTime": {
     "end_time": "2022-02-09T17:26:30.383975Z",
     "start_time": "2022-02-09T17:26:30.371011Z"
    }
   },
   "outputs": [
    {
     "name": "stdout",
     "output_type": "stream",
     "text": [
      "<class 'pandas.core.frame.DataFrame'>\n",
      "RangeIndex: 5000 entries, 0 to 4999\n",
      "Data columns (total 5 columns):\n",
      " #   Column             Non-Null Count  Dtype  \n",
      "---  ------             --------------  -----  \n",
      " 0   Пол                5000 non-null   int64  \n",
      " 1   Возраст            5000 non-null   float64\n",
      " 2   Зарплата           5000 non-null   float64\n",
      " 3   Члены семьи        5000 non-null   int64  \n",
      " 4   Страховые выплаты  5000 non-null   int64  \n",
      "dtypes: float64(2), int64(3)\n",
      "memory usage: 195.4 KB\n"
     ]
    }
   ],
   "source": [
    "df.info()"
   ]
  },
  {
   "cell_type": "code",
   "execution_count": 5,
   "metadata": {
    "ExecuteTime": {
     "end_time": "2022-02-09T17:26:30.414892Z",
     "start_time": "2022-02-09T17:26:30.384974Z"
    }
   },
   "outputs": [
    {
     "data": {
      "text/plain": [
       "153"
      ]
     },
     "execution_count": 5,
     "metadata": {},
     "output_type": "execute_result"
    }
   ],
   "source": [
    "df.duplicated().sum()"
   ]
  },
  {
   "cell_type": "code",
   "execution_count": 6,
   "metadata": {
    "ExecuteTime": {
     "end_time": "2022-02-09T17:26:30.429853Z",
     "start_time": "2022-02-09T17:26:30.416899Z"
    }
   },
   "outputs": [
    {
     "data": {
      "text/plain": [
       "0    0.8872\n",
       "1    0.0846\n",
       "2    0.0230\n",
       "3    0.0036\n",
       "4    0.0014\n",
       "5    0.0002\n",
       "Name: Страховые выплаты, dtype: float64"
      ]
     },
     "execution_count": 6,
     "metadata": {},
     "output_type": "execute_result"
    }
   ],
   "source": [
    "df['Страховые выплаты'].value_counts(normalize=True)"
   ]
  },
  {
   "cell_type": "markdown",
   "metadata": {},
   "source": [
    "Датафрейм на 5000 объектов, присутствует дисбаланс классов, пропусков нет, признаки необходимо переименовать, признаки `Возраст` и `Зарплата` сохранены в формате `float`, имеется 153 полных дубликата. Напишем функцию для замены типа данных, переименовывания столбцов и удаления дубликатов"
   ]
  },
  {
   "cell_type": "code",
   "execution_count": 7,
   "metadata": {
    "ExecuteTime": {
     "end_time": "2022-02-09T17:26:30.445810Z",
     "start_time": "2022-02-09T17:26:30.430851Z"
    }
   },
   "outputs": [],
   "source": [
    "def column_float_to_int(data):\n",
    "    \n",
    "    for column in data.columns:\n",
    "        data[column] = data[column].astype('int')\n",
    "        \n",
    "    data.columns = ['sex', 'age', 'income', 'family_size', 'insurance']\n",
    "    \n",
    "    data = data.drop_duplicates().reset_index(drop=True)\n",
    "        \n",
    "    print(data.info(), '\\n')\n",
    "    \n",
    "    return(data)"
   ]
  },
  {
   "cell_type": "code",
   "execution_count": 8,
   "metadata": {
    "ExecuteTime": {
     "end_time": "2022-02-09T17:26:30.461776Z",
     "start_time": "2022-02-09T17:26:30.446808Z"
    }
   },
   "outputs": [
    {
     "name": "stdout",
     "output_type": "stream",
     "text": [
      "<class 'pandas.core.frame.DataFrame'>\n",
      "RangeIndex: 4847 entries, 0 to 4846\n",
      "Data columns (total 5 columns):\n",
      " #   Column       Non-Null Count  Dtype\n",
      "---  ------       --------------  -----\n",
      " 0   sex          4847 non-null   int32\n",
      " 1   age          4847 non-null   int32\n",
      " 2   income       4847 non-null   int32\n",
      " 3   family_size  4847 non-null   int32\n",
      " 4   insurance    4847 non-null   int32\n",
      "dtypes: int32(5)\n",
      "memory usage: 94.8 KB\n",
      "None \n",
      "\n"
     ]
    }
   ],
   "source": [
    "df = column_float_to_int(df)"
   ]
  },
  {
   "cell_type": "markdown",
   "metadata": {},
   "source": [
    "Проверим признаки на мультиколлинеарность (используем корреляцию Спирмена, которая применима для дискретных переменных)"
   ]
  },
  {
   "cell_type": "code",
   "execution_count": 9,
   "metadata": {
    "ExecuteTime": {
     "end_time": "2022-02-09T17:26:30.732045Z",
     "start_time": "2022-02-09T17:26:30.462766Z"
    }
   },
   "outputs": [
    {
     "name": "stderr",
     "output_type": "stream",
     "text": [
      "C:\\Users\\sonic\\AppData\\Local\\Temp/ipykernel_14256/2219145224.py:6: UserWarning: Matplotlib is currently using module://matplotlib_inline.backend_inline, which is a non-GUI backend, so cannot show the figure.\n",
      "  fig.show()\n"
     ]
    },
    {
     "data": {
      "image/png": "[encoded data removed]",
      "text/plain": [
       "<Figure size 720x720 with 2 Axes>"
      ]
     },
     "metadata": {
      "needs_background": "light"
     },
     "output_type": "display_data"
    }
   ],
   "source": [
    "fig = plt.figure(figsize=(10,10))\n",
    "plt.title('Мультиколлинеарность признаков')\n",
    "\n",
    "sns.heatmap(df.corr(method='spearman'), annot=True)\n",
    "\n",
    "fig.show()"
   ]
  },
  {
   "cell_type": "markdown",
   "metadata": {},
   "source": [
    "Большинство признаков независимы с таргетом (признак `insurance`).   \n",
    "Посмотрим распределения признаков"
   ]
  },
  {
   "cell_type": "code",
   "execution_count": 10,
   "metadata": {
    "ExecuteTime": {
     "end_time": "2022-02-09T17:26:38.601450Z",
     "start_time": "2022-02-09T17:26:30.734040Z"
    }
   },
   "outputs": [
    {
     "data": {
      "image/png": "[encoded data removed]",
      "text/plain": [
       "<Figure size 777.125x720 with 20 Axes>"
      ]
     },
     "metadata": {
      "needs_background": "light"
     },
     "output_type": "display_data"
    }
   ],
   "source": [
    "sns.pairplot(data=df, hue='insurance', diag_kind=\"hist\")\n",
    "plt.show()"
   ]
  },
  {
   "cell_type": "markdown",
   "metadata": {},
   "source": [
    "На распределении сразу видно, что с возрастом растет количество страховых выплат. Кроме того, количество выплат зависит от размера семьи - с уменьшением количества родственников растет количество выплат"
   ]
  },
  {
   "cell_type": "markdown",
   "metadata": {},
   "source": [
    "## Разработка метода кодирования информации"
   ]
  },
  {
   "cell_type": "markdown",
   "metadata": {},
   "source": [
    "Предположим:   \n",
    "$a_1, a_2$ - предсказаний модели   \n",
    "$w_1, w_2$ - веса линейной регрессии   \n",
    "$X$ - матрица признаков, размер m x n   \n",
    "$P$ - случайная **обратимая** матрица размера n x n   \n",
    "\n",
    "\n",
    "Тогда предсказания моделей вычисляются по следующим формулам:  \n",
    "$$\n",
    "a_1 = X  w \n",
    "$$\n",
    "$$\n",
    "a_2 = P  X  w'\n",
    "$$\n",
    "\n",
    "Рассчитаем формулу весов для каждого предсказания:\n",
    "$$\n",
    "w = (X^T X)^{-1} X^T y   \n",
    "$$\n",
    "$$\n",
    "w' = ((P X)^T (P X))^{-1} (P X)^T y  \n",
    "$$\n",
    "Подставим в уравнение и преобразуем:  \n",
    "\n",
    "$$\n",
    "w' = ((XP)^T XP)^{-1} (XP)^T y\n",
    "$$\n",
    "\n",
    "$$\n",
    "w' = (P^T (X^T X) P)^{-1} (XP)^T y\n",
    "$$\n",
    "\n",
    "$$\n",
    "w' = P^{-1} (X^T X)^{-1} (P^T)^{-1} P^T X^T y\n",
    "$$\n",
    "\n",
    "Cокращаем: \n",
    "$$\n",
    "(P^T)^{-1} P^T = E\n",
    "$$\n",
    "\n",
    "$$\n",
    "w' = P^{-1} (X^T X)^{-1} X^T y\n",
    "$$\n",
    "\n",
    "$$\n",
    "(X^T X)^{-1} X^T y = w, откуда\n",
    "$$\n",
    "\n",
    "$$\n",
    "w' = P^{-1} w\n",
    "$$\n"
   ]
  },
  {
   "cell_type": "markdown",
   "metadata": {},
   "source": [
    "**Вывод:** Умножив матрицы признаков на случайную (но обязательно обратимую) матрицу, предсказания линейной регрессии не изменятся"
   ]
  },
  {
   "cell_type": "markdown",
   "metadata": {},
   "source": [
    "## Алгоритм преобразования"
   ]
  },
  {
   "cell_type": "markdown",
   "metadata": {},
   "source": [
    "Для преобразования и кодирования признаков напишем функцию, которая будет создавать обратимую матрицу указанных размеров"
   ]
  },
  {
   "cell_type": "code",
   "execution_count": 11,
   "metadata": {
    "ExecuteTime": {
     "end_time": "2022-02-09T17:26:38.616383Z",
     "start_time": "2022-02-09T17:26:38.602421Z"
    }
   },
   "outputs": [],
   "source": [
    "'''\n",
    "Функция принимает 4 параметра: нижнюю границу,\n",
    "верхнюю границу, размеры квадратной матрицы и \n",
    "сид.\n",
    "Создает и возвращает матрицу заданных размеров и проверяет\n",
    "ее на вырожденность.\n",
    "'''\n",
    "\n",
    "def random_reversible_matrix(low, high, square, random_state):\n",
    "    matrix = np.random.randint(low=low,\n",
    "                               high=high,\n",
    "                               size=(square, square))\n",
    "    try:\n",
    "        rev_matrix = np.linalg.inv(matrix)\n",
    "    except LinAlgError:\n",
    "        raise LinAlgError('Для заданного random_state матрица вырождена')\n",
    "    return matrix"
   ]
  },
  {
   "cell_type": "markdown",
   "metadata": {},
   "source": [
    "Создадим матрицу для кодирования переменных"
   ]
  },
  {
   "cell_type": "code",
   "execution_count": 12,
   "metadata": {
    "ExecuteTime": {
     "end_time": "2022-02-09T17:26:38.632342Z",
     "start_time": "2022-02-09T17:26:38.618378Z"
    }
   },
   "outputs": [
    {
     "data": {
      "text/plain": [
       "array([[-26, -49,  15, -25],\n",
       "       [ 47,  -3, -15,  18],\n",
       "       [-13,  44,  36,  46],\n",
       "       [  7,  45,  21, -48]])"
      ]
     },
     "execution_count": 12,
     "metadata": {},
     "output_type": "execute_result"
    }
   ],
   "source": [
    "encode_matrix = random_reversible_matrix(-50, 50, 4, 1)\n",
    "encode_matrix"
   ]
  },
  {
   "cell_type": "markdown",
   "metadata": {},
   "source": [
    "Разобьем датасет на признаки и таргет"
   ]
  },
  {
   "cell_type": "code",
   "execution_count": 13,
   "metadata": {
    "ExecuteTime": {
     "end_time": "2022-02-09T17:26:38.647328Z",
     "start_time": "2022-02-09T17:26:38.634337Z"
    }
   },
   "outputs": [],
   "source": [
    "X = df.drop('insurance', axis=1)\n",
    "y = df['insurance']"
   ]
  },
  {
   "cell_type": "markdown",
   "metadata": {},
   "source": [
    "Закодируем признаки и сохраним в переменную"
   ]
  },
  {
   "cell_type": "code",
   "execution_count": 14,
   "metadata": {
    "ExecuteTime": {
     "end_time": "2022-02-09T17:26:38.662261Z",
     "start_time": "2022-02-09T17:26:38.648301Z"
    }
   },
   "outputs": [],
   "source": [
    "X_encoded = np.array(X).dot(encode_matrix)"
   ]
  },
  {
   "cell_type": "code",
   "execution_count": 15,
   "metadata": {
    "ExecuteTime": {
     "end_time": "2022-02-09T17:26:38.678218Z",
     "start_time": "2022-02-09T17:26:38.666251Z"
    }
   },
   "outputs": [
    {
     "data": {
      "text/plain": [
       "((4847, 4), (4847, 4))"
      ]
     },
     "execution_count": 15,
     "metadata": {},
     "output_type": "execute_result"
    }
   ],
   "source": [
    "X_encoded.shape, X.shape"
   ]
  },
  {
   "cell_type": "markdown",
   "metadata": {},
   "source": [
    "Проверим, можем ли мы раскодировать признаки"
   ]
  },
  {
   "cell_type": "markdown",
   "metadata": {},
   "source": [
    "Напишем алгоритм для расшифровки данных"
   ]
  },
  {
   "cell_type": "code",
   "execution_count": 16,
   "metadata": {
    "ExecuteTime": {
     "end_time": "2022-02-09T17:26:38.694176Z",
     "start_time": "2022-02-09T17:26:38.680214Z"
    }
   },
   "outputs": [],
   "source": [
    "def decoder(features, features_encoded, enc_matrix):\n",
    "    \n",
    "    enc_key = np.linalg.inv(enc_matrix)\n",
    "\n",
    "    features_dec = pd.DataFrame(data=features_encoded.dot(enc_key),\n",
    "                              columns=features.columns)\n",
    "    return features_dec"
   ]
  },
  {
   "cell_type": "code",
   "execution_count": 17,
   "metadata": {
    "ExecuteTime": {
     "end_time": "2022-02-09T17:26:38.710134Z",
     "start_time": "2022-02-09T17:26:38.696171Z"
    }
   },
   "outputs": [
    {
     "name": "stdout",
     "output_type": "stream",
     "text": [
      "sex                0.498453\n",
      "age               31.023932\n",
      "income         39895.811223\n",
      "family_size        1.203425\n",
      "dtype: float64 \n",
      "\n",
      "sex                0.498453\n",
      "age               31.023932\n",
      "income         39895.811223\n",
      "family_size        1.203425\n",
      "dtype: float64\n"
     ]
    }
   ],
   "source": [
    "features_test = decoder(X, X_encoded, encode_matrix)\n",
    "print(X.mean(), '\\n')\n",
    "print(features_test.mean())"
   ]
  },
  {
   "cell_type": "markdown",
   "metadata": {},
   "source": [
    "**Выводы:**   \n",
    "\n",
    "Мы получили генератор случайных обратимых матриц, с помощью которого закодировали признаки и получили два сета признаков - кодированные и нет.   \n",
    "\n",
    "Обучим линейную регрессию на каждом сете и сравним метрики. В качестве контрольной метрики выбираем R2"
   ]
  },
  {
   "cell_type": "markdown",
   "metadata": {},
   "source": [
    "## Проверка алгоритма"
   ]
  },
  {
   "cell_type": "code",
   "execution_count": 18,
   "metadata": {
    "ExecuteTime": {
     "end_time": "2022-02-09T17:26:38.726090Z",
     "start_time": "2022-02-09T17:26:38.713126Z"
    }
   },
   "outputs": [],
   "source": [
    "'''\n",
    "Функция принимает признаки и таргет\n",
    "В теле разбивает признаки на обучающую \n",
    "и тестовые выборки, создает модель линейной\n",
    "регрессии и считает значения R2 на 5 стратифицированных\n",
    "фолдах. Возвращает выборки и лист скоров\n",
    "'''\n",
    "def split_cross_val(features, target):\n",
    "    \n",
    "    features_train, features_test, target_train, target_test = train_test_split(features,\n",
    "                                                                                target,\n",
    "                                                                               test_size=0.2,\n",
    "                                                                               random_state=47)\n",
    "    \n",
    "    model = LinearRegression()\n",
    "    cv = KFold(n_splits=5, shuffle=True, random_state=47)\n",
    "    \n",
    "    scores = cross_val_score(model, features_train, target_train,\n",
    "                            scoring='r2', cv=cv, n_jobs=-1)\n",
    "    \n",
    "    return features_train, features_test, target_train, target_test, scores"
   ]
  },
  {
   "cell_type": "code",
   "execution_count": 19,
   "metadata": {
    "ExecuteTime": {
     "end_time": "2022-02-09T17:26:40.451507Z",
     "start_time": "2022-02-09T17:26:38.729083Z"
    }
   },
   "outputs": [],
   "source": [
    "X_train, X_test, y_train, y_test, scores = split_cross_val(X, y)"
   ]
  },
  {
   "cell_type": "code",
   "execution_count": 20,
   "metadata": {
    "ExecuteTime": {
     "end_time": "2022-02-09T17:26:40.483264Z",
     "start_time": "2022-02-09T17:26:40.453479Z"
    }
   },
   "outputs": [],
   "source": [
    "X_train_enc, X_test_enc, y_train_enc, y_test_enc, scores_enc = split_cross_val(X, y)"
   ]
  },
  {
   "cell_type": "code",
   "execution_count": 21,
   "metadata": {
    "ExecuteTime": {
     "end_time": "2022-02-09T17:26:40.498776Z",
     "start_time": "2022-02-09T17:26:40.485268Z"
    }
   },
   "outputs": [],
   "source": [
    "assert(scores.mean() == scores_enc.mean())"
   ]
  },
  {
   "cell_type": "markdown",
   "metadata": {},
   "source": [
    "Кросс-валидация показала, что на обучающей выборке разницы между R2 метрикой нет. Проверим на тестовой выборке"
   ]
  },
  {
   "cell_type": "code",
   "execution_count": 22,
   "metadata": {
    "ExecuteTime": {
     "end_time": "2022-02-09T17:26:40.514036Z",
     "start_time": "2022-02-09T17:26:40.500746Z"
    }
   },
   "outputs": [],
   "source": [
    "def lin_regr_test(X_train, X_test, y_train, y_test):\n",
    "    \n",
    "    model = LinearRegression().fit(X_train, y_train)\n",
    "    \n",
    "    predictions = model.predict(X_test)\n",
    "    \n",
    "    score = r2_score(y_test, predictions)\n",
    "    \n",
    "    return model, predictions, score"
   ]
  },
  {
   "cell_type": "code",
   "execution_count": 23,
   "metadata": {
    "ExecuteTime": {
     "end_time": "2022-02-09T17:26:40.529970Z",
     "start_time": "2022-02-09T17:26:40.516008Z"
    }
   },
   "outputs": [
    {
     "name": "stdout",
     "output_type": "stream",
     "text": [
      "R2-score датасета: 0.4237137398697042\n",
      "R2-score кодированного датасета: 0.4237137398697042\n"
     ]
    }
   ],
   "source": [
    "model, predictions, score = lin_regr_test(X_train, X_test, y_train, y_test)\n",
    "model_enc, predictions_enc, score_enc = lin_regr_test(X_train_enc, X_test_enc, y_train_enc, y_test_enc)\n",
    "\n",
    "assert(score == score_enc)\n",
    "\n",
    "print(f'R2-score датасета: {score}')\n",
    "print(f'R2-score кодированного датасета: {score_enc}')"
   ]
  },
  {
   "cell_type": "markdown",
   "metadata": {},
   "source": [
    "## Результаты и выводы"
   ]
  },
  {
   "cell_type": "markdown",
   "metadata": {},
   "source": [
    "Был проведен исследовательский анализ данных. В результате были удалены дубликаты и переименованы признаки. Анализ распределения и корреляции показал, что большинство признаков линейно независимы с целевым.   \n",
    "\n",
    "Был создан алгоритм создания случайной обратимой матрицы для кодирования значений признаков (приведены доказательства применимости такой методики). На примере этих данных показано, что значение метрики и предсказаний модели не зависят от кодирования. Данные легко расшифровываются, используя написанный нами алгоритм.   \n",
    "\n",
    "Теория и алгоритмы были проверены на приведенном датасете. Кросс-валидация и предсказания тестовой выборки показали, что значения метрики не зависят от шифрования.   "
   ]
  },
  {
   "cell_type": "markdown",
   "metadata": {},
   "source": [
    "**Рекомендации:**   \n",
    "\n",
    "Базовая модель линейной регрессии слабо показывает себя на таких данных. Для улучшения модели рекомендуется:  \n",
    "1) Работать с признаками и объектами - добавить новых, так как у нас их достаточно мало   \n",
    "2) Использовать нелинейную модель - преобразовать функции полиномиальной функцией и обучить модель на них (в таком случае, нужен новый способ защиты данных)      \n",
    "3) Использовать регуляризацию - L1, L2 или смесь (Лассо, Ридж или ЭластикНет)   \n",
    "4) Использовать другие модели и/или их ансамбли   \n",
    "    \n",
    "Приведенные выше рекомендации с достаточной долей уверенности смогут повысить производительность модели и улучшить предсказания"
   ]
  }
 ],
 "metadata": {
  "ExecuteTimeLog": [
   {
    "duration": 1086,
    "start_time": "2022-01-11T08:48:45.999Z"
   },
   {
    "duration": 17,
    "start_time": "2022-01-11T08:49:06.750Z"
   },
   {
    "duration": 17,
    "start_time": "2022-01-11T08:49:59.094Z"
   },
   {
    "duration": 7,
    "start_time": "2022-01-11T08:50:14.829Z"
   },
   {
    "duration": 4,
    "start_time": "2022-01-11T08:52:06.229Z"
   },
   {
    "duration": 242,
    "start_time": "2022-01-11T08:53:04.030Z"
   },
   {
    "duration": 5,
    "start_time": "2022-01-11T08:53:09.261Z"
   },
   {
    "duration": 3,
    "start_time": "2022-01-11T08:53:19.797Z"
   },
   {
    "duration": 9,
    "start_time": "2022-01-11T08:53:20.085Z"
   },
   {
    "duration": 7,
    "start_time": "2022-01-11T08:53:36.509Z"
   },
   {
    "duration": 832,
    "start_time": "2022-01-11T11:43:59.861Z"
   },
   {
    "duration": 1742,
    "start_time": "2022-01-11T11:44:06.747Z"
   },
   {
    "duration": 19,
    "start_time": "2022-01-11T11:44:08.492Z"
   },
   {
    "duration": 23,
    "start_time": "2022-01-11T11:44:08.525Z"
   },
   {
    "duration": 10,
    "start_time": "2022-01-11T11:44:08.551Z"
   },
   {
    "duration": 12,
    "start_time": "2022-01-11T11:44:08.564Z"
   },
   {
    "duration": 4,
    "start_time": "2022-01-11T11:44:08.579Z"
   },
   {
    "duration": 14,
    "start_time": "2022-01-11T11:44:08.623Z"
   },
   {
    "duration": 10,
    "start_time": "2022-01-11T11:44:29.424Z"
   },
   {
    "duration": 10,
    "start_time": "2022-01-11T11:44:36.096Z"
   },
   {
    "duration": 2501,
    "start_time": "2022-01-11T11:48:52.416Z"
   },
   {
    "duration": 8,
    "start_time": "2022-01-11T11:48:55.904Z"
   },
   {
    "duration": 150,
    "start_time": "2022-01-11T11:49:03.272Z"
   },
   {
    "duration": 7,
    "start_time": "2022-01-11T11:49:12.032Z"
   },
   {
    "duration": 334,
    "start_time": "2022-01-11T11:49:13.184Z"
   },
   {
    "duration": 28,
    "start_time": "2022-01-11T11:49:20.736Z"
   },
   {
    "duration": 9,
    "start_time": "2022-01-11T11:49:51.424Z"
   },
   {
    "duration": 506,
    "start_time": "2022-01-11T11:50:21.184Z"
   },
   {
    "duration": 104,
    "start_time": "2022-01-11T11:50:35.136Z"
   },
   {
    "duration": 562,
    "start_time": "2022-01-11T11:50:37.857Z"
   },
   {
    "duration": 352,
    "start_time": "2022-01-11T11:51:07.376Z"
   },
   {
    "duration": 1250,
    "start_time": "2022-01-11T11:51:25.592Z"
   },
   {
    "duration": 750,
    "start_time": "2022-01-11T11:52:11.688Z"
   },
   {
    "duration": 779,
    "start_time": "2022-01-11T11:52:49.568Z"
   },
   {
    "duration": 778,
    "start_time": "2022-01-11T11:53:07.816Z"
   },
   {
    "duration": 361,
    "start_time": "2022-01-11T11:56:59.608Z"
   },
   {
    "duration": 25072,
    "start_time": "2022-01-11T11:59:55.160Z"
   },
   {
    "duration": 24349,
    "start_time": "2022-01-11T12:00:33.896Z"
   },
   {
    "duration": 5,
    "start_time": "2022-01-11T12:03:18.728Z"
   },
   {
    "duration": 66468,
    "start_time": "2022-01-11T12:03:31.408Z"
   },
   {
    "duration": 337,
    "start_time": "2022-01-11T12:05:20.232Z"
   },
   {
    "duration": 7680,
    "start_time": "2022-01-11T12:05:23.919Z"
   },
   {
    "duration": 23959,
    "start_time": "2022-01-11T12:05:40.840Z"
   },
   {
    "duration": 4436,
    "start_time": "2022-01-11T12:07:01.322Z"
   },
   {
    "duration": 24957,
    "start_time": "2022-01-11T12:07:45.305Z"
   },
   {
    "duration": 8,
    "start_time": "2022-01-11T12:08:42.256Z"
   },
   {
    "duration": 27900,
    "start_time": "2022-01-11T12:13:35.271Z"
   },
   {
    "duration": 4,
    "start_time": "2022-01-11T12:57:47.541Z"
   },
   {
    "duration": 5,
    "start_time": "2022-01-11T12:59:10.663Z"
   },
   {
    "duration": 5,
    "start_time": "2022-01-11T12:59:59.896Z"
   },
   {
    "duration": 774,
    "start_time": "2022-01-11T13:00:08.447Z"
   },
   {
    "duration": 7,
    "start_time": "2022-01-11T13:01:41.599Z"
   },
   {
    "duration": 19,
    "start_time": "2022-01-11T13:01:58.400Z"
   },
   {
    "duration": 11,
    "start_time": "2022-01-11T13:02:02.296Z"
   },
   {
    "duration": 366,
    "start_time": "2022-01-11T13:02:51.992Z"
   },
   {
    "duration": 392,
    "start_time": "2022-01-11T13:03:02.143Z"
   },
   {
    "duration": 5,
    "start_time": "2022-01-11T13:04:35.911Z"
   },
   {
    "duration": 669,
    "start_time": "2022-01-11T13:07:45.407Z"
   },
   {
    "duration": 6,
    "start_time": "2022-01-11T13:07:51.591Z"
   },
   {
    "duration": 654,
    "start_time": "2022-01-11T13:07:58.991Z"
   },
   {
    "duration": 5,
    "start_time": "2022-01-11T13:10:19.960Z"
   },
   {
    "duration": 8,
    "start_time": "2022-01-11T13:10:21.833Z"
   },
   {
    "duration": 5,
    "start_time": "2022-01-11T13:11:48.528Z"
   },
   {
    "duration": 1698,
    "start_time": "2022-01-14T06:38:46.997Z"
   },
   {
    "duration": 23,
    "start_time": "2022-01-14T06:38:48.698Z"
   },
   {
    "duration": 19,
    "start_time": "2022-01-14T06:38:48.724Z"
   },
   {
    "duration": 11,
    "start_time": "2022-01-14T06:38:48.746Z"
   },
   {
    "duration": 46,
    "start_time": "2022-01-14T06:38:48.760Z"
   },
   {
    "duration": 6,
    "start_time": "2022-01-14T06:38:48.810Z"
   },
   {
    "duration": 22,
    "start_time": "2022-01-14T06:38:48.819Z"
   },
   {
    "duration": 645,
    "start_time": "2022-01-14T06:38:48.843Z"
   },
   {
    "duration": 23237,
    "start_time": "2022-01-14T06:38:49.492Z"
   },
   {
    "duration": 5,
    "start_time": "2022-01-14T06:39:12.732Z"
   },
   {
    "duration": 11,
    "start_time": "2022-01-14T06:39:12.740Z"
   },
   {
    "duration": 7,
    "start_time": "2022-01-14T06:39:12.803Z"
   },
   {
    "duration": 4,
    "start_time": "2022-01-14T06:39:16.345Z"
   },
   {
    "duration": 5,
    "start_time": "2022-01-14T06:39:31.112Z"
   },
   {
    "duration": 6,
    "start_time": "2022-01-14T06:40:00.065Z"
   },
   {
    "duration": 5,
    "start_time": "2022-01-14T06:40:13.864Z"
   },
   {
    "duration": 21,
    "start_time": "2022-01-14T06:40:54.985Z"
   },
   {
    "duration": 5,
    "start_time": "2022-01-14T06:41:27.601Z"
   },
   {
    "duration": 469,
    "start_time": "2022-01-14T06:41:28.345Z"
   },
   {
    "duration": 4,
    "start_time": "2022-01-14T06:41:38.913Z"
   },
   {
    "duration": 3,
    "start_time": "2022-01-14T06:41:41.664Z"
   },
   {
    "duration": 4,
    "start_time": "2022-01-14T06:41:52.747Z"
   },
   {
    "duration": 23,
    "start_time": "2022-01-14T06:41:52.754Z"
   },
   {
    "duration": 13,
    "start_time": "2022-01-14T06:41:52.780Z"
   },
   {
    "duration": 8,
    "start_time": "2022-01-14T06:41:52.796Z"
   },
   {
    "duration": 7,
    "start_time": "2022-01-14T06:41:52.807Z"
   },
   {
    "duration": 5,
    "start_time": "2022-01-14T06:41:52.816Z"
   },
   {
    "duration": 19,
    "start_time": "2022-01-14T06:41:55.304Z"
   },
   {
    "duration": 14,
    "start_time": "2022-01-14T06:41:57.128Z"
   },
   {
    "duration": 8,
    "start_time": "2022-01-14T06:42:11.089Z"
   },
   {
    "duration": 1431,
    "start_time": "2022-01-14T06:42:47.449Z"
   },
   {
    "duration": 21,
    "start_time": "2022-01-14T06:42:48.883Z"
   },
   {
    "duration": 16,
    "start_time": "2022-01-14T06:42:48.907Z"
   },
   {
    "duration": 10,
    "start_time": "2022-01-14T06:42:48.926Z"
   },
   {
    "duration": 8,
    "start_time": "2022-01-14T06:42:48.938Z"
   },
   {
    "duration": 5,
    "start_time": "2022-01-14T06:42:48.948Z"
   },
   {
    "duration": 57,
    "start_time": "2022-01-14T06:42:48.955Z"
   },
   {
    "duration": 804,
    "start_time": "2022-01-14T06:42:49.014Z"
   },
   {
    "duration": 34750,
    "start_time": "2022-01-14T06:42:49.822Z"
   },
   {
    "duration": 6,
    "start_time": "2022-01-14T06:43:24.575Z"
   },
   {
    "duration": 26,
    "start_time": "2022-01-14T06:43:24.583Z"
   },
   {
    "duration": 88,
    "start_time": "2022-01-14T06:43:24.613Z"
   },
   {
    "duration": 488,
    "start_time": "2022-01-14T06:43:24.705Z"
   },
   {
    "duration": -1400,
    "start_time": "2022-01-14T06:43:26.596Z"
   },
   {
    "duration": -1400,
    "start_time": "2022-01-14T06:43:26.598Z"
   },
   {
    "duration": 15,
    "start_time": "2022-01-14T06:44:08.331Z"
   },
   {
    "duration": 5,
    "start_time": "2022-01-14T06:44:32.123Z"
   },
   {
    "duration": 1635,
    "start_time": "2022-01-14T06:44:32.514Z"
   },
   {
    "duration": 1521,
    "start_time": "2022-01-14T06:45:03.593Z"
   },
   {
    "duration": 20,
    "start_time": "2022-01-14T06:45:05.117Z"
   },
   {
    "duration": 16,
    "start_time": "2022-01-14T06:45:05.141Z"
   },
   {
    "duration": 10,
    "start_time": "2022-01-14T06:45:05.160Z"
   },
   {
    "duration": 33,
    "start_time": "2022-01-14T06:45:05.173Z"
   },
   {
    "duration": 5,
    "start_time": "2022-01-14T06:45:05.208Z"
   },
   {
    "duration": 21,
    "start_time": "2022-01-14T06:45:05.216Z"
   },
   {
    "duration": 639,
    "start_time": "2022-01-14T06:45:05.242Z"
   },
   {
    "duration": 22836,
    "start_time": "2022-01-14T06:45:05.885Z"
   },
   {
    "duration": 6,
    "start_time": "2022-01-14T06:45:28.723Z"
   },
   {
    "duration": 9,
    "start_time": "2022-01-14T06:45:28.732Z"
   },
   {
    "duration": 9,
    "start_time": "2022-01-14T06:45:28.801Z"
   },
   {
    "duration": 91,
    "start_time": "2022-01-14T06:45:28.814Z"
   },
   {
    "duration": 5,
    "start_time": "2022-01-14T06:45:28.908Z"
   },
   {
    "duration": 7,
    "start_time": "2022-01-14T06:45:28.916Z"
   },
   {
    "duration": 6,
    "start_time": "2022-01-14T06:45:28.926Z"
   },
   {
    "duration": 5,
    "start_time": "2022-01-14T06:45:42.466Z"
   },
   {
    "duration": 6,
    "start_time": "2022-01-14T06:45:49.954Z"
   },
   {
    "duration": 19,
    "start_time": "2022-01-14T06:54:54.523Z"
   },
   {
    "duration": 6,
    "start_time": "2022-01-14T06:55:10.048Z"
   },
   {
    "duration": 9,
    "start_time": "2022-01-14T06:55:32.050Z"
   },
   {
    "duration": 115,
    "start_time": "2022-01-14T06:56:00.189Z"
   },
   {
    "duration": -1410,
    "start_time": "2022-01-14T06:56:01.717Z"
   },
   {
    "duration": -1412,
    "start_time": "2022-01-14T06:56:01.720Z"
   },
   {
    "duration": -1412,
    "start_time": "2022-01-14T06:56:01.722Z"
   },
   {
    "duration": -1413,
    "start_time": "2022-01-14T06:56:01.724Z"
   },
   {
    "duration": -1413,
    "start_time": "2022-01-14T06:56:01.726Z"
   },
   {
    "duration": -1414,
    "start_time": "2022-01-14T06:56:01.728Z"
   },
   {
    "duration": -1414,
    "start_time": "2022-01-14T06:56:01.730Z"
   },
   {
    "duration": -1415,
    "start_time": "2022-01-14T06:56:01.732Z"
   },
   {
    "duration": -1415,
    "start_time": "2022-01-14T06:56:01.734Z"
   },
   {
    "duration": -1415,
    "start_time": "2022-01-14T06:56:01.735Z"
   },
   {
    "duration": -1420,
    "start_time": "2022-01-14T06:56:01.741Z"
   },
   {
    "duration": -1420,
    "start_time": "2022-01-14T06:56:01.743Z"
   },
   {
    "duration": -1420,
    "start_time": "2022-01-14T06:56:01.744Z"
   },
   {
    "duration": -1420,
    "start_time": "2022-01-14T06:56:01.746Z"
   },
   {
    "duration": -1420,
    "start_time": "2022-01-14T06:56:01.747Z"
   },
   {
    "duration": 240,
    "start_time": "2022-01-14T07:01:01.642Z"
   },
   {
    "duration": 5,
    "start_time": "2022-01-14T07:10:56.553Z"
   },
   {
    "duration": 6,
    "start_time": "2022-01-14T07:11:02.900Z"
   },
   {
    "duration": 59,
    "start_time": "2022-01-14T07:11:02.909Z"
   },
   {
    "duration": 30,
    "start_time": "2022-01-14T07:11:02.971Z"
   },
   {
    "duration": 26,
    "start_time": "2022-01-14T07:11:03.004Z"
   },
   {
    "duration": 32,
    "start_time": "2022-01-14T07:11:03.032Z"
   },
   {
    "duration": 9,
    "start_time": "2022-01-14T07:11:03.067Z"
   },
   {
    "duration": 23,
    "start_time": "2022-01-14T07:11:03.079Z"
   },
   {
    "duration": 29,
    "start_time": "2022-01-14T07:11:03.105Z"
   },
   {
    "duration": 784,
    "start_time": "2022-01-14T07:11:03.137Z"
   },
   {
    "duration": 26597,
    "start_time": "2022-01-14T07:11:03.925Z"
   },
   {
    "duration": 7,
    "start_time": "2022-01-14T07:11:30.526Z"
   },
   {
    "duration": 20,
    "start_time": "2022-01-14T07:11:30.536Z"
   },
   {
    "duration": 7,
    "start_time": "2022-01-14T07:11:30.603Z"
   },
   {
    "duration": 93,
    "start_time": "2022-01-14T07:11:30.614Z"
   },
   {
    "duration": 8,
    "start_time": "2022-01-14T07:11:30.710Z"
   },
   {
    "duration": 8,
    "start_time": "2022-01-14T07:11:30.721Z"
   },
   {
    "duration": 6,
    "start_time": "2022-01-14T07:18:40.466Z"
   },
   {
    "duration": 6,
    "start_time": "2022-01-14T07:19:23.906Z"
   },
   {
    "duration": 600,
    "start_time": "2022-01-14T07:20:31.954Z"
   },
   {
    "duration": 6,
    "start_time": "2022-01-14T07:20:35.193Z"
   },
   {
    "duration": 806,
    "start_time": "2022-01-14T07:20:35.441Z"
   },
   {
    "duration": 7,
    "start_time": "2022-01-14T07:20:52.002Z"
   },
   {
    "duration": 853,
    "start_time": "2022-01-14T07:20:52.225Z"
   },
   {
    "duration": 6,
    "start_time": "2022-01-14T07:21:04.313Z"
   },
   {
    "duration": 28,
    "start_time": "2022-01-14T07:21:06.377Z"
   },
   {
    "duration": 4,
    "start_time": "2022-01-14T07:21:49.259Z"
   },
   {
    "duration": 6,
    "start_time": "2022-01-14T07:21:52.369Z"
   },
   {
    "duration": 33,
    "start_time": "2022-01-14T07:21:52.577Z"
   },
   {
    "duration": 33,
    "start_time": "2022-01-14T07:22:34.777Z"
   },
   {
    "duration": 36,
    "start_time": "2022-01-14T07:22:42.801Z"
   },
   {
    "duration": 33,
    "start_time": "2022-01-14T07:22:43.265Z"
   },
   {
    "duration": 6,
    "start_time": "2022-01-14T07:23:05.073Z"
   },
   {
    "duration": 4,
    "start_time": "2022-01-14T07:23:29.913Z"
   },
   {
    "duration": 394,
    "start_time": "2022-01-14T07:29:00.937Z"
   },
   {
    "duration": 340,
    "start_time": "2022-01-14T07:29:52.312Z"
   },
   {
    "duration": 6,
    "start_time": "2022-01-14T07:29:54.569Z"
   },
   {
    "duration": 5,
    "start_time": "2022-01-14T07:30:04.553Z"
   },
   {
    "duration": 6,
    "start_time": "2022-01-14T07:30:23.862Z"
   },
   {
    "duration": 6,
    "start_time": "2022-01-14T07:30:52.601Z"
   },
   {
    "duration": 18,
    "start_time": "2022-01-14T07:31:00.465Z"
   },
   {
    "duration": 14,
    "start_time": "2022-01-14T07:31:13.625Z"
   },
   {
    "duration": 8,
    "start_time": "2022-01-14T07:32:23.311Z"
   },
   {
    "duration": 10,
    "start_time": "2022-01-14T07:33:33.059Z"
   },
   {
    "duration": 8,
    "start_time": "2022-01-14T07:33:36.441Z"
   },
   {
    "duration": 7,
    "start_time": "2022-01-14T07:37:37.315Z"
   },
   {
    "duration": 6,
    "start_time": "2022-01-14T07:38:18.346Z"
   },
   {
    "duration": 695,
    "start_time": "2022-01-14T07:40:40.528Z"
   },
   {
    "duration": 4,
    "start_time": "2022-01-14T07:40:53.681Z"
   },
   {
    "duration": 14,
    "start_time": "2022-01-14T07:40:53.865Z"
   },
   {
    "duration": 14,
    "start_time": "2022-01-14T07:43:40.929Z"
   },
   {
    "duration": 4,
    "start_time": "2022-01-14T07:53:12.705Z"
   },
   {
    "duration": 14,
    "start_time": "2022-01-14T07:54:03.960Z"
   },
   {
    "duration": 2047,
    "start_time": "2022-01-14T08:03:04.464Z"
   },
   {
    "duration": 24,
    "start_time": "2022-01-14T08:03:06.514Z"
   },
   {
    "duration": 22,
    "start_time": "2022-01-14T08:03:06.542Z"
   },
   {
    "duration": 12,
    "start_time": "2022-01-14T08:03:06.568Z"
   },
   {
    "duration": 11,
    "start_time": "2022-01-14T08:03:06.599Z"
   },
   {
    "duration": 13,
    "start_time": "2022-01-14T08:03:06.615Z"
   },
   {
    "duration": 6,
    "start_time": "2022-01-14T08:03:06.630Z"
   },
   {
    "duration": 64,
    "start_time": "2022-01-14T08:03:06.642Z"
   },
   {
    "duration": 622,
    "start_time": "2022-01-14T08:03:06.710Z"
   },
   {
    "duration": 27734,
    "start_time": "2022-01-14T08:03:07.335Z"
   },
   {
    "duration": 6,
    "start_time": "2022-01-14T08:03:35.072Z"
   },
   {
    "duration": 25,
    "start_time": "2022-01-14T08:03:35.081Z"
   },
   {
    "duration": 12,
    "start_time": "2022-01-14T08:03:35.109Z"
   },
   {
    "duration": 14,
    "start_time": "2022-01-14T08:03:35.203Z"
   },
   {
    "duration": 101,
    "start_time": "2022-01-14T08:03:35.221Z"
   },
   {
    "duration": 6,
    "start_time": "2022-01-14T08:03:35.326Z"
   },
   {
    "duration": 23,
    "start_time": "2022-01-14T08:03:35.335Z"
   },
   {
    "duration": 43,
    "start_time": "2022-01-14T08:03:35.361Z"
   },
   {
    "duration": 129,
    "start_time": "2022-01-14T08:03:35.408Z"
   },
   {
    "duration": 37,
    "start_time": "2022-01-14T08:03:35.539Z"
   },
   {
    "duration": 4,
    "start_time": "2022-01-14T08:03:35.579Z"
   },
   {
    "duration": 24,
    "start_time": "2022-01-14T08:03:35.602Z"
   },
   {
    "duration": 18,
    "start_time": "2022-01-14T08:03:35.632Z"
   },
   {
    "duration": 2433,
    "start_time": "2022-01-14T08:35:35.857Z"
   },
   {
    "duration": 23,
    "start_time": "2022-01-14T08:35:38.293Z"
   },
   {
    "duration": 18,
    "start_time": "2022-01-14T08:35:38.319Z"
   },
   {
    "duration": 33,
    "start_time": "2022-01-14T08:35:38.340Z"
   },
   {
    "duration": 8,
    "start_time": "2022-01-14T08:35:38.376Z"
   },
   {
    "duration": 10,
    "start_time": "2022-01-14T08:35:38.386Z"
   },
   {
    "duration": 6,
    "start_time": "2022-01-14T08:35:43.428Z"
   },
   {
    "duration": 18,
    "start_time": "2022-01-14T08:35:43.625Z"
   },
   {
    "duration": 614,
    "start_time": "2022-01-14T08:35:45.112Z"
   },
   {
    "duration": 22422,
    "start_time": "2022-01-14T08:35:46.607Z"
   },
   {
    "duration": 6,
    "start_time": "2022-01-14T08:40:41.781Z"
   },
   {
    "duration": 6,
    "start_time": "2022-01-14T08:42:06.887Z"
   },
   {
    "duration": 5,
    "start_time": "2022-01-14T08:42:07.611Z"
   },
   {
    "duration": 4,
    "start_time": "2022-01-14T08:42:07.937Z"
   },
   {
    "duration": 6,
    "start_time": "2022-01-14T08:42:08.082Z"
   },
   {
    "duration": 4,
    "start_time": "2022-01-14T08:42:08.516Z"
   },
   {
    "duration": 9,
    "start_time": "2022-01-14T08:42:08.674Z"
   },
   {
    "duration": 5,
    "start_time": "2022-01-14T08:42:09.288Z"
   },
   {
    "duration": 33,
    "start_time": "2022-01-14T08:42:09.445Z"
   },
   {
    "duration": 33,
    "start_time": "2022-01-14T08:42:09.603Z"
   },
   {
    "duration": 3,
    "start_time": "2022-01-14T08:42:09.768Z"
   },
   {
    "duration": 5,
    "start_time": "2022-01-14T08:42:10.116Z"
   },
   {
    "duration": 13,
    "start_time": "2022-01-14T08:42:10.280Z"
   },
   {
    "duration": 419,
    "start_time": "2022-01-14T10:03:32.926Z"
   },
   {
    "duration": 1335,
    "start_time": "2022-01-14T10:03:39.300Z"
   },
   {
    "duration": 40,
    "start_time": "2022-01-14T10:03:40.638Z"
   },
   {
    "duration": 20,
    "start_time": "2022-01-14T10:03:40.683Z"
   },
   {
    "duration": 14,
    "start_time": "2022-01-14T10:03:40.706Z"
   },
   {
    "duration": 17,
    "start_time": "2022-01-14T10:03:40.722Z"
   },
   {
    "duration": 13,
    "start_time": "2022-01-14T10:03:40.741Z"
   },
   {
    "duration": 5,
    "start_time": "2022-01-14T10:03:40.761Z"
   },
   {
    "duration": 21,
    "start_time": "2022-01-14T10:03:40.769Z"
   },
   {
    "duration": 611,
    "start_time": "2022-01-14T10:03:40.792Z"
   },
   {
    "duration": 17782,
    "start_time": "2022-01-14T10:03:41.406Z"
   },
   {
    "duration": 4,
    "start_time": "2022-01-14T10:03:59.190Z"
   },
   {
    "duration": 19,
    "start_time": "2022-01-14T10:03:59.197Z"
   },
   {
    "duration": 7,
    "start_time": "2022-01-14T10:03:59.262Z"
   },
   {
    "duration": 8,
    "start_time": "2022-01-14T10:03:59.271Z"
   },
   {
    "duration": 5,
    "start_time": "2022-01-14T10:03:59.361Z"
   },
   {
    "duration": 7,
    "start_time": "2022-01-14T10:03:59.367Z"
   },
   {
    "duration": 22,
    "start_time": "2022-01-14T10:03:59.375Z"
   },
   {
    "duration": 63,
    "start_time": "2022-01-14T10:03:59.400Z"
   },
   {
    "duration": 109,
    "start_time": "2022-01-14T10:03:59.466Z"
   },
   {
    "duration": 25,
    "start_time": "2022-01-14T10:03:59.577Z"
   },
   {
    "duration": 3,
    "start_time": "2022-01-14T10:03:59.604Z"
   },
   {
    "duration": 19,
    "start_time": "2022-01-14T10:03:59.610Z"
   },
   {
    "duration": 49,
    "start_time": "2022-01-14T10:03:59.631Z"
   }
  ],
  "hide_input": false,
  "kernelspec": {
   "display_name": "Python 3 (ipykernel)",
   "language": "python",
   "name": "python3"
  },
  "language_info": {
   "codemirror_mode": {
    "name": "ipython",
    "version": 3
   },
   "file_extension": ".py",
   "mimetype": "text/x-python",
   "name": "python",
   "nbconvert_exporter": "python",
   "pygments_lexer": "ipython3",
   "version": "3.9.7"
  },
  "toc": {
   "base_numbering": 1,
   "nav_menu": {},
   "number_sections": true,
   "sideBar": true,
   "skip_h1_title": true,
   "title_cell": "Содержание",
   "title_sidebar": "Contents",
   "toc_cell": true,
   "toc_position": {},
   "toc_section_display": true,
   "toc_window_display": false
  },
  "varInspector": {
   "cols": {
    "lenName": 16,
    "lenType": 16,
    "lenVar": 40
   },
   "kernels_config": {
    "python": {
     "delete_cmd_postfix": "",
     "delete_cmd_prefix": "del ",
     "library": "var_list.py",
     "varRefreshCmd": "print(var_dic_list())"
    },
    "r": {
     "delete_cmd_postfix": ") ",
     "delete_cmd_prefix": "rm(",
     "library": "var_list.r",
     "varRefreshCmd": "cat(var_dic_list()) "
    }
   },
   "types_to_exclude": [
    "module",
    "function",
    "builtin_function_or_method",
    "instance",
    "_Feature"
   ],
   "window_display": false
  }
 },
 "nbformat": 4,
 "nbformat_minor": 2
}
