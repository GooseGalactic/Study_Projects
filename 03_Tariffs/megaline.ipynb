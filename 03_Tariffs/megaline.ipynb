{
 "cells": [
  {
   "cell_type": "markdown",
   "metadata": {},
   "source": [
    "## Изучение общей информации"
   ]
  },
  {
   "cell_type": "code",
   "execution_count": 1,
   "metadata": {
    "ExecuteTime": {
     "end_time": "2022-02-06T15:11:40.280876Z",
     "start_time": "2022-02-06T15:11:36.501726Z"
    }
   },
   "outputs": [],
   "source": [
    "import pandas as pd\n",
    "import numpy as np \n",
    "from matplotlib import pyplot as plt\n",
    "from scipy import stats as st"
   ]
  },
  {
   "cell_type": "code",
   "execution_count": 2,
   "metadata": {
    "ExecuteTime": {
     "end_time": "2022-02-06T15:11:40.707628Z",
     "start_time": "2022-02-06T15:11:40.281876Z"
    }
   },
   "outputs": [],
   "source": [
    "users = pd.read_csv('users.csv')\n",
    "calls = pd.read_csv('calls.csv')\n",
    "messages = pd.read_csv('messages.csv')\n",
    "internet = pd.read_csv('internet.csv')\n",
    "tariffs = pd.read_csv('tariffs.csv')"
   ]
  },
  {
   "cell_type": "code",
   "execution_count": 3,
   "metadata": {
    "ExecuteTime": {
     "end_time": "2022-02-06T15:11:40.738546Z",
     "start_time": "2022-02-06T15:11:40.709595Z"
    }
   },
   "outputs": [
    {
     "data": {
      "text/html": [
       "<div>\n",
       "<style scoped>\n",
       "    .dataframe tbody tr th:only-of-type {\n",
       "        vertical-align: middle;\n",
       "    }\n",
       "\n",
       "    .dataframe tbody tr th {\n",
       "        vertical-align: top;\n",
       "    }\n",
       "\n",
       "    .dataframe thead th {\n",
       "        text-align: right;\n",
       "    }\n",
       "</style>\n",
       "<table border=\"1\" class=\"dataframe\">\n",
       "  <thead>\n",
       "    <tr style=\"text-align: right;\">\n",
       "      <th></th>\n",
       "      <th>user_id</th>\n",
       "      <th>age</th>\n",
       "      <th>churn_date</th>\n",
       "      <th>city</th>\n",
       "      <th>first_name</th>\n",
       "      <th>last_name</th>\n",
       "      <th>reg_date</th>\n",
       "      <th>tariff</th>\n",
       "    </tr>\n",
       "  </thead>\n",
       "  <tbody>\n",
       "    <tr>\n",
       "      <th>0</th>\n",
       "      <td>1000</td>\n",
       "      <td>52</td>\n",
       "      <td>NaN</td>\n",
       "      <td>Краснодар</td>\n",
       "      <td>Рафаил</td>\n",
       "      <td>Верещагин</td>\n",
       "      <td>2018-05-25</td>\n",
       "      <td>ultra</td>\n",
       "    </tr>\n",
       "    <tr>\n",
       "      <th>1</th>\n",
       "      <td>1001</td>\n",
       "      <td>41</td>\n",
       "      <td>NaN</td>\n",
       "      <td>Москва</td>\n",
       "      <td>Иван</td>\n",
       "      <td>Ежов</td>\n",
       "      <td>2018-11-01</td>\n",
       "      <td>smart</td>\n",
       "    </tr>\n",
       "    <tr>\n",
       "      <th>2</th>\n",
       "      <td>1002</td>\n",
       "      <td>59</td>\n",
       "      <td>NaN</td>\n",
       "      <td>Стерлитамак</td>\n",
       "      <td>Евгений</td>\n",
       "      <td>Абрамович</td>\n",
       "      <td>2018-06-17</td>\n",
       "      <td>smart</td>\n",
       "    </tr>\n",
       "    <tr>\n",
       "      <th>3</th>\n",
       "      <td>1003</td>\n",
       "      <td>23</td>\n",
       "      <td>NaN</td>\n",
       "      <td>Москва</td>\n",
       "      <td>Белла</td>\n",
       "      <td>Белякова</td>\n",
       "      <td>2018-08-17</td>\n",
       "      <td>ultra</td>\n",
       "    </tr>\n",
       "    <tr>\n",
       "      <th>4</th>\n",
       "      <td>1004</td>\n",
       "      <td>68</td>\n",
       "      <td>NaN</td>\n",
       "      <td>Новокузнецк</td>\n",
       "      <td>Татьяна</td>\n",
       "      <td>Авдеенко</td>\n",
       "      <td>2018-05-14</td>\n",
       "      <td>ultra</td>\n",
       "    </tr>\n",
       "  </tbody>\n",
       "</table>\n",
       "</div>"
      ],
      "text/plain": [
       "   user_id  age churn_date         city first_name  last_name    reg_date  \\\n",
       "0     1000   52        NaN    Краснодар     Рафаил  Верещагин  2018-05-25   \n",
       "1     1001   41        NaN       Москва       Иван       Ежов  2018-11-01   \n",
       "2     1002   59        NaN  Стерлитамак    Евгений  Абрамович  2018-06-17   \n",
       "3     1003   23        NaN       Москва      Белла   Белякова  2018-08-17   \n",
       "4     1004   68        NaN  Новокузнецк    Татьяна   Авдеенко  2018-05-14   \n",
       "\n",
       "  tariff  \n",
       "0  ultra  \n",
       "1  smart  \n",
       "2  smart  \n",
       "3  ultra  \n",
       "4  ultra  "
      ]
     },
     "execution_count": 3,
     "metadata": {},
     "output_type": "execute_result"
    }
   ],
   "source": [
    "users.head()"
   ]
  },
  {
   "cell_type": "code",
   "execution_count": 4,
   "metadata": {
    "ExecuteTime": {
     "end_time": "2022-02-06T15:11:40.754501Z",
     "start_time": "2022-02-06T15:11:40.741513Z"
    }
   },
   "outputs": [
    {
     "name": "stdout",
     "output_type": "stream",
     "text": [
      "<class 'pandas.core.frame.DataFrame'>\n",
      "RangeIndex: 500 entries, 0 to 499\n",
      "Data columns (total 8 columns):\n",
      " #   Column      Non-Null Count  Dtype \n",
      "---  ------      --------------  ----- \n",
      " 0   user_id     500 non-null    int64 \n",
      " 1   age         500 non-null    int64 \n",
      " 2   churn_date  38 non-null     object\n",
      " 3   city        500 non-null    object\n",
      " 4   first_name  500 non-null    object\n",
      " 5   last_name   500 non-null    object\n",
      " 6   reg_date    500 non-null    object\n",
      " 7   tariff      500 non-null    object\n",
      "dtypes: int64(2), object(6)\n",
      "memory usage: 31.4+ KB\n"
     ]
    }
   ],
   "source": [
    "users.info()"
   ]
  },
  {
   "cell_type": "code",
   "execution_count": 5,
   "metadata": {
    "ExecuteTime": {
     "end_time": "2022-02-06T15:11:40.770462Z",
     "start_time": "2022-02-06T15:11:40.756468Z"
    }
   },
   "outputs": [
    {
     "data": {
      "text/plain": [
       "2018-12-03    2\n",
       "2018-10-03    2\n",
       "2018-10-14    2\n",
       "2018-12-09    2\n",
       "2018-12-21    2\n",
       "2018-12-30    1\n",
       "2018-10-28    1\n",
       "2018-11-26    1\n",
       "2018-11-27    1\n",
       "2018-11-16    1\n",
       "2018-10-27    1\n",
       "2018-10-05    1\n",
       "2018-09-27    1\n",
       "2018-11-13    1\n",
       "2018-12-25    1\n",
       "2018-12-14    1\n",
       "2018-12-24    1\n",
       "2018-09-26    1\n",
       "2018-11-22    1\n",
       "2018-08-17    1\n",
       "2018-10-04    1\n",
       "2018-09-02    1\n",
       "2018-12-18    1\n",
       "2018-11-30    1\n",
       "2018-12-20    1\n",
       "2018-12-16    1\n",
       "2018-11-07    1\n",
       "2018-12-23    1\n",
       "2018-08-31    1\n",
       "2018-12-26    1\n",
       "2018-12-11    1\n",
       "2018-11-21    1\n",
       "2018-10-25    1\n",
       "Name: churn_date, dtype: int64"
      ]
     },
     "execution_count": 5,
     "metadata": {},
     "output_type": "execute_result"
    }
   ],
   "source": [
    "users.churn_date.value_counts() "
   ]
  },
  {
   "cell_type": "code",
   "execution_count": 6,
   "metadata": {
    "ExecuteTime": {
     "end_time": "2022-02-06T15:11:40.802346Z",
     "start_time": "2022-02-06T15:11:40.773424Z"
    }
   },
   "outputs": [
    {
     "data": {
      "text/html": [
       "<div>\n",
       "<style scoped>\n",
       "    .dataframe tbody tr th:only-of-type {\n",
       "        vertical-align: middle;\n",
       "    }\n",
       "\n",
       "    .dataframe tbody tr th {\n",
       "        vertical-align: top;\n",
       "    }\n",
       "\n",
       "    .dataframe thead th {\n",
       "        text-align: right;\n",
       "    }\n",
       "</style>\n",
       "<table border=\"1\" class=\"dataframe\">\n",
       "  <thead>\n",
       "    <tr style=\"text-align: right;\">\n",
       "      <th></th>\n",
       "      <th>user_id</th>\n",
       "      <th>age</th>\n",
       "    </tr>\n",
       "  </thead>\n",
       "  <tbody>\n",
       "    <tr>\n",
       "      <th>count</th>\n",
       "      <td>500.000000</td>\n",
       "      <td>500.00000</td>\n",
       "    </tr>\n",
       "    <tr>\n",
       "      <th>mean</th>\n",
       "      <td>1249.500000</td>\n",
       "      <td>46.58800</td>\n",
       "    </tr>\n",
       "    <tr>\n",
       "      <th>std</th>\n",
       "      <td>144.481833</td>\n",
       "      <td>16.66763</td>\n",
       "    </tr>\n",
       "    <tr>\n",
       "      <th>min</th>\n",
       "      <td>1000.000000</td>\n",
       "      <td>18.00000</td>\n",
       "    </tr>\n",
       "    <tr>\n",
       "      <th>25%</th>\n",
       "      <td>1124.750000</td>\n",
       "      <td>32.00000</td>\n",
       "    </tr>\n",
       "    <tr>\n",
       "      <th>50%</th>\n",
       "      <td>1249.500000</td>\n",
       "      <td>46.00000</td>\n",
       "    </tr>\n",
       "    <tr>\n",
       "      <th>75%</th>\n",
       "      <td>1374.250000</td>\n",
       "      <td>62.00000</td>\n",
       "    </tr>\n",
       "    <tr>\n",
       "      <th>max</th>\n",
       "      <td>1499.000000</td>\n",
       "      <td>75.00000</td>\n",
       "    </tr>\n",
       "  </tbody>\n",
       "</table>\n",
       "</div>"
      ],
      "text/plain": [
       "           user_id        age\n",
       "count   500.000000  500.00000\n",
       "mean   1249.500000   46.58800\n",
       "std     144.481833   16.66763\n",
       "min    1000.000000   18.00000\n",
       "25%    1124.750000   32.00000\n",
       "50%    1249.500000   46.00000\n",
       "75%    1374.250000   62.00000\n",
       "max    1499.000000   75.00000"
      ]
     },
     "execution_count": 6,
     "metadata": {},
     "output_type": "execute_result"
    }
   ],
   "source": [
    "users.describe()"
   ]
  },
  {
   "cell_type": "code",
   "execution_count": 7,
   "metadata": {
    "ExecuteTime": {
     "end_time": "2022-02-06T15:11:40.833262Z",
     "start_time": "2022-02-06T15:11:40.804340Z"
    }
   },
   "outputs": [
    {
     "data": {
      "text/html": [
       "<div>\n",
       "<style scoped>\n",
       "    .dataframe tbody tr th:only-of-type {\n",
       "        vertical-align: middle;\n",
       "    }\n",
       "\n",
       "    .dataframe tbody tr th {\n",
       "        vertical-align: top;\n",
       "    }\n",
       "\n",
       "    .dataframe thead th {\n",
       "        text-align: right;\n",
       "    }\n",
       "</style>\n",
       "<table border=\"1\" class=\"dataframe\">\n",
       "  <thead>\n",
       "    <tr style=\"text-align: right;\">\n",
       "      <th></th>\n",
       "      <th>churn_date</th>\n",
       "      <th>city</th>\n",
       "      <th>first_name</th>\n",
       "      <th>last_name</th>\n",
       "      <th>reg_date</th>\n",
       "      <th>tariff</th>\n",
       "    </tr>\n",
       "  </thead>\n",
       "  <tbody>\n",
       "    <tr>\n",
       "      <th>count</th>\n",
       "      <td>38</td>\n",
       "      <td>500</td>\n",
       "      <td>500</td>\n",
       "      <td>500</td>\n",
       "      <td>500</td>\n",
       "      <td>500</td>\n",
       "    </tr>\n",
       "    <tr>\n",
       "      <th>unique</th>\n",
       "      <td>33</td>\n",
       "      <td>76</td>\n",
       "      <td>246</td>\n",
       "      <td>419</td>\n",
       "      <td>270</td>\n",
       "      <td>2</td>\n",
       "    </tr>\n",
       "    <tr>\n",
       "      <th>top</th>\n",
       "      <td>2018-12-03</td>\n",
       "      <td>Москва</td>\n",
       "      <td>Радим</td>\n",
       "      <td>Андреенко</td>\n",
       "      <td>2018-05-28</td>\n",
       "      <td>smart</td>\n",
       "    </tr>\n",
       "    <tr>\n",
       "      <th>freq</th>\n",
       "      <td>2</td>\n",
       "      <td>99</td>\n",
       "      <td>6</td>\n",
       "      <td>5</td>\n",
       "      <td>8</td>\n",
       "      <td>351</td>\n",
       "    </tr>\n",
       "  </tbody>\n",
       "</table>\n",
       "</div>"
      ],
      "text/plain": [
       "        churn_date    city first_name  last_name    reg_date tariff\n",
       "count           38     500        500        500         500    500\n",
       "unique          33      76        246        419         270      2\n",
       "top     2018-12-03  Москва      Радим  Андреенко  2018-05-28  smart\n",
       "freq             2      99          6          5           8    351"
      ]
     },
     "execution_count": 7,
     "metadata": {},
     "output_type": "execute_result"
    }
   ],
   "source": [
    "users.describe(include = 'object')"
   ]
  },
  {
   "cell_type": "code",
   "execution_count": 8,
   "metadata": {
    "ExecuteTime": {
     "end_time": "2022-02-06T15:11:40.848223Z",
     "start_time": "2022-02-06T15:11:40.835258Z"
    }
   },
   "outputs": [
    {
     "data": {
      "text/plain": [
       "0"
      ]
     },
     "execution_count": 8,
     "metadata": {},
     "output_type": "execute_result"
    }
   ],
   "source": [
    "users.duplicated().sum()"
   ]
  },
  {
   "cell_type": "markdown",
   "metadata": {},
   "source": [
    "В датафрейме `users` будет необходимо заменить тип данных в столбце `reg_date`. NaN в столбце `churn_date` указывают на то, что тариф все еще действовал на момент создания записи."
   ]
  },
  {
   "cell_type": "code",
   "execution_count": 9,
   "metadata": {
    "ExecuteTime": {
     "end_time": "2022-02-06T15:11:40.864180Z",
     "start_time": "2022-02-06T15:11:40.849221Z"
    }
   },
   "outputs": [
    {
     "data": {
      "text/html": [
       "<div>\n",
       "<style scoped>\n",
       "    .dataframe tbody tr th:only-of-type {\n",
       "        vertical-align: middle;\n",
       "    }\n",
       "\n",
       "    .dataframe tbody tr th {\n",
       "        vertical-align: top;\n",
       "    }\n",
       "\n",
       "    .dataframe thead th {\n",
       "        text-align: right;\n",
       "    }\n",
       "</style>\n",
       "<table border=\"1\" class=\"dataframe\">\n",
       "  <thead>\n",
       "    <tr style=\"text-align: right;\">\n",
       "      <th></th>\n",
       "      <th>id</th>\n",
       "      <th>call_date</th>\n",
       "      <th>duration</th>\n",
       "      <th>user_id</th>\n",
       "    </tr>\n",
       "  </thead>\n",
       "  <tbody>\n",
       "    <tr>\n",
       "      <th>0</th>\n",
       "      <td>1000_0</td>\n",
       "      <td>2018-07-25</td>\n",
       "      <td>0.00</td>\n",
       "      <td>1000</td>\n",
       "    </tr>\n",
       "    <tr>\n",
       "      <th>1</th>\n",
       "      <td>1000_1</td>\n",
       "      <td>2018-08-17</td>\n",
       "      <td>0.00</td>\n",
       "      <td>1000</td>\n",
       "    </tr>\n",
       "    <tr>\n",
       "      <th>2</th>\n",
       "      <td>1000_2</td>\n",
       "      <td>2018-06-11</td>\n",
       "      <td>2.85</td>\n",
       "      <td>1000</td>\n",
       "    </tr>\n",
       "    <tr>\n",
       "      <th>3</th>\n",
       "      <td>1000_3</td>\n",
       "      <td>2018-09-21</td>\n",
       "      <td>13.80</td>\n",
       "      <td>1000</td>\n",
       "    </tr>\n",
       "    <tr>\n",
       "      <th>4</th>\n",
       "      <td>1000_4</td>\n",
       "      <td>2018-12-15</td>\n",
       "      <td>5.18</td>\n",
       "      <td>1000</td>\n",
       "    </tr>\n",
       "  </tbody>\n",
       "</table>\n",
       "</div>"
      ],
      "text/plain": [
       "       id   call_date  duration  user_id\n",
       "0  1000_0  2018-07-25      0.00     1000\n",
       "1  1000_1  2018-08-17      0.00     1000\n",
       "2  1000_2  2018-06-11      2.85     1000\n",
       "3  1000_3  2018-09-21     13.80     1000\n",
       "4  1000_4  2018-12-15      5.18     1000"
      ]
     },
     "execution_count": 9,
     "metadata": {},
     "output_type": "execute_result"
    }
   ],
   "source": [
    "calls.head()"
   ]
  },
  {
   "cell_type": "code",
   "execution_count": 10,
   "metadata": {
    "ExecuteTime": {
     "end_time": "2022-02-06T15:11:40.894100Z",
     "start_time": "2022-02-06T15:11:40.867173Z"
    }
   },
   "outputs": [
    {
     "name": "stdout",
     "output_type": "stream",
     "text": [
      "<class 'pandas.core.frame.DataFrame'>\n",
      "RangeIndex: 202607 entries, 0 to 202606\n",
      "Data columns (total 4 columns):\n",
      " #   Column     Non-Null Count   Dtype  \n",
      "---  ------     --------------   -----  \n",
      " 0   id         202607 non-null  object \n",
      " 1   call_date  202607 non-null  object \n",
      " 2   duration   202607 non-null  float64\n",
      " 3   user_id    202607 non-null  int64  \n",
      "dtypes: float64(1), int64(1), object(2)\n",
      "memory usage: 6.2+ MB\n"
     ]
    }
   ],
   "source": [
    "calls.info()"
   ]
  },
  {
   "cell_type": "code",
   "execution_count": 11,
   "metadata": {
    "ExecuteTime": {
     "end_time": "2022-02-06T15:11:40.926015Z",
     "start_time": "2022-02-06T15:11:40.896097Z"
    }
   },
   "outputs": [
    {
     "data": {
      "text/html": [
       "<div>\n",
       "<style scoped>\n",
       "    .dataframe tbody tr th:only-of-type {\n",
       "        vertical-align: middle;\n",
       "    }\n",
       "\n",
       "    .dataframe tbody tr th {\n",
       "        vertical-align: top;\n",
       "    }\n",
       "\n",
       "    .dataframe thead th {\n",
       "        text-align: right;\n",
       "    }\n",
       "</style>\n",
       "<table border=\"1\" class=\"dataframe\">\n",
       "  <thead>\n",
       "    <tr style=\"text-align: right;\">\n",
       "      <th></th>\n",
       "      <th>duration</th>\n",
       "      <th>user_id</th>\n",
       "    </tr>\n",
       "  </thead>\n",
       "  <tbody>\n",
       "    <tr>\n",
       "      <th>count</th>\n",
       "      <td>202607.000000</td>\n",
       "      <td>202607.000000</td>\n",
       "    </tr>\n",
       "    <tr>\n",
       "      <th>mean</th>\n",
       "      <td>6.755887</td>\n",
       "      <td>1253.940619</td>\n",
       "    </tr>\n",
       "    <tr>\n",
       "      <th>std</th>\n",
       "      <td>5.843365</td>\n",
       "      <td>144.722751</td>\n",
       "    </tr>\n",
       "    <tr>\n",
       "      <th>min</th>\n",
       "      <td>0.000000</td>\n",
       "      <td>1000.000000</td>\n",
       "    </tr>\n",
       "    <tr>\n",
       "      <th>25%</th>\n",
       "      <td>1.300000</td>\n",
       "      <td>1126.000000</td>\n",
       "    </tr>\n",
       "    <tr>\n",
       "      <th>50%</th>\n",
       "      <td>6.000000</td>\n",
       "      <td>1260.000000</td>\n",
       "    </tr>\n",
       "    <tr>\n",
       "      <th>75%</th>\n",
       "      <td>10.700000</td>\n",
       "      <td>1379.000000</td>\n",
       "    </tr>\n",
       "    <tr>\n",
       "      <th>max</th>\n",
       "      <td>38.000000</td>\n",
       "      <td>1499.000000</td>\n",
       "    </tr>\n",
       "  </tbody>\n",
       "</table>\n",
       "</div>"
      ],
      "text/plain": [
       "            duration        user_id\n",
       "count  202607.000000  202607.000000\n",
       "mean        6.755887    1253.940619\n",
       "std         5.843365     144.722751\n",
       "min         0.000000    1000.000000\n",
       "25%         1.300000    1126.000000\n",
       "50%         6.000000    1260.000000\n",
       "75%        10.700000    1379.000000\n",
       "max        38.000000    1499.000000"
      ]
     },
     "execution_count": 11,
     "metadata": {},
     "output_type": "execute_result"
    }
   ],
   "source": [
    "calls.describe()"
   ]
  },
  {
   "cell_type": "code",
   "execution_count": 12,
   "metadata": {
    "ExecuteTime": {
     "end_time": "2022-02-06T15:11:41.131498Z",
     "start_time": "2022-02-06T15:11:40.928010Z"
    }
   },
   "outputs": [
    {
     "data": {
      "text/html": [
       "<div>\n",
       "<style scoped>\n",
       "    .dataframe tbody tr th:only-of-type {\n",
       "        vertical-align: middle;\n",
       "    }\n",
       "\n",
       "    .dataframe tbody tr th {\n",
       "        vertical-align: top;\n",
       "    }\n",
       "\n",
       "    .dataframe thead th {\n",
       "        text-align: right;\n",
       "    }\n",
       "</style>\n",
       "<table border=\"1\" class=\"dataframe\">\n",
       "  <thead>\n",
       "    <tr style=\"text-align: right;\">\n",
       "      <th></th>\n",
       "      <th>id</th>\n",
       "      <th>call_date</th>\n",
       "    </tr>\n",
       "  </thead>\n",
       "  <tbody>\n",
       "    <tr>\n",
       "      <th>count</th>\n",
       "      <td>202607</td>\n",
       "      <td>202607</td>\n",
       "    </tr>\n",
       "    <tr>\n",
       "      <th>unique</th>\n",
       "      <td>202607</td>\n",
       "      <td>365</td>\n",
       "    </tr>\n",
       "    <tr>\n",
       "      <th>top</th>\n",
       "      <td>1000_0</td>\n",
       "      <td>2018-12-31</td>\n",
       "    </tr>\n",
       "    <tr>\n",
       "      <th>freq</th>\n",
       "      <td>1</td>\n",
       "      <td>1435</td>\n",
       "    </tr>\n",
       "  </tbody>\n",
       "</table>\n",
       "</div>"
      ],
      "text/plain": [
       "            id   call_date\n",
       "count   202607      202607\n",
       "unique  202607         365\n",
       "top     1000_0  2018-12-31\n",
       "freq         1        1435"
      ]
     },
     "execution_count": 12,
     "metadata": {},
     "output_type": "execute_result"
    }
   ],
   "source": [
    "calls.describe(include = 'object')"
   ]
  },
  {
   "cell_type": "code",
   "execution_count": 13,
   "metadata": {
    "ExecuteTime": {
     "end_time": "2022-02-06T15:11:41.210764Z",
     "start_time": "2022-02-06T15:11:41.133462Z"
    }
   },
   "outputs": [
    {
     "data": {
      "text/plain": [
       "0"
      ]
     },
     "execution_count": 13,
     "metadata": {},
     "output_type": "execute_result"
    }
   ],
   "source": [
    "calls.duplicated().sum()"
   ]
  },
  {
   "cell_type": "markdown",
   "metadata": {},
   "source": [
    "В датафрейме `calls` также необходимо изменить тип данных в столбце `call_date`. NaN не обнаружены. Звонки с продолжительностью 0 минут обозначают пропущенные вызовы. Для статистического анализа придется просмотреть столбец `duration`, так как в нем есть значения, сильно отличающиеся от среднего"
   ]
  },
  {
   "cell_type": "code",
   "execution_count": 14,
   "metadata": {
    "ExecuteTime": {
     "end_time": "2022-02-06T15:11:41.226720Z",
     "start_time": "2022-02-06T15:11:41.212758Z"
    }
   },
   "outputs": [
    {
     "data": {
      "text/html": [
       "<div>\n",
       "<style scoped>\n",
       "    .dataframe tbody tr th:only-of-type {\n",
       "        vertical-align: middle;\n",
       "    }\n",
       "\n",
       "    .dataframe tbody tr th {\n",
       "        vertical-align: top;\n",
       "    }\n",
       "\n",
       "    .dataframe thead th {\n",
       "        text-align: right;\n",
       "    }\n",
       "</style>\n",
       "<table border=\"1\" class=\"dataframe\">\n",
       "  <thead>\n",
       "    <tr style=\"text-align: right;\">\n",
       "      <th></th>\n",
       "      <th>id</th>\n",
       "      <th>message_date</th>\n",
       "      <th>user_id</th>\n",
       "    </tr>\n",
       "  </thead>\n",
       "  <tbody>\n",
       "    <tr>\n",
       "      <th>0</th>\n",
       "      <td>1000_0</td>\n",
       "      <td>2018-06-27</td>\n",
       "      <td>1000</td>\n",
       "    </tr>\n",
       "    <tr>\n",
       "      <th>1</th>\n",
       "      <td>1000_1</td>\n",
       "      <td>2018-10-08</td>\n",
       "      <td>1000</td>\n",
       "    </tr>\n",
       "    <tr>\n",
       "      <th>2</th>\n",
       "      <td>1000_2</td>\n",
       "      <td>2018-08-04</td>\n",
       "      <td>1000</td>\n",
       "    </tr>\n",
       "    <tr>\n",
       "      <th>3</th>\n",
       "      <td>1000_3</td>\n",
       "      <td>2018-06-16</td>\n",
       "      <td>1000</td>\n",
       "    </tr>\n",
       "    <tr>\n",
       "      <th>4</th>\n",
       "      <td>1000_4</td>\n",
       "      <td>2018-12-05</td>\n",
       "      <td>1000</td>\n",
       "    </tr>\n",
       "  </tbody>\n",
       "</table>\n",
       "</div>"
      ],
      "text/plain": [
       "       id message_date  user_id\n",
       "0  1000_0   2018-06-27     1000\n",
       "1  1000_1   2018-10-08     1000\n",
       "2  1000_2   2018-08-04     1000\n",
       "3  1000_3   2018-06-16     1000\n",
       "4  1000_4   2018-12-05     1000"
      ]
     },
     "execution_count": 14,
     "metadata": {},
     "output_type": "execute_result"
    }
   ],
   "source": [
    "messages.head()"
   ]
  },
  {
   "cell_type": "code",
   "execution_count": 15,
   "metadata": {
    "ExecuteTime": {
     "end_time": "2022-02-06T15:11:41.258639Z",
     "start_time": "2022-02-06T15:11:41.227718Z"
    }
   },
   "outputs": [
    {
     "name": "stdout",
     "output_type": "stream",
     "text": [
      "<class 'pandas.core.frame.DataFrame'>\n",
      "RangeIndex: 123036 entries, 0 to 123035\n",
      "Data columns (total 3 columns):\n",
      " #   Column        Non-Null Count   Dtype \n",
      "---  ------        --------------   ----- \n",
      " 0   id            123036 non-null  object\n",
      " 1   message_date  123036 non-null  object\n",
      " 2   user_id       123036 non-null  int64 \n",
      "dtypes: int64(1), object(2)\n",
      "memory usage: 2.8+ MB\n"
     ]
    }
   ],
   "source": [
    "messages.info()"
   ]
  },
  {
   "cell_type": "code",
   "execution_count": 16,
   "metadata": {
    "ExecuteTime": {
     "end_time": "2022-02-06T15:11:41.274597Z",
     "start_time": "2022-02-06T15:11:41.260634Z"
    }
   },
   "outputs": [
    {
     "data": {
      "text/html": [
       "<div>\n",
       "<style scoped>\n",
       "    .dataframe tbody tr th:only-of-type {\n",
       "        vertical-align: middle;\n",
       "    }\n",
       "\n",
       "    .dataframe tbody tr th {\n",
       "        vertical-align: top;\n",
       "    }\n",
       "\n",
       "    .dataframe thead th {\n",
       "        text-align: right;\n",
       "    }\n",
       "</style>\n",
       "<table border=\"1\" class=\"dataframe\">\n",
       "  <thead>\n",
       "    <tr style=\"text-align: right;\">\n",
       "      <th></th>\n",
       "      <th>user_id</th>\n",
       "    </tr>\n",
       "  </thead>\n",
       "  <tbody>\n",
       "    <tr>\n",
       "      <th>count</th>\n",
       "      <td>123036.000000</td>\n",
       "    </tr>\n",
       "    <tr>\n",
       "      <th>mean</th>\n",
       "      <td>1256.989410</td>\n",
       "    </tr>\n",
       "    <tr>\n",
       "      <th>std</th>\n",
       "      <td>143.523967</td>\n",
       "    </tr>\n",
       "    <tr>\n",
       "      <th>min</th>\n",
       "      <td>1000.000000</td>\n",
       "    </tr>\n",
       "    <tr>\n",
       "      <th>25%</th>\n",
       "      <td>1134.000000</td>\n",
       "    </tr>\n",
       "    <tr>\n",
       "      <th>50%</th>\n",
       "      <td>1271.000000</td>\n",
       "    </tr>\n",
       "    <tr>\n",
       "      <th>75%</th>\n",
       "      <td>1381.000000</td>\n",
       "    </tr>\n",
       "    <tr>\n",
       "      <th>max</th>\n",
       "      <td>1499.000000</td>\n",
       "    </tr>\n",
       "  </tbody>\n",
       "</table>\n",
       "</div>"
      ],
      "text/plain": [
       "             user_id\n",
       "count  123036.000000\n",
       "mean     1256.989410\n",
       "std       143.523967\n",
       "min      1000.000000\n",
       "25%      1134.000000\n",
       "50%      1271.000000\n",
       "75%      1381.000000\n",
       "max      1499.000000"
      ]
     },
     "execution_count": 16,
     "metadata": {},
     "output_type": "execute_result"
    }
   ],
   "source": [
    "messages.describe()"
   ]
  },
  {
   "cell_type": "code",
   "execution_count": 17,
   "metadata": {
    "ExecuteTime": {
     "end_time": "2022-02-06T15:11:41.384303Z",
     "start_time": "2022-02-06T15:11:41.275595Z"
    }
   },
   "outputs": [
    {
     "data": {
      "text/html": [
       "<div>\n",
       "<style scoped>\n",
       "    .dataframe tbody tr th:only-of-type {\n",
       "        vertical-align: middle;\n",
       "    }\n",
       "\n",
       "    .dataframe tbody tr th {\n",
       "        vertical-align: top;\n",
       "    }\n",
       "\n",
       "    .dataframe thead th {\n",
       "        text-align: right;\n",
       "    }\n",
       "</style>\n",
       "<table border=\"1\" class=\"dataframe\">\n",
       "  <thead>\n",
       "    <tr style=\"text-align: right;\">\n",
       "      <th></th>\n",
       "      <th>id</th>\n",
       "      <th>message_date</th>\n",
       "    </tr>\n",
       "  </thead>\n",
       "  <tbody>\n",
       "    <tr>\n",
       "      <th>count</th>\n",
       "      <td>123036</td>\n",
       "      <td>123036</td>\n",
       "    </tr>\n",
       "    <tr>\n",
       "      <th>unique</th>\n",
       "      <td>123036</td>\n",
       "      <td>364</td>\n",
       "    </tr>\n",
       "    <tr>\n",
       "      <th>top</th>\n",
       "      <td>1000_0</td>\n",
       "      <td>2018-12-31</td>\n",
       "    </tr>\n",
       "    <tr>\n",
       "      <th>freq</th>\n",
       "      <td>1</td>\n",
       "      <td>859</td>\n",
       "    </tr>\n",
       "  </tbody>\n",
       "</table>\n",
       "</div>"
      ],
      "text/plain": [
       "            id message_date\n",
       "count   123036       123036\n",
       "unique  123036          364\n",
       "top     1000_0   2018-12-31\n",
       "freq         1          859"
      ]
     },
     "execution_count": 17,
     "metadata": {},
     "output_type": "execute_result"
    }
   ],
   "source": [
    "messages.describe(include = 'object')"
   ]
  },
  {
   "cell_type": "code",
   "execution_count": 18,
   "metadata": {
    "ExecuteTime": {
     "end_time": "2022-02-06T15:11:41.432175Z",
     "start_time": "2022-02-06T15:11:41.386298Z"
    }
   },
   "outputs": [
    {
     "data": {
      "text/plain": [
       "0"
      ]
     },
     "execution_count": 18,
     "metadata": {},
     "output_type": "execute_result"
    }
   ],
   "source": [
    "messages.duplicated().sum()"
   ]
  },
  {
   "cell_type": "markdown",
   "metadata": {},
   "source": [
    "Пропущенных значений нет, исправить формат данных в столбце `message_date`."
   ]
  },
  {
   "cell_type": "code",
   "execution_count": 19,
   "metadata": {
    "ExecuteTime": {
     "end_time": "2022-02-06T15:11:41.447134Z",
     "start_time": "2022-02-06T15:11:41.433173Z"
    }
   },
   "outputs": [
    {
     "data": {
      "text/html": [
       "<div>\n",
       "<style scoped>\n",
       "    .dataframe tbody tr th:only-of-type {\n",
       "        vertical-align: middle;\n",
       "    }\n",
       "\n",
       "    .dataframe tbody tr th {\n",
       "        vertical-align: top;\n",
       "    }\n",
       "\n",
       "    .dataframe thead th {\n",
       "        text-align: right;\n",
       "    }\n",
       "</style>\n",
       "<table border=\"1\" class=\"dataframe\">\n",
       "  <thead>\n",
       "    <tr style=\"text-align: right;\">\n",
       "      <th></th>\n",
       "      <th>Unnamed: 0</th>\n",
       "      <th>id</th>\n",
       "      <th>mb_used</th>\n",
       "      <th>session_date</th>\n",
       "      <th>user_id</th>\n",
       "    </tr>\n",
       "  </thead>\n",
       "  <tbody>\n",
       "    <tr>\n",
       "      <th>0</th>\n",
       "      <td>0</td>\n",
       "      <td>1000_0</td>\n",
       "      <td>112.95</td>\n",
       "      <td>2018-11-25</td>\n",
       "      <td>1000</td>\n",
       "    </tr>\n",
       "    <tr>\n",
       "      <th>1</th>\n",
       "      <td>1</td>\n",
       "      <td>1000_1</td>\n",
       "      <td>1052.81</td>\n",
       "      <td>2018-09-07</td>\n",
       "      <td>1000</td>\n",
       "    </tr>\n",
       "    <tr>\n",
       "      <th>2</th>\n",
       "      <td>2</td>\n",
       "      <td>1000_2</td>\n",
       "      <td>1197.26</td>\n",
       "      <td>2018-06-25</td>\n",
       "      <td>1000</td>\n",
       "    </tr>\n",
       "    <tr>\n",
       "      <th>3</th>\n",
       "      <td>3</td>\n",
       "      <td>1000_3</td>\n",
       "      <td>550.27</td>\n",
       "      <td>2018-08-22</td>\n",
       "      <td>1000</td>\n",
       "    </tr>\n",
       "    <tr>\n",
       "      <th>4</th>\n",
       "      <td>4</td>\n",
       "      <td>1000_4</td>\n",
       "      <td>302.56</td>\n",
       "      <td>2018-09-24</td>\n",
       "      <td>1000</td>\n",
       "    </tr>\n",
       "  </tbody>\n",
       "</table>\n",
       "</div>"
      ],
      "text/plain": [
       "   Unnamed: 0      id  mb_used session_date  user_id\n",
       "0           0  1000_0   112.95   2018-11-25     1000\n",
       "1           1  1000_1  1052.81   2018-09-07     1000\n",
       "2           2  1000_2  1197.26   2018-06-25     1000\n",
       "3           3  1000_3   550.27   2018-08-22     1000\n",
       "4           4  1000_4   302.56   2018-09-24     1000"
      ]
     },
     "execution_count": 19,
     "metadata": {},
     "output_type": "execute_result"
    }
   ],
   "source": [
    "internet.head()"
   ]
  },
  {
   "cell_type": "code",
   "execution_count": 20,
   "metadata": {
    "ExecuteTime": {
     "end_time": "2022-02-06T15:11:41.478052Z",
     "start_time": "2022-02-06T15:11:41.448133Z"
    }
   },
   "outputs": [
    {
     "name": "stdout",
     "output_type": "stream",
     "text": [
      "<class 'pandas.core.frame.DataFrame'>\n",
      "RangeIndex: 149396 entries, 0 to 149395\n",
      "Data columns (total 5 columns):\n",
      " #   Column        Non-Null Count   Dtype  \n",
      "---  ------        --------------   -----  \n",
      " 0   Unnamed: 0    149396 non-null  int64  \n",
      " 1   id            149396 non-null  object \n",
      " 2   mb_used       149396 non-null  float64\n",
      " 3   session_date  149396 non-null  object \n",
      " 4   user_id       149396 non-null  int64  \n",
      "dtypes: float64(1), int64(2), object(2)\n",
      "memory usage: 5.7+ MB\n"
     ]
    }
   ],
   "source": [
    "internet.info()"
   ]
  },
  {
   "cell_type": "code",
   "execution_count": 21,
   "metadata": {
    "ExecuteTime": {
     "end_time": "2022-02-06T15:11:41.509966Z",
     "start_time": "2022-02-06T15:11:41.480047Z"
    }
   },
   "outputs": [
    {
     "data": {
      "text/html": [
       "<div>\n",
       "<style scoped>\n",
       "    .dataframe tbody tr th:only-of-type {\n",
       "        vertical-align: middle;\n",
       "    }\n",
       "\n",
       "    .dataframe tbody tr th {\n",
       "        vertical-align: top;\n",
       "    }\n",
       "\n",
       "    .dataframe thead th {\n",
       "        text-align: right;\n",
       "    }\n",
       "</style>\n",
       "<table border=\"1\" class=\"dataframe\">\n",
       "  <thead>\n",
       "    <tr style=\"text-align: right;\">\n",
       "      <th></th>\n",
       "      <th>Unnamed: 0</th>\n",
       "      <th>mb_used</th>\n",
       "      <th>user_id</th>\n",
       "    </tr>\n",
       "  </thead>\n",
       "  <tbody>\n",
       "    <tr>\n",
       "      <th>count</th>\n",
       "      <td>149396.000000</td>\n",
       "      <td>149396.000000</td>\n",
       "      <td>149396.000000</td>\n",
       "    </tr>\n",
       "    <tr>\n",
       "      <th>mean</th>\n",
       "      <td>74697.500000</td>\n",
       "      <td>370.192426</td>\n",
       "      <td>1252.099842</td>\n",
       "    </tr>\n",
       "    <tr>\n",
       "      <th>std</th>\n",
       "      <td>43127.054745</td>\n",
       "      <td>278.300951</td>\n",
       "      <td>144.050823</td>\n",
       "    </tr>\n",
       "    <tr>\n",
       "      <th>min</th>\n",
       "      <td>0.000000</td>\n",
       "      <td>0.000000</td>\n",
       "      <td>1000.000000</td>\n",
       "    </tr>\n",
       "    <tr>\n",
       "      <th>25%</th>\n",
       "      <td>37348.750000</td>\n",
       "      <td>138.187500</td>\n",
       "      <td>1130.000000</td>\n",
       "    </tr>\n",
       "    <tr>\n",
       "      <th>50%</th>\n",
       "      <td>74697.500000</td>\n",
       "      <td>348.015000</td>\n",
       "      <td>1251.000000</td>\n",
       "    </tr>\n",
       "    <tr>\n",
       "      <th>75%</th>\n",
       "      <td>112046.250000</td>\n",
       "      <td>559.552500</td>\n",
       "      <td>1380.000000</td>\n",
       "    </tr>\n",
       "    <tr>\n",
       "      <th>max</th>\n",
       "      <td>149395.000000</td>\n",
       "      <td>1724.830000</td>\n",
       "      <td>1499.000000</td>\n",
       "    </tr>\n",
       "  </tbody>\n",
       "</table>\n",
       "</div>"
      ],
      "text/plain": [
       "          Unnamed: 0        mb_used        user_id\n",
       "count  149396.000000  149396.000000  149396.000000\n",
       "mean    74697.500000     370.192426    1252.099842\n",
       "std     43127.054745     278.300951     144.050823\n",
       "min         0.000000       0.000000    1000.000000\n",
       "25%     37348.750000     138.187500    1130.000000\n",
       "50%     74697.500000     348.015000    1251.000000\n",
       "75%    112046.250000     559.552500    1380.000000\n",
       "max    149395.000000    1724.830000    1499.000000"
      ]
     },
     "execution_count": 21,
     "metadata": {},
     "output_type": "execute_result"
    }
   ],
   "source": [
    "internet.describe()"
   ]
  },
  {
   "cell_type": "code",
   "execution_count": 22,
   "metadata": {
    "ExecuteTime": {
     "end_time": "2022-02-06T15:11:41.650590Z",
     "start_time": "2022-02-06T15:11:41.510965Z"
    }
   },
   "outputs": [
    {
     "data": {
      "text/html": [
       "<div>\n",
       "<style scoped>\n",
       "    .dataframe tbody tr th:only-of-type {\n",
       "        vertical-align: middle;\n",
       "    }\n",
       "\n",
       "    .dataframe tbody tr th {\n",
       "        vertical-align: top;\n",
       "    }\n",
       "\n",
       "    .dataframe thead th {\n",
       "        text-align: right;\n",
       "    }\n",
       "</style>\n",
       "<table border=\"1\" class=\"dataframe\">\n",
       "  <thead>\n",
       "    <tr style=\"text-align: right;\">\n",
       "      <th></th>\n",
       "      <th>id</th>\n",
       "      <th>session_date</th>\n",
       "    </tr>\n",
       "  </thead>\n",
       "  <tbody>\n",
       "    <tr>\n",
       "      <th>count</th>\n",
       "      <td>149396</td>\n",
       "      <td>149396</td>\n",
       "    </tr>\n",
       "    <tr>\n",
       "      <th>unique</th>\n",
       "      <td>149396</td>\n",
       "      <td>365</td>\n",
       "    </tr>\n",
       "    <tr>\n",
       "      <th>top</th>\n",
       "      <td>1000_0</td>\n",
       "      <td>2018-12-31</td>\n",
       "    </tr>\n",
       "    <tr>\n",
       "      <th>freq</th>\n",
       "      <td>1</td>\n",
       "      <td>1057</td>\n",
       "    </tr>\n",
       "  </tbody>\n",
       "</table>\n",
       "</div>"
      ],
      "text/plain": [
       "            id session_date\n",
       "count   149396       149396\n",
       "unique  149396          365\n",
       "top     1000_0   2018-12-31\n",
       "freq         1         1057"
      ]
     },
     "execution_count": 22,
     "metadata": {},
     "output_type": "execute_result"
    }
   ],
   "source": [
    "internet.describe(include = 'object')"
   ]
  },
  {
   "cell_type": "code",
   "execution_count": 23,
   "metadata": {
    "ExecuteTime": {
     "end_time": "2022-02-06T15:11:41.743716Z",
     "start_time": "2022-02-06T15:11:41.651589Z"
    }
   },
   "outputs": [
    {
     "data": {
      "text/plain": [
       "0"
      ]
     },
     "execution_count": 23,
     "metadata": {},
     "output_type": "execute_result"
    }
   ],
   "source": [
    "internet.duplicated().sum()"
   ]
  },
  {
   "cell_type": "markdown",
   "metadata": {},
   "source": [
    "NaN не обнаружены, лишний столбец с индексами, неверный формат даты, проверить данные по столбцу `mb_used`, в котором есть выдающиеся значения\n"
   ]
  },
  {
   "cell_type": "code",
   "execution_count": 24,
   "metadata": {
    "ExecuteTime": {
     "end_time": "2022-02-06T15:11:41.759186Z",
     "start_time": "2022-02-06T15:11:41.744714Z"
    }
   },
   "outputs": [
    {
     "data": {
      "text/html": [
       "<div>\n",
       "<style scoped>\n",
       "    .dataframe tbody tr th:only-of-type {\n",
       "        vertical-align: middle;\n",
       "    }\n",
       "\n",
       "    .dataframe tbody tr th {\n",
       "        vertical-align: top;\n",
       "    }\n",
       "\n",
       "    .dataframe thead th {\n",
       "        text-align: right;\n",
       "    }\n",
       "</style>\n",
       "<table border=\"1\" class=\"dataframe\">\n",
       "  <thead>\n",
       "    <tr style=\"text-align: right;\">\n",
       "      <th></th>\n",
       "      <th>messages_included</th>\n",
       "      <th>mb_per_month_included</th>\n",
       "      <th>minutes_included</th>\n",
       "      <th>rub_monthly_fee</th>\n",
       "      <th>rub_per_gb</th>\n",
       "      <th>rub_per_message</th>\n",
       "      <th>rub_per_minute</th>\n",
       "      <th>tariff_name</th>\n",
       "    </tr>\n",
       "  </thead>\n",
       "  <tbody>\n",
       "    <tr>\n",
       "      <th>0</th>\n",
       "      <td>50</td>\n",
       "      <td>15360</td>\n",
       "      <td>500</td>\n",
       "      <td>550</td>\n",
       "      <td>200</td>\n",
       "      <td>3</td>\n",
       "      <td>3</td>\n",
       "      <td>smart</td>\n",
       "    </tr>\n",
       "    <tr>\n",
       "      <th>1</th>\n",
       "      <td>1000</td>\n",
       "      <td>30720</td>\n",
       "      <td>3000</td>\n",
       "      <td>1950</td>\n",
       "      <td>150</td>\n",
       "      <td>1</td>\n",
       "      <td>1</td>\n",
       "      <td>ultra</td>\n",
       "    </tr>\n",
       "  </tbody>\n",
       "</table>\n",
       "</div>"
      ],
      "text/plain": [
       "   messages_included  mb_per_month_included  minutes_included  \\\n",
       "0                 50                  15360               500   \n",
       "1               1000                  30720              3000   \n",
       "\n",
       "   rub_monthly_fee  rub_per_gb  rub_per_message  rub_per_minute tariff_name  \n",
       "0              550         200                3               3       smart  \n",
       "1             1950         150                1               1       ultra  "
      ]
     },
     "execution_count": 24,
     "metadata": {},
     "output_type": "execute_result"
    }
   ],
   "source": [
    "tariffs.head()"
   ]
  },
  {
   "cell_type": "code",
   "execution_count": 25,
   "metadata": {
    "ExecuteTime": {
     "end_time": "2022-02-06T15:11:41.775143Z",
     "start_time": "2022-02-06T15:11:41.760183Z"
    }
   },
   "outputs": [
    {
     "name": "stdout",
     "output_type": "stream",
     "text": [
      "<class 'pandas.core.frame.DataFrame'>\n",
      "RangeIndex: 2 entries, 0 to 1\n",
      "Data columns (total 8 columns):\n",
      " #   Column                 Non-Null Count  Dtype \n",
      "---  ------                 --------------  ----- \n",
      " 0   messages_included      2 non-null      int64 \n",
      " 1   mb_per_month_included  2 non-null      int64 \n",
      " 2   minutes_included       2 non-null      int64 \n",
      " 3   rub_monthly_fee        2 non-null      int64 \n",
      " 4   rub_per_gb             2 non-null      int64 \n",
      " 5   rub_per_message        2 non-null      int64 \n",
      " 6   rub_per_minute         2 non-null      int64 \n",
      " 7   tariff_name            2 non-null      object\n",
      "dtypes: int64(7), object(1)\n",
      "memory usage: 256.0+ bytes\n"
     ]
    }
   ],
   "source": [
    "tariffs.info()"
   ]
  },
  {
   "cell_type": "markdown",
   "metadata": {},
   "source": [
    "С `tariffs` все в порядке"
   ]
  },
  {
   "cell_type": "markdown",
   "metadata": {},
   "source": [
    "### Выводы"
   ]
  },
  {
   "cell_type": "markdown",
   "metadata": {},
   "source": [
    "Необходимо:  \n",
    "1) Изменить типы данных в столбцах, указывающих дату  \n",
    "2) Проверить выдающиеся значения"
   ]
  },
  {
   "cell_type": "markdown",
   "metadata": {},
   "source": [
    "## Подготовка данных к анализу"
   ]
  },
  {
   "cell_type": "markdown",
   "metadata": {},
   "source": [
    "### Предобработка данных"
   ]
  },
  {
   "cell_type": "markdown",
   "metadata": {},
   "source": [
    "Приведем данные к нужному типу"
   ]
  },
  {
   "cell_type": "code",
   "execution_count": 26,
   "metadata": {
    "ExecuteTime": {
     "end_time": "2022-02-06T15:11:41.868893Z",
     "start_time": "2022-02-06T15:11:41.776141Z"
    }
   },
   "outputs": [],
   "source": [
    "users['churn_date'] = pd.to_datetime(users['churn_date'], format = '%Y-%m-%d')\n",
    "users['reg_date'] = pd.to_datetime(users['reg_date'], format = '%Y-%m-%d')\n",
    "calls['call_date'] = pd.to_datetime(calls['call_date'], format = '%Y-%m-%d')  \n",
    "messages['message_date'] = pd.to_datetime(messages['message_date'], format = '%Y-%m-%d')\n",
    "internet['session_date'] = pd.to_datetime(internet['session_date'], format = '%Y-%m-%d')"
   ]
  },
  {
   "cell_type": "code",
   "execution_count": 27,
   "metadata": {
    "ExecuteTime": {
     "end_time": "2022-02-06T15:11:41.884854Z",
     "start_time": "2022-02-06T15:11:41.870888Z"
    }
   },
   "outputs": [
    {
     "data": {
      "text/plain": [
       "user_id                int64\n",
       "age                    int64\n",
       "churn_date    datetime64[ns]\n",
       "city                  object\n",
       "first_name            object\n",
       "last_name             object\n",
       "reg_date      datetime64[ns]\n",
       "tariff                object\n",
       "dtype: object"
      ]
     },
     "execution_count": 27,
     "metadata": {},
     "output_type": "execute_result"
    }
   ],
   "source": [
    "users.dtypes"
   ]
  },
  {
   "cell_type": "markdown",
   "metadata": {},
   "source": [
    "Удалим лишний столбец из таблицы `internet`"
   ]
  },
  {
   "cell_type": "code",
   "execution_count": 28,
   "metadata": {
    "ExecuteTime": {
     "end_time": "2022-02-06T15:11:41.916765Z",
     "start_time": "2022-02-06T15:11:41.889837Z"
    }
   },
   "outputs": [
    {
     "data": {
      "text/html": [
       "<div>\n",
       "<style scoped>\n",
       "    .dataframe tbody tr th:only-of-type {\n",
       "        vertical-align: middle;\n",
       "    }\n",
       "\n",
       "    .dataframe tbody tr th {\n",
       "        vertical-align: top;\n",
       "    }\n",
       "\n",
       "    .dataframe thead th {\n",
       "        text-align: right;\n",
       "    }\n",
       "</style>\n",
       "<table border=\"1\" class=\"dataframe\">\n",
       "  <thead>\n",
       "    <tr style=\"text-align: right;\">\n",
       "      <th></th>\n",
       "      <th>id</th>\n",
       "      <th>mb_used</th>\n",
       "      <th>session_date</th>\n",
       "      <th>user_id</th>\n",
       "    </tr>\n",
       "  </thead>\n",
       "  <tbody>\n",
       "    <tr>\n",
       "      <th>0</th>\n",
       "      <td>1000_0</td>\n",
       "      <td>112.95</td>\n",
       "      <td>2018-11-25</td>\n",
       "      <td>1000</td>\n",
       "    </tr>\n",
       "    <tr>\n",
       "      <th>1</th>\n",
       "      <td>1000_1</td>\n",
       "      <td>1052.81</td>\n",
       "      <td>2018-09-07</td>\n",
       "      <td>1000</td>\n",
       "    </tr>\n",
       "    <tr>\n",
       "      <th>2</th>\n",
       "      <td>1000_2</td>\n",
       "      <td>1197.26</td>\n",
       "      <td>2018-06-25</td>\n",
       "      <td>1000</td>\n",
       "    </tr>\n",
       "    <tr>\n",
       "      <th>3</th>\n",
       "      <td>1000_3</td>\n",
       "      <td>550.27</td>\n",
       "      <td>2018-08-22</td>\n",
       "      <td>1000</td>\n",
       "    </tr>\n",
       "    <tr>\n",
       "      <th>4</th>\n",
       "      <td>1000_4</td>\n",
       "      <td>302.56</td>\n",
       "      <td>2018-09-24</td>\n",
       "      <td>1000</td>\n",
       "    </tr>\n",
       "  </tbody>\n",
       "</table>\n",
       "</div>"
      ],
      "text/plain": [
       "       id  mb_used session_date  user_id\n",
       "0  1000_0   112.95   2018-11-25     1000\n",
       "1  1000_1  1052.81   2018-09-07     1000\n",
       "2  1000_2  1197.26   2018-06-25     1000\n",
       "3  1000_3   550.27   2018-08-22     1000\n",
       "4  1000_4   302.56   2018-09-24     1000"
      ]
     },
     "execution_count": 28,
     "metadata": {},
     "output_type": "execute_result"
    }
   ],
   "source": [
    "internet = internet.drop('Unnamed: 0', axis = 1)\n",
    "internet.head()"
   ]
  },
  {
   "cell_type": "markdown",
   "metadata": {},
   "source": [
    "### Добавление столбцов "
   ]
  },
  {
   "cell_type": "markdown",
   "metadata": {},
   "source": [
    "Для каждого пользователя (`id` в датафрейме `users`) посчитаем и создадим сводную таблицу:\n",
    "* Количество сделанных звонков и израсходованных минут разговора по месяцам;\n",
    "* Количество отправленных сообщений по месяцам;\n",
    "* Объем израсходованного интернет-трафика по месяцам;\n",
    "* Помесячную выручку с каждого пользователя."
   ]
  },
  {
   "cell_type": "markdown",
   "metadata": {},
   "source": [
    "#### Количество сделанных звонков и израсходованных минут разговора по месяцам"
   ]
  },
  {
   "cell_type": "markdown",
   "metadata": {},
   "source": [
    "Добавим в датфрейм `calls` столбец с названием месяца,столбец для подсчета количества звонков, переименуем столбец для лучшего отображения смысла данных"
   ]
  },
  {
   "cell_type": "code",
   "execution_count": 29,
   "metadata": {
    "ExecuteTime": {
     "end_time": "2022-02-06T15:11:41.980593Z",
     "start_time": "2022-02-06T15:11:41.918760Z"
    }
   },
   "outputs": [
    {
     "data": {
      "text/html": [
       "<div>\n",
       "<style scoped>\n",
       "    .dataframe tbody tr th:only-of-type {\n",
       "        vertical-align: middle;\n",
       "    }\n",
       "\n",
       "    .dataframe tbody tr th {\n",
       "        vertical-align: top;\n",
       "    }\n",
       "\n",
       "    .dataframe thead th {\n",
       "        text-align: right;\n",
       "    }\n",
       "</style>\n",
       "<table border=\"1\" class=\"dataframe\">\n",
       "  <thead>\n",
       "    <tr style=\"text-align: right;\">\n",
       "      <th></th>\n",
       "      <th>id</th>\n",
       "      <th>call_date</th>\n",
       "      <th>call_duration</th>\n",
       "      <th>user_id</th>\n",
       "      <th>month</th>\n",
       "      <th>call_count</th>\n",
       "    </tr>\n",
       "  </thead>\n",
       "  <tbody>\n",
       "    <tr>\n",
       "      <th>0</th>\n",
       "      <td>1000_0</td>\n",
       "      <td>2018-07-25</td>\n",
       "      <td>0</td>\n",
       "      <td>1000</td>\n",
       "      <td>7</td>\n",
       "      <td>1</td>\n",
       "    </tr>\n",
       "    <tr>\n",
       "      <th>1</th>\n",
       "      <td>1000_1</td>\n",
       "      <td>2018-08-17</td>\n",
       "      <td>0</td>\n",
       "      <td>1000</td>\n",
       "      <td>8</td>\n",
       "      <td>1</td>\n",
       "    </tr>\n",
       "    <tr>\n",
       "      <th>2</th>\n",
       "      <td>1000_2</td>\n",
       "      <td>2018-06-11</td>\n",
       "      <td>3</td>\n",
       "      <td>1000</td>\n",
       "      <td>6</td>\n",
       "      <td>1</td>\n",
       "    </tr>\n",
       "    <tr>\n",
       "      <th>3</th>\n",
       "      <td>1000_3</td>\n",
       "      <td>2018-09-21</td>\n",
       "      <td>14</td>\n",
       "      <td>1000</td>\n",
       "      <td>9</td>\n",
       "      <td>1</td>\n",
       "    </tr>\n",
       "    <tr>\n",
       "      <th>4</th>\n",
       "      <td>1000_4</td>\n",
       "      <td>2018-12-15</td>\n",
       "      <td>6</td>\n",
       "      <td>1000</td>\n",
       "      <td>12</td>\n",
       "      <td>1</td>\n",
       "    </tr>\n",
       "  </tbody>\n",
       "</table>\n",
       "</div>"
      ],
      "text/plain": [
       "       id  call_date  call_duration  user_id  month  call_count\n",
       "0  1000_0 2018-07-25              0     1000      7           1\n",
       "1  1000_1 2018-08-17              0     1000      8           1\n",
       "2  1000_2 2018-06-11              3     1000      6           1\n",
       "3  1000_3 2018-09-21             14     1000      9           1\n",
       "4  1000_4 2018-12-15              6     1000     12           1"
      ]
     },
     "execution_count": 29,
     "metadata": {},
     "output_type": "execute_result"
    }
   ],
   "source": [
    "calls['month'] = calls['call_date'].dt.month\n",
    "calls['call_count'] = 1\n",
    "calls = calls.rename({'duration' : 'call_duration'}, axis = 1) #переименуем столбец для лучшего отображения смысла данных\n",
    "calls['call_duration'] = calls['call_duration'].apply(np.ceil).astype(int) #округляем значения до целых минут\n",
    "calls.head()"
   ]
  },
  {
   "cell_type": "markdown",
   "metadata": {},
   "source": [
    "Создадим сводную таблицу по `user_id` и `month`, где для столбцов `call_duration` и `call_count` посчитаем сумму и количество соответственно"
   ]
  },
  {
   "cell_type": "code",
   "execution_count": 30,
   "metadata": {
    "ExecuteTime": {
     "end_time": "2022-02-06T15:11:42.028466Z",
     "start_time": "2022-02-06T15:11:41.981592Z"
    }
   },
   "outputs": [
    {
     "data": {
      "text/html": [
       "<div>\n",
       "<style scoped>\n",
       "    .dataframe tbody tr th:only-of-type {\n",
       "        vertical-align: middle;\n",
       "    }\n",
       "\n",
       "    .dataframe tbody tr th {\n",
       "        vertical-align: top;\n",
       "    }\n",
       "\n",
       "    .dataframe thead th {\n",
       "        text-align: right;\n",
       "    }\n",
       "</style>\n",
       "<table border=\"1\" class=\"dataframe\">\n",
       "  <thead>\n",
       "    <tr style=\"text-align: right;\">\n",
       "      <th></th>\n",
       "      <th>user_id</th>\n",
       "      <th>month</th>\n",
       "      <th>call_count</th>\n",
       "    </tr>\n",
       "  </thead>\n",
       "  <tbody>\n",
       "    <tr>\n",
       "      <th>0</th>\n",
       "      <td>1000</td>\n",
       "      <td>5</td>\n",
       "      <td>22</td>\n",
       "    </tr>\n",
       "    <tr>\n",
       "      <th>1</th>\n",
       "      <td>1000</td>\n",
       "      <td>6</td>\n",
       "      <td>43</td>\n",
       "    </tr>\n",
       "    <tr>\n",
       "      <th>2</th>\n",
       "      <td>1000</td>\n",
       "      <td>7</td>\n",
       "      <td>47</td>\n",
       "    </tr>\n",
       "    <tr>\n",
       "      <th>3</th>\n",
       "      <td>1000</td>\n",
       "      <td>8</td>\n",
       "      <td>52</td>\n",
       "    </tr>\n",
       "    <tr>\n",
       "      <th>4</th>\n",
       "      <td>1000</td>\n",
       "      <td>9</td>\n",
       "      <td>58</td>\n",
       "    </tr>\n",
       "  </tbody>\n",
       "</table>\n",
       "</div>"
      ],
      "text/plain": [
       "   user_id  month  call_count\n",
       "0     1000      5          22\n",
       "1     1000      6          43\n",
       "2     1000      7          47\n",
       "3     1000      8          52\n",
       "4     1000      9          58"
      ]
     },
     "execution_count": 30,
     "metadata": {},
     "output_type": "execute_result"
    }
   ],
   "source": [
    "calls_count = calls.pivot_table(index = ('user_id', 'month'), values =  'call_count', aggfunc = 'count')\n",
    "calls_count = calls_count.reset_index()\n",
    "calls_count.head()"
   ]
  },
  {
   "cell_type": "code",
   "execution_count": 31,
   "metadata": {
    "ExecuteTime": {
     "end_time": "2022-02-06T15:11:42.074343Z",
     "start_time": "2022-02-06T15:11:42.030461Z"
    }
   },
   "outputs": [
    {
     "data": {
      "text/html": [
       "<div>\n",
       "<style scoped>\n",
       "    .dataframe tbody tr th:only-of-type {\n",
       "        vertical-align: middle;\n",
       "    }\n",
       "\n",
       "    .dataframe tbody tr th {\n",
       "        vertical-align: top;\n",
       "    }\n",
       "\n",
       "    .dataframe thead th {\n",
       "        text-align: right;\n",
       "    }\n",
       "</style>\n",
       "<table border=\"1\" class=\"dataframe\">\n",
       "  <thead>\n",
       "    <tr style=\"text-align: right;\">\n",
       "      <th></th>\n",
       "      <th>user_id</th>\n",
       "      <th>month</th>\n",
       "      <th>call_duration</th>\n",
       "    </tr>\n",
       "  </thead>\n",
       "  <tbody>\n",
       "    <tr>\n",
       "      <th>0</th>\n",
       "      <td>1000</td>\n",
       "      <td>5</td>\n",
       "      <td>159</td>\n",
       "    </tr>\n",
       "    <tr>\n",
       "      <th>1</th>\n",
       "      <td>1000</td>\n",
       "      <td>6</td>\n",
       "      <td>172</td>\n",
       "    </tr>\n",
       "    <tr>\n",
       "      <th>2</th>\n",
       "      <td>1000</td>\n",
       "      <td>7</td>\n",
       "      <td>340</td>\n",
       "    </tr>\n",
       "    <tr>\n",
       "      <th>3</th>\n",
       "      <td>1000</td>\n",
       "      <td>8</td>\n",
       "      <td>408</td>\n",
       "    </tr>\n",
       "    <tr>\n",
       "      <th>4</th>\n",
       "      <td>1000</td>\n",
       "      <td>9</td>\n",
       "      <td>466</td>\n",
       "    </tr>\n",
       "  </tbody>\n",
       "</table>\n",
       "</div>"
      ],
      "text/plain": [
       "   user_id  month  call_duration\n",
       "0     1000      5            159\n",
       "1     1000      6            172\n",
       "2     1000      7            340\n",
       "3     1000      8            408\n",
       "4     1000      9            466"
      ]
     },
     "execution_count": 31,
     "metadata": {},
     "output_type": "execute_result"
    }
   ],
   "source": [
    "calls_duration = calls.pivot_table(index = ('user_id', 'month'), values =  'call_duration', aggfunc = 'sum')\n",
    "calls_duration = calls_duration.reset_index()\n",
    "calls_duration.head()"
   ]
  },
  {
   "cell_type": "markdown",
   "metadata": {},
   "source": [
    "#### Количество отправленных сообщений по месяцам"
   ]
  },
  {
   "cell_type": "markdown",
   "metadata": {},
   "source": [
    "Повторим те же действия для таблицы `messages`"
   ]
  },
  {
   "cell_type": "code",
   "execution_count": 32,
   "metadata": {
    "ExecuteTime": {
     "end_time": "2022-02-06T15:11:42.106257Z",
     "start_time": "2022-02-06T15:11:42.075341Z"
    }
   },
   "outputs": [
    {
     "data": {
      "text/html": [
       "<div>\n",
       "<style scoped>\n",
       "    .dataframe tbody tr th:only-of-type {\n",
       "        vertical-align: middle;\n",
       "    }\n",
       "\n",
       "    .dataframe tbody tr th {\n",
       "        vertical-align: top;\n",
       "    }\n",
       "\n",
       "    .dataframe thead th {\n",
       "        text-align: right;\n",
       "    }\n",
       "</style>\n",
       "<table border=\"1\" class=\"dataframe\">\n",
       "  <thead>\n",
       "    <tr style=\"text-align: right;\">\n",
       "      <th></th>\n",
       "      <th>id</th>\n",
       "      <th>message_date</th>\n",
       "      <th>user_id</th>\n",
       "      <th>month</th>\n",
       "      <th>message_count</th>\n",
       "    </tr>\n",
       "  </thead>\n",
       "  <tbody>\n",
       "    <tr>\n",
       "      <th>0</th>\n",
       "      <td>1000_0</td>\n",
       "      <td>2018-06-27</td>\n",
       "      <td>1000</td>\n",
       "      <td>6</td>\n",
       "      <td>1</td>\n",
       "    </tr>\n",
       "    <tr>\n",
       "      <th>1</th>\n",
       "      <td>1000_1</td>\n",
       "      <td>2018-10-08</td>\n",
       "      <td>1000</td>\n",
       "      <td>10</td>\n",
       "      <td>1</td>\n",
       "    </tr>\n",
       "    <tr>\n",
       "      <th>2</th>\n",
       "      <td>1000_2</td>\n",
       "      <td>2018-08-04</td>\n",
       "      <td>1000</td>\n",
       "      <td>8</td>\n",
       "      <td>1</td>\n",
       "    </tr>\n",
       "    <tr>\n",
       "      <th>3</th>\n",
       "      <td>1000_3</td>\n",
       "      <td>2018-06-16</td>\n",
       "      <td>1000</td>\n",
       "      <td>6</td>\n",
       "      <td>1</td>\n",
       "    </tr>\n",
       "    <tr>\n",
       "      <th>4</th>\n",
       "      <td>1000_4</td>\n",
       "      <td>2018-12-05</td>\n",
       "      <td>1000</td>\n",
       "      <td>12</td>\n",
       "      <td>1</td>\n",
       "    </tr>\n",
       "  </tbody>\n",
       "</table>\n",
       "</div>"
      ],
      "text/plain": [
       "       id message_date  user_id  month  message_count\n",
       "0  1000_0   2018-06-27     1000      6              1\n",
       "1  1000_1   2018-10-08     1000     10              1\n",
       "2  1000_2   2018-08-04     1000      8              1\n",
       "3  1000_3   2018-06-16     1000      6              1\n",
       "4  1000_4   2018-12-05     1000     12              1"
      ]
     },
     "execution_count": 32,
     "metadata": {},
     "output_type": "execute_result"
    }
   ],
   "source": [
    "messages['month'] = messages['message_date'].dt.month\n",
    "messages['message_count'] = 1\n",
    "messages.head()"
   ]
  },
  {
   "cell_type": "code",
   "execution_count": 33,
   "metadata": {
    "ExecuteTime": {
     "end_time": "2022-02-06T15:11:42.152136Z",
     "start_time": "2022-02-06T15:11:42.107255Z"
    }
   },
   "outputs": [
    {
     "data": {
      "text/html": [
       "<div>\n",
       "<style scoped>\n",
       "    .dataframe tbody tr th:only-of-type {\n",
       "        vertical-align: middle;\n",
       "    }\n",
       "\n",
       "    .dataframe tbody tr th {\n",
       "        vertical-align: top;\n",
       "    }\n",
       "\n",
       "    .dataframe thead th {\n",
       "        text-align: right;\n",
       "    }\n",
       "</style>\n",
       "<table border=\"1\" class=\"dataframe\">\n",
       "  <thead>\n",
       "    <tr style=\"text-align: right;\">\n",
       "      <th></th>\n",
       "      <th>user_id</th>\n",
       "      <th>month</th>\n",
       "      <th>message_count</th>\n",
       "    </tr>\n",
       "  </thead>\n",
       "  <tbody>\n",
       "    <tr>\n",
       "      <th>0</th>\n",
       "      <td>1000</td>\n",
       "      <td>5</td>\n",
       "      <td>22</td>\n",
       "    </tr>\n",
       "    <tr>\n",
       "      <th>1</th>\n",
       "      <td>1000</td>\n",
       "      <td>6</td>\n",
       "      <td>60</td>\n",
       "    </tr>\n",
       "    <tr>\n",
       "      <th>2</th>\n",
       "      <td>1000</td>\n",
       "      <td>7</td>\n",
       "      <td>75</td>\n",
       "    </tr>\n",
       "    <tr>\n",
       "      <th>3</th>\n",
       "      <td>1000</td>\n",
       "      <td>8</td>\n",
       "      <td>81</td>\n",
       "    </tr>\n",
       "    <tr>\n",
       "      <th>4</th>\n",
       "      <td>1000</td>\n",
       "      <td>9</td>\n",
       "      <td>57</td>\n",
       "    </tr>\n",
       "  </tbody>\n",
       "</table>\n",
       "</div>"
      ],
      "text/plain": [
       "   user_id  month  message_count\n",
       "0     1000      5             22\n",
       "1     1000      6             60\n",
       "2     1000      7             75\n",
       "3     1000      8             81\n",
       "4     1000      9             57"
      ]
     },
     "execution_count": 33,
     "metadata": {},
     "output_type": "execute_result"
    }
   ],
   "source": [
    "messages_sum = messages.pivot_table(index = ('user_id', 'month'), values =  'message_count', aggfunc = 'sum')\n",
    "messages_sum = messages_sum.reset_index()\n",
    "messages_sum.head()"
   ]
  },
  {
   "cell_type": "markdown",
   "metadata": {},
   "source": [
    "#### Объем израсходованного интернет-трафика по месяцам"
   ]
  },
  {
   "cell_type": "code",
   "execution_count": 34,
   "metadata": {
    "ExecuteTime": {
     "end_time": "2022-02-06T15:11:42.184050Z",
     "start_time": "2022-02-06T15:11:42.154131Z"
    }
   },
   "outputs": [
    {
     "data": {
      "text/html": [
       "<div>\n",
       "<style scoped>\n",
       "    .dataframe tbody tr th:only-of-type {\n",
       "        vertical-align: middle;\n",
       "    }\n",
       "\n",
       "    .dataframe tbody tr th {\n",
       "        vertical-align: top;\n",
       "    }\n",
       "\n",
       "    .dataframe thead th {\n",
       "        text-align: right;\n",
       "    }\n",
       "</style>\n",
       "<table border=\"1\" class=\"dataframe\">\n",
       "  <thead>\n",
       "    <tr style=\"text-align: right;\">\n",
       "      <th></th>\n",
       "      <th>id</th>\n",
       "      <th>mb_used</th>\n",
       "      <th>session_date</th>\n",
       "      <th>user_id</th>\n",
       "      <th>month</th>\n",
       "    </tr>\n",
       "  </thead>\n",
       "  <tbody>\n",
       "    <tr>\n",
       "      <th>0</th>\n",
       "      <td>1000_0</td>\n",
       "      <td>112.95</td>\n",
       "      <td>2018-11-25</td>\n",
       "      <td>1000</td>\n",
       "      <td>11</td>\n",
       "    </tr>\n",
       "    <tr>\n",
       "      <th>1</th>\n",
       "      <td>1000_1</td>\n",
       "      <td>1052.81</td>\n",
       "      <td>2018-09-07</td>\n",
       "      <td>1000</td>\n",
       "      <td>9</td>\n",
       "    </tr>\n",
       "    <tr>\n",
       "      <th>2</th>\n",
       "      <td>1000_2</td>\n",
       "      <td>1197.26</td>\n",
       "      <td>2018-06-25</td>\n",
       "      <td>1000</td>\n",
       "      <td>6</td>\n",
       "    </tr>\n",
       "    <tr>\n",
       "      <th>3</th>\n",
       "      <td>1000_3</td>\n",
       "      <td>550.27</td>\n",
       "      <td>2018-08-22</td>\n",
       "      <td>1000</td>\n",
       "      <td>8</td>\n",
       "    </tr>\n",
       "    <tr>\n",
       "      <th>4</th>\n",
       "      <td>1000_4</td>\n",
       "      <td>302.56</td>\n",
       "      <td>2018-09-24</td>\n",
       "      <td>1000</td>\n",
       "      <td>9</td>\n",
       "    </tr>\n",
       "  </tbody>\n",
       "</table>\n",
       "</div>"
      ],
      "text/plain": [
       "       id  mb_used session_date  user_id  month\n",
       "0  1000_0   112.95   2018-11-25     1000     11\n",
       "1  1000_1  1052.81   2018-09-07     1000      9\n",
       "2  1000_2  1197.26   2018-06-25     1000      6\n",
       "3  1000_3   550.27   2018-08-22     1000      8\n",
       "4  1000_4   302.56   2018-09-24     1000      9"
      ]
     },
     "execution_count": 34,
     "metadata": {},
     "output_type": "execute_result"
    }
   ],
   "source": [
    "internet['month'] = internet['session_date'].dt.month\n",
    "internet.head()"
   ]
  },
  {
   "cell_type": "code",
   "execution_count": 35,
   "metadata": {
    "ExecuteTime": {
     "end_time": "2022-02-06T15:11:42.231921Z",
     "start_time": "2022-02-06T15:11:42.185048Z"
    }
   },
   "outputs": [
    {
     "data": {
      "text/html": [
       "<div>\n",
       "<style scoped>\n",
       "    .dataframe tbody tr th:only-of-type {\n",
       "        vertical-align: middle;\n",
       "    }\n",
       "\n",
       "    .dataframe tbody tr th {\n",
       "        vertical-align: top;\n",
       "    }\n",
       "\n",
       "    .dataframe thead th {\n",
       "        text-align: right;\n",
       "    }\n",
       "</style>\n",
       "<table border=\"1\" class=\"dataframe\">\n",
       "  <thead>\n",
       "    <tr style=\"text-align: right;\">\n",
       "      <th></th>\n",
       "      <th>user_id</th>\n",
       "      <th>month</th>\n",
       "      <th>mb_used</th>\n",
       "    </tr>\n",
       "  </thead>\n",
       "  <tbody>\n",
       "    <tr>\n",
       "      <th>0</th>\n",
       "      <td>1000</td>\n",
       "      <td>5</td>\n",
       "      <td>2253.49</td>\n",
       "    </tr>\n",
       "    <tr>\n",
       "      <th>1</th>\n",
       "      <td>1000</td>\n",
       "      <td>6</td>\n",
       "      <td>23233.77</td>\n",
       "    </tr>\n",
       "    <tr>\n",
       "      <th>2</th>\n",
       "      <td>1000</td>\n",
       "      <td>7</td>\n",
       "      <td>14003.64</td>\n",
       "    </tr>\n",
       "    <tr>\n",
       "      <th>3</th>\n",
       "      <td>1000</td>\n",
       "      <td>8</td>\n",
       "      <td>14055.93</td>\n",
       "    </tr>\n",
       "    <tr>\n",
       "      <th>4</th>\n",
       "      <td>1000</td>\n",
       "      <td>9</td>\n",
       "      <td>14568.91</td>\n",
       "    </tr>\n",
       "    <tr>\n",
       "      <th>...</th>\n",
       "      <td>...</td>\n",
       "      <td>...</td>\n",
       "      <td>...</td>\n",
       "    </tr>\n",
       "    <tr>\n",
       "      <th>3198</th>\n",
       "      <td>1498</td>\n",
       "      <td>10</td>\n",
       "      <td>20579.36</td>\n",
       "    </tr>\n",
       "    <tr>\n",
       "      <th>3199</th>\n",
       "      <td>1499</td>\n",
       "      <td>9</td>\n",
       "      <td>1845.75</td>\n",
       "    </tr>\n",
       "    <tr>\n",
       "      <th>3200</th>\n",
       "      <td>1499</td>\n",
       "      <td>10</td>\n",
       "      <td>17788.51</td>\n",
       "    </tr>\n",
       "    <tr>\n",
       "      <th>3201</th>\n",
       "      <td>1499</td>\n",
       "      <td>11</td>\n",
       "      <td>17963.31</td>\n",
       "    </tr>\n",
       "    <tr>\n",
       "      <th>3202</th>\n",
       "      <td>1499</td>\n",
       "      <td>12</td>\n",
       "      <td>13055.58</td>\n",
       "    </tr>\n",
       "  </tbody>\n",
       "</table>\n",
       "<p>3203 rows × 3 columns</p>\n",
       "</div>"
      ],
      "text/plain": [
       "      user_id  month   mb_used\n",
       "0        1000      5   2253.49\n",
       "1        1000      6  23233.77\n",
       "2        1000      7  14003.64\n",
       "3        1000      8  14055.93\n",
       "4        1000      9  14568.91\n",
       "...       ...    ...       ...\n",
       "3198     1498     10  20579.36\n",
       "3199     1499      9   1845.75\n",
       "3200     1499     10  17788.51\n",
       "3201     1499     11  17963.31\n",
       "3202     1499     12  13055.58\n",
       "\n",
       "[3203 rows x 3 columns]"
      ]
     },
     "execution_count": 35,
     "metadata": {},
     "output_type": "execute_result"
    }
   ],
   "source": [
    "internet_sum = internet.pivot_table(index = ('user_id', 'month'), values =  'mb_used', aggfunc = 'sum')\n",
    "internet_sum = internet_sum.reset_index()\n",
    "internet_sum"
   ]
  },
  {
   "cell_type": "markdown",
   "metadata": {},
   "source": [
    "#### Помесячная выручка с каждого пользователя"
   ]
  },
  {
   "cell_type": "markdown",
   "metadata": {},
   "source": [
    "Подготовим данные к объединению  \n",
    "Изменим столбец `mb_per_month_included` в `gb_per_month_included` и разделим данные на 1024"
   ]
  },
  {
   "cell_type": "code",
   "execution_count": 36,
   "metadata": {
    "ExecuteTime": {
     "end_time": "2022-02-06T15:11:42.247879Z",
     "start_time": "2022-02-06T15:11:42.233917Z"
    }
   },
   "outputs": [
    {
     "data": {
      "text/html": [
       "<div>\n",
       "<style scoped>\n",
       "    .dataframe tbody tr th:only-of-type {\n",
       "        vertical-align: middle;\n",
       "    }\n",
       "\n",
       "    .dataframe tbody tr th {\n",
       "        vertical-align: top;\n",
       "    }\n",
       "\n",
       "    .dataframe thead th {\n",
       "        text-align: right;\n",
       "    }\n",
       "</style>\n",
       "<table border=\"1\" class=\"dataframe\">\n",
       "  <thead>\n",
       "    <tr style=\"text-align: right;\">\n",
       "      <th></th>\n",
       "      <th>messages_included</th>\n",
       "      <th>gb_per_month_included</th>\n",
       "      <th>minutes_included</th>\n",
       "      <th>rub_monthly_fee</th>\n",
       "      <th>rub_per_gb</th>\n",
       "      <th>rub_per_message</th>\n",
       "      <th>rub_per_minute</th>\n",
       "      <th>tariff_name</th>\n",
       "    </tr>\n",
       "  </thead>\n",
       "  <tbody>\n",
       "    <tr>\n",
       "      <th>0</th>\n",
       "      <td>50</td>\n",
       "      <td>15</td>\n",
       "      <td>500</td>\n",
       "      <td>550</td>\n",
       "      <td>200</td>\n",
       "      <td>3</td>\n",
       "      <td>3</td>\n",
       "      <td>smart</td>\n",
       "    </tr>\n",
       "    <tr>\n",
       "      <th>1</th>\n",
       "      <td>1000</td>\n",
       "      <td>30</td>\n",
       "      <td>3000</td>\n",
       "      <td>1950</td>\n",
       "      <td>150</td>\n",
       "      <td>1</td>\n",
       "      <td>1</td>\n",
       "      <td>ultra</td>\n",
       "    </tr>\n",
       "  </tbody>\n",
       "</table>\n",
       "</div>"
      ],
      "text/plain": [
       "   messages_included  gb_per_month_included  minutes_included  \\\n",
       "0                 50                     15               500   \n",
       "1               1000                     30              3000   \n",
       "\n",
       "   rub_monthly_fee  rub_per_gb  rub_per_message  rub_per_minute tariff_name  \n",
       "0              550         200                3               3       smart  \n",
       "1             1950         150                1               1       ultra  "
      ]
     },
     "execution_count": 36,
     "metadata": {},
     "output_type": "execute_result"
    }
   ],
   "source": [
    "tariffs = tariffs.rename({'mb_per_month_included' : 'gb_per_month_included'}, axis = 1)\n",
    "tariffs['gb_per_month_included'] =  tariffs['gb_per_month_included'] / 1024\n",
    "tariffs['gb_per_month_included'] = tariffs['gb_per_month_included'].astype(int)\n",
    "tariffs"
   ]
  },
  {
   "cell_type": "markdown",
   "metadata": {},
   "source": [
    "Переименуем столбцы в таблицах с цифр на более подходящие"
   ]
  },
  {
   "cell_type": "markdown",
   "metadata": {},
   "source": [
    "Для сводной таблицы возьмем стобцы `user_id` из датасета `users`"
   ]
  },
  {
   "cell_type": "code",
   "execution_count": 37,
   "metadata": {
    "ExecuteTime": {
     "end_time": "2022-02-06T15:11:42.263836Z",
     "start_time": "2022-02-06T15:11:42.248876Z"
    }
   },
   "outputs": [
    {
     "data": {
      "text/html": [
       "<div>\n",
       "<style scoped>\n",
       "    .dataframe tbody tr th:only-of-type {\n",
       "        vertical-align: middle;\n",
       "    }\n",
       "\n",
       "    .dataframe tbody tr th {\n",
       "        vertical-align: top;\n",
       "    }\n",
       "\n",
       "    .dataframe thead th {\n",
       "        text-align: right;\n",
       "    }\n",
       "</style>\n",
       "<table border=\"1\" class=\"dataframe\">\n",
       "  <thead>\n",
       "    <tr style=\"text-align: right;\">\n",
       "      <th></th>\n",
       "      <th>user_id</th>\n",
       "    </tr>\n",
       "  </thead>\n",
       "  <tbody>\n",
       "    <tr>\n",
       "      <th>0</th>\n",
       "      <td>1000</td>\n",
       "    </tr>\n",
       "    <tr>\n",
       "      <th>1</th>\n",
       "      <td>1001</td>\n",
       "    </tr>\n",
       "    <tr>\n",
       "      <th>2</th>\n",
       "      <td>1002</td>\n",
       "    </tr>\n",
       "    <tr>\n",
       "      <th>3</th>\n",
       "      <td>1003</td>\n",
       "    </tr>\n",
       "    <tr>\n",
       "      <th>4</th>\n",
       "      <td>1004</td>\n",
       "    </tr>\n",
       "    <tr>\n",
       "      <th>5</th>\n",
       "      <td>1005</td>\n",
       "    </tr>\n",
       "    <tr>\n",
       "      <th>6</th>\n",
       "      <td>1006</td>\n",
       "    </tr>\n",
       "    <tr>\n",
       "      <th>7</th>\n",
       "      <td>1007</td>\n",
       "    </tr>\n",
       "    <tr>\n",
       "      <th>8</th>\n",
       "      <td>1008</td>\n",
       "    </tr>\n",
       "    <tr>\n",
       "      <th>9</th>\n",
       "      <td>1009</td>\n",
       "    </tr>\n",
       "  </tbody>\n",
       "</table>\n",
       "</div>"
      ],
      "text/plain": [
       "   user_id\n",
       "0     1000\n",
       "1     1001\n",
       "2     1002\n",
       "3     1003\n",
       "4     1004\n",
       "5     1005\n",
       "6     1006\n",
       "7     1007\n",
       "8     1008\n",
       "9     1009"
      ]
     },
     "execution_count": 37,
     "metadata": {},
     "output_type": "execute_result"
    }
   ],
   "source": [
    "user_data = users[['user_id']]\n",
    "user_data.head(10)"
   ]
  },
  {
   "cell_type": "markdown",
   "metadata": {},
   "source": [
    "Присоединим таблицы, полученные в предыдущих шагах к новому датасету, объединяем слева, чтобы включить всех пользователей"
   ]
  },
  {
   "cell_type": "code",
   "execution_count": 38,
   "metadata": {
    "ExecuteTime": {
     "end_time": "2022-02-06T15:11:42.295751Z",
     "start_time": "2022-02-06T15:11:42.264834Z"
    }
   },
   "outputs": [
    {
     "data": {
      "text/html": [
       "<div>\n",
       "<style scoped>\n",
       "    .dataframe tbody tr th:only-of-type {\n",
       "        vertical-align: middle;\n",
       "    }\n",
       "\n",
       "    .dataframe tbody tr th {\n",
       "        vertical-align: top;\n",
       "    }\n",
       "\n",
       "    .dataframe thead th {\n",
       "        text-align: right;\n",
       "    }\n",
       "</style>\n",
       "<table border=\"1\" class=\"dataframe\">\n",
       "  <thead>\n",
       "    <tr style=\"text-align: right;\">\n",
       "      <th></th>\n",
       "      <th>user_id</th>\n",
       "      <th>month</th>\n",
       "      <th>call_duration</th>\n",
       "    </tr>\n",
       "  </thead>\n",
       "  <tbody>\n",
       "    <tr>\n",
       "      <th>0</th>\n",
       "      <td>1000</td>\n",
       "      <td>5.0</td>\n",
       "      <td>159.0</td>\n",
       "    </tr>\n",
       "    <tr>\n",
       "      <th>1</th>\n",
       "      <td>1000</td>\n",
       "      <td>6.0</td>\n",
       "      <td>172.0</td>\n",
       "    </tr>\n",
       "    <tr>\n",
       "      <th>2</th>\n",
       "      <td>1000</td>\n",
       "      <td>7.0</td>\n",
       "      <td>340.0</td>\n",
       "    </tr>\n",
       "    <tr>\n",
       "      <th>3</th>\n",
       "      <td>1000</td>\n",
       "      <td>8.0</td>\n",
       "      <td>408.0</td>\n",
       "    </tr>\n",
       "    <tr>\n",
       "      <th>4</th>\n",
       "      <td>1000</td>\n",
       "      <td>9.0</td>\n",
       "      <td>466.0</td>\n",
       "    </tr>\n",
       "    <tr>\n",
       "      <th>5</th>\n",
       "      <td>1000</td>\n",
       "      <td>10.0</td>\n",
       "      <td>350.0</td>\n",
       "    </tr>\n",
       "    <tr>\n",
       "      <th>6</th>\n",
       "      <td>1000</td>\n",
       "      <td>11.0</td>\n",
       "      <td>338.0</td>\n",
       "    </tr>\n",
       "    <tr>\n",
       "      <th>7</th>\n",
       "      <td>1000</td>\n",
       "      <td>12.0</td>\n",
       "      <td>333.0</td>\n",
       "    </tr>\n",
       "    <tr>\n",
       "      <th>8</th>\n",
       "      <td>1001</td>\n",
       "      <td>11.0</td>\n",
       "      <td>430.0</td>\n",
       "    </tr>\n",
       "    <tr>\n",
       "      <th>9</th>\n",
       "      <td>1001</td>\n",
       "      <td>12.0</td>\n",
       "      <td>414.0</td>\n",
       "    </tr>\n",
       "  </tbody>\n",
       "</table>\n",
       "</div>"
      ],
      "text/plain": [
       "   user_id  month  call_duration\n",
       "0     1000    5.0          159.0\n",
       "1     1000    6.0          172.0\n",
       "2     1000    7.0          340.0\n",
       "3     1000    8.0          408.0\n",
       "4     1000    9.0          466.0\n",
       "5     1000   10.0          350.0\n",
       "6     1000   11.0          338.0\n",
       "7     1000   12.0          333.0\n",
       "8     1001   11.0          430.0\n",
       "9     1001   12.0          414.0"
      ]
     },
     "execution_count": 38,
     "metadata": {},
     "output_type": "execute_result"
    }
   ],
   "source": [
    "user_data = user_data.merge(calls_duration, on='user_id', how='outer') \n",
    "user_data.head(10)"
   ]
  },
  {
   "cell_type": "code",
   "execution_count": 39,
   "metadata": {
    "ExecuteTime": {
     "end_time": "2022-02-06T15:11:42.326700Z",
     "start_time": "2022-02-06T15:11:42.296749Z"
    }
   },
   "outputs": [
    {
     "data": {
      "text/html": [
       "<div>\n",
       "<style scoped>\n",
       "    .dataframe tbody tr th:only-of-type {\n",
       "        vertical-align: middle;\n",
       "    }\n",
       "\n",
       "    .dataframe tbody tr th {\n",
       "        vertical-align: top;\n",
       "    }\n",
       "\n",
       "    .dataframe thead th {\n",
       "        text-align: right;\n",
       "    }\n",
       "</style>\n",
       "<table border=\"1\" class=\"dataframe\">\n",
       "  <thead>\n",
       "    <tr style=\"text-align: right;\">\n",
       "      <th></th>\n",
       "      <th>user_id</th>\n",
       "      <th>month</th>\n",
       "      <th>call_duration</th>\n",
       "      <th>message_count</th>\n",
       "    </tr>\n",
       "  </thead>\n",
       "  <tbody>\n",
       "    <tr>\n",
       "      <th>0</th>\n",
       "      <td>1000</td>\n",
       "      <td>5.0</td>\n",
       "      <td>159.0</td>\n",
       "      <td>22.0</td>\n",
       "    </tr>\n",
       "    <tr>\n",
       "      <th>1</th>\n",
       "      <td>1000</td>\n",
       "      <td>6.0</td>\n",
       "      <td>172.0</td>\n",
       "      <td>60.0</td>\n",
       "    </tr>\n",
       "    <tr>\n",
       "      <th>2</th>\n",
       "      <td>1000</td>\n",
       "      <td>7.0</td>\n",
       "      <td>340.0</td>\n",
       "      <td>75.0</td>\n",
       "    </tr>\n",
       "    <tr>\n",
       "      <th>3</th>\n",
       "      <td>1000</td>\n",
       "      <td>8.0</td>\n",
       "      <td>408.0</td>\n",
       "      <td>81.0</td>\n",
       "    </tr>\n",
       "    <tr>\n",
       "      <th>4</th>\n",
       "      <td>1000</td>\n",
       "      <td>9.0</td>\n",
       "      <td>466.0</td>\n",
       "      <td>57.0</td>\n",
       "    </tr>\n",
       "    <tr>\n",
       "      <th>5</th>\n",
       "      <td>1000</td>\n",
       "      <td>10.0</td>\n",
       "      <td>350.0</td>\n",
       "      <td>73.0</td>\n",
       "    </tr>\n",
       "    <tr>\n",
       "      <th>6</th>\n",
       "      <td>1000</td>\n",
       "      <td>11.0</td>\n",
       "      <td>338.0</td>\n",
       "      <td>58.0</td>\n",
       "    </tr>\n",
       "    <tr>\n",
       "      <th>7</th>\n",
       "      <td>1000</td>\n",
       "      <td>12.0</td>\n",
       "      <td>333.0</td>\n",
       "      <td>70.0</td>\n",
       "    </tr>\n",
       "    <tr>\n",
       "      <th>8</th>\n",
       "      <td>1001</td>\n",
       "      <td>11.0</td>\n",
       "      <td>430.0</td>\n",
       "      <td>NaN</td>\n",
       "    </tr>\n",
       "    <tr>\n",
       "      <th>9</th>\n",
       "      <td>1001</td>\n",
       "      <td>12.0</td>\n",
       "      <td>414.0</td>\n",
       "      <td>NaN</td>\n",
       "    </tr>\n",
       "  </tbody>\n",
       "</table>\n",
       "</div>"
      ],
      "text/plain": [
       "   user_id  month  call_duration  message_count\n",
       "0     1000    5.0          159.0           22.0\n",
       "1     1000    6.0          172.0           60.0\n",
       "2     1000    7.0          340.0           75.0\n",
       "3     1000    8.0          408.0           81.0\n",
       "4     1000    9.0          466.0           57.0\n",
       "5     1000   10.0          350.0           73.0\n",
       "6     1000   11.0          338.0           58.0\n",
       "7     1000   12.0          333.0           70.0\n",
       "8     1001   11.0          430.0            NaN\n",
       "9     1001   12.0          414.0            NaN"
      ]
     },
     "execution_count": 39,
     "metadata": {},
     "output_type": "execute_result"
    }
   ],
   "source": [
    "user_data = user_data.merge(messages_sum, on=('user_id', 'month'), how='outer') \n",
    "user_data.head(10)"
   ]
  },
  {
   "cell_type": "code",
   "execution_count": 40,
   "metadata": {
    "ExecuteTime": {
     "end_time": "2022-02-06T15:11:42.357586Z",
     "start_time": "2022-02-06T15:11:42.328663Z"
    }
   },
   "outputs": [
    {
     "data": {
      "text/html": [
       "<div>\n",
       "<style scoped>\n",
       "    .dataframe tbody tr th:only-of-type {\n",
       "        vertical-align: middle;\n",
       "    }\n",
       "\n",
       "    .dataframe tbody tr th {\n",
       "        vertical-align: top;\n",
       "    }\n",
       "\n",
       "    .dataframe thead th {\n",
       "        text-align: right;\n",
       "    }\n",
       "</style>\n",
       "<table border=\"1\" class=\"dataframe\">\n",
       "  <thead>\n",
       "    <tr style=\"text-align: right;\">\n",
       "      <th></th>\n",
       "      <th>user_id</th>\n",
       "      <th>month</th>\n",
       "      <th>call_duration</th>\n",
       "      <th>message_count</th>\n",
       "      <th>mb_used</th>\n",
       "    </tr>\n",
       "  </thead>\n",
       "  <tbody>\n",
       "    <tr>\n",
       "      <th>0</th>\n",
       "      <td>1000</td>\n",
       "      <td>5.0</td>\n",
       "      <td>159.0</td>\n",
       "      <td>22.0</td>\n",
       "      <td>2253.49</td>\n",
       "    </tr>\n",
       "    <tr>\n",
       "      <th>1</th>\n",
       "      <td>1000</td>\n",
       "      <td>6.0</td>\n",
       "      <td>172.0</td>\n",
       "      <td>60.0</td>\n",
       "      <td>23233.77</td>\n",
       "    </tr>\n",
       "    <tr>\n",
       "      <th>2</th>\n",
       "      <td>1000</td>\n",
       "      <td>7.0</td>\n",
       "      <td>340.0</td>\n",
       "      <td>75.0</td>\n",
       "      <td>14003.64</td>\n",
       "    </tr>\n",
       "    <tr>\n",
       "      <th>3</th>\n",
       "      <td>1000</td>\n",
       "      <td>8.0</td>\n",
       "      <td>408.0</td>\n",
       "      <td>81.0</td>\n",
       "      <td>14055.93</td>\n",
       "    </tr>\n",
       "    <tr>\n",
       "      <th>4</th>\n",
       "      <td>1000</td>\n",
       "      <td>9.0</td>\n",
       "      <td>466.0</td>\n",
       "      <td>57.0</td>\n",
       "      <td>14568.91</td>\n",
       "    </tr>\n",
       "    <tr>\n",
       "      <th>5</th>\n",
       "      <td>1000</td>\n",
       "      <td>10.0</td>\n",
       "      <td>350.0</td>\n",
       "      <td>73.0</td>\n",
       "      <td>14702.49</td>\n",
       "    </tr>\n",
       "    <tr>\n",
       "      <th>6</th>\n",
       "      <td>1000</td>\n",
       "      <td>11.0</td>\n",
       "      <td>338.0</td>\n",
       "      <td>58.0</td>\n",
       "      <td>14756.47</td>\n",
       "    </tr>\n",
       "    <tr>\n",
       "      <th>7</th>\n",
       "      <td>1000</td>\n",
       "      <td>12.0</td>\n",
       "      <td>333.0</td>\n",
       "      <td>70.0</td>\n",
       "      <td>9817.61</td>\n",
       "    </tr>\n",
       "    <tr>\n",
       "      <th>8</th>\n",
       "      <td>1001</td>\n",
       "      <td>11.0</td>\n",
       "      <td>430.0</td>\n",
       "      <td>NaN</td>\n",
       "      <td>18429.34</td>\n",
       "    </tr>\n",
       "    <tr>\n",
       "      <th>9</th>\n",
       "      <td>1001</td>\n",
       "      <td>12.0</td>\n",
       "      <td>414.0</td>\n",
       "      <td>NaN</td>\n",
       "      <td>14036.66</td>\n",
       "    </tr>\n",
       "  </tbody>\n",
       "</table>\n",
       "</div>"
      ],
      "text/plain": [
       "   user_id  month  call_duration  message_count   mb_used\n",
       "0     1000    5.0          159.0           22.0   2253.49\n",
       "1     1000    6.0          172.0           60.0  23233.77\n",
       "2     1000    7.0          340.0           75.0  14003.64\n",
       "3     1000    8.0          408.0           81.0  14055.93\n",
       "4     1000    9.0          466.0           57.0  14568.91\n",
       "5     1000   10.0          350.0           73.0  14702.49\n",
       "6     1000   11.0          338.0           58.0  14756.47\n",
       "7     1000   12.0          333.0           70.0   9817.61\n",
       "8     1001   11.0          430.0            NaN  18429.34\n",
       "9     1001   12.0          414.0            NaN  14036.66"
      ]
     },
     "execution_count": 40,
     "metadata": {},
     "output_type": "execute_result"
    }
   ],
   "source": [
    "user_data = user_data.merge(internet_sum, on=('user_id', 'month'), how='outer') \n",
    "user_data.head(10)"
   ]
  },
  {
   "cell_type": "code",
   "execution_count": 41,
   "metadata": {
    "ExecuteTime": {
     "end_time": "2022-02-06T15:11:42.388503Z",
     "start_time": "2022-02-06T15:11:42.359581Z"
    }
   },
   "outputs": [
    {
     "data": {
      "text/html": [
       "<div>\n",
       "<style scoped>\n",
       "    .dataframe tbody tr th:only-of-type {\n",
       "        vertical-align: middle;\n",
       "    }\n",
       "\n",
       "    .dataframe tbody tr th {\n",
       "        vertical-align: top;\n",
       "    }\n",
       "\n",
       "    .dataframe thead th {\n",
       "        text-align: right;\n",
       "    }\n",
       "</style>\n",
       "<table border=\"1\" class=\"dataframe\">\n",
       "  <thead>\n",
       "    <tr style=\"text-align: right;\">\n",
       "      <th></th>\n",
       "      <th>user_id</th>\n",
       "      <th>month</th>\n",
       "      <th>call_duration</th>\n",
       "      <th>message_count</th>\n",
       "      <th>mb_used</th>\n",
       "      <th>tariff</th>\n",
       "    </tr>\n",
       "  </thead>\n",
       "  <tbody>\n",
       "    <tr>\n",
       "      <th>0</th>\n",
       "      <td>1000</td>\n",
       "      <td>5.0</td>\n",
       "      <td>159.0</td>\n",
       "      <td>22.0</td>\n",
       "      <td>2253.49</td>\n",
       "      <td>ultra</td>\n",
       "    </tr>\n",
       "    <tr>\n",
       "      <th>1</th>\n",
       "      <td>1000</td>\n",
       "      <td>6.0</td>\n",
       "      <td>172.0</td>\n",
       "      <td>60.0</td>\n",
       "      <td>23233.77</td>\n",
       "      <td>ultra</td>\n",
       "    </tr>\n",
       "    <tr>\n",
       "      <th>2</th>\n",
       "      <td>1000</td>\n",
       "      <td>7.0</td>\n",
       "      <td>340.0</td>\n",
       "      <td>75.0</td>\n",
       "      <td>14003.64</td>\n",
       "      <td>ultra</td>\n",
       "    </tr>\n",
       "    <tr>\n",
       "      <th>3</th>\n",
       "      <td>1000</td>\n",
       "      <td>8.0</td>\n",
       "      <td>408.0</td>\n",
       "      <td>81.0</td>\n",
       "      <td>14055.93</td>\n",
       "      <td>ultra</td>\n",
       "    </tr>\n",
       "    <tr>\n",
       "      <th>4</th>\n",
       "      <td>1000</td>\n",
       "      <td>9.0</td>\n",
       "      <td>466.0</td>\n",
       "      <td>57.0</td>\n",
       "      <td>14568.91</td>\n",
       "      <td>ultra</td>\n",
       "    </tr>\n",
       "    <tr>\n",
       "      <th>5</th>\n",
       "      <td>1000</td>\n",
       "      <td>10.0</td>\n",
       "      <td>350.0</td>\n",
       "      <td>73.0</td>\n",
       "      <td>14702.49</td>\n",
       "      <td>ultra</td>\n",
       "    </tr>\n",
       "    <tr>\n",
       "      <th>6</th>\n",
       "      <td>1000</td>\n",
       "      <td>11.0</td>\n",
       "      <td>338.0</td>\n",
       "      <td>58.0</td>\n",
       "      <td>14756.47</td>\n",
       "      <td>ultra</td>\n",
       "    </tr>\n",
       "    <tr>\n",
       "      <th>7</th>\n",
       "      <td>1000</td>\n",
       "      <td>12.0</td>\n",
       "      <td>333.0</td>\n",
       "      <td>70.0</td>\n",
       "      <td>9817.61</td>\n",
       "      <td>ultra</td>\n",
       "    </tr>\n",
       "    <tr>\n",
       "      <th>8</th>\n",
       "      <td>1001</td>\n",
       "      <td>11.0</td>\n",
       "      <td>430.0</td>\n",
       "      <td>NaN</td>\n",
       "      <td>18429.34</td>\n",
       "      <td>smart</td>\n",
       "    </tr>\n",
       "    <tr>\n",
       "      <th>9</th>\n",
       "      <td>1001</td>\n",
       "      <td>12.0</td>\n",
       "      <td>414.0</td>\n",
       "      <td>NaN</td>\n",
       "      <td>14036.66</td>\n",
       "      <td>smart</td>\n",
       "    </tr>\n",
       "  </tbody>\n",
       "</table>\n",
       "</div>"
      ],
      "text/plain": [
       "   user_id  month  call_duration  message_count   mb_used tariff\n",
       "0     1000    5.0          159.0           22.0   2253.49  ultra\n",
       "1     1000    6.0          172.0           60.0  23233.77  ultra\n",
       "2     1000    7.0          340.0           75.0  14003.64  ultra\n",
       "3     1000    8.0          408.0           81.0  14055.93  ultra\n",
       "4     1000    9.0          466.0           57.0  14568.91  ultra\n",
       "5     1000   10.0          350.0           73.0  14702.49  ultra\n",
       "6     1000   11.0          338.0           58.0  14756.47  ultra\n",
       "7     1000   12.0          333.0           70.0   9817.61  ultra\n",
       "8     1001   11.0          430.0            NaN  18429.34  smart\n",
       "9     1001   12.0          414.0            NaN  14036.66  smart"
      ]
     },
     "execution_count": 41,
     "metadata": {},
     "output_type": "execute_result"
    }
   ],
   "source": [
    "user_data = user_data.merge(users[['user_id', 'tariff']], on = 'user_id', how='outer')\n",
    "user_data.head(10)"
   ]
  },
  {
   "cell_type": "code",
   "execution_count": 42,
   "metadata": {
    "ExecuteTime": {
     "end_time": "2022-02-06T15:11:42.404461Z",
     "start_time": "2022-02-06T15:11:42.390498Z"
    }
   },
   "outputs": [
    {
     "data": {
      "text/plain": [
       "user_id            0\n",
       "month              8\n",
       "call_duration     48\n",
       "message_count    505\n",
       "mb_used           19\n",
       "tariff             0\n",
       "dtype: int64"
      ]
     },
     "execution_count": 42,
     "metadata": {},
     "output_type": "execute_result"
    }
   ],
   "source": [
    "user_data.isna().sum()"
   ]
  },
  {
   "cell_type": "markdown",
   "metadata": {},
   "source": [
    "Обработаем данные в сводной таблице. Удалим строчки с NaN в столбце `month`. Они появились из-за того, что пользователи с этим id не совершали звонков.  \n",
    "Заполним NaN в остальных полях нулями, так как пропуски обозначают тот факт, что данный пользователь не пользовался этой услугой в этом месяце"
   ]
  },
  {
   "cell_type": "code",
   "execution_count": 43,
   "metadata": {
    "ExecuteTime": {
     "end_time": "2022-02-06T15:11:42.419452Z",
     "start_time": "2022-02-06T15:11:42.405479Z"
    }
   },
   "outputs": [
    {
     "data": {
      "text/plain": [
       "user_id          0\n",
       "month            0\n",
       "call_duration    0\n",
       "message_count    0\n",
       "mb_used          0\n",
       "tariff           0\n",
       "dtype: int64"
      ]
     },
     "execution_count": 43,
     "metadata": {},
     "output_type": "execute_result"
    }
   ],
   "source": [
    "user_data = user_data[user_data['month'].notna()]\n",
    "user_data = user_data.fillna(0)\n",
    "user_data.isna().sum()"
   ]
  },
  {
   "cell_type": "markdown",
   "metadata": {},
   "source": [
    "Переименуем столбец `mb_used` в `gb_used`, разделим все значения на 1024 и округлим вверх"
   ]
  },
  {
   "cell_type": "code",
   "execution_count": 44,
   "metadata": {
    "ExecuteTime": {
     "end_time": "2022-02-06T15:11:42.435405Z",
     "start_time": "2022-02-06T15:11:42.420418Z"
    }
   },
   "outputs": [],
   "source": [
    "user_data = user_data.rename(columns={'mb_used' : 'gb_used'})\n",
    "user_data['gb_used'] = (user_data['gb_used'] / 1024) #переводим мегабайты в гигабайты\n",
    "user_data['gb_used'] = user_data['gb_used'].apply(np.ceil) #округляем значения до целых"
   ]
  },
  {
   "cell_type": "code",
   "execution_count": 45,
   "metadata": {
    "ExecuteTime": {
     "end_time": "2022-02-06T15:11:42.451367Z",
     "start_time": "2022-02-06T15:11:42.437373Z"
    }
   },
   "outputs": [
    {
     "data": {
      "text/html": [
       "<div>\n",
       "<style scoped>\n",
       "    .dataframe tbody tr th:only-of-type {\n",
       "        vertical-align: middle;\n",
       "    }\n",
       "\n",
       "    .dataframe tbody tr th {\n",
       "        vertical-align: top;\n",
       "    }\n",
       "\n",
       "    .dataframe thead th {\n",
       "        text-align: right;\n",
       "    }\n",
       "</style>\n",
       "<table border=\"1\" class=\"dataframe\">\n",
       "  <thead>\n",
       "    <tr style=\"text-align: right;\">\n",
       "      <th></th>\n",
       "      <th>user_id</th>\n",
       "      <th>month</th>\n",
       "      <th>call_duration</th>\n",
       "      <th>message_count</th>\n",
       "      <th>gb_used</th>\n",
       "      <th>tariff</th>\n",
       "    </tr>\n",
       "  </thead>\n",
       "  <tbody>\n",
       "    <tr>\n",
       "      <th>0</th>\n",
       "      <td>1000</td>\n",
       "      <td>5.0</td>\n",
       "      <td>159.0</td>\n",
       "      <td>22.0</td>\n",
       "      <td>3.0</td>\n",
       "      <td>ultra</td>\n",
       "    </tr>\n",
       "    <tr>\n",
       "      <th>1</th>\n",
       "      <td>1000</td>\n",
       "      <td>6.0</td>\n",
       "      <td>172.0</td>\n",
       "      <td>60.0</td>\n",
       "      <td>23.0</td>\n",
       "      <td>ultra</td>\n",
       "    </tr>\n",
       "    <tr>\n",
       "      <th>2</th>\n",
       "      <td>1000</td>\n",
       "      <td>7.0</td>\n",
       "      <td>340.0</td>\n",
       "      <td>75.0</td>\n",
       "      <td>14.0</td>\n",
       "      <td>ultra</td>\n",
       "    </tr>\n",
       "    <tr>\n",
       "      <th>3</th>\n",
       "      <td>1000</td>\n",
       "      <td>8.0</td>\n",
       "      <td>408.0</td>\n",
       "      <td>81.0</td>\n",
       "      <td>14.0</td>\n",
       "      <td>ultra</td>\n",
       "    </tr>\n",
       "    <tr>\n",
       "      <th>4</th>\n",
       "      <td>1000</td>\n",
       "      <td>9.0</td>\n",
       "      <td>466.0</td>\n",
       "      <td>57.0</td>\n",
       "      <td>15.0</td>\n",
       "      <td>ultra</td>\n",
       "    </tr>\n",
       "    <tr>\n",
       "      <th>5</th>\n",
       "      <td>1000</td>\n",
       "      <td>10.0</td>\n",
       "      <td>350.0</td>\n",
       "      <td>73.0</td>\n",
       "      <td>15.0</td>\n",
       "      <td>ultra</td>\n",
       "    </tr>\n",
       "    <tr>\n",
       "      <th>6</th>\n",
       "      <td>1000</td>\n",
       "      <td>11.0</td>\n",
       "      <td>338.0</td>\n",
       "      <td>58.0</td>\n",
       "      <td>15.0</td>\n",
       "      <td>ultra</td>\n",
       "    </tr>\n",
       "    <tr>\n",
       "      <th>7</th>\n",
       "      <td>1000</td>\n",
       "      <td>12.0</td>\n",
       "      <td>333.0</td>\n",
       "      <td>70.0</td>\n",
       "      <td>10.0</td>\n",
       "      <td>ultra</td>\n",
       "    </tr>\n",
       "    <tr>\n",
       "      <th>8</th>\n",
       "      <td>1001</td>\n",
       "      <td>11.0</td>\n",
       "      <td>430.0</td>\n",
       "      <td>0.0</td>\n",
       "      <td>18.0</td>\n",
       "      <td>smart</td>\n",
       "    </tr>\n",
       "    <tr>\n",
       "      <th>9</th>\n",
       "      <td>1001</td>\n",
       "      <td>12.0</td>\n",
       "      <td>414.0</td>\n",
       "      <td>0.0</td>\n",
       "      <td>14.0</td>\n",
       "      <td>smart</td>\n",
       "    </tr>\n",
       "  </tbody>\n",
       "</table>\n",
       "</div>"
      ],
      "text/plain": [
       "   user_id  month  call_duration  message_count  gb_used tariff\n",
       "0     1000    5.0          159.0           22.0      3.0  ultra\n",
       "1     1000    6.0          172.0           60.0     23.0  ultra\n",
       "2     1000    7.0          340.0           75.0     14.0  ultra\n",
       "3     1000    8.0          408.0           81.0     14.0  ultra\n",
       "4     1000    9.0          466.0           57.0     15.0  ultra\n",
       "5     1000   10.0          350.0           73.0     15.0  ultra\n",
       "6     1000   11.0          338.0           58.0     15.0  ultra\n",
       "7     1000   12.0          333.0           70.0     10.0  ultra\n",
       "8     1001   11.0          430.0            0.0     18.0  smart\n",
       "9     1001   12.0          414.0            0.0     14.0  smart"
      ]
     },
     "execution_count": 45,
     "metadata": {},
     "output_type": "execute_result"
    }
   ],
   "source": [
    "user_data.head(10)"
   ]
  },
  {
   "cell_type": "markdown",
   "metadata": {},
   "source": [
    "Изменим тип значений столбцов `month`, `call_duration`, `message_count`, `gb_used` c `float` на `int`"
   ]
  },
  {
   "cell_type": "code",
   "execution_count": 46,
   "metadata": {
    "ExecuteTime": {
     "end_time": "2022-02-06T15:11:42.483281Z",
     "start_time": "2022-02-06T15:11:42.453330Z"
    }
   },
   "outputs": [
    {
     "name": "stdout",
     "output_type": "stream",
     "text": [
      "<class 'pandas.core.frame.DataFrame'>\n",
      "Int64Index: 3214 entries, 0 to 3221\n",
      "Data columns (total 6 columns):\n",
      " #   Column         Non-Null Count  Dtype \n",
      "---  ------         --------------  ----- \n",
      " 0   user_id        3214 non-null   int64 \n",
      " 1   month          3214 non-null   int32 \n",
      " 2   call_duration  3214 non-null   int32 \n",
      " 3   message_count  3214 non-null   int32 \n",
      " 4   gb_used        3214 non-null   int32 \n",
      " 5   tariff         3214 non-null   object\n",
      "dtypes: int32(4), int64(1), object(1)\n",
      "memory usage: 125.5+ KB\n"
     ]
    }
   ],
   "source": [
    "for col in ['month', 'call_duration', 'message_count', 'gb_used']:\n",
    "    user_data[col] = user_data[col].astype('int')\n",
    "user_data.info()"
   ]
  },
  {
   "cell_type": "code",
   "execution_count": 47,
   "metadata": {
    "ExecuteTime": {
     "end_time": "2022-02-06T15:11:42.499207Z",
     "start_time": "2022-02-06T15:11:42.484280Z"
    }
   },
   "outputs": [
    {
     "data": {
      "text/plain": [
       "Index(['user_id', 'month', 'call_duration', 'message_count', 'gb_used',\n",
       "       'tariff_name'],\n",
       "      dtype='object')"
      ]
     },
     "execution_count": 47,
     "metadata": {},
     "output_type": "execute_result"
    }
   ],
   "source": [
    "user_data = user_data.rename(columns={'tariff' : 'tariff_name'})\n",
    "user_data.columns"
   ]
  },
  {
   "cell_type": "code",
   "execution_count": 48,
   "metadata": {
    "ExecuteTime": {
     "end_time": "2022-02-06T15:11:42.530124Z",
     "start_time": "2022-02-06T15:11:42.501202Z"
    }
   },
   "outputs": [
    {
     "data": {
      "text/html": [
       "<div>\n",
       "<style scoped>\n",
       "    .dataframe tbody tr th:only-of-type {\n",
       "        vertical-align: middle;\n",
       "    }\n",
       "\n",
       "    .dataframe tbody tr th {\n",
       "        vertical-align: top;\n",
       "    }\n",
       "\n",
       "    .dataframe thead th {\n",
       "        text-align: right;\n",
       "    }\n",
       "</style>\n",
       "<table border=\"1\" class=\"dataframe\">\n",
       "  <thead>\n",
       "    <tr style=\"text-align: right;\">\n",
       "      <th></th>\n",
       "      <th>user_id</th>\n",
       "      <th>month</th>\n",
       "      <th>call_duration</th>\n",
       "      <th>message_count</th>\n",
       "      <th>gb_used</th>\n",
       "      <th>tariff_name</th>\n",
       "      <th>messages_included</th>\n",
       "      <th>gb_per_month_included</th>\n",
       "      <th>minutes_included</th>\n",
       "      <th>rub_monthly_fee</th>\n",
       "      <th>rub_per_gb</th>\n",
       "      <th>rub_per_message</th>\n",
       "      <th>rub_per_minute</th>\n",
       "    </tr>\n",
       "  </thead>\n",
       "  <tbody>\n",
       "    <tr>\n",
       "      <th>0</th>\n",
       "      <td>1000</td>\n",
       "      <td>5</td>\n",
       "      <td>159</td>\n",
       "      <td>22</td>\n",
       "      <td>3</td>\n",
       "      <td>ultra</td>\n",
       "      <td>1000</td>\n",
       "      <td>30</td>\n",
       "      <td>3000</td>\n",
       "      <td>1950</td>\n",
       "      <td>150</td>\n",
       "      <td>1</td>\n",
       "      <td>1</td>\n",
       "    </tr>\n",
       "    <tr>\n",
       "      <th>1</th>\n",
       "      <td>1000</td>\n",
       "      <td>6</td>\n",
       "      <td>172</td>\n",
       "      <td>60</td>\n",
       "      <td>23</td>\n",
       "      <td>ultra</td>\n",
       "      <td>1000</td>\n",
       "      <td>30</td>\n",
       "      <td>3000</td>\n",
       "      <td>1950</td>\n",
       "      <td>150</td>\n",
       "      <td>1</td>\n",
       "      <td>1</td>\n",
       "    </tr>\n",
       "    <tr>\n",
       "      <th>2</th>\n",
       "      <td>1000</td>\n",
       "      <td>7</td>\n",
       "      <td>340</td>\n",
       "      <td>75</td>\n",
       "      <td>14</td>\n",
       "      <td>ultra</td>\n",
       "      <td>1000</td>\n",
       "      <td>30</td>\n",
       "      <td>3000</td>\n",
       "      <td>1950</td>\n",
       "      <td>150</td>\n",
       "      <td>1</td>\n",
       "      <td>1</td>\n",
       "    </tr>\n",
       "    <tr>\n",
       "      <th>3</th>\n",
       "      <td>1000</td>\n",
       "      <td>8</td>\n",
       "      <td>408</td>\n",
       "      <td>81</td>\n",
       "      <td>14</td>\n",
       "      <td>ultra</td>\n",
       "      <td>1000</td>\n",
       "      <td>30</td>\n",
       "      <td>3000</td>\n",
       "      <td>1950</td>\n",
       "      <td>150</td>\n",
       "      <td>1</td>\n",
       "      <td>1</td>\n",
       "    </tr>\n",
       "    <tr>\n",
       "      <th>4</th>\n",
       "      <td>1000</td>\n",
       "      <td>9</td>\n",
       "      <td>466</td>\n",
       "      <td>57</td>\n",
       "      <td>15</td>\n",
       "      <td>ultra</td>\n",
       "      <td>1000</td>\n",
       "      <td>30</td>\n",
       "      <td>3000</td>\n",
       "      <td>1950</td>\n",
       "      <td>150</td>\n",
       "      <td>1</td>\n",
       "      <td>1</td>\n",
       "    </tr>\n",
       "    <tr>\n",
       "      <th>5</th>\n",
       "      <td>1000</td>\n",
       "      <td>10</td>\n",
       "      <td>350</td>\n",
       "      <td>73</td>\n",
       "      <td>15</td>\n",
       "      <td>ultra</td>\n",
       "      <td>1000</td>\n",
       "      <td>30</td>\n",
       "      <td>3000</td>\n",
       "      <td>1950</td>\n",
       "      <td>150</td>\n",
       "      <td>1</td>\n",
       "      <td>1</td>\n",
       "    </tr>\n",
       "    <tr>\n",
       "      <th>6</th>\n",
       "      <td>1000</td>\n",
       "      <td>11</td>\n",
       "      <td>338</td>\n",
       "      <td>58</td>\n",
       "      <td>15</td>\n",
       "      <td>ultra</td>\n",
       "      <td>1000</td>\n",
       "      <td>30</td>\n",
       "      <td>3000</td>\n",
       "      <td>1950</td>\n",
       "      <td>150</td>\n",
       "      <td>1</td>\n",
       "      <td>1</td>\n",
       "    </tr>\n",
       "    <tr>\n",
       "      <th>7</th>\n",
       "      <td>1000</td>\n",
       "      <td>12</td>\n",
       "      <td>333</td>\n",
       "      <td>70</td>\n",
       "      <td>10</td>\n",
       "      <td>ultra</td>\n",
       "      <td>1000</td>\n",
       "      <td>30</td>\n",
       "      <td>3000</td>\n",
       "      <td>1950</td>\n",
       "      <td>150</td>\n",
       "      <td>1</td>\n",
       "      <td>1</td>\n",
       "    </tr>\n",
       "    <tr>\n",
       "      <th>8</th>\n",
       "      <td>1001</td>\n",
       "      <td>11</td>\n",
       "      <td>430</td>\n",
       "      <td>0</td>\n",
       "      <td>18</td>\n",
       "      <td>smart</td>\n",
       "      <td>50</td>\n",
       "      <td>15</td>\n",
       "      <td>500</td>\n",
       "      <td>550</td>\n",
       "      <td>200</td>\n",
       "      <td>3</td>\n",
       "      <td>3</td>\n",
       "    </tr>\n",
       "    <tr>\n",
       "      <th>9</th>\n",
       "      <td>1001</td>\n",
       "      <td>12</td>\n",
       "      <td>414</td>\n",
       "      <td>0</td>\n",
       "      <td>14</td>\n",
       "      <td>smart</td>\n",
       "      <td>50</td>\n",
       "      <td>15</td>\n",
       "      <td>500</td>\n",
       "      <td>550</td>\n",
       "      <td>200</td>\n",
       "      <td>3</td>\n",
       "      <td>3</td>\n",
       "    </tr>\n",
       "  </tbody>\n",
       "</table>\n",
       "</div>"
      ],
      "text/plain": [
       "   user_id  month  call_duration  message_count  gb_used tariff_name  \\\n",
       "0     1000      5            159             22        3       ultra   \n",
       "1     1000      6            172             60       23       ultra   \n",
       "2     1000      7            340             75       14       ultra   \n",
       "3     1000      8            408             81       14       ultra   \n",
       "4     1000      9            466             57       15       ultra   \n",
       "5     1000     10            350             73       15       ultra   \n",
       "6     1000     11            338             58       15       ultra   \n",
       "7     1000     12            333             70       10       ultra   \n",
       "8     1001     11            430              0       18       smart   \n",
       "9     1001     12            414              0       14       smart   \n",
       "\n",
       "   messages_included  gb_per_month_included  minutes_included  \\\n",
       "0               1000                     30              3000   \n",
       "1               1000                     30              3000   \n",
       "2               1000                     30              3000   \n",
       "3               1000                     30              3000   \n",
       "4               1000                     30              3000   \n",
       "5               1000                     30              3000   \n",
       "6               1000                     30              3000   \n",
       "7               1000                     30              3000   \n",
       "8                 50                     15               500   \n",
       "9                 50                     15               500   \n",
       "\n",
       "   rub_monthly_fee  rub_per_gb  rub_per_message  rub_per_minute  \n",
       "0             1950         150                1               1  \n",
       "1             1950         150                1               1  \n",
       "2             1950         150                1               1  \n",
       "3             1950         150                1               1  \n",
       "4             1950         150                1               1  \n",
       "5             1950         150                1               1  \n",
       "6             1950         150                1               1  \n",
       "7             1950         150                1               1  \n",
       "8              550         200                3               3  \n",
       "9              550         200                3               3  "
      ]
     },
     "execution_count": 48,
     "metadata": {},
     "output_type": "execute_result"
    }
   ],
   "source": [
    "user_data = user_data.merge(tariffs, on='tariff_name', how='left')\n",
    "user_data.head(10)"
   ]
  },
  {
   "cell_type": "markdown",
   "metadata": {},
   "source": [
    "Для вычисления помесячной выручки с каждого пользователя напишем функцию"
   ]
  },
  {
   "cell_type": "code",
   "execution_count": 49,
   "metadata": {
    "ExecuteTime": {
     "end_time": "2022-02-06T15:11:42.546081Z",
     "start_time": "2022-02-06T15:11:42.531122Z"
    }
   },
   "outputs": [],
   "source": [
    "def margin(row):\n",
    "    call = 'call_duration' \n",
    "    mes = 'message_count'\n",
    "    gb = 'gb_used'\n",
    "                                                    \n",
    "    x = row['rub_monthly_fee']\n",
    "    if row[call] > row['minutes_included']:\n",
    "        x = x + ((row[call] - row['minutes_included']) * row['rub_per_minute']) #рассчитываем стоимость для каждого параметра\n",
    "    if row[mes] > row['messages_included']:                                     #сверх лимита в тарифе\n",
    "        x = x + ((row[mes] - row['messages_included']) * row['rub_per_message'])\n",
    "    if row[gb] > row['gb_per_month_included']:\n",
    "        x = x + ((row[gb] - row['gb_per_month_included']) * (row['rub_per_gb']))\n",
    "    return x"
   ]
  },
  {
   "cell_type": "code",
   "execution_count": 50,
   "metadata": {
    "ExecuteTime": {
     "end_time": "2022-02-06T15:11:42.687702Z",
     "start_time": "2022-02-06T15:11:42.548076Z"
    }
   },
   "outputs": [
    {
     "data": {
      "text/html": [
       "<div>\n",
       "<style scoped>\n",
       "    .dataframe tbody tr th:only-of-type {\n",
       "        vertical-align: middle;\n",
       "    }\n",
       "\n",
       "    .dataframe tbody tr th {\n",
       "        vertical-align: top;\n",
       "    }\n",
       "\n",
       "    .dataframe thead th {\n",
       "        text-align: right;\n",
       "    }\n",
       "</style>\n",
       "<table border=\"1\" class=\"dataframe\">\n",
       "  <thead>\n",
       "    <tr style=\"text-align: right;\">\n",
       "      <th></th>\n",
       "      <th>user_id</th>\n",
       "      <th>month</th>\n",
       "      <th>call_duration</th>\n",
       "      <th>message_count</th>\n",
       "      <th>gb_used</th>\n",
       "      <th>tariff_name</th>\n",
       "      <th>income</th>\n",
       "    </tr>\n",
       "  </thead>\n",
       "  <tbody>\n",
       "    <tr>\n",
       "      <th>0</th>\n",
       "      <td>1000</td>\n",
       "      <td>5</td>\n",
       "      <td>159</td>\n",
       "      <td>22</td>\n",
       "      <td>3</td>\n",
       "      <td>ultra</td>\n",
       "      <td>1950</td>\n",
       "    </tr>\n",
       "    <tr>\n",
       "      <th>1</th>\n",
       "      <td>1000</td>\n",
       "      <td>6</td>\n",
       "      <td>172</td>\n",
       "      <td>60</td>\n",
       "      <td>23</td>\n",
       "      <td>ultra</td>\n",
       "      <td>1950</td>\n",
       "    </tr>\n",
       "    <tr>\n",
       "      <th>2</th>\n",
       "      <td>1000</td>\n",
       "      <td>7</td>\n",
       "      <td>340</td>\n",
       "      <td>75</td>\n",
       "      <td>14</td>\n",
       "      <td>ultra</td>\n",
       "      <td>1950</td>\n",
       "    </tr>\n",
       "    <tr>\n",
       "      <th>3</th>\n",
       "      <td>1000</td>\n",
       "      <td>8</td>\n",
       "      <td>408</td>\n",
       "      <td>81</td>\n",
       "      <td>14</td>\n",
       "      <td>ultra</td>\n",
       "      <td>1950</td>\n",
       "    </tr>\n",
       "    <tr>\n",
       "      <th>4</th>\n",
       "      <td>1000</td>\n",
       "      <td>9</td>\n",
       "      <td>466</td>\n",
       "      <td>57</td>\n",
       "      <td>15</td>\n",
       "      <td>ultra</td>\n",
       "      <td>1950</td>\n",
       "    </tr>\n",
       "    <tr>\n",
       "      <th>5</th>\n",
       "      <td>1000</td>\n",
       "      <td>10</td>\n",
       "      <td>350</td>\n",
       "      <td>73</td>\n",
       "      <td>15</td>\n",
       "      <td>ultra</td>\n",
       "      <td>1950</td>\n",
       "    </tr>\n",
       "    <tr>\n",
       "      <th>6</th>\n",
       "      <td>1000</td>\n",
       "      <td>11</td>\n",
       "      <td>338</td>\n",
       "      <td>58</td>\n",
       "      <td>15</td>\n",
       "      <td>ultra</td>\n",
       "      <td>1950</td>\n",
       "    </tr>\n",
       "    <tr>\n",
       "      <th>7</th>\n",
       "      <td>1000</td>\n",
       "      <td>12</td>\n",
       "      <td>333</td>\n",
       "      <td>70</td>\n",
       "      <td>10</td>\n",
       "      <td>ultra</td>\n",
       "      <td>1950</td>\n",
       "    </tr>\n",
       "    <tr>\n",
       "      <th>8</th>\n",
       "      <td>1001</td>\n",
       "      <td>11</td>\n",
       "      <td>430</td>\n",
       "      <td>0</td>\n",
       "      <td>18</td>\n",
       "      <td>smart</td>\n",
       "      <td>1150</td>\n",
       "    </tr>\n",
       "    <tr>\n",
       "      <th>9</th>\n",
       "      <td>1001</td>\n",
       "      <td>12</td>\n",
       "      <td>414</td>\n",
       "      <td>0</td>\n",
       "      <td>14</td>\n",
       "      <td>smart</td>\n",
       "      <td>550</td>\n",
       "    </tr>\n",
       "  </tbody>\n",
       "</table>\n",
       "</div>"
      ],
      "text/plain": [
       "   user_id  month  call_duration  message_count  gb_used tariff_name  income\n",
       "0     1000      5            159             22        3       ultra    1950\n",
       "1     1000      6            172             60       23       ultra    1950\n",
       "2     1000      7            340             75       14       ultra    1950\n",
       "3     1000      8            408             81       14       ultra    1950\n",
       "4     1000      9            466             57       15       ultra    1950\n",
       "5     1000     10            350             73       15       ultra    1950\n",
       "6     1000     11            338             58       15       ultra    1950\n",
       "7     1000     12            333             70       10       ultra    1950\n",
       "8     1001     11            430              0       18       smart    1150\n",
       "9     1001     12            414              0       14       smart     550"
      ]
     },
     "execution_count": 50,
     "metadata": {},
     "output_type": "execute_result"
    }
   ],
   "source": [
    "list = tariffs.columns.to_list() #Создаем лист из столбцов, которые мы удалим из таблицы после применения функции\n",
    "list.remove('tariff_name')\n",
    "user_data['income'] = user_data.apply(margin, axis = 1)\n",
    "user_data = user_data.drop(list, axis=1)\n",
    "user_data.head(10)"
   ]
  },
  {
   "cell_type": "markdown",
   "metadata": {},
   "source": [
    "## Анализ данных"
   ]
  },
  {
   "cell_type": "markdown",
   "metadata": {},
   "source": [
    "### Анализ "
   ]
  },
  {
   "cell_type": "markdown",
   "metadata": {},
   "source": [
    "Необходимо описать поведение клиентов компании, посчитать, сколько минут разговора, сколько сообщений и какой объём интернет-трафика требуется пользователям каждого тарифа в месяц.  \n",
    "Для этого воспользуемся сводными таблицами по интересующим значениям, по которым построим графики и высчитаем нужные статистические показатели "
   ]
  },
  {
   "cell_type": "code",
   "execution_count": 51,
   "metadata": {
    "ExecuteTime": {
     "end_time": "2022-02-06T15:11:42.702690Z",
     "start_time": "2022-02-06T15:11:42.689698Z"
    }
   },
   "outputs": [
    {
     "data": {
      "text/plain": [
       "smart    0.693528\n",
       "ultra    0.306472\n",
       "Name: tariff_name, dtype: float64"
      ]
     },
     "execution_count": 51,
     "metadata": {},
     "output_type": "execute_result"
    }
   ],
   "source": [
    "user_data['tariff_name'].value_counts(normalize = True)"
   ]
  },
  {
   "cell_type": "markdown",
   "metadata": {},
   "source": [
    "Первое, что мы можем узнать - в нашей выборке в основном преобладают пользователи более дешевого тарифа **Smart**   \n",
    "\n",
    "Для удобства работы создадим листы из названий столбцов"
   ]
  },
  {
   "cell_type": "code",
   "execution_count": 52,
   "metadata": {
    "ExecuteTime": {
     "end_time": "2022-02-06T15:11:43.005411Z",
     "start_time": "2022-02-06T15:11:42.704658Z"
    }
   },
   "outputs": [
    {
     "data": {
      "image/png": "[encoded data removed]",
      "text/plain": [
       "<Figure size 720x648 with 1 Axes>"
      ]
     },
     "metadata": {
      "needs_background": "light"
     },
     "output_type": "display_data"
    }
   ],
   "source": [
    "user_data.pivot_table(index = 'tariff_name', values = 'call_duration', columns = 'month', aggfunc = 'mean').plot(\n",
    "    kind = 'bar', \n",
    "    figsize = (10,9), \n",
    "    grid = True\n",
    ")\n",
    "plt.xlabel('Тариф')\n",
    "plt.ylabel('Среднее количество минут')\n",
    "plt.legend(title = 'Месяц')\n",
    "plt.title('Объем израсходованных минут')\n",
    "plt.show()"
   ]
  },
  {
   "cell_type": "code",
   "execution_count": 53,
   "metadata": {
    "ExecuteTime": {
     "end_time": "2022-02-06T15:11:43.306069Z",
     "start_time": "2022-02-06T15:11:43.007405Z"
    }
   },
   "outputs": [
    {
     "data": {
      "image/png": "[encoded data removed]",
      "text/plain": [
       "<Figure size 648x864 with 2 Axes>"
      ]
     },
     "metadata": {
      "needs_background": "light"
     },
     "output_type": "display_data"
    }
   ],
   "source": [
    "x = user_data[user_data.tariff_name == 'ultra']['call_duration']\n",
    "plt.figure(figsize=(9, 12))\n",
    "plt.subplot(2,1,1)\n",
    "plt.grid()\n",
    "plt.hist(x, bins=50)\n",
    "plt.title('\"Ультра\"')\n",
    "plt.subplot(2,1,2)\n",
    "plt.boxplot(x, vert=False)\n",
    "plt.show()"
   ]
  },
  {
   "cell_type": "code",
   "execution_count": 54,
   "metadata": {
    "ExecuteTime": {
     "end_time": "2022-02-06T15:11:43.572875Z",
     "start_time": "2022-02-06T15:11:43.308064Z"
    }
   },
   "outputs": [
    {
     "data": {
      "image/png": "[encoded data removed]",
      "text/plain": [
       "<Figure size 648x864 with 2 Axes>"
      ]
     },
     "metadata": {
      "needs_background": "light"
     },
     "output_type": "display_data"
    }
   ],
   "source": [
    "x = user_data[user_data.tariff_name == 'smart']['call_duration']\n",
    "plt.figure(figsize=(9, 12))\n",
    "plt.subplot(2,1,1)\n",
    "plt.grid()\n",
    "plt.hist(x, bins=50)\n",
    "plt.title('\"Смарт\"')\n",
    "plt.subplot(2,1,2)\n",
    "plt.boxplot(x, vert=False)\n",
    "plt.show()"
   ]
  },
  {
   "cell_type": "markdown",
   "metadata": {},
   "source": [
    "Оба распределения стремятся к нормальному, распределение по тарифу \"Ультра\" более шумное из-за меньшего количества данных. Тариф \"Ультра\" скошен вправо, что указывает на больший разброс значений  \n",
    "Рассчитаем медиану, среднее, СКО"
   ]
  },
  {
   "cell_type": "code",
   "execution_count": 55,
   "metadata": {
    "ExecuteTime": {
     "end_time": "2022-02-06T15:11:43.618742Z",
     "start_time": "2022-02-06T15:11:43.574860Z"
    }
   },
   "outputs": [
    {
     "data": {
      "text/html": [
       "<div>\n",
       "<style scoped>\n",
       "    .dataframe tbody tr th:only-of-type {\n",
       "        vertical-align: middle;\n",
       "    }\n",
       "\n",
       "    .dataframe tbody tr th {\n",
       "        vertical-align: top;\n",
       "    }\n",
       "\n",
       "    .dataframe thead tr th {\n",
       "        text-align: left;\n",
       "    }\n",
       "\n",
       "    .dataframe thead tr:last-of-type th {\n",
       "        text-align: right;\n",
       "    }\n",
       "</style>\n",
       "<table border=\"1\" class=\"dataframe\">\n",
       "  <thead>\n",
       "    <tr>\n",
       "      <th></th>\n",
       "      <th>median</th>\n",
       "      <th>mean</th>\n",
       "      <th>var</th>\n",
       "      <th>std</th>\n",
       "    </tr>\n",
       "    <tr>\n",
       "      <th></th>\n",
       "      <th>call_duration</th>\n",
       "      <th>call_duration</th>\n",
       "      <th>call_duration</th>\n",
       "      <th>call_duration</th>\n",
       "    </tr>\n",
       "    <tr>\n",
       "      <th>tariff_name</th>\n",
       "      <th></th>\n",
       "      <th></th>\n",
       "      <th></th>\n",
       "      <th></th>\n",
       "    </tr>\n",
       "  </thead>\n",
       "  <tbody>\n",
       "    <tr>\n",
       "      <th>smart</th>\n",
       "      <td>422</td>\n",
       "      <td>417.934948</td>\n",
       "      <td>36219.315784</td>\n",
       "      <td>190.313730</td>\n",
       "    </tr>\n",
       "    <tr>\n",
       "      <th>ultra</th>\n",
       "      <td>518</td>\n",
       "      <td>526.623350</td>\n",
       "      <td>100873.633397</td>\n",
       "      <td>317.606098</td>\n",
       "    </tr>\n",
       "  </tbody>\n",
       "</table>\n",
       "</div>"
      ],
      "text/plain": [
       "                   median          mean            var           std\n",
       "            call_duration call_duration  call_duration call_duration\n",
       "tariff_name                                                         \n",
       "smart                 422    417.934948   36219.315784    190.313730\n",
       "ultra                 518    526.623350  100873.633397    317.606098"
      ]
     },
     "execution_count": 55,
     "metadata": {},
     "output_type": "execute_result"
    }
   ],
   "source": [
    "user_data.pivot_table(index='tariff_name', values='call_duration', aggfunc=['median', 'mean', 'var', 'std'])"
   ]
  },
  {
   "cell_type": "markdown",
   "metadata": {},
   "source": [
    "В среднем пользователи тарифа \"Ультра\" тратят больше минут, нежели пользователи тарифа \"Смарт\". При этом, как мы увидели на гистограмме, у тарифа \"Ультра\" действительно больше дисперсия и стандартное отклонение.  \n",
    "Важно обратить внимание на тот факт, что пользователи тарифа \"Смарт\" практически полностью тратят свой месячный лимит на минуты"
   ]
  },
  {
   "cell_type": "code",
   "execution_count": 56,
   "metadata": {
    "ExecuteTime": {
     "end_time": "2022-02-06T15:11:43.858101Z",
     "start_time": "2022-02-06T15:11:43.620736Z"
    }
   },
   "outputs": [
    {
     "data": {
      "image/png": "[encoded data removed]",
      "text/plain": [
       "<Figure size 720x648 with 1 Axes>"
      ]
     },
     "metadata": {
      "needs_background": "light"
     },
     "output_type": "display_data"
    }
   ],
   "source": [
    "user_data.pivot_table(index = 'tariff_name', values = 'message_count', columns = 'month', aggfunc = 'mean').plot(\n",
    "    kind = 'bar', \n",
    "    figsize = (10,9), \n",
    "    grid = True\n",
    ")\n",
    "plt.xlabel('Тариф')\n",
    "plt.ylabel('Среднее количество сообщений')\n",
    "plt.legend(title='Месяц')\n",
    "plt.title('Объем израсходованных сообщений')\n",
    "plt.show()"
   ]
  },
  {
   "cell_type": "code",
   "execution_count": 57,
   "metadata": {
    "ExecuteTime": {
     "end_time": "2022-02-06T15:11:44.064555Z",
     "start_time": "2022-02-06T15:11:43.859098Z"
    }
   },
   "outputs": [
    {
     "data": {
      "image/png": "[encoded data removed]",
      "text/plain": [
       "<Figure size 648x864 with 2 Axes>"
      ]
     },
     "metadata": {
      "needs_background": "light"
     },
     "output_type": "display_data"
    }
   ],
   "source": [
    "x = user_data[user_data.tariff_name == 'ultra']['message_count']\n",
    "plt.figure(figsize=(9, 12))\n",
    "plt.subplot(2,1,1)\n",
    "plt.grid()\n",
    "plt.hist(x, bins=20)\n",
    "plt.title('\"Ультра\"')\n",
    "plt.subplot(2,1,2)\n",
    "plt.boxplot(x, vert=False)\n",
    "plt.show()"
   ]
  },
  {
   "cell_type": "code",
   "execution_count": 58,
   "metadata": {
    "ExecuteTime": {
     "end_time": "2022-02-06T15:11:44.286954Z",
     "start_time": "2022-02-06T15:11:44.066545Z"
    }
   },
   "outputs": [
    {
     "data": {
      "image/png": "[encoded data removed]",
      "text/plain": [
       "<Figure size 648x864 with 2 Axes>"
      ]
     },
     "metadata": {
      "needs_background": "light"
     },
     "output_type": "display_data"
    }
   ],
   "source": [
    "x = user_data[user_data.tariff_name == 'smart']['message_count']\n",
    "plt.figure(figsize=(9, 12))\n",
    "plt.subplot(2,1,1)\n",
    "plt.grid()\n",
    "plt.hist(x, bins=20)\n",
    "plt.title('\"Смарт\"')\n",
    "plt.subplot(2,1,2)\n",
    "plt.boxplot(x, vert=False)\n",
    "plt.show()"
   ]
  },
  {
   "cell_type": "markdown",
   "metadata": {},
   "source": [
    "Самые частые значения у обоих тарифов - нули. Вероятно из-за того, что эпоха смс сообщений проходит, и все больше людей пользуются мессенджерами. В остальном распределения также стремятся к нормальным, разброс значений по тарифу \"Ультра\" будет выше"
   ]
  },
  {
   "cell_type": "code",
   "execution_count": 59,
   "metadata": {
    "ExecuteTime": {
     "end_time": "2022-02-06T15:11:44.334858Z",
     "start_time": "2022-02-06T15:11:44.288948Z"
    }
   },
   "outputs": [
    {
     "data": {
      "text/html": [
       "<div>\n",
       "<style scoped>\n",
       "    .dataframe tbody tr th:only-of-type {\n",
       "        vertical-align: middle;\n",
       "    }\n",
       "\n",
       "    .dataframe tbody tr th {\n",
       "        vertical-align: top;\n",
       "    }\n",
       "\n",
       "    .dataframe thead tr th {\n",
       "        text-align: left;\n",
       "    }\n",
       "\n",
       "    .dataframe thead tr:last-of-type th {\n",
       "        text-align: right;\n",
       "    }\n",
       "</style>\n",
       "<table border=\"1\" class=\"dataframe\">\n",
       "  <thead>\n",
       "    <tr>\n",
       "      <th></th>\n",
       "      <th>median</th>\n",
       "      <th>mean</th>\n",
       "      <th>var</th>\n",
       "      <th>std</th>\n",
       "    </tr>\n",
       "    <tr>\n",
       "      <th></th>\n",
       "      <th>message_count</th>\n",
       "      <th>message_count</th>\n",
       "      <th>message_count</th>\n",
       "      <th>message_count</th>\n",
       "    </tr>\n",
       "    <tr>\n",
       "      <th>tariff_name</th>\n",
       "      <th></th>\n",
       "      <th></th>\n",
       "      <th></th>\n",
       "      <th></th>\n",
       "    </tr>\n",
       "  </thead>\n",
       "  <tbody>\n",
       "    <tr>\n",
       "      <th>smart</th>\n",
       "      <td>28</td>\n",
       "      <td>33.384029</td>\n",
       "      <td>796.812958</td>\n",
       "      <td>28.227876</td>\n",
       "    </tr>\n",
       "    <tr>\n",
       "      <th>ultra</th>\n",
       "      <td>38</td>\n",
       "      <td>49.363452</td>\n",
       "      <td>2285.266143</td>\n",
       "      <td>47.804457</td>\n",
       "    </tr>\n",
       "  </tbody>\n",
       "</table>\n",
       "</div>"
      ],
      "text/plain": [
       "                   median          mean           var           std\n",
       "            message_count message_count message_count message_count\n",
       "tariff_name                                                        \n",
       "smart                  28     33.384029    796.812958     28.227876\n",
       "ultra                  38     49.363452   2285.266143     47.804457"
      ]
     },
     "execution_count": 59,
     "metadata": {},
     "output_type": "execute_result"
    }
   ],
   "source": [
    "user_data.pivot_table(index='tariff_name', values='message_count', aggfunc=['median', 'mean', 'var', 'std'])"
   ]
  },
  {
   "cell_type": "markdown",
   "metadata": {},
   "source": [
    "Пользователи тарифа \"Ультра\" шлют больше сообщений. Действительно, дисперсия и СКО по этому тарифу выше, нежели у тарифа \"Смарт\""
   ]
  },
  {
   "cell_type": "code",
   "execution_count": 60,
   "metadata": {
    "ExecuteTime": {
     "end_time": "2022-02-06T15:11:44.572109Z",
     "start_time": "2022-02-06T15:11:44.335823Z"
    }
   },
   "outputs": [
    {
     "data": {
      "image/png": "[encoded data removed]",
      "text/plain": [
       "<Figure size 720x648 with 1 Axes>"
      ]
     },
     "metadata": {
      "needs_background": "light"
     },
     "output_type": "display_data"
    }
   ],
   "source": [
    "user_data.pivot_table(index = 'tariff_name', values = 'gb_used', columns = 'month', aggfunc = 'mean').plot(\n",
    "    kind = 'bar', \n",
    "    figsize = (10,9), \n",
    "    grid = True\n",
    ")\n",
    "plt.xlabel('Тариф')\n",
    "plt.ylabel('Среднее количество гигабайт')\n",
    "plt.legend(title='Месяц')\n",
    "plt.title('Объем израсходованного интернет-трафика')\n",
    "plt.show()"
   ]
  },
  {
   "cell_type": "code",
   "execution_count": 61,
   "metadata": {
    "ExecuteTime": {
     "end_time": "2022-02-06T15:11:44.855886Z",
     "start_time": "2022-02-06T15:11:44.574070Z"
    }
   },
   "outputs": [
    {
     "data": {
      "image/png": "[encoded data removed]",
      "text/plain": [
       "<Figure size 648x864 with 2 Axes>"
      ]
     },
     "metadata": {
      "needs_background": "light"
     },
     "output_type": "display_data"
    }
   ],
   "source": [
    "x = user_data[user_data.tariff_name == 'ultra']['gb_used']\n",
    "plt.figure(figsize=(9, 12))\n",
    "plt.subplot(2,1,1)\n",
    "plt.grid()\n",
    "plt.hist(x, bins=25)\n",
    "plt.title('\"Ультра\"')\n",
    "plt.subplot(2,1,2)\n",
    "plt.boxplot(x, vert=False)\n",
    "plt.show()"
   ]
  },
  {
   "cell_type": "code",
   "execution_count": 62,
   "metadata": {
    "ExecuteTime": {
     "end_time": "2022-02-06T15:11:45.093224Z",
     "start_time": "2022-02-06T15:11:44.857853Z"
    }
   },
   "outputs": [
    {
     "data": {
      "image/png": "[encoded data removed]",
      "text/plain": [
       "<Figure size 648x864 with 2 Axes>"
      ]
     },
     "metadata": {
      "needs_background": "light"
     },
     "output_type": "display_data"
    }
   ],
   "source": [
    "x = user_data[user_data.tariff_name == 'smart']['gb_used']\n",
    "plt.figure(figsize=(9, 12))\n",
    "plt.subplot(2,1,1)\n",
    "plt.grid()\n",
    "plt.hist(x, bins=20)\n",
    "plt.title('\"Смарт\"')\n",
    "plt.subplot(2,1,2)\n",
    "plt.boxplot(x, vert=False)\n",
    "plt.show()"
   ]
  },
  {
   "cell_type": "code",
   "execution_count": 63,
   "metadata": {
    "ExecuteTime": {
     "end_time": "2022-02-06T15:11:45.141095Z",
     "start_time": "2022-02-06T15:11:45.095218Z"
    }
   },
   "outputs": [
    {
     "data": {
      "text/html": [
       "<div>\n",
       "<style scoped>\n",
       "    .dataframe tbody tr th:only-of-type {\n",
       "        vertical-align: middle;\n",
       "    }\n",
       "\n",
       "    .dataframe tbody tr th {\n",
       "        vertical-align: top;\n",
       "    }\n",
       "\n",
       "    .dataframe thead tr th {\n",
       "        text-align: left;\n",
       "    }\n",
       "\n",
       "    .dataframe thead tr:last-of-type th {\n",
       "        text-align: right;\n",
       "    }\n",
       "</style>\n",
       "<table border=\"1\" class=\"dataframe\">\n",
       "  <thead>\n",
       "    <tr>\n",
       "      <th></th>\n",
       "      <th>median</th>\n",
       "      <th>mean</th>\n",
       "      <th>var</th>\n",
       "      <th>std</th>\n",
       "    </tr>\n",
       "    <tr>\n",
       "      <th></th>\n",
       "      <th>gb_used</th>\n",
       "      <th>gb_used</th>\n",
       "      <th>gb_used</th>\n",
       "      <th>gb_used</th>\n",
       "    </tr>\n",
       "    <tr>\n",
       "      <th>tariff_name</th>\n",
       "      <th></th>\n",
       "      <th></th>\n",
       "      <th></th>\n",
       "      <th></th>\n",
       "    </tr>\n",
       "  </thead>\n",
       "  <tbody>\n",
       "    <tr>\n",
       "      <th>smart</th>\n",
       "      <td>17</td>\n",
       "      <td>16.328847</td>\n",
       "      <td>33.028705</td>\n",
       "      <td>5.747061</td>\n",
       "    </tr>\n",
       "    <tr>\n",
       "      <th>ultra</th>\n",
       "      <td>19</td>\n",
       "      <td>19.494416</td>\n",
       "      <td>97.091686</td>\n",
       "      <td>9.853511</td>\n",
       "    </tr>\n",
       "  </tbody>\n",
       "</table>\n",
       "</div>"
      ],
      "text/plain": [
       "             median       mean        var       std\n",
       "            gb_used    gb_used    gb_used   gb_used\n",
       "tariff_name                                        \n",
       "smart            17  16.328847  33.028705  5.747061\n",
       "ultra            19  19.494416  97.091686  9.853511"
      ]
     },
     "execution_count": 63,
     "metadata": {},
     "output_type": "execute_result"
    }
   ],
   "source": [
    "user_data.pivot_table(index='tariff_name', values='gb_used', aggfunc=['median', 'mean', 'var', 'std'])"
   ]
  },
  {
   "cell_type": "markdown",
   "metadata": {},
   "source": [
    "Интернет-трафик пользователи обоих тарифов тратят примерно одинаково. Разброс значений все так же больше у тарифа \"Ультра\".  \n",
    "Важно отметить, что в среднем каждый пользователь тарифа \"Смарт\" выходит за рамки лимита по количеству гигабайт в месяц, за счет чего и идет выгода компании с данного тарифа"
   ]
  },
  {
   "cell_type": "markdown",
   "metadata": {},
   "source": [
    "### Выводы"
   ]
  },
  {
   "cell_type": "markdown",
   "metadata": {},
   "source": [
    "По результатам проведенного исследовательского анализа можно утверждать, что пользователи тарифа \"Ультра\" в среднем тратят больше минут, сообщений и интернет-трафика. Кроме того мы обнаружили, что пользователи обоих тарифов шлют мало сообщений.  \n",
    "Несмотря на подавляющее количество клиентов с тарифом \"Смарт\" (приблизительно 7 из 10 клиентов), в среднем каждый из них выходит за рамки тарифного плана по количеству гигабайт в месяц."
   ]
  },
  {
   "cell_type": "markdown",
   "metadata": {},
   "source": [
    "## Проверка гипотез"
   ]
  },
  {
   "cell_type": "markdown",
   "metadata": {},
   "source": [
    "В этой части работы мы проверим две гипотезы, указанные в задании"
   ]
  },
  {
   "cell_type": "markdown",
   "metadata": {},
   "source": [
    "**Гипотеза №1** - средние выручки пользователей тарифов «Ультра» и «Смарт» различаются"
   ]
  },
  {
   "cell_type": "markdown",
   "metadata": {},
   "source": [
    "**Нулевая гипотеза** - средние выручки пользователей тарифов «Ультра» и «Смарт» **равны**  \n",
    "**Альтернативная гипотеза** - средние выручки пользователей тарифов «Ультра» и «Смарт» **различаются**"
   ]
  },
  {
   "cell_type": "markdown",
   "metadata": {},
   "source": [
    "Для этого создадим два массива данных - в один мы включим все значения столбца `income` для тарифа **Smart**, в другую соответственно - значения тарифа **Ultra**  \n",
    "Уровень значимости примем равным **5%**"
   ]
  },
  {
   "cell_type": "code",
   "execution_count": 64,
   "metadata": {
    "ExecuteTime": {
     "end_time": "2022-02-06T15:11:45.173010Z",
     "start_time": "2022-02-06T15:11:45.143103Z"
    }
   },
   "outputs": [
    {
     "name": "stdout",
     "output_type": "stream",
     "text": [
      "p-значение: 4.2606313931076085e-250\n",
      "Отвергаем нулевую гипотезу\n"
     ]
    }
   ],
   "source": [
    "smart_income = user_data.query('tariff_name == \"smart\"')['income']\n",
    "ultra_income = user_data.query('tariff_name == \"ultra\"')['income']\n",
    "\n",
    "alpha = 0.05\n",
    "\n",
    "results = st.ttest_ind(ultra_income, smart_income, equal_var = False)\n",
    "\n",
    "print('p-значение:', results.pvalue)\n",
    "\n",
    "if (results.pvalue < alpha):\n",
    "    print('Отвергаем нулевую гипотезу')\n",
    "else:\n",
    "    print('Не получилось отвергнуть нулевую гипотезу')"
   ]
  },
  {
   "cell_type": "code",
   "execution_count": 65,
   "metadata": {
    "ExecuteTime": {
     "end_time": "2022-02-06T15:11:45.203929Z",
     "start_time": "2022-02-06T15:11:45.176003Z"
    }
   },
   "outputs": [
    {
     "data": {
      "text/html": [
       "<div>\n",
       "<style scoped>\n",
       "    .dataframe tbody tr th:only-of-type {\n",
       "        vertical-align: middle;\n",
       "    }\n",
       "\n",
       "    .dataframe tbody tr th {\n",
       "        vertical-align: top;\n",
       "    }\n",
       "\n",
       "    .dataframe thead th {\n",
       "        text-align: right;\n",
       "    }\n",
       "</style>\n",
       "<table border=\"1\" class=\"dataframe\">\n",
       "  <thead>\n",
       "    <tr style=\"text-align: right;\">\n",
       "      <th></th>\n",
       "      <th>income</th>\n",
       "    </tr>\n",
       "    <tr>\n",
       "      <th>tariff_name</th>\n",
       "      <th></th>\n",
       "    </tr>\n",
       "  </thead>\n",
       "  <tbody>\n",
       "    <tr>\n",
       "      <th>smart</th>\n",
       "      <td>1289.973531</td>\n",
       "    </tr>\n",
       "    <tr>\n",
       "      <th>ultra</th>\n",
       "      <td>2070.152284</td>\n",
       "    </tr>\n",
       "  </tbody>\n",
       "</table>\n",
       "</div>"
      ],
      "text/plain": [
       "                  income\n",
       "tariff_name             \n",
       "smart        1289.973531\n",
       "ultra        2070.152284"
      ]
     },
     "execution_count": 65,
     "metadata": {},
     "output_type": "execute_result"
    }
   ],
   "source": [
    "user_data.pivot_table(index='tariff_name', values='income', aggfunc='mean')"
   ]
  },
  {
   "cell_type": "markdown",
   "metadata": {},
   "source": [
    "Средние значения выручки отличаются почти в два раза. При этом средняя выручка с клиента тарифа **Ultra** немногим больше ежемесячной платы, в то время как средняя выручка с клиента тарифа **Смарт** в два раза больше ежемесячной платы. Из-за нехватки услуг в рамках тарифа, пользователь тарифа **Smart** скорее всего заплатит больше, чем простая абонентская плата"
   ]
  },
  {
   "cell_type": "markdown",
   "metadata": {},
   "source": [
    "**Гипотеза №2** - средняя выручка пользователей из Москвы отличается от выручки пользователей из других регионов."
   ]
  },
  {
   "cell_type": "markdown",
   "metadata": {},
   "source": [
    "**Нулевая гипотеза** - средняя выручка пользователей из Москвы равна выручке пользователей из других регионов  \n",
    "**Альтернативная гипотеза** - средняя выручка пользователей из Москвы отличается от выручки пользователей из других регионов "
   ]
  },
  {
   "cell_type": "markdown",
   "metadata": {},
   "source": [
    "Для начала добавим в нашу сводную таблицу города пользователей из таблицы `users`"
   ]
  },
  {
   "cell_type": "code",
   "execution_count": 66,
   "metadata": {
    "ExecuteTime": {
     "end_time": "2022-02-06T15:11:45.234845Z",
     "start_time": "2022-02-06T15:11:45.205922Z"
    }
   },
   "outputs": [
    {
     "data": {
      "text/html": [
       "<div>\n",
       "<style scoped>\n",
       "    .dataframe tbody tr th:only-of-type {\n",
       "        vertical-align: middle;\n",
       "    }\n",
       "\n",
       "    .dataframe tbody tr th {\n",
       "        vertical-align: top;\n",
       "    }\n",
       "\n",
       "    .dataframe thead th {\n",
       "        text-align: right;\n",
       "    }\n",
       "</style>\n",
       "<table border=\"1\" class=\"dataframe\">\n",
       "  <thead>\n",
       "    <tr style=\"text-align: right;\">\n",
       "      <th></th>\n",
       "      <th>user_id</th>\n",
       "      <th>month</th>\n",
       "      <th>call_duration</th>\n",
       "      <th>message_count</th>\n",
       "      <th>gb_used</th>\n",
       "      <th>tariff_name</th>\n",
       "      <th>income</th>\n",
       "      <th>city</th>\n",
       "    </tr>\n",
       "  </thead>\n",
       "  <tbody>\n",
       "    <tr>\n",
       "      <th>0</th>\n",
       "      <td>1000</td>\n",
       "      <td>5</td>\n",
       "      <td>159</td>\n",
       "      <td>22</td>\n",
       "      <td>3</td>\n",
       "      <td>ultra</td>\n",
       "      <td>1950</td>\n",
       "      <td>Краснодар</td>\n",
       "    </tr>\n",
       "    <tr>\n",
       "      <th>1</th>\n",
       "      <td>1000</td>\n",
       "      <td>6</td>\n",
       "      <td>172</td>\n",
       "      <td>60</td>\n",
       "      <td>23</td>\n",
       "      <td>ultra</td>\n",
       "      <td>1950</td>\n",
       "      <td>Краснодар</td>\n",
       "    </tr>\n",
       "    <tr>\n",
       "      <th>2</th>\n",
       "      <td>1000</td>\n",
       "      <td>7</td>\n",
       "      <td>340</td>\n",
       "      <td>75</td>\n",
       "      <td>14</td>\n",
       "      <td>ultra</td>\n",
       "      <td>1950</td>\n",
       "      <td>Краснодар</td>\n",
       "    </tr>\n",
       "    <tr>\n",
       "      <th>3</th>\n",
       "      <td>1000</td>\n",
       "      <td>8</td>\n",
       "      <td>408</td>\n",
       "      <td>81</td>\n",
       "      <td>14</td>\n",
       "      <td>ultra</td>\n",
       "      <td>1950</td>\n",
       "      <td>Краснодар</td>\n",
       "    </tr>\n",
       "    <tr>\n",
       "      <th>4</th>\n",
       "      <td>1000</td>\n",
       "      <td>9</td>\n",
       "      <td>466</td>\n",
       "      <td>57</td>\n",
       "      <td>15</td>\n",
       "      <td>ultra</td>\n",
       "      <td>1950</td>\n",
       "      <td>Краснодар</td>\n",
       "    </tr>\n",
       "    <tr>\n",
       "      <th>5</th>\n",
       "      <td>1000</td>\n",
       "      <td>10</td>\n",
       "      <td>350</td>\n",
       "      <td>73</td>\n",
       "      <td>15</td>\n",
       "      <td>ultra</td>\n",
       "      <td>1950</td>\n",
       "      <td>Краснодар</td>\n",
       "    </tr>\n",
       "    <tr>\n",
       "      <th>6</th>\n",
       "      <td>1000</td>\n",
       "      <td>11</td>\n",
       "      <td>338</td>\n",
       "      <td>58</td>\n",
       "      <td>15</td>\n",
       "      <td>ultra</td>\n",
       "      <td>1950</td>\n",
       "      <td>Краснодар</td>\n",
       "    </tr>\n",
       "    <tr>\n",
       "      <th>7</th>\n",
       "      <td>1000</td>\n",
       "      <td>12</td>\n",
       "      <td>333</td>\n",
       "      <td>70</td>\n",
       "      <td>10</td>\n",
       "      <td>ultra</td>\n",
       "      <td>1950</td>\n",
       "      <td>Краснодар</td>\n",
       "    </tr>\n",
       "    <tr>\n",
       "      <th>8</th>\n",
       "      <td>1001</td>\n",
       "      <td>11</td>\n",
       "      <td>430</td>\n",
       "      <td>0</td>\n",
       "      <td>18</td>\n",
       "      <td>smart</td>\n",
       "      <td>1150</td>\n",
       "      <td>Москва</td>\n",
       "    </tr>\n",
       "    <tr>\n",
       "      <th>9</th>\n",
       "      <td>1001</td>\n",
       "      <td>12</td>\n",
       "      <td>414</td>\n",
       "      <td>0</td>\n",
       "      <td>14</td>\n",
       "      <td>smart</td>\n",
       "      <td>550</td>\n",
       "      <td>Москва</td>\n",
       "    </tr>\n",
       "  </tbody>\n",
       "</table>\n",
       "</div>"
      ],
      "text/plain": [
       "   user_id  month  call_duration  message_count  gb_used tariff_name  income  \\\n",
       "0     1000      5            159             22        3       ultra    1950   \n",
       "1     1000      6            172             60       23       ultra    1950   \n",
       "2     1000      7            340             75       14       ultra    1950   \n",
       "3     1000      8            408             81       14       ultra    1950   \n",
       "4     1000      9            466             57       15       ultra    1950   \n",
       "5     1000     10            350             73       15       ultra    1950   \n",
       "6     1000     11            338             58       15       ultra    1950   \n",
       "7     1000     12            333             70       10       ultra    1950   \n",
       "8     1001     11            430              0       18       smart    1150   \n",
       "9     1001     12            414              0       14       smart     550   \n",
       "\n",
       "        city  \n",
       "0  Краснодар  \n",
       "1  Краснодар  \n",
       "2  Краснодар  \n",
       "3  Краснодар  \n",
       "4  Краснодар  \n",
       "5  Краснодар  \n",
       "6  Краснодар  \n",
       "7  Краснодар  \n",
       "8     Москва  \n",
       "9     Москва  "
      ]
     },
     "execution_count": 66,
     "metadata": {},
     "output_type": "execute_result"
    }
   ],
   "source": [
    "user_data = user_data.merge(users[['user_id', 'city']], on = 'user_id', how='left')\n",
    "user_data.head(10)"
   ]
  },
  {
   "cell_type": "code",
   "execution_count": 67,
   "metadata": {
    "ExecuteTime": {
     "end_time": "2022-02-06T15:11:45.250802Z",
     "start_time": "2022-02-06T15:11:45.236840Z"
    }
   },
   "outputs": [
    {
     "name": "stdout",
     "output_type": "stream",
     "text": [
      "p-значение: 0.5257376663729298\n",
      "Не получилось отвергнуть нулевую гипотезу\n"
     ]
    }
   ],
   "source": [
    "moscow = user_data.query('city == \"Москва\"')['income']\n",
    "region = user_data.query('city != \"Москва\"')['income']\n",
    "\n",
    "alpha = 0.05\n",
    "\n",
    "results = st.ttest_ind(moscow, region, equal_var = False)\n",
    "\n",
    "results.pvalue\n",
    "\n",
    "print('p-значение:', results.pvalue)\n",
    "\n",
    "if (results.pvalue < alpha):\n",
    "    print('Отвергаем нулевую гипотезу')\n",
    "else:\n",
    "    print('Не получилось отвергнуть нулевую гипотезу')"
   ]
  },
  {
   "cell_type": "code",
   "execution_count": 68,
   "metadata": {
    "ExecuteTime": {
     "end_time": "2022-02-06T15:11:45.282716Z",
     "start_time": "2022-02-06T15:11:45.254792Z"
    }
   },
   "outputs": [
    {
     "data": {
      "text/html": [
       "<div>\n",
       "<style scoped>\n",
       "    .dataframe tbody tr th:only-of-type {\n",
       "        vertical-align: middle;\n",
       "    }\n",
       "\n",
       "    .dataframe tbody tr th {\n",
       "        vertical-align: top;\n",
       "    }\n",
       "\n",
       "    .dataframe thead th {\n",
       "        text-align: right;\n",
       "    }\n",
       "</style>\n",
       "<table border=\"1\" class=\"dataframe\">\n",
       "  <thead>\n",
       "    <tr style=\"text-align: right;\">\n",
       "      <th></th>\n",
       "      <th>income</th>\n",
       "    </tr>\n",
       "    <tr>\n",
       "      <th>region</th>\n",
       "      <th></th>\n",
       "    </tr>\n",
       "  </thead>\n",
       "  <tbody>\n",
       "    <tr>\n",
       "      <th>Другой регион</th>\n",
       "      <td>1583</td>\n",
       "    </tr>\n",
       "    <tr>\n",
       "      <th>Москва</th>\n",
       "      <td>1750</td>\n",
       "    </tr>\n",
       "  </tbody>\n",
       "</table>\n",
       "</div>"
      ],
      "text/plain": [
       "               income\n",
       "region               \n",
       "Другой регион    1583\n",
       "Москва           1750"
      ]
     },
     "execution_count": 68,
     "metadata": {},
     "output_type": "execute_result"
    }
   ],
   "source": [
    "def det_region(city):\n",
    "    if city == 'Москва': return 'Москва'\n",
    "    else: return 'Другой регион'\n",
    "    \n",
    "user_data['region'] = user_data['city'].apply(det_region)\n",
    "user_data.pivot_table(index='region', values='income', aggfunc='median')"
   ]
  },
  {
   "cell_type": "markdown",
   "metadata": {},
   "source": [
    "t-тест не дал нам возможность отвергнуть нулевую гипотезу - **выручка по Москве статистически не отличается от выручки других городов России**"
   ]
  },
  {
   "cell_type": "markdown",
   "metadata": {},
   "source": [
    "## Общие выводы"
   ]
  },
  {
   "cell_type": "markdown",
   "metadata": {},
   "source": [
    "Проведя анализ выборки клиентов компании \"Мегалайн\" и сравнив между собой два тарифа данной компании (а именно тарифы «Ультра» и «Смарт») мы пришли к следующим результатам:  \n",
    "* Пользователи тарифа «Ультра» чаще шлют сообщения, совершают вызовы и тратят больше интернет-трафика, но пользователи тарифа «Смарт» чаще выходят за лимиты тарифа\n",
    "* Выручка с  тарифа «Ультра» выше, чем выручка с тарифа «Смарт» - разница почти в два раза. Но при этом пользователи тарифа «Смарт» в среднем платят в два раза больше своей абонентской платы\n",
    "* Доходы от услуг связи по Москве практически не отличаются от доходов по регионам  \n",
    "Так как больше выручки приносит тариф «Ультра», именно его стоит развивать компании «Мегалайн», тем более что в данной выборке отношение количества клиентов тарифа «Ультра» к количеству клиентов тарифа «Смарт» приблизительно 30:70. Вероятно стоит акцентировать внимание на увеличенном лимите интернет-трафика, который оба вида клиентов тратят примерно одинаково, но которого недостает клиентам тарифа «Смарт»"
   ]
  }
 ],
 "metadata": {
  "ExecuteTimeLog": [
   {
    "duration": 330,
    "start_time": "2021-10-14T17:54:00.564Z"
   },
   {
    "duration": 266,
    "start_time": "2021-10-14T17:54:06.772Z"
   },
   {
    "duration": 250,
    "start_time": "2021-10-14T17:54:15.252Z"
   },
   {
    "duration": 1356,
    "start_time": "2021-10-14T17:54:20.524Z"
   },
   {
    "duration": 529,
    "start_time": "2021-10-14T17:54:23.164Z"
   },
   {
    "duration": 19,
    "start_time": "2021-10-14T17:54:25.676Z"
   },
   {
    "duration": 19,
    "start_time": "2021-10-14T17:54:55.755Z"
   },
   {
    "duration": 315,
    "start_time": "2021-10-14T17:55:09.668Z"
   },
   {
    "duration": 10,
    "start_time": "2021-10-14T17:55:19.419Z"
   },
   {
    "duration": 1474,
    "start_time": "2021-10-15T13:06:47.669Z"
   },
   {
    "duration": 755,
    "start_time": "2021-10-15T13:06:49.146Z"
   },
   {
    "duration": 30,
    "start_time": "2021-10-15T13:06:49.904Z"
   },
   {
    "duration": 10,
    "start_time": "2021-10-15T13:07:01.470Z"
   },
   {
    "duration": 10,
    "start_time": "2021-10-15T13:08:06.988Z"
   },
   {
    "duration": 9,
    "start_time": "2021-10-15T13:09:34.206Z"
   },
   {
    "duration": 13,
    "start_time": "2021-10-15T13:10:09.300Z"
   },
   {
    "duration": 12,
    "start_time": "2021-10-15T13:10:13.821Z"
   },
   {
    "duration": 12,
    "start_time": "2021-10-15T13:11:55.223Z"
   },
   {
    "duration": 28,
    "start_time": "2021-10-15T13:12:56.728Z"
   },
   {
    "duration": 25,
    "start_time": "2021-10-15T13:14:34.692Z"
   },
   {
    "duration": 390,
    "start_time": "2021-10-15T13:15:22.230Z"
   },
   {
    "duration": 46,
    "start_time": "2021-10-15T13:15:32.445Z"
   },
   {
    "duration": 39,
    "start_time": "2021-10-15T13:16:12.574Z"
   },
   {
    "duration": 23,
    "start_time": "2021-10-15T13:16:45.809Z"
   },
   {
    "duration": 39,
    "start_time": "2021-10-15T13:16:58.106Z"
   },
   {
    "duration": 276,
    "start_time": "2021-10-15T13:17:18.402Z"
   },
   {
    "duration": 277,
    "start_time": "2021-10-15T13:17:25.392Z"
   },
   {
    "duration": 271,
    "start_time": "2021-10-15T13:17:32.567Z"
   },
   {
    "duration": 10,
    "start_time": "2021-10-15T13:17:52.716Z"
   },
   {
    "duration": 40,
    "start_time": "2021-10-15T13:19:41.627Z"
   },
   {
    "duration": 383,
    "start_time": "2021-10-15T13:19:59.833Z"
   },
   {
    "duration": 148,
    "start_time": "2021-10-15T13:21:50.976Z"
   },
   {
    "duration": 10,
    "start_time": "2021-10-15T13:25:16.091Z"
   },
   {
    "duration": 1549,
    "start_time": "2021-10-15T13:25:31.247Z"
   },
   {
    "duration": 20,
    "start_time": "2021-10-15T13:25:34.408Z"
   },
   {
    "duration": 19,
    "start_time": "2021-10-15T13:26:17.595Z"
   },
   {
    "duration": 163,
    "start_time": "2021-10-15T13:26:52.730Z"
   },
   {
    "duration": 54,
    "start_time": "2021-10-15T13:29:11.525Z"
   },
   {
    "duration": 12,
    "start_time": "2021-10-15T13:32:21.443Z"
   },
   {
    "duration": 23,
    "start_time": "2021-10-15T13:32:41.806Z"
   },
   {
    "duration": 238,
    "start_time": "2021-10-15T13:33:05.049Z"
   },
   {
    "duration": 35,
    "start_time": "2021-10-15T13:33:10.125Z"
   },
   {
    "duration": 229,
    "start_time": "2021-10-15T13:34:18.328Z"
   },
   {
    "duration": 92,
    "start_time": "2021-10-15T13:34:56.085Z"
   },
   {
    "duration": 11,
    "start_time": "2021-10-15T13:36:27.049Z"
   },
   {
    "duration": 9,
    "start_time": "2021-10-15T13:46:37.111Z"
   },
   {
    "duration": 1406,
    "start_time": "2021-10-17T12:44:27.016Z"
   },
   {
    "duration": 572,
    "start_time": "2021-10-17T12:44:29.783Z"
   },
   {
    "duration": 23,
    "start_time": "2021-10-17T12:44:31.167Z"
   },
   {
    "duration": 10,
    "start_time": "2021-10-17T12:44:34.216Z"
   },
   {
    "duration": 12,
    "start_time": "2021-10-17T12:44:40.519Z"
   },
   {
    "duration": 22,
    "start_time": "2021-10-17T12:44:41.440Z"
   },
   {
    "duration": 40,
    "start_time": "2021-10-17T12:45:11.088Z"
   },
   {
    "duration": 10,
    "start_time": "2021-10-17T12:45:13.648Z"
   },
   {
    "duration": 12,
    "start_time": "2021-10-17T12:45:16.360Z"
   },
   {
    "duration": 28,
    "start_time": "2021-10-17T12:45:19.519Z"
   },
   {
    "duration": 40,
    "start_time": "2021-10-17T12:45:22.064Z"
   },
   {
    "duration": 630,
    "start_time": "2021-10-17T12:45:27.544Z"
   },
   {
    "duration": 149,
    "start_time": "2021-10-17T12:45:33.169Z"
   },
   {
    "duration": 11,
    "start_time": "2021-10-17T12:46:36.672Z"
   },
   {
    "duration": 19,
    "start_time": "2021-10-17T12:46:41.920Z"
   },
   {
    "duration": 19,
    "start_time": "2021-10-17T12:46:48.470Z"
   },
   {
    "duration": 200,
    "start_time": "2021-10-17T12:46:56.296Z"
   },
   {
    "duration": 62,
    "start_time": "2021-10-17T12:47:04.296Z"
   },
   {
    "duration": 13,
    "start_time": "2021-10-17T12:47:08.272Z"
   },
   {
    "duration": 37,
    "start_time": "2021-10-17T12:47:14.312Z"
   },
   {
    "duration": 62,
    "start_time": "2021-10-17T12:47:20.824Z"
   },
   {
    "duration": 238,
    "start_time": "2021-10-17T12:47:33.232Z"
   },
   {
    "duration": 104,
    "start_time": "2021-10-17T12:47:36.544Z"
   },
   {
    "duration": 14,
    "start_time": "2021-10-17T12:47:57.713Z"
   },
   {
    "duration": 9,
    "start_time": "2021-10-17T12:48:00.224Z"
   },
   {
    "duration": 9,
    "start_time": "2021-10-17T12:50:32.808Z"
   },
   {
    "duration": 2228,
    "start_time": "2021-10-17T12:50:47.168Z"
   },
   {
    "duration": 2116,
    "start_time": "2021-10-17T12:52:53.049Z"
   },
   {
    "duration": 2097,
    "start_time": "2021-10-17T12:53:23.161Z"
   },
   {
    "duration": 11,
    "start_time": "2021-10-17T12:54:55.178Z"
   },
   {
    "duration": 12,
    "start_time": "2021-10-17T12:55:28.953Z"
   },
   {
    "duration": 9,
    "start_time": "2021-10-17T12:56:03.745Z"
   },
   {
    "duration": 275,
    "start_time": "2021-10-17T12:56:15.098Z"
   },
   {
    "duration": 312,
    "start_time": "2021-10-17T12:56:30.690Z"
   },
   {
    "duration": 454,
    "start_time": "2021-10-17T12:56:53.129Z"
   },
   {
    "duration": 15,
    "start_time": "2021-10-17T12:57:03.032Z"
   },
   {
    "duration": 31,
    "start_time": "2021-10-17T12:57:21.976Z"
   },
   {
    "duration": 30,
    "start_time": "2021-10-17T12:57:27.592Z"
   },
   {
    "duration": 9943,
    "start_time": "2021-10-17T13:00:26.561Z"
   },
   {
    "duration": 96,
    "start_time": "2021-10-17T13:01:04.995Z"
   },
   {
    "duration": 291,
    "start_time": "2021-10-17T13:01:09.017Z"
   },
   {
    "duration": 398,
    "start_time": "2021-10-17T13:01:25.266Z"
   },
   {
    "duration": 7,
    "start_time": "2021-10-17T13:01:31.113Z"
   },
   {
    "duration": 8,
    "start_time": "2021-10-17T13:01:41.585Z"
   },
   {
    "duration": 458,
    "start_time": "2021-10-17T13:04:35.657Z"
   },
   {
    "duration": 325,
    "start_time": "2021-10-17T13:05:44.786Z"
   },
   {
    "duration": 645,
    "start_time": "2021-10-17T13:09:54.954Z"
   },
   {
    "duration": 660,
    "start_time": "2021-10-17T13:10:21.169Z"
   },
   {
    "duration": 333,
    "start_time": "2021-10-17T13:10:28.450Z"
   },
   {
    "duration": 336,
    "start_time": "2021-10-17T13:11:02.658Z"
   },
   {
    "duration": 304,
    "start_time": "2021-10-17T13:11:18.026Z"
   },
   {
    "duration": 330,
    "start_time": "2021-10-17T13:11:24.698Z"
   },
   {
    "duration": 393,
    "start_time": "2021-10-17T13:11:33.763Z"
   },
   {
    "duration": 28,
    "start_time": "2021-10-17T13:14:05.507Z"
   },
   {
    "duration": 20,
    "start_time": "2021-10-17T13:14:13.962Z"
   },
   {
    "duration": 17,
    "start_time": "2021-10-17T13:14:23.987Z"
   },
   {
    "duration": 84,
    "start_time": "2021-10-17T13:16:27.070Z"
   },
   {
    "duration": 20,
    "start_time": "2021-10-17T13:17:06.794Z"
   },
   {
    "duration": 15,
    "start_time": "2021-10-17T13:17:11.594Z"
   },
   {
    "duration": 321,
    "start_time": "2021-10-17T13:18:59.074Z"
   },
   {
    "duration": 25,
    "start_time": "2021-10-17T13:19:32.258Z"
   },
   {
    "duration": 10,
    "start_time": "2021-10-17T13:19:41.299Z"
   },
   {
    "duration": 14,
    "start_time": "2021-10-17T13:19:46.746Z"
   },
   {
    "duration": 13,
    "start_time": "2021-10-17T13:19:52.611Z"
   },
   {
    "duration": 21,
    "start_time": "2021-10-17T13:21:21.218Z"
   },
   {
    "duration": 18,
    "start_time": "2021-10-17T13:21:54.588Z"
   },
   {
    "duration": 15,
    "start_time": "2021-10-17T13:23:46.980Z"
   },
   {
    "duration": 12,
    "start_time": "2021-10-17T13:24:00.883Z"
   },
   {
    "duration": 310,
    "start_time": "2021-10-17T13:24:14.963Z"
   },
   {
    "duration": 537,
    "start_time": "2021-10-17T13:24:19.611Z"
   },
   {
    "duration": 6,
    "start_time": "2021-10-17T13:24:44.003Z"
   },
   {
    "duration": 5,
    "start_time": "2021-10-17T13:25:25.131Z"
   },
   {
    "duration": 17,
    "start_time": "2021-10-17T13:25:35.563Z"
   },
   {
    "duration": 51,
    "start_time": "2021-10-17T13:28:43.148Z"
   },
   {
    "duration": 47,
    "start_time": "2021-10-17T13:29:03.819Z"
   },
   {
    "duration": 328,
    "start_time": "2021-10-17T13:29:52.292Z"
   },
   {
    "duration": 20,
    "start_time": "2021-10-17T13:30:12.204Z"
   },
   {
    "duration": 33,
    "start_time": "2021-10-17T13:31:28.613Z"
   },
   {
    "duration": 11,
    "start_time": "2021-10-17T13:43:38.622Z"
   },
   {
    "duration": 338,
    "start_time": "2021-10-17T13:50:33.037Z"
   },
   {
    "duration": 44,
    "start_time": "2021-10-17T13:50:40.925Z"
   },
   {
    "duration": 42,
    "start_time": "2021-10-17T13:50:48.557Z"
   },
   {
    "duration": 104,
    "start_time": "2021-10-17T13:51:17.261Z"
   },
   {
    "duration": 1996,
    "start_time": "2021-10-17T13:52:14.317Z"
   },
   {
    "duration": 107,
    "start_time": "2021-10-17T13:52:37.150Z"
   },
   {
    "duration": 38,
    "start_time": "2021-10-17T13:52:56.389Z"
   },
   {
    "duration": 220,
    "start_time": "2021-10-17T13:57:49.846Z"
   },
   {
    "duration": 128,
    "start_time": "2021-10-17T13:58:48.983Z"
   },
   {
    "duration": 85,
    "start_time": "2021-10-17T14:00:50.749Z"
   },
   {
    "duration": 169,
    "start_time": "2021-10-17T14:06:16.231Z"
   },
   {
    "duration": 171,
    "start_time": "2021-10-17T14:09:51.784Z"
   },
   {
    "duration": 124,
    "start_time": "2021-10-17T14:17:52.887Z"
   },
   {
    "duration": 118,
    "start_time": "2021-10-17T14:18:07.415Z"
   },
   {
    "duration": 125,
    "start_time": "2021-10-17T14:18:11.167Z"
   },
   {
    "duration": 117,
    "start_time": "2021-10-17T14:19:19.415Z"
   },
   {
    "duration": 122,
    "start_time": "2021-10-17T14:19:35.335Z"
   },
   {
    "duration": 299,
    "start_time": "2021-10-17T14:19:54.951Z"
   },
   {
    "duration": 131,
    "start_time": "2021-10-17T14:20:04.246Z"
   },
   {
    "duration": 129,
    "start_time": "2021-10-17T14:20:21.191Z"
   },
   {
    "duration": 83,
    "start_time": "2021-10-17T14:20:50.848Z"
   },
   {
    "duration": 123,
    "start_time": "2021-10-17T14:21:33.191Z"
   },
   {
    "duration": 216,
    "start_time": "2021-10-17T14:23:17.319Z"
   },
   {
    "duration": 103,
    "start_time": "2021-10-17T14:23:24.271Z"
   },
   {
    "duration": 125,
    "start_time": "2021-10-17T14:23:35.320Z"
   },
   {
    "duration": 517,
    "start_time": "2021-10-17T14:27:38.304Z"
   },
   {
    "duration": -17,
    "start_time": "2021-10-17T14:33:54.579Z"
   },
   {
    "duration": -7,
    "start_time": "2021-10-17T14:35:00.884Z"
   },
   {
    "duration": 98,
    "start_time": "2021-10-17T14:35:20.040Z"
   },
   {
    "duration": 330,
    "start_time": "2021-10-17T14:35:22.272Z"
   },
   {
    "duration": -20,
    "start_time": "2021-10-17T14:38:07.397Z"
   },
   {
    "duration": 103,
    "start_time": "2021-10-17T14:40:16.570Z"
   },
   {
    "duration": -20,
    "start_time": "2021-10-17T14:41:02.368Z"
   },
   {
    "duration": 7421,
    "start_time": "2021-10-17T14:41:29.632Z"
   },
   {
    "duration": 7528,
    "start_time": "2021-10-17T14:41:54.776Z"
   },
   {
    "duration": 7754,
    "start_time": "2021-10-17T14:42:20.361Z"
   },
   {
    "duration": 8326,
    "start_time": "2021-10-17T14:42:35.640Z"
   },
   {
    "duration": 115,
    "start_time": "2021-10-17T14:43:40.385Z"
   },
   {
    "duration": 7662,
    "start_time": "2021-10-17T14:43:56.865Z"
   },
   {
    "duration": 140,
    "start_time": "2021-10-17T14:44:57.112Z"
   },
   {
    "duration": 22,
    "start_time": "2021-10-17T14:45:15.368Z"
   },
   {
    "duration": 9,
    "start_time": "2021-10-17T14:45:23.201Z"
   },
   {
    "duration": 9,
    "start_time": "2021-10-17T14:45:29.944Z"
   },
   {
    "duration": 262,
    "start_time": "2021-10-17T14:45:46.152Z"
   },
   {
    "duration": 19,
    "start_time": "2021-10-17T14:45:50.264Z"
   },
   {
    "duration": 17,
    "start_time": "2021-10-17T14:46:02.016Z"
   },
   {
    "duration": 20,
    "start_time": "2021-10-17T14:46:38.513Z"
   },
   {
    "duration": 7340,
    "start_time": "2021-10-17T14:47:01.602Z"
   },
   {
    "duration": 8788,
    "start_time": "2021-10-17T14:47:12.880Z"
   },
   {
    "duration": 9,
    "start_time": "2021-10-17T14:47:24.736Z"
   },
   {
    "duration": 21,
    "start_time": "2021-10-17T14:48:38.401Z"
   },
   {
    "duration": 547,
    "start_time": "2021-10-17T14:48:49.929Z"
   },
   {
    "duration": 1367,
    "start_time": "2021-10-17T14:48:59.905Z"
   },
   {
    "duration": 253,
    "start_time": "2021-10-17T14:49:20.713Z"
   },
   {
    "duration": 304,
    "start_time": "2021-10-17T14:49:43.633Z"
   },
   {
    "duration": 285,
    "start_time": "2021-10-17T14:50:11.850Z"
   },
   {
    "duration": 292,
    "start_time": "2021-10-17T14:56:19.561Z"
   },
   {
    "duration": 292,
    "start_time": "2021-10-17T14:56:33.826Z"
   },
   {
    "duration": 301,
    "start_time": "2021-10-17T14:57:05.162Z"
   },
   {
    "duration": 12,
    "start_time": "2021-10-17T14:57:38.536Z"
   },
   {
    "duration": 78,
    "start_time": "2021-10-17T14:58:33.826Z"
   },
   {
    "duration": 338,
    "start_time": "2021-10-17T14:58:52.083Z"
   },
   {
    "duration": 12,
    "start_time": "2021-10-17T14:58:54.769Z"
   },
   {
    "duration": 15437,
    "start_time": "2021-10-17T14:59:00.922Z"
   },
   {
    "duration": 6,
    "start_time": "2021-10-17T14:59:19.410Z"
   },
   {
    "duration": 7826,
    "start_time": "2021-10-17T14:59:35.658Z"
   },
   {
    "duration": -5,
    "start_time": "2021-10-17T14:59:52.225Z"
   },
   {
    "duration": 8,
    "start_time": "2021-10-17T14:59:53.538Z"
   },
   {
    "duration": 3277,
    "start_time": "2021-10-17T15:00:20.305Z"
   },
   {
    "duration": 2526,
    "start_time": "2021-10-17T15:00:35.956Z"
   },
   {
    "duration": 365,
    "start_time": "2021-10-17T15:00:53.898Z"
   },
   {
    "duration": 21,
    "start_time": "2021-10-17T15:01:17.554Z"
   },
   {
    "duration": 7503,
    "start_time": "2021-10-17T15:01:25.570Z"
   },
   {
    "duration": 7,
    "start_time": "2021-10-17T15:01:48.554Z"
   },
   {
    "duration": 97,
    "start_time": "2021-10-17T15:02:15.457Z"
   },
   {
    "duration": 13,
    "start_time": "2021-10-17T15:02:19.626Z"
   },
   {
    "duration": 31662,
    "start_time": "2021-10-17T15:02:32.185Z"
   },
   {
    "duration": 8234,
    "start_time": "2021-10-17T15:04:10.257Z"
   },
   {
    "duration": 9919,
    "start_time": "2021-10-17T15:04:26.021Z"
   },
   {
    "duration": 5,
    "start_time": "2021-10-17T15:06:13.010Z"
   },
   {
    "duration": 30210,
    "start_time": "2021-10-17T15:07:26.130Z"
   },
   {
    "duration": 31,
    "start_time": "2021-10-17T15:11:37.291Z"
   },
   {
    "duration": 306,
    "start_time": "2021-10-17T15:12:51.891Z"
   },
   {
    "duration": 2518,
    "start_time": "2021-10-17T15:13:01.188Z"
   },
   {
    "duration": 2541,
    "start_time": "2021-10-17T15:14:02.467Z"
   },
   {
    "duration": 540,
    "start_time": "2021-10-17T15:14:57.874Z"
   },
   {
    "duration": 631,
    "start_time": "2021-10-17T15:15:11.898Z"
   },
   {
    "duration": 470,
    "start_time": "2021-10-17T15:15:20.739Z"
   },
   {
    "duration": 76,
    "start_time": "2021-10-17T15:15:36.708Z"
   },
   {
    "duration": 470,
    "start_time": "2021-10-17T15:15:41.235Z"
   },
   {
    "duration": 317,
    "start_time": "2021-10-17T15:20:02.779Z"
   },
   {
    "duration": 664,
    "start_time": "2021-10-17T15:20:19.818Z"
   },
   {
    "duration": 652,
    "start_time": "2021-10-17T15:23:16.347Z"
   },
   {
    "duration": 684,
    "start_time": "2021-10-17T15:23:28.155Z"
   },
   {
    "duration": 703,
    "start_time": "2021-10-17T15:23:35.851Z"
   },
   {
    "duration": 298,
    "start_time": "2021-10-17T15:24:43.940Z"
   },
   {
    "duration": 15,
    "start_time": "2021-10-17T15:24:52.237Z"
   },
   {
    "duration": 11,
    "start_time": "2021-10-17T15:25:05.652Z"
   },
   {
    "duration": 374,
    "start_time": "2021-10-17T15:25:21.867Z"
   },
   {
    "duration": 22,
    "start_time": "2021-10-17T15:25:32.012Z"
   },
   {
    "duration": 10,
    "start_time": "2021-10-17T15:25:38.379Z"
   },
   {
    "duration": 280,
    "start_time": "2021-10-17T15:26:29.555Z"
   },
   {
    "duration": 291,
    "start_time": "2021-10-17T15:26:46.411Z"
   },
   {
    "duration": 8,
    "start_time": "2021-10-17T15:26:53.485Z"
   },
   {
    "duration": 8002,
    "start_time": "2021-10-17T15:27:01.085Z"
   },
   {
    "duration": 285,
    "start_time": "2021-10-17T15:27:33.092Z"
   },
   {
    "duration": 327,
    "start_time": "2021-10-17T15:27:48.092Z"
   },
   {
    "duration": 8,
    "start_time": "2021-10-17T15:28:29.532Z"
   },
   {
    "duration": 35,
    "start_time": "2021-10-17T15:28:34.340Z"
   },
   {
    "duration": 2932,
    "start_time": "2021-10-17T15:30:11.204Z"
   },
   {
    "duration": 410,
    "start_time": "2021-10-17T15:30:21.593Z"
   },
   {
    "duration": 347,
    "start_time": "2021-10-17T15:30:34.204Z"
   },
   {
    "duration": 339,
    "start_time": "2021-10-17T15:30:39.236Z"
   },
   {
    "duration": 692,
    "start_time": "2021-10-17T15:30:47.364Z"
   },
   {
    "duration": 262,
    "start_time": "2021-10-17T15:30:55.003Z"
   },
   {
    "duration": 67,
    "start_time": "2021-10-17T15:31:21.157Z"
   },
   {
    "duration": 227,
    "start_time": "2021-10-17T15:31:30.844Z"
   },
   {
    "duration": 107,
    "start_time": "2021-10-17T15:31:59.805Z"
   },
   {
    "duration": 7690,
    "start_time": "2021-10-17T15:32:04.820Z"
   },
   {
    "duration": 29449,
    "start_time": "2021-10-17T15:32:55.958Z"
   },
   {
    "duration": 358,
    "start_time": "2021-10-17T15:34:54.165Z"
   },
   {
    "duration": 346,
    "start_time": "2021-10-17T15:35:03.293Z"
   },
   {
    "duration": 351,
    "start_time": "2021-10-17T15:35:30.725Z"
   },
   {
    "duration": 355,
    "start_time": "2021-10-17T15:36:36.167Z"
   },
   {
    "duration": 1672,
    "start_time": "2021-10-17T15:36:50.436Z"
   },
   {
    "duration": 376,
    "start_time": "2021-10-17T15:37:29.716Z"
   },
   {
    "duration": 613,
    "start_time": "2021-10-17T15:37:39.717Z"
   },
   {
    "duration": 367,
    "start_time": "2021-10-17T15:37:53.301Z"
   },
   {
    "duration": 84,
    "start_time": "2021-10-17T15:43:26.215Z"
   },
   {
    "duration": 623,
    "start_time": "2021-10-17T15:43:32.732Z"
   },
   {
    "duration": 6,
    "start_time": "2021-10-17T15:43:36.253Z"
   },
   {
    "duration": 1178,
    "start_time": "2021-10-17T15:43:43.974Z"
   },
   {
    "duration": 21,
    "start_time": "2021-10-17T15:53:19.398Z"
   },
   {
    "duration": 643,
    "start_time": "2021-10-17T15:53:57.478Z"
   },
   {
    "duration": 23,
    "start_time": "2021-10-17T15:54:02.109Z"
   },
   {
    "duration": 22,
    "start_time": "2021-10-17T15:55:20.031Z"
   },
   {
    "duration": 74,
    "start_time": "2021-10-17T15:55:52.806Z"
   },
   {
    "duration": 29,
    "start_time": "2021-10-17T15:56:17.405Z"
   },
   {
    "duration": 84,
    "start_time": "2021-10-17T15:56:21.542Z"
   },
   {
    "duration": 23,
    "start_time": "2021-10-17T15:56:43.110Z"
   },
   {
    "duration": 307,
    "start_time": "2021-10-17T15:57:03.806Z"
   },
   {
    "duration": 12,
    "start_time": "2021-10-17T15:57:12.231Z"
   },
   {
    "duration": 5,
    "start_time": "2021-10-17T15:57:20.702Z"
   },
   {
    "duration": 5,
    "start_time": "2021-10-17T15:57:23.374Z"
   },
   {
    "duration": 20,
    "start_time": "2021-10-17T15:57:29.534Z"
   },
   {
    "duration": 11,
    "start_time": "2021-10-17T15:57:43.691Z"
   },
   {
    "duration": 20,
    "start_time": "2021-10-17T15:57:50.918Z"
   },
   {
    "duration": 22,
    "start_time": "2021-10-17T15:57:59.582Z"
   },
   {
    "duration": 76,
    "start_time": "2021-10-17T15:58:02.805Z"
   },
   {
    "duration": 393,
    "start_time": "2021-10-17T15:58:05.198Z"
   },
   {
    "duration": 103,
    "start_time": "2021-10-17T15:58:16.038Z"
   },
   {
    "duration": 332,
    "start_time": "2021-10-17T15:58:25.981Z"
   },
   {
    "duration": 77,
    "start_time": "2021-10-17T15:58:35.263Z"
   },
   {
    "duration": 264,
    "start_time": "2021-10-17T15:58:43.182Z"
   },
   {
    "duration": 4,
    "start_time": "2021-10-17T15:58:51.290Z"
   },
   {
    "duration": 547,
    "start_time": "2021-10-17T15:58:51.297Z"
   },
   {
    "duration": 15,
    "start_time": "2021-10-17T15:58:51.848Z"
   },
   {
    "duration": 16,
    "start_time": "2021-10-17T15:58:51.866Z"
   },
   {
    "duration": 14,
    "start_time": "2021-10-17T15:58:51.885Z"
   },
   {
    "duration": 25,
    "start_time": "2021-10-17T15:58:51.901Z"
   },
   {
    "duration": 67,
    "start_time": "2021-10-17T15:58:51.929Z"
   },
   {
    "duration": 29,
    "start_time": "2021-10-17T15:58:52.000Z"
   },
   {
    "duration": 16,
    "start_time": "2021-10-17T15:58:52.032Z"
   },
   {
    "duration": 37,
    "start_time": "2021-10-17T15:58:52.051Z"
   },
   {
    "duration": 35,
    "start_time": "2021-10-17T15:58:52.090Z"
   },
   {
    "duration": 436,
    "start_time": "2021-10-17T15:58:52.127Z"
   },
   {
    "duration": 145,
    "start_time": "2021-10-17T15:58:52.565Z"
   },
   {
    "duration": 10,
    "start_time": "2021-10-17T15:58:52.712Z"
   },
   {
    "duration": 38,
    "start_time": "2021-10-17T15:58:52.725Z"
   },
   {
    "duration": 19,
    "start_time": "2021-10-17T15:58:52.765Z"
   },
   {
    "duration": 199,
    "start_time": "2021-10-17T15:58:52.786Z"
   },
   {
    "duration": 56,
    "start_time": "2021-10-17T15:58:52.987Z"
   },
   {
    "duration": 25,
    "start_time": "2021-10-17T15:58:53.045Z"
   },
   {
    "duration": 26,
    "start_time": "2021-10-17T15:58:53.073Z"
   },
   {
    "duration": 65,
    "start_time": "2021-10-17T15:58:53.102Z"
   },
   {
    "duration": 194,
    "start_time": "2021-10-17T15:58:53.169Z"
   },
   {
    "duration": 103,
    "start_time": "2021-10-17T15:58:53.367Z"
   },
   {
    "duration": 11,
    "start_time": "2021-10-17T15:58:53.473Z"
   },
   {
    "duration": 11,
    "start_time": "2021-10-17T15:58:53.486Z"
   },
   {
    "duration": 115,
    "start_time": "2021-10-17T15:58:53.499Z"
   },
   {
    "duration": 7,
    "start_time": "2021-10-17T15:58:53.616Z"
   },
   {
    "duration": 44,
    "start_time": "2021-10-17T15:58:53.626Z"
   },
   {
    "duration": 322,
    "start_time": "2021-10-17T15:58:53.672Z"
   },
   {
    "duration": 45,
    "start_time": "2021-10-17T15:58:53.996Z"
   },
   {
    "duration": 343,
    "start_time": "2021-10-17T15:58:54.043Z"
   },
   {
    "duration": 31,
    "start_time": "2021-10-17T15:58:54.388Z"
   },
   {
    "duration": 111,
    "start_time": "2021-10-17T15:58:54.422Z"
   },
   {
    "duration": 169,
    "start_time": "2021-10-17T15:58:54.535Z"
   },
   {
    "duration": 70,
    "start_time": "2021-10-17T15:59:04.494Z"
   },
   {
    "duration": 5,
    "start_time": "2021-10-17T15:59:09.854Z"
   },
   {
    "duration": 22,
    "start_time": "2021-10-17T15:59:13.845Z"
   },
   {
    "duration": 326,
    "start_time": "2021-10-17T15:59:17.246Z"
   },
   {
    "duration": 304,
    "start_time": "2021-10-17T15:59:24.805Z"
   },
   {
    "duration": 989,
    "start_time": "2021-10-17T15:59:32.606Z"
   },
   {
    "duration": 75,
    "start_time": "2021-10-17T15:59:48.406Z"
   },
   {
    "duration": 21,
    "start_time": "2021-10-17T15:59:55.231Z"
   },
   {
    "duration": 27,
    "start_time": "2021-10-17T16:00:30.183Z"
   },
   {
    "duration": 305,
    "start_time": "2021-10-17T16:00:36.166Z"
   },
   {
    "duration": 20,
    "start_time": "2021-10-17T16:00:55.525Z"
   },
   {
    "duration": 19,
    "start_time": "2021-10-17T16:01:03.182Z"
   },
   {
    "duration": 13,
    "start_time": "2021-10-17T16:01:27.838Z"
   },
   {
    "duration": 21,
    "start_time": "2021-10-17T16:01:45.471Z"
   },
   {
    "duration": 21,
    "start_time": "2021-10-17T16:01:58.406Z"
   },
   {
    "duration": 72,
    "start_time": "2021-10-17T16:02:08.103Z"
   },
   {
    "duration": 23,
    "start_time": "2021-10-17T16:02:12.023Z"
   },
   {
    "duration": 18,
    "start_time": "2021-10-17T16:02:18.679Z"
   },
   {
    "duration": 16,
    "start_time": "2021-10-17T16:02:35.926Z"
   },
   {
    "duration": 22,
    "start_time": "2021-10-17T16:02:54.685Z"
   },
   {
    "duration": 24,
    "start_time": "2021-10-17T16:04:04.832Z"
   },
   {
    "duration": 71,
    "start_time": "2021-10-17T16:04:39.551Z"
   },
   {
    "duration": 101,
    "start_time": "2021-10-17T16:04:45.558Z"
   },
   {
    "duration": 22,
    "start_time": "2021-10-17T16:04:51.374Z"
   },
   {
    "duration": 73,
    "start_time": "2021-10-17T16:05:34.670Z"
   },
   {
    "duration": 44,
    "start_time": "2021-10-17T16:05:49.391Z"
   },
   {
    "duration": 75,
    "start_time": "2021-10-17T16:06:23.511Z"
   },
   {
    "duration": 22,
    "start_time": "2021-10-17T16:06:28.195Z"
   },
   {
    "duration": 79,
    "start_time": "2021-10-17T16:07:19.463Z"
   },
   {
    "duration": 274,
    "start_time": "2021-10-17T16:08:08.949Z"
   },
   {
    "duration": 29,
    "start_time": "2021-10-17T16:08:13.879Z"
   },
   {
    "duration": 3,
    "start_time": "2021-10-17T16:09:20.862Z"
   },
   {
    "duration": 106,
    "start_time": "2021-10-17T16:09:35.087Z"
   },
   {
    "duration": 79,
    "start_time": "2021-10-17T16:09:37.887Z"
   },
   {
    "duration": 24,
    "start_time": "2021-10-17T16:09:39.854Z"
   },
   {
    "duration": 81,
    "start_time": "2021-10-17T16:09:41.805Z"
   },
   {
    "duration": 32,
    "start_time": "2021-10-17T16:09:44.503Z"
   },
   {
    "duration": 1589,
    "start_time": "2021-10-17T16:14:28.704Z"
   },
   {
    "duration": 136,
    "start_time": "2021-10-17T16:14:44.640Z"
   },
   {
    "duration": 123,
    "start_time": "2021-10-17T16:14:57.351Z"
   },
   {
    "duration": 465,
    "start_time": "2021-10-17T16:15:04.566Z"
   },
   {
    "duration": 256,
    "start_time": "2021-10-17T16:17:57.608Z"
   },
   {
    "duration": 322,
    "start_time": "2021-10-17T16:26:18.847Z"
   },
   {
    "duration": 244,
    "start_time": "2021-10-17T16:29:45.840Z"
   },
   {
    "duration": 6,
    "start_time": "2021-10-17T16:30:12.096Z"
   },
   {
    "duration": 7,
    "start_time": "2021-10-17T16:30:23.079Z"
   },
   {
    "duration": 6,
    "start_time": "2021-10-17T16:30:38.376Z"
   },
   {
    "duration": 13199,
    "start_time": "2021-10-17T16:32:15.744Z"
   },
   {
    "duration": 314,
    "start_time": "2021-10-17T16:32:46.655Z"
   },
   {
    "duration": 8734,
    "start_time": "2021-10-17T16:32:54.552Z"
   },
   {
    "duration": 309,
    "start_time": "2021-10-17T16:33:13.935Z"
   },
   {
    "duration": 6,
    "start_time": "2021-10-17T16:34:20.521Z"
   },
   {
    "duration": 529,
    "start_time": "2021-10-17T16:34:57.809Z"
   },
   {
    "duration": 248,
    "start_time": "2021-10-17T16:36:35.640Z"
   },
   {
    "duration": 7096,
    "start_time": "2021-10-17T16:43:50.624Z"
   },
   {
    "duration": 63,
    "start_time": "2021-10-17T16:44:26.720Z"
   },
   {
    "duration": 54,
    "start_time": "2021-10-17T16:45:46.314Z"
   },
   {
    "duration": 748,
    "start_time": "2021-10-17T16:46:16.136Z"
   },
   {
    "duration": 8,
    "start_time": "2021-10-17T16:46:32.064Z"
   },
   {
    "duration": 158,
    "start_time": "2021-10-17T16:47:09.449Z"
   },
   {
    "duration": 60,
    "start_time": "2021-10-17T16:47:12.376Z"
   },
   {
    "duration": 113,
    "start_time": "2021-10-17T16:47:23.321Z"
   },
   {
    "duration": 7667,
    "start_time": "2021-10-17T16:47:36.241Z"
   },
   {
    "duration": 11,
    "start_time": "2021-10-17T16:48:26.075Z"
   },
   {
    "duration": 7,
    "start_time": "2021-10-17T16:52:23.641Z"
   },
   {
    "duration": 8634,
    "start_time": "2021-10-17T16:52:41.162Z"
   },
   {
    "duration": 369,
    "start_time": "2021-10-17T16:53:11.657Z"
   },
   {
    "duration": 10,
    "start_time": "2021-10-17T16:54:51.042Z"
   },
   {
    "duration": 308,
    "start_time": "2021-10-17T16:55:02.673Z"
   },
   {
    "duration": 371,
    "start_time": "2021-10-17T16:55:12.864Z"
   },
   {
    "duration": 347,
    "start_time": "2021-10-17T16:55:22.554Z"
   },
   {
    "duration": 4,
    "start_time": "2021-10-17T16:56:04.049Z"
   },
   {
    "duration": 14,
    "start_time": "2021-10-17T16:56:08.593Z"
   },
   {
    "duration": 10,
    "start_time": "2021-10-17T16:56:15.465Z"
   },
   {
    "duration": 13,
    "start_time": "2021-10-17T16:56:23.234Z"
   },
   {
    "duration": 6,
    "start_time": "2021-10-17T16:57:23.257Z"
   },
   {
    "duration": 6202,
    "start_time": "2021-10-17T16:59:28.425Z"
   },
   {
    "duration": 5637,
    "start_time": "2021-10-17T16:59:47.098Z"
   },
   {
    "duration": 9,
    "start_time": "2021-10-17T17:00:13.297Z"
   },
   {
    "duration": 9,
    "start_time": "2021-10-17T17:00:48.466Z"
   },
   {
    "duration": 308,
    "start_time": "2021-10-17T17:00:57.944Z"
   },
   {
    "duration": 10,
    "start_time": "2021-10-17T17:01:22.018Z"
   },
   {
    "duration": 8,
    "start_time": "2021-10-17T17:02:28.529Z"
   },
   {
    "duration": 13,
    "start_time": "2021-10-17T17:02:31.529Z"
   },
   {
    "duration": 21,
    "start_time": "2021-10-17T17:10:06.811Z"
   },
   {
    "duration": 7,
    "start_time": "2021-10-17T17:11:10.130Z"
   },
   {
    "duration": 8,
    "start_time": "2021-10-17T17:11:16.450Z"
   },
   {
    "duration": 199,
    "start_time": "2021-10-17T17:11:24.978Z"
   },
   {
    "duration": 293,
    "start_time": "2021-10-17T17:11:48.539Z"
   },
   {
    "duration": 7,
    "start_time": "2021-10-17T17:11:53.338Z"
   },
   {
    "duration": 8,
    "start_time": "2021-10-17T17:12:06.517Z"
   },
   {
    "duration": 615,
    "start_time": "2021-10-17T17:15:17.345Z"
   },
   {
    "duration": 137,
    "start_time": "2021-10-17T17:15:35.169Z"
   },
   {
    "duration": 95,
    "start_time": "2021-10-17T17:16:46.338Z"
   },
   {
    "duration": 101,
    "start_time": "2021-10-17T17:19:07.026Z"
   },
   {
    "duration": 65,
    "start_time": "2021-10-17T17:19:13.617Z"
   },
   {
    "duration": 65,
    "start_time": "2021-10-17T17:19:44.930Z"
   },
   {
    "duration": 62,
    "start_time": "2021-10-17T17:21:08.706Z"
   },
   {
    "duration": 10,
    "start_time": "2021-10-17T17:22:19.402Z"
   },
   {
    "duration": 71,
    "start_time": "2021-10-17T17:23:52.546Z"
   },
   {
    "duration": 49,
    "start_time": "2021-10-17T17:25:37.228Z"
   },
   {
    "duration": 44,
    "start_time": "2021-10-17T17:25:45.003Z"
   },
   {
    "duration": 32,
    "start_time": "2021-10-17T17:27:13.002Z"
   },
   {
    "duration": 331,
    "start_time": "2021-10-17T17:27:50.026Z"
   },
   {
    "duration": 341,
    "start_time": "2021-10-17T17:28:03.059Z"
   },
   {
    "duration": 64,
    "start_time": "2021-10-17T17:28:13.595Z"
   },
   {
    "duration": 11,
    "start_time": "2021-10-17T17:28:19.547Z"
   },
   {
    "duration": 68,
    "start_time": "2021-10-17T17:28:22.204Z"
   },
   {
    "duration": 22,
    "start_time": "2021-10-17T17:28:35.842Z"
   },
   {
    "duration": 6,
    "start_time": "2021-10-17T17:29:04.098Z"
   },
   {
    "duration": 404,
    "start_time": "2021-10-17T17:33:31.148Z"
   },
   {
    "duration": 82,
    "start_time": "2021-10-17T17:33:47.971Z"
   },
   {
    "duration": 83,
    "start_time": "2021-10-17T17:33:55.371Z"
   },
   {
    "duration": 104,
    "start_time": "2021-10-17T17:34:13.836Z"
   },
   {
    "duration": 385,
    "start_time": "2021-10-17T17:35:20.540Z"
   },
   {
    "duration": 89,
    "start_time": "2021-10-17T17:35:57.059Z"
   },
   {
    "duration": 86,
    "start_time": "2021-10-17T17:36:03.747Z"
   },
   {
    "duration": 84,
    "start_time": "2021-10-17T17:36:24.315Z"
   },
   {
    "duration": 86,
    "start_time": "2021-10-17T17:36:45.403Z"
   },
   {
    "duration": 4218,
    "start_time": "2021-10-17T17:36:58.108Z"
   },
   {
    "duration": 3,
    "start_time": "2021-10-17T17:37:21.883Z"
   },
   {
    "duration": 502,
    "start_time": "2021-10-17T17:37:21.889Z"
   },
   {
    "duration": 17,
    "start_time": "2021-10-17T17:37:22.395Z"
   },
   {
    "duration": 12,
    "start_time": "2021-10-17T17:37:22.415Z"
   },
   {
    "duration": 32,
    "start_time": "2021-10-17T17:37:22.429Z"
   },
   {
    "duration": 22,
    "start_time": "2021-10-17T17:37:22.463Z"
   },
   {
    "duration": 42,
    "start_time": "2021-10-17T17:37:22.487Z"
   },
   {
    "duration": 35,
    "start_time": "2021-10-17T17:37:22.533Z"
   },
   {
    "duration": 16,
    "start_time": "2021-10-17T17:37:22.571Z"
   },
   {
    "duration": 28,
    "start_time": "2021-10-17T17:37:22.590Z"
   },
   {
    "duration": 66,
    "start_time": "2021-10-17T17:37:22.620Z"
   },
   {
    "duration": 495,
    "start_time": "2021-10-17T17:37:22.689Z"
   },
   {
    "duration": 134,
    "start_time": "2021-10-17T17:37:23.187Z"
   },
   {
    "duration": 12,
    "start_time": "2021-10-17T17:37:23.324Z"
   },
   {
    "duration": 38,
    "start_time": "2021-10-17T17:37:23.339Z"
   },
   {
    "duration": 18,
    "start_time": "2021-10-17T17:37:23.379Z"
   },
   {
    "duration": 202,
    "start_time": "2021-10-17T17:37:23.399Z"
   },
   {
    "duration": 67,
    "start_time": "2021-10-17T17:37:23.604Z"
   },
   {
    "duration": 12,
    "start_time": "2021-10-17T17:37:23.674Z"
   },
   {
    "duration": 25,
    "start_time": "2021-10-17T17:37:23.688Z"
   },
   {
    "duration": 58,
    "start_time": "2021-10-17T17:37:23.716Z"
   },
   {
    "duration": 208,
    "start_time": "2021-10-17T17:37:23.776Z"
   },
   {
    "duration": 102,
    "start_time": "2021-10-17T17:37:23.989Z"
   },
   {
    "duration": 11,
    "start_time": "2021-10-17T17:37:24.094Z"
   },
   {
    "duration": 9,
    "start_time": "2021-10-17T17:37:24.108Z"
   },
   {
    "duration": 114,
    "start_time": "2021-10-17T17:37:24.120Z"
   },
   {
    "duration": 7,
    "start_time": "2021-10-17T17:37:24.237Z"
   },
   {
    "duration": 33,
    "start_time": "2021-10-17T17:37:24.246Z"
   },
   {
    "duration": 331,
    "start_time": "2021-10-17T17:37:24.281Z"
   },
   {
    "duration": 59,
    "start_time": "2021-10-17T17:37:24.616Z"
   },
   {
    "duration": 347,
    "start_time": "2021-10-17T17:37:24.678Z"
   },
   {
    "duration": 45,
    "start_time": "2021-10-17T17:37:25.027Z"
   },
   {
    "duration": 164,
    "start_time": "2021-10-17T17:37:25.074Z"
   },
   {
    "duration": 74,
    "start_time": "2021-10-17T17:37:25.241Z"
   },
   {
    "duration": 10,
    "start_time": "2021-10-17T17:37:25.317Z"
   },
   {
    "duration": 88,
    "start_time": "2021-10-17T17:37:25.330Z"
   },
   {
    "duration": 66,
    "start_time": "2021-10-17T17:37:25.420Z"
   },
   {
    "duration": 28,
    "start_time": "2021-10-17T17:37:25.488Z"
   },
   {
    "duration": 80,
    "start_time": "2021-10-17T17:37:28.841Z"
   },
   {
    "duration": 87,
    "start_time": "2021-10-17T17:37:59.132Z"
   },
   {
    "duration": 5,
    "start_time": "2021-10-17T17:38:15.091Z"
   },
   {
    "duration": 19,
    "start_time": "2021-10-17T17:38:24.531Z"
   },
   {
    "duration": 91,
    "start_time": "2021-10-17T17:39:17.811Z"
   },
   {
    "duration": 3,
    "start_time": "2021-10-17T17:39:35.185Z"
   },
   {
    "duration": 507,
    "start_time": "2021-10-17T17:39:35.191Z"
   },
   {
    "duration": 15,
    "start_time": "2021-10-17T17:39:35.701Z"
   },
   {
    "duration": 10,
    "start_time": "2021-10-17T17:39:35.719Z"
   },
   {
    "duration": 9,
    "start_time": "2021-10-17T17:39:35.731Z"
   },
   {
    "duration": 41,
    "start_time": "2021-10-17T17:39:35.742Z"
   },
   {
    "duration": 40,
    "start_time": "2021-10-17T17:39:35.785Z"
   },
   {
    "duration": 43,
    "start_time": "2021-10-17T17:39:35.827Z"
   },
   {
    "duration": 14,
    "start_time": "2021-10-17T17:39:35.874Z"
   },
   {
    "duration": 29,
    "start_time": "2021-10-17T17:39:35.890Z"
   },
   {
    "duration": 64,
    "start_time": "2021-10-17T17:39:35.921Z"
   },
   {
    "duration": 391,
    "start_time": "2021-10-17T17:39:35.988Z"
   },
   {
    "duration": 129,
    "start_time": "2021-10-17T17:39:36.382Z"
   },
   {
    "duration": 10,
    "start_time": "2021-10-17T17:39:36.514Z"
   },
   {
    "duration": 40,
    "start_time": "2021-10-17T17:39:36.526Z"
   },
   {
    "duration": 17,
    "start_time": "2021-10-17T17:39:36.569Z"
   },
   {
    "duration": 205,
    "start_time": "2021-10-17T17:39:36.588Z"
   },
   {
    "duration": 70,
    "start_time": "2021-10-17T17:39:36.796Z"
   },
   {
    "duration": 13,
    "start_time": "2021-10-17T17:39:36.869Z"
   },
   {
    "duration": 28,
    "start_time": "2021-10-17T17:39:36.884Z"
   },
   {
    "duration": 69,
    "start_time": "2021-10-17T17:39:36.915Z"
   },
   {
    "duration": 201,
    "start_time": "2021-10-17T17:39:36.986Z"
   },
   {
    "duration": 106,
    "start_time": "2021-10-17T17:39:37.189Z"
   },
   {
    "duration": 12,
    "start_time": "2021-10-17T17:39:37.298Z"
   },
   {
    "duration": 12,
    "start_time": "2021-10-17T17:39:37.312Z"
   },
   {
    "duration": 117,
    "start_time": "2021-10-17T17:39:37.326Z"
   },
   {
    "duration": 16,
    "start_time": "2021-10-17T17:39:37.448Z"
   },
   {
    "duration": 33,
    "start_time": "2021-10-17T17:39:37.468Z"
   },
   {
    "duration": 331,
    "start_time": "2021-10-17T17:39:37.504Z"
   },
   {
    "duration": 45,
    "start_time": "2021-10-17T17:39:37.838Z"
   },
   {
    "duration": 332,
    "start_time": "2021-10-17T17:39:37.885Z"
   },
   {
    "duration": 44,
    "start_time": "2021-10-17T17:39:38.219Z"
   },
   {
    "duration": 160,
    "start_time": "2021-10-17T17:39:38.265Z"
   },
   {
    "duration": 71,
    "start_time": "2021-10-17T17:39:38.428Z"
   },
   {
    "duration": 11,
    "start_time": "2021-10-17T17:39:38.501Z"
   },
   {
    "duration": 82,
    "start_time": "2021-10-17T17:39:38.514Z"
   },
   {
    "duration": 65,
    "start_time": "2021-10-17T17:39:38.598Z"
   },
   {
    "duration": 26,
    "start_time": "2021-10-17T17:39:38.666Z"
   },
   {
    "duration": 98,
    "start_time": "2021-10-17T17:39:38.694Z"
   },
   {
    "duration": 16,
    "start_time": "2021-10-17T17:39:38.795Z"
   },
   {
    "duration": 66,
    "start_time": "2021-10-17T17:40:33.844Z"
   },
   {
    "duration": 331,
    "start_time": "2021-10-17T17:40:37.691Z"
   },
   {
    "duration": 4,
    "start_time": "2021-10-17T17:40:50.913Z"
   },
   {
    "duration": 555,
    "start_time": "2021-10-17T17:40:50.919Z"
   },
   {
    "duration": 15,
    "start_time": "2021-10-17T17:40:51.477Z"
   },
   {
    "duration": 20,
    "start_time": "2021-10-17T17:40:51.496Z"
   },
   {
    "duration": 29,
    "start_time": "2021-10-17T17:40:51.520Z"
   },
   {
    "duration": 24,
    "start_time": "2021-10-17T17:40:51.552Z"
   },
   {
    "duration": 40,
    "start_time": "2021-10-17T17:40:51.579Z"
   },
   {
    "duration": 18,
    "start_time": "2021-10-17T17:40:51.622Z"
   },
   {
    "duration": 11,
    "start_time": "2021-10-17T17:40:51.663Z"
   },
   {
    "duration": 31,
    "start_time": "2021-10-17T17:40:51.677Z"
   },
   {
    "duration": 62,
    "start_time": "2021-10-17T17:40:51.710Z"
   },
   {
    "duration": 390,
    "start_time": "2021-10-17T17:40:51.775Z"
   },
   {
    "duration": 119,
    "start_time": "2021-10-17T17:40:52.167Z"
   },
   {
    "duration": 11,
    "start_time": "2021-10-17T17:40:52.288Z"
   },
   {
    "duration": 21,
    "start_time": "2021-10-17T17:40:52.302Z"
   },
   {
    "duration": 52,
    "start_time": "2021-10-17T17:40:52.326Z"
   },
   {
    "duration": 198,
    "start_time": "2021-10-17T17:40:52.380Z"
   },
   {
    "duration": 59,
    "start_time": "2021-10-17T17:40:52.580Z"
   },
   {
    "duration": 29,
    "start_time": "2021-10-17T17:40:52.641Z"
   },
   {
    "duration": 26,
    "start_time": "2021-10-17T17:40:52.672Z"
   },
   {
    "duration": 34,
    "start_time": "2021-10-17T17:40:52.701Z"
   },
   {
    "duration": 208,
    "start_time": "2021-10-17T17:40:52.762Z"
   },
   {
    "duration": 107,
    "start_time": "2021-10-17T17:40:52.973Z"
   },
   {
    "duration": 12,
    "start_time": "2021-10-17T17:40:53.082Z"
   },
   {
    "duration": 11,
    "start_time": "2021-10-17T17:40:53.097Z"
   },
   {
    "duration": 111,
    "start_time": "2021-10-17T17:40:53.111Z"
   },
   {
    "duration": 7,
    "start_time": "2021-10-17T17:40:53.227Z"
   },
   {
    "duration": 31,
    "start_time": "2021-10-17T17:40:53.237Z"
   },
   {
    "duration": 332,
    "start_time": "2021-10-17T17:40:53.271Z"
   },
   {
    "duration": 41,
    "start_time": "2021-10-17T17:40:53.605Z"
   },
   {
    "duration": 333,
    "start_time": "2021-10-17T17:40:53.662Z"
   },
   {
    "duration": 30,
    "start_time": "2021-10-17T17:40:53.998Z"
   },
   {
    "duration": 176,
    "start_time": "2021-10-17T17:40:54.031Z"
   },
   {
    "duration": 73,
    "start_time": "2021-10-17T17:40:54.209Z"
   },
   {
    "duration": 10,
    "start_time": "2021-10-17T17:40:54.285Z"
   },
   {
    "duration": 89,
    "start_time": "2021-10-17T17:40:54.297Z"
   },
   {
    "duration": 52,
    "start_time": "2021-10-17T17:40:54.389Z"
   },
   {
    "duration": 40,
    "start_time": "2021-10-17T17:40:54.443Z"
   },
   {
    "duration": 99,
    "start_time": "2021-10-17T17:40:54.485Z"
   },
   {
    "duration": 15,
    "start_time": "2021-10-17T17:40:54.586Z"
   },
   {
    "duration": 58,
    "start_time": "2021-10-17T17:41:14.642Z"
   },
   {
    "duration": 29,
    "start_time": "2021-10-17T17:41:34.452Z"
   },
   {
    "duration": 322,
    "start_time": "2021-10-17T17:44:32.052Z"
   },
   {
    "duration": 338,
    "start_time": "2021-10-17T17:47:18.948Z"
   },
   {
    "duration": 4,
    "start_time": "2021-10-17T17:47:36.416Z"
   },
   {
    "duration": 499,
    "start_time": "2021-10-17T17:47:36.423Z"
   },
   {
    "duration": 14,
    "start_time": "2021-10-17T17:47:36.924Z"
   },
   {
    "duration": 10,
    "start_time": "2021-10-17T17:47:36.941Z"
   },
   {
    "duration": 15,
    "start_time": "2021-10-17T17:47:36.953Z"
   },
   {
    "duration": 22,
    "start_time": "2021-10-17T17:47:36.970Z"
   },
   {
    "duration": 37,
    "start_time": "2021-10-17T17:47:36.995Z"
   },
   {
    "duration": 10,
    "start_time": "2021-10-17T17:47:37.064Z"
   },
   {
    "duration": 10,
    "start_time": "2021-10-17T17:47:37.077Z"
   },
   {
    "duration": 27,
    "start_time": "2021-10-17T17:47:37.089Z"
   },
   {
    "duration": 71,
    "start_time": "2021-10-17T17:47:37.119Z"
   },
   {
    "duration": 371,
    "start_time": "2021-10-17T17:47:37.193Z"
   },
   {
    "duration": 118,
    "start_time": "2021-10-17T17:47:37.566Z"
   },
   {
    "duration": 10,
    "start_time": "2021-10-17T17:47:37.686Z"
   },
   {
    "duration": 19,
    "start_time": "2021-10-17T17:47:37.699Z"
   },
   {
    "duration": 45,
    "start_time": "2021-10-17T17:47:37.721Z"
   },
   {
    "duration": 177,
    "start_time": "2021-10-17T17:47:37.768Z"
   },
   {
    "duration": 64,
    "start_time": "2021-10-17T17:47:37.947Z"
   },
   {
    "duration": 12,
    "start_time": "2021-10-17T17:47:38.014Z"
   },
   {
    "duration": 45,
    "start_time": "2021-10-17T17:47:38.028Z"
   },
   {
    "duration": 36,
    "start_time": "2021-10-17T17:47:38.075Z"
   },
   {
    "duration": 214,
    "start_time": "2021-10-17T17:47:38.114Z"
   },
   {
    "duration": 100,
    "start_time": "2021-10-17T17:47:38.332Z"
   },
   {
    "duration": 11,
    "start_time": "2021-10-17T17:47:38.435Z"
   },
   {
    "duration": 9,
    "start_time": "2021-10-17T17:47:38.461Z"
   },
   {
    "duration": 117,
    "start_time": "2021-10-17T17:47:38.472Z"
   },
   {
    "duration": 7,
    "start_time": "2021-10-17T17:47:38.592Z"
   },
   {
    "duration": 25,
    "start_time": "2021-10-17T17:47:38.601Z"
   },
   {
    "duration": 355,
    "start_time": "2021-10-17T17:47:38.628Z"
   },
   {
    "duration": 44,
    "start_time": "2021-10-17T17:47:38.985Z"
   },
   {
    "duration": 372,
    "start_time": "2021-10-17T17:47:39.031Z"
   },
   {
    "duration": 33,
    "start_time": "2021-10-17T17:47:39.406Z"
   },
   {
    "duration": 334,
    "start_time": "2021-10-17T17:47:41.986Z"
   },
   {
    "duration": 66,
    "start_time": "2021-10-17T17:48:00.803Z"
   },
   {
    "duration": 1358,
    "start_time": "2021-10-17T17:48:46.088Z"
   },
   {
    "duration": 538,
    "start_time": "2021-10-17T17:48:47.449Z"
   },
   {
    "duration": 18,
    "start_time": "2021-10-17T17:48:47.995Z"
   },
   {
    "duration": 11,
    "start_time": "2021-10-17T17:48:48.016Z"
   },
   {
    "duration": 32,
    "start_time": "2021-10-17T17:48:48.030Z"
   },
   {
    "duration": 23,
    "start_time": "2021-10-17T17:48:48.064Z"
   },
   {
    "duration": 39,
    "start_time": "2021-10-17T17:48:48.091Z"
   },
   {
    "duration": 10,
    "start_time": "2021-10-17T17:48:48.161Z"
   },
   {
    "duration": 11,
    "start_time": "2021-10-17T17:48:48.173Z"
   },
   {
    "duration": 28,
    "start_time": "2021-10-17T17:48:48.187Z"
   },
   {
    "duration": 71,
    "start_time": "2021-10-17T17:48:48.218Z"
   },
   {
    "duration": 405,
    "start_time": "2021-10-17T17:48:48.291Z"
   },
   {
    "duration": 163,
    "start_time": "2021-10-17T17:48:48.698Z"
   },
   {
    "duration": 11,
    "start_time": "2021-10-17T17:48:48.863Z"
   },
   {
    "duration": 20,
    "start_time": "2021-10-17T17:48:48.876Z"
   },
   {
    "duration": 19,
    "start_time": "2021-10-17T17:48:48.898Z"
   },
   {
    "duration": 219,
    "start_time": "2021-10-17T17:48:48.919Z"
   },
   {
    "duration": 83,
    "start_time": "2021-10-17T17:48:49.141Z"
   },
   {
    "duration": 12,
    "start_time": "2021-10-17T17:48:49.227Z"
   },
   {
    "duration": 40,
    "start_time": "2021-10-17T17:48:49.242Z"
   },
   {
    "duration": 41,
    "start_time": "2021-10-17T17:48:49.285Z"
   },
   {
    "duration": 240,
    "start_time": "2021-10-17T17:48:49.331Z"
   },
   {
    "duration": 108,
    "start_time": "2021-10-17T17:48:49.574Z"
   },
   {
    "duration": 11,
    "start_time": "2021-10-17T17:48:49.684Z"
   },
   {
    "duration": 13,
    "start_time": "2021-10-17T17:48:49.697Z"
   },
   {
    "duration": 124,
    "start_time": "2021-10-17T17:48:49.712Z"
   },
   {
    "duration": 7,
    "start_time": "2021-10-17T17:48:49.838Z"
   },
   {
    "duration": 35,
    "start_time": "2021-10-17T17:48:49.847Z"
   },
   {
    "duration": 353,
    "start_time": "2021-10-17T17:48:49.885Z"
   },
   {
    "duration": 54,
    "start_time": "2021-10-17T17:48:50.240Z"
   },
   {
    "duration": 343,
    "start_time": "2021-10-17T17:48:50.297Z"
   },
   {
    "duration": 44,
    "start_time": "2021-10-17T17:48:50.642Z"
   },
   {
    "duration": 76,
    "start_time": "2021-10-17T17:48:50.688Z"
   },
   {
    "duration": 48,
    "start_time": "2021-10-17T17:48:50.766Z"
   },
   {
    "duration": 11,
    "start_time": "2021-10-17T17:48:50.816Z"
   },
   {
    "duration": 57,
    "start_time": "2021-10-17T17:48:50.830Z"
   },
   {
    "duration": 36,
    "start_time": "2021-10-17T17:48:50.890Z"
   },
   {
    "duration": 53,
    "start_time": "2021-10-17T17:48:50.929Z"
   },
   {
    "duration": 45,
    "start_time": "2021-10-17T17:48:50.985Z"
   },
   {
    "duration": 43,
    "start_time": "2021-10-17T17:48:51.033Z"
   },
   {
    "duration": 40,
    "start_time": "2021-10-17T17:48:51.079Z"
   },
   {
    "duration": 55,
    "start_time": "2021-10-17T17:48:51.123Z"
   },
   {
    "duration": 1131,
    "start_time": "2021-10-18T14:21:14.344Z"
   },
   {
    "duration": 448,
    "start_time": "2021-10-18T14:21:15.477Z"
   },
   {
    "duration": 15,
    "start_time": "2021-10-18T14:21:15.928Z"
   },
   {
    "duration": 9,
    "start_time": "2021-10-18T14:21:15.945Z"
   },
   {
    "duration": 10,
    "start_time": "2021-10-18T14:21:15.963Z"
   },
   {
    "duration": 17,
    "start_time": "2021-10-18T14:21:15.975Z"
   },
   {
    "duration": 24,
    "start_time": "2021-10-18T14:21:15.994Z"
   },
   {
    "duration": 11,
    "start_time": "2021-10-18T14:21:16.019Z"
   },
   {
    "duration": 43,
    "start_time": "2021-10-18T14:21:16.032Z"
   },
   {
    "duration": 23,
    "start_time": "2021-10-18T14:21:16.079Z"
   },
   {
    "duration": 30,
    "start_time": "2021-10-18T14:21:16.104Z"
   },
   {
    "duration": 406,
    "start_time": "2021-10-18T14:21:16.163Z"
   },
   {
    "duration": 128,
    "start_time": "2021-10-18T14:21:16.571Z"
   },
   {
    "duration": 7,
    "start_time": "2021-10-18T14:21:16.700Z"
   },
   {
    "duration": 17,
    "start_time": "2021-10-18T14:21:16.709Z"
   },
   {
    "duration": 20,
    "start_time": "2021-10-18T14:21:16.728Z"
   },
   {
    "duration": 204,
    "start_time": "2021-10-18T14:21:16.762Z"
   },
   {
    "duration": 53,
    "start_time": "2021-10-18T14:21:16.968Z"
   },
   {
    "duration": 9,
    "start_time": "2021-10-18T14:21:17.024Z"
   },
   {
    "duration": 53,
    "start_time": "2021-10-18T14:21:17.035Z"
   },
   {
    "duration": 30,
    "start_time": "2021-10-18T14:21:17.090Z"
   },
   {
    "duration": 223,
    "start_time": "2021-10-18T14:21:17.122Z"
   },
   {
    "duration": 81,
    "start_time": "2021-10-18T14:21:17.347Z"
   },
   {
    "duration": 9,
    "start_time": "2021-10-18T14:21:17.429Z"
   },
   {
    "duration": 29,
    "start_time": "2021-10-18T14:21:17.439Z"
   },
   {
    "duration": 70,
    "start_time": "2021-10-18T14:21:17.478Z"
   },
   {
    "duration": 8,
    "start_time": "2021-10-18T14:21:17.566Z"
   },
   {
    "duration": 17,
    "start_time": "2021-10-18T14:21:17.576Z"
   },
   {
    "duration": 239,
    "start_time": "2021-10-18T14:21:17.595Z"
   },
   {
    "duration": 50,
    "start_time": "2021-10-18T14:21:17.836Z"
   },
   {
    "duration": 214,
    "start_time": "2021-10-18T14:21:17.887Z"
   },
   {
    "duration": 24,
    "start_time": "2021-10-18T14:21:18.103Z"
   },
   {
    "duration": 59,
    "start_time": "2021-10-18T14:22:43.033Z"
   },
   {
    "duration": 45,
    "start_time": "2021-10-18T14:22:54.961Z"
   },
   {
    "duration": 29,
    "start_time": "2021-10-18T14:23:31.586Z"
   },
   {
    "duration": 28,
    "start_time": "2021-10-18T14:24:16.803Z"
   },
   {
    "duration": 13,
    "start_time": "2021-10-18T14:24:24.666Z"
   },
   {
    "duration": 6934,
    "start_time": "2021-10-18T14:25:21.810Z"
   },
   {
    "duration": 6702,
    "start_time": "2021-10-18T14:25:43.082Z"
   },
   {
    "duration": 6,
    "start_time": "2021-10-18T14:27:44.119Z"
   },
   {
    "duration": 9,
    "start_time": "2021-10-18T14:27:51.186Z"
   },
   {
    "duration": 261,
    "start_time": "2021-10-18T14:27:57.810Z"
   },
   {
    "duration": 250,
    "start_time": "2021-10-18T14:28:28.691Z"
   },
   {
    "duration": 23,
    "start_time": "2021-10-18T14:28:35.379Z"
   },
   {
    "duration": 23,
    "start_time": "2021-10-18T14:28:37.539Z"
   },
   {
    "duration": 21,
    "start_time": "2021-10-18T14:28:41.555Z"
   },
   {
    "duration": 35,
    "start_time": "2021-10-18T14:28:57.707Z"
   },
   {
    "duration": 14,
    "start_time": "2021-10-18T14:29:11.372Z"
   },
   {
    "duration": 25,
    "start_time": "2021-10-18T14:29:22.034Z"
   },
   {
    "duration": 14,
    "start_time": "2021-10-18T14:29:26.106Z"
   },
   {
    "duration": 15,
    "start_time": "2021-10-18T14:29:40.028Z"
   },
   {
    "duration": 6,
    "start_time": "2021-10-18T14:29:44.891Z"
   },
   {
    "duration": 5,
    "start_time": "2021-10-18T14:29:51.883Z"
   },
   {
    "duration": 7,
    "start_time": "2021-10-18T14:30:41.683Z"
   },
   {
    "duration": 9,
    "start_time": "2021-10-18T14:34:34.076Z"
   },
   {
    "duration": 9,
    "start_time": "2021-10-18T14:34:43.956Z"
   },
   {
    "duration": 283,
    "start_time": "2021-10-18T14:34:50.819Z"
   },
   {
    "duration": 331,
    "start_time": "2021-10-18T14:34:54.707Z"
   },
   {
    "duration": 5,
    "start_time": "2021-10-18T14:35:08.579Z"
   },
   {
    "duration": 7,
    "start_time": "2021-10-18T14:35:11.469Z"
   },
   {
    "duration": 5,
    "start_time": "2021-10-18T14:35:21.747Z"
   },
   {
    "duration": 283,
    "start_time": "2021-10-18T14:35:27.515Z"
   },
   {
    "duration": 309,
    "start_time": "2021-10-18T14:35:45.459Z"
   },
   {
    "duration": 251,
    "start_time": "2021-10-18T14:35:51.883Z"
   },
   {
    "duration": 3,
    "start_time": "2021-10-18T14:36:03.145Z"
   },
   {
    "duration": 442,
    "start_time": "2021-10-18T14:36:03.149Z"
   },
   {
    "duration": 9,
    "start_time": "2021-10-18T14:36:03.593Z"
   },
   {
    "duration": 15,
    "start_time": "2021-10-18T14:36:03.604Z"
   },
   {
    "duration": 11,
    "start_time": "2021-10-18T14:36:03.621Z"
   },
   {
    "duration": 22,
    "start_time": "2021-10-18T14:36:03.633Z"
   },
   {
    "duration": 33,
    "start_time": "2021-10-18T14:36:03.657Z"
   },
   {
    "duration": 6,
    "start_time": "2021-10-18T14:36:03.692Z"
   },
   {
    "duration": 17,
    "start_time": "2021-10-18T14:36:03.701Z"
   },
   {
    "duration": 26,
    "start_time": "2021-10-18T14:36:03.720Z"
   },
   {
    "duration": 49,
    "start_time": "2021-10-18T14:36:03.747Z"
   },
   {
    "duration": 398,
    "start_time": "2021-10-18T14:36:03.798Z"
   },
   {
    "duration": 105,
    "start_time": "2021-10-18T14:36:04.198Z"
   },
   {
    "duration": 7,
    "start_time": "2021-10-18T14:36:04.305Z"
   },
   {
    "duration": 22,
    "start_time": "2021-10-18T14:36:04.314Z"
   },
   {
    "duration": 26,
    "start_time": "2021-10-18T14:36:04.338Z"
   },
   {
    "duration": 169,
    "start_time": "2021-10-18T14:36:04.367Z"
   },
   {
    "duration": 55,
    "start_time": "2021-10-18T14:36:04.538Z"
   },
   {
    "duration": 7,
    "start_time": "2021-10-18T14:36:04.595Z"
   },
   {
    "duration": 27,
    "start_time": "2021-10-18T14:36:04.604Z"
   },
   {
    "duration": 46,
    "start_time": "2021-10-18T14:36:04.633Z"
   },
   {
    "duration": 207,
    "start_time": "2021-10-18T14:36:04.680Z"
   },
   {
    "duration": 55,
    "start_time": "2021-10-18T14:36:04.889Z"
   },
   {
    "duration": 24,
    "start_time": "2021-10-18T14:36:04.946Z"
   },
   {
    "duration": 9,
    "start_time": "2021-10-18T14:36:04.973Z"
   },
   {
    "duration": 85,
    "start_time": "2021-10-18T14:36:04.984Z"
   },
   {
    "duration": 8,
    "start_time": "2021-10-18T14:36:05.075Z"
   },
   {
    "duration": 23,
    "start_time": "2021-10-18T14:36:05.085Z"
   },
   {
    "duration": 220,
    "start_time": "2021-10-18T14:36:05.109Z"
   },
   {
    "duration": 47,
    "start_time": "2021-10-18T14:36:05.331Z"
   },
   {
    "duration": 207,
    "start_time": "2021-10-18T14:36:05.380Z"
   },
   {
    "duration": 25,
    "start_time": "2021-10-18T14:36:05.588Z"
   },
   {
    "duration": 72,
    "start_time": "2021-10-18T14:36:05.616Z"
   },
   {
    "duration": 28,
    "start_time": "2021-10-18T14:36:05.690Z"
   },
   {
    "duration": 23,
    "start_time": "2021-10-18T14:36:05.720Z"
   },
   {
    "duration": 28,
    "start_time": "2021-10-18T14:36:05.768Z"
   },
   {
    "duration": 13,
    "start_time": "2021-10-18T14:36:05.798Z"
   },
   {
    "duration": 26,
    "start_time": "2021-10-18T14:36:05.813Z"
   },
   {
    "duration": 27,
    "start_time": "2021-10-18T14:36:05.840Z"
   },
   {
    "duration": 31,
    "start_time": "2021-10-18T14:36:05.869Z"
   },
   {
    "duration": 13,
    "start_time": "2021-10-18T14:36:05.902Z"
   },
   {
    "duration": 7,
    "start_time": "2021-10-18T14:36:05.916Z"
   },
   {
    "duration": 14,
    "start_time": "2021-10-18T14:36:05.925Z"
   },
   {
    "duration": 277,
    "start_time": "2021-10-18T14:37:57.276Z"
   },
   {
    "duration": 4,
    "start_time": "2021-10-18T14:38:12.180Z"
   },
   {
    "duration": 2,
    "start_time": "2021-10-18T14:38:33.193Z"
   },
   {
    "duration": 488,
    "start_time": "2021-10-18T14:38:33.197Z"
   },
   {
    "duration": 10,
    "start_time": "2021-10-18T14:38:33.687Z"
   },
   {
    "duration": 20,
    "start_time": "2021-10-18T14:38:33.699Z"
   },
   {
    "duration": 31,
    "start_time": "2021-10-18T14:38:33.720Z"
   },
   {
    "duration": 41,
    "start_time": "2021-10-18T14:38:33.752Z"
   },
   {
    "duration": 36,
    "start_time": "2021-10-18T14:38:33.795Z"
   },
   {
    "duration": 26,
    "start_time": "2021-10-18T14:38:33.833Z"
   },
   {
    "duration": 24,
    "start_time": "2021-10-18T14:38:33.861Z"
   },
   {
    "duration": 55,
    "start_time": "2021-10-18T14:38:33.888Z"
   },
   {
    "duration": 51,
    "start_time": "2021-10-18T14:38:33.945Z"
   },
   {
    "duration": 383,
    "start_time": "2021-10-18T14:38:33.998Z"
   },
   {
    "duration": 99,
    "start_time": "2021-10-18T14:38:34.383Z"
   },
   {
    "duration": 7,
    "start_time": "2021-10-18T14:38:34.483Z"
   },
   {
    "duration": 19,
    "start_time": "2021-10-18T14:38:34.491Z"
   },
   {
    "duration": 14,
    "start_time": "2021-10-18T14:38:34.512Z"
   },
   {
    "duration": 188,
    "start_time": "2021-10-18T14:38:34.528Z"
   },
   {
    "duration": 47,
    "start_time": "2021-10-18T14:38:34.718Z"
   },
   {
    "duration": 13,
    "start_time": "2021-10-18T14:38:34.767Z"
   },
   {
    "duration": 20,
    "start_time": "2021-10-18T14:38:34.781Z"
   },
   {
    "duration": 27,
    "start_time": "2021-10-18T14:38:34.803Z"
   },
   {
    "duration": 217,
    "start_time": "2021-10-18T14:38:34.832Z"
   },
   {
    "duration": 67,
    "start_time": "2021-10-18T14:38:35.050Z"
   },
   {
    "duration": 7,
    "start_time": "2021-10-18T14:38:35.119Z"
   },
   {
    "duration": 36,
    "start_time": "2021-10-18T14:38:35.128Z"
   },
   {
    "duration": 86,
    "start_time": "2021-10-18T14:38:35.167Z"
   },
   {
    "duration": 5,
    "start_time": "2021-10-18T14:38:35.256Z"
   },
   {
    "duration": 34,
    "start_time": "2021-10-18T14:38:35.264Z"
   },
   {
    "duration": 220,
    "start_time": "2021-10-18T14:38:35.300Z"
   },
   {
    "duration": 43,
    "start_time": "2021-10-18T14:38:35.522Z"
   },
   {
    "duration": 283,
    "start_time": "2021-10-18T14:38:35.567Z"
   },
   {
    "duration": 33,
    "start_time": "2021-10-18T14:38:35.852Z"
   },
   {
    "duration": 49,
    "start_time": "2021-10-18T14:38:35.887Z"
   },
   {
    "duration": 50,
    "start_time": "2021-10-18T14:38:35.938Z"
   },
   {
    "duration": 21,
    "start_time": "2021-10-18T14:38:35.990Z"
   },
   {
    "duration": 23,
    "start_time": "2021-10-18T14:38:36.012Z"
   },
   {
    "duration": 40,
    "start_time": "2021-10-18T14:38:36.037Z"
   },
   {
    "duration": 25,
    "start_time": "2021-10-18T14:38:36.079Z"
   },
   {
    "duration": 10,
    "start_time": "2021-10-18T14:38:36.106Z"
   },
   {
    "duration": 46,
    "start_time": "2021-10-18T14:38:36.117Z"
   },
   {
    "duration": 18,
    "start_time": "2021-10-18T14:38:36.166Z"
   },
   {
    "duration": 6,
    "start_time": "2021-10-18T14:38:36.186Z"
   },
   {
    "duration": 5,
    "start_time": "2021-10-18T14:38:36.194Z"
   },
   {
    "duration": 6,
    "start_time": "2021-10-18T14:39:15.468Z"
   },
   {
    "duration": 5,
    "start_time": "2021-10-18T14:39:22.490Z"
   },
   {
    "duration": 3,
    "start_time": "2021-10-18T14:39:32.824Z"
   },
   {
    "duration": 424,
    "start_time": "2021-10-18T14:39:32.829Z"
   },
   {
    "duration": 11,
    "start_time": "2021-10-18T14:39:33.255Z"
   },
   {
    "duration": 17,
    "start_time": "2021-10-18T14:39:33.269Z"
   },
   {
    "duration": 9,
    "start_time": "2021-10-18T14:39:33.288Z"
   },
   {
    "duration": 15,
    "start_time": "2021-10-18T14:39:33.299Z"
   },
   {
    "duration": 24,
    "start_time": "2021-10-18T14:39:33.316Z"
   },
   {
    "duration": 24,
    "start_time": "2021-10-18T14:39:33.341Z"
   },
   {
    "duration": 12,
    "start_time": "2021-10-18T14:39:33.369Z"
   },
   {
    "duration": 26,
    "start_time": "2021-10-18T14:39:33.383Z"
   },
   {
    "duration": 52,
    "start_time": "2021-10-18T14:39:33.411Z"
   },
   {
    "duration": 390,
    "start_time": "2021-10-18T14:39:33.466Z"
   },
   {
    "duration": 118,
    "start_time": "2021-10-18T14:39:33.858Z"
   },
   {
    "duration": 9,
    "start_time": "2021-10-18T14:39:33.978Z"
   },
   {
    "duration": 25,
    "start_time": "2021-10-18T14:39:33.988Z"
   },
   {
    "duration": 14,
    "start_time": "2021-10-18T14:39:34.016Z"
   },
   {
    "duration": 202,
    "start_time": "2021-10-18T14:39:34.033Z"
   },
   {
    "duration": 59,
    "start_time": "2021-10-18T14:39:34.237Z"
   },
   {
    "duration": 9,
    "start_time": "2021-10-18T14:39:34.299Z"
   },
   {
    "duration": 20,
    "start_time": "2021-10-18T14:39:34.309Z"
   },
   {
    "duration": 58,
    "start_time": "2021-10-18T14:39:34.331Z"
   },
   {
    "duration": 202,
    "start_time": "2021-10-18T14:39:34.392Z"
   },
   {
    "duration": 69,
    "start_time": "2021-10-18T14:39:34.596Z"
   },
   {
    "duration": 12,
    "start_time": "2021-10-18T14:39:34.667Z"
   },
   {
    "duration": 6,
    "start_time": "2021-10-18T14:39:34.681Z"
   },
   {
    "duration": 85,
    "start_time": "2021-10-18T14:39:34.688Z"
   },
   {
    "duration": 6,
    "start_time": "2021-10-18T14:39:34.778Z"
   },
   {
    "duration": 19,
    "start_time": "2021-10-18T14:39:34.786Z"
   },
   {
    "duration": 218,
    "start_time": "2021-10-18T14:39:34.808Z"
   },
   {
    "duration": 50,
    "start_time": "2021-10-18T14:39:35.027Z"
   },
   {
    "duration": 219,
    "start_time": "2021-10-18T14:39:35.079Z"
   },
   {
    "duration": 26,
    "start_time": "2021-10-18T14:39:35.299Z"
   },
   {
    "duration": 69,
    "start_time": "2021-10-18T14:39:35.328Z"
   },
   {
    "duration": 29,
    "start_time": "2021-10-18T14:39:35.400Z"
   },
   {
    "duration": 50,
    "start_time": "2021-10-18T14:39:35.431Z"
   },
   {
    "duration": 23,
    "start_time": "2021-10-18T14:39:35.483Z"
   },
   {
    "duration": 14,
    "start_time": "2021-10-18T14:39:35.508Z"
   },
   {
    "duration": 61,
    "start_time": "2021-10-18T14:39:35.523Z"
   },
   {
    "duration": 11,
    "start_time": "2021-10-18T14:39:35.586Z"
   },
   {
    "duration": 37,
    "start_time": "2021-10-18T14:39:35.599Z"
   },
   {
    "duration": 42,
    "start_time": "2021-10-18T14:39:35.638Z"
   },
   {
    "duration": 23,
    "start_time": "2021-10-18T14:39:44.859Z"
   },
   {
    "duration": 355,
    "start_time": "2021-10-18T14:40:20.107Z"
   },
   {
    "duration": 5,
    "start_time": "2021-10-18T14:40:36.836Z"
   },
   {
    "duration": 9,
    "start_time": "2021-10-18T14:40:48.795Z"
   },
   {
    "duration": 8,
    "start_time": "2021-10-18T14:40:53.147Z"
   },
   {
    "duration": 14,
    "start_time": "2021-10-18T14:40:57.428Z"
   },
   {
    "duration": 9,
    "start_time": "2021-10-18T14:41:10.587Z"
   },
   {
    "duration": 9,
    "start_time": "2021-10-18T14:41:19.948Z"
   },
   {
    "duration": 7,
    "start_time": "2021-10-18T14:42:50.476Z"
   },
   {
    "duration": 268,
    "start_time": "2021-10-18T14:46:54.508Z"
   },
   {
    "duration": 5,
    "start_time": "2021-10-18T14:47:17.652Z"
   },
   {
    "duration": 18,
    "start_time": "2021-10-18T14:47:23.259Z"
   },
   {
    "duration": 11,
    "start_time": "2021-10-18T14:48:37.316Z"
   },
   {
    "duration": 14,
    "start_time": "2021-10-18T14:48:52.470Z"
   },
   {
    "duration": 3,
    "start_time": "2021-10-18T14:49:20.113Z"
   },
   {
    "duration": 428,
    "start_time": "2021-10-18T14:49:20.118Z"
   },
   {
    "duration": 9,
    "start_time": "2021-10-18T14:49:20.549Z"
   },
   {
    "duration": 18,
    "start_time": "2021-10-18T14:49:20.560Z"
   },
   {
    "duration": 13,
    "start_time": "2021-10-18T14:49:20.580Z"
   },
   {
    "duration": 20,
    "start_time": "2021-10-18T14:49:20.595Z"
   },
   {
    "duration": 32,
    "start_time": "2021-10-18T14:49:20.617Z"
   },
   {
    "duration": 6,
    "start_time": "2021-10-18T14:49:20.652Z"
   },
   {
    "duration": 15,
    "start_time": "2021-10-18T14:49:20.664Z"
   },
   {
    "duration": 23,
    "start_time": "2021-10-18T14:49:20.680Z"
   },
   {
    "duration": 26,
    "start_time": "2021-10-18T14:49:20.705Z"
   },
   {
    "duration": 398,
    "start_time": "2021-10-18T14:49:20.733Z"
   },
   {
    "duration": 106,
    "start_time": "2021-10-18T14:49:21.133Z"
   },
   {
    "duration": 7,
    "start_time": "2021-10-18T14:49:21.241Z"
   },
   {
    "duration": 31,
    "start_time": "2021-10-18T14:49:21.249Z"
   },
   {
    "duration": 15,
    "start_time": "2021-10-18T14:49:21.282Z"
   },
   {
    "duration": 173,
    "start_time": "2021-10-18T14:49:21.299Z"
   },
   {
    "duration": 46,
    "start_time": "2021-10-18T14:49:21.475Z"
   },
   {
    "duration": 10,
    "start_time": "2021-10-18T14:49:21.523Z"
   },
   {
    "duration": 46,
    "start_time": "2021-10-18T14:49:21.535Z"
   },
   {
    "duration": 29,
    "start_time": "2021-10-18T14:49:21.583Z"
   },
   {
    "duration": 224,
    "start_time": "2021-10-18T14:49:21.614Z"
   },
   {
    "duration": 73,
    "start_time": "2021-10-18T14:49:21.843Z"
   },
   {
    "duration": 9,
    "start_time": "2021-10-18T14:49:21.919Z"
   },
   {
    "duration": 24,
    "start_time": "2021-10-18T14:49:21.930Z"
   },
   {
    "duration": 78,
    "start_time": "2021-10-18T14:49:21.956Z"
   },
   {
    "duration": 5,
    "start_time": "2021-10-18T14:49:22.036Z"
   },
   {
    "duration": 37,
    "start_time": "2021-10-18T14:49:22.042Z"
   },
   {
    "duration": 212,
    "start_time": "2021-10-18T14:49:22.081Z"
   },
   {
    "duration": 37,
    "start_time": "2021-10-18T14:49:22.294Z"
   },
   {
    "duration": 223,
    "start_time": "2021-10-18T14:49:22.332Z"
   },
   {
    "duration": 35,
    "start_time": "2021-10-18T14:49:22.557Z"
   },
   {
    "duration": 46,
    "start_time": "2021-10-18T14:49:22.593Z"
   },
   {
    "duration": 48,
    "start_time": "2021-10-18T14:49:22.641Z"
   },
   {
    "duration": 21,
    "start_time": "2021-10-18T14:49:22.691Z"
   },
   {
    "duration": 21,
    "start_time": "2021-10-18T14:49:22.714Z"
   },
   {
    "duration": 45,
    "start_time": "2021-10-18T14:49:22.737Z"
   },
   {
    "duration": 26,
    "start_time": "2021-10-18T14:49:22.784Z"
   },
   {
    "duration": 11,
    "start_time": "2021-10-18T14:49:22.811Z"
   },
   {
    "duration": 56,
    "start_time": "2021-10-18T14:49:22.823Z"
   },
   {
    "duration": 13,
    "start_time": "2021-10-18T14:49:22.881Z"
   },
   {
    "duration": 8,
    "start_time": "2021-10-18T14:49:22.895Z"
   },
   {
    "duration": 24,
    "start_time": "2021-10-18T14:49:22.905Z"
   },
   {
    "duration": 26,
    "start_time": "2021-10-18T14:49:22.930Z"
   },
   {
    "duration": 16,
    "start_time": "2021-10-18T14:49:22.958Z"
   },
   {
    "duration": 11,
    "start_time": "2021-10-18T14:49:25.940Z"
   },
   {
    "duration": 246,
    "start_time": "2021-10-18T14:50:52.187Z"
   },
   {
    "duration": 17,
    "start_time": "2021-10-18T14:51:07.964Z"
   },
   {
    "duration": 7,
    "start_time": "2021-10-18T14:56:47.861Z"
   },
   {
    "duration": 19,
    "start_time": "2021-10-18T14:56:51.260Z"
   },
   {
    "duration": 11,
    "start_time": "2021-10-18T14:58:15.645Z"
   },
   {
    "duration": 19,
    "start_time": "2021-10-18T14:59:21.524Z"
   },
   {
    "duration": 46,
    "start_time": "2021-10-18T15:00:10.206Z"
   },
   {
    "duration": 4,
    "start_time": "2021-10-18T15:01:05.709Z"
   },
   {
    "duration": 16,
    "start_time": "2021-10-18T15:01:09.931Z"
   },
   {
    "duration": 519,
    "start_time": "2021-10-18T15:01:27.341Z"
   },
   {
    "duration": 251,
    "start_time": "2021-10-18T15:01:37.340Z"
   },
   {
    "duration": 17,
    "start_time": "2021-10-18T15:01:50.877Z"
   },
   {
    "duration": 24,
    "start_time": "2021-10-18T15:02:18.469Z"
   },
   {
    "duration": 84,
    "start_time": "2021-10-18T15:06:08.158Z"
   },
   {
    "duration": 244,
    "start_time": "2021-10-18T15:06:14.908Z"
   },
   {
    "duration": 258,
    "start_time": "2021-10-18T15:06:19.197Z"
   },
   {
    "duration": 6,
    "start_time": "2021-10-18T15:06:44.734Z"
   },
   {
    "duration": 6,
    "start_time": "2021-10-18T15:06:53.597Z"
   },
   {
    "duration": 6679,
    "start_time": "2021-10-18T15:07:43.063Z"
   },
   {
    "duration": 7442,
    "start_time": "2021-10-18T15:08:00.093Z"
   },
   {
    "duration": 8044,
    "start_time": "2021-10-18T15:08:30.245Z"
   },
   {
    "duration": 6,
    "start_time": "2021-10-18T15:09:28.045Z"
   },
   {
    "duration": 5,
    "start_time": "2021-10-18T15:09:31.230Z"
   },
   {
    "duration": 5,
    "start_time": "2021-10-18T15:09:52.806Z"
   },
   {
    "duration": 8,
    "start_time": "2021-10-18T15:10:02.452Z"
   },
   {
    "duration": 6884,
    "start_time": "2021-10-18T15:10:31.533Z"
   },
   {
    "duration": 6455,
    "start_time": "2021-10-18T15:10:53.229Z"
   },
   {
    "duration": 316,
    "start_time": "2021-10-18T15:11:02.845Z"
   },
   {
    "duration": 272,
    "start_time": "2021-10-18T15:11:32.333Z"
   },
   {
    "duration": 8,
    "start_time": "2021-10-18T15:12:11.461Z"
   },
   {
    "duration": 1749,
    "start_time": "2021-10-18T15:12:19.677Z"
   },
   {
    "duration": 11,
    "start_time": "2021-10-18T15:12:39.631Z"
   },
   {
    "duration": 6,
    "start_time": "2021-10-18T15:12:46.133Z"
   },
   {
    "duration": 1101,
    "start_time": "2021-10-18T15:12:58.343Z"
   },
   {
    "duration": 1134,
    "start_time": "2021-10-18T15:15:35.244Z"
   },
   {
    "duration": 467,
    "start_time": "2021-10-18T15:15:36.382Z"
   },
   {
    "duration": 17,
    "start_time": "2021-10-18T15:15:36.852Z"
   },
   {
    "duration": 10,
    "start_time": "2021-10-18T15:15:36.872Z"
   },
   {
    "duration": 9,
    "start_time": "2021-10-18T15:15:36.885Z"
   },
   {
    "duration": 29,
    "start_time": "2021-10-18T15:15:36.896Z"
   },
   {
    "duration": 28,
    "start_time": "2021-10-18T15:15:36.927Z"
   },
   {
    "duration": 13,
    "start_time": "2021-10-18T15:15:36.966Z"
   },
   {
    "duration": 8,
    "start_time": "2021-10-18T15:15:36.982Z"
   },
   {
    "duration": 36,
    "start_time": "2021-10-18T15:15:36.992Z"
   },
   {
    "duration": 51,
    "start_time": "2021-10-18T15:15:37.030Z"
   },
   {
    "duration": 420,
    "start_time": "2021-10-18T15:15:37.083Z"
   },
   {
    "duration": 125,
    "start_time": "2021-10-18T15:15:37.504Z"
   },
   {
    "duration": 7,
    "start_time": "2021-10-18T15:15:37.631Z"
   },
   {
    "duration": 30,
    "start_time": "2021-10-18T15:15:37.640Z"
   },
   {
    "duration": 16,
    "start_time": "2021-10-18T15:15:37.673Z"
   },
   {
    "duration": 221,
    "start_time": "2021-10-18T15:15:37.691Z"
   },
   {
    "duration": 58,
    "start_time": "2021-10-18T15:15:37.914Z"
   },
   {
    "duration": 10,
    "start_time": "2021-10-18T15:15:37.975Z"
   },
   {
    "duration": 21,
    "start_time": "2021-10-18T15:15:37.987Z"
   },
   {
    "duration": 56,
    "start_time": "2021-10-18T15:15:38.010Z"
   },
   {
    "duration": 240,
    "start_time": "2021-10-18T15:15:38.068Z"
   },
   {
    "duration": 96,
    "start_time": "2021-10-18T15:15:38.312Z"
   },
   {
    "duration": 8,
    "start_time": "2021-10-18T15:15:38.411Z"
   },
   {
    "duration": 8,
    "start_time": "2021-10-18T15:15:38.421Z"
   },
   {
    "duration": 97,
    "start_time": "2021-10-18T15:15:38.431Z"
   },
   {
    "duration": 5,
    "start_time": "2021-10-18T15:15:38.530Z"
   },
   {
    "duration": 26,
    "start_time": "2021-10-18T15:15:38.537Z"
   },
   {
    "duration": 233,
    "start_time": "2021-10-18T15:15:38.566Z"
   },
   {
    "duration": 38,
    "start_time": "2021-10-18T15:15:38.801Z"
   },
   {
    "duration": 228,
    "start_time": "2021-10-18T15:15:38.841Z"
   },
   {
    "duration": 27,
    "start_time": "2021-10-18T15:15:39.072Z"
   },
   {
    "duration": 78,
    "start_time": "2021-10-18T15:15:39.101Z"
   },
   {
    "duration": 34,
    "start_time": "2021-10-18T15:15:39.181Z"
   },
   {
    "duration": 23,
    "start_time": "2021-10-18T15:15:39.216Z"
   },
   {
    "duration": 50,
    "start_time": "2021-10-18T15:15:39.241Z"
   },
   {
    "duration": 15,
    "start_time": "2021-10-18T15:15:39.293Z"
   },
   {
    "duration": 55,
    "start_time": "2021-10-18T15:15:39.310Z"
   },
   {
    "duration": 19,
    "start_time": "2021-10-18T15:15:39.368Z"
   },
   {
    "duration": 26,
    "start_time": "2021-10-18T15:15:39.389Z"
   },
   {
    "duration": 15,
    "start_time": "2021-10-18T15:15:39.417Z"
   },
   {
    "duration": 39,
    "start_time": "2021-10-18T15:15:39.433Z"
   },
   {
    "duration": 9,
    "start_time": "2021-10-18T15:15:39.477Z"
   },
   {
    "duration": 16,
    "start_time": "2021-10-18T15:15:39.488Z"
   },
   {
    "duration": 8,
    "start_time": "2021-10-18T15:15:39.507Z"
   },
   {
    "duration": 48,
    "start_time": "2021-10-18T15:15:39.517Z"
   },
   {
    "duration": 16,
    "start_time": "2021-10-18T15:15:39.568Z"
   },
   {
    "duration": 13,
    "start_time": "2021-10-18T15:16:07.318Z"
   },
   {
    "duration": 378,
    "start_time": "2021-10-18T15:18:02.264Z"
   },
   {
    "duration": 350,
    "start_time": "2021-10-18T15:18:13.975Z"
   },
   {
    "duration": 3,
    "start_time": "2021-10-18T15:19:19.580Z"
   },
   {
    "duration": 475,
    "start_time": "2021-10-18T15:19:19.586Z"
   },
   {
    "duration": 16,
    "start_time": "2021-10-18T15:19:20.065Z"
   },
   {
    "duration": 6,
    "start_time": "2021-10-18T15:19:20.083Z"
   },
   {
    "duration": 9,
    "start_time": "2021-10-18T15:19:20.091Z"
   },
   {
    "duration": 19,
    "start_time": "2021-10-18T15:19:20.102Z"
   },
   {
    "duration": 63,
    "start_time": "2021-10-18T15:19:20.122Z"
   },
   {
    "duration": 8,
    "start_time": "2021-10-18T15:19:20.187Z"
   },
   {
    "duration": 10,
    "start_time": "2021-10-18T15:19:20.198Z"
   },
   {
    "duration": 53,
    "start_time": "2021-10-18T15:19:20.211Z"
   },
   {
    "duration": 33,
    "start_time": "2021-10-18T15:19:20.268Z"
   },
   {
    "duration": 413,
    "start_time": "2021-10-18T15:19:20.303Z"
   },
   {
    "duration": 116,
    "start_time": "2021-10-18T15:19:20.718Z"
   },
   {
    "duration": 8,
    "start_time": "2021-10-18T15:19:20.835Z"
   },
   {
    "duration": 32,
    "start_time": "2021-10-18T15:19:20.844Z"
   },
   {
    "duration": 16,
    "start_time": "2021-10-18T15:19:20.878Z"
   },
   {
    "duration": 208,
    "start_time": "2021-10-18T15:19:20.895Z"
   },
   {
    "duration": 46,
    "start_time": "2021-10-18T15:19:21.105Z"
   },
   {
    "duration": 16,
    "start_time": "2021-10-18T15:19:21.163Z"
   },
   {
    "duration": 21,
    "start_time": "2021-10-18T15:19:21.181Z"
   },
   {
    "duration": 29,
    "start_time": "2021-10-18T15:19:21.204Z"
   },
   {
    "duration": 261,
    "start_time": "2021-10-18T15:19:21.235Z"
   },
   {
    "duration": 79,
    "start_time": "2021-10-18T15:19:21.497Z"
   },
   {
    "duration": 9,
    "start_time": "2021-10-18T15:19:21.579Z"
   },
   {
    "duration": 9,
    "start_time": "2021-10-18T15:19:21.589Z"
   },
   {
    "duration": 92,
    "start_time": "2021-10-18T15:19:21.600Z"
   },
   {
    "duration": 5,
    "start_time": "2021-10-18T15:19:21.696Z"
   },
   {
    "duration": 18,
    "start_time": "2021-10-18T15:19:21.703Z"
   },
   {
    "duration": 231,
    "start_time": "2021-10-18T15:19:21.723Z"
   },
   {
    "duration": 48,
    "start_time": "2021-10-18T15:19:21.956Z"
   },
   {
    "duration": 227,
    "start_time": "2021-10-18T15:19:22.006Z"
   },
   {
    "duration": 40,
    "start_time": "2021-10-18T15:19:22.234Z"
   },
   {
    "duration": 52,
    "start_time": "2021-10-18T15:19:22.277Z"
   },
   {
    "duration": 55,
    "start_time": "2021-10-18T15:19:22.331Z"
   },
   {
    "duration": 23,
    "start_time": "2021-10-18T15:19:22.388Z"
   },
   {
    "duration": 23,
    "start_time": "2021-10-18T15:19:22.413Z"
   },
   {
    "duration": 42,
    "start_time": "2021-10-18T15:19:22.438Z"
   },
   {
    "duration": 26,
    "start_time": "2021-10-18T15:19:22.482Z"
   },
   {
    "duration": 12,
    "start_time": "2021-10-18T15:19:22.510Z"
   },
   {
    "duration": 52,
    "start_time": "2021-10-18T15:19:22.524Z"
   },
   {
    "duration": 17,
    "start_time": "2021-10-18T15:19:22.578Z"
   },
   {
    "duration": 6,
    "start_time": "2021-10-18T15:19:22.597Z"
   },
   {
    "duration": 10,
    "start_time": "2021-10-18T15:19:22.606Z"
   },
   {
    "duration": 45,
    "start_time": "2021-10-18T15:19:22.619Z"
   },
   {
    "duration": 14,
    "start_time": "2021-10-18T15:19:22.667Z"
   },
   {
    "duration": 13,
    "start_time": "2021-10-18T15:19:22.683Z"
   },
   {
    "duration": 11,
    "start_time": "2021-10-18T15:19:22.698Z"
   },
   {
    "duration": 16,
    "start_time": "2021-10-18T15:19:22.711Z"
   },
   {
    "duration": 62,
    "start_time": "2021-10-18T15:19:29.935Z"
   },
   {
    "duration": 6578,
    "start_time": "2021-10-18T15:20:18.599Z"
   },
   {
    "duration": 40,
    "start_time": "2021-10-18T15:20:47.479Z"
   },
   {
    "duration": 44,
    "start_time": "2021-10-18T15:21:47.376Z"
   },
   {
    "duration": 46,
    "start_time": "2021-10-18T15:23:44.072Z"
   },
   {
    "duration": 48,
    "start_time": "2021-10-18T15:23:50.455Z"
   },
   {
    "duration": 16,
    "start_time": "2021-10-18T15:24:18.142Z"
   },
   {
    "duration": 43,
    "start_time": "2021-10-18T15:28:18.696Z"
   },
   {
    "duration": 48,
    "start_time": "2021-10-18T15:29:18.679Z"
   },
   {
    "duration": 1146,
    "start_time": "2021-10-18T15:31:33.034Z"
   },
   {
    "duration": 468,
    "start_time": "2021-10-18T15:31:34.185Z"
   },
   {
    "duration": 20,
    "start_time": "2021-10-18T15:31:34.657Z"
   },
   {
    "duration": 7,
    "start_time": "2021-10-18T15:31:34.680Z"
   },
   {
    "duration": 8,
    "start_time": "2021-10-18T15:31:34.688Z"
   },
   {
    "duration": 17,
    "start_time": "2021-10-18T15:31:34.698Z"
   },
   {
    "duration": 66,
    "start_time": "2021-10-18T15:31:34.717Z"
   },
   {
    "duration": 7,
    "start_time": "2021-10-18T15:31:34.785Z"
   },
   {
    "duration": 8,
    "start_time": "2021-10-18T15:31:34.794Z"
   },
   {
    "duration": 24,
    "start_time": "2021-10-18T15:31:34.804Z"
   },
   {
    "duration": 65,
    "start_time": "2021-10-18T15:31:34.830Z"
   },
   {
    "duration": 431,
    "start_time": "2021-10-18T15:31:34.897Z"
   },
   {
    "duration": 148,
    "start_time": "2021-10-18T15:31:35.330Z"
   },
   {
    "duration": 8,
    "start_time": "2021-10-18T15:31:35.480Z"
   },
   {
    "duration": 21,
    "start_time": "2021-10-18T15:31:35.490Z"
   },
   {
    "duration": 14,
    "start_time": "2021-10-18T15:31:35.514Z"
   },
   {
    "duration": 217,
    "start_time": "2021-10-18T15:31:35.530Z"
   },
   {
    "duration": 60,
    "start_time": "2021-10-18T15:31:35.749Z"
   },
   {
    "duration": 11,
    "start_time": "2021-10-18T15:31:35.811Z"
   },
   {
    "duration": 48,
    "start_time": "2021-10-18T15:31:35.824Z"
   },
   {
    "duration": 37,
    "start_time": "2021-10-18T15:31:35.875Z"
   },
   {
    "duration": 241,
    "start_time": "2021-10-18T15:31:35.914Z"
   },
   {
    "duration": 84,
    "start_time": "2021-10-18T15:31:36.156Z"
   },
   {
    "duration": 21,
    "start_time": "2021-10-18T15:31:36.242Z"
   },
   {
    "duration": 11,
    "start_time": "2021-10-18T15:31:36.266Z"
   },
   {
    "duration": 94,
    "start_time": "2021-10-18T15:31:36.281Z"
   },
   {
    "duration": 5,
    "start_time": "2021-10-18T15:31:36.378Z"
   },
   {
    "duration": 19,
    "start_time": "2021-10-18T15:31:36.385Z"
   },
   {
    "duration": 77,
    "start_time": "2021-10-18T15:31:36.406Z"
   },
   {
    "duration": 32,
    "start_time": "2021-10-18T15:31:36.485Z"
   },
   {
    "duration": 22,
    "start_time": "2021-10-18T15:31:36.519Z"
   },
   {
    "duration": 32,
    "start_time": "2021-10-18T15:31:36.565Z"
   },
   {
    "duration": 17,
    "start_time": "2021-10-18T15:31:36.599Z"
   },
   {
    "duration": 66,
    "start_time": "2021-10-18T15:31:36.618Z"
   },
   {
    "duration": 12,
    "start_time": "2021-10-18T15:31:36.686Z"
   },
   {
    "duration": 28,
    "start_time": "2021-10-18T15:31:36.700Z"
   },
   {
    "duration": 37,
    "start_time": "2021-10-18T15:31:36.730Z"
   },
   {
    "duration": 9,
    "start_time": "2021-10-18T15:31:36.769Z"
   },
   {
    "duration": 8,
    "start_time": "2021-10-18T15:31:36.780Z"
   },
   {
    "duration": 10,
    "start_time": "2021-10-18T15:31:36.790Z"
   },
   {
    "duration": 9,
    "start_time": "2021-10-18T15:31:36.802Z"
   },
   {
    "duration": 54,
    "start_time": "2021-10-18T15:31:36.812Z"
   },
   {
    "duration": 23,
    "start_time": "2021-10-18T15:31:36.869Z"
   },
   {
    "duration": 13,
    "start_time": "2021-10-18T15:31:36.894Z"
   },
   {
    "duration": 362,
    "start_time": "2021-10-18T15:31:36.909Z"
   },
   {
    "duration": -583,
    "start_time": "2021-10-18T15:31:37.857Z"
   },
   {
    "duration": 39,
    "start_time": "2021-10-18T15:31:47.978Z"
   },
   {
    "duration": 56,
    "start_time": "2021-10-18T15:33:50.043Z"
   },
   {
    "duration": 42,
    "start_time": "2021-10-18T15:34:58.940Z"
   },
   {
    "duration": 41,
    "start_time": "2021-10-18T15:36:42.571Z"
   },
   {
    "duration": 35,
    "start_time": "2021-10-18T15:37:32.269Z"
   },
   {
    "duration": 35,
    "start_time": "2021-10-18T15:37:44.476Z"
   },
   {
    "duration": 4,
    "start_time": "2021-10-18T15:38:20.051Z"
   },
   {
    "duration": 16,
    "start_time": "2021-10-18T15:38:25.604Z"
   },
   {
    "duration": 21,
    "start_time": "2021-10-18T15:38:51.947Z"
   },
   {
    "duration": 37,
    "start_time": "2021-10-18T15:40:25.796Z"
   },
   {
    "duration": 19,
    "start_time": "2021-10-18T15:40:41.948Z"
   },
   {
    "duration": 33,
    "start_time": "2021-10-18T15:40:43.684Z"
   },
   {
    "duration": 6481,
    "start_time": "2021-10-18T15:43:46.732Z"
   },
   {
    "duration": 56,
    "start_time": "2021-10-18T15:44:05.227Z"
   },
   {
    "duration": 8,
    "start_time": "2021-10-18T15:44:21.300Z"
   },
   {
    "duration": 258,
    "start_time": "2021-10-18T15:44:42.787Z"
   },
   {
    "duration": 7,
    "start_time": "2021-10-18T15:45:54.381Z"
   },
   {
    "duration": 14050,
    "start_time": "2021-10-18T15:46:03.653Z"
   },
   {
    "duration": 5,
    "start_time": "2021-10-18T15:46:18.437Z"
   },
   {
    "duration": 8,
    "start_time": "2021-10-18T15:46:39.356Z"
   },
   {
    "duration": 84,
    "start_time": "2021-10-18T15:47:44.572Z"
   },
   {
    "duration": 268,
    "start_time": "2021-10-18T15:47:48.876Z"
   },
   {
    "duration": 480,
    "start_time": "2021-10-18T15:47:57.245Z"
   },
   {
    "duration": 253,
    "start_time": "2021-10-18T15:48:04.565Z"
   },
   {
    "duration": 253,
    "start_time": "2021-10-18T15:48:11.705Z"
   },
   {
    "duration": 6507,
    "start_time": "2021-10-18T15:48:16.836Z"
   },
   {
    "duration": 6550,
    "start_time": "2021-10-18T15:48:33.381Z"
   },
   {
    "duration": 7,
    "start_time": "2021-10-18T15:49:09.324Z"
   },
   {
    "duration": 7,
    "start_time": "2021-10-18T15:49:17.268Z"
   },
   {
    "duration": 7,
    "start_time": "2021-10-18T15:49:28.868Z"
   },
   {
    "duration": 28,
    "start_time": "2021-10-18T15:49:45.684Z"
   },
   {
    "duration": 7,
    "start_time": "2021-10-18T15:50:13.912Z"
   },
   {
    "duration": 50,
    "start_time": "2021-10-18T15:50:36.733Z"
   },
   {
    "duration": 259,
    "start_time": "2021-10-18T15:50:54.019Z"
   },
   {
    "duration": 328,
    "start_time": "2021-10-18T15:50:58.412Z"
   },
   {
    "duration": 5,
    "start_time": "2021-10-18T15:51:19.012Z"
   },
   {
    "duration": 28,
    "start_time": "2021-10-18T15:51:33.677Z"
   },
   {
    "duration": 28,
    "start_time": "2021-10-18T15:51:51.964Z"
   },
   {
    "duration": 5,
    "start_time": "2021-10-18T15:54:51.645Z"
   },
   {
    "duration": 28,
    "start_time": "2021-10-18T15:54:59.205Z"
   },
   {
    "duration": 32,
    "start_time": "2021-10-18T15:55:21.437Z"
   },
   {
    "duration": 29,
    "start_time": "2021-10-18T15:56:45.389Z"
   },
   {
    "duration": 41,
    "start_time": "2021-10-18T15:58:13.542Z"
   },
   {
    "duration": 28,
    "start_time": "2021-10-18T15:58:27.942Z"
   },
   {
    "duration": 28,
    "start_time": "2021-10-18T15:58:35.646Z"
   },
   {
    "duration": 24,
    "start_time": "2021-10-18T15:58:40.941Z"
   },
   {
    "duration": 34,
    "start_time": "2021-10-18T15:58:43.774Z"
   },
   {
    "duration": 28,
    "start_time": "2021-10-18T15:58:47.014Z"
   },
   {
    "duration": 3972,
    "start_time": "2021-10-18T15:59:11.350Z"
   },
   {
    "duration": 7830,
    "start_time": "2021-10-18T15:59:57.133Z"
   },
   {
    "duration": 6,
    "start_time": "2021-10-18T16:00:16.910Z"
   },
   {
    "duration": 34,
    "start_time": "2021-10-18T16:00:43.765Z"
   },
   {
    "duration": 15,
    "start_time": "2021-10-18T16:09:37.444Z"
   },
   {
    "duration": 10,
    "start_time": "2021-10-18T16:10:09.597Z"
   },
   {
    "duration": 23,
    "start_time": "2021-10-18T16:10:29.973Z"
   },
   {
    "duration": 283,
    "start_time": "2021-10-18T16:29:44.231Z"
   },
   {
    "duration": 7782,
    "start_time": "2021-10-18T16:30:01.046Z"
   },
   {
    "duration": 3,
    "start_time": "2021-10-18T16:30:16.587Z"
   },
   {
    "duration": 489,
    "start_time": "2021-10-18T16:30:16.592Z"
   },
   {
    "duration": 11,
    "start_time": "2021-10-18T16:30:17.083Z"
   },
   {
    "duration": 21,
    "start_time": "2021-10-18T16:30:17.097Z"
   },
   {
    "duration": 14,
    "start_time": "2021-10-18T16:30:17.121Z"
   },
   {
    "duration": 22,
    "start_time": "2021-10-18T16:30:17.138Z"
   },
   {
    "duration": 35,
    "start_time": "2021-10-18T16:30:17.164Z"
   },
   {
    "duration": 6,
    "start_time": "2021-10-18T16:30:17.201Z"
   },
   {
    "duration": 11,
    "start_time": "2021-10-18T16:30:17.209Z"
   },
   {
    "duration": 29,
    "start_time": "2021-10-18T16:30:17.221Z"
   },
   {
    "duration": 42,
    "start_time": "2021-10-18T16:30:17.252Z"
   },
   {
    "duration": 422,
    "start_time": "2021-10-18T16:30:17.296Z"
   },
   {
    "duration": 109,
    "start_time": "2021-10-18T16:30:17.720Z"
   },
   {
    "duration": 9,
    "start_time": "2021-10-18T16:30:17.831Z"
   },
   {
    "duration": 38,
    "start_time": "2021-10-18T16:30:17.842Z"
   },
   {
    "duration": 15,
    "start_time": "2021-10-18T16:30:17.882Z"
   },
   {
    "duration": 218,
    "start_time": "2021-10-18T16:30:17.899Z"
   },
   {
    "duration": 56,
    "start_time": "2021-10-18T16:30:18.120Z"
   },
   {
    "duration": 15,
    "start_time": "2021-10-18T16:30:18.182Z"
   },
   {
    "duration": 29,
    "start_time": "2021-10-18T16:30:18.200Z"
   },
   {
    "duration": 47,
    "start_time": "2021-10-18T16:30:18.232Z"
   },
   {
    "duration": 238,
    "start_time": "2021-10-18T16:30:18.282Z"
   },
   {
    "duration": 76,
    "start_time": "2021-10-18T16:30:18.522Z"
   },
   {
    "duration": 9,
    "start_time": "2021-10-18T16:30:18.600Z"
   },
   {
    "duration": 25,
    "start_time": "2021-10-18T16:30:18.610Z"
   },
   {
    "duration": 92,
    "start_time": "2021-10-18T16:30:18.638Z"
   },
   {
    "duration": 6,
    "start_time": "2021-10-18T16:30:18.732Z"
   },
   {
    "duration": 42,
    "start_time": "2021-10-18T16:30:18.740Z"
   },
   {
    "duration": 56,
    "start_time": "2021-10-18T16:30:18.785Z"
   },
   {
    "duration": 47,
    "start_time": "2021-10-18T16:30:18.843Z"
   },
   {
    "duration": 23,
    "start_time": "2021-10-18T16:30:18.892Z"
   },
   {
    "duration": 49,
    "start_time": "2021-10-18T16:30:18.916Z"
   },
   {
    "duration": 21,
    "start_time": "2021-10-18T16:30:18.967Z"
   },
   {
    "duration": 27,
    "start_time": "2021-10-18T16:30:18.989Z"
   },
   {
    "duration": 12,
    "start_time": "2021-10-18T16:30:19.018Z"
   },
   {
    "duration": 56,
    "start_time": "2021-10-18T16:30:19.032Z"
   },
   {
    "duration": 14,
    "start_time": "2021-10-18T16:30:19.090Z"
   },
   {
    "duration": 19,
    "start_time": "2021-10-18T16:30:19.106Z"
   },
   {
    "duration": 13,
    "start_time": "2021-10-18T16:30:19.127Z"
   },
   {
    "duration": 33,
    "start_time": "2021-10-18T16:30:19.141Z"
   },
   {
    "duration": 10,
    "start_time": "2021-10-18T16:30:19.177Z"
   },
   {
    "duration": 24,
    "start_time": "2021-10-18T16:30:19.189Z"
   },
   {
    "duration": 22,
    "start_time": "2021-10-18T16:30:19.215Z"
   },
   {
    "duration": 27,
    "start_time": "2021-10-18T16:30:19.239Z"
   },
   {
    "duration": 22,
    "start_time": "2021-10-18T16:30:19.268Z"
   },
   {
    "duration": 39,
    "start_time": "2021-10-18T16:30:19.292Z"
   },
   {
    "duration": 4,
    "start_time": "2021-10-18T16:30:19.333Z"
   },
   {
    "duration": 66,
    "start_time": "2021-10-18T16:30:19.339Z"
   },
   {
    "duration": 32,
    "start_time": "2021-10-18T16:30:19.407Z"
   },
   {
    "duration": 48,
    "start_time": "2021-10-18T16:30:19.441Z"
   },
   {
    "duration": 6404,
    "start_time": "2021-10-18T16:30:27.141Z"
   },
   {
    "duration": 8925,
    "start_time": "2021-10-18T16:30:46.037Z"
   },
   {
    "duration": 102,
    "start_time": "2021-10-18T16:31:05.293Z"
   },
   {
    "duration": 7036,
    "start_time": "2021-10-18T16:31:07.829Z"
   },
   {
    "duration": 5112,
    "start_time": "2021-10-18T16:31:35.134Z"
   },
   {
    "duration": 18,
    "start_time": "2021-10-18T16:31:47.766Z"
   },
   {
    "duration": 4,
    "start_time": "2021-10-18T16:32:06.255Z"
   },
   {
    "duration": 10,
    "start_time": "2021-10-18T16:32:11.638Z"
   },
   {
    "duration": 11,
    "start_time": "2021-10-18T16:32:21.085Z"
   },
   {
    "duration": 262,
    "start_time": "2021-10-18T16:33:49.165Z"
   },
   {
    "duration": 9,
    "start_time": "2021-10-18T16:33:55.085Z"
   },
   {
    "duration": 8,
    "start_time": "2021-10-18T16:37:15.085Z"
   },
   {
    "duration": 5,
    "start_time": "2021-10-18T16:37:31.486Z"
   },
   {
    "duration": 246,
    "start_time": "2021-10-18T16:37:39.685Z"
   },
   {
    "duration": 6,
    "start_time": "2021-10-18T16:37:43.501Z"
   },
   {
    "duration": 8,
    "start_time": "2021-10-18T16:37:47.797Z"
   },
   {
    "duration": 4,
    "start_time": "2021-10-18T16:38:42.805Z"
   },
   {
    "duration": 4,
    "start_time": "2021-10-18T16:38:58.910Z"
   },
   {
    "duration": 36,
    "start_time": "2021-10-18T16:49:51.030Z"
   },
   {
    "duration": 31,
    "start_time": "2021-10-18T16:50:05.071Z"
   },
   {
    "duration": 7,
    "start_time": "2021-10-18T16:50:58.390Z"
   },
   {
    "duration": 4,
    "start_time": "2021-10-18T16:51:10.711Z"
   },
   {
    "duration": 11,
    "start_time": "2021-10-18T16:54:28.806Z"
   },
   {
    "duration": 21,
    "start_time": "2021-10-18T16:54:36.943Z"
   },
   {
    "duration": 28,
    "start_time": "2021-10-18T16:54:44.318Z"
   },
   {
    "duration": 12,
    "start_time": "2021-10-18T16:54:53.615Z"
   },
   {
    "duration": 278,
    "start_time": "2021-10-18T16:55:43.198Z"
   },
   {
    "duration": 23,
    "start_time": "2021-10-18T16:56:05.288Z"
   },
   {
    "duration": 29,
    "start_time": "2021-10-18T16:57:36.510Z"
   },
   {
    "duration": 28,
    "start_time": "2021-10-18T16:58:33.592Z"
   },
   {
    "duration": 8,
    "start_time": "2021-10-18T16:59:19.208Z"
   },
   {
    "duration": 29,
    "start_time": "2021-10-18T16:59:25.206Z"
   },
   {
    "duration": 29,
    "start_time": "2021-10-18T17:00:00.406Z"
   },
   {
    "duration": 249,
    "start_time": "2021-10-18T17:01:35.528Z"
   },
   {
    "duration": 8,
    "start_time": "2021-10-18T17:01:39.134Z"
   },
   {
    "duration": 46,
    "start_time": "2021-10-18T17:03:52.927Z"
   },
   {
    "duration": 3,
    "start_time": "2021-10-18T17:04:51.204Z"
   },
   {
    "duration": 453,
    "start_time": "2021-10-18T17:04:51.209Z"
   },
   {
    "duration": 10,
    "start_time": "2021-10-18T17:04:51.664Z"
   },
   {
    "duration": 15,
    "start_time": "2021-10-18T17:04:51.676Z"
   },
   {
    "duration": 25,
    "start_time": "2021-10-18T17:04:51.693Z"
   },
   {
    "duration": 23,
    "start_time": "2021-10-18T17:04:51.720Z"
   },
   {
    "duration": 29,
    "start_time": "2021-10-18T17:04:51.746Z"
   },
   {
    "duration": 7,
    "start_time": "2021-10-18T17:04:51.778Z"
   },
   {
    "duration": 19,
    "start_time": "2021-10-18T17:04:51.787Z"
   },
   {
    "duration": 39,
    "start_time": "2021-10-18T17:04:51.808Z"
   },
   {
    "duration": 30,
    "start_time": "2021-10-18T17:04:51.849Z"
   },
   {
    "duration": 386,
    "start_time": "2021-10-18T17:04:51.881Z"
   },
   {
    "duration": 114,
    "start_time": "2021-10-18T17:04:52.268Z"
   },
   {
    "duration": 8,
    "start_time": "2021-10-18T17:04:52.385Z"
   },
   {
    "duration": 28,
    "start_time": "2021-10-18T17:04:52.395Z"
   },
   {
    "duration": 15,
    "start_time": "2021-10-18T17:04:52.425Z"
   },
   {
    "duration": 190,
    "start_time": "2021-10-18T17:04:52.442Z"
   },
   {
    "duration": 62,
    "start_time": "2021-10-18T17:04:52.633Z"
   },
   {
    "duration": 9,
    "start_time": "2021-10-18T17:04:52.700Z"
   },
   {
    "duration": 21,
    "start_time": "2021-10-18T17:04:52.712Z"
   },
   {
    "duration": 51,
    "start_time": "2021-10-18T17:04:52.735Z"
   },
   {
    "duration": 205,
    "start_time": "2021-10-18T17:04:52.788Z"
   },
   {
    "duration": 70,
    "start_time": "2021-10-18T17:04:52.995Z"
   },
   {
    "duration": 8,
    "start_time": "2021-10-18T17:04:53.067Z"
   },
   {
    "duration": 11,
    "start_time": "2021-10-18T17:04:53.076Z"
   },
   {
    "duration": 75,
    "start_time": "2021-10-18T17:04:53.089Z"
   },
   {
    "duration": 5,
    "start_time": "2021-10-18T17:04:53.166Z"
   },
   {
    "duration": 17,
    "start_time": "2021-10-18T17:04:53.173Z"
   },
   {
    "duration": 76,
    "start_time": "2021-10-18T17:04:53.193Z"
   },
   {
    "duration": 34,
    "start_time": "2021-10-18T17:04:53.272Z"
   },
   {
    "duration": 24,
    "start_time": "2021-10-18T17:04:53.308Z"
   },
   {
    "duration": 50,
    "start_time": "2021-10-18T17:04:53.334Z"
   },
   {
    "duration": 16,
    "start_time": "2021-10-18T17:04:53.386Z"
   },
   {
    "duration": 29,
    "start_time": "2021-10-18T17:04:53.404Z"
   },
   {
    "duration": 39,
    "start_time": "2021-10-18T17:04:53.435Z"
   },
   {
    "duration": 25,
    "start_time": "2021-10-18T17:04:53.476Z"
   },
   {
    "duration": 22,
    "start_time": "2021-10-18T17:04:53.503Z"
   },
   {
    "duration": 41,
    "start_time": "2021-10-18T17:04:53.527Z"
   },
   {
    "duration": 6,
    "start_time": "2021-10-18T17:04:53.569Z"
   },
   {
    "duration": 14,
    "start_time": "2021-10-18T17:04:53.577Z"
   },
   {
    "duration": 15,
    "start_time": "2021-10-18T17:04:53.593Z"
   },
   {
    "duration": 8,
    "start_time": "2021-10-18T17:04:53.610Z"
   },
   {
    "duration": 11,
    "start_time": "2021-10-18T17:04:53.620Z"
   },
   {
    "duration": 45,
    "start_time": "2021-10-18T17:04:53.633Z"
   },
   {
    "duration": 13,
    "start_time": "2021-10-18T17:04:53.680Z"
   },
   {
    "duration": 36,
    "start_time": "2021-10-18T17:04:53.694Z"
   },
   {
    "duration": 58,
    "start_time": "2021-10-18T17:04:53.732Z"
   },
   {
    "duration": 31,
    "start_time": "2021-10-18T17:04:53.792Z"
   },
   {
    "duration": 51,
    "start_time": "2021-10-18T17:04:53.824Z"
   },
   {
    "duration": 32,
    "start_time": "2021-10-18T17:04:53.877Z"
   },
   {
    "duration": 24,
    "start_time": "2021-10-18T17:04:53.911Z"
   },
   {
    "duration": 48,
    "start_time": "2021-10-18T17:04:53.937Z"
   },
   {
    "duration": 8,
    "start_time": "2021-10-18T17:04:53.986Z"
   },
   {
    "duration": 16,
    "start_time": "2021-10-18T17:04:53.995Z"
   },
   {
    "duration": 23,
    "start_time": "2021-10-18T17:04:54.015Z"
   },
   {
    "duration": 49,
    "start_time": "2021-10-18T17:04:54.040Z"
   },
   {
    "duration": 7,
    "start_time": "2021-10-18T17:04:54.091Z"
   },
   {
    "duration": 3,
    "start_time": "2021-10-18T17:06:18.884Z"
   },
   {
    "duration": 448,
    "start_time": "2021-10-18T17:06:18.889Z"
   },
   {
    "duration": 9,
    "start_time": "2021-10-18T17:06:19.339Z"
   },
   {
    "duration": 27,
    "start_time": "2021-10-18T17:06:19.350Z"
   },
   {
    "duration": 41,
    "start_time": "2021-10-18T17:06:19.379Z"
   },
   {
    "duration": 39,
    "start_time": "2021-10-18T17:06:19.422Z"
   },
   {
    "duration": 51,
    "start_time": "2021-10-18T17:06:19.463Z"
   },
   {
    "duration": 21,
    "start_time": "2021-10-18T17:06:19.517Z"
   },
   {
    "duration": 34,
    "start_time": "2021-10-18T17:06:19.540Z"
   },
   {
    "duration": 36,
    "start_time": "2021-10-18T17:06:19.576Z"
   },
   {
    "duration": 27,
    "start_time": "2021-10-18T17:06:19.614Z"
   },
   {
    "duration": 359,
    "start_time": "2021-10-18T17:06:19.643Z"
   },
   {
    "duration": 110,
    "start_time": "2021-10-18T17:06:20.004Z"
   },
   {
    "duration": 7,
    "start_time": "2021-10-18T17:06:20.115Z"
   },
   {
    "duration": 17,
    "start_time": "2021-10-18T17:06:20.124Z"
   },
   {
    "duration": 26,
    "start_time": "2021-10-18T17:06:20.143Z"
   },
   {
    "duration": 193,
    "start_time": "2021-10-18T17:06:20.171Z"
   },
   {
    "duration": 44,
    "start_time": "2021-10-18T17:06:20.365Z"
   },
   {
    "duration": 10,
    "start_time": "2021-10-18T17:06:20.411Z"
   },
   {
    "duration": 39,
    "start_time": "2021-10-18T17:06:20.423Z"
   },
   {
    "duration": 46,
    "start_time": "2021-10-18T17:06:20.463Z"
   },
   {
    "duration": 198,
    "start_time": "2021-10-18T17:06:20.510Z"
   },
   {
    "duration": 62,
    "start_time": "2021-10-18T17:06:20.711Z"
   },
   {
    "duration": 8,
    "start_time": "2021-10-18T17:06:20.775Z"
   },
   {
    "duration": 27,
    "start_time": "2021-10-18T17:06:20.785Z"
   },
   {
    "duration": 74,
    "start_time": "2021-10-18T17:06:20.814Z"
   },
   {
    "duration": 5,
    "start_time": "2021-10-18T17:06:20.890Z"
   },
   {
    "duration": 42,
    "start_time": "2021-10-18T17:06:20.896Z"
   },
   {
    "duration": 65,
    "start_time": "2021-10-18T17:06:20.940Z"
   },
   {
    "duration": 29,
    "start_time": "2021-10-18T17:06:21.007Z"
   },
   {
    "duration": 31,
    "start_time": "2021-10-18T17:06:21.037Z"
   },
   {
    "duration": 22,
    "start_time": "2021-10-18T17:06:21.070Z"
   },
   {
    "duration": 14,
    "start_time": "2021-10-18T17:06:21.093Z"
   },
   {
    "duration": 25,
    "start_time": "2021-10-18T17:06:21.108Z"
   },
   {
    "duration": 38,
    "start_time": "2021-10-18T17:06:21.135Z"
   },
   {
    "duration": 27,
    "start_time": "2021-10-18T17:06:21.174Z"
   },
   {
    "duration": 13,
    "start_time": "2021-10-18T17:06:21.203Z"
   },
   {
    "duration": 22,
    "start_time": "2021-10-18T17:06:21.218Z"
   },
   {
    "duration": 26,
    "start_time": "2021-10-18T17:06:21.242Z"
   },
   {
    "duration": 24,
    "start_time": "2021-10-18T17:06:21.269Z"
   },
   {
    "duration": 16,
    "start_time": "2021-10-18T17:06:21.294Z"
   },
   {
    "duration": 18,
    "start_time": "2021-10-18T17:06:21.312Z"
   },
   {
    "duration": 28,
    "start_time": "2021-10-18T17:06:21.331Z"
   },
   {
    "duration": 20,
    "start_time": "2021-10-18T17:06:21.361Z"
   },
   {
    "duration": 19,
    "start_time": "2021-10-18T17:06:21.383Z"
   },
   {
    "duration": 39,
    "start_time": "2021-10-18T17:06:21.403Z"
   },
   {
    "duration": 39,
    "start_time": "2021-10-18T17:06:21.444Z"
   },
   {
    "duration": 31,
    "start_time": "2021-10-18T17:06:21.485Z"
   },
   {
    "duration": 51,
    "start_time": "2021-10-18T17:06:21.518Z"
   },
   {
    "duration": 30,
    "start_time": "2021-10-18T17:06:21.571Z"
   },
   {
    "duration": 29,
    "start_time": "2021-10-18T17:06:21.603Z"
   },
   {
    "duration": 48,
    "start_time": "2021-10-18T17:06:21.634Z"
   },
   {
    "duration": 7,
    "start_time": "2021-10-18T17:06:21.684Z"
   },
   {
    "duration": 21,
    "start_time": "2021-10-18T17:06:21.693Z"
   },
   {
    "duration": 21,
    "start_time": "2021-10-18T17:06:33.486Z"
   },
   {
    "duration": 30,
    "start_time": "2021-10-18T17:06:39.359Z"
   },
   {
    "duration": 30,
    "start_time": "2021-10-18T17:06:46.856Z"
   },
   {
    "duration": 7,
    "start_time": "2021-10-18T17:07:36.169Z"
   },
   {
    "duration": 25,
    "start_time": "2021-10-18T17:08:17.687Z"
   },
   {
    "duration": 8,
    "start_time": "2021-10-18T17:09:08.007Z"
   },
   {
    "duration": 29,
    "start_time": "2021-10-18T17:43:33.633Z"
   },
   {
    "duration": 28,
    "start_time": "2021-10-18T17:44:24.305Z"
   },
   {
    "duration": 9,
    "start_time": "2021-10-18T17:45:19.034Z"
   },
   {
    "duration": 265,
    "start_time": "2021-10-18T17:59:21.514Z"
   },
   {
    "duration": 5,
    "start_time": "2021-10-18T17:59:28.537Z"
   },
   {
    "duration": 265,
    "start_time": "2021-10-18T17:59:32.282Z"
   },
   {
    "duration": 258,
    "start_time": "2021-10-18T18:00:06.706Z"
   },
   {
    "duration": 282,
    "start_time": "2021-10-18T18:00:29.034Z"
   },
   {
    "duration": 5,
    "start_time": "2021-10-18T18:03:38.674Z"
   },
   {
    "duration": 5,
    "start_time": "2021-10-18T18:03:41.829Z"
   },
   {
    "duration": 5,
    "start_time": "2021-10-18T18:03:51.185Z"
   },
   {
    "duration": 4,
    "start_time": "2021-10-18T18:05:19.298Z"
   },
   {
    "duration": 481,
    "start_time": "2021-10-18T18:05:22.010Z"
   },
   {
    "duration": 5,
    "start_time": "2021-10-18T18:06:28.371Z"
   },
   {
    "duration": 290,
    "start_time": "2021-10-18T18:06:32.330Z"
   },
   {
    "duration": 29,
    "start_time": "2021-10-18T18:12:24.124Z"
   },
   {
    "duration": 5,
    "start_time": "2021-10-18T18:12:26.155Z"
   },
   {
    "duration": 6,
    "start_time": "2021-10-18T18:12:28.107Z"
   },
   {
    "duration": 389,
    "start_time": "2021-10-18T18:12:30.171Z"
   },
   {
    "duration": 3,
    "start_time": "2021-10-18T18:17:10.100Z"
   },
   {
    "duration": 4,
    "start_time": "2021-10-18T18:18:09.012Z"
   },
   {
    "duration": 329,
    "start_time": "2021-10-18T18:18:11.755Z"
   },
   {
    "duration": 484,
    "start_time": "2021-10-18T18:19:15.132Z"
   },
   {
    "duration": 4,
    "start_time": "2021-10-18T18:19:33.596Z"
   },
   {
    "duration": 277,
    "start_time": "2021-10-18T18:19:41.068Z"
   },
   {
    "duration": 4,
    "start_time": "2021-10-18T18:19:52.555Z"
   },
   {
    "duration": 272,
    "start_time": "2021-10-18T18:19:56.340Z"
   },
   {
    "duration": 26,
    "start_time": "2021-10-18T18:20:46.115Z"
   },
   {
    "duration": 3,
    "start_time": "2021-10-18T18:22:17.409Z"
   },
   {
    "duration": 565,
    "start_time": "2021-10-18T18:22:17.414Z"
   },
   {
    "duration": 13,
    "start_time": "2021-10-18T18:22:17.982Z"
   },
   {
    "duration": 8,
    "start_time": "2021-10-18T18:22:17.998Z"
   },
   {
    "duration": 8,
    "start_time": "2021-10-18T18:22:18.009Z"
   },
   {
    "duration": 23,
    "start_time": "2021-10-18T18:22:18.018Z"
   },
   {
    "duration": 36,
    "start_time": "2021-10-18T18:22:18.065Z"
   },
   {
    "duration": 8,
    "start_time": "2021-10-18T18:22:18.104Z"
   },
   {
    "duration": 16,
    "start_time": "2021-10-18T18:22:18.114Z"
   },
   {
    "duration": 42,
    "start_time": "2021-10-18T18:22:18.132Z"
   },
   {
    "duration": 26,
    "start_time": "2021-10-18T18:22:18.176Z"
   },
   {
    "duration": 414,
    "start_time": "2021-10-18T18:22:18.205Z"
   },
   {
    "duration": 110,
    "start_time": "2021-10-18T18:22:18.620Z"
   },
   {
    "duration": 6,
    "start_time": "2021-10-18T18:22:18.732Z"
   },
   {
    "duration": 35,
    "start_time": "2021-10-18T18:22:18.740Z"
   },
   {
    "duration": 15,
    "start_time": "2021-10-18T18:22:18.777Z"
   },
   {
    "duration": 193,
    "start_time": "2021-10-18T18:22:18.794Z"
   },
   {
    "duration": 43,
    "start_time": "2021-10-18T18:22:18.989Z"
   },
   {
    "duration": 29,
    "start_time": "2021-10-18T18:22:19.037Z"
   },
   {
    "duration": 22,
    "start_time": "2021-10-18T18:22:19.069Z"
   },
   {
    "duration": 27,
    "start_time": "2021-10-18T18:22:19.093Z"
   },
   {
    "duration": 211,
    "start_time": "2021-10-18T18:22:19.122Z"
   },
   {
    "duration": 64,
    "start_time": "2021-10-18T18:22:19.335Z"
   },
   {
    "duration": 8,
    "start_time": "2021-10-18T18:22:19.401Z"
   },
   {
    "duration": 9,
    "start_time": "2021-10-18T18:22:19.411Z"
   },
   {
    "duration": 76,
    "start_time": "2021-10-18T18:22:19.422Z"
   },
   {
    "duration": 6,
    "start_time": "2021-10-18T18:22:19.500Z"
   },
   {
    "duration": 16,
    "start_time": "2021-10-18T18:22:19.508Z"
   },
   {
    "duration": 73,
    "start_time": "2021-10-18T18:22:19.526Z"
   },
   {
    "duration": 32,
    "start_time": "2021-10-18T18:22:19.601Z"
   },
   {
    "duration": 39,
    "start_time": "2021-10-18T18:22:19.635Z"
   },
   {
    "duration": 22,
    "start_time": "2021-10-18T18:22:19.676Z"
   },
   {
    "duration": 13,
    "start_time": "2021-10-18T18:22:19.700Z"
   },
   {
    "duration": 50,
    "start_time": "2021-10-18T18:22:19.715Z"
   },
   {
    "duration": 13,
    "start_time": "2021-10-18T18:22:19.767Z"
   },
   {
    "duration": 26,
    "start_time": "2021-10-18T18:22:19.781Z"
   },
   {
    "duration": 14,
    "start_time": "2021-10-18T18:22:19.809Z"
   },
   {
    "duration": 43,
    "start_time": "2021-10-18T18:22:19.825Z"
   },
   {
    "duration": 6,
    "start_time": "2021-10-18T18:22:19.870Z"
   },
   {
    "duration": 10,
    "start_time": "2021-10-18T18:22:19.877Z"
   },
   {
    "duration": 8,
    "start_time": "2021-10-18T18:22:19.888Z"
   },
   {
    "duration": 7,
    "start_time": "2021-10-18T18:22:19.898Z"
   },
   {
    "duration": 10,
    "start_time": "2021-10-18T18:22:19.907Z"
   },
   {
    "duration": 47,
    "start_time": "2021-10-18T18:22:19.918Z"
   },
   {
    "duration": 13,
    "start_time": "2021-10-18T18:22:19.967Z"
   },
   {
    "duration": 35,
    "start_time": "2021-10-18T18:22:19.981Z"
   },
   {
    "duration": 67,
    "start_time": "2021-10-18T18:22:20.018Z"
   },
   {
    "duration": 31,
    "start_time": "2021-10-18T18:22:20.087Z"
   },
   {
    "duration": 45,
    "start_time": "2021-10-18T18:22:20.120Z"
   },
   {
    "duration": 31,
    "start_time": "2021-10-18T18:22:20.166Z"
   },
   {
    "duration": 31,
    "start_time": "2021-10-18T18:22:20.199Z"
   },
   {
    "duration": 48,
    "start_time": "2021-10-18T18:22:20.232Z"
   },
   {
    "duration": 7,
    "start_time": "2021-10-18T18:22:20.282Z"
   },
   {
    "duration": 12,
    "start_time": "2021-10-18T18:22:20.291Z"
   },
   {
    "duration": 23,
    "start_time": "2021-10-18T18:22:20.308Z"
   },
   {
    "duration": 53,
    "start_time": "2021-10-18T18:22:20.333Z"
   },
   {
    "duration": 30,
    "start_time": "2021-10-18T18:22:20.388Z"
   },
   {
    "duration": 8,
    "start_time": "2021-10-18T18:22:20.419Z"
   },
   {
    "duration": 35,
    "start_time": "2021-10-18T18:22:20.429Z"
   },
   {
    "duration": 30,
    "start_time": "2021-10-18T18:22:20.466Z"
   },
   {
    "duration": 26,
    "start_time": "2021-10-18T18:22:20.498Z"
   },
   {
    "duration": 28,
    "start_time": "2021-10-18T18:22:39.485Z"
   },
   {
    "duration": 25,
    "start_time": "2021-10-18T18:22:45.702Z"
   },
   {
    "duration": 3,
    "start_time": "2021-10-18T18:22:53.483Z"
   },
   {
    "duration": 259,
    "start_time": "2021-10-18T18:22:59.284Z"
   },
   {
    "duration": 262,
    "start_time": "2021-10-18T18:23:11.116Z"
   },
   {
    "duration": 43,
    "start_time": "2021-10-18T18:23:37.820Z"
   },
   {
    "duration": 5,
    "start_time": "2021-10-18T18:24:18.228Z"
   },
   {
    "duration": 68,
    "start_time": "2021-10-18T18:24:20.492Z"
   },
   {
    "duration": 4,
    "start_time": "2021-10-18T18:24:48.393Z"
   },
   {
    "duration": 462,
    "start_time": "2021-10-18T18:24:48.399Z"
   },
   {
    "duration": 10,
    "start_time": "2021-10-18T18:24:48.863Z"
   },
   {
    "duration": 8,
    "start_time": "2021-10-18T18:24:48.875Z"
   },
   {
    "duration": 9,
    "start_time": "2021-10-18T18:24:48.885Z"
   },
   {
    "duration": 15,
    "start_time": "2021-10-18T18:24:48.896Z"
   },
   {
    "duration": 25,
    "start_time": "2021-10-18T18:24:48.913Z"
   },
   {
    "duration": 28,
    "start_time": "2021-10-18T18:24:48.940Z"
   },
   {
    "duration": 11,
    "start_time": "2021-10-18T18:24:48.969Z"
   },
   {
    "duration": 26,
    "start_time": "2021-10-18T18:24:48.981Z"
   },
   {
    "duration": 30,
    "start_time": "2021-10-18T18:24:49.009Z"
   },
   {
    "duration": 398,
    "start_time": "2021-10-18T18:24:49.041Z"
   },
   {
    "duration": 113,
    "start_time": "2021-10-18T18:24:49.441Z"
   },
   {
    "duration": 8,
    "start_time": "2021-10-18T18:24:49.564Z"
   },
   {
    "duration": 16,
    "start_time": "2021-10-18T18:24:49.574Z"
   },
   {
    "duration": 20,
    "start_time": "2021-10-18T18:24:49.592Z"
   },
   {
    "duration": 187,
    "start_time": "2021-10-18T18:24:49.613Z"
   },
   {
    "duration": 62,
    "start_time": "2021-10-18T18:24:49.802Z"
   },
   {
    "duration": 10,
    "start_time": "2021-10-18T18:24:49.869Z"
   },
   {
    "duration": 25,
    "start_time": "2021-10-18T18:24:49.883Z"
   },
   {
    "duration": 29,
    "start_time": "2021-10-18T18:24:49.910Z"
   },
   {
    "duration": 238,
    "start_time": "2021-10-18T18:24:49.940Z"
   },
   {
    "duration": 60,
    "start_time": "2021-10-18T18:24:50.180Z"
   },
   {
    "duration": 25,
    "start_time": "2021-10-18T18:24:50.242Z"
   },
   {
    "duration": 10,
    "start_time": "2021-10-18T18:24:50.269Z"
   },
   {
    "duration": 67,
    "start_time": "2021-10-18T18:24:50.281Z"
   },
   {
    "duration": 14,
    "start_time": "2021-10-18T18:24:50.350Z"
   },
   {
    "duration": 19,
    "start_time": "2021-10-18T18:24:50.366Z"
   },
   {
    "duration": 57,
    "start_time": "2021-10-18T18:24:50.387Z"
   },
   {
    "duration": 35,
    "start_time": "2021-10-18T18:24:50.464Z"
   },
   {
    "duration": 22,
    "start_time": "2021-10-18T18:24:50.501Z"
   },
   {
    "duration": 48,
    "start_time": "2021-10-18T18:24:50.525Z"
   },
   {
    "duration": 14,
    "start_time": "2021-10-18T18:24:50.575Z"
   },
   {
    "duration": 36,
    "start_time": "2021-10-18T18:24:50.592Z"
   },
   {
    "duration": 11,
    "start_time": "2021-10-18T18:24:50.630Z"
   },
   {
    "duration": 43,
    "start_time": "2021-10-18T18:24:50.643Z"
   },
   {
    "duration": 15,
    "start_time": "2021-10-18T18:24:50.688Z"
   },
   {
    "duration": 15,
    "start_time": "2021-10-18T18:24:50.705Z"
   },
   {
    "duration": 16,
    "start_time": "2021-10-18T18:24:50.721Z"
   },
   {
    "duration": 28,
    "start_time": "2021-10-18T18:24:50.739Z"
   },
   {
    "duration": 25,
    "start_time": "2021-10-18T18:24:50.769Z"
   },
   {
    "duration": 18,
    "start_time": "2021-10-18T18:24:50.796Z"
   },
   {
    "duration": 29,
    "start_time": "2021-10-18T18:24:50.816Z"
   },
   {
    "duration": 29,
    "start_time": "2021-10-18T18:24:50.848Z"
   },
   {
    "duration": 15,
    "start_time": "2021-10-18T18:24:50.878Z"
   },
   {
    "duration": 46,
    "start_time": "2021-10-18T18:24:50.895Z"
   },
   {
    "duration": 43,
    "start_time": "2021-10-18T18:24:50.942Z"
   },
   {
    "duration": 32,
    "start_time": "2021-10-18T18:24:50.986Z"
   },
   {
    "duration": 52,
    "start_time": "2021-10-18T18:24:51.021Z"
   },
   {
    "duration": 31,
    "start_time": "2021-10-18T18:24:51.076Z"
   },
   {
    "duration": 25,
    "start_time": "2021-10-18T18:24:51.109Z"
   },
   {
    "duration": 52,
    "start_time": "2021-10-18T18:24:51.137Z"
   },
   {
    "duration": 9,
    "start_time": "2021-10-18T18:24:51.191Z"
   },
   {
    "duration": 13,
    "start_time": "2021-10-18T18:24:51.202Z"
   },
   {
    "duration": 51,
    "start_time": "2021-10-18T18:24:51.219Z"
   },
   {
    "duration": 32,
    "start_time": "2021-10-18T18:24:51.272Z"
   },
   {
    "duration": 60,
    "start_time": "2021-10-18T18:24:51.306Z"
   },
   {
    "duration": 6,
    "start_time": "2021-10-18T18:24:51.368Z"
   },
   {
    "duration": 9,
    "start_time": "2021-10-18T18:24:51.376Z"
   },
   {
    "duration": 31,
    "start_time": "2021-10-18T18:24:51.386Z"
   },
   {
    "duration": 47,
    "start_time": "2021-10-18T18:24:51.419Z"
   },
   {
    "duration": 32,
    "start_time": "2021-10-18T18:24:51.468Z"
   },
   {
    "duration": 4,
    "start_time": "2021-10-18T18:24:51.502Z"
   },
   {
    "duration": 53,
    "start_time": "2021-10-18T18:24:58.828Z"
   },
   {
    "duration": 35,
    "start_time": "2021-10-18T18:27:16.340Z"
   },
   {
    "duration": 32,
    "start_time": "2021-10-18T18:27:34.084Z"
   },
   {
    "duration": 50,
    "start_time": "2021-10-18T18:27:37.557Z"
   },
   {
    "duration": 496,
    "start_time": "2021-10-18T18:30:59.501Z"
   },
   {
    "duration": 1347,
    "start_time": "2021-10-19T14:16:08.464Z"
   },
   {
    "duration": 554,
    "start_time": "2021-10-19T14:16:09.814Z"
   },
   {
    "duration": 19,
    "start_time": "2021-10-19T14:16:10.371Z"
   },
   {
    "duration": 11,
    "start_time": "2021-10-19T14:16:10.393Z"
   },
   {
    "duration": 10,
    "start_time": "2021-10-19T14:16:10.407Z"
   },
   {
    "duration": 50,
    "start_time": "2021-10-19T14:16:10.419Z"
   },
   {
    "duration": 41,
    "start_time": "2021-10-19T14:16:10.471Z"
   },
   {
    "duration": 11,
    "start_time": "2021-10-19T14:16:10.515Z"
   },
   {
    "duration": 9,
    "start_time": "2021-10-19T14:16:19.119Z"
   },
   {
    "duration": 4,
    "start_time": "2021-10-19T14:22:19.700Z"
   },
   {
    "duration": 555,
    "start_time": "2021-10-19T14:22:19.707Z"
   },
   {
    "duration": 15,
    "start_time": "2021-10-19T14:22:20.265Z"
   },
   {
    "duration": 14,
    "start_time": "2021-10-19T14:22:20.283Z"
   },
   {
    "duration": 14,
    "start_time": "2021-10-19T14:22:20.299Z"
   },
   {
    "duration": 58,
    "start_time": "2021-10-19T14:22:20.317Z"
   },
   {
    "duration": 40,
    "start_time": "2021-10-19T14:22:20.378Z"
   },
   {
    "duration": 14,
    "start_time": "2021-10-19T14:22:20.423Z"
   },
   {
    "duration": 11,
    "start_time": "2021-10-19T14:22:20.463Z"
   },
   {
    "duration": 35,
    "start_time": "2021-10-19T14:22:20.476Z"
   },
   {
    "duration": 55,
    "start_time": "2021-10-19T14:22:20.514Z"
   },
   {
    "duration": 409,
    "start_time": "2021-10-19T14:22:20.571Z"
   },
   {
    "duration": 146,
    "start_time": "2021-10-19T14:22:20.982Z"
   },
   {
    "duration": 10,
    "start_time": "2021-10-19T14:22:21.130Z"
   },
   {
    "duration": 36,
    "start_time": "2021-10-19T14:22:21.142Z"
   },
   {
    "duration": 28,
    "start_time": "2021-10-19T14:22:21.180Z"
   },
   {
    "duration": 223,
    "start_time": "2021-10-19T14:22:21.210Z"
   },
   {
    "duration": 71,
    "start_time": "2021-10-19T14:22:21.436Z"
   },
   {
    "duration": 13,
    "start_time": "2021-10-19T14:22:21.511Z"
   },
   {
    "duration": 45,
    "start_time": "2021-10-19T14:22:21.527Z"
   },
   {
    "duration": 40,
    "start_time": "2021-10-19T14:22:21.574Z"
   },
   {
    "duration": 248,
    "start_time": "2021-10-19T14:22:21.617Z"
   },
   {
    "duration": 126,
    "start_time": "2021-10-19T14:22:21.867Z"
   },
   {
    "duration": 15,
    "start_time": "2021-10-19T14:22:21.996Z"
   },
   {
    "duration": 10,
    "start_time": "2021-10-19T14:22:22.013Z"
   },
   {
    "duration": 120,
    "start_time": "2021-10-19T14:22:22.025Z"
   },
   {
    "duration": 14,
    "start_time": "2021-10-19T14:22:22.147Z"
   },
   {
    "duration": 21,
    "start_time": "2021-10-19T14:22:22.163Z"
   },
   {
    "duration": 97,
    "start_time": "2021-10-19T14:22:22.187Z"
   },
   {
    "duration": 53,
    "start_time": "2021-10-19T14:22:22.286Z"
   },
   {
    "duration": 67,
    "start_time": "2021-10-19T14:22:22.341Z"
   },
   {
    "duration": 52,
    "start_time": "2021-10-19T14:22:22.411Z"
   },
   {
    "duration": 48,
    "start_time": "2021-10-19T14:22:22.467Z"
   },
   {
    "duration": 77,
    "start_time": "2021-10-19T14:22:22.518Z"
   },
   {
    "duration": 48,
    "start_time": "2021-10-19T14:22:22.598Z"
   },
   {
    "duration": 15,
    "start_time": "2021-10-19T14:22:22.648Z"
   },
   {
    "duration": 49,
    "start_time": "2021-10-19T14:22:22.665Z"
   },
   {
    "duration": 74,
    "start_time": "2021-10-19T14:22:22.716Z"
   },
   {
    "duration": 37,
    "start_time": "2021-10-19T14:22:22.792Z"
   },
   {
    "duration": 35,
    "start_time": "2021-10-19T14:22:22.832Z"
   },
   {
    "duration": 33,
    "start_time": "2021-10-19T14:22:22.870Z"
   },
   {
    "duration": 68,
    "start_time": "2021-10-19T14:22:22.905Z"
   },
   {
    "duration": 46,
    "start_time": "2021-10-19T14:22:22.976Z"
   },
   {
    "duration": 8,
    "start_time": "2021-10-19T14:22:23.025Z"
   },
   {
    "duration": 10,
    "start_time": "2021-10-19T14:22:23.062Z"
   },
   {
    "duration": 505,
    "start_time": "2021-10-19T14:23:06.924Z"
   },
   {
    "duration": 1105,
    "start_time": "2021-10-19T14:23:12.897Z"
   },
   {
    "duration": 4,
    "start_time": "2021-10-19T14:23:35.704Z"
   },
   {
    "duration": 38,
    "start_time": "2021-10-19T14:24:31.583Z"
   },
   {
    "duration": 60,
    "start_time": "2021-10-19T14:26:01.884Z"
   },
   {
    "duration": 45,
    "start_time": "2021-10-19T14:36:11.919Z"
   },
   {
    "duration": 4,
    "start_time": "2021-10-19T14:36:55.660Z"
   },
   {
    "duration": 527,
    "start_time": "2021-10-19T14:36:55.667Z"
   },
   {
    "duration": 16,
    "start_time": "2021-10-19T14:36:56.197Z"
   },
   {
    "duration": 9,
    "start_time": "2021-10-19T14:36:56.216Z"
   },
   {
    "duration": 36,
    "start_time": "2021-10-19T14:36:56.228Z"
   },
   {
    "duration": 32,
    "start_time": "2021-10-19T14:36:56.267Z"
   },
   {
    "duration": 64,
    "start_time": "2021-10-19T14:36:56.303Z"
   },
   {
    "duration": 16,
    "start_time": "2021-10-19T14:36:56.370Z"
   },
   {
    "duration": 11,
    "start_time": "2021-10-19T14:36:56.389Z"
   },
   {
    "duration": 28,
    "start_time": "2021-10-19T14:36:56.402Z"
   },
   {
    "duration": 36,
    "start_time": "2021-10-19T14:36:56.461Z"
   },
   {
    "duration": 366,
    "start_time": "2021-10-19T14:36:56.500Z"
   },
   {
    "duration": 120,
    "start_time": "2021-10-19T14:36:56.869Z"
   },
   {
    "duration": 10,
    "start_time": "2021-10-19T14:36:56.991Z"
   },
   {
    "duration": 23,
    "start_time": "2021-10-19T14:36:57.004Z"
   },
   {
    "duration": 39,
    "start_time": "2021-10-19T14:36:57.029Z"
   },
   {
    "duration": 178,
    "start_time": "2021-10-19T14:36:57.071Z"
   },
   {
    "duration": 63,
    "start_time": "2021-10-19T14:36:57.251Z"
   },
   {
    "duration": 11,
    "start_time": "2021-10-19T14:36:57.319Z"
   },
   {
    "duration": 44,
    "start_time": "2021-10-19T14:36:57.333Z"
   },
   {
    "duration": 37,
    "start_time": "2021-10-19T14:36:57.380Z"
   },
   {
    "duration": 217,
    "start_time": "2021-10-19T14:36:57.419Z"
   },
   {
    "duration": 103,
    "start_time": "2021-10-19T14:36:57.638Z"
   },
   {
    "duration": 19,
    "start_time": "2021-10-19T14:36:57.744Z"
   },
   {
    "duration": 10,
    "start_time": "2021-10-19T14:36:57.766Z"
   },
   {
    "duration": 104,
    "start_time": "2021-10-19T14:36:57.778Z"
   },
   {
    "duration": 7,
    "start_time": "2021-10-19T14:36:57.884Z"
   },
   {
    "duration": 23,
    "start_time": "2021-10-19T14:36:57.893Z"
   },
   {
    "duration": 92,
    "start_time": "2021-10-19T14:36:57.918Z"
   },
   {
    "duration": 59,
    "start_time": "2021-10-19T14:36:58.012Z"
   },
   {
    "duration": 52,
    "start_time": "2021-10-19T14:36:58.074Z"
   },
   {
    "duration": 62,
    "start_time": "2021-10-19T14:36:58.128Z"
   },
   {
    "duration": 69,
    "start_time": "2021-10-19T14:36:58.194Z"
   },
   {
    "duration": 42,
    "start_time": "2021-10-19T14:36:58.266Z"
   },
   {
    "duration": 71,
    "start_time": "2021-10-19T14:36:58.310Z"
   },
   {
    "duration": 15,
    "start_time": "2021-10-19T14:36:58.384Z"
   },
   {
    "duration": 72,
    "start_time": "2021-10-19T14:36:58.401Z"
   },
   {
    "duration": 41,
    "start_time": "2021-10-19T14:36:58.476Z"
   },
   {
    "duration": 70,
    "start_time": "2021-10-19T14:36:58.520Z"
   },
   {
    "duration": 15,
    "start_time": "2021-10-19T14:36:58.592Z"
   },
   {
    "duration": 61,
    "start_time": "2021-10-19T14:36:58.610Z"
   },
   {
    "duration": 45,
    "start_time": "2021-10-19T14:36:58.674Z"
   },
   {
    "duration": 68,
    "start_time": "2021-10-19T14:36:58.722Z"
   },
   {
    "duration": 8,
    "start_time": "2021-10-19T14:36:58.793Z"
   },
   {
    "duration": 11,
    "start_time": "2021-10-19T14:36:58.803Z"
   },
   {
    "duration": 3,
    "start_time": "2021-10-19T14:37:28.613Z"
   },
   {
    "duration": 506,
    "start_time": "2021-10-19T14:37:28.619Z"
   },
   {
    "duration": 14,
    "start_time": "2021-10-19T14:37:29.128Z"
   },
   {
    "duration": 18,
    "start_time": "2021-10-19T14:37:29.145Z"
   },
   {
    "duration": 11,
    "start_time": "2021-10-19T14:37:29.166Z"
   },
   {
    "duration": 30,
    "start_time": "2021-10-19T14:37:29.179Z"
   },
   {
    "duration": 56,
    "start_time": "2021-10-19T14:37:29.212Z"
   },
   {
    "duration": 9,
    "start_time": "2021-10-19T14:37:29.271Z"
   },
   {
    "duration": 12,
    "start_time": "2021-10-19T14:37:29.282Z"
   },
   {
    "duration": 66,
    "start_time": "2021-10-19T14:37:29.296Z"
   },
   {
    "duration": 34,
    "start_time": "2021-10-19T14:37:29.364Z"
   },
   {
    "duration": 386,
    "start_time": "2021-10-19T14:37:29.400Z"
   },
   {
    "duration": 122,
    "start_time": "2021-10-19T14:37:29.788Z"
   },
   {
    "duration": 11,
    "start_time": "2021-10-19T14:37:29.912Z"
   },
   {
    "duration": 42,
    "start_time": "2021-10-19T14:37:29.926Z"
   },
   {
    "duration": 34,
    "start_time": "2021-10-19T14:37:29.971Z"
   },
   {
    "duration": 204,
    "start_time": "2021-10-19T14:37:30.008Z"
   },
   {
    "duration": 76,
    "start_time": "2021-10-19T14:37:30.214Z"
   },
   {
    "duration": 12,
    "start_time": "2021-10-19T14:37:30.295Z"
   },
   {
    "duration": 37,
    "start_time": "2021-10-19T14:37:30.309Z"
   },
   {
    "duration": 53,
    "start_time": "2021-10-19T14:37:30.348Z"
   },
   {
    "duration": 233,
    "start_time": "2021-10-19T14:37:30.403Z"
   },
   {
    "duration": 115,
    "start_time": "2021-10-19T14:37:30.638Z"
   },
   {
    "duration": 13,
    "start_time": "2021-10-19T14:37:30.762Z"
   },
   {
    "duration": 33,
    "start_time": "2021-10-19T14:37:30.777Z"
   },
   {
    "duration": 111,
    "start_time": "2021-10-19T14:37:30.813Z"
   },
   {
    "duration": 6,
    "start_time": "2021-10-19T14:37:30.926Z"
   },
   {
    "duration": 31,
    "start_time": "2021-10-19T14:37:30.935Z"
   },
   {
    "duration": 99,
    "start_time": "2021-10-19T14:37:30.969Z"
   },
   {
    "duration": 48,
    "start_time": "2021-10-19T14:37:31.070Z"
   },
   {
    "duration": 70,
    "start_time": "2021-10-19T14:37:31.120Z"
   },
   {
    "duration": 33,
    "start_time": "2021-10-19T14:37:31.192Z"
   },
   {
    "duration": 70,
    "start_time": "2021-10-19T14:37:31.228Z"
   },
   {
    "duration": 61,
    "start_time": "2021-10-19T14:37:31.301Z"
   },
   {
    "duration": 50,
    "start_time": "2021-10-19T14:37:31.364Z"
   },
   {
    "duration": 16,
    "start_time": "2021-10-19T14:37:31.416Z"
   },
   {
    "duration": 78,
    "start_time": "2021-10-19T14:37:31.434Z"
   },
   {
    "duration": 68,
    "start_time": "2021-10-19T14:37:31.514Z"
   },
   {
    "duration": 50,
    "start_time": "2021-10-19T14:37:31.585Z"
   },
   {
    "duration": 35,
    "start_time": "2021-10-19T14:37:31.637Z"
   },
   {
    "duration": 57,
    "start_time": "2021-10-19T14:37:47.886Z"
   },
   {
    "duration": 5,
    "start_time": "2021-10-19T14:38:09.294Z"
   },
   {
    "duration": 565,
    "start_time": "2021-10-19T14:38:09.301Z"
   },
   {
    "duration": 16,
    "start_time": "2021-10-19T14:38:09.869Z"
   },
   {
    "duration": 11,
    "start_time": "2021-10-19T14:38:09.888Z"
   },
   {
    "duration": 11,
    "start_time": "2021-10-19T14:38:09.901Z"
   },
   {
    "duration": 52,
    "start_time": "2021-10-19T14:38:09.914Z"
   },
   {
    "duration": 40,
    "start_time": "2021-10-19T14:38:09.968Z"
   },
   {
    "duration": 9,
    "start_time": "2021-10-19T14:38:10.012Z"
   },
   {
    "duration": 42,
    "start_time": "2021-10-19T14:38:10.025Z"
   },
   {
    "duration": 29,
    "start_time": "2021-10-19T14:38:10.069Z"
   },
   {
    "duration": 63,
    "start_time": "2021-10-19T14:38:10.100Z"
   },
   {
    "duration": 368,
    "start_time": "2021-10-19T14:38:10.166Z"
   },
   {
    "duration": 124,
    "start_time": "2021-10-19T14:38:10.537Z"
   },
   {
    "duration": 10,
    "start_time": "2021-10-19T14:38:10.664Z"
   },
   {
    "duration": 22,
    "start_time": "2021-10-19T14:38:10.676Z"
   },
   {
    "duration": 18,
    "start_time": "2021-10-19T14:38:10.701Z"
   },
   {
    "duration": 197,
    "start_time": "2021-10-19T14:38:10.722Z"
   },
   {
    "duration": 66,
    "start_time": "2021-10-19T14:38:10.922Z"
   },
   {
    "duration": 11,
    "start_time": "2021-10-19T14:38:10.991Z"
   },
   {
    "duration": 25,
    "start_time": "2021-10-19T14:38:11.004Z"
   },
   {
    "duration": 60,
    "start_time": "2021-10-19T14:38:11.031Z"
   },
   {
    "duration": 217,
    "start_time": "2021-10-19T14:38:11.093Z"
   },
   {
    "duration": 113,
    "start_time": "2021-10-19T14:38:11.315Z"
   },
   {
    "duration": 11,
    "start_time": "2021-10-19T14:38:11.431Z"
   },
   {
    "duration": 22,
    "start_time": "2021-10-19T14:38:11.445Z"
   },
   {
    "duration": 109,
    "start_time": "2021-10-19T14:38:11.470Z"
   },
   {
    "duration": 6,
    "start_time": "2021-10-19T14:38:11.582Z"
   },
   {
    "duration": 24,
    "start_time": "2021-10-19T14:38:11.590Z"
   },
   {
    "duration": 94,
    "start_time": "2021-10-19T14:38:11.616Z"
   },
   {
    "duration": 57,
    "start_time": "2021-10-19T14:38:11.712Z"
   },
   {
    "duration": 51,
    "start_time": "2021-10-19T14:38:11.771Z"
   },
   {
    "duration": 55,
    "start_time": "2021-10-19T14:38:11.824Z"
   },
   {
    "duration": 41,
    "start_time": "2021-10-19T14:38:11.881Z"
   },
   {
    "duration": 57,
    "start_time": "2021-10-19T14:38:11.925Z"
   },
   {
    "duration": 50,
    "start_time": "2021-10-19T14:38:11.985Z"
   },
   {
    "duration": 38,
    "start_time": "2021-10-19T14:38:12.037Z"
   },
   {
    "duration": 49,
    "start_time": "2021-10-19T14:38:12.078Z"
   },
   {
    "duration": 67,
    "start_time": "2021-10-19T14:38:12.129Z"
   },
   {
    "duration": 65,
    "start_time": "2021-10-19T14:38:12.198Z"
   },
   {
    "duration": 14,
    "start_time": "2021-10-19T14:38:12.266Z"
   },
   {
    "duration": 38,
    "start_time": "2021-10-19T14:38:12.282Z"
   },
   {
    "duration": 71,
    "start_time": "2021-10-19T14:38:12.322Z"
   },
   {
    "duration": 66,
    "start_time": "2021-10-19T14:38:12.395Z"
   },
   {
    "duration": 10,
    "start_time": "2021-10-19T14:38:12.464Z"
   },
   {
    "duration": 15,
    "start_time": "2021-10-19T14:38:12.476Z"
   },
   {
    "duration": 309,
    "start_time": "2021-10-19T14:39:44.722Z"
   },
   {
    "duration": 285,
    "start_time": "2021-10-19T14:40:34.919Z"
   },
   {
    "duration": 388,
    "start_time": "2021-10-19T14:41:08.581Z"
   },
   {
    "duration": 49,
    "start_time": "2021-10-19T14:44:06.213Z"
   },
   {
    "duration": 42,
    "start_time": "2021-10-19T14:44:14.897Z"
   },
   {
    "duration": 7,
    "start_time": "2021-10-19T14:44:31.904Z"
   },
   {
    "duration": 27,
    "start_time": "2021-10-19T14:44:35.696Z"
   },
   {
    "duration": 4,
    "start_time": "2021-10-19T14:44:44.071Z"
   },
   {
    "duration": 520,
    "start_time": "2021-10-19T14:44:44.078Z"
   },
   {
    "duration": 14,
    "start_time": "2021-10-19T14:44:44.601Z"
   },
   {
    "duration": 13,
    "start_time": "2021-10-19T14:44:44.617Z"
   },
   {
    "duration": 13,
    "start_time": "2021-10-19T14:44:44.633Z"
   },
   {
    "duration": 24,
    "start_time": "2021-10-19T14:44:44.662Z"
   },
   {
    "duration": 73,
    "start_time": "2021-10-19T14:44:44.690Z"
   },
   {
    "duration": 13,
    "start_time": "2021-10-19T14:44:44.780Z"
   },
   {
    "duration": 11,
    "start_time": "2021-10-19T14:44:44.796Z"
   },
   {
    "duration": 54,
    "start_time": "2021-10-19T14:44:44.810Z"
   },
   {
    "duration": 35,
    "start_time": "2021-10-19T14:44:44.867Z"
   },
   {
    "duration": 428,
    "start_time": "2021-10-19T14:44:44.905Z"
   },
   {
    "duration": 141,
    "start_time": "2021-10-19T14:44:45.335Z"
   },
   {
    "duration": 14,
    "start_time": "2021-10-19T14:44:45.480Z"
   },
   {
    "duration": 25,
    "start_time": "2021-10-19T14:44:45.497Z"
   },
   {
    "duration": 48,
    "start_time": "2021-10-19T14:44:45.525Z"
   },
   {
    "duration": 198,
    "start_time": "2021-10-19T14:44:45.576Z"
   },
   {
    "duration": 56,
    "start_time": "2021-10-19T14:44:45.776Z"
   },
   {
    "duration": 28,
    "start_time": "2021-10-19T14:44:45.837Z"
   },
   {
    "duration": 24,
    "start_time": "2021-10-19T14:44:45.868Z"
   },
   {
    "duration": 36,
    "start_time": "2021-10-19T14:44:45.895Z"
   },
   {
    "duration": 245,
    "start_time": "2021-10-19T14:44:45.934Z"
   },
   {
    "duration": 114,
    "start_time": "2021-10-19T14:44:46.182Z"
   },
   {
    "duration": 12,
    "start_time": "2021-10-19T14:44:46.299Z"
   },
   {
    "duration": 22,
    "start_time": "2021-10-19T14:44:46.314Z"
   },
   {
    "duration": 104,
    "start_time": "2021-10-19T14:44:46.338Z"
   },
   {
    "duration": 7,
    "start_time": "2021-10-19T14:44:46.444Z"
   },
   {
    "duration": 25,
    "start_time": "2021-10-19T14:44:46.453Z"
   },
   {
    "duration": 93,
    "start_time": "2021-10-19T14:44:46.481Z"
   },
   {
    "duration": 50,
    "start_time": "2021-10-19T14:44:46.577Z"
   },
   {
    "duration": 76,
    "start_time": "2021-10-19T14:44:46.630Z"
   },
   {
    "duration": 31,
    "start_time": "2021-10-19T14:44:46.708Z"
   },
   {
    "duration": 42,
    "start_time": "2021-10-19T14:44:46.763Z"
   },
   {
    "duration": 56,
    "start_time": "2021-10-19T14:44:46.807Z"
   },
   {
    "duration": 47,
    "start_time": "2021-10-19T14:44:46.865Z"
   },
   {
    "duration": 14,
    "start_time": "2021-10-19T14:44:46.914Z"
   },
   {
    "duration": 79,
    "start_time": "2021-10-19T14:44:46.931Z"
   },
   {
    "duration": 65,
    "start_time": "2021-10-19T14:44:47.012Z"
   },
   {
    "duration": 39,
    "start_time": "2021-10-19T14:44:47.080Z"
   },
   {
    "duration": 14,
    "start_time": "2021-10-19T14:44:47.122Z"
   },
   {
    "duration": 56,
    "start_time": "2021-10-19T14:44:47.138Z"
   },
   {
    "duration": 74,
    "start_time": "2021-10-19T14:44:47.196Z"
   },
   {
    "duration": 48,
    "start_time": "2021-10-19T14:44:47.272Z"
   },
   {
    "duration": 37,
    "start_time": "2021-10-19T14:44:47.324Z"
   },
   {
    "duration": 9,
    "start_time": "2021-10-19T14:44:47.364Z"
   },
   {
    "duration": 1332,
    "start_time": "2021-10-19T17:56:55.214Z"
   },
   {
    "duration": 508,
    "start_time": "2021-10-19T17:56:56.549Z"
   },
   {
    "duration": 19,
    "start_time": "2021-10-19T17:56:57.060Z"
   },
   {
    "duration": 17,
    "start_time": "2021-10-19T17:56:57.082Z"
   },
   {
    "duration": 16,
    "start_time": "2021-10-19T17:56:57.101Z"
   },
   {
    "duration": 25,
    "start_time": "2021-10-19T17:56:57.120Z"
   },
   {
    "duration": 49,
    "start_time": "2021-10-19T17:56:57.147Z"
   },
   {
    "duration": 10,
    "start_time": "2021-10-19T17:56:57.199Z"
   },
   {
    "duration": 14,
    "start_time": "2021-10-19T17:56:57.212Z"
   },
   {
    "duration": 54,
    "start_time": "2021-10-19T17:56:57.229Z"
   },
   {
    "duration": 38,
    "start_time": "2021-10-19T17:56:57.286Z"
   },
   {
    "duration": 372,
    "start_time": "2021-10-19T17:56:57.327Z"
   },
   {
    "duration": 143,
    "start_time": "2021-10-19T17:56:57.701Z"
   },
   {
    "duration": 10,
    "start_time": "2021-10-19T17:56:57.847Z"
   },
   {
    "duration": 37,
    "start_time": "2021-10-19T17:56:57.859Z"
   },
   {
    "duration": 18,
    "start_time": "2021-10-19T17:56:57.899Z"
   },
   {
    "duration": 193,
    "start_time": "2021-10-19T17:56:57.920Z"
   },
   {
    "duration": 67,
    "start_time": "2021-10-19T17:56:58.115Z"
   },
   {
    "duration": 13,
    "start_time": "2021-10-19T17:56:58.184Z"
   },
   {
    "duration": 33,
    "start_time": "2021-10-19T17:56:58.199Z"
   },
   {
    "duration": 55,
    "start_time": "2021-10-19T17:56:58.234Z"
   },
   {
    "duration": 208,
    "start_time": "2021-10-19T17:56:58.292Z"
   },
   {
    "duration": 114,
    "start_time": "2021-10-19T17:56:58.502Z"
   },
   {
    "duration": 13,
    "start_time": "2021-10-19T17:56:58.618Z"
   },
   {
    "duration": 14,
    "start_time": "2021-10-19T17:56:58.633Z"
   },
   {
    "duration": 119,
    "start_time": "2021-10-19T17:56:58.649Z"
   },
   {
    "duration": 11,
    "start_time": "2021-10-19T17:56:58.773Z"
   },
   {
    "duration": 22,
    "start_time": "2021-10-19T17:56:58.787Z"
   },
   {
    "duration": 98,
    "start_time": "2021-10-19T17:56:58.812Z"
   },
   {
    "duration": 47,
    "start_time": "2021-10-19T17:56:58.913Z"
   },
   {
    "duration": 64,
    "start_time": "2021-10-19T17:56:58.962Z"
   },
   {
    "duration": 27,
    "start_time": "2021-10-19T17:56:59.029Z"
   },
   {
    "duration": 60,
    "start_time": "2021-10-19T17:56:59.058Z"
   },
   {
    "duration": 43,
    "start_time": "2021-10-19T17:56:59.120Z"
   },
   {
    "duration": 45,
    "start_time": "2021-10-19T17:56:59.184Z"
   },
   {
    "duration": 14,
    "start_time": "2021-10-19T17:56:59.232Z"
   },
   {
    "duration": 70,
    "start_time": "2021-10-19T17:56:59.249Z"
   },
   {
    "duration": 38,
    "start_time": "2021-10-19T17:56:59.322Z"
   },
   {
    "duration": 57,
    "start_time": "2021-10-19T17:56:59.363Z"
   },
   {
    "duration": 14,
    "start_time": "2021-10-19T17:56:59.423Z"
   },
   {
    "duration": 73,
    "start_time": "2021-10-19T17:56:59.440Z"
   },
   {
    "duration": 41,
    "start_time": "2021-10-19T17:56:59.516Z"
   },
   {
    "duration": 58,
    "start_time": "2021-10-19T17:56:59.560Z"
   },
   {
    "duration": 8,
    "start_time": "2021-10-19T17:56:59.620Z"
   },
   {
    "duration": 13,
    "start_time": "2021-10-19T17:56:59.630Z"
   },
   {
    "duration": 401,
    "start_time": "2021-10-19T17:56:59.645Z"
   },
   {
    "duration": -1715,
    "start_time": "2021-10-19T17:57:01.763Z"
   },
   {
    "duration": -1716,
    "start_time": "2021-10-19T17:57:01.765Z"
   },
   {
    "duration": -1716,
    "start_time": "2021-10-19T17:57:01.767Z"
   },
   {
    "duration": 5,
    "start_time": "2021-10-19T17:57:53.871Z"
   },
   {
    "duration": 500,
    "start_time": "2021-10-19T17:57:53.880Z"
   },
   {
    "duration": 13,
    "start_time": "2021-10-19T17:57:54.383Z"
   },
   {
    "duration": 15,
    "start_time": "2021-10-19T17:57:54.399Z"
   },
   {
    "duration": 19,
    "start_time": "2021-10-19T17:57:54.417Z"
   },
   {
    "duration": 26,
    "start_time": "2021-10-19T17:57:54.438Z"
   },
   {
    "duration": 40,
    "start_time": "2021-10-19T17:57:54.482Z"
   },
   {
    "duration": 12,
    "start_time": "2021-10-19T17:57:54.525Z"
   },
   {
    "duration": 11,
    "start_time": "2021-10-19T17:57:54.541Z"
   },
   {
    "duration": 27,
    "start_time": "2021-10-19T17:57:54.582Z"
   },
   {
    "duration": 36,
    "start_time": "2021-10-19T17:57:54.611Z"
   },
   {
    "duration": 380,
    "start_time": "2021-10-19T17:57:54.649Z"
   },
   {
    "duration": 119,
    "start_time": "2021-10-19T17:57:55.032Z"
   },
   {
    "duration": 11,
    "start_time": "2021-10-19T17:57:55.154Z"
   },
   {
    "duration": 19,
    "start_time": "2021-10-19T17:57:55.182Z"
   },
   {
    "duration": 19,
    "start_time": "2021-10-19T17:57:55.204Z"
   },
   {
    "duration": 198,
    "start_time": "2021-10-19T17:57:55.226Z"
   },
   {
    "duration": 69,
    "start_time": "2021-10-19T17:57:55.426Z"
   },
   {
    "duration": 12,
    "start_time": "2021-10-19T17:57:55.498Z"
   },
   {
    "duration": 28,
    "start_time": "2021-10-19T17:57:55.512Z"
   },
   {
    "duration": 64,
    "start_time": "2021-10-19T17:57:55.543Z"
   },
   {
    "duration": 194,
    "start_time": "2021-10-19T17:57:55.610Z"
   },
   {
    "duration": 99,
    "start_time": "2021-10-19T17:57:55.806Z"
   },
   {
    "duration": 12,
    "start_time": "2021-10-19T17:57:55.907Z"
   },
   {
    "duration": 17,
    "start_time": "2021-10-19T17:57:55.922Z"
   },
   {
    "duration": 101,
    "start_time": "2021-10-19T17:57:55.941Z"
   },
   {
    "duration": 7,
    "start_time": "2021-10-19T17:57:56.048Z"
   },
   {
    "duration": 35,
    "start_time": "2021-10-19T17:57:56.058Z"
   },
   {
    "duration": 68,
    "start_time": "2021-10-19T17:57:56.096Z"
   },
   {
    "duration": 57,
    "start_time": "2021-10-19T17:57:56.167Z"
   },
   {
    "duration": 69,
    "start_time": "2021-10-19T17:57:56.227Z"
   },
   {
    "duration": 29,
    "start_time": "2021-10-19T17:57:56.299Z"
   },
   {
    "duration": 61,
    "start_time": "2021-10-19T17:57:56.331Z"
   },
   {
    "duration": 36,
    "start_time": "2021-10-19T17:57:56.395Z"
   },
   {
    "duration": 72,
    "start_time": "2021-10-19T17:57:56.433Z"
   },
   {
    "duration": 15,
    "start_time": "2021-10-19T17:57:56.507Z"
   },
   {
    "duration": 66,
    "start_time": "2021-10-19T17:57:56.525Z"
   },
   {
    "duration": 40,
    "start_time": "2021-10-19T17:57:56.593Z"
   },
   {
    "duration": 56,
    "start_time": "2021-10-19T17:57:56.636Z"
   },
   {
    "duration": 15,
    "start_time": "2021-10-19T17:57:56.695Z"
   },
   {
    "duration": 40,
    "start_time": "2021-10-19T17:57:56.713Z"
   },
   {
    "duration": 67,
    "start_time": "2021-10-19T17:57:56.756Z"
   },
   {
    "duration": 64,
    "start_time": "2021-10-19T17:57:56.825Z"
   },
   {
    "duration": 11,
    "start_time": "2021-10-19T17:57:56.891Z"
   },
   {
    "duration": 21,
    "start_time": "2021-10-19T17:57:56.904Z"
   },
   {
    "duration": 56,
    "start_time": "2021-10-19T17:57:56.928Z"
   },
   {
    "duration": 44,
    "start_time": "2021-10-19T17:57:56.986Z"
   },
   {
    "duration": 7,
    "start_time": "2021-10-19T17:57:57.033Z"
   },
   {
    "duration": 598,
    "start_time": "2021-10-19T17:57:57.042Z"
   },
   {
    "duration": 12,
    "start_time": "2021-10-19T17:58:21.545Z"
   },
   {
    "duration": 6,
    "start_time": "2021-10-19T18:00:20.113Z"
   },
   {
    "duration": 5,
    "start_time": "2021-10-19T18:00:24.617Z"
   },
   {
    "duration": 6,
    "start_time": "2021-10-19T18:02:04.834Z"
   },
   {
    "duration": 263,
    "start_time": "2021-10-19T18:03:39.315Z"
   },
   {
    "duration": 310,
    "start_time": "2021-10-19T18:03:47.602Z"
   },
   {
    "duration": 6,
    "start_time": "2021-10-19T18:03:54.569Z"
   },
   {
    "duration": 414,
    "start_time": "2021-10-19T18:04:10.729Z"
   },
   {
    "duration": 252,
    "start_time": "2021-10-19T18:04:16.266Z"
   },
   {
    "duration": 264,
    "start_time": "2021-10-19T18:04:29.465Z"
   },
   {
    "duration": 6,
    "start_time": "2021-10-19T18:04:58.051Z"
   },
   {
    "duration": 11,
    "start_time": "2021-10-19T18:05:11.290Z"
   },
   {
    "duration": 9,
    "start_time": "2021-10-19T18:06:17.018Z"
   },
   {
    "duration": 7,
    "start_time": "2021-10-19T18:09:11.434Z"
   },
   {
    "duration": 273,
    "start_time": "2021-10-19T18:09:38.778Z"
   },
   {
    "duration": 220,
    "start_time": "2021-10-19T18:09:45.795Z"
   },
   {
    "duration": 421,
    "start_time": "2021-10-19T18:09:55.002Z"
   },
   {
    "duration": 17,
    "start_time": "2021-10-19T18:11:34.099Z"
   },
   {
    "duration": 258,
    "start_time": "2021-10-19T18:11:46.186Z"
   },
   {
    "duration": 4,
    "start_time": "2021-10-19T18:12:08.750Z"
   },
   {
    "duration": 502,
    "start_time": "2021-10-19T18:12:08.757Z"
   },
   {
    "duration": 15,
    "start_time": "2021-10-19T18:12:09.261Z"
   },
   {
    "duration": 12,
    "start_time": "2021-10-19T18:12:09.279Z"
   },
   {
    "duration": 35,
    "start_time": "2021-10-19T18:12:09.293Z"
   },
   {
    "duration": 22,
    "start_time": "2021-10-19T18:12:09.331Z"
   },
   {
    "duration": 46,
    "start_time": "2021-10-19T18:12:09.355Z"
   },
   {
    "duration": 11,
    "start_time": "2021-10-19T18:12:09.404Z"
   },
   {
    "duration": 12,
    "start_time": "2021-10-19T18:12:09.419Z"
   },
   {
    "duration": 57,
    "start_time": "2021-10-19T18:12:09.434Z"
   },
   {
    "duration": 33,
    "start_time": "2021-10-19T18:12:09.494Z"
   },
   {
    "duration": 353,
    "start_time": "2021-10-19T18:12:09.530Z"
   },
   {
    "duration": 127,
    "start_time": "2021-10-19T18:12:09.886Z"
   },
   {
    "duration": 11,
    "start_time": "2021-10-19T18:12:10.016Z"
   },
   {
    "duration": 21,
    "start_time": "2021-10-19T18:12:10.030Z"
   },
   {
    "duration": 46,
    "start_time": "2021-10-19T18:12:10.054Z"
   },
   {
    "duration": 172,
    "start_time": "2021-10-19T18:12:10.103Z"
   },
   {
    "duration": 55,
    "start_time": "2021-10-19T18:12:10.278Z"
   },
   {
    "duration": 14,
    "start_time": "2021-10-19T18:12:10.336Z"
   },
   {
    "duration": 25,
    "start_time": "2021-10-19T18:12:10.383Z"
   },
   {
    "duration": 38,
    "start_time": "2021-10-19T18:12:10.411Z"
   },
   {
    "duration": 209,
    "start_time": "2021-10-19T18:12:10.452Z"
   },
   {
    "duration": 103,
    "start_time": "2021-10-19T18:12:10.663Z"
   },
   {
    "duration": 20,
    "start_time": "2021-10-19T18:12:10.768Z"
   },
   {
    "duration": 12,
    "start_time": "2021-10-19T18:12:10.791Z"
   },
   {
    "duration": 104,
    "start_time": "2021-10-19T18:12:10.806Z"
   },
   {
    "duration": 7,
    "start_time": "2021-10-19T18:12:10.915Z"
   },
   {
    "duration": 21,
    "start_time": "2021-10-19T18:12:10.925Z"
   },
   {
    "duration": 97,
    "start_time": "2021-10-19T18:12:10.949Z"
   },
   {
    "duration": 59,
    "start_time": "2021-10-19T18:12:11.048Z"
   },
   {
    "duration": 48,
    "start_time": "2021-10-19T18:12:11.110Z"
   },
   {
    "duration": 45,
    "start_time": "2021-10-19T18:12:11.160Z"
   },
   {
    "duration": 40,
    "start_time": "2021-10-19T18:12:11.207Z"
   },
   {
    "duration": 60,
    "start_time": "2021-10-19T18:12:11.249Z"
   },
   {
    "duration": 48,
    "start_time": "2021-10-19T18:12:11.311Z"
   },
   {
    "duration": 31,
    "start_time": "2021-10-19T18:12:11.361Z"
   },
   {
    "duration": 50,
    "start_time": "2021-10-19T18:12:11.395Z"
   },
   {
    "duration": 60,
    "start_time": "2021-10-19T18:12:11.447Z"
   },
   {
    "duration": 42,
    "start_time": "2021-10-19T18:12:11.510Z"
   },
   {
    "duration": 40,
    "start_time": "2021-10-19T18:12:11.555Z"
   },
   {
    "duration": 36,
    "start_time": "2021-10-19T18:12:11.598Z"
   },
   {
    "duration": 74,
    "start_time": "2021-10-19T18:12:11.636Z"
   },
   {
    "duration": 53,
    "start_time": "2021-10-19T18:12:11.712Z"
   },
   {
    "duration": 9,
    "start_time": "2021-10-19T18:12:11.782Z"
   },
   {
    "duration": 10,
    "start_time": "2021-10-19T18:12:11.793Z"
   },
   {
    "duration": 43,
    "start_time": "2021-10-19T18:12:11.806Z"
   },
   {
    "duration": 72,
    "start_time": "2021-10-19T18:12:11.851Z"
   },
   {
    "duration": 7,
    "start_time": "2021-10-19T18:12:11.926Z"
   },
   {
    "duration": 590,
    "start_time": "2021-10-19T18:12:11.936Z"
   },
   {
    "duration": 6,
    "start_time": "2021-10-19T18:12:12.528Z"
   },
   {
    "duration": 15,
    "start_time": "2021-10-19T18:12:12.538Z"
   },
   {
    "duration": 12,
    "start_time": "2021-10-19T18:12:12.583Z"
   },
   {
    "duration": 24,
    "start_time": "2021-10-19T18:12:12.597Z"
   },
   {
    "duration": 21,
    "start_time": "2021-10-19T18:18:14.386Z"
   },
   {
    "duration": 6,
    "start_time": "2021-10-19T18:18:50.443Z"
   },
   {
    "duration": 4,
    "start_time": "2021-10-19T18:20:23.521Z"
   },
   {
    "duration": 517,
    "start_time": "2021-10-19T18:20:23.528Z"
   },
   {
    "duration": 15,
    "start_time": "2021-10-19T18:20:24.048Z"
   },
   {
    "duration": 21,
    "start_time": "2021-10-19T18:20:24.066Z"
   },
   {
    "duration": 9,
    "start_time": "2021-10-19T18:20:24.090Z"
   },
   {
    "duration": 26,
    "start_time": "2021-10-19T18:20:24.102Z"
   },
   {
    "duration": 71,
    "start_time": "2021-10-19T18:20:24.133Z"
   },
   {
    "duration": 9,
    "start_time": "2021-10-19T18:20:24.208Z"
   },
   {
    "duration": 11,
    "start_time": "2021-10-19T18:20:24.220Z"
   },
   {
    "duration": 59,
    "start_time": "2021-10-19T18:20:24.234Z"
   },
   {
    "duration": 35,
    "start_time": "2021-10-19T18:20:24.296Z"
   },
   {
    "duration": 367,
    "start_time": "2021-10-19T18:20:24.334Z"
   },
   {
    "duration": 117,
    "start_time": "2021-10-19T18:20:24.704Z"
   },
   {
    "duration": 11,
    "start_time": "2021-10-19T18:20:24.824Z"
   },
   {
    "duration": 45,
    "start_time": "2021-10-19T18:20:24.838Z"
   },
   {
    "duration": 20,
    "start_time": "2021-10-19T18:20:24.886Z"
   },
   {
    "duration": 196,
    "start_time": "2021-10-19T18:20:24.909Z"
   },
   {
    "duration": 77,
    "start_time": "2021-10-19T18:20:25.108Z"
   },
   {
    "duration": 12,
    "start_time": "2021-10-19T18:20:25.193Z"
   },
   {
    "duration": 25,
    "start_time": "2021-10-19T18:20:25.209Z"
   },
   {
    "duration": 76,
    "start_time": "2021-10-19T18:20:25.237Z"
   },
   {
    "duration": 249,
    "start_time": "2021-10-19T18:20:25.316Z"
   },
   {
    "duration": 165,
    "start_time": "2021-10-19T18:20:25.568Z"
   },
   {
    "duration": 14,
    "start_time": "2021-10-19T18:20:25.736Z"
   },
   {
    "duration": 33,
    "start_time": "2021-10-19T18:20:25.753Z"
   },
   {
    "duration": 103,
    "start_time": "2021-10-19T18:20:25.789Z"
   },
   {
    "duration": 7,
    "start_time": "2021-10-19T18:20:25.894Z"
   },
   {
    "duration": 23,
    "start_time": "2021-10-19T18:20:25.904Z"
   },
   {
    "duration": 96,
    "start_time": "2021-10-19T18:20:25.930Z"
   },
   {
    "duration": 61,
    "start_time": "2021-10-19T18:20:26.029Z"
   },
   {
    "duration": 50,
    "start_time": "2021-10-19T18:20:26.093Z"
   },
   {
    "duration": 54,
    "start_time": "2021-10-19T18:20:26.146Z"
   },
   {
    "duration": 46,
    "start_time": "2021-10-19T18:20:26.202Z"
   },
   {
    "duration": 57,
    "start_time": "2021-10-19T18:20:26.251Z"
   },
   {
    "duration": 49,
    "start_time": "2021-10-19T18:20:26.311Z"
   },
   {
    "duration": 34,
    "start_time": "2021-10-19T18:20:26.363Z"
   },
   {
    "duration": 89,
    "start_time": "2021-10-19T18:20:26.400Z"
   },
   {
    "duration": 93,
    "start_time": "2021-10-19T18:20:26.493Z"
   },
   {
    "duration": 92,
    "start_time": "2021-10-19T18:20:26.590Z"
   },
   {
    "duration": 27,
    "start_time": "2021-10-19T18:20:26.686Z"
   },
   {
    "duration": 85,
    "start_time": "2021-10-19T18:20:26.717Z"
   },
   {
    "duration": 93,
    "start_time": "2021-10-19T18:20:26.806Z"
   },
   {
    "duration": 48,
    "start_time": "2021-10-19T18:20:26.901Z"
   },
   {
    "duration": 41,
    "start_time": "2021-10-19T18:20:26.952Z"
   },
   {
    "duration": 18,
    "start_time": "2021-10-19T18:20:26.995Z"
   },
   {
    "duration": 72,
    "start_time": "2021-10-19T18:20:27.017Z"
   },
   {
    "duration": 46,
    "start_time": "2021-10-19T18:20:27.093Z"
   },
   {
    "duration": 9,
    "start_time": "2021-10-19T18:20:27.141Z"
   },
   {
    "duration": 713,
    "start_time": "2021-10-19T18:20:27.152Z"
   },
   {
    "duration": 16,
    "start_time": "2021-10-19T18:20:27.868Z"
   },
   {
    "duration": 12,
    "start_time": "2021-10-19T18:20:27.887Z"
   },
   {
    "duration": 10,
    "start_time": "2021-10-19T18:20:27.901Z"
   },
   {
    "duration": 24,
    "start_time": "2021-10-19T18:21:41.482Z"
   },
   {
    "duration": 4,
    "start_time": "2021-10-19T18:22:06.873Z"
   },
   {
    "duration": 514,
    "start_time": "2021-10-19T18:22:06.879Z"
   },
   {
    "duration": 16,
    "start_time": "2021-10-19T18:22:07.396Z"
   },
   {
    "duration": 12,
    "start_time": "2021-10-19T18:22:07.415Z"
   },
   {
    "duration": 10,
    "start_time": "2021-10-19T18:22:07.429Z"
   },
   {
    "duration": 42,
    "start_time": "2021-10-19T18:22:07.442Z"
   },
   {
    "duration": 40,
    "start_time": "2021-10-19T18:22:07.486Z"
   },
   {
    "duration": 9,
    "start_time": "2021-10-19T18:22:07.530Z"
   },
   {
    "duration": 46,
    "start_time": "2021-10-19T18:22:07.542Z"
   },
   {
    "duration": 31,
    "start_time": "2021-10-19T18:22:07.590Z"
   },
   {
    "duration": 37,
    "start_time": "2021-10-19T18:22:07.623Z"
   },
   {
    "duration": 390,
    "start_time": "2021-10-19T18:22:07.684Z"
   },
   {
    "duration": 124,
    "start_time": "2021-10-19T18:22:08.077Z"
   },
   {
    "duration": 10,
    "start_time": "2021-10-19T18:22:08.203Z"
   },
   {
    "duration": 22,
    "start_time": "2021-10-19T18:22:08.216Z"
   },
   {
    "duration": 46,
    "start_time": "2021-10-19T18:22:08.241Z"
   },
   {
    "duration": 165,
    "start_time": "2021-10-19T18:22:08.290Z"
   },
   {
    "duration": 67,
    "start_time": "2021-10-19T18:22:08.457Z"
   },
   {
    "duration": 12,
    "start_time": "2021-10-19T18:22:08.526Z"
   },
   {
    "duration": 45,
    "start_time": "2021-10-19T18:22:08.541Z"
   },
   {
    "duration": 39,
    "start_time": "2021-10-19T18:22:08.589Z"
   },
   {
    "duration": 211,
    "start_time": "2021-10-19T18:22:08.630Z"
   },
   {
    "duration": 97,
    "start_time": "2021-10-19T18:22:08.847Z"
   },
   {
    "duration": 11,
    "start_time": "2021-10-19T18:22:08.947Z"
   },
   {
    "duration": 26,
    "start_time": "2021-10-19T18:22:08.961Z"
   },
   {
    "duration": 96,
    "start_time": "2021-10-19T18:22:08.990Z"
   },
   {
    "duration": 6,
    "start_time": "2021-10-19T18:22:09.088Z"
   },
   {
    "duration": 22,
    "start_time": "2021-10-19T18:22:09.097Z"
   },
   {
    "duration": 84,
    "start_time": "2021-10-19T18:22:09.121Z"
   },
   {
    "duration": 44,
    "start_time": "2021-10-19T18:22:09.207Z"
   },
   {
    "duration": 70,
    "start_time": "2021-10-19T18:22:09.253Z"
   },
   {
    "duration": 28,
    "start_time": "2021-10-19T18:22:09.325Z"
   },
   {
    "duration": 60,
    "start_time": "2021-10-19T18:22:09.355Z"
   },
   {
    "duration": 37,
    "start_time": "2021-10-19T18:22:09.417Z"
   },
   {
    "duration": 66,
    "start_time": "2021-10-19T18:22:09.456Z"
   },
   {
    "duration": 15,
    "start_time": "2021-10-19T18:22:09.525Z"
   },
   {
    "duration": 76,
    "start_time": "2021-10-19T18:22:09.543Z"
   },
   {
    "duration": 39,
    "start_time": "2021-10-19T18:22:09.621Z"
   },
   {
    "duration": 40,
    "start_time": "2021-10-19T18:22:09.682Z"
   },
   {
    "duration": 16,
    "start_time": "2021-10-19T18:22:09.725Z"
   },
   {
    "duration": 63,
    "start_time": "2021-10-19T18:22:09.744Z"
   },
   {
    "duration": 44,
    "start_time": "2021-10-19T18:22:09.810Z"
   },
   {
    "duration": 43,
    "start_time": "2021-10-19T18:22:09.882Z"
   },
   {
    "duration": 10,
    "start_time": "2021-10-19T18:22:09.928Z"
   },
   {
    "duration": 42,
    "start_time": "2021-10-19T18:22:09.941Z"
   },
   {
    "duration": 43,
    "start_time": "2021-10-19T18:22:09.985Z"
   },
   {
    "duration": 63,
    "start_time": "2021-10-19T18:22:10.031Z"
   },
   {
    "duration": 6,
    "start_time": "2021-10-19T18:22:10.097Z"
   },
   {
    "duration": 682,
    "start_time": "2021-10-19T18:22:10.106Z"
   },
   {
    "duration": 6,
    "start_time": "2021-10-19T18:22:10.791Z"
   },
   {
    "duration": 13,
    "start_time": "2021-10-19T18:22:10.799Z"
   },
   {
    "duration": 10,
    "start_time": "2021-10-19T18:22:10.815Z"
   },
   {
    "duration": 43,
    "start_time": "2021-10-19T18:22:59.483Z"
   },
   {
    "duration": 254,
    "start_time": "2021-10-19T18:26:35.948Z"
   },
   {
    "duration": 7,
    "start_time": "2021-10-19T18:26:42.434Z"
   },
   {
    "duration": 9,
    "start_time": "2021-10-19T18:26:54.044Z"
   },
   {
    "duration": 9,
    "start_time": "2021-10-19T18:27:04.467Z"
   },
   {
    "duration": 10,
    "start_time": "2021-10-19T18:27:11.379Z"
   },
   {
    "duration": 7,
    "start_time": "2021-10-19T18:30:31.860Z"
   },
   {
    "duration": 8,
    "start_time": "2021-10-19T18:32:19.043Z"
   },
   {
    "duration": 91,
    "start_time": "2021-10-19T18:32:26.396Z"
   },
   {
    "duration": 7,
    "start_time": "2021-10-19T18:32:31.188Z"
   },
   {
    "duration": 27,
    "start_time": "2021-10-19T18:35:04.708Z"
   },
   {
    "duration": 2099,
    "start_time": "2021-10-19T18:35:22.988Z"
   },
   {
    "duration": 452,
    "start_time": "2021-10-19T18:35:55.451Z"
   },
   {
    "duration": 606,
    "start_time": "2021-10-19T18:36:11.579Z"
   },
   {
    "duration": 510,
    "start_time": "2021-10-19T18:36:54.108Z"
   },
   {
    "duration": 512,
    "start_time": "2021-10-19T18:37:09.299Z"
   },
   {
    "duration": 523,
    "start_time": "2021-10-19T18:37:54.900Z"
   },
   {
    "duration": 638,
    "start_time": "2021-10-19T18:39:08.812Z"
   },
   {
    "duration": 545,
    "start_time": "2021-10-19T18:39:59.902Z"
   },
   {
    "duration": 564,
    "start_time": "2021-10-19T18:40:39.739Z"
   },
   {
    "duration": 536,
    "start_time": "2021-10-19T18:41:01.838Z"
   },
   {
    "duration": 603,
    "start_time": "2021-10-19T18:41:57.588Z"
   },
   {
    "duration": 171,
    "start_time": "2021-10-19T18:42:24.859Z"
   },
   {
    "duration": 42,
    "start_time": "2021-10-19T18:43:13.733Z"
   },
   {
    "duration": 6,
    "start_time": "2021-10-19T18:43:44.896Z"
   },
   {
    "duration": 529,
    "start_time": "2021-10-19T18:46:16.444Z"
   },
   {
    "duration": 536,
    "start_time": "2021-10-19T18:46:39.197Z"
   },
   {
    "duration": 472,
    "start_time": "2021-10-19T18:56:09.494Z"
   },
   {
    "duration": 371,
    "start_time": "2021-10-19T18:56:21.302Z"
   },
   {
    "duration": 377,
    "start_time": "2021-10-19T18:56:38.950Z"
   },
   {
    "duration": 387,
    "start_time": "2021-10-19T18:58:21.583Z"
   },
   {
    "duration": 7,
    "start_time": "2021-10-19T18:59:00.357Z"
   },
   {
    "duration": 7,
    "start_time": "2021-10-19T18:59:11.669Z"
   },
   {
    "duration": 9,
    "start_time": "2021-10-19T18:59:50.901Z"
   },
   {
    "duration": 8,
    "start_time": "2021-10-19T19:00:04.926Z"
   },
   {
    "duration": 36,
    "start_time": "2021-10-19T19:04:50.982Z"
   },
   {
    "duration": 29,
    "start_time": "2021-10-19T19:05:19.022Z"
   },
   {
    "duration": 300,
    "start_time": "2021-10-19T19:07:59.278Z"
   },
   {
    "duration": 373,
    "start_time": "2021-10-19T19:08:07.934Z"
   },
   {
    "duration": 311,
    "start_time": "2021-10-19T19:08:12.535Z"
   },
   {
    "duration": 259,
    "start_time": "2021-10-19T19:09:54.110Z"
   },
   {
    "duration": 74,
    "start_time": "2021-10-19T19:10:08.185Z"
   },
   {
    "duration": 356,
    "start_time": "2021-10-19T19:10:41.935Z"
   },
   {
    "duration": 12,
    "start_time": "2021-10-19T19:11:01.752Z"
   },
   {
    "duration": 11,
    "start_time": "2021-10-19T19:11:20.399Z"
   },
   {
    "duration": 294,
    "start_time": "2021-10-19T19:11:25.103Z"
   },
   {
    "duration": 280,
    "start_time": "2021-10-19T19:11:28.478Z"
   },
   {
    "duration": 383,
    "start_time": "2021-10-19T19:11:33.334Z"
   },
   {
    "duration": 313,
    "start_time": "2021-10-19T19:11:55.023Z"
   },
   {
    "duration": 371,
    "start_time": "2021-10-19T19:12:00.839Z"
   },
   {
    "duration": 309,
    "start_time": "2021-10-19T19:12:15.342Z"
   },
   {
    "duration": 313,
    "start_time": "2021-10-19T19:12:23.134Z"
   },
   {
    "duration": 461,
    "start_time": "2021-10-19T19:12:28.726Z"
   },
   {
    "duration": 289,
    "start_time": "2021-10-19T19:12:35.846Z"
   },
   {
    "duration": 326,
    "start_time": "2021-10-19T19:12:39.847Z"
   },
   {
    "duration": 2404,
    "start_time": "2021-10-19T19:13:15.838Z"
   },
   {
    "duration": 2564,
    "start_time": "2021-10-19T19:13:26.855Z"
   },
   {
    "duration": 2755,
    "start_time": "2021-10-19T19:13:35.735Z"
   },
   {
    "duration": 3202,
    "start_time": "2021-10-19T19:13:42.285Z"
   },
   {
    "duration": 1158,
    "start_time": "2021-10-20T18:28:44.169Z"
   },
   {
    "duration": 431,
    "start_time": "2021-10-20T18:28:45.329Z"
   },
   {
    "duration": 12,
    "start_time": "2021-10-20T18:28:45.763Z"
   },
   {
    "duration": 8,
    "start_time": "2021-10-20T18:28:45.777Z"
   },
   {
    "duration": 8,
    "start_time": "2021-10-20T18:28:45.786Z"
   },
   {
    "duration": 17,
    "start_time": "2021-10-20T18:28:45.795Z"
   },
   {
    "duration": 45,
    "start_time": "2021-10-20T18:28:45.814Z"
   },
   {
    "duration": 8,
    "start_time": "2021-10-20T18:28:45.862Z"
   },
   {
    "duration": 12,
    "start_time": "2021-10-20T18:28:45.872Z"
   },
   {
    "duration": 21,
    "start_time": "2021-10-20T18:28:45.885Z"
   },
   {
    "duration": 55,
    "start_time": "2021-10-20T18:28:45.908Z"
   },
   {
    "duration": 392,
    "start_time": "2021-10-20T18:28:45.965Z"
   },
   {
    "duration": 111,
    "start_time": "2021-10-20T18:28:46.360Z"
   },
   {
    "duration": 7,
    "start_time": "2021-10-20T18:28:46.472Z"
   },
   {
    "duration": 16,
    "start_time": "2021-10-20T18:28:46.481Z"
   },
   {
    "duration": 13,
    "start_time": "2021-10-20T18:28:46.499Z"
   },
   {
    "duration": 198,
    "start_time": "2021-10-20T18:28:46.514Z"
   },
   {
    "duration": 56,
    "start_time": "2021-10-20T18:28:46.713Z"
   },
   {
    "duration": 9,
    "start_time": "2021-10-20T18:28:46.770Z"
   },
   {
    "duration": 20,
    "start_time": "2021-10-20T18:28:46.780Z"
   },
   {
    "duration": 55,
    "start_time": "2021-10-20T18:28:46.802Z"
   },
   {
    "duration": 221,
    "start_time": "2021-10-20T18:28:46.860Z"
   },
   {
    "duration": 91,
    "start_time": "2021-10-20T18:28:47.085Z"
   },
   {
    "duration": 12,
    "start_time": "2021-10-20T18:28:47.179Z"
   },
   {
    "duration": 8,
    "start_time": "2021-10-20T18:28:47.193Z"
   },
   {
    "duration": 95,
    "start_time": "2021-10-20T18:28:47.203Z"
   },
   {
    "duration": 4,
    "start_time": "2021-10-20T18:28:47.300Z"
   },
   {
    "duration": 16,
    "start_time": "2021-10-20T18:28:47.306Z"
   },
   {
    "duration": 72,
    "start_time": "2021-10-20T18:28:47.323Z"
   },
   {
    "duration": 449,
    "start_time": "2021-10-20T18:28:55.075Z"
   },
   {
    "duration": 37,
    "start_time": "2021-10-20T18:29:24.693Z"
   },
   {
    "duration": 3,
    "start_time": "2021-10-20T18:32:36.401Z"
   },
   {
    "duration": 417,
    "start_time": "2021-10-20T18:32:36.406Z"
   },
   {
    "duration": 9,
    "start_time": "2021-10-20T18:32:36.825Z"
   },
   {
    "duration": 9,
    "start_time": "2021-10-20T18:32:36.836Z"
   },
   {
    "duration": 9,
    "start_time": "2021-10-20T18:32:36.847Z"
   },
   {
    "duration": 15,
    "start_time": "2021-10-20T18:32:36.858Z"
   },
   {
    "duration": 27,
    "start_time": "2021-10-20T18:32:36.876Z"
   },
   {
    "duration": 11,
    "start_time": "2021-10-20T18:32:36.905Z"
   },
   {
    "duration": 37,
    "start_time": "2021-10-20T18:32:36.917Z"
   },
   {
    "duration": 24,
    "start_time": "2021-10-20T18:32:36.957Z"
   },
   {
    "duration": 27,
    "start_time": "2021-10-20T18:32:36.983Z"
   },
   {
    "duration": 359,
    "start_time": "2021-10-20T18:32:37.012Z"
   },
   {
    "duration": 87,
    "start_time": "2021-10-20T18:32:37.372Z"
   },
   {
    "duration": 8,
    "start_time": "2021-10-20T18:32:37.461Z"
   },
   {
    "duration": 18,
    "start_time": "2021-10-20T18:32:37.471Z"
   },
   {
    "duration": 12,
    "start_time": "2021-10-20T18:32:37.491Z"
   },
   {
    "duration": 189,
    "start_time": "2021-10-20T18:32:37.505Z"
   },
   {
    "duration": 36,
    "start_time": "2021-10-20T18:32:37.696Z"
   },
   {
    "duration": 11,
    "start_time": "2021-10-20T18:32:37.745Z"
   },
   {
    "duration": 20,
    "start_time": "2021-10-20T18:32:37.759Z"
   },
   {
    "duration": 34,
    "start_time": "2021-10-20T18:32:37.781Z"
   },
   {
    "duration": 180,
    "start_time": "2021-10-20T18:32:37.817Z"
   },
   {
    "duration": 60,
    "start_time": "2021-10-20T18:32:37.999Z"
   },
   {
    "duration": 9,
    "start_time": "2021-10-20T18:32:38.061Z"
   },
   {
    "duration": 23,
    "start_time": "2021-10-20T18:32:38.072Z"
   },
   {
    "duration": 76,
    "start_time": "2021-10-20T18:32:38.098Z"
   },
   {
    "duration": 6,
    "start_time": "2021-10-20T18:32:38.175Z"
   },
   {
    "duration": 23,
    "start_time": "2021-10-20T18:32:38.183Z"
   },
   {
    "duration": 62,
    "start_time": "2021-10-20T18:32:38.208Z"
   },
   {
    "duration": 32,
    "start_time": "2021-10-20T18:32:38.271Z"
   },
   {
    "duration": 56,
    "start_time": "2021-10-20T18:32:38.305Z"
   },
   {
    "duration": 27,
    "start_time": "2021-10-20T18:32:38.363Z"
   },
   {
    "duration": 57,
    "start_time": "2021-10-20T18:32:38.392Z"
   },
   {
    "duration": 35,
    "start_time": "2021-10-20T18:32:38.452Z"
   },
   {
    "duration": 35,
    "start_time": "2021-10-20T18:32:38.489Z"
   },
   {
    "duration": 18,
    "start_time": "2021-10-20T18:32:38.544Z"
   },
   {
    "duration": 30,
    "start_time": "2021-10-20T18:32:38.564Z"
   },
   {
    "duration": 66,
    "start_time": "2021-10-20T18:32:38.596Z"
   },
   {
    "duration": 28,
    "start_time": "2021-10-20T18:32:38.664Z"
   },
   {
    "duration": 27,
    "start_time": "2021-10-20T18:32:38.694Z"
   },
   {
    "duration": 40,
    "start_time": "2021-10-20T18:32:38.723Z"
   },
   {
    "duration": 29,
    "start_time": "2021-10-20T18:32:38.765Z"
   },
   {
    "duration": 25,
    "start_time": "2021-10-20T18:32:38.796Z"
   },
   {
    "duration": 57,
    "start_time": "2021-10-20T18:32:38.823Z"
   },
   {
    "duration": 26,
    "start_time": "2021-10-20T18:32:38.882Z"
   },
   {
    "duration": 5,
    "start_time": "2021-10-20T18:32:48.260Z"
   },
   {
    "duration": 555,
    "start_time": "2021-10-20T18:32:52.108Z"
   },
   {
    "duration": 5,
    "start_time": "2021-10-20T18:33:45.587Z"
   },
   {
    "duration": 99,
    "start_time": "2021-10-20T18:35:59.188Z"
   },
   {
    "duration": 5,
    "start_time": "2021-10-20T18:36:06.005Z"
   },
   {
    "duration": 457,
    "start_time": "2021-10-20T18:36:08.836Z"
   },
   {
    "duration": 2,
    "start_time": "2021-10-20T18:40:10.362Z"
   },
   {
    "duration": 492,
    "start_time": "2021-10-20T18:40:10.367Z"
   },
   {
    "duration": 10,
    "start_time": "2021-10-20T18:40:10.861Z"
   },
   {
    "duration": 8,
    "start_time": "2021-10-20T18:40:10.874Z"
   },
   {
    "duration": 8,
    "start_time": "2021-10-20T18:40:10.884Z"
   },
   {
    "duration": 15,
    "start_time": "2021-10-20T18:40:10.894Z"
   },
   {
    "duration": 39,
    "start_time": "2021-10-20T18:40:10.910Z"
   },
   {
    "duration": 7,
    "start_time": "2021-10-20T18:40:10.952Z"
   },
   {
    "duration": 9,
    "start_time": "2021-10-20T18:40:10.962Z"
   },
   {
    "duration": 27,
    "start_time": "2021-10-20T18:40:10.973Z"
   },
   {
    "duration": 67,
    "start_time": "2021-10-20T18:40:11.002Z"
   },
   {
    "duration": 517,
    "start_time": "2021-10-20T18:40:11.071Z"
   },
   {
    "duration": 85,
    "start_time": "2021-10-20T18:40:11.590Z"
   },
   {
    "duration": 9,
    "start_time": "2021-10-20T18:40:11.677Z"
   },
   {
    "duration": 24,
    "start_time": "2021-10-20T18:40:11.688Z"
   },
   {
    "duration": 34,
    "start_time": "2021-10-20T18:40:11.714Z"
   },
   {
    "duration": 161,
    "start_time": "2021-10-20T18:40:11.750Z"
   },
   {
    "duration": 45,
    "start_time": "2021-10-20T18:40:11.913Z"
   },
   {
    "duration": 9,
    "start_time": "2021-10-20T18:40:11.960Z"
   },
   {
    "duration": 25,
    "start_time": "2021-10-20T18:40:11.970Z"
   },
   {
    "duration": 26,
    "start_time": "2021-10-20T18:40:11.996Z"
   },
   {
    "duration": 214,
    "start_time": "2021-10-20T18:40:12.024Z"
   },
   {
    "duration": 57,
    "start_time": "2021-10-20T18:40:12.243Z"
   },
   {
    "duration": 11,
    "start_time": "2021-10-20T18:40:12.302Z"
   },
   {
    "duration": 7,
    "start_time": "2021-10-20T18:40:12.315Z"
   },
   {
    "duration": 111,
    "start_time": "2021-10-20T18:40:12.324Z"
   },
   {
    "duration": 8,
    "start_time": "2021-10-20T18:40:12.437Z"
   },
   {
    "duration": 18,
    "start_time": "2021-10-20T18:40:12.449Z"
   },
   {
    "duration": 78,
    "start_time": "2021-10-20T18:40:12.469Z"
   },
   {
    "duration": 46,
    "start_time": "2021-10-20T18:40:12.549Z"
   },
   {
    "duration": 52,
    "start_time": "2021-10-20T18:40:12.597Z"
   },
   {
    "duration": 25,
    "start_time": "2021-10-20T18:40:12.653Z"
   },
   {
    "duration": 44,
    "start_time": "2021-10-20T18:40:12.680Z"
   },
   {
    "duration": 36,
    "start_time": "2021-10-20T18:40:12.745Z"
   },
   {
    "duration": 33,
    "start_time": "2021-10-20T18:40:12.783Z"
   },
   {
    "duration": 31,
    "start_time": "2021-10-20T18:40:12.818Z"
   },
   {
    "duration": 33,
    "start_time": "2021-10-20T18:40:12.853Z"
   },
   {
    "duration": 60,
    "start_time": "2021-10-20T18:40:12.888Z"
   },
   {
    "duration": 33,
    "start_time": "2021-10-20T18:40:12.951Z"
   },
   {
    "duration": 9,
    "start_time": "2021-10-20T18:40:12.986Z"
   },
   {
    "duration": 22,
    "start_time": "2021-10-20T18:40:12.997Z"
   },
   {
    "duration": 33,
    "start_time": "2021-10-20T18:40:13.048Z"
   },
   {
    "duration": 24,
    "start_time": "2021-10-20T18:40:13.083Z"
   },
   {
    "duration": 55,
    "start_time": "2021-10-20T18:40:13.109Z"
   },
   {
    "duration": 26,
    "start_time": "2021-10-20T18:40:13.166Z"
   },
   {
    "duration": 5,
    "start_time": "2021-10-20T18:40:13.194Z"
   },
   {
    "duration": 461,
    "start_time": "2021-10-20T18:40:13.200Z"
   },
   {
    "duration": 5,
    "start_time": "2021-10-20T18:40:13.663Z"
   },
   {
    "duration": 16,
    "start_time": "2021-10-20T18:40:13.670Z"
   },
   {
    "duration": 10,
    "start_time": "2021-10-20T18:40:13.688Z"
   },
   {
    "duration": 287,
    "start_time": "2021-10-20T18:40:13.700Z"
   },
   {
    "duration": 1090,
    "start_time": "2021-10-20T18:41:23.541Z"
   },
   {
    "duration": 456,
    "start_time": "2021-10-20T18:41:24.633Z"
   },
   {
    "duration": 12,
    "start_time": "2021-10-20T18:41:25.093Z"
   },
   {
    "duration": 10,
    "start_time": "2021-10-20T18:41:25.107Z"
   },
   {
    "duration": 10,
    "start_time": "2021-10-20T18:41:25.118Z"
   },
   {
    "duration": 24,
    "start_time": "2021-10-20T18:41:25.130Z"
   },
   {
    "duration": 33,
    "start_time": "2021-10-20T18:41:25.158Z"
   },
   {
    "duration": 15,
    "start_time": "2021-10-20T18:41:25.194Z"
   },
   {
    "duration": 9,
    "start_time": "2021-10-20T18:41:25.211Z"
   },
   {
    "duration": 27,
    "start_time": "2021-10-20T18:41:25.222Z"
   },
   {
    "duration": 29,
    "start_time": "2021-10-20T18:41:25.250Z"
   },
   {
    "duration": 364,
    "start_time": "2021-10-20T18:41:25.281Z"
   },
   {
    "duration": 123,
    "start_time": "2021-10-20T18:41:25.648Z"
   },
   {
    "duration": 9,
    "start_time": "2021-10-20T18:41:25.773Z"
   },
   {
    "duration": 29,
    "start_time": "2021-10-20T18:41:25.783Z"
   },
   {
    "duration": 33,
    "start_time": "2021-10-20T18:41:25.814Z"
   },
   {
    "duration": 162,
    "start_time": "2021-10-20T18:41:25.850Z"
   },
   {
    "duration": 58,
    "start_time": "2021-10-20T18:41:26.014Z"
   },
   {
    "duration": 8,
    "start_time": "2021-10-20T18:41:26.074Z"
   },
   {
    "duration": 30,
    "start_time": "2021-10-20T18:41:26.083Z"
   },
   {
    "duration": 36,
    "start_time": "2021-10-20T18:41:26.115Z"
   },
   {
    "duration": 173,
    "start_time": "2021-10-20T18:41:26.158Z"
   },
   {
    "duration": 69,
    "start_time": "2021-10-20T18:41:26.334Z"
   },
   {
    "duration": 8,
    "start_time": "2021-10-20T18:41:26.404Z"
   },
   {
    "duration": 13,
    "start_time": "2021-10-20T18:41:26.414Z"
   },
   {
    "duration": 85,
    "start_time": "2021-10-20T18:41:26.429Z"
   },
   {
    "duration": 4,
    "start_time": "2021-10-20T18:41:26.516Z"
   },
   {
    "duration": 30,
    "start_time": "2021-10-20T18:41:26.522Z"
   },
   {
    "duration": 55,
    "start_time": "2021-10-20T18:41:26.554Z"
   },
   {
    "duration": 56,
    "start_time": "2021-10-20T18:41:26.611Z"
   },
   {
    "duration": 32,
    "start_time": "2021-10-20T18:41:26.669Z"
   },
   {
    "duration": 26,
    "start_time": "2021-10-20T18:41:26.703Z"
   },
   {
    "duration": 48,
    "start_time": "2021-10-20T18:41:26.746Z"
   },
   {
    "duration": 50,
    "start_time": "2021-10-20T18:41:26.796Z"
   },
   {
    "duration": 52,
    "start_time": "2021-10-20T18:41:26.848Z"
   },
   {
    "duration": 11,
    "start_time": "2021-10-20T18:41:26.901Z"
   },
   {
    "duration": 64,
    "start_time": "2021-10-20T18:41:26.913Z"
   },
   {
    "duration": 41,
    "start_time": "2021-10-20T18:41:26.979Z"
   },
   {
    "duration": 63,
    "start_time": "2021-10-20T18:41:27.022Z"
   },
   {
    "duration": 13,
    "start_time": "2021-10-20T18:41:27.087Z"
   },
   {
    "duration": 45,
    "start_time": "2021-10-20T18:41:27.102Z"
   },
   {
    "duration": 40,
    "start_time": "2021-10-20T18:41:27.151Z"
   },
   {
    "duration": 27,
    "start_time": "2021-10-20T18:41:27.193Z"
   },
   {
    "duration": 59,
    "start_time": "2021-10-20T18:41:27.221Z"
   },
   {
    "duration": 26,
    "start_time": "2021-10-20T18:41:27.282Z"
   },
   {
    "duration": 5,
    "start_time": "2021-10-20T18:41:27.310Z"
   },
   {
    "duration": 701,
    "start_time": "2021-10-20T18:41:27.317Z"
   },
   {
    "duration": 3,
    "start_time": "2021-10-20T18:41:28.020Z"
   },
   {
    "duration": 25,
    "start_time": "2021-10-20T18:41:28.025Z"
   },
   {
    "duration": 21,
    "start_time": "2021-10-20T18:41:28.052Z"
   },
   {
    "duration": 20,
    "start_time": "2021-10-20T18:41:28.075Z"
   },
   {
    "duration": 25,
    "start_time": "2021-10-20T18:41:28.096Z"
   },
   {
    "duration": 17,
    "start_time": "2021-10-20T18:41:28.122Z"
   },
   {
    "duration": 342,
    "start_time": "2021-10-20T18:41:28.140Z"
   },
   {
    "duration": 350,
    "start_time": "2021-10-20T18:41:28.484Z"
   },
   {
    "duration": 338,
    "start_time": "2021-10-20T18:41:28.844Z"
   },
   {
    "duration": 266,
    "start_time": "2021-10-20T18:41:29.184Z"
   },
   {
    "duration": 16,
    "start_time": "2021-10-20T18:41:29.455Z"
   },
   {
    "duration": 1832,
    "start_time": "2021-10-20T18:41:29.473Z"
   },
   {
    "duration": 208,
    "start_time": "2021-10-20T18:41:31.306Z"
   },
   {
    "duration": 1590,
    "start_time": "2021-10-20T18:44:04.667Z"
   },
   {
    "duration": 58,
    "start_time": "2021-10-20T18:44:52.620Z"
   },
   {
    "duration": 362,
    "start_time": "2021-10-20T18:47:48.923Z"
   },
   {
    "duration": 301,
    "start_time": "2021-10-20T18:48:12.571Z"
   },
   {
    "duration": 285,
    "start_time": "2021-10-20T18:48:33.676Z"
   },
   {
    "duration": 271,
    "start_time": "2021-10-20T18:48:58.100Z"
   },
   {
    "duration": 280,
    "start_time": "2021-10-20T18:49:05.117Z"
   },
   {
    "duration": 27,
    "start_time": "2021-10-20T18:49:13.060Z"
   },
   {
    "duration": 16,
    "start_time": "2021-10-20T18:49:30.596Z"
   },
   {
    "duration": 16,
    "start_time": "2021-10-20T18:49:43.100Z"
   },
   {
    "duration": 12,
    "start_time": "2021-10-20T18:49:57.899Z"
   },
   {
    "duration": 16,
    "start_time": "2021-10-20T18:55:13.268Z"
   },
   {
    "duration": 43,
    "start_time": "2021-10-20T18:55:46.652Z"
   },
   {
    "duration": 274,
    "start_time": "2021-10-20T18:55:52.348Z"
   },
   {
    "duration": 49,
    "start_time": "2021-10-20T18:55:56.811Z"
   },
   {
    "duration": 147,
    "start_time": "2021-10-20T18:56:20.269Z"
   },
   {
    "duration": 309,
    "start_time": "2021-10-20T18:56:26.084Z"
   },
   {
    "duration": 248,
    "start_time": "2021-10-20T18:56:50.853Z"
   },
   {
    "duration": 275,
    "start_time": "2021-10-20T18:58:24.140Z"
   },
   {
    "duration": 127,
    "start_time": "2021-10-20T18:58:35.661Z"
   },
   {
    "duration": 130,
    "start_time": "2021-10-20T18:59:11.012Z"
   },
   {
    "duration": 135,
    "start_time": "2021-10-20T18:59:39.332Z"
   },
   {
    "duration": 142,
    "start_time": "2021-10-20T18:59:48.262Z"
   },
   {
    "duration": 141,
    "start_time": "2021-10-20T18:59:56.036Z"
   },
   {
    "duration": 137,
    "start_time": "2021-10-20T19:00:07.940Z"
   },
   {
    "duration": 135,
    "start_time": "2021-10-20T19:00:18.949Z"
   },
   {
    "duration": 387,
    "start_time": "2021-10-20T19:00:44.789Z"
   },
   {
    "duration": 493,
    "start_time": "2021-10-20T19:01:29.068Z"
   },
   {
    "duration": 518,
    "start_time": "2021-10-20T19:02:09.085Z"
   },
   {
    "duration": 670,
    "start_time": "2021-10-20T19:02:14.813Z"
   },
   {
    "duration": 572,
    "start_time": "2021-10-20T19:04:25.997Z"
   },
   {
    "duration": 162,
    "start_time": "2021-10-20T19:05:47.317Z"
   },
   {
    "duration": 10681,
    "start_time": "2021-10-20T19:06:24.709Z"
   },
   {
    "duration": 31,
    "start_time": "2021-10-20T19:07:49.774Z"
   },
   {
    "duration": 30,
    "start_time": "2021-10-20T19:08:10.700Z"
   },
   {
    "duration": 29,
    "start_time": "2021-10-20T19:08:17.396Z"
   },
   {
    "duration": 29,
    "start_time": "2021-10-20T19:08:38.381Z"
   },
   {
    "duration": 30,
    "start_time": "2021-10-20T19:08:55.325Z"
   },
   {
    "duration": 31,
    "start_time": "2021-10-20T19:09:03.602Z"
   },
   {
    "duration": 34,
    "start_time": "2021-10-20T19:09:22.284Z"
   },
   {
    "duration": 30,
    "start_time": "2021-10-20T19:09:29.494Z"
   },
   {
    "duration": 41,
    "start_time": "2021-10-20T19:11:23.436Z"
   },
   {
    "duration": 66,
    "start_time": "2021-10-20T19:11:38.397Z"
   },
   {
    "duration": 19,
    "start_time": "2021-10-20T19:11:48.766Z"
   },
   {
    "duration": 13,
    "start_time": "2021-10-20T19:11:55.029Z"
   },
   {
    "duration": 13,
    "start_time": "2021-10-20T19:11:59.669Z"
   },
   {
    "duration": 13,
    "start_time": "2021-10-20T19:12:06.774Z"
   },
   {
    "duration": 12,
    "start_time": "2021-10-20T19:12:12.132Z"
   },
   {
    "duration": 15,
    "start_time": "2021-10-20T19:12:30.037Z"
   },
   {
    "duration": 329,
    "start_time": "2021-10-20T19:12:48.437Z"
   },
   {
    "duration": 316,
    "start_time": "2021-10-20T19:12:51.876Z"
   },
   {
    "duration": 15,
    "start_time": "2021-10-20T19:12:55.156Z"
   },
   {
    "duration": 13,
    "start_time": "2021-10-20T19:14:07.469Z"
   },
   {
    "duration": 321,
    "start_time": "2021-10-20T19:16:50.405Z"
   },
   {
    "duration": 321,
    "start_time": "2021-10-20T19:16:53.133Z"
   },
   {
    "duration": 428,
    "start_time": "2021-10-20T19:16:58.197Z"
   },
   {
    "duration": 45,
    "start_time": "2021-10-20T19:19:36.503Z"
   },
   {
    "duration": 16,
    "start_time": "2021-10-20T19:20:12.317Z"
   },
   {
    "duration": 20,
    "start_time": "2021-10-20T19:20:56.797Z"
   },
   {
    "duration": 45,
    "start_time": "2021-10-20T19:21:08.630Z"
   },
   {
    "duration": 101,
    "start_time": "2021-10-20T19:21:42.407Z"
   },
   {
    "duration": 37,
    "start_time": "2021-10-20T19:21:50.430Z"
   },
   {
    "duration": 38,
    "start_time": "2021-10-20T19:22:47.704Z"
   },
   {
    "duration": 40,
    "start_time": "2021-10-20T19:23:11.542Z"
   },
   {
    "duration": 11,
    "start_time": "2021-10-20T19:23:21.247Z"
   },
   {
    "duration": 16,
    "start_time": "2021-10-20T19:23:39.469Z"
   },
   {
    "duration": 13,
    "start_time": "2021-10-20T19:23:48.806Z"
   },
   {
    "duration": 14,
    "start_time": "2021-10-20T19:25:18.614Z"
   },
   {
    "duration": 13,
    "start_time": "2021-10-20T19:25:27.941Z"
   },
   {
    "duration": 12,
    "start_time": "2021-10-20T19:25:33.470Z"
   },
   {
    "duration": 12,
    "start_time": "2021-10-20T19:26:53.725Z"
   },
   {
    "duration": 12,
    "start_time": "2021-10-20T19:27:03.133Z"
   },
   {
    "duration": 22,
    "start_time": "2021-10-20T19:27:10.237Z"
   },
   {
    "duration": 1216,
    "start_time": "2021-10-20T19:30:48.855Z"
   },
   {
    "duration": 1613,
    "start_time": "2021-10-20T19:30:59.470Z"
   },
   {
    "duration": 103,
    "start_time": "2021-10-20T19:32:05.422Z"
   },
   {
    "duration": 1379,
    "start_time": "2021-10-20T19:32:15.110Z"
   },
   {
    "duration": 1743,
    "start_time": "2021-10-20T19:32:30.430Z"
   },
   {
    "duration": 1643,
    "start_time": "2021-10-20T19:32:41.501Z"
   },
   {
    "duration": 1846,
    "start_time": "2021-10-20T19:33:51.726Z"
   },
   {
    "duration": 1455,
    "start_time": "2021-10-20T19:34:06.029Z"
   },
   {
    "duration": 2004,
    "start_time": "2021-10-20T19:34:24.469Z"
   },
   {
    "duration": 1630,
    "start_time": "2021-10-20T19:36:30.959Z"
   },
   {
    "duration": 1421,
    "start_time": "2021-10-20T19:36:40.677Z"
   },
   {
    "duration": 1751,
    "start_time": "2021-10-20T19:36:44.437Z"
   },
   {
    "duration": 1545,
    "start_time": "2021-10-20T19:36:52.966Z"
   },
   {
    "duration": 1661,
    "start_time": "2021-10-20T19:37:18.830Z"
   },
   {
    "duration": 1553,
    "start_time": "2021-10-20T19:37:32.854Z"
   },
   {
    "duration": 1446,
    "start_time": "2021-10-21T13:28:05.024Z"
   },
   {
    "duration": 570,
    "start_time": "2021-10-21T13:28:06.473Z"
   },
   {
    "duration": 18,
    "start_time": "2021-10-21T13:28:07.047Z"
   },
   {
    "duration": 10,
    "start_time": "2021-10-21T13:28:07.068Z"
   },
   {
    "duration": 21,
    "start_time": "2021-10-21T13:28:07.081Z"
   },
   {
    "duration": 24,
    "start_time": "2021-10-21T13:28:07.105Z"
   },
   {
    "duration": 39,
    "start_time": "2021-10-21T13:28:07.131Z"
   },
   {
    "duration": 9,
    "start_time": "2021-10-21T13:28:07.200Z"
   },
   {
    "duration": 11,
    "start_time": "2021-10-21T13:28:07.215Z"
   },
   {
    "duration": 28,
    "start_time": "2021-10-21T13:28:07.229Z"
   },
   {
    "duration": 76,
    "start_time": "2021-10-21T13:28:07.259Z"
   },
   {
    "duration": 374,
    "start_time": "2021-10-21T13:28:07.337Z"
   },
   {
    "duration": 149,
    "start_time": "2021-10-21T13:28:07.713Z"
   },
   {
    "duration": 10,
    "start_time": "2021-10-21T13:28:07.864Z"
   },
   {
    "duration": 37,
    "start_time": "2021-10-21T13:28:07.877Z"
   },
   {
    "duration": 22,
    "start_time": "2021-10-21T13:28:07.917Z"
   },
   {
    "duration": 218,
    "start_time": "2021-10-21T13:28:07.942Z"
   },
   {
    "duration": 69,
    "start_time": "2021-10-21T13:28:08.162Z"
   },
   {
    "duration": 12,
    "start_time": "2021-10-21T13:28:08.233Z"
   },
   {
    "duration": 28,
    "start_time": "2021-10-21T13:28:08.247Z"
   },
   {
    "duration": 54,
    "start_time": "2021-10-21T13:28:08.278Z"
   },
   {
    "duration": 217,
    "start_time": "2021-10-21T13:28:08.335Z"
   },
   {
    "duration": 112,
    "start_time": "2021-10-21T13:28:08.555Z"
   },
   {
    "duration": 13,
    "start_time": "2021-10-21T13:28:08.669Z"
   },
   {
    "duration": 26,
    "start_time": "2021-10-21T13:28:08.684Z"
   },
   {
    "duration": 123,
    "start_time": "2021-10-21T13:28:08.713Z"
   },
   {
    "duration": 8,
    "start_time": "2021-10-21T13:28:08.841Z"
   },
   {
    "duration": 50,
    "start_time": "2021-10-21T13:28:08.852Z"
   },
   {
    "duration": 77,
    "start_time": "2021-10-21T13:28:08.905Z"
   },
   {
    "duration": 38,
    "start_time": "2021-10-21T13:28:41.114Z"
   },
   {
    "duration": 38,
    "start_time": "2021-10-21T13:29:14.744Z"
   },
   {
    "duration": 490,
    "start_time": "2021-10-21T13:29:34.820Z"
   },
   {
    "duration": 32,
    "start_time": "2021-10-21T13:30:03.617Z"
   },
   {
    "duration": 32,
    "start_time": "2021-10-21T13:30:05.684Z"
   },
   {
    "duration": 42,
    "start_time": "2021-10-21T13:30:14.633Z"
   },
   {
    "duration": 38,
    "start_time": "2021-10-21T13:30:31.289Z"
   },
   {
    "duration": 17,
    "start_time": "2021-10-21T13:30:52.234Z"
   },
   {
    "duration": 510,
    "start_time": "2021-10-21T13:33:38.121Z"
   },
   {
    "duration": 14,
    "start_time": "2021-10-21T13:33:44.042Z"
   },
   {
    "duration": 390,
    "start_time": "2021-10-21T13:33:50.375Z"
   },
   {
    "duration": 21,
    "start_time": "2021-10-21T13:34:04.306Z"
   },
   {
    "duration": 26,
    "start_time": "2021-10-21T13:34:27.512Z"
   },
   {
    "duration": 14,
    "start_time": "2021-10-21T13:34:45.266Z"
   },
   {
    "duration": 22,
    "start_time": "2021-10-21T13:34:47.578Z"
   },
   {
    "duration": 26,
    "start_time": "2021-10-21T13:35:09.910Z"
   },
   {
    "duration": 464,
    "start_time": "2021-10-21T13:35:17.220Z"
   },
   {
    "duration": 24,
    "start_time": "2021-10-21T13:35:22.971Z"
   },
   {
    "duration": 15,
    "start_time": "2021-10-21T13:35:40.638Z"
   },
   {
    "duration": 12,
    "start_time": "2021-10-21T13:35:46.239Z"
   },
   {
    "duration": 19,
    "start_time": "2021-10-21T13:35:50.621Z"
   },
   {
    "duration": 24,
    "start_time": "2021-10-21T13:35:54.613Z"
   },
   {
    "duration": 25,
    "start_time": "2021-10-21T13:36:16.552Z"
   },
   {
    "duration": 8,
    "start_time": "2021-10-21T13:37:37.017Z"
   },
   {
    "duration": 427,
    "start_time": "2021-10-21T13:37:59.106Z"
   },
   {
    "duration": 9,
    "start_time": "2021-10-21T13:38:02.825Z"
   },
   {
    "duration": 14,
    "start_time": "2021-10-21T13:38:10.048Z"
   },
   {
    "duration": 17,
    "start_time": "2021-10-21T13:39:05.730Z"
   },
   {
    "duration": 13,
    "start_time": "2021-10-21T13:39:27.172Z"
   },
   {
    "duration": 9,
    "start_time": "2021-10-21T13:39:36.049Z"
   },
   {
    "duration": 18,
    "start_time": "2021-10-21T13:39:50.455Z"
   },
   {
    "duration": 8,
    "start_time": "2021-10-21T13:40:01.622Z"
   },
   {
    "duration": 23,
    "start_time": "2021-10-21T13:40:06.508Z"
   },
   {
    "duration": 9,
    "start_time": "2021-10-21T13:40:21.545Z"
   },
   {
    "duration": 7,
    "start_time": "2021-10-21T13:41:45.154Z"
   },
   {
    "duration": 460,
    "start_time": "2021-10-21T13:41:51.597Z"
   },
   {
    "duration": 11,
    "start_time": "2021-10-21T13:42:00.308Z"
   },
   {
    "duration": 17,
    "start_time": "2021-10-21T13:42:03.229Z"
   },
   {
    "duration": 8,
    "start_time": "2021-10-21T13:42:06.236Z"
   },
   {
    "duration": 14,
    "start_time": "2021-10-21T13:43:48.674Z"
   },
   {
    "duration": 15,
    "start_time": "2021-10-21T13:44:17.479Z"
   },
   {
    "duration": 9,
    "start_time": "2021-10-21T13:44:20.900Z"
   },
   {
    "duration": 10,
    "start_time": "2021-10-21T13:44:46.884Z"
   },
   {
    "duration": 15,
    "start_time": "2021-10-21T13:45:11.477Z"
   },
   {
    "duration": 22,
    "start_time": "2021-10-21T13:45:13.549Z"
   },
   {
    "duration": 8,
    "start_time": "2021-10-21T13:45:16.558Z"
   },
   {
    "duration": 11,
    "start_time": "2021-10-21T13:45:22.197Z"
   },
   {
    "duration": 8,
    "start_time": "2021-10-21T13:45:44.362Z"
   },
   {
    "duration": 16,
    "start_time": "2021-10-21T13:45:48.292Z"
   },
   {
    "duration": 10,
    "start_time": "2021-10-21T13:45:50.164Z"
   },
   {
    "duration": 9,
    "start_time": "2021-10-21T13:46:11.590Z"
   },
   {
    "duration": 17,
    "start_time": "2021-10-21T13:46:19.549Z"
   },
   {
    "duration": 367,
    "start_time": "2021-10-21T13:46:29.600Z"
   },
   {
    "duration": 7,
    "start_time": "2021-10-21T13:46:36.060Z"
   },
   {
    "duration": 15,
    "start_time": "2021-10-21T13:46:59.251Z"
   },
   {
    "duration": 14,
    "start_time": "2021-10-21T13:47:15.622Z"
   },
   {
    "duration": 7,
    "start_time": "2021-10-21T13:47:23.101Z"
   },
   {
    "duration": 16,
    "start_time": "2021-10-21T13:47:31.980Z"
   },
   {
    "duration": 18,
    "start_time": "2021-10-21T13:47:34.910Z"
   },
   {
    "duration": 10,
    "start_time": "2021-10-21T13:47:54.797Z"
   },
   {
    "duration": 12,
    "start_time": "2021-10-21T13:48:02.729Z"
   },
   {
    "duration": 8,
    "start_time": "2021-10-21T13:49:42.116Z"
   },
   {
    "duration": 7,
    "start_time": "2021-10-21T13:49:50.361Z"
   },
   {
    "duration": 23,
    "start_time": "2021-10-21T13:49:54.597Z"
   },
   {
    "duration": 8,
    "start_time": "2021-10-21T13:49:57.825Z"
   },
   {
    "duration": 24,
    "start_time": "2021-10-21T13:50:16.698Z"
   },
   {
    "duration": 10,
    "start_time": "2021-10-21T13:50:42.033Z"
   },
   {
    "duration": 8,
    "start_time": "2021-10-21T13:51:47.193Z"
   },
   {
    "duration": 11561,
    "start_time": "2021-10-21T13:52:05.098Z"
   },
   {
    "duration": 120,
    "start_time": "2021-10-21T13:54:08.391Z"
   },
   {
    "duration": 14,
    "start_time": "2021-10-21T13:54:18.186Z"
   },
   {
    "duration": 356,
    "start_time": "2021-10-21T13:54:48.839Z"
   },
   {
    "duration": 23,
    "start_time": "2021-10-21T13:55:22.130Z"
   },
   {
    "duration": 11,
    "start_time": "2021-10-21T13:55:36.039Z"
   },
   {
    "duration": 21,
    "start_time": "2021-10-21T13:56:48.088Z"
   },
   {
    "duration": 16,
    "start_time": "2021-10-21T13:57:19.356Z"
   },
   {
    "duration": 21,
    "start_time": "2021-10-21T13:59:35.134Z"
   },
   {
    "duration": 11,
    "start_time": "2021-10-21T14:01:13.738Z"
   },
   {
    "duration": 11,
    "start_time": "2021-10-21T14:01:23.060Z"
   },
   {
    "duration": 9,
    "start_time": "2021-10-21T14:01:30.455Z"
   },
   {
    "duration": 361,
    "start_time": "2021-10-21T14:04:47.507Z"
   },
   {
    "duration": 10,
    "start_time": "2021-10-21T14:06:01.715Z"
   },
   {
    "duration": 9,
    "start_time": "2021-10-21T14:06:12.459Z"
   },
   {
    "duration": 10,
    "start_time": "2021-10-21T14:06:31.184Z"
   },
   {
    "duration": 16,
    "start_time": "2021-10-21T14:06:36.144Z"
   },
   {
    "duration": 22,
    "start_time": "2021-10-21T14:06:40.936Z"
   },
   {
    "duration": 24,
    "start_time": "2021-10-21T14:06:45.744Z"
   },
   {
    "duration": 23,
    "start_time": "2021-10-21T14:07:04.825Z"
   },
   {
    "duration": 11,
    "start_time": "2021-10-21T14:07:18.463Z"
   },
   {
    "duration": 12,
    "start_time": "2021-10-21T14:09:11.561Z"
   },
   {
    "duration": 10,
    "start_time": "2021-10-21T14:09:35.081Z"
   },
   {
    "duration": 11,
    "start_time": "2021-10-21T14:13:10.869Z"
   },
   {
    "duration": 10,
    "start_time": "2021-10-21T14:13:32.554Z"
   },
   {
    "duration": 18,
    "start_time": "2021-10-21T14:13:35.178Z"
   },
   {
    "duration": 24,
    "start_time": "2021-10-21T14:13:37.548Z"
   },
   {
    "duration": 24,
    "start_time": "2021-10-21T14:13:39.642Z"
   },
   {
    "duration": 24,
    "start_time": "2021-10-21T14:13:41.811Z"
   },
   {
    "duration": 10,
    "start_time": "2021-10-21T14:13:44.344Z"
   },
   {
    "duration": 12,
    "start_time": "2021-10-21T14:13:46.780Z"
   },
   {
    "duration": 10330,
    "start_time": "2021-10-21T14:13:51.977Z"
   },
   {
    "duration": 13,
    "start_time": "2021-10-21T14:15:39.152Z"
   },
   {
    "duration": 11,
    "start_time": "2021-10-21T14:24:01.970Z"
   },
   {
    "duration": 5,
    "start_time": "2021-10-21T14:25:20.496Z"
   },
   {
    "duration": 8,
    "start_time": "2021-10-21T14:25:28.451Z"
   },
   {
    "duration": 24,
    "start_time": "2021-10-21T14:26:35.407Z"
   },
   {
    "duration": 10,
    "start_time": "2021-10-21T14:27:07.196Z"
   },
   {
    "duration": 18,
    "start_time": "2021-10-21T14:27:09.885Z"
   },
   {
    "duration": 22,
    "start_time": "2021-10-21T14:27:13.877Z"
   },
   {
    "duration": 25,
    "start_time": "2021-10-21T14:27:17.122Z"
   },
   {
    "duration": 25,
    "start_time": "2021-10-21T14:27:22.940Z"
   },
   {
    "duration": 9,
    "start_time": "2021-10-21T14:27:26.261Z"
   },
   {
    "duration": 20,
    "start_time": "2021-10-21T14:27:34.970Z"
   },
   {
    "duration": 17,
    "start_time": "2021-10-21T14:27:44.935Z"
   },
   {
    "duration": 14,
    "start_time": "2021-10-21T14:27:53.847Z"
   },
   {
    "duration": 22,
    "start_time": "2021-10-21T14:27:59.441Z"
   },
   {
    "duration": 10,
    "start_time": "2021-10-21T14:28:24.558Z"
   },
   {
    "duration": 15,
    "start_time": "2021-10-21T14:28:26.709Z"
   },
   {
    "duration": 22,
    "start_time": "2021-10-21T14:28:28.782Z"
   },
   {
    "duration": 24,
    "start_time": "2021-10-21T14:28:30.928Z"
   },
   {
    "duration": 23,
    "start_time": "2021-10-21T14:28:33.129Z"
   },
   {
    "duration": 9,
    "start_time": "2021-10-21T14:28:35.423Z"
   },
   {
    "duration": 11,
    "start_time": "2021-10-21T14:28:43.999Z"
   },
   {
    "duration": 10,
    "start_time": "2021-10-21T14:28:48.830Z"
   },
   {
    "duration": 13,
    "start_time": "2021-10-21T14:28:56.509Z"
   },
   {
    "duration": 7,
    "start_time": "2021-10-21T14:29:02.002Z"
   },
   {
    "duration": 24,
    "start_time": "2021-10-21T14:29:04.740Z"
   },
   {
    "duration": 11,
    "start_time": "2021-10-21T14:29:17.147Z"
   },
   {
    "duration": 347,
    "start_time": "2021-10-21T14:32:53.725Z"
   },
   {
    "duration": 7,
    "start_time": "2021-10-21T14:33:01.125Z"
   },
   {
    "duration": 723,
    "start_time": "2021-10-21T14:33:03.464Z"
   },
   {
    "duration": 6,
    "start_time": "2021-10-21T14:34:47.877Z"
   },
   {
    "duration": 405,
    "start_time": "2021-10-21T14:34:50.270Z"
   },
   {
    "duration": 11,
    "start_time": "2021-10-21T14:35:57.806Z"
   },
   {
    "duration": 17,
    "start_time": "2021-10-21T14:35:59.920Z"
   },
   {
    "duration": 25,
    "start_time": "2021-10-21T14:36:01.718Z"
   },
   {
    "duration": 26,
    "start_time": "2021-10-21T14:36:04.078Z"
   },
   {
    "duration": 25,
    "start_time": "2021-10-21T14:36:06.166Z"
   },
   {
    "duration": 10,
    "start_time": "2021-10-21T14:36:08.357Z"
   },
   {
    "duration": 13,
    "start_time": "2021-10-21T14:36:10.700Z"
   },
   {
    "duration": 15,
    "start_time": "2021-10-21T14:36:12.877Z"
   },
   {
    "duration": 9,
    "start_time": "2021-10-21T14:36:16.407Z"
   },
   {
    "duration": 22,
    "start_time": "2021-10-21T14:36:18.537Z"
   },
   {
    "duration": 7,
    "start_time": "2021-10-21T14:36:21.326Z"
   },
   {
    "duration": 397,
    "start_time": "2021-10-21T14:36:24.326Z"
   },
   {
    "duration": 3,
    "start_time": "2021-10-21T14:36:53.467Z"
   },
   {
    "duration": 572,
    "start_time": "2021-10-21T14:36:53.473Z"
   },
   {
    "duration": 16,
    "start_time": "2021-10-21T14:36:54.048Z"
   },
   {
    "duration": 25,
    "start_time": "2021-10-21T14:36:54.067Z"
   },
   {
    "duration": 24,
    "start_time": "2021-10-21T14:36:54.101Z"
   },
   {
    "duration": 51,
    "start_time": "2021-10-21T14:36:54.128Z"
   },
   {
    "duration": 47,
    "start_time": "2021-10-21T14:36:54.183Z"
   },
   {
    "duration": 23,
    "start_time": "2021-10-21T14:36:54.233Z"
   },
   {
    "duration": 18,
    "start_time": "2021-10-21T14:36:54.259Z"
   },
   {
    "duration": 42,
    "start_time": "2021-10-21T14:36:54.279Z"
   },
   {
    "duration": 37,
    "start_time": "2021-10-21T14:36:54.324Z"
   },
   {
    "duration": 544,
    "start_time": "2021-10-21T14:36:54.364Z"
   },
   {
    "duration": 126,
    "start_time": "2021-10-21T14:36:54.911Z"
   },
   {
    "duration": 10,
    "start_time": "2021-10-21T14:36:55.040Z"
   },
   {
    "duration": 23,
    "start_time": "2021-10-21T14:36:55.053Z"
   },
   {
    "duration": 20,
    "start_time": "2021-10-21T14:36:55.099Z"
   },
   {
    "duration": 189,
    "start_time": "2021-10-21T14:36:55.121Z"
   },
   {
    "duration": 56,
    "start_time": "2021-10-21T14:36:55.312Z"
   },
   {
    "duration": 32,
    "start_time": "2021-10-21T14:36:55.373Z"
   },
   {
    "duration": 27,
    "start_time": "2021-10-21T14:36:55.408Z"
   },
   {
    "duration": 38,
    "start_time": "2021-10-21T14:36:55.438Z"
   },
   {
    "duration": 229,
    "start_time": "2021-10-21T14:36:55.501Z"
   },
   {
    "duration": 107,
    "start_time": "2021-10-21T14:36:55.732Z"
   },
   {
    "duration": 12,
    "start_time": "2021-10-21T14:36:55.842Z"
   },
   {
    "duration": 19,
    "start_time": "2021-10-21T14:36:55.856Z"
   },
   {
    "duration": 106,
    "start_time": "2021-10-21T14:36:55.877Z"
   },
   {
    "duration": 6,
    "start_time": "2021-10-21T14:36:55.986Z"
   },
   {
    "duration": 23,
    "start_time": "2021-10-21T14:36:56.001Z"
   },
   {
    "duration": 87,
    "start_time": "2021-10-21T14:36:56.027Z"
   },
   {
    "duration": 38,
    "start_time": "2021-10-21T14:36:56.116Z"
   },
   {
    "duration": 60,
    "start_time": "2021-10-21T14:36:56.157Z"
   },
   {
    "duration": 30,
    "start_time": "2021-10-21T14:36:56.220Z"
   },
   {
    "duration": 52,
    "start_time": "2021-10-21T14:36:56.252Z"
   },
   {
    "duration": 39,
    "start_time": "2021-10-21T14:36:56.307Z"
   },
   {
    "duration": 58,
    "start_time": "2021-10-21T14:36:56.349Z"
   },
   {
    "duration": 16,
    "start_time": "2021-10-21T14:36:56.409Z"
   },
   {
    "duration": 27,
    "start_time": "2021-10-21T14:36:56.428Z"
   },
   {
    "duration": 31,
    "start_time": "2021-10-21T14:36:56.458Z"
   },
   {
    "duration": 25,
    "start_time": "2021-10-21T14:36:56.491Z"
   },
   {
    "duration": 23,
    "start_time": "2021-10-21T14:36:56.519Z"
   },
   {
    "duration": 56,
    "start_time": "2021-10-21T14:36:56.544Z"
   },
   {
    "duration": 9,
    "start_time": "2021-10-21T14:36:56.602Z"
   },
   {
    "duration": 11,
    "start_time": "2021-10-21T14:36:56.613Z"
   },
   {
    "duration": 18,
    "start_time": "2021-10-21T14:36:56.627Z"
   },
   {
    "duration": 10,
    "start_time": "2021-10-21T14:36:56.648Z"
   },
   {
    "duration": 71,
    "start_time": "2021-10-21T14:36:56.661Z"
   },
   {
    "duration": 6,
    "start_time": "2021-10-21T14:36:56.735Z"
   },
   {
    "duration": 385,
    "start_time": "2021-10-21T14:36:59.479Z"
   },
   {
    "duration": 11,
    "start_time": "2021-10-21T14:37:20.275Z"
   },
   {
    "duration": 1308,
    "start_time": "2021-10-21T17:06:39.722Z"
   },
   {
    "duration": 492,
    "start_time": "2021-10-21T17:06:41.033Z"
   },
   {
    "duration": 19,
    "start_time": "2021-10-21T17:06:41.528Z"
   },
   {
    "duration": 9,
    "start_time": "2021-10-21T17:06:41.550Z"
   },
   {
    "duration": 23,
    "start_time": "2021-10-21T17:06:41.562Z"
   },
   {
    "duration": 20,
    "start_time": "2021-10-21T17:06:41.588Z"
   },
   {
    "duration": 37,
    "start_time": "2021-10-21T17:06:41.610Z"
   },
   {
    "duration": 38,
    "start_time": "2021-10-21T17:06:41.651Z"
   },
   {
    "duration": 12,
    "start_time": "2021-10-21T17:06:41.692Z"
   },
   {
    "duration": 28,
    "start_time": "2021-10-21T17:06:41.706Z"
   },
   {
    "duration": 71,
    "start_time": "2021-10-21T17:06:41.737Z"
   },
   {
    "duration": 389,
    "start_time": "2021-10-21T17:06:41.811Z"
   },
   {
    "duration": 138,
    "start_time": "2021-10-21T17:06:42.202Z"
   },
   {
    "duration": 11,
    "start_time": "2021-10-21T17:06:42.342Z"
   },
   {
    "duration": 35,
    "start_time": "2021-10-21T17:06:42.355Z"
   },
   {
    "duration": 18,
    "start_time": "2021-10-21T17:06:42.393Z"
   },
   {
    "duration": 186,
    "start_time": "2021-10-21T17:06:42.413Z"
   },
   {
    "duration": 57,
    "start_time": "2021-10-21T17:06:42.602Z"
   },
   {
    "duration": 33,
    "start_time": "2021-10-21T17:06:42.662Z"
   },
   {
    "duration": 25,
    "start_time": "2021-10-21T17:06:42.698Z"
   },
   {
    "duration": 78,
    "start_time": "2021-10-21T17:06:42.725Z"
   },
   {
    "duration": 224,
    "start_time": "2021-10-21T17:06:42.806Z"
   },
   {
    "duration": 107,
    "start_time": "2021-10-21T17:06:43.037Z"
   },
   {
    "duration": 12,
    "start_time": "2021-10-21T17:06:43.148Z"
   },
   {
    "duration": 21,
    "start_time": "2021-10-21T17:06:43.163Z"
   },
   {
    "duration": 115,
    "start_time": "2021-10-21T17:06:43.187Z"
   },
   {
    "duration": 8,
    "start_time": "2021-10-21T17:06:43.304Z"
   },
   {
    "duration": 21,
    "start_time": "2021-10-21T17:06:43.315Z"
   },
   {
    "duration": 102,
    "start_time": "2021-10-21T17:06:43.339Z"
   },
   {
    "duration": 53,
    "start_time": "2021-10-21T17:06:43.444Z"
   },
   {
    "duration": 35,
    "start_time": "2021-10-21T17:06:43.500Z"
   },
   {
    "duration": 59,
    "start_time": "2021-10-21T17:06:43.538Z"
   },
   {
    "duration": 31,
    "start_time": "2021-10-21T17:06:43.600Z"
   },
   {
    "duration": 63,
    "start_time": "2021-10-21T17:06:43.633Z"
   },
   {
    "duration": 37,
    "start_time": "2021-10-21T17:06:43.699Z"
   },
   {
    "duration": 15,
    "start_time": "2021-10-21T17:06:43.738Z"
   },
   {
    "duration": 33,
    "start_time": "2021-10-21T17:06:43.756Z"
   },
   {
    "duration": 15,
    "start_time": "2021-10-21T17:06:43.791Z"
   },
   {
    "duration": 19,
    "start_time": "2021-10-21T17:06:43.808Z"
   },
   {
    "duration": 54,
    "start_time": "2021-10-21T17:06:43.830Z"
   },
   {
    "duration": 21,
    "start_time": "2021-10-21T17:06:43.886Z"
   },
   {
    "duration": 8,
    "start_time": "2021-10-21T17:06:43.909Z"
   },
   {
    "duration": 10,
    "start_time": "2021-10-21T17:06:43.919Z"
   },
   {
    "duration": 53,
    "start_time": "2021-10-21T17:06:43.931Z"
   },
   {
    "duration": 12,
    "start_time": "2021-10-21T17:06:43.986Z"
   },
   {
    "duration": 25,
    "start_time": "2021-10-21T17:06:44.000Z"
   },
   {
    "duration": 5,
    "start_time": "2021-10-21T17:06:44.028Z"
   },
   {
    "duration": 391,
    "start_time": "2021-10-21T17:06:44.035Z"
   },
   {
    "duration": 9,
    "start_time": "2021-10-21T17:06:56.532Z"
   },
   {
    "duration": 389,
    "start_time": "2021-10-21T17:08:10.044Z"
   },
   {
    "duration": 347,
    "start_time": "2021-10-21T17:08:20.196Z"
   },
   {
    "duration": 585,
    "start_time": "2021-10-21T17:08:45.100Z"
   },
   {
    "duration": 250,
    "start_time": "2021-10-21T17:09:52.228Z"
   },
   {
    "duration": 36,
    "start_time": "2021-10-21T17:09:58.140Z"
   },
   {
    "duration": 20,
    "start_time": "2021-10-21T17:10:48.260Z"
   },
   {
    "duration": 5,
    "start_time": "2021-10-21T17:11:35.852Z"
   },
   {
    "duration": 5,
    "start_time": "2021-10-21T17:11:46.364Z"
   },
   {
    "duration": 9,
    "start_time": "2021-10-21T17:11:48.764Z"
   },
   {
    "duration": 308,
    "start_time": "2021-10-21T17:11:58.676Z"
   },
   {
    "duration": 11,
    "start_time": "2021-10-21T17:12:09.619Z"
   },
   {
    "duration": 13068,
    "start_time": "2021-10-21T17:12:26.237Z"
   },
   {
    "duration": 13,
    "start_time": "2021-10-21T17:13:04.469Z"
   },
   {
    "duration": 403,
    "start_time": "2021-10-21T17:13:13.708Z"
   },
   {
    "duration": 34,
    "start_time": "2021-10-21T17:13:50.677Z"
   },
   {
    "duration": 525,
    "start_time": "2021-10-21T17:13:55.085Z"
   },
   {
    "duration": 546,
    "start_time": "2021-10-21T17:14:23.244Z"
   },
   {
    "duration": 536,
    "start_time": "2021-10-21T17:17:25.396Z"
   },
   {
    "duration": 730,
    "start_time": "2021-10-21T17:18:55.494Z"
   },
   {
    "duration": 540,
    "start_time": "2021-10-21T17:19:13.845Z"
   },
   {
    "duration": 626,
    "start_time": "2021-10-21T17:19:48.268Z"
   },
   {
    "duration": 510,
    "start_time": "2021-10-21T17:20:40.789Z"
   },
   {
    "duration": 308,
    "start_time": "2021-10-21T17:22:46.357Z"
   },
   {
    "duration": 1358,
    "start_time": "2021-10-21T17:23:12.853Z"
   },
   {
    "duration": 404,
    "start_time": "2021-10-21T17:23:33.630Z"
   },
   {
    "duration": 414,
    "start_time": "2021-10-21T17:25:25.653Z"
   },
   {
    "duration": 404,
    "start_time": "2021-10-21T17:26:43.093Z"
   },
   {
    "duration": 423,
    "start_time": "2021-10-21T17:26:58.789Z"
   },
   {
    "duration": 523,
    "start_time": "2021-10-21T17:27:29.229Z"
   },
   {
    "duration": 412,
    "start_time": "2021-10-21T17:27:41.709Z"
   },
   {
    "duration": 509,
    "start_time": "2021-10-21T17:28:13.884Z"
   },
   {
    "duration": 517,
    "start_time": "2021-10-21T17:28:35.101Z"
   },
   {
    "duration": 528,
    "start_time": "2021-10-21T17:28:53.846Z"
   },
   {
    "duration": 528,
    "start_time": "2021-10-21T17:29:05.413Z"
   },
   {
    "duration": 404,
    "start_time": "2021-10-21T17:29:36.301Z"
   },
   {
    "duration": 18,
    "start_time": "2021-10-21T17:30:32.310Z"
   },
   {
    "duration": 17,
    "start_time": "2021-10-21T17:30:42.117Z"
   },
   {
    "duration": 17,
    "start_time": "2021-10-21T17:30:47.405Z"
   },
   {
    "duration": 19,
    "start_time": "2021-10-21T17:31:00.109Z"
   },
   {
    "duration": 18,
    "start_time": "2021-10-21T17:31:06.053Z"
   },
   {
    "duration": 19,
    "start_time": "2021-10-21T17:31:27.045Z"
   },
   {
    "duration": 19,
    "start_time": "2021-10-21T17:31:37.381Z"
   },
   {
    "duration": 19,
    "start_time": "2021-10-21T17:31:56.276Z"
   },
   {
    "duration": 20,
    "start_time": "2021-10-21T17:32:22.509Z"
   },
   {
    "duration": 6,
    "start_time": "2021-10-21T17:33:20.366Z"
   },
   {
    "duration": 9,
    "start_time": "2021-10-21T17:33:24.694Z"
   },
   {
    "duration": 407,
    "start_time": "2021-10-21T17:33:37.157Z"
   },
   {
    "duration": 343,
    "start_time": "2021-10-21T17:33:46.958Z"
   },
   {
    "duration": 17,
    "start_time": "2021-10-21T17:33:55.415Z"
   },
   {
    "duration": 213,
    "start_time": "2021-10-21T17:34:31.614Z"
   },
   {
    "duration": 462,
    "start_time": "2021-10-21T17:34:35.557Z"
   },
   {
    "duration": 102,
    "start_time": "2021-10-21T17:34:43.317Z"
   },
   {
    "duration": 26,
    "start_time": "2021-10-21T17:34:45.414Z"
   },
   {
    "duration": 25,
    "start_time": "2021-10-21T17:35:03.367Z"
   },
   {
    "duration": 11,
    "start_time": "2021-10-21T17:35:24.614Z"
   },
   {
    "duration": 355,
    "start_time": "2021-10-21T17:37:19.342Z"
   },
   {
    "duration": 265,
    "start_time": "2021-10-21T17:37:25.207Z"
   },
   {
    "duration": 329,
    "start_time": "2021-10-21T17:37:27.294Z"
   },
   {
    "duration": 15,
    "start_time": "2021-10-21T17:38:19.895Z"
   },
   {
    "duration": 13,
    "start_time": "2021-10-21T17:38:50.599Z"
   },
   {
    "duration": 13,
    "start_time": "2021-10-21T17:41:25.238Z"
   },
   {
    "duration": 12,
    "start_time": "2021-10-21T17:41:29.726Z"
   },
   {
    "duration": 14,
    "start_time": "2021-10-21T17:43:36.550Z"
   },
   {
    "duration": 14,
    "start_time": "2021-10-21T17:43:38.782Z"
   },
   {
    "duration": 387,
    "start_time": "2021-10-21T17:45:35.606Z"
   },
   {
    "duration": 298,
    "start_time": "2021-10-21T17:45:46.934Z"
   },
   {
    "duration": 404,
    "start_time": "2021-10-21T17:45:51.350Z"
   },
   {
    "duration": 809,
    "start_time": "2021-10-21T17:47:06.335Z"
   },
   {
    "duration": 559,
    "start_time": "2021-10-21T17:47:34.990Z"
   },
   {
    "duration": 234,
    "start_time": "2021-10-21T17:47:44.295Z"
   },
   {
    "duration": 622,
    "start_time": "2021-10-21T17:47:50.070Z"
   },
   {
    "duration": 237,
    "start_time": "2021-10-21T17:48:03.855Z"
   },
   {
    "duration": 280,
    "start_time": "2021-10-21T17:48:07.119Z"
   },
   {
    "duration": 522,
    "start_time": "2021-10-21T17:49:36.767Z"
   },
   {
    "duration": 655,
    "start_time": "2021-10-21T17:50:00.127Z"
   },
   {
    "duration": 737,
    "start_time": "2021-10-21T17:50:26.670Z"
   },
   {
    "duration": 652,
    "start_time": "2021-10-21T17:51:41.047Z"
   },
   {
    "duration": 6,
    "start_time": "2021-10-21T18:19:56.784Z"
   },
   {
    "duration": 29,
    "start_time": "2021-10-21T18:20:02.216Z"
   },
   {
    "duration": 8,
    "start_time": "2021-10-21T18:20:17.497Z"
   },
   {
    "duration": 8,
    "start_time": "2021-10-21T18:20:42.488Z"
   },
   {
    "duration": 10,
    "start_time": "2021-10-21T18:24:47.921Z"
   },
   {
    "duration": 10,
    "start_time": "2021-10-21T18:24:52.625Z"
   },
   {
    "duration": 10,
    "start_time": "2021-10-21T18:24:58.544Z"
   },
   {
    "duration": 11,
    "start_time": "2021-10-21T18:25:07.456Z"
   },
   {
    "duration": 11,
    "start_time": "2021-10-21T18:31:12.467Z"
   },
   {
    "duration": 11,
    "start_time": "2021-10-21T18:31:36.785Z"
   },
   {
    "duration": 12,
    "start_time": "2021-10-21T18:31:48.402Z"
   },
   {
    "duration": 13,
    "start_time": "2021-10-21T18:31:50.961Z"
   },
   {
    "duration": 11,
    "start_time": "2021-10-21T18:36:39.722Z"
   },
   {
    "duration": 1476,
    "start_time": "2021-10-21T18:37:02.766Z"
   },
   {
    "duration": 514,
    "start_time": "2021-10-21T18:37:04.245Z"
   },
   {
    "duration": 19,
    "start_time": "2021-10-21T18:37:04.762Z"
   },
   {
    "duration": 13,
    "start_time": "2021-10-21T18:37:04.783Z"
   },
   {
    "duration": 13,
    "start_time": "2021-10-21T18:37:04.798Z"
   },
   {
    "duration": 24,
    "start_time": "2021-10-21T18:37:04.813Z"
   },
   {
    "duration": 65,
    "start_time": "2021-10-21T18:37:04.840Z"
   },
   {
    "duration": 8,
    "start_time": "2021-10-21T18:37:04.909Z"
   },
   {
    "duration": 12,
    "start_time": "2021-10-21T18:37:04.921Z"
   },
   {
    "duration": 63,
    "start_time": "2021-10-21T18:37:04.936Z"
   },
   {
    "duration": 38,
    "start_time": "2021-10-21T18:37:05.001Z"
   },
   {
    "duration": 443,
    "start_time": "2021-10-21T18:37:05.041Z"
   },
   {
    "duration": 153,
    "start_time": "2021-10-21T18:37:05.486Z"
   },
   {
    "duration": 9,
    "start_time": "2021-10-21T18:37:05.642Z"
   },
   {
    "duration": 37,
    "start_time": "2021-10-21T18:37:05.654Z"
   },
   {
    "duration": 19,
    "start_time": "2021-10-21T18:37:05.694Z"
   },
   {
    "duration": 209,
    "start_time": "2021-10-21T18:37:05.715Z"
   },
   {
    "duration": 68,
    "start_time": "2021-10-21T18:37:05.927Z"
   },
   {
    "duration": 11,
    "start_time": "2021-10-21T18:37:05.998Z"
   },
   {
    "duration": 28,
    "start_time": "2021-10-21T18:37:06.012Z"
   },
   {
    "duration": 66,
    "start_time": "2021-10-21T18:37:06.042Z"
   },
   {
    "duration": 193,
    "start_time": "2021-10-21T18:37:06.110Z"
   },
   {
    "duration": 116,
    "start_time": "2021-10-21T18:37:06.311Z"
   },
   {
    "duration": 12,
    "start_time": "2021-10-21T18:37:06.430Z"
   },
   {
    "duration": 10,
    "start_time": "2021-10-21T18:37:06.444Z"
   },
   {
    "duration": 114,
    "start_time": "2021-10-21T18:37:06.456Z"
   },
   {
    "duration": 16,
    "start_time": "2021-10-21T18:37:06.572Z"
   },
   {
    "duration": 24,
    "start_time": "2021-10-21T18:37:06.590Z"
   },
   {
    "duration": 99,
    "start_time": "2021-10-21T18:37:06.616Z"
   },
   {
    "duration": 36,
    "start_time": "2021-10-21T18:37:06.718Z"
   },
   {
    "duration": 53,
    "start_time": "2021-10-21T18:37:06.757Z"
   },
   {
    "duration": 30,
    "start_time": "2021-10-21T18:37:06.813Z"
   },
   {
    "duration": 59,
    "start_time": "2021-10-21T18:37:06.845Z"
   },
   {
    "duration": 42,
    "start_time": "2021-10-21T18:37:06.906Z"
   },
   {
    "duration": 52,
    "start_time": "2021-10-21T18:37:06.951Z"
   },
   {
    "duration": 15,
    "start_time": "2021-10-21T18:37:07.005Z"
   },
   {
    "duration": 12,
    "start_time": "2021-10-21T18:37:07.023Z"
   },
   {
    "duration": 47,
    "start_time": "2021-10-21T18:37:07.038Z"
   },
   {
    "duration": 21,
    "start_time": "2021-10-21T18:37:07.087Z"
   },
   {
    "duration": 22,
    "start_time": "2021-10-21T18:37:07.111Z"
   },
   {
    "duration": 54,
    "start_time": "2021-10-21T18:37:07.135Z"
   },
   {
    "duration": 8,
    "start_time": "2021-10-21T18:37:07.191Z"
   },
   {
    "duration": 13,
    "start_time": "2021-10-21T18:37:07.201Z"
   },
   {
    "duration": 17,
    "start_time": "2021-10-21T18:37:07.217Z"
   },
   {
    "duration": 7,
    "start_time": "2021-10-21T18:37:07.237Z"
   },
   {
    "duration": 53,
    "start_time": "2021-10-21T18:37:07.246Z"
   },
   {
    "duration": 6,
    "start_time": "2021-10-21T18:37:07.302Z"
   },
   {
    "duration": 382,
    "start_time": "2021-10-21T18:37:07.310Z"
   },
   {
    "duration": 10,
    "start_time": "2021-10-21T18:37:07.695Z"
   },
   {
    "duration": 558,
    "start_time": "2021-10-21T18:37:07.707Z"
   },
   {
    "duration": 555,
    "start_time": "2021-10-21T18:37:08.267Z"
   },
   {
    "duration": 552,
    "start_time": "2021-10-21T18:37:08.825Z"
   },
   {
    "duration": 467,
    "start_time": "2021-10-21T18:37:09.382Z"
   },
   {
    "duration": 31,
    "start_time": "2021-10-21T18:37:09.852Z"
   },
   {
    "duration": 14,
    "start_time": "2021-10-21T18:37:09.885Z"
   },
   {
    "duration": 15,
    "start_time": "2021-10-21T18:37:09.901Z"
   },
   {
    "duration": 17,
    "start_time": "2021-10-21T18:37:09.918Z"
   },
   {
    "duration": 51,
    "start_time": "2021-10-21T18:37:09.938Z"
   },
   {
    "duration": 13,
    "start_time": "2021-10-21T18:37:09.991Z"
   },
   {
    "duration": 698,
    "start_time": "2021-10-21T18:37:10.006Z"
   },
   {
    "duration": 780,
    "start_time": "2021-10-21T18:37:10.707Z"
   },
   {
    "duration": 11,
    "start_time": "2021-10-21T18:37:11.489Z"
   },
   {
    "duration": 28,
    "start_time": "2021-10-21T18:37:11.503Z"
   },
   {
    "duration": 10,
    "start_time": "2021-10-21T18:37:19.330Z"
   },
   {
    "duration": 12,
    "start_time": "2021-10-21T18:37:34.074Z"
   },
   {
    "duration": 13,
    "start_time": "2021-10-21T18:38:48.059Z"
   },
   {
    "duration": 10,
    "start_time": "2021-10-21T18:38:50.403Z"
   },
   {
    "duration": 13,
    "start_time": "2021-10-21T18:39:11.907Z"
   },
   {
    "duration": 14,
    "start_time": "2021-10-21T18:40:28.891Z"
   },
   {
    "duration": 19,
    "start_time": "2021-10-21T18:41:48.739Z"
   },
   {
    "duration": 27,
    "start_time": "2021-10-21T18:47:15.563Z"
   },
   {
    "duration": 415,
    "start_time": "2021-10-21T18:50:01.454Z"
   },
   {
    "duration": 16,
    "start_time": "2021-10-21T18:50:14.612Z"
   },
   {
    "duration": 15,
    "start_time": "2021-10-21T18:50:30.373Z"
   },
   {
    "duration": 15,
    "start_time": "2021-10-21T18:51:12.220Z"
   },
   {
    "duration": 12,
    "start_time": "2021-10-21T18:51:38.908Z"
   },
   {
    "duration": 11,
    "start_time": "2021-10-21T18:51:54.306Z"
   },
   {
    "duration": 10,
    "start_time": "2021-10-21T18:52:11.668Z"
   },
   {
    "duration": 20,
    "start_time": "2021-10-21T18:52:28.932Z"
   },
   {
    "duration": 16,
    "start_time": "2021-10-21T18:52:56.877Z"
   },
   {
    "duration": 4,
    "start_time": "2021-10-21T18:53:40.891Z"
   },
   {
    "duration": 535,
    "start_time": "2021-10-21T18:53:40.899Z"
   },
   {
    "duration": 16,
    "start_time": "2021-10-21T18:53:41.437Z"
   },
   {
    "duration": 10,
    "start_time": "2021-10-21T18:53:41.456Z"
   },
   {
    "duration": 8,
    "start_time": "2021-10-21T18:53:41.481Z"
   },
   {
    "duration": 28,
    "start_time": "2021-10-21T18:53:41.491Z"
   },
   {
    "duration": 62,
    "start_time": "2021-10-21T18:53:41.522Z"
   },
   {
    "duration": 14,
    "start_time": "2021-10-21T18:53:41.587Z"
   },
   {
    "duration": 17,
    "start_time": "2021-10-21T18:53:41.603Z"
   },
   {
    "duration": 34,
    "start_time": "2021-10-21T18:53:41.622Z"
   },
   {
    "duration": 52,
    "start_time": "2021-10-21T18:53:41.658Z"
   },
   {
    "duration": 356,
    "start_time": "2021-10-21T18:53:41.713Z"
   },
   {
    "duration": 117,
    "start_time": "2021-10-21T18:53:42.072Z"
   },
   {
    "duration": 11,
    "start_time": "2021-10-21T18:53:42.191Z"
   },
   {
    "duration": 19,
    "start_time": "2021-10-21T18:53:42.205Z"
   },
   {
    "duration": 17,
    "start_time": "2021-10-21T18:53:42.227Z"
   },
   {
    "duration": 200,
    "start_time": "2021-10-21T18:53:42.246Z"
   },
   {
    "duration": 65,
    "start_time": "2021-10-21T18:53:42.448Z"
   },
   {
    "duration": 13,
    "start_time": "2021-10-21T18:53:42.516Z"
   },
   {
    "duration": 50,
    "start_time": "2021-10-21T18:53:42.532Z"
   },
   {
    "duration": 37,
    "start_time": "2021-10-21T18:53:42.585Z"
   },
   {
    "duration": 224,
    "start_time": "2021-10-21T18:53:42.625Z"
   },
   {
    "duration": 95,
    "start_time": "2021-10-21T18:53:42.857Z"
   },
   {
    "duration": 25,
    "start_time": "2021-10-21T18:53:42.957Z"
   },
   {
    "duration": 10,
    "start_time": "2021-10-21T18:53:42.985Z"
   },
   {
    "duration": 163,
    "start_time": "2021-10-21T18:53:42.998Z"
   },
   {
    "duration": 9,
    "start_time": "2021-10-21T18:53:43.164Z"
   },
   {
    "duration": 25,
    "start_time": "2021-10-21T18:53:43.184Z"
   },
   {
    "duration": 110,
    "start_time": "2021-10-21T18:53:43.212Z"
   },
   {
    "duration": 61,
    "start_time": "2021-10-21T18:53:43.325Z"
   },
   {
    "duration": 36,
    "start_time": "2021-10-21T18:53:43.389Z"
   },
   {
    "duration": 56,
    "start_time": "2021-10-21T18:53:43.428Z"
   },
   {
    "duration": 33,
    "start_time": "2021-10-21T18:53:43.487Z"
   },
   {
    "duration": 67,
    "start_time": "2021-10-21T18:53:43.523Z"
   },
   {
    "duration": 42,
    "start_time": "2021-10-21T18:53:43.593Z"
   },
   {
    "duration": 44,
    "start_time": "2021-10-21T18:53:43.638Z"
   },
   {
    "duration": 10,
    "start_time": "2021-10-21T18:53:43.685Z"
   },
   {
    "duration": 17,
    "start_time": "2021-10-21T18:53:43.698Z"
   },
   {
    "duration": 21,
    "start_time": "2021-10-21T18:53:43.717Z"
   },
   {
    "duration": 55,
    "start_time": "2021-10-21T18:53:43.740Z"
   },
   {
    "duration": 21,
    "start_time": "2021-10-21T18:53:43.798Z"
   },
   {
    "duration": 7,
    "start_time": "2021-10-21T18:53:43.822Z"
   },
   {
    "duration": 12,
    "start_time": "2021-10-21T18:53:43.832Z"
   },
   {
    "duration": 14,
    "start_time": "2021-10-21T18:53:43.884Z"
   },
   {
    "duration": 8,
    "start_time": "2021-10-21T18:53:43.900Z"
   },
   {
    "duration": 24,
    "start_time": "2021-10-21T18:53:43.911Z"
   },
   {
    "duration": 6,
    "start_time": "2021-10-21T18:53:43.938Z"
   },
   {
    "duration": 407,
    "start_time": "2021-10-21T18:53:43.947Z"
   },
   {
    "duration": 9,
    "start_time": "2021-10-21T18:53:44.357Z"
   },
   {
    "duration": 547,
    "start_time": "2021-10-21T18:53:44.383Z"
   },
   {
    "duration": 554,
    "start_time": "2021-10-21T18:53:44.932Z"
   },
   {
    "duration": 550,
    "start_time": "2021-10-21T18:53:45.489Z"
   },
   {
    "duration": 444,
    "start_time": "2021-10-21T18:53:46.042Z"
   },
   {
    "duration": 13,
    "start_time": "2021-10-21T18:53:46.488Z"
   },
   {
    "duration": 15,
    "start_time": "2021-10-21T18:53:46.504Z"
   },
   {
    "duration": 12,
    "start_time": "2021-10-21T18:53:46.522Z"
   },
   {
    "duration": 51,
    "start_time": "2021-10-21T18:53:46.536Z"
   },
   {
    "duration": 13,
    "start_time": "2021-10-21T18:53:46.589Z"
   },
   {
    "duration": 14,
    "start_time": "2021-10-21T18:53:46.605Z"
   },
   {
    "duration": 694,
    "start_time": "2021-10-21T18:53:46.621Z"
   },
   {
    "duration": 767,
    "start_time": "2021-10-21T18:53:47.318Z"
   },
   {
    "duration": 13,
    "start_time": "2021-10-21T18:53:48.087Z"
   },
   {
    "duration": 20,
    "start_time": "2021-10-21T18:53:48.102Z"
   },
   {
    "duration": 23,
    "start_time": "2021-10-21T18:53:55.509Z"
   },
   {
    "duration": 14,
    "start_time": "2021-10-21T18:53:58.628Z"
   },
   {
    "duration": 16,
    "start_time": "2021-10-21T18:54:03.541Z"
   },
   {
    "duration": 15,
    "start_time": "2021-10-21T18:55:09.073Z"
   },
   {
    "duration": 24,
    "start_time": "2021-10-21T18:55:27.020Z"
   },
   {
    "duration": 1447,
    "start_time": "2021-10-21T19:02:40.499Z"
   },
   {
    "duration": 522,
    "start_time": "2021-10-21T19:02:41.949Z"
   },
   {
    "duration": 19,
    "start_time": "2021-10-21T19:02:42.474Z"
   },
   {
    "duration": 15,
    "start_time": "2021-10-21T19:02:42.495Z"
   },
   {
    "duration": 18,
    "start_time": "2021-10-21T19:02:42.513Z"
   },
   {
    "duration": 27,
    "start_time": "2021-10-21T19:02:42.533Z"
   },
   {
    "duration": 56,
    "start_time": "2021-10-21T19:02:42.563Z"
   },
   {
    "duration": 16,
    "start_time": "2021-10-21T19:02:42.623Z"
   },
   {
    "duration": 11,
    "start_time": "2021-10-21T19:02:42.642Z"
   },
   {
    "duration": 45,
    "start_time": "2021-10-21T19:02:42.656Z"
   },
   {
    "duration": 36,
    "start_time": "2021-10-21T19:02:42.704Z"
   },
   {
    "duration": 403,
    "start_time": "2021-10-21T19:02:42.743Z"
   },
   {
    "duration": 140,
    "start_time": "2021-10-21T19:02:43.148Z"
   },
   {
    "duration": 11,
    "start_time": "2021-10-21T19:02:43.290Z"
   },
   {
    "duration": 26,
    "start_time": "2021-10-21T19:02:43.303Z"
   },
   {
    "duration": 18,
    "start_time": "2021-10-21T19:02:43.331Z"
   },
   {
    "duration": 177,
    "start_time": "2021-10-21T19:02:43.383Z"
   },
   {
    "duration": 70,
    "start_time": "2021-10-21T19:02:43.563Z"
   },
   {
    "duration": 13,
    "start_time": "2021-10-21T19:02:43.636Z"
   },
   {
    "duration": 51,
    "start_time": "2021-10-21T19:02:43.652Z"
   },
   {
    "duration": 43,
    "start_time": "2021-10-21T19:02:43.706Z"
   },
   {
    "duration": 235,
    "start_time": "2021-10-21T19:02:43.752Z"
   },
   {
    "duration": 106,
    "start_time": "2021-10-21T19:02:43.994Z"
   },
   {
    "duration": 12,
    "start_time": "2021-10-21T19:02:44.104Z"
   },
   {
    "duration": 13,
    "start_time": "2021-10-21T19:02:44.119Z"
   },
   {
    "duration": 117,
    "start_time": "2021-10-21T19:02:44.134Z"
   },
   {
    "duration": 7,
    "start_time": "2021-10-21T19:02:44.254Z"
   },
   {
    "duration": 34,
    "start_time": "2021-10-21T19:02:44.264Z"
   },
   {
    "duration": 84,
    "start_time": "2021-10-21T19:02:44.301Z"
   },
   {
    "duration": 34,
    "start_time": "2021-10-21T19:02:44.388Z"
   },
   {
    "duration": 33,
    "start_time": "2021-10-21T19:02:44.425Z"
   },
   {
    "duration": 28,
    "start_time": "2021-10-21T19:02:44.483Z"
   },
   {
    "duration": 32,
    "start_time": "2021-10-21T19:02:44.513Z"
   },
   {
    "duration": 65,
    "start_time": "2021-10-21T19:02:44.547Z"
   },
   {
    "duration": 34,
    "start_time": "2021-10-21T19:02:44.615Z"
   },
   {
    "duration": 35,
    "start_time": "2021-10-21T19:02:44.652Z"
   },
   {
    "duration": 47,
    "start_time": "2021-10-21T19:02:44.689Z"
   },
   {
    "duration": 40,
    "start_time": "2021-10-21T19:02:44.739Z"
   },
   {
    "duration": 38,
    "start_time": "2021-10-21T19:02:44.781Z"
   },
   {
    "duration": 22,
    "start_time": "2021-10-21T19:02:44.821Z"
   },
   {
    "duration": 29,
    "start_time": "2021-10-21T19:02:44.845Z"
   },
   {
    "duration": 21,
    "start_time": "2021-10-21T19:02:44.877Z"
   },
   {
    "duration": 34,
    "start_time": "2021-10-21T19:02:44.901Z"
   },
   {
    "duration": 22,
    "start_time": "2021-10-21T19:02:44.938Z"
   },
   {
    "duration": 34,
    "start_time": "2021-10-21T19:02:44.962Z"
   },
   {
    "duration": 47,
    "start_time": "2021-10-21T19:02:44.998Z"
   },
   {
    "duration": 6,
    "start_time": "2021-10-21T19:02:45.048Z"
   },
   {
    "duration": 393,
    "start_time": "2021-10-21T19:02:45.057Z"
   },
   {
    "duration": 8,
    "start_time": "2021-10-21T19:02:45.452Z"
   },
   {
    "duration": 539,
    "start_time": "2021-10-21T19:02:45.482Z"
   },
   {
    "duration": 544,
    "start_time": "2021-10-21T19:02:46.024Z"
   },
   {
    "duration": 530,
    "start_time": "2021-10-21T19:02:46.571Z"
   },
   {
    "duration": 428,
    "start_time": "2021-10-21T19:02:47.103Z"
   },
   {
    "duration": 13,
    "start_time": "2021-10-21T19:02:47.534Z"
   },
   {
    "duration": 40,
    "start_time": "2021-10-21T19:02:47.549Z"
   },
   {
    "duration": 31,
    "start_time": "2021-10-21T19:02:47.592Z"
   },
   {
    "duration": 35,
    "start_time": "2021-10-21T19:02:47.625Z"
   },
   {
    "duration": 37,
    "start_time": "2021-10-21T19:02:47.663Z"
   },
   {
    "duration": 25,
    "start_time": "2021-10-21T19:02:47.702Z"
   },
   {
    "duration": 662,
    "start_time": "2021-10-21T19:02:47.730Z"
   },
   {
    "duration": 759,
    "start_time": "2021-10-21T19:02:48.395Z"
   },
   {
    "duration": 14,
    "start_time": "2021-10-21T19:02:49.157Z"
   },
   {
    "duration": 22,
    "start_time": "2021-10-21T19:02:49.183Z"
   },
   {
    "duration": 22,
    "start_time": "2021-10-21T19:02:49.207Z"
   },
   {
    "duration": 463,
    "start_time": "2021-10-21T19:02:49.232Z"
   },
   {
    "duration": -741,
    "start_time": "2021-10-21T19:02:50.439Z"
   },
   {
    "duration": 14,
    "start_time": "2021-10-21T19:03:01.039Z"
   },
   {
    "duration": 22,
    "start_time": "2021-10-21T19:03:07.862Z"
   },
   {
    "duration": 1089,
    "start_time": "2021-10-22T17:34:37.568Z"
   },
   {
    "duration": 428,
    "start_time": "2021-10-22T17:34:38.659Z"
   },
   {
    "duration": 12,
    "start_time": "2021-10-22T17:34:39.090Z"
   },
   {
    "duration": 10,
    "start_time": "2021-10-22T17:34:39.104Z"
   },
   {
    "duration": 10,
    "start_time": "2021-10-22T17:34:39.116Z"
   },
   {
    "duration": 17,
    "start_time": "2021-10-22T17:34:39.127Z"
   },
   {
    "duration": 33,
    "start_time": "2021-10-22T17:34:39.146Z"
   },
   {
    "duration": 12,
    "start_time": "2021-10-22T17:34:39.181Z"
   },
   {
    "duration": 8,
    "start_time": "2021-10-22T17:34:39.197Z"
   },
   {
    "duration": 25,
    "start_time": "2021-10-22T17:34:39.208Z"
   },
   {
    "duration": 63,
    "start_time": "2021-10-22T17:34:39.235Z"
   },
   {
    "duration": 362,
    "start_time": "2021-10-22T17:34:39.300Z"
   },
   {
    "duration": 117,
    "start_time": "2021-10-22T17:34:39.664Z"
   },
   {
    "duration": 8,
    "start_time": "2021-10-22T17:34:39.782Z"
   },
   {
    "duration": 19,
    "start_time": "2021-10-22T17:34:39.792Z"
   },
   {
    "duration": 16,
    "start_time": "2021-10-22T17:34:39.813Z"
   },
   {
    "duration": 188,
    "start_time": "2021-10-22T17:34:39.831Z"
   },
   {
    "duration": 57,
    "start_time": "2021-10-22T17:34:40.021Z"
   },
   {
    "duration": 11,
    "start_time": "2021-10-22T17:34:40.080Z"
   },
   {
    "duration": 25,
    "start_time": "2021-10-22T17:34:40.093Z"
   },
   {
    "duration": 27,
    "start_time": "2021-10-22T17:34:40.120Z"
   },
   {
    "duration": 197,
    "start_time": "2021-10-22T17:34:40.149Z"
   },
   {
    "duration": 78,
    "start_time": "2021-10-22T17:34:40.348Z"
   },
   {
    "duration": 7,
    "start_time": "2021-10-22T17:34:40.428Z"
   },
   {
    "duration": 10,
    "start_time": "2021-10-22T17:34:40.437Z"
   },
   {
    "duration": 84,
    "start_time": "2021-10-22T17:34:40.449Z"
   },
   {
    "duration": 5,
    "start_time": "2021-10-22T17:34:40.537Z"
   },
   {
    "duration": 17,
    "start_time": "2021-10-22T17:34:40.544Z"
   },
   {
    "duration": 75,
    "start_time": "2021-10-22T17:34:40.563Z"
   },
   {
    "duration": 41,
    "start_time": "2021-10-22T17:34:40.639Z"
   },
   {
    "duration": 34,
    "start_time": "2021-10-22T17:34:40.682Z"
   },
   {
    "duration": 27,
    "start_time": "2021-10-22T17:34:40.718Z"
   },
   {
    "duration": 51,
    "start_time": "2021-10-22T17:34:40.748Z"
   },
   {
    "duration": 41,
    "start_time": "2021-10-22T17:34:40.801Z"
   },
   {
    "duration": 48,
    "start_time": "2021-10-22T17:34:40.844Z"
   },
   {
    "duration": 11,
    "start_time": "2021-10-22T17:34:40.894Z"
   },
   {
    "duration": 10,
    "start_time": "2021-10-22T17:34:40.907Z"
   },
   {
    "duration": 14,
    "start_time": "2021-10-22T17:34:40.919Z"
   },
   {
    "duration": 48,
    "start_time": "2021-10-22T17:34:40.935Z"
   },
   {
    "duration": 17,
    "start_time": "2021-10-22T17:34:40.985Z"
   },
   {
    "duration": 14,
    "start_time": "2021-10-22T17:34:41.004Z"
   },
   {
    "duration": 6,
    "start_time": "2021-10-22T17:34:41.019Z"
   },
   {
    "duration": 9,
    "start_time": "2021-10-22T17:34:41.026Z"
   },
   {
    "duration": 50,
    "start_time": "2021-10-22T17:34:41.037Z"
   },
   {
    "duration": 5,
    "start_time": "2021-10-22T17:34:41.089Z"
   },
   {
    "duration": 19,
    "start_time": "2021-10-22T17:34:41.096Z"
   },
   {
    "duration": 5,
    "start_time": "2021-10-22T17:34:41.117Z"
   },
   {
    "duration": 413,
    "start_time": "2021-10-22T17:34:41.124Z"
   },
   {
    "duration": 8,
    "start_time": "2021-10-22T17:34:41.539Z"
   },
   {
    "duration": 540,
    "start_time": "2021-10-22T17:34:41.549Z"
   },
   {
    "duration": 536,
    "start_time": "2021-10-22T17:34:42.092Z"
   },
   {
    "duration": 476,
    "start_time": "2021-10-22T17:34:42.630Z"
   },
   {
    "duration": 300,
    "start_time": "2021-10-22T17:34:43.108Z"
   },
   {
    "duration": 10,
    "start_time": "2021-10-22T17:34:43.410Z"
   },
   {
    "duration": 10,
    "start_time": "2021-10-22T17:34:43.421Z"
   },
   {
    "duration": 10,
    "start_time": "2021-10-22T17:34:43.433Z"
   },
   {
    "duration": 34,
    "start_time": "2021-10-22T17:34:43.445Z"
   },
   {
    "duration": 12,
    "start_time": "2021-10-22T17:34:43.483Z"
   },
   {
    "duration": 15,
    "start_time": "2021-10-22T17:34:43.497Z"
   },
   {
    "duration": 533,
    "start_time": "2021-10-22T17:34:43.514Z"
   },
   {
    "duration": 520,
    "start_time": "2021-10-22T17:34:44.050Z"
   },
   {
    "duration": 16,
    "start_time": "2021-10-22T17:34:44.572Z"
   },
   {
    "duration": 13,
    "start_time": "2021-10-22T17:34:44.590Z"
   },
   {
    "duration": 17,
    "start_time": "2021-10-22T17:34:44.604Z"
   },
   {
    "duration": 12,
    "start_time": "2021-10-22T17:34:44.622Z"
   },
   {
    "duration": 53,
    "start_time": "2021-10-22T17:34:44.636Z"
   },
   {
    "duration": 9,
    "start_time": "2021-10-22T17:49:58.052Z"
   },
   {
    "duration": 1492,
    "start_time": "2021-10-22T18:18:08.632Z"
   },
   {
    "duration": 673,
    "start_time": "2021-10-22T18:18:10.127Z"
   },
   {
    "duration": 20,
    "start_time": "2021-10-22T18:18:10.803Z"
   },
   {
    "duration": 12,
    "start_time": "2021-10-22T18:18:10.826Z"
   },
   {
    "duration": 18,
    "start_time": "2021-10-22T18:18:10.842Z"
   },
   {
    "duration": 25,
    "start_time": "2021-10-22T18:18:10.863Z"
   },
   {
    "duration": 42,
    "start_time": "2021-10-22T18:18:10.890Z"
   },
   {
    "duration": 9,
    "start_time": "2021-10-22T18:18:10.959Z"
   },
   {
    "duration": 16,
    "start_time": "2021-10-22T18:18:10.971Z"
   },
   {
    "duration": 27,
    "start_time": "2021-10-22T18:18:10.990Z"
   },
   {
    "duration": 70,
    "start_time": "2021-10-22T18:18:11.019Z"
   },
   {
    "duration": 421,
    "start_time": "2021-10-22T18:18:11.091Z"
   },
   {
    "duration": 155,
    "start_time": "2021-10-22T18:18:11.514Z"
   },
   {
    "duration": 10,
    "start_time": "2021-10-22T18:18:11.672Z"
   },
   {
    "duration": 24,
    "start_time": "2021-10-22T18:18:11.685Z"
   },
   {
    "duration": 46,
    "start_time": "2021-10-22T18:18:11.712Z"
   },
   {
    "duration": 195,
    "start_time": "2021-10-22T18:18:11.761Z"
   },
   {
    "duration": 56,
    "start_time": "2021-10-22T18:18:11.959Z"
   },
   {
    "duration": 41,
    "start_time": "2021-10-22T18:18:12.018Z"
   },
   {
    "duration": 25,
    "start_time": "2021-10-22T18:18:12.062Z"
   },
   {
    "duration": 38,
    "start_time": "2021-10-22T18:18:12.090Z"
   },
   {
    "duration": 216,
    "start_time": "2021-10-22T18:18:12.159Z"
   },
   {
    "duration": 129,
    "start_time": "2021-10-22T18:18:12.380Z"
   },
   {
    "duration": 17,
    "start_time": "2021-10-22T18:18:12.511Z"
   },
   {
    "duration": 34,
    "start_time": "2021-10-22T18:18:12.531Z"
   },
   {
    "duration": 115,
    "start_time": "2021-10-22T18:18:12.568Z"
   },
   {
    "duration": 7,
    "start_time": "2021-10-22T18:18:12.685Z"
   },
   {
    "duration": 24,
    "start_time": "2021-10-22T18:18:12.695Z"
   },
   {
    "duration": 100,
    "start_time": "2021-10-22T18:18:12.722Z"
   },
   {
    "duration": 49,
    "start_time": "2021-10-22T18:18:12.824Z"
   },
   {
    "duration": 35,
    "start_time": "2021-10-22T18:18:12.875Z"
   },
   {
    "duration": 56,
    "start_time": "2021-10-22T18:18:12.912Z"
   },
   {
    "duration": 32,
    "start_time": "2021-10-22T18:18:12.971Z"
   },
   {
    "duration": 32,
    "start_time": "2021-10-22T18:18:15.806Z"
   },
   {
    "duration": 34,
    "start_time": "2021-10-22T18:18:38.391Z"
   },
   {
    "duration": 40,
    "start_time": "2021-10-22T18:19:01.296Z"
   },
   {
    "duration": 22,
    "start_time": "2021-10-22T18:20:10.208Z"
   },
   {
    "duration": 10,
    "start_time": "2021-10-22T18:20:13.855Z"
   },
   {
    "duration": 18,
    "start_time": "2021-10-22T18:20:16.583Z"
   },
   {
    "duration": 23,
    "start_time": "2021-10-22T18:20:19.263Z"
   },
   {
    "duration": 24,
    "start_time": "2021-10-22T18:20:35.656Z"
   },
   {
    "duration": 23,
    "start_time": "2021-10-22T18:20:39.551Z"
   },
   {
    "duration": 9,
    "start_time": "2021-10-22T18:20:43.239Z"
   },
   {
    "duration": 11,
    "start_time": "2021-10-22T18:20:46.847Z"
   },
   {
    "duration": 8,
    "start_time": "2021-10-22T18:23:43.999Z"
   },
   {
    "duration": 15,
    "start_time": "2021-10-22T18:23:53.023Z"
   },
   {
    "duration": 18,
    "start_time": "2021-10-22T18:24:01.751Z"
   },
   {
    "duration": 14,
    "start_time": "2021-10-22T18:25:18.311Z"
   },
   {
    "duration": 13,
    "start_time": "2021-10-22T18:25:32.272Z"
   },
   {
    "duration": 8,
    "start_time": "2021-10-22T18:25:37.008Z"
   },
   {
    "duration": 23,
    "start_time": "2021-10-22T18:25:39.272Z"
   },
   {
    "duration": 6,
    "start_time": "2021-10-22T18:25:47.712Z"
   },
   {
    "duration": 338,
    "start_time": "2021-10-22T18:25:53.200Z"
   },
   {
    "duration": 9,
    "start_time": "2021-10-22T18:26:27.272Z"
   },
   {
    "duration": 584,
    "start_time": "2021-10-22T18:26:30.176Z"
   },
   {
    "duration": 332,
    "start_time": "2021-10-22T18:27:44.311Z"
   },
   {
    "duration": 309,
    "start_time": "2021-10-22T18:28:01.351Z"
   },
   {
    "duration": 20,
    "start_time": "2021-10-22T18:28:15.398Z"
   },
   {
    "duration": 344,
    "start_time": "2021-10-22T18:28:44.290Z"
   },
   {
    "duration": 392,
    "start_time": "2021-10-22T18:28:53.432Z"
   },
   {
    "duration": 581,
    "start_time": "2021-10-22T18:29:01.095Z"
   },
   {
    "duration": 645,
    "start_time": "2021-10-22T18:29:16.367Z"
   },
   {
    "duration": 585,
    "start_time": "2021-10-22T18:29:20.119Z"
   },
   {
    "duration": 582,
    "start_time": "2021-10-22T18:29:23.663Z"
   },
   {
    "duration": 788,
    "start_time": "2021-10-22T18:29:42.456Z"
   },
   {
    "duration": 552,
    "start_time": "2021-10-22T18:31:21.929Z"
   },
   {
    "duration": 6,
    "start_time": "2021-10-22T18:31:30.384Z"
   },
   {
    "duration": 9,
    "start_time": "2021-10-22T18:31:36.183Z"
   },
   {
    "duration": 9,
    "start_time": "2021-10-22T18:32:02.135Z"
   },
   {
    "duration": 530,
    "start_time": "2021-10-22T18:33:07.040Z"
   },
   {
    "duration": 407,
    "start_time": "2021-10-22T18:33:12.969Z"
   },
   {
    "duration": 426,
    "start_time": "2021-10-22T18:33:22.625Z"
   },
   {
    "duration": 363,
    "start_time": "2021-10-22T18:33:30.863Z"
   },
   {
    "duration": 552,
    "start_time": "2021-10-22T18:33:40.505Z"
   },
   {
    "duration": 487,
    "start_time": "2021-10-22T18:33:54.120Z"
   },
   {
    "duration": 236,
    "start_time": "2021-10-22T18:34:18.961Z"
   },
   {
    "duration": 251,
    "start_time": "2021-10-22T18:34:46.352Z"
   },
   {
    "duration": 227,
    "start_time": "2021-10-22T18:35:47.320Z"
   },
   {
    "duration": 217,
    "start_time": "2021-10-22T18:35:54.120Z"
   },
   {
    "duration": 256,
    "start_time": "2021-10-22T18:36:18.976Z"
   },
   {
    "duration": 480,
    "start_time": "2021-10-22T18:37:54.704Z"
   },
   {
    "duration": 646,
    "start_time": "2021-10-22T18:38:24.097Z"
   },
   {
    "duration": 261,
    "start_time": "2021-10-22T18:39:42.097Z"
   },
   {
    "duration": 218,
    "start_time": "2021-10-22T18:39:45.872Z"
   },
   {
    "duration": 252,
    "start_time": "2021-10-22T18:40:08.784Z"
   },
   {
    "duration": 384,
    "start_time": "2021-10-22T18:42:23.822Z"
   },
   {
    "duration": 914,
    "start_time": "2021-10-22T18:43:30.872Z"
   },
   {
    "duration": 237,
    "start_time": "2021-10-22T18:45:03.969Z"
   },
   {
    "duration": 511,
    "start_time": "2021-10-22T18:45:16.567Z"
   },
   {
    "duration": 272,
    "start_time": "2021-10-22T18:45:30.257Z"
   },
   {
    "duration": 259,
    "start_time": "2021-10-22T18:46:12.801Z"
   },
   {
    "duration": 413,
    "start_time": "2021-10-22T18:47:01.385Z"
   },
   {
    "duration": 655,
    "start_time": "2021-10-22T18:47:04.377Z"
   },
   {
    "duration": 240,
    "start_time": "2021-10-22T18:47:19.864Z"
   },
   {
    "duration": 630,
    "start_time": "2021-10-22T18:48:27.377Z"
   },
   {
    "duration": 737,
    "start_time": "2021-10-22T18:49:27.504Z"
   },
   {
    "duration": 260,
    "start_time": "2021-10-22T18:49:53.626Z"
   },
   {
    "duration": 338,
    "start_time": "2021-10-22T18:51:19.793Z"
   },
   {
    "duration": 4,
    "start_time": "2021-10-22T18:52:17.649Z"
   },
   {
    "duration": 592,
    "start_time": "2021-10-22T18:52:17.656Z"
   },
   {
    "duration": 15,
    "start_time": "2021-10-22T18:52:18.251Z"
   },
   {
    "duration": 10,
    "start_time": "2021-10-22T18:52:18.269Z"
   },
   {
    "duration": 8,
    "start_time": "2021-10-22T18:52:18.282Z"
   },
   {
    "duration": 161,
    "start_time": "2021-10-22T18:52:18.292Z"
   },
   {
    "duration": 40,
    "start_time": "2021-10-22T18:52:18.458Z"
   },
   {
    "duration": 11,
    "start_time": "2021-10-22T18:52:18.503Z"
   },
   {
    "duration": 42,
    "start_time": "2021-10-22T18:52:18.517Z"
   },
   {
    "duration": 30,
    "start_time": "2021-10-22T18:52:18.562Z"
   },
   {
    "duration": 38,
    "start_time": "2021-10-22T18:52:18.594Z"
   },
   {
    "duration": 381,
    "start_time": "2021-10-22T18:52:18.634Z"
   },
   {
    "duration": 118,
    "start_time": "2021-10-22T18:52:19.017Z"
   },
   {
    "duration": 10,
    "start_time": "2021-10-22T18:52:19.137Z"
   },
   {
    "duration": 27,
    "start_time": "2021-10-22T18:52:19.149Z"
   },
   {
    "duration": 18,
    "start_time": "2021-10-22T18:52:19.179Z"
   },
   {
    "duration": 195,
    "start_time": "2021-10-22T18:52:19.200Z"
   },
   {
    "duration": 66,
    "start_time": "2021-10-22T18:52:19.397Z"
   },
   {
    "duration": 12,
    "start_time": "2021-10-22T18:52:19.465Z"
   },
   {
    "duration": 24,
    "start_time": "2021-10-22T18:52:19.479Z"
   },
   {
    "duration": 64,
    "start_time": "2021-10-22T18:52:19.506Z"
   },
   {
    "duration": 201,
    "start_time": "2021-10-22T18:52:19.572Z"
   },
   {
    "duration": 108,
    "start_time": "2021-10-22T18:52:19.779Z"
   },
   {
    "duration": 12,
    "start_time": "2021-10-22T18:52:19.890Z"
   },
   {
    "duration": 10,
    "start_time": "2021-10-22T18:52:19.904Z"
   },
   {
    "duration": 113,
    "start_time": "2021-10-22T18:52:19.917Z"
   },
   {
    "duration": 7,
    "start_time": "2021-10-22T18:52:20.032Z"
   },
   {
    "duration": 37,
    "start_time": "2021-10-22T18:52:20.042Z"
   },
   {
    "duration": 96,
    "start_time": "2021-10-22T18:52:20.082Z"
   },
   {
    "duration": 38,
    "start_time": "2021-10-22T18:52:20.181Z"
   },
   {
    "duration": 62,
    "start_time": "2021-10-22T18:52:20.222Z"
   },
   {
    "duration": 35,
    "start_time": "2021-10-22T18:52:20.287Z"
   },
   {
    "duration": 55,
    "start_time": "2021-10-22T18:52:20.325Z"
   },
   {
    "duration": 35,
    "start_time": "2021-10-22T18:52:20.382Z"
   },
   {
    "duration": 71,
    "start_time": "2021-10-22T18:52:20.419Z"
   },
   {
    "duration": 16,
    "start_time": "2021-10-22T18:52:20.493Z"
   },
   {
    "duration": 17,
    "start_time": "2021-10-22T18:52:20.511Z"
   },
   {
    "duration": 20,
    "start_time": "2021-10-22T18:52:20.559Z"
   },
   {
    "duration": 27,
    "start_time": "2021-10-22T18:52:20.582Z"
   },
   {
    "duration": 67,
    "start_time": "2021-10-22T18:52:20.612Z"
   },
   {
    "duration": 27,
    "start_time": "2021-10-22T18:52:20.682Z"
   },
   {
    "duration": 8,
    "start_time": "2021-10-22T18:52:20.712Z"
   },
   {
    "duration": 53,
    "start_time": "2021-10-22T18:52:20.722Z"
   },
   {
    "duration": 10,
    "start_time": "2021-10-22T18:52:20.777Z"
   },
   {
    "duration": 19,
    "start_time": "2021-10-22T18:52:20.789Z"
   },
   {
    "duration": 21,
    "start_time": "2021-10-22T18:52:20.810Z"
   },
   {
    "duration": 24,
    "start_time": "2021-10-22T18:52:20.834Z"
   },
   {
    "duration": 26,
    "start_time": "2021-10-22T18:52:20.861Z"
   },
   {
    "duration": 6,
    "start_time": "2021-10-22T18:52:20.890Z"
   },
   {
    "duration": 377,
    "start_time": "2021-10-22T18:52:20.899Z"
   },
   {
    "duration": 8,
    "start_time": "2021-10-22T18:52:21.279Z"
   },
   {
    "duration": 625,
    "start_time": "2021-10-22T18:52:21.290Z"
   },
   {
    "duration": 245,
    "start_time": "2021-10-22T18:52:26.449Z"
   },
   {
    "duration": 625,
    "start_time": "2021-10-22T18:53:51.849Z"
   },
   {
    "duration": 900,
    "start_time": "2021-10-22T18:54:09.498Z"
   },
   {
    "duration": 291,
    "start_time": "2021-10-22T18:58:36.203Z"
   },
   {
    "duration": 593,
    "start_time": "2021-10-22T18:59:07.931Z"
   },
   {
    "duration": 323,
    "start_time": "2021-10-22T18:59:12.921Z"
   },
   {
    "duration": 817,
    "start_time": "2021-10-22T18:59:55.129Z"
   },
   {
    "duration": 129,
    "start_time": "2021-10-22T19:03:16.948Z"
   },
   {
    "duration": 592,
    "start_time": "2021-10-22T19:03:24.059Z"
   },
   {
    "duration": 914,
    "start_time": "2021-10-22T19:03:36.681Z"
   },
   {
    "duration": 915,
    "start_time": "2021-10-22T19:03:52.842Z"
   },
   {
    "duration": 872,
    "start_time": "2021-10-22T19:04:06.489Z"
   },
   {
    "duration": 995,
    "start_time": "2021-10-22T19:04:39.466Z"
   },
   {
    "duration": 538,
    "start_time": "2021-10-22T19:06:19.115Z"
   },
   {
    "duration": 50,
    "start_time": "2021-10-22T19:13:44.546Z"
   },
   {
    "duration": 130,
    "start_time": "2021-10-22T19:14:00.066Z"
   },
   {
    "duration": 52,
    "start_time": "2021-10-22T19:14:07.546Z"
   },
   {
    "duration": 539,
    "start_time": "2021-10-22T19:24:15.435Z"
   },
   {
    "duration": 533,
    "start_time": "2021-10-22T19:24:24.498Z"
   },
   {
    "duration": 770,
    "start_time": "2021-10-22T19:24:45.371Z"
   },
   {
    "duration": 695,
    "start_time": "2021-10-22T19:25:13.739Z"
   },
   {
    "duration": 614,
    "start_time": "2021-10-22T19:25:21.763Z"
   },
   {
    "duration": 403,
    "start_time": "2021-10-22T19:27:57.323Z"
   },
   {
    "duration": 47,
    "start_time": "2021-10-22T19:28:07.275Z"
   },
   {
    "duration": 809,
    "start_time": "2021-10-22T19:31:14.748Z"
   },
   {
    "duration": 703,
    "start_time": "2021-10-22T19:31:21.764Z"
   },
   {
    "duration": 829,
    "start_time": "2021-10-22T19:31:28.964Z"
   },
   {
    "duration": 674,
    "start_time": "2021-10-22T19:31:32.435Z"
   },
   {
    "duration": 761,
    "start_time": "2021-10-22T19:31:37.068Z"
   },
   {
    "duration": 767,
    "start_time": "2021-10-22T19:31:56.603Z"
   },
   {
    "duration": 890,
    "start_time": "2021-10-22T19:33:02.396Z"
   },
   {
    "duration": 702,
    "start_time": "2021-10-22T19:33:10.019Z"
   },
   {
    "duration": 666,
    "start_time": "2021-10-22T19:33:16.412Z"
   },
   {
    "duration": 1069,
    "start_time": "2021-10-22T19:33:25.291Z"
   },
   {
    "duration": 725,
    "start_time": "2021-10-22T19:33:28.788Z"
   },
   {
    "duration": 760,
    "start_time": "2021-10-22T19:33:39.971Z"
   },
   {
    "duration": 1037,
    "start_time": "2021-10-22T19:33:43.324Z"
   },
   {
    "duration": 730,
    "start_time": "2021-10-22T19:33:49.979Z"
   },
   {
    "duration": 683,
    "start_time": "2021-10-22T19:33:55.723Z"
   },
   {
    "duration": 721,
    "start_time": "2021-10-22T19:34:02.956Z"
   },
   {
    "duration": 49,
    "start_time": "2021-10-22T19:34:28.220Z"
   },
   {
    "duration": 534,
    "start_time": "2021-10-22T19:35:02.598Z"
   },
   {
    "duration": 717,
    "start_time": "2021-10-22T19:35:10.091Z"
   },
   {
    "duration": 522,
    "start_time": "2021-10-22T19:35:17.804Z"
   },
   {
    "duration": 50,
    "start_time": "2021-10-22T19:35:31.716Z"
   },
   {
    "duration": 15,
    "start_time": "2021-10-22T19:36:25.885Z"
   },
   {
    "duration": 16,
    "start_time": "2021-10-22T19:36:27.972Z"
   },
   {
    "duration": 673,
    "start_time": "2021-10-22T19:36:55.677Z"
   },
   {
    "duration": 530,
    "start_time": "2021-10-22T19:37:00.404Z"
   },
   {
    "duration": 425,
    "start_time": "2021-10-22T19:37:58.285Z"
   },
   {
    "duration": 646,
    "start_time": "2021-10-22T19:42:00.668Z"
   },
   {
    "duration": 1137,
    "start_time": "2021-10-22T19:43:04.620Z"
   },
   {
    "duration": 754,
    "start_time": "2021-10-22T19:43:16.036Z"
   },
   {
    "duration": 751,
    "start_time": "2021-10-22T19:43:34.219Z"
   },
   {
    "duration": 1201,
    "start_time": "2021-10-22T19:43:39.379Z"
   },
   {
    "duration": 802,
    "start_time": "2021-10-22T19:46:09.836Z"
   },
   {
    "duration": 997,
    "start_time": "2021-10-22T19:46:31.660Z"
   },
   {
    "duration": 488,
    "start_time": "2021-10-22T19:49:56.228Z"
   },
   {
    "duration": 722,
    "start_time": "2021-10-22T19:50:03.628Z"
   },
   {
    "duration": 126,
    "start_time": "2021-10-22T19:50:31.941Z"
   },
   {
    "duration": 513,
    "start_time": "2021-10-22T19:50:35.348Z"
   },
   {
    "duration": 789,
    "start_time": "2021-10-22T19:51:13.701Z"
   },
   {
    "duration": 541,
    "start_time": "2021-10-22T19:52:01.733Z"
   },
   {
    "duration": 527,
    "start_time": "2021-10-22T19:52:19.580Z"
   },
   {
    "duration": 831,
    "start_time": "2021-10-22T19:52:27.668Z"
   },
   {
    "duration": 494,
    "start_time": "2021-10-22T19:52:32.869Z"
   },
   {
    "duration": 738,
    "start_time": "2021-10-22T19:52:37.196Z"
   },
   {
    "duration": 658,
    "start_time": "2021-10-22T19:52:44.340Z"
   },
   {
    "duration": 740,
    "start_time": "2021-10-22T19:53:06.917Z"
   },
   {
    "duration": 683,
    "start_time": "2021-10-22T19:53:20.588Z"
   },
   {
    "duration": 667,
    "start_time": "2021-10-22T19:53:27.612Z"
   },
   {
    "duration": 668,
    "start_time": "2021-10-22T19:53:33.020Z"
   },
   {
    "duration": 1008,
    "start_time": "2021-10-22T19:53:55.061Z"
   },
   {
    "duration": 678,
    "start_time": "2021-10-22T19:54:23.700Z"
   },
   {
    "duration": 670,
    "start_time": "2021-10-22T19:54:38.012Z"
   },
   {
    "duration": 901,
    "start_time": "2021-10-22T19:55:19.748Z"
   },
   {
    "duration": 685,
    "start_time": "2021-10-22T19:55:59.253Z"
   },
   {
    "duration": 686,
    "start_time": "2021-10-22T19:56:23.895Z"
   },
   {
    "duration": 748,
    "start_time": "2021-10-22T19:57:50.197Z"
   },
   {
    "duration": 557,
    "start_time": "2021-10-22T19:58:02.517Z"
   },
   {
    "duration": 695,
    "start_time": "2021-10-22T19:58:26.772Z"
   },
   {
    "duration": 661,
    "start_time": "2021-10-22T19:59:01.934Z"
   },
   {
    "duration": 816,
    "start_time": "2021-10-22T19:59:08.934Z"
   },
   {
    "duration": 614,
    "start_time": "2021-10-22T19:59:32.549Z"
   },
   {
    "duration": 656,
    "start_time": "2021-10-22T19:59:37.701Z"
   },
   {
    "duration": 606,
    "start_time": "2021-10-22T19:59:41.477Z"
   },
   {
    "duration": 680,
    "start_time": "2021-10-22T19:59:53.924Z"
   },
   {
    "duration": 588,
    "start_time": "2021-10-22T19:59:57.525Z"
   },
   {
    "duration": 15,
    "start_time": "2021-10-22T20:07:34.765Z"
   },
   {
    "duration": 19,
    "start_time": "2021-10-22T20:07:39.693Z"
   },
   {
    "duration": 4,
    "start_time": "2021-10-22T20:07:58.501Z"
   },
   {
    "duration": 583,
    "start_time": "2021-10-22T20:07:58.508Z"
   },
   {
    "duration": 14,
    "start_time": "2021-10-22T20:07:59.094Z"
   },
   {
    "duration": 10,
    "start_time": "2021-10-22T20:07:59.110Z"
   },
   {
    "duration": 13,
    "start_time": "2021-10-22T20:07:59.122Z"
   },
   {
    "duration": 34,
    "start_time": "2021-10-22T20:07:59.138Z"
   },
   {
    "duration": 38,
    "start_time": "2021-10-22T20:07:59.175Z"
   },
   {
    "duration": 9,
    "start_time": "2021-10-22T20:07:59.217Z"
   },
   {
    "duration": 12,
    "start_time": "2021-10-22T20:07:59.257Z"
   },
   {
    "duration": 27,
    "start_time": "2021-10-22T20:07:59.271Z"
   },
   {
    "duration": 59,
    "start_time": "2021-10-22T20:07:59.301Z"
   },
   {
    "duration": 377,
    "start_time": "2021-10-22T20:07:59.363Z"
   },
   {
    "duration": 118,
    "start_time": "2021-10-22T20:07:59.742Z"
   },
   {
    "duration": 10,
    "start_time": "2021-10-22T20:07:59.862Z"
   },
   {
    "duration": 22,
    "start_time": "2021-10-22T20:07:59.874Z"
   },
   {
    "duration": 18,
    "start_time": "2021-10-22T20:07:59.898Z"
   },
   {
    "duration": 219,
    "start_time": "2021-10-22T20:07:59.918Z"
   },
   {
    "duration": 71,
    "start_time": "2021-10-22T20:08:00.140Z"
   },
   {
    "duration": 12,
    "start_time": "2021-10-22T20:08:00.213Z"
   },
   {
    "duration": 48,
    "start_time": "2021-10-22T20:08:00.227Z"
   },
   {
    "duration": 39,
    "start_time": "2021-10-22T20:08:00.277Z"
   },
   {
    "duration": 272,
    "start_time": "2021-10-22T20:08:00.318Z"
   },
   {
    "duration": 118,
    "start_time": "2021-10-22T20:08:00.596Z"
   },
   {
    "duration": 11,
    "start_time": "2021-10-22T20:08:00.718Z"
   },
   {
    "duration": 29,
    "start_time": "2021-10-22T20:08:00.732Z"
   },
   {
    "duration": 105,
    "start_time": "2021-10-22T20:08:00.764Z"
   },
   {
    "duration": 8,
    "start_time": "2021-10-22T20:08:00.872Z"
   },
   {
    "duration": 30,
    "start_time": "2021-10-22T20:08:00.883Z"
   },
   {
    "duration": 90,
    "start_time": "2021-10-22T20:08:00.916Z"
   },
   {
    "duration": 49,
    "start_time": "2021-10-22T20:08:01.008Z"
   },
   {
    "duration": 35,
    "start_time": "2021-10-22T20:08:01.060Z"
   },
   {
    "duration": 30,
    "start_time": "2021-10-22T20:08:01.097Z"
   },
   {
    "duration": 58,
    "start_time": "2021-10-22T20:08:01.130Z"
   },
   {
    "duration": 38,
    "start_time": "2021-10-22T20:08:01.190Z"
   },
   {
    "duration": 62,
    "start_time": "2021-10-22T20:08:01.231Z"
   },
   {
    "duration": 15,
    "start_time": "2021-10-22T20:08:01.296Z"
   },
   {
    "duration": 53,
    "start_time": "2021-10-22T20:08:01.314Z"
   },
   {
    "duration": 62,
    "start_time": "2021-10-22T20:08:01.369Z"
   },
   {
    "duration": 21,
    "start_time": "2021-10-22T20:08:01.433Z"
   },
   {
    "duration": 23,
    "start_time": "2021-10-22T20:08:01.456Z"
   },
   {
    "duration": 22,
    "start_time": "2021-10-22T20:08:01.481Z"
   },
   {
    "duration": 7,
    "start_time": "2021-10-22T20:08:01.505Z"
   },
   {
    "duration": 49,
    "start_time": "2021-10-22T20:08:01.514Z"
   },
   {
    "duration": 7,
    "start_time": "2021-10-22T20:08:01.565Z"
   },
   {
    "duration": 25,
    "start_time": "2021-10-22T20:08:01.574Z"
   },
   {
    "duration": 19,
    "start_time": "2021-10-22T20:08:01.601Z"
   },
   {
    "duration": 7,
    "start_time": "2021-10-22T20:08:01.622Z"
   },
   {
    "duration": 43,
    "start_time": "2021-10-22T20:08:01.631Z"
   },
   {
    "duration": 6,
    "start_time": "2021-10-22T20:08:01.677Z"
   },
   {
    "duration": 363,
    "start_time": "2021-10-22T20:08:01.685Z"
   },
   {
    "duration": 13,
    "start_time": "2021-10-22T20:08:02.050Z"
   },
   {
    "duration": 655,
    "start_time": "2021-10-22T20:08:02.065Z"
   },
   {
    "duration": 718,
    "start_time": "2021-10-22T20:08:02.723Z"
   },
   {
    "duration": 695,
    "start_time": "2021-10-22T20:08:03.443Z"
   },
   {
    "duration": 59,
    "start_time": "2021-10-22T20:08:04.141Z"
   },
   {
    "duration": 552,
    "start_time": "2021-10-22T20:08:04.202Z"
   },
   {
    "duration": 582,
    "start_time": "2021-10-22T20:08:04.758Z"
   },
   {
    "duration": 864,
    "start_time": "2021-10-22T20:08:05.343Z"
   },
   {
    "duration": 68,
    "start_time": "2021-10-22T20:08:06.209Z"
   },
   {
    "duration": 542,
    "start_time": "2021-10-22T20:08:06.280Z"
   },
   {
    "duration": 710,
    "start_time": "2021-10-22T20:08:06.825Z"
   },
   {
    "duration": 610,
    "start_time": "2021-10-22T20:08:07.537Z"
   },
   {
    "duration": 53,
    "start_time": "2021-10-22T20:08:08.149Z"
   },
   {
    "duration": 15,
    "start_time": "2021-10-22T20:08:12.213Z"
   },
   {
    "duration": 20,
    "start_time": "2021-10-22T20:08:20.926Z"
   },
   {
    "duration": 387,
    "start_time": "2021-10-22T20:11:25.517Z"
   },
   {
    "duration": 203,
    "start_time": "2021-10-22T20:11:39.549Z"
   },
   {
    "duration": 280,
    "start_time": "2021-10-22T20:12:24.788Z"
   },
   {
    "duration": 287,
    "start_time": "2021-10-22T20:13:18.750Z"
   },
   {
    "duration": 217,
    "start_time": "2021-10-22T20:13:41.230Z"
   },
   {
    "duration": 22,
    "start_time": "2021-10-22T20:18:38.654Z"
   },
   {
    "duration": 17,
    "start_time": "2021-10-22T20:18:41.606Z"
   },
   {
    "duration": 22,
    "start_time": "2021-10-22T20:19:02.302Z"
   },
   {
    "duration": 1522,
    "start_time": "2021-10-22T20:26:21.747Z"
   },
   {
    "duration": 760,
    "start_time": "2021-10-22T20:26:23.271Z"
   },
   {
    "duration": 27,
    "start_time": "2021-10-22T20:26:24.035Z"
   },
   {
    "duration": 14,
    "start_time": "2021-10-22T20:26:24.064Z"
   },
   {
    "duration": 11,
    "start_time": "2021-10-22T20:26:24.081Z"
   },
   {
    "duration": 32,
    "start_time": "2021-10-22T20:26:24.095Z"
   },
   {
    "duration": 61,
    "start_time": "2021-10-22T20:26:24.300Z"
   },
   {
    "duration": 18,
    "start_time": "2021-10-22T20:26:24.364Z"
   },
   {
    "duration": 12,
    "start_time": "2021-10-22T20:26:24.385Z"
   },
   {
    "duration": 30,
    "start_time": "2021-10-22T20:26:24.400Z"
   },
   {
    "duration": 37,
    "start_time": "2021-10-22T20:26:24.458Z"
   },
   {
    "duration": 385,
    "start_time": "2021-10-22T20:26:24.498Z"
   },
   {
    "duration": 162,
    "start_time": "2021-10-22T20:26:24.886Z"
   },
   {
    "duration": 13,
    "start_time": "2021-10-22T20:26:25.058Z"
   },
   {
    "duration": 27,
    "start_time": "2021-10-22T20:26:25.075Z"
   },
   {
    "duration": 27,
    "start_time": "2021-10-22T20:26:25.105Z"
   },
   {
    "duration": 195,
    "start_time": "2021-10-22T20:26:25.158Z"
   },
   {
    "duration": 60,
    "start_time": "2021-10-22T20:26:25.355Z"
   },
   {
    "duration": 41,
    "start_time": "2021-10-22T20:26:25.418Z"
   },
   {
    "duration": 32,
    "start_time": "2021-10-22T20:26:25.462Z"
   },
   {
    "duration": 38,
    "start_time": "2021-10-22T20:26:25.497Z"
   },
   {
    "duration": 236,
    "start_time": "2021-10-22T20:26:25.538Z"
   },
   {
    "duration": 114,
    "start_time": "2021-10-22T20:26:25.777Z"
   },
   {
    "duration": 12,
    "start_time": "2021-10-22T20:26:25.894Z"
   },
   {
    "duration": 15,
    "start_time": "2021-10-22T20:26:25.909Z"
   },
   {
    "duration": 117,
    "start_time": "2021-10-22T20:26:25.926Z"
   },
   {
    "duration": 17,
    "start_time": "2021-10-22T20:26:26.045Z"
   },
   {
    "duration": 33,
    "start_time": "2021-10-22T20:26:26.064Z"
   },
   {
    "duration": 96,
    "start_time": "2021-10-22T20:26:26.103Z"
   },
   {
    "duration": 37,
    "start_time": "2021-10-22T20:26:26.203Z"
   },
   {
    "duration": 35,
    "start_time": "2021-10-22T20:26:26.257Z"
   },
   {
    "duration": 31,
    "start_time": "2021-10-22T20:26:26.294Z"
   },
   {
    "duration": 57,
    "start_time": "2021-10-22T20:26:26.327Z"
   },
   {
    "duration": 33,
    "start_time": "2021-10-22T20:26:26.386Z"
   },
   {
    "duration": 61,
    "start_time": "2021-10-22T20:26:26.421Z"
   },
   {
    "duration": 20,
    "start_time": "2021-10-22T20:26:26.485Z"
   },
   {
    "duration": 11,
    "start_time": "2021-10-22T20:26:26.508Z"
   },
   {
    "duration": 45,
    "start_time": "2021-10-22T20:26:26.522Z"
   },
   {
    "duration": 24,
    "start_time": "2021-10-22T20:26:26.570Z"
   },
   {
    "duration": 25,
    "start_time": "2021-10-22T20:26:26.597Z"
   },
   {
    "duration": 26,
    "start_time": "2021-10-22T20:26:26.658Z"
   },
   {
    "duration": 8,
    "start_time": "2021-10-22T20:26:26.687Z"
   },
   {
    "duration": 14,
    "start_time": "2021-10-22T20:26:26.698Z"
   },
   {
    "duration": 43,
    "start_time": "2021-10-22T20:26:26.715Z"
   },
   {
    "duration": 16,
    "start_time": "2021-10-22T20:26:26.760Z"
   },
   {
    "duration": 19,
    "start_time": "2021-10-22T20:26:26.778Z"
   },
   {
    "duration": 7,
    "start_time": "2021-10-22T20:26:26.799Z"
   },
   {
    "duration": 52,
    "start_time": "2021-10-22T20:26:26.809Z"
   },
   {
    "duration": 6,
    "start_time": "2021-10-22T20:26:26.863Z"
   },
   {
    "duration": 354,
    "start_time": "2021-10-22T20:26:26.872Z"
   },
   {
    "duration": 9,
    "start_time": "2021-10-22T20:26:27.228Z"
   },
   {
    "duration": 623,
    "start_time": "2021-10-22T20:26:27.239Z"
   },
   {
    "duration": 693,
    "start_time": "2021-10-22T20:26:27.864Z"
   },
   {
    "duration": 700,
    "start_time": "2021-10-22T20:26:28.560Z"
   },
   {
    "duration": 50,
    "start_time": "2021-10-22T20:26:29.263Z"
   },
   {
    "duration": 571,
    "start_time": "2021-10-22T20:26:29.316Z"
   },
   {
    "duration": 605,
    "start_time": "2021-10-22T20:26:29.890Z"
   },
   {
    "duration": 719,
    "start_time": "2021-10-22T20:26:30.498Z"
   },
   {
    "duration": 64,
    "start_time": "2021-10-22T20:26:31.219Z"
   },
   {
    "duration": 532,
    "start_time": "2021-10-22T20:26:31.285Z"
   },
   {
    "duration": 612,
    "start_time": "2021-10-22T20:26:31.820Z"
   },
   {
    "duration": 635,
    "start_time": "2021-10-22T20:26:32.435Z"
   },
   {
    "duration": 50,
    "start_time": "2021-10-22T20:26:33.072Z"
   },
   {
    "duration": 37,
    "start_time": "2021-10-22T20:26:33.124Z"
   },
   {
    "duration": 20,
    "start_time": "2021-10-22T20:26:33.163Z"
   },
   {
    "duration": 21,
    "start_time": "2021-10-22T20:26:33.186Z"
   },
   {
    "duration": 51,
    "start_time": "2021-10-22T20:26:33.210Z"
   },
   {
    "duration": 22,
    "start_time": "2021-10-22T20:26:33.263Z"
   },
   {
    "duration": 55,
    "start_time": "2021-10-23T15:56:24.520Z"
   }
  ],
  "hide_input": false,
  "kernelspec": {
   "display_name": "Python 3 (ipykernel)",
   "language": "python",
   "name": "python3"
  },
  "language_info": {
   "codemirror_mode": {
    "name": "ipython",
    "version": 3
   },
   "file_extension": ".py",
   "mimetype": "text/x-python",
   "name": "python",
   "nbconvert_exporter": "python",
   "pygments_lexer": "ipython3",
   "version": "3.9.7"
  },
  "toc": {
   "base_numbering": 1,
   "nav_menu": {},
   "number_sections": true,
   "sideBar": true,
   "skip_h1_title": true,
   "title_cell": "Table of Contents",
   "title_sidebar": "Contents",
   "toc_cell": false,
   "toc_position": {},
   "toc_section_display": true,
   "toc_window_display": false
  },
  "varInspector": {
   "cols": {
    "lenName": 16,
    "lenType": 16,
    "lenVar": 40
   },
   "kernels_config": {
    "python": {
     "delete_cmd_postfix": "",
     "delete_cmd_prefix": "del ",
     "library": "var_list.py",
     "varRefreshCmd": "print(var_dic_list())"
    },
    "r": {
     "delete_cmd_postfix": ") ",
     "delete_cmd_prefix": "rm(",
     "library": "var_list.r",
     "varRefreshCmd": "cat(var_dic_list()) "
    }
   },
   "types_to_exclude": [
    "module",
    "function",
    "builtin_function_or_method",
    "instance",
    "_Feature"
   ],
   "window_display": false
  }
 },
 "nbformat": 4,
 "nbformat_minor": 2
}
