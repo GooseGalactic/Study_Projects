{
 "cells": [
  {
   "cell_type": "markdown",
   "metadata": {},
   "source": [
    "## Изучение общей информации"
   ]
  },
  {
   "cell_type": "code",
   "execution_count": 1,
   "metadata": {
    "ExecuteTime": {
     "end_time": "2022-02-06T14:31:02.914464Z",
     "start_time": "2022-02-06T14:31:02.319181Z"
    },
    "scrolled": true
   },
   "outputs": [],
   "source": [
    "import pandas as pd\n",
    "from pymystem3 import Mystem\n",
    "from collections import Counter"
   ]
  },
  {
   "cell_type": "code",
   "execution_count": 2,
   "metadata": {
    "ExecuteTime": {
     "end_time": "2022-02-06T14:31:02.992256Z",
     "start_time": "2022-02-06T14:31:02.916459Z"
    }
   },
   "outputs": [],
   "source": [
    "df = pd.read_csv('credit_score.csv')"
   ]
  },
  {
   "cell_type": "code",
   "execution_count": 3,
   "metadata": {
    "ExecuteTime": {
     "end_time": "2022-02-06T14:31:03.024170Z",
     "start_time": "2022-02-06T14:31:02.993253Z"
    }
   },
   "outputs": [
    {
     "data": {
      "text/html": [
       "<div>\n",
       "<style scoped>\n",
       "    .dataframe tbody tr th:only-of-type {\n",
       "        vertical-align: middle;\n",
       "    }\n",
       "\n",
       "    .dataframe tbody tr th {\n",
       "        vertical-align: top;\n",
       "    }\n",
       "\n",
       "    .dataframe thead th {\n",
       "        text-align: right;\n",
       "    }\n",
       "</style>\n",
       "<table border=\"1\" class=\"dataframe\">\n",
       "  <thead>\n",
       "    <tr style=\"text-align: right;\">\n",
       "      <th></th>\n",
       "      <th>children</th>\n",
       "      <th>days_employed</th>\n",
       "      <th>dob_years</th>\n",
       "      <th>education</th>\n",
       "      <th>education_id</th>\n",
       "      <th>family_status</th>\n",
       "      <th>family_status_id</th>\n",
       "      <th>gender</th>\n",
       "      <th>income_type</th>\n",
       "      <th>debt</th>\n",
       "      <th>total_income</th>\n",
       "      <th>purpose</th>\n",
       "    </tr>\n",
       "  </thead>\n",
       "  <tbody>\n",
       "    <tr>\n",
       "      <th>0</th>\n",
       "      <td>1</td>\n",
       "      <td>-8437.673028</td>\n",
       "      <td>42</td>\n",
       "      <td>высшее</td>\n",
       "      <td>0</td>\n",
       "      <td>женат / замужем</td>\n",
       "      <td>0</td>\n",
       "      <td>F</td>\n",
       "      <td>сотрудник</td>\n",
       "      <td>0</td>\n",
       "      <td>253875.639453</td>\n",
       "      <td>покупка жилья</td>\n",
       "    </tr>\n",
       "    <tr>\n",
       "      <th>1</th>\n",
       "      <td>1</td>\n",
       "      <td>-4024.803754</td>\n",
       "      <td>36</td>\n",
       "      <td>среднее</td>\n",
       "      <td>1</td>\n",
       "      <td>женат / замужем</td>\n",
       "      <td>0</td>\n",
       "      <td>F</td>\n",
       "      <td>сотрудник</td>\n",
       "      <td>0</td>\n",
       "      <td>112080.014102</td>\n",
       "      <td>приобретение автомобиля</td>\n",
       "    </tr>\n",
       "    <tr>\n",
       "      <th>2</th>\n",
       "      <td>0</td>\n",
       "      <td>-5623.422610</td>\n",
       "      <td>33</td>\n",
       "      <td>Среднее</td>\n",
       "      <td>1</td>\n",
       "      <td>женат / замужем</td>\n",
       "      <td>0</td>\n",
       "      <td>M</td>\n",
       "      <td>сотрудник</td>\n",
       "      <td>0</td>\n",
       "      <td>145885.952297</td>\n",
       "      <td>покупка жилья</td>\n",
       "    </tr>\n",
       "    <tr>\n",
       "      <th>3</th>\n",
       "      <td>3</td>\n",
       "      <td>-4124.747207</td>\n",
       "      <td>32</td>\n",
       "      <td>среднее</td>\n",
       "      <td>1</td>\n",
       "      <td>женат / замужем</td>\n",
       "      <td>0</td>\n",
       "      <td>M</td>\n",
       "      <td>сотрудник</td>\n",
       "      <td>0</td>\n",
       "      <td>267628.550329</td>\n",
       "      <td>дополнительное образование</td>\n",
       "    </tr>\n",
       "    <tr>\n",
       "      <th>4</th>\n",
       "      <td>0</td>\n",
       "      <td>340266.072047</td>\n",
       "      <td>53</td>\n",
       "      <td>среднее</td>\n",
       "      <td>1</td>\n",
       "      <td>гражданский брак</td>\n",
       "      <td>1</td>\n",
       "      <td>F</td>\n",
       "      <td>пенсионер</td>\n",
       "      <td>0</td>\n",
       "      <td>158616.077870</td>\n",
       "      <td>сыграть свадьбу</td>\n",
       "    </tr>\n",
       "    <tr>\n",
       "      <th>5</th>\n",
       "      <td>0</td>\n",
       "      <td>-926.185831</td>\n",
       "      <td>27</td>\n",
       "      <td>высшее</td>\n",
       "      <td>0</td>\n",
       "      <td>гражданский брак</td>\n",
       "      <td>1</td>\n",
       "      <td>M</td>\n",
       "      <td>компаньон</td>\n",
       "      <td>0</td>\n",
       "      <td>255763.565419</td>\n",
       "      <td>покупка жилья</td>\n",
       "    </tr>\n",
       "    <tr>\n",
       "      <th>6</th>\n",
       "      <td>0</td>\n",
       "      <td>-2879.202052</td>\n",
       "      <td>43</td>\n",
       "      <td>высшее</td>\n",
       "      <td>0</td>\n",
       "      <td>женат / замужем</td>\n",
       "      <td>0</td>\n",
       "      <td>F</td>\n",
       "      <td>компаньон</td>\n",
       "      <td>0</td>\n",
       "      <td>240525.971920</td>\n",
       "      <td>операции с жильем</td>\n",
       "    </tr>\n",
       "    <tr>\n",
       "      <th>7</th>\n",
       "      <td>0</td>\n",
       "      <td>-152.779569</td>\n",
       "      <td>50</td>\n",
       "      <td>СРЕДНЕЕ</td>\n",
       "      <td>1</td>\n",
       "      <td>женат / замужем</td>\n",
       "      <td>0</td>\n",
       "      <td>M</td>\n",
       "      <td>сотрудник</td>\n",
       "      <td>0</td>\n",
       "      <td>135823.934197</td>\n",
       "      <td>образование</td>\n",
       "    </tr>\n",
       "    <tr>\n",
       "      <th>8</th>\n",
       "      <td>2</td>\n",
       "      <td>-6929.865299</td>\n",
       "      <td>35</td>\n",
       "      <td>ВЫСШЕЕ</td>\n",
       "      <td>0</td>\n",
       "      <td>гражданский брак</td>\n",
       "      <td>1</td>\n",
       "      <td>F</td>\n",
       "      <td>сотрудник</td>\n",
       "      <td>0</td>\n",
       "      <td>95856.832424</td>\n",
       "      <td>на проведение свадьбы</td>\n",
       "    </tr>\n",
       "    <tr>\n",
       "      <th>9</th>\n",
       "      <td>0</td>\n",
       "      <td>-2188.756445</td>\n",
       "      <td>41</td>\n",
       "      <td>среднее</td>\n",
       "      <td>1</td>\n",
       "      <td>женат / замужем</td>\n",
       "      <td>0</td>\n",
       "      <td>M</td>\n",
       "      <td>сотрудник</td>\n",
       "      <td>0</td>\n",
       "      <td>144425.938277</td>\n",
       "      <td>покупка жилья для семьи</td>\n",
       "    </tr>\n",
       "  </tbody>\n",
       "</table>\n",
       "</div>"
      ],
      "text/plain": [
       "   children  days_employed  dob_years education  education_id  \\\n",
       "0         1   -8437.673028         42    высшее             0   \n",
       "1         1   -4024.803754         36   среднее             1   \n",
       "2         0   -5623.422610         33   Среднее             1   \n",
       "3         3   -4124.747207         32   среднее             1   \n",
       "4         0  340266.072047         53   среднее             1   \n",
       "5         0    -926.185831         27    высшее             0   \n",
       "6         0   -2879.202052         43    высшее             0   \n",
       "7         0    -152.779569         50   СРЕДНЕЕ             1   \n",
       "8         2   -6929.865299         35    ВЫСШЕЕ             0   \n",
       "9         0   -2188.756445         41   среднее             1   \n",
       "\n",
       "      family_status  family_status_id gender income_type  debt   total_income  \\\n",
       "0   женат / замужем                 0      F   сотрудник     0  253875.639453   \n",
       "1   женат / замужем                 0      F   сотрудник     0  112080.014102   \n",
       "2   женат / замужем                 0      M   сотрудник     0  145885.952297   \n",
       "3   женат / замужем                 0      M   сотрудник     0  267628.550329   \n",
       "4  гражданский брак                 1      F   пенсионер     0  158616.077870   \n",
       "5  гражданский брак                 1      M   компаньон     0  255763.565419   \n",
       "6   женат / замужем                 0      F   компаньон     0  240525.971920   \n",
       "7   женат / замужем                 0      M   сотрудник     0  135823.934197   \n",
       "8  гражданский брак                 1      F   сотрудник     0   95856.832424   \n",
       "9   женат / замужем                 0      M   сотрудник     0  144425.938277   \n",
       "\n",
       "                      purpose  \n",
       "0               покупка жилья  \n",
       "1     приобретение автомобиля  \n",
       "2               покупка жилья  \n",
       "3  дополнительное образование  \n",
       "4             сыграть свадьбу  \n",
       "5               покупка жилья  \n",
       "6           операции с жильем  \n",
       "7                 образование  \n",
       "8       на проведение свадьбы  \n",
       "9     покупка жилья для семьи  "
      ]
     },
     "execution_count": 3,
     "metadata": {},
     "output_type": "execute_result"
    }
   ],
   "source": [
    "df.head(10) #Вызываем первые 10 строк для ознакомления с содержанием"
   ]
  },
  {
   "cell_type": "markdown",
   "metadata": {},
   "source": [
    "Просмотр первых 10 строк уже показал, что у данных в столбце education разный регистр. Общий трудовой стаж указан с минусом, стаж и доход приведены в дробях, нужно привести к целым числам. Просмотрим общую информацию о столбцах и проверим на дубликаты."
   ]
  },
  {
   "cell_type": "code",
   "execution_count": 4,
   "metadata": {
    "ExecuteTime": {
     "end_time": "2022-02-06T14:31:03.056085Z",
     "start_time": "2022-02-06T14:31:03.026166Z"
    }
   },
   "outputs": [
    {
     "data": {
      "text/plain": [
       "54"
      ]
     },
     "execution_count": 4,
     "metadata": {},
     "output_type": "execute_result"
    }
   ],
   "source": [
    "df.duplicated().sum() #число дубликатов"
   ]
  },
  {
   "cell_type": "code",
   "execution_count": 5,
   "metadata": {
    "ExecuteTime": {
     "end_time": "2022-02-06T14:31:03.087002Z",
     "start_time": "2022-02-06T14:31:03.057083Z"
    }
   },
   "outputs": [
    {
     "name": "stdout",
     "output_type": "stream",
     "text": [
      "<class 'pandas.core.frame.DataFrame'>\n",
      "RangeIndex: 21525 entries, 0 to 21524\n",
      "Data columns (total 12 columns):\n",
      " #   Column            Non-Null Count  Dtype  \n",
      "---  ------            --------------  -----  \n",
      " 0   children          21525 non-null  int64  \n",
      " 1   days_employed     19351 non-null  float64\n",
      " 2   dob_years         21525 non-null  int64  \n",
      " 3   education         21525 non-null  object \n",
      " 4   education_id      21525 non-null  int64  \n",
      " 5   family_status     21525 non-null  object \n",
      " 6   family_status_id  21525 non-null  int64  \n",
      " 7   gender            21525 non-null  object \n",
      " 8   income_type       21525 non-null  object \n",
      " 9   debt              21525 non-null  int64  \n",
      " 10  total_income      19351 non-null  float64\n",
      " 11  purpose           21525 non-null  object \n",
      "dtypes: float64(2), int64(5), object(5)\n",
      "memory usage: 2.0+ MB\n"
     ]
    }
   ],
   "source": [
    "df.info()"
   ]
  },
  {
   "cell_type": "markdown",
   "metadata": {},
   "source": [
    "Таблица содержит 54 дубликата. Столбцы `days_employed` и `total_income` содержат в себе пропуски, причем одинаковое количество. Проверим, если пропуски находятся в одинаковых строчках."
   ]
  },
  {
   "cell_type": "code",
   "execution_count": 6,
   "metadata": {
    "ExecuteTime": {
     "end_time": "2022-02-06T14:31:03.101968Z",
     "start_time": "2022-02-06T14:31:03.088001Z"
    }
   },
   "outputs": [
    {
     "data": {
      "text/plain": [
       "2174"
      ]
     },
     "execution_count": 6,
     "metadata": {},
     "output_type": "execute_result"
    }
   ],
   "source": [
    "df.days_employed.isna().sum() #Проверяем количество пустых ячеек в days_employed"
   ]
  },
  {
   "cell_type": "code",
   "execution_count": 7,
   "metadata": {
    "ExecuteTime": {
     "end_time": "2022-02-06T14:31:03.132879Z",
     "start_time": "2022-02-06T14:31:03.102961Z"
    }
   },
   "outputs": [
    {
     "data": {
      "text/html": [
       "<div>\n",
       "<style scoped>\n",
       "    .dataframe tbody tr th:only-of-type {\n",
       "        vertical-align: middle;\n",
       "    }\n",
       "\n",
       "    .dataframe tbody tr th {\n",
       "        vertical-align: top;\n",
       "    }\n",
       "\n",
       "    .dataframe thead th {\n",
       "        text-align: right;\n",
       "    }\n",
       "</style>\n",
       "<table border=\"1\" class=\"dataframe\">\n",
       "  <thead>\n",
       "    <tr style=\"text-align: right;\">\n",
       "      <th></th>\n",
       "      <th>children</th>\n",
       "      <th>days_employed</th>\n",
       "      <th>dob_years</th>\n",
       "      <th>education</th>\n",
       "      <th>education_id</th>\n",
       "      <th>family_status</th>\n",
       "      <th>family_status_id</th>\n",
       "      <th>gender</th>\n",
       "      <th>income_type</th>\n",
       "      <th>debt</th>\n",
       "      <th>total_income</th>\n",
       "      <th>purpose</th>\n",
       "    </tr>\n",
       "  </thead>\n",
       "  <tbody>\n",
       "    <tr>\n",
       "      <th>12</th>\n",
       "      <td>0</td>\n",
       "      <td>NaN</td>\n",
       "      <td>65</td>\n",
       "      <td>среднее</td>\n",
       "      <td>1</td>\n",
       "      <td>гражданский брак</td>\n",
       "      <td>1</td>\n",
       "      <td>M</td>\n",
       "      <td>пенсионер</td>\n",
       "      <td>0</td>\n",
       "      <td>NaN</td>\n",
       "      <td>сыграть свадьбу</td>\n",
       "    </tr>\n",
       "    <tr>\n",
       "      <th>26</th>\n",
       "      <td>0</td>\n",
       "      <td>NaN</td>\n",
       "      <td>41</td>\n",
       "      <td>среднее</td>\n",
       "      <td>1</td>\n",
       "      <td>женат / замужем</td>\n",
       "      <td>0</td>\n",
       "      <td>M</td>\n",
       "      <td>госслужащий</td>\n",
       "      <td>0</td>\n",
       "      <td>NaN</td>\n",
       "      <td>образование</td>\n",
       "    </tr>\n",
       "    <tr>\n",
       "      <th>29</th>\n",
       "      <td>0</td>\n",
       "      <td>NaN</td>\n",
       "      <td>63</td>\n",
       "      <td>среднее</td>\n",
       "      <td>1</td>\n",
       "      <td>Не женат / не замужем</td>\n",
       "      <td>4</td>\n",
       "      <td>F</td>\n",
       "      <td>пенсионер</td>\n",
       "      <td>0</td>\n",
       "      <td>NaN</td>\n",
       "      <td>строительство жилой недвижимости</td>\n",
       "    </tr>\n",
       "    <tr>\n",
       "      <th>41</th>\n",
       "      <td>0</td>\n",
       "      <td>NaN</td>\n",
       "      <td>50</td>\n",
       "      <td>среднее</td>\n",
       "      <td>1</td>\n",
       "      <td>женат / замужем</td>\n",
       "      <td>0</td>\n",
       "      <td>F</td>\n",
       "      <td>госслужащий</td>\n",
       "      <td>0</td>\n",
       "      <td>NaN</td>\n",
       "      <td>сделка с подержанным автомобилем</td>\n",
       "    </tr>\n",
       "    <tr>\n",
       "      <th>55</th>\n",
       "      <td>0</td>\n",
       "      <td>NaN</td>\n",
       "      <td>54</td>\n",
       "      <td>среднее</td>\n",
       "      <td>1</td>\n",
       "      <td>гражданский брак</td>\n",
       "      <td>1</td>\n",
       "      <td>F</td>\n",
       "      <td>пенсионер</td>\n",
       "      <td>1</td>\n",
       "      <td>NaN</td>\n",
       "      <td>сыграть свадьбу</td>\n",
       "    </tr>\n",
       "    <tr>\n",
       "      <th>...</th>\n",
       "      <td>...</td>\n",
       "      <td>...</td>\n",
       "      <td>...</td>\n",
       "      <td>...</td>\n",
       "      <td>...</td>\n",
       "      <td>...</td>\n",
       "      <td>...</td>\n",
       "      <td>...</td>\n",
       "      <td>...</td>\n",
       "      <td>...</td>\n",
       "      <td>...</td>\n",
       "      <td>...</td>\n",
       "    </tr>\n",
       "    <tr>\n",
       "      <th>21489</th>\n",
       "      <td>2</td>\n",
       "      <td>NaN</td>\n",
       "      <td>47</td>\n",
       "      <td>Среднее</td>\n",
       "      <td>1</td>\n",
       "      <td>женат / замужем</td>\n",
       "      <td>0</td>\n",
       "      <td>M</td>\n",
       "      <td>компаньон</td>\n",
       "      <td>0</td>\n",
       "      <td>NaN</td>\n",
       "      <td>сделка с автомобилем</td>\n",
       "    </tr>\n",
       "    <tr>\n",
       "      <th>21495</th>\n",
       "      <td>1</td>\n",
       "      <td>NaN</td>\n",
       "      <td>50</td>\n",
       "      <td>среднее</td>\n",
       "      <td>1</td>\n",
       "      <td>гражданский брак</td>\n",
       "      <td>1</td>\n",
       "      <td>F</td>\n",
       "      <td>сотрудник</td>\n",
       "      <td>0</td>\n",
       "      <td>NaN</td>\n",
       "      <td>свадьба</td>\n",
       "    </tr>\n",
       "    <tr>\n",
       "      <th>21497</th>\n",
       "      <td>0</td>\n",
       "      <td>NaN</td>\n",
       "      <td>48</td>\n",
       "      <td>ВЫСШЕЕ</td>\n",
       "      <td>0</td>\n",
       "      <td>женат / замужем</td>\n",
       "      <td>0</td>\n",
       "      <td>F</td>\n",
       "      <td>компаньон</td>\n",
       "      <td>0</td>\n",
       "      <td>NaN</td>\n",
       "      <td>строительство недвижимости</td>\n",
       "    </tr>\n",
       "    <tr>\n",
       "      <th>21502</th>\n",
       "      <td>1</td>\n",
       "      <td>NaN</td>\n",
       "      <td>42</td>\n",
       "      <td>среднее</td>\n",
       "      <td>1</td>\n",
       "      <td>женат / замужем</td>\n",
       "      <td>0</td>\n",
       "      <td>F</td>\n",
       "      <td>сотрудник</td>\n",
       "      <td>0</td>\n",
       "      <td>NaN</td>\n",
       "      <td>строительство жилой недвижимости</td>\n",
       "    </tr>\n",
       "    <tr>\n",
       "      <th>21510</th>\n",
       "      <td>2</td>\n",
       "      <td>NaN</td>\n",
       "      <td>28</td>\n",
       "      <td>среднее</td>\n",
       "      <td>1</td>\n",
       "      <td>женат / замужем</td>\n",
       "      <td>0</td>\n",
       "      <td>F</td>\n",
       "      <td>сотрудник</td>\n",
       "      <td>0</td>\n",
       "      <td>NaN</td>\n",
       "      <td>приобретение автомобиля</td>\n",
       "    </tr>\n",
       "  </tbody>\n",
       "</table>\n",
       "<p>2174 rows × 12 columns</p>\n",
       "</div>"
      ],
      "text/plain": [
       "       children  days_employed  dob_years education  education_id  \\\n",
       "12            0            NaN         65   среднее             1   \n",
       "26            0            NaN         41   среднее             1   \n",
       "29            0            NaN         63   среднее             1   \n",
       "41            0            NaN         50   среднее             1   \n",
       "55            0            NaN         54   среднее             1   \n",
       "...         ...            ...        ...       ...           ...   \n",
       "21489         2            NaN         47   Среднее             1   \n",
       "21495         1            NaN         50   среднее             1   \n",
       "21497         0            NaN         48    ВЫСШЕЕ             0   \n",
       "21502         1            NaN         42   среднее             1   \n",
       "21510         2            NaN         28   среднее             1   \n",
       "\n",
       "               family_status  family_status_id gender  income_type  debt  \\\n",
       "12          гражданский брак                 1      M    пенсионер     0   \n",
       "26           женат / замужем                 0      M  госслужащий     0   \n",
       "29     Не женат / не замужем                 4      F    пенсионер     0   \n",
       "41           женат / замужем                 0      F  госслужащий     0   \n",
       "55          гражданский брак                 1      F    пенсионер     1   \n",
       "...                      ...               ...    ...          ...   ...   \n",
       "21489        женат / замужем                 0      M    компаньон     0   \n",
       "21495       гражданский брак                 1      F    сотрудник     0   \n",
       "21497        женат / замужем                 0      F    компаньон     0   \n",
       "21502        женат / замужем                 0      F    сотрудник     0   \n",
       "21510        женат / замужем                 0      F    сотрудник     0   \n",
       "\n",
       "       total_income                           purpose  \n",
       "12              NaN                   сыграть свадьбу  \n",
       "26              NaN                       образование  \n",
       "29              NaN  строительство жилой недвижимости  \n",
       "41              NaN  сделка с подержанным автомобилем  \n",
       "55              NaN                   сыграть свадьбу  \n",
       "...             ...                               ...  \n",
       "21489           NaN              сделка с автомобилем  \n",
       "21495           NaN                           свадьба  \n",
       "21497           NaN        строительство недвижимости  \n",
       "21502           NaN  строительство жилой недвижимости  \n",
       "21510           NaN           приобретение автомобиля  \n",
       "\n",
       "[2174 rows x 12 columns]"
      ]
     },
     "execution_count": 7,
     "metadata": {},
     "output_type": "execute_result"
    }
   ],
   "source": [
    "df.loc[df.days_employed.isna()] #Проверяем соответствуют ли пустые значения days_employed и total_income"
   ]
  },
  {
   "cell_type": "markdown",
   "metadata": {},
   "source": [
    "Пустые ячейки присутствуют у ~10% ячеек датафрейма, удалять значения нельзя.\n",
    "Пустые ячейки days_employed соответствуют пустым ячейкам у total_income. \n",
    "Предполагаем, что данные о ежемесячном доходе отсутствуют, так как нет информации о стаже работы клиента.\n",
    "Проверим остальные категориальные данные."
   ]
  },
  {
   "cell_type": "code",
   "execution_count": 8,
   "metadata": {
    "ExecuteTime": {
     "end_time": "2022-02-06T14:31:03.147840Z",
     "start_time": "2022-02-06T14:31:03.133879Z"
    }
   },
   "outputs": [
    {
     "data": {
      "text/plain": [
       "array(['высшее', 'среднее', 'Среднее', 'СРЕДНЕЕ', 'ВЫСШЕЕ',\n",
       "       'неоконченное высшее', 'начальное', 'Высшее',\n",
       "       'НЕОКОНЧЕННОЕ ВЫСШЕЕ', 'Неоконченное высшее', 'НАЧАЛЬНОЕ',\n",
       "       'Начальное', 'Ученая степень', 'УЧЕНАЯ СТЕПЕНЬ', 'ученая степень'],\n",
       "      dtype=object)"
      ]
     },
     "execution_count": 8,
     "metadata": {},
     "output_type": "execute_result"
    }
   ],
   "source": [
    "df.education.unique() "
   ]
  },
  {
   "cell_type": "markdown",
   "metadata": {},
   "source": [
    "Как было указано выше, разные регистры в названиях"
   ]
  },
  {
   "cell_type": "code",
   "execution_count": 9,
   "metadata": {
    "ExecuteTime": {
     "end_time": "2022-02-06T14:31:03.163797Z",
     "start_time": "2022-02-06T14:31:03.148838Z"
    }
   },
   "outputs": [
    {
     "data": {
      "text/plain": [
       "array(['женат / замужем', 'гражданский брак', 'вдовец / вдова',\n",
       "       'в разводе', 'Не женат / не замужем'], dtype=object)"
      ]
     },
     "execution_count": 9,
     "metadata": {},
     "output_type": "execute_result"
    }
   ],
   "source": [
    "df.family_status.unique() "
   ]
  },
  {
   "cell_type": "markdown",
   "metadata": {},
   "source": [
    "\"Не женат / не замужем\" написано с большой буквы, в отличие от \"женат / замужем\""
   ]
  },
  {
   "cell_type": "code",
   "execution_count": 10,
   "metadata": {
    "ExecuteTime": {
     "end_time": "2022-02-06T14:31:03.179754Z",
     "start_time": "2022-02-06T14:31:03.166791Z"
    }
   },
   "outputs": [
    {
     "data": {
      "text/plain": [
       "array(['F', 'M', 'XNA'], dtype=object)"
      ]
     },
     "execution_count": 10,
     "metadata": {},
     "output_type": "execute_result"
    }
   ],
   "source": [
    "df.gender.unique() "
   ]
  },
  {
   "cell_type": "markdown",
   "metadata": {},
   "source": [
    "XNA может быть как ошибка при введении данных, так и третий гендер"
   ]
  },
  {
   "cell_type": "code",
   "execution_count": 11,
   "metadata": {
    "ExecuteTime": {
     "end_time": "2022-02-06T14:31:03.195712Z",
     "start_time": "2022-02-06T14:31:03.181750Z"
    }
   },
   "outputs": [
    {
     "data": {
      "text/plain": [
       "array(['сотрудник', 'пенсионер', 'компаньон', 'госслужащий',\n",
       "       'безработный', 'предприниматель', 'студент', 'в декрете'],\n",
       "      dtype=object)"
      ]
     },
     "execution_count": 11,
     "metadata": {},
     "output_type": "execute_result"
    }
   ],
   "source": [
    "df.income_type.unique()"
   ]
  },
  {
   "cell_type": "code",
   "execution_count": 12,
   "metadata": {
    "ExecuteTime": {
     "end_time": "2022-02-06T14:31:03.211670Z",
     "start_time": "2022-02-06T14:31:03.197707Z"
    }
   },
   "outputs": [
    {
     "data": {
      "text/plain": [
       "array(['покупка жилья', 'приобретение автомобиля',\n",
       "       'дополнительное образование', 'сыграть свадьбу',\n",
       "       'операции с жильем', 'образование', 'на проведение свадьбы',\n",
       "       'покупка жилья для семьи', 'покупка недвижимости',\n",
       "       'покупка коммерческой недвижимости', 'покупка жилой недвижимости',\n",
       "       'строительство собственной недвижимости', 'недвижимость',\n",
       "       'строительство недвижимости', 'на покупку подержанного автомобиля',\n",
       "       'на покупку своего автомобиля',\n",
       "       'операции с коммерческой недвижимостью',\n",
       "       'строительство жилой недвижимости', 'жилье',\n",
       "       'операции со своей недвижимостью', 'автомобили',\n",
       "       'заняться образованием', 'сделка с подержанным автомобилем',\n",
       "       'получение образования', 'автомобиль', 'свадьба',\n",
       "       'получение дополнительного образования', 'покупка своего жилья',\n",
       "       'операции с недвижимостью', 'получение высшего образования',\n",
       "       'свой автомобиль', 'сделка с автомобилем',\n",
       "       'профильное образование', 'высшее образование',\n",
       "       'покупка жилья для сдачи', 'на покупку автомобиля', 'ремонт жилью',\n",
       "       'заняться высшим образованием'], dtype=object)"
      ]
     },
     "execution_count": 12,
     "metadata": {},
     "output_type": "execute_result"
    }
   ],
   "source": [
    "df.purpose.unique()"
   ]
  },
  {
   "cell_type": "markdown",
   "metadata": {},
   "source": [
    "В этом столбце много дупликатов по смыслу, что исказит выводы при анализе.\n",
    "Проверим количественные данные с помощью `describe()`"
   ]
  },
  {
   "cell_type": "code",
   "execution_count": 13,
   "metadata": {
    "ExecuteTime": {
     "end_time": "2022-02-06T14:31:03.242587Z",
     "start_time": "2022-02-06T14:31:03.213665Z"
    }
   },
   "outputs": [
    {
     "data": {
      "text/html": [
       "<div>\n",
       "<style scoped>\n",
       "    .dataframe tbody tr th:only-of-type {\n",
       "        vertical-align: middle;\n",
       "    }\n",
       "\n",
       "    .dataframe tbody tr th {\n",
       "        vertical-align: top;\n",
       "    }\n",
       "\n",
       "    .dataframe thead th {\n",
       "        text-align: right;\n",
       "    }\n",
       "</style>\n",
       "<table border=\"1\" class=\"dataframe\">\n",
       "  <thead>\n",
       "    <tr style=\"text-align: right;\">\n",
       "      <th></th>\n",
       "      <th>children</th>\n",
       "      <th>days_employed</th>\n",
       "      <th>dob_years</th>\n",
       "      <th>education_id</th>\n",
       "      <th>family_status_id</th>\n",
       "      <th>debt</th>\n",
       "      <th>total_income</th>\n",
       "    </tr>\n",
       "  </thead>\n",
       "  <tbody>\n",
       "    <tr>\n",
       "      <th>count</th>\n",
       "      <td>21525.000000</td>\n",
       "      <td>19351.000000</td>\n",
       "      <td>21525.000000</td>\n",
       "      <td>21525.000000</td>\n",
       "      <td>21525.000000</td>\n",
       "      <td>21525.000000</td>\n",
       "      <td>1.935100e+04</td>\n",
       "    </tr>\n",
       "    <tr>\n",
       "      <th>mean</th>\n",
       "      <td>0.538908</td>\n",
       "      <td>63046.497661</td>\n",
       "      <td>43.293380</td>\n",
       "      <td>0.817236</td>\n",
       "      <td>0.972544</td>\n",
       "      <td>0.080883</td>\n",
       "      <td>1.674223e+05</td>\n",
       "    </tr>\n",
       "    <tr>\n",
       "      <th>std</th>\n",
       "      <td>1.381587</td>\n",
       "      <td>140827.311974</td>\n",
       "      <td>12.574584</td>\n",
       "      <td>0.548138</td>\n",
       "      <td>1.420324</td>\n",
       "      <td>0.272661</td>\n",
       "      <td>1.029716e+05</td>\n",
       "    </tr>\n",
       "    <tr>\n",
       "      <th>min</th>\n",
       "      <td>-1.000000</td>\n",
       "      <td>-18388.949901</td>\n",
       "      <td>0.000000</td>\n",
       "      <td>0.000000</td>\n",
       "      <td>0.000000</td>\n",
       "      <td>0.000000</td>\n",
       "      <td>2.066726e+04</td>\n",
       "    </tr>\n",
       "    <tr>\n",
       "      <th>25%</th>\n",
       "      <td>0.000000</td>\n",
       "      <td>-2747.423625</td>\n",
       "      <td>33.000000</td>\n",
       "      <td>1.000000</td>\n",
       "      <td>0.000000</td>\n",
       "      <td>0.000000</td>\n",
       "      <td>1.030532e+05</td>\n",
       "    </tr>\n",
       "    <tr>\n",
       "      <th>50%</th>\n",
       "      <td>0.000000</td>\n",
       "      <td>-1203.369529</td>\n",
       "      <td>42.000000</td>\n",
       "      <td>1.000000</td>\n",
       "      <td>0.000000</td>\n",
       "      <td>0.000000</td>\n",
       "      <td>1.450179e+05</td>\n",
       "    </tr>\n",
       "    <tr>\n",
       "      <th>75%</th>\n",
       "      <td>1.000000</td>\n",
       "      <td>-291.095954</td>\n",
       "      <td>53.000000</td>\n",
       "      <td>1.000000</td>\n",
       "      <td>1.000000</td>\n",
       "      <td>0.000000</td>\n",
       "      <td>2.034351e+05</td>\n",
       "    </tr>\n",
       "    <tr>\n",
       "      <th>max</th>\n",
       "      <td>20.000000</td>\n",
       "      <td>401755.400475</td>\n",
       "      <td>75.000000</td>\n",
       "      <td>4.000000</td>\n",
       "      <td>4.000000</td>\n",
       "      <td>1.000000</td>\n",
       "      <td>2.265604e+06</td>\n",
       "    </tr>\n",
       "  </tbody>\n",
       "</table>\n",
       "</div>"
      ],
      "text/plain": [
       "           children  days_employed     dob_years  education_id  \\\n",
       "count  21525.000000   19351.000000  21525.000000  21525.000000   \n",
       "mean       0.538908   63046.497661     43.293380      0.817236   \n",
       "std        1.381587  140827.311974     12.574584      0.548138   \n",
       "min       -1.000000  -18388.949901      0.000000      0.000000   \n",
       "25%        0.000000   -2747.423625     33.000000      1.000000   \n",
       "50%        0.000000   -1203.369529     42.000000      1.000000   \n",
       "75%        1.000000    -291.095954     53.000000      1.000000   \n",
       "max       20.000000  401755.400475     75.000000      4.000000   \n",
       "\n",
       "       family_status_id          debt  total_income  \n",
       "count      21525.000000  21525.000000  1.935100e+04  \n",
       "mean           0.972544      0.080883  1.674223e+05  \n",
       "std            1.420324      0.272661  1.029716e+05  \n",
       "min            0.000000      0.000000  2.066726e+04  \n",
       "25%            0.000000      0.000000  1.030532e+05  \n",
       "50%            0.000000      0.000000  1.450179e+05  \n",
       "75%            1.000000      0.000000  2.034351e+05  \n",
       "max            4.000000      1.000000  2.265604e+06  "
      ]
     },
     "execution_count": 13,
     "metadata": {},
     "output_type": "execute_result"
    }
   ],
   "source": [
    "df.describe()"
   ]
  },
  {
   "cell_type": "markdown",
   "metadata": {},
   "source": [
    "20 детей это слишком много, а -1 это слишком мало. Скорее всего ошибка при вводе данных, имелось в виду 2 и 1 ребенок соответственно.\n",
    "Разница между min и max у стажа и дохода существенна. Пропуски нужно заполнять медианой.\n",
    "Кроме того, в столбце `dob_years` имеются значения, равные нулю. Подозреваем отсутствие данных по возрасту клиента"
   ]
  },
  {
   "cell_type": "markdown",
   "metadata": {},
   "source": [
    "**Вывод**"
   ]
  },
  {
   "cell_type": "markdown",
   "metadata": {},
   "source": [
    "1) Необходимо удалить дубликаты, а также обработать пропуски в столбцах `days_employed` и `total_income`. Единственное значение у столбца `gender`, равное `\"XNA\"`, допустимо удалить.  \n",
    "2) Значения в `days_employed` нужно привести к положительным, а в `days_employed` и `total_income` к целым для лучшей визуализации.  \n",
    "3) В `education` привести данные к одному регистру  \n",
    "4) В `purpose` необходима лемматизация данных"
   ]
  },
  {
   "cell_type": "markdown",
   "metadata": {},
   "source": [
    "## Предобработка данных"
   ]
  },
  {
   "cell_type": "markdown",
   "metadata": {},
   "source": [
    "Ранее мы обнаружили странные значения в столбце `children`, а именно 20 и -1. Заменим их на 2 и 1 соответственно. Кроме того, в столбце `family_status` \"Не женат / не замужем\" написано с большой буквы."
   ]
  },
  {
   "cell_type": "code",
   "execution_count": 14,
   "metadata": {
    "ExecuteTime": {
     "end_time": "2022-02-06T14:31:03.257546Z",
     "start_time": "2022-02-06T14:31:03.243584Z"
    }
   },
   "outputs": [
    {
     "data": {
      "text/plain": [
       "0    14149\n",
       "1     4865\n",
       "2     2131\n",
       "3      330\n",
       "4       41\n",
       "5        9\n",
       "Name: children, dtype: int64"
      ]
     },
     "execution_count": 14,
     "metadata": {},
     "output_type": "execute_result"
    }
   ],
   "source": [
    "df.children.replace({20: 2, -1: 1}, inplace = True) #Заменяем все значения 20 в столбце children на 2, аналогично для (-1)\n",
    "df.children.value_counts()"
   ]
  },
  {
   "cell_type": "code",
   "execution_count": 15,
   "metadata": {
    "ExecuteTime": {
     "end_time": "2022-02-06T14:31:03.273503Z",
     "start_time": "2022-02-06T14:31:03.258544Z"
    }
   },
   "outputs": [
    {
     "data": {
      "text/plain": [
       "женат / замужем          12380\n",
       "гражданский брак          4177\n",
       "не женат / не замужем     2813\n",
       "в разводе                 1195\n",
       "вдовец / вдова             960\n",
       "Name: family_status, dtype: int64"
      ]
     },
     "execution_count": 15,
     "metadata": {},
     "output_type": "execute_result"
    }
   ],
   "source": [
    "df.family_status.replace({'Не женат / не замужем': 'не женат / не замужем'}, inplace = True)\n",
    "df.family_status.value_counts()"
   ]
  },
  {
   "cell_type": "markdown",
   "metadata": {},
   "source": [
    "### Обработка пропусков"
   ]
  },
  {
   "cell_type": "markdown",
   "metadata": {},
   "source": [
    "При получении общей информации пропуски были обнаружены в столбцах `days_employed` и `total_income`. Поскольку они находятся в существенном (около 10%) количестве строк, простое удаление может исказить общую картину. Мы решили заменить пропуски на медианные значения, так как среднее значение по стажу и доходам скорее всего неточное. Перед этим удалим строчку с неизвестным гендером, чтобы она не повлияла на медианные значения. Так как значения в стаже у нас отрицательные, после заменим их на положительные."
   ]
  },
  {
   "cell_type": "code",
   "execution_count": 16,
   "metadata": {
    "ExecuteTime": {
     "end_time": "2022-02-06T14:31:03.289461Z",
     "start_time": "2022-02-06T14:31:03.275499Z"
    }
   },
   "outputs": [
    {
     "data": {
      "text/html": [
       "<div>\n",
       "<style scoped>\n",
       "    .dataframe tbody tr th:only-of-type {\n",
       "        vertical-align: middle;\n",
       "    }\n",
       "\n",
       "    .dataframe tbody tr th {\n",
       "        vertical-align: top;\n",
       "    }\n",
       "\n",
       "    .dataframe thead th {\n",
       "        text-align: right;\n",
       "    }\n",
       "</style>\n",
       "<table border=\"1\" class=\"dataframe\">\n",
       "  <thead>\n",
       "    <tr style=\"text-align: right;\">\n",
       "      <th></th>\n",
       "      <th>children</th>\n",
       "      <th>days_employed</th>\n",
       "      <th>dob_years</th>\n",
       "      <th>education</th>\n",
       "      <th>education_id</th>\n",
       "      <th>family_status</th>\n",
       "      <th>family_status_id</th>\n",
       "      <th>gender</th>\n",
       "      <th>income_type</th>\n",
       "      <th>debt</th>\n",
       "      <th>total_income</th>\n",
       "      <th>purpose</th>\n",
       "    </tr>\n",
       "  </thead>\n",
       "  <tbody>\n",
       "    <tr>\n",
       "      <th>10701</th>\n",
       "      <td>0</td>\n",
       "      <td>-2358.600502</td>\n",
       "      <td>24</td>\n",
       "      <td>неоконченное высшее</td>\n",
       "      <td>2</td>\n",
       "      <td>гражданский брак</td>\n",
       "      <td>1</td>\n",
       "      <td>XNA</td>\n",
       "      <td>компаньон</td>\n",
       "      <td>0</td>\n",
       "      <td>203905.157261</td>\n",
       "      <td>покупка недвижимости</td>\n",
       "    </tr>\n",
       "  </tbody>\n",
       "</table>\n",
       "</div>"
      ],
      "text/plain": [
       "       children  days_employed  dob_years            education  education_id  \\\n",
       "10701         0   -2358.600502         24  неоконченное высшее             2   \n",
       "\n",
       "          family_status  family_status_id gender income_type  debt  \\\n",
       "10701  гражданский брак                 1    XNA   компаньон     0   \n",
       "\n",
       "        total_income               purpose  \n",
       "10701  203905.157261  покупка недвижимости  "
      ]
     },
     "execution_count": 16,
     "metadata": {},
     "output_type": "execute_result"
    }
   ],
   "source": [
    "df[df.gender == 'XNA'] #вызываем строку с XNA в гендере"
   ]
  },
  {
   "cell_type": "code",
   "execution_count": 17,
   "metadata": {
    "ExecuteTime": {
     "end_time": "2022-02-06T14:31:03.321376Z",
     "start_time": "2022-02-06T14:31:03.290459Z"
    }
   },
   "outputs": [
    {
     "data": {
      "text/html": [
       "<div>\n",
       "<style scoped>\n",
       "    .dataframe tbody tr th:only-of-type {\n",
       "        vertical-align: middle;\n",
       "    }\n",
       "\n",
       "    .dataframe tbody tr th {\n",
       "        vertical-align: top;\n",
       "    }\n",
       "\n",
       "    .dataframe thead th {\n",
       "        text-align: right;\n",
       "    }\n",
       "</style>\n",
       "<table border=\"1\" class=\"dataframe\">\n",
       "  <thead>\n",
       "    <tr style=\"text-align: right;\">\n",
       "      <th></th>\n",
       "      <th>children</th>\n",
       "      <th>days_employed</th>\n",
       "      <th>dob_years</th>\n",
       "      <th>education</th>\n",
       "      <th>education_id</th>\n",
       "      <th>family_status</th>\n",
       "      <th>family_status_id</th>\n",
       "      <th>gender</th>\n",
       "      <th>income_type</th>\n",
       "      <th>debt</th>\n",
       "      <th>total_income</th>\n",
       "      <th>purpose</th>\n",
       "    </tr>\n",
       "  </thead>\n",
       "  <tbody>\n",
       "  </tbody>\n",
       "</table>\n",
       "</div>"
      ],
      "text/plain": [
       "Empty DataFrame\n",
       "Columns: [children, days_employed, dob_years, education, education_id, family_status, family_status_id, gender, income_type, debt, total_income, purpose]\n",
       "Index: []"
      ]
     },
     "execution_count": 17,
     "metadata": {},
     "output_type": "execute_result"
    }
   ],
   "source": [
    "df = df[df.gender != 'XNA']\n",
    "df[df.gender == 'XNA'] #возвращает пустой датафрейм"
   ]
  },
  {
   "cell_type": "markdown",
   "metadata": {},
   "source": [
    "Заменяем значения в `days_employed` на положительные с помощью модуля"
   ]
  },
  {
   "cell_type": "code",
   "execution_count": 18,
   "metadata": {
    "ExecuteTime": {
     "end_time": "2022-02-06T14:31:03.337333Z",
     "start_time": "2022-02-06T14:31:03.323372Z"
    }
   },
   "outputs": [
    {
     "data": {
      "text/html": [
       "<div>\n",
       "<style scoped>\n",
       "    .dataframe tbody tr th:only-of-type {\n",
       "        vertical-align: middle;\n",
       "    }\n",
       "\n",
       "    .dataframe tbody tr th {\n",
       "        vertical-align: top;\n",
       "    }\n",
       "\n",
       "    .dataframe thead th {\n",
       "        text-align: right;\n",
       "    }\n",
       "</style>\n",
       "<table border=\"1\" class=\"dataframe\">\n",
       "  <thead>\n",
       "    <tr style=\"text-align: right;\">\n",
       "      <th></th>\n",
       "      <th>children</th>\n",
       "      <th>days_employed</th>\n",
       "      <th>dob_years</th>\n",
       "      <th>education</th>\n",
       "      <th>education_id</th>\n",
       "      <th>family_status</th>\n",
       "      <th>family_status_id</th>\n",
       "      <th>gender</th>\n",
       "      <th>income_type</th>\n",
       "      <th>debt</th>\n",
       "      <th>total_income</th>\n",
       "      <th>purpose</th>\n",
       "    </tr>\n",
       "  </thead>\n",
       "  <tbody>\n",
       "    <tr>\n",
       "      <th>0</th>\n",
       "      <td>1</td>\n",
       "      <td>8437.673028</td>\n",
       "      <td>42</td>\n",
       "      <td>высшее</td>\n",
       "      <td>0</td>\n",
       "      <td>женат / замужем</td>\n",
       "      <td>0</td>\n",
       "      <td>F</td>\n",
       "      <td>сотрудник</td>\n",
       "      <td>0</td>\n",
       "      <td>253875.639453</td>\n",
       "      <td>покупка жилья</td>\n",
       "    </tr>\n",
       "    <tr>\n",
       "      <th>1</th>\n",
       "      <td>1</td>\n",
       "      <td>4024.803754</td>\n",
       "      <td>36</td>\n",
       "      <td>среднее</td>\n",
       "      <td>1</td>\n",
       "      <td>женат / замужем</td>\n",
       "      <td>0</td>\n",
       "      <td>F</td>\n",
       "      <td>сотрудник</td>\n",
       "      <td>0</td>\n",
       "      <td>112080.014102</td>\n",
       "      <td>приобретение автомобиля</td>\n",
       "    </tr>\n",
       "    <tr>\n",
       "      <th>2</th>\n",
       "      <td>0</td>\n",
       "      <td>5623.422610</td>\n",
       "      <td>33</td>\n",
       "      <td>Среднее</td>\n",
       "      <td>1</td>\n",
       "      <td>женат / замужем</td>\n",
       "      <td>0</td>\n",
       "      <td>M</td>\n",
       "      <td>сотрудник</td>\n",
       "      <td>0</td>\n",
       "      <td>145885.952297</td>\n",
       "      <td>покупка жилья</td>\n",
       "    </tr>\n",
       "    <tr>\n",
       "      <th>3</th>\n",
       "      <td>3</td>\n",
       "      <td>4124.747207</td>\n",
       "      <td>32</td>\n",
       "      <td>среднее</td>\n",
       "      <td>1</td>\n",
       "      <td>женат / замужем</td>\n",
       "      <td>0</td>\n",
       "      <td>M</td>\n",
       "      <td>сотрудник</td>\n",
       "      <td>0</td>\n",
       "      <td>267628.550329</td>\n",
       "      <td>дополнительное образование</td>\n",
       "    </tr>\n",
       "    <tr>\n",
       "      <th>4</th>\n",
       "      <td>0</td>\n",
       "      <td>340266.072047</td>\n",
       "      <td>53</td>\n",
       "      <td>среднее</td>\n",
       "      <td>1</td>\n",
       "      <td>гражданский брак</td>\n",
       "      <td>1</td>\n",
       "      <td>F</td>\n",
       "      <td>пенсионер</td>\n",
       "      <td>0</td>\n",
       "      <td>158616.077870</td>\n",
       "      <td>сыграть свадьбу</td>\n",
       "    </tr>\n",
       "  </tbody>\n",
       "</table>\n",
       "</div>"
      ],
      "text/plain": [
       "   children  days_employed  dob_years education  education_id  \\\n",
       "0         1    8437.673028         42    высшее             0   \n",
       "1         1    4024.803754         36   среднее             1   \n",
       "2         0    5623.422610         33   Среднее             1   \n",
       "3         3    4124.747207         32   среднее             1   \n",
       "4         0  340266.072047         53   среднее             1   \n",
       "\n",
       "      family_status  family_status_id gender income_type  debt   total_income  \\\n",
       "0   женат / замужем                 0      F   сотрудник     0  253875.639453   \n",
       "1   женат / замужем                 0      F   сотрудник     0  112080.014102   \n",
       "2   женат / замужем                 0      M   сотрудник     0  145885.952297   \n",
       "3   женат / замужем                 0      M   сотрудник     0  267628.550329   \n",
       "4  гражданский брак                 1      F   пенсионер     0  158616.077870   \n",
       "\n",
       "                      purpose  \n",
       "0               покупка жилья  \n",
       "1     приобретение автомобиля  \n",
       "2               покупка жилья  \n",
       "3  дополнительное образование  \n",
       "4             сыграть свадьбу  "
      ]
     },
     "execution_count": 18,
     "metadata": {},
     "output_type": "execute_result"
    }
   ],
   "source": [
    "df.days_employed = df.days_employed.abs() #Берем модуль от каждого значения и проверяем столбец\n",
    "df.head()                                                                         "
   ]
  },
  {
   "cell_type": "code",
   "execution_count": 19,
   "metadata": {
    "ExecuteTime": {
     "end_time": "2022-02-06T14:31:03.353290Z",
     "start_time": "2022-02-06T14:31:03.338330Z"
    }
   },
   "outputs": [
    {
     "data": {
      "text/plain": [
       "0"
      ]
     },
     "execution_count": 19,
     "metadata": {},
     "output_type": "execute_result"
    }
   ],
   "source": [
    "df.days_employed = df.days_employed.fillna(df.days_employed.median()) #Заменяем NaN на медианное значение по столбцу\n",
    "df.days_employed.isna().sum() #проверяем результат"
   ]
  },
  {
   "cell_type": "code",
   "execution_count": 20,
   "metadata": {
    "ExecuteTime": {
     "end_time": "2022-02-06T14:31:03.369247Z",
     "start_time": "2022-02-06T14:31:03.355285Z"
    }
   },
   "outputs": [
    {
     "data": {
      "text/plain": [
       "0"
      ]
     },
     "execution_count": 20,
     "metadata": {},
     "output_type": "execute_result"
    }
   ],
   "source": [
    "df.total_income = df.total_income.fillna(df.days_employed.median()) #Повторяем для столбца с доходом\n",
    "df.total_income.isna().sum() "
   ]
  },
  {
   "cell_type": "markdown",
   "metadata": {},
   "source": [
    "**Вывод**"
   ]
  },
  {
   "cell_type": "markdown",
   "metadata": {},
   "source": [
    "Мы удалили артефакт из gender и заменили отсутствующие значения в `days_employed` и `income_type` на медианные, чтобы не потерять 10% данных. Перед этим значения стажа были приведены к положительным"
   ]
  },
  {
   "cell_type": "markdown",
   "metadata": {},
   "source": [
    "### Замена типа данных"
   ]
  },
  {
   "cell_type": "markdown",
   "metadata": {},
   "source": [
    "Заменим типы данных столбцов `days_employed` и `total_income` с дробных на целые для лучшей визуализации"
   ]
  },
  {
   "cell_type": "code",
   "execution_count": 21,
   "metadata": {
    "ExecuteTime": {
     "end_time": "2022-02-06T14:31:03.401164Z",
     "start_time": "2022-02-06T14:31:03.370245Z"
    }
   },
   "outputs": [
    {
     "name": "stdout",
     "output_type": "stream",
     "text": [
      "<class 'pandas.core.frame.DataFrame'>\n",
      "Int64Index: 21524 entries, 0 to 21524\n",
      "Data columns (total 12 columns):\n",
      " #   Column            Non-Null Count  Dtype \n",
      "---  ------            --------------  ----- \n",
      " 0   children          21524 non-null  int64 \n",
      " 1   days_employed     21524 non-null  int32 \n",
      " 2   dob_years         21524 non-null  int64 \n",
      " 3   education         21524 non-null  object\n",
      " 4   education_id      21524 non-null  int64 \n",
      " 5   family_status     21524 non-null  object\n",
      " 6   family_status_id  21524 non-null  int64 \n",
      " 7   gender            21524 non-null  object\n",
      " 8   income_type       21524 non-null  object\n",
      " 9   debt              21524 non-null  int64 \n",
      " 10  total_income      21524 non-null  int32 \n",
      " 11  purpose           21524 non-null  object\n",
      "dtypes: int32(2), int64(5), object(5)\n",
      "memory usage: 2.0+ MB\n"
     ]
    }
   ],
   "source": [
    "df.days_employed = df.days_employed.astype('int')\n",
    "df.total_income = df.total_income.astype('int')\n",
    "df.info() #типы колонок стали int64"
   ]
  },
  {
   "cell_type": "code",
   "execution_count": 22,
   "metadata": {
    "ExecuteTime": {
     "end_time": "2022-02-06T14:31:03.417119Z",
     "start_time": "2022-02-06T14:31:03.402160Z"
    }
   },
   "outputs": [
    {
     "data": {
      "text/html": [
       "<div>\n",
       "<style scoped>\n",
       "    .dataframe tbody tr th:only-of-type {\n",
       "        vertical-align: middle;\n",
       "    }\n",
       "\n",
       "    .dataframe tbody tr th {\n",
       "        vertical-align: top;\n",
       "    }\n",
       "\n",
       "    .dataframe thead th {\n",
       "        text-align: right;\n",
       "    }\n",
       "</style>\n",
       "<table border=\"1\" class=\"dataframe\">\n",
       "  <thead>\n",
       "    <tr style=\"text-align: right;\">\n",
       "      <th></th>\n",
       "      <th>children</th>\n",
       "      <th>days_employed</th>\n",
       "      <th>dob_years</th>\n",
       "      <th>education</th>\n",
       "      <th>education_id</th>\n",
       "      <th>family_status</th>\n",
       "      <th>family_status_id</th>\n",
       "      <th>gender</th>\n",
       "      <th>income_type</th>\n",
       "      <th>debt</th>\n",
       "      <th>total_income</th>\n",
       "      <th>purpose</th>\n",
       "    </tr>\n",
       "  </thead>\n",
       "  <tbody>\n",
       "    <tr>\n",
       "      <th>0</th>\n",
       "      <td>1</td>\n",
       "      <td>8437</td>\n",
       "      <td>42</td>\n",
       "      <td>высшее</td>\n",
       "      <td>0</td>\n",
       "      <td>женат / замужем</td>\n",
       "      <td>0</td>\n",
       "      <td>F</td>\n",
       "      <td>сотрудник</td>\n",
       "      <td>0</td>\n",
       "      <td>253875</td>\n",
       "      <td>покупка жилья</td>\n",
       "    </tr>\n",
       "    <tr>\n",
       "      <th>1</th>\n",
       "      <td>1</td>\n",
       "      <td>4024</td>\n",
       "      <td>36</td>\n",
       "      <td>среднее</td>\n",
       "      <td>1</td>\n",
       "      <td>женат / замужем</td>\n",
       "      <td>0</td>\n",
       "      <td>F</td>\n",
       "      <td>сотрудник</td>\n",
       "      <td>0</td>\n",
       "      <td>112080</td>\n",
       "      <td>приобретение автомобиля</td>\n",
       "    </tr>\n",
       "    <tr>\n",
       "      <th>2</th>\n",
       "      <td>0</td>\n",
       "      <td>5623</td>\n",
       "      <td>33</td>\n",
       "      <td>Среднее</td>\n",
       "      <td>1</td>\n",
       "      <td>женат / замужем</td>\n",
       "      <td>0</td>\n",
       "      <td>M</td>\n",
       "      <td>сотрудник</td>\n",
       "      <td>0</td>\n",
       "      <td>145885</td>\n",
       "      <td>покупка жилья</td>\n",
       "    </tr>\n",
       "    <tr>\n",
       "      <th>3</th>\n",
       "      <td>3</td>\n",
       "      <td>4124</td>\n",
       "      <td>32</td>\n",
       "      <td>среднее</td>\n",
       "      <td>1</td>\n",
       "      <td>женат / замужем</td>\n",
       "      <td>0</td>\n",
       "      <td>M</td>\n",
       "      <td>сотрудник</td>\n",
       "      <td>0</td>\n",
       "      <td>267628</td>\n",
       "      <td>дополнительное образование</td>\n",
       "    </tr>\n",
       "    <tr>\n",
       "      <th>4</th>\n",
       "      <td>0</td>\n",
       "      <td>340266</td>\n",
       "      <td>53</td>\n",
       "      <td>среднее</td>\n",
       "      <td>1</td>\n",
       "      <td>гражданский брак</td>\n",
       "      <td>1</td>\n",
       "      <td>F</td>\n",
       "      <td>пенсионер</td>\n",
       "      <td>0</td>\n",
       "      <td>158616</td>\n",
       "      <td>сыграть свадьбу</td>\n",
       "    </tr>\n",
       "  </tbody>\n",
       "</table>\n",
       "</div>"
      ],
      "text/plain": [
       "   children  days_employed  dob_years education  education_id  \\\n",
       "0         1           8437         42    высшее             0   \n",
       "1         1           4024         36   среднее             1   \n",
       "2         0           5623         33   Среднее             1   \n",
       "3         3           4124         32   среднее             1   \n",
       "4         0         340266         53   среднее             1   \n",
       "\n",
       "      family_status  family_status_id gender income_type  debt  total_income  \\\n",
       "0   женат / замужем                 0      F   сотрудник     0        253875   \n",
       "1   женат / замужем                 0      F   сотрудник     0        112080   \n",
       "2   женат / замужем                 0      M   сотрудник     0        145885   \n",
       "3   женат / замужем                 0      M   сотрудник     0        267628   \n",
       "4  гражданский брак                 1      F   пенсионер     0        158616   \n",
       "\n",
       "                      purpose  \n",
       "0               покупка жилья  \n",
       "1     приобретение автомобиля  \n",
       "2               покупка жилья  \n",
       "3  дополнительное образование  \n",
       "4             сыграть свадьбу  "
      ]
     },
     "execution_count": 22,
     "metadata": {},
     "output_type": "execute_result"
    }
   ],
   "source": [
    "df.head() #теперь данные по стажу и доходам лучше читаются"
   ]
  },
  {
   "cell_type": "markdown",
   "metadata": {},
   "source": [
    "**Вывод**"
   ]
  },
  {
   "cell_type": "markdown",
   "metadata": {},
   "source": [
    "Мы изменили тип данных в столбцах `days_employed` и `total_income` на `int`. Теперь данные лучше воспринимаются и с ними легче работать."
   ]
  },
  {
   "cell_type": "markdown",
   "metadata": {},
   "source": [
    "### Обработка дубликатов"
   ]
  },
  {
   "cell_type": "markdown",
   "metadata": {},
   "source": [
    "В начале работы мы обнаружили как полные дубликаты, так и неявные в столбце education. Сначала обработаем полные дубликаты"
   ]
  },
  {
   "cell_type": "code",
   "execution_count": 23,
   "metadata": {
    "ExecuteTime": {
     "end_time": "2022-02-06T14:31:03.464992Z",
     "start_time": "2022-02-06T14:31:03.419115Z"
    }
   },
   "outputs": [
    {
     "data": {
      "text/html": [
       "<div>\n",
       "<style scoped>\n",
       "    .dataframe tbody tr th:only-of-type {\n",
       "        vertical-align: middle;\n",
       "    }\n",
       "\n",
       "    .dataframe tbody tr th {\n",
       "        vertical-align: top;\n",
       "    }\n",
       "\n",
       "    .dataframe thead th {\n",
       "        text-align: right;\n",
       "    }\n",
       "</style>\n",
       "<table border=\"1\" class=\"dataframe\">\n",
       "  <thead>\n",
       "    <tr style=\"text-align: right;\">\n",
       "      <th></th>\n",
       "      <th>children</th>\n",
       "      <th>days_employed</th>\n",
       "      <th>dob_years</th>\n",
       "      <th>education</th>\n",
       "      <th>education_id</th>\n",
       "      <th>family_status</th>\n",
       "      <th>family_status_id</th>\n",
       "      <th>gender</th>\n",
       "      <th>income_type</th>\n",
       "      <th>debt</th>\n",
       "      <th>total_income</th>\n",
       "      <th>purpose</th>\n",
       "    </tr>\n",
       "  </thead>\n",
       "  <tbody>\n",
       "    <tr>\n",
       "      <th>2849</th>\n",
       "      <td>0</td>\n",
       "      <td>2194</td>\n",
       "      <td>41</td>\n",
       "      <td>среднее</td>\n",
       "      <td>1</td>\n",
       "      <td>женат / замужем</td>\n",
       "      <td>0</td>\n",
       "      <td>F</td>\n",
       "      <td>сотрудник</td>\n",
       "      <td>0</td>\n",
       "      <td>2194</td>\n",
       "      <td>покупка жилья для семьи</td>\n",
       "    </tr>\n",
       "    <tr>\n",
       "      <th>4182</th>\n",
       "      <td>1</td>\n",
       "      <td>2194</td>\n",
       "      <td>34</td>\n",
       "      <td>ВЫСШЕЕ</td>\n",
       "      <td>0</td>\n",
       "      <td>гражданский брак</td>\n",
       "      <td>1</td>\n",
       "      <td>F</td>\n",
       "      <td>сотрудник</td>\n",
       "      <td>0</td>\n",
       "      <td>2194</td>\n",
       "      <td>свадьба</td>\n",
       "    </tr>\n",
       "    <tr>\n",
       "      <th>4851</th>\n",
       "      <td>0</td>\n",
       "      <td>2194</td>\n",
       "      <td>60</td>\n",
       "      <td>среднее</td>\n",
       "      <td>1</td>\n",
       "      <td>гражданский брак</td>\n",
       "      <td>1</td>\n",
       "      <td>F</td>\n",
       "      <td>пенсионер</td>\n",
       "      <td>0</td>\n",
       "      <td>2194</td>\n",
       "      <td>свадьба</td>\n",
       "    </tr>\n",
       "    <tr>\n",
       "      <th>5557</th>\n",
       "      <td>0</td>\n",
       "      <td>2194</td>\n",
       "      <td>58</td>\n",
       "      <td>среднее</td>\n",
       "      <td>1</td>\n",
       "      <td>гражданский брак</td>\n",
       "      <td>1</td>\n",
       "      <td>F</td>\n",
       "      <td>пенсионер</td>\n",
       "      <td>0</td>\n",
       "      <td>2194</td>\n",
       "      <td>сыграть свадьбу</td>\n",
       "    </tr>\n",
       "    <tr>\n",
       "      <th>7808</th>\n",
       "      <td>0</td>\n",
       "      <td>2194</td>\n",
       "      <td>57</td>\n",
       "      <td>среднее</td>\n",
       "      <td>1</td>\n",
       "      <td>гражданский брак</td>\n",
       "      <td>1</td>\n",
       "      <td>F</td>\n",
       "      <td>пенсионер</td>\n",
       "      <td>0</td>\n",
       "      <td>2194</td>\n",
       "      <td>на проведение свадьбы</td>\n",
       "    </tr>\n",
       "    <tr>\n",
       "      <th>8583</th>\n",
       "      <td>0</td>\n",
       "      <td>2194</td>\n",
       "      <td>58</td>\n",
       "      <td>высшее</td>\n",
       "      <td>0</td>\n",
       "      <td>не женат / не замужем</td>\n",
       "      <td>4</td>\n",
       "      <td>F</td>\n",
       "      <td>пенсионер</td>\n",
       "      <td>0</td>\n",
       "      <td>2194</td>\n",
       "      <td>дополнительное образование</td>\n",
       "    </tr>\n",
       "    <tr>\n",
       "      <th>9238</th>\n",
       "      <td>2</td>\n",
       "      <td>2194</td>\n",
       "      <td>34</td>\n",
       "      <td>среднее</td>\n",
       "      <td>1</td>\n",
       "      <td>женат / замужем</td>\n",
       "      <td>0</td>\n",
       "      <td>F</td>\n",
       "      <td>сотрудник</td>\n",
       "      <td>0</td>\n",
       "      <td>2194</td>\n",
       "      <td>покупка жилья для сдачи</td>\n",
       "    </tr>\n",
       "    <tr>\n",
       "      <th>9528</th>\n",
       "      <td>0</td>\n",
       "      <td>2194</td>\n",
       "      <td>66</td>\n",
       "      <td>среднее</td>\n",
       "      <td>1</td>\n",
       "      <td>вдовец / вдова</td>\n",
       "      <td>2</td>\n",
       "      <td>F</td>\n",
       "      <td>пенсионер</td>\n",
       "      <td>0</td>\n",
       "      <td>2194</td>\n",
       "      <td>операции со своей недвижимостью</td>\n",
       "    </tr>\n",
       "    <tr>\n",
       "      <th>9627</th>\n",
       "      <td>0</td>\n",
       "      <td>2194</td>\n",
       "      <td>56</td>\n",
       "      <td>среднее</td>\n",
       "      <td>1</td>\n",
       "      <td>женат / замужем</td>\n",
       "      <td>0</td>\n",
       "      <td>F</td>\n",
       "      <td>пенсионер</td>\n",
       "      <td>0</td>\n",
       "      <td>2194</td>\n",
       "      <td>операции со своей недвижимостью</td>\n",
       "    </tr>\n",
       "    <tr>\n",
       "      <th>10462</th>\n",
       "      <td>0</td>\n",
       "      <td>2194</td>\n",
       "      <td>62</td>\n",
       "      <td>среднее</td>\n",
       "      <td>1</td>\n",
       "      <td>женат / замужем</td>\n",
       "      <td>0</td>\n",
       "      <td>F</td>\n",
       "      <td>пенсионер</td>\n",
       "      <td>0</td>\n",
       "      <td>2194</td>\n",
       "      <td>покупка коммерческой недвижимости</td>\n",
       "    </tr>\n",
       "    <tr>\n",
       "      <th>10697</th>\n",
       "      <td>0</td>\n",
       "      <td>2194</td>\n",
       "      <td>40</td>\n",
       "      <td>среднее</td>\n",
       "      <td>1</td>\n",
       "      <td>гражданский брак</td>\n",
       "      <td>1</td>\n",
       "      <td>F</td>\n",
       "      <td>компаньон</td>\n",
       "      <td>0</td>\n",
       "      <td>2194</td>\n",
       "      <td>сыграть свадьбу</td>\n",
       "    </tr>\n",
       "    <tr>\n",
       "      <th>10864</th>\n",
       "      <td>0</td>\n",
       "      <td>2194</td>\n",
       "      <td>62</td>\n",
       "      <td>среднее</td>\n",
       "      <td>1</td>\n",
       "      <td>женат / замужем</td>\n",
       "      <td>0</td>\n",
       "      <td>F</td>\n",
       "      <td>пенсионер</td>\n",
       "      <td>0</td>\n",
       "      <td>2194</td>\n",
       "      <td>ремонт жилью</td>\n",
       "    </tr>\n",
       "    <tr>\n",
       "      <th>10994</th>\n",
       "      <td>0</td>\n",
       "      <td>2194</td>\n",
       "      <td>62</td>\n",
       "      <td>среднее</td>\n",
       "      <td>1</td>\n",
       "      <td>женат / замужем</td>\n",
       "      <td>0</td>\n",
       "      <td>F</td>\n",
       "      <td>пенсионер</td>\n",
       "      <td>0</td>\n",
       "      <td>2194</td>\n",
       "      <td>ремонт жилью</td>\n",
       "    </tr>\n",
       "    <tr>\n",
       "      <th>11791</th>\n",
       "      <td>0</td>\n",
       "      <td>2194</td>\n",
       "      <td>47</td>\n",
       "      <td>среднее</td>\n",
       "      <td>1</td>\n",
       "      <td>женат / замужем</td>\n",
       "      <td>0</td>\n",
       "      <td>F</td>\n",
       "      <td>сотрудник</td>\n",
       "      <td>0</td>\n",
       "      <td>2194</td>\n",
       "      <td>строительство недвижимости</td>\n",
       "    </tr>\n",
       "    <tr>\n",
       "      <th>12373</th>\n",
       "      <td>0</td>\n",
       "      <td>2194</td>\n",
       "      <td>58</td>\n",
       "      <td>среднее</td>\n",
       "      <td>1</td>\n",
       "      <td>женат / замужем</td>\n",
       "      <td>0</td>\n",
       "      <td>M</td>\n",
       "      <td>сотрудник</td>\n",
       "      <td>0</td>\n",
       "      <td>2194</td>\n",
       "      <td>покупка недвижимости</td>\n",
       "    </tr>\n",
       "    <tr>\n",
       "      <th>12375</th>\n",
       "      <td>1</td>\n",
       "      <td>2194</td>\n",
       "      <td>37</td>\n",
       "      <td>среднее</td>\n",
       "      <td>1</td>\n",
       "      <td>женат / замужем</td>\n",
       "      <td>0</td>\n",
       "      <td>F</td>\n",
       "      <td>сотрудник</td>\n",
       "      <td>0</td>\n",
       "      <td>2194</td>\n",
       "      <td>покупка недвижимости</td>\n",
       "    </tr>\n",
       "    <tr>\n",
       "      <th>12736</th>\n",
       "      <td>0</td>\n",
       "      <td>2194</td>\n",
       "      <td>59</td>\n",
       "      <td>среднее</td>\n",
       "      <td>1</td>\n",
       "      <td>женат / замужем</td>\n",
       "      <td>0</td>\n",
       "      <td>F</td>\n",
       "      <td>пенсионер</td>\n",
       "      <td>0</td>\n",
       "      <td>2194</td>\n",
       "      <td>заняться образованием</td>\n",
       "    </tr>\n",
       "    <tr>\n",
       "      <th>13025</th>\n",
       "      <td>1</td>\n",
       "      <td>2194</td>\n",
       "      <td>44</td>\n",
       "      <td>среднее</td>\n",
       "      <td>1</td>\n",
       "      <td>женат / замужем</td>\n",
       "      <td>0</td>\n",
       "      <td>F</td>\n",
       "      <td>сотрудник</td>\n",
       "      <td>0</td>\n",
       "      <td>2194</td>\n",
       "      <td>сделка с подержанным автомобилем</td>\n",
       "    </tr>\n",
       "    <tr>\n",
       "      <th>13639</th>\n",
       "      <td>0</td>\n",
       "      <td>2194</td>\n",
       "      <td>64</td>\n",
       "      <td>среднее</td>\n",
       "      <td>1</td>\n",
       "      <td>женат / замужем</td>\n",
       "      <td>0</td>\n",
       "      <td>F</td>\n",
       "      <td>пенсионер</td>\n",
       "      <td>0</td>\n",
       "      <td>2194</td>\n",
       "      <td>автомобиль</td>\n",
       "    </tr>\n",
       "    <tr>\n",
       "      <th>13773</th>\n",
       "      <td>0</td>\n",
       "      <td>2194</td>\n",
       "      <td>35</td>\n",
       "      <td>среднее</td>\n",
       "      <td>1</td>\n",
       "      <td>гражданский брак</td>\n",
       "      <td>1</td>\n",
       "      <td>F</td>\n",
       "      <td>сотрудник</td>\n",
       "      <td>0</td>\n",
       "      <td>2194</td>\n",
       "      <td>сыграть свадьбу</td>\n",
       "    </tr>\n",
       "    <tr>\n",
       "      <th>13878</th>\n",
       "      <td>1</td>\n",
       "      <td>2194</td>\n",
       "      <td>31</td>\n",
       "      <td>среднее</td>\n",
       "      <td>1</td>\n",
       "      <td>женат / замужем</td>\n",
       "      <td>0</td>\n",
       "      <td>F</td>\n",
       "      <td>компаньон</td>\n",
       "      <td>0</td>\n",
       "      <td>2194</td>\n",
       "      <td>покупка жилья</td>\n",
       "    </tr>\n",
       "    <tr>\n",
       "      <th>13942</th>\n",
       "      <td>0</td>\n",
       "      <td>2194</td>\n",
       "      <td>44</td>\n",
       "      <td>среднее</td>\n",
       "      <td>1</td>\n",
       "      <td>женат / замужем</td>\n",
       "      <td>0</td>\n",
       "      <td>F</td>\n",
       "      <td>сотрудник</td>\n",
       "      <td>0</td>\n",
       "      <td>2194</td>\n",
       "      <td>приобретение автомобиля</td>\n",
       "    </tr>\n",
       "    <tr>\n",
       "      <th>14432</th>\n",
       "      <td>2</td>\n",
       "      <td>2194</td>\n",
       "      <td>36</td>\n",
       "      <td>высшее</td>\n",
       "      <td>0</td>\n",
       "      <td>женат / замужем</td>\n",
       "      <td>0</td>\n",
       "      <td>F</td>\n",
       "      <td>госслужащий</td>\n",
       "      <td>0</td>\n",
       "      <td>2194</td>\n",
       "      <td>получение образования</td>\n",
       "    </tr>\n",
       "    <tr>\n",
       "      <th>14832</th>\n",
       "      <td>0</td>\n",
       "      <td>2194</td>\n",
       "      <td>50</td>\n",
       "      <td>среднее</td>\n",
       "      <td>1</td>\n",
       "      <td>не женат / не замужем</td>\n",
       "      <td>4</td>\n",
       "      <td>F</td>\n",
       "      <td>сотрудник</td>\n",
       "      <td>0</td>\n",
       "      <td>2194</td>\n",
       "      <td>недвижимость</td>\n",
       "    </tr>\n",
       "    <tr>\n",
       "      <th>15091</th>\n",
       "      <td>0</td>\n",
       "      <td>2194</td>\n",
       "      <td>58</td>\n",
       "      <td>среднее</td>\n",
       "      <td>1</td>\n",
       "      <td>гражданский брак</td>\n",
       "      <td>1</td>\n",
       "      <td>M</td>\n",
       "      <td>сотрудник</td>\n",
       "      <td>0</td>\n",
       "      <td>2194</td>\n",
       "      <td>на проведение свадьбы</td>\n",
       "    </tr>\n",
       "    <tr>\n",
       "      <th>15188</th>\n",
       "      <td>0</td>\n",
       "      <td>2194</td>\n",
       "      <td>60</td>\n",
       "      <td>среднее</td>\n",
       "      <td>1</td>\n",
       "      <td>женат / замужем</td>\n",
       "      <td>0</td>\n",
       "      <td>M</td>\n",
       "      <td>сотрудник</td>\n",
       "      <td>0</td>\n",
       "      <td>2194</td>\n",
       "      <td>покупка недвижимости</td>\n",
       "    </tr>\n",
       "    <tr>\n",
       "      <th>15273</th>\n",
       "      <td>0</td>\n",
       "      <td>2194</td>\n",
       "      <td>57</td>\n",
       "      <td>среднее</td>\n",
       "      <td>1</td>\n",
       "      <td>гражданский брак</td>\n",
       "      <td>1</td>\n",
       "      <td>F</td>\n",
       "      <td>пенсионер</td>\n",
       "      <td>0</td>\n",
       "      <td>2194</td>\n",
       "      <td>свадьба</td>\n",
       "    </tr>\n",
       "    <tr>\n",
       "      <th>16176</th>\n",
       "      <td>0</td>\n",
       "      <td>2194</td>\n",
       "      <td>47</td>\n",
       "      <td>среднее</td>\n",
       "      <td>1</td>\n",
       "      <td>женат / замужем</td>\n",
       "      <td>0</td>\n",
       "      <td>F</td>\n",
       "      <td>сотрудник</td>\n",
       "      <td>0</td>\n",
       "      <td>2194</td>\n",
       "      <td>ремонт жилью</td>\n",
       "    </tr>\n",
       "    <tr>\n",
       "      <th>16378</th>\n",
       "      <td>0</td>\n",
       "      <td>2194</td>\n",
       "      <td>46</td>\n",
       "      <td>среднее</td>\n",
       "      <td>1</td>\n",
       "      <td>женат / замужем</td>\n",
       "      <td>0</td>\n",
       "      <td>F</td>\n",
       "      <td>сотрудник</td>\n",
       "      <td>0</td>\n",
       "      <td>2194</td>\n",
       "      <td>высшее образование</td>\n",
       "    </tr>\n",
       "    <tr>\n",
       "      <th>16902</th>\n",
       "      <td>2</td>\n",
       "      <td>2194</td>\n",
       "      <td>39</td>\n",
       "      <td>среднее</td>\n",
       "      <td>1</td>\n",
       "      <td>гражданский брак</td>\n",
       "      <td>1</td>\n",
       "      <td>F</td>\n",
       "      <td>сотрудник</td>\n",
       "      <td>0</td>\n",
       "      <td>2194</td>\n",
       "      <td>сыграть свадьбу</td>\n",
       "    </tr>\n",
       "    <tr>\n",
       "      <th>16904</th>\n",
       "      <td>1</td>\n",
       "      <td>2194</td>\n",
       "      <td>32</td>\n",
       "      <td>высшее</td>\n",
       "      <td>0</td>\n",
       "      <td>женат / замужем</td>\n",
       "      <td>0</td>\n",
       "      <td>F</td>\n",
       "      <td>сотрудник</td>\n",
       "      <td>0</td>\n",
       "      <td>2194</td>\n",
       "      <td>на покупку подержанного автомобиля</td>\n",
       "    </tr>\n",
       "    <tr>\n",
       "      <th>17379</th>\n",
       "      <td>0</td>\n",
       "      <td>2194</td>\n",
       "      <td>54</td>\n",
       "      <td>высшее</td>\n",
       "      <td>0</td>\n",
       "      <td>женат / замужем</td>\n",
       "      <td>0</td>\n",
       "      <td>M</td>\n",
       "      <td>компаньон</td>\n",
       "      <td>0</td>\n",
       "      <td>2194</td>\n",
       "      <td>операции с коммерческой недвижимостью</td>\n",
       "    </tr>\n",
       "    <tr>\n",
       "      <th>17755</th>\n",
       "      <td>1</td>\n",
       "      <td>2194</td>\n",
       "      <td>43</td>\n",
       "      <td>среднее</td>\n",
       "      <td>1</td>\n",
       "      <td>женат / замужем</td>\n",
       "      <td>0</td>\n",
       "      <td>M</td>\n",
       "      <td>сотрудник</td>\n",
       "      <td>0</td>\n",
       "      <td>2194</td>\n",
       "      <td>заняться образованием</td>\n",
       "    </tr>\n",
       "    <tr>\n",
       "      <th>17774</th>\n",
       "      <td>1</td>\n",
       "      <td>2194</td>\n",
       "      <td>40</td>\n",
       "      <td>среднее</td>\n",
       "      <td>1</td>\n",
       "      <td>гражданский брак</td>\n",
       "      <td>1</td>\n",
       "      <td>F</td>\n",
       "      <td>компаньон</td>\n",
       "      <td>0</td>\n",
       "      <td>2194</td>\n",
       "      <td>строительство жилой недвижимости</td>\n",
       "    </tr>\n",
       "    <tr>\n",
       "      <th>18328</th>\n",
       "      <td>0</td>\n",
       "      <td>2194</td>\n",
       "      <td>29</td>\n",
       "      <td>высшее</td>\n",
       "      <td>0</td>\n",
       "      <td>женат / замужем</td>\n",
       "      <td>0</td>\n",
       "      <td>M</td>\n",
       "      <td>сотрудник</td>\n",
       "      <td>0</td>\n",
       "      <td>2194</td>\n",
       "      <td>покупка жилой недвижимости</td>\n",
       "    </tr>\n",
       "    <tr>\n",
       "      <th>18349</th>\n",
       "      <td>1</td>\n",
       "      <td>2194</td>\n",
       "      <td>30</td>\n",
       "      <td>высшее</td>\n",
       "      <td>0</td>\n",
       "      <td>женат / замужем</td>\n",
       "      <td>0</td>\n",
       "      <td>F</td>\n",
       "      <td>госслужащий</td>\n",
       "      <td>0</td>\n",
       "      <td>2194</td>\n",
       "      <td>покупка жилья для семьи</td>\n",
       "    </tr>\n",
       "    <tr>\n",
       "      <th>18428</th>\n",
       "      <td>0</td>\n",
       "      <td>2194</td>\n",
       "      <td>64</td>\n",
       "      <td>среднее</td>\n",
       "      <td>1</td>\n",
       "      <td>женат / замужем</td>\n",
       "      <td>0</td>\n",
       "      <td>F</td>\n",
       "      <td>пенсионер</td>\n",
       "      <td>0</td>\n",
       "      <td>2194</td>\n",
       "      <td>жилье</td>\n",
       "    </tr>\n",
       "    <tr>\n",
       "      <th>18521</th>\n",
       "      <td>0</td>\n",
       "      <td>2194</td>\n",
       "      <td>56</td>\n",
       "      <td>среднее</td>\n",
       "      <td>1</td>\n",
       "      <td>гражданский брак</td>\n",
       "      <td>1</td>\n",
       "      <td>F</td>\n",
       "      <td>сотрудник</td>\n",
       "      <td>0</td>\n",
       "      <td>2194</td>\n",
       "      <td>сыграть свадьбу</td>\n",
       "    </tr>\n",
       "    <tr>\n",
       "      <th>18563</th>\n",
       "      <td>0</td>\n",
       "      <td>2194</td>\n",
       "      <td>54</td>\n",
       "      <td>среднее</td>\n",
       "      <td>1</td>\n",
       "      <td>женат / замужем</td>\n",
       "      <td>0</td>\n",
       "      <td>F</td>\n",
       "      <td>сотрудник</td>\n",
       "      <td>0</td>\n",
       "      <td>2194</td>\n",
       "      <td>операции со своей недвижимостью</td>\n",
       "    </tr>\n",
       "    <tr>\n",
       "      <th>18755</th>\n",
       "      <td>0</td>\n",
       "      <td>2194</td>\n",
       "      <td>58</td>\n",
       "      <td>среднее</td>\n",
       "      <td>1</td>\n",
       "      <td>женат / замужем</td>\n",
       "      <td>0</td>\n",
       "      <td>F</td>\n",
       "      <td>пенсионер</td>\n",
       "      <td>0</td>\n",
       "      <td>2194</td>\n",
       "      <td>заняться образованием</td>\n",
       "    </tr>\n",
       "    <tr>\n",
       "      <th>19041</th>\n",
       "      <td>0</td>\n",
       "      <td>2194</td>\n",
       "      <td>56</td>\n",
       "      <td>среднее</td>\n",
       "      <td>1</td>\n",
       "      <td>гражданский брак</td>\n",
       "      <td>1</td>\n",
       "      <td>F</td>\n",
       "      <td>сотрудник</td>\n",
       "      <td>0</td>\n",
       "      <td>2194</td>\n",
       "      <td>на проведение свадьбы</td>\n",
       "    </tr>\n",
       "    <tr>\n",
       "      <th>19184</th>\n",
       "      <td>0</td>\n",
       "      <td>2194</td>\n",
       "      <td>46</td>\n",
       "      <td>среднее</td>\n",
       "      <td>1</td>\n",
       "      <td>женат / замужем</td>\n",
       "      <td>0</td>\n",
       "      <td>F</td>\n",
       "      <td>сотрудник</td>\n",
       "      <td>0</td>\n",
       "      <td>2194</td>\n",
       "      <td>свой автомобиль</td>\n",
       "    </tr>\n",
       "    <tr>\n",
       "      <th>19321</th>\n",
       "      <td>0</td>\n",
       "      <td>2194</td>\n",
       "      <td>23</td>\n",
       "      <td>среднее</td>\n",
       "      <td>1</td>\n",
       "      <td>не женат / не замужем</td>\n",
       "      <td>4</td>\n",
       "      <td>F</td>\n",
       "      <td>сотрудник</td>\n",
       "      <td>0</td>\n",
       "      <td>2194</td>\n",
       "      <td>сделка с подержанным автомобилем</td>\n",
       "    </tr>\n",
       "    <tr>\n",
       "      <th>19387</th>\n",
       "      <td>0</td>\n",
       "      <td>2194</td>\n",
       "      <td>38</td>\n",
       "      <td>высшее</td>\n",
       "      <td>0</td>\n",
       "      <td>гражданский брак</td>\n",
       "      <td>1</td>\n",
       "      <td>F</td>\n",
       "      <td>компаньон</td>\n",
       "      <td>0</td>\n",
       "      <td>2194</td>\n",
       "      <td>на проведение свадьбы</td>\n",
       "    </tr>\n",
       "    <tr>\n",
       "      <th>19688</th>\n",
       "      <td>0</td>\n",
       "      <td>2194</td>\n",
       "      <td>61</td>\n",
       "      <td>среднее</td>\n",
       "      <td>1</td>\n",
       "      <td>женат / замужем</td>\n",
       "      <td>0</td>\n",
       "      <td>F</td>\n",
       "      <td>пенсионер</td>\n",
       "      <td>0</td>\n",
       "      <td>2194</td>\n",
       "      <td>операции с недвижимостью</td>\n",
       "    </tr>\n",
       "    <tr>\n",
       "      <th>19832</th>\n",
       "      <td>0</td>\n",
       "      <td>2194</td>\n",
       "      <td>48</td>\n",
       "      <td>среднее</td>\n",
       "      <td>1</td>\n",
       "      <td>женат / замужем</td>\n",
       "      <td>0</td>\n",
       "      <td>F</td>\n",
       "      <td>сотрудник</td>\n",
       "      <td>0</td>\n",
       "      <td>2194</td>\n",
       "      <td>ремонт жилью</td>\n",
       "    </tr>\n",
       "    <tr>\n",
       "      <th>19946</th>\n",
       "      <td>0</td>\n",
       "      <td>2194</td>\n",
       "      <td>57</td>\n",
       "      <td>среднее</td>\n",
       "      <td>1</td>\n",
       "      <td>женат / замужем</td>\n",
       "      <td>0</td>\n",
       "      <td>F</td>\n",
       "      <td>сотрудник</td>\n",
       "      <td>0</td>\n",
       "      <td>2194</td>\n",
       "      <td>сделка с подержанным автомобилем</td>\n",
       "    </tr>\n",
       "    <tr>\n",
       "      <th>20116</th>\n",
       "      <td>0</td>\n",
       "      <td>2194</td>\n",
       "      <td>57</td>\n",
       "      <td>среднее</td>\n",
       "      <td>1</td>\n",
       "      <td>гражданский брак</td>\n",
       "      <td>1</td>\n",
       "      <td>M</td>\n",
       "      <td>пенсионер</td>\n",
       "      <td>0</td>\n",
       "      <td>2194</td>\n",
       "      <td>свадьба</td>\n",
       "    </tr>\n",
       "    <tr>\n",
       "      <th>20165</th>\n",
       "      <td>0</td>\n",
       "      <td>2194</td>\n",
       "      <td>42</td>\n",
       "      <td>среднее</td>\n",
       "      <td>1</td>\n",
       "      <td>женат / замужем</td>\n",
       "      <td>0</td>\n",
       "      <td>F</td>\n",
       "      <td>сотрудник</td>\n",
       "      <td>0</td>\n",
       "      <td>2194</td>\n",
       "      <td>покупка жилья для семьи</td>\n",
       "    </tr>\n",
       "    <tr>\n",
       "      <th>20702</th>\n",
       "      <td>0</td>\n",
       "      <td>2194</td>\n",
       "      <td>64</td>\n",
       "      <td>среднее</td>\n",
       "      <td>1</td>\n",
       "      <td>женат / замужем</td>\n",
       "      <td>0</td>\n",
       "      <td>F</td>\n",
       "      <td>пенсионер</td>\n",
       "      <td>0</td>\n",
       "      <td>2194</td>\n",
       "      <td>дополнительное образование</td>\n",
       "    </tr>\n",
       "    <tr>\n",
       "      <th>21032</th>\n",
       "      <td>0</td>\n",
       "      <td>2194</td>\n",
       "      <td>60</td>\n",
       "      <td>среднее</td>\n",
       "      <td>1</td>\n",
       "      <td>женат / замужем</td>\n",
       "      <td>0</td>\n",
       "      <td>F</td>\n",
       "      <td>пенсионер</td>\n",
       "      <td>0</td>\n",
       "      <td>2194</td>\n",
       "      <td>заняться образованием</td>\n",
       "    </tr>\n",
       "    <tr>\n",
       "      <th>21132</th>\n",
       "      <td>0</td>\n",
       "      <td>2194</td>\n",
       "      <td>47</td>\n",
       "      <td>среднее</td>\n",
       "      <td>1</td>\n",
       "      <td>женат / замужем</td>\n",
       "      <td>0</td>\n",
       "      <td>F</td>\n",
       "      <td>сотрудник</td>\n",
       "      <td>0</td>\n",
       "      <td>2194</td>\n",
       "      <td>ремонт жилью</td>\n",
       "    </tr>\n",
       "    <tr>\n",
       "      <th>21281</th>\n",
       "      <td>1</td>\n",
       "      <td>2194</td>\n",
       "      <td>30</td>\n",
       "      <td>высшее</td>\n",
       "      <td>0</td>\n",
       "      <td>женат / замужем</td>\n",
       "      <td>0</td>\n",
       "      <td>F</td>\n",
       "      <td>сотрудник</td>\n",
       "      <td>0</td>\n",
       "      <td>2194</td>\n",
       "      <td>покупка коммерческой недвижимости</td>\n",
       "    </tr>\n",
       "    <tr>\n",
       "      <th>21415</th>\n",
       "      <td>0</td>\n",
       "      <td>2194</td>\n",
       "      <td>54</td>\n",
       "      <td>среднее</td>\n",
       "      <td>1</td>\n",
       "      <td>женат / замужем</td>\n",
       "      <td>0</td>\n",
       "      <td>F</td>\n",
       "      <td>пенсионер</td>\n",
       "      <td>0</td>\n",
       "      <td>2194</td>\n",
       "      <td>операции с жильем</td>\n",
       "    </tr>\n",
       "  </tbody>\n",
       "</table>\n",
       "</div>"
      ],
      "text/plain": [
       "       children  days_employed  dob_years education  education_id  \\\n",
       "2849          0           2194         41   среднее             1   \n",
       "4182          1           2194         34    ВЫСШЕЕ             0   \n",
       "4851          0           2194         60   среднее             1   \n",
       "5557          0           2194         58   среднее             1   \n",
       "7808          0           2194         57   среднее             1   \n",
       "8583          0           2194         58    высшее             0   \n",
       "9238          2           2194         34   среднее             1   \n",
       "9528          0           2194         66   среднее             1   \n",
       "9627          0           2194         56   среднее             1   \n",
       "10462         0           2194         62   среднее             1   \n",
       "10697         0           2194         40   среднее             1   \n",
       "10864         0           2194         62   среднее             1   \n",
       "10994         0           2194         62   среднее             1   \n",
       "11791         0           2194         47   среднее             1   \n",
       "12373         0           2194         58   среднее             1   \n",
       "12375         1           2194         37   среднее             1   \n",
       "12736         0           2194         59   среднее             1   \n",
       "13025         1           2194         44   среднее             1   \n",
       "13639         0           2194         64   среднее             1   \n",
       "13773         0           2194         35   среднее             1   \n",
       "13878         1           2194         31   среднее             1   \n",
       "13942         0           2194         44   среднее             1   \n",
       "14432         2           2194         36    высшее             0   \n",
       "14832         0           2194         50   среднее             1   \n",
       "15091         0           2194         58   среднее             1   \n",
       "15188         0           2194         60   среднее             1   \n",
       "15273         0           2194         57   среднее             1   \n",
       "16176         0           2194         47   среднее             1   \n",
       "16378         0           2194         46   среднее             1   \n",
       "16902         2           2194         39   среднее             1   \n",
       "16904         1           2194         32    высшее             0   \n",
       "17379         0           2194         54    высшее             0   \n",
       "17755         1           2194         43   среднее             1   \n",
       "17774         1           2194         40   среднее             1   \n",
       "18328         0           2194         29    высшее             0   \n",
       "18349         1           2194         30    высшее             0   \n",
       "18428         0           2194         64   среднее             1   \n",
       "18521         0           2194         56   среднее             1   \n",
       "18563         0           2194         54   среднее             1   \n",
       "18755         0           2194         58   среднее             1   \n",
       "19041         0           2194         56   среднее             1   \n",
       "19184         0           2194         46   среднее             1   \n",
       "19321         0           2194         23   среднее             1   \n",
       "19387         0           2194         38    высшее             0   \n",
       "19688         0           2194         61   среднее             1   \n",
       "19832         0           2194         48   среднее             1   \n",
       "19946         0           2194         57   среднее             1   \n",
       "20116         0           2194         57   среднее             1   \n",
       "20165         0           2194         42   среднее             1   \n",
       "20702         0           2194         64   среднее             1   \n",
       "21032         0           2194         60   среднее             1   \n",
       "21132         0           2194         47   среднее             1   \n",
       "21281         1           2194         30    высшее             0   \n",
       "21415         0           2194         54   среднее             1   \n",
       "\n",
       "               family_status  family_status_id gender  income_type  debt  \\\n",
       "2849         женат / замужем                 0      F    сотрудник     0   \n",
       "4182        гражданский брак                 1      F    сотрудник     0   \n",
       "4851        гражданский брак                 1      F    пенсионер     0   \n",
       "5557        гражданский брак                 1      F    пенсионер     0   \n",
       "7808        гражданский брак                 1      F    пенсионер     0   \n",
       "8583   не женат / не замужем                 4      F    пенсионер     0   \n",
       "9238         женат / замужем                 0      F    сотрудник     0   \n",
       "9528          вдовец / вдова                 2      F    пенсионер     0   \n",
       "9627         женат / замужем                 0      F    пенсионер     0   \n",
       "10462        женат / замужем                 0      F    пенсионер     0   \n",
       "10697       гражданский брак                 1      F    компаньон     0   \n",
       "10864        женат / замужем                 0      F    пенсионер     0   \n",
       "10994        женат / замужем                 0      F    пенсионер     0   \n",
       "11791        женат / замужем                 0      F    сотрудник     0   \n",
       "12373        женат / замужем                 0      M    сотрудник     0   \n",
       "12375        женат / замужем                 0      F    сотрудник     0   \n",
       "12736        женат / замужем                 0      F    пенсионер     0   \n",
       "13025        женат / замужем                 0      F    сотрудник     0   \n",
       "13639        женат / замужем                 0      F    пенсионер     0   \n",
       "13773       гражданский брак                 1      F    сотрудник     0   \n",
       "13878        женат / замужем                 0      F    компаньон     0   \n",
       "13942        женат / замужем                 0      F    сотрудник     0   \n",
       "14432        женат / замужем                 0      F  госслужащий     0   \n",
       "14832  не женат / не замужем                 4      F    сотрудник     0   \n",
       "15091       гражданский брак                 1      M    сотрудник     0   \n",
       "15188        женат / замужем                 0      M    сотрудник     0   \n",
       "15273       гражданский брак                 1      F    пенсионер     0   \n",
       "16176        женат / замужем                 0      F    сотрудник     0   \n",
       "16378        женат / замужем                 0      F    сотрудник     0   \n",
       "16902       гражданский брак                 1      F    сотрудник     0   \n",
       "16904        женат / замужем                 0      F    сотрудник     0   \n",
       "17379        женат / замужем                 0      M    компаньон     0   \n",
       "17755        женат / замужем                 0      M    сотрудник     0   \n",
       "17774       гражданский брак                 1      F    компаньон     0   \n",
       "18328        женат / замужем                 0      M    сотрудник     0   \n",
       "18349        женат / замужем                 0      F  госслужащий     0   \n",
       "18428        женат / замужем                 0      F    пенсионер     0   \n",
       "18521       гражданский брак                 1      F    сотрудник     0   \n",
       "18563        женат / замужем                 0      F    сотрудник     0   \n",
       "18755        женат / замужем                 0      F    пенсионер     0   \n",
       "19041       гражданский брак                 1      F    сотрудник     0   \n",
       "19184        женат / замужем                 0      F    сотрудник     0   \n",
       "19321  не женат / не замужем                 4      F    сотрудник     0   \n",
       "19387       гражданский брак                 1      F    компаньон     0   \n",
       "19688        женат / замужем                 0      F    пенсионер     0   \n",
       "19832        женат / замужем                 0      F    сотрудник     0   \n",
       "19946        женат / замужем                 0      F    сотрудник     0   \n",
       "20116       гражданский брак                 1      M    пенсионер     0   \n",
       "20165        женат / замужем                 0      F    сотрудник     0   \n",
       "20702        женат / замужем                 0      F    пенсионер     0   \n",
       "21032        женат / замужем                 0      F    пенсионер     0   \n",
       "21132        женат / замужем                 0      F    сотрудник     0   \n",
       "21281        женат / замужем                 0      F    сотрудник     0   \n",
       "21415        женат / замужем                 0      F    пенсионер     0   \n",
       "\n",
       "       total_income                                purpose  \n",
       "2849           2194                покупка жилья для семьи  \n",
       "4182           2194                                свадьба  \n",
       "4851           2194                                свадьба  \n",
       "5557           2194                        сыграть свадьбу  \n",
       "7808           2194                  на проведение свадьбы  \n",
       "8583           2194             дополнительное образование  \n",
       "9238           2194                покупка жилья для сдачи  \n",
       "9528           2194        операции со своей недвижимостью  \n",
       "9627           2194        операции со своей недвижимостью  \n",
       "10462          2194      покупка коммерческой недвижимости  \n",
       "10697          2194                        сыграть свадьбу  \n",
       "10864          2194                           ремонт жилью  \n",
       "10994          2194                           ремонт жилью  \n",
       "11791          2194             строительство недвижимости  \n",
       "12373          2194                   покупка недвижимости  \n",
       "12375          2194                   покупка недвижимости  \n",
       "12736          2194                  заняться образованием  \n",
       "13025          2194       сделка с подержанным автомобилем  \n",
       "13639          2194                             автомобиль  \n",
       "13773          2194                        сыграть свадьбу  \n",
       "13878          2194                          покупка жилья  \n",
       "13942          2194                приобретение автомобиля  \n",
       "14432          2194                  получение образования  \n",
       "14832          2194                           недвижимость  \n",
       "15091          2194                  на проведение свадьбы  \n",
       "15188          2194                   покупка недвижимости  \n",
       "15273          2194                                свадьба  \n",
       "16176          2194                           ремонт жилью  \n",
       "16378          2194                     высшее образование  \n",
       "16902          2194                        сыграть свадьбу  \n",
       "16904          2194     на покупку подержанного автомобиля  \n",
       "17379          2194  операции с коммерческой недвижимостью  \n",
       "17755          2194                  заняться образованием  \n",
       "17774          2194       строительство жилой недвижимости  \n",
       "18328          2194             покупка жилой недвижимости  \n",
       "18349          2194                покупка жилья для семьи  \n",
       "18428          2194                                  жилье  \n",
       "18521          2194                        сыграть свадьбу  \n",
       "18563          2194        операции со своей недвижимостью  \n",
       "18755          2194                  заняться образованием  \n",
       "19041          2194                  на проведение свадьбы  \n",
       "19184          2194                        свой автомобиль  \n",
       "19321          2194       сделка с подержанным автомобилем  \n",
       "19387          2194                  на проведение свадьбы  \n",
       "19688          2194               операции с недвижимостью  \n",
       "19832          2194                           ремонт жилью  \n",
       "19946          2194       сделка с подержанным автомобилем  \n",
       "20116          2194                                свадьба  \n",
       "20165          2194                покупка жилья для семьи  \n",
       "20702          2194             дополнительное образование  \n",
       "21032          2194                  заняться образованием  \n",
       "21132          2194                           ремонт жилью  \n",
       "21281          2194      покупка коммерческой недвижимости  \n",
       "21415          2194                      операции с жильем  "
      ]
     },
     "execution_count": 23,
     "metadata": {},
     "output_type": "execute_result"
    }
   ],
   "source": [
    "df.loc[df.duplicated(), :] #вызываем строчки, которые повторяются во всем датафрейме"
   ]
  },
  {
   "cell_type": "code",
   "execution_count": 24,
   "metadata": {
    "ExecuteTime": {
     "end_time": "2022-02-06T14:31:03.512863Z",
     "start_time": "2022-02-06T14:31:03.465990Z"
    }
   },
   "outputs": [
    {
     "data": {
      "text/plain": [
       "0"
      ]
     },
     "execution_count": 24,
     "metadata": {},
     "output_type": "execute_result"
    }
   ],
   "source": [
    "df = df.drop_duplicates().reset_index(drop = True) #удаляет дубликаты, правит индексы\n",
    "df.duplicated().sum() #подсчитывает количество дупликатов после операции"
   ]
  },
  {
   "cell_type": "markdown",
   "metadata": {},
   "source": [
    "Теперь разберемся с регистром данных в столбце `education`"
   ]
  },
  {
   "cell_type": "code",
   "execution_count": 25,
   "metadata": {
    "ExecuteTime": {
     "end_time": "2022-02-06T14:31:03.543780Z",
     "start_time": "2022-02-06T14:31:03.514859Z"
    }
   },
   "outputs": [
    {
     "data": {
      "text/plain": [
       "среднее                15188\n",
       "высшее                  5251\n",
       "неоконченное высшее      743\n",
       "начальное                282\n",
       "ученая степень             6\n",
       "Name: education, dtype: int64"
      ]
     },
     "execution_count": 25,
     "metadata": {},
     "output_type": "execute_result"
    }
   ],
   "source": [
    "df.education = df.education.str.lower() #приводим значения к нижнему регистру\n",
    "df.education.value_counts()"
   ]
  },
  {
   "cell_type": "markdown",
   "metadata": {},
   "source": [
    "**Вывод**"
   ]
  },
  {
   "cell_type": "markdown",
   "metadata": {},
   "source": [
    "Мы удалили полные дупликаты из таблицы и изменили регистр данных в столбце `education`. Полные дубликаты искажают данные таблицы, делают ее тяжелее. В столбце `education` мы теперь имеем корректные данные для анализа."
   ]
  },
  {
   "cell_type": "markdown",
   "metadata": {},
   "source": [
    "### Лемматизация"
   ]
  },
  {
   "cell_type": "markdown",
   "metadata": {},
   "source": [
    "Столбец purpose содержит в себе неявные дубликаты - одинаковые цели кредита сформулированы по-разному. Для приведения столбца к читаемому виду, нужно лемматизировать строки и понять, каковы основные цели кредитов."
   ]
  },
  {
   "cell_type": "code",
   "execution_count": 26,
   "metadata": {
    "ExecuteTime": {
     "end_time": "2022-02-06T14:31:06.980604Z",
     "start_time": "2022-02-06T14:31:03.545776Z"
    }
   },
   "outputs": [
    {
     "data": {
      "text/plain": [
       "Counter({'покупка': 5899,\n",
       "         ' ': 55064,\n",
       "         'жилье': 4461,\n",
       "         'приобретение': 461,\n",
       "         'автомобиль': 4308,\n",
       "         'дополнительный': 907,\n",
       "         'образование': 4014,\n",
       "         'сыграть': 769,\n",
       "         'свадьба': 2335,\n",
       "         'операция': 2604,\n",
       "         'с': 2918,\n",
       "         'на': 2228,\n",
       "         'проведение': 773,\n",
       "         'для': 1290,\n",
       "         'семья': 638,\n",
       "         'недвижимость': 6352,\n",
       "         'коммерческий': 1312,\n",
       "         'жилой': 1231,\n",
       "         'строительство': 1879,\n",
       "         'собственный': 635,\n",
       "         'подержать': 853,\n",
       "         'свой': 2231,\n",
       "         'со': 627,\n",
       "         'заниматься': 904,\n",
       "         'сделка': 941,\n",
       "         'получение': 1315,\n",
       "         'высокий': 1374,\n",
       "         'подержанный': 111,\n",
       "         'профильный': 436,\n",
       "         'сдача': 652,\n",
       "         'ремонт': 607,\n",
       "         '\\n': 1})"
      ]
     },
     "execution_count": 26,
     "metadata": {},
     "output_type": "execute_result"
    }
   ],
   "source": [
    "m = Mystem()\n",
    "purposes = df.purpose.to_list()      #Приводим столбец purpose в лист\n",
    "df.purpose.value_counts()\n",
    "purposes_str = ' '.join(purposes)    #Приводим лист в текст\n",
    "lemmas = m.lemmatize(purposes_str)   #Лемматизируем текст и подсчитываем количество слов\n",
    "Counter(lemmas)"
   ]
  },
  {
   "cell_type": "markdown",
   "metadata": {},
   "source": [
    "Как мы можем видеть, основных целей кредита четыре. Это \"автомобиль\", \"образование\", \"свадьба\", \"недвижимость\". Заменим строки в `purpose` на эти цели."
   ]
  },
  {
   "cell_type": "code",
   "execution_count": 27,
   "metadata": {
    "ExecuteTime": {
     "end_time": "2022-02-06T14:31:07.010525Z",
     "start_time": "2022-02-06T14:31:06.981603Z"
    }
   },
   "outputs": [
    {
     "data": {
      "text/plain": [
       "недвижимость    10813\n",
       "автомобиль       4308\n",
       "образование      4014\n",
       "свадьба          2335\n",
       "Name: purpose, dtype: int64"
      ]
     },
     "execution_count": 27,
     "metadata": {},
     "output_type": "execute_result"
    }
   ],
   "source": [
    "def purpose_category(purposes):   #Пишем функцию, которая заменяет значение в столбце на категориальные \n",
    "    if 'свадьб' in purposes:\n",
    "        return 'свадьба'\n",
    "    if 'жиль' in purposes or 'недвижим' in purposes:\n",
    "        return 'недвижимость'\n",
    "    if 'автомоб' in purposes:\n",
    "        return 'автомобиль'\n",
    "    if 'образов' in purposes:\n",
    "        return 'образование'\n",
    "    return 'иные цели'\n",
    "\n",
    "df.purpose = df.purpose.apply(purpose_category) #Применяем функцию к столбцу purpose\n",
    "df.purpose.value_counts()"
   ]
  },
  {
   "cell_type": "markdown",
   "metadata": {},
   "source": [
    "**Вывод**"
   ]
  },
  {
   "cell_type": "markdown",
   "metadata": {},
   "source": [
    "С помощью лемматизации были распознаны дубликаты в столбце `purpose`, что позволило обработать их и привести к читаемому виду. Уже сейчас видно, что чаще всего клиенты берут кредит на недвижимость, а количество кредитов на личное средство передвижения и на образование примерно равны."
   ]
  },
  {
   "cell_type": "markdown",
   "metadata": {},
   "source": [
    "### Категоризация данных"
   ]
  },
  {
   "cell_type": "markdown",
   "metadata": {},
   "source": [
    "Для ответа на поставленные вопросы нужно привести таблицу в удобный для визуализации и работы вид - выделить отдельные интересующие нас столбцы с данными и обработать."
   ]
  },
  {
   "cell_type": "code",
   "execution_count": 28,
   "metadata": {
    "ExecuteTime": {
     "end_time": "2022-02-06T14:31:07.041441Z",
     "start_time": "2022-02-06T14:31:07.018503Z"
    }
   },
   "outputs": [
    {
     "data": {
      "text/html": [
       "<div>\n",
       "<style scoped>\n",
       "    .dataframe tbody tr th:only-of-type {\n",
       "        vertical-align: middle;\n",
       "    }\n",
       "\n",
       "    .dataframe tbody tr th {\n",
       "        vertical-align: top;\n",
       "    }\n",
       "\n",
       "    .dataframe thead th {\n",
       "        text-align: right;\n",
       "    }\n",
       "</style>\n",
       "<table border=\"1\" class=\"dataframe\">\n",
       "  <thead>\n",
       "    <tr style=\"text-align: right;\">\n",
       "      <th></th>\n",
       "      <th>children</th>\n",
       "      <th>debt</th>\n",
       "    </tr>\n",
       "  </thead>\n",
       "  <tbody>\n",
       "    <tr>\n",
       "      <th>0</th>\n",
       "      <td>1</td>\n",
       "      <td>0</td>\n",
       "    </tr>\n",
       "    <tr>\n",
       "      <th>1</th>\n",
       "      <td>1</td>\n",
       "      <td>0</td>\n",
       "    </tr>\n",
       "    <tr>\n",
       "      <th>2</th>\n",
       "      <td>0</td>\n",
       "      <td>0</td>\n",
       "    </tr>\n",
       "    <tr>\n",
       "      <th>3</th>\n",
       "      <td>3</td>\n",
       "      <td>0</td>\n",
       "    </tr>\n",
       "    <tr>\n",
       "      <th>4</th>\n",
       "      <td>0</td>\n",
       "      <td>0</td>\n",
       "    </tr>\n",
       "  </tbody>\n",
       "</table>\n",
       "</div>"
      ],
      "text/plain": [
       "   children  debt\n",
       "0         1     0\n",
       "1         1     0\n",
       "2         0     0\n",
       "3         3     0\n",
       "4         0     0"
      ]
     },
     "execution_count": 28,
     "metadata": {},
     "output_type": "execute_result"
    }
   ],
   "source": [
    "children_debt = df[['children', 'debt']] #создаем новый словарь со столбцами children и debt\n",
    "children_debt.head()"
   ]
  },
  {
   "cell_type": "code",
   "execution_count": 29,
   "metadata": {
    "ExecuteTime": {
     "end_time": "2022-02-06T14:31:07.056402Z",
     "start_time": "2022-02-06T14:31:07.042439Z"
    }
   },
   "outputs": [
    {
     "data": {
      "text/html": [
       "<div>\n",
       "<style scoped>\n",
       "    .dataframe tbody tr th:only-of-type {\n",
       "        vertical-align: middle;\n",
       "    }\n",
       "\n",
       "    .dataframe tbody tr th {\n",
       "        vertical-align: top;\n",
       "    }\n",
       "\n",
       "    .dataframe thead th {\n",
       "        text-align: right;\n",
       "    }\n",
       "</style>\n",
       "<table border=\"1\" class=\"dataframe\">\n",
       "  <thead>\n",
       "    <tr style=\"text-align: right;\">\n",
       "      <th></th>\n",
       "      <th>family_status</th>\n",
       "      <th>debt</th>\n",
       "    </tr>\n",
       "  </thead>\n",
       "  <tbody>\n",
       "    <tr>\n",
       "      <th>0</th>\n",
       "      <td>женат / замужем</td>\n",
       "      <td>0</td>\n",
       "    </tr>\n",
       "    <tr>\n",
       "      <th>1</th>\n",
       "      <td>женат / замужем</td>\n",
       "      <td>0</td>\n",
       "    </tr>\n",
       "    <tr>\n",
       "      <th>2</th>\n",
       "      <td>женат / замужем</td>\n",
       "      <td>0</td>\n",
       "    </tr>\n",
       "    <tr>\n",
       "      <th>3</th>\n",
       "      <td>женат / замужем</td>\n",
       "      <td>0</td>\n",
       "    </tr>\n",
       "    <tr>\n",
       "      <th>4</th>\n",
       "      <td>гражданский брак</td>\n",
       "      <td>0</td>\n",
       "    </tr>\n",
       "  </tbody>\n",
       "</table>\n",
       "</div>"
      ],
      "text/plain": [
       "      family_status  debt\n",
       "0   женат / замужем     0\n",
       "1   женат / замужем     0\n",
       "2   женат / замужем     0\n",
       "3   женат / замужем     0\n",
       "4  гражданский брак     0"
      ]
     },
     "execution_count": 29,
     "metadata": {},
     "output_type": "execute_result"
    }
   ],
   "source": [
    "family_status_debt = df[['family_status', 'debt']]\n",
    "family_status_debt.head()"
   ]
  },
  {
   "cell_type": "markdown",
   "metadata": {},
   "source": [
    "Проведем категоризацию данных о доходе по категориям \"ниже среднего\", \"средний\", \"выше среднего\". Для этого напишем функцию и применим ее к каждому значению столбца total_income. Сохраним результат в новом столбце income_category"
   ]
  },
  {
   "cell_type": "code",
   "execution_count": 30,
   "metadata": {
    "ExecuteTime": {
     "end_time": "2022-02-06T14:31:07.087303Z",
     "start_time": "2022-02-06T14:31:07.058396Z"
    }
   },
   "outputs": [
    {
     "data": {
      "text/html": [
       "<div>\n",
       "<style scoped>\n",
       "    .dataframe tbody tr th:only-of-type {\n",
       "        vertical-align: middle;\n",
       "    }\n",
       "\n",
       "    .dataframe tbody tr th {\n",
       "        vertical-align: top;\n",
       "    }\n",
       "\n",
       "    .dataframe thead th {\n",
       "        text-align: right;\n",
       "    }\n",
       "</style>\n",
       "<table border=\"1\" class=\"dataframe\">\n",
       "  <thead>\n",
       "    <tr style=\"text-align: right;\">\n",
       "      <th></th>\n",
       "      <th>children</th>\n",
       "      <th>days_employed</th>\n",
       "      <th>dob_years</th>\n",
       "      <th>education</th>\n",
       "      <th>education_id</th>\n",
       "      <th>family_status</th>\n",
       "      <th>family_status_id</th>\n",
       "      <th>gender</th>\n",
       "      <th>income_type</th>\n",
       "      <th>debt</th>\n",
       "      <th>total_income</th>\n",
       "      <th>purpose</th>\n",
       "      <th>income_category</th>\n",
       "    </tr>\n",
       "  </thead>\n",
       "  <tbody>\n",
       "    <tr>\n",
       "      <th>0</th>\n",
       "      <td>1</td>\n",
       "      <td>8437</td>\n",
       "      <td>42</td>\n",
       "      <td>высшее</td>\n",
       "      <td>0</td>\n",
       "      <td>женат / замужем</td>\n",
       "      <td>0</td>\n",
       "      <td>F</td>\n",
       "      <td>сотрудник</td>\n",
       "      <td>0</td>\n",
       "      <td>253875</td>\n",
       "      <td>недвижимость</td>\n",
       "      <td>выше среднего</td>\n",
       "    </tr>\n",
       "    <tr>\n",
       "      <th>1</th>\n",
       "      <td>1</td>\n",
       "      <td>4024</td>\n",
       "      <td>36</td>\n",
       "      <td>среднее</td>\n",
       "      <td>1</td>\n",
       "      <td>женат / замужем</td>\n",
       "      <td>0</td>\n",
       "      <td>F</td>\n",
       "      <td>сотрудник</td>\n",
       "      <td>0</td>\n",
       "      <td>112080</td>\n",
       "      <td>автомобиль</td>\n",
       "      <td>ниже среднего</td>\n",
       "    </tr>\n",
       "    <tr>\n",
       "      <th>2</th>\n",
       "      <td>0</td>\n",
       "      <td>5623</td>\n",
       "      <td>33</td>\n",
       "      <td>среднее</td>\n",
       "      <td>1</td>\n",
       "      <td>женат / замужем</td>\n",
       "      <td>0</td>\n",
       "      <td>M</td>\n",
       "      <td>сотрудник</td>\n",
       "      <td>0</td>\n",
       "      <td>145885</td>\n",
       "      <td>недвижимость</td>\n",
       "      <td>выше среднего</td>\n",
       "    </tr>\n",
       "    <tr>\n",
       "      <th>3</th>\n",
       "      <td>3</td>\n",
       "      <td>4124</td>\n",
       "      <td>32</td>\n",
       "      <td>среднее</td>\n",
       "      <td>1</td>\n",
       "      <td>женат / замужем</td>\n",
       "      <td>0</td>\n",
       "      <td>M</td>\n",
       "      <td>сотрудник</td>\n",
       "      <td>0</td>\n",
       "      <td>267628</td>\n",
       "      <td>образование</td>\n",
       "      <td>выше среднего</td>\n",
       "    </tr>\n",
       "    <tr>\n",
       "      <th>4</th>\n",
       "      <td>0</td>\n",
       "      <td>340266</td>\n",
       "      <td>53</td>\n",
       "      <td>среднее</td>\n",
       "      <td>1</td>\n",
       "      <td>гражданский брак</td>\n",
       "      <td>1</td>\n",
       "      <td>F</td>\n",
       "      <td>пенсионер</td>\n",
       "      <td>0</td>\n",
       "      <td>158616</td>\n",
       "      <td>свадьба</td>\n",
       "      <td>выше среднего</td>\n",
       "    </tr>\n",
       "  </tbody>\n",
       "</table>\n",
       "</div>"
      ],
      "text/plain": [
       "   children  days_employed  dob_years education  education_id  \\\n",
       "0         1           8437         42    высшее             0   \n",
       "1         1           4024         36   среднее             1   \n",
       "2         0           5623         33   среднее             1   \n",
       "3         3           4124         32   среднее             1   \n",
       "4         0         340266         53   среднее             1   \n",
       "\n",
       "      family_status  family_status_id gender income_type  debt  total_income  \\\n",
       "0   женат / замужем                 0      F   сотрудник     0        253875   \n",
       "1   женат / замужем                 0      F   сотрудник     0        112080   \n",
       "2   женат / замужем                 0      M   сотрудник     0        145885   \n",
       "3   женат / замужем                 0      M   сотрудник     0        267628   \n",
       "4  гражданский брак                 1      F   пенсионер     0        158616   \n",
       "\n",
       "        purpose income_category  \n",
       "0  недвижимость   выше среднего  \n",
       "1    автомобиль   ниже среднего  \n",
       "2  недвижимость   выше среднего  \n",
       "3   образование   выше среднего  \n",
       "4       свадьба   выше среднего  "
      ]
     },
     "execution_count": 30,
     "metadata": {},
     "output_type": "execute_result"
    }
   ],
   "source": [
    "income_median = df.total_income.median() #сохраним медианную зарплату в переменной\n",
    "\n",
    "def income_categorizer(income): \n",
    "    if income < income_median:\n",
    "        return 'ниже среднего'\n",
    "    if income == income_median:\n",
    "        return 'средний'\n",
    "    return 'выше среднего'\n",
    "\n",
    "df['income_category'] = df['total_income'].apply(income_categorizer)\n",
    "df.head()"
   ]
  },
  {
   "cell_type": "markdown",
   "metadata": {},
   "source": [
    "Теперь объединим столбцы `debt`, `total_income` и `income_category` в словарь"
   ]
  },
  {
   "cell_type": "code",
   "execution_count": 31,
   "metadata": {
    "ExecuteTime": {
     "end_time": "2022-02-06T14:31:07.103261Z",
     "start_time": "2022-02-06T14:31:07.088300Z"
    }
   },
   "outputs": [
    {
     "data": {
      "text/html": [
       "<div>\n",
       "<style scoped>\n",
       "    .dataframe tbody tr th:only-of-type {\n",
       "        vertical-align: middle;\n",
       "    }\n",
       "\n",
       "    .dataframe tbody tr th {\n",
       "        vertical-align: top;\n",
       "    }\n",
       "\n",
       "    .dataframe thead th {\n",
       "        text-align: right;\n",
       "    }\n",
       "</style>\n",
       "<table border=\"1\" class=\"dataframe\">\n",
       "  <thead>\n",
       "    <tr style=\"text-align: right;\">\n",
       "      <th></th>\n",
       "      <th>total_income</th>\n",
       "      <th>income_category</th>\n",
       "      <th>debt</th>\n",
       "    </tr>\n",
       "  </thead>\n",
       "  <tbody>\n",
       "    <tr>\n",
       "      <th>0</th>\n",
       "      <td>253875</td>\n",
       "      <td>выше среднего</td>\n",
       "      <td>0</td>\n",
       "    </tr>\n",
       "    <tr>\n",
       "      <th>1</th>\n",
       "      <td>112080</td>\n",
       "      <td>ниже среднего</td>\n",
       "      <td>0</td>\n",
       "    </tr>\n",
       "    <tr>\n",
       "      <th>2</th>\n",
       "      <td>145885</td>\n",
       "      <td>выше среднего</td>\n",
       "      <td>0</td>\n",
       "    </tr>\n",
       "    <tr>\n",
       "      <th>3</th>\n",
       "      <td>267628</td>\n",
       "      <td>выше среднего</td>\n",
       "      <td>0</td>\n",
       "    </tr>\n",
       "    <tr>\n",
       "      <th>4</th>\n",
       "      <td>158616</td>\n",
       "      <td>выше среднего</td>\n",
       "      <td>0</td>\n",
       "    </tr>\n",
       "  </tbody>\n",
       "</table>\n",
       "</div>"
      ],
      "text/plain": [
       "   total_income income_category  debt\n",
       "0        253875   выше среднего     0\n",
       "1        112080   ниже среднего     0\n",
       "2        145885   выше среднего     0\n",
       "3        267628   выше среднего     0\n",
       "4        158616   выше среднего     0"
      ]
     },
     "execution_count": 31,
     "metadata": {},
     "output_type": "execute_result"
    }
   ],
   "source": [
    "income_debt = df[['total_income', 'income_category', 'debt']]\n",
    "income_debt.head()"
   ]
  },
  {
   "cell_type": "code",
   "execution_count": 32,
   "metadata": {
    "ExecuteTime": {
     "end_time": "2022-02-06T14:31:07.119217Z",
     "start_time": "2022-02-06T14:31:07.105256Z"
    }
   },
   "outputs": [
    {
     "data": {
      "text/html": [
       "<div>\n",
       "<style scoped>\n",
       "    .dataframe tbody tr th:only-of-type {\n",
       "        vertical-align: middle;\n",
       "    }\n",
       "\n",
       "    .dataframe tbody tr th {\n",
       "        vertical-align: top;\n",
       "    }\n",
       "\n",
       "    .dataframe thead th {\n",
       "        text-align: right;\n",
       "    }\n",
       "</style>\n",
       "<table border=\"1\" class=\"dataframe\">\n",
       "  <thead>\n",
       "    <tr style=\"text-align: right;\">\n",
       "      <th></th>\n",
       "      <th>purpose</th>\n",
       "      <th>debt</th>\n",
       "    </tr>\n",
       "  </thead>\n",
       "  <tbody>\n",
       "    <tr>\n",
       "      <th>0</th>\n",
       "      <td>недвижимость</td>\n",
       "      <td>0</td>\n",
       "    </tr>\n",
       "    <tr>\n",
       "      <th>1</th>\n",
       "      <td>автомобиль</td>\n",
       "      <td>0</td>\n",
       "    </tr>\n",
       "    <tr>\n",
       "      <th>2</th>\n",
       "      <td>недвижимость</td>\n",
       "      <td>0</td>\n",
       "    </tr>\n",
       "    <tr>\n",
       "      <th>3</th>\n",
       "      <td>образование</td>\n",
       "      <td>0</td>\n",
       "    </tr>\n",
       "    <tr>\n",
       "      <th>4</th>\n",
       "      <td>свадьба</td>\n",
       "      <td>0</td>\n",
       "    </tr>\n",
       "  </tbody>\n",
       "</table>\n",
       "</div>"
      ],
      "text/plain": [
       "        purpose  debt\n",
       "0  недвижимость     0\n",
       "1    автомобиль     0\n",
       "2  недвижимость     0\n",
       "3   образование     0\n",
       "4       свадьба     0"
      ]
     },
     "execution_count": 32,
     "metadata": {},
     "output_type": "execute_result"
    }
   ],
   "source": [
    "purpose_debt = df[['purpose', 'debt']]\n",
    "purpose_debt.head()"
   ]
  },
  {
   "cell_type": "markdown",
   "metadata": {},
   "source": [
    "**Вывод**"
   ]
  },
  {
   "cell_type": "markdown",
   "metadata": {},
   "source": [
    "Мы объединили столбцы таблицы `df` по интересующим нас данным. В столбце `total_income` мы провели категоризацию по медианном доходу для удобства. Данные приведены в порядок, выделены необходимые словари, мы готовы к анализу и ответам на вопросы."
   ]
  },
  {
   "cell_type": "markdown",
   "metadata": {},
   "source": [
    "## Ответы на вопросы"
   ]
  },
  {
   "cell_type": "markdown",
   "metadata": {},
   "source": [
    "- Есть ли зависимость между наличием детей и возвратом кредита в срок?"
   ]
  },
  {
   "cell_type": "markdown",
   "metadata": {},
   "source": [
    "Используя словари, созданные на прошлом этапе работы, проверим, клиенты с каким количеством детей чаще имеют долги по кредитам"
   ]
  },
  {
   "cell_type": "code",
   "execution_count": 33,
   "metadata": {
    "ExecuteTime": {
     "end_time": "2022-02-06T14:31:07.135174Z",
     "start_time": "2022-02-06T14:31:07.120215Z"
    }
   },
   "outputs": [
    {
     "data": {
      "text/plain": [
       "0    14106\n",
       "1     4856\n",
       "2     2128\n",
       "3      330\n",
       "4       41\n",
       "5        9\n",
       "Name: children, dtype: int64"
      ]
     },
     "execution_count": 33,
     "metadata": {},
     "output_type": "execute_result"
    }
   ],
   "source": [
    "children_values = children_debt.children.value_counts() \n",
    "children_values"
   ]
  },
  {
   "cell_type": "code",
   "execution_count": 34,
   "metadata": {
    "ExecuteTime": {
     "end_time": "2022-02-06T14:31:07.150135Z",
     "start_time": "2022-02-06T14:31:07.137170Z"
    }
   },
   "outputs": [
    {
     "data": {
      "text/plain": [
       "0    1063\n",
       "1     445\n",
       "2     202\n",
       "3      27\n",
       "4       4\n",
       "Name: children, dtype: int64"
      ]
     },
     "execution_count": 34,
     "metadata": {},
     "output_type": "execute_result"
    }
   ],
   "source": [
    "debt_values = children_debt[children_debt.debt == 1]['children'].value_counts() \n",
    "debt_values\n",
    "#Считаем количество клиентов с долгами, сортируем по количеству детей"
   ]
  },
  {
   "cell_type": "markdown",
   "metadata": {},
   "source": [
    "По цифрам похоже, что люди без детей гораздо чаще не платят по кредиту, нежели люди с большим количеством детей. Однако, посчитаем отношение должников к общему количеству клиентов."
   ]
  },
  {
   "cell_type": "code",
   "execution_count": 35,
   "metadata": {
    "ExecuteTime": {
     "end_time": "2022-02-06T14:31:07.166091Z",
     "start_time": "2022-02-06T14:31:07.153127Z"
    }
   },
   "outputs": [
    {
     "data": {
      "text/plain": [
       "0    0.075358\n",
       "1    0.091639\n",
       "2    0.094925\n",
       "3    0.081818\n",
       "4    0.097561\n",
       "5         NaN\n",
       "Name: children, dtype: float64"
      ]
     },
     "execution_count": 35,
     "metadata": {},
     "output_type": "execute_result"
    }
   ],
   "source": [
    "debt_values / children_values "
   ]
  },
  {
   "cell_type": "markdown",
   "metadata": {},
   "source": [
    "Только 7,5% клиентов без детей являются должниками, в то время как среди многодетных семей (4 и больше детей) эта цифра достигает 9,8%!"
   ]
  },
  {
   "cell_type": "markdown",
   "metadata": {},
   "source": [
    "**Вывод**"
   ]
  },
  {
   "cell_type": "markdown",
   "metadata": {},
   "source": [
    "Согласно данным, многодетные семьи в среднем чаще не платят по кредитам. Однако, разница невелика - всего 2.3%."
   ]
  },
  {
   "cell_type": "markdown",
   "metadata": {},
   "source": [
    "- Есть ли зависимость между семейным положением и возвратом кредита в срок?"
   ]
  },
  {
   "cell_type": "code",
   "execution_count": 36,
   "metadata": {
    "ExecuteTime": {
     "end_time": "2022-02-06T14:31:07.181329Z",
     "start_time": "2022-02-06T14:31:07.168087Z"
    }
   },
   "outputs": [
    {
     "data": {
      "text/plain": [
       "женат / замужем          12344\n",
       "гражданский брак          4162\n",
       "не женат / не замужем     2810\n",
       "в разводе                 1195\n",
       "вдовец / вдова             959\n",
       "Name: family_status, dtype: int64"
      ]
     },
     "execution_count": 36,
     "metadata": {},
     "output_type": "execute_result"
    }
   ],
   "source": [
    "family_count = family_status_debt.family_status.value_counts()\n",
    "family_count"
   ]
  },
  {
   "cell_type": "code",
   "execution_count": 37,
   "metadata": {
    "ExecuteTime": {
     "end_time": "2022-02-06T14:31:07.197286Z",
     "start_time": "2022-02-06T14:31:07.182327Z"
    }
   },
   "outputs": [
    {
     "data": {
      "text/plain": [
       "женат / замужем          931\n",
       "гражданский брак         388\n",
       "не женат / не замужем    274\n",
       "в разводе                 85\n",
       "вдовец / вдова            63\n",
       "Name: family_status, dtype: int64"
      ]
     },
     "execution_count": 37,
     "metadata": {},
     "output_type": "execute_result"
    }
   ],
   "source": [
    "family_debt_count = family_status_debt[family_status_debt.debt == 1]['family_status'].value_counts()\n",
    "family_debt_count"
   ]
  },
  {
   "cell_type": "code",
   "execution_count": 38,
   "metadata": {
    "ExecuteTime": {
     "end_time": "2022-02-06T14:31:07.213244Z",
     "start_time": "2022-02-06T14:31:07.199282Z"
    }
   },
   "outputs": [
    {
     "data": {
      "text/plain": [
       "женат / замужем          0.075421\n",
       "гражданский брак         0.093224\n",
       "не женат / не замужем    0.097509\n",
       "в разводе                0.071130\n",
       "вдовец / вдова           0.065693\n",
       "Name: family_status, dtype: float64"
      ]
     },
     "execution_count": 38,
     "metadata": {},
     "output_type": "execute_result"
    }
   ],
   "source": [
    "family_debt_count / family_count"
   ]
  },
  {
   "cell_type": "markdown",
   "metadata": {},
   "source": [
    "**Вывод**"
   ]
  },
  {
   "cell_type": "markdown",
   "metadata": {},
   "source": [
    "Данные показывают, что процент должников выше среди клиентов, живущих в гражданском браке и не живущих в браке вообще. В то же время среди людей, потерявших супруга, самый низкий процент долгов по кредиту."
   ]
  },
  {
   "cell_type": "markdown",
   "metadata": {},
   "source": [
    "- Есть ли зависимость между уровнем дохода и возвратом кредита в срок?"
   ]
  },
  {
   "cell_type": "code",
   "execution_count": 39,
   "metadata": {
    "ExecuteTime": {
     "end_time": "2022-02-06T14:31:07.229201Z",
     "start_time": "2022-02-06T14:31:07.215239Z"
    }
   },
   "outputs": [
    {
     "data": {
      "text/plain": [
       "выше среднего    10735\n",
       "ниже среднего    10735\n",
       "Name: income_category, dtype: int64"
      ]
     },
     "execution_count": 39,
     "metadata": {},
     "output_type": "execute_result"
    }
   ],
   "source": [
    "income_count = income_debt.income_category.value_counts()\n",
    "income_count"
   ]
  },
  {
   "cell_type": "code",
   "execution_count": 40,
   "metadata": {
    "ExecuteTime": {
     "end_time": "2022-02-06T14:31:07.245159Z",
     "start_time": "2022-02-06T14:31:07.230198Z"
    }
   },
   "outputs": [
    {
     "data": {
      "text/plain": [
       "ниже среднего    874\n",
       "выше среднего    867\n",
       "Name: income_category, dtype: int64"
      ]
     },
     "execution_count": 40,
     "metadata": {},
     "output_type": "execute_result"
    }
   ],
   "source": [
    "income_debt_count = income_debt[income_debt.debt == 1]['income_category'].value_counts()\n",
    "income_debt_count"
   ]
  },
  {
   "cell_type": "code",
   "execution_count": 41,
   "metadata": {
    "ExecuteTime": {
     "end_time": "2022-02-06T14:31:07.260119Z",
     "start_time": "2022-02-06T14:31:07.246156Z"
    }
   },
   "outputs": [
    {
     "data": {
      "text/plain": [
       "выше среднего    0.080764\n",
       "ниже среднего    0.081416\n",
       "Name: income_category, dtype: float64"
      ]
     },
     "execution_count": 41,
     "metadata": {},
     "output_type": "execute_result"
    }
   ],
   "source": [
    "income_debt_count / income_count"
   ]
  },
  {
   "cell_type": "markdown",
   "metadata": {},
   "source": [
    "**Вывод**"
   ]
  },
  {
   "cell_type": "markdown",
   "metadata": {},
   "source": [
    "По результатам анализа можно видеть, что уровень дохода практически не влияет на возврат кредита в срок. Стоит упомянуть, что это достаточно грубый анализ, так как деление уровня дохода на выше и ниже среднего не самый точный."
   ]
  },
  {
   "cell_type": "markdown",
   "metadata": {},
   "source": [
    "- Как разные цели кредита влияют на его возврат в срок?"
   ]
  },
  {
   "cell_type": "code",
   "execution_count": 42,
   "metadata": {
    "ExecuteTime": {
     "end_time": "2022-02-06T14:31:07.276076Z",
     "start_time": "2022-02-06T14:31:07.262114Z"
    }
   },
   "outputs": [
    {
     "data": {
      "text/plain": [
       "недвижимость    10813\n",
       "автомобиль       4308\n",
       "образование      4014\n",
       "свадьба          2335\n",
       "Name: purpose, dtype: int64"
      ]
     },
     "execution_count": 42,
     "metadata": {},
     "output_type": "execute_result"
    }
   ],
   "source": [
    "purpose_count = purpose_debt.purpose.value_counts()\n",
    "purpose_count"
   ]
  },
  {
   "cell_type": "code",
   "execution_count": 43,
   "metadata": {
    "ExecuteTime": {
     "end_time": "2022-02-06T14:31:07.291546Z",
     "start_time": "2022-02-06T14:31:07.277073Z"
    }
   },
   "outputs": [
    {
     "data": {
      "text/plain": [
       "недвижимость    782\n",
       "автомобиль      403\n",
       "образование     370\n",
       "свадьба         186\n",
       "Name: purpose, dtype: int64"
      ]
     },
     "execution_count": 43,
     "metadata": {},
     "output_type": "execute_result"
    }
   ],
   "source": [
    "purpose_debt_count = purpose_debt[purpose_debt.debt == 1]['purpose'].value_counts()\n",
    "purpose_debt_count"
   ]
  },
  {
   "cell_type": "code",
   "execution_count": 44,
   "metadata": {
    "ExecuteTime": {
     "end_time": "2022-02-06T14:31:07.306506Z",
     "start_time": "2022-02-06T14:31:07.292543Z"
    }
   },
   "outputs": [
    {
     "data": {
      "text/plain": [
       "недвижимость    0.072320\n",
       "автомобиль      0.093547\n",
       "образование     0.092177\n",
       "свадьба         0.079657\n",
       "Name: purpose, dtype: float64"
      ]
     },
     "execution_count": 44,
     "metadata": {},
     "output_type": "execute_result"
    }
   ],
   "source": [
    "purpose_debt_count / purpose_count"
   ]
  },
  {
   "cell_type": "markdown",
   "metadata": {},
   "source": [
    "**Вывод**"
   ]
  },
  {
   "cell_type": "markdown",
   "metadata": {},
   "source": [
    "Чаще всего не платят по кредиту клиенты, взявшие его на покупку автомобиля или на оплату образования. "
   ]
  },
  {
   "cell_type": "markdown",
   "metadata": {},
   "source": [
    "## Общий вывод"
   ]
  },
  {
   "cell_type": "markdown",
   "metadata": {},
   "source": [
    "В ходе работы были выполнены следующие цели:\n",
    "1) Были обнаружены и заменены пустые значения в столбцах дохода и стажа  \n",
    "2) Данные в столбце стажа были приведены к положительным значениям, кроме того изменен тип данных стажа и дохода с `float` на `int`  \n",
    "3) Данные в столбце `education` были приведены к единому регистру  \n",
    "4) В столбце `purpose` используя лемматизацию были найдены основные цели кредитов, дупликаты были вычищены и заменены основными целями  \n",
    "5) Для ответа на поставленные вопросы были созданы отдельные словари  \n",
    "6) Используя словари, было найдено отношение должников к общему количеству клиентов, разбитым на категории \"наличие детей\", \"семейное положение\", \"уровень дохода\", \"цели кредита\". На основании полученных данных были сделаны выводы и даны ответы на поставленные вопросы"
   ]
  }
 ],
 "metadata": {
  "ExecuteTimeLog": [
   {
    "duration": 891,
    "start_time": "2021-09-15T13:58:46.848Z"
   },
   {
    "duration": 73,
    "start_time": "2021-09-15T14:01:04.196Z"
   },
   {
    "duration": 77,
    "start_time": "2021-09-15T14:01:54.250Z"
   },
   {
    "duration": 79,
    "start_time": "2021-09-15T14:02:10.087Z"
   },
   {
    "duration": 78,
    "start_time": "2021-09-15T14:02:35.710Z"
   },
   {
    "duration": 75,
    "start_time": "2021-09-15T14:03:06.191Z"
   },
   {
    "duration": 76,
    "start_time": "2021-09-15T14:03:56.903Z"
   },
   {
    "duration": 78,
    "start_time": "2021-09-15T14:04:05.664Z"
   },
   {
    "duration": 75,
    "start_time": "2021-09-15T14:04:21.209Z"
   },
   {
    "duration": 77,
    "start_time": "2021-09-15T14:04:50.223Z"
   },
   {
    "duration": 73,
    "start_time": "2021-09-15T14:05:07.648Z"
   },
   {
    "duration": 76,
    "start_time": "2021-09-15T14:05:23.177Z"
   },
   {
    "duration": 82,
    "start_time": "2021-09-15T14:06:07.337Z"
   },
   {
    "duration": 77,
    "start_time": "2021-09-15T14:06:29.306Z"
   },
   {
    "duration": 74,
    "start_time": "2021-09-15T14:07:04.224Z"
   },
   {
    "duration": 90,
    "start_time": "2021-09-15T14:07:27.297Z"
   },
   {
    "duration": 81,
    "start_time": "2021-09-15T14:09:11.034Z"
   },
   {
    "duration": 91,
    "start_time": "2021-09-15T14:09:53.273Z"
   },
   {
    "duration": 64,
    "start_time": "2021-09-15T14:10:43.419Z"
   },
   {
    "duration": 66,
    "start_time": "2021-09-15T14:10:49.251Z"
   },
   {
    "duration": 66,
    "start_time": "2021-09-15T14:10:56.203Z"
   },
   {
    "duration": 70,
    "start_time": "2021-09-15T14:11:43.001Z"
   },
   {
    "duration": 70,
    "start_time": "2021-09-15T14:11:59.841Z"
   },
   {
    "duration": 69,
    "start_time": "2021-09-15T14:12:10.082Z"
   },
   {
    "duration": 80,
    "start_time": "2021-09-15T14:12:35.042Z"
   },
   {
    "duration": 90,
    "start_time": "2021-09-15T14:18:38.686Z"
   },
   {
    "duration": 71,
    "start_time": "2021-09-15T14:19:51.025Z"
   },
   {
    "duration": 72,
    "start_time": "2021-09-15T14:20:08.683Z"
   },
   {
    "duration": 73,
    "start_time": "2021-09-15T14:20:14.267Z"
   },
   {
    "duration": 72,
    "start_time": "2021-09-15T14:20:38.996Z"
   },
   {
    "duration": 513,
    "start_time": "2021-09-15T14:33:21.774Z"
   },
   {
    "duration": 90,
    "start_time": "2021-09-15T14:33:46.374Z"
   },
   {
    "duration": 9968,
    "start_time": "2021-09-15T14:33:47.134Z"
   },
   {
    "duration": 451,
    "start_time": "2021-09-15T14:34:07.958Z"
   },
   {
    "duration": 63,
    "start_time": "2021-09-15T14:34:20.982Z"
   },
   {
    "duration": 76,
    "start_time": "2021-09-15T14:36:23.383Z"
   },
   {
    "duration": 621,
    "start_time": "2021-09-15T17:14:49.337Z"
   },
   {
    "duration": 357,
    "start_time": "2021-09-15T17:18:09.935Z"
   },
   {
    "duration": 9,
    "start_time": "2021-09-15T17:18:17.807Z"
   },
   {
    "duration": 9,
    "start_time": "2021-09-15T17:18:31.840Z"
   },
   {
    "duration": 227,
    "start_time": "2021-09-15T17:19:49.352Z"
   },
   {
    "duration": 5,
    "start_time": "2021-09-15T17:19:58.608Z"
   },
   {
    "duration": 265,
    "start_time": "2021-09-15T17:20:29.320Z"
   },
   {
    "duration": 6,
    "start_time": "2021-09-15T17:20:37.495Z"
   },
   {
    "duration": 10,
    "start_time": "2021-09-15T17:21:12.895Z"
   },
   {
    "duration": 9,
    "start_time": "2021-09-15T17:21:31.992Z"
   },
   {
    "duration": 22,
    "start_time": "2021-09-15T17:21:39.799Z"
   },
   {
    "duration": 232,
    "start_time": "2021-09-15T17:23:23.144Z"
   },
   {
    "duration": 5,
    "start_time": "2021-09-15T17:23:29.119Z"
   },
   {
    "duration": 231,
    "start_time": "2021-09-15T17:23:35.920Z"
   },
   {
    "duration": 5,
    "start_time": "2021-09-15T17:23:44.568Z"
   },
   {
    "duration": 5,
    "start_time": "2021-09-15T17:29:41.424Z"
   },
   {
    "duration": 5,
    "start_time": "2021-09-15T17:29:54.663Z"
   },
   {
    "duration": 5,
    "start_time": "2021-09-15T17:30:03.711Z"
   },
   {
    "duration": 5,
    "start_time": "2021-09-15T17:31:00.311Z"
   },
   {
    "duration": 6,
    "start_time": "2021-09-15T17:31:24.792Z"
   },
   {
    "duration": 6,
    "start_time": "2021-09-15T17:31:59.120Z"
   },
   {
    "duration": 7,
    "start_time": "2021-09-15T17:32:17.096Z"
   },
   {
    "duration": 6,
    "start_time": "2021-09-15T17:32:29.512Z"
   },
   {
    "duration": 7,
    "start_time": "2021-09-15T17:32:36.640Z"
   },
   {
    "duration": 7,
    "start_time": "2021-09-15T17:33:41.976Z"
   },
   {
    "duration": 6,
    "start_time": "2021-09-15T17:34:09.488Z"
   },
   {
    "duration": 7,
    "start_time": "2021-09-15T17:34:17.944Z"
   },
   {
    "duration": 8,
    "start_time": "2021-09-15T17:34:28.655Z"
   },
   {
    "duration": 11,
    "start_time": "2021-09-15T17:35:23.719Z"
   },
   {
    "duration": 205,
    "start_time": "2021-09-15T17:36:48.144Z"
   },
   {
    "duration": 145,
    "start_time": "2021-09-15T17:37:00.512Z"
   },
   {
    "duration": 671,
    "start_time": "2021-09-15T17:37:04.343Z"
   },
   {
    "duration": 3,
    "start_time": "2021-09-15T17:37:13.896Z"
   },
   {
    "duration": 10,
    "start_time": "2021-09-15T17:37:22.663Z"
   },
   {
    "duration": 8,
    "start_time": "2021-09-15T17:41:00.416Z"
   },
   {
    "duration": 9,
    "start_time": "2021-09-15T17:41:23.656Z"
   },
   {
    "duration": 6,
    "start_time": "2021-09-15T17:41:34.872Z"
   },
   {
    "duration": 224,
    "start_time": "2021-09-15T17:43:17.344Z"
   },
   {
    "duration": 20,
    "start_time": "2021-09-15T17:44:50.680Z"
   },
   {
    "duration": -1375,
    "start_time": "2021-09-15T17:45:07.280Z"
   },
   {
    "duration": 1611,
    "start_time": "2021-09-15T17:45:15.864Z"
   },
   {
    "duration": 6,
    "start_time": "2021-09-15T17:46:02.720Z"
   },
   {
    "duration": 8,
    "start_time": "2021-09-15T17:47:14.815Z"
   },
   {
    "duration": 5657,
    "start_time": "2021-09-15T17:50:02.929Z"
   },
   {
    "duration": 6,
    "start_time": "2021-09-15T17:50:11.713Z"
   },
   {
    "duration": 224,
    "start_time": "2021-09-15T17:52:32.242Z"
   },
   {
    "duration": 4,
    "start_time": "2021-09-15T17:52:44.728Z"
   },
   {
    "duration": 5,
    "start_time": "2021-09-15T17:52:57.465Z"
   },
   {
    "duration": 6,
    "start_time": "2021-09-15T17:54:55.809Z"
   },
   {
    "duration": 5,
    "start_time": "2021-09-15T17:55:07.456Z"
   },
   {
    "duration": 9,
    "start_time": "2021-09-15T17:56:12.105Z"
   },
   {
    "duration": 8,
    "start_time": "2021-09-15T17:56:37.793Z"
   },
   {
    "duration": 23,
    "start_time": "2021-09-15T17:56:59.640Z"
   },
   {
    "duration": 214,
    "start_time": "2021-09-15T17:57:25.257Z"
   },
   {
    "duration": 9,
    "start_time": "2021-09-15T17:57:32.185Z"
   },
   {
    "duration": 9,
    "start_time": "2021-09-15T17:57:38.137Z"
   },
   {
    "duration": 9,
    "start_time": "2021-09-15T17:59:52.361Z"
   },
   {
    "duration": 3,
    "start_time": "2021-09-15T18:00:08.137Z"
   },
   {
    "duration": 20,
    "start_time": "2021-09-15T18:00:42.961Z"
   },
   {
    "duration": 20,
    "start_time": "2021-09-15T18:00:54.168Z"
   },
   {
    "duration": 6,
    "start_time": "2021-09-15T18:02:41.065Z"
   },
   {
    "duration": 5,
    "start_time": "2021-09-15T18:02:45.377Z"
   },
   {
    "duration": 5,
    "start_time": "2021-09-15T18:02:50.385Z"
   },
   {
    "duration": 5,
    "start_time": "2021-09-15T18:03:27.385Z"
   },
   {
    "duration": 4,
    "start_time": "2021-09-15T18:16:38.393Z"
   },
   {
    "duration": 244,
    "start_time": "2021-09-15T18:16:43.626Z"
   },
   {
    "duration": 6,
    "start_time": "2021-09-15T18:16:50.802Z"
   },
   {
    "duration": 4,
    "start_time": "2021-09-15T18:16:56.594Z"
   },
   {
    "duration": 7,
    "start_time": "2021-09-15T18:17:14.313Z"
   },
   {
    "duration": 6,
    "start_time": "2021-09-15T18:21:22.066Z"
   },
   {
    "duration": 7,
    "start_time": "2021-09-15T18:21:56.066Z"
   },
   {
    "duration": 5,
    "start_time": "2021-09-15T18:22:53.027Z"
   },
   {
    "duration": 224,
    "start_time": "2021-09-15T18:24:10.210Z"
   },
   {
    "duration": 5,
    "start_time": "2021-09-15T18:24:14.795Z"
   },
   {
    "duration": 245,
    "start_time": "2021-09-15T18:24:32.650Z"
   },
   {
    "duration": 6,
    "start_time": "2021-09-15T18:24:36.802Z"
   },
   {
    "duration": 5,
    "start_time": "2021-09-15T18:25:12.898Z"
   },
   {
    "duration": 5,
    "start_time": "2021-09-15T18:26:05.027Z"
   },
   {
    "duration": 4,
    "start_time": "2021-09-15T18:26:43.462Z"
   },
   {
    "duration": 5,
    "start_time": "2021-09-15T18:27:02.866Z"
   },
   {
    "duration": 13,
    "start_time": "2021-09-15T18:28:03.683Z"
   },
   {
    "duration": 5,
    "start_time": "2021-09-15T18:37:01.092Z"
   },
   {
    "duration": 5,
    "start_time": "2021-09-15T18:37:59.371Z"
   },
   {
    "duration": 6,
    "start_time": "2021-09-15T18:38:12.091Z"
   },
   {
    "duration": 227,
    "start_time": "2021-09-15T18:39:55.115Z"
   },
   {
    "duration": 34,
    "start_time": "2021-09-15T18:40:00.763Z"
   },
   {
    "duration": 12,
    "start_time": "2021-09-15T18:54:58.620Z"
   },
   {
    "duration": 46,
    "start_time": "2021-09-15T18:55:02.731Z"
   },
   {
    "duration": 60,
    "start_time": "2021-09-15T18:57:38.068Z"
   },
   {
    "duration": 61,
    "start_time": "2021-09-15T18:58:39.508Z"
   },
   {
    "duration": -1369,
    "start_time": "2021-09-15T18:59:02.318Z"
   },
   {
    "duration": 49,
    "start_time": "2021-09-15T18:59:56.156Z"
   },
   {
    "duration": 281,
    "start_time": "2021-09-15T19:00:37.052Z"
   },
   {
    "duration": 204,
    "start_time": "2021-09-15T19:00:42.300Z"
   },
   {
    "duration": 225,
    "start_time": "2021-09-15T19:00:47.419Z"
   },
   {
    "duration": 17,
    "start_time": "2021-09-15T19:00:55.187Z"
   },
   {
    "duration": 5,
    "start_time": "2021-09-15T19:08:20.907Z"
   },
   {
    "duration": 189,
    "start_time": "2021-09-15T19:12:08.877Z"
   },
   {
    "duration": -1371,
    "start_time": "2021-09-15T19:12:49.120Z"
   },
   {
    "duration": 4291,
    "start_time": "2021-09-15T19:12:50.268Z"
   },
   {
    "duration": -1366,
    "start_time": "2021-09-15T19:13:22.239Z"
   },
   {
    "duration": 5818,
    "start_time": "2021-09-15T19:13:23.380Z"
   },
   {
    "duration": 7,
    "start_time": "2021-09-15T19:23:36.517Z"
   },
   {
    "duration": 15,
    "start_time": "2021-09-15T19:24:11.605Z"
   },
   {
    "duration": 14,
    "start_time": "2021-09-15T19:24:32.382Z"
   },
   {
    "duration": 15,
    "start_time": "2021-09-15T19:24:37.909Z"
   },
   {
    "duration": 48,
    "start_time": "2021-09-15T19:24:45.909Z"
   },
   {
    "duration": 11,
    "start_time": "2021-09-15T19:24:50.141Z"
   },
   {
    "duration": 13,
    "start_time": "2021-09-15T19:26:04.869Z"
   },
   {
    "duration": 5,
    "start_time": "2021-09-15T19:27:48.764Z"
   },
   {
    "duration": 5,
    "start_time": "2021-09-15T19:29:36.901Z"
   },
   {
    "duration": 7,
    "start_time": "2021-09-15T19:30:12.493Z"
   },
   {
    "duration": 7,
    "start_time": "2021-09-15T19:31:41.837Z"
   },
   {
    "duration": 11,
    "start_time": "2021-09-15T19:33:57.367Z"
   },
   {
    "duration": 12,
    "start_time": "2021-09-15T19:34:23.598Z"
   },
   {
    "duration": 6,
    "start_time": "2021-09-15T19:40:11.918Z"
   },
   {
    "duration": 32,
    "start_time": "2021-09-15T19:44:15.103Z"
   },
   {
    "duration": 14,
    "start_time": "2021-09-15T19:47:07.662Z"
   },
   {
    "duration": 6,
    "start_time": "2021-09-15T19:47:29.294Z"
   },
   {
    "duration": 16,
    "start_time": "2021-09-15T19:48:57.696Z"
   },
   {
    "duration": 33,
    "start_time": "2021-09-15T19:49:05.485Z"
   },
   {
    "duration": 903,
    "start_time": "2021-09-16T13:54:16.320Z"
   },
   {
    "duration": 31,
    "start_time": "2021-09-16T13:54:57.521Z"
   },
   {
    "duration": 459,
    "start_time": "2021-09-16T13:56:58.388Z"
   },
   {
    "duration": 363,
    "start_time": "2021-09-16T14:00:36.884Z"
   },
   {
    "duration": 366,
    "start_time": "2021-09-16T14:00:50.417Z"
   },
   {
    "duration": 9,
    "start_time": "2021-09-16T14:02:56.490Z"
   },
   {
    "duration": 21,
    "start_time": "2021-09-16T14:03:06.163Z"
   },
   {
    "duration": 19,
    "start_time": "2021-09-16T14:04:27.745Z"
   },
   {
    "duration": 8,
    "start_time": "2021-09-16T14:04:40.036Z"
   },
   {
    "duration": 8,
    "start_time": "2021-09-16T14:04:44.043Z"
   },
   {
    "duration": 601,
    "start_time": "2021-09-16T17:58:33.506Z"
   },
   {
    "duration": 49,
    "start_time": "2021-09-16T17:58:37.328Z"
   },
   {
    "duration": 19,
    "start_time": "2021-09-16T18:04:31.989Z"
   },
   {
    "duration": 231,
    "start_time": "2021-09-16T18:04:47.432Z"
   },
   {
    "duration": 12,
    "start_time": "2021-09-16T18:04:51.178Z"
   },
   {
    "duration": 13,
    "start_time": "2021-09-16T18:05:08.633Z"
   },
   {
    "duration": 13,
    "start_time": "2021-09-16T18:05:12.800Z"
   },
   {
    "duration": 14,
    "start_time": "2021-09-16T18:05:23.296Z"
   },
   {
    "duration": 12,
    "start_time": "2021-09-16T18:05:25.121Z"
   },
   {
    "duration": 6,
    "start_time": "2021-09-16T18:05:28.457Z"
   },
   {
    "duration": 7,
    "start_time": "2021-09-16T18:05:30.553Z"
   },
   {
    "duration": 12,
    "start_time": "2021-09-16T18:05:33.433Z"
   },
   {
    "duration": 13,
    "start_time": "2021-09-16T18:06:45.633Z"
   },
   {
    "duration": 11,
    "start_time": "2021-09-16T18:07:09.160Z"
   },
   {
    "duration": 33,
    "start_time": "2021-09-16T18:10:14.996Z"
   },
   {
    "duration": 28,
    "start_time": "2021-09-16T18:13:11.089Z"
   },
   {
    "duration": 4,
    "start_time": "2021-09-16T18:13:51.153Z"
   },
   {
    "duration": 12,
    "start_time": "2021-09-16T18:20:16.826Z"
   },
   {
    "duration": 18,
    "start_time": "2021-09-16T18:20:32.641Z"
   },
   {
    "duration": 5,
    "start_time": "2021-09-16T19:19:53.011Z"
   },
   {
    "duration": 645,
    "start_time": "2021-09-16T19:20:32.826Z"
   },
   {
    "duration": 648,
    "start_time": "2021-09-16T19:23:37.459Z"
   },
   {
    "duration": 632,
    "start_time": "2021-09-16T19:23:43.738Z"
   },
   {
    "duration": 641,
    "start_time": "2021-09-16T19:23:57.899Z"
   },
   {
    "duration": 208,
    "start_time": "2021-09-16T19:25:10.667Z"
   },
   {
    "duration": 4,
    "start_time": "2021-09-16T19:25:49.778Z"
   },
   {
    "duration": 7,
    "start_time": "2021-09-16T19:25:57.747Z"
   },
   {
    "duration": 527,
    "start_time": "2021-09-16T19:26:16.010Z"
   },
   {
    "duration": 169,
    "start_time": "2021-09-16T19:26:36.612Z"
   },
   {
    "duration": 168,
    "start_time": "2021-09-16T19:28:22.660Z"
   },
   {
    "duration": 634,
    "start_time": "2021-09-16T19:28:27.875Z"
   },
   {
    "duration": 191,
    "start_time": "2021-09-16T19:28:37.027Z"
   },
   {
    "duration": 489,
    "start_time": "2021-09-16T19:28:48.363Z"
   },
   {
    "duration": 2168,
    "start_time": "2021-09-16T19:30:08.475Z"
   },
   {
    "duration": 485,
    "start_time": "2021-09-16T19:30:49.003Z"
   },
   {
    "duration": 278,
    "start_time": "2021-09-16T19:30:58.067Z"
   },
   {
    "duration": 347,
    "start_time": "2021-09-16T19:31:05.067Z"
   },
   {
    "duration": 2841,
    "start_time": "2021-09-16T19:31:16.834Z"
   },
   {
    "duration": 2847,
    "start_time": "2021-09-16T19:33:46.971Z"
   },
   {
    "duration": 8,
    "start_time": "2021-09-16T19:39:41.924Z"
   },
   {
    "duration": 192,
    "start_time": "2021-09-16T19:40:53.787Z"
   },
   {
    "duration": 61,
    "start_time": "2021-09-16T19:42:26.837Z"
   },
   {
    "duration": 802,
    "start_time": "2021-09-16T19:44:56.388Z"
   },
   {
    "duration": 56,
    "start_time": "2021-09-16T19:45:59.155Z"
   },
   {
    "duration": 205,
    "start_time": "2021-09-16T19:46:02.890Z"
   },
   {
    "duration": 16660,
    "start_time": "2021-09-16T19:46:15.267Z"
   },
   {
    "duration": 16417,
    "start_time": "2021-09-16T19:46:34.683Z"
   },
   {
    "duration": 938,
    "start_time": "2021-09-16T19:47:45.268Z"
   },
   {
    "duration": 1141,
    "start_time": "2021-09-16T19:48:25.476Z"
   },
   {
    "duration": 1522,
    "start_time": "2021-09-16T19:48:40.987Z"
   },
   {
    "duration": 1116,
    "start_time": "2021-09-16T19:51:00.596Z"
   },
   {
    "duration": 951,
    "start_time": "2021-09-16T19:53:10.387Z"
   },
   {
    "duration": 4906,
    "start_time": "2021-09-16T19:54:48.660Z"
   },
   {
    "duration": 4785,
    "start_time": "2021-09-16T19:55:32.276Z"
   },
   {
    "duration": 42,
    "start_time": "2021-09-16T19:57:26.107Z"
   },
   {
    "duration": 24,
    "start_time": "2021-09-16T19:57:32.236Z"
   },
   {
    "duration": 15,
    "start_time": "2021-09-16T19:58:43.020Z"
   },
   {
    "duration": 16,
    "start_time": "2021-09-16T19:58:56.148Z"
   },
   {
    "duration": 2523,
    "start_time": "2021-09-16T20:00:19.396Z"
   },
   {
    "duration": 2419,
    "start_time": "2021-09-16T20:00:32.635Z"
   },
   {
    "duration": 2527,
    "start_time": "2021-09-16T20:00:41.156Z"
   },
   {
    "duration": 2528,
    "start_time": "2021-09-16T20:00:51.940Z"
   },
   {
    "duration": 170,
    "start_time": "2021-09-16T20:14:37.340Z"
   },
   {
    "duration": 9,
    "start_time": "2021-09-16T20:14:46.205Z"
   },
   {
    "duration": 254,
    "start_time": "2021-09-16T20:18:23.709Z"
   },
   {
    "duration": 2472,
    "start_time": "2021-09-16T20:18:32.124Z"
   },
   {
    "duration": 15,
    "start_time": "2021-09-16T20:28:17.012Z"
   },
   {
    "duration": 860,
    "start_time": "2021-09-17T10:46:51.813Z"
   },
   {
    "duration": 30,
    "start_time": "2021-09-17T10:46:57.995Z"
   },
   {
    "duration": 26,
    "start_time": "2021-09-17T10:46:59.061Z"
   },
   {
    "duration": 14,
    "start_time": "2021-09-17T10:46:59.388Z"
   },
   {
    "duration": 6,
    "start_time": "2021-09-17T10:47:00.209Z"
   },
   {
    "duration": 34,
    "start_time": "2021-09-17T10:47:00.692Z"
   },
   {
    "duration": 7,
    "start_time": "2021-09-17T10:47:04.091Z"
   },
   {
    "duration": 7,
    "start_time": "2021-09-17T10:47:05.423Z"
   },
   {
    "duration": 7,
    "start_time": "2021-09-17T10:47:06.011Z"
   },
   {
    "duration": 7,
    "start_time": "2021-09-17T10:47:07.033Z"
   },
   {
    "duration": 8,
    "start_time": "2021-09-17T10:47:07.337Z"
   },
   {
    "duration": 49,
    "start_time": "2021-09-17T10:47:07.850Z"
   },
   {
    "duration": 18,
    "start_time": "2021-09-17T10:47:08.928Z"
   },
   {
    "duration": 18,
    "start_time": "2021-09-17T10:47:09.083Z"
   },
   {
    "duration": 18,
    "start_time": "2021-09-17T10:47:12.084Z"
   },
   {
    "duration": 9,
    "start_time": "2021-09-17T10:47:12.972Z"
   },
   {
    "duration": 10,
    "start_time": "2021-09-17T10:47:13.660Z"
   },
   {
    "duration": 18,
    "start_time": "2021-09-17T10:47:15.915Z"
   },
   {
    "duration": 17,
    "start_time": "2021-09-17T10:47:16.711Z"
   },
   {
    "duration": 50,
    "start_time": "2021-09-17T10:47:28.680Z"
   },
   {
    "duration": 42,
    "start_time": "2021-09-17T10:47:29.783Z"
   },
   {
    "duration": 24,
    "start_time": "2021-09-17T10:47:31.420Z"
   },
   {
    "duration": 11,
    "start_time": "2021-09-17T10:47:34.782Z"
   },
   {
    "duration": 3369,
    "start_time": "2021-09-17T10:47:36.316Z"
   },
   {
    "duration": 22,
    "start_time": "2021-09-17T10:47:42.899Z"
   },
   {
    "duration": 25,
    "start_time": "2021-09-17T11:02:04.810Z"
   },
   {
    "duration": 28,
    "start_time": "2021-09-17T11:02:17.270Z"
   },
   {
    "duration": 72,
    "start_time": "2021-09-17T11:02:33.590Z"
   },
   {
    "duration": 8,
    "start_time": "2021-09-17T11:02:41.784Z"
   },
   {
    "duration": 24,
    "start_time": "2021-09-17T11:06:31.716Z"
   },
   {
    "duration": 36,
    "start_time": "2021-09-17T11:07:01.508Z"
   },
   {
    "duration": 842,
    "start_time": "2021-09-17T11:16:37.346Z"
   },
   {
    "duration": 29,
    "start_time": "2021-09-17T11:16:38.190Z"
   },
   {
    "duration": 39,
    "start_time": "2021-09-17T11:16:38.221Z"
   },
   {
    "duration": 17,
    "start_time": "2021-09-17T11:16:38.264Z"
   },
   {
    "duration": 5,
    "start_time": "2021-09-17T11:16:38.284Z"
   },
   {
    "duration": 76,
    "start_time": "2021-09-17T11:16:38.291Z"
   },
   {
    "duration": 7,
    "start_time": "2021-09-17T11:16:38.370Z"
   },
   {
    "duration": 7,
    "start_time": "2021-09-17T11:16:38.380Z"
   },
   {
    "duration": 6,
    "start_time": "2021-09-17T11:16:38.390Z"
   },
   {
    "duration": 9,
    "start_time": "2021-09-17T11:16:38.398Z"
   },
   {
    "duration": 10,
    "start_time": "2021-09-17T11:16:38.409Z"
   },
   {
    "duration": 48,
    "start_time": "2021-09-17T11:16:38.465Z"
   },
   {
    "duration": 53,
    "start_time": "2021-09-17T11:16:38.516Z"
   },
   {
    "duration": 20,
    "start_time": "2021-09-17T11:16:38.572Z"
   },
   {
    "duration": 21,
    "start_time": "2021-09-17T11:16:38.594Z"
   },
   {
    "duration": 45,
    "start_time": "2021-09-17T11:16:38.617Z"
   },
   {
    "duration": 20,
    "start_time": "2021-09-17T11:16:38.665Z"
   },
   {
    "duration": 9,
    "start_time": "2021-09-17T11:16:38.687Z"
   },
   {
    "duration": 19,
    "start_time": "2021-09-17T11:16:38.698Z"
   },
   {
    "duration": 57,
    "start_time": "2021-09-17T11:16:38.720Z"
   },
   {
    "duration": 41,
    "start_time": "2021-09-17T11:16:38.780Z"
   },
   {
    "duration": 76,
    "start_time": "2021-09-17T11:16:38.824Z"
   },
   {
    "duration": 26,
    "start_time": "2021-09-17T11:16:38.905Z"
   },
   {
    "duration": 32,
    "start_time": "2021-09-17T11:16:38.934Z"
   },
   {
    "duration": 395,
    "start_time": "2021-09-17T11:16:38.969Z"
   },
   {
    "duration": 37,
    "start_time": "2021-09-17T11:16:39.331Z"
   },
   {
    "duration": 1331,
    "start_time": "2021-09-17T11:18:10.474Z"
   },
   {
    "duration": 66,
    "start_time": "2021-09-17T11:19:13.395Z"
   },
   {
    "duration": 20,
    "start_time": "2021-09-17T11:19:14.196Z"
   },
   {
    "duration": 37,
    "start_time": "2021-09-17T11:19:17.444Z"
   },
   {
    "duration": 14,
    "start_time": "2021-09-17T11:19:18.115Z"
   },
   {
    "duration": 7,
    "start_time": "2021-09-17T11:19:20.538Z"
   },
   {
    "duration": 39,
    "start_time": "2021-09-17T11:19:20.827Z"
   },
   {
    "duration": 7,
    "start_time": "2021-09-17T11:19:23.124Z"
   },
   {
    "duration": 10,
    "start_time": "2021-09-17T11:19:24.859Z"
   },
   {
    "duration": 7,
    "start_time": "2021-09-17T11:19:25.332Z"
   },
   {
    "duration": 10,
    "start_time": "2021-09-17T11:19:26.660Z"
   },
   {
    "duration": 8,
    "start_time": "2021-09-17T11:19:28.283Z"
   },
   {
    "duration": 46,
    "start_time": "2021-09-17T11:19:31.883Z"
   },
   {
    "duration": 36,
    "start_time": "2021-09-17T11:19:39.266Z"
   },
   {
    "duration": 18,
    "start_time": "2021-09-17T11:19:44.276Z"
   },
   {
    "duration": 24,
    "start_time": "2021-09-17T11:19:45.447Z"
   },
   {
    "duration": 19,
    "start_time": "2021-09-17T11:19:48.235Z"
   },
   {
    "duration": 9,
    "start_time": "2021-09-17T11:19:50.020Z"
   },
   {
    "duration": 9,
    "start_time": "2021-09-17T11:19:50.635Z"
   },
   {
    "duration": 29,
    "start_time": "2021-09-17T11:19:55.588Z"
   },
   {
    "duration": 21,
    "start_time": "2021-09-17T11:19:58.957Z"
   },
   {
    "duration": 45,
    "start_time": "2021-09-17T11:20:07.416Z"
   },
   {
    "duration": 40,
    "start_time": "2021-09-17T11:20:09.320Z"
   },
   {
    "duration": 25,
    "start_time": "2021-09-17T11:20:11.094Z"
   },
   {
    "duration": 12,
    "start_time": "2021-09-17T11:20:15.363Z"
   },
   {
    "duration": 302,
    "start_time": "2021-09-17T11:20:19.771Z"
   },
   {
    "duration": 27,
    "start_time": "2021-09-17T11:20:43.653Z"
   },
   {
    "duration": 275,
    "start_time": "2021-09-17T11:20:52.819Z"
   },
   {
    "duration": 396,
    "start_time": "2021-09-17T11:21:27.945Z"
   },
   {
    "duration": 26,
    "start_time": "2021-09-17T11:21:51.567Z"
   },
   {
    "duration": 256,
    "start_time": "2021-09-17T11:22:15.560Z"
   },
   {
    "duration": 24,
    "start_time": "2021-09-17T11:22:49.087Z"
   },
   {
    "duration": 11,
    "start_time": "2021-09-17T11:24:04.399Z"
   },
   {
    "duration": 30,
    "start_time": "2021-09-17T11:24:48.954Z"
   },
   {
    "duration": 11,
    "start_time": "2021-09-17T11:24:59.927Z"
   },
   {
    "duration": 11,
    "start_time": "2021-09-17T11:25:09.236Z"
   },
   {
    "duration": 16,
    "start_time": "2021-09-17T11:25:32.371Z"
   },
   {
    "duration": 11,
    "start_time": "2021-09-17T11:25:40.614Z"
   },
   {
    "duration": 13,
    "start_time": "2021-09-17T11:26:58.592Z"
   },
   {
    "duration": 11,
    "start_time": "2021-09-17T11:27:05.054Z"
   },
   {
    "duration": 17,
    "start_time": "2021-09-17T11:30:27.913Z"
   },
   {
    "duration": 12,
    "start_time": "2021-09-17T11:30:31.548Z"
   },
   {
    "duration": 17,
    "start_time": "2021-09-17T11:30:33.475Z"
   },
   {
    "duration": 19,
    "start_time": "2021-09-17T11:30:35.702Z"
   },
   {
    "duration": 8,
    "start_time": "2021-09-17T11:30:38.118Z"
   },
   {
    "duration": 9,
    "start_time": "2021-09-17T11:30:39.661Z"
   },
   {
    "duration": 18,
    "start_time": "2021-09-17T11:30:41.697Z"
   },
   {
    "duration": 17,
    "start_time": "2021-09-17T11:30:44.495Z"
   },
   {
    "duration": 36,
    "start_time": "2021-09-17T11:30:47.124Z"
   },
   {
    "duration": 37,
    "start_time": "2021-09-17T11:30:49.930Z"
   },
   {
    "duration": 23,
    "start_time": "2021-09-17T11:30:51.703Z"
   },
   {
    "duration": 11,
    "start_time": "2021-09-17T11:30:54.497Z"
   },
   {
    "duration": 13,
    "start_time": "2021-09-17T11:31:36.173Z"
   },
   {
    "duration": 11,
    "start_time": "2021-09-17T11:31:58.379Z"
   },
   {
    "duration": 832,
    "start_time": "2021-09-17T11:32:09.088Z"
   },
   {
    "duration": 29,
    "start_time": "2021-09-17T11:32:09.923Z"
   },
   {
    "duration": 28,
    "start_time": "2021-09-17T11:32:09.956Z"
   },
   {
    "duration": 16,
    "start_time": "2021-09-17T11:32:09.988Z"
   },
   {
    "duration": 13,
    "start_time": "2021-09-17T11:32:10.007Z"
   },
   {
    "duration": 63,
    "start_time": "2021-09-17T11:32:10.022Z"
   },
   {
    "duration": 8,
    "start_time": "2021-09-17T11:32:10.088Z"
   },
   {
    "duration": 13,
    "start_time": "2021-09-17T11:32:10.102Z"
   },
   {
    "duration": 37,
    "start_time": "2021-09-17T11:32:10.119Z"
   },
   {
    "duration": 8,
    "start_time": "2021-09-17T11:32:10.159Z"
   },
   {
    "duration": 17,
    "start_time": "2021-09-17T11:32:10.170Z"
   },
   {
    "duration": 73,
    "start_time": "2021-09-17T11:32:10.189Z"
   },
   {
    "duration": 3,
    "start_time": "2021-09-17T11:32:10.265Z"
   },
   {
    "duration": 40,
    "start_time": "2021-09-17T11:32:10.271Z"
   },
   {
    "duration": 39,
    "start_time": "2021-09-17T11:32:10.314Z"
   },
   {
    "duration": 36,
    "start_time": "2021-09-17T11:32:10.356Z"
   },
   {
    "duration": 20,
    "start_time": "2021-09-17T11:32:10.395Z"
   },
   {
    "duration": 18,
    "start_time": "2021-09-17T11:32:10.417Z"
   },
   {
    "duration": 26,
    "start_time": "2021-09-17T11:32:10.437Z"
   },
   {
    "duration": 16,
    "start_time": "2021-09-17T11:32:10.465Z"
   },
   {
    "duration": 73,
    "start_time": "2021-09-17T11:32:10.484Z"
   },
   {
    "duration": 41,
    "start_time": "2021-09-17T11:32:10.559Z"
   },
   {
    "duration": 23,
    "start_time": "2021-09-17T11:32:10.604Z"
   },
   {
    "duration": 35,
    "start_time": "2021-09-17T11:32:10.630Z"
   },
   {
    "duration": 25,
    "start_time": "2021-09-17T11:32:10.667Z"
   },
   {
    "duration": 24,
    "start_time": "2021-09-17T11:32:10.695Z"
   },
   {
    "duration": 9,
    "start_time": "2021-09-17T11:35:30.977Z"
   },
   {
    "duration": 10,
    "start_time": "2021-09-17T11:35:58.745Z"
   },
   {
    "duration": 10,
    "start_time": "2021-09-17T11:36:08.496Z"
   },
   {
    "duration": 10,
    "start_time": "2021-09-17T11:36:13.535Z"
   },
   {
    "duration": 10,
    "start_time": "2021-09-17T11:36:15.976Z"
   },
   {
    "duration": 10,
    "start_time": "2021-09-17T11:36:18.638Z"
   },
   {
    "duration": 791,
    "start_time": "2021-09-17T11:36:23.071Z"
   },
   {
    "duration": 32,
    "start_time": "2021-09-17T11:36:23.865Z"
   },
   {
    "duration": 26,
    "start_time": "2021-09-17T11:36:23.901Z"
   },
   {
    "duration": 40,
    "start_time": "2021-09-17T11:36:23.930Z"
   },
   {
    "duration": 11,
    "start_time": "2021-09-17T11:36:23.973Z"
   },
   {
    "duration": 40,
    "start_time": "2021-09-17T11:36:23.986Z"
   },
   {
    "duration": 31,
    "start_time": "2021-09-17T11:36:24.029Z"
   },
   {
    "duration": 13,
    "start_time": "2021-09-17T11:36:24.063Z"
   },
   {
    "duration": 13,
    "start_time": "2021-09-17T11:36:24.079Z"
   },
   {
    "duration": 11,
    "start_time": "2021-09-17T11:36:24.094Z"
   },
   {
    "duration": 15,
    "start_time": "2021-09-17T11:36:24.107Z"
   },
   {
    "duration": 70,
    "start_time": "2021-09-17T11:36:24.125Z"
   },
   {
    "duration": 9,
    "start_time": "2021-09-17T11:36:24.198Z"
   },
   {
    "duration": 47,
    "start_time": "2021-09-17T11:36:24.210Z"
   },
   {
    "duration": 22,
    "start_time": "2021-09-17T11:36:24.260Z"
   },
   {
    "duration": 18,
    "start_time": "2021-09-17T11:36:24.284Z"
   },
   {
    "duration": 15,
    "start_time": "2021-09-17T11:36:24.305Z"
   },
   {
    "duration": 39,
    "start_time": "2021-09-17T11:36:24.322Z"
   },
   {
    "duration": 26,
    "start_time": "2021-09-17T11:36:24.363Z"
   },
   {
    "duration": 17,
    "start_time": "2021-09-17T11:36:24.391Z"
   },
   {
    "duration": 84,
    "start_time": "2021-09-17T11:36:24.411Z"
   },
   {
    "duration": 58,
    "start_time": "2021-09-17T11:36:24.498Z"
   },
   {
    "duration": 23,
    "start_time": "2021-09-17T11:36:24.560Z"
   },
   {
    "duration": 21,
    "start_time": "2021-09-17T11:36:24.585Z"
   },
   {
    "duration": 24,
    "start_time": "2021-09-17T11:36:24.609Z"
   },
   {
    "duration": 41,
    "start_time": "2021-09-17T11:36:24.636Z"
   },
   {
    "duration": 892,
    "start_time": "2021-09-17T11:37:10.896Z"
   },
   {
    "duration": 1501,
    "start_time": "2021-09-17T11:37:16.936Z"
   },
   {
    "duration": 827,
    "start_time": "2021-09-17T11:37:26.644Z"
   },
   {
    "duration": 30,
    "start_time": "2021-09-17T11:37:27.474Z"
   },
   {
    "duration": 47,
    "start_time": "2021-09-17T11:37:27.510Z"
   },
   {
    "duration": 14,
    "start_time": "2021-09-17T11:37:27.559Z"
   },
   {
    "duration": 6,
    "start_time": "2021-09-17T11:37:27.576Z"
   },
   {
    "duration": 36,
    "start_time": "2021-09-17T11:37:27.585Z"
   },
   {
    "duration": 6,
    "start_time": "2021-09-17T11:37:27.657Z"
   },
   {
    "duration": 8,
    "start_time": "2021-09-17T11:37:27.666Z"
   },
   {
    "duration": 6,
    "start_time": "2021-09-17T11:37:27.676Z"
   },
   {
    "duration": 8,
    "start_time": "2021-09-17T11:37:27.684Z"
   },
   {
    "duration": 7,
    "start_time": "2021-09-17T11:37:27.695Z"
   },
   {
    "duration": 91,
    "start_time": "2021-09-17T11:37:27.704Z"
   },
   {
    "duration": 8,
    "start_time": "2021-09-17T11:37:27.798Z"
   },
   {
    "duration": 21,
    "start_time": "2021-09-17T11:37:27.808Z"
   },
   {
    "duration": 19,
    "start_time": "2021-09-17T11:37:27.855Z"
   },
   {
    "duration": 19,
    "start_time": "2021-09-17T11:37:27.876Z"
   },
   {
    "duration": 14,
    "start_time": "2021-09-17T11:37:27.897Z"
   },
   {
    "duration": 8,
    "start_time": "2021-09-17T11:37:27.914Z"
   },
   {
    "duration": 20,
    "start_time": "2021-09-17T11:37:27.956Z"
   },
   {
    "duration": 17,
    "start_time": "2021-09-17T11:37:27.978Z"
   },
   {
    "duration": 78,
    "start_time": "2021-09-17T11:37:27.998Z"
   },
   {
    "duration": 42,
    "start_time": "2021-09-17T11:37:28.080Z"
   },
   {
    "duration": 45,
    "start_time": "2021-09-17T11:37:28.124Z"
   },
   {
    "duration": 3194,
    "start_time": "2021-09-17T11:37:28.171Z"
   },
   {
    "duration": 22,
    "start_time": "2021-09-17T11:37:31.368Z"
   },
   {
    "duration": 1497,
    "start_time": "2021-09-17T11:37:44.433Z"
   },
   {
    "duration": 775,
    "start_time": "2021-09-17T11:37:53.675Z"
   },
   {
    "duration": 29,
    "start_time": "2021-09-17T11:37:54.453Z"
   },
   {
    "duration": 24,
    "start_time": "2021-09-17T11:37:54.489Z"
   },
   {
    "duration": 42,
    "start_time": "2021-09-17T11:37:54.515Z"
   },
   {
    "duration": 7,
    "start_time": "2021-09-17T11:37:54.560Z"
   },
   {
    "duration": 47,
    "start_time": "2021-09-17T11:37:54.570Z"
   },
   {
    "duration": 6,
    "start_time": "2021-09-17T11:37:54.623Z"
   },
   {
    "duration": 9,
    "start_time": "2021-09-17T11:37:54.658Z"
   },
   {
    "duration": 7,
    "start_time": "2021-09-17T11:37:54.670Z"
   },
   {
    "duration": 8,
    "start_time": "2021-09-17T11:37:54.680Z"
   },
   {
    "duration": 12,
    "start_time": "2021-09-17T11:37:54.691Z"
   },
   {
    "duration": 91,
    "start_time": "2021-09-17T11:37:54.705Z"
   },
   {
    "duration": 9,
    "start_time": "2021-09-17T11:37:54.799Z"
   },
   {
    "duration": 19,
    "start_time": "2021-09-17T11:37:54.810Z"
   },
   {
    "duration": 18,
    "start_time": "2021-09-17T11:37:54.857Z"
   },
   {
    "duration": 18,
    "start_time": "2021-09-17T11:37:54.877Z"
   },
   {
    "duration": 13,
    "start_time": "2021-09-17T11:37:54.898Z"
   },
   {
    "duration": 44,
    "start_time": "2021-09-17T11:37:54.913Z"
   },
   {
    "duration": 24,
    "start_time": "2021-09-17T11:37:54.960Z"
   },
   {
    "duration": 20,
    "start_time": "2021-09-17T11:37:54.987Z"
   },
   {
    "duration": 84,
    "start_time": "2021-09-17T11:37:55.009Z"
   },
   {
    "duration": 42,
    "start_time": "2021-09-17T11:37:55.096Z"
   },
   {
    "duration": 35,
    "start_time": "2021-09-17T11:37:55.142Z"
   },
   {
    "duration": 3183,
    "start_time": "2021-09-17T11:37:55.179Z"
   },
   {
    "duration": 22,
    "start_time": "2021-09-17T11:37:58.365Z"
   },
   {
    "duration": 11,
    "start_time": "2021-09-17T12:04:24.396Z"
   },
   {
    "duration": 12,
    "start_time": "2021-09-17T12:06:12.752Z"
   },
   {
    "duration": 355,
    "start_time": "2021-09-17T12:07:09.710Z"
   },
   {
    "duration": 283,
    "start_time": "2021-09-17T12:07:14.972Z"
   },
   {
    "duration": 12,
    "start_time": "2021-09-17T12:07:30.096Z"
   },
   {
    "duration": 12,
    "start_time": "2021-09-17T12:07:36.783Z"
   },
   {
    "duration": 14,
    "start_time": "2021-09-17T12:08:25.643Z"
   },
   {
    "duration": 29,
    "start_time": "2021-09-17T12:25:00.790Z"
   },
   {
    "duration": 31,
    "start_time": "2021-09-17T12:25:21.437Z"
   },
   {
    "duration": 29,
    "start_time": "2021-09-17T12:25:54.874Z"
   },
   {
    "duration": 36,
    "start_time": "2021-09-17T12:27:39.548Z"
   },
   {
    "duration": 17,
    "start_time": "2021-09-17T12:29:52.104Z"
   },
   {
    "duration": 12,
    "start_time": "2021-09-17T12:30:41.887Z"
   },
   {
    "duration": 9,
    "start_time": "2021-09-17T12:53:56.773Z"
   },
   {
    "duration": 273,
    "start_time": "2021-09-17T12:54:14.988Z"
   },
   {
    "duration": 287,
    "start_time": "2021-09-17T12:54:39.728Z"
   },
   {
    "duration": 14,
    "start_time": "2021-09-17T12:54:57.938Z"
   },
   {
    "duration": 271,
    "start_time": "2021-09-17T12:56:10.021Z"
   },
   {
    "duration": 274,
    "start_time": "2021-09-17T12:56:14.592Z"
   },
   {
    "duration": 104,
    "start_time": "2021-09-17T12:56:42.193Z"
   },
   {
    "duration": 275,
    "start_time": "2021-09-17T12:56:47.876Z"
   },
   {
    "duration": 13,
    "start_time": "2021-09-17T12:56:52.715Z"
   },
   {
    "duration": 268,
    "start_time": "2021-09-17T12:57:16.505Z"
   },
   {
    "duration": 327,
    "start_time": "2021-09-17T12:57:22.912Z"
   },
   {
    "duration": 283,
    "start_time": "2021-09-17T12:57:40.372Z"
   },
   {
    "duration": 282,
    "start_time": "2021-09-17T12:57:48.000Z"
   },
   {
    "duration": 333,
    "start_time": "2021-09-17T13:00:25.689Z"
   },
   {
    "duration": 10,
    "start_time": "2021-09-17T13:00:35.870Z"
   },
   {
    "duration": 9,
    "start_time": "2021-09-17T13:01:14.328Z"
   },
   {
    "duration": 10,
    "start_time": "2021-09-17T13:03:37.238Z"
   },
   {
    "duration": 20,
    "start_time": "2021-09-17T13:09:43.446Z"
   },
   {
    "duration": 7,
    "start_time": "2021-09-17T13:11:02.511Z"
   },
   {
    "duration": 8,
    "start_time": "2021-09-17T13:11:11.868Z"
   },
   {
    "duration": 10,
    "start_time": "2021-09-17T13:11:17.742Z"
   },
   {
    "duration": 9,
    "start_time": "2021-09-17T13:13:29.349Z"
   },
   {
    "duration": 10,
    "start_time": "2021-09-17T13:31:47.972Z"
   },
   {
    "duration": 12,
    "start_time": "2021-09-17T13:34:33.346Z"
   },
   {
    "duration": 799,
    "start_time": "2021-09-17T13:37:59.711Z"
   },
   {
    "duration": 29,
    "start_time": "2021-09-17T13:38:00.512Z"
   },
   {
    "duration": 48,
    "start_time": "2021-09-17T13:38:00.546Z"
   },
   {
    "duration": 14,
    "start_time": "2021-09-17T13:38:00.597Z"
   },
   {
    "duration": 24,
    "start_time": "2021-09-17T13:38:00.613Z"
   },
   {
    "duration": 57,
    "start_time": "2021-09-17T13:38:00.640Z"
   },
   {
    "duration": 6,
    "start_time": "2021-09-17T13:38:00.701Z"
   },
   {
    "duration": 41,
    "start_time": "2021-09-17T13:38:00.710Z"
   },
   {
    "duration": 24,
    "start_time": "2021-09-17T13:38:00.753Z"
   },
   {
    "duration": 21,
    "start_time": "2021-09-17T13:38:00.779Z"
   },
   {
    "duration": 17,
    "start_time": "2021-09-17T13:38:00.803Z"
   },
   {
    "duration": 72,
    "start_time": "2021-09-17T13:38:00.823Z"
   },
   {
    "duration": 11,
    "start_time": "2021-09-17T13:38:00.898Z"
   },
   {
    "duration": 40,
    "start_time": "2021-09-17T13:38:00.911Z"
   },
   {
    "duration": 40,
    "start_time": "2021-09-17T13:38:00.953Z"
   },
   {
    "duration": 42,
    "start_time": "2021-09-17T13:38:00.995Z"
   },
   {
    "duration": 34,
    "start_time": "2021-09-17T13:38:01.040Z"
   },
   {
    "duration": 21,
    "start_time": "2021-09-17T13:38:01.077Z"
   },
   {
    "duration": 20,
    "start_time": "2021-09-17T13:38:01.101Z"
   },
   {
    "duration": 31,
    "start_time": "2021-09-17T13:38:01.123Z"
   },
   {
    "duration": 37,
    "start_time": "2021-09-17T13:38:01.156Z"
   },
   {
    "duration": 114,
    "start_time": "2021-09-17T13:38:01.198Z"
   },
   {
    "duration": 55,
    "start_time": "2021-09-17T13:38:01.315Z"
   },
   {
    "duration": 24,
    "start_time": "2021-09-17T13:38:01.372Z"
   },
   {
    "duration": 3225,
    "start_time": "2021-09-17T13:38:01.398Z"
   },
   {
    "duration": 35,
    "start_time": "2021-09-17T13:38:04.626Z"
   },
   {
    "duration": 50,
    "start_time": "2021-09-17T13:38:04.663Z"
   },
   {
    "duration": 12,
    "start_time": "2021-09-17T13:38:04.717Z"
   },
   {
    "duration": 40,
    "start_time": "2021-09-17T13:38:04.732Z"
   },
   {
    "duration": 20,
    "start_time": "2021-09-17T13:38:04.775Z"
   },
   {
    "duration": 14,
    "start_time": "2021-09-17T13:38:04.798Z"
   },
   {
    "duration": 41,
    "start_time": "2021-09-17T13:38:04.815Z"
   },
   {
    "duration": 12,
    "start_time": "2021-09-17T13:38:04.859Z"
   },
   {
    "duration": 24,
    "start_time": "2021-09-17T13:38:04.874Z"
   },
   {
    "duration": 11,
    "start_time": "2021-09-17T13:38:04.900Z"
   },
   {
    "duration": 9,
    "start_time": "2021-09-17T13:38:32.776Z"
   },
   {
    "duration": 8,
    "start_time": "2021-09-17T13:39:27.742Z"
   },
   {
    "duration": 10,
    "start_time": "2021-09-17T13:39:50.929Z"
   },
   {
    "duration": 12,
    "start_time": "2021-09-17T13:40:14.311Z"
   },
   {
    "duration": 7,
    "start_time": "2021-09-17T13:50:31.180Z"
   },
   {
    "duration": 619,
    "start_time": "2021-09-18T11:55:17.475Z"
   },
   {
    "duration": 18,
    "start_time": "2021-09-18T11:55:18.096Z"
   },
   {
    "duration": 21,
    "start_time": "2021-09-18T11:55:18.116Z"
   },
   {
    "duration": 10,
    "start_time": "2021-09-18T11:55:18.139Z"
   },
   {
    "duration": 5,
    "start_time": "2021-09-18T11:55:18.150Z"
   },
   {
    "duration": 20,
    "start_time": "2021-09-18T11:55:18.157Z"
   },
   {
    "duration": 5,
    "start_time": "2021-09-18T11:55:18.179Z"
   },
   {
    "duration": 4,
    "start_time": "2021-09-18T11:55:18.187Z"
   },
   {
    "duration": 7,
    "start_time": "2021-09-18T11:55:18.193Z"
   },
   {
    "duration": 5,
    "start_time": "2021-09-18T11:55:18.202Z"
   },
   {
    "duration": 43,
    "start_time": "2021-09-18T11:55:18.209Z"
   },
   {
    "duration": 30,
    "start_time": "2021-09-18T11:55:18.254Z"
   },
   {
    "duration": 6,
    "start_time": "2021-09-18T11:55:18.286Z"
   },
   {
    "duration": 8,
    "start_time": "2021-09-18T11:55:18.293Z"
   },
   {
    "duration": 13,
    "start_time": "2021-09-18T11:55:18.302Z"
   },
   {
    "duration": 45,
    "start_time": "2021-09-18T11:55:18.316Z"
   },
   {
    "duration": 12,
    "start_time": "2021-09-18T11:55:18.362Z"
   },
   {
    "duration": 7,
    "start_time": "2021-09-18T11:55:18.376Z"
   },
   {
    "duration": 7,
    "start_time": "2021-09-18T11:55:18.385Z"
   },
   {
    "duration": 15,
    "start_time": "2021-09-18T11:55:18.394Z"
   },
   {
    "duration": 13,
    "start_time": "2021-09-18T11:55:18.449Z"
   },
   {
    "duration": 37,
    "start_time": "2021-09-18T11:55:18.464Z"
   },
   {
    "duration": 49,
    "start_time": "2021-09-18T11:55:18.505Z"
   },
   {
    "duration": 16,
    "start_time": "2021-09-18T11:55:18.557Z"
   },
   {
    "duration": 2287,
    "start_time": "2021-09-18T11:55:18.575Z"
   },
   {
    "duration": 15,
    "start_time": "2021-09-18T11:55:20.864Z"
   },
   {
    "duration": 11,
    "start_time": "2021-09-18T11:55:20.881Z"
   },
   {
    "duration": 16,
    "start_time": "2021-09-18T11:55:20.894Z"
   },
   {
    "duration": 41,
    "start_time": "2021-09-18T11:55:20.912Z"
   },
   {
    "duration": 15,
    "start_time": "2021-09-18T11:55:20.954Z"
   },
   {
    "duration": 7,
    "start_time": "2021-09-18T11:55:20.971Z"
   },
   {
    "duration": 7,
    "start_time": "2021-09-18T11:55:20.979Z"
   },
   {
    "duration": 7,
    "start_time": "2021-09-18T11:55:20.987Z"
   },
   {
    "duration": 10,
    "start_time": "2021-09-18T11:55:20.995Z"
   },
   {
    "duration": 44,
    "start_time": "2021-09-18T11:55:21.006Z"
   },
   {
    "duration": 8,
    "start_time": "2021-09-18T11:55:21.052Z"
   },
   {
    "duration": 8,
    "start_time": "2021-09-18T11:55:21.062Z"
   },
   {
    "duration": 6,
    "start_time": "2021-09-18T11:58:51.307Z"
   },
   {
    "duration": 7,
    "start_time": "2021-09-18T11:58:53.212Z"
   },
   {
    "duration": 6,
    "start_time": "2021-09-18T11:58:55.027Z"
   },
   {
    "duration": 5,
    "start_time": "2021-09-18T11:59:53.637Z"
   },
   {
    "duration": 5,
    "start_time": "2021-09-18T12:01:13.260Z"
   },
   {
    "duration": 7,
    "start_time": "2021-09-18T12:01:20.260Z"
   },
   {
    "duration": 8,
    "start_time": "2021-09-18T12:03:35.829Z"
   },
   {
    "duration": 6,
    "start_time": "2021-09-18T12:04:09.749Z"
   },
   {
    "duration": 5,
    "start_time": "2021-09-18T12:05:42.309Z"
   },
   {
    "duration": 7,
    "start_time": "2021-09-18T12:05:48.404Z"
   },
   {
    "duration": 9,
    "start_time": "2021-09-18T12:06:27.196Z"
   },
   {
    "duration": 5,
    "start_time": "2021-09-18T12:06:46.412Z"
   },
   {
    "duration": 32,
    "start_time": "2021-09-18T12:13:10.660Z"
   },
   {
    "duration": 18,
    "start_time": "2021-09-18T12:13:30.892Z"
   },
   {
    "duration": 25,
    "start_time": "2021-09-18T12:14:16.996Z"
   },
   {
    "duration": 649,
    "start_time": "2021-09-18T12:27:56.062Z"
   },
   {
    "duration": 17,
    "start_time": "2021-09-18T12:27:56.713Z"
   },
   {
    "duration": 22,
    "start_time": "2021-09-18T12:27:56.734Z"
   },
   {
    "duration": 15,
    "start_time": "2021-09-18T12:27:56.758Z"
   },
   {
    "duration": 5,
    "start_time": "2021-09-18T12:27:56.775Z"
   },
   {
    "duration": 23,
    "start_time": "2021-09-18T12:27:56.781Z"
   },
   {
    "duration": 5,
    "start_time": "2021-09-18T12:27:56.807Z"
   },
   {
    "duration": 35,
    "start_time": "2021-09-18T12:27:56.815Z"
   },
   {
    "duration": 5,
    "start_time": "2021-09-18T12:27:56.853Z"
   },
   {
    "duration": 7,
    "start_time": "2021-09-18T12:27:56.860Z"
   },
   {
    "duration": 18,
    "start_time": "2021-09-18T12:27:56.869Z"
   },
   {
    "duration": 33,
    "start_time": "2021-09-18T12:27:56.889Z"
   },
   {
    "duration": 27,
    "start_time": "2021-09-18T12:27:56.924Z"
   },
   {
    "duration": 15,
    "start_time": "2021-09-18T12:27:56.953Z"
   },
   {
    "duration": 24,
    "start_time": "2021-09-18T12:27:56.969Z"
   },
   {
    "duration": 18,
    "start_time": "2021-09-18T12:27:56.995Z"
   },
   {
    "duration": 11,
    "start_time": "2021-09-18T12:27:57.014Z"
   },
   {
    "duration": 7,
    "start_time": "2021-09-18T12:27:57.027Z"
   },
   {
    "duration": 7,
    "start_time": "2021-09-18T12:27:57.049Z"
   },
   {
    "duration": 23,
    "start_time": "2021-09-18T12:27:57.057Z"
   },
   {
    "duration": 13,
    "start_time": "2021-09-18T12:27:57.081Z"
   },
   {
    "duration": 39,
    "start_time": "2021-09-18T12:27:57.098Z"
   },
   {
    "duration": 39,
    "start_time": "2021-09-18T12:27:57.139Z"
   },
   {
    "duration": 23,
    "start_time": "2021-09-18T12:27:57.180Z"
   },
   {
    "duration": 2434,
    "start_time": "2021-09-18T12:27:57.205Z"
   },
   {
    "duration": 21,
    "start_time": "2021-09-18T12:27:59.640Z"
   },
   {
    "duration": 9,
    "start_time": "2021-09-18T12:27:59.663Z"
   },
   {
    "duration": 8,
    "start_time": "2021-09-18T12:27:59.674Z"
   },
   {
    "duration": 25,
    "start_time": "2021-09-18T12:27:59.684Z"
   },
   {
    "duration": 48,
    "start_time": "2021-09-18T12:27:59.710Z"
   },
   {
    "duration": 7,
    "start_time": "2021-09-18T12:27:59.760Z"
   },
   {
    "duration": 10,
    "start_time": "2021-09-18T12:27:59.769Z"
   },
   {
    "duration": 8,
    "start_time": "2021-09-18T12:27:59.780Z"
   },
   {
    "duration": 12,
    "start_time": "2021-09-18T12:27:59.790Z"
   },
   {
    "duration": 6,
    "start_time": "2021-09-18T12:27:59.804Z"
   },
   {
    "duration": 40,
    "start_time": "2021-09-18T12:27:59.812Z"
   },
   {
    "duration": 6,
    "start_time": "2021-09-18T12:27:59.854Z"
   },
   {
    "duration": 11,
    "start_time": "2021-09-18T12:27:59.862Z"
   },
   {
    "duration": 13,
    "start_time": "2021-09-18T12:27:59.874Z"
   },
   {
    "duration": 7,
    "start_time": "2021-09-18T12:27:59.888Z"
   },
   {
    "duration": 12,
    "start_time": "2021-09-18T12:27:59.896Z"
   },
   {
    "duration": 11,
    "start_time": "2021-09-18T12:27:59.909Z"
   },
   {
    "duration": 32,
    "start_time": "2021-09-18T12:27:59.921Z"
   }
  ],
  "hide_input": false,
  "kernelspec": {
   "display_name": "Python 3 (ipykernel)",
   "language": "python",
   "name": "python3"
  },
  "language_info": {
   "codemirror_mode": {
    "name": "ipython",
    "version": 3
   },
   "file_extension": ".py",
   "mimetype": "text/x-python",
   "name": "python",
   "nbconvert_exporter": "python",
   "pygments_lexer": "ipython3",
   "version": "3.9.7"
  },
  "toc": {
   "base_numbering": 1,
   "nav_menu": {},
   "number_sections": true,
   "sideBar": true,
   "skip_h1_title": true,
   "title_cell": "Table of Contents",
   "title_sidebar": "Contents",
   "toc_cell": false,
   "toc_position": {
    "height": "calc(100% - 180px)",
    "left": "10px",
    "top": "150px",
    "width": "352.391px"
   },
   "toc_section_display": true,
   "toc_window_display": true
  },
  "varInspector": {
   "cols": {
    "lenName": 16,
    "lenType": 16,
    "lenVar": 40
   },
   "kernels_config": {
    "python": {
     "delete_cmd_postfix": "",
     "delete_cmd_prefix": "del ",
     "library": "var_list.py",
     "varRefreshCmd": "print(var_dic_list())"
    },
    "r": {
     "delete_cmd_postfix": ") ",
     "delete_cmd_prefix": "rm(",
     "library": "var_list.r",
     "varRefreshCmd": "cat(var_dic_list()) "
    }
   },
   "types_to_exclude": [
    "module",
    "function",
    "builtin_function_or_method",
    "instance",
    "_Feature"
   ],
   "window_display": false
  }
 },
 "nbformat": 4,
 "nbformat_minor": 2
}
