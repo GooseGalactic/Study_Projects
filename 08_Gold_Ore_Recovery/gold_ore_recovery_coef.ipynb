{
 "cells": [
  {
   "cell_type": "markdown",
   "metadata": {
    "toc": true
   },
   "source": [
    "<h1>Содержание<span class=\"tocSkip\"></span></h1>\n",
    "<div class=\"toc\"><ul class=\"toc-item\"><li><span><a href=\"#Подготовка-данных\" data-toc-modified-id=\"Подготовка-данных-1\"><span class=\"toc-item-num\">1&nbsp;&nbsp;</span>Подготовка данных</a></span><ul class=\"toc-item\"><li><span><a href=\"#Изучение-данных\" data-toc-modified-id=\"Изучение-данных-1.1\"><span class=\"toc-item-num\">1.1&nbsp;&nbsp;</span>Изучение данных</a></span></li><li><span><a href=\"#Проверка-эффективности-обогащения\" data-toc-modified-id=\"Проверка-эффективности-обогащения-1.2\"><span class=\"toc-item-num\">1.2&nbsp;&nbsp;</span>Проверка эффективности обогащения</a></span></li><li><span><a href=\"#Анализ-признаков,-отсутствующих-в-тестовой-выборке\" data-toc-modified-id=\"Анализ-признаков,-отсутствующих-в-тестовой-выборке-1.3\"><span class=\"toc-item-num\">1.3&nbsp;&nbsp;</span>Анализ признаков, отсутствующих в тестовой выборке</a></span></li><li><span><a href=\"#Предобработка-данных\" data-toc-modified-id=\"Предобработка-данных-1.4\"><span class=\"toc-item-num\">1.4&nbsp;&nbsp;</span>Предобработка данных</a></span></li><li><span><a href=\"#Выводы\" data-toc-modified-id=\"Выводы-1.5\"><span class=\"toc-item-num\">1.5&nbsp;&nbsp;</span>Выводы</a></span></li></ul></li><li><span><a href=\"#Анализ-данных\" data-toc-modified-id=\"Анализ-данных-2\"><span class=\"toc-item-num\">2&nbsp;&nbsp;</span>Анализ данных</a></span><ul class=\"toc-item\"><li><span><a href=\"#Концентрация-металлов-на-различных-этапах-очистки\" data-toc-modified-id=\"Концентрация-металлов-на-различных-этапах-очистки-2.1\"><span class=\"toc-item-num\">2.1&nbsp;&nbsp;</span>Концентрация металлов на различных этапах очистки</a></span></li><li><span><a href=\"#Сравнение-распределения-размеров-гранул\" data-toc-modified-id=\"Сравнение-распределения-размеров-гранул-2.2\"><span class=\"toc-item-num\">2.2&nbsp;&nbsp;</span>Сравнение распределения размеров гранул</a></span></li><li><span><a href=\"#Исследование-суммарной-концентрации-всех-веществ-на-разных-стадиях:-в-сырье,-в-черновом-и-финальном-концентратах\" data-toc-modified-id=\"Исследование-суммарной-концентрации-всех-веществ-на-разных-стадиях:-в-сырье,-в-черновом-и-финальном-концентратах-2.3\"><span class=\"toc-item-num\">2.3&nbsp;&nbsp;</span>Исследование суммарной концентрации всех веществ на разных стадиях: в сырье, в черновом и финальном концентратах</a></span></li><li><span><a href=\"#Выводы\" data-toc-modified-id=\"Выводы-2.4\"><span class=\"toc-item-num\">2.4&nbsp;&nbsp;</span>Выводы</a></span></li></ul></li><li><span><a href=\"#Модель\" data-toc-modified-id=\"Модель-3\"><span class=\"toc-item-num\">3&nbsp;&nbsp;</span>Модель</a></span><ul class=\"toc-item\"><li><span><a href=\"#Сравнение-с-константной-моделью\" data-toc-modified-id=\"Сравнение-с-константной-моделью-3.1\"><span class=\"toc-item-num\">3.1&nbsp;&nbsp;</span>Сравнение с константной моделью</a></span></li></ul></li><li><span><a href=\"#Результаты-и-выводы\" data-toc-modified-id=\"Результаты-и-выводы-4\"><span class=\"toc-item-num\">4&nbsp;&nbsp;</span>Результаты и выводы</a></span></li></ul></div>"
   ]
  },
  {
   "cell_type": "markdown",
   "metadata": {},
   "source": [
    "## Подготовка данных"
   ]
  },
  {
   "cell_type": "markdown",
   "metadata": {},
   "source": [
    "### Изучение данных"
   ]
  },
  {
   "cell_type": "code",
   "execution_count": 1,
   "metadata": {
    "ExecuteTime": {
     "end_time": "2022-02-09T17:12:02.268795Z",
     "start_time": "2022-02-09T17:12:00.061668Z"
    }
   },
   "outputs": [],
   "source": [
    "import pandas as pd\n",
    "import numpy as np\n",
    "\n",
    "import matplotlib.pyplot as plt\n",
    "import seaborn as sns\n",
    "\n",
    "from sklearn.metrics import mean_absolute_error, make_scorer\n",
    "from sklearn.impute import SimpleImputer\n",
    "from sklearn.preprocessing import StandardScaler, MinMaxScaler, Normalizer, MaxAbsScaler\n",
    "from sklearn.pipeline import Pipeline\n",
    "from sklearn.compose import ColumnTransformer\n",
    "from sklearn.model_selection import train_test_split, GridSearchCV\n",
    "from sklearn.linear_model import LinearRegression, Ridge, Lasso, ElasticNet\n",
    "from sklearn.neighbors import KNeighborsRegressor\n",
    "from sklearn.tree import DecisionTreeRegressor\n",
    "from sklearn.ensemble import RandomForestRegressor\n",
    "from sklearn.dummy import DummyRegressor"
   ]
  },
  {
   "cell_type": "code",
   "execution_count": 2,
   "metadata": {
    "ExecuteTime": {
     "end_time": "2022-02-09T17:12:02.284748Z",
     "start_time": "2022-02-09T17:12:02.270759Z"
    }
   },
   "outputs": [],
   "source": [
    "import warnings\n",
    "warnings.filterwarnings(\"ignore\")"
   ]
  },
  {
   "cell_type": "code",
   "execution_count": 3,
   "metadata": {
    "ExecuteTime": {
     "end_time": "2022-02-09T17:12:03.026736Z",
     "start_time": "2022-02-09T17:12:02.286716Z"
    }
   },
   "outputs": [],
   "source": [
    "X = pd.read_csv('gold_recovery_train_new.csv', index_col='date') #поставим дату в индекс для навигации\n",
    "Y = pd.read_csv('gold_recovery_test_new.csv', index_col='date')  #в датасетах\n",
    "df = pd.read_csv('gold_recovery_full_new.csv', index_col='date')"
   ]
  },
  {
   "cell_type": "code",
   "execution_count": 4,
   "metadata": {
    "ExecuteTime": {
     "end_time": "2022-02-09T17:12:03.074607Z",
     "start_time": "2022-02-09T17:12:03.029741Z"
    }
   },
   "outputs": [
    {
     "name": "stdout",
     "output_type": "stream",
     "text": [
      "<class 'pandas.core.frame.DataFrame'>\n",
      "Index: 14149 entries, 2016-01-15 00:00:00 to 2018-08-18 10:59:59\n",
      "Data columns (total 86 columns):\n",
      " #   Column                                              Non-Null Count  Dtype  \n",
      "---  ------                                              --------------  -----  \n",
      " 0   final.output.concentrate_ag                         14148 non-null  float64\n",
      " 1   final.output.concentrate_pb                         14148 non-null  float64\n",
      " 2   final.output.concentrate_sol                        13938 non-null  float64\n",
      " 3   final.output.concentrate_au                         14149 non-null  float64\n",
      " 4   final.output.recovery                               14149 non-null  float64\n",
      " 5   final.output.tail_ag                                14149 non-null  float64\n",
      " 6   final.output.tail_pb                                14049 non-null  float64\n",
      " 7   final.output.tail_sol                               14144 non-null  float64\n",
      " 8   final.output.tail_au                                14149 non-null  float64\n",
      " 9   primary_cleaner.input.sulfate                       14129 non-null  float64\n",
      " 10  primary_cleaner.input.depressant                    14117 non-null  float64\n",
      " 11  primary_cleaner.input.feed_size                     14149 non-null  float64\n",
      " 12  primary_cleaner.input.xanthate                      14049 non-null  float64\n",
      " 13  primary_cleaner.output.concentrate_ag               14149 non-null  float64\n",
      " 14  primary_cleaner.output.concentrate_pb               14063 non-null  float64\n",
      " 15  primary_cleaner.output.concentrate_sol              13863 non-null  float64\n",
      " 16  primary_cleaner.output.concentrate_au               14149 non-null  float64\n",
      " 17  primary_cleaner.output.tail_ag                      14148 non-null  float64\n",
      " 18  primary_cleaner.output.tail_pb                      14134 non-null  float64\n",
      " 19  primary_cleaner.output.tail_sol                     14103 non-null  float64\n",
      " 20  primary_cleaner.output.tail_au                      14149 non-null  float64\n",
      " 21  primary_cleaner.state.floatbank8_a_air              14145 non-null  float64\n",
      " 22  primary_cleaner.state.floatbank8_a_level            14148 non-null  float64\n",
      " 23  primary_cleaner.state.floatbank8_b_air              14145 non-null  float64\n",
      " 24  primary_cleaner.state.floatbank8_b_level            14148 non-null  float64\n",
      " 25  primary_cleaner.state.floatbank8_c_air              14147 non-null  float64\n",
      " 26  primary_cleaner.state.floatbank8_c_level            14148 non-null  float64\n",
      " 27  primary_cleaner.state.floatbank8_d_air              14146 non-null  float64\n",
      " 28  primary_cleaner.state.floatbank8_d_level            14148 non-null  float64\n",
      " 29  rougher.calculation.sulfate_to_au_concentrate       14148 non-null  float64\n",
      " 30  rougher.calculation.floatbank10_sulfate_to_au_feed  14148 non-null  float64\n",
      " 31  rougher.calculation.floatbank11_sulfate_to_au_feed  14148 non-null  float64\n",
      " 32  rougher.calculation.au_pb_ratio                     14149 non-null  float64\n",
      " 33  rougher.input.feed_ag                               14149 non-null  float64\n",
      " 34  rougher.input.feed_pb                               14049 non-null  float64\n",
      " 35  rougher.input.feed_rate                             14141 non-null  float64\n",
      " 36  rougher.input.feed_size                             14005 non-null  float64\n",
      " 37  rougher.input.feed_sol                              14071 non-null  float64\n",
      " 38  rougher.input.feed_au                               14149 non-null  float64\n",
      " 39  rougher.input.floatbank10_sulfate                   14120 non-null  float64\n",
      " 40  rougher.input.floatbank10_xanthate                  14141 non-null  float64\n",
      " 41  rougher.input.floatbank11_sulfate                   14113 non-null  float64\n",
      " 42  rougher.input.floatbank11_xanthate                  13721 non-null  float64\n",
      " 43  rougher.output.concentrate_ag                       14149 non-null  float64\n",
      " 44  rougher.output.concentrate_pb                       14149 non-null  float64\n",
      " 45  rougher.output.concentrate_sol                      14127 non-null  float64\n",
      " 46  rougher.output.concentrate_au                       14149 non-null  float64\n",
      " 47  rougher.output.recovery                             14149 non-null  float64\n",
      " 48  rougher.output.tail_ag                              14148 non-null  float64\n",
      " 49  rougher.output.tail_pb                              14149 non-null  float64\n",
      " 50  rougher.output.tail_sol                             14149 non-null  float64\n",
      " 51  rougher.output.tail_au                              14149 non-null  float64\n",
      " 52  rougher.state.floatbank10_a_air                     14148 non-null  float64\n",
      " 53  rougher.state.floatbank10_a_level                   14148 non-null  float64\n",
      " 54  rougher.state.floatbank10_b_air                     14148 non-null  float64\n",
      " 55  rougher.state.floatbank10_b_level                   14148 non-null  float64\n",
      " 56  rougher.state.floatbank10_c_air                     14148 non-null  float64\n",
      " 57  rougher.state.floatbank10_c_level                   14148 non-null  float64\n",
      " 58  rougher.state.floatbank10_d_air                     14149 non-null  float64\n",
      " 59  rougher.state.floatbank10_d_level                   14149 non-null  float64\n",
      " 60  rougher.state.floatbank10_e_air                     13713 non-null  float64\n",
      " 61  rougher.state.floatbank10_e_level                   14149 non-null  float64\n",
      " 62  rougher.state.floatbank10_f_air                     14149 non-null  float64\n",
      " 63  rougher.state.floatbank10_f_level                   14149 non-null  float64\n",
      " 64  secondary_cleaner.output.tail_ag                    14147 non-null  float64\n",
      " 65  secondary_cleaner.output.tail_pb                    14139 non-null  float64\n",
      " 66  secondary_cleaner.output.tail_sol                   12544 non-null  float64\n",
      " 67  secondary_cleaner.output.tail_au                    14149 non-null  float64\n",
      " 68  secondary_cleaner.state.floatbank2_a_air            13932 non-null  float64\n",
      " 69  secondary_cleaner.state.floatbank2_a_level          14148 non-null  float64\n",
      " 70  secondary_cleaner.state.floatbank2_b_air            14128 non-null  float64\n",
      " 71  secondary_cleaner.state.floatbank2_b_level          14148 non-null  float64\n",
      " 72  secondary_cleaner.state.floatbank3_a_air            14145 non-null  float64\n",
      " 73  secondary_cleaner.state.floatbank3_a_level          14148 non-null  float64\n",
      " 74  secondary_cleaner.state.floatbank3_b_air            14148 non-null  float64\n",
      " 75  secondary_cleaner.state.floatbank3_b_level          14148 non-null  float64\n",
      " 76  secondary_cleaner.state.floatbank4_a_air            14143 non-null  float64\n",
      " 77  secondary_cleaner.state.floatbank4_a_level          14148 non-null  float64\n",
      " 78  secondary_cleaner.state.floatbank4_b_air            14148 non-null  float64\n",
      " 79  secondary_cleaner.state.floatbank4_b_level          14148 non-null  float64\n",
      " 80  secondary_cleaner.state.floatbank5_a_air            14148 non-null  float64\n",
      " 81  secondary_cleaner.state.floatbank5_a_level          14148 non-null  float64\n",
      " 82  secondary_cleaner.state.floatbank5_b_air            14148 non-null  float64\n",
      " 83  secondary_cleaner.state.floatbank5_b_level          14148 non-null  float64\n",
      " 84  secondary_cleaner.state.floatbank6_a_air            14147 non-null  float64\n",
      " 85  secondary_cleaner.state.floatbank6_a_level          14148 non-null  float64\n",
      "dtypes: float64(86)\n",
      "memory usage: 9.4+ MB\n",
      "None\n",
      "\n",
      "\n",
      "<class 'pandas.core.frame.DataFrame'>\n",
      "Index: 5290 entries, 2016-09-01 00:59:59 to 2017-12-31 23:59:59\n",
      "Data columns (total 52 columns):\n",
      " #   Column                                      Non-Null Count  Dtype  \n",
      "---  ------                                      --------------  -----  \n",
      " 0   primary_cleaner.input.sulfate               5286 non-null   float64\n",
      " 1   primary_cleaner.input.depressant            5285 non-null   float64\n",
      " 2   primary_cleaner.input.feed_size             5290 non-null   float64\n",
      " 3   primary_cleaner.input.xanthate              5286 non-null   float64\n",
      " 4   primary_cleaner.state.floatbank8_a_air      5290 non-null   float64\n",
      " 5   primary_cleaner.state.floatbank8_a_level    5290 non-null   float64\n",
      " 6   primary_cleaner.state.floatbank8_b_air      5290 non-null   float64\n",
      " 7   primary_cleaner.state.floatbank8_b_level    5290 non-null   float64\n",
      " 8   primary_cleaner.state.floatbank8_c_air      5290 non-null   float64\n",
      " 9   primary_cleaner.state.floatbank8_c_level    5290 non-null   float64\n",
      " 10  primary_cleaner.state.floatbank8_d_air      5290 non-null   float64\n",
      " 11  primary_cleaner.state.floatbank8_d_level    5290 non-null   float64\n",
      " 12  rougher.input.feed_ag                       5290 non-null   float64\n",
      " 13  rougher.input.feed_pb                       5290 non-null   float64\n",
      " 14  rougher.input.feed_rate                     5287 non-null   float64\n",
      " 15  rougher.input.feed_size                     5289 non-null   float64\n",
      " 16  rougher.input.feed_sol                      5269 non-null   float64\n",
      " 17  rougher.input.feed_au                       5290 non-null   float64\n",
      " 18  rougher.input.floatbank10_sulfate           5285 non-null   float64\n",
      " 19  rougher.input.floatbank10_xanthate          5290 non-null   float64\n",
      " 20  rougher.input.floatbank11_sulfate           5282 non-null   float64\n",
      " 21  rougher.input.floatbank11_xanthate          5265 non-null   float64\n",
      " 22  rougher.state.floatbank10_a_air             5290 non-null   float64\n",
      " 23  rougher.state.floatbank10_a_level           5290 non-null   float64\n",
      " 24  rougher.state.floatbank10_b_air             5290 non-null   float64\n",
      " 25  rougher.state.floatbank10_b_level           5290 non-null   float64\n",
      " 26  rougher.state.floatbank10_c_air             5290 non-null   float64\n",
      " 27  rougher.state.floatbank10_c_level           5290 non-null   float64\n",
      " 28  rougher.state.floatbank10_d_air             5290 non-null   float64\n",
      " 29  rougher.state.floatbank10_d_level           5290 non-null   float64\n",
      " 30  rougher.state.floatbank10_e_air             5290 non-null   float64\n",
      " 31  rougher.state.floatbank10_e_level           5290 non-null   float64\n",
      " 32  rougher.state.floatbank10_f_air             5290 non-null   float64\n",
      " 33  rougher.state.floatbank10_f_level           5290 non-null   float64\n",
      " 34  secondary_cleaner.state.floatbank2_a_air    5287 non-null   float64\n",
      " 35  secondary_cleaner.state.floatbank2_a_level  5290 non-null   float64\n",
      " 36  secondary_cleaner.state.floatbank2_b_air    5288 non-null   float64\n",
      " 37  secondary_cleaner.state.floatbank2_b_level  5290 non-null   float64\n",
      " 38  secondary_cleaner.state.floatbank3_a_air    5281 non-null   float64\n",
      " 39  secondary_cleaner.state.floatbank3_a_level  5290 non-null   float64\n",
      " 40  secondary_cleaner.state.floatbank3_b_air    5290 non-null   float64\n",
      " 41  secondary_cleaner.state.floatbank3_b_level  5290 non-null   float64\n",
      " 42  secondary_cleaner.state.floatbank4_a_air    5290 non-null   float64\n",
      " 43  secondary_cleaner.state.floatbank4_a_level  5290 non-null   float64\n",
      " 44  secondary_cleaner.state.floatbank4_b_air    5290 non-null   float64\n",
      " 45  secondary_cleaner.state.floatbank4_b_level  5290 non-null   float64\n",
      " 46  secondary_cleaner.state.floatbank5_a_air    5290 non-null   float64\n",
      " 47  secondary_cleaner.state.floatbank5_a_level  5290 non-null   float64\n",
      " 48  secondary_cleaner.state.floatbank5_b_air    5290 non-null   float64\n",
      " 49  secondary_cleaner.state.floatbank5_b_level  5290 non-null   float64\n",
      " 50  secondary_cleaner.state.floatbank6_a_air    5290 non-null   float64\n",
      " 51  secondary_cleaner.state.floatbank6_a_level  5290 non-null   float64\n",
      "dtypes: float64(52)\n",
      "memory usage: 2.1+ MB\n",
      "None\n",
      "\n",
      "\n"
     ]
    }
   ],
   "source": [
    "for i in [X, Y]:\n",
    "    print(i.info())\n",
    "    print('\\n')"
   ]
  },
  {
   "cell_type": "code",
   "execution_count": 5,
   "metadata": {
    "ExecuteTime": {
     "end_time": "2022-02-09T17:12:03.106522Z",
     "start_time": "2022-02-09T17:12:03.076603Z"
    }
   },
   "outputs": [
    {
     "name": "stdout",
     "output_type": "stream",
     "text": [
      "<class 'pandas.core.frame.DataFrame'>\n",
      "Index: 19439 entries, 2016-01-15 00:00:00 to 2018-08-18 10:59:59\n",
      "Data columns (total 86 columns):\n",
      " #   Column                                              Non-Null Count  Dtype  \n",
      "---  ------                                              --------------  -----  \n",
      " 0   final.output.concentrate_ag                         19438 non-null  float64\n",
      " 1   final.output.concentrate_pb                         19438 non-null  float64\n",
      " 2   final.output.concentrate_sol                        19228 non-null  float64\n",
      " 3   final.output.concentrate_au                         19439 non-null  float64\n",
      " 4   final.output.recovery                               19439 non-null  float64\n",
      " 5   final.output.tail_ag                                19438 non-null  float64\n",
      " 6   final.output.tail_pb                                19338 non-null  float64\n",
      " 7   final.output.tail_sol                               19433 non-null  float64\n",
      " 8   final.output.tail_au                                19439 non-null  float64\n",
      " 9   primary_cleaner.input.sulfate                       19415 non-null  float64\n",
      " 10  primary_cleaner.input.depressant                    19402 non-null  float64\n",
      " 11  primary_cleaner.input.feed_size                     19439 non-null  float64\n",
      " 12  primary_cleaner.input.xanthate                      19335 non-null  float64\n",
      " 13  primary_cleaner.output.concentrate_ag               19439 non-null  float64\n",
      " 14  primary_cleaner.output.concentrate_pb               19323 non-null  float64\n",
      " 15  primary_cleaner.output.concentrate_sol              19069 non-null  float64\n",
      " 16  primary_cleaner.output.concentrate_au               19439 non-null  float64\n",
      " 17  primary_cleaner.output.tail_ag                      19435 non-null  float64\n",
      " 18  primary_cleaner.output.tail_pb                      19418 non-null  float64\n",
      " 19  primary_cleaner.output.tail_sol                     19377 non-null  float64\n",
      " 20  primary_cleaner.output.tail_au                      19439 non-null  float64\n",
      " 21  primary_cleaner.state.floatbank8_a_air              19435 non-null  float64\n",
      " 22  primary_cleaner.state.floatbank8_a_level            19438 non-null  float64\n",
      " 23  primary_cleaner.state.floatbank8_b_air              19435 non-null  float64\n",
      " 24  primary_cleaner.state.floatbank8_b_level            19438 non-null  float64\n",
      " 25  primary_cleaner.state.floatbank8_c_air              19437 non-null  float64\n",
      " 26  primary_cleaner.state.floatbank8_c_level            19438 non-null  float64\n",
      " 27  primary_cleaner.state.floatbank8_d_air              19436 non-null  float64\n",
      " 28  primary_cleaner.state.floatbank8_d_level            19438 non-null  float64\n",
      " 29  rougher.calculation.sulfate_to_au_concentrate       19437 non-null  float64\n",
      " 30  rougher.calculation.floatbank10_sulfate_to_au_feed  19437 non-null  float64\n",
      " 31  rougher.calculation.floatbank11_sulfate_to_au_feed  19437 non-null  float64\n",
      " 32  rougher.calculation.au_pb_ratio                     19439 non-null  float64\n",
      " 33  rougher.input.feed_ag                               19439 non-null  float64\n",
      " 34  rougher.input.feed_pb                               19339 non-null  float64\n",
      " 35  rougher.input.feed_rate                             19428 non-null  float64\n",
      " 36  rougher.input.feed_size                             19294 non-null  float64\n",
      " 37  rougher.input.feed_sol                              19340 non-null  float64\n",
      " 38  rougher.input.feed_au                               19439 non-null  float64\n",
      " 39  rougher.input.floatbank10_sulfate                   19405 non-null  float64\n",
      " 40  rougher.input.floatbank10_xanthate                  19431 non-null  float64\n",
      " 41  rougher.input.floatbank11_sulfate                   19395 non-null  float64\n",
      " 42  rougher.input.floatbank11_xanthate                  18986 non-null  float64\n",
      " 43  rougher.output.concentrate_ag                       19439 non-null  float64\n",
      " 44  rougher.output.concentrate_pb                       19439 non-null  float64\n",
      " 45  rougher.output.concentrate_sol                      19416 non-null  float64\n",
      " 46  rougher.output.concentrate_au                       19439 non-null  float64\n",
      " 47  rougher.output.recovery                             19439 non-null  float64\n",
      " 48  rougher.output.tail_ag                              19438 non-null  float64\n",
      " 49  rougher.output.tail_pb                              19439 non-null  float64\n",
      " 50  rougher.output.tail_sol                             19439 non-null  float64\n",
      " 51  rougher.output.tail_au                              19439 non-null  float64\n",
      " 52  rougher.state.floatbank10_a_air                     19438 non-null  float64\n",
      " 53  rougher.state.floatbank10_a_level                   19438 non-null  float64\n",
      " 54  rougher.state.floatbank10_b_air                     19438 non-null  float64\n",
      " 55  rougher.state.floatbank10_b_level                   19438 non-null  float64\n",
      " 56  rougher.state.floatbank10_c_air                     19438 non-null  float64\n",
      " 57  rougher.state.floatbank10_c_level                   19438 non-null  float64\n",
      " 58  rougher.state.floatbank10_d_air                     19439 non-null  float64\n",
      " 59  rougher.state.floatbank10_d_level                   19439 non-null  float64\n",
      " 60  rougher.state.floatbank10_e_air                     19003 non-null  float64\n",
      " 61  rougher.state.floatbank10_e_level                   19439 non-null  float64\n",
      " 62  rougher.state.floatbank10_f_air                     19439 non-null  float64\n",
      " 63  rougher.state.floatbank10_f_level                   19439 non-null  float64\n",
      " 64  secondary_cleaner.output.tail_ag                    19437 non-null  float64\n",
      " 65  secondary_cleaner.output.tail_pb                    19427 non-null  float64\n",
      " 66  secondary_cleaner.output.tail_sol                   17691 non-null  float64\n",
      " 67  secondary_cleaner.output.tail_au                    19439 non-null  float64\n",
      " 68  secondary_cleaner.state.floatbank2_a_air            19219 non-null  float64\n",
      " 69  secondary_cleaner.state.floatbank2_a_level          19438 non-null  float64\n",
      " 70  secondary_cleaner.state.floatbank2_b_air            19416 non-null  float64\n",
      " 71  secondary_cleaner.state.floatbank2_b_level          19438 non-null  float64\n",
      " 72  secondary_cleaner.state.floatbank3_a_air            19426 non-null  float64\n",
      " 73  secondary_cleaner.state.floatbank3_a_level          19438 non-null  float64\n",
      " 74  secondary_cleaner.state.floatbank3_b_air            19438 non-null  float64\n",
      " 75  secondary_cleaner.state.floatbank3_b_level          19438 non-null  float64\n",
      " 76  secondary_cleaner.state.floatbank4_a_air            19433 non-null  float64\n",
      " 77  secondary_cleaner.state.floatbank4_a_level          19438 non-null  float64\n",
      " 78  secondary_cleaner.state.floatbank4_b_air            19438 non-null  float64\n",
      " 79  secondary_cleaner.state.floatbank4_b_level          19438 non-null  float64\n",
      " 80  secondary_cleaner.state.floatbank5_a_air            19438 non-null  float64\n",
      " 81  secondary_cleaner.state.floatbank5_a_level          19438 non-null  float64\n",
      " 82  secondary_cleaner.state.floatbank5_b_air            19438 non-null  float64\n",
      " 83  secondary_cleaner.state.floatbank5_b_level          19438 non-null  float64\n",
      " 84  secondary_cleaner.state.floatbank6_a_air            19437 non-null  float64\n",
      " 85  secondary_cleaner.state.floatbank6_a_level          19438 non-null  float64\n",
      "dtypes: float64(86)\n",
      "memory usage: 12.9+ MB\n"
     ]
    }
   ],
   "source": [
    "df.info()"
   ]
  },
  {
   "cell_type": "code",
   "execution_count": 6,
   "metadata": {
    "ExecuteTime": {
     "end_time": "2022-02-09T17:12:03.296015Z",
     "start_time": "2022-02-09T17:12:03.107520Z"
    }
   },
   "outputs": [
    {
     "data": {
      "text/html": [
       "<div>\n",
       "<style scoped>\n",
       "    .dataframe tbody tr th:only-of-type {\n",
       "        vertical-align: middle;\n",
       "    }\n",
       "\n",
       "    .dataframe tbody tr th {\n",
       "        vertical-align: top;\n",
       "    }\n",
       "\n",
       "    .dataframe thead th {\n",
       "        text-align: right;\n",
       "    }\n",
       "</style>\n",
       "<table border=\"1\" class=\"dataframe\">\n",
       "  <thead>\n",
       "    <tr style=\"text-align: right;\">\n",
       "      <th></th>\n",
       "      <th>final.output.concentrate_ag</th>\n",
       "      <th>final.output.concentrate_pb</th>\n",
       "      <th>final.output.concentrate_sol</th>\n",
       "      <th>final.output.concentrate_au</th>\n",
       "      <th>final.output.recovery</th>\n",
       "      <th>final.output.tail_ag</th>\n",
       "      <th>final.output.tail_pb</th>\n",
       "      <th>final.output.tail_sol</th>\n",
       "      <th>final.output.tail_au</th>\n",
       "      <th>primary_cleaner.input.sulfate</th>\n",
       "      <th>...</th>\n",
       "      <th>secondary_cleaner.state.floatbank4_a_air</th>\n",
       "      <th>secondary_cleaner.state.floatbank4_a_level</th>\n",
       "      <th>secondary_cleaner.state.floatbank4_b_air</th>\n",
       "      <th>secondary_cleaner.state.floatbank4_b_level</th>\n",
       "      <th>secondary_cleaner.state.floatbank5_a_air</th>\n",
       "      <th>secondary_cleaner.state.floatbank5_a_level</th>\n",
       "      <th>secondary_cleaner.state.floatbank5_b_air</th>\n",
       "      <th>secondary_cleaner.state.floatbank5_b_level</th>\n",
       "      <th>secondary_cleaner.state.floatbank6_a_air</th>\n",
       "      <th>secondary_cleaner.state.floatbank6_a_level</th>\n",
       "    </tr>\n",
       "  </thead>\n",
       "  <tbody>\n",
       "    <tr>\n",
       "      <th>count</th>\n",
       "      <td>14148.000000</td>\n",
       "      <td>14148.000000</td>\n",
       "      <td>13938.000000</td>\n",
       "      <td>14149.000000</td>\n",
       "      <td>14149.000000</td>\n",
       "      <td>14149.000000</td>\n",
       "      <td>14049.000000</td>\n",
       "      <td>14144.000000</td>\n",
       "      <td>14149.000000</td>\n",
       "      <td>14129.000000</td>\n",
       "      <td>...</td>\n",
       "      <td>14143.000000</td>\n",
       "      <td>14148.000000</td>\n",
       "      <td>14148.000000</td>\n",
       "      <td>14148.000000</td>\n",
       "      <td>14148.000000</td>\n",
       "      <td>14148.000000</td>\n",
       "      <td>14148.000000</td>\n",
       "      <td>14148.000000</td>\n",
       "      <td>14147.000000</td>\n",
       "      <td>14148.000000</td>\n",
       "    </tr>\n",
       "    <tr>\n",
       "      <th>mean</th>\n",
       "      <td>5.142034</td>\n",
       "      <td>10.132960</td>\n",
       "      <td>9.202849</td>\n",
       "      <td>44.003792</td>\n",
       "      <td>66.518832</td>\n",
       "      <td>9.607035</td>\n",
       "      <td>2.597298</td>\n",
       "      <td>10.512122</td>\n",
       "      <td>2.918421</td>\n",
       "      <td>133.320659</td>\n",
       "      <td>...</td>\n",
       "      <td>19.985454</td>\n",
       "      <td>-478.696836</td>\n",
       "      <td>15.487065</td>\n",
       "      <td>-460.229416</td>\n",
       "      <td>16.775136</td>\n",
       "      <td>-483.956022</td>\n",
       "      <td>13.064590</td>\n",
       "      <td>-483.966564</td>\n",
       "      <td>19.577539</td>\n",
       "      <td>-506.798480</td>\n",
       "    </tr>\n",
       "    <tr>\n",
       "      <th>std</th>\n",
       "      <td>1.369586</td>\n",
       "      <td>1.654930</td>\n",
       "      <td>2.790516</td>\n",
       "      <td>4.905261</td>\n",
       "      <td>10.295402</td>\n",
       "      <td>2.319069</td>\n",
       "      <td>0.971843</td>\n",
       "      <td>3.003617</td>\n",
       "      <td>0.903712</td>\n",
       "      <td>39.431659</td>\n",
       "      <td>...</td>\n",
       "      <td>5.657723</td>\n",
       "      <td>50.736021</td>\n",
       "      <td>5.255655</td>\n",
       "      <td>58.843586</td>\n",
       "      <td>5.831906</td>\n",
       "      <td>37.892788</td>\n",
       "      <td>5.765617</td>\n",
       "      <td>39.207913</td>\n",
       "      <td>5.764417</td>\n",
       "      <td>37.079249</td>\n",
       "    </tr>\n",
       "    <tr>\n",
       "      <th>min</th>\n",
       "      <td>0.000000</td>\n",
       "      <td>0.000000</td>\n",
       "      <td>0.000000</td>\n",
       "      <td>0.000000</td>\n",
       "      <td>0.000000</td>\n",
       "      <td>0.000000</td>\n",
       "      <td>0.000000</td>\n",
       "      <td>0.000000</td>\n",
       "      <td>0.000000</td>\n",
       "      <td>0.003112</td>\n",
       "      <td>...</td>\n",
       "      <td>0.000000</td>\n",
       "      <td>-799.709069</td>\n",
       "      <td>0.000000</td>\n",
       "      <td>-799.889113</td>\n",
       "      <td>-0.372054</td>\n",
       "      <td>-797.142475</td>\n",
       "      <td>0.646208</td>\n",
       "      <td>-800.006180</td>\n",
       "      <td>0.195324</td>\n",
       "      <td>-809.398668</td>\n",
       "    </tr>\n",
       "    <tr>\n",
       "      <th>25%</th>\n",
       "      <td>4.211620</td>\n",
       "      <td>9.297355</td>\n",
       "      <td>7.484645</td>\n",
       "      <td>43.276111</td>\n",
       "      <td>62.545817</td>\n",
       "      <td>7.997429</td>\n",
       "      <td>1.905973</td>\n",
       "      <td>8.811324</td>\n",
       "      <td>2.368607</td>\n",
       "      <td>107.006651</td>\n",
       "      <td>...</td>\n",
       "      <td>14.990775</td>\n",
       "      <td>-500.628656</td>\n",
       "      <td>11.894558</td>\n",
       "      <td>-500.149000</td>\n",
       "      <td>11.083980</td>\n",
       "      <td>-500.363177</td>\n",
       "      <td>8.994405</td>\n",
       "      <td>-500.105994</td>\n",
       "      <td>14.989304</td>\n",
       "      <td>-500.745104</td>\n",
       "    </tr>\n",
       "    <tr>\n",
       "      <th>50%</th>\n",
       "      <td>4.994652</td>\n",
       "      <td>10.297144</td>\n",
       "      <td>8.845462</td>\n",
       "      <td>44.872436</td>\n",
       "      <td>67.432775</td>\n",
       "      <td>9.480270</td>\n",
       "      <td>2.592022</td>\n",
       "      <td>10.514621</td>\n",
       "      <td>2.851025</td>\n",
       "      <td>133.018328</td>\n",
       "      <td>...</td>\n",
       "      <td>20.001789</td>\n",
       "      <td>-499.681450</td>\n",
       "      <td>14.975536</td>\n",
       "      <td>-499.388738</td>\n",
       "      <td>17.932223</td>\n",
       "      <td>-499.702452</td>\n",
       "      <td>11.997547</td>\n",
       "      <td>-499.914556</td>\n",
       "      <td>19.984175</td>\n",
       "      <td>-500.061431</td>\n",
       "    </tr>\n",
       "    <tr>\n",
       "      <th>75%</th>\n",
       "      <td>5.859540</td>\n",
       "      <td>11.170603</td>\n",
       "      <td>10.487508</td>\n",
       "      <td>46.166425</td>\n",
       "      <td>72.346428</td>\n",
       "      <td>11.003707</td>\n",
       "      <td>3.241723</td>\n",
       "      <td>11.933009</td>\n",
       "      <td>3.434764</td>\n",
       "      <td>159.825396</td>\n",
       "      <td>...</td>\n",
       "      <td>24.990826</td>\n",
       "      <td>-477.472413</td>\n",
       "      <td>20.059375</td>\n",
       "      <td>-400.039008</td>\n",
       "      <td>21.346550</td>\n",
       "      <td>-487.712108</td>\n",
       "      <td>17.982903</td>\n",
       "      <td>-453.186936</td>\n",
       "      <td>24.991623</td>\n",
       "      <td>-499.536466</td>\n",
       "    </tr>\n",
       "    <tr>\n",
       "      <th>max</th>\n",
       "      <td>16.001945</td>\n",
       "      <td>17.031899</td>\n",
       "      <td>18.124851</td>\n",
       "      <td>52.756638</td>\n",
       "      <td>100.000000</td>\n",
       "      <td>19.552149</td>\n",
       "      <td>5.639565</td>\n",
       "      <td>22.317730</td>\n",
       "      <td>8.197408</td>\n",
       "      <td>250.127834</td>\n",
       "      <td>...</td>\n",
       "      <td>30.115735</td>\n",
       "      <td>-245.239184</td>\n",
       "      <td>24.007913</td>\n",
       "      <td>-145.071088</td>\n",
       "      <td>43.709931</td>\n",
       "      <td>-275.073125</td>\n",
       "      <td>27.926001</td>\n",
       "      <td>-157.396071</td>\n",
       "      <td>32.188906</td>\n",
       "      <td>-104.427459</td>\n",
       "    </tr>\n",
       "  </tbody>\n",
       "</table>\n",
       "<p>8 rows × 86 columns</p>\n",
       "</div>"
      ],
      "text/plain": [
       "       final.output.concentrate_ag  final.output.concentrate_pb  \\\n",
       "count                 14148.000000                 14148.000000   \n",
       "mean                      5.142034                    10.132960   \n",
       "std                       1.369586                     1.654930   \n",
       "min                       0.000000                     0.000000   \n",
       "25%                       4.211620                     9.297355   \n",
       "50%                       4.994652                    10.297144   \n",
       "75%                       5.859540                    11.170603   \n",
       "max                      16.001945                    17.031899   \n",
       "\n",
       "       final.output.concentrate_sol  final.output.concentrate_au  \\\n",
       "count                  13938.000000                 14149.000000   \n",
       "mean                       9.202849                    44.003792   \n",
       "std                        2.790516                     4.905261   \n",
       "min                        0.000000                     0.000000   \n",
       "25%                        7.484645                    43.276111   \n",
       "50%                        8.845462                    44.872436   \n",
       "75%                       10.487508                    46.166425   \n",
       "max                       18.124851                    52.756638   \n",
       "\n",
       "       final.output.recovery  final.output.tail_ag  final.output.tail_pb  \\\n",
       "count           14149.000000          14149.000000          14049.000000   \n",
       "mean               66.518832              9.607035              2.597298   \n",
       "std                10.295402              2.319069              0.971843   \n",
       "min                 0.000000              0.000000              0.000000   \n",
       "25%                62.545817              7.997429              1.905973   \n",
       "50%                67.432775              9.480270              2.592022   \n",
       "75%                72.346428             11.003707              3.241723   \n",
       "max               100.000000             19.552149              5.639565   \n",
       "\n",
       "       final.output.tail_sol  final.output.tail_au  \\\n",
       "count           14144.000000          14149.000000   \n",
       "mean               10.512122              2.918421   \n",
       "std                 3.003617              0.903712   \n",
       "min                 0.000000              0.000000   \n",
       "25%                 8.811324              2.368607   \n",
       "50%                10.514621              2.851025   \n",
       "75%                11.933009              3.434764   \n",
       "max                22.317730              8.197408   \n",
       "\n",
       "       primary_cleaner.input.sulfate  ...  \\\n",
       "count                   14129.000000  ...   \n",
       "mean                      133.320659  ...   \n",
       "std                        39.431659  ...   \n",
       "min                         0.003112  ...   \n",
       "25%                       107.006651  ...   \n",
       "50%                       133.018328  ...   \n",
       "75%                       159.825396  ...   \n",
       "max                       250.127834  ...   \n",
       "\n",
       "       secondary_cleaner.state.floatbank4_a_air  \\\n",
       "count                              14143.000000   \n",
       "mean                                  19.985454   \n",
       "std                                    5.657723   \n",
       "min                                    0.000000   \n",
       "25%                                   14.990775   \n",
       "50%                                   20.001789   \n",
       "75%                                   24.990826   \n",
       "max                                   30.115735   \n",
       "\n",
       "       secondary_cleaner.state.floatbank4_a_level  \\\n",
       "count                                14148.000000   \n",
       "mean                                  -478.696836   \n",
       "std                                     50.736021   \n",
       "min                                   -799.709069   \n",
       "25%                                   -500.628656   \n",
       "50%                                   -499.681450   \n",
       "75%                                   -477.472413   \n",
       "max                                   -245.239184   \n",
       "\n",
       "       secondary_cleaner.state.floatbank4_b_air  \\\n",
       "count                              14148.000000   \n",
       "mean                                  15.487065   \n",
       "std                                    5.255655   \n",
       "min                                    0.000000   \n",
       "25%                                   11.894558   \n",
       "50%                                   14.975536   \n",
       "75%                                   20.059375   \n",
       "max                                   24.007913   \n",
       "\n",
       "       secondary_cleaner.state.floatbank4_b_level  \\\n",
       "count                                14148.000000   \n",
       "mean                                  -460.229416   \n",
       "std                                     58.843586   \n",
       "min                                   -799.889113   \n",
       "25%                                   -500.149000   \n",
       "50%                                   -499.388738   \n",
       "75%                                   -400.039008   \n",
       "max                                   -145.071088   \n",
       "\n",
       "       secondary_cleaner.state.floatbank5_a_air  \\\n",
       "count                              14148.000000   \n",
       "mean                                  16.775136   \n",
       "std                                    5.831906   \n",
       "min                                   -0.372054   \n",
       "25%                                   11.083980   \n",
       "50%                                   17.932223   \n",
       "75%                                   21.346550   \n",
       "max                                   43.709931   \n",
       "\n",
       "       secondary_cleaner.state.floatbank5_a_level  \\\n",
       "count                                14148.000000   \n",
       "mean                                  -483.956022   \n",
       "std                                     37.892788   \n",
       "min                                   -797.142475   \n",
       "25%                                   -500.363177   \n",
       "50%                                   -499.702452   \n",
       "75%                                   -487.712108   \n",
       "max                                   -275.073125   \n",
       "\n",
       "       secondary_cleaner.state.floatbank5_b_air  \\\n",
       "count                              14148.000000   \n",
       "mean                                  13.064590   \n",
       "std                                    5.765617   \n",
       "min                                    0.646208   \n",
       "25%                                    8.994405   \n",
       "50%                                   11.997547   \n",
       "75%                                   17.982903   \n",
       "max                                   27.926001   \n",
       "\n",
       "       secondary_cleaner.state.floatbank5_b_level  \\\n",
       "count                                14148.000000   \n",
       "mean                                  -483.966564   \n",
       "std                                     39.207913   \n",
       "min                                   -800.006180   \n",
       "25%                                   -500.105994   \n",
       "50%                                   -499.914556   \n",
       "75%                                   -453.186936   \n",
       "max                                   -157.396071   \n",
       "\n",
       "       secondary_cleaner.state.floatbank6_a_air  \\\n",
       "count                              14147.000000   \n",
       "mean                                  19.577539   \n",
       "std                                    5.764417   \n",
       "min                                    0.195324   \n",
       "25%                                   14.989304   \n",
       "50%                                   19.984175   \n",
       "75%                                   24.991623   \n",
       "max                                   32.188906   \n",
       "\n",
       "       secondary_cleaner.state.floatbank6_a_level  \n",
       "count                                14148.000000  \n",
       "mean                                  -506.798480  \n",
       "std                                     37.079249  \n",
       "min                                   -809.398668  \n",
       "25%                                   -500.745104  \n",
       "50%                                   -500.061431  \n",
       "75%                                   -499.536466  \n",
       "max                                   -104.427459  \n",
       "\n",
       "[8 rows x 86 columns]"
      ]
     },
     "execution_count": 6,
     "metadata": {},
     "output_type": "execute_result"
    }
   ],
   "source": [
    "X.describe()"
   ]
  },
  {
   "cell_type": "code",
   "execution_count": 7,
   "metadata": {
    "ExecuteTime": {
     "end_time": "2022-02-09T17:12:03.405754Z",
     "start_time": "2022-02-09T17:12:03.298011Z"
    }
   },
   "outputs": [
    {
     "data": {
      "text/html": [
       "<div>\n",
       "<style scoped>\n",
       "    .dataframe tbody tr th:only-of-type {\n",
       "        vertical-align: middle;\n",
       "    }\n",
       "\n",
       "    .dataframe tbody tr th {\n",
       "        vertical-align: top;\n",
       "    }\n",
       "\n",
       "    .dataframe thead th {\n",
       "        text-align: right;\n",
       "    }\n",
       "</style>\n",
       "<table border=\"1\" class=\"dataframe\">\n",
       "  <thead>\n",
       "    <tr style=\"text-align: right;\">\n",
       "      <th></th>\n",
       "      <th>primary_cleaner.input.sulfate</th>\n",
       "      <th>primary_cleaner.input.depressant</th>\n",
       "      <th>primary_cleaner.input.feed_size</th>\n",
       "      <th>primary_cleaner.input.xanthate</th>\n",
       "      <th>primary_cleaner.state.floatbank8_a_air</th>\n",
       "      <th>primary_cleaner.state.floatbank8_a_level</th>\n",
       "      <th>primary_cleaner.state.floatbank8_b_air</th>\n",
       "      <th>primary_cleaner.state.floatbank8_b_level</th>\n",
       "      <th>primary_cleaner.state.floatbank8_c_air</th>\n",
       "      <th>primary_cleaner.state.floatbank8_c_level</th>\n",
       "      <th>...</th>\n",
       "      <th>secondary_cleaner.state.floatbank4_a_air</th>\n",
       "      <th>secondary_cleaner.state.floatbank4_a_level</th>\n",
       "      <th>secondary_cleaner.state.floatbank4_b_air</th>\n",
       "      <th>secondary_cleaner.state.floatbank4_b_level</th>\n",
       "      <th>secondary_cleaner.state.floatbank5_a_air</th>\n",
       "      <th>secondary_cleaner.state.floatbank5_a_level</th>\n",
       "      <th>secondary_cleaner.state.floatbank5_b_air</th>\n",
       "      <th>secondary_cleaner.state.floatbank5_b_level</th>\n",
       "      <th>secondary_cleaner.state.floatbank6_a_air</th>\n",
       "      <th>secondary_cleaner.state.floatbank6_a_level</th>\n",
       "    </tr>\n",
       "  </thead>\n",
       "  <tbody>\n",
       "    <tr>\n",
       "      <th>count</th>\n",
       "      <td>5286.000000</td>\n",
       "      <td>5285.000000</td>\n",
       "      <td>5290.000000</td>\n",
       "      <td>5286.000000</td>\n",
       "      <td>5.290000e+03</td>\n",
       "      <td>5290.000000</td>\n",
       "      <td>5.290000e+03</td>\n",
       "      <td>5290.000000</td>\n",
       "      <td>5.290000e+03</td>\n",
       "      <td>5290.000000</td>\n",
       "      <td>...</td>\n",
       "      <td>5.290000e+03</td>\n",
       "      <td>5290.000000</td>\n",
       "      <td>5.290000e+03</td>\n",
       "      <td>5290.000000</td>\n",
       "      <td>5290.000000</td>\n",
       "      <td>5290.000000</td>\n",
       "      <td>5290.000000</td>\n",
       "      <td>5290.000000</td>\n",
       "      <td>5290.000000</td>\n",
       "      <td>5290.000000</td>\n",
       "    </tr>\n",
       "    <tr>\n",
       "      <th>mean</th>\n",
       "      <td>174.839652</td>\n",
       "      <td>8.683596</td>\n",
       "      <td>7.266339</td>\n",
       "      <td>1.383803</td>\n",
       "      <td>1.539494e+03</td>\n",
       "      <td>-497.665883</td>\n",
       "      <td>1.545174e+03</td>\n",
       "      <td>-500.273098</td>\n",
       "      <td>1.527272e+03</td>\n",
       "      <td>-498.330680</td>\n",
       "      <td>...</td>\n",
       "      <td>1.632007e+01</td>\n",
       "      <td>-505.144570</td>\n",
       "      <td>1.373544e+01</td>\n",
       "      <td>-463.349858</td>\n",
       "      <td>12.804186</td>\n",
       "      <td>-501.329122</td>\n",
       "      <td>9.881145</td>\n",
       "      <td>-495.663398</td>\n",
       "      <td>17.304935</td>\n",
       "      <td>-501.793193</td>\n",
       "    </tr>\n",
       "    <tr>\n",
       "      <th>std</th>\n",
       "      <td>43.027080</td>\n",
       "      <td>3.072050</td>\n",
       "      <td>0.610219</td>\n",
       "      <td>0.643474</td>\n",
       "      <td>1.167979e+02</td>\n",
       "      <td>19.952431</td>\n",
       "      <td>1.222246e+02</td>\n",
       "      <td>32.968307</td>\n",
       "      <td>1.225380e+02</td>\n",
       "      <td>21.964876</td>\n",
       "      <td>...</td>\n",
       "      <td>3.493583e+00</td>\n",
       "      <td>31.427337</td>\n",
       "      <td>3.430484e+00</td>\n",
       "      <td>86.189107</td>\n",
       "      <td>3.026591</td>\n",
       "      <td>17.951495</td>\n",
       "      <td>2.868205</td>\n",
       "      <td>34.535007</td>\n",
       "      <td>4.536544</td>\n",
       "      <td>39.044215</td>\n",
       "    </tr>\n",
       "    <tr>\n",
       "      <th>min</th>\n",
       "      <td>2.566156</td>\n",
       "      <td>0.003839</td>\n",
       "      <td>5.650000</td>\n",
       "      <td>0.004984</td>\n",
       "      <td>5.445860e-32</td>\n",
       "      <td>-795.316337</td>\n",
       "      <td>6.647490e-32</td>\n",
       "      <td>-799.997015</td>\n",
       "      <td>4.033736e-32</td>\n",
       "      <td>-799.960571</td>\n",
       "      <td>...</td>\n",
       "      <td>1.079872e-16</td>\n",
       "      <td>-799.798523</td>\n",
       "      <td>2.489718e-17</td>\n",
       "      <td>-800.836914</td>\n",
       "      <td>0.069227</td>\n",
       "      <td>-797.323986</td>\n",
       "      <td>0.528083</td>\n",
       "      <td>-800.220337</td>\n",
       "      <td>-0.079426</td>\n",
       "      <td>-809.741464</td>\n",
       "    </tr>\n",
       "    <tr>\n",
       "      <th>25%</th>\n",
       "      <td>147.121401</td>\n",
       "      <td>6.489555</td>\n",
       "      <td>6.890000</td>\n",
       "      <td>0.907623</td>\n",
       "      <td>1.498936e+03</td>\n",
       "      <td>-500.357298</td>\n",
       "      <td>1.498971e+03</td>\n",
       "      <td>-500.703002</td>\n",
       "      <td>1.473230e+03</td>\n",
       "      <td>-501.018117</td>\n",
       "      <td>...</td>\n",
       "      <td>1.403618e+01</td>\n",
       "      <td>-500.868258</td>\n",
       "      <td>1.202862e+01</td>\n",
       "      <td>-500.323028</td>\n",
       "      <td>10.914838</td>\n",
       "      <td>-500.726841</td>\n",
       "      <td>8.036719</td>\n",
       "      <td>-500.194668</td>\n",
       "      <td>13.997317</td>\n",
       "      <td>-500.690984</td>\n",
       "    </tr>\n",
       "    <tr>\n",
       "      <th>50%</th>\n",
       "      <td>177.828489</td>\n",
       "      <td>8.052207</td>\n",
       "      <td>7.250000</td>\n",
       "      <td>1.197610</td>\n",
       "      <td>1.585129e+03</td>\n",
       "      <td>-499.969164</td>\n",
       "      <td>1.595622e+03</td>\n",
       "      <td>-500.028514</td>\n",
       "      <td>1.549595e+03</td>\n",
       "      <td>-500.017711</td>\n",
       "      <td>...</td>\n",
       "      <td>1.700847e+01</td>\n",
       "      <td>-500.115727</td>\n",
       "      <td>1.496486e+01</td>\n",
       "      <td>-499.576513</td>\n",
       "      <td>12.954182</td>\n",
       "      <td>-499.990332</td>\n",
       "      <td>10.004301</td>\n",
       "      <td>-499.990535</td>\n",
       "      <td>16.014935</td>\n",
       "      <td>-500.007126</td>\n",
       "    </tr>\n",
       "    <tr>\n",
       "      <th>75%</th>\n",
       "      <td>208.125438</td>\n",
       "      <td>10.027764</td>\n",
       "      <td>7.600000</td>\n",
       "      <td>1.797819</td>\n",
       "      <td>1.602077e+03</td>\n",
       "      <td>-499.568951</td>\n",
       "      <td>1.602324e+03</td>\n",
       "      <td>-499.293257</td>\n",
       "      <td>1.601144e+03</td>\n",
       "      <td>-498.994130</td>\n",
       "      <td>...</td>\n",
       "      <td>1.803862e+01</td>\n",
       "      <td>-499.404224</td>\n",
       "      <td>1.596213e+01</td>\n",
       "      <td>-400.933805</td>\n",
       "      <td>15.097528</td>\n",
       "      <td>-499.283191</td>\n",
       "      <td>11.997467</td>\n",
       "      <td>-499.719913</td>\n",
       "      <td>21.020013</td>\n",
       "      <td>-499.373018</td>\n",
       "    </tr>\n",
       "    <tr>\n",
       "      <th>max</th>\n",
       "      <td>265.983123</td>\n",
       "      <td>40.000000</td>\n",
       "      <td>15.500000</td>\n",
       "      <td>4.102454</td>\n",
       "      <td>2.103104e+03</td>\n",
       "      <td>-57.195404</td>\n",
       "      <td>1.813084e+03</td>\n",
       "      <td>-142.527229</td>\n",
       "      <td>1.715054e+03</td>\n",
       "      <td>-150.937035</td>\n",
       "      <td>...</td>\n",
       "      <td>3.005180e+01</td>\n",
       "      <td>-401.565212</td>\n",
       "      <td>3.126971e+01</td>\n",
       "      <td>-6.506986</td>\n",
       "      <td>25.258848</td>\n",
       "      <td>-244.483566</td>\n",
       "      <td>14.086866</td>\n",
       "      <td>-137.740004</td>\n",
       "      <td>26.705889</td>\n",
       "      <td>-123.307487</td>\n",
       "    </tr>\n",
       "  </tbody>\n",
       "</table>\n",
       "<p>8 rows × 52 columns</p>\n",
       "</div>"
      ],
      "text/plain": [
       "       primary_cleaner.input.sulfate  primary_cleaner.input.depressant  \\\n",
       "count                    5286.000000                       5285.000000   \n",
       "mean                      174.839652                          8.683596   \n",
       "std                        43.027080                          3.072050   \n",
       "min                         2.566156                          0.003839   \n",
       "25%                       147.121401                          6.489555   \n",
       "50%                       177.828489                          8.052207   \n",
       "75%                       208.125438                         10.027764   \n",
       "max                       265.983123                         40.000000   \n",
       "\n",
       "       primary_cleaner.input.feed_size  primary_cleaner.input.xanthate  \\\n",
       "count                      5290.000000                     5286.000000   \n",
       "mean                          7.266339                        1.383803   \n",
       "std                           0.610219                        0.643474   \n",
       "min                           5.650000                        0.004984   \n",
       "25%                           6.890000                        0.907623   \n",
       "50%                           7.250000                        1.197610   \n",
       "75%                           7.600000                        1.797819   \n",
       "max                          15.500000                        4.102454   \n",
       "\n",
       "       primary_cleaner.state.floatbank8_a_air  \\\n",
       "count                            5.290000e+03   \n",
       "mean                             1.539494e+03   \n",
       "std                              1.167979e+02   \n",
       "min                              5.445860e-32   \n",
       "25%                              1.498936e+03   \n",
       "50%                              1.585129e+03   \n",
       "75%                              1.602077e+03   \n",
       "max                              2.103104e+03   \n",
       "\n",
       "       primary_cleaner.state.floatbank8_a_level  \\\n",
       "count                               5290.000000   \n",
       "mean                                -497.665883   \n",
       "std                                   19.952431   \n",
       "min                                 -795.316337   \n",
       "25%                                 -500.357298   \n",
       "50%                                 -499.969164   \n",
       "75%                                 -499.568951   \n",
       "max                                  -57.195404   \n",
       "\n",
       "       primary_cleaner.state.floatbank8_b_air  \\\n",
       "count                            5.290000e+03   \n",
       "mean                             1.545174e+03   \n",
       "std                              1.222246e+02   \n",
       "min                              6.647490e-32   \n",
       "25%                              1.498971e+03   \n",
       "50%                              1.595622e+03   \n",
       "75%                              1.602324e+03   \n",
       "max                              1.813084e+03   \n",
       "\n",
       "       primary_cleaner.state.floatbank8_b_level  \\\n",
       "count                               5290.000000   \n",
       "mean                                -500.273098   \n",
       "std                                   32.968307   \n",
       "min                                 -799.997015   \n",
       "25%                                 -500.703002   \n",
       "50%                                 -500.028514   \n",
       "75%                                 -499.293257   \n",
       "max                                 -142.527229   \n",
       "\n",
       "       primary_cleaner.state.floatbank8_c_air  \\\n",
       "count                            5.290000e+03   \n",
       "mean                             1.527272e+03   \n",
       "std                              1.225380e+02   \n",
       "min                              4.033736e-32   \n",
       "25%                              1.473230e+03   \n",
       "50%                              1.549595e+03   \n",
       "75%                              1.601144e+03   \n",
       "max                              1.715054e+03   \n",
       "\n",
       "       primary_cleaner.state.floatbank8_c_level  ...  \\\n",
       "count                               5290.000000  ...   \n",
       "mean                                -498.330680  ...   \n",
       "std                                   21.964876  ...   \n",
       "min                                 -799.960571  ...   \n",
       "25%                                 -501.018117  ...   \n",
       "50%                                 -500.017711  ...   \n",
       "75%                                 -498.994130  ...   \n",
       "max                                 -150.937035  ...   \n",
       "\n",
       "       secondary_cleaner.state.floatbank4_a_air  \\\n",
       "count                              5.290000e+03   \n",
       "mean                               1.632007e+01   \n",
       "std                                3.493583e+00   \n",
       "min                                1.079872e-16   \n",
       "25%                                1.403618e+01   \n",
       "50%                                1.700847e+01   \n",
       "75%                                1.803862e+01   \n",
       "max                                3.005180e+01   \n",
       "\n",
       "       secondary_cleaner.state.floatbank4_a_level  \\\n",
       "count                                 5290.000000   \n",
       "mean                                  -505.144570   \n",
       "std                                     31.427337   \n",
       "min                                   -799.798523   \n",
       "25%                                   -500.868258   \n",
       "50%                                   -500.115727   \n",
       "75%                                   -499.404224   \n",
       "max                                   -401.565212   \n",
       "\n",
       "       secondary_cleaner.state.floatbank4_b_air  \\\n",
       "count                              5.290000e+03   \n",
       "mean                               1.373544e+01   \n",
       "std                                3.430484e+00   \n",
       "min                                2.489718e-17   \n",
       "25%                                1.202862e+01   \n",
       "50%                                1.496486e+01   \n",
       "75%                                1.596213e+01   \n",
       "max                                3.126971e+01   \n",
       "\n",
       "       secondary_cleaner.state.floatbank4_b_level  \\\n",
       "count                                 5290.000000   \n",
       "mean                                  -463.349858   \n",
       "std                                     86.189107   \n",
       "min                                   -800.836914   \n",
       "25%                                   -500.323028   \n",
       "50%                                   -499.576513   \n",
       "75%                                   -400.933805   \n",
       "max                                     -6.506986   \n",
       "\n",
       "       secondary_cleaner.state.floatbank5_a_air  \\\n",
       "count                               5290.000000   \n",
       "mean                                  12.804186   \n",
       "std                                    3.026591   \n",
       "min                                    0.069227   \n",
       "25%                                   10.914838   \n",
       "50%                                   12.954182   \n",
       "75%                                   15.097528   \n",
       "max                                   25.258848   \n",
       "\n",
       "       secondary_cleaner.state.floatbank5_a_level  \\\n",
       "count                                 5290.000000   \n",
       "mean                                  -501.329122   \n",
       "std                                     17.951495   \n",
       "min                                   -797.323986   \n",
       "25%                                   -500.726841   \n",
       "50%                                   -499.990332   \n",
       "75%                                   -499.283191   \n",
       "max                                   -244.483566   \n",
       "\n",
       "       secondary_cleaner.state.floatbank5_b_air  \\\n",
       "count                               5290.000000   \n",
       "mean                                   9.881145   \n",
       "std                                    2.868205   \n",
       "min                                    0.528083   \n",
       "25%                                    8.036719   \n",
       "50%                                   10.004301   \n",
       "75%                                   11.997467   \n",
       "max                                   14.086866   \n",
       "\n",
       "       secondary_cleaner.state.floatbank5_b_level  \\\n",
       "count                                 5290.000000   \n",
       "mean                                  -495.663398   \n",
       "std                                     34.535007   \n",
       "min                                   -800.220337   \n",
       "25%                                   -500.194668   \n",
       "50%                                   -499.990535   \n",
       "75%                                   -499.719913   \n",
       "max                                   -137.740004   \n",
       "\n",
       "       secondary_cleaner.state.floatbank6_a_air  \\\n",
       "count                               5290.000000   \n",
       "mean                                  17.304935   \n",
       "std                                    4.536544   \n",
       "min                                   -0.079426   \n",
       "25%                                   13.997317   \n",
       "50%                                   16.014935   \n",
       "75%                                   21.020013   \n",
       "max                                   26.705889   \n",
       "\n",
       "       secondary_cleaner.state.floatbank6_a_level  \n",
       "count                                 5290.000000  \n",
       "mean                                  -501.793193  \n",
       "std                                     39.044215  \n",
       "min                                   -809.741464  \n",
       "25%                                   -500.690984  \n",
       "50%                                   -500.007126  \n",
       "75%                                   -499.373018  \n",
       "max                                   -123.307487  \n",
       "\n",
       "[8 rows x 52 columns]"
      ]
     },
     "execution_count": 7,
     "metadata": {},
     "output_type": "execute_result"
    }
   ],
   "source": [
    "Y.describe()"
   ]
  },
  {
   "cell_type": "markdown",
   "metadata": {},
   "source": [
    "Данные содержат в себе пропуски, количество признаков в трейне и тесте не совпадает. Пропущенные значения в датасетах заменим средними, кроме того применим скейлер для обработки признаков."
   ]
  },
  {
   "cell_type": "markdown",
   "metadata": {},
   "source": [
    "### Проверка эффективности обогащения"
   ]
  },
  {
   "cell_type": "markdown",
   "metadata": {},
   "source": [
    "Для этой проверки посчитаем эффективность обогащения по формуле. Сравним результаты с массивом `rougher.output.recovery` обучающего датасета, используя MAE библиотеки scikit-learn"
   ]
  },
  {
   "cell_type": "code",
   "execution_count": 8,
   "metadata": {
    "ExecuteTime": {
     "end_time": "2022-02-09T17:12:03.420683Z",
     "start_time": "2022-02-09T17:12:03.406720Z"
    }
   },
   "outputs": [],
   "source": [
    "'''\n",
    "Функция принимает датасет,\n",
    "считает эффективность и возвращает\n",
    "значение\n",
    "'''\n",
    "\n",
    "def output_recovery(data):\n",
    "    c = data['rougher.output.concentrate_au']\n",
    "    f = data['rougher.input.feed_au']\n",
    "    t = data['rougher.output.tail_au']\n",
    "    \n",
    "    rec = (c * (f - t))/(f * (c - t)) * 100\n",
    "    return rec"
   ]
  },
  {
   "cell_type": "code",
   "execution_count": 9,
   "metadata": {
    "ExecuteTime": {
     "end_time": "2022-02-09T17:12:03.436671Z",
     "start_time": "2022-02-09T17:12:03.422677Z"
    }
   },
   "outputs": [
    {
     "data": {
      "text/plain": [
       "date\n",
       "2016-01-15 00:00:00    87.107763\n",
       "2016-01-15 01:00:00    86.843261\n",
       "2016-01-15 02:00:00    86.842308\n",
       "2016-01-15 03:00:00    87.226430\n",
       "2016-01-15 04:00:00    86.688794\n",
       "Name: rougher.output.recovery, dtype: float64"
      ]
     },
     "execution_count": 9,
     "metadata": {},
     "output_type": "execute_result"
    }
   ],
   "source": [
    "train_recovery = X['rougher.output.recovery']\n",
    "train_recovery.head()"
   ]
  },
  {
   "cell_type": "code",
   "execution_count": 10,
   "metadata": {
    "ExecuteTime": {
     "end_time": "2022-02-09T17:12:03.659045Z",
     "start_time": "2022-02-09T17:12:03.439633Z"
    }
   },
   "outputs": [
    {
     "data": {
      "text/plain": [
       "date\n",
       "2016-01-15 00:00:00    87.107763\n",
       "2016-01-15 01:00:00    86.843261\n",
       "2016-01-15 02:00:00    86.842308\n",
       "2016-01-15 03:00:00    87.226430\n",
       "2016-01-15 04:00:00    86.688794\n",
       "dtype: float64"
      ]
     },
     "execution_count": 10,
     "metadata": {},
     "output_type": "execute_result"
    }
   ],
   "source": [
    "calculated_recovery = X.apply(output_recovery, axis=1)\n",
    "calculated_recovery.head()"
   ]
  },
  {
   "cell_type": "code",
   "execution_count": 11,
   "metadata": {
    "ExecuteTime": {
     "end_time": "2022-02-09T17:12:03.675002Z",
     "start_time": "2022-02-09T17:12:03.660042Z"
    }
   },
   "outputs": [
    {
     "data": {
      "text/plain": [
       "(14149, 14149)"
      ]
     },
     "execution_count": 11,
     "metadata": {},
     "output_type": "execute_result"
    }
   ],
   "source": [
    "len(calculated_recovery), len(train_recovery)"
   ]
  },
  {
   "cell_type": "code",
   "execution_count": 12,
   "metadata": {
    "ExecuteTime": {
     "end_time": "2022-02-09T17:12:03.690959Z",
     "start_time": "2022-02-09T17:12:03.676003Z"
    }
   },
   "outputs": [
    {
     "data": {
      "text/plain": [
       "9.73512347450521e-15"
      ]
     },
     "execution_count": 12,
     "metadata": {},
     "output_type": "execute_result"
    }
   ],
   "source": [
    "mean_absolute_error(train_recovery, calculated_recovery)"
   ]
  },
  {
   "cell_type": "markdown",
   "metadata": {},
   "source": [
    "### Анализ признаков, отсутствующих в тестовой выборке"
   ]
  },
  {
   "cell_type": "code",
   "execution_count": 13,
   "metadata": {
    "ExecuteTime": {
     "end_time": "2022-02-09T17:12:03.706916Z",
     "start_time": "2022-02-09T17:12:03.691957Z"
    }
   },
   "outputs": [
    {
     "data": {
      "text/plain": [
       "34"
      ]
     },
     "execution_count": 13,
     "metadata": {},
     "output_type": "execute_result"
    }
   ],
   "source": [
    "len(X.columns) - len(Y.columns)"
   ]
  },
  {
   "cell_type": "markdown",
   "metadata": {},
   "source": [
    "В обучающей выборке присутствуют 34 признака, отсутствующих в тестовой выборке. Проверим какие признаки отстуствуют"
   ]
  },
  {
   "cell_type": "code",
   "execution_count": 14,
   "metadata": {
    "ExecuteTime": {
     "end_time": "2022-02-09T17:12:03.722874Z",
     "start_time": "2022-02-09T17:12:03.708912Z"
    }
   },
   "outputs": [],
   "source": [
    "'''\n",
    "Функция принимает два датасета,\n",
    "сравнивает названия признаков и \n",
    "возвращает лист с названиями отсутствующих\n",
    "признаков\n",
    "'''\n",
    "\n",
    "def missing_features(x, y):\n",
    "    columns = []\n",
    "    \n",
    "    for i, name in enumerate(x.columns):\n",
    "        if name not in y.columns:\n",
    "            columns.append(name)\n",
    "            \n",
    "    return columns"
   ]
  },
  {
   "cell_type": "code",
   "execution_count": 15,
   "metadata": {
    "ExecuteTime": {
     "end_time": "2022-02-09T17:12:03.738831Z",
     "start_time": "2022-02-09T17:12:03.724871Z"
    }
   },
   "outputs": [
    {
     "data": {
      "text/plain": [
       "(['final.output.concentrate_ag',\n",
       "  'final.output.concentrate_pb',\n",
       "  'final.output.concentrate_sol',\n",
       "  'final.output.concentrate_au',\n",
       "  'final.output.recovery',\n",
       "  'final.output.tail_ag',\n",
       "  'final.output.tail_pb',\n",
       "  'final.output.tail_sol',\n",
       "  'final.output.tail_au',\n",
       "  'primary_cleaner.output.concentrate_ag',\n",
       "  'primary_cleaner.output.concentrate_pb',\n",
       "  'primary_cleaner.output.concentrate_sol',\n",
       "  'primary_cleaner.output.concentrate_au',\n",
       "  'primary_cleaner.output.tail_ag',\n",
       "  'primary_cleaner.output.tail_pb',\n",
       "  'primary_cleaner.output.tail_sol',\n",
       "  'primary_cleaner.output.tail_au',\n",
       "  'rougher.calculation.sulfate_to_au_concentrate',\n",
       "  'rougher.calculation.floatbank10_sulfate_to_au_feed',\n",
       "  'rougher.calculation.floatbank11_sulfate_to_au_feed',\n",
       "  'rougher.calculation.au_pb_ratio',\n",
       "  'rougher.output.concentrate_ag',\n",
       "  'rougher.output.concentrate_pb',\n",
       "  'rougher.output.concentrate_sol',\n",
       "  'rougher.output.concentrate_au',\n",
       "  'rougher.output.recovery',\n",
       "  'rougher.output.tail_ag',\n",
       "  'rougher.output.tail_pb',\n",
       "  'rougher.output.tail_sol',\n",
       "  'rougher.output.tail_au',\n",
       "  'secondary_cleaner.output.tail_ag',\n",
       "  'secondary_cleaner.output.tail_pb',\n",
       "  'secondary_cleaner.output.tail_sol',\n",
       "  'secondary_cleaner.output.tail_au'],\n",
       " 34)"
      ]
     },
     "execution_count": 15,
     "metadata": {},
     "output_type": "execute_result"
    }
   ],
   "source": [
    "miss_feat = missing_features(X, Y)\n",
    "miss_feat, len(miss_feat)"
   ]
  },
  {
   "cell_type": "markdown",
   "metadata": {},
   "source": [
    "Функция отработала верно, количество отсутствующих фичей сошлось.  \n",
    "\n",
    "В тестовом датасете отстутствуют параметры продуктов на всех стадиях, кроме того несколько расчетных характеристик этапа флотации. Также в нем отсутствуют оба целевых признака."
   ]
  },
  {
   "cell_type": "markdown",
   "metadata": {},
   "source": [
    "### Предобработка данных"
   ]
  },
  {
   "cell_type": "markdown",
   "metadata": {},
   "source": [
    "Прежде всего удалим из обучающей выборки все признаки, отсутствующие в обучающей (кроме целевых признаков)"
   ]
  },
  {
   "cell_type": "code",
   "execution_count": 16,
   "metadata": {
    "ExecuteTime": {
     "end_time": "2022-02-09T17:12:03.754788Z",
     "start_time": "2022-02-09T17:12:03.739829Z"
    }
   },
   "outputs": [
    {
     "data": {
      "text/plain": [
       "['final.output.concentrate_ag',\n",
       " 'final.output.concentrate_pb',\n",
       " 'final.output.concentrate_sol',\n",
       " 'final.output.concentrate_au',\n",
       " 'final.output.tail_ag',\n",
       " 'final.output.tail_pb',\n",
       " 'final.output.tail_sol',\n",
       " 'final.output.tail_au',\n",
       " 'primary_cleaner.output.concentrate_ag',\n",
       " 'primary_cleaner.output.concentrate_pb',\n",
       " 'primary_cleaner.output.concentrate_sol',\n",
       " 'primary_cleaner.output.concentrate_au',\n",
       " 'primary_cleaner.output.tail_ag',\n",
       " 'primary_cleaner.output.tail_pb',\n",
       " 'primary_cleaner.output.tail_sol',\n",
       " 'primary_cleaner.output.tail_au',\n",
       " 'rougher.calculation.sulfate_to_au_concentrate',\n",
       " 'rougher.calculation.floatbank10_sulfate_to_au_feed',\n",
       " 'rougher.calculation.floatbank11_sulfate_to_au_feed',\n",
       " 'rougher.calculation.au_pb_ratio',\n",
       " 'rougher.output.concentrate_ag',\n",
       " 'rougher.output.concentrate_pb',\n",
       " 'rougher.output.concentrate_sol',\n",
       " 'rougher.output.concentrate_au',\n",
       " 'rougher.output.tail_ag',\n",
       " 'rougher.output.tail_pb',\n",
       " 'rougher.output.tail_sol',\n",
       " 'rougher.output.tail_au',\n",
       " 'secondary_cleaner.output.tail_ag',\n",
       " 'secondary_cleaner.output.tail_pb',\n",
       " 'secondary_cleaner.output.tail_sol',\n",
       " 'secondary_cleaner.output.tail_au']"
      ]
     },
     "execution_count": 16,
     "metadata": {},
     "output_type": "execute_result"
    }
   ],
   "source": [
    "miss_feat.remove('final.output.recovery')\n",
    "miss_feat.remove('rougher.output.recovery')\n",
    "miss_feat"
   ]
  },
  {
   "cell_type": "code",
   "execution_count": 17,
   "metadata": {
    "ExecuteTime": {
     "end_time": "2022-02-09T17:12:03.770745Z",
     "start_time": "2022-02-09T17:12:03.756784Z"
    }
   },
   "outputs": [
    {
     "name": "stdout",
     "output_type": "stream",
     "text": [
      "86\n",
      "54\n"
     ]
    }
   ],
   "source": [
    "print(X.shape[1])\n",
    "X = X.drop(miss_feat, axis=1)\n",
    "print(X.shape[1])"
   ]
  },
  {
   "cell_type": "markdown",
   "metadata": {},
   "source": [
    "Присоединим целевые признаки к тестовому датасету, используя полный датасет"
   ]
  },
  {
   "cell_type": "code",
   "execution_count": 18,
   "metadata": {
    "ExecuteTime": {
     "end_time": "2022-02-09T17:12:03.787700Z",
     "start_time": "2022-02-09T17:12:03.772742Z"
    }
   },
   "outputs": [],
   "source": [
    "Y = Y.join(df.loc[:, ['final.output.recovery', 'rougher.output.recovery']])"
   ]
  },
  {
   "cell_type": "code",
   "execution_count": 19,
   "metadata": {
    "ExecuteTime": {
     "end_time": "2022-02-09T17:12:03.818619Z",
     "start_time": "2022-02-09T17:12:03.788698Z"
    }
   },
   "outputs": [
    {
     "data": {
      "text/html": [
       "<div>\n",
       "<style scoped>\n",
       "    .dataframe tbody tr th:only-of-type {\n",
       "        vertical-align: middle;\n",
       "    }\n",
       "\n",
       "    .dataframe tbody tr th {\n",
       "        vertical-align: top;\n",
       "    }\n",
       "\n",
       "    .dataframe thead th {\n",
       "        text-align: right;\n",
       "    }\n",
       "</style>\n",
       "<table border=\"1\" class=\"dataframe\">\n",
       "  <thead>\n",
       "    <tr style=\"text-align: right;\">\n",
       "      <th></th>\n",
       "      <th>primary_cleaner.input.sulfate</th>\n",
       "      <th>primary_cleaner.input.depressant</th>\n",
       "      <th>primary_cleaner.input.feed_size</th>\n",
       "      <th>primary_cleaner.input.xanthate</th>\n",
       "      <th>primary_cleaner.state.floatbank8_a_air</th>\n",
       "      <th>primary_cleaner.state.floatbank8_a_level</th>\n",
       "      <th>primary_cleaner.state.floatbank8_b_air</th>\n",
       "      <th>primary_cleaner.state.floatbank8_b_level</th>\n",
       "      <th>primary_cleaner.state.floatbank8_c_air</th>\n",
       "      <th>primary_cleaner.state.floatbank8_c_level</th>\n",
       "      <th>...</th>\n",
       "      <th>secondary_cleaner.state.floatbank4_b_air</th>\n",
       "      <th>secondary_cleaner.state.floatbank4_b_level</th>\n",
       "      <th>secondary_cleaner.state.floatbank5_a_air</th>\n",
       "      <th>secondary_cleaner.state.floatbank5_a_level</th>\n",
       "      <th>secondary_cleaner.state.floatbank5_b_air</th>\n",
       "      <th>secondary_cleaner.state.floatbank5_b_level</th>\n",
       "      <th>secondary_cleaner.state.floatbank6_a_air</th>\n",
       "      <th>secondary_cleaner.state.floatbank6_a_level</th>\n",
       "      <th>final.output.recovery</th>\n",
       "      <th>rougher.output.recovery</th>\n",
       "    </tr>\n",
       "    <tr>\n",
       "      <th>date</th>\n",
       "      <th></th>\n",
       "      <th></th>\n",
       "      <th></th>\n",
       "      <th></th>\n",
       "      <th></th>\n",
       "      <th></th>\n",
       "      <th></th>\n",
       "      <th></th>\n",
       "      <th></th>\n",
       "      <th></th>\n",
       "      <th></th>\n",
       "      <th></th>\n",
       "      <th></th>\n",
       "      <th></th>\n",
       "      <th></th>\n",
       "      <th></th>\n",
       "      <th></th>\n",
       "      <th></th>\n",
       "      <th></th>\n",
       "      <th></th>\n",
       "      <th></th>\n",
       "    </tr>\n",
       "  </thead>\n",
       "  <tbody>\n",
       "    <tr>\n",
       "      <th>2016-09-01 00:59:59</th>\n",
       "      <td>210.800909</td>\n",
       "      <td>14.993118</td>\n",
       "      <td>8.080000</td>\n",
       "      <td>1.005021</td>\n",
       "      <td>1398.981301</td>\n",
       "      <td>-500.225577</td>\n",
       "      <td>1399.144926</td>\n",
       "      <td>-499.919735</td>\n",
       "      <td>1400.102998</td>\n",
       "      <td>-500.704369</td>\n",
       "      <td>...</td>\n",
       "      <td>8.016656</td>\n",
       "      <td>-501.289139</td>\n",
       "      <td>7.946562</td>\n",
       "      <td>-432.317850</td>\n",
       "      <td>4.872511</td>\n",
       "      <td>-500.037437</td>\n",
       "      <td>26.705889</td>\n",
       "      <td>-499.709414</td>\n",
       "      <td>70.273583</td>\n",
       "      <td>89.993421</td>\n",
       "    </tr>\n",
       "    <tr>\n",
       "      <th>2016-09-01 01:59:59</th>\n",
       "      <td>215.392455</td>\n",
       "      <td>14.987471</td>\n",
       "      <td>8.080000</td>\n",
       "      <td>0.990469</td>\n",
       "      <td>1398.777912</td>\n",
       "      <td>-500.057435</td>\n",
       "      <td>1398.055362</td>\n",
       "      <td>-499.778182</td>\n",
       "      <td>1396.151033</td>\n",
       "      <td>-499.240168</td>\n",
       "      <td>...</td>\n",
       "      <td>8.130979</td>\n",
       "      <td>-499.634209</td>\n",
       "      <td>7.958270</td>\n",
       "      <td>-525.839648</td>\n",
       "      <td>4.878850</td>\n",
       "      <td>-500.162375</td>\n",
       "      <td>25.019940</td>\n",
       "      <td>-499.819438</td>\n",
       "      <td>68.910432</td>\n",
       "      <td>88.089657</td>\n",
       "    </tr>\n",
       "    <tr>\n",
       "      <th>2016-09-01 02:59:59</th>\n",
       "      <td>215.259946</td>\n",
       "      <td>12.884934</td>\n",
       "      <td>7.786667</td>\n",
       "      <td>0.996043</td>\n",
       "      <td>1398.493666</td>\n",
       "      <td>-500.868360</td>\n",
       "      <td>1398.860436</td>\n",
       "      <td>-499.764529</td>\n",
       "      <td>1398.075709</td>\n",
       "      <td>-502.151509</td>\n",
       "      <td>...</td>\n",
       "      <td>8.096893</td>\n",
       "      <td>-500.827423</td>\n",
       "      <td>8.071056</td>\n",
       "      <td>-500.801673</td>\n",
       "      <td>4.905125</td>\n",
       "      <td>-499.828510</td>\n",
       "      <td>24.994862</td>\n",
       "      <td>-500.622559</td>\n",
       "      <td>68.143213</td>\n",
       "      <td>88.412756</td>\n",
       "    </tr>\n",
       "    <tr>\n",
       "      <th>2016-09-01 03:59:59</th>\n",
       "      <td>215.336236</td>\n",
       "      <td>12.006805</td>\n",
       "      <td>7.640000</td>\n",
       "      <td>0.863514</td>\n",
       "      <td>1399.618111</td>\n",
       "      <td>-498.863574</td>\n",
       "      <td>1397.440120</td>\n",
       "      <td>-499.211024</td>\n",
       "      <td>1400.129303</td>\n",
       "      <td>-498.355873</td>\n",
       "      <td>...</td>\n",
       "      <td>8.074946</td>\n",
       "      <td>-499.474407</td>\n",
       "      <td>7.897085</td>\n",
       "      <td>-500.868509</td>\n",
       "      <td>4.931400</td>\n",
       "      <td>-499.963623</td>\n",
       "      <td>24.948919</td>\n",
       "      <td>-498.709987</td>\n",
       "      <td>67.776393</td>\n",
       "      <td>87.360133</td>\n",
       "    </tr>\n",
       "    <tr>\n",
       "      <th>2016-09-01 04:59:59</th>\n",
       "      <td>199.099327</td>\n",
       "      <td>10.682530</td>\n",
       "      <td>7.530000</td>\n",
       "      <td>0.805575</td>\n",
       "      <td>1401.268123</td>\n",
       "      <td>-500.808305</td>\n",
       "      <td>1398.128818</td>\n",
       "      <td>-499.504543</td>\n",
       "      <td>1402.172226</td>\n",
       "      <td>-500.810606</td>\n",
       "      <td>...</td>\n",
       "      <td>8.054678</td>\n",
       "      <td>-500.397500</td>\n",
       "      <td>8.107890</td>\n",
       "      <td>-509.526725</td>\n",
       "      <td>4.957674</td>\n",
       "      <td>-500.360026</td>\n",
       "      <td>25.003331</td>\n",
       "      <td>-500.856333</td>\n",
       "      <td>61.467078</td>\n",
       "      <td>83.236367</td>\n",
       "    </tr>\n",
       "  </tbody>\n",
       "</table>\n",
       "<p>5 rows × 54 columns</p>\n",
       "</div>"
      ],
      "text/plain": [
       "                     primary_cleaner.input.sulfate  \\\n",
       "date                                                 \n",
       "2016-09-01 00:59:59                     210.800909   \n",
       "2016-09-01 01:59:59                     215.392455   \n",
       "2016-09-01 02:59:59                     215.259946   \n",
       "2016-09-01 03:59:59                     215.336236   \n",
       "2016-09-01 04:59:59                     199.099327   \n",
       "\n",
       "                     primary_cleaner.input.depressant  \\\n",
       "date                                                    \n",
       "2016-09-01 00:59:59                         14.993118   \n",
       "2016-09-01 01:59:59                         14.987471   \n",
       "2016-09-01 02:59:59                         12.884934   \n",
       "2016-09-01 03:59:59                         12.006805   \n",
       "2016-09-01 04:59:59                         10.682530   \n",
       "\n",
       "                     primary_cleaner.input.feed_size  \\\n",
       "date                                                   \n",
       "2016-09-01 00:59:59                         8.080000   \n",
       "2016-09-01 01:59:59                         8.080000   \n",
       "2016-09-01 02:59:59                         7.786667   \n",
       "2016-09-01 03:59:59                         7.640000   \n",
       "2016-09-01 04:59:59                         7.530000   \n",
       "\n",
       "                     primary_cleaner.input.xanthate  \\\n",
       "date                                                  \n",
       "2016-09-01 00:59:59                        1.005021   \n",
       "2016-09-01 01:59:59                        0.990469   \n",
       "2016-09-01 02:59:59                        0.996043   \n",
       "2016-09-01 03:59:59                        0.863514   \n",
       "2016-09-01 04:59:59                        0.805575   \n",
       "\n",
       "                     primary_cleaner.state.floatbank8_a_air  \\\n",
       "date                                                          \n",
       "2016-09-01 00:59:59                             1398.981301   \n",
       "2016-09-01 01:59:59                             1398.777912   \n",
       "2016-09-01 02:59:59                             1398.493666   \n",
       "2016-09-01 03:59:59                             1399.618111   \n",
       "2016-09-01 04:59:59                             1401.268123   \n",
       "\n",
       "                     primary_cleaner.state.floatbank8_a_level  \\\n",
       "date                                                            \n",
       "2016-09-01 00:59:59                               -500.225577   \n",
       "2016-09-01 01:59:59                               -500.057435   \n",
       "2016-09-01 02:59:59                               -500.868360   \n",
       "2016-09-01 03:59:59                               -498.863574   \n",
       "2016-09-01 04:59:59                               -500.808305   \n",
       "\n",
       "                     primary_cleaner.state.floatbank8_b_air  \\\n",
       "date                                                          \n",
       "2016-09-01 00:59:59                             1399.144926   \n",
       "2016-09-01 01:59:59                             1398.055362   \n",
       "2016-09-01 02:59:59                             1398.860436   \n",
       "2016-09-01 03:59:59                             1397.440120   \n",
       "2016-09-01 04:59:59                             1398.128818   \n",
       "\n",
       "                     primary_cleaner.state.floatbank8_b_level  \\\n",
       "date                                                            \n",
       "2016-09-01 00:59:59                               -499.919735   \n",
       "2016-09-01 01:59:59                               -499.778182   \n",
       "2016-09-01 02:59:59                               -499.764529   \n",
       "2016-09-01 03:59:59                               -499.211024   \n",
       "2016-09-01 04:59:59                               -499.504543   \n",
       "\n",
       "                     primary_cleaner.state.floatbank8_c_air  \\\n",
       "date                                                          \n",
       "2016-09-01 00:59:59                             1400.102998   \n",
       "2016-09-01 01:59:59                             1396.151033   \n",
       "2016-09-01 02:59:59                             1398.075709   \n",
       "2016-09-01 03:59:59                             1400.129303   \n",
       "2016-09-01 04:59:59                             1402.172226   \n",
       "\n",
       "                     primary_cleaner.state.floatbank8_c_level  ...  \\\n",
       "date                                                           ...   \n",
       "2016-09-01 00:59:59                               -500.704369  ...   \n",
       "2016-09-01 01:59:59                               -499.240168  ...   \n",
       "2016-09-01 02:59:59                               -502.151509  ...   \n",
       "2016-09-01 03:59:59                               -498.355873  ...   \n",
       "2016-09-01 04:59:59                               -500.810606  ...   \n",
       "\n",
       "                     secondary_cleaner.state.floatbank4_b_air  \\\n",
       "date                                                            \n",
       "2016-09-01 00:59:59                                  8.016656   \n",
       "2016-09-01 01:59:59                                  8.130979   \n",
       "2016-09-01 02:59:59                                  8.096893   \n",
       "2016-09-01 03:59:59                                  8.074946   \n",
       "2016-09-01 04:59:59                                  8.054678   \n",
       "\n",
       "                     secondary_cleaner.state.floatbank4_b_level  \\\n",
       "date                                                              \n",
       "2016-09-01 00:59:59                                 -501.289139   \n",
       "2016-09-01 01:59:59                                 -499.634209   \n",
       "2016-09-01 02:59:59                                 -500.827423   \n",
       "2016-09-01 03:59:59                                 -499.474407   \n",
       "2016-09-01 04:59:59                                 -500.397500   \n",
       "\n",
       "                     secondary_cleaner.state.floatbank5_a_air  \\\n",
       "date                                                            \n",
       "2016-09-01 00:59:59                                  7.946562   \n",
       "2016-09-01 01:59:59                                  7.958270   \n",
       "2016-09-01 02:59:59                                  8.071056   \n",
       "2016-09-01 03:59:59                                  7.897085   \n",
       "2016-09-01 04:59:59                                  8.107890   \n",
       "\n",
       "                     secondary_cleaner.state.floatbank5_a_level  \\\n",
       "date                                                              \n",
       "2016-09-01 00:59:59                                 -432.317850   \n",
       "2016-09-01 01:59:59                                 -525.839648   \n",
       "2016-09-01 02:59:59                                 -500.801673   \n",
       "2016-09-01 03:59:59                                 -500.868509   \n",
       "2016-09-01 04:59:59                                 -509.526725   \n",
       "\n",
       "                     secondary_cleaner.state.floatbank5_b_air  \\\n",
       "date                                                            \n",
       "2016-09-01 00:59:59                                  4.872511   \n",
       "2016-09-01 01:59:59                                  4.878850   \n",
       "2016-09-01 02:59:59                                  4.905125   \n",
       "2016-09-01 03:59:59                                  4.931400   \n",
       "2016-09-01 04:59:59                                  4.957674   \n",
       "\n",
       "                     secondary_cleaner.state.floatbank5_b_level  \\\n",
       "date                                                              \n",
       "2016-09-01 00:59:59                                 -500.037437   \n",
       "2016-09-01 01:59:59                                 -500.162375   \n",
       "2016-09-01 02:59:59                                 -499.828510   \n",
       "2016-09-01 03:59:59                                 -499.963623   \n",
       "2016-09-01 04:59:59                                 -500.360026   \n",
       "\n",
       "                     secondary_cleaner.state.floatbank6_a_air  \\\n",
       "date                                                            \n",
       "2016-09-01 00:59:59                                 26.705889   \n",
       "2016-09-01 01:59:59                                 25.019940   \n",
       "2016-09-01 02:59:59                                 24.994862   \n",
       "2016-09-01 03:59:59                                 24.948919   \n",
       "2016-09-01 04:59:59                                 25.003331   \n",
       "\n",
       "                     secondary_cleaner.state.floatbank6_a_level  \\\n",
       "date                                                              \n",
       "2016-09-01 00:59:59                                 -499.709414   \n",
       "2016-09-01 01:59:59                                 -499.819438   \n",
       "2016-09-01 02:59:59                                 -500.622559   \n",
       "2016-09-01 03:59:59                                 -498.709987   \n",
       "2016-09-01 04:59:59                                 -500.856333   \n",
       "\n",
       "                     final.output.recovery  rougher.output.recovery  \n",
       "date                                                                 \n",
       "2016-09-01 00:59:59              70.273583                89.993421  \n",
       "2016-09-01 01:59:59              68.910432                88.089657  \n",
       "2016-09-01 02:59:59              68.143213                88.412756  \n",
       "2016-09-01 03:59:59              67.776393                87.360133  \n",
       "2016-09-01 04:59:59              61.467078                83.236367  \n",
       "\n",
       "[5 rows x 54 columns]"
      ]
     },
     "execution_count": 19,
     "metadata": {},
     "output_type": "execute_result"
    }
   ],
   "source": [
    "Y.head()"
   ]
  },
  {
   "cell_type": "markdown",
   "metadata": {},
   "source": [
    "Заполним пропуски в датасете. Для этого используем SimpleImputer с заменой пропусков на средние. Зафитим его на обучающей выборке, а на полном датасете и тестовой выборке - только трансформ, чтобы избежать data leakage"
   ]
  },
  {
   "cell_type": "code",
   "execution_count": 20,
   "metadata": {
    "ExecuteTime": {
     "end_time": "2022-02-09T17:12:03.849534Z",
     "start_time": "2022-02-09T17:12:03.821610Z"
    }
   },
   "outputs": [
    {
     "data": {
      "text/plain": [
       "SimpleImputer()"
      ]
     },
     "execution_count": 20,
     "metadata": {},
     "output_type": "execute_result"
    }
   ],
   "source": [
    "imputer = SimpleImputer()  \n",
    "imputer.fit(X)"
   ]
  },
  {
   "cell_type": "code",
   "execution_count": 21,
   "metadata": {
    "ExecuteTime": {
     "end_time": "2022-02-09T17:12:03.880452Z",
     "start_time": "2022-02-09T17:12:03.851531Z"
    }
   },
   "outputs": [],
   "source": [
    "X = pd.DataFrame(data=imputer.transform(X),\n",
    "                       columns=X.columns,\n",
    "                       index=X.index)\n",
    "\n",
    "Y = pd.DataFrame(data=imputer.transform(Y),\n",
    "                       columns=Y.columns,\n",
    "                       index=Y.index)"
   ]
  },
  {
   "cell_type": "markdown",
   "metadata": {},
   "source": [
    "### Выводы"
   ]
  },
  {
   "cell_type": "markdown",
   "metadata": {},
   "source": [
    "Были изучены две выборки - обучающая и тестовая. В обучающем датасете была проведена успешная проверка целевого признака, обе выборки были приведены к одинаковому виду, начата подготовка пайплайна для обучения"
   ]
  },
  {
   "cell_type": "markdown",
   "metadata": {},
   "source": [
    "Линейная регрессия, к-соседей, дерево, лес"
   ]
  },
  {
   "cell_type": "markdown",
   "metadata": {},
   "source": [
    "## Анализ данных"
   ]
  },
  {
   "cell_type": "markdown",
   "metadata": {},
   "source": [
    "### Концентрация металлов на различных этапах очистки"
   ]
  },
  {
   "cell_type": "code",
   "execution_count": 22,
   "metadata": {
    "ExecuteTime": {
     "end_time": "2022-02-09T17:12:05.245801Z",
     "start_time": "2022-02-09T17:12:05.236841Z"
    }
   },
   "outputs": [
    {
     "data": {
      "text/plain": [
       "['final.output.concentrate_ag',\n",
       " 'final.output.concentrate_pb',\n",
       " 'final.output.concentrate_sol',\n",
       " 'final.output.concentrate_au',\n",
       " 'primary_cleaner.output.concentrate_ag',\n",
       " 'primary_cleaner.output.concentrate_pb',\n",
       " 'primary_cleaner.output.concentrate_sol',\n",
       " 'primary_cleaner.output.concentrate_au',\n",
       " 'rougher.calculation.sulfate_to_au_concentrate',\n",
       " 'rougher.output.concentrate_ag',\n",
       " 'rougher.output.concentrate_pb',\n",
       " 'rougher.output.concentrate_sol',\n",
       " 'rougher.output.concentrate_au']"
      ]
     },
     "execution_count": 22,
     "metadata": {},
     "output_type": "execute_result"
    }
   ],
   "source": [
    "me_concentrate = []\n",
    "for name in df.columns:\n",
    "    if 'concentrate' in name:\n",
    "        me_concentrate.append(name)\n",
    "me_concentrate"
   ]
  },
  {
   "cell_type": "code",
   "execution_count": 23,
   "metadata": {
    "ExecuteTime": {
     "end_time": "2022-02-09T17:12:05.261757Z",
     "start_time": "2022-02-09T17:12:05.247796Z"
    }
   },
   "outputs": [
    {
     "data": {
      "text/plain": [
       "['final.output.concentrate_ag',\n",
       " 'final.output.concentrate_pb',\n",
       " 'final.output.concentrate_au',\n",
       " 'primary_cleaner.output.concentrate_ag',\n",
       " 'primary_cleaner.output.concentrate_pb',\n",
       " 'primary_cleaner.output.concentrate_au',\n",
       " 'rougher.output.concentrate_ag',\n",
       " 'rougher.output.concentrate_pb',\n",
       " 'rougher.output.concentrate_au']"
      ]
     },
     "execution_count": 23,
     "metadata": {},
     "output_type": "execute_result"
    }
   ],
   "source": [
    "me_concentrate.remove('final.output.concentrate_sol')\n",
    "me_concentrate.remove('primary_cleaner.output.concentrate_sol')\n",
    "me_concentrate.remove('rougher.calculation.sulfate_to_au_concentrate')\n",
    "me_concentrate.remove( 'rougher.output.concentrate_sol')\n",
    "me_concentrate"
   ]
  },
  {
   "cell_type": "code",
   "execution_count": 24,
   "metadata": {
    "ExecuteTime": {
     "end_time": "2022-02-09T17:12:05.277743Z",
     "start_time": "2022-02-09T17:12:05.262756Z"
    }
   },
   "outputs": [],
   "source": [
    "me_conc = df[me_concentrate]\n",
    "au = me_conc[['final.output.concentrate_au', 'primary_cleaner.output.concentrate_au', 'rougher.output.concentrate_au']]\n",
    "ag = me_conc[['final.output.concentrate_ag', 'primary_cleaner.output.concentrate_ag', 'rougher.output.concentrate_ag']]\n",
    "pb = me_conc[['final.output.concentrate_pb', 'primary_cleaner.output.concentrate_pb', 'rougher.output.concentrate_pb']]"
   ]
  },
  {
   "cell_type": "code",
   "execution_count": 25,
   "metadata": {
    "ExecuteTime": {
     "end_time": "2022-02-09T17:12:05.293697Z",
     "start_time": "2022-02-09T17:12:05.279710Z"
    }
   },
   "outputs": [],
   "source": [
    "for data in [au, ag, pb]:\n",
    "    data.columns = ['final', 'primary_cleaner', 'rougher']"
   ]
  },
  {
   "cell_type": "code",
   "execution_count": 26,
   "metadata": {
    "ExecuteTime": {
     "end_time": "2022-02-09T17:12:05.309630Z",
     "start_time": "2022-02-09T17:12:05.294670Z"
    }
   },
   "outputs": [],
   "source": [
    "au = au.sort_index(axis=1, ascending=False)\n",
    "ag = ag.sort_index(axis=1, ascending=False)\n",
    "pb = pb.sort_index(axis=1, ascending=False)"
   ]
  },
  {
   "cell_type": "code",
   "execution_count": 27,
   "metadata": {
    "ExecuteTime": {
     "end_time": "2022-02-09T17:12:05.501118Z",
     "start_time": "2022-02-09T17:12:05.310627Z"
    }
   },
   "outputs": [
    {
     "data": {
      "image/png": "[encoded data removed]",
      "text/plain": [
       "<Figure size 720x576 with 1 Axes>"
      ]
     },
     "metadata": {
      "needs_background": "light"
     },
     "output_type": "display_data"
    }
   ],
   "source": [
    "plt.figure(figsize=(10,8))\n",
    "plt.plot(au.mean(), marker='o')\n",
    "plt.plot(ag.mean(), marker='x')\n",
    "plt.plot(pb.mean(), marker='v')\n",
    "plt.title('Конецентрация металлов на различных технологических этапах')\n",
    "plt.legend(['Au', 'Ag', 'Pb'])\n",
    "plt.show()"
   ]
  },
  {
   "cell_type": "markdown",
   "metadata": {},
   "source": [
    "На графиках видно, что на каждом технологическом этапе среднее содержание золота в смеси увеличивается, в то время как содержание серебра и свинца понижается"
   ]
  },
  {
   "cell_type": "markdown",
   "metadata": {},
   "source": [
    "### Сравнение распределения размеров гранул"
   ]
  },
  {
   "cell_type": "code",
   "execution_count": 28,
   "metadata": {
    "ExecuteTime": {
     "end_time": "2022-02-09T17:12:05.931992Z",
     "start_time": "2022-02-09T17:12:05.917033Z"
    }
   },
   "outputs": [],
   "source": [
    "train_size_rougher = X['rougher.input.feed_size'].dropna()\n",
    "test_size_rougher = Y['rougher.input.feed_size'].dropna()"
   ]
  },
  {
   "cell_type": "code",
   "execution_count": 29,
   "metadata": {
    "ExecuteTime": {
     "end_time": "2022-02-09T17:12:06.424647Z",
     "start_time": "2022-02-09T17:12:05.933961Z"
    }
   },
   "outputs": [
    {
     "data": {
      "image/png": "[encoded data removed]",
      "text/plain": [
       "<Figure size 864x360 with 1 Axes>"
      ]
     },
     "metadata": {
      "needs_background": "light"
     },
     "output_type": "display_data"
    }
   ],
   "source": [
    "fig = plt.figure(figsize=(12,5))\n",
    "sns.distplot(train_size_rougher)\n",
    "sns.distplot(test_size_rougher)\n",
    "plt.legend(['Train', 'Test'])\n",
    "plt.title('Распределение размера частиц в тестовой и обучающей выборках до флокуляции')\n",
    "plt.show()"
   ]
  },
  {
   "cell_type": "markdown",
   "metadata": {},
   "source": [
    "Распределения размера частиц в выборках отличаются. У обоих выборок длинный хвост. Рассчитаем три межквартильных размаха для каждой выборки и удалим значения"
   ]
  },
  {
   "cell_type": "code",
   "execution_count": 30,
   "metadata": {
    "ExecuteTime": {
     "end_time": "2022-02-09T17:12:06.439608Z",
     "start_time": "2022-02-09T17:12:06.425646Z"
    }
   },
   "outputs": [],
   "source": [
    "'''\n",
    "Функция принимает в себя датасет,\n",
    "и возвращает границы интервалов\n",
    "'''\n",
    "\n",
    "def interq(data):\n",
    "    q25 = data.quantile(0.25)\n",
    "    q75 = data.quantile(0.75)\n",
    "    \n",
    "    bot = q25 - 3 * (q75 - q25)\n",
    "    top = q75 + 3 * (q75 - q25)\n",
    "    \n",
    "    print(f'Нижнее пороговое значение: {bot:.2f}\\n')\n",
    "    print(f'Верхнее пороговое значение: {top:.2f}')\n",
    "    return bot, top"
   ]
  },
  {
   "cell_type": "code",
   "execution_count": 31,
   "metadata": {
    "ExecuteTime": {
     "end_time": "2022-02-09T17:12:06.455565Z",
     "start_time": "2022-02-09T17:12:06.440606Z"
    }
   },
   "outputs": [
    {
     "name": "stdout",
     "output_type": "stream",
     "text": [
      "Нижнее пороговое значение: -1.78\n",
      "\n",
      "Верхнее пороговое значение: 116.69\n"
     ]
    }
   ],
   "source": [
    "train_bot_rough, train_top_rough = interq(train_size_rougher)"
   ]
  },
  {
   "cell_type": "code",
   "execution_count": 32,
   "metadata": {
    "ExecuteTime": {
     "end_time": "2022-02-09T17:12:06.470524Z",
     "start_time": "2022-02-09T17:12:06.457560Z"
    }
   },
   "outputs": [
    {
     "name": "stdout",
     "output_type": "stream",
     "text": [
      "Нижнее пороговое значение: -11.73\n",
      "\n",
      "Верхнее пороговое значение: 118.09\n"
     ]
    }
   ],
   "source": [
    "test_bot_rough, test_top_rough = interq(test_size_rougher)"
   ]
  },
  {
   "cell_type": "markdown",
   "metadata": {},
   "source": [
    "Можем отбросить все значения, не входящие в полученные интервалы"
   ]
  },
  {
   "cell_type": "code",
   "execution_count": 33,
   "metadata": {
    "ExecuteTime": {
     "end_time": "2022-02-09T17:12:06.628112Z",
     "start_time": "2022-02-09T17:12:06.622121Z"
    }
   },
   "outputs": [],
   "source": [
    "train_size_rougher = train_size_rougher[(train_size_rougher > train_bot_rough) & (train_size_rougher < train_top_rough)]\n",
    "test_size_rougher = test_size_rougher[(test_size_rougher > test_bot_rough) & (test_size_rougher < test_top_rough)]"
   ]
  },
  {
   "cell_type": "markdown",
   "metadata": {},
   "source": [
    "Проверим средние значения и распределения после операции"
   ]
  },
  {
   "cell_type": "code",
   "execution_count": 34,
   "metadata": {
    "ExecuteTime": {
     "end_time": "2022-02-09T17:12:06.962210Z",
     "start_time": "2022-02-09T17:12:06.939271Z"
    }
   },
   "outputs": [
    {
     "data": {
      "text/plain": [
       "(count    13989.000000\n",
       " mean        58.442532\n",
       " std         13.310865\n",
       " min          9.659576\n",
       " 25%         48.970212\n",
       " 50%         55.345609\n",
       " 75%         65.399981\n",
       " max        116.360408\n",
       " Name: rougher.input.feed_size, dtype: float64,\n",
       " count    5240.000000\n",
       " mean       54.871818\n",
       " std        13.879377\n",
       " min         0.046369\n",
       " 25%        43.876069\n",
       " 50%        50.585421\n",
       " 75%        61.982817\n",
       " max       117.915595\n",
       " Name: rougher.input.feed_size, dtype: float64)"
      ]
     },
     "execution_count": 34,
     "metadata": {},
     "output_type": "execute_result"
    }
   ],
   "source": [
    "train_size_rougher.describe(), test_size_rougher.describe()"
   ]
  },
  {
   "cell_type": "code",
   "execution_count": 35,
   "metadata": {
    "ExecuteTime": {
     "end_time": "2022-02-09T17:12:07.389068Z",
     "start_time": "2022-02-09T17:12:06.964206Z"
    }
   },
   "outputs": [
    {
     "data": {
      "image/png": "[encoded data removed]",
      "text/plain": [
       "<Figure size 864x360 with 1 Axes>"
      ]
     },
     "metadata": {
      "needs_background": "light"
     },
     "output_type": "display_data"
    }
   ],
   "source": [
    "fig = plt.figure(figsize=(12,5))\n",
    "sns.distplot(train_size_rougher)\n",
    "sns.distplot(test_size_rougher)\n",
    "plt.legend(['Train', 'Test'])\n",
    "plt.title('Распределение размера частиц в тестовой и обучающей выборках до флокуляции после обработки')\n",
    "plt.show()"
   ]
  },
  {
   "cell_type": "code",
   "execution_count": 36,
   "metadata": {
    "ExecuteTime": {
     "end_time": "2022-02-09T17:12:07.405026Z",
     "start_time": "2022-02-09T17:12:07.392061Z"
    }
   },
   "outputs": [
    {
     "data": {
      "text/plain": [
       "(14149, 5290)"
      ]
     },
     "execution_count": 36,
     "metadata": {},
     "output_type": "execute_result"
    }
   ],
   "source": [
    "X.shape[0], Y.shape[0]"
   ]
  },
  {
   "cell_type": "markdown",
   "metadata": {},
   "source": [
    "Стандартное отклонение выборок почти не отличается, средние значения отличаются незначительно (около 6%), что приемлимо. Применим те же операции ко всей обучающей и тестовой выборкам"
   ]
  },
  {
   "cell_type": "code",
   "execution_count": 37,
   "metadata": {
    "ExecuteTime": {
     "end_time": "2022-02-09T17:12:07.420983Z",
     "start_time": "2022-02-09T17:12:07.407020Z"
    }
   },
   "outputs": [],
   "source": [
    "X = X[(X['rougher.input.feed_size'] > train_bot_rough) & (X['rougher.input.feed_size'] < train_top_rough)]\n",
    "Y = Y[(Y['rougher.input.feed_size'] > test_bot_rough) & (Y['rougher.input.feed_size'] < test_top_rough)]"
   ]
  },
  {
   "cell_type": "code",
   "execution_count": 38,
   "metadata": {
    "ExecuteTime": {
     "end_time": "2022-02-09T17:12:07.436940Z",
     "start_time": "2022-02-09T17:12:07.422978Z"
    }
   },
   "outputs": [
    {
     "data": {
      "text/plain": [
       "(13989, 5240)"
      ]
     },
     "execution_count": 38,
     "metadata": {},
     "output_type": "execute_result"
    }
   ],
   "source": [
    "X.shape[0], Y.shape[0]"
   ]
  },
  {
   "cell_type": "markdown",
   "metadata": {},
   "source": [
    "### Исследование суммарной концентрации всех веществ на разных стадиях: в сырье, в черновом и финальном концентратах"
   ]
  },
  {
   "cell_type": "code",
   "execution_count": 39,
   "metadata": {
    "ExecuteTime": {
     "end_time": "2022-02-09T17:12:07.689265Z",
     "start_time": "2022-02-09T17:12:07.674334Z"
    }
   },
   "outputs": [
    {
     "data": {
      "text/plain": [
       "['final.output.concentrate_ag',\n",
       " 'final.output.concentrate_pb',\n",
       " 'final.output.concentrate_sol',\n",
       " 'final.output.concentrate_au',\n",
       " 'primary_cleaner.output.concentrate_ag',\n",
       " 'primary_cleaner.output.concentrate_pb',\n",
       " 'primary_cleaner.output.concentrate_sol',\n",
       " 'primary_cleaner.output.concentrate_au',\n",
       " 'rougher.calculation.sulfate_to_au_concentrate',\n",
       " 'rougher.output.concentrate_ag',\n",
       " 'rougher.output.concentrate_pb',\n",
       " 'rougher.output.concentrate_sol',\n",
       " 'rougher.output.concentrate_au']"
      ]
     },
     "execution_count": 39,
     "metadata": {},
     "output_type": "execute_result"
    }
   ],
   "source": [
    "concentrations = []\n",
    "for name in df.columns:\n",
    "    if 'concentrate' in name:\n",
    "        concentrations.append(name)\n",
    "concentrations"
   ]
  },
  {
   "cell_type": "markdown",
   "metadata": {},
   "source": [
    "Мы видим, что у нас есть данные по этапам конца флотации, конца первого этапа очистки и финальные концкентрации. Суммируем концентрации для каждого этапа и построим распределения"
   ]
  },
  {
   "cell_type": "code",
   "execution_count": 40,
   "metadata": {
    "ExecuteTime": {
     "end_time": "2022-02-09T17:12:08.049729Z",
     "start_time": "2022-02-09T17:12:08.038763Z"
    }
   },
   "outputs": [],
   "source": [
    "rougher = df['rougher.output.concentrate_ag'] + df['rougher.output.concentrate_pb'] + df['rougher.output.concentrate_sol'] \\\n",
    "+ df['rougher.output.concentrate_au']\n",
    "\n",
    "primary_cleaner = df['primary_cleaner.output.concentrate_ag'] + df['primary_cleaner.output.concentrate_pb'] \\\n",
    "+ df['primary_cleaner.output.concentrate_sol'] + df['primary_cleaner.output.concentrate_au']\n",
    "\n",
    "final = df['final.output.concentrate_ag'] + df['final.output.concentrate_pb'] + df['final.output.concentrate_sol'] \\\n",
    "+ df['final.output.concentrate_au']"
   ]
  },
  {
   "cell_type": "code",
   "execution_count": 41,
   "metadata": {
    "ExecuteTime": {
     "end_time": "2022-02-09T17:12:08.065685Z",
     "start_time": "2022-02-09T17:12:08.051724Z"
    }
   },
   "outputs": [],
   "source": [
    "conc_df = pd.concat([rougher, primary_cleaner, final], axis=1)\n",
    "conc_df.columns = ['rougher', 'primary_cleaner', 'final']"
   ]
  },
  {
   "cell_type": "code",
   "execution_count": 42,
   "metadata": {
    "ExecuteTime": {
     "end_time": "2022-02-09T17:12:08.209301Z",
     "start_time": "2022-02-09T17:12:08.067682Z"
    }
   },
   "outputs": [
    {
     "data": {
      "image/png": "[encoded data removed]",
      "text/plain": [
       "<Figure size 1080x576 with 1 Axes>"
      ]
     },
     "metadata": {
      "needs_background": "light"
     },
     "output_type": "display_data"
    }
   ],
   "source": [
    "plt.figure(figsize=(15,8))\n",
    "sns.boxplot(data=conc_df)\n",
    "plt.title('Распределения суммарных концентраций на различных этапах')\n",
    "plt.show()"
   ]
  },
  {
   "cell_type": "markdown",
   "metadata": {},
   "source": [
    "Большое количество выбросов в районе нуля и низких значений. Повторим отсечение в три межквартильных размаха, в этот раз используя нижний порог "
   ]
  },
  {
   "cell_type": "code",
   "execution_count": 43,
   "metadata": {
    "ExecuteTime": {
     "end_time": "2022-02-09T17:12:08.400790Z",
     "start_time": "2022-02-09T17:12:08.388822Z"
    }
   },
   "outputs": [
    {
     "name": "stdout",
     "output_type": "stream",
     "text": [
      "Нижнее пороговое значение: 41.02\n",
      "\n",
      "Верхнее пороговое значение: 99.37\n",
      "Нижнее пороговое значение: 39.49\n",
      "\n",
      "Верхнее пороговое значение: 85.40\n",
      "Нижнее пороговое значение: 57.77\n",
      "\n",
      "Верхнее пороговое значение: 81.60\n"
     ]
    }
   ],
   "source": [
    "rougher_bot, rougher_top = interq(rougher) #Нас интересуют нижние значения\n",
    "primary_cleaner_bot, primary_cleaner_top = interq(primary_cleaner)\n",
    "final_bot, final_top = interq(final)"
   ]
  },
  {
   "cell_type": "code",
   "execution_count": 44,
   "metadata": {
    "ExecuteTime": {
     "end_time": "2022-02-09T17:12:08.416746Z",
     "start_time": "2022-02-09T17:12:08.402785Z"
    }
   },
   "outputs": [
    {
     "data": {
      "text/plain": [
       "(13989, 54)"
      ]
     },
     "execution_count": 44,
     "metadata": {},
     "output_type": "execute_result"
    }
   ],
   "source": [
    "X.shape"
   ]
  },
  {
   "cell_type": "code",
   "execution_count": 45,
   "metadata": {
    "ExecuteTime": {
     "end_time": "2022-02-09T17:12:08.431718Z",
     "start_time": "2022-02-09T17:12:08.418742Z"
    }
   },
   "outputs": [],
   "source": [
    "'''\n",
    "Функция принимает датасет,\n",
    "удаляет из него значения по индексу\n",
    "и возвращает этот же датасет\n",
    "'''\n",
    "\n",
    "def index_dropper(data):\n",
    "    \n",
    "    index1 = data[(rougher < rougher_bot)].index\n",
    "    index2 = data[(primary_cleaner < primary_cleaner_bot)].index\n",
    "    index3 = data[(final < final_bot)].index\n",
    "    \n",
    "    index1 = index1.append(index2).append(index3)\n",
    "    indexes_to_drop = pd.Series(index1)\n",
    "    indexes_to_drop = list(indexes_to_drop.drop_duplicates())\n",
    "    \n",
    "    data = data.drop(indexes_to_drop, axis=0)\n",
    "    \n",
    "    return data"
   ]
  },
  {
   "cell_type": "code",
   "execution_count": 46,
   "metadata": {
    "ExecuteTime": {
     "end_time": "2022-02-09T17:12:08.462630Z",
     "start_time": "2022-02-09T17:12:08.433702Z"
    }
   },
   "outputs": [],
   "source": [
    "X = index_dropper(X)\n",
    "Y = index_dropper(Y)"
   ]
  },
  {
   "cell_type": "markdown",
   "metadata": {},
   "source": [
    "### Выводы"
   ]
  },
  {
   "cell_type": "code",
   "execution_count": 47,
   "metadata": {
    "ExecuteTime": {
     "end_time": "2022-02-09T17:12:08.749855Z",
     "start_time": "2022-02-09T17:12:08.731905Z"
    }
   },
   "outputs": [],
   "source": [
    "X = X.reset_index(drop=True)\n",
    "Y = Y.reset_index(drop=True)"
   ]
  },
  {
   "cell_type": "markdown",
   "metadata": {},
   "source": [
    "Был произведен анализ данных.  \n",
    "1) Была исследована концентрация металлов на различных этапах очистки. Мы увидели вполне логичное поведение данных - содержание золота увеличивалось с каждым технологическим этапом, в то время как содержание побочных металллов - уменьшалось  \n",
    "2) Было проведено сравнение распределения размеров частиц в обучающей и тестовой выборках. Распределения не были идентичными на этапе флотации и были похожи на этапе очистки. Чтобы уменьшить разрыв между средними показателями мы убрали значения, лежащие за 3IQ расстояниями  \n",
    "3) Наконец, мы исследовали суммарную концентрацию металлов на каждом этапе. Было обнаружено, что данные имеют тяжелый хвост к нулю, большое количество выбросов. Эти выбросы были удалены, данные подготовлены к обучению моделей"
   ]
  },
  {
   "cell_type": "markdown",
   "metadata": {},
   "source": [
    "## Модель"
   ]
  },
  {
   "cell_type": "markdown",
   "metadata": {},
   "source": [
    "Создадим выборки из датасетов и напишем функцию для sMAPE - метрики, по которой будем сравнивать модели"
   ]
  },
  {
   "cell_type": "code",
   "execution_count": 48,
   "metadata": {
    "ExecuteTime": {
     "end_time": "2022-02-09T17:12:09.702309Z",
     "start_time": "2022-02-09T17:12:09.682363Z"
    }
   },
   "outputs": [],
   "source": [
    "X_features = X.drop(['final.output.recovery', 'rougher.output.recovery'], axis=1)\n",
    "X_target_final = X['final.output.recovery']\n",
    "X_target_rougher = X['rougher.output.recovery']"
   ]
  },
  {
   "cell_type": "code",
   "execution_count": 49,
   "metadata": {
    "ExecuteTime": {
     "end_time": "2022-02-09T17:12:09.718292Z",
     "start_time": "2022-02-09T17:12:09.704304Z"
    }
   },
   "outputs": [],
   "source": [
    "Y_features = Y.drop(['final.output.recovery', 'rougher.output.recovery'], axis=1)\n",
    "Y_target_final = Y['final.output.recovery']\n",
    "Y_target_rougher = Y['rougher.output.recovery']"
   ]
  },
  {
   "cell_type": "code",
   "execution_count": 50,
   "metadata": {
    "ExecuteTime": {
     "end_time": "2022-02-09T17:12:09.734222Z",
     "start_time": "2022-02-09T17:12:09.720261Z"
    }
   },
   "outputs": [],
   "source": [
    "def smape(y_true, y_pred):\n",
    "    result = np.sum(abs(y_true - y_pred) / ((abs(y_true) + abs(y_pred)) / 2)) * 100/len(y_true)\n",
    "    return result"
   ]
  },
  {
   "cell_type": "code",
   "execution_count": 51,
   "metadata": {
    "ExecuteTime": {
     "end_time": "2022-02-09T17:12:09.750180Z",
     "start_time": "2022-02-09T17:12:09.736218Z"
    }
   },
   "outputs": [],
   "source": [
    "def smape_final(smape_rougher, smape_final):\n",
    "    smape_fin = 0.25 * smape_rougher + 0.75 * smape_final\n",
    "    \n",
    "    return smape_fin"
   ]
  },
  {
   "cell_type": "markdown",
   "metadata": {},
   "source": [
    "Создадим из нашей функции scorer для использования в GridSearchCV"
   ]
  },
  {
   "cell_type": "code",
   "execution_count": 52,
   "metadata": {
    "ExecuteTime": {
     "end_time": "2022-02-09T17:12:10.034449Z",
     "start_time": "2022-02-09T17:12:10.018472Z"
    }
   },
   "outputs": [],
   "source": [
    "smape_scorer = make_scorer(smape, greater_is_better=False)"
   ]
  },
  {
   "cell_type": "markdown",
   "metadata": {},
   "source": [
    "Перед обучением моделей, необходимо собрать пайплайн для обработки числовых переменных."
   ]
  },
  {
   "cell_type": "code",
   "execution_count": 53,
   "metadata": {
    "ExecuteTime": {
     "end_time": "2022-02-09T17:12:10.381706Z",
     "start_time": "2022-02-09T17:12:10.367744Z"
    }
   },
   "outputs": [],
   "source": [
    "regressors = [\n",
    "    LinearRegression(),\n",
    "    Ridge(),\n",
    "    Lasso(),\n",
    "    ElasticNet(),\n",
    "    KNeighborsRegressor(),\n",
    "    DecisionTreeRegressor(),\n",
    "    RandomForestRegressor()\n",
    "]\n"
   ]
  },
  {
   "cell_type": "code",
   "execution_count": 54,
   "metadata": {
    "ExecuteTime": {
     "end_time": "2022-02-09T17:13:07.760235Z",
     "start_time": "2022-02-09T17:12:10.383701Z"
    }
   },
   "outputs": [
    {
     "name": "stdout",
     "output_type": "stream",
     "text": [
      "Model: LinearRegression()\n",
      "\n",
      "sMAPE: 7.8297\n",
      "Model: Ridge()\n",
      "\n",
      "sMAPE: 7.8280\n",
      "Model: Lasso()\n",
      "\n",
      "sMAPE: 6.6622\n",
      "Model: ElasticNet()\n",
      "\n",
      "sMAPE: 6.7644\n",
      "Model: KNeighborsRegressor()\n",
      "\n",
      "sMAPE: 7.9371\n",
      "Model: DecisionTreeRegressor()\n",
      "\n",
      "sMAPE: 10.4921\n",
      "Model: RandomForestRegressor()\n",
      "\n",
      "sMAPE: 7.7045\n"
     ]
    }
   ],
   "source": [
    "'''\n",
    "Подбор модели для target_final\n",
    "'''\n",
    "\n",
    "\n",
    "for regressor in regressors:\n",
    "    \n",
    "    pipe = Pipeline([('scaler', StandardScaler()),\n",
    "                    ('regressor', regressor)])\n",
    "    pipe.fit(X_features, X_target_final)\n",
    "    prediction = pipe.predict(Y_features)\n",
    "    score = smape(Y_target_final, prediction)\n",
    "   \n",
    "    print(f'Model: {regressor}\\n')\n",
    "    print(f'sMAPE: {score:.4f}')"
   ]
  },
  {
   "cell_type": "code",
   "execution_count": 55,
   "metadata": {
    "ExecuteTime": {
     "end_time": "2022-02-09T17:13:55.943369Z",
     "start_time": "2022-02-09T17:13:07.763230Z"
    }
   },
   "outputs": [
    {
     "name": "stdout",
     "output_type": "stream",
     "text": [
      "Model: LinearRegression()\n",
      "\n",
      "sMAPE: 5.2133\n",
      "Model: Ridge()\n",
      "\n",
      "sMAPE: 5.2119\n",
      "Model: Lasso()\n",
      "\n",
      "sMAPE: 3.7863\n",
      "Model: ElasticNet()\n",
      "\n",
      "sMAPE: 3.8883\n",
      "Model: KNeighborsRegressor()\n",
      "\n",
      "sMAPE: 4.6998\n",
      "Model: DecisionTreeRegressor()\n",
      "\n",
      "sMAPE: 6.3590\n",
      "Model: RandomForestRegressor()\n",
      "\n",
      "sMAPE: 4.0204\n"
     ]
    }
   ],
   "source": [
    "'''\n",
    "Подбор модели для target_rougher\n",
    "'''\n",
    "\n",
    "for regressor in regressors:\n",
    "    \n",
    "    pipe = Pipeline([('scaler', StandardScaler()),\n",
    "                    ('regressor', regressor)])\n",
    "    pipe.fit(X_features, X_target_rougher)\n",
    "    prediction = pipe.predict(Y_features)\n",
    "    score = smape(Y_target_rougher, prediction)\n",
    "   \n",
    "    print(f'Model: {regressor}\\n')\n",
    "    print(f'sMAPE: {score:.4f}')"
   ]
  },
  {
   "cell_type": "markdown",
   "metadata": {},
   "source": [
    "Грубый подбор модели показал, что на обоих таргетах лучше всего показывает себя линейная модель с L1 регуляризацией. Используя кросс-валидацию и GridSearchCV подберем значение параметра alpha и получим предсказания и значение метрики"
   ]
  },
  {
   "cell_type": "code",
   "execution_count": 56,
   "metadata": {
    "ExecuteTime": {
     "end_time": "2022-02-09T17:13:55.959327Z",
     "start_time": "2022-02-09T17:13:55.946363Z"
    }
   },
   "outputs": [],
   "source": [
    "pipe = Pipeline([('scaler', StandardScaler()),\n",
    "                 ('regressor', Lasso())])\n",
    "\n",
    "params = {\n",
    "    'scaler': [StandardScaler(), MinMaxScaler(), Normalizer(), MaxAbsScaler()],\n",
    "    'regressor__alpha': [0, 0.01, 0.1, 1, 10]\n",
    "}\n",
    "\n",
    "grid = GridSearchCV(pipe, params, cv=5, n_jobs=-1, scoring=smape_scorer)"
   ]
  },
  {
   "cell_type": "code",
   "execution_count": 57,
   "metadata": {
    "ExecuteTime": {
     "end_time": "2022-02-09T17:14:04.174880Z",
     "start_time": "2022-02-09T17:13:55.960325Z"
    }
   },
   "outputs": [
    {
     "name": "stdout",
     "output_type": "stream",
     "text": [
      "Лучшие параметры регрессора:\n",
      "\n",
      "{'regressor__alpha': 0.1, 'scaler': MaxAbsScaler()} \n",
      "\n",
      "Wall time: 8.2 s\n"
     ]
    }
   ],
   "source": [
    "%%time\n",
    "\n",
    "grid_final = grid.fit(X_features, X_target_final)\n",
    "\n",
    "best_params_final = grid_final.best_params_\n",
    "\n",
    "print('Лучшие параметры регрессора:\\n')\n",
    "print(best_params_final, '\\n')"
   ]
  },
  {
   "cell_type": "markdown",
   "metadata": {},
   "source": [
    "Для предсказания финального концентрата подходит коэффициент alpha=0.1. Кроме того, лучше всего себя показывает MaxAbsScaler"
   ]
  },
  {
   "cell_type": "code",
   "execution_count": 58,
   "metadata": {
    "ExecuteTime": {
     "end_time": "2022-02-09T17:14:11.025910Z",
     "start_time": "2022-02-09T17:14:04.177845Z"
    }
   },
   "outputs": [
    {
     "name": "stdout",
     "output_type": "stream",
     "text": [
      "Лучшие параметры регрессора:\n",
      "\n",
      "{'regressor__alpha': 0.1, 'scaler': StandardScaler()} \n",
      "\n",
      "Wall time: 6.83 s\n"
     ]
    }
   ],
   "source": [
    "%%time\n",
    "\n",
    "grid = GridSearchCV(pipe, params, cv=5, n_jobs=-1, scoring=smape_scorer)\n",
    "\n",
    "grid_rougher = grid.fit(X_features, X_target_rougher)\n",
    "\n",
    "best_params_rougher = grid_rougher.best_params_\n",
    "\n",
    "print('Лучшие параметры регрессора:\\n')\n",
    "print(best_params_rougher, '\\n')"
   ]
  },
  {
   "cell_type": "markdown",
   "metadata": {},
   "source": [
    "В свою очередь для предсказания концентрата после флотации лучше подходит StandardScaler с тем же коэффициентом alpha"
   ]
  },
  {
   "cell_type": "markdown",
   "metadata": {},
   "source": [
    "Создадим финальные пайплайны для предсказания таргетов и получим значения метрики"
   ]
  },
  {
   "cell_type": "code",
   "execution_count": 59,
   "metadata": {
    "ExecuteTime": {
     "end_time": "2022-02-09T17:14:11.121653Z",
     "start_time": "2022-02-09T17:14:11.028903Z"
    }
   },
   "outputs": [
    {
     "name": "stdout",
     "output_type": "stream",
     "text": [
      "Обучающая выборка: 8.11 % \n",
      "\n",
      "Тестовая выборка: 6.63 %\n"
     ]
    }
   ],
   "source": [
    "final_pipe = Pipeline([('scaler', MaxAbsScaler(copy=True)),\n",
    "                     ('regressor', Lasso(alpha=0.1))])\n",
    "final_pipe.fit(X_features, X_target_final)\n",
    "final_predict = final_pipe.predict(Y_features) \n",
    "final_smape_train = smape(X_target_final, final_pipe.predict(X_features))\n",
    "final_smape_test = smape(Y_target_final, final_predict)\n",
    "print(f'Обучающая выборка: {final_smape_train:.2f} % \\n')\n",
    "print(f'Тестовая выборка: {final_smape_test:.2f} %')"
   ]
  },
  {
   "cell_type": "code",
   "execution_count": 60,
   "metadata": {
    "ExecuteTime": {
     "end_time": "2022-02-09T17:14:11.340069Z",
     "start_time": "2022-02-09T17:14:11.122651Z"
    }
   },
   "outputs": [
    {
     "name": "stdout",
     "output_type": "stream",
     "text": [
      "Обучающая выборка: 4.46 % \n",
      "\n",
      "Тестовая выборка: 4.24 %\n"
     ]
    }
   ],
   "source": [
    "rougher_pipe = Pipeline([('scaler', StandardScaler()),\n",
    "                     ('regressor', Lasso(alpha=0.1))])\n",
    "rougher_pipe.fit(X_features, X_target_rougher)\n",
    "rougher_predict = rougher_pipe.predict(Y_features) \n",
    "rougher_smape_train = smape(X_target_rougher, rougher_pipe.predict(X_features))\n",
    "rougher_smape_test = smape(Y_target_rougher, rougher_predict)\n",
    "print(f'Обучающая выборка: {rougher_smape_train:.2f} % \\n')\n",
    "print(f'Тестовая выборка: {rougher_smape_test:.2f} %')"
   ]
  },
  {
   "cell_type": "markdown",
   "metadata": {},
   "source": [
    "### Сравнение с константной моделью"
   ]
  },
  {
   "cell_type": "markdown",
   "metadata": {},
   "source": [
    "Для проверки модели на адекватность создадим константную модель (DummyRegression), обучим ее и сравним значение метрики с полученной ранее"
   ]
  },
  {
   "cell_type": "code",
   "execution_count": 61,
   "metadata": {
    "ExecuteTime": {
     "end_time": "2022-02-09T17:14:11.356027Z",
     "start_time": "2022-02-09T17:14:11.342065Z"
    }
   },
   "outputs": [],
   "source": [
    "def dummies(features_train, target_train, features_test, target_test):\n",
    "    \n",
    "    dummy = DummyRegressor().fit(features_train, target_train)\n",
    "    \n",
    "    prediction_train = dummy.predict(features_train)\n",
    "    prediction_test = dummy.predict(features_test)\n",
    "    \n",
    "    smape_train = smape(target_train, prediction_train)\n",
    "    smape_test = smape(target_test, prediction_test)\n",
    "    \n",
    "    return smape_train, smape_test"
   ]
  },
  {
   "cell_type": "code",
   "execution_count": 62,
   "metadata": {
    "ExecuteTime": {
     "end_time": "2022-02-09T17:14:11.370986Z",
     "start_time": "2022-02-09T17:14:11.358022Z"
    }
   },
   "outputs": [],
   "source": [
    "dummy_final_smape_train, dummy_final_smape_test = dummies(X_features, X_target_final, Y_features, Y_target_final)"
   ]
  },
  {
   "cell_type": "code",
   "execution_count": 63,
   "metadata": {
    "ExecuteTime": {
     "end_time": "2022-02-09T17:14:11.386944Z",
     "start_time": "2022-02-09T17:14:11.372982Z"
    }
   },
   "outputs": [],
   "source": [
    "dummy_rougher_smape_train, dummy_rougher_smape_test = dummies(\n",
    "    X_features, X_target_rougher, Y_features, Y_target_rougher)"
   ]
  },
  {
   "cell_type": "markdown",
   "metadata": {},
   "source": [
    "Соберем результаты в сводные таблицы и посчитаем итоговую sMAPE"
   ]
  },
  {
   "cell_type": "code",
   "execution_count": 64,
   "metadata": {
    "ExecuteTime": {
     "end_time": "2022-02-09T17:14:11.402902Z",
     "start_time": "2022-02-09T17:14:11.387941Z"
    }
   },
   "outputs": [],
   "source": [
    "d_ = {'Финальный концентрат': [dummy_final_smape_train, dummy_final_smape_test],\n",
    "    'Черновой концентрат': [dummy_rougher_smape_train, dummy_rougher_smape_test],\n",
    "    'Итоговое sMAPE': [smape_final(dummy_rougher_smape_train, dummy_final_smape_train),\n",
    "                       smape_final(dummy_rougher_smape_test, dummy_final_smape_test)]}\n",
    "dumdum = pd.DataFrame(data = d_,\n",
    "                     index = ['Обучающая выборка', 'Тестовая выборка', ])"
   ]
  },
  {
   "cell_type": "code",
   "execution_count": 65,
   "metadata": {
    "ExecuteTime": {
     "end_time": "2022-02-09T17:14:11.418859Z",
     "start_time": "2022-02-09T17:14:11.403899Z"
    }
   },
   "outputs": [],
   "source": [
    "d = {'Финальный концентрат': [final_smape_train, final_smape_test],\n",
    "    'Черновой концентрат': [rougher_smape_train, rougher_smape_test],\n",
    "    'Итоговое sMAPE': [smape_final(rougher_smape_train, final_smape_train), smape_final(rougher_smape_test, final_smape_test)]}\n",
    "result = pd.DataFrame(data = d,\n",
    "                     index = ['Обучающая выборка', 'Тестовая выборка', ])"
   ]
  },
  {
   "cell_type": "code",
   "execution_count": 66,
   "metadata": {
    "ExecuteTime": {
     "end_time": "2022-02-09T17:14:11.434816Z",
     "start_time": "2022-02-09T17:14:11.419856Z"
    }
   },
   "outputs": [
    {
     "data": {
      "text/html": [
       "<div>\n",
       "<style scoped>\n",
       "    .dataframe tbody tr th:only-of-type {\n",
       "        vertical-align: middle;\n",
       "    }\n",
       "\n",
       "    .dataframe tbody tr th {\n",
       "        vertical-align: top;\n",
       "    }\n",
       "\n",
       "    .dataframe thead th {\n",
       "        text-align: right;\n",
       "    }\n",
       "</style>\n",
       "<table border=\"1\" class=\"dataframe\">\n",
       "  <thead>\n",
       "    <tr style=\"text-align: right;\">\n",
       "      <th></th>\n",
       "      <th>Финальный концентрат</th>\n",
       "      <th>Черновой концентрат</th>\n",
       "      <th>Итоговое sMAPE</th>\n",
       "    </tr>\n",
       "  </thead>\n",
       "  <tbody>\n",
       "    <tr>\n",
       "      <th>Обучающая выборка</th>\n",
       "      <td>8.110098</td>\n",
       "      <td>4.458479</td>\n",
       "      <td>7.197193</td>\n",
       "    </tr>\n",
       "    <tr>\n",
       "      <th>Тестовая выборка</th>\n",
       "      <td>6.629983</td>\n",
       "      <td>4.239503</td>\n",
       "      <td>6.032363</td>\n",
       "    </tr>\n",
       "  </tbody>\n",
       "</table>\n",
       "</div>"
      ],
      "text/plain": [
       "                   Финальный концентрат  Черновой концентрат  Итоговое sMAPE\n",
       "Обучающая выборка              8.110098             4.458479        7.197193\n",
       "Тестовая выборка               6.629983             4.239503        6.032363"
      ]
     },
     "execution_count": 66,
     "metadata": {},
     "output_type": "execute_result"
    }
   ],
   "source": [
    "result"
   ]
  },
  {
   "cell_type": "markdown",
   "metadata": {},
   "source": [
    "Посчитаем разницу между результатами и константной моделью"
   ]
  },
  {
   "cell_type": "code",
   "execution_count": 67,
   "metadata": {
    "ExecuteTime": {
     "end_time": "2022-02-09T17:14:11.450774Z",
     "start_time": "2022-02-09T17:14:11.436811Z"
    }
   },
   "outputs": [],
   "source": [
    "dummy_diff = result - dumdum"
   ]
  },
  {
   "cell_type": "code",
   "execution_count": 68,
   "metadata": {
    "ExecuteTime": {
     "end_time": "2022-02-09T17:14:11.465734Z",
     "start_time": "2022-02-09T17:14:11.452768Z"
    }
   },
   "outputs": [
    {
     "data": {
      "text/html": [
       "<div>\n",
       "<style scoped>\n",
       "    .dataframe tbody tr th:only-of-type {\n",
       "        vertical-align: middle;\n",
       "    }\n",
       "\n",
       "    .dataframe tbody tr th {\n",
       "        vertical-align: top;\n",
       "    }\n",
       "\n",
       "    .dataframe thead th {\n",
       "        text-align: right;\n",
       "    }\n",
       "</style>\n",
       "<table border=\"1\" class=\"dataframe\">\n",
       "  <thead>\n",
       "    <tr style=\"text-align: right;\">\n",
       "      <th></th>\n",
       "      <th>Финальный концентрат</th>\n",
       "      <th>Черновой концентрат</th>\n",
       "      <th>Итоговое sMAPE</th>\n",
       "    </tr>\n",
       "  </thead>\n",
       "  <tbody>\n",
       "    <tr>\n",
       "      <th>Обучающая выборка</th>\n",
       "      <td>-1.527306</td>\n",
       "      <td>-2.573023</td>\n",
       "      <td>-1.788735</td>\n",
       "    </tr>\n",
       "    <tr>\n",
       "      <th>Тестовая выборка</th>\n",
       "      <td>-1.404880</td>\n",
       "      <td>-0.714799</td>\n",
       "      <td>-1.232360</td>\n",
       "    </tr>\n",
       "  </tbody>\n",
       "</table>\n",
       "</div>"
      ],
      "text/plain": [
       "                   Финальный концентрат  Черновой концентрат  Итоговое sMAPE\n",
       "Обучающая выборка             -1.527306            -2.573023       -1.788735\n",
       "Тестовая выборка              -1.404880            -0.714799       -1.232360"
      ]
     },
     "execution_count": 68,
     "metadata": {},
     "output_type": "execute_result"
    }
   ],
   "source": [
    "dummy_diff"
   ]
  },
  {
   "cell_type": "markdown",
   "metadata": {},
   "source": [
    "Результаты на тестовой выборке меньше, чем результаты на обучающей предположительно из-за объема данных.  \n",
    "  \n",
    "Разница в метрике между результатом лассо-модели и константной моделью составила от 0.7 до 2.5%, можно сделать вывод об адекватности полученной модели"
   ]
  },
  {
   "cell_type": "markdown",
   "metadata": {},
   "source": [
    "## Результаты и выводы"
   ]
  },
  {
   "cell_type": "markdown",
   "metadata": {},
   "source": [
    "* В результате работы были изучены три датасета - общий и две выборки (обучающая и тестовая). Используя информацию, полученную с помощью исследовательского анализа данных, выборки были приведены к общему виду (были удалены аномально высокие значения, заполнены пропуски, проверили распределения признаков). \n",
    "* На подготовленных данных было обучено несколько моделей. Наименьшую ошибку показала модель Lasso с параметром alpha=0.1. Кроме того, было проверено несколько вариантов скейлеров, для получения лучших результатов выбранной модели.  \n",
    "* Была обучена константная модель и показана разница между метриками \n",
    " * **Итоговое sMAPE на тестовом датасете - 6%**"
   ]
  }
 ],
 "metadata": {
  "ExecuteTimeLog": [
   {
    "duration": 1476,
    "start_time": "2021-12-20T12:46:12.358Z"
   },
   {
    "duration": 900,
    "start_time": "2021-12-20T12:47:34.365Z"
   },
   {
    "duration": 393,
    "start_time": "2021-12-20T12:47:39.231Z"
   },
   {
    "duration": 41,
    "start_time": "2021-12-20T12:47:44.978Z"
   },
   {
    "duration": 33,
    "start_time": "2021-12-20T12:48:34.685Z"
   },
   {
    "duration": 30,
    "start_time": "2021-12-20T12:49:30.832Z"
   },
   {
    "duration": 61,
    "start_time": "2021-12-20T12:49:48.357Z"
   },
   {
    "duration": 5,
    "start_time": "2021-12-20T12:50:22.802Z"
   },
   {
    "duration": 47,
    "start_time": "2021-12-20T12:50:32.970Z"
   },
   {
    "duration": 58,
    "start_time": "2021-12-20T12:50:49.859Z"
   },
   {
    "duration": 902,
    "start_time": "2021-12-20T13:57:00.923Z"
   },
   {
    "duration": 581,
    "start_time": "2021-12-20T13:58:24.112Z"
   },
   {
    "duration": 44,
    "start_time": "2021-12-20T13:58:48.826Z"
   },
   {
    "duration": 211,
    "start_time": "2021-12-20T13:58:58.468Z"
   },
   {
    "duration": 27,
    "start_time": "2021-12-20T14:10:16.399Z"
   },
   {
    "duration": 44,
    "start_time": "2021-12-20T14:12:12.829Z"
   },
   {
    "duration": 13,
    "start_time": "2021-12-20T14:12:26.884Z"
   },
   {
    "duration": 754,
    "start_time": "2021-12-20T14:14:33.872Z"
   },
   {
    "duration": 490,
    "start_time": "2021-12-20T14:14:40.680Z"
   },
   {
    "duration": 4,
    "start_time": "2021-12-20T14:14:48.466Z"
   },
   {
    "duration": 4,
    "start_time": "2021-12-20T14:17:21.070Z"
   },
   {
    "duration": 7,
    "start_time": "2021-12-20T14:17:24.533Z"
   },
   {
    "duration": 5,
    "start_time": "2021-12-20T14:26:39.880Z"
   },
   {
    "duration": 3,
    "start_time": "2021-12-20T14:26:41.452Z"
   },
   {
    "duration": 259,
    "start_time": "2021-12-20T14:27:10.573Z"
   },
   {
    "duration": 5,
    "start_time": "2021-12-20T14:27:14.805Z"
   },
   {
    "duration": 5,
    "start_time": "2021-12-20T14:27:19.354Z"
   },
   {
    "duration": 6,
    "start_time": "2021-12-20T14:27:31.545Z"
   },
   {
    "duration": 980,
    "start_time": "2021-12-20T14:28:31.122Z"
   },
   {
    "duration": 276,
    "start_time": "2021-12-20T14:28:36.499Z"
   },
   {
    "duration": 3,
    "start_time": "2021-12-20T14:28:43.693Z"
   },
   {
    "duration": 271,
    "start_time": "2021-12-20T14:28:44.184Z"
   },
   {
    "duration": 10301,
    "start_time": "2021-12-20T14:29:01.582Z"
   },
   {
    "duration": 11166,
    "start_time": "2021-12-20T14:30:02.763Z"
   },
   {
    "duration": 23,
    "start_time": "2021-12-20T14:30:21.569Z"
   },
   {
    "duration": 659,
    "start_time": "2021-12-20T14:30:23.664Z"
   },
   {
    "duration": 9,
    "start_time": "2021-12-20T14:30:33.899Z"
   },
   {
    "duration": 9,
    "start_time": "2021-12-20T14:30:47.506Z"
   },
   {
    "duration": 1274,
    "start_time": "2021-12-20T14:30:55.007Z"
   },
   {
    "duration": 7,
    "start_time": "2021-12-20T14:31:08.617Z"
   },
   {
    "duration": 11,
    "start_time": "2021-12-20T14:31:15.644Z"
   },
   {
    "duration": 7,
    "start_time": "2021-12-20T14:31:44.432Z"
   },
   {
    "duration": 7,
    "start_time": "2021-12-20T14:35:23.457Z"
   },
   {
    "duration": 6,
    "start_time": "2021-12-20T14:36:51.228Z"
   },
   {
    "duration": 7,
    "start_time": "2021-12-20T14:36:58.582Z"
   },
   {
    "duration": 4,
    "start_time": "2021-12-20T14:40:11.092Z"
   },
   {
    "duration": 6,
    "start_time": "2021-12-20T14:40:36.243Z"
   },
   {
    "duration": 4,
    "start_time": "2021-12-20T14:41:10.777Z"
   },
   {
    "duration": 7,
    "start_time": "2021-12-20T14:41:11.758Z"
   },
   {
    "duration": 6,
    "start_time": "2021-12-20T14:41:32.371Z"
   },
   {
    "duration": 259,
    "start_time": "2021-12-20T14:41:40.313Z"
   },
   {
    "duration": 5,
    "start_time": "2021-12-20T14:42:02.803Z"
   },
   {
    "duration": 6,
    "start_time": "2021-12-20T14:42:16.743Z"
   },
   {
    "duration": 6,
    "start_time": "2021-12-20T14:42:26.215Z"
   },
   {
    "duration": 85,
    "start_time": "2021-12-20T14:42:34.340Z"
   },
   {
    "duration": 6,
    "start_time": "2021-12-20T14:42:38.460Z"
   },
   {
    "duration": 7,
    "start_time": "2021-12-20T14:42:44.789Z"
   },
   {
    "duration": 4,
    "start_time": "2021-12-20T14:44:46.253Z"
   },
   {
    "duration": 366,
    "start_time": "2021-12-20T17:14:08.348Z"
   },
   {
    "duration": 1549,
    "start_time": "2021-12-20T17:14:12.781Z"
   },
   {
    "duration": 4813,
    "start_time": "2021-12-20T17:14:14.332Z"
   },
   {
    "duration": 37,
    "start_time": "2021-12-20T17:14:19.148Z"
   },
   {
    "duration": 383,
    "start_time": "2021-12-20T17:14:19.187Z"
   },
   {
    "duration": 135,
    "start_time": "2021-12-20T17:14:19.572Z"
   },
   {
    "duration": 5,
    "start_time": "2021-12-20T17:14:19.709Z"
   },
   {
    "duration": 9,
    "start_time": "2021-12-20T17:14:19.716Z"
   },
   {
    "duration": 472,
    "start_time": "2021-12-20T17:14:19.727Z"
   },
   {
    "duration": 4,
    "start_time": "2021-12-20T17:14:20.203Z"
   },
   {
    "duration": 7,
    "start_time": "2021-12-20T17:14:20.209Z"
   },
   {
    "duration": 6,
    "start_time": "2021-12-20T17:14:20.218Z"
   },
   {
    "duration": 8,
    "start_time": "2021-12-20T17:14:20.225Z"
   },
   {
    "duration": 49,
    "start_time": "2021-12-20T17:14:20.235Z"
   },
   {
    "duration": 27,
    "start_time": "2021-12-20T17:14:22.802Z"
   },
   {
    "duration": 71,
    "start_time": "2021-12-20T17:15:11.699Z"
   },
   {
    "duration": 20,
    "start_time": "2021-12-20T17:15:22.954Z"
   },
   {
    "duration": 16,
    "start_time": "2021-12-20T17:29:08.723Z"
   },
   {
    "duration": 288,
    "start_time": "2021-12-20T17:31:45.870Z"
   },
   {
    "duration": 203,
    "start_time": "2021-12-20T17:31:53.666Z"
   },
   {
    "duration": 208,
    "start_time": "2021-12-20T17:32:10.954Z"
   },
   {
    "duration": 5,
    "start_time": "2021-12-20T17:32:23.298Z"
   },
   {
    "duration": 261,
    "start_time": "2021-12-20T17:32:27.522Z"
   },
   {
    "duration": 197,
    "start_time": "2021-12-20T17:32:34.523Z"
   },
   {
    "duration": 5,
    "start_time": "2021-12-20T17:32:42.497Z"
   },
   {
    "duration": 5,
    "start_time": "2021-12-20T17:33:18.971Z"
   },
   {
    "duration": 5,
    "start_time": "2021-12-20T17:33:21.170Z"
   },
   {
    "duration": 8,
    "start_time": "2021-12-20T17:34:55.882Z"
   },
   {
    "duration": 80,
    "start_time": "2021-12-20T17:36:07.994Z"
   },
   {
    "duration": 212,
    "start_time": "2021-12-20T17:36:14.866Z"
   },
   {
    "duration": 74,
    "start_time": "2021-12-20T17:36:18.690Z"
   },
   {
    "duration": 66,
    "start_time": "2021-12-20T17:36:22.906Z"
   },
   {
    "duration": 93,
    "start_time": "2021-12-20T17:36:32.962Z"
   },
   {
    "duration": 8,
    "start_time": "2021-12-20T17:37:27.114Z"
   },
   {
    "duration": 273,
    "start_time": "2021-12-20T17:38:00.138Z"
   },
   {
    "duration": 202,
    "start_time": "2021-12-20T17:38:17.305Z"
   },
   {
    "duration": 202,
    "start_time": "2021-12-20T17:38:42.258Z"
   },
   {
    "duration": 6,
    "start_time": "2021-12-20T17:38:54.362Z"
   },
   {
    "duration": 396,
    "start_time": "2021-12-20T17:39:08.990Z"
   },
   {
    "duration": 24,
    "start_time": "2021-12-20T17:46:55.930Z"
   },
   {
    "duration": 207,
    "start_time": "2021-12-20T17:57:53.986Z"
   },
   {
    "duration": 294,
    "start_time": "2021-12-20T17:58:42.865Z"
   },
   {
    "duration": 4,
    "start_time": "2021-12-20T17:59:02.290Z"
   },
   {
    "duration": 213,
    "start_time": "2021-12-20T17:59:08.146Z"
   },
   {
    "duration": 246,
    "start_time": "2021-12-20T17:59:11.930Z"
   },
   {
    "duration": 200,
    "start_time": "2021-12-20T17:59:34.003Z"
   },
   {
    "duration": 3,
    "start_time": "2021-12-20T18:02:45.298Z"
   },
   {
    "duration": 5,
    "start_time": "2021-12-20T18:03:00.658Z"
   },
   {
    "duration": 203,
    "start_time": "2021-12-20T18:03:28.786Z"
   },
   {
    "duration": 4,
    "start_time": "2021-12-20T18:04:14.993Z"
   },
   {
    "duration": 36,
    "start_time": "2021-12-20T18:07:34.667Z"
   },
   {
    "duration": 20,
    "start_time": "2021-12-20T18:09:35.154Z"
   },
   {
    "duration": 242,
    "start_time": "2021-12-20T18:10:25.705Z"
   },
   {
    "duration": 1239,
    "start_time": "2021-12-20T18:10:52.281Z"
   },
   {
    "duration": 779,
    "start_time": "2021-12-20T18:10:53.522Z"
   },
   {
    "duration": 28,
    "start_time": "2021-12-20T18:10:54.303Z"
   },
   {
    "duration": 43,
    "start_time": "2021-12-20T18:10:54.333Z"
   },
   {
    "duration": 260,
    "start_time": "2021-12-20T18:10:54.378Z"
   },
   {
    "duration": 152,
    "start_time": "2021-12-20T18:10:54.640Z"
   },
   {
    "duration": 4,
    "start_time": "2021-12-20T18:10:54.795Z"
   },
   {
    "duration": 16,
    "start_time": "2021-12-20T18:10:54.801Z"
   },
   {
    "duration": 584,
    "start_time": "2021-12-20T18:10:54.819Z"
   },
   {
    "duration": 4,
    "start_time": "2021-12-20T18:10:55.406Z"
   },
   {
    "duration": 5,
    "start_time": "2021-12-20T18:10:55.412Z"
   },
   {
    "duration": 7,
    "start_time": "2021-12-20T18:10:55.419Z"
   },
   {
    "duration": 11,
    "start_time": "2021-12-20T18:10:55.427Z"
   },
   {
    "duration": 22,
    "start_time": "2021-12-20T18:10:55.440Z"
   },
   {
    "duration": 22,
    "start_time": "2021-12-20T18:10:55.464Z"
   },
   {
    "duration": 15,
    "start_time": "2021-12-20T18:10:55.488Z"
   },
   {
    "duration": 24,
    "start_time": "2021-12-20T18:10:55.505Z"
   },
   {
    "duration": 45,
    "start_time": "2021-12-20T18:10:55.531Z"
   },
   {
    "duration": 9,
    "start_time": "2021-12-20T18:10:55.579Z"
   },
   {
    "duration": 8,
    "start_time": "2021-12-20T18:11:08.331Z"
   },
   {
    "duration": 7,
    "start_time": "2021-12-20T18:11:14.387Z"
   },
   {
    "duration": 1516,
    "start_time": "2021-12-21T08:18:10.426Z"
   },
   {
    "duration": 4,
    "start_time": "2021-12-21T08:18:41.590Z"
   },
   {
    "duration": 5,
    "start_time": "2021-12-21T08:20:17.568Z"
   },
   {
    "duration": 955,
    "start_time": "2021-12-21T08:20:17.575Z"
   },
   {
    "duration": 39,
    "start_time": "2021-12-21T08:20:18.534Z"
   },
   {
    "duration": 48,
    "start_time": "2021-12-21T08:20:18.576Z"
   },
   {
    "duration": 420,
    "start_time": "2021-12-21T08:20:18.626Z"
   },
   {
    "duration": 240,
    "start_time": "2021-12-21T08:20:19.048Z"
   },
   {
    "duration": 5,
    "start_time": "2021-12-21T08:20:19.290Z"
   },
   {
    "duration": 30,
    "start_time": "2021-12-21T08:20:19.299Z"
   },
   {
    "duration": 820,
    "start_time": "2021-12-21T08:20:19.331Z"
   },
   {
    "duration": 5,
    "start_time": "2021-12-21T08:20:20.153Z"
   },
   {
    "duration": 18,
    "start_time": "2021-12-21T08:20:20.160Z"
   },
   {
    "duration": 26,
    "start_time": "2021-12-21T08:20:20.181Z"
   },
   {
    "duration": 41,
    "start_time": "2021-12-21T08:20:20.209Z"
   },
   {
    "duration": 40,
    "start_time": "2021-12-21T08:20:20.252Z"
   },
   {
    "duration": 22,
    "start_time": "2021-12-21T08:20:20.295Z"
   },
   {
    "duration": 44,
    "start_time": "2021-12-21T08:20:20.320Z"
   },
   {
    "duration": 76,
    "start_time": "2021-12-21T08:20:20.367Z"
   },
   {
    "duration": 20,
    "start_time": "2021-12-21T08:20:20.447Z"
   },
   {
    "duration": 4,
    "start_time": "2021-12-21T08:27:19.438Z"
   },
   {
    "duration": 12,
    "start_time": "2021-12-21T08:27:39.510Z"
   },
   {
    "duration": 3,
    "start_time": "2021-12-21T08:28:33.556Z"
   },
   {
    "duration": 1237,
    "start_time": "2021-12-21T08:29:20.899Z"
   },
   {
    "duration": 4,
    "start_time": "2021-12-21T08:29:29.874Z"
   },
   {
    "duration": 470,
    "start_time": "2021-12-21T08:31:08.040Z"
   },
   {
    "duration": 352,
    "start_time": "2021-12-21T08:31:29.335Z"
   },
   {
    "duration": 364,
    "start_time": "2021-12-21T08:31:46.624Z"
   },
   {
    "duration": 6,
    "start_time": "2021-12-21T08:31:59.275Z"
   },
   {
    "duration": 405,
    "start_time": "2021-12-21T08:32:06.326Z"
   },
   {
    "duration": 325,
    "start_time": "2021-12-21T08:32:10.512Z"
   },
   {
    "duration": 8,
    "start_time": "2021-12-21T08:32:42.035Z"
   },
   {
    "duration": 332,
    "start_time": "2021-12-21T08:32:48.141Z"
   },
   {
    "duration": 11,
    "start_time": "2021-12-21T08:32:53.011Z"
   },
   {
    "duration": 134,
    "start_time": "2021-12-21T08:33:26.521Z"
   },
   {
    "duration": 9,
    "start_time": "2021-12-21T08:33:35.863Z"
   },
   {
    "duration": 4,
    "start_time": "2021-12-21T08:33:38.421Z"
   },
   {
    "duration": 6,
    "start_time": "2021-12-21T08:33:38.727Z"
   },
   {
    "duration": 189,
    "start_time": "2021-12-21T08:33:39.431Z"
   },
   {
    "duration": 7,
    "start_time": "2021-12-21T08:33:44.570Z"
   },
   {
    "duration": 35,
    "start_time": "2021-12-21T08:35:34.174Z"
   },
   {
    "duration": 4,
    "start_time": "2021-12-21T08:37:56.041Z"
   },
   {
    "duration": 4,
    "start_time": "2021-12-21T08:37:58.185Z"
   },
   {
    "duration": 6,
    "start_time": "2021-12-21T08:37:58.481Z"
   },
   {
    "duration": 347,
    "start_time": "2021-12-21T08:38:00.879Z"
   },
   {
    "duration": 333,
    "start_time": "2021-12-21T08:38:57.400Z"
   },
   {
    "duration": 509,
    "start_time": "2021-12-21T08:39:01.492Z"
   },
   {
    "duration": 4,
    "start_time": "2021-12-21T08:39:17.938Z"
   },
   {
    "duration": 7,
    "start_time": "2021-12-21T08:39:23.818Z"
   },
   {
    "duration": 4,
    "start_time": "2021-12-21T08:39:24.221Z"
   },
   {
    "duration": 7,
    "start_time": "2021-12-21T08:39:24.502Z"
   },
   {
    "duration": 155,
    "start_time": "2021-12-21T08:39:24.777Z"
   },
   {
    "duration": 658,
    "start_time": "2021-12-21T08:39:26.166Z"
   },
   {
    "duration": 36,
    "start_time": "2021-12-21T08:39:49.902Z"
   },
   {
    "duration": 14,
    "start_time": "2021-12-21T08:40:05.679Z"
   },
   {
    "duration": 31,
    "start_time": "2021-12-21T08:40:11.670Z"
   },
   {
    "duration": 15,
    "start_time": "2021-12-21T08:40:18.394Z"
   },
   {
    "duration": 4,
    "start_time": "2021-12-21T09:19:52.753Z"
   },
   {
    "duration": 4,
    "start_time": "2021-12-21T09:23:30.145Z"
   },
   {
    "duration": 330,
    "start_time": "2021-12-21T11:34:17.092Z"
   },
   {
    "duration": 10,
    "start_time": "2021-12-21T11:34:20.438Z"
   },
   {
    "duration": 7,
    "start_time": "2021-12-21T11:34:20.860Z"
   },
   {
    "duration": 8,
    "start_time": "2021-12-21T12:53:21.046Z"
   },
   {
    "duration": 6,
    "start_time": "2021-12-21T12:55:22.093Z"
   },
   {
    "duration": 6,
    "start_time": "2021-12-21T12:55:29.054Z"
   },
   {
    "duration": 315,
    "start_time": "2021-12-21T12:56:38.635Z"
   },
   {
    "duration": 337,
    "start_time": "2021-12-21T12:57:30.241Z"
   },
   {
    "duration": 1323,
    "start_time": "2021-12-21T12:57:43.096Z"
   },
   {
    "duration": 6,
    "start_time": "2021-12-21T12:57:59.670Z"
   },
   {
    "duration": 380,
    "start_time": "2021-12-21T13:00:41.184Z"
   },
   {
    "duration": 6,
    "start_time": "2021-12-21T13:00:45.256Z"
   },
   {
    "duration": 6,
    "start_time": "2021-12-21T13:00:45.861Z"
   },
   {
    "duration": 337,
    "start_time": "2021-12-21T13:01:34.340Z"
   },
   {
    "duration": 20,
    "start_time": "2021-12-21T13:01:37.369Z"
   },
   {
    "duration": 26,
    "start_time": "2021-12-21T13:04:28.092Z"
   },
   {
    "duration": 25,
    "start_time": "2021-12-21T13:04:36.997Z"
   },
   {
    "duration": 25,
    "start_time": "2021-12-21T13:04:48.174Z"
   },
   {
    "duration": 6,
    "start_time": "2021-12-21T13:04:54.781Z"
   },
   {
    "duration": 23,
    "start_time": "2021-12-21T13:04:57.174Z"
   },
   {
    "duration": 319,
    "start_time": "2021-12-21T13:05:52.316Z"
   },
   {
    "duration": 455,
    "start_time": "2021-12-21T13:06:24.661Z"
   },
   {
    "duration": 5,
    "start_time": "2021-12-21T13:06:35.450Z"
   },
   {
    "duration": 11,
    "start_time": "2021-12-21T13:06:45.495Z"
   },
   {
    "duration": 344,
    "start_time": "2021-12-21T13:07:19.494Z"
   },
   {
    "duration": 309,
    "start_time": "2021-12-21T13:07:31.394Z"
   },
   {
    "duration": 18,
    "start_time": "2021-12-21T13:08:53.756Z"
   },
   {
    "duration": 11,
    "start_time": "2021-12-21T13:09:27.335Z"
   },
   {
    "duration": 442,
    "start_time": "2021-12-21T13:09:43.098Z"
   },
   {
    "duration": 638,
    "start_time": "2021-12-21T13:09:59.427Z"
   },
   {
    "duration": 422,
    "start_time": "2021-12-21T13:10:16.201Z"
   },
   {
    "duration": 415,
    "start_time": "2021-12-21T13:10:22.878Z"
   },
   {
    "duration": 333,
    "start_time": "2021-12-21T13:11:53.030Z"
   },
   {
    "duration": 229,
    "start_time": "2021-12-21T13:11:57.733Z"
   },
   {
    "duration": 359,
    "start_time": "2021-12-21T13:14:56.702Z"
   },
   {
    "duration": 12,
    "start_time": "2021-12-21T13:18:00.729Z"
   },
   {
    "duration": 11,
    "start_time": "2021-12-21T13:19:35.763Z"
   },
   {
    "duration": 5,
    "start_time": "2021-12-21T13:20:20.436Z"
   },
   {
    "duration": 266,
    "start_time": "2021-12-21T13:20:25.802Z"
   },
   {
    "duration": 7,
    "start_time": "2021-12-21T13:23:18.049Z"
   },
   {
    "duration": 17,
    "start_time": "2021-12-21T13:23:19.953Z"
   },
   {
    "duration": 8,
    "start_time": "2021-12-21T13:23:27.372Z"
   },
   {
    "duration": 14,
    "start_time": "2021-12-21T13:23:28.455Z"
   },
   {
    "duration": 6,
    "start_time": "2021-12-21T13:23:36.295Z"
   },
   {
    "duration": 14,
    "start_time": "2021-12-21T13:23:36.871Z"
   },
   {
    "duration": 8,
    "start_time": "2021-12-21T13:24:09.169Z"
   },
   {
    "duration": 18,
    "start_time": "2021-12-21T13:24:10.334Z"
   },
   {
    "duration": 570,
    "start_time": "2021-12-21T13:26:00.223Z"
   },
   {
    "duration": 711,
    "start_time": "2021-12-21T13:26:07.073Z"
   },
   {
    "duration": 11,
    "start_time": "2021-12-21T13:26:25.541Z"
   },
   {
    "duration": 16,
    "start_time": "2021-12-21T13:26:26.698Z"
   },
   {
    "duration": 7,
    "start_time": "2021-12-21T13:26:29.857Z"
   },
   {
    "duration": 17,
    "start_time": "2021-12-21T13:26:30.354Z"
   },
   {
    "duration": 14,
    "start_time": "2021-12-21T13:26:39.570Z"
   },
   {
    "duration": 16,
    "start_time": "2021-12-21T13:26:47.986Z"
   },
   {
    "duration": 8,
    "start_time": "2021-12-21T13:27:21.365Z"
   },
   {
    "duration": 267,
    "start_time": "2021-12-21T13:27:24.786Z"
   },
   {
    "duration": 435,
    "start_time": "2021-12-21T13:27:48.510Z"
   },
   {
    "duration": 429,
    "start_time": "2021-12-21T13:28:06.150Z"
   },
   {
    "duration": 391,
    "start_time": "2021-12-21T13:28:18.781Z"
   },
   {
    "duration": 292,
    "start_time": "2021-12-21T13:29:39.452Z"
   },
   {
    "duration": 269,
    "start_time": "2021-12-21T13:29:45.794Z"
   },
   {
    "duration": 278,
    "start_time": "2021-12-21T13:29:52.097Z"
   },
   {
    "duration": 343,
    "start_time": "2021-12-21T13:30:01.926Z"
   },
   {
    "duration": 309,
    "start_time": "2021-12-21T13:30:30.358Z"
   },
   {
    "duration": 830,
    "start_time": "2021-12-21T13:30:46.114Z"
   },
   {
    "duration": 491,
    "start_time": "2021-12-21T13:31:08.624Z"
   },
   {
    "duration": 341,
    "start_time": "2021-12-21T13:31:14.473Z"
   },
   {
    "duration": 887,
    "start_time": "2021-12-21T13:31:20.670Z"
   },
   {
    "duration": 322,
    "start_time": "2021-12-21T13:31:27.535Z"
   },
   {
    "duration": 382,
    "start_time": "2021-12-21T13:31:35.708Z"
   },
   {
    "duration": 319,
    "start_time": "2021-12-21T13:31:46.254Z"
   },
   {
    "duration": 366,
    "start_time": "2021-12-21T13:31:51.976Z"
   },
   {
    "duration": 397,
    "start_time": "2021-12-21T13:32:13.775Z"
   },
   {
    "duration": 532,
    "start_time": "2021-12-21T13:34:08.920Z"
   },
   {
    "duration": 327,
    "start_time": "2021-12-21T13:34:27.227Z"
   },
   {
    "duration": 331,
    "start_time": "2021-12-21T13:34:37.510Z"
   },
   {
    "duration": 357,
    "start_time": "2021-12-21T13:34:41.748Z"
   },
   {
    "duration": 393,
    "start_time": "2021-12-21T13:34:51.203Z"
   },
   {
    "duration": 348,
    "start_time": "2021-12-21T13:34:59.286Z"
   },
   {
    "duration": 350,
    "start_time": "2021-12-21T13:35:14.843Z"
   },
   {
    "duration": 4934,
    "start_time": "2021-12-21T13:43:21.754Z"
   },
   {
    "duration": 1500,
    "start_time": "2021-12-21T13:43:31.949Z"
   },
   {
    "duration": 888,
    "start_time": "2021-12-21T13:43:33.452Z"
   },
   {
    "duration": 38,
    "start_time": "2021-12-21T13:43:34.343Z"
   },
   {
    "duration": 51,
    "start_time": "2021-12-21T13:43:34.384Z"
   },
   {
    "duration": 377,
    "start_time": "2021-12-21T13:43:34.437Z"
   },
   {
    "duration": 213,
    "start_time": "2021-12-21T13:43:34.823Z"
   },
   {
    "duration": 5,
    "start_time": "2021-12-21T13:43:35.039Z"
   },
   {
    "duration": 8,
    "start_time": "2021-12-21T13:43:35.047Z"
   },
   {
    "duration": 689,
    "start_time": "2021-12-21T13:43:35.058Z"
   },
   {
    "duration": 5,
    "start_time": "2021-12-21T13:43:35.750Z"
   },
   {
    "duration": 11,
    "start_time": "2021-12-21T13:43:35.758Z"
   },
   {
    "duration": 7,
    "start_time": "2021-12-21T13:43:35.771Z"
   },
   {
    "duration": 6,
    "start_time": "2021-12-21T13:43:35.781Z"
   },
   {
    "duration": 6,
    "start_time": "2021-12-21T13:43:35.823Z"
   },
   {
    "duration": 13,
    "start_time": "2021-12-21T13:43:35.831Z"
   },
   {
    "duration": 11,
    "start_time": "2021-12-21T13:43:35.847Z"
   },
   {
    "duration": 61,
    "start_time": "2021-12-21T13:43:35.861Z"
   },
   {
    "duration": 18,
    "start_time": "2021-12-21T13:43:35.925Z"
   },
   {
    "duration": 4,
    "start_time": "2021-12-21T13:43:35.946Z"
   },
   {
    "duration": 24,
    "start_time": "2021-12-21T13:43:35.952Z"
   },
   {
    "duration": 14,
    "start_time": "2021-12-21T13:43:35.978Z"
   },
   {
    "duration": 31,
    "start_time": "2021-12-21T13:43:35.995Z"
   },
   {
    "duration": 27,
    "start_time": "2021-12-21T13:43:36.031Z"
   },
   {
    "duration": 23,
    "start_time": "2021-12-21T13:43:36.061Z"
   },
   {
    "duration": 17,
    "start_time": "2021-12-21T13:43:36.088Z"
   },
   {
    "duration": 29,
    "start_time": "2021-12-21T13:43:36.108Z"
   },
   {
    "duration": 358,
    "start_time": "2021-12-21T13:43:36.139Z"
   },
   {
    "duration": 14285,
    "start_time": "2021-12-21T13:43:36.500Z"
   },
   {
    "duration": 4,
    "start_time": "2021-12-21T13:44:52.674Z"
   },
   {
    "duration": 375,
    "start_time": "2021-12-21T13:45:16.741Z"
   },
   {
    "duration": 335,
    "start_time": "2021-12-21T13:45:32.231Z"
   },
   {
    "duration": 368,
    "start_time": "2021-12-21T13:45:45.615Z"
   },
   {
    "duration": 315,
    "start_time": "2021-12-21T13:45:49.503Z"
   },
   {
    "duration": 7,
    "start_time": "2021-12-21T13:46:38.408Z"
   },
   {
    "duration": 316,
    "start_time": "2021-12-21T13:46:57.267Z"
   },
   {
    "duration": 346,
    "start_time": "2021-12-21T13:47:03.938Z"
   },
   {
    "duration": 410,
    "start_time": "2021-12-21T13:47:15.778Z"
   },
   {
    "duration": 546,
    "start_time": "2021-12-21T13:47:21.855Z"
   },
   {
    "duration": 321,
    "start_time": "2021-12-21T13:47:49.811Z"
   },
   {
    "duration": 325,
    "start_time": "2021-12-21T13:47:57.201Z"
   },
   {
    "duration": 355,
    "start_time": "2021-12-21T13:48:20.275Z"
   },
   {
    "duration": 316,
    "start_time": "2021-12-21T13:48:48.884Z"
   },
   {
    "duration": 394,
    "start_time": "2021-12-21T13:49:09.881Z"
   },
   {
    "duration": 383,
    "start_time": "2021-12-21T13:50:14.098Z"
   },
   {
    "duration": 7,
    "start_time": "2021-12-21T13:50:21.669Z"
   },
   {
    "duration": 866,
    "start_time": "2021-12-21T13:50:51.260Z"
   },
   {
    "duration": 6,
    "start_time": "2021-12-21T13:51:11.180Z"
   },
   {
    "duration": 551,
    "start_time": "2021-12-21T13:51:13.157Z"
   },
   {
    "duration": 324,
    "start_time": "2021-12-21T13:51:25.796Z"
   },
   {
    "duration": 404,
    "start_time": "2021-12-21T13:51:34.055Z"
   },
   {
    "duration": 766,
    "start_time": "2021-12-21T13:51:52.644Z"
   },
   {
    "duration": 814,
    "start_time": "2021-12-21T13:52:22.119Z"
   },
   {
    "duration": 735,
    "start_time": "2021-12-21T13:52:32.318Z"
   },
   {
    "duration": 680,
    "start_time": "2021-12-21T13:52:38.349Z"
   },
   {
    "duration": 769,
    "start_time": "2021-12-21T13:52:48.738Z"
   },
   {
    "duration": 683,
    "start_time": "2021-12-21T13:53:11.629Z"
   },
   {
    "duration": 1678,
    "start_time": "2021-12-22T13:48:27.806Z"
   },
   {
    "duration": 1030,
    "start_time": "2021-12-22T13:48:29.487Z"
   },
   {
    "duration": 48,
    "start_time": "2021-12-22T13:48:30.520Z"
   },
   {
    "duration": 30,
    "start_time": "2021-12-22T13:48:30.571Z"
   },
   {
    "duration": 410,
    "start_time": "2021-12-22T13:48:30.604Z"
   },
   {
    "duration": 239,
    "start_time": "2021-12-22T13:48:31.017Z"
   },
   {
    "duration": 6,
    "start_time": "2021-12-22T13:48:31.259Z"
   },
   {
    "duration": 19,
    "start_time": "2021-12-22T13:48:31.269Z"
   },
   {
    "duration": 739,
    "start_time": "2021-12-22T13:48:31.291Z"
   },
   {
    "duration": 5,
    "start_time": "2021-12-22T13:48:32.032Z"
   },
   {
    "duration": 25,
    "start_time": "2021-12-22T13:48:32.040Z"
   },
   {
    "duration": 11,
    "start_time": "2021-12-22T13:48:32.067Z"
   },
   {
    "duration": 8,
    "start_time": "2021-12-22T13:48:32.081Z"
   },
   {
    "duration": 9,
    "start_time": "2021-12-22T13:48:32.092Z"
   },
   {
    "duration": 6,
    "start_time": "2021-12-22T13:48:32.104Z"
   },
   {
    "duration": 54,
    "start_time": "2021-12-22T13:48:32.112Z"
   },
   {
    "duration": 45,
    "start_time": "2021-12-22T13:48:32.169Z"
   },
   {
    "duration": 19,
    "start_time": "2021-12-22T13:48:32.216Z"
   },
   {
    "duration": 4,
    "start_time": "2021-12-22T13:48:32.237Z"
   },
   {
    "duration": 514,
    "start_time": "2021-12-22T13:48:32.259Z"
   },
   {
    "duration": 49,
    "start_time": "2021-12-22T13:48:32.727Z"
   },
   {
    "duration": 43,
    "start_time": "2021-12-22T13:48:32.735Z"
   },
   {
    "duration": -11,
    "start_time": "2021-12-22T13:48:32.790Z"
   },
   {
    "duration": -14,
    "start_time": "2021-12-22T13:48:32.795Z"
   },
   {
    "duration": -17,
    "start_time": "2021-12-22T13:48:32.799Z"
   },
   {
    "duration": -18,
    "start_time": "2021-12-22T13:48:32.802Z"
   },
   {
    "duration": -20,
    "start_time": "2021-12-22T13:48:32.805Z"
   },
   {
    "duration": -21,
    "start_time": "2021-12-22T13:48:32.809Z"
   },
   {
    "duration": -22,
    "start_time": "2021-12-22T13:48:32.812Z"
   },
   {
    "duration": 9,
    "start_time": "2021-12-22T13:51:42.335Z"
   },
   {
    "duration": 8,
    "start_time": "2021-12-22T13:51:50.137Z"
   },
   {
    "duration": 5,
    "start_time": "2021-12-22T13:51:50.149Z"
   },
   {
    "duration": 8,
    "start_time": "2021-12-22T13:51:50.157Z"
   },
   {
    "duration": 6,
    "start_time": "2021-12-22T13:51:50.168Z"
   },
   {
    "duration": 10,
    "start_time": "2021-12-22T13:51:50.176Z"
   },
   {
    "duration": 8,
    "start_time": "2021-12-22T13:51:50.189Z"
   },
   {
    "duration": 8,
    "start_time": "2021-12-22T13:51:50.199Z"
   },
   {
    "duration": 388,
    "start_time": "2021-12-22T13:51:50.209Z"
   },
   {
    "duration": 6,
    "start_time": "2021-12-22T13:51:50.599Z"
   },
   {
    "duration": 710,
    "start_time": "2021-12-22T13:51:50.608Z"
   },
   {
    "duration": 8,
    "start_time": "2021-12-22T13:51:51.321Z"
   },
   {
    "duration": 10,
    "start_time": "2021-12-22T13:54:07.839Z"
   },
   {
    "duration": 6,
    "start_time": "2021-12-22T13:54:41.000Z"
   },
   {
    "duration": 6,
    "start_time": "2021-12-22T13:56:02.933Z"
   },
   {
    "duration": 340,
    "start_time": "2021-12-22T13:57:33.933Z"
   },
   {
    "duration": 8,
    "start_time": "2021-12-22T13:57:42.189Z"
   },
   {
    "duration": 320,
    "start_time": "2021-12-22T13:58:18.029Z"
   },
   {
    "duration": 7,
    "start_time": "2021-12-22T13:58:24.865Z"
   },
   {
    "duration": 6,
    "start_time": "2021-12-22T13:59:43.416Z"
   },
   {
    "duration": 7,
    "start_time": "2021-12-22T13:59:50.552Z"
   },
   {
    "duration": 8,
    "start_time": "2021-12-22T14:00:11.647Z"
   },
   {
    "duration": 6,
    "start_time": "2021-12-22T14:04:31.890Z"
   },
   {
    "duration": 753,
    "start_time": "2021-12-22T14:05:02.570Z"
   },
   {
    "duration": 783,
    "start_time": "2021-12-22T14:05:11.335Z"
   },
   {
    "duration": 6,
    "start_time": "2021-12-22T14:06:31.833Z"
   },
   {
    "duration": 772,
    "start_time": "2021-12-22T14:06:52.389Z"
   },
   {
    "duration": 1655,
    "start_time": "2021-12-22T17:42:45.124Z"
   },
   {
    "duration": 853,
    "start_time": "2021-12-22T17:42:46.782Z"
   },
   {
    "duration": 45,
    "start_time": "2021-12-22T17:42:47.638Z"
   },
   {
    "duration": 26,
    "start_time": "2021-12-22T17:42:47.686Z"
   },
   {
    "duration": 393,
    "start_time": "2021-12-22T17:42:47.715Z"
   },
   {
    "duration": 218,
    "start_time": "2021-12-22T17:42:48.111Z"
   },
   {
    "duration": 4,
    "start_time": "2021-12-22T17:42:48.332Z"
   },
   {
    "duration": 23,
    "start_time": "2021-12-22T17:42:48.338Z"
   },
   {
    "duration": 669,
    "start_time": "2021-12-22T17:42:48.365Z"
   },
   {
    "duration": 5,
    "start_time": "2021-12-22T17:42:49.037Z"
   },
   {
    "duration": 5,
    "start_time": "2021-12-22T17:42:49.059Z"
   },
   {
    "duration": 5,
    "start_time": "2021-12-22T17:42:49.067Z"
   },
   {
    "duration": 4,
    "start_time": "2021-12-22T17:42:49.075Z"
   },
   {
    "duration": 8,
    "start_time": "2021-12-22T17:42:49.082Z"
   },
   {
    "duration": 9,
    "start_time": "2021-12-22T17:42:49.093Z"
   },
   {
    "duration": 10,
    "start_time": "2021-12-22T17:42:49.105Z"
   },
   {
    "duration": 34,
    "start_time": "2021-12-22T17:42:49.160Z"
   },
   {
    "duration": 18,
    "start_time": "2021-12-22T17:42:49.196Z"
   },
   {
    "duration": 4,
    "start_time": "2021-12-22T17:42:49.216Z"
   },
   {
    "duration": 43,
    "start_time": "2021-12-22T17:42:49.222Z"
   },
   {
    "duration": 6,
    "start_time": "2021-12-22T17:42:49.267Z"
   },
   {
    "duration": 7,
    "start_time": "2021-12-22T17:42:49.275Z"
   },
   {
    "duration": 13,
    "start_time": "2021-12-22T17:42:49.284Z"
   },
   {
    "duration": 17,
    "start_time": "2021-12-22T17:42:49.299Z"
   },
   {
    "duration": 7,
    "start_time": "2021-12-22T17:42:49.319Z"
   },
   {
    "duration": 35,
    "start_time": "2021-12-22T17:42:49.329Z"
   },
   {
    "duration": 363,
    "start_time": "2021-12-22T17:42:50.721Z"
   },
   {
    "duration": 354,
    "start_time": "2021-12-22T17:43:05.608Z"
   },
   {
    "duration": 352,
    "start_time": "2021-12-22T17:43:16.568Z"
   },
   {
    "duration": 6,
    "start_time": "2021-12-22T17:43:30.896Z"
   },
   {
    "duration": 717,
    "start_time": "2021-12-22T17:43:37.400Z"
   },
   {
    "duration": 5,
    "start_time": "2021-12-22T17:43:39.032Z"
   },
   {
    "duration": 795,
    "start_time": "2021-12-22T17:43:39.489Z"
   },
   {
    "duration": 471,
    "start_time": "2021-12-22T17:43:48.048Z"
   },
   {
    "duration": 5,
    "start_time": "2021-12-22T17:45:11.816Z"
   },
   {
    "duration": 6,
    "start_time": "2021-12-22T17:45:42.480Z"
   },
   {
    "duration": 6,
    "start_time": "2021-12-22T17:46:02.000Z"
   },
   {
    "duration": 8,
    "start_time": "2021-12-22T17:46:45.592Z"
   },
   {
    "duration": 6,
    "start_time": "2021-12-22T17:46:52.832Z"
   },
   {
    "duration": 6,
    "start_time": "2021-12-22T17:47:25.500Z"
   },
   {
    "duration": 7,
    "start_time": "2021-12-22T17:47:27.136Z"
   },
   {
    "duration": 7,
    "start_time": "2021-12-22T17:47:27.480Z"
   },
   {
    "duration": 6,
    "start_time": "2021-12-22T17:47:55.600Z"
   },
   {
    "duration": 5,
    "start_time": "2021-12-22T17:48:02.560Z"
   },
   {
    "duration": 6,
    "start_time": "2021-12-22T17:48:15.912Z"
   },
   {
    "duration": 338,
    "start_time": "2021-12-22T17:50:42.808Z"
   },
   {
    "duration": 9464,
    "start_time": "2021-12-22T17:51:17.776Z"
   },
   {
    "duration": 848,
    "start_time": "2021-12-22T17:53:18.426Z"
   },
   {
    "duration": 360,
    "start_time": "2021-12-22T17:53:44.264Z"
   },
   {
    "duration": 500,
    "start_time": "2021-12-22T17:55:59.617Z"
   },
   {
    "duration": 4,
    "start_time": "2021-12-22T17:56:30.600Z"
   },
   {
    "duration": 485,
    "start_time": "2021-12-22T17:56:35.127Z"
   },
   {
    "duration": 401,
    "start_time": "2021-12-22T17:57:00.783Z"
   },
   {
    "duration": 1301,
    "start_time": "2021-12-22T17:57:29.776Z"
   },
   {
    "duration": 7,
    "start_time": "2021-12-22T18:00:10.516Z"
   },
   {
    "duration": 8,
    "start_time": "2021-12-22T18:00:26.903Z"
   },
   {
    "duration": 9,
    "start_time": "2021-12-22T18:00:54.792Z"
   },
   {
    "duration": 9,
    "start_time": "2021-12-22T18:01:15.568Z"
   },
   {
    "duration": 7,
    "start_time": "2021-12-22T18:01:23.001Z"
   },
   {
    "duration": 329,
    "start_time": "2021-12-22T18:02:08.840Z"
   },
   {
    "duration": 349,
    "start_time": "2021-12-22T18:02:23.839Z"
   },
   {
    "duration": 7,
    "start_time": "2021-12-22T18:02:56.496Z"
   },
   {
    "duration": 309,
    "start_time": "2021-12-22T18:03:05.840Z"
   },
   {
    "duration": 7,
    "start_time": "2021-12-22T18:03:22.991Z"
   },
   {
    "duration": 4,
    "start_time": "2021-12-22T18:03:42.855Z"
   },
   {
    "duration": 7,
    "start_time": "2021-12-22T18:03:45.935Z"
   },
   {
    "duration": 6,
    "start_time": "2021-12-22T18:03:52.712Z"
   },
   {
    "duration": 6,
    "start_time": "2021-12-22T18:04:10.224Z"
   },
   {
    "duration": 6,
    "start_time": "2021-12-22T18:04:39.608Z"
   },
   {
    "duration": 5,
    "start_time": "2021-12-22T18:04:44.551Z"
   },
   {
    "duration": 355,
    "start_time": "2021-12-22T18:04:53.903Z"
   },
   {
    "duration": 6,
    "start_time": "2021-12-22T18:05:32.015Z"
   },
   {
    "duration": 6,
    "start_time": "2021-12-22T18:05:40.936Z"
   },
   {
    "duration": 397,
    "start_time": "2021-12-22T18:05:46.952Z"
   },
   {
    "duration": 6,
    "start_time": "2021-12-22T18:05:59.928Z"
   },
   {
    "duration": 6,
    "start_time": "2021-12-22T18:06:05.319Z"
   },
   {
    "duration": 8,
    "start_time": "2021-12-22T18:06:29.328Z"
   },
   {
    "duration": 7,
    "start_time": "2021-12-22T18:18:47.678Z"
   },
   {
    "duration": 5,
    "start_time": "2021-12-22T18:18:56.735Z"
   },
   {
    "duration": 5,
    "start_time": "2021-12-22T18:23:32.055Z"
   },
   {
    "duration": 15,
    "start_time": "2021-12-22T18:23:35.072Z"
   },
   {
    "duration": 5,
    "start_time": "2021-12-22T18:24:18.175Z"
   },
   {
    "duration": 7,
    "start_time": "2021-12-22T18:24:55.280Z"
   },
   {
    "duration": 8,
    "start_time": "2021-12-22T18:25:15.535Z"
   },
   {
    "duration": 9,
    "start_time": "2021-12-22T18:26:33.791Z"
   },
   {
    "duration": 10,
    "start_time": "2021-12-22T18:27:12.279Z"
   },
   {
    "duration": 8,
    "start_time": "2021-12-22T18:27:28.718Z"
   },
   {
    "duration": 5,
    "start_time": "2021-12-22T18:27:57.164Z"
   },
   {
    "duration": 6,
    "start_time": "2021-12-22T18:27:57.172Z"
   },
   {
    "duration": 906,
    "start_time": "2021-12-22T18:27:57.182Z"
   },
   {
    "duration": 35,
    "start_time": "2021-12-22T18:27:58.091Z"
   },
   {
    "duration": 45,
    "start_time": "2021-12-22T18:27:58.129Z"
   },
   {
    "duration": 364,
    "start_time": "2021-12-22T18:27:58.177Z"
   },
   {
    "duration": 218,
    "start_time": "2021-12-22T18:27:58.543Z"
   },
   {
    "duration": 4,
    "start_time": "2021-12-22T18:27:58.765Z"
   },
   {
    "duration": 13,
    "start_time": "2021-12-22T18:27:58.772Z"
   },
   {
    "duration": 666,
    "start_time": "2021-12-22T18:27:58.787Z"
   },
   {
    "duration": 5,
    "start_time": "2021-12-22T18:27:59.459Z"
   },
   {
    "duration": 8,
    "start_time": "2021-12-22T18:27:59.466Z"
   },
   {
    "duration": 7,
    "start_time": "2021-12-22T18:27:59.477Z"
   },
   {
    "duration": 4,
    "start_time": "2021-12-22T18:27:59.486Z"
   },
   {
    "duration": 15,
    "start_time": "2021-12-22T18:27:59.492Z"
   },
   {
    "duration": 51,
    "start_time": "2021-12-22T18:27:59.510Z"
   },
   {
    "duration": 9,
    "start_time": "2021-12-22T18:27:59.563Z"
   },
   {
    "duration": 36,
    "start_time": "2021-12-22T18:27:59.574Z"
   },
   {
    "duration": 49,
    "start_time": "2021-12-22T18:27:59.612Z"
   },
   {
    "duration": 4,
    "start_time": "2021-12-22T18:27:59.664Z"
   },
   {
    "duration": 10,
    "start_time": "2021-12-22T18:27:59.670Z"
   },
   {
    "duration": 6,
    "start_time": "2021-12-22T18:27:59.682Z"
   },
   {
    "duration": 8,
    "start_time": "2021-12-22T18:27:59.692Z"
   },
   {
    "duration": 7,
    "start_time": "2021-12-22T18:27:59.703Z"
   },
   {
    "duration": 54,
    "start_time": "2021-12-22T18:27:59.712Z"
   },
   {
    "duration": 5,
    "start_time": "2021-12-22T18:27:59.768Z"
   },
   {
    "duration": 8,
    "start_time": "2021-12-22T18:27:59.775Z"
   },
   {
    "duration": 377,
    "start_time": "2021-12-22T18:27:59.785Z"
   },
   {
    "duration": 7,
    "start_time": "2021-12-22T18:28:00.164Z"
   },
   {
    "duration": 774,
    "start_time": "2021-12-22T18:28:00.173Z"
   },
   {
    "duration": 10,
    "start_time": "2021-12-22T18:28:00.949Z"
   },
   {
    "duration": 754,
    "start_time": "2021-12-22T18:28:00.961Z"
   },
   {
    "duration": 4,
    "start_time": "2021-12-22T18:28:01.718Z"
   },
   {
    "duration": 8,
    "start_time": "2021-12-22T18:28:01.724Z"
   },
   {
    "duration": 26,
    "start_time": "2021-12-22T18:28:01.735Z"
   },
   {
    "duration": 11,
    "start_time": "2021-12-22T18:28:01.763Z"
   },
   {
    "duration": 7,
    "start_time": "2021-12-22T18:28:01.776Z"
   },
   {
    "duration": 5,
    "start_time": "2021-12-22T18:28:13.583Z"
   },
   {
    "duration": 10,
    "start_time": "2021-12-22T18:28:16.214Z"
   },
   {
    "duration": 5,
    "start_time": "2021-12-22T18:28:20.015Z"
   },
   {
    "duration": 6,
    "start_time": "2021-12-22T18:28:30.846Z"
   },
   {
    "duration": 729,
    "start_time": "2021-12-22T18:29:11.879Z"
   },
   {
    "duration": 981,
    "start_time": "2021-12-22T18:30:02.199Z"
   },
   {
    "duration": 6,
    "start_time": "2021-12-22T18:33:22.158Z"
   },
   {
    "duration": 7,
    "start_time": "2021-12-22T18:36:03.111Z"
   },
   {
    "duration": 7,
    "start_time": "2021-12-22T18:36:11.915Z"
   },
   {
    "duration": 13,
    "start_time": "2021-12-22T18:36:11.926Z"
   },
   {
    "duration": 1048,
    "start_time": "2021-12-22T18:36:11.942Z"
   },
   {
    "duration": 41,
    "start_time": "2021-12-22T18:36:12.993Z"
   },
   {
    "duration": 42,
    "start_time": "2021-12-22T18:36:13.038Z"
   },
   {
    "duration": 393,
    "start_time": "2021-12-22T18:36:13.083Z"
   },
   {
    "duration": 226,
    "start_time": "2021-12-22T18:36:13.478Z"
   },
   {
    "duration": 5,
    "start_time": "2021-12-22T18:36:13.707Z"
   },
   {
    "duration": 17,
    "start_time": "2021-12-22T18:36:13.714Z"
   },
   {
    "duration": 1145,
    "start_time": "2021-12-22T18:36:13.733Z"
   },
   {
    "duration": 7,
    "start_time": "2021-12-22T18:36:14.881Z"
   },
   {
    "duration": 8,
    "start_time": "2021-12-22T18:36:14.892Z"
   },
   {
    "duration": 7,
    "start_time": "2021-12-22T18:36:14.903Z"
   },
   {
    "duration": 46,
    "start_time": "2021-12-22T18:36:14.913Z"
   },
   {
    "duration": 8,
    "start_time": "2021-12-22T18:36:14.963Z"
   },
   {
    "duration": 8,
    "start_time": "2021-12-22T18:36:14.974Z"
   },
   {
    "duration": 12,
    "start_time": "2021-12-22T18:36:14.985Z"
   },
   {
    "duration": 77,
    "start_time": "2021-12-22T18:36:14.999Z"
   },
   {
    "duration": 18,
    "start_time": "2021-12-22T18:36:15.079Z"
   },
   {
    "duration": 4,
    "start_time": "2021-12-22T18:36:15.100Z"
   },
   {
    "duration": 12,
    "start_time": "2021-12-22T18:36:15.106Z"
   },
   {
    "duration": 7,
    "start_time": "2021-12-22T18:36:15.120Z"
   },
   {
    "duration": 32,
    "start_time": "2021-12-22T18:36:15.131Z"
   },
   {
    "duration": 7,
    "start_time": "2021-12-22T18:36:15.166Z"
   },
   {
    "duration": 13,
    "start_time": "2021-12-22T18:36:15.176Z"
   },
   {
    "duration": 10,
    "start_time": "2021-12-22T18:36:15.192Z"
   },
   {
    "duration": 23,
    "start_time": "2021-12-22T18:36:15.205Z"
   },
   {
    "duration": 479,
    "start_time": "2021-12-22T18:36:15.232Z"
   },
   {
    "duration": 5,
    "start_time": "2021-12-22T18:36:15.714Z"
   },
   {
    "duration": 879,
    "start_time": "2021-12-22T18:36:15.722Z"
   },
   {
    "duration": 7,
    "start_time": "2021-12-22T18:36:16.604Z"
   },
   {
    "duration": 825,
    "start_time": "2021-12-22T18:36:16.614Z"
   },
   {
    "duration": 18,
    "start_time": "2021-12-22T18:36:17.443Z"
   },
   {
    "duration": 9,
    "start_time": "2021-12-22T18:36:17.464Z"
   },
   {
    "duration": 8,
    "start_time": "2021-12-22T18:36:17.476Z"
   },
   {
    "duration": 5,
    "start_time": "2021-12-22T18:36:17.488Z"
   },
   {
    "duration": 9,
    "start_time": "2021-12-22T18:36:17.496Z"
   },
   {
    "duration": 7,
    "start_time": "2021-12-22T18:36:17.508Z"
   },
   {
    "duration": 7,
    "start_time": "2021-12-22T18:36:21.646Z"
   },
   {
    "duration": 498,
    "start_time": "2021-12-22T18:37:57.432Z"
   },
   {
    "duration": 704,
    "start_time": "2021-12-22T18:38:22.398Z"
   },
   {
    "duration": 494,
    "start_time": "2021-12-22T18:38:28.936Z"
   },
   {
    "duration": 4321,
    "start_time": "2021-12-22T18:44:11.918Z"
   },
   {
    "duration": 7,
    "start_time": "2021-12-22T18:44:34.007Z"
   },
   {
    "duration": 30,
    "start_time": "2021-12-22T18:46:04.536Z"
   },
   {
    "duration": 5,
    "start_time": "2021-12-22T18:47:13.422Z"
   },
   {
    "duration": 9,
    "start_time": "2021-12-22T18:52:15.773Z"
   },
   {
    "duration": 8,
    "start_time": "2021-12-22T18:52:16.366Z"
   },
   {
    "duration": 8,
    "start_time": "2021-12-22T18:52:46.638Z"
   },
   {
    "duration": 14,
    "start_time": "2021-12-22T18:54:21.158Z"
   },
   {
    "duration": 150,
    "start_time": "2021-12-22T18:54:57.742Z"
   },
   {
    "duration": 157,
    "start_time": "2021-12-22T18:55:02.172Z"
   },
   {
    "duration": 15,
    "start_time": "2021-12-22T18:55:07.533Z"
   },
   {
    "duration": 5,
    "start_time": "2021-12-22T18:55:33.053Z"
   },
   {
    "duration": 16,
    "start_time": "2021-12-22T18:55:41.879Z"
   },
   {
    "duration": 9,
    "start_time": "2021-12-22T18:55:54.149Z"
   },
   {
    "duration": 16,
    "start_time": "2021-12-22T18:55:55.535Z"
   },
   {
    "duration": 899,
    "start_time": "2021-12-22T18:56:23.229Z"
   },
   {
    "duration": 7,
    "start_time": "2021-12-22T18:57:32.278Z"
   },
   {
    "duration": 5,
    "start_time": "2021-12-22T18:58:26.800Z"
   },
   {
    "duration": 2134,
    "start_time": "2021-12-22T18:59:12.120Z"
   },
   {
    "duration": 4,
    "start_time": "2021-12-22T18:59:14.258Z"
   },
   {
    "duration": 1028,
    "start_time": "2021-12-22T18:59:14.267Z"
   },
   {
    "duration": 37,
    "start_time": "2021-12-22T18:59:15.298Z"
   },
   {
    "duration": 42,
    "start_time": "2021-12-22T18:59:15.337Z"
   },
   {
    "duration": 396,
    "start_time": "2021-12-22T18:59:15.382Z"
   },
   {
    "duration": 228,
    "start_time": "2021-12-22T18:59:15.780Z"
   },
   {
    "duration": 5,
    "start_time": "2021-12-22T18:59:16.012Z"
   },
   {
    "duration": 11,
    "start_time": "2021-12-22T18:59:16.020Z"
   },
   {
    "duration": 688,
    "start_time": "2021-12-22T18:59:16.059Z"
   },
   {
    "duration": 14,
    "start_time": "2021-12-22T18:59:16.749Z"
   },
   {
    "duration": 8,
    "start_time": "2021-12-22T18:59:16.766Z"
   },
   {
    "duration": 6,
    "start_time": "2021-12-22T18:59:16.778Z"
   },
   {
    "duration": 7,
    "start_time": "2021-12-22T18:59:16.787Z"
   },
   {
    "duration": 9,
    "start_time": "2021-12-22T18:59:16.797Z"
   },
   {
    "duration": 55,
    "start_time": "2021-12-22T18:59:16.809Z"
   },
   {
    "duration": 11,
    "start_time": "2021-12-22T18:59:16.867Z"
   },
   {
    "duration": 37,
    "start_time": "2021-12-22T18:59:16.880Z"
   },
   {
    "duration": 41,
    "start_time": "2021-12-22T18:59:16.920Z"
   },
   {
    "duration": 4,
    "start_time": "2021-12-22T18:59:16.964Z"
   },
   {
    "duration": 14,
    "start_time": "2021-12-22T18:59:16.970Z"
   },
   {
    "duration": 6,
    "start_time": "2021-12-22T18:59:16.986Z"
   },
   {
    "duration": 7,
    "start_time": "2021-12-22T18:59:16.997Z"
   },
   {
    "duration": 9,
    "start_time": "2021-12-22T18:59:17.006Z"
   },
   {
    "duration": 51,
    "start_time": "2021-12-22T18:59:17.017Z"
   },
   {
    "duration": 8,
    "start_time": "2021-12-22T18:59:17.070Z"
   },
   {
    "duration": 8,
    "start_time": "2021-12-22T18:59:17.081Z"
   },
   {
    "duration": 400,
    "start_time": "2021-12-22T18:59:17.092Z"
   },
   {
    "duration": 7,
    "start_time": "2021-12-22T18:59:17.495Z"
   },
   {
    "duration": 719,
    "start_time": "2021-12-22T18:59:17.504Z"
   },
   {
    "duration": 5,
    "start_time": "2021-12-22T18:59:18.226Z"
   },
   {
    "duration": 26,
    "start_time": "2021-12-22T18:59:18.233Z"
   },
   {
    "duration": 8,
    "start_time": "2021-12-22T18:59:18.262Z"
   },
   {
    "duration": 13,
    "start_time": "2021-12-22T18:59:18.272Z"
   },
   {
    "duration": 16,
    "start_time": "2021-12-22T18:59:18.288Z"
   },
   {
    "duration": 767,
    "start_time": "2021-12-22T18:59:18.306Z"
   },
   {
    "duration": 7,
    "start_time": "2021-12-22T19:01:25.006Z"
   },
   {
    "duration": 8,
    "start_time": "2021-12-22T19:01:33.645Z"
   },
   {
    "duration": 16,
    "start_time": "2021-12-22T19:01:36.837Z"
   },
   {
    "duration": 6,
    "start_time": "2021-12-22T19:01:41.108Z"
   },
   {
    "duration": 1615,
    "start_time": "2021-12-23T08:35:41.267Z"
   },
   {
    "duration": 4,
    "start_time": "2021-12-23T08:35:42.884Z"
   },
   {
    "duration": 895,
    "start_time": "2021-12-23T08:35:42.891Z"
   },
   {
    "duration": 43,
    "start_time": "2021-12-23T08:35:43.790Z"
   },
   {
    "duration": 46,
    "start_time": "2021-12-23T08:35:43.836Z"
   },
   {
    "duration": 383,
    "start_time": "2021-12-23T08:35:43.885Z"
   },
   {
    "duration": 226,
    "start_time": "2021-12-23T08:35:44.271Z"
   },
   {
    "duration": 6,
    "start_time": "2021-12-23T08:35:44.502Z"
   },
   {
    "duration": 8,
    "start_time": "2021-12-23T08:35:44.511Z"
   },
   {
    "duration": 702,
    "start_time": "2021-12-23T08:35:44.521Z"
   },
   {
    "duration": 6,
    "start_time": "2021-12-23T08:35:45.225Z"
   },
   {
    "duration": 27,
    "start_time": "2021-12-23T08:35:45.233Z"
   },
   {
    "duration": 5,
    "start_time": "2021-12-23T08:35:45.263Z"
   },
   {
    "duration": 5,
    "start_time": "2021-12-23T08:35:45.270Z"
   },
   {
    "duration": 9,
    "start_time": "2021-12-23T08:35:45.277Z"
   },
   {
    "duration": 9,
    "start_time": "2021-12-23T08:35:45.288Z"
   },
   {
    "duration": 60,
    "start_time": "2021-12-23T08:35:45.299Z"
   },
   {
    "duration": 33,
    "start_time": "2021-12-23T08:36:21.654Z"
   },
   {
    "duration": 20,
    "start_time": "2021-12-23T08:38:17.001Z"
   },
   {
    "duration": 18,
    "start_time": "2021-12-23T08:43:32.523Z"
   },
   {
    "duration": 1008,
    "start_time": "2021-12-23T08:43:48.272Z"
   },
   {
    "duration": 7,
    "start_time": "2021-12-23T08:45:44.136Z"
   },
   {
    "duration": 926,
    "start_time": "2021-12-23T08:45:55.741Z"
   },
   {
    "duration": 3240,
    "start_time": "2021-12-23T08:46:22.553Z"
   },
   {
    "duration": 11051,
    "start_time": "2021-12-23T08:47:07.192Z"
   },
   {
    "duration": 7,
    "start_time": "2021-12-23T08:48:38.153Z"
   },
   {
    "duration": 3105,
    "start_time": "2021-12-23T08:48:42.799Z"
   },
   {
    "duration": 167,
    "start_time": "2021-12-23T08:53:28.368Z"
   },
   {
    "duration": 493,
    "start_time": "2021-12-23T08:54:57.526Z"
   },
   {
    "duration": 339,
    "start_time": "2021-12-23T08:55:12.026Z"
   },
   {
    "duration": 328,
    "start_time": "2021-12-23T08:55:16.120Z"
   },
   {
    "duration": 445,
    "start_time": "2021-12-23T08:55:32.524Z"
   },
   {
    "duration": 102,
    "start_time": "2021-12-23T08:57:50.916Z"
   },
   {
    "duration": 104,
    "start_time": "2021-12-23T08:58:01.270Z"
   },
   {
    "duration": 102,
    "start_time": "2021-12-23T08:58:11.896Z"
   },
   {
    "duration": 101,
    "start_time": "2021-12-23T08:58:17.818Z"
   },
   {
    "duration": 103,
    "start_time": "2021-12-23T08:58:23.402Z"
   },
   {
    "duration": 106,
    "start_time": "2021-12-23T08:59:04.662Z"
   },
   {
    "duration": 103,
    "start_time": "2021-12-23T09:00:43.067Z"
   },
   {
    "duration": 99,
    "start_time": "2021-12-23T09:01:09.204Z"
   },
   {
    "duration": 3068,
    "start_time": "2021-12-23T09:02:41.330Z"
   },
   {
    "duration": 3135,
    "start_time": "2021-12-23T09:02:48.469Z"
   },
   {
    "duration": 6,
    "start_time": "2021-12-23T09:09:10.759Z"
   },
   {
    "duration": 8,
    "start_time": "2021-12-23T09:10:58.953Z"
   },
   {
    "duration": 6,
    "start_time": "2021-12-23T09:11:01.313Z"
   },
   {
    "duration": 392,
    "start_time": "2021-12-23T09:11:16.418Z"
   },
   {
    "duration": 574,
    "start_time": "2021-12-23T09:11:55.625Z"
   },
   {
    "duration": 316,
    "start_time": "2021-12-23T09:12:09.969Z"
   },
   {
    "duration": 337,
    "start_time": "2021-12-23T09:12:27.940Z"
   },
   {
    "duration": 8,
    "start_time": "2021-12-23T09:13:01.656Z"
   },
   {
    "duration": 422,
    "start_time": "2021-12-23T09:13:07.320Z"
   },
   {
    "duration": 8,
    "start_time": "2021-12-23T09:13:18.629Z"
   },
   {
    "duration": 2878,
    "start_time": "2021-12-23T09:13:22.840Z"
   },
   {
    "duration": 4,
    "start_time": "2021-12-23T09:14:19.750Z"
   },
   {
    "duration": 5,
    "start_time": "2021-12-23T09:14:19.757Z"
   },
   {
    "duration": 894,
    "start_time": "2021-12-23T09:14:19.765Z"
   },
   {
    "duration": 35,
    "start_time": "2021-12-23T09:14:20.662Z"
   },
   {
    "duration": 27,
    "start_time": "2021-12-23T09:14:20.699Z"
   },
   {
    "duration": 400,
    "start_time": "2021-12-23T09:14:20.728Z"
   },
   {
    "duration": 224,
    "start_time": "2021-12-23T09:14:21.131Z"
   },
   {
    "duration": 7,
    "start_time": "2021-12-23T09:14:21.360Z"
   },
   {
    "duration": 3137,
    "start_time": "2021-12-23T09:14:21.369Z"
   },
   {
    "duration": 11,
    "start_time": "2021-12-23T09:14:24.508Z"
   },
   {
    "duration": 3021,
    "start_time": "2021-12-23T09:14:24.522Z"
   },
   {
    "duration": 1869,
    "start_time": "2021-12-23T09:15:24.259Z"
   },
   {
    "duration": 4,
    "start_time": "2021-12-23T09:15:26.132Z"
   },
   {
    "duration": 943,
    "start_time": "2021-12-23T09:15:26.140Z"
   },
   {
    "duration": 37,
    "start_time": "2021-12-23T09:15:27.085Z"
   },
   {
    "duration": 45,
    "start_time": "2021-12-23T09:15:27.125Z"
   },
   {
    "duration": 418,
    "start_time": "2021-12-23T09:15:27.173Z"
   },
   {
    "duration": 227,
    "start_time": "2021-12-23T09:15:27.594Z"
   },
   {
    "duration": 7,
    "start_time": "2021-12-23T09:15:27.825Z"
   },
   {
    "duration": 8153,
    "start_time": "2021-12-23T09:15:27.835Z"
   },
   {
    "duration": 11,
    "start_time": "2021-12-23T09:15:35.990Z"
   },
   {
    "duration": 2900,
    "start_time": "2021-12-23T09:15:36.004Z"
   },
   {
    "duration": 6,
    "start_time": "2021-12-23T09:15:38.907Z"
   },
   {
    "duration": 11,
    "start_time": "2021-12-23T09:15:38.915Z"
   },
   {
    "duration": 667,
    "start_time": "2021-12-23T09:15:38.929Z"
   },
   {
    "duration": 5,
    "start_time": "2021-12-23T09:15:39.598Z"
   },
   {
    "duration": 95,
    "start_time": "2021-12-23T09:15:39.605Z"
   },
   {
    "duration": 6,
    "start_time": "2021-12-23T09:15:39.703Z"
   },
   {
    "duration": 4,
    "start_time": "2021-12-23T09:15:39.711Z"
   },
   {
    "duration": 7,
    "start_time": "2021-12-23T09:15:39.717Z"
   },
   {
    "duration": 35,
    "start_time": "2021-12-23T09:15:39.727Z"
   },
   {
    "duration": 9,
    "start_time": "2021-12-23T09:15:39.764Z"
   },
   {
    "duration": 37,
    "start_time": "2021-12-23T09:15:39.776Z"
   },
   {
    "duration": 4,
    "start_time": "2021-12-23T09:15:39.818Z"
   },
   {
    "duration": 40,
    "start_time": "2021-12-23T09:15:39.825Z"
   },
   {
    "duration": 5,
    "start_time": "2021-12-23T09:15:39.868Z"
   },
   {
    "duration": 10,
    "start_time": "2021-12-23T09:15:39.875Z"
   },
   {
    "duration": 9,
    "start_time": "2021-12-23T09:15:39.888Z"
   },
   {
    "duration": 10,
    "start_time": "2021-12-23T09:15:39.900Z"
   },
   {
    "duration": 5,
    "start_time": "2021-12-23T09:15:39.913Z"
   },
   {
    "duration": 46,
    "start_time": "2021-12-23T09:15:39.920Z"
   },
   {
    "duration": 366,
    "start_time": "2021-12-23T09:15:39.968Z"
   },
   {
    "duration": 5,
    "start_time": "2021-12-23T09:15:40.337Z"
   },
   {
    "duration": 748,
    "start_time": "2021-12-23T09:15:40.345Z"
   },
   {
    "duration": 5,
    "start_time": "2021-12-23T09:15:41.096Z"
   },
   {
    "duration": 15,
    "start_time": "2021-12-23T09:15:41.104Z"
   },
   {
    "duration": 37,
    "start_time": "2021-12-23T09:15:41.122Z"
   },
   {
    "duration": 9,
    "start_time": "2021-12-23T09:15:41.161Z"
   },
   {
    "duration": 19,
    "start_time": "2021-12-23T09:15:41.172Z"
   },
   {
    "duration": 792,
    "start_time": "2021-12-23T09:15:41.194Z"
   },
   {
    "duration": 5,
    "start_time": "2021-12-23T09:15:41.989Z"
   },
   {
    "duration": 15,
    "start_time": "2021-12-23T09:15:41.996Z"
   },
   {
    "duration": 6,
    "start_time": "2021-12-23T09:15:42.014Z"
   },
   {
    "duration": 48,
    "start_time": "2021-12-23T09:15:42.022Z"
   },
   {
    "duration": 66,
    "start_time": "2021-12-23T09:15:42.072Z"
   },
   {
    "duration": 3305,
    "start_time": "2021-12-23T09:15:42.140Z"
   },
   {
    "duration": 8,
    "start_time": "2021-12-23T09:16:16.166Z"
   },
   {
    "duration": 7,
    "start_time": "2021-12-23T09:16:29.412Z"
   },
   {
    "duration": 1194,
    "start_time": "2021-12-23T09:16:36.579Z"
   },
   {
    "duration": 8,
    "start_time": "2021-12-23T09:16:44.596Z"
   },
   {
    "duration": 377,
    "start_time": "2021-12-23T09:18:56.218Z"
   },
   {
    "duration": 6,
    "start_time": "2021-12-23T09:19:09.820Z"
   },
   {
    "duration": 7,
    "start_time": "2021-12-23T09:19:09.828Z"
   },
   {
    "duration": 869,
    "start_time": "2021-12-23T09:19:09.838Z"
   },
   {
    "duration": 35,
    "start_time": "2021-12-23T09:19:10.710Z"
   },
   {
    "duration": 24,
    "start_time": "2021-12-23T09:19:10.760Z"
   },
   {
    "duration": 374,
    "start_time": "2021-12-23T09:19:10.787Z"
   },
   {
    "duration": 244,
    "start_time": "2021-12-23T09:19:11.164Z"
   },
   {
    "duration": 7,
    "start_time": "2021-12-23T09:19:11.412Z"
   },
   {
    "duration": 3282,
    "start_time": "2021-12-23T09:19:11.422Z"
   },
   {
    "duration": 11,
    "start_time": "2021-12-23T09:19:14.706Z"
   },
   {
    "duration": 3005,
    "start_time": "2021-12-23T09:19:14.720Z"
   },
   {
    "duration": 6,
    "start_time": "2021-12-23T09:19:34.493Z"
   },
   {
    "duration": 6,
    "start_time": "2021-12-23T09:20:26.688Z"
   },
   {
    "duration": 1473,
    "start_time": "2021-12-23T09:20:34.490Z"
   },
   {
    "duration": 3,
    "start_time": "2021-12-23T09:20:35.965Z"
   },
   {
    "duration": 890,
    "start_time": "2021-12-23T09:20:35.972Z"
   },
   {
    "duration": 38,
    "start_time": "2021-12-23T09:20:36.865Z"
   },
   {
    "duration": 54,
    "start_time": "2021-12-23T09:20:36.905Z"
   },
   {
    "duration": 370,
    "start_time": "2021-12-23T09:20:36.962Z"
   },
   {
    "duration": 326,
    "start_time": "2021-12-23T09:20:37.335Z"
   },
   {
    "duration": 10,
    "start_time": "2021-12-23T09:20:37.667Z"
   },
   {
    "duration": 3446,
    "start_time": "2021-12-23T09:20:37.681Z"
   },
   {
    "duration": 11,
    "start_time": "2021-12-23T09:20:41.130Z"
   },
   {
    "duration": 5,
    "start_time": "2021-12-23T09:20:41.160Z"
   },
   {
    "duration": 2742,
    "start_time": "2021-12-23T09:20:41.168Z"
   },
   {
    "duration": 6,
    "start_time": "2021-12-23T09:20:43.913Z"
   },
   {
    "duration": 10,
    "start_time": "2021-12-23T09:20:43.921Z"
   },
   {
    "duration": 656,
    "start_time": "2021-12-23T09:20:43.933Z"
   },
   {
    "duration": 5,
    "start_time": "2021-12-23T09:20:44.591Z"
   },
   {
    "duration": 10,
    "start_time": "2021-12-23T09:20:44.598Z"
   },
   {
    "duration": 10,
    "start_time": "2021-12-23T09:20:44.610Z"
   },
   {
    "duration": 36,
    "start_time": "2021-12-23T09:20:44.623Z"
   },
   {
    "duration": 7,
    "start_time": "2021-12-23T09:20:44.662Z"
   },
   {
    "duration": 6,
    "start_time": "2021-12-23T09:20:44.672Z"
   },
   {
    "duration": 9,
    "start_time": "2021-12-23T09:20:44.680Z"
   },
   {
    "duration": 66,
    "start_time": "2021-12-23T09:20:44.695Z"
   },
   {
    "duration": 3,
    "start_time": "2021-12-23T09:20:44.764Z"
   },
   {
    "duration": 8,
    "start_time": "2021-12-23T09:20:44.770Z"
   },
   {
    "duration": 5,
    "start_time": "2021-12-23T09:20:44.780Z"
   },
   {
    "duration": 9,
    "start_time": "2021-12-23T09:20:44.787Z"
   },
   {
    "duration": 6,
    "start_time": "2021-12-23T09:20:44.798Z"
   },
   {
    "duration": 11,
    "start_time": "2021-12-23T09:20:44.806Z"
   },
   {
    "duration": 45,
    "start_time": "2021-12-23T09:20:44.819Z"
   },
   {
    "duration": 10,
    "start_time": "2021-12-23T09:20:44.867Z"
   },
   {
    "duration": 380,
    "start_time": "2021-12-23T09:20:44.879Z"
   },
   {
    "duration": 6,
    "start_time": "2021-12-23T09:20:45.261Z"
   },
   {
    "duration": 903,
    "start_time": "2021-12-23T09:20:45.269Z"
   },
   {
    "duration": 7,
    "start_time": "2021-12-23T09:20:46.175Z"
   },
   {
    "duration": 11,
    "start_time": "2021-12-23T09:20:46.185Z"
   },
   {
    "duration": 11,
    "start_time": "2021-12-23T09:20:46.199Z"
   },
   {
    "duration": 49,
    "start_time": "2021-12-23T09:20:46.213Z"
   },
   {
    "duration": 19,
    "start_time": "2021-12-23T09:20:46.265Z"
   },
   {
    "duration": 779,
    "start_time": "2021-12-23T09:20:46.286Z"
   },
   {
    "duration": 7,
    "start_time": "2021-12-23T09:20:47.068Z"
   },
   {
    "duration": 16,
    "start_time": "2021-12-23T09:20:47.078Z"
   },
   {
    "duration": 6,
    "start_time": "2021-12-23T09:20:47.097Z"
   },
   {
    "duration": 55,
    "start_time": "2021-12-23T09:20:47.106Z"
   },
   {
    "duration": 9,
    "start_time": "2021-12-23T09:21:51.532Z"
   },
   {
    "duration": 6,
    "start_time": "2021-12-23T09:24:58.032Z"
   },
   {
    "duration": 1486,
    "start_time": "2021-12-23T09:29:42.276Z"
   },
   {
    "duration": 4,
    "start_time": "2021-12-23T09:29:43.766Z"
   },
   {
    "duration": 884,
    "start_time": "2021-12-23T09:29:43.777Z"
   },
   {
    "duration": 36,
    "start_time": "2021-12-23T09:29:44.664Z"
   },
   {
    "duration": 25,
    "start_time": "2021-12-23T09:29:44.703Z"
   },
   {
    "duration": 388,
    "start_time": "2021-12-23T09:29:44.730Z"
   },
   {
    "duration": 212,
    "start_time": "2021-12-23T09:29:45.122Z"
   },
   {
    "duration": 5,
    "start_time": "2021-12-23T09:29:45.337Z"
   },
   {
    "duration": 15,
    "start_time": "2021-12-23T09:29:45.345Z"
   },
   {
    "duration": 678,
    "start_time": "2021-12-23T09:29:45.363Z"
   },
   {
    "duration": 17,
    "start_time": "2021-12-23T09:29:46.044Z"
   },
   {
    "duration": 12,
    "start_time": "2021-12-23T09:29:46.063Z"
   },
   {
    "duration": 5,
    "start_time": "2021-12-23T09:29:46.078Z"
   },
   {
    "duration": 7,
    "start_time": "2021-12-23T09:29:46.085Z"
   },
   {
    "duration": 7,
    "start_time": "2021-12-23T09:29:46.095Z"
   },
   {
    "duration": 9,
    "start_time": "2021-12-23T09:29:46.104Z"
   },
   {
    "duration": 50,
    "start_time": "2021-12-23T09:29:46.115Z"
   },
   {
    "duration": 34,
    "start_time": "2021-12-23T09:29:46.168Z"
   },
   {
    "duration": 6,
    "start_time": "2021-12-23T09:29:46.205Z"
   },
   {
    "duration": 51,
    "start_time": "2021-12-23T09:29:46.214Z"
   },
   {
    "duration": 6,
    "start_time": "2021-12-23T09:29:46.268Z"
   },
   {
    "duration": 10,
    "start_time": "2021-12-23T09:29:46.280Z"
   },
   {
    "duration": 8,
    "start_time": "2021-12-23T09:29:46.294Z"
   },
   {
    "duration": 11,
    "start_time": "2021-12-23T09:29:46.305Z"
   },
   {
    "duration": 45,
    "start_time": "2021-12-23T09:29:46.319Z"
   },
   {
    "duration": 9,
    "start_time": "2021-12-23T09:29:46.367Z"
   },
   {
    "duration": 388,
    "start_time": "2021-12-23T09:29:46.379Z"
   },
   {
    "duration": 8,
    "start_time": "2021-12-23T09:29:46.770Z"
   },
   {
    "duration": 715,
    "start_time": "2021-12-23T09:29:46.781Z"
   },
   {
    "duration": 5,
    "start_time": "2021-12-23T09:29:47.499Z"
   },
   {
    "duration": 15,
    "start_time": "2021-12-23T09:29:47.506Z"
   },
   {
    "duration": 7,
    "start_time": "2021-12-23T09:29:47.524Z"
   },
   {
    "duration": 8,
    "start_time": "2021-12-23T09:29:47.558Z"
   },
   {
    "duration": 15,
    "start_time": "2021-12-23T09:29:47.568Z"
   },
   {
    "duration": 785,
    "start_time": "2021-12-23T09:29:47.585Z"
   },
   {
    "duration": 7,
    "start_time": "2021-12-23T09:29:48.372Z"
   },
   {
    "duration": 19,
    "start_time": "2021-12-23T09:29:48.382Z"
   },
   {
    "duration": 7,
    "start_time": "2021-12-23T09:29:48.403Z"
   },
   {
    "duration": 47,
    "start_time": "2021-12-23T09:29:48.412Z"
   },
   {
    "duration": 7,
    "start_time": "2021-12-23T09:29:48.461Z"
   },
   {
    "duration": 6,
    "start_time": "2021-12-23T09:35:15.551Z"
   },
   {
    "duration": 109,
    "start_time": "2021-12-23T09:47:21.314Z"
   },
   {
    "duration": 121,
    "start_time": "2021-12-23T09:47:26.750Z"
   },
   {
    "duration": 11,
    "start_time": "2021-12-23T09:48:08.061Z"
   },
   {
    "duration": 7,
    "start_time": "2021-12-23T09:48:11.965Z"
   },
   {
    "duration": 7,
    "start_time": "2021-12-23T09:50:09.731Z"
   },
   {
    "duration": 5,
    "start_time": "2021-12-23T09:54:18.160Z"
   },
   {
    "duration": 16,
    "start_time": "2021-12-23T09:54:21.353Z"
   },
   {
    "duration": 6,
    "start_time": "2021-12-23T09:54:54.092Z"
   },
   {
    "duration": 6,
    "start_time": "2021-12-23T09:54:54.759Z"
   },
   {
    "duration": 6,
    "start_time": "2021-12-23T09:57:42.172Z"
   },
   {
    "duration": 470,
    "start_time": "2021-12-23T09:57:42.562Z"
   },
   {
    "duration": 6,
    "start_time": "2021-12-23T09:57:48.718Z"
   },
   {
    "duration": 5,
    "start_time": "2021-12-23T09:57:49.149Z"
   },
   {
    "duration": 84,
    "start_time": "2021-12-23T09:57:53.555Z"
   },
   {
    "duration": 6,
    "start_time": "2021-12-23T09:57:54.055Z"
   },
   {
    "duration": 5,
    "start_time": "2021-12-23T09:57:54.511Z"
   },
   {
    "duration": 13,
    "start_time": "2021-12-23T09:57:59.124Z"
   },
   {
    "duration": 370,
    "start_time": "2021-12-23T09:58:22.076Z"
   },
   {
    "duration": 414,
    "start_time": "2021-12-23T09:58:24.375Z"
   },
   {
    "duration": 8,
    "start_time": "2021-12-23T09:58:27.948Z"
   },
   {
    "duration": 6,
    "start_time": "2021-12-23T09:58:51.854Z"
   },
   {
    "duration": 9,
    "start_time": "2021-12-23T09:58:52.185Z"
   },
   {
    "duration": 13,
    "start_time": "2021-12-23T09:58:55.431Z"
   },
   {
    "duration": 552,
    "start_time": "2021-12-23T09:59:28.187Z"
   },
   {
    "duration": 410,
    "start_time": "2021-12-23T09:59:45.863Z"
   },
   {
    "duration": 1280,
    "start_time": "2021-12-23T09:59:50.665Z"
   },
   {
    "duration": 549,
    "start_time": "2021-12-23T09:59:57.468Z"
   },
   {
    "duration": 589,
    "start_time": "2021-12-23T10:06:01.663Z"
   },
   {
    "duration": 414,
    "start_time": "2021-12-23T10:09:27.052Z"
   },
   {
    "duration": 392,
    "start_time": "2021-12-23T10:09:40.521Z"
   },
   {
    "duration": 334,
    "start_time": "2021-12-23T10:10:45.138Z"
   },
   {
    "duration": 466,
    "start_time": "2021-12-23T10:11:03.954Z"
   },
   {
    "duration": 133,
    "start_time": "2021-12-23T10:11:25.212Z"
   },
   {
    "duration": 455,
    "start_time": "2021-12-23T10:11:27.872Z"
   },
   {
    "duration": 19,
    "start_time": "2021-12-23T10:11:52.595Z"
   },
   {
    "duration": 427,
    "start_time": "2021-12-23T10:11:59.454Z"
   },
   {
    "duration": 4,
    "start_time": "2021-12-23T10:14:18.038Z"
   },
   {
    "duration": 5,
    "start_time": "2021-12-23T10:14:35.013Z"
   },
   {
    "duration": 6,
    "start_time": "2021-12-23T10:14:35.020Z"
   },
   {
    "duration": 842,
    "start_time": "2021-12-23T10:14:35.029Z"
   },
   {
    "duration": 35,
    "start_time": "2021-12-23T10:14:35.874Z"
   },
   {
    "duration": 26,
    "start_time": "2021-12-23T10:14:35.911Z"
   },
   {
    "duration": 357,
    "start_time": "2021-12-23T10:14:35.960Z"
   },
   {
    "duration": 212,
    "start_time": "2021-12-23T10:14:36.320Z"
   },
   {
    "duration": 4,
    "start_time": "2021-12-23T10:14:36.535Z"
   },
   {
    "duration": 25,
    "start_time": "2021-12-23T10:14:36.541Z"
   },
   {
    "duration": 646,
    "start_time": "2021-12-23T10:14:36.568Z"
   },
   {
    "duration": 5,
    "start_time": "2021-12-23T10:14:37.216Z"
   },
   {
    "duration": 12,
    "start_time": "2021-12-23T10:14:37.225Z"
   },
   {
    "duration": 24,
    "start_time": "2021-12-23T10:14:37.239Z"
   },
   {
    "duration": 7,
    "start_time": "2021-12-23T10:14:37.265Z"
   },
   {
    "duration": 15,
    "start_time": "2021-12-23T10:14:37.274Z"
   },
   {
    "duration": 8,
    "start_time": "2021-12-23T10:14:37.291Z"
   },
   {
    "duration": 14,
    "start_time": "2021-12-23T10:14:37.301Z"
   },
   {
    "duration": 68,
    "start_time": "2021-12-23T10:14:37.321Z"
   },
   {
    "duration": 5,
    "start_time": "2021-12-23T10:14:37.392Z"
   },
   {
    "duration": 392,
    "start_time": "2021-12-23T10:14:40.082Z"
   },
   {
    "duration": 382,
    "start_time": "2021-12-23T10:15:13.240Z"
   },
   {
    "duration": 41,
    "start_time": "2021-12-23T10:15:58.015Z"
   },
   {
    "duration": 9,
    "start_time": "2021-12-23T10:16:36.614Z"
   },
   {
    "duration": 4,
    "start_time": "2021-12-23T10:16:39.481Z"
   },
   {
    "duration": 17,
    "start_time": "2021-12-23T10:16:43.782Z"
   },
   {
    "duration": 337,
    "start_time": "2021-12-23T10:17:52.062Z"
   },
   {
    "duration": 12,
    "start_time": "2021-12-23T10:18:13.344Z"
   },
   {
    "duration": 38,
    "start_time": "2021-12-23T10:18:17.662Z"
   },
   {
    "duration": 7,
    "start_time": "2021-12-23T10:18:45.091Z"
   },
   {
    "duration": 500,
    "start_time": "2021-12-23T10:19:05.480Z"
   },
   {
    "duration": 391,
    "start_time": "2021-12-23T10:19:30.178Z"
   },
   {
    "duration": 44,
    "start_time": "2021-12-23T10:19:42.771Z"
   },
   {
    "duration": 4,
    "start_time": "2021-12-23T10:22:30.621Z"
   },
   {
    "duration": 14,
    "start_time": "2021-12-23T10:22:30.628Z"
   },
   {
    "duration": 869,
    "start_time": "2021-12-23T10:22:30.646Z"
   },
   {
    "duration": 43,
    "start_time": "2021-12-23T10:22:31.518Z"
   },
   {
    "duration": 26,
    "start_time": "2021-12-23T10:22:31.563Z"
   },
   {
    "duration": 377,
    "start_time": "2021-12-23T10:22:31.591Z"
   },
   {
    "duration": 221,
    "start_time": "2021-12-23T10:22:31.971Z"
   },
   {
    "duration": 5,
    "start_time": "2021-12-23T10:22:32.195Z"
   },
   {
    "duration": 6,
    "start_time": "2021-12-23T10:22:32.205Z"
   },
   {
    "duration": 937,
    "start_time": "2021-12-23T10:22:32.213Z"
   },
   {
    "duration": 5,
    "start_time": "2021-12-23T10:22:33.160Z"
   },
   {
    "duration": 9,
    "start_time": "2021-12-23T10:22:33.168Z"
   },
   {
    "duration": 6,
    "start_time": "2021-12-23T10:22:33.180Z"
   },
   {
    "duration": 4,
    "start_time": "2021-12-23T10:22:33.189Z"
   },
   {
    "duration": 7,
    "start_time": "2021-12-23T10:22:33.195Z"
   },
   {
    "duration": 56,
    "start_time": "2021-12-23T10:22:33.205Z"
   },
   {
    "duration": 9,
    "start_time": "2021-12-23T10:22:33.263Z"
   },
   {
    "duration": 30,
    "start_time": "2021-12-23T10:22:33.275Z"
   },
   {
    "duration": 18,
    "start_time": "2021-12-23T10:22:33.307Z"
   },
   {
    "duration": 36,
    "start_time": "2021-12-23T10:22:33.360Z"
   },
   {
    "duration": 3,
    "start_time": "2021-12-23T10:22:33.399Z"
   },
   {
    "duration": 16,
    "start_time": "2021-12-23T10:22:33.404Z"
   },
   {
    "duration": 405,
    "start_time": "2021-12-23T10:22:33.423Z"
   },
   {
    "duration": 1506,
    "start_time": "2021-12-23T10:25:26.849Z"
   },
   {
    "duration": 3,
    "start_time": "2021-12-23T10:25:28.358Z"
   },
   {
    "duration": 878,
    "start_time": "2021-12-23T10:25:28.365Z"
   },
   {
    "duration": 40,
    "start_time": "2021-12-23T10:25:29.245Z"
   },
   {
    "duration": 26,
    "start_time": "2021-12-23T10:25:29.287Z"
   },
   {
    "duration": 380,
    "start_time": "2021-12-23T10:25:29.315Z"
   },
   {
    "duration": 217,
    "start_time": "2021-12-23T10:25:29.697Z"
   },
   {
    "duration": 5,
    "start_time": "2021-12-23T10:25:29.917Z"
   },
   {
    "duration": 7,
    "start_time": "2021-12-23T10:25:29.926Z"
   },
   {
    "duration": 752,
    "start_time": "2021-12-23T10:25:29.960Z"
   },
   {
    "duration": 6,
    "start_time": "2021-12-23T10:25:30.715Z"
   },
   {
    "duration": 16,
    "start_time": "2021-12-23T10:25:30.724Z"
   },
   {
    "duration": 6,
    "start_time": "2021-12-23T10:25:30.762Z"
   },
   {
    "duration": 9,
    "start_time": "2021-12-23T10:25:30.771Z"
   },
   {
    "duration": 10,
    "start_time": "2021-12-23T10:25:30.782Z"
   },
   {
    "duration": 13,
    "start_time": "2021-12-23T10:25:30.795Z"
   },
   {
    "duration": 37,
    "start_time": "2021-12-23T10:25:30.811Z"
   },
   {
    "duration": 34,
    "start_time": "2021-12-23T10:25:30.860Z"
   },
   {
    "duration": 22,
    "start_time": "2021-12-23T10:25:30.898Z"
   },
   {
    "duration": 37,
    "start_time": "2021-12-23T10:25:30.923Z"
   },
   {
    "duration": 19,
    "start_time": "2021-12-23T10:25:30.962Z"
   },
   {
    "duration": 656,
    "start_time": "2021-12-23T10:25:30.984Z"
   },
   {
    "duration": 8,
    "start_time": "2021-12-23T10:25:31.637Z"
   },
   {
    "duration": 4,
    "start_time": "2021-12-23T10:25:31.642Z"
   },
   {
    "duration": 3,
    "start_time": "2021-12-23T10:25:31.645Z"
   },
   {
    "duration": 0,
    "start_time": "2021-12-23T10:25:31.650Z"
   },
   {
    "duration": 0,
    "start_time": "2021-12-23T10:25:31.653Z"
   },
   {
    "duration": -2,
    "start_time": "2021-12-23T10:25:31.657Z"
   },
   {
    "duration": -4,
    "start_time": "2021-12-23T10:25:31.661Z"
   },
   {
    "duration": -6,
    "start_time": "2021-12-23T10:25:31.665Z"
   },
   {
    "duration": -8,
    "start_time": "2021-12-23T10:25:31.669Z"
   },
   {
    "duration": -9,
    "start_time": "2021-12-23T10:25:31.672Z"
   },
   {
    "duration": -18,
    "start_time": "2021-12-23T10:25:31.683Z"
   },
   {
    "duration": -19,
    "start_time": "2021-12-23T10:25:31.686Z"
   },
   {
    "duration": -20,
    "start_time": "2021-12-23T10:25:31.689Z"
   },
   {
    "duration": -26,
    "start_time": "2021-12-23T10:25:31.697Z"
   },
   {
    "duration": -33,
    "start_time": "2021-12-23T10:25:31.706Z"
   },
   {
    "duration": -40,
    "start_time": "2021-12-23T10:25:31.716Z"
   },
   {
    "duration": -45,
    "start_time": "2021-12-23T10:25:31.723Z"
   },
   {
    "duration": -48,
    "start_time": "2021-12-23T10:25:31.728Z"
   },
   {
    "duration": -50,
    "start_time": "2021-12-23T10:25:31.732Z"
   },
   {
    "duration": -52,
    "start_time": "2021-12-23T10:25:31.736Z"
   },
   {
    "duration": -53,
    "start_time": "2021-12-23T10:25:31.740Z"
   },
   {
    "duration": 41,
    "start_time": "2021-12-23T10:26:06.144Z"
   },
   {
    "duration": 5,
    "start_time": "2021-12-23T10:26:42.510Z"
   },
   {
    "duration": 5,
    "start_time": "2021-12-23T10:26:42.518Z"
   },
   {
    "duration": 871,
    "start_time": "2021-12-23T10:26:42.527Z"
   },
   {
    "duration": 37,
    "start_time": "2021-12-23T10:26:43.401Z"
   },
   {
    "duration": 38,
    "start_time": "2021-12-23T10:26:43.440Z"
   },
   {
    "duration": 379,
    "start_time": "2021-12-23T10:26:43.480Z"
   },
   {
    "duration": 217,
    "start_time": "2021-12-23T10:26:43.862Z"
   },
   {
    "duration": 4,
    "start_time": "2021-12-23T10:26:44.083Z"
   },
   {
    "duration": 9,
    "start_time": "2021-12-23T10:26:44.091Z"
   },
   {
    "duration": 668,
    "start_time": "2021-12-23T10:26:44.103Z"
   },
   {
    "duration": 7,
    "start_time": "2021-12-23T10:26:44.774Z"
   },
   {
    "duration": 12,
    "start_time": "2021-12-23T10:26:44.783Z"
   },
   {
    "duration": 7,
    "start_time": "2021-12-23T10:26:44.798Z"
   },
   {
    "duration": 5,
    "start_time": "2021-12-23T10:26:44.808Z"
   },
   {
    "duration": 45,
    "start_time": "2021-12-23T10:26:44.816Z"
   },
   {
    "duration": 8,
    "start_time": "2021-12-23T10:26:44.864Z"
   },
   {
    "duration": 11,
    "start_time": "2021-12-23T10:26:44.874Z"
   },
   {
    "duration": 31,
    "start_time": "2021-12-23T10:26:44.888Z"
   },
   {
    "duration": 41,
    "start_time": "2021-12-23T10:26:44.921Z"
   },
   {
    "duration": 5,
    "start_time": "2021-12-23T10:26:44.964Z"
   },
   {
    "duration": 16,
    "start_time": "2021-12-23T10:26:44.971Z"
   },
   {
    "duration": 71,
    "start_time": "2021-12-23T10:26:44.990Z"
   },
   {
    "duration": 18,
    "start_time": "2021-12-23T10:26:45.065Z"
   },
   {
    "duration": 1620,
    "start_time": "2021-12-23T10:27:02.445Z"
   },
   {
    "duration": 4,
    "start_time": "2021-12-23T10:27:04.068Z"
   },
   {
    "duration": 887,
    "start_time": "2021-12-23T10:27:04.075Z"
   },
   {
    "duration": 36,
    "start_time": "2021-12-23T10:27:04.965Z"
   },
   {
    "duration": 27,
    "start_time": "2021-12-23T10:27:05.003Z"
   },
   {
    "duration": 378,
    "start_time": "2021-12-23T10:27:05.060Z"
   },
   {
    "duration": 218,
    "start_time": "2021-12-23T10:27:05.440Z"
   },
   {
    "duration": 5,
    "start_time": "2021-12-23T10:27:05.660Z"
   },
   {
    "duration": 10,
    "start_time": "2021-12-23T10:27:05.669Z"
   },
   {
    "duration": 689,
    "start_time": "2021-12-23T10:27:05.682Z"
   },
   {
    "duration": 6,
    "start_time": "2021-12-23T10:27:06.373Z"
   },
   {
    "duration": 11,
    "start_time": "2021-12-23T10:27:06.381Z"
   },
   {
    "duration": 6,
    "start_time": "2021-12-23T10:27:06.394Z"
   },
   {
    "duration": 5,
    "start_time": "2021-12-23T10:27:06.403Z"
   },
   {
    "duration": 7,
    "start_time": "2021-12-23T10:27:06.410Z"
   },
   {
    "duration": 6,
    "start_time": "2021-12-23T10:27:06.460Z"
   },
   {
    "duration": 9,
    "start_time": "2021-12-23T10:27:06.468Z"
   },
   {
    "duration": 30,
    "start_time": "2021-12-23T10:27:06.480Z"
   },
   {
    "duration": 48,
    "start_time": "2021-12-23T10:27:06.512Z"
   },
   {
    "duration": 5,
    "start_time": "2021-12-23T10:27:06.562Z"
   },
   {
    "duration": 18,
    "start_time": "2021-12-23T10:27:06.569Z"
   },
   {
    "duration": 71,
    "start_time": "2021-12-23T10:27:06.590Z"
   },
   {
    "duration": 19,
    "start_time": "2021-12-23T10:27:06.664Z"
   },
   {
    "duration": 8,
    "start_time": "2021-12-23T10:27:06.685Z"
   },
   {
    "duration": 8,
    "start_time": "2021-12-23T10:27:06.696Z"
   },
   {
    "duration": 55,
    "start_time": "2021-12-23T10:27:06.707Z"
   },
   {
    "duration": 6,
    "start_time": "2021-12-23T10:27:06.767Z"
   },
   {
    "duration": 8,
    "start_time": "2021-12-23T10:27:06.776Z"
   },
   {
    "duration": 396,
    "start_time": "2021-12-23T10:27:06.786Z"
   },
   {
    "duration": 6,
    "start_time": "2021-12-23T10:27:07.184Z"
   },
   {
    "duration": 744,
    "start_time": "2021-12-23T10:27:07.192Z"
   },
   {
    "duration": 5,
    "start_time": "2021-12-23T10:27:07.938Z"
   },
   {
    "duration": 15,
    "start_time": "2021-12-23T10:27:07.945Z"
   },
   {
    "duration": 7,
    "start_time": "2021-12-23T10:27:07.963Z"
   },
   {
    "duration": 11,
    "start_time": "2021-12-23T10:27:07.972Z"
   },
   {
    "duration": 16,
    "start_time": "2021-12-23T10:27:07.985Z"
   },
   {
    "duration": 788,
    "start_time": "2021-12-23T10:27:08.003Z"
   },
   {
    "duration": 5,
    "start_time": "2021-12-23T10:27:08.794Z"
   },
   {
    "duration": 14,
    "start_time": "2021-12-23T10:27:08.801Z"
   },
   {
    "duration": 5,
    "start_time": "2021-12-23T10:27:08.818Z"
   },
   {
    "duration": 36,
    "start_time": "2021-12-23T10:27:08.825Z"
   },
   {
    "duration": 14,
    "start_time": "2021-12-23T10:27:08.863Z"
   },
   {
    "duration": 5,
    "start_time": "2021-12-23T10:27:08.880Z"
   },
   {
    "duration": 639,
    "start_time": "2021-12-23T10:27:08.887Z"
   },
   {
    "duration": 491,
    "start_time": "2021-12-23T10:35:03.855Z"
   },
   {
    "duration": 427,
    "start_time": "2021-12-23T10:35:10.435Z"
   },
   {
    "duration": 8,
    "start_time": "2021-12-23T10:38:43.228Z"
   },
   {
    "duration": 14,
    "start_time": "2021-12-23T10:39:08.313Z"
   },
   {
    "duration": 39,
    "start_time": "2021-12-23T10:42:07.632Z"
   },
   {
    "duration": 41,
    "start_time": "2021-12-23T10:42:37.687Z"
   },
   {
    "duration": 8,
    "start_time": "2021-12-23T10:42:46.149Z"
   },
   {
    "duration": 7,
    "start_time": "2021-12-23T10:44:00.984Z"
   },
   {
    "duration": 11,
    "start_time": "2021-12-23T10:44:45.625Z"
   },
   {
    "duration": 5,
    "start_time": "2021-12-23T10:44:59.475Z"
   },
   {
    "duration": 164,
    "start_time": "2021-12-23T10:45:10.396Z"
   },
   {
    "duration": 468,
    "start_time": "2021-12-23T10:45:15.074Z"
   },
   {
    "duration": 7,
    "start_time": "2021-12-23T10:45:28.454Z"
   },
   {
    "duration": 6,
    "start_time": "2021-12-23T10:45:30.770Z"
   },
   {
    "duration": 12,
    "start_time": "2021-12-23T10:46:03.492Z"
   },
   {
    "duration": 365,
    "start_time": "2021-12-23T10:50:24.732Z"
   },
   {
    "duration": 6,
    "start_time": "2021-12-23T10:50:39.639Z"
   },
   {
    "duration": 7,
    "start_time": "2021-12-23T10:50:47.201Z"
   },
   {
    "duration": 11,
    "start_time": "2021-12-23T10:50:49.241Z"
   },
   {
    "duration": 7,
    "start_time": "2021-12-23T10:50:49.717Z"
   },
   {
    "duration": 4,
    "start_time": "2021-12-23T10:51:10.138Z"
   },
   {
    "duration": 7,
    "start_time": "2021-12-23T10:51:19.002Z"
   },
   {
    "duration": 6,
    "start_time": "2021-12-23T10:51:38.757Z"
   },
   {
    "duration": 3,
    "start_time": "2021-12-23T10:51:45.567Z"
   },
   {
    "duration": 327,
    "start_time": "2021-12-23T10:51:57.478Z"
   },
   {
    "duration": 7,
    "start_time": "2021-12-23T10:52:00.236Z"
   },
   {
    "duration": 363,
    "start_time": "2021-12-23T10:52:05.921Z"
   },
   {
    "duration": 7,
    "start_time": "2021-12-23T10:52:09.928Z"
   },
   {
    "duration": 365,
    "start_time": "2021-12-23T10:52:15.243Z"
   },
   {
    "duration": 6,
    "start_time": "2021-12-23T10:52:19.680Z"
   },
   {
    "duration": 9,
    "start_time": "2021-12-23T10:52:20.337Z"
   },
   {
    "duration": 6,
    "start_time": "2021-12-23T10:52:23.855Z"
   },
   {
    "duration": 8,
    "start_time": "2021-12-23T10:52:47.987Z"
   },
   {
    "duration": 9,
    "start_time": "2021-12-23T10:52:53.195Z"
   },
   {
    "duration": 7,
    "start_time": "2021-12-23T10:53:13.711Z"
   },
   {
    "duration": 8,
    "start_time": "2021-12-23T10:53:24.295Z"
   },
   {
    "duration": 10,
    "start_time": "2021-12-23T10:53:33.749Z"
   },
   {
    "duration": 7,
    "start_time": "2021-12-23T10:53:36.663Z"
   },
   {
    "duration": 6,
    "start_time": "2021-12-23T10:53:43.225Z"
   },
   {
    "duration": 7,
    "start_time": "2021-12-23T10:56:38.159Z"
   },
   {
    "duration": 6,
    "start_time": "2021-12-23T10:56:50.279Z"
   },
   {
    "duration": 121,
    "start_time": "2021-12-23T10:57:08.340Z"
   },
   {
    "duration": 4,
    "start_time": "2021-12-23T10:57:11.691Z"
   },
   {
    "duration": 7,
    "start_time": "2021-12-23T10:57:14.591Z"
   },
   {
    "duration": 5,
    "start_time": "2021-12-23T10:57:19.839Z"
   },
   {
    "duration": 6,
    "start_time": "2021-12-23T10:57:22.561Z"
   },
   {
    "duration": 5,
    "start_time": "2021-12-23T10:57:28.293Z"
   },
   {
    "duration": 4,
    "start_time": "2021-12-23T10:57:52.116Z"
   },
   {
    "duration": 26,
    "start_time": "2021-12-23T10:57:58.394Z"
   },
   {
    "duration": 37,
    "start_time": "2021-12-23T10:58:17.147Z"
   },
   {
    "duration": 11,
    "start_time": "2021-12-23T10:58:52.277Z"
   },
   {
    "duration": 6,
    "start_time": "2021-12-23T10:58:53.240Z"
   },
   {
    "duration": 4,
    "start_time": "2021-12-23T10:59:09.696Z"
   },
   {
    "duration": 7,
    "start_time": "2021-12-23T10:59:10.301Z"
   },
   {
    "duration": 7,
    "start_time": "2021-12-23T10:59:12.664Z"
   },
   {
    "duration": 7,
    "start_time": "2021-12-23T10:59:13.020Z"
   },
   {
    "duration": 4,
    "start_time": "2021-12-23T10:59:21.032Z"
   },
   {
    "duration": 8,
    "start_time": "2021-12-23T11:00:10.427Z"
   },
   {
    "duration": 5,
    "start_time": "2021-12-23T11:02:26.287Z"
   },
   {
    "duration": 934,
    "start_time": "2021-12-23T11:09:43.852Z"
   },
   {
    "duration": 41,
    "start_time": "2021-12-23T11:09:46.719Z"
   },
   {
    "duration": 30,
    "start_time": "2021-12-23T11:10:52.123Z"
   },
   {
    "duration": 369,
    "start_time": "2021-12-23T11:11:03.359Z"
   },
   {
    "duration": 5,
    "start_time": "2021-12-23T11:11:22.068Z"
   },
   {
    "duration": 7,
    "start_time": "2021-12-23T11:11:22.075Z"
   },
   {
    "duration": 918,
    "start_time": "2021-12-23T11:11:22.085Z"
   },
   {
    "duration": 36,
    "start_time": "2021-12-23T11:11:23.005Z"
   },
   {
    "duration": 41,
    "start_time": "2021-12-23T11:11:23.044Z"
   },
   {
    "duration": 364,
    "start_time": "2021-12-23T11:11:23.087Z"
   },
   {
    "duration": 208,
    "start_time": "2021-12-23T11:11:23.454Z"
   },
   {
    "duration": 5,
    "start_time": "2021-12-23T11:11:23.665Z"
   },
   {
    "duration": 9,
    "start_time": "2021-12-23T11:11:23.672Z"
   },
   {
    "duration": 678,
    "start_time": "2021-12-23T11:11:23.683Z"
   },
   {
    "duration": 5,
    "start_time": "2021-12-23T11:11:24.363Z"
   },
   {
    "duration": 9,
    "start_time": "2021-12-23T11:11:24.370Z"
   },
   {
    "duration": 6,
    "start_time": "2021-12-23T11:11:24.382Z"
   },
   {
    "duration": 5,
    "start_time": "2021-12-23T11:11:24.390Z"
   },
   {
    "duration": 8,
    "start_time": "2021-12-23T11:11:24.397Z"
   },
   {
    "duration": 53,
    "start_time": "2021-12-23T11:11:24.408Z"
   },
   {
    "duration": 10,
    "start_time": "2021-12-23T11:11:24.464Z"
   },
   {
    "duration": 32,
    "start_time": "2021-12-23T11:11:24.476Z"
   },
   {
    "duration": 3,
    "start_time": "2021-12-23T11:11:24.510Z"
   },
   {
    "duration": 54,
    "start_time": "2021-12-23T11:11:24.516Z"
   },
   {
    "duration": 20,
    "start_time": "2021-12-23T11:11:28.616Z"
   },
   {
    "duration": 500,
    "start_time": "2021-12-23T11:11:31.003Z"
   },
   {
    "duration": 21,
    "start_time": "2021-12-23T11:12:11.097Z"
   },
   {
    "duration": 12,
    "start_time": "2021-12-23T11:12:37.170Z"
   },
   {
    "duration": 324,
    "start_time": "2021-12-23T12:11:40.305Z"
   },
   {
    "duration": 1274,
    "start_time": "2021-12-23T12:11:47.899Z"
   },
   {
    "duration": 848,
    "start_time": "2021-12-23T12:11:54.955Z"
   },
   {
    "duration": 36,
    "start_time": "2021-12-23T12:11:58.633Z"
   },
   {
    "duration": 60,
    "start_time": "2021-12-23T12:12:17.383Z"
   },
   {
    "duration": 38,
    "start_time": "2021-12-23T12:12:18.677Z"
   },
   {
    "duration": 353,
    "start_time": "2021-12-23T12:12:22.268Z"
   },
   {
    "duration": 200,
    "start_time": "2021-12-23T12:12:24.345Z"
   },
   {
    "duration": 5,
    "start_time": "2021-12-23T12:12:27.907Z"
   },
   {
    "duration": 7,
    "start_time": "2021-12-23T12:12:28.368Z"
   },
   {
    "duration": 562,
    "start_time": "2021-12-23T12:12:33.201Z"
   },
   {
    "duration": 5,
    "start_time": "2021-12-23T12:12:36.976Z"
   },
   {
    "duration": 9,
    "start_time": "2021-12-23T12:12:37.983Z"
   },
   {
    "duration": 5,
    "start_time": "2021-12-23T12:12:41.556Z"
   },
   {
    "duration": 5,
    "start_time": "2021-12-23T12:12:42.973Z"
   },
   {
    "duration": 6,
    "start_time": "2021-12-23T12:12:44.462Z"
   },
   {
    "duration": 6,
    "start_time": "2021-12-23T12:12:49.010Z"
   },
   {
    "duration": 8,
    "start_time": "2021-12-23T12:12:52.411Z"
   },
   {
    "duration": 586,
    "start_time": "2021-12-23T12:16:56.015Z"
   },
   {
    "duration": 15,
    "start_time": "2021-12-23T12:19:32.930Z"
   },
   {
    "duration": 46,
    "start_time": "2021-12-23T12:19:39.191Z"
   },
   {
    "duration": 372,
    "start_time": "2021-12-23T12:19:59.568Z"
   },
   {
    "duration": 6,
    "start_time": "2021-12-23T12:20:51.990Z"
   },
   {
    "duration": 9,
    "start_time": "2021-12-23T12:20:51.999Z"
   },
   {
    "duration": 856,
    "start_time": "2021-12-23T12:20:52.011Z"
   },
   {
    "duration": 37,
    "start_time": "2021-12-23T12:20:52.870Z"
   },
   {
    "duration": 25,
    "start_time": "2021-12-23T12:20:52.909Z"
   },
   {
    "duration": 352,
    "start_time": "2021-12-23T12:20:52.960Z"
   },
   {
    "duration": 217,
    "start_time": "2021-12-23T12:20:53.314Z"
   },
   {
    "duration": 5,
    "start_time": "2021-12-23T12:20:53.533Z"
   },
   {
    "duration": 23,
    "start_time": "2021-12-23T12:20:53.543Z"
   },
   {
    "duration": 581,
    "start_time": "2021-12-23T12:20:53.569Z"
   },
   {
    "duration": 11,
    "start_time": "2021-12-23T12:20:54.153Z"
   },
   {
    "duration": 9,
    "start_time": "2021-12-23T12:20:54.166Z"
   },
   {
    "duration": 6,
    "start_time": "2021-12-23T12:20:54.177Z"
   },
   {
    "duration": 4,
    "start_time": "2021-12-23T12:20:54.185Z"
   },
   {
    "duration": 8,
    "start_time": "2021-12-23T12:20:54.191Z"
   },
   {
    "duration": 9,
    "start_time": "2021-12-23T12:20:54.201Z"
   },
   {
    "duration": 9,
    "start_time": "2021-12-23T12:20:54.260Z"
   },
   {
    "duration": 13,
    "start_time": "2021-12-23T12:20:58.071Z"
   },
   {
    "duration": 40,
    "start_time": "2021-12-23T12:21:01.714Z"
   },
   {
    "duration": 34,
    "start_time": "2021-12-23T12:21:35.289Z"
   },
   {
    "duration": 351,
    "start_time": "2021-12-23T12:23:04.041Z"
   },
   {
    "duration": 482,
    "start_time": "2021-12-23T12:24:07.432Z"
   },
   {
    "duration": 6,
    "start_time": "2021-12-23T12:24:20.040Z"
   },
   {
    "duration": 8,
    "start_time": "2021-12-23T12:24:20.048Z"
   },
   {
    "duration": 916,
    "start_time": "2021-12-23T12:24:20.060Z"
   },
   {
    "duration": 38,
    "start_time": "2021-12-23T12:24:20.979Z"
   },
   {
    "duration": 50,
    "start_time": "2021-12-23T12:24:21.019Z"
   },
   {
    "duration": 387,
    "start_time": "2021-12-23T12:24:21.072Z"
   },
   {
    "duration": 223,
    "start_time": "2021-12-23T12:24:21.461Z"
   },
   {
    "duration": 4,
    "start_time": "2021-12-23T12:24:21.689Z"
   },
   {
    "duration": 10,
    "start_time": "2021-12-23T12:24:21.696Z"
   },
   {
    "duration": 573,
    "start_time": "2021-12-23T12:24:21.709Z"
   },
   {
    "duration": 5,
    "start_time": "2021-12-23T12:24:22.284Z"
   },
   {
    "duration": 12,
    "start_time": "2021-12-23T12:24:22.291Z"
   },
   {
    "duration": 6,
    "start_time": "2021-12-23T12:24:22.306Z"
   },
   {
    "duration": 6,
    "start_time": "2021-12-23T12:24:22.315Z"
   },
   {
    "duration": 42,
    "start_time": "2021-12-23T12:24:22.323Z"
   },
   {
    "duration": 8,
    "start_time": "2021-12-23T12:24:22.368Z"
   },
   {
    "duration": 11,
    "start_time": "2021-12-23T12:24:22.379Z"
   },
   {
    "duration": 66,
    "start_time": "2021-12-23T12:24:22.393Z"
   },
   {
    "duration": 33,
    "start_time": "2021-12-23T12:24:22.462Z"
   },
   {
    "duration": 4,
    "start_time": "2021-12-23T12:24:22.498Z"
   },
   {
    "duration": 340,
    "start_time": "2021-12-23T12:24:25.119Z"
   },
   {
    "duration": 16,
    "start_time": "2021-12-23T12:25:06.997Z"
   },
   {
    "duration": 569,
    "start_time": "2021-12-23T12:25:45.685Z"
   },
   {
    "duration": 16,
    "start_time": "2021-12-23T12:26:03.514Z"
   },
   {
    "duration": 5,
    "start_time": "2021-12-23T12:33:31.911Z"
   },
   {
    "duration": 5,
    "start_time": "2021-12-23T12:33:31.919Z"
   },
   {
    "duration": 857,
    "start_time": "2021-12-23T12:33:31.927Z"
   },
   {
    "duration": 34,
    "start_time": "2021-12-23T12:33:32.786Z"
   },
   {
    "duration": 38,
    "start_time": "2021-12-23T12:33:32.823Z"
   },
   {
    "duration": 369,
    "start_time": "2021-12-23T12:33:32.864Z"
   },
   {
    "duration": 223,
    "start_time": "2021-12-23T12:33:33.236Z"
   },
   {
    "duration": 5,
    "start_time": "2021-12-23T12:33:33.461Z"
   },
   {
    "duration": 13,
    "start_time": "2021-12-23T12:33:33.468Z"
   },
   {
    "duration": 688,
    "start_time": "2021-12-23T12:33:33.484Z"
   },
   {
    "duration": 5,
    "start_time": "2021-12-23T12:33:34.175Z"
   },
   {
    "duration": 9,
    "start_time": "2021-12-23T12:33:34.182Z"
   },
   {
    "duration": 5,
    "start_time": "2021-12-23T12:33:34.194Z"
   },
   {
    "duration": 5,
    "start_time": "2021-12-23T12:33:34.203Z"
   },
   {
    "duration": 50,
    "start_time": "2021-12-23T12:33:34.211Z"
   },
   {
    "duration": 6,
    "start_time": "2021-12-23T12:33:34.263Z"
   },
   {
    "duration": 10,
    "start_time": "2021-12-23T12:33:34.272Z"
   },
   {
    "duration": 17,
    "start_time": "2021-12-23T12:33:34.285Z"
   },
   {
    "duration": 74,
    "start_time": "2021-12-23T12:33:34.304Z"
   },
   {
    "duration": 15,
    "start_time": "2021-12-23T12:33:34.381Z"
   },
   {
    "duration": 17,
    "start_time": "2021-12-23T12:33:34.399Z"
   },
   {
    "duration": 6,
    "start_time": "2021-12-23T12:33:34.419Z"
   },
   {
    "duration": 6,
    "start_time": "2021-12-23T12:33:34.459Z"
   },
   {
    "duration": 13,
    "start_time": "2021-12-23T12:33:34.467Z"
   },
   {
    "duration": 6,
    "start_time": "2021-12-23T12:33:34.482Z"
   },
   {
    "duration": 7,
    "start_time": "2021-12-23T12:33:34.490Z"
   },
   {
    "duration": 405,
    "start_time": "2021-12-23T12:33:34.500Z"
   },
   {
    "duration": 6,
    "start_time": "2021-12-23T12:33:34.907Z"
   },
   {
    "duration": 765,
    "start_time": "2021-12-23T12:33:34.916Z"
   },
   {
    "duration": 5,
    "start_time": "2021-12-23T12:33:35.684Z"
   },
   {
    "duration": 11,
    "start_time": "2021-12-23T12:33:35.691Z"
   },
   {
    "duration": 10,
    "start_time": "2021-12-23T12:33:35.706Z"
   },
   {
    "duration": 48,
    "start_time": "2021-12-23T12:33:35.719Z"
   },
   {
    "duration": 15,
    "start_time": "2021-12-23T12:33:35.770Z"
   },
   {
    "duration": 954,
    "start_time": "2021-12-23T12:33:35.788Z"
   },
   {
    "duration": 5,
    "start_time": "2021-12-23T12:33:36.744Z"
   },
   {
    "duration": 13,
    "start_time": "2021-12-23T12:33:36.760Z"
   },
   {
    "duration": 5,
    "start_time": "2021-12-23T12:33:36.779Z"
   },
   {
    "duration": 8,
    "start_time": "2021-12-23T12:33:36.787Z"
   },
   {
    "duration": 7,
    "start_time": "2021-12-23T12:33:36.799Z"
   },
   {
    "duration": 5,
    "start_time": "2021-12-23T12:33:36.809Z"
   },
   {
    "duration": 454,
    "start_time": "2021-12-23T12:33:36.860Z"
   },
   {
    "duration": 15,
    "start_time": "2021-12-23T12:33:37.316Z"
   },
   {
    "duration": 5,
    "start_time": "2021-12-23T12:33:37.333Z"
   },
   {
    "duration": 36,
    "start_time": "2021-12-23T12:33:37.359Z"
   },
   {
    "duration": 14,
    "start_time": "2021-12-23T12:33:37.397Z"
   },
   {
    "duration": 4,
    "start_time": "2021-12-23T12:33:37.414Z"
   },
   {
    "duration": 39,
    "start_time": "2021-12-23T12:33:37.420Z"
   },
   {
    "duration": 8,
    "start_time": "2021-12-23T12:33:37.461Z"
   },
   {
    "duration": 6,
    "start_time": "2021-12-23T12:33:37.471Z"
   },
   {
    "duration": 6,
    "start_time": "2021-12-23T12:33:37.479Z"
   },
   {
    "duration": 5,
    "start_time": "2021-12-23T12:33:37.487Z"
   },
   {
    "duration": 41,
    "start_time": "2021-12-23T12:34:10.830Z"
   },
   {
    "duration": 22,
    "start_time": "2021-12-23T12:35:08.264Z"
   },
   {
    "duration": 1065,
    "start_time": "2021-12-23T12:35:27.176Z"
   },
   {
    "duration": 330,
    "start_time": "2021-12-23T12:35:30.460Z"
   },
   {
    "duration": 6,
    "start_time": "2021-12-23T12:35:33.536Z"
   },
   {
    "duration": 6,
    "start_time": "2021-12-23T12:35:37.273Z"
   },
   {
    "duration": 6,
    "start_time": "2021-12-23T12:35:37.281Z"
   },
   {
    "duration": 957,
    "start_time": "2021-12-23T12:35:37.291Z"
   },
   {
    "duration": 35,
    "start_time": "2021-12-23T12:35:38.251Z"
   },
   {
    "duration": 23,
    "start_time": "2021-12-23T12:35:38.288Z"
   },
   {
    "duration": 406,
    "start_time": "2021-12-23T12:35:38.313Z"
   },
   {
    "duration": 224,
    "start_time": "2021-12-23T12:35:38.721Z"
   },
   {
    "duration": 13,
    "start_time": "2021-12-23T12:35:38.949Z"
   },
   {
    "duration": 23,
    "start_time": "2021-12-23T12:35:38.965Z"
   },
   {
    "duration": 580,
    "start_time": "2021-12-23T12:35:38.991Z"
   },
   {
    "duration": 6,
    "start_time": "2021-12-23T12:35:39.574Z"
   },
   {
    "duration": 15,
    "start_time": "2021-12-23T12:35:39.582Z"
   },
   {
    "duration": 6,
    "start_time": "2021-12-23T12:35:39.600Z"
   },
   {
    "duration": 5,
    "start_time": "2021-12-23T12:35:39.608Z"
   },
   {
    "duration": 8,
    "start_time": "2021-12-23T12:35:39.615Z"
   },
   {
    "duration": 40,
    "start_time": "2021-12-23T12:35:39.625Z"
   },
   {
    "duration": 10,
    "start_time": "2021-12-23T12:35:39.667Z"
   },
   {
    "duration": 24,
    "start_time": "2021-12-23T12:35:39.680Z"
   },
   {
    "duration": 57,
    "start_time": "2021-12-23T12:35:39.706Z"
   },
   {
    "duration": 15,
    "start_time": "2021-12-23T12:35:39.766Z"
   },
   {
    "duration": 18,
    "start_time": "2021-12-23T12:35:39.784Z"
   },
   {
    "duration": 7,
    "start_time": "2021-12-23T12:35:39.804Z"
   },
   {
    "duration": 44,
    "start_time": "2021-12-23T12:35:39.816Z"
   },
   {
    "duration": 12,
    "start_time": "2021-12-23T12:35:39.863Z"
   },
   {
    "duration": 10,
    "start_time": "2021-12-23T12:35:39.878Z"
   },
   {
    "duration": 8,
    "start_time": "2021-12-23T12:35:39.891Z"
   },
   {
    "duration": 393,
    "start_time": "2021-12-23T12:35:39.901Z"
   },
   {
    "duration": 6,
    "start_time": "2021-12-23T12:35:40.296Z"
   },
   {
    "duration": 739,
    "start_time": "2021-12-23T12:35:40.304Z"
   },
   {
    "duration": 5,
    "start_time": "2021-12-23T12:35:41.045Z"
   },
   {
    "duration": 9,
    "start_time": "2021-12-23T12:35:41.060Z"
   },
   {
    "duration": 12,
    "start_time": "2021-12-23T12:35:41.072Z"
   },
   {
    "duration": 20,
    "start_time": "2021-12-23T12:35:41.086Z"
   },
   {
    "duration": 15,
    "start_time": "2021-12-23T12:35:41.109Z"
   },
   {
    "duration": 777,
    "start_time": "2021-12-23T12:35:41.160Z"
   },
   {
    "duration": 18,
    "start_time": "2021-12-23T12:35:41.941Z"
   },
   {
    "duration": 14,
    "start_time": "2021-12-23T12:35:41.963Z"
   },
   {
    "duration": 6,
    "start_time": "2021-12-23T12:35:41.980Z"
   },
   {
    "duration": 8,
    "start_time": "2021-12-23T12:35:41.990Z"
   },
   {
    "duration": 58,
    "start_time": "2021-12-23T12:35:42.001Z"
   },
   {
    "duration": 8,
    "start_time": "2021-12-23T12:35:42.062Z"
   },
   {
    "duration": 465,
    "start_time": "2021-12-23T12:35:42.073Z"
   },
   {
    "duration": 25,
    "start_time": "2021-12-23T12:35:42.541Z"
   },
   {
    "duration": 5,
    "start_time": "2021-12-23T12:35:42.569Z"
   },
   {
    "duration": 5,
    "start_time": "2021-12-23T12:35:46.064Z"
   },
   {
    "duration": 25,
    "start_time": "2021-12-23T12:35:47.333Z"
   },
   {
    "duration": 41,
    "start_time": "2021-12-23T12:35:48.351Z"
   },
   {
    "duration": 5,
    "start_time": "2021-12-23T12:36:03.037Z"
   },
   {
    "duration": 16,
    "start_time": "2021-12-23T12:36:31.498Z"
   },
   {
    "duration": 7,
    "start_time": "2021-12-23T12:36:32.472Z"
   },
   {
    "duration": 4,
    "start_time": "2021-12-23T12:36:35.510Z"
   },
   {
    "duration": 6,
    "start_time": "2021-12-23T12:36:40.582Z"
   },
   {
    "duration": 6,
    "start_time": "2021-12-23T12:36:44.175Z"
   },
   {
    "duration": 7,
    "start_time": "2021-12-23T12:36:46.644Z"
   },
   {
    "duration": 5,
    "start_time": "2021-12-23T12:36:47.205Z"
   },
   {
    "duration": 3,
    "start_time": "2021-12-23T12:36:49.844Z"
   },
   {
    "duration": 6,
    "start_time": "2021-12-23T12:36:55.563Z"
   },
   {
    "duration": 8,
    "start_time": "2021-12-23T12:36:57.078Z"
   },
   {
    "duration": 5,
    "start_time": "2021-12-23T12:37:02.367Z"
   },
   {
    "duration": 5,
    "start_time": "2021-12-23T12:37:28.388Z"
   },
   {
    "duration": 6,
    "start_time": "2021-12-23T12:37:28.397Z"
   },
   {
    "duration": 920,
    "start_time": "2021-12-23T12:37:28.406Z"
   },
   {
    "duration": 44,
    "start_time": "2021-12-23T12:37:29.329Z"
   },
   {
    "duration": 24,
    "start_time": "2021-12-23T12:37:29.377Z"
   },
   {
    "duration": 375,
    "start_time": "2021-12-23T12:37:29.404Z"
   },
   {
    "duration": 222,
    "start_time": "2021-12-23T12:37:29.781Z"
   },
   {
    "duration": 5,
    "start_time": "2021-12-23T12:37:30.006Z"
   },
   {
    "duration": 15,
    "start_time": "2021-12-23T12:37:30.015Z"
   },
   {
    "duration": 641,
    "start_time": "2021-12-23T12:37:30.033Z"
   },
   {
    "duration": 5,
    "start_time": "2021-12-23T12:37:30.677Z"
   },
   {
    "duration": 18,
    "start_time": "2021-12-23T12:37:30.685Z"
   },
   {
    "duration": 11,
    "start_time": "2021-12-23T12:37:30.706Z"
   },
   {
    "duration": 36,
    "start_time": "2021-12-23T12:37:30.723Z"
   },
   {
    "duration": 11,
    "start_time": "2021-12-23T12:37:30.763Z"
   },
   {
    "duration": 10,
    "start_time": "2021-12-23T12:37:30.776Z"
   },
   {
    "duration": 13,
    "start_time": "2021-12-23T12:37:30.789Z"
   },
   {
    "duration": 20,
    "start_time": "2021-12-23T12:37:30.805Z"
   },
   {
    "duration": 59,
    "start_time": "2021-12-23T12:37:30.828Z"
   },
   {
    "duration": 16,
    "start_time": "2021-12-23T12:37:30.890Z"
   },
   {
    "duration": 50,
    "start_time": "2021-12-23T12:37:30.909Z"
   },
   {
    "duration": 6,
    "start_time": "2021-12-23T12:37:30.962Z"
   },
   {
    "duration": 29,
    "start_time": "2021-12-23T12:37:30.970Z"
   },
   {
    "duration": 30,
    "start_time": "2021-12-23T12:37:31.002Z"
   },
   {
    "duration": 14,
    "start_time": "2021-12-23T12:37:31.035Z"
   },
   {
    "duration": 22,
    "start_time": "2021-12-23T12:37:31.052Z"
   },
   {
    "duration": 364,
    "start_time": "2021-12-23T12:37:31.076Z"
   },
   {
    "duration": 19,
    "start_time": "2021-12-23T12:37:31.442Z"
   },
   {
    "duration": 779,
    "start_time": "2021-12-23T12:37:31.464Z"
   },
   {
    "duration": 5,
    "start_time": "2021-12-23T12:37:32.245Z"
   },
   {
    "duration": 8,
    "start_time": "2021-12-23T12:37:32.260Z"
   },
   {
    "duration": 7,
    "start_time": "2021-12-23T12:37:32.270Z"
   },
   {
    "duration": 15,
    "start_time": "2021-12-23T12:37:32.279Z"
   },
   {
    "duration": 13,
    "start_time": "2021-12-23T12:37:32.296Z"
   },
   {
    "duration": 787,
    "start_time": "2021-12-23T12:37:32.312Z"
   },
   {
    "duration": 5,
    "start_time": "2021-12-23T12:37:33.102Z"
   },
   {
    "duration": 14,
    "start_time": "2021-12-23T12:37:33.109Z"
   },
   {
    "duration": 4,
    "start_time": "2021-12-23T12:37:33.129Z"
   },
   {
    "duration": 5,
    "start_time": "2021-12-23T12:37:33.159Z"
   },
   {
    "duration": 10,
    "start_time": "2021-12-23T12:37:33.168Z"
   },
   {
    "duration": 8,
    "start_time": "2021-12-23T12:37:33.180Z"
   },
   {
    "duration": 469,
    "start_time": "2021-12-23T12:37:33.190Z"
   },
   {
    "duration": 16,
    "start_time": "2021-12-23T12:37:33.662Z"
   },
   {
    "duration": 6,
    "start_time": "2021-12-23T12:37:36.817Z"
   },
   {
    "duration": 5,
    "start_time": "2021-12-23T12:37:37.817Z"
   },
   {
    "duration": 24,
    "start_time": "2021-12-23T12:37:38.904Z"
   },
   {
    "duration": 6,
    "start_time": "2021-12-23T12:37:39.347Z"
   },
   {
    "duration": 6,
    "start_time": "2021-12-23T12:38:09.983Z"
   },
   {
    "duration": 6,
    "start_time": "2021-12-23T12:38:11.000Z"
   },
   {
    "duration": 20,
    "start_time": "2021-12-23T12:38:11.632Z"
   },
   {
    "duration": 6,
    "start_time": "2021-12-23T12:38:12.490Z"
   },
   {
    "duration": 6,
    "start_time": "2021-12-23T12:38:24.308Z"
   },
   {
    "duration": 432,
    "start_time": "2021-12-23T12:38:38.583Z"
   },
   {
    "duration": 16,
    "start_time": "2021-12-23T12:38:47.697Z"
   },
   {
    "duration": 6,
    "start_time": "2021-12-23T12:38:51.608Z"
   },
   {
    "duration": 28,
    "start_time": "2021-12-23T12:39:04.601Z"
   },
   {
    "duration": 326,
    "start_time": "2021-12-23T12:40:20.590Z"
   },
   {
    "duration": 528,
    "start_time": "2021-12-23T12:40:29.341Z"
   },
   {
    "duration": 7,
    "start_time": "2021-12-23T12:48:02.632Z"
   },
   {
    "duration": 43,
    "start_time": "2021-12-23T12:48:03.724Z"
   },
   {
    "duration": 5,
    "start_time": "2021-12-23T12:48:10.964Z"
   },
   {
    "duration": 6,
    "start_time": "2021-12-23T12:48:10.972Z"
   },
   {
    "duration": 933,
    "start_time": "2021-12-23T12:48:10.981Z"
   },
   {
    "duration": 48,
    "start_time": "2021-12-23T12:48:11.917Z"
   },
   {
    "duration": 25,
    "start_time": "2021-12-23T12:48:11.968Z"
   },
   {
    "duration": 377,
    "start_time": "2021-12-23T12:48:11.996Z"
   },
   {
    "duration": 230,
    "start_time": "2021-12-23T12:48:12.376Z"
   },
   {
    "duration": 5,
    "start_time": "2021-12-23T12:48:12.608Z"
   },
   {
    "duration": 10,
    "start_time": "2021-12-23T12:48:12.617Z"
   },
   {
    "duration": 597,
    "start_time": "2021-12-23T12:48:12.631Z"
   },
   {
    "duration": 6,
    "start_time": "2021-12-23T12:48:13.230Z"
   },
   {
    "duration": 30,
    "start_time": "2021-12-23T12:48:13.238Z"
   },
   {
    "duration": 10,
    "start_time": "2021-12-23T12:48:13.271Z"
   },
   {
    "duration": 6,
    "start_time": "2021-12-23T12:48:13.283Z"
   },
   {
    "duration": 9,
    "start_time": "2021-12-23T12:48:13.292Z"
   },
   {
    "duration": 8,
    "start_time": "2021-12-23T12:48:13.304Z"
   },
   {
    "duration": 52,
    "start_time": "2021-12-23T12:48:13.315Z"
   },
   {
    "duration": 15,
    "start_time": "2021-12-23T12:48:13.369Z"
   },
   {
    "duration": 33,
    "start_time": "2021-12-23T12:48:13.386Z"
   },
   {
    "duration": 49,
    "start_time": "2021-12-23T12:48:13.422Z"
   },
   {
    "duration": 18,
    "start_time": "2021-12-23T12:48:13.474Z"
   },
   {
    "duration": 6,
    "start_time": "2021-12-23T12:48:13.495Z"
   },
   {
    "duration": 8,
    "start_time": "2021-12-23T12:48:13.504Z"
   },
   {
    "duration": 54,
    "start_time": "2021-12-23T12:48:13.515Z"
   },
   {
    "duration": 6,
    "start_time": "2021-12-23T12:48:13.572Z"
   },
   {
    "duration": 14,
    "start_time": "2021-12-23T12:48:13.581Z"
   },
   {
    "duration": 401,
    "start_time": "2021-12-23T12:48:13.600Z"
   },
   {
    "duration": 7,
    "start_time": "2021-12-23T12:48:14.005Z"
   },
   {
    "duration": 791,
    "start_time": "2021-12-23T12:48:14.014Z"
   },
   {
    "duration": 6,
    "start_time": "2021-12-23T12:48:14.808Z"
   },
   {
    "duration": 19,
    "start_time": "2021-12-23T12:48:14.817Z"
   },
   {
    "duration": 23,
    "start_time": "2021-12-23T12:48:14.839Z"
   },
   {
    "duration": 14,
    "start_time": "2021-12-23T12:48:14.866Z"
   },
   {
    "duration": 18,
    "start_time": "2021-12-23T12:48:14.883Z"
   },
   {
    "duration": 970,
    "start_time": "2021-12-23T12:48:14.904Z"
   },
   {
    "duration": 7,
    "start_time": "2021-12-23T12:48:15.876Z"
   },
   {
    "duration": 13,
    "start_time": "2021-12-23T12:48:15.886Z"
   },
   {
    "duration": 7,
    "start_time": "2021-12-23T12:48:15.902Z"
   },
   {
    "duration": 8,
    "start_time": "2021-12-23T12:48:15.911Z"
   },
   {
    "duration": 10,
    "start_time": "2021-12-23T12:48:15.961Z"
   },
   {
    "duration": 5,
    "start_time": "2021-12-23T12:48:15.974Z"
   },
   {
    "duration": 465,
    "start_time": "2021-12-23T12:48:15.982Z"
   },
   {
    "duration": 21,
    "start_time": "2021-12-23T12:48:16.450Z"
   },
   {
    "duration": 6,
    "start_time": "2021-12-23T12:48:16.473Z"
   },
   {
    "duration": 7,
    "start_time": "2021-12-23T12:48:16.482Z"
   },
   {
    "duration": 80,
    "start_time": "2021-12-23T12:48:16.492Z"
   },
   {
    "duration": 6,
    "start_time": "2021-12-23T12:48:19.353Z"
   },
   {
    "duration": 40,
    "start_time": "2021-12-23T12:48:19.888Z"
   },
   {
    "duration": 9,
    "start_time": "2021-12-23T12:48:31.681Z"
   },
   {
    "duration": 58,
    "start_time": "2021-12-23T12:48:35.716Z"
   },
   {
    "duration": 40,
    "start_time": "2021-12-23T12:48:40.179Z"
   },
   {
    "duration": 2111,
    "start_time": "2021-12-26T15:39:49.332Z"
   },
   {
    "duration": 4,
    "start_time": "2021-12-26T15:39:51.446Z"
   },
   {
    "duration": 1320,
    "start_time": "2021-12-26T15:39:51.462Z"
   },
   {
    "duration": 76,
    "start_time": "2021-12-26T15:39:52.787Z"
   },
   {
    "duration": 40,
    "start_time": "2021-12-26T15:39:52.866Z"
   },
   {
    "duration": 527,
    "start_time": "2021-12-26T15:39:52.908Z"
   },
   {
    "duration": 242,
    "start_time": "2021-12-26T15:39:53.438Z"
   },
   {
    "duration": 5,
    "start_time": "2021-12-26T15:39:53.684Z"
   },
   {
    "duration": 8,
    "start_time": "2021-12-26T15:39:53.695Z"
   },
   {
    "duration": 626,
    "start_time": "2021-12-26T15:39:53.707Z"
   },
   {
    "duration": 6,
    "start_time": "2021-12-26T15:39:54.336Z"
   },
   {
    "duration": 15,
    "start_time": "2021-12-26T15:39:54.364Z"
   },
   {
    "duration": 7,
    "start_time": "2021-12-26T15:39:54.383Z"
   },
   {
    "duration": 7,
    "start_time": "2021-12-26T15:39:54.394Z"
   },
   {
    "duration": 7,
    "start_time": "2021-12-26T15:39:54.404Z"
   },
   {
    "duration": 51,
    "start_time": "2021-12-26T15:39:54.414Z"
   },
   {
    "duration": 10,
    "start_time": "2021-12-26T15:39:54.470Z"
   },
   {
    "duration": 19,
    "start_time": "2021-12-26T15:39:54.484Z"
   },
   {
    "duration": 89,
    "start_time": "2021-12-26T15:39:54.507Z"
   },
   {
    "duration": 21,
    "start_time": "2021-12-26T15:39:54.600Z"
   },
   {
    "duration": 51,
    "start_time": "2021-12-26T15:39:54.624Z"
   },
   {
    "duration": 8,
    "start_time": "2021-12-26T15:39:54.678Z"
   },
   {
    "duration": 10,
    "start_time": "2021-12-26T15:39:54.690Z"
   },
   {
    "duration": 15,
    "start_time": "2021-12-26T15:39:54.704Z"
   },
   {
    "duration": 6,
    "start_time": "2021-12-26T15:39:54.763Z"
   },
   {
    "duration": 10,
    "start_time": "2021-12-26T15:39:54.773Z"
   },
   {
    "duration": 400,
    "start_time": "2021-12-26T15:39:54.789Z"
   },
   {
    "duration": 7,
    "start_time": "2021-12-26T15:39:55.192Z"
   },
   {
    "duration": 1228,
    "start_time": "2021-12-26T15:39:55.202Z"
   },
   {
    "duration": 6,
    "start_time": "2021-12-26T15:39:56.433Z"
   },
   {
    "duration": 29,
    "start_time": "2021-12-26T15:39:56.441Z"
   },
   {
    "duration": 11,
    "start_time": "2021-12-26T15:39:56.473Z"
   },
   {
    "duration": 16,
    "start_time": "2021-12-26T15:39:56.488Z"
   },
   {
    "duration": 63,
    "start_time": "2021-12-26T15:39:56.507Z"
   },
   {
    "duration": 770,
    "start_time": "2021-12-26T15:39:56.572Z"
   },
   {
    "duration": 6,
    "start_time": "2021-12-26T15:39:57.344Z"
   },
   {
    "duration": 16,
    "start_time": "2021-12-26T15:39:57.364Z"
   },
   {
    "duration": 6,
    "start_time": "2021-12-26T15:39:57.387Z"
   },
   {
    "duration": 8,
    "start_time": "2021-12-26T15:39:57.396Z"
   },
   {
    "duration": 58,
    "start_time": "2021-12-26T15:39:57.407Z"
   },
   {
    "duration": 6,
    "start_time": "2021-12-26T15:39:57.468Z"
   },
   {
    "duration": 550,
    "start_time": "2021-12-26T15:39:57.477Z"
   },
   {
    "duration": 17,
    "start_time": "2021-12-26T15:39:58.030Z"
   },
   {
    "duration": 6,
    "start_time": "2021-12-26T15:39:58.063Z"
   },
   {
    "duration": 8,
    "start_time": "2021-12-26T15:39:58.072Z"
   },
   {
    "duration": 87,
    "start_time": "2021-12-26T15:39:58.083Z"
   },
   {
    "duration": 7,
    "start_time": "2021-12-26T15:39:58.173Z"
   },
   {
    "duration": 54,
    "start_time": "2021-12-26T15:40:41.609Z"
   },
   {
    "duration": 7,
    "start_time": "2021-12-26T15:40:59.890Z"
   },
   {
    "duration": 7,
    "start_time": "2021-12-26T15:43:06.385Z"
   },
   {
    "duration": 6,
    "start_time": "2021-12-26T15:43:13.954Z"
   },
   {
    "duration": 7,
    "start_time": "2021-12-26T15:43:46.569Z"
   },
   {
    "duration": 8,
    "start_time": "2021-12-26T15:50:19.586Z"
   },
   {
    "duration": 6,
    "start_time": "2021-12-26T15:52:21.738Z"
   },
   {
    "duration": 11,
    "start_time": "2021-12-26T15:52:40.819Z"
   },
   {
    "duration": 5,
    "start_time": "2021-12-26T15:54:23.217Z"
   },
   {
    "duration": 3,
    "start_time": "2021-12-26T15:55:37.650Z"
   },
   {
    "duration": 1513,
    "start_time": "2021-12-26T17:03:44.546Z"
   },
   {
    "duration": 3,
    "start_time": "2021-12-26T17:03:46.062Z"
   },
   {
    "duration": 932,
    "start_time": "2021-12-26T17:03:46.068Z"
   },
   {
    "duration": 33,
    "start_time": "2021-12-26T17:03:47.002Z"
   },
   {
    "duration": 41,
    "start_time": "2021-12-26T17:03:47.037Z"
   },
   {
    "duration": 375,
    "start_time": "2021-12-26T17:03:47.081Z"
   },
   {
    "duration": 308,
    "start_time": "2021-12-26T17:03:47.463Z"
   },
   {
    "duration": 6,
    "start_time": "2021-12-26T17:03:47.777Z"
   },
   {
    "duration": 11,
    "start_time": "2021-12-26T17:03:47.786Z"
   },
   {
    "duration": 615,
    "start_time": "2021-12-26T17:03:47.799Z"
   },
   {
    "duration": 5,
    "start_time": "2021-12-26T17:03:48.416Z"
   },
   {
    "duration": 11,
    "start_time": "2021-12-26T17:03:48.424Z"
   },
   {
    "duration": 33,
    "start_time": "2021-12-26T17:03:48.438Z"
   },
   {
    "duration": 8,
    "start_time": "2021-12-26T17:03:48.474Z"
   },
   {
    "duration": 9,
    "start_time": "2021-12-26T17:03:48.484Z"
   },
   {
    "duration": 6,
    "start_time": "2021-12-26T17:03:48.496Z"
   },
   {
    "duration": 11,
    "start_time": "2021-12-26T17:03:48.505Z"
   },
   {
    "duration": 56,
    "start_time": "2021-12-26T17:03:48.519Z"
   },
   {
    "duration": 39,
    "start_time": "2021-12-26T17:03:48.577Z"
   },
   {
    "duration": 43,
    "start_time": "2021-12-26T17:03:48.619Z"
   },
   {
    "duration": 23,
    "start_time": "2021-12-26T17:03:48.665Z"
   },
   {
    "duration": 8,
    "start_time": "2021-12-26T17:03:48.691Z"
   },
   {
    "duration": 7,
    "start_time": "2021-12-26T17:03:48.707Z"
   },
   {
    "duration": 49,
    "start_time": "2021-12-26T17:03:48.717Z"
   },
   {
    "duration": 6,
    "start_time": "2021-12-26T17:03:48.769Z"
   },
   {
    "duration": 10,
    "start_time": "2021-12-26T17:03:48.777Z"
   },
   {
    "duration": 460,
    "start_time": "2021-12-26T17:03:48.790Z"
   },
   {
    "duration": 13,
    "start_time": "2021-12-26T17:03:49.253Z"
   },
   {
    "duration": 770,
    "start_time": "2021-12-26T17:03:49.269Z"
   },
   {
    "duration": 5,
    "start_time": "2021-12-26T17:03:50.042Z"
   },
   {
    "duration": 20,
    "start_time": "2021-12-26T17:03:50.049Z"
   },
   {
    "duration": 7,
    "start_time": "2021-12-26T17:03:50.072Z"
   },
   {
    "duration": 11,
    "start_time": "2021-12-26T17:03:50.082Z"
   },
   {
    "duration": 15,
    "start_time": "2021-12-26T17:03:50.096Z"
   },
   {
    "duration": 816,
    "start_time": "2021-12-26T17:03:50.113Z"
   },
   {
    "duration": 6,
    "start_time": "2021-12-26T17:03:50.931Z"
   },
   {
    "duration": 28,
    "start_time": "2021-12-26T17:03:50.939Z"
   },
   {
    "duration": 7,
    "start_time": "2021-12-26T17:03:50.970Z"
   },
   {
    "duration": 7,
    "start_time": "2021-12-26T17:03:50.979Z"
   },
   {
    "duration": 13,
    "start_time": "2021-12-26T17:03:50.988Z"
   },
   {
    "duration": 5,
    "start_time": "2021-12-26T17:03:51.004Z"
   },
   {
    "duration": 553,
    "start_time": "2021-12-26T17:03:51.011Z"
   },
   {
    "duration": 18,
    "start_time": "2021-12-26T17:03:51.567Z"
   },
   {
    "duration": 6,
    "start_time": "2021-12-26T17:03:51.588Z"
   },
   {
    "duration": 7,
    "start_time": "2021-12-26T17:03:51.597Z"
   },
   {
    "duration": 82,
    "start_time": "2021-12-26T17:03:51.607Z"
   },
   {
    "duration": 7,
    "start_time": "2021-12-26T17:03:51.692Z"
   },
   {
    "duration": 8,
    "start_time": "2021-12-26T17:03:51.703Z"
   },
   {
    "duration": 8,
    "start_time": "2021-12-26T17:03:51.714Z"
   },
   {
    "duration": 39,
    "start_time": "2021-12-26T17:03:51.725Z"
   },
   {
    "duration": 4,
    "start_time": "2021-12-26T17:03:51.767Z"
   },
   {
    "duration": 69,
    "start_time": "2021-12-26T17:18:54.815Z"
   },
   {
    "duration": 4,
    "start_time": "2021-12-26T17:20:15.008Z"
   },
   {
    "duration": 688,
    "start_time": "2021-12-26T17:27:03.946Z"
   },
   {
    "duration": 42387,
    "start_time": "2021-12-26T17:27:12.551Z"
   },
   {
    "duration": 6,
    "start_time": "2021-12-26T17:29:49.463Z"
   },
   {
    "duration": 5,
    "start_time": "2021-12-26T17:30:05.999Z"
   },
   {
    "duration": 4,
    "start_time": "2021-12-26T17:30:07.511Z"
   },
   {
    "duration": 4,
    "start_time": "2021-12-26T17:30:08.231Z"
   },
   {
    "duration": 51232,
    "start_time": "2021-12-26T17:30:25.968Z"
   },
   {
    "duration": 5,
    "start_time": "2021-12-26T17:32:11.535Z"
   },
   {
    "duration": 6,
    "start_time": "2021-12-26T17:32:12.719Z"
   },
   {
    "duration": 52800,
    "start_time": "2021-12-26T17:32:13.272Z"
   },
   {
    "duration": 10,
    "start_time": "2021-12-26T17:36:48.680Z"
   },
   {
    "duration": 5,
    "start_time": "2021-12-26T17:37:09.991Z"
   },
   {
    "duration": 200929,
    "start_time": "2021-12-26T17:42:00.344Z"
   },
   {
    "duration": 53731,
    "start_time": "2021-12-26T17:46:42.408Z"
   },
   {
    "duration": 62302,
    "start_time": "2021-12-26T17:48:15.515Z"
   },
   {
    "duration": 4,
    "start_time": "2021-12-26T17:50:52.839Z"
   },
   {
    "duration": 670,
    "start_time": "2021-12-26T17:51:04.184Z"
   },
   {
    "duration": 6,
    "start_time": "2021-12-26T17:51:11.848Z"
   },
   {
    "duration": 5,
    "start_time": "2021-12-26T17:51:23.639Z"
   },
   {
    "duration": 23081,
    "start_time": "2021-12-26T17:51:24.103Z"
   },
   {
    "duration": 25211,
    "start_time": "2021-12-26T17:51:57.447Z"
   },
   {
    "duration": 23772,
    "start_time": "2021-12-26T17:52:45.856Z"
   },
   {
    "duration": 21122,
    "start_time": "2021-12-26T17:55:16.566Z"
   },
   {
    "duration": 22896,
    "start_time": "2021-12-26T17:55:39.624Z"
   },
   {
    "duration": 29520,
    "start_time": "2021-12-26T17:56:10.768Z"
   },
   {
    "duration": 12,
    "start_time": "2021-12-26T18:01:36.503Z"
   },
   {
    "duration": 5,
    "start_time": "2021-12-26T18:03:26.051Z"
   },
   {
    "duration": 269,
    "start_time": "2021-12-26T18:08:57.856Z"
   },
   {
    "duration": 256,
    "start_time": "2021-12-26T18:09:03.254Z"
   },
   {
    "duration": 6,
    "start_time": "2021-12-26T18:09:18.919Z"
   },
   {
    "duration": 315,
    "start_time": "2021-12-26T18:09:23.503Z"
   },
   {
    "duration": 5,
    "start_time": "2021-12-26T18:09:53.618Z"
   },
   {
    "duration": 29697,
    "start_time": "2021-12-26T18:09:55.079Z"
   },
   {
    "duration": 5,
    "start_time": "2021-12-26T18:12:28.224Z"
   },
   {
    "duration": 6,
    "start_time": "2021-12-26T18:12:35.960Z"
   },
   {
    "duration": 136250,
    "start_time": "2021-12-26T18:12:36.351Z"
   },
   {
    "duration": 93322,
    "start_time": "2021-12-26T18:15:06.943Z"
   },
   {
    "duration": 6,
    "start_time": "2021-12-26T18:18:45.167Z"
   },
   {
    "duration": 6,
    "start_time": "2021-12-26T18:19:36.271Z"
   },
   {
    "duration": 7,
    "start_time": "2021-12-26T18:19:45.151Z"
   },
   {
    "duration": 19,
    "start_time": "2021-12-26T18:19:55.015Z"
   },
   {
    "duration": 75541,
    "start_time": "2021-12-26T18:21:30.240Z"
   },
   {
    "duration": 6,
    "start_time": "2021-12-26T18:23:07.159Z"
   },
   {
    "duration": 13,
    "start_time": "2021-12-26T18:24:34.039Z"
   },
   {
    "duration": 6,
    "start_time": "2021-12-26T18:37:22.028Z"
   },
   {
    "duration": 330,
    "start_time": "2021-12-26T18:37:46.517Z"
   },
   {
    "duration": 5,
    "start_time": "2021-12-26T18:37:52.229Z"
   },
   {
    "duration": 6,
    "start_time": "2021-12-26T18:39:33.110Z"
   },
   {
    "duration": 162,
    "start_time": "2021-12-26T18:40:11.701Z"
   },
   {
    "duration": 299,
    "start_time": "2021-12-26T18:40:52.054Z"
   },
   {
    "duration": -1035,
    "start_time": "2021-12-26T18:40:53.391Z"
   },
   {
    "duration": 5,
    "start_time": "2021-12-26T18:40:57.413Z"
   },
   {
    "duration": 95670,
    "start_time": "2021-12-26T18:40:59.101Z"
   },
   {
    "duration": 7,
    "start_time": "2021-12-26T18:42:59.268Z"
   },
   {
    "duration": 17,
    "start_time": "2021-12-26T18:43:06.109Z"
   },
   {
    "duration": 16,
    "start_time": "2021-12-26T18:43:12.853Z"
   },
   {
    "duration": 100,
    "start_time": "2021-12-26T18:46:17.669Z"
   },
   {
    "duration": -1027,
    "start_time": "2021-12-26T18:52:35.987Z"
   },
   {
    "duration": 69848,
    "start_time": "2021-12-26T18:52:39.053Z"
   },
   {
    "duration": 6,
    "start_time": "2021-12-26T18:53:59.453Z"
   },
   {
    "duration": 268816,
    "start_time": "2021-12-26T18:54:02.157Z"
   },
   {
    "duration": 250,
    "start_time": "2021-12-26T18:59:05.813Z"
   },
   {
    "duration": 268685,
    "start_time": "2021-12-26T18:59:27.982Z"
   },
   {
    "duration": 222,
    "start_time": "2021-12-26T19:03:56.670Z"
   },
   {
    "duration": 122,
    "start_time": "2021-12-26T19:04:40.143Z"
   },
   {
    "duration": 1199,
    "start_time": "2021-12-27T08:19:19.788Z"
   },
   {
    "duration": 3,
    "start_time": "2021-12-27T08:19:20.989Z"
   },
   {
    "duration": 686,
    "start_time": "2021-12-27T08:19:20.995Z"
   },
   {
    "duration": 20,
    "start_time": "2021-12-27T08:19:21.683Z"
   },
   {
    "duration": 30,
    "start_time": "2021-12-27T08:19:21.705Z"
   },
   {
    "duration": 227,
    "start_time": "2021-12-27T08:19:21.736Z"
   },
   {
    "duration": 130,
    "start_time": "2021-12-27T08:19:21.965Z"
   },
   {
    "duration": 4,
    "start_time": "2021-12-27T08:19:22.098Z"
   },
   {
    "duration": 23,
    "start_time": "2021-12-27T08:19:22.104Z"
   },
   {
    "duration": 327,
    "start_time": "2021-12-27T08:19:22.129Z"
   },
   {
    "duration": 4,
    "start_time": "2021-12-27T08:19:22.461Z"
   },
   {
    "duration": 8,
    "start_time": "2021-12-27T08:19:22.468Z"
   },
   {
    "duration": 6,
    "start_time": "2021-12-27T08:19:22.478Z"
   },
   {
    "duration": 6,
    "start_time": "2021-12-27T08:19:22.486Z"
   },
   {
    "duration": 10,
    "start_time": "2021-12-27T08:19:22.493Z"
   },
   {
    "duration": 11,
    "start_time": "2021-12-27T08:19:22.505Z"
   },
   {
    "duration": 7,
    "start_time": "2021-12-27T08:19:22.518Z"
   },
   {
    "duration": 36,
    "start_time": "2021-12-27T08:19:22.526Z"
   },
   {
    "duration": 20,
    "start_time": "2021-12-27T08:19:22.565Z"
   },
   {
    "duration": 18,
    "start_time": "2021-12-27T08:19:22.586Z"
   },
   {
    "duration": 13,
    "start_time": "2021-12-27T08:19:22.605Z"
   },
   {
    "duration": 4,
    "start_time": "2021-12-27T08:19:22.619Z"
   },
   {
    "duration": 34,
    "start_time": "2021-12-27T08:19:22.627Z"
   },
   {
    "duration": 7,
    "start_time": "2021-12-27T08:19:22.664Z"
   },
   {
    "duration": 5,
    "start_time": "2021-12-27T08:19:22.673Z"
   },
   {
    "duration": 7,
    "start_time": "2021-12-27T08:19:22.680Z"
   },
   {
    "duration": 224,
    "start_time": "2021-12-27T08:19:22.688Z"
   },
   {
    "duration": 4,
    "start_time": "2021-12-27T08:19:22.914Z"
   },
   {
    "duration": 418,
    "start_time": "2021-12-27T08:19:22.919Z"
   },
   {
    "duration": 4,
    "start_time": "2021-12-27T08:19:23.338Z"
   },
   {
    "duration": 22,
    "start_time": "2021-12-27T08:19:23.344Z"
   },
   {
    "duration": 5,
    "start_time": "2021-12-27T08:19:23.368Z"
   },
   {
    "duration": 29,
    "start_time": "2021-12-27T08:19:23.375Z"
   },
   {
    "duration": 22,
    "start_time": "2021-12-27T08:19:23.406Z"
   },
   {
    "duration": 544,
    "start_time": "2021-12-27T08:19:23.429Z"
   },
   {
    "duration": 4,
    "start_time": "2021-12-27T08:19:23.975Z"
   },
   {
    "duration": 15,
    "start_time": "2021-12-27T08:19:23.980Z"
   },
   {
    "duration": 6,
    "start_time": "2021-12-27T08:19:23.997Z"
   },
   {
    "duration": 6,
    "start_time": "2021-12-27T08:19:24.005Z"
   },
   {
    "duration": 12,
    "start_time": "2021-12-27T08:19:24.012Z"
   },
   {
    "duration": 4,
    "start_time": "2021-12-27T08:19:24.026Z"
   },
   {
    "duration": 299,
    "start_time": "2021-12-27T08:19:24.031Z"
   },
   {
    "duration": 9,
    "start_time": "2021-12-27T08:19:24.332Z"
   },
   {
    "duration": 26,
    "start_time": "2021-12-27T08:19:24.343Z"
   },
   {
    "duration": 11,
    "start_time": "2021-12-27T08:19:24.370Z"
   },
   {
    "duration": 50,
    "start_time": "2021-12-27T08:19:24.383Z"
   },
   {
    "duration": 4,
    "start_time": "2021-12-27T08:19:24.435Z"
   },
   {
    "duration": 20,
    "start_time": "2021-12-27T08:19:24.441Z"
   },
   {
    "duration": 49,
    "start_time": "2021-12-27T08:19:24.463Z"
   },
   {
    "duration": 36,
    "start_time": "2021-12-27T08:19:24.514Z"
   },
   {
    "duration": 29,
    "start_time": "2021-12-27T08:19:24.552Z"
   },
   {
    "duration": 13,
    "start_time": "2021-12-27T08:19:24.583Z"
   },
   {
    "duration": 29,
    "start_time": "2021-12-27T08:19:24.598Z"
   },
   {
    "duration": 13940,
    "start_time": "2021-12-27T08:19:24.629Z"
   },
   {
    "duration": 13007,
    "start_time": "2021-12-27T08:19:38.570Z"
   },
   {
    "duration": 3,
    "start_time": "2021-12-27T08:19:51.579Z"
   },
   {
    "duration": 360287,
    "start_time": "2021-12-27T08:19:51.584Z"
   },
   {
    "duration": 299,
    "start_time": "2021-12-27T08:25:51.962Z"
   },
   {
    "duration": 345104,
    "start_time": "2021-12-27T08:25:52.263Z"
   },
   {
    "duration": 387,
    "start_time": "2021-12-27T08:35:11.356Z"
   },
   {
    "duration": 223,
    "start_time": "2021-12-27T08:35:18.158Z"
   },
   {
    "duration": 293,
    "start_time": "2021-12-27T08:39:53.175Z"
   },
   {
    "duration": 862,
    "start_time": "2021-12-27T08:41:04.100Z"
   },
   {
    "duration": 216,
    "start_time": "2021-12-27T08:47:49.382Z"
   },
   {
    "duration": 221,
    "start_time": "2021-12-27T08:49:57.853Z"
   },
   {
    "duration": 220,
    "start_time": "2021-12-27T08:50:14.105Z"
   },
   {
    "duration": 11,
    "start_time": "2021-12-27T08:51:32.283Z"
   },
   {
    "duration": 12,
    "start_time": "2021-12-27T08:52:05.722Z"
   },
   {
    "duration": 312,
    "start_time": "2021-12-27T08:53:51.256Z"
   },
   {
    "duration": 671,
    "start_time": "2021-12-27T08:54:37.198Z"
   },
   {
    "duration": 1634,
    "start_time": "2021-12-27T16:03:40.281Z"
   },
   {
    "duration": 4,
    "start_time": "2021-12-27T16:03:41.917Z"
   },
   {
    "duration": 1016,
    "start_time": "2021-12-27T16:03:41.924Z"
   },
   {
    "duration": 60,
    "start_time": "2021-12-27T16:03:42.944Z"
   },
   {
    "duration": 52,
    "start_time": "2021-12-27T16:03:43.007Z"
   },
   {
    "duration": 563,
    "start_time": "2021-12-27T16:03:43.063Z"
   },
   {
    "duration": 326,
    "start_time": "2021-12-27T16:03:43.629Z"
   },
   {
    "duration": 7,
    "start_time": "2021-12-27T16:03:43.963Z"
   },
   {
    "duration": 10,
    "start_time": "2021-12-27T16:03:43.974Z"
   },
   {
    "duration": 652,
    "start_time": "2021-12-27T16:03:43.987Z"
   },
   {
    "duration": 6,
    "start_time": "2021-12-27T16:03:44.642Z"
   },
   {
    "duration": 12,
    "start_time": "2021-12-27T16:03:44.659Z"
   },
   {
    "duration": 6,
    "start_time": "2021-12-27T16:03:44.673Z"
   },
   {
    "duration": 6,
    "start_time": "2021-12-27T16:03:44.682Z"
   },
   {
    "duration": 9,
    "start_time": "2021-12-27T16:03:44.690Z"
   },
   {
    "duration": 7,
    "start_time": "2021-12-27T16:03:44.702Z"
   },
   {
    "duration": 11,
    "start_time": "2021-12-27T16:03:44.761Z"
   },
   {
    "duration": 16,
    "start_time": "2021-12-27T16:03:44.775Z"
   },
   {
    "duration": 75,
    "start_time": "2021-12-27T16:03:44.794Z"
   },
   {
    "duration": 22,
    "start_time": "2021-12-27T16:03:44.872Z"
   },
   {
    "duration": 23,
    "start_time": "2021-12-27T16:03:44.897Z"
   },
   {
    "duration": 35,
    "start_time": "2021-12-27T16:03:44.924Z"
   },
   {
    "duration": 7,
    "start_time": "2021-12-27T16:03:44.970Z"
   },
   {
    "duration": 14,
    "start_time": "2021-12-27T16:03:44.982Z"
   },
   {
    "duration": 10,
    "start_time": "2021-12-27T16:03:45.000Z"
   },
   {
    "duration": 47,
    "start_time": "2021-12-27T16:03:45.013Z"
   },
   {
    "duration": 390,
    "start_time": "2021-12-27T16:03:45.063Z"
   },
   {
    "duration": 7,
    "start_time": "2021-12-27T16:03:45.460Z"
   },
   {
    "duration": 719,
    "start_time": "2021-12-27T16:03:45.470Z"
   },
   {
    "duration": 5,
    "start_time": "2021-12-27T16:03:46.192Z"
   },
   {
    "duration": 10,
    "start_time": "2021-12-27T16:03:46.200Z"
   },
   {
    "duration": 7,
    "start_time": "2021-12-27T16:03:46.213Z"
   },
   {
    "duration": 48,
    "start_time": "2021-12-27T16:03:46.223Z"
   },
   {
    "duration": 16,
    "start_time": "2021-12-27T16:03:46.273Z"
   },
   {
    "duration": 856,
    "start_time": "2021-12-27T16:03:46.291Z"
   },
   {
    "duration": 11,
    "start_time": "2021-12-27T16:03:47.150Z"
   },
   {
    "duration": 18,
    "start_time": "2021-12-27T16:03:47.163Z"
   },
   {
    "duration": 5,
    "start_time": "2021-12-27T16:03:47.183Z"
   },
   {
    "duration": 11,
    "start_time": "2021-12-27T16:03:47.191Z"
   },
   {
    "duration": 19,
    "start_time": "2021-12-27T16:03:47.204Z"
   },
   {
    "duration": 6,
    "start_time": "2021-12-27T16:03:47.226Z"
   },
   {
    "duration": 448,
    "start_time": "2021-12-27T16:03:47.260Z"
   },
   {
    "duration": 13,
    "start_time": "2021-12-27T16:03:47.710Z"
   },
   {
    "duration": 7,
    "start_time": "2021-12-27T16:03:47.726Z"
   },
   {
    "duration": 29,
    "start_time": "2021-12-27T16:03:47.736Z"
   },
   {
    "duration": 46,
    "start_time": "2021-12-27T16:03:47.768Z"
   },
   {
    "duration": 6,
    "start_time": "2021-12-27T16:03:47.817Z"
   },
   {
    "duration": 9,
    "start_time": "2021-12-27T16:03:47.825Z"
   },
   {
    "duration": 23,
    "start_time": "2021-12-27T16:03:47.837Z"
   },
   {
    "duration": 18,
    "start_time": "2021-12-27T16:03:47.863Z"
   },
   {
    "duration": 11,
    "start_time": "2021-12-27T16:03:47.883Z"
   },
   {
    "duration": 12,
    "start_time": "2021-12-27T16:03:47.896Z"
   },
   {
    "duration": 12,
    "start_time": "2021-12-27T16:03:47.911Z"
   },
   {
    "duration": 18606,
    "start_time": "2021-12-27T16:03:47.925Z"
   },
   {
    "duration": 16807,
    "start_time": "2021-12-27T16:04:06.534Z"
   },
   {
    "duration": 5,
    "start_time": "2021-12-27T16:04:23.344Z"
   },
   {
    "duration": 437418,
    "start_time": "2021-12-27T16:04:23.351Z"
   },
   {
    "duration": 440610,
    "start_time": "2021-12-27T16:11:40.861Z"
   },
   {
    "duration": 421,
    "start_time": "2021-12-27T16:19:01.559Z"
   },
   {
    "duration": 4418,
    "start_time": "2021-12-27T16:19:02.063Z"
   },
   {
    "duration": 17,
    "start_time": "2021-12-27T16:19:06.561Z"
   },
   {
    "duration": 6,
    "start_time": "2021-12-27T16:24:26.013Z"
   },
   {
    "duration": 14,
    "start_time": "2021-12-27T16:24:37.395Z"
   },
   {
    "duration": 1883,
    "start_time": "2021-12-27T16:36:16.061Z"
   },
   {
    "duration": 4,
    "start_time": "2021-12-27T16:36:17.946Z"
   },
   {
    "duration": 1040,
    "start_time": "2021-12-27T16:36:17.952Z"
   },
   {
    "duration": 34,
    "start_time": "2021-12-27T16:36:18.995Z"
   },
   {
    "duration": 41,
    "start_time": "2021-12-27T16:36:19.031Z"
   },
   {
    "duration": 392,
    "start_time": "2021-12-27T16:36:19.074Z"
   },
   {
    "duration": 229,
    "start_time": "2021-12-27T16:36:19.469Z"
   },
   {
    "duration": 5,
    "start_time": "2021-12-27T16:36:19.701Z"
   },
   {
    "duration": 10,
    "start_time": "2021-12-27T16:36:19.712Z"
   },
   {
    "duration": 684,
    "start_time": "2021-12-27T16:36:19.725Z"
   },
   {
    "duration": 5,
    "start_time": "2021-12-27T16:36:20.411Z"
   },
   {
    "duration": 16,
    "start_time": "2021-12-27T16:36:20.418Z"
   },
   {
    "duration": 25,
    "start_time": "2021-12-27T16:36:20.436Z"
   },
   {
    "duration": 6,
    "start_time": "2021-12-27T16:36:20.463Z"
   },
   {
    "duration": 15,
    "start_time": "2021-12-27T16:36:20.472Z"
   },
   {
    "duration": 6,
    "start_time": "2021-12-27T16:36:20.490Z"
   },
   {
    "duration": 9,
    "start_time": "2021-12-27T16:36:20.499Z"
   },
   {
    "duration": 69,
    "start_time": "2021-12-27T16:36:20.511Z"
   },
   {
    "duration": 38,
    "start_time": "2021-12-27T16:36:20.583Z"
   },
   {
    "duration": 20,
    "start_time": "2021-12-27T16:36:20.624Z"
   },
   {
    "duration": 21,
    "start_time": "2021-12-27T16:36:20.658Z"
   },
   {
    "duration": 6,
    "start_time": "2021-12-27T16:36:20.681Z"
   },
   {
    "duration": 9,
    "start_time": "2021-12-27T16:36:20.690Z"
   },
   {
    "duration": 16,
    "start_time": "2021-12-27T16:36:20.702Z"
   },
   {
    "duration": 44,
    "start_time": "2021-12-27T16:36:20.721Z"
   },
   {
    "duration": 14,
    "start_time": "2021-12-27T16:36:20.768Z"
   },
   {
    "duration": 459,
    "start_time": "2021-12-27T16:36:20.791Z"
   },
   {
    "duration": 10,
    "start_time": "2021-12-27T16:36:21.253Z"
   },
   {
    "duration": 767,
    "start_time": "2021-12-27T16:36:21.266Z"
   },
   {
    "duration": 5,
    "start_time": "2021-12-27T16:36:22.036Z"
   },
   {
    "duration": 10,
    "start_time": "2021-12-27T16:36:22.060Z"
   },
   {
    "duration": 8,
    "start_time": "2021-12-27T16:36:22.073Z"
   },
   {
    "duration": 12,
    "start_time": "2021-12-27T16:36:22.084Z"
   },
   {
    "duration": 15,
    "start_time": "2021-12-27T16:36:22.098Z"
   },
   {
    "duration": 872,
    "start_time": "2021-12-27T16:36:22.116Z"
   },
   {
    "duration": 6,
    "start_time": "2021-12-27T16:36:22.990Z"
   },
   {
    "duration": 18,
    "start_time": "2021-12-27T16:36:22.998Z"
   },
   {
    "duration": 40,
    "start_time": "2021-12-27T16:36:23.019Z"
   },
   {
    "duration": 8,
    "start_time": "2021-12-27T16:36:23.062Z"
   },
   {
    "duration": 92,
    "start_time": "2021-12-27T16:36:23.072Z"
   },
   {
    "duration": 5,
    "start_time": "2021-12-27T16:36:23.166Z"
   },
   {
    "duration": 443,
    "start_time": "2021-12-27T16:36:23.174Z"
   },
   {
    "duration": 16,
    "start_time": "2021-12-27T16:36:23.620Z"
   },
   {
    "duration": 23,
    "start_time": "2021-12-27T16:36:23.639Z"
   },
   {
    "duration": 8,
    "start_time": "2021-12-27T16:36:23.665Z"
   },
   {
    "duration": 47,
    "start_time": "2021-12-27T16:36:23.676Z"
   },
   {
    "duration": 36,
    "start_time": "2021-12-27T16:36:23.726Z"
   },
   {
    "duration": 7,
    "start_time": "2021-12-27T16:36:23.765Z"
   },
   {
    "duration": 16,
    "start_time": "2021-12-27T16:36:23.775Z"
   },
   {
    "duration": 7,
    "start_time": "2021-12-27T16:36:23.793Z"
   },
   {
    "duration": 6,
    "start_time": "2021-12-27T16:36:23.802Z"
   },
   {
    "duration": 6,
    "start_time": "2021-12-27T16:36:23.811Z"
   },
   {
    "duration": 46,
    "start_time": "2021-12-27T16:36:23.820Z"
   },
   {
    "duration": 18870,
    "start_time": "2021-12-27T16:36:23.869Z"
   },
   {
    "duration": 18496,
    "start_time": "2021-12-27T16:36:42.741Z"
   },
   {
    "duration": 6,
    "start_time": "2021-12-27T16:37:01.240Z"
   },
   {
    "duration": 441810,
    "start_time": "2021-12-27T16:37:01.260Z"
   },
   {
    "duration": 476689,
    "start_time": "2021-12-27T16:44:23.074Z"
   },
   {
    "duration": 395,
    "start_time": "2021-12-27T16:52:19.766Z"
   },
   {
    "duration": 1397,
    "start_time": "2021-12-27T16:52:20.164Z"
   },
   {
    "duration": 6,
    "start_time": "2021-12-27T16:52:21.563Z"
   },
   {
    "duration": 16,
    "start_time": "2021-12-27T16:52:21.572Z"
   },
   {
    "duration": 1583,
    "start_time": "2021-12-27T19:33:57.781Z"
   },
   {
    "duration": 3,
    "start_time": "2021-12-27T19:33:59.561Z"
   },
   {
    "duration": 1054,
    "start_time": "2021-12-27T19:34:00.048Z"
   },
   {
    "duration": 34,
    "start_time": "2021-12-27T19:34:32.188Z"
   },
   {
    "duration": 24,
    "start_time": "2021-12-27T19:34:32.790Z"
   },
   {
    "duration": 350,
    "start_time": "2021-12-27T19:34:33.260Z"
   },
   {
    "duration": 205,
    "start_time": "2021-12-27T19:34:34.344Z"
   },
   {
    "duration": 5,
    "start_time": "2021-12-27T19:34:57.440Z"
   },
   {
    "duration": 6,
    "start_time": "2021-12-27T19:34:57.957Z"
   },
   {
    "duration": 540,
    "start_time": "2021-12-27T19:34:58.475Z"
   },
   {
    "duration": 5,
    "start_time": "2021-12-27T19:34:59.021Z"
   },
   {
    "duration": 9,
    "start_time": "2021-12-27T19:34:59.591Z"
   },
   {
    "duration": 5,
    "start_time": "2021-12-27T19:35:17.535Z"
   },
   {
    "duration": 5,
    "start_time": "2021-12-27T19:35:18.818Z"
   },
   {
    "duration": 6,
    "start_time": "2021-12-27T19:35:19.282Z"
   },
   {
    "duration": 7,
    "start_time": "2021-12-27T19:35:55.336Z"
   },
   {
    "duration": 8,
    "start_time": "2021-12-27T19:35:58.516Z"
   },
   {
    "duration": 12,
    "start_time": "2021-12-27T19:36:45.195Z"
   },
   {
    "duration": 31,
    "start_time": "2021-12-27T19:36:46.443Z"
   },
   {
    "duration": 15,
    "start_time": "2021-12-27T19:37:15.089Z"
   },
   {
    "duration": 17,
    "start_time": "2021-12-27T19:37:15.715Z"
   },
   {
    "duration": 7,
    "start_time": "2021-12-27T20:02:24.036Z"
   },
   {
    "duration": 7,
    "start_time": "2021-12-27T20:02:24.548Z"
   },
   {
    "duration": 12,
    "start_time": "2021-12-27T20:02:25.376Z"
   },
   {
    "duration": 5,
    "start_time": "2021-12-27T20:02:25.871Z"
   },
   {
    "duration": 10,
    "start_time": "2021-12-27T20:02:26.083Z"
   },
   {
    "duration": 351,
    "start_time": "2021-12-27T20:02:26.461Z"
   },
   {
    "duration": 6,
    "start_time": "2021-12-27T20:02:50.698Z"
   },
   {
    "duration": 686,
    "start_time": "2021-12-27T20:02:51.223Z"
   },
   {
    "duration": 6,
    "start_time": "2021-12-27T20:02:53.329Z"
   },
   {
    "duration": 8,
    "start_time": "2021-12-27T20:02:53.915Z"
   },
   {
    "duration": 8,
    "start_time": "2021-12-27T20:02:54.559Z"
   },
   {
    "duration": 11,
    "start_time": "2021-12-27T20:02:55.588Z"
   },
   {
    "duration": 15,
    "start_time": "2021-12-27T20:02:56.035Z"
   },
   {
    "duration": 847,
    "start_time": "2021-12-27T20:02:56.365Z"
   },
   {
    "duration": 8,
    "start_time": "2021-12-27T20:02:57.214Z"
   },
   {
    "duration": 14,
    "start_time": "2021-12-27T20:02:57.637Z"
   },
   {
    "duration": 6,
    "start_time": "2021-12-27T20:02:58.407Z"
   },
   {
    "duration": 7,
    "start_time": "2021-12-27T20:04:15.582Z"
   },
   {
    "duration": 12,
    "start_time": "2021-12-27T20:04:16.970Z"
   },
   {
    "duration": 6,
    "start_time": "2021-12-27T20:04:17.308Z"
   },
   {
    "duration": 432,
    "start_time": "2021-12-27T20:04:17.511Z"
   },
   {
    "duration": 13,
    "start_time": "2021-12-27T20:04:18.019Z"
   },
   {
    "duration": 5,
    "start_time": "2021-12-27T20:04:18.322Z"
   },
   {
    "duration": 6,
    "start_time": "2021-12-27T20:04:18.827Z"
   },
   {
    "duration": 34,
    "start_time": "2021-12-27T20:04:19.325Z"
   },
   {
    "duration": 6,
    "start_time": "2021-12-27T20:04:19.977Z"
   },
   {
    "duration": 6,
    "start_time": "2021-12-27T20:07:34.888Z"
   },
   {
    "duration": 7,
    "start_time": "2021-12-27T20:07:35.580Z"
   },
   {
    "duration": 4,
    "start_time": "2021-12-27T20:07:39.934Z"
   },
   {
    "duration": 4,
    "start_time": "2021-12-27T20:07:40.551Z"
   },
   {
    "duration": 3,
    "start_time": "2021-12-27T20:07:47.186Z"
   },
   {
    "duration": 4,
    "start_time": "2021-12-27T20:07:48.580Z"
   },
   {
    "duration": 17378,
    "start_time": "2021-12-27T20:08:13.174Z"
   },
   {
    "duration": 16888,
    "start_time": "2021-12-27T20:08:30.555Z"
   },
   {
    "duration": 7,
    "start_time": "2021-12-27T20:08:47.446Z"
   },
   {
    "duration": 419765,
    "start_time": "2021-12-27T20:08:47.456Z"
   },
   {
    "duration": 431599,
    "start_time": "2021-12-27T20:15:47.224Z"
   },
   {
    "duration": 5,
    "start_time": "2021-12-27T20:52:41.636Z"
   },
   {
    "duration": 1166,
    "start_time": "2021-12-28T06:08:06.997Z"
   },
   {
    "duration": 3,
    "start_time": "2021-12-28T06:08:08.164Z"
   },
   {
    "duration": 716,
    "start_time": "2021-12-28T06:08:08.169Z"
   },
   {
    "duration": 20,
    "start_time": "2021-12-28T06:08:08.887Z"
   },
   {
    "duration": 23,
    "start_time": "2021-12-28T06:08:08.909Z"
   },
   {
    "duration": 218,
    "start_time": "2021-12-28T06:08:08.934Z"
   },
   {
    "duration": 120,
    "start_time": "2021-12-28T06:08:09.153Z"
   },
   {
    "duration": 3,
    "start_time": "2021-12-28T06:08:09.276Z"
   },
   {
    "duration": 7,
    "start_time": "2021-12-28T06:08:09.281Z"
   },
   {
    "duration": 309,
    "start_time": "2021-12-28T06:08:09.289Z"
   },
   {
    "duration": 4,
    "start_time": "2021-12-28T06:08:09.599Z"
   },
   {
    "duration": 23,
    "start_time": "2021-12-28T06:08:09.605Z"
   },
   {
    "duration": 4,
    "start_time": "2021-12-28T06:08:09.629Z"
   },
   {
    "duration": 5,
    "start_time": "2021-12-28T06:08:09.635Z"
   },
   {
    "duration": 7,
    "start_time": "2021-12-28T06:08:09.642Z"
   },
   {
    "duration": 5,
    "start_time": "2021-12-28T06:08:09.651Z"
   },
   {
    "duration": 6,
    "start_time": "2021-12-28T06:08:09.658Z"
   },
   {
    "duration": 10,
    "start_time": "2021-12-28T06:08:09.666Z"
   },
   {
    "duration": 51,
    "start_time": "2021-12-28T06:08:09.678Z"
   },
   {
    "duration": 14,
    "start_time": "2021-12-28T06:08:09.731Z"
   },
   {
    "duration": 13,
    "start_time": "2021-12-28T06:08:09.746Z"
   },
   {
    "duration": 4,
    "start_time": "2021-12-28T06:08:09.760Z"
   },
   {
    "duration": 4,
    "start_time": "2021-12-28T06:08:09.768Z"
   },
   {
    "duration": 8,
    "start_time": "2021-12-28T06:08:09.774Z"
   },
   {
    "duration": 5,
    "start_time": "2021-12-28T06:08:09.783Z"
   },
   {
    "duration": 38,
    "start_time": "2021-12-28T06:08:09.789Z"
   },
   {
    "duration": 210,
    "start_time": "2021-12-28T06:08:09.829Z"
   },
   {
    "duration": 6,
    "start_time": "2021-12-28T06:08:10.041Z"
   },
   {
    "duration": 390,
    "start_time": "2021-12-28T06:08:10.048Z"
   },
   {
    "duration": 4,
    "start_time": "2021-12-28T06:08:10.440Z"
   },
   {
    "duration": 7,
    "start_time": "2021-12-28T06:08:10.446Z"
   },
   {
    "duration": 16,
    "start_time": "2021-12-28T06:08:10.455Z"
   },
   {
    "duration": 7,
    "start_time": "2021-12-28T06:08:10.473Z"
   },
   {
    "duration": 12,
    "start_time": "2021-12-28T06:08:10.482Z"
   },
   {
    "duration": 488,
    "start_time": "2021-12-28T06:08:10.496Z"
   },
   {
    "duration": 4,
    "start_time": "2021-12-28T06:08:10.986Z"
   },
   {
    "duration": 9,
    "start_time": "2021-12-28T06:08:10.991Z"
   },
   {
    "duration": 3,
    "start_time": "2021-12-28T06:08:11.001Z"
   },
   {
    "duration": 23,
    "start_time": "2021-12-28T06:08:11.006Z"
   },
   {
    "duration": 10,
    "start_time": "2021-12-28T06:08:11.031Z"
   },
   {
    "duration": 4,
    "start_time": "2021-12-28T06:08:11.043Z"
   },
   {
    "duration": 268,
    "start_time": "2021-12-28T06:08:11.048Z"
   },
   {
    "duration": 16,
    "start_time": "2021-12-28T06:08:11.317Z"
   },
   {
    "duration": 3,
    "start_time": "2021-12-28T06:08:11.335Z"
   },
   {
    "duration": 7,
    "start_time": "2021-12-28T06:08:11.341Z"
   },
   {
    "duration": 27,
    "start_time": "2021-12-28T06:08:11.350Z"
   },
   {
    "duration": 4,
    "start_time": "2021-12-28T06:08:11.378Z"
   },
   {
    "duration": 5,
    "start_time": "2021-12-28T06:08:11.384Z"
   },
   {
    "duration": 6,
    "start_time": "2021-12-28T06:08:11.390Z"
   },
   {
    "duration": 4,
    "start_time": "2021-12-28T06:08:11.398Z"
   },
   {
    "duration": 26,
    "start_time": "2021-12-28T06:08:11.403Z"
   },
   {
    "duration": 6,
    "start_time": "2021-12-28T06:08:11.431Z"
   },
   {
    "duration": 6,
    "start_time": "2021-12-28T06:08:11.438Z"
   },
   {
    "duration": 14558,
    "start_time": "2021-12-28T06:08:11.445Z"
   },
   {
    "duration": 12768,
    "start_time": "2021-12-28T06:08:26.005Z"
   },
   {
    "duration": 4,
    "start_time": "2021-12-28T06:08:38.774Z"
   },
   {
    "duration": 315855,
    "start_time": "2021-12-28T06:08:38.779Z"
   },
   {
    "duration": 313294,
    "start_time": "2021-12-28T06:13:54.636Z"
   },
   {
    "duration": 195,
    "start_time": "2021-12-28T06:19:07.932Z"
   },
   {
    "duration": -708,
    "start_time": "2021-12-28T06:19:08.837Z"
   },
   {
    "duration": -710,
    "start_time": "2021-12-28T06:19:08.840Z"
   },
   {
    "duration": -712,
    "start_time": "2021-12-28T06:19:08.843Z"
   },
   {
    "duration": -716,
    "start_time": "2021-12-28T06:19:08.847Z"
   },
   {
    "duration": 4,
    "start_time": "2021-12-28T06:24:56.684Z"
   },
   {
    "duration": 266,
    "start_time": "2021-12-28T06:31:47.475Z"
   },
   {
    "duration": 927,
    "start_time": "2021-12-28T06:31:48.619Z"
   },
   {
    "duration": 4,
    "start_time": "2021-12-28T06:31:51.522Z"
   },
   {
    "duration": 7,
    "start_time": "2021-12-28T06:31:53.050Z"
   },
   {
    "duration": 4,
    "start_time": "2021-12-28T06:33:03.844Z"
   },
   {
    "duration": 3,
    "start_time": "2021-12-28T06:33:36.219Z"
   },
   {
    "duration": 6,
    "start_time": "2021-12-28T06:34:54.699Z"
   },
   {
    "duration": 6,
    "start_time": "2021-12-28T06:35:30.931Z"
   },
   {
    "duration": 4,
    "start_time": "2021-12-28T06:39:25.779Z"
   },
   {
    "duration": 7,
    "start_time": "2021-12-28T06:39:59.074Z"
   },
   {
    "duration": 7,
    "start_time": "2021-12-28T06:40:11.987Z"
   },
   {
    "duration": 7,
    "start_time": "2021-12-28T06:40:20.707Z"
   },
   {
    "duration": 4,
    "start_time": "2021-12-28T06:41:21.603Z"
   },
   {
    "duration": 7,
    "start_time": "2021-12-28T06:41:25.954Z"
   },
   {
    "duration": 3,
    "start_time": "2021-12-28T06:42:06.699Z"
   },
   {
    "duration": 8,
    "start_time": "2021-12-28T06:42:31.778Z"
   },
   {
    "duration": 4,
    "start_time": "2021-12-28T07:16:17.841Z"
   },
   {
    "duration": 1345,
    "start_time": "2021-12-28T07:32:16.789Z"
   },
   {
    "duration": 3,
    "start_time": "2021-12-28T07:32:18.137Z"
   },
   {
    "duration": 834,
    "start_time": "2021-12-28T07:32:18.145Z"
   },
   {
    "duration": 27,
    "start_time": "2021-12-28T07:32:18.981Z"
   },
   {
    "duration": 29,
    "start_time": "2021-12-28T07:32:19.010Z"
   },
   {
    "duration": 275,
    "start_time": "2021-12-28T07:32:19.041Z"
   },
   {
    "duration": 141,
    "start_time": "2021-12-28T07:32:19.318Z"
   },
   {
    "duration": 4,
    "start_time": "2021-12-28T07:32:19.462Z"
   },
   {
    "duration": 12,
    "start_time": "2021-12-28T07:32:19.468Z"
   },
   {
    "duration": 387,
    "start_time": "2021-12-28T07:32:19.482Z"
   },
   {
    "duration": 4,
    "start_time": "2021-12-28T07:32:19.870Z"
   },
   {
    "duration": 11,
    "start_time": "2021-12-28T07:32:19.876Z"
   },
   {
    "duration": 8,
    "start_time": "2021-12-28T07:32:19.889Z"
   },
   {
    "duration": 10,
    "start_time": "2021-12-28T07:32:19.899Z"
   },
   {
    "duration": 26,
    "start_time": "2021-12-28T07:32:19.911Z"
   },
   {
    "duration": 13,
    "start_time": "2021-12-28T07:32:19.940Z"
   },
   {
    "duration": 15,
    "start_time": "2021-12-28T07:32:19.955Z"
   },
   {
    "duration": 20,
    "start_time": "2021-12-28T07:32:19.972Z"
   },
   {
    "duration": 47,
    "start_time": "2021-12-28T07:32:19.994Z"
   },
   {
    "duration": 17,
    "start_time": "2021-12-28T07:32:20.043Z"
   },
   {
    "duration": 14,
    "start_time": "2021-12-28T07:32:20.062Z"
   },
   {
    "duration": 5,
    "start_time": "2021-12-28T07:32:20.083Z"
   },
   {
    "duration": 38,
    "start_time": "2021-12-28T07:32:20.091Z"
   },
   {
    "duration": 8,
    "start_time": "2021-12-28T07:32:20.131Z"
   },
   {
    "duration": 7,
    "start_time": "2021-12-28T07:32:20.141Z"
   },
   {
    "duration": 11,
    "start_time": "2021-12-28T07:32:20.150Z"
   },
   {
    "duration": 367,
    "start_time": "2021-12-28T07:32:20.163Z"
   },
   {
    "duration": 5,
    "start_time": "2021-12-28T07:32:20.533Z"
   },
   {
    "duration": 566,
    "start_time": "2021-12-28T07:32:20.540Z"
   },
   {
    "duration": 4,
    "start_time": "2021-12-28T07:32:21.108Z"
   },
   {
    "duration": 25,
    "start_time": "2021-12-28T07:32:21.115Z"
   },
   {
    "duration": 7,
    "start_time": "2021-12-28T07:32:21.143Z"
   },
   {
    "duration": 14,
    "start_time": "2021-12-28T07:32:21.152Z"
   },
   {
    "duration": 17,
    "start_time": "2021-12-28T07:32:21.169Z"
   },
   {
    "duration": 577,
    "start_time": "2021-12-28T07:32:21.188Z"
   },
   {
    "duration": 3,
    "start_time": "2021-12-28T07:32:21.767Z"
   },
   {
    "duration": 13,
    "start_time": "2021-12-28T07:32:21.772Z"
   },
   {
    "duration": 4,
    "start_time": "2021-12-28T07:32:21.787Z"
   },
   {
    "duration": 6,
    "start_time": "2021-12-28T07:32:21.793Z"
   },
   {
    "duration": 40,
    "start_time": "2021-12-28T07:32:21.801Z"
   },
   {
    "duration": 4,
    "start_time": "2021-12-28T07:32:21.843Z"
   },
   {
    "duration": 307,
    "start_time": "2021-12-28T07:32:21.848Z"
   },
   {
    "duration": 10,
    "start_time": "2021-12-28T07:32:22.158Z"
   },
   {
    "duration": 4,
    "start_time": "2021-12-28T07:32:22.170Z"
   },
   {
    "duration": 7,
    "start_time": "2021-12-28T07:32:22.176Z"
   },
   {
    "duration": 50,
    "start_time": "2021-12-28T07:32:22.185Z"
   },
   {
    "duration": 6,
    "start_time": "2021-12-28T07:32:22.237Z"
   },
   {
    "duration": 11,
    "start_time": "2021-12-28T07:32:22.245Z"
   },
   {
    "duration": 6,
    "start_time": "2021-12-28T07:32:22.259Z"
   },
   {
    "duration": 10,
    "start_time": "2021-12-28T07:32:22.268Z"
   },
   {
    "duration": 8,
    "start_time": "2021-12-28T07:32:22.280Z"
   },
   {
    "duration": 5,
    "start_time": "2021-12-28T07:32:22.290Z"
   },
   {
    "duration": 28,
    "start_time": "2021-12-28T07:32:22.300Z"
   },
   {
    "duration": 15871,
    "start_time": "2021-12-28T07:32:22.330Z"
   },
   {
    "duration": 14870,
    "start_time": "2021-12-28T07:32:38.203Z"
   },
   {
    "duration": 3,
    "start_time": "2021-12-28T07:32:53.075Z"
   },
   {
    "duration": 1097060,
    "start_time": "2021-12-28T07:32:53.080Z"
   },
   {
    "duration": 949985,
    "start_time": "2021-12-28T07:51:10.145Z"
   },
   {
    "duration": 407,
    "start_time": "2021-12-28T08:07:00.132Z"
   },
   {
    "duration": 800,
    "start_time": "2021-12-28T08:07:00.628Z"
   },
   {
    "duration": 5,
    "start_time": "2021-12-28T08:07:01.431Z"
   },
   {
    "duration": 98,
    "start_time": "2021-12-28T08:07:01.441Z"
   },
   {
    "duration": 7,
    "start_time": "2021-12-28T08:07:01.541Z"
   },
   {
    "duration": 4,
    "start_time": "2021-12-28T08:07:01.550Z"
   },
   {
    "duration": 7,
    "start_time": "2021-12-28T08:07:01.556Z"
   },
   {
    "duration": 11,
    "start_time": "2021-12-28T08:07:01.564Z"
   },
   {
    "duration": 6,
    "start_time": "2021-12-28T08:07:01.580Z"
   },
   {
    "duration": 15,
    "start_time": "2021-12-28T08:07:01.587Z"
   }
  ],
  "hide_input": false,
  "kernelspec": {
   "display_name": "Python 3 (ipykernel)",
   "language": "python",
   "name": "python3"
  },
  "language_info": {
   "codemirror_mode": {
    "name": "ipython",
    "version": 3
   },
   "file_extension": ".py",
   "mimetype": "text/x-python",
   "name": "python",
   "nbconvert_exporter": "python",
   "pygments_lexer": "ipython3",
   "version": "3.9.7"
  },
  "toc": {
   "base_numbering": 1,
   "nav_menu": {},
   "number_sections": true,
   "sideBar": true,
   "skip_h1_title": true,
   "title_cell": "Содержание",
   "title_sidebar": "Contents",
   "toc_cell": true,
   "toc_position": {},
   "toc_section_display": true,
   "toc_window_display": false
  },
  "varInspector": {
   "cols": {
    "lenName": 16,
    "lenType": 16,
    "lenVar": 40
   },
   "kernels_config": {
    "python": {
     "delete_cmd_postfix": "",
     "delete_cmd_prefix": "del ",
     "library": "var_list.py",
     "varRefreshCmd": "print(var_dic_list())"
    },
    "r": {
     "delete_cmd_postfix": ") ",
     "delete_cmd_prefix": "rm(",
     "library": "var_list.r",
     "varRefreshCmd": "cat(var_dic_list()) "
    }
   },
   "types_to_exclude": [
    "module",
    "function",
    "builtin_function_or_method",
    "instance",
    "_Feature"
   ],
   "window_display": false
  }
 },
 "nbformat": 4,
 "nbformat_minor": 2
}
