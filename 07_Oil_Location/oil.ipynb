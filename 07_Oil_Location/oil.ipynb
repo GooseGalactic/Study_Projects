{
 "cells": [
  {
   "cell_type": "markdown",
   "metadata": {},
   "source": [
    "## Загрузка и подготовка данных"
   ]
  },
  {
   "cell_type": "code",
   "execution_count": 1,
   "metadata": {
    "ExecuteTime": {
     "end_time": "2022-02-09T17:00:37.020543Z",
     "start_time": "2022-02-09T17:00:32.294286Z"
    }
   },
   "outputs": [],
   "source": [
    "import pandas as pd\n",
    "import numpy as np\n",
    "import matplotlib.pyplot as plt\n",
    "import seaborn as sns\n",
    "from sklearn.model_selection import train_test_split, cross_val_score, GridSearchCV\n",
    "from sklearn.linear_model import LinearRegression, Ridge, Lasso\n",
    "from sklearn.metrics import mean_squared_error, r2_score"
   ]
  },
  {
   "cell_type": "code",
   "execution_count": 2,
   "metadata": {
    "ExecuteTime": {
     "end_time": "2022-02-09T17:00:37.036503Z",
     "start_time": "2022-02-09T17:00:37.022540Z"
    }
   },
   "outputs": [],
   "source": [
    "import warnings\n",
    "warnings.filterwarnings(\"ignore\")"
   ]
  },
  {
   "cell_type": "code",
   "execution_count": 3,
   "metadata": {
    "ExecuteTime": {
     "end_time": "2022-02-09T17:00:37.430940Z",
     "start_time": "2022-02-09T17:00:37.039496Z"
    }
   },
   "outputs": [],
   "source": [
    "df1 = pd.read_csv('geo_data_0.csv')\n",
    "df2 = pd.read_csv('geo_data_1.csv')\n",
    "df3 = pd.read_csv('geo_data_2.csv')"
   ]
  },
  {
   "cell_type": "markdown",
   "metadata": {},
   "source": [
    "Данные загружены, проведем исследовательский анализ каждого датасета, построив для этого функцию"
   ]
  },
  {
   "cell_type": "code",
   "execution_count": 4,
   "metadata": {
    "ExecuteTime": {
     "end_time": "2022-02-09T17:00:37.446901Z",
     "start_time": "2022-02-09T17:00:37.432939Z"
    }
   },
   "outputs": [],
   "source": [
    "'''\n",
    "Функция выводит первые пять строк каждого датафрейма,\n",
    "считает описательную статистику и строит хитмапы корреляций\n",
    "признаков для проверки на мультиколлинеарность\n",
    "'''\n",
    "df_list = [df1, df2, df3]\n",
    "\n",
    "def exploratory(list):\n",
    "    \n",
    "    fig,ax = plt.subplots(1, len(list), figsize=(14,5), sharex=True)\n",
    "    \n",
    "    for i, name in enumerate(list):\n",
    "        \n",
    "        print('Локация', i+1, '\\n\\n')\n",
    "        print('Первые пять строк:\\n')\n",
    "        print(name.head(5), '\\n')\n",
    "        print('Описательная статистика:\\n')\n",
    "        print(name.describe(), '\\n\\n')\n",
    "        \n",
    "        ax[i].set_title(f'Локация {(i+1)}')\n",
    "        sns.heatmap(ax=ax[i], data=name.corr(), annot=True, cbar=False)\n",
    "        if i == 2:\n",
    "            sns.heatmap(ax=ax[i], data=name.corr(), annot=True)\n",
    "\n",
    "        print('------------------------------------------------------------ \\n')"
   ]
  },
  {
   "cell_type": "code",
   "execution_count": 5,
   "metadata": {
    "ExecuteTime": {
     "end_time": "2022-02-09T17:00:38.218095Z",
     "start_time": "2022-02-09T17:00:37.448895Z"
    }
   },
   "outputs": [
    {
     "name": "stdout",
     "output_type": "stream",
     "text": [
      "Локация 1 \n",
      "\n",
      "\n",
      "Первые пять строк:\n",
      "\n",
      "      id        f0        f1        f2     product\n",
      "0  txEyH  0.705745 -0.497823  1.221170  105.280062\n",
      "1  2acmU  1.334711 -0.340164  4.365080   73.037750\n",
      "2  409Wp  1.022732  0.151990  1.419926   85.265647\n",
      "3  iJLyR -0.032172  0.139033  2.978566  168.620776\n",
      "4  Xdl7t  1.988431  0.155413  4.751769  154.036647 \n",
      "\n",
      "Описательная статистика:\n",
      "\n",
      "                  f0             f1             f2        product\n",
      "count  100000.000000  100000.000000  100000.000000  100000.000000\n",
      "mean        0.500419       0.250143       2.502647      92.500000\n",
      "std         0.871832       0.504433       3.248248      44.288691\n",
      "min        -1.408605      -0.848218     -12.088328       0.000000\n",
      "25%        -0.072580      -0.200881       0.287748      56.497507\n",
      "50%         0.502360       0.250252       2.515969      91.849972\n",
      "75%         1.073581       0.700646       4.715088     128.564089\n",
      "max         2.362331       1.343769      16.003790     185.364347 \n",
      "\n",
      "\n",
      "------------------------------------------------------------ \n",
      "\n",
      "Локация 2 \n",
      "\n",
      "\n",
      "Первые пять строк:\n",
      "\n",
      "      id         f0         f1        f2     product\n",
      "0  kBEdx -15.001348  -8.276000 -0.005876    3.179103\n",
      "1  62mP7  14.272088  -3.475083  0.999183   26.953261\n",
      "2  vyE1P   6.263187  -5.948386  5.001160  134.766305\n",
      "3  KcrkZ -13.081196 -11.506057  4.999415  137.945408\n",
      "4  AHL4O  12.702195  -8.147433  5.004363  134.766305 \n",
      "\n",
      "Описательная статистика:\n",
      "\n",
      "                  f0             f1             f2        product\n",
      "count  100000.000000  100000.000000  100000.000000  100000.000000\n",
      "mean        1.141296      -4.796579       2.494541      68.825000\n",
      "std         8.965932       5.119872       1.703572      45.944423\n",
      "min       -31.609576     -26.358598      -0.018144       0.000000\n",
      "25%        -6.298551      -8.267985       1.000021      26.953261\n",
      "50%         1.153055      -4.813172       2.011479      57.085625\n",
      "75%         8.621015      -1.332816       3.999904     107.813044\n",
      "max        29.421755      18.734063       5.019721     137.945408 \n",
      "\n",
      "\n",
      "------------------------------------------------------------ \n",
      "\n",
      "Локация 3 \n",
      "\n",
      "\n",
      "Первые пять строк:\n",
      "\n",
      "      id        f0        f1        f2     product\n",
      "0  fwXo0 -1.146987  0.963328 -0.828965   27.758673\n",
      "1  WJtFt  0.262778  0.269839 -2.530187   56.069697\n",
      "2  ovLUW  0.194587  0.289035 -5.586433   62.871910\n",
      "3  q6cA6  2.236060 -0.553760  0.930038  114.572842\n",
      "4  WPMUX -0.515993  1.716266  5.899011  149.600746 \n",
      "\n",
      "Описательная статистика:\n",
      "\n",
      "                  f0             f1             f2        product\n",
      "count  100000.000000  100000.000000  100000.000000  100000.000000\n",
      "mean        0.002023      -0.002081       2.495128      95.000000\n",
      "std         1.732045       1.730417       3.473445      44.749921\n",
      "min        -8.760004      -7.084020     -11.970335       0.000000\n",
      "25%        -1.162288      -1.174820       0.130359      59.450441\n",
      "50%         0.009424      -0.009482       2.484236      94.925613\n",
      "75%         1.158535       1.163678       4.858794     130.595027\n",
      "max         7.238262       7.844801      16.739402     190.029838 \n",
      "\n",
      "\n",
      "------------------------------------------------------------ \n",
      "\n"
     ]
    },
    {
     "data": {
      "image/png": "[encoded data removed]",
      "text/plain": [
       "<Figure size 1008x360 with 4 Axes>"
      ]
     },
     "metadata": {
      "needs_background": "light"
     },
     "output_type": "display_data"
    }
   ],
   "source": [
    "exploratory(df_list)"
   ]
  },
  {
   "cell_type": "markdown",
   "metadata": {},
   "source": [
    "Первый датасет не содержит пропусков. Проверка на мультиколлинеарность показала наличие линейной зависимости между `f2` и таргетом, а также между `f1` и `f0`, но недостаточно для рассмотрения возможности отбрасывания признака.  "
   ]
  },
  {
   "cell_type": "markdown",
   "metadata": {},
   "source": [
    "Второй датасет так же не содержит в себе пропуски, при этом мы видим линейную зависимость между `f2` и `product`."
   ]
  },
  {
   "cell_type": "markdown",
   "metadata": {},
   "source": [
    "Третий датасет тоже \"чистый\" и снова признак `f2` показывает линейную зависимость с целевым признаком."
   ]
  },
  {
   "cell_type": "markdown",
   "metadata": {},
   "source": [
    "### Выводы"
   ]
  },
  {
   "cell_type": "markdown",
   "metadata": {},
   "source": [
    "Данные были проверены на наличие артефактов и мультиколлинерность. Масштабирование признаков не требуется. Столбец `id` можно отбросить"
   ]
  },
  {
   "cell_type": "markdown",
   "metadata": {},
   "source": [
    "## Обучение и проверка модели"
   ]
  },
  {
   "cell_type": "markdown",
   "metadata": {},
   "source": [
    "Для каждого региона создадим обучающие и валидационные выборки. Обучим модель линейной регрессии и рассчитаем как средний запас предсказанного сырья, так и RMSE модели"
   ]
  },
  {
   "cell_type": "markdown",
   "metadata": {},
   "source": [
    "Напишем функцию, которая берет датасет и возвращает обучающие и валидационные выборки"
   ]
  },
  {
   "cell_type": "code",
   "execution_count": 6,
   "metadata": {
    "ExecuteTime": {
     "end_time": "2022-02-09T17:00:38.233082Z",
     "start_time": "2022-02-09T17:00:38.220091Z"
    }
   },
   "outputs": [],
   "source": [
    "'''\n",
    "Функция принимает датасет, делит его на признаки и таргет,\n",
    "а их в свою очередь на обучающую и валидационную выборки.\n",
    "На выходе мы имеем четыре датасета для обучения и валидации +\n",
    "проверку на длину полученных датасетов\n",
    "'''\n",
    "def preprocessing(df):\n",
    "    \n",
    "    features = df.drop(['id', 'product'], axis=1)\n",
    "    target = df['product']\n",
    "    \n",
    "    features_train, features_valid, target_train, target_valid = train_test_split(\n",
    "    features,\n",
    "    target,\n",
    "    test_size=0.25,\n",
    "    random_state=12345)\n",
    "    \n",
    "    print('Длина обучающей выборки:', features_train.shape[0])\n",
    "    print('Длина валидационной выборки:', features_valid.shape[0])\n",
    "    \n",
    "    return target, features_train, features_valid, target_train, target_valid"
   ]
  },
  {
   "cell_type": "markdown",
   "metadata": {},
   "source": [
    "Напишем функцию, которая будет обучать три линейные модели (метод наименьших квадратов, ридж и лассо), с помощью кросс-валидации выбирать лучшую модель по ошибке"
   ]
  },
  {
   "cell_type": "code",
   "execution_count": 7,
   "metadata": {
    "ExecuteTime": {
     "end_time": "2022-02-09T17:00:38.248042Z",
     "start_time": "2022-02-09T17:00:38.235078Z"
    }
   },
   "outputs": [],
   "source": [
    "'''\n",
    "Функция принимает четыре датасета, обучает три модели, методом\n",
    "кросс-валидации на валидационном датасете оценивает метрику R2\n",
    "модели, возвращает лучшую модель и предикты в формате Series\n",
    "'''\n",
    "def regression_train_and_score(features_train, features_valid, target_train, target_valid):\n",
    "    \n",
    "    regres = LinearRegression().fit(features_train, target_train)\n",
    "    ridge = Ridge().fit(features_train, target_train)\n",
    "    lasso = Lasso().fit(features_train, target_train)\n",
    "    \n",
    "    model_list = [regres, ridge, lasso]\n",
    "    best_model = None\n",
    "    best_r2_score = 0\n",
    "    best_rmse = 1000\n",
    "    prediction = None\n",
    "    \n",
    "    for i, name in enumerate(model_list):\n",
    "        \n",
    "        predictions = name.predict(features_valid)\n",
    "        \n",
    "        r2_score = np.mean(cross_val_score(name, features_valid, target_valid, scoring='r2'))\n",
    "        neg_mse = cross_val_score(name, features_valid, target_valid, scoring='neg_mean_squared_error')\n",
    "        rmse = np.mean(np.sqrt(-neg_mse))\n",
    "        \n",
    "        if rmse <  best_rmse:\n",
    "            \n",
    "            best_model = name\n",
    "            best_r2_score = r2_score\n",
    "            best_rmse = rmse\n",
    "            prediction = predictions\n",
    "    \n",
    "    model_name = type(best_model).__name__\n",
    "    print(f'Лучшая модель {model_name}')\n",
    "    print('R2-score лучшей модели:', best_r2_score)\n",
    "    print('RMSE лучшей модели:', best_rmse)\n",
    "    prediction = pd.Series(prediction)\n",
    "    print(f'Средний запас предсказанного сырья {prediction.mean():.2f} тыс. баррелей')\n",
    "    \n",
    "    return best_model, prediction  "
   ]
  },
  {
   "cell_type": "markdown",
   "metadata": {},
   "source": [
    "Все готово к обучению моделей и получению предиктов. Для каждого региона получим лучшую модель, ее предсказание и метрики"
   ]
  },
  {
   "cell_type": "markdown",
   "metadata": {},
   "source": [
    "### Первый регион"
   ]
  },
  {
   "cell_type": "code",
   "execution_count": 8,
   "metadata": {
    "ExecuteTime": {
     "end_time": "2022-02-09T17:00:38.279957Z",
     "start_time": "2022-02-09T17:00:38.251035Z"
    }
   },
   "outputs": [
    {
     "name": "stdout",
     "output_type": "stream",
     "text": [
      "Длина обучающей выборки: 75000\n",
      "Длина валидационной выборки: 25000\n"
     ]
    }
   ],
   "source": [
    "target_1, features_train_1, features_valid_1, target_train_1, target_valid_1 = preprocessing(df1)"
   ]
  },
  {
   "cell_type": "code",
   "execution_count": 9,
   "metadata": {
    "ExecuteTime": {
     "end_time": "2022-02-09T17:00:38.485406Z",
     "start_time": "2022-02-09T17:00:38.281951Z"
    }
   },
   "outputs": [
    {
     "name": "stdout",
     "output_type": "stream",
     "text": [
      "Лучшая модель Ridge\n",
      "R2-score лучшей модели: 0.27984439985891635\n",
      "RMSE лучшей модели: 37.57384104569182\n",
      "Средний запас предсказанного сырья 92.59 тыс. баррелей\n"
     ]
    }
   ],
   "source": [
    "model1, prediction1 = regression_train_and_score(features_train_1, features_valid_1, target_train_1, target_valid_1)"
   ]
  },
  {
   "cell_type": "markdown",
   "metadata": {},
   "source": [
    "По метрикам R2-score и RMSE лучше себя показала модель ридж-регрессии.    \n",
    "Ошибка модели составила больше трети от среднего предсказанного запаса, причину нам раскрывает низкое значение метрики R2 - всего около 28% датасета было правильно предсказано регрессором."
   ]
  },
  {
   "cell_type": "markdown",
   "metadata": {},
   "source": [
    "### Второй регион"
   ]
  },
  {
   "cell_type": "code",
   "execution_count": 10,
   "metadata": {
    "ExecuteTime": {
     "end_time": "2022-02-09T17:00:38.517323Z",
     "start_time": "2022-02-09T17:00:38.488400Z"
    }
   },
   "outputs": [
    {
     "name": "stdout",
     "output_type": "stream",
     "text": [
      "Длина обучающей выборки: 75000\n",
      "Длина валидационной выборки: 25000\n"
     ]
    }
   ],
   "source": [
    "target_2, features_train_2, features_valid_2, target_train_2, target_valid_2 = preprocessing(df2)"
   ]
  },
  {
   "cell_type": "code",
   "execution_count": 11,
   "metadata": {
    "ExecuteTime": {
     "end_time": "2022-02-09T17:00:38.692852Z",
     "start_time": "2022-02-09T17:00:38.519317Z"
    }
   },
   "outputs": [
    {
     "name": "stdout",
     "output_type": "stream",
     "text": [
      "Лучшая модель LinearRegression\n",
      "R2-score лучшей модели: 0.9996232414326588\n",
      "RMSE лучшей модели: 0.8931899438004297\n",
      "Средний запас предсказанного сырья 68.73 тыс. баррелей\n"
     ]
    }
   ],
   "source": [
    "model2, prediction2 = regression_train_and_score(features_train_2, features_valid_2, target_train_2, target_valid_2)"
   ]
  },
  {
   "cell_type": "markdown",
   "metadata": {},
   "source": [
    "Модель гораздо лучше обучена на втором регионе и показывает высокие показатели метрик. Причина кроется в том, что первые два признака линейно независимы с таргетом, в том время как третий показывает стопроцентную линейную зависимость. Как результат - модель регресии почти идеально предсказывает данные из этого датасета."
   ]
  },
  {
   "cell_type": "markdown",
   "metadata": {},
   "source": [
    "### Третий регион"
   ]
  },
  {
   "cell_type": "code",
   "execution_count": 12,
   "metadata": {
    "ExecuteTime": {
     "end_time": "2022-02-09T17:00:38.724767Z",
     "start_time": "2022-02-09T17:00:38.693849Z"
    }
   },
   "outputs": [
    {
     "name": "stdout",
     "output_type": "stream",
     "text": [
      "Длина обучающей выборки: 75000\n",
      "Длина валидационной выборки: 25000\n"
     ]
    }
   ],
   "source": [
    "target_3, features_train_3, features_valid_3, target_train_3, target_valid_3 = preprocessing(df3)"
   ]
  },
  {
   "cell_type": "code",
   "execution_count": 13,
   "metadata": {
    "ExecuteTime": {
     "end_time": "2022-02-09T17:00:38.900297Z",
     "start_time": "2022-02-09T17:00:38.725763Z"
    }
   },
   "outputs": [
    {
     "name": "stdout",
     "output_type": "stream",
     "text": [
      "Лучшая модель Ridge\n",
      "R2-score лучшей модели: 0.20506479506284864\n",
      "RMSE лучшей модели: 40.02921964503185\n",
      "Средний запас предсказанного сырья 94.97 тыс. баррелей\n"
     ]
    }
   ],
   "source": [
    "model3, prediction3 = regression_train_and_score(features_train_3, features_valid_3, target_train_3, target_valid_3)"
   ]
  },
  {
   "cell_type": "markdown",
   "metadata": {},
   "source": [
    "Средняя ошибка модели в третьем регионе еще больше, чем в первом, показатели R2 тоже достаточно низкие"
   ]
  },
  {
   "cell_type": "markdown",
   "metadata": {},
   "source": [
    "### Выводы"
   ]
  },
  {
   "cell_type": "markdown",
   "metadata": {},
   "source": [
    "Для каждого региона было построено по три модели регрессии, качество моделей оценивалось по метрикам RMSE и R2. \n",
    "\n",
    "Модели первого и третьего региона плохо перформят на валидационном датасете, использовать их в дальнейшем не рекомендуется.\n",
    "\n",
    "Согласно предсказаниям моделей, наибольшее количество нефти возможно получить из третьей локации - хотя, опираясь на значение стандартной ошибки, вариативность в третьем датасете выше, следовательно - разброс данных больше, что означает, что в выборке присутствуют как маленькие, так и высокие показатели целевого признака."
   ]
  },
  {
   "cell_type": "markdown",
   "metadata": {},
   "source": [
    "## Подготовка к расчёту прибыли"
   ]
  },
  {
   "cell_type": "markdown",
   "metadata": {},
   "source": [
    "Сохраним в переменные все необходимые для расчетов данные, рассчитаем объем сырья для безубыточной разработки и, наконец, построим функцию, которая рассчитает прибыль по выбранным скважинам и предсказаниям модели"
   ]
  },
  {
   "cell_type": "code",
   "execution_count": 14,
   "metadata": {
    "ExecuteTime": {
     "end_time": "2022-02-09T17:00:38.916254Z",
     "start_time": "2022-02-09T17:00:38.901294Z"
    }
   },
   "outputs": [],
   "source": [
    "BUDGET = 10**10 \n",
    "INCOME_PER_BARREL = 450000"
   ]
  },
  {
   "cell_type": "markdown",
   "metadata": {},
   "source": [
    "Рассчитаем точку безубыточности"
   ]
  },
  {
   "cell_type": "code",
   "execution_count": 15,
   "metadata": {
    "ExecuteTime": {
     "end_time": "2022-02-09T17:00:38.931214Z",
     "start_time": "2022-02-09T17:00:38.918250Z"
    }
   },
   "outputs": [
    {
     "name": "stdout",
     "output_type": "stream",
     "text": [
      "Точка безубыточности 22222 тыс. баррелей\n"
     ]
    }
   ],
   "source": [
    "N = BUDGET / INCOME_PER_BARREL\n",
    "print(f'Точка безубыточности {N:.0f} тыс. баррелей')"
   ]
  },
  {
   "cell_type": "markdown",
   "metadata": {},
   "source": [
    "Рассчитаем сколько баррелей мы должны получать с каждой точки в среднем, чтобы попасть в бюджет"
   ]
  },
  {
   "cell_type": "code",
   "execution_count": 16,
   "metadata": {
    "ExecuteTime": {
     "end_time": "2022-02-09T17:00:38.946175Z",
     "start_time": "2022-02-09T17:00:38.933210Z"
    }
   },
   "outputs": [
    {
     "name": "stdout",
     "output_type": "stream",
     "text": [
      "Средний объем нефти в скважине для безубыточного функционирования 112.0 тыс. баррелей\n"
     ]
    }
   ],
   "source": [
    "print('Средний объем нефти в скважине для безубыточного функционирования', np.ceil(N/200), 'тыс. баррелей')"
   ]
  },
  {
   "cell_type": "markdown",
   "metadata": {},
   "source": [
    "**Вывод:**  \n",
    "\n",
    "Средний запас нефти в каждом регионе недостаточен для безубыточного функционирования"
   ]
  },
  {
   "cell_type": "markdown",
   "metadata": {},
   "source": [
    "Напишем функцию для расчета прибыли для лучших предсказаний для каждого региона"
   ]
  },
  {
   "cell_type": "code",
   "execution_count": 17,
   "metadata": {
    "ExecuteTime": {
     "end_time": "2022-02-09T17:00:38.962132Z",
     "start_time": "2022-02-09T17:00:38.947172Z"
    }
   },
   "outputs": [],
   "source": [
    "'''\n",
    "Функция берет таргет датасета, предсказания модели и количество точек.\n",
    "Возвращает прибыль исходя из значения бюджета\n",
    "'''\n",
    "\n",
    "def profit(target, prediction, count):\n",
    "    \n",
    "    top_preds = prediction.sort_values(ascending = False)\n",
    "    top_target = target[top_preds.index][:count]\n",
    "    income = top_target.sum() * INCOME_PER_BARREL\n",
    "    revenue = income - BUDGET\n",
    "    \n",
    "    return revenue"
   ]
  },
  {
   "cell_type": "code",
   "execution_count": 18,
   "metadata": {
    "ExecuteTime": {
     "end_time": "2022-02-09T17:00:38.994046Z",
     "start_time": "2022-02-09T17:00:38.963129Z"
    }
   },
   "outputs": [
    {
     "name": "stdout",
     "output_type": "stream",
     "text": [
      "Прибыль с разработки скважин первого региона составит 10678350777 рублей\n",
      "Прибыль с разработки скважин второго региона составит 5007948941 рублей\n",
      "Прибыль с разработки скважин третьего региона составит 11411302937 рублей\n"
     ]
    }
   ],
   "source": [
    "# Проверим работу функции\n",
    "\n",
    "print(f'Прибыль с разработки скважин первого региона составит {profit(target_1, prediction1, 500):.0f} рублей')\n",
    "print(f'Прибыль с разработки скважин второго региона составит {profit(target_2, prediction2, 500):.0f} рублей')\n",
    "print(f'Прибыль с разработки скважин третьего региона составит {profit(target_3, prediction3, 500):.0f} рублей')"
   ]
  },
  {
   "cell_type": "markdown",
   "metadata": {},
   "source": [
    "## Расчёт прибыли и рисков "
   ]
  },
  {
   "cell_type": "markdown",
   "metadata": {},
   "source": [
    "Техникой bootstrap рассчитаем 95% доверительный интервал, среднюю прибыль и риск убытков для каждого региона"
   ]
  },
  {
   "cell_type": "code",
   "execution_count": 19,
   "metadata": {
    "ExecuteTime": {
     "end_time": "2022-02-09T17:00:39.010003Z",
     "start_time": "2022-02-09T17:00:38.996041Z"
    }
   },
   "outputs": [],
   "source": [
    "'''\n",
    "Функция берет таргет, предсказание и номер региона (для вывода).\n",
    "Внутри цикла проводится бутстрап на 1000 выборках, значение прибыли\n",
    "сохраняется в лист.\n",
    "По данным листа рассчитываются лосс, среднее значение и доверительный интервал\n",
    "'''\n",
    "\n",
    "def region_profit_bootstrap(target, prediction, region):\n",
    "    \n",
    "    state = np.random.RandomState(12345)\n",
    "    \n",
    "    target = target.reset_index(drop=True)\n",
    "    income = []\n",
    "    \n",
    "    for i in range(1000):\n",
    "        target_subsample = target.sample(n=500, replace=True, random_state=state)\n",
    "        probs_subsample = prediction[target_subsample.index]\n",
    "        profit_func = profit(target_subsample, probs_subsample, 200)\n",
    "        income.append(profit_func)\n",
    "        \n",
    "    income = pd.Series(income)\n",
    "    loss = (income < 0).mean() * 100\n",
    "    mean_income = income.mean() / 1000000\n",
    "    lower = np.around(income.quantile(0.025) / 1000000, decimals=2)\n",
    "    upper = np.around(income.quantile(0.975) / 1000000, decimals=2)\n",
    "    conf_interval = (lower, upper)\n",
    "    \n",
    "    \n",
    "    print(f'Регион №{region}: \\n')\n",
    "    print(f'Средняя прибыль: {mean_income:.2f} млн. рублей')\n",
    "    print(f'Доверительный интервал: {conf_interval} млн. рублей')\n",
    "    print(f'Риск: {loss:.2f} %')\n",
    "    return mean_income, conf_interval, loss"
   ]
  },
  {
   "cell_type": "code",
   "execution_count": 20,
   "metadata": {
    "ExecuteTime": {
     "end_time": "2022-02-09T17:00:39.025963Z",
     "start_time": "2022-02-09T17:00:39.011998Z"
    }
   },
   "outputs": [],
   "source": [
    "final = [] #сюда будем сохранять выводы для создания финального датасета с результатами работы"
   ]
  },
  {
   "cell_type": "code",
   "execution_count": 21,
   "metadata": {
    "ExecuteTime": {
     "end_time": "2022-02-09T17:00:40.252692Z",
     "start_time": "2022-02-09T17:00:39.027957Z"
    }
   },
   "outputs": [
    {
     "name": "stdout",
     "output_type": "stream",
     "text": [
      "Регион №1: \n",
      "\n",
      "Средняя прибыль: 426.07 млн. рублей\n",
      "Доверительный интервал: (-102.09, 947.98) млн. рублей\n",
      "Риск: 6.00 %\n"
     ]
    }
   ],
   "source": [
    "income_1, conf_interval_1, loss_1 = region_profit_bootstrap(target_valid_1, prediction1, 1)\n",
    "final.append(('Регион 1', income_1, conf_interval_1, loss_1))"
   ]
  },
  {
   "cell_type": "code",
   "execution_count": 22,
   "metadata": {
    "ExecuteTime": {
     "end_time": "2022-02-09T17:00:41.429545Z",
     "start_time": "2022-02-09T17:00:40.254666Z"
    }
   },
   "outputs": [
    {
     "name": "stdout",
     "output_type": "stream",
     "text": [
      "Регион №2: \n",
      "\n",
      "Средняя прибыль: 515.22 млн. рублей\n",
      "Доверительный интервал: (68.87, 931.55) млн. рублей\n",
      "Риск: 1.00 %\n"
     ]
    }
   ],
   "source": [
    "income_2, conf_interval_2, loss_2 = region_profit_bootstrap(target_valid_2, prediction2, 2)\n",
    "final.append(('Регион 2', income_2, conf_interval_2, loss_2))"
   ]
  },
  {
   "cell_type": "code",
   "execution_count": 23,
   "metadata": {
    "ExecuteTime": {
     "end_time": "2022-02-09T17:00:42.618365Z",
     "start_time": "2022-02-09T17:00:41.431508Z"
    }
   },
   "outputs": [
    {
     "name": "stdout",
     "output_type": "stream",
     "text": [
      "Регион №3: \n",
      "\n",
      "Средняя прибыль: 435.01 млн. рублей\n",
      "Доверительный интервал: (-128.88, 969.71) млн. рублей\n",
      "Риск: 6.40 %\n"
     ]
    }
   ],
   "source": [
    "income_3, conf_interval_3, loss_3 = region_profit_bootstrap(target_valid_3, prediction3, 3)\n",
    "final.append(('Регион 3', income_3, conf_interval_3, loss_3))"
   ]
  },
  {
   "cell_type": "code",
   "execution_count": 24,
   "metadata": {
    "ExecuteTime": {
     "end_time": "2022-02-09T17:00:42.634319Z",
     "start_time": "2022-02-09T17:00:42.620328Z"
    }
   },
   "outputs": [],
   "source": [
    "results = pd.DataFrame(final, \n",
    "                       columns=['Регион', 'Средняя прибыль, млн. рублей', 'Доверительный интервал, млн. рублей', 'Риск, %'])"
   ]
  },
  {
   "cell_type": "code",
   "execution_count": 25,
   "metadata": {
    "ExecuteTime": {
     "end_time": "2022-02-09T17:00:42.666235Z",
     "start_time": "2022-02-09T17:00:42.637283Z"
    }
   },
   "outputs": [
    {
     "data": {
      "text/html": [
       "<div>\n",
       "<style scoped>\n",
       "    .dataframe tbody tr th:only-of-type {\n",
       "        vertical-align: middle;\n",
       "    }\n",
       "\n",
       "    .dataframe tbody tr th {\n",
       "        vertical-align: top;\n",
       "    }\n",
       "\n",
       "    .dataframe thead th {\n",
       "        text-align: right;\n",
       "    }\n",
       "</style>\n",
       "<table border=\"1\" class=\"dataframe\">\n",
       "  <thead>\n",
       "    <tr style=\"text-align: right;\">\n",
       "      <th></th>\n",
       "      <th>Регион</th>\n",
       "      <th>Средняя прибыль, млн. рублей</th>\n",
       "      <th>Доверительный интервал, млн. рублей</th>\n",
       "      <th>Риск, %</th>\n",
       "    </tr>\n",
       "  </thead>\n",
       "  <tbody>\n",
       "    <tr>\n",
       "      <th>0</th>\n",
       "      <td>Регион 1</td>\n",
       "      <td>426.066131</td>\n",
       "      <td>(-102.09, 947.98)</td>\n",
       "      <td>6.0</td>\n",
       "    </tr>\n",
       "    <tr>\n",
       "      <th>1</th>\n",
       "      <td>Регион 2</td>\n",
       "      <td>515.222773</td>\n",
       "      <td>(68.87, 931.55)</td>\n",
       "      <td>1.0</td>\n",
       "    </tr>\n",
       "    <tr>\n",
       "      <th>2</th>\n",
       "      <td>Регион 3</td>\n",
       "      <td>435.008363</td>\n",
       "      <td>(-128.88, 969.71)</td>\n",
       "      <td>6.4</td>\n",
       "    </tr>\n",
       "  </tbody>\n",
       "</table>\n",
       "</div>"
      ],
      "text/plain": [
       "     Регион  Средняя прибыль, млн. рублей Доверительный интервал, млн. рублей  \\\n",
       "0  Регион 1                    426.066131                   (-102.09, 947.98)   \n",
       "1  Регион 2                    515.222773                     (68.87, 931.55)   \n",
       "2  Регион 3                    435.008363                   (-128.88, 969.71)   \n",
       "\n",
       "   Риск, %  \n",
       "0      6.0  \n",
       "1      1.0  \n",
       "2      6.4  "
      ]
     },
     "execution_count": 25,
     "metadata": {},
     "output_type": "execute_result"
    }
   ],
   "source": [
    "results"
   ]
  },
  {
   "cell_type": "markdown",
   "metadata": {},
   "source": [
    "### Обсуждение результатов"
   ]
  },
  {
   "cell_type": "markdown",
   "metadata": {},
   "source": [
    "По результатам бутстрапа самым прибыльным оказался второй регион - средняя прибыль среди всех регионов самая высокая, самый узкий доверительный интервал, риск минимален - всего 1,0%. Для разработки предпочтительней выбрать именно его.  \n",
    "\n",
    "На втором месте по средней прибыли расположился третий регион, но из-за большой дисперсии таргета доверительный интервал захватывает отрицательные значения плюс у него самые высокие шансы риска. Данный регион не рекомендуется к разработке.\n",
    "\n",
    "Самая маленькая средняя прибыль в первом регионе, риски также высокие - 6%. Нижний порог доверительного интервала попадает в отрицательную зону. Первый регион также не рекомендуется к разработке."
   ]
  },
  {
   "cell_type": "markdown",
   "metadata": {},
   "source": [
    "## Выводы"
   ]
  },
  {
   "cell_type": "markdown",
   "metadata": {},
   "source": [
    "На основании данных о трех регионах для каждого были построены и обучены три модели линейной регрессии - непосредственно линейная регрессия, ридж-регрессия и лассо-регрессия. По среднеквадратичной ошибке модели для каждого региона была выбрана лучшая, ее предсказания были сохранены.  \n",
    "\n",
    "Для расчета прибыли была написана функция, средняя прибыль, доверительный интервал и вероятность убытков каждого региона была посчитана используя технику бутстрап на 1000 выборках.  \n",
    "\n",
    "Используя рассчитанные меры тенденции был выбран регион для разработки"
   ]
  }
 ],
 "metadata": {
  "ExecuteTimeLog": [
   {
    "duration": 1484,
    "start_time": "2021-12-08T13:18:16.973Z"
   },
   {
    "duration": 483,
    "start_time": "2021-12-08T13:19:03.099Z"
   },
   {
    "duration": 21,
    "start_time": "2021-12-08T13:23:25.460Z"
   },
   {
    "duration": 16,
    "start_time": "2021-12-08T13:23:45.793Z"
   },
   {
    "duration": 53,
    "start_time": "2021-12-08T13:24:09.752Z"
   },
   {
    "duration": 480,
    "start_time": "2021-12-08T13:35:21.194Z"
   },
   {
    "duration": 589,
    "start_time": "2021-12-08T13:35:39.513Z"
   },
   {
    "duration": 5,
    "start_time": "2021-12-08T13:38:03.295Z"
   },
   {
    "duration": 533,
    "start_time": "2021-12-08T13:43:42.684Z"
   },
   {
    "duration": 13,
    "start_time": "2021-12-08T13:43:45.169Z"
   },
   {
    "duration": 473,
    "start_time": "2021-12-08T13:45:01.643Z"
   },
   {
    "duration": 53,
    "start_time": "2021-12-08T13:45:21.155Z"
   },
   {
    "duration": 489,
    "start_time": "2021-12-08T13:45:25.945Z"
   },
   {
    "duration": 14,
    "start_time": "2021-12-08T13:48:52.611Z"
   },
   {
    "duration": 50,
    "start_time": "2021-12-08T13:49:03.534Z"
   },
   {
    "duration": 511,
    "start_time": "2021-12-08T13:49:20.688Z"
   },
   {
    "duration": 13,
    "start_time": "2021-12-08T13:56:31.200Z"
   },
   {
    "duration": 13,
    "start_time": "2021-12-08T13:56:33.327Z"
   },
   {
    "duration": 14,
    "start_time": "2021-12-08T13:56:37.124Z"
   },
   {
    "duration": 49,
    "start_time": "2021-12-08T13:56:45.421Z"
   },
   {
    "duration": 527,
    "start_time": "2021-12-08T13:57:12.504Z"
   },
   {
    "duration": 71,
    "start_time": "2021-12-08T14:15:11.391Z"
   },
   {
    "duration": 71,
    "start_time": "2021-12-08T14:15:30.191Z"
   },
   {
    "duration": 69,
    "start_time": "2021-12-08T14:15:36.764Z"
   },
   {
    "duration": 3018,
    "start_time": "2021-12-08T14:16:04.887Z"
   },
   {
    "duration": 12,
    "start_time": "2021-12-08T14:16:07.908Z"
   },
   {
    "duration": 98,
    "start_time": "2021-12-08T14:16:19.617Z"
   },
   {
    "duration": 21,
    "start_time": "2021-12-08T14:17:00.662Z"
   },
   {
    "duration": 88,
    "start_time": "2021-12-08T14:17:18.381Z"
   },
   {
    "duration": 95,
    "start_time": "2021-12-08T14:17:24.850Z"
   },
   {
    "duration": 24,
    "start_time": "2021-12-08T14:37:00.486Z"
   },
   {
    "duration": 27,
    "start_time": "2021-12-08T14:37:07.474Z"
   },
   {
    "duration": 531,
    "start_time": "2021-12-08T14:41:38.286Z"
   },
   {
    "duration": 19,
    "start_time": "2021-12-08T14:41:50.191Z"
   },
   {
    "duration": 111,
    "start_time": "2021-12-08T14:42:03.819Z"
   },
   {
    "duration": 328,
    "start_time": "2021-12-08T14:42:19.769Z"
   },
   {
    "duration": 20,
    "start_time": "2021-12-08T14:42:23.159Z"
   },
   {
    "duration": 1826,
    "start_time": "2021-12-08T17:27:23.353Z"
   },
   {
    "duration": 795,
    "start_time": "2021-12-08T17:27:25.183Z"
   },
   {
    "duration": 22,
    "start_time": "2021-12-08T17:27:25.982Z"
   },
   {
    "duration": 79,
    "start_time": "2021-12-08T17:27:26.007Z"
   },
   {
    "duration": 540,
    "start_time": "2021-12-08T17:27:26.089Z"
   },
   {
    "duration": 13,
    "start_time": "2021-12-08T17:27:26.632Z"
   },
   {
    "duration": 51,
    "start_time": "2021-12-08T17:27:26.668Z"
   },
   {
    "duration": 469,
    "start_time": "2021-12-08T17:27:26.723Z"
   },
   {
    "duration": 13,
    "start_time": "2021-12-08T17:27:27.195Z"
   },
   {
    "duration": 80,
    "start_time": "2021-12-08T17:27:27.211Z"
   },
   {
    "duration": 519,
    "start_time": "2021-12-08T17:27:27.294Z"
   },
   {
    "duration": 102,
    "start_time": "2021-12-08T17:39:09.414Z"
   },
   {
    "duration": 7,
    "start_time": "2021-12-08T17:40:32.686Z"
   },
   {
    "duration": 15,
    "start_time": "2021-12-08T17:40:36.541Z"
   },
   {
    "duration": 43,
    "start_time": "2021-12-08T17:42:05.879Z"
   },
   {
    "duration": 478,
    "start_time": "2021-12-08T17:42:28.758Z"
   },
   {
    "duration": 5,
    "start_time": "2021-12-08T17:42:33.142Z"
   },
   {
    "duration": 14,
    "start_time": "2021-12-08T17:43:16.926Z"
   },
   {
    "duration": 7,
    "start_time": "2021-12-08T17:43:53.550Z"
   },
   {
    "duration": 264,
    "start_time": "2021-12-08T17:44:02.839Z"
   },
   {
    "duration": 7,
    "start_time": "2021-12-08T17:44:12.474Z"
   },
   {
    "duration": 31,
    "start_time": "2021-12-08T17:45:37.254Z"
   },
   {
    "duration": 5,
    "start_time": "2021-12-08T17:45:39.014Z"
   },
   {
    "duration": 13,
    "start_time": "2021-12-08T17:45:39.845Z"
   },
   {
    "duration": 4,
    "start_time": "2021-12-08T17:46:02.158Z"
   },
   {
    "duration": 6,
    "start_time": "2021-12-08T17:46:17.879Z"
   },
   {
    "duration": 18,
    "start_time": "2021-12-08T17:46:36.023Z"
   },
   {
    "duration": 4,
    "start_time": "2021-12-08T17:47:26.400Z"
   },
   {
    "duration": 12,
    "start_time": "2021-12-08T17:47:30.830Z"
   },
   {
    "duration": 14,
    "start_time": "2021-12-08T17:47:32.046Z"
   },
   {
    "duration": 6,
    "start_time": "2021-12-08T17:52:06.056Z"
   },
   {
    "duration": 284,
    "start_time": "2021-12-08T17:53:57.423Z"
   },
   {
    "duration": 12,
    "start_time": "2021-12-08T17:54:22.254Z"
   },
   {
    "duration": 12,
    "start_time": "2021-12-08T17:55:42.821Z"
   },
   {
    "duration": 5,
    "start_time": "2021-12-08T17:58:57.175Z"
   },
   {
    "duration": 5,
    "start_time": "2021-12-08T18:01:17.718Z"
   },
   {
    "duration": 284,
    "start_time": "2021-12-08T18:01:45.582Z"
   },
   {
    "duration": 621,
    "start_time": "2021-12-08T18:01:57.662Z"
   },
   {
    "duration": 24,
    "start_time": "2021-12-08T18:02:37.264Z"
   },
   {
    "duration": 4,
    "start_time": "2021-12-08T18:02:38.098Z"
   },
   {
    "duration": 14,
    "start_time": "2021-12-08T18:02:38.582Z"
   },
   {
    "duration": 5,
    "start_time": "2021-12-08T18:02:38.966Z"
   },
   {
    "duration": 13,
    "start_time": "2021-12-08T18:02:39.327Z"
   },
   {
    "duration": 13,
    "start_time": "2021-12-08T18:02:40.103Z"
   },
   {
    "duration": 5,
    "start_time": "2021-12-08T18:02:57.502Z"
   },
   {
    "duration": 1032,
    "start_time": "2021-12-08T18:02:59.942Z"
   },
   {
    "duration": 273,
    "start_time": "2021-12-08T18:03:17.797Z"
   },
   {
    "duration": 4,
    "start_time": "2021-12-08T18:04:10.311Z"
   },
   {
    "duration": 584,
    "start_time": "2021-12-08T18:04:11.782Z"
   },
   {
    "duration": 4,
    "start_time": "2021-12-08T18:06:06.494Z"
   },
   {
    "duration": 11,
    "start_time": "2021-12-08T18:06:09.893Z"
   },
   {
    "duration": 564,
    "start_time": "2021-12-08T18:06:11.587Z"
   },
   {
    "duration": 280,
    "start_time": "2021-12-08T18:06:24.541Z"
   },
   {
    "duration": 5,
    "start_time": "2021-12-08T18:07:05.838Z"
   },
   {
    "duration": 337,
    "start_time": "2021-12-08T18:07:07.437Z"
   },
   {
    "duration": 5,
    "start_time": "2021-12-08T18:07:56.461Z"
   },
   {
    "duration": 553,
    "start_time": "2021-12-08T18:07:58.480Z"
   },
   {
    "duration": 7,
    "start_time": "2021-12-08T18:09:00.294Z"
   },
   {
    "duration": 27,
    "start_time": "2021-12-08T18:09:00.613Z"
   },
   {
    "duration": 5,
    "start_time": "2021-12-08T18:09:00.854Z"
   },
   {
    "duration": 12,
    "start_time": "2021-12-08T18:09:01.230Z"
   },
   {
    "duration": 4,
    "start_time": "2021-12-08T18:09:01.558Z"
   },
   {
    "duration": 13,
    "start_time": "2021-12-08T18:09:01.885Z"
   },
   {
    "duration": 14,
    "start_time": "2021-12-08T18:09:02.310Z"
   },
   {
    "duration": 11,
    "start_time": "2021-12-08T18:09:04.676Z"
   },
   {
    "duration": 5,
    "start_time": "2021-12-08T18:10:56.295Z"
   },
   {
    "duration": 273,
    "start_time": "2021-12-08T18:12:01.406Z"
   },
   {
    "duration": 10,
    "start_time": "2021-12-08T18:13:12.141Z"
   },
   {
    "duration": 5,
    "start_time": "2021-12-08T18:13:16.694Z"
   },
   {
    "duration": 7,
    "start_time": "2021-12-08T18:14:31.469Z"
   },
   {
    "duration": 5,
    "start_time": "2021-12-08T18:15:03.889Z"
   },
   {
    "duration": 4,
    "start_time": "2021-12-08T18:18:25.021Z"
   },
   {
    "duration": 6,
    "start_time": "2021-12-08T18:18:40.974Z"
   },
   {
    "duration": 5,
    "start_time": "2021-12-08T18:33:22.732Z"
   },
   {
    "duration": 13,
    "start_time": "2021-12-08T18:33:54.236Z"
   },
   {
    "duration": 5,
    "start_time": "2021-12-08T18:34:03.549Z"
   },
   {
    "duration": 6,
    "start_time": "2021-12-08T18:34:04.028Z"
   },
   {
    "duration": 7,
    "start_time": "2021-12-08T18:34:04.460Z"
   },
   {
    "duration": 19,
    "start_time": "2021-12-08T18:34:36.101Z"
   },
   {
    "duration": 15,
    "start_time": "2021-12-08T18:34:59.005Z"
   },
   {
    "duration": 7,
    "start_time": "2021-12-08T18:35:07.957Z"
   },
   {
    "duration": 9,
    "start_time": "2021-12-08T18:35:26.540Z"
   },
   {
    "duration": 14,
    "start_time": "2021-12-08T18:35:27.182Z"
   },
   {
    "duration": 6,
    "start_time": "2021-12-08T18:35:27.533Z"
   },
   {
    "duration": 282,
    "start_time": "2021-12-08T18:36:44.036Z"
   },
   {
    "duration": 3866,
    "start_time": "2021-12-08T18:36:58.709Z"
   },
   {
    "duration": 280,
    "start_time": "2021-12-08T18:37:30.085Z"
   },
   {
    "duration": 3893,
    "start_time": "2021-12-08T18:38:13.684Z"
   },
   {
    "duration": 301,
    "start_time": "2021-12-08T18:38:30.237Z"
   },
   {
    "duration": 413,
    "start_time": "2021-12-08T18:38:36.836Z"
   },
   {
    "duration": 3659,
    "start_time": "2021-12-08T18:38:48.813Z"
   },
   {
    "duration": 5,
    "start_time": "2021-12-08T18:39:13.956Z"
   },
   {
    "duration": 8,
    "start_time": "2021-12-08T18:39:33.220Z"
   },
   {
    "duration": 10,
    "start_time": "2021-12-08T18:39:33.885Z"
   },
   {
    "duration": 5,
    "start_time": "2021-12-08T18:39:34.301Z"
   },
   {
    "duration": 17,
    "start_time": "2021-12-08T18:41:07.940Z"
   },
   {
    "duration": 3810,
    "start_time": "2021-12-08T18:41:54.764Z"
   },
   {
    "duration": 15,
    "start_time": "2021-12-08T18:42:06.356Z"
   },
   {
    "duration": 5,
    "start_time": "2021-12-08T18:43:54.643Z"
   },
   {
    "duration": 7,
    "start_time": "2021-12-08T18:44:11.551Z"
   },
   {
    "duration": 14,
    "start_time": "2021-12-08T18:44:47.757Z"
   },
   {
    "duration": 6,
    "start_time": "2021-12-08T18:45:00.373Z"
   },
   {
    "duration": 4,
    "start_time": "2021-12-08T18:47:41.764Z"
   },
   {
    "duration": 6,
    "start_time": "2021-12-08T18:47:43.780Z"
   },
   {
    "duration": 4,
    "start_time": "2021-12-09T08:46:46.070Z"
   },
   {
    "duration": 213,
    "start_time": "2021-12-09T08:47:19.514Z"
   },
   {
    "duration": 1046,
    "start_time": "2021-12-09T08:47:29.435Z"
   },
   {
    "duration": 3,
    "start_time": "2021-12-09T08:47:30.482Z"
   },
   {
    "duration": 430,
    "start_time": "2021-12-09T08:47:30.487Z"
   },
   {
    "duration": 12,
    "start_time": "2021-12-09T08:47:30.919Z"
   },
   {
    "duration": 48,
    "start_time": "2021-12-09T08:47:30.933Z"
   },
   {
    "duration": 349,
    "start_time": "2021-12-09T08:47:30.983Z"
   },
   {
    "duration": 8,
    "start_time": "2021-12-09T08:47:31.333Z"
   },
   {
    "duration": 52,
    "start_time": "2021-12-09T08:47:31.343Z"
   },
   {
    "duration": 329,
    "start_time": "2021-12-09T08:47:31.397Z"
   },
   {
    "duration": 8,
    "start_time": "2021-12-09T08:47:31.727Z"
   },
   {
    "duration": 36,
    "start_time": "2021-12-09T08:47:31.736Z"
   },
   {
    "duration": 353,
    "start_time": "2021-12-09T08:47:31.774Z"
   },
   {
    "duration": 4,
    "start_time": "2021-12-09T08:47:37.905Z"
   },
   {
    "duration": 46,
    "start_time": "2021-12-09T08:47:39.484Z"
   },
   {
    "duration": 8,
    "start_time": "2021-12-09T08:47:43.492Z"
   },
   {
    "duration": 4,
    "start_time": "2021-12-09T08:47:44.516Z"
   },
   {
    "duration": 3,
    "start_time": "2021-12-09T08:47:45.068Z"
   },
   {
    "duration": 10,
    "start_time": "2021-12-09T08:47:45.844Z"
   },
   {
    "duration": 3,
    "start_time": "2021-12-09T08:53:49.562Z"
   },
   {
    "duration": 28,
    "start_time": "2021-12-09T08:53:51.013Z"
   },
   {
    "duration": 9,
    "start_time": "2021-12-09T08:53:54.392Z"
   },
   {
    "duration": 11,
    "start_time": "2021-12-09T08:53:54.821Z"
   },
   {
    "duration": 3,
    "start_time": "2021-12-09T08:53:56.511Z"
   },
   {
    "duration": 9,
    "start_time": "2021-12-09T08:53:58.158Z"
   },
   {
    "duration": 3,
    "start_time": "2021-12-09T08:54:15.284Z"
   },
   {
    "duration": 37,
    "start_time": "2021-12-09T08:54:15.781Z"
   },
   {
    "duration": 8,
    "start_time": "2021-12-09T08:54:18.333Z"
   },
   {
    "duration": 5,
    "start_time": "2021-12-09T08:54:18.781Z"
   },
   {
    "duration": 3,
    "start_time": "2021-12-09T08:54:20.470Z"
   },
   {
    "duration": 8,
    "start_time": "2021-12-09T08:54:21.317Z"
   },
   {
    "duration": 3,
    "start_time": "2021-12-09T08:55:58.950Z"
   },
   {
    "duration": 25,
    "start_time": "2021-12-09T08:55:59.302Z"
   },
   {
    "duration": 9,
    "start_time": "2021-12-09T08:55:59.924Z"
   },
   {
    "duration": 4,
    "start_time": "2021-12-09T08:56:00.224Z"
   },
   {
    "duration": 3,
    "start_time": "2021-12-09T08:56:00.618Z"
   },
   {
    "duration": 9,
    "start_time": "2021-12-09T08:56:01.149Z"
   },
   {
    "duration": 3,
    "start_time": "2021-12-09T08:58:28.765Z"
   },
   {
    "duration": 4,
    "start_time": "2021-12-09T08:59:18.150Z"
   },
   {
    "duration": 5,
    "start_time": "2021-12-09T08:59:18.682Z"
   },
   {
    "duration": 4,
    "start_time": "2021-12-09T09:00:24.230Z"
   },
   {
    "duration": 516,
    "start_time": "2021-12-09T09:01:43.680Z"
   },
   {
    "duration": 15,
    "start_time": "2021-12-09T09:01:46.793Z"
   },
   {
    "duration": 7,
    "start_time": "2021-12-09T09:01:47.713Z"
   },
   {
    "duration": 6,
    "start_time": "2021-12-09T09:02:15.479Z"
   },
   {
    "duration": 6,
    "start_time": "2021-12-09T09:02:16.385Z"
   },
   {
    "duration": 5,
    "start_time": "2021-12-09T09:02:17.220Z"
   },
   {
    "duration": 3,
    "start_time": "2021-12-09T09:12:30.616Z"
   },
   {
    "duration": 3,
    "start_time": "2021-12-09T09:12:42.005Z"
   },
   {
    "duration": 4,
    "start_time": "2021-12-09T09:13:13.041Z"
   },
   {
    "duration": 177,
    "start_time": "2021-12-09T09:14:03.972Z"
   },
   {
    "duration": 3,
    "start_time": "2021-12-09T09:15:01.838Z"
   },
   {
    "duration": 243,
    "start_time": "2021-12-09T09:15:15.735Z"
   },
   {
    "duration": 877,
    "start_time": "2021-12-09T09:15:39.673Z"
   },
   {
    "duration": 2,
    "start_time": "2021-12-09T09:15:43.133Z"
   },
   {
    "duration": 4680,
    "start_time": "2021-12-09T09:15:43.627Z"
   },
   {
    "duration": 3308,
    "start_time": "2021-12-09T09:16:04.884Z"
   },
   {
    "duration": 224,
    "start_time": "2021-12-09T09:17:07.533Z"
   },
   {
    "duration": 12,
    "start_time": "2021-12-09T09:17:11.689Z"
   },
   {
    "duration": 4,
    "start_time": "2021-12-09T09:24:19.420Z"
   },
   {
    "duration": 4,
    "start_time": "2021-12-09T09:24:26.041Z"
   },
   {
    "duration": 477,
    "start_time": "2021-12-09T09:24:48.221Z"
   },
   {
    "duration": 59,
    "start_time": "2021-12-09T09:25:01.386Z"
   },
   {
    "duration": 3,
    "start_time": "2021-12-09T09:25:06.339Z"
   },
   {
    "duration": 414,
    "start_time": "2021-12-09T09:25:07.184Z"
   },
   {
    "duration": 15,
    "start_time": "2021-12-09T09:25:30.978Z"
   },
   {
    "duration": 7,
    "start_time": "2021-12-09T09:25:31.780Z"
   },
   {
    "duration": 4,
    "start_time": "2021-12-09T09:25:33.724Z"
   },
   {
    "duration": 278,
    "start_time": "2021-12-09T09:25:34.220Z"
   },
   {
    "duration": 15,
    "start_time": "2021-12-09T09:25:41.169Z"
   },
   {
    "duration": 346,
    "start_time": "2021-12-09T09:25:52.847Z"
   },
   {
    "duration": 845,
    "start_time": "2021-12-09T09:26:15.448Z"
   },
   {
    "duration": 4,
    "start_time": "2021-12-09T10:35:10.004Z"
   },
   {
    "duration": 1021,
    "start_time": "2021-12-09T10:35:11.591Z"
   },
   {
    "duration": 177,
    "start_time": "2021-12-09T10:35:33.282Z"
   },
   {
    "duration": 174,
    "start_time": "2021-12-09T10:35:36.130Z"
   },
   {
    "duration": 163,
    "start_time": "2021-12-09T10:35:46.663Z"
   },
   {
    "duration": 219,
    "start_time": "2021-12-09T10:36:20.191Z"
   },
   {
    "duration": 163,
    "start_time": "2021-12-09T10:36:23.636Z"
   },
   {
    "duration": 178,
    "start_time": "2021-12-09T10:36:27.461Z"
   },
   {
    "duration": 180,
    "start_time": "2021-12-09T10:36:44.628Z"
   },
   {
    "duration": 4,
    "start_time": "2021-12-09T10:38:05.694Z"
   },
   {
    "duration": 692,
    "start_time": "2021-12-09T10:38:17.539Z"
   },
   {
    "duration": 4,
    "start_time": "2021-12-09T10:38:34.936Z"
   },
   {
    "duration": 1058,
    "start_time": "2021-12-09T10:38:35.660Z"
   },
   {
    "duration": 4,
    "start_time": "2021-12-09T10:38:55.561Z"
   },
   {
    "duration": 857,
    "start_time": "2021-12-09T10:38:56.140Z"
   },
   {
    "duration": 4,
    "start_time": "2021-12-09T10:39:06.279Z"
   },
   {
    "duration": 848,
    "start_time": "2021-12-09T10:39:06.652Z"
   },
   {
    "duration": 4,
    "start_time": "2021-12-09T10:39:17.600Z"
   },
   {
    "duration": 868,
    "start_time": "2021-12-09T10:39:17.929Z"
   },
   {
    "duration": 4,
    "start_time": "2021-12-09T10:39:23.373Z"
   },
   {
    "duration": 732,
    "start_time": "2021-12-09T10:39:26.066Z"
   },
   {
    "duration": 4,
    "start_time": "2021-12-09T10:39:38.692Z"
   },
   {
    "duration": 808,
    "start_time": "2021-12-09T10:39:39.090Z"
   },
   {
    "duration": 724,
    "start_time": "2021-12-09T10:39:49.674Z"
   },
   {
    "duration": 1777,
    "start_time": "2021-12-09T10:40:02.816Z"
   },
   {
    "duration": 3,
    "start_time": "2021-12-09T11:07:55.993Z"
   },
   {
    "duration": 26,
    "start_time": "2021-12-09T11:07:56.626Z"
   },
   {
    "duration": 17,
    "start_time": "2021-12-09T11:07:58.771Z"
   },
   {
    "duration": 9,
    "start_time": "2021-12-09T11:08:00.088Z"
   },
   {
    "duration": 4,
    "start_time": "2021-12-09T11:09:14.552Z"
   },
   {
    "duration": 10,
    "start_time": "2021-12-09T11:09:26.171Z"
   },
   {
    "duration": 6,
    "start_time": "2021-12-09T11:09:38.085Z"
   },
   {
    "duration": 5,
    "start_time": "2021-12-09T11:10:11.153Z"
   },
   {
    "duration": 32,
    "start_time": "2021-12-09T11:52:13.467Z"
   },
   {
    "duration": 18,
    "start_time": "2021-12-09T11:52:46.919Z"
   },
   {
    "duration": 12,
    "start_time": "2021-12-09T11:53:10.468Z"
   },
   {
    "duration": 40,
    "start_time": "2021-12-09T11:53:45.754Z"
   },
   {
    "duration": 6,
    "start_time": "2021-12-09T11:58:10.649Z"
   },
   {
    "duration": 10,
    "start_time": "2021-12-09T11:58:19.296Z"
   },
   {
    "duration": 5,
    "start_time": "2021-12-09T11:58:36.370Z"
   },
   {
    "duration": 5,
    "start_time": "2021-12-09T11:58:55.224Z"
   },
   {
    "duration": 6,
    "start_time": "2021-12-09T11:59:12.704Z"
   },
   {
    "duration": 364,
    "start_time": "2021-12-09T11:59:36.279Z"
   },
   {
    "duration": 6,
    "start_time": "2021-12-09T12:01:13.323Z"
   },
   {
    "duration": 4,
    "start_time": "2021-12-09T12:21:54.548Z"
   },
   {
    "duration": 3,
    "start_time": "2021-12-09T12:22:04.481Z"
   },
   {
    "duration": 35,
    "start_time": "2021-12-09T12:25:43.020Z"
   },
   {
    "duration": 16,
    "start_time": "2021-12-09T12:26:09.409Z"
   },
   {
    "duration": 8,
    "start_time": "2021-12-09T12:26:30.195Z"
   },
   {
    "duration": 9,
    "start_time": "2021-12-09T12:26:45.287Z"
   },
   {
    "duration": 8,
    "start_time": "2021-12-09T12:27:01.495Z"
   },
   {
    "duration": 5,
    "start_time": "2021-12-09T12:27:22.728Z"
   },
   {
    "duration": 178,
    "start_time": "2021-12-09T13:33:48.396Z"
   },
   {
    "duration": 53,
    "start_time": "2021-12-09T13:33:56.390Z"
   },
   {
    "duration": 53,
    "start_time": "2021-12-09T13:34:05.050Z"
   },
   {
    "duration": 3,
    "start_time": "2021-12-09T13:34:11.868Z"
   },
   {
    "duration": 3,
    "start_time": "2021-12-09T13:34:14.257Z"
   },
   {
    "duration": 180,
    "start_time": "2021-12-09T13:34:25.631Z"
   },
   {
    "duration": 4,
    "start_time": "2021-12-09T13:39:05.468Z"
   },
   {
    "duration": 6,
    "start_time": "2021-12-09T13:39:13.960Z"
   },
   {
    "duration": 6,
    "start_time": "2021-12-09T13:40:09.201Z"
   },
   {
    "duration": 6,
    "start_time": "2021-12-09T13:40:56.694Z"
   },
   {
    "duration": 7,
    "start_time": "2021-12-09T13:41:19.954Z"
   },
   {
    "duration": 6,
    "start_time": "2021-12-09T13:41:26.848Z"
   },
   {
    "duration": 6,
    "start_time": "2021-12-09T13:41:30.653Z"
   },
   {
    "duration": 5,
    "start_time": "2021-12-09T13:42:43.460Z"
   },
   {
    "duration": 7,
    "start_time": "2021-12-09T13:42:57.240Z"
   },
   {
    "duration": 5,
    "start_time": "2021-12-09T13:43:08.079Z"
   },
   {
    "duration": 5,
    "start_time": "2021-12-09T14:18:22.331Z"
   },
   {
    "duration": 6,
    "start_time": "2021-12-09T14:20:04.301Z"
   },
   {
    "duration": 6,
    "start_time": "2021-12-09T14:20:15.536Z"
   },
   {
    "duration": 6,
    "start_time": "2021-12-09T14:20:24.905Z"
   },
   {
    "duration": 6,
    "start_time": "2021-12-09T14:20:28.709Z"
   },
   {
    "duration": 1437,
    "start_time": "2021-12-10T11:31:37.781Z"
   },
   {
    "duration": 4,
    "start_time": "2021-12-10T11:31:39.223Z"
   },
   {
    "duration": 491,
    "start_time": "2021-12-10T11:31:39.232Z"
   },
   {
    "duration": 17,
    "start_time": "2021-12-10T11:31:39.725Z"
   },
   {
    "duration": 54,
    "start_time": "2021-12-10T11:31:39.744Z"
   },
   {
    "duration": 459,
    "start_time": "2021-12-10T11:31:39.800Z"
   },
   {
    "duration": 11,
    "start_time": "2021-12-10T11:31:40.262Z"
   },
   {
    "duration": 64,
    "start_time": "2021-12-10T11:31:40.275Z"
   },
   {
    "duration": 436,
    "start_time": "2021-12-10T11:31:40.342Z"
   },
   {
    "duration": 11,
    "start_time": "2021-12-10T11:31:40.780Z"
   },
   {
    "duration": 65,
    "start_time": "2021-12-10T11:31:40.793Z"
   },
   {
    "duration": 480,
    "start_time": "2021-12-10T11:31:40.860Z"
   },
   {
    "duration": 5,
    "start_time": "2021-12-10T11:31:41.342Z"
   },
   {
    "duration": 53,
    "start_time": "2021-12-10T11:31:41.349Z"
   },
   {
    "duration": 36,
    "start_time": "2021-12-10T11:31:41.404Z"
   },
   {
    "duration": 193,
    "start_time": "2021-12-10T11:31:41.443Z"
   },
   {
    "duration": 87,
    "start_time": "2021-12-10T11:31:41.639Z"
   },
   {
    "duration": 102,
    "start_time": "2021-12-10T11:31:41.729Z"
   },
   {
    "duration": 8,
    "start_time": "2021-12-10T11:31:41.833Z"
   },
   {
    "duration": 6,
    "start_time": "2021-12-10T11:31:41.843Z"
   },
   {
    "duration": 71,
    "start_time": "2021-12-10T11:31:41.852Z"
   },
   {
    "duration": 24,
    "start_time": "2021-12-10T11:31:41.928Z"
   },
   {
    "duration": 176,
    "start_time": "2021-12-10T11:31:41.955Z"
   },
   {
    "duration": 106,
    "start_time": "2021-12-10T11:31:42.223Z"
   },
   {
    "duration": 8,
    "start_time": "2021-12-10T11:31:42.331Z"
   },
   {
    "duration": 6,
    "start_time": "2021-12-10T11:31:42.342Z"
   },
   {
    "duration": 80,
    "start_time": "2021-12-10T11:31:42.350Z"
   },
   {
    "duration": 19,
    "start_time": "2021-12-10T11:31:42.432Z"
   },
   {
    "duration": 172,
    "start_time": "2021-12-10T11:31:42.454Z"
   },
   {
    "duration": 196,
    "start_time": "2021-12-10T11:31:42.629Z"
   },
   {
    "duration": 12,
    "start_time": "2021-12-10T11:31:42.827Z"
   },
   {
    "duration": 7,
    "start_time": "2021-12-10T11:31:42.841Z"
   },
   {
    "duration": 8,
    "start_time": "2021-12-10T11:31:42.851Z"
   },
   {
    "duration": 9,
    "start_time": "2021-12-10T11:31:42.861Z"
   },
   {
    "duration": 55,
    "start_time": "2021-12-10T11:31:42.872Z"
   },
   {
    "duration": 4,
    "start_time": "2021-12-10T11:39:44.063Z"
   },
   {
    "duration": 5,
    "start_time": "2021-12-10T11:39:58.213Z"
   },
   {
    "duration": 3,
    "start_time": "2021-12-10T11:49:00.548Z"
   },
   {
    "duration": 6,
    "start_time": "2021-12-10T11:50:21.283Z"
   },
   {
    "duration": 5,
    "start_time": "2021-12-10T11:50:25.066Z"
   },
   {
    "duration": 4,
    "start_time": "2021-12-10T11:51:35.585Z"
   },
   {
    "duration": 5,
    "start_time": "2021-12-10T11:53:23.111Z"
   },
   {
    "duration": 1335,
    "start_time": "2021-12-10T12:11:25.664Z"
   },
   {
    "duration": 3,
    "start_time": "2021-12-10T12:11:27.002Z"
   },
   {
    "duration": 425,
    "start_time": "2021-12-10T12:11:27.008Z"
   },
   {
    "duration": 17,
    "start_time": "2021-12-10T12:11:27.435Z"
   },
   {
    "duration": 54,
    "start_time": "2021-12-10T12:11:27.454Z"
   },
   {
    "duration": 442,
    "start_time": "2021-12-10T12:11:27.523Z"
   },
   {
    "duration": 13,
    "start_time": "2021-12-10T12:11:27.967Z"
   },
   {
    "duration": 75,
    "start_time": "2021-12-10T12:11:27.983Z"
   },
   {
    "duration": 462,
    "start_time": "2021-12-10T12:11:28.061Z"
   },
   {
    "duration": 13,
    "start_time": "2021-12-10T12:11:28.525Z"
   },
   {
    "duration": 52,
    "start_time": "2021-12-10T12:11:28.540Z"
   },
   {
    "duration": 482,
    "start_time": "2021-12-10T12:11:28.595Z"
   },
   {
    "duration": 4,
    "start_time": "2021-12-10T12:11:29.080Z"
   },
   {
    "duration": 38,
    "start_time": "2021-12-10T12:11:29.086Z"
   },
   {
    "duration": 22,
    "start_time": "2021-12-10T12:11:29.126Z"
   },
   {
    "duration": 104,
    "start_time": "2021-12-10T12:11:29.225Z"
   },
   {
    "duration": 190,
    "start_time": "2021-12-10T12:11:29.333Z"
   },
   {
    "duration": 11,
    "start_time": "2021-12-10T12:11:29.526Z"
   },
   {
    "duration": 13,
    "start_time": "2021-12-10T12:11:29.539Z"
   },
   {
    "duration": 20,
    "start_time": "2021-12-10T12:11:29.554Z"
   },
   {
    "duration": 26,
    "start_time": "2021-12-10T12:11:29.576Z"
   },
   {
    "duration": 38,
    "start_time": "2021-12-10T12:11:29.605Z"
   },
   {
    "duration": 197,
    "start_time": "2021-12-10T12:11:29.727Z"
   },
   {
    "duration": 109,
    "start_time": "2021-12-10T12:11:29.928Z"
   },
   {
    "duration": 9,
    "start_time": "2021-12-10T12:11:30.039Z"
   },
   {
    "duration": 9,
    "start_time": "2021-12-10T12:11:30.050Z"
   },
   {
    "duration": 22,
    "start_time": "2021-12-10T12:11:30.062Z"
   },
   {
    "duration": 61,
    "start_time": "2021-12-10T12:11:30.087Z"
   },
   {
    "duration": 199,
    "start_time": "2021-12-10T12:11:30.225Z"
   },
   {
    "duration": 97,
    "start_time": "2021-12-10T12:11:30.428Z"
   },
   {
    "duration": 32,
    "start_time": "2021-12-10T12:11:30.528Z"
   },
   {
    "duration": 8,
    "start_time": "2021-12-10T12:11:30.562Z"
   },
   {
    "duration": 12,
    "start_time": "2021-12-10T12:11:30.572Z"
   },
   {
    "duration": 19,
    "start_time": "2021-12-10T12:11:30.586Z"
   },
   {
    "duration": 23,
    "start_time": "2021-12-10T12:11:30.608Z"
   },
   {
    "duration": 13,
    "start_time": "2021-12-10T12:11:30.633Z"
   },
   {
    "duration": 9,
    "start_time": "2021-12-10T12:11:30.649Z"
   },
   {
    "duration": 12,
    "start_time": "2021-12-10T12:11:30.660Z"
   },
   {
    "duration": 4,
    "start_time": "2021-12-10T12:12:27.796Z"
   },
   {
    "duration": 483,
    "start_time": "2021-12-10T13:00:01.026Z"
   },
   {
    "duration": 283,
    "start_time": "2021-12-10T13:00:24.017Z"
   },
   {
    "duration": 285,
    "start_time": "2021-12-10T13:04:59.077Z"
   },
   {
    "duration": 6,
    "start_time": "2021-12-10T13:05:45.116Z"
   },
   {
    "duration": 7,
    "start_time": "2021-12-10T13:06:43.792Z"
   },
   {
    "duration": 5,
    "start_time": "2021-12-10T13:07:29.007Z"
   },
   {
    "duration": 6,
    "start_time": "2021-12-10T13:07:36.318Z"
   },
   {
    "duration": 258,
    "start_time": "2021-12-10T13:07:39.282Z"
   },
   {
    "duration": 6,
    "start_time": "2021-12-10T13:09:15.558Z"
   },
   {
    "duration": 8,
    "start_time": "2021-12-10T13:09:34.324Z"
   },
   {
    "duration": 10,
    "start_time": "2021-12-10T13:10:58.897Z"
   },
   {
    "duration": 13,
    "start_time": "2021-12-10T13:11:08.707Z"
   },
   {
    "duration": 122,
    "start_time": "2021-12-10T13:11:17.451Z"
   },
   {
    "duration": 8,
    "start_time": "2021-12-10T13:11:20.930Z"
   },
   {
    "duration": 8,
    "start_time": "2021-12-10T13:11:46.724Z"
   },
   {
    "duration": 1442,
    "start_time": "2021-12-10T13:11:58.865Z"
   },
   {
    "duration": 3,
    "start_time": "2021-12-10T13:12:00.310Z"
   },
   {
    "duration": 451,
    "start_time": "2021-12-10T13:12:00.316Z"
   },
   {
    "duration": 19,
    "start_time": "2021-12-10T13:12:00.770Z"
   },
   {
    "duration": 66,
    "start_time": "2021-12-10T13:12:00.792Z"
   },
   {
    "duration": 533,
    "start_time": "2021-12-10T13:12:00.861Z"
   },
   {
    "duration": 12,
    "start_time": "2021-12-10T13:12:01.397Z"
   },
   {
    "duration": 50,
    "start_time": "2021-12-10T13:12:01.424Z"
   },
   {
    "duration": 497,
    "start_time": "2021-12-10T13:12:01.477Z"
   },
   {
    "duration": 12,
    "start_time": "2021-12-10T13:12:01.976Z"
   },
   {
    "duration": 69,
    "start_time": "2021-12-10T13:12:01.991Z"
   },
   {
    "duration": 500,
    "start_time": "2021-12-10T13:12:02.063Z"
   },
   {
    "duration": 6,
    "start_time": "2021-12-10T13:12:02.566Z"
   },
   {
    "duration": 24,
    "start_time": "2021-12-10T13:12:02.576Z"
   },
   {
    "duration": 40,
    "start_time": "2021-12-10T13:12:02.602Z"
   },
   {
    "duration": 183,
    "start_time": "2021-12-10T13:12:02.645Z"
   },
   {
    "duration": 92,
    "start_time": "2021-12-10T13:12:02.831Z"
   },
   {
    "duration": 97,
    "start_time": "2021-12-10T13:12:02.926Z"
   },
   {
    "duration": 9,
    "start_time": "2021-12-10T13:12:03.026Z"
   },
   {
    "duration": 6,
    "start_time": "2021-12-10T13:12:03.038Z"
   },
   {
    "duration": 20,
    "start_time": "2021-12-10T13:12:03.047Z"
   },
   {
    "duration": 67,
    "start_time": "2021-12-10T13:12:03.069Z"
   },
   {
    "duration": 183,
    "start_time": "2021-12-10T13:12:03.144Z"
   },
   {
    "duration": 95,
    "start_time": "2021-12-10T13:12:03.331Z"
   },
   {
    "duration": 93,
    "start_time": "2021-12-10T13:12:03.431Z"
   },
   {
    "duration": 9,
    "start_time": "2021-12-10T13:12:03.527Z"
   },
   {
    "duration": 20,
    "start_time": "2021-12-10T13:12:03.538Z"
   },
   {
    "duration": 64,
    "start_time": "2021-12-10T13:12:03.560Z"
   },
   {
    "duration": 101,
    "start_time": "2021-12-10T13:12:03.628Z"
   },
   {
    "duration": 98,
    "start_time": "2021-12-10T13:12:03.733Z"
   },
   {
    "duration": 97,
    "start_time": "2021-12-10T13:12:03.834Z"
   },
   {
    "duration": 8,
    "start_time": "2021-12-10T13:12:03.934Z"
   },
   {
    "duration": 8,
    "start_time": "2021-12-10T13:12:03.945Z"
   },
   {
    "duration": 9,
    "start_time": "2021-12-10T13:12:03.956Z"
   },
   {
    "duration": 63,
    "start_time": "2021-12-10T13:12:03.967Z"
   },
   {
    "duration": 3,
    "start_time": "2021-12-10T13:12:04.033Z"
   },
   {
    "duration": 11,
    "start_time": "2021-12-10T13:12:04.039Z"
   },
   {
    "duration": 8,
    "start_time": "2021-12-10T13:12:04.052Z"
   },
   {
    "duration": 9,
    "start_time": "2021-12-10T13:12:04.062Z"
   },
   {
    "duration": 410,
    "start_time": "2021-12-10T13:12:04.073Z"
   },
   {
    "duration": 68,
    "start_time": "2021-12-10T13:12:04.418Z"
   },
   {
    "duration": 66,
    "start_time": "2021-12-10T13:12:04.422Z"
   },
   {
    "duration": 593,
    "start_time": "2021-12-10T13:12:58.269Z"
   },
   {
    "duration": 292,
    "start_time": "2021-12-10T13:14:37.534Z"
   },
   {
    "duration": 291,
    "start_time": "2021-12-10T13:14:55.527Z"
   },
   {
    "duration": 4,
    "start_time": "2021-12-10T13:14:59.671Z"
   },
   {
    "duration": 285,
    "start_time": "2021-12-10T13:15:03.090Z"
   },
   {
    "duration": 13,
    "start_time": "2021-12-10T13:15:12.390Z"
   },
   {
    "duration": 13,
    "start_time": "2021-12-10T13:15:15.663Z"
   },
   {
    "duration": 13,
    "start_time": "2021-12-10T13:16:12.213Z"
   },
   {
    "duration": 4,
    "start_time": "2021-12-10T13:16:19.553Z"
   },
   {
    "duration": 7,
    "start_time": "2021-12-10T13:16:19.560Z"
   },
   {
    "duration": 432,
    "start_time": "2021-12-10T13:16:19.570Z"
   },
   {
    "duration": 20,
    "start_time": "2021-12-10T13:16:20.005Z"
   },
   {
    "duration": 55,
    "start_time": "2021-12-10T13:16:20.028Z"
   },
   {
    "duration": 506,
    "start_time": "2021-12-10T13:16:20.086Z"
   },
   {
    "duration": 27,
    "start_time": "2021-12-10T13:16:20.596Z"
   },
   {
    "duration": 47,
    "start_time": "2021-12-10T13:16:20.625Z"
   },
   {
    "duration": 504,
    "start_time": "2021-12-10T13:16:20.674Z"
   },
   {
    "duration": 13,
    "start_time": "2021-12-10T13:16:21.180Z"
   },
   {
    "duration": 69,
    "start_time": "2021-12-10T13:16:21.195Z"
   },
   {
    "duration": 503,
    "start_time": "2021-12-10T13:16:21.266Z"
   },
   {
    "duration": 4,
    "start_time": "2021-12-10T13:16:21.772Z"
   },
   {
    "duration": 20,
    "start_time": "2021-12-10T13:16:21.779Z"
   },
   {
    "duration": 7,
    "start_time": "2021-12-10T13:16:22.538Z"
   },
   {
    "duration": 4,
    "start_time": "2021-12-10T13:16:38.353Z"
   },
   {
    "duration": 7,
    "start_time": "2021-12-10T13:16:44.909Z"
   },
   {
    "duration": 4,
    "start_time": "2021-12-10T13:17:03.283Z"
   },
   {
    "duration": 8,
    "start_time": "2021-12-10T13:17:07.364Z"
   },
   {
    "duration": 1498,
    "start_time": "2021-12-10T13:17:23.925Z"
   },
   {
    "duration": 3,
    "start_time": "2021-12-10T13:17:25.426Z"
   },
   {
    "duration": 437,
    "start_time": "2021-12-10T13:17:25.432Z"
   },
   {
    "duration": 18,
    "start_time": "2021-12-10T13:17:25.872Z"
   },
   {
    "duration": 62,
    "start_time": "2021-12-10T13:17:25.892Z"
   },
   {
    "duration": 493,
    "start_time": "2021-12-10T13:17:25.957Z"
   },
   {
    "duration": 13,
    "start_time": "2021-12-10T13:17:26.452Z"
   },
   {
    "duration": 72,
    "start_time": "2021-12-10T13:17:26.468Z"
   },
   {
    "duration": 442,
    "start_time": "2021-12-10T13:17:26.543Z"
   },
   {
    "duration": 12,
    "start_time": "2021-12-10T13:17:26.987Z"
   },
   {
    "duration": 60,
    "start_time": "2021-12-10T13:17:27.001Z"
   },
   {
    "duration": 507,
    "start_time": "2021-12-10T13:17:27.064Z"
   },
   {
    "duration": 5,
    "start_time": "2021-12-10T13:17:27.573Z"
   },
   {
    "duration": 19,
    "start_time": "2021-12-10T13:17:27.581Z"
   },
   {
    "duration": 43,
    "start_time": "2021-12-10T13:17:27.603Z"
   },
   {
    "duration": 102,
    "start_time": "2021-12-10T13:17:27.725Z"
   },
   {
    "duration": 92,
    "start_time": "2021-12-10T13:17:27.832Z"
   },
   {
    "duration": 100,
    "start_time": "2021-12-10T13:17:27.928Z"
   },
   {
    "duration": 7,
    "start_time": "2021-12-10T13:17:28.031Z"
   },
   {
    "duration": 9,
    "start_time": "2021-12-10T13:17:28.040Z"
   },
   {
    "duration": 19,
    "start_time": "2021-12-10T13:17:28.051Z"
   },
   {
    "duration": 67,
    "start_time": "2021-12-10T13:17:28.073Z"
   },
   {
    "duration": 102,
    "start_time": "2021-12-10T13:17:28.230Z"
   },
   {
    "duration": 96,
    "start_time": "2021-12-10T13:17:28.336Z"
   },
   {
    "duration": 11,
    "start_time": "2021-12-10T13:17:28.524Z"
   },
   {
    "duration": 7,
    "start_time": "2021-12-10T13:17:28.538Z"
   },
   {
    "duration": 18,
    "start_time": "2021-12-10T13:17:28.547Z"
   },
   {
    "duration": 64,
    "start_time": "2021-12-10T13:17:28.568Z"
   },
   {
    "duration": 105,
    "start_time": "2021-12-10T13:17:28.725Z"
   },
   {
    "duration": 11,
    "start_time": "2021-12-10T13:17:28.924Z"
   },
   {
    "duration": 11,
    "start_time": "2021-12-10T13:17:29.025Z"
   },
   {
    "duration": 7,
    "start_time": "2021-12-10T13:17:29.039Z"
   },
   {
    "duration": 11,
    "start_time": "2021-12-10T13:17:29.049Z"
   },
   {
    "duration": 8,
    "start_time": "2021-12-10T13:17:29.063Z"
   },
   {
    "duration": 53,
    "start_time": "2021-12-10T13:17:29.074Z"
   },
   {
    "duration": 6,
    "start_time": "2021-12-10T13:17:29.130Z"
   },
   {
    "duration": 8,
    "start_time": "2021-12-10T13:17:29.139Z"
   },
   {
    "duration": 6,
    "start_time": "2021-12-10T13:17:29.150Z"
   },
   {
    "duration": 7,
    "start_time": "2021-12-10T13:17:29.159Z"
   },
   {
    "duration": 58,
    "start_time": "2021-12-10T13:17:29.169Z"
   },
   {
    "duration": 1178,
    "start_time": "2021-12-10T13:17:29.229Z"
   },
   {
    "duration": 71,
    "start_time": "2021-12-10T13:17:30.339Z"
   },
   {
    "duration": 69,
    "start_time": "2021-12-10T13:17:30.342Z"
   },
   {
    "duration": 4,
    "start_time": "2021-12-10T13:43:23.161Z"
   },
   {
    "duration": 7,
    "start_time": "2021-12-10T13:43:27.626Z"
   },
   {
    "duration": 357,
    "start_time": "2021-12-10T13:43:32.617Z"
   },
   {
    "duration": 12,
    "start_time": "2021-12-10T13:43:38.541Z"
   },
   {
    "duration": 5,
    "start_time": "2021-12-10T13:44:03.224Z"
   },
   {
    "duration": 638,
    "start_time": "2021-12-10T13:44:05.036Z"
   },
   {
    "duration": 767,
    "start_time": "2021-12-10T13:44:15.093Z"
   },
   {
    "duration": 4,
    "start_time": "2021-12-10T13:44:36.294Z"
   },
   {
    "duration": 3752,
    "start_time": "2021-12-10T13:44:38.333Z"
   },
   {
    "duration": 8,
    "start_time": "2021-12-10T13:44:47.905Z"
   },
   {
    "duration": 4016,
    "start_time": "2021-12-10T13:47:43.641Z"
   },
   {
    "duration": 3965,
    "start_time": "2021-12-10T13:48:10.088Z"
   },
   {
    "duration": 3812,
    "start_time": "2021-12-10T13:48:33.347Z"
   },
   {
    "duration": 8,
    "start_time": "2021-12-10T13:48:55.384Z"
   },
   {
    "duration": 6,
    "start_time": "2021-12-10T13:49:06.338Z"
   },
   {
    "duration": 7,
    "start_time": "2021-12-10T13:49:12.021Z"
   },
   {
    "duration": 8,
    "start_time": "2021-12-10T13:49:18.522Z"
   },
   {
    "duration": 7,
    "start_time": "2021-12-10T13:49:23.296Z"
   },
   {
    "duration": 6,
    "start_time": "2021-12-10T13:49:27.927Z"
   },
   {
    "duration": 7,
    "start_time": "2021-12-10T13:49:30.763Z"
   },
   {
    "duration": 16,
    "start_time": "2021-12-10T13:50:40.222Z"
   },
   {
    "duration": 5,
    "start_time": "2021-12-10T13:54:45.229Z"
   },
   {
    "duration": 3771,
    "start_time": "2021-12-10T13:54:54.027Z"
   },
   {
    "duration": 3711,
    "start_time": "2021-12-10T13:54:59.720Z"
   },
   {
    "duration": 5,
    "start_time": "2021-12-10T13:55:03.434Z"
   },
   {
    "duration": 1349,
    "start_time": "2021-12-10T13:55:12.976Z"
   },
   {
    "duration": 4,
    "start_time": "2021-12-10T13:55:14.327Z"
   },
   {
    "duration": 433,
    "start_time": "2021-12-10T13:55:14.334Z"
   },
   {
    "duration": 18,
    "start_time": "2021-12-10T13:55:14.769Z"
   },
   {
    "duration": 57,
    "start_time": "2021-12-10T13:55:14.790Z"
   },
   {
    "duration": 466,
    "start_time": "2021-12-10T13:55:14.849Z"
   },
   {
    "duration": 16,
    "start_time": "2021-12-10T13:55:15.317Z"
   },
   {
    "duration": 47,
    "start_time": "2021-12-10T13:55:15.337Z"
   },
   {
    "duration": 469,
    "start_time": "2021-12-10T13:55:15.387Z"
   },
   {
    "duration": 12,
    "start_time": "2021-12-10T13:55:15.858Z"
   },
   {
    "duration": 67,
    "start_time": "2021-12-10T13:55:15.873Z"
   },
   {
    "duration": 442,
    "start_time": "2021-12-10T13:55:15.943Z"
   },
   {
    "duration": 5,
    "start_time": "2021-12-10T13:55:16.388Z"
   },
   {
    "duration": 38,
    "start_time": "2021-12-10T13:55:16.396Z"
   },
   {
    "duration": 23,
    "start_time": "2021-12-10T13:55:16.436Z"
   },
   {
    "duration": 108,
    "start_time": "2021-12-10T13:55:16.526Z"
   },
   {
    "duration": 94,
    "start_time": "2021-12-10T13:55:16.639Z"
   },
   {
    "duration": 96,
    "start_time": "2021-12-10T13:55:16.737Z"
   },
   {
    "duration": 8,
    "start_time": "2021-12-10T13:55:16.835Z"
   },
   {
    "duration": 8,
    "start_time": "2021-12-10T13:55:16.846Z"
   },
   {
    "duration": 19,
    "start_time": "2021-12-10T13:55:16.857Z"
   },
   {
    "duration": 69,
    "start_time": "2021-12-10T13:55:16.879Z"
   },
   {
    "duration": 100,
    "start_time": "2021-12-10T13:55:17.030Z"
   },
   {
    "duration": 197,
    "start_time": "2021-12-10T13:55:17.134Z"
   },
   {
    "duration": 7,
    "start_time": "2021-12-10T13:55:17.334Z"
   },
   {
    "duration": 11,
    "start_time": "2021-12-10T13:55:17.344Z"
   },
   {
    "duration": 19,
    "start_time": "2021-12-10T13:55:17.358Z"
   },
   {
    "duration": 153,
    "start_time": "2021-12-10T13:55:17.380Z"
   },
   {
    "duration": 188,
    "start_time": "2021-12-10T13:55:17.536Z"
   },
   {
    "duration": 99,
    "start_time": "2021-12-10T13:55:17.727Z"
   },
   {
    "duration": 8,
    "start_time": "2021-12-10T13:55:17.828Z"
   },
   {
    "duration": 7,
    "start_time": "2021-12-10T13:55:17.838Z"
   },
   {
    "duration": 8,
    "start_time": "2021-12-10T13:55:17.848Z"
   },
   {
    "duration": 8,
    "start_time": "2021-12-10T13:55:17.858Z"
   },
   {
    "duration": 59,
    "start_time": "2021-12-10T13:55:17.868Z"
   },
   {
    "duration": 4,
    "start_time": "2021-12-10T13:55:17.930Z"
   },
   {
    "duration": 8,
    "start_time": "2021-12-10T13:55:17.936Z"
   },
   {
    "duration": 9,
    "start_time": "2021-12-10T13:55:17.946Z"
   },
   {
    "duration": 5,
    "start_time": "2021-12-10T13:55:17.957Z"
   },
   {
    "duration": 59,
    "start_time": "2021-12-10T13:55:17.964Z"
   },
   {
    "duration": 7,
    "start_time": "2021-12-10T13:55:18.026Z"
   },
   {
    "duration": 3806,
    "start_time": "2021-12-10T13:55:18.035Z"
   },
   {
    "duration": 4,
    "start_time": "2021-12-10T13:55:21.843Z"
   },
   {
    "duration": 9,
    "start_time": "2021-12-10T13:55:21.850Z"
   },
   {
    "duration": 6,
    "start_time": "2021-12-10T13:55:21.862Z"
   },
   {
    "duration": 6,
    "start_time": "2021-12-10T13:55:45.150Z"
   },
   {
    "duration": 7,
    "start_time": "2021-12-10T13:55:50.604Z"
   },
   {
    "duration": 4,
    "start_time": "2021-12-10T13:57:49.957Z"
   },
   {
    "duration": 672,
    "start_time": "2021-12-10T13:57:53.386Z"
   },
   {
    "duration": 5,
    "start_time": "2021-12-10T13:58:12.233Z"
   },
   {
    "duration": 564,
    "start_time": "2021-12-10T13:58:13.055Z"
   },
   {
    "duration": 5,
    "start_time": "2021-12-10T13:58:34.918Z"
   },
   {
    "duration": 12,
    "start_time": "2021-12-10T13:58:36.876Z"
   },
   {
    "duration": 3995,
    "start_time": "2021-12-10T13:58:52.219Z"
   },
   {
    "duration": 6,
    "start_time": "2021-12-10T13:58:57.749Z"
   },
   {
    "duration": 7,
    "start_time": "2021-12-10T13:59:27.940Z"
   },
   {
    "duration": 11,
    "start_time": "2021-12-10T13:59:46.032Z"
   },
   {
    "duration": 11,
    "start_time": "2021-12-10T13:59:50.518Z"
   },
   {
    "duration": 11,
    "start_time": "2021-12-10T13:59:55.068Z"
   },
   {
    "duration": 4,
    "start_time": "2021-12-10T14:00:09.971Z"
   },
   {
    "duration": 13,
    "start_time": "2021-12-10T14:00:19.002Z"
   },
   {
    "duration": 11,
    "start_time": "2021-12-10T14:00:46.817Z"
   },
   {
    "duration": 288,
    "start_time": "2021-12-10T14:00:50.240Z"
   },
   {
    "duration": 3,
    "start_time": "2021-12-10T14:00:52.179Z"
   },
   {
    "duration": 12,
    "start_time": "2021-12-10T14:00:53.125Z"
   },
   {
    "duration": 5080,
    "start_time": "2021-12-10T14:01:13.221Z"
   },
   {
    "duration": 5,
    "start_time": "2021-12-10T14:01:19.643Z"
   },
   {
    "duration": 13,
    "start_time": "2021-12-10T14:04:14.162Z"
   },
   {
    "duration": 13,
    "start_time": "2021-12-10T14:04:26.473Z"
   },
   {
    "duration": 12,
    "start_time": "2021-12-10T14:04:43.974Z"
   },
   {
    "duration": 12,
    "start_time": "2021-12-10T14:04:54.225Z"
   },
   {
    "duration": 12,
    "start_time": "2021-12-10T14:05:02.388Z"
   },
   {
    "duration": 9,
    "start_time": "2021-12-10T14:05:09.071Z"
   },
   {
    "duration": 12,
    "start_time": "2021-12-10T14:05:11.779Z"
   },
   {
    "duration": 1529,
    "start_time": "2021-12-11T15:49:55.106Z"
   },
   {
    "duration": 3,
    "start_time": "2021-12-11T15:49:56.637Z"
   },
   {
    "duration": 456,
    "start_time": "2021-12-11T15:49:57.066Z"
   },
   {
    "duration": 115,
    "start_time": "2021-12-11T15:51:20.579Z"
   },
   {
    "duration": 4,
    "start_time": "2021-12-11T15:51:42.002Z"
   },
   {
    "duration": 435,
    "start_time": "2021-12-11T15:51:56.082Z"
   },
   {
    "duration": 19,
    "start_time": "2021-12-11T15:52:03.354Z"
   },
   {
    "duration": 471,
    "start_time": "2021-12-11T15:52:12.137Z"
   },
   {
    "duration": 4,
    "start_time": "2021-12-11T15:52:42.746Z"
   },
   {
    "duration": 16,
    "start_time": "2021-12-11T15:52:45.099Z"
   },
   {
    "duration": 4,
    "start_time": "2021-12-11T15:53:25.003Z"
   },
   {
    "duration": 17,
    "start_time": "2021-12-11T15:53:25.561Z"
   },
   {
    "duration": 4,
    "start_time": "2021-12-11T15:54:43.778Z"
   },
   {
    "duration": 17,
    "start_time": "2021-12-11T15:54:44.833Z"
   },
   {
    "duration": 94,
    "start_time": "2021-12-11T15:54:55.353Z"
   },
   {
    "duration": 4,
    "start_time": "2021-12-11T15:55:03.914Z"
   },
   {
    "duration": 4,
    "start_time": "2021-12-11T15:55:38.154Z"
   },
   {
    "duration": 18,
    "start_time": "2021-12-11T15:55:38.793Z"
   },
   {
    "duration": 4,
    "start_time": "2021-12-11T15:55:49.257Z"
   },
   {
    "duration": 20,
    "start_time": "2021-12-11T15:55:50.385Z"
   },
   {
    "duration": 4,
    "start_time": "2021-12-11T15:56:08.601Z"
   },
   {
    "duration": 18,
    "start_time": "2021-12-11T15:56:09.601Z"
   },
   {
    "duration": 4,
    "start_time": "2021-12-11T15:56:17.153Z"
   },
   {
    "duration": 20,
    "start_time": "2021-12-11T15:56:18.008Z"
   },
   {
    "duration": 4,
    "start_time": "2021-12-11T15:56:25.201Z"
   },
   {
    "duration": 17,
    "start_time": "2021-12-11T15:56:25.921Z"
   },
   {
    "duration": 4,
    "start_time": "2021-12-11T15:56:55.185Z"
   },
   {
    "duration": 20,
    "start_time": "2021-12-11T15:56:56.729Z"
   },
   {
    "duration": 5,
    "start_time": "2021-12-11T15:57:53.521Z"
   },
   {
    "duration": 144,
    "start_time": "2021-12-11T15:57:53.721Z"
   },
   {
    "duration": 5,
    "start_time": "2021-12-11T15:57:58.833Z"
   },
   {
    "duration": 139,
    "start_time": "2021-12-11T15:57:59.745Z"
   },
   {
    "duration": 6,
    "start_time": "2021-12-11T15:59:18.913Z"
   },
   {
    "duration": 143,
    "start_time": "2021-12-11T15:59:20.809Z"
   },
   {
    "duration": 4,
    "start_time": "2021-12-11T15:59:34.633Z"
   },
   {
    "duration": 142,
    "start_time": "2021-12-11T15:59:35.128Z"
   },
   {
    "duration": 109,
    "start_time": "2021-12-11T16:00:03.906Z"
   },
   {
    "duration": 152,
    "start_time": "2021-12-11T16:00:04.162Z"
   },
   {
    "duration": 866,
    "start_time": "2021-12-11T16:00:12.049Z"
   },
   {
    "duration": -24,
    "start_time": "2021-12-11T16:00:12.941Z"
   },
   {
    "duration": 97,
    "start_time": "2021-12-11T16:00:20.857Z"
   },
   {
    "duration": 5,
    "start_time": "2021-12-11T16:00:27.097Z"
   },
   {
    "duration": 144,
    "start_time": "2021-12-11T16:00:27.713Z"
   },
   {
    "duration": 5,
    "start_time": "2021-12-11T16:01:28.265Z"
   },
   {
    "duration": 151,
    "start_time": "2021-12-11T16:01:30.113Z"
   },
   {
    "duration": 4,
    "start_time": "2021-12-11T16:01:44.089Z"
   },
   {
    "duration": 138,
    "start_time": "2021-12-11T16:01:44.337Z"
   },
   {
    "duration": 5,
    "start_time": "2021-12-11T16:02:14.929Z"
   },
   {
    "duration": 627,
    "start_time": "2021-12-11T16:02:18.161Z"
   },
   {
    "duration": 6,
    "start_time": "2021-12-11T16:04:08.841Z"
   },
   {
    "duration": 881,
    "start_time": "2021-12-11T16:05:09.841Z"
   },
   {
    "duration": -34,
    "start_time": "2021-12-11T16:05:10.758Z"
   },
   {
    "duration": 5,
    "start_time": "2021-12-11T16:05:50.953Z"
   },
   {
    "duration": 1458,
    "start_time": "2021-12-11T16:05:51.568Z"
   },
   {
    "duration": 6,
    "start_time": "2021-12-11T16:06:26.640Z"
   },
   {
    "duration": 1204,
    "start_time": "2021-12-11T16:06:34.633Z"
   },
   {
    "duration": 6,
    "start_time": "2021-12-11T16:07:27.312Z"
   },
   {
    "duration": 1096,
    "start_time": "2021-12-11T16:07:27.768Z"
   },
   {
    "duration": 6,
    "start_time": "2021-12-11T16:07:43.192Z"
   },
   {
    "duration": 5,
    "start_time": "2021-12-11T16:08:07.537Z"
   },
   {
    "duration": 1169,
    "start_time": "2021-12-11T16:08:07.800Z"
   },
   {
    "duration": 6,
    "start_time": "2021-12-11T16:08:25.345Z"
   },
   {
    "duration": 589,
    "start_time": "2021-12-11T16:08:26.481Z"
   },
   {
    "duration": 6,
    "start_time": "2021-12-11T16:08:37.009Z"
   },
   {
    "duration": 1181,
    "start_time": "2021-12-11T16:08:37.232Z"
   },
   {
    "duration": 8,
    "start_time": "2021-12-11T16:08:45.449Z"
   },
   {
    "duration": 1253,
    "start_time": "2021-12-11T16:08:45.944Z"
   },
   {
    "duration": 6,
    "start_time": "2021-12-11T16:09:07.688Z"
   },
   {
    "duration": 1306,
    "start_time": "2021-12-11T16:09:08.104Z"
   },
   {
    "duration": 6,
    "start_time": "2021-12-11T16:09:15.840Z"
   },
   {
    "duration": 1274,
    "start_time": "2021-12-11T16:09:16.169Z"
   },
   {
    "duration": 6,
    "start_time": "2021-12-11T16:09:29.272Z"
   },
   {
    "duration": 1288,
    "start_time": "2021-12-11T16:09:29.488Z"
   },
   {
    "duration": 7,
    "start_time": "2021-12-11T16:10:50.904Z"
   },
   {
    "duration": 1034,
    "start_time": "2021-12-11T16:10:51.112Z"
   },
   {
    "duration": 112,
    "start_time": "2021-12-11T16:12:00.225Z"
   },
   {
    "duration": 1178,
    "start_time": "2021-12-11T16:12:00.392Z"
   },
   {
    "duration": 120,
    "start_time": "2021-12-11T16:12:11.825Z"
   },
   {
    "duration": 1023,
    "start_time": "2021-12-11T16:12:11.976Z"
   },
   {
    "duration": 8,
    "start_time": "2021-12-11T16:12:23.168Z"
   },
   {
    "duration": 1243,
    "start_time": "2021-12-11T16:12:23.576Z"
   },
   {
    "duration": 6,
    "start_time": "2021-12-11T16:12:46.753Z"
   },
   {
    "duration": 1023,
    "start_time": "2021-12-11T16:12:47.072Z"
   },
   {
    "duration": 8,
    "start_time": "2021-12-11T16:13:25.833Z"
   },
   {
    "duration": 1053,
    "start_time": "2021-12-11T16:13:27.745Z"
   },
   {
    "duration": 8,
    "start_time": "2021-12-11T16:13:39.064Z"
   },
   {
    "duration": 1062,
    "start_time": "2021-12-11T16:13:39.417Z"
   },
   {
    "duration": 7,
    "start_time": "2021-12-11T16:13:45.368Z"
   },
   {
    "duration": 1141,
    "start_time": "2021-12-11T16:13:45.720Z"
   },
   {
    "duration": 10,
    "start_time": "2021-12-11T16:14:01.689Z"
   },
   {
    "duration": 1056,
    "start_time": "2021-12-11T16:14:02.128Z"
   },
   {
    "duration": 7,
    "start_time": "2021-12-11T16:14:12.872Z"
   },
   {
    "duration": 1036,
    "start_time": "2021-12-11T16:14:13.040Z"
   },
   {
    "duration": 7,
    "start_time": "2021-12-11T16:14:27.648Z"
   },
   {
    "duration": 1056,
    "start_time": "2021-12-11T16:14:27.824Z"
   },
   {
    "duration": 8,
    "start_time": "2021-12-11T16:15:35.912Z"
   },
   {
    "duration": 1154,
    "start_time": "2021-12-11T16:15:38.288Z"
   },
   {
    "duration": 468,
    "start_time": "2021-12-11T16:16:06.576Z"
   },
   {
    "duration": 8,
    "start_time": "2021-12-11T16:16:44.536Z"
   },
   {
    "duration": 1280,
    "start_time": "2021-12-11T16:16:44.919Z"
   },
   {
    "duration": 7,
    "start_time": "2021-12-11T16:17:29.328Z"
   },
   {
    "duration": 951,
    "start_time": "2021-12-11T16:17:29.671Z"
   },
   {
    "duration": 762,
    "start_time": "2021-12-11T16:19:52.400Z"
   },
   {
    "duration": 1013,
    "start_time": "2021-12-11T16:20:13.112Z"
   },
   {
    "duration": 1009,
    "start_time": "2021-12-11T16:20:45.215Z"
   },
   {
    "duration": 8,
    "start_time": "2021-12-11T16:21:00.311Z"
   },
   {
    "duration": 1560,
    "start_time": "2021-12-11T16:21:01.543Z"
   },
   {
    "duration": 9,
    "start_time": "2021-12-11T16:22:39.279Z"
   },
   {
    "duration": 5,
    "start_time": "2021-12-11T16:23:39.559Z"
   },
   {
    "duration": 7,
    "start_time": "2021-12-11T16:24:14.567Z"
   },
   {
    "duration": 5,
    "start_time": "2021-12-11T16:24:14.734Z"
   },
   {
    "duration": 1288,
    "start_time": "2021-12-11T16:24:22.390Z"
   },
   {
    "duration": 8,
    "start_time": "2021-12-11T16:24:51.486Z"
   },
   {
    "duration": 1249,
    "start_time": "2021-12-11T16:24:51.879Z"
   },
   {
    "duration": 8,
    "start_time": "2021-12-11T16:25:21.086Z"
   },
   {
    "duration": 1297,
    "start_time": "2021-12-11T16:25:22.614Z"
   },
   {
    "duration": 6,
    "start_time": "2021-12-11T16:32:51.334Z"
   },
   {
    "duration": 293,
    "start_time": "2021-12-11T16:32:51.630Z"
   },
   {
    "duration": 24,
    "start_time": "2021-12-11T16:32:57.526Z"
   },
   {
    "duration": 22,
    "start_time": "2021-12-11T16:34:50.566Z"
   },
   {
    "duration": 112,
    "start_time": "2021-12-11T16:41:13.405Z"
   },
   {
    "duration": 304,
    "start_time": "2021-12-11T16:42:16.478Z"
   },
   {
    "duration": 281,
    "start_time": "2021-12-11T16:42:21.221Z"
   },
   {
    "duration": 309,
    "start_time": "2021-12-11T16:42:33.469Z"
   },
   {
    "duration": 318,
    "start_time": "2021-12-11T16:42:44.933Z"
   },
   {
    "duration": 105,
    "start_time": "2021-12-11T16:43:20.638Z"
   },
   {
    "duration": 130,
    "start_time": "2021-12-11T16:43:24.390Z"
   },
   {
    "duration": 5,
    "start_time": "2021-12-11T16:43:29.677Z"
   },
   {
    "duration": 5,
    "start_time": "2021-12-11T16:43:36.485Z"
   },
   {
    "duration": 295,
    "start_time": "2021-12-11T16:50:12.749Z"
   },
   {
    "duration": 66,
    "start_time": "2021-12-11T16:50:20.661Z"
   },
   {
    "duration": 5,
    "start_time": "2021-12-11T16:50:22.492Z"
   },
   {
    "duration": 64,
    "start_time": "2021-12-11T16:50:29.163Z"
   },
   {
    "duration": 5,
    "start_time": "2021-12-11T16:50:29.515Z"
   },
   {
    "duration": 133,
    "start_time": "2021-12-11T16:50:41.284Z"
   },
   {
    "duration": 8,
    "start_time": "2021-12-11T16:50:41.797Z"
   },
   {
    "duration": 7,
    "start_time": "2021-12-11T16:56:22.340Z"
   },
   {
    "duration": 688,
    "start_time": "2021-12-11T16:58:12.420Z"
   },
   {
    "duration": 7,
    "start_time": "2021-12-11T16:58:37.252Z"
   },
   {
    "duration": 1159,
    "start_time": "2021-12-11T16:58:37.923Z"
   },
   {
    "duration": 8,
    "start_time": "2021-12-11T16:58:55.068Z"
   },
   {
    "duration": 1721,
    "start_time": "2021-12-11T16:58:55.451Z"
   },
   {
    "duration": 8,
    "start_time": "2021-12-11T16:59:23.805Z"
   },
   {
    "duration": 2581,
    "start_time": "2021-12-11T16:59:24.339Z"
   },
   {
    "duration": 9,
    "start_time": "2021-12-11T17:01:42.069Z"
   },
   {
    "duration": 2186,
    "start_time": "2021-12-11T17:01:54.932Z"
   },
   {
    "duration": 5,
    "start_time": "2021-12-11T17:02:09.916Z"
   },
   {
    "duration": 7,
    "start_time": "2021-12-11T17:02:20.963Z"
   },
   {
    "duration": 5,
    "start_time": "2021-12-11T17:04:48.892Z"
   },
   {
    "duration": 9,
    "start_time": "2021-12-11T17:07:24.467Z"
   },
   {
    "duration": 9,
    "start_time": "2021-12-11T17:10:41.210Z"
   },
   {
    "duration": 2109,
    "start_time": "2021-12-11T17:10:42.419Z"
   },
   {
    "duration": 6,
    "start_time": "2021-12-11T17:10:55.330Z"
   },
   {
    "duration": 4,
    "start_time": "2021-12-11T17:11:59.027Z"
   },
   {
    "duration": 286,
    "start_time": "2021-12-11T17:12:15.692Z"
   },
   {
    "duration": 5,
    "start_time": "2021-12-11T17:12:17.994Z"
   },
   {
    "duration": 8,
    "start_time": "2021-12-11T17:18:39.364Z"
   },
   {
    "duration": 1719,
    "start_time": "2021-12-11T17:18:39.706Z"
   },
   {
    "duration": 7,
    "start_time": "2021-12-11T17:21:39.103Z"
   },
   {
    "duration": 6,
    "start_time": "2021-12-11T17:21:39.130Z"
   },
   {
    "duration": 473,
    "start_time": "2021-12-11T17:21:39.139Z"
   },
   {
    "duration": 7,
    "start_time": "2021-12-11T17:21:39.618Z"
   },
   {
    "duration": 1275,
    "start_time": "2021-12-11T17:21:39.627Z"
   },
   {
    "duration": 14,
    "start_time": "2021-12-11T17:21:40.904Z"
   },
   {
    "duration": 11,
    "start_time": "2021-12-11T17:21:40.920Z"
   },
   {
    "duration": 23,
    "start_time": "2021-12-11T17:21:40.934Z"
   },
   {
    "duration": 2262,
    "start_time": "2021-12-11T17:21:40.960Z"
   },
   {
    "duration": 20,
    "start_time": "2021-12-11T17:23:34.578Z"
   },
   {
    "duration": 1938,
    "start_time": "2021-12-11T17:23:53.682Z"
   },
   {
    "duration": 24,
    "start_time": "2021-12-11T17:24:48.514Z"
   },
   {
    "duration": 2151,
    "start_time": "2021-12-11T17:25:07.273Z"
   },
   {
    "duration": 4,
    "start_time": "2021-12-11T17:29:24.954Z"
   },
   {
    "duration": 5,
    "start_time": "2021-12-11T17:29:26.008Z"
   },
   {
    "duration": 5,
    "start_time": "2021-12-11T17:29:26.752Z"
   },
   {
    "duration": 321,
    "start_time": "2021-12-11T17:29:55.130Z"
   },
   {
    "duration": 11,
    "start_time": "2021-12-11T17:30:07.065Z"
   },
   {
    "duration": 11,
    "start_time": "2021-12-11T17:30:15.913Z"
   },
   {
    "duration": 13,
    "start_time": "2021-12-11T17:30:22.985Z"
   },
   {
    "duration": 6,
    "start_time": "2021-12-11T17:31:15.713Z"
   },
   {
    "duration": 22,
    "start_time": "2021-12-11T17:31:24.009Z"
   },
   {
    "duration": 2158,
    "start_time": "2021-12-11T17:31:32.968Z"
   },
   {
    "duration": 19,
    "start_time": "2021-12-11T17:31:46.209Z"
   },
   {
    "duration": 2345,
    "start_time": "2021-12-11T17:31:47.177Z"
   },
   {
    "duration": 20,
    "start_time": "2021-12-11T17:31:55.072Z"
   },
   {
    "duration": 2589,
    "start_time": "2021-12-11T17:31:56.041Z"
   },
   {
    "duration": 7,
    "start_time": "2021-12-11T17:33:23.705Z"
   },
   {
    "duration": 12,
    "start_time": "2021-12-11T17:33:43.281Z"
   },
   {
    "duration": 12,
    "start_time": "2021-12-11T17:33:56.336Z"
   },
   {
    "duration": 9,
    "start_time": "2021-12-11T17:34:26.577Z"
   },
   {
    "duration": 9,
    "start_time": "2021-12-11T17:34:30.889Z"
   },
   {
    "duration": 7,
    "start_time": "2021-12-11T17:37:59.056Z"
   },
   {
    "duration": 7,
    "start_time": "2021-12-11T17:39:25.512Z"
   },
   {
    "duration": 7,
    "start_time": "2021-12-11T17:39:36.049Z"
   },
   {
    "duration": 8,
    "start_time": "2021-12-11T17:39:39.361Z"
   },
   {
    "duration": 5,
    "start_time": "2021-12-11T17:42:52.480Z"
   },
   {
    "duration": 103,
    "start_time": "2021-12-11T17:45:51.240Z"
   },
   {
    "duration": 6,
    "start_time": "2021-12-11T17:45:55.968Z"
   },
   {
    "duration": 819,
    "start_time": "2021-12-11T17:45:59.664Z"
   },
   {
    "duration": 5,
    "start_time": "2021-12-11T17:46:06.912Z"
   },
   {
    "duration": 11,
    "start_time": "2021-12-11T17:46:07.560Z"
   },
   {
    "duration": 11,
    "start_time": "2021-12-11T17:46:12.280Z"
   },
   {
    "duration": 326,
    "start_time": "2021-12-11T17:46:29.624Z"
   },
   {
    "duration": 22,
    "start_time": "2021-12-11T17:46:44.760Z"
   },
   {
    "duration": 22,
    "start_time": "2021-12-11T17:47:00.209Z"
   },
   {
    "duration": 5,
    "start_time": "2021-12-11T17:48:38.464Z"
   },
   {
    "duration": 4,
    "start_time": "2021-12-11T17:48:38.864Z"
   },
   {
    "duration": 26,
    "start_time": "2021-12-11T17:49:19.024Z"
   },
   {
    "duration": 313,
    "start_time": "2021-12-11T17:49:22.040Z"
   },
   {
    "duration": 4,
    "start_time": "2021-12-11T17:49:24.960Z"
   },
   {
    "duration": 27,
    "start_time": "2021-12-11T17:49:26.791Z"
   },
   {
    "duration": 5,
    "start_time": "2021-12-11T17:50:32.396Z"
   },
   {
    "duration": 8,
    "start_time": "2021-12-11T17:50:32.405Z"
   },
   {
    "duration": 465,
    "start_time": "2021-12-11T17:50:32.418Z"
   },
   {
    "duration": 15,
    "start_time": "2021-12-11T17:50:32.886Z"
   },
   {
    "duration": 1317,
    "start_time": "2021-12-11T17:50:32.903Z"
   },
   {
    "duration": 6,
    "start_time": "2021-12-11T17:50:34.223Z"
   },
   {
    "duration": 9,
    "start_time": "2021-12-11T17:50:34.231Z"
   },
   {
    "duration": 23,
    "start_time": "2021-12-11T17:50:34.243Z"
   },
   {
    "duration": 1849,
    "start_time": "2021-12-11T17:50:34.270Z"
   },
   {
    "duration": 105,
    "start_time": "2021-12-11T17:50:36.127Z"
   },
   {
    "duration": 2283,
    "start_time": "2021-12-11T17:50:36.235Z"
   },
   {
    "duration": 106,
    "start_time": "2021-12-11T17:50:38.522Z"
   },
   {
    "duration": 2487,
    "start_time": "2021-12-11T17:50:38.630Z"
   },
   {
    "duration": 4,
    "start_time": "2021-12-11T17:50:41.120Z"
   },
   {
    "duration": 91,
    "start_time": "2021-12-11T17:50:41.127Z"
   },
   {
    "duration": 7,
    "start_time": "2021-12-11T17:50:41.220Z"
   },
   {
    "duration": 5,
    "start_time": "2021-12-11T17:50:41.229Z"
   },
   {
    "duration": 6,
    "start_time": "2021-12-11T17:50:41.236Z"
   },
   {
    "duration": 6,
    "start_time": "2021-12-11T17:50:41.244Z"
   },
   {
    "duration": 25,
    "start_time": "2021-12-11T17:50:41.252Z"
   },
   {
    "duration": 63,
    "start_time": "2021-12-11T17:50:41.279Z"
   },
   {
    "duration": 24,
    "start_time": "2021-12-11T17:50:41.345Z"
   },
   {
    "duration": 4,
    "start_time": "2021-12-11T17:51:38.800Z"
   },
   {
    "duration": 22,
    "start_time": "2021-12-11T17:51:51.904Z"
   },
   {
    "duration": 3,
    "start_time": "2021-12-11T17:52:10.992Z"
   },
   {
    "duration": 4,
    "start_time": "2021-12-11T17:52:26.680Z"
   },
   {
    "duration": 5,
    "start_time": "2021-12-11T17:52:34.208Z"
   },
   {
    "duration": 4,
    "start_time": "2021-12-11T17:52:44.424Z"
   },
   {
    "duration": 5,
    "start_time": "2021-12-11T17:52:44.751Z"
   },
   {
    "duration": 4,
    "start_time": "2021-12-11T17:52:45.031Z"
   },
   {
    "duration": 22,
    "start_time": "2021-12-11T17:52:45.447Z"
   },
   {
    "duration": 11,
    "start_time": "2021-12-11T17:55:49.464Z"
   },
   {
    "duration": 10,
    "start_time": "2021-12-11T17:55:57.319Z"
   },
   {
    "duration": 10,
    "start_time": "2021-12-11T17:56:07.256Z"
   },
   {
    "duration": 10,
    "start_time": "2021-12-11T17:56:24.375Z"
   },
   {
    "duration": 12,
    "start_time": "2021-12-11T17:56:46.711Z"
   },
   {
    "duration": 12,
    "start_time": "2021-12-11T17:56:57.287Z"
   },
   {
    "duration": 23,
    "start_time": "2021-12-11T17:57:11.200Z"
   },
   {
    "duration": 92,
    "start_time": "2021-12-11T17:57:45.152Z"
   },
   {
    "duration": 11,
    "start_time": "2021-12-11T17:57:50.127Z"
   },
   {
    "duration": 10,
    "start_time": "2021-12-11T17:58:00.672Z"
   },
   {
    "duration": 286,
    "start_time": "2021-12-11T17:58:20.384Z"
   },
   {
    "duration": 14,
    "start_time": "2021-12-11T17:58:27.503Z"
   },
   {
    "duration": 14,
    "start_time": "2021-12-11T17:59:14.264Z"
   },
   {
    "duration": 12,
    "start_time": "2021-12-11T17:59:34.960Z"
   },
   {
    "duration": 29,
    "start_time": "2021-12-11T18:01:32.824Z"
   },
   {
    "duration": 8,
    "start_time": "2021-12-11T18:03:53.416Z"
   },
   {
    "duration": 2358,
    "start_time": "2021-12-11T18:03:59.959Z"
   },
   {
    "duration": 7,
    "start_time": "2021-12-11T18:04:09.767Z"
   },
   {
    "duration": 8,
    "start_time": "2021-12-11T18:04:28.687Z"
   },
   {
    "duration": 23,
    "start_time": "2021-12-11T18:04:58.879Z"
   },
   {
    "duration": 10,
    "start_time": "2021-12-11T18:05:05.824Z"
   },
   {
    "duration": 22,
    "start_time": "2021-12-11T18:05:07.007Z"
   },
   {
    "duration": 11,
    "start_time": "2021-12-11T18:05:09.023Z"
   },
   {
    "duration": 11,
    "start_time": "2021-12-11T18:05:12.367Z"
   },
   {
    "duration": 13,
    "start_time": "2021-12-11T18:05:13.111Z"
   },
   {
    "duration": 24,
    "start_time": "2021-12-11T18:05:13.887Z"
   },
   {
    "duration": 821,
    "start_time": "2021-12-11T18:06:42.647Z"
   },
   {
    "duration": 1017,
    "start_time": "2021-12-11T18:06:50.895Z"
   },
   {
    "duration": 21,
    "start_time": "2021-12-11T18:07:37.151Z"
   },
   {
    "duration": 356,
    "start_time": "2021-12-11T18:07:37.775Z"
   },
   {
    "duration": 403,
    "start_time": "2021-12-11T18:08:21.943Z"
   },
   {
    "duration": 17,
    "start_time": "2021-12-11T18:09:04.903Z"
   },
   {
    "duration": 296,
    "start_time": "2021-12-11T18:09:21.424Z"
   },
   {
    "duration": 4,
    "start_time": "2021-12-11T18:09:33.863Z"
   },
   {
    "duration": 10,
    "start_time": "2021-12-11T18:09:34.519Z"
   },
   {
    "duration": 23,
    "start_time": "2021-12-11T18:09:41.568Z"
   },
   {
    "duration": 12,
    "start_time": "2021-12-11T18:09:57.967Z"
   },
   {
    "duration": 10,
    "start_time": "2021-12-11T18:10:04.095Z"
   },
   {
    "duration": 12,
    "start_time": "2021-12-11T18:10:10.607Z"
   },
   {
    "duration": 23,
    "start_time": "2021-12-11T18:10:13.761Z"
   },
   {
    "duration": 11,
    "start_time": "2021-12-11T18:10:17.407Z"
   },
   {
    "duration": 12,
    "start_time": "2021-12-11T18:10:21.640Z"
   },
   {
    "duration": 17,
    "start_time": "2021-12-11T18:11:08.503Z"
   },
   {
    "duration": 19,
    "start_time": "2021-12-11T18:11:15.887Z"
   },
   {
    "duration": 7,
    "start_time": "2021-12-11T18:11:24.671Z"
   },
   {
    "duration": 7,
    "start_time": "2021-12-11T18:11:31.279Z"
   },
   {
    "duration": 6,
    "start_time": "2021-12-11T19:02:46.403Z"
   },
   {
    "duration": 6,
    "start_time": "2021-12-11T19:05:07.547Z"
   },
   {
    "duration": 6,
    "start_time": "2021-12-11T19:05:22.163Z"
   },
   {
    "duration": 5,
    "start_time": "2021-12-11T19:07:56.067Z"
   },
   {
    "duration": 339,
    "start_time": "2021-12-11T19:08:05.531Z"
   },
   {
    "duration": 319,
    "start_time": "2021-12-11T19:08:11.404Z"
   },
   {
    "duration": 26,
    "start_time": "2021-12-11T19:08:14.803Z"
   },
   {
    "duration": 6,
    "start_time": "2021-12-11T19:09:56.868Z"
   },
   {
    "duration": 25,
    "start_time": "2021-12-11T19:10:10.979Z"
   },
   {
    "duration": 4,
    "start_time": "2021-12-11T19:10:28.110Z"
   },
   {
    "duration": 5,
    "start_time": "2021-12-11T19:10:28.117Z"
   },
   {
    "duration": 461,
    "start_time": "2021-12-11T19:10:28.125Z"
   },
   {
    "duration": 16,
    "start_time": "2021-12-11T19:10:28.588Z"
   },
   {
    "duration": 1314,
    "start_time": "2021-12-11T19:10:28.606Z"
   },
   {
    "duration": 6,
    "start_time": "2021-12-11T19:10:29.922Z"
   },
   {
    "duration": 21,
    "start_time": "2021-12-11T19:10:29.930Z"
   },
   {
    "duration": 24,
    "start_time": "2021-12-11T19:10:29.955Z"
   },
   {
    "duration": 2637,
    "start_time": "2021-12-11T19:10:29.982Z"
   },
   {
    "duration": 110,
    "start_time": "2021-12-11T19:10:32.625Z"
   },
   {
    "duration": 2079,
    "start_time": "2021-12-11T19:10:32.738Z"
   },
   {
    "duration": 107,
    "start_time": "2021-12-11T19:10:34.821Z"
   },
   {
    "duration": 2289,
    "start_time": "2021-12-11T19:10:34.930Z"
   },
   {
    "duration": 95,
    "start_time": "2021-12-11T19:10:37.222Z"
   },
   {
    "duration": 11,
    "start_time": "2021-12-11T19:10:37.320Z"
   },
   {
    "duration": 11,
    "start_time": "2021-12-11T19:10:37.334Z"
   },
   {
    "duration": 13,
    "start_time": "2021-12-11T19:10:37.347Z"
   },
   {
    "duration": 29,
    "start_time": "2021-12-11T19:10:37.362Z"
   },
   {
    "duration": 4,
    "start_time": "2021-12-11T19:17:01.435Z"
   },
   {
    "duration": 24,
    "start_time": "2021-12-11T19:17:06.195Z"
   },
   {
    "duration": 4,
    "start_time": "2021-12-11T19:17:13.706Z"
   },
   {
    "duration": 24,
    "start_time": "2021-12-11T19:17:16.251Z"
   },
   {
    "duration": 3,
    "start_time": "2021-12-11T19:17:54.315Z"
   },
   {
    "duration": 25,
    "start_time": "2021-12-11T19:17:57.610Z"
   },
   {
    "duration": 4,
    "start_time": "2021-12-11T19:18:15.922Z"
   },
   {
    "duration": 26,
    "start_time": "2021-12-11T19:18:18.130Z"
   },
   {
    "duration": 3,
    "start_time": "2021-12-11T19:18:29.626Z"
   },
   {
    "duration": 291,
    "start_time": "2021-12-11T19:19:12.338Z"
   },
   {
    "duration": 25,
    "start_time": "2021-12-11T19:19:17.026Z"
   },
   {
    "duration": 25,
    "start_time": "2021-12-11T19:19:33.874Z"
   },
   {
    "duration": 25,
    "start_time": "2021-12-11T19:19:45.074Z"
   },
   {
    "duration": 25,
    "start_time": "2021-12-11T19:19:49.370Z"
   },
   {
    "duration": 1182,
    "start_time": "2021-12-12T08:23:44.854Z"
   },
   {
    "duration": 3,
    "start_time": "2021-12-12T08:23:46.038Z"
   },
   {
    "duration": 371,
    "start_time": "2021-12-12T08:23:46.045Z"
   },
   {
    "duration": 6,
    "start_time": "2021-12-12T08:23:46.418Z"
   },
   {
    "duration": 625,
    "start_time": "2021-12-12T08:23:46.425Z"
   },
   {
    "duration": -583,
    "start_time": "2021-12-12T08:23:47.635Z"
   },
   {
    "duration": -585,
    "start_time": "2021-12-12T08:23:47.638Z"
   },
   {
    "duration": -587,
    "start_time": "2021-12-12T08:23:47.641Z"
   },
   {
    "duration": -589,
    "start_time": "2021-12-12T08:23:47.644Z"
   },
   {
    "duration": -590,
    "start_time": "2021-12-12T08:23:47.646Z"
   },
   {
    "duration": -590,
    "start_time": "2021-12-12T08:23:47.647Z"
   },
   {
    "duration": -591,
    "start_time": "2021-12-12T08:23:47.649Z"
   },
   {
    "duration": -594,
    "start_time": "2021-12-12T08:23:47.652Z"
   },
   {
    "duration": -595,
    "start_time": "2021-12-12T08:23:47.654Z"
   },
   {
    "duration": -596,
    "start_time": "2021-12-12T08:23:47.656Z"
   },
   {
    "duration": -598,
    "start_time": "2021-12-12T08:23:47.659Z"
   },
   {
    "duration": -599,
    "start_time": "2021-12-12T08:23:47.661Z"
   },
   {
    "duration": -604,
    "start_time": "2021-12-12T08:23:47.667Z"
   },
   {
    "duration": -605,
    "start_time": "2021-12-12T08:23:47.669Z"
   },
   {
    "duration": -606,
    "start_time": "2021-12-12T08:23:47.670Z"
   },
   {
    "duration": -608,
    "start_time": "2021-12-12T08:23:47.673Z"
   },
   {
    "duration": -609,
    "start_time": "2021-12-12T08:23:47.675Z"
   },
   {
    "duration": -609,
    "start_time": "2021-12-12T08:23:47.676Z"
   },
   {
    "duration": 3,
    "start_time": "2021-12-12T08:23:55.613Z"
   },
   {
    "duration": 5,
    "start_time": "2021-12-12T08:23:55.618Z"
   },
   {
    "duration": 359,
    "start_time": "2021-12-12T08:23:55.626Z"
   },
   {
    "duration": 11,
    "start_time": "2021-12-12T08:23:55.987Z"
   },
   {
    "duration": 547,
    "start_time": "2021-12-12T08:23:56.000Z"
   },
   {
    "duration": -578,
    "start_time": "2021-12-12T08:23:57.127Z"
   },
   {
    "duration": -582,
    "start_time": "2021-12-12T08:23:57.133Z"
   },
   {
    "duration": -583,
    "start_time": "2021-12-12T08:23:57.135Z"
   },
   {
    "duration": -585,
    "start_time": "2021-12-12T08:23:57.137Z"
   },
   {
    "duration": -587,
    "start_time": "2021-12-12T08:23:57.140Z"
   },
   {
    "duration": -588,
    "start_time": "2021-12-12T08:23:57.142Z"
   },
   {
    "duration": -589,
    "start_time": "2021-12-12T08:23:57.144Z"
   },
   {
    "duration": -590,
    "start_time": "2021-12-12T08:23:57.146Z"
   },
   {
    "duration": -590,
    "start_time": "2021-12-12T08:23:57.147Z"
   },
   {
    "duration": -592,
    "start_time": "2021-12-12T08:23:57.150Z"
   },
   {
    "duration": -593,
    "start_time": "2021-12-12T08:23:57.152Z"
   },
   {
    "duration": -595,
    "start_time": "2021-12-12T08:23:57.155Z"
   },
   {
    "duration": -600,
    "start_time": "2021-12-12T08:23:57.161Z"
   },
   {
    "duration": 819,
    "start_time": "2021-12-12T08:24:43.761Z"
   },
   {
    "duration": 4,
    "start_time": "2021-12-12T08:24:55.700Z"
   },
   {
    "duration": 11,
    "start_time": "2021-12-12T08:24:55.705Z"
   },
   {
    "duration": 376,
    "start_time": "2021-12-12T08:24:55.718Z"
   },
   {
    "duration": 11,
    "start_time": "2021-12-12T08:24:56.096Z"
   },
   {
    "duration": 813,
    "start_time": "2021-12-12T08:24:56.108Z"
   },
   {
    "duration": 4,
    "start_time": "2021-12-12T08:24:56.922Z"
   },
   {
    "duration": 6,
    "start_time": "2021-12-12T08:24:56.928Z"
   },
   {
    "duration": 16,
    "start_time": "2021-12-12T08:24:56.944Z"
   },
   {
    "duration": 1488,
    "start_time": "2021-12-12T08:24:56.962Z"
   },
   {
    "duration": 192,
    "start_time": "2021-12-12T08:24:58.453Z"
   },
   {
    "duration": 1699,
    "start_time": "2021-12-12T08:24:58.647Z"
   },
   {
    "duration": 107,
    "start_time": "2021-12-12T08:25:00.349Z"
   },
   {
    "duration": 1688,
    "start_time": "2021-12-12T08:25:00.458Z"
   },
   {
    "duration": 4,
    "start_time": "2021-12-12T08:25:02.149Z"
   },
   {
    "duration": 10,
    "start_time": "2021-12-12T08:25:02.245Z"
   },
   {
    "duration": 8,
    "start_time": "2021-12-12T08:25:02.257Z"
   },
   {
    "duration": 3,
    "start_time": "2021-12-12T08:25:02.267Z"
   },
   {
    "duration": 19,
    "start_time": "2021-12-12T08:25:02.272Z"
   },
   {
    "duration": 5,
    "start_time": "2021-12-12T08:42:16.041Z"
   },
   {
    "duration": 4,
    "start_time": "2021-12-12T08:43:45.489Z"
   },
   {
    "duration": 564,
    "start_time": "2021-12-12T08:44:09.985Z"
   },
   {
    "duration": 5,
    "start_time": "2021-12-12T08:44:52.185Z"
   },
   {
    "duration": 140732,
    "start_time": "2021-12-12T08:44:52.601Z"
   },
   {
    "duration": 1167,
    "start_time": "2021-12-12T08:50:16.464Z"
   },
   {
    "duration": 3,
    "start_time": "2021-12-12T08:50:17.633Z"
   },
   {
    "duration": 371,
    "start_time": "2021-12-12T08:50:17.638Z"
   },
   {
    "duration": 8,
    "start_time": "2021-12-12T08:50:18.011Z"
   },
   {
    "duration": 907,
    "start_time": "2021-12-12T08:50:18.021Z"
   },
   {
    "duration": 5,
    "start_time": "2021-12-12T08:50:18.929Z"
   },
   {
    "duration": 11,
    "start_time": "2021-12-12T08:50:18.935Z"
   },
   {
    "duration": 27,
    "start_time": "2021-12-12T08:50:18.949Z"
   },
   {
    "duration": 2267,
    "start_time": "2021-12-12T08:50:18.978Z"
   },
   {
    "duration": 98,
    "start_time": "2021-12-12T08:50:21.247Z"
   },
   {
    "duration": 904,
    "start_time": "2021-12-12T08:50:21.347Z"
   },
   {
    "duration": 192,
    "start_time": "2021-12-12T08:50:22.254Z"
   },
   {
    "duration": 1803,
    "start_time": "2021-12-12T08:50:22.448Z"
   },
   {
    "duration": 92,
    "start_time": "2021-12-12T08:50:24.253Z"
   },
   {
    "duration": 16,
    "start_time": "2021-12-12T08:50:24.348Z"
   },
   {
    "duration": 5,
    "start_time": "2021-12-12T08:50:24.366Z"
   },
   {
    "duration": 5,
    "start_time": "2021-12-12T08:50:24.373Z"
   },
   {
    "duration": 72,
    "start_time": "2021-12-12T08:50:24.379Z"
   },
   {
    "duration": 2,
    "start_time": "2021-12-12T08:50:24.453Z"
   },
   {
    "duration": 6,
    "start_time": "2021-12-12T08:50:24.457Z"
   },
   {
    "duration": 54696,
    "start_time": "2021-12-12T08:50:24.465Z"
   },
   {
    "duration": -576,
    "start_time": "2021-12-12T08:51:19.740Z"
   },
   {
    "duration": -577,
    "start_time": "2021-12-12T08:51:19.742Z"
   },
   {
    "duration": -576,
    "start_time": "2021-12-12T08:51:19.743Z"
   },
   {
    "duration": -578,
    "start_time": "2021-12-12T08:51:19.746Z"
   },
   {
    "duration": 7,
    "start_time": "2021-12-12T08:51:21.545Z"
   },
   {
    "duration": 3,
    "start_time": "2021-12-12T08:51:28.309Z"
   },
   {
    "duration": 1143,
    "start_time": "2021-12-12T08:51:49.586Z"
   },
   {
    "duration": 3,
    "start_time": "2021-12-12T08:51:50.731Z"
   },
   {
    "duration": 365,
    "start_time": "2021-12-12T08:51:50.736Z"
   },
   {
    "duration": 7,
    "start_time": "2021-12-12T08:51:51.102Z"
   },
   {
    "duration": 859,
    "start_time": "2021-12-12T08:51:51.110Z"
   },
   {
    "duration": 4,
    "start_time": "2021-12-12T08:51:51.971Z"
   },
   {
    "duration": 27,
    "start_time": "2021-12-12T08:51:51.977Z"
   },
   {
    "duration": 49,
    "start_time": "2021-12-12T08:51:52.005Z"
   },
   {
    "duration": 1697,
    "start_time": "2021-12-12T08:51:52.056Z"
   },
   {
    "duration": 107,
    "start_time": "2021-12-12T08:51:53.851Z"
   },
   {
    "duration": 1384,
    "start_time": "2021-12-12T08:51:53.961Z"
   },
   {
    "duration": 111,
    "start_time": "2021-12-12T08:51:55.348Z"
   },
   {
    "duration": 1888,
    "start_time": "2021-12-12T08:51:55.460Z"
   },
   {
    "duration": 93,
    "start_time": "2021-12-12T08:51:57.352Z"
   },
   {
    "duration": 4,
    "start_time": "2021-12-12T08:51:57.447Z"
   },
   {
    "duration": 5,
    "start_time": "2021-12-12T08:51:57.453Z"
   },
   {
    "duration": 3,
    "start_time": "2021-12-12T08:51:57.460Z"
   },
   {
    "duration": 21,
    "start_time": "2021-12-12T08:51:57.465Z"
   },
   {
    "duration": 2,
    "start_time": "2021-12-12T08:51:57.488Z"
   },
   {
    "duration": 13,
    "start_time": "2021-12-12T08:51:57.492Z"
   },
   {
    "duration": 4,
    "start_time": "2021-12-12T08:51:57.507Z"
   },
   {
    "duration": 66496,
    "start_time": "2021-12-12T08:51:57.544Z"
   },
   {
    "duration": -611,
    "start_time": "2021-12-12T08:53:04.654Z"
   },
   {
    "duration": -617,
    "start_time": "2021-12-12T08:53:04.661Z"
   },
   {
    "duration": -617,
    "start_time": "2021-12-12T08:53:04.663Z"
   },
   {
    "duration": -617,
    "start_time": "2021-12-12T08:53:04.664Z"
   },
   {
    "duration": 390,
    "start_time": "2021-12-12T08:54:00.614Z"
   },
   {
    "duration": 1526,
    "start_time": "2021-12-12T08:54:34.478Z"
   },
   {
    "duration": 3,
    "start_time": "2021-12-12T08:54:36.007Z"
   },
   {
    "duration": 541,
    "start_time": "2021-12-12T08:54:36.012Z"
   },
   {
    "duration": 9,
    "start_time": "2021-12-12T08:54:36.555Z"
   },
   {
    "duration": 1182,
    "start_time": "2021-12-12T08:54:36.566Z"
   },
   {
    "duration": 5,
    "start_time": "2021-12-12T08:54:37.749Z"
   },
   {
    "duration": 7,
    "start_time": "2021-12-12T08:54:37.756Z"
   },
   {
    "duration": 30,
    "start_time": "2021-12-12T08:54:37.765Z"
   },
   {
    "duration": 2849,
    "start_time": "2021-12-12T08:54:37.799Z"
   },
   {
    "duration": 94,
    "start_time": "2021-12-12T08:54:40.651Z"
   },
   {
    "duration": 2009,
    "start_time": "2021-12-12T08:54:40.746Z"
   },
   {
    "duration": 22,
    "start_time": "2021-12-12T08:54:42.846Z"
   },
   {
    "duration": 2779,
    "start_time": "2021-12-12T08:54:42.870Z"
   },
   {
    "duration": 3,
    "start_time": "2021-12-12T08:54:45.652Z"
   },
   {
    "duration": 93,
    "start_time": "2021-12-12T08:54:45.658Z"
   },
   {
    "duration": 8,
    "start_time": "2021-12-12T08:54:45.753Z"
   },
   {
    "duration": 5,
    "start_time": "2021-12-12T08:54:45.763Z"
   },
   {
    "duration": 27,
    "start_time": "2021-12-12T08:54:45.770Z"
   },
   {
    "duration": 51,
    "start_time": "2021-12-12T08:54:45.799Z"
   },
   {
    "duration": 16,
    "start_time": "2021-12-12T08:54:45.852Z"
   },
   {
    "duration": 4,
    "start_time": "2021-12-12T08:54:45.870Z"
   },
   {
    "duration": 248187,
    "start_time": "2021-12-12T08:54:45.876Z"
   },
   {
    "duration": -592,
    "start_time": "2021-12-12T08:58:54.657Z"
   },
   {
    "duration": -593,
    "start_time": "2021-12-12T08:58:54.659Z"
   },
   {
    "duration": -594,
    "start_time": "2021-12-12T08:58:54.661Z"
   },
   {
    "duration": -594,
    "start_time": "2021-12-12T08:58:54.662Z"
   },
   {
    "duration": -595,
    "start_time": "2021-12-12T08:58:54.664Z"
   },
   {
    "duration": 81618,
    "start_time": "2021-12-12T09:01:07.942Z"
   },
   {
    "duration": 4,
    "start_time": "2021-12-12T09:02:34.509Z"
   },
   {
    "duration": 5,
    "start_time": "2021-12-12T09:04:20.621Z"
   },
   {
    "duration": 6,
    "start_time": "2021-12-12T09:06:20.749Z"
   },
   {
    "duration": 3,
    "start_time": "2021-12-12T09:06:35.716Z"
   },
   {
    "duration": 10,
    "start_time": "2021-12-12T09:06:35.721Z"
   },
   {
    "duration": 810,
    "start_time": "2021-12-12T09:06:35.733Z"
   },
   {
    "duration": 10,
    "start_time": "2021-12-12T09:06:36.545Z"
   },
   {
    "duration": 875,
    "start_time": "2021-12-12T09:06:36.557Z"
   },
   {
    "duration": 10,
    "start_time": "2021-12-12T09:06:37.434Z"
   },
   {
    "duration": 7,
    "start_time": "2021-12-12T09:06:37.446Z"
   },
   {
    "duration": 17,
    "start_time": "2021-12-12T09:06:37.456Z"
   },
   {
    "duration": 1077,
    "start_time": "2021-12-12T09:06:37.475Z"
   },
   {
    "duration": 196,
    "start_time": "2021-12-12T09:06:38.554Z"
   },
   {
    "duration": 2292,
    "start_time": "2021-12-12T09:06:38.752Z"
   },
   {
    "duration": 16,
    "start_time": "2021-12-12T09:06:41.047Z"
   },
   {
    "duration": 1984,
    "start_time": "2021-12-12T09:06:41.065Z"
   },
   {
    "duration": 3,
    "start_time": "2021-12-12T09:06:43.052Z"
   },
   {
    "duration": 5,
    "start_time": "2021-12-12T09:06:43.146Z"
   },
   {
    "duration": 92,
    "start_time": "2021-12-12T09:06:43.153Z"
   },
   {
    "duration": 3,
    "start_time": "2021-12-12T09:06:43.247Z"
   },
   {
    "duration": 22,
    "start_time": "2021-12-12T09:06:43.252Z"
   },
   {
    "duration": 2,
    "start_time": "2021-12-12T09:06:43.276Z"
   },
   {
    "duration": 13,
    "start_time": "2021-12-12T09:06:43.280Z"
   },
   {
    "duration": 10,
    "start_time": "2021-12-12T09:06:43.294Z"
   },
   {
    "duration": 1491,
    "start_time": "2021-12-12T09:07:02.758Z"
   },
   {
    "duration": 2,
    "start_time": "2021-12-12T09:07:04.251Z"
   },
   {
    "duration": 411,
    "start_time": "2021-12-12T09:07:04.258Z"
   },
   {
    "duration": 7,
    "start_time": "2021-12-12T09:07:04.671Z"
   },
   {
    "duration": 892,
    "start_time": "2021-12-12T09:07:04.680Z"
   },
   {
    "duration": 5,
    "start_time": "2021-12-12T09:07:05.574Z"
   },
   {
    "duration": 6,
    "start_time": "2021-12-12T09:07:05.583Z"
   },
   {
    "duration": 23,
    "start_time": "2021-12-12T09:07:05.591Z"
   },
   {
    "duration": 2037,
    "start_time": "2021-12-12T09:07:05.616Z"
   },
   {
    "duration": 111,
    "start_time": "2021-12-12T09:07:07.746Z"
   },
   {
    "duration": 1086,
    "start_time": "2021-12-12T09:07:07.859Z"
   },
   {
    "duration": 106,
    "start_time": "2021-12-12T09:07:08.948Z"
   },
   {
    "duration": 1691,
    "start_time": "2021-12-12T09:07:09.056Z"
   },
   {
    "duration": 95,
    "start_time": "2021-12-12T09:07:10.750Z"
   },
   {
    "duration": 9,
    "start_time": "2021-12-12T09:07:10.847Z"
   },
   {
    "duration": 5,
    "start_time": "2021-12-12T09:07:10.858Z"
   },
   {
    "duration": 5,
    "start_time": "2021-12-12T09:07:10.864Z"
   },
   {
    "duration": 19,
    "start_time": "2021-12-12T09:07:10.871Z"
   },
   {
    "duration": 3,
    "start_time": "2021-12-12T09:07:10.892Z"
   },
   {
    "duration": 14,
    "start_time": "2021-12-12T09:07:10.896Z"
   },
   {
    "duration": 4,
    "start_time": "2021-12-12T09:07:10.912Z"
   },
   {
    "duration": 27,
    "start_time": "2021-12-12T09:07:10.919Z"
   },
   {
    "duration": 8,
    "start_time": "2021-12-12T09:07:10.948Z"
   },
   {
    "duration": 4,
    "start_time": "2021-12-12T09:07:10.958Z"
   },
   {
    "duration": 4,
    "start_time": "2021-12-12T09:07:10.964Z"
   },
   {
    "duration": 4,
    "start_time": "2021-12-12T09:07:10.970Z"
   },
   {
    "duration": 4,
    "start_time": "2021-12-12T09:07:10.976Z"
   },
   {
    "duration": 4,
    "start_time": "2021-12-12T09:07:10.982Z"
   },
   {
    "duration": 6,
    "start_time": "2021-12-12T09:07:10.987Z"
   },
   {
    "duration": 5,
    "start_time": "2021-12-12T09:07:53.486Z"
   },
   {
    "duration": 110850,
    "start_time": "2021-12-12T09:08:22.789Z"
   },
   {
    "duration": 5,
    "start_time": "2021-12-12T09:10:18.188Z"
   },
   {
    "duration": 2684,
    "start_time": "2021-12-12T09:12:23.909Z"
   },
   {
    "duration": 17,
    "start_time": "2021-12-12T09:12:28.564Z"
   },
   {
    "duration": 2619,
    "start_time": "2021-12-12T09:12:44.029Z"
   },
   {
    "duration": 17,
    "start_time": "2021-12-12T09:12:47.277Z"
   },
   {
    "duration": 2727,
    "start_time": "2021-12-12T09:12:56.654Z"
   },
   {
    "duration": 31,
    "start_time": "2021-12-12T09:13:00.781Z"
   },
   {
    "duration": 2780,
    "start_time": "2021-12-12T09:13:23.253Z"
   },
   {
    "duration": 17,
    "start_time": "2021-12-12T09:13:27.093Z"
   },
   {
    "duration": 2503,
    "start_time": "2021-12-12T09:13:54.908Z"
   },
   {
    "duration": 16,
    "start_time": "2021-12-12T09:13:57.948Z"
   },
   {
    "duration": 2488,
    "start_time": "2021-12-12T09:14:01.593Z"
   },
   {
    "duration": 2518,
    "start_time": "2021-12-12T09:14:06.288Z"
   },
   {
    "duration": 18,
    "start_time": "2021-12-12T09:14:09.628Z"
   },
   {
    "duration": 271,
    "start_time": "2021-12-12T09:14:15.412Z"
   },
   {
    "duration": 305,
    "start_time": "2021-12-12T09:14:19.308Z"
   },
   {
    "duration": 3,
    "start_time": "2021-12-12T09:14:26.141Z"
   },
   {
    "duration": 9,
    "start_time": "2021-12-12T09:15:29.373Z"
   },
   {
    "duration": 6,
    "start_time": "2021-12-12T09:15:35.972Z"
   },
   {
    "duration": 6,
    "start_time": "2021-12-12T09:15:49.245Z"
   },
   {
    "duration": 7,
    "start_time": "2021-12-12T09:16:08.500Z"
   },
   {
    "duration": 7,
    "start_time": "2021-12-12T09:16:10.644Z"
   },
   {
    "duration": 5,
    "start_time": "2021-12-12T09:16:54.908Z"
   },
   {
    "duration": 7,
    "start_time": "2021-12-12T09:17:14.604Z"
   },
   {
    "duration": 7,
    "start_time": "2021-12-12T09:17:32.245Z"
   },
   {
    "duration": 5,
    "start_time": "2021-12-12T09:18:17.332Z"
   },
   {
    "duration": 6,
    "start_time": "2021-12-12T09:18:23.948Z"
   },
   {
    "duration": 5,
    "start_time": "2021-12-12T09:18:32.595Z"
   },
   {
    "duration": 6,
    "start_time": "2021-12-12T09:18:49.036Z"
   },
   {
    "duration": 7,
    "start_time": "2021-12-12T09:18:51.900Z"
   },
   {
    "duration": 6,
    "start_time": "2021-12-12T09:19:12.789Z"
   },
   {
    "duration": 5,
    "start_time": "2021-12-12T09:19:55.629Z"
   },
   {
    "duration": 13396,
    "start_time": "2021-12-12T09:20:52.596Z"
   },
   {
    "duration": 5,
    "start_time": "2021-12-12T09:21:08.116Z"
   },
   {
    "duration": 4,
    "start_time": "2021-12-12T09:21:48.524Z"
   },
   {
    "duration": 2509,
    "start_time": "2021-12-12T09:21:49.284Z"
   },
   {
    "duration": 5,
    "start_time": "2021-12-12T09:22:52.733Z"
   },
   {
    "duration": 2580,
    "start_time": "2021-12-12T09:22:53.060Z"
   },
   {
    "duration": 5,
    "start_time": "2021-12-12T09:23:06.732Z"
   },
   {
    "duration": 2490,
    "start_time": "2021-12-12T09:23:06.996Z"
   },
   {
    "duration": 5,
    "start_time": "2021-12-12T09:23:16.364Z"
   },
   {
    "duration": 2592,
    "start_time": "2021-12-12T09:23:16.659Z"
   },
   {
    "duration": 7,
    "start_time": "2021-12-12T09:23:44.525Z"
   },
   {
    "duration": 2592,
    "start_time": "2021-12-12T09:23:44.916Z"
   },
   {
    "duration": 2611,
    "start_time": "2021-12-12T09:24:14.403Z"
   },
   {
    "duration": 5,
    "start_time": "2021-12-12T09:24:34.780Z"
   },
   {
    "duration": 2640,
    "start_time": "2021-12-12T09:24:35.115Z"
   },
   {
    "duration": 5,
    "start_time": "2021-12-12T09:25:14.804Z"
   },
   {
    "duration": 2537,
    "start_time": "2021-12-12T09:25:16.307Z"
   },
   {
    "duration": 5,
    "start_time": "2021-12-12T09:26:09.229Z"
   },
   {
    "duration": 2513,
    "start_time": "2021-12-12T09:26:10.356Z"
   },
   {
    "duration": 2497,
    "start_time": "2021-12-12T09:26:32.931Z"
   },
   {
    "duration": 2560,
    "start_time": "2021-12-12T09:26:53.148Z"
   },
   {
    "duration": 6,
    "start_time": "2021-12-12T09:35:53.443Z"
   },
   {
    "duration": 3097,
    "start_time": "2021-12-12T09:35:53.883Z"
   },
   {
    "duration": 5,
    "start_time": "2021-12-12T09:36:33.547Z"
   },
   {
    "duration": 2548,
    "start_time": "2021-12-12T09:36:33.890Z"
   },
   {
    "duration": 5,
    "start_time": "2021-12-12T09:38:03.620Z"
   },
   {
    "duration": 2552,
    "start_time": "2021-12-12T09:38:03.963Z"
   },
   {
    "duration": 6,
    "start_time": "2021-12-12T09:38:39.316Z"
   },
   {
    "duration": 2629,
    "start_time": "2021-12-12T09:38:39.531Z"
   },
   {
    "duration": 6,
    "start_time": "2021-12-12T09:38:51.547Z"
   },
   {
    "duration": 2606,
    "start_time": "2021-12-12T09:38:51.890Z"
   },
   {
    "duration": 2823,
    "start_time": "2021-12-12T09:41:01.459Z"
   },
   {
    "duration": 6,
    "start_time": "2021-12-12T09:41:11.922Z"
   },
   {
    "duration": 2632,
    "start_time": "2021-12-12T09:41:12.467Z"
   },
   {
    "duration": 2645,
    "start_time": "2021-12-12T09:41:30.883Z"
   },
   {
    "duration": 2524,
    "start_time": "2021-12-12T09:41:45.412Z"
   },
   {
    "duration": 2,
    "start_time": "2021-12-12T09:43:14.578Z"
   },
   {
    "duration": 2446,
    "start_time": "2021-12-12T09:44:05.387Z"
   },
   {
    "duration": 5,
    "start_time": "2021-12-12T09:44:33.859Z"
   },
   {
    "duration": 3,
    "start_time": "2021-12-12T09:44:34.586Z"
   },
   {
    "duration": 2567,
    "start_time": "2021-12-12T09:44:34.986Z"
   },
   {
    "duration": 2646,
    "start_time": "2021-12-12T09:44:48.083Z"
   },
   {
    "duration": 2508,
    "start_time": "2021-12-12T09:45:02.995Z"
   },
   {
    "duration": 4,
    "start_time": "2021-12-12T09:46:27.226Z"
   },
   {
    "duration": 14,
    "start_time": "2021-12-12T09:46:32.154Z"
   },
   {
    "duration": 6,
    "start_time": "2021-12-12T09:46:56.385Z"
   },
   {
    "duration": 6,
    "start_time": "2021-12-12T09:47:29.618Z"
   },
   {
    "duration": 2,
    "start_time": "2021-12-12T09:47:30.258Z"
   },
   {
    "duration": 2475,
    "start_time": "2021-12-12T09:47:30.593Z"
   },
   {
    "duration": 2484,
    "start_time": "2021-12-12T09:47:34.961Z"
   },
   {
    "duration": 2707,
    "start_time": "2021-12-12T09:47:39.778Z"
   },
   {
    "duration": 3,
    "start_time": "2021-12-12T09:47:43.738Z"
   },
   {
    "duration": 8,
    "start_time": "2021-12-12T09:47:44.066Z"
   },
   {
    "duration": 5,
    "start_time": "2021-12-12T09:58:31.858Z"
   },
   {
    "duration": 1149,
    "start_time": "2021-12-12T10:01:21.400Z"
   },
   {
    "duration": 3,
    "start_time": "2021-12-12T10:01:22.551Z"
   },
   {
    "duration": 408,
    "start_time": "2021-12-12T10:01:22.555Z"
   },
   {
    "duration": 8,
    "start_time": "2021-12-12T10:01:22.964Z"
   },
   {
    "duration": 859,
    "start_time": "2021-12-12T10:01:22.974Z"
   },
   {
    "duration": 9,
    "start_time": "2021-12-12T10:01:23.835Z"
   },
   {
    "duration": 8,
    "start_time": "2021-12-12T10:01:23.846Z"
   },
   {
    "duration": 19,
    "start_time": "2021-12-12T10:01:23.857Z"
   },
   {
    "duration": 2266,
    "start_time": "2021-12-12T10:01:23.879Z"
   },
   {
    "duration": 28,
    "start_time": "2021-12-12T10:01:26.147Z"
   },
   {
    "duration": 2067,
    "start_time": "2021-12-12T10:01:26.178Z"
   },
   {
    "duration": 106,
    "start_time": "2021-12-12T10:01:28.248Z"
   },
   {
    "duration": 1590,
    "start_time": "2021-12-12T10:01:28.355Z"
   },
   {
    "duration": 4,
    "start_time": "2021-12-12T10:01:29.948Z"
   },
   {
    "duration": 99,
    "start_time": "2021-12-12T10:01:29.954Z"
   },
   {
    "duration": 7,
    "start_time": "2021-12-12T10:01:30.055Z"
   },
   {
    "duration": 13,
    "start_time": "2021-12-12T10:01:30.063Z"
   },
   {
    "duration": 22,
    "start_time": "2021-12-12T10:01:30.078Z"
   },
   {
    "duration": 5,
    "start_time": "2021-12-12T10:01:30.102Z"
   },
   {
    "duration": 12,
    "start_time": "2021-12-12T10:01:30.109Z"
   },
   {
    "duration": 2472,
    "start_time": "2021-12-12T10:01:30.123Z"
   },
   {
    "duration": 2433,
    "start_time": "2021-12-12T10:01:32.597Z"
   },
   {
    "duration": 2443,
    "start_time": "2021-12-12T10:01:35.033Z"
   },
   {
    "duration": 5,
    "start_time": "2021-12-12T10:01:37.478Z"
   },
   {
    "duration": 12,
    "start_time": "2021-12-12T10:01:37.485Z"
   },
   {
    "duration": 4,
    "start_time": "2021-12-12T10:02:08.521Z"
   },
   {
    "duration": 8,
    "start_time": "2021-12-12T10:02:08.658Z"
   },
   {
    "duration": 1203,
    "start_time": "2021-12-12T10:02:15.319Z"
   },
   {
    "duration": 2,
    "start_time": "2021-12-12T10:02:16.525Z"
   },
   {
    "duration": 369,
    "start_time": "2021-12-12T10:02:16.529Z"
   },
   {
    "duration": 7,
    "start_time": "2021-12-12T10:02:16.900Z"
   },
   {
    "duration": 833,
    "start_time": "2021-12-12T10:02:16.909Z"
   },
   {
    "duration": 4,
    "start_time": "2021-12-12T10:02:17.744Z"
   },
   {
    "duration": 6,
    "start_time": "2021-12-12T10:02:17.750Z"
   },
   {
    "duration": 19,
    "start_time": "2021-12-12T10:02:17.758Z"
   },
   {
    "duration": 1766,
    "start_time": "2021-12-12T10:02:17.779Z"
   },
   {
    "duration": 107,
    "start_time": "2021-12-12T10:02:19.547Z"
   },
   {
    "duration": 1892,
    "start_time": "2021-12-12T10:02:19.655Z"
   },
   {
    "duration": 107,
    "start_time": "2021-12-12T10:02:21.550Z"
   },
   {
    "duration": 1685,
    "start_time": "2021-12-12T10:02:21.659Z"
   },
   {
    "duration": 96,
    "start_time": "2021-12-12T10:02:23.347Z"
   },
   {
    "duration": 6,
    "start_time": "2021-12-12T10:02:23.445Z"
   },
   {
    "duration": 6,
    "start_time": "2021-12-12T10:02:23.453Z"
   },
   {
    "duration": 4,
    "start_time": "2021-12-12T10:02:23.461Z"
   },
   {
    "duration": 21,
    "start_time": "2021-12-12T10:02:23.467Z"
   },
   {
    "duration": 6,
    "start_time": "2021-12-12T10:02:23.490Z"
   },
   {
    "duration": 8,
    "start_time": "2021-12-12T10:02:23.498Z"
   },
   {
    "duration": 2512,
    "start_time": "2021-12-12T10:02:23.507Z"
   },
   {
    "duration": 2624,
    "start_time": "2021-12-12T10:02:26.021Z"
   },
   {
    "duration": 2630,
    "start_time": "2021-12-12T10:02:28.647Z"
   },
   {
    "duration": 3,
    "start_time": "2021-12-12T10:02:31.279Z"
   },
   {
    "duration": 12,
    "start_time": "2021-12-12T10:02:31.284Z"
   },
   {
    "duration": 1188,
    "start_time": "2021-12-13T13:22:23.841Z"
   },
   {
    "duration": 3,
    "start_time": "2021-12-13T13:22:25.031Z"
   },
   {
    "duration": 382,
    "start_time": "2021-12-13T13:22:25.036Z"
   },
   {
    "duration": 7,
    "start_time": "2021-12-13T13:22:25.420Z"
   },
   {
    "duration": 952,
    "start_time": "2021-12-13T13:22:25.428Z"
   },
   {
    "duration": 3,
    "start_time": "2021-12-13T13:22:26.382Z"
   },
   {
    "duration": 19,
    "start_time": "2021-12-13T13:22:26.387Z"
   },
   {
    "duration": 19,
    "start_time": "2021-12-13T13:22:26.408Z"
   },
   {
    "duration": 1886,
    "start_time": "2021-12-13T13:22:26.429Z"
   },
   {
    "duration": 18,
    "start_time": "2021-12-13T13:22:28.407Z"
   },
   {
    "duration": 1781,
    "start_time": "2021-12-13T13:22:28.427Z"
   },
   {
    "duration": 108,
    "start_time": "2021-12-13T13:22:30.210Z"
   },
   {
    "duration": 1395,
    "start_time": "2021-12-13T13:22:30.320Z"
   },
   {
    "duration": 92,
    "start_time": "2021-12-13T13:22:31.719Z"
   },
   {
    "duration": 92,
    "start_time": "2021-12-13T13:22:31.816Z"
   },
   {
    "duration": 8,
    "start_time": "2021-12-13T13:22:31.910Z"
   },
   {
    "duration": 4,
    "start_time": "2021-12-13T13:22:36.147Z"
   },
   {
    "duration": 4,
    "start_time": "2021-12-13T13:22:56.636Z"
   },
   {
    "duration": 10,
    "start_time": "2021-12-13T13:23:09.171Z"
   },
   {
    "duration": 4,
    "start_time": "2021-12-13T13:24:15.395Z"
   },
   {
    "duration": 11,
    "start_time": "2021-12-13T13:24:19.091Z"
   },
   {
    "duration": 3,
    "start_time": "2021-12-13T13:24:31.219Z"
   },
   {
    "duration": 11,
    "start_time": "2021-12-13T13:24:31.579Z"
   },
   {
    "duration": 10,
    "start_time": "2021-12-13T13:24:31.955Z"
   },
   {
    "duration": 4,
    "start_time": "2021-12-13T13:24:40.355Z"
   },
   {
    "duration": 12,
    "start_time": "2021-12-13T13:24:40.827Z"
   },
   {
    "duration": 11,
    "start_time": "2021-12-13T13:24:41.299Z"
   },
   {
    "duration": 3,
    "start_time": "2021-12-13T13:30:23.076Z"
   },
   {
    "duration": 10,
    "start_time": "2021-12-13T13:30:23.476Z"
   },
   {
    "duration": 4,
    "start_time": "2021-12-13T13:30:30.900Z"
   },
   {
    "duration": 11,
    "start_time": "2021-12-13T13:30:31.307Z"
   },
   {
    "duration": 4,
    "start_time": "2021-12-13T13:30:51.427Z"
   },
   {
    "duration": 11,
    "start_time": "2021-12-13T13:30:52.619Z"
   },
   {
    "duration": 4,
    "start_time": "2021-12-13T13:32:14.891Z"
   },
   {
    "duration": 10,
    "start_time": "2021-12-13T13:32:15.244Z"
   },
   {
    "duration": 4,
    "start_time": "2021-12-13T13:32:40.299Z"
   },
   {
    "duration": 11,
    "start_time": "2021-12-13T13:32:40.628Z"
   },
   {
    "duration": 4,
    "start_time": "2021-12-13T13:32:52.031Z"
   },
   {
    "duration": 10,
    "start_time": "2021-12-13T13:32:52.412Z"
   },
   {
    "duration": 2,
    "start_time": "2021-12-13T13:33:40.092Z"
   },
   {
    "duration": 10,
    "start_time": "2021-12-13T13:37:30.708Z"
   },
   {
    "duration": 4,
    "start_time": "2021-12-13T13:37:40.419Z"
   },
   {
    "duration": 11,
    "start_time": "2021-12-13T13:37:41.075Z"
   },
   {
    "duration": 4,
    "start_time": "2021-12-13T13:37:48.499Z"
   },
   {
    "duration": 11,
    "start_time": "2021-12-13T13:37:48.811Z"
   },
   {
    "duration": 3,
    "start_time": "2021-12-13T13:39:41.371Z"
   },
   {
    "duration": 1167,
    "start_time": "2021-12-13T13:39:46.549Z"
   },
   {
    "duration": 3,
    "start_time": "2021-12-13T13:39:47.718Z"
   },
   {
    "duration": 392,
    "start_time": "2021-12-13T13:39:47.725Z"
   },
   {
    "duration": 8,
    "start_time": "2021-12-13T13:39:48.119Z"
   },
   {
    "duration": 1034,
    "start_time": "2021-12-13T13:39:48.129Z"
   },
   {
    "duration": 5,
    "start_time": "2021-12-13T13:39:49.166Z"
   },
   {
    "duration": 7,
    "start_time": "2021-12-13T13:39:49.174Z"
   },
   {
    "duration": 18,
    "start_time": "2021-12-13T13:39:49.207Z"
   },
   {
    "duration": 1381,
    "start_time": "2021-12-13T13:39:49.227Z"
   },
   {
    "duration": 106,
    "start_time": "2021-12-13T13:39:50.610Z"
   },
   {
    "duration": 1295,
    "start_time": "2021-12-13T13:39:50.717Z"
   },
   {
    "duration": 193,
    "start_time": "2021-12-13T13:39:52.014Z"
   },
   {
    "duration": 1003,
    "start_time": "2021-12-13T13:39:52.209Z"
   },
   {
    "duration": 92,
    "start_time": "2021-12-13T13:39:53.215Z"
   },
   {
    "duration": 420,
    "start_time": "2021-12-13T13:39:53.311Z"
   },
   {
    "duration": -514,
    "start_time": "2021-12-13T13:39:54.247Z"
   },
   {
    "duration": -514,
    "start_time": "2021-12-13T13:39:54.249Z"
   },
   {
    "duration": -515,
    "start_time": "2021-12-13T13:39:54.251Z"
   },
   {
    "duration": -517,
    "start_time": "2021-12-13T13:39:54.254Z"
   },
   {
    "duration": -518,
    "start_time": "2021-12-13T13:39:54.257Z"
   },
   {
    "duration": -520,
    "start_time": "2021-12-13T13:39:54.260Z"
   },
   {
    "duration": -523,
    "start_time": "2021-12-13T13:39:54.265Z"
   },
   {
    "duration": -524,
    "start_time": "2021-12-13T13:39:54.267Z"
   },
   {
    "duration": -524,
    "start_time": "2021-12-13T13:39:54.269Z"
   },
   {
    "duration": -525,
    "start_time": "2021-12-13T13:39:54.271Z"
   },
   {
    "duration": 4,
    "start_time": "2021-12-13T13:40:11.596Z"
   },
   {
    "duration": 5,
    "start_time": "2021-12-13T13:40:11.602Z"
   },
   {
    "duration": 5,
    "start_time": "2021-12-13T13:40:11.610Z"
   },
   {
    "duration": 25,
    "start_time": "2021-12-13T13:40:11.617Z"
   },
   {
    "duration": 7,
    "start_time": "2021-12-13T13:40:11.643Z"
   },
   {
    "duration": 9,
    "start_time": "2021-12-13T13:40:11.651Z"
   },
   {
    "duration": 3645,
    "start_time": "2021-12-13T13:40:11.662Z"
   },
   {
    "duration": 3434,
    "start_time": "2021-12-13T13:40:15.309Z"
   },
   {
    "duration": 3766,
    "start_time": "2021-12-13T13:40:18.745Z"
   },
   {
    "duration": 3,
    "start_time": "2021-12-13T13:40:22.513Z"
   },
   {
    "duration": 14,
    "start_time": "2021-12-13T13:40:22.518Z"
   },
   {
    "duration": 1262,
    "start_time": "2021-12-13T13:43:13.219Z"
   },
   {
    "duration": 2,
    "start_time": "2021-12-13T13:43:14.483Z"
   },
   {
    "duration": 388,
    "start_time": "2021-12-13T13:43:14.488Z"
   },
   {
    "duration": 7,
    "start_time": "2021-12-13T13:43:14.878Z"
   },
   {
    "duration": 854,
    "start_time": "2021-12-13T13:43:14.887Z"
   },
   {
    "duration": 4,
    "start_time": "2021-12-13T13:43:15.743Z"
   },
   {
    "duration": 8,
    "start_time": "2021-12-13T13:43:15.749Z"
   },
   {
    "duration": 20,
    "start_time": "2021-12-13T13:43:15.759Z"
   },
   {
    "duration": 1925,
    "start_time": "2021-12-13T13:43:15.782Z"
   },
   {
    "duration": 105,
    "start_time": "2021-12-13T13:43:17.711Z"
   },
   {
    "duration": 2091,
    "start_time": "2021-12-13T13:43:17.817Z"
   },
   {
    "duration": 108,
    "start_time": "2021-12-13T13:43:19.911Z"
   },
   {
    "duration": 1486,
    "start_time": "2021-12-13T13:43:20.021Z"
   },
   {
    "duration": 3,
    "start_time": "2021-12-13T13:43:21.510Z"
   },
   {
    "duration": 92,
    "start_time": "2021-12-13T13:43:21.517Z"
   },
   {
    "duration": 6,
    "start_time": "2021-12-13T13:43:21.611Z"
   },
   {
    "duration": 5,
    "start_time": "2021-12-13T13:43:21.619Z"
   },
   {
    "duration": 21,
    "start_time": "2021-12-13T13:43:21.625Z"
   },
   {
    "duration": 5,
    "start_time": "2021-12-13T13:43:21.648Z"
   },
   {
    "duration": 7,
    "start_time": "2021-12-13T13:43:21.655Z"
   },
   {
    "duration": 3440,
    "start_time": "2021-12-13T13:43:21.664Z"
   },
   {
    "duration": 3286,
    "start_time": "2021-12-13T13:43:25.107Z"
   },
   {
    "duration": 3216,
    "start_time": "2021-12-13T13:43:28.394Z"
   },
   {
    "duration": 3,
    "start_time": "2021-12-13T13:43:31.612Z"
   },
   {
    "duration": 12,
    "start_time": "2021-12-13T13:43:31.617Z"
   }
  ],
  "hide_input": false,
  "kernelspec": {
   "display_name": "Python 3 (ipykernel)",
   "language": "python",
   "name": "python3"
  },
  "language_info": {
   "codemirror_mode": {
    "name": "ipython",
    "version": 3
   },
   "file_extension": ".py",
   "mimetype": "text/x-python",
   "name": "python",
   "nbconvert_exporter": "python",
   "pygments_lexer": "ipython3",
   "version": "3.9.7"
  },
  "toc": {
   "base_numbering": 1,
   "nav_menu": {},
   "number_sections": true,
   "sideBar": true,
   "skip_h1_title": true,
   "title_cell": "Table of Contents",
   "title_sidebar": "Contents",
   "toc_cell": false,
   "toc_position": {},
   "toc_section_display": true,
   "toc_window_display": false
  },
  "varInspector": {
   "cols": {
    "lenName": 16,
    "lenType": 16,
    "lenVar": 40
   },
   "kernels_config": {
    "python": {
     "delete_cmd_postfix": "",
     "delete_cmd_prefix": "del ",
     "library": "var_list.py",
     "varRefreshCmd": "print(var_dic_list())"
    },
    "r": {
     "delete_cmd_postfix": ") ",
     "delete_cmd_prefix": "rm(",
     "library": "var_list.r",
     "varRefreshCmd": "cat(var_dic_list()) "
    }
   },
   "types_to_exclude": [
    "module",
    "function",
    "builtin_function_or_method",
    "instance",
    "_Feature"
   ],
   "window_display": false
  }
 },
 "nbformat": 4,
 "nbformat_minor": 2
}
