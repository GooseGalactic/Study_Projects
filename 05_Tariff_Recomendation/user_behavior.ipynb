{
 "cells": [
  {
   "cell_type": "markdown",
   "metadata": {},
   "source": [
    "## Изучение данных"
   ]
  },
  {
   "cell_type": "code",
   "execution_count": 1,
   "metadata": {
    "ExecuteTime": {
     "end_time": "2022-02-06T15:57:37.606103Z",
     "start_time": "2022-02-06T15:57:35.340275Z"
    }
   },
   "outputs": [],
   "source": [
    "#Импортируем все нужные библиотеки\n",
    "\n",
    "import pandas as pd\n",
    "from sklearn.tree import DecisionTreeClassifier\n",
    "from sklearn.ensemble import RandomForestClassifier\n",
    "from sklearn.linear_model import LogisticRegression\n",
    "from sklearn.model_selection import train_test_split\n",
    "from sklearn.metrics import accuracy_score\n",
    "from sklearn.dummy import DummyClassifier\n",
    "from tqdm import tqdm\n",
    "import matplotlib.pyplot as plt\n",
    "import plotly.express as px"
   ]
  },
  {
   "cell_type": "code",
   "execution_count": 2,
   "metadata": {
    "ExecuteTime": {
     "end_time": "2022-02-06T15:57:37.621621Z",
     "start_time": "2022-02-06T15:57:37.608056Z"
    }
   },
   "outputs": [],
   "source": [
    "#Отключаем warnings\n",
    "\n",
    "import warnings\n",
    "warnings.filterwarnings(\"ignore\")"
   ]
  },
  {
   "cell_type": "code",
   "execution_count": 3,
   "metadata": {
    "ExecuteTime": {
     "end_time": "2022-02-06T15:57:37.653686Z",
     "start_time": "2022-02-06T15:57:37.623615Z"
    }
   },
   "outputs": [],
   "source": [
    "df = pd.read_csv('users_behavior.csv')"
   ]
  },
  {
   "cell_type": "code",
   "execution_count": 4,
   "metadata": {
    "ExecuteTime": {
     "end_time": "2022-02-06T15:57:37.685599Z",
     "start_time": "2022-02-06T15:57:37.655679Z"
    }
   },
   "outputs": [
    {
     "data": {
      "text/html": [
       "<div>\n",
       "<style scoped>\n",
       "    .dataframe tbody tr th:only-of-type {\n",
       "        vertical-align: middle;\n",
       "    }\n",
       "\n",
       "    .dataframe tbody tr th {\n",
       "        vertical-align: top;\n",
       "    }\n",
       "\n",
       "    .dataframe thead th {\n",
       "        text-align: right;\n",
       "    }\n",
       "</style>\n",
       "<table border=\"1\" class=\"dataframe\">\n",
       "  <thead>\n",
       "    <tr style=\"text-align: right;\">\n",
       "      <th></th>\n",
       "      <th>calls</th>\n",
       "      <th>minutes</th>\n",
       "      <th>messages</th>\n",
       "      <th>mb_used</th>\n",
       "      <th>is_ultra</th>\n",
       "    </tr>\n",
       "  </thead>\n",
       "  <tbody>\n",
       "    <tr>\n",
       "      <th>0</th>\n",
       "      <td>40.0</td>\n",
       "      <td>311.90</td>\n",
       "      <td>83.0</td>\n",
       "      <td>19915.42</td>\n",
       "      <td>0</td>\n",
       "    </tr>\n",
       "    <tr>\n",
       "      <th>1</th>\n",
       "      <td>85.0</td>\n",
       "      <td>516.75</td>\n",
       "      <td>56.0</td>\n",
       "      <td>22696.96</td>\n",
       "      <td>0</td>\n",
       "    </tr>\n",
       "    <tr>\n",
       "      <th>2</th>\n",
       "      <td>77.0</td>\n",
       "      <td>467.66</td>\n",
       "      <td>86.0</td>\n",
       "      <td>21060.45</td>\n",
       "      <td>0</td>\n",
       "    </tr>\n",
       "    <tr>\n",
       "      <th>3</th>\n",
       "      <td>106.0</td>\n",
       "      <td>745.53</td>\n",
       "      <td>81.0</td>\n",
       "      <td>8437.39</td>\n",
       "      <td>1</td>\n",
       "    </tr>\n",
       "    <tr>\n",
       "      <th>4</th>\n",
       "      <td>66.0</td>\n",
       "      <td>418.74</td>\n",
       "      <td>1.0</td>\n",
       "      <td>14502.75</td>\n",
       "      <td>0</td>\n",
       "    </tr>\n",
       "  </tbody>\n",
       "</table>\n",
       "</div>"
      ],
      "text/plain": [
       "   calls  minutes  messages   mb_used  is_ultra\n",
       "0   40.0   311.90      83.0  19915.42         0\n",
       "1   85.0   516.75      56.0  22696.96         0\n",
       "2   77.0   467.66      86.0  21060.45         0\n",
       "3  106.0   745.53      81.0   8437.39         1\n",
       "4   66.0   418.74       1.0  14502.75         0"
      ]
     },
     "execution_count": 4,
     "metadata": {},
     "output_type": "execute_result"
    }
   ],
   "source": [
    "df.head()"
   ]
  },
  {
   "cell_type": "markdown",
   "metadata": {},
   "source": [
    "В данном датасете в признаке `is_ultra` \"0\" обозначены пользователи тарифа **Смарт**, а \"1\" - пользователи тарифа **Ультра**. По условию данные были предобработаны.  \n",
    "Выведем меры центральной тенденции по признакам"
   ]
  },
  {
   "cell_type": "code",
   "execution_count": 5,
   "metadata": {
    "ExecuteTime": {
     "end_time": "2022-02-06T15:57:37.717546Z",
     "start_time": "2022-02-06T15:57:37.687594Z"
    }
   },
   "outputs": [
    {
     "data": {
      "text/html": [
       "<div>\n",
       "<style scoped>\n",
       "    .dataframe tbody tr th:only-of-type {\n",
       "        vertical-align: middle;\n",
       "    }\n",
       "\n",
       "    .dataframe tbody tr th {\n",
       "        vertical-align: top;\n",
       "    }\n",
       "\n",
       "    .dataframe thead th {\n",
       "        text-align: right;\n",
       "    }\n",
       "</style>\n",
       "<table border=\"1\" class=\"dataframe\">\n",
       "  <thead>\n",
       "    <tr style=\"text-align: right;\">\n",
       "      <th></th>\n",
       "      <th>calls</th>\n",
       "      <th>minutes</th>\n",
       "      <th>messages</th>\n",
       "      <th>mb_used</th>\n",
       "      <th>is_ultra</th>\n",
       "    </tr>\n",
       "  </thead>\n",
       "  <tbody>\n",
       "    <tr>\n",
       "      <th>count</th>\n",
       "      <td>3214.000000</td>\n",
       "      <td>3214.000000</td>\n",
       "      <td>3214.000000</td>\n",
       "      <td>3214.000000</td>\n",
       "      <td>3214.000000</td>\n",
       "    </tr>\n",
       "    <tr>\n",
       "      <th>mean</th>\n",
       "      <td>63.038892</td>\n",
       "      <td>438.208787</td>\n",
       "      <td>38.281269</td>\n",
       "      <td>17207.673836</td>\n",
       "      <td>0.306472</td>\n",
       "    </tr>\n",
       "    <tr>\n",
       "      <th>std</th>\n",
       "      <td>33.236368</td>\n",
       "      <td>234.569872</td>\n",
       "      <td>36.148326</td>\n",
       "      <td>7570.968246</td>\n",
       "      <td>0.461100</td>\n",
       "    </tr>\n",
       "    <tr>\n",
       "      <th>min</th>\n",
       "      <td>0.000000</td>\n",
       "      <td>0.000000</td>\n",
       "      <td>0.000000</td>\n",
       "      <td>0.000000</td>\n",
       "      <td>0.000000</td>\n",
       "    </tr>\n",
       "    <tr>\n",
       "      <th>25%</th>\n",
       "      <td>40.000000</td>\n",
       "      <td>274.575000</td>\n",
       "      <td>9.000000</td>\n",
       "      <td>12491.902500</td>\n",
       "      <td>0.000000</td>\n",
       "    </tr>\n",
       "    <tr>\n",
       "      <th>50%</th>\n",
       "      <td>62.000000</td>\n",
       "      <td>430.600000</td>\n",
       "      <td>30.000000</td>\n",
       "      <td>16943.235000</td>\n",
       "      <td>0.000000</td>\n",
       "    </tr>\n",
       "    <tr>\n",
       "      <th>75%</th>\n",
       "      <td>82.000000</td>\n",
       "      <td>571.927500</td>\n",
       "      <td>57.000000</td>\n",
       "      <td>21424.700000</td>\n",
       "      <td>1.000000</td>\n",
       "    </tr>\n",
       "    <tr>\n",
       "      <th>max</th>\n",
       "      <td>244.000000</td>\n",
       "      <td>1632.060000</td>\n",
       "      <td>224.000000</td>\n",
       "      <td>49745.730000</td>\n",
       "      <td>1.000000</td>\n",
       "    </tr>\n",
       "  </tbody>\n",
       "</table>\n",
       "</div>"
      ],
      "text/plain": [
       "             calls      minutes     messages       mb_used     is_ultra\n",
       "count  3214.000000  3214.000000  3214.000000   3214.000000  3214.000000\n",
       "mean     63.038892   438.208787    38.281269  17207.673836     0.306472\n",
       "std      33.236368   234.569872    36.148326   7570.968246     0.461100\n",
       "min       0.000000     0.000000     0.000000      0.000000     0.000000\n",
       "25%      40.000000   274.575000     9.000000  12491.902500     0.000000\n",
       "50%      62.000000   430.600000    30.000000  16943.235000     0.000000\n",
       "75%      82.000000   571.927500    57.000000  21424.700000     1.000000\n",
       "max     244.000000  1632.060000   224.000000  49745.730000     1.000000"
      ]
     },
     "execution_count": 5,
     "metadata": {},
     "output_type": "execute_result"
    }
   ],
   "source": [
    "df.describe()"
   ]
  },
  {
   "cell_type": "markdown",
   "metadata": {},
   "source": [
    "Перед нами стоит задача **бинарной классификации** - необходимо предложить пользователям перейти с архивных тарифов на новые согласно их портрету"
   ]
  },
  {
   "cell_type": "markdown",
   "metadata": {},
   "source": [
    "Оценим мультиколлинеарность признаков"
   ]
  },
  {
   "cell_type": "code",
   "execution_count": 6,
   "metadata": {
    "ExecuteTime": {
     "end_time": "2022-02-06T15:57:39.677185Z",
     "start_time": "2022-02-06T15:57:37.718543Z"
    }
   },
   "outputs": [
    {
     "data": {
      "image/png": "[encoded data removed]"
     },
     "metadata": {},
     "output_type": "display_data"
    }
   ],
   "source": [
    "fig = px.scatter_matrix(df.drop('is_ultra', axis=1), opacity=0.3)\n",
    "fig.update_layout(title_text='Матрица корреляции признаков', title_x=0.5)\n",
    "fig.show('png')"
   ]
  },
  {
   "cell_type": "code",
   "execution_count": 7,
   "metadata": {
    "ExecuteTime": {
     "end_time": "2022-02-06T15:57:39.692146Z",
     "start_time": "2022-02-06T15:57:39.679180Z"
    }
   },
   "outputs": [
    {
     "data": {
      "text/html": [
       "<div>\n",
       "<style scoped>\n",
       "    .dataframe tbody tr th:only-of-type {\n",
       "        vertical-align: middle;\n",
       "    }\n",
       "\n",
       "    .dataframe tbody tr th {\n",
       "        vertical-align: top;\n",
       "    }\n",
       "\n",
       "    .dataframe thead th {\n",
       "        text-align: right;\n",
       "    }\n",
       "</style>\n",
       "<table border=\"1\" class=\"dataframe\">\n",
       "  <thead>\n",
       "    <tr style=\"text-align: right;\">\n",
       "      <th></th>\n",
       "      <th>calls</th>\n",
       "      <th>minutes</th>\n",
       "      <th>messages</th>\n",
       "      <th>mb_used</th>\n",
       "    </tr>\n",
       "  </thead>\n",
       "  <tbody>\n",
       "    <tr>\n",
       "      <th>calls</th>\n",
       "      <td>1.000000</td>\n",
       "      <td>0.982083</td>\n",
       "      <td>0.177385</td>\n",
       "      <td>0.286442</td>\n",
       "    </tr>\n",
       "    <tr>\n",
       "      <th>minutes</th>\n",
       "      <td>0.982083</td>\n",
       "      <td>1.000000</td>\n",
       "      <td>0.173110</td>\n",
       "      <td>0.280967</td>\n",
       "    </tr>\n",
       "    <tr>\n",
       "      <th>messages</th>\n",
       "      <td>0.177385</td>\n",
       "      <td>0.173110</td>\n",
       "      <td>1.000000</td>\n",
       "      <td>0.195721</td>\n",
       "    </tr>\n",
       "    <tr>\n",
       "      <th>mb_used</th>\n",
       "      <td>0.286442</td>\n",
       "      <td>0.280967</td>\n",
       "      <td>0.195721</td>\n",
       "      <td>1.000000</td>\n",
       "    </tr>\n",
       "  </tbody>\n",
       "</table>\n",
       "</div>"
      ],
      "text/plain": [
       "             calls   minutes  messages   mb_used\n",
       "calls     1.000000  0.982083  0.177385  0.286442\n",
       "minutes   0.982083  1.000000  0.173110  0.280967\n",
       "messages  0.177385  0.173110  1.000000  0.195721\n",
       "mb_used   0.286442  0.280967  0.195721  1.000000"
      ]
     },
     "execution_count": 7,
     "metadata": {},
     "output_type": "execute_result"
    }
   ],
   "source": [
    "df.drop('is_ultra', axis=1).corr()"
   ]
  },
  {
   "cell_type": "markdown",
   "metadata": {},
   "source": [
    "Признаки `calls` и `minutes` показывают высокие значения корреляции (сильная связь). Для обучения модели один из них (`calls`) можно не включать в выборки"
   ]
  },
  {
   "cell_type": "markdown",
   "metadata": {},
   "source": [
    "## Создание выборок"
   ]
  },
  {
   "cell_type": "markdown",
   "metadata": {},
   "source": [
    "Выделим из датасета признаки и целевой признак"
   ]
  },
  {
   "cell_type": "code",
   "execution_count": 8,
   "metadata": {
    "ExecuteTime": {
     "end_time": "2022-02-06T15:57:39.724060Z",
     "start_time": "2022-02-06T15:57:39.694140Z"
    }
   },
   "outputs": [],
   "source": [
    "features = df.drop(['is_ultra', 'calls'], axis=1)\n",
    "target = df['is_ultra']"
   ]
  },
  {
   "cell_type": "markdown",
   "metadata": {},
   "source": [
    "Разобьем датасет на обучающую, валидационную и тестовую выборки. Возьмем соотношение 60:20:20  - таким образом, валидационная и тестовые выборки будут составлять по 20% всего датасета.  \n",
    "`train_test_split` умеет делить данные на две части. Применим её дважды - сначала получим обучающую выборку и промежуточную (60:40) и потом промежуточную разделим на валидационную и тестовую (50:50)."
   ]
  },
  {
   "cell_type": "code",
   "execution_count": 9,
   "metadata": {
    "ExecuteTime": {
     "end_time": "2022-02-06T15:57:39.740018Z",
     "start_time": "2022-02-06T15:57:39.726055Z"
    }
   },
   "outputs": [],
   "source": [
    "features_train, features_inter, target_train, target_inter = train_test_split(\n",
    "    features, \n",
    "    target, \n",
    "    test_size=0.4, \n",
    "    random_state=12345,\n",
    "    stratify = target\n",
    ")"
   ]
  },
  {
   "cell_type": "code",
   "execution_count": 10,
   "metadata": {
    "ExecuteTime": {
     "end_time": "2022-02-06T15:57:39.755974Z",
     "start_time": "2022-02-06T15:57:39.743010Z"
    }
   },
   "outputs": [
    {
     "data": {
      "text/plain": [
       "(1928, 1286)"
      ]
     },
     "execution_count": 10,
     "metadata": {},
     "output_type": "execute_result"
    }
   ],
   "source": [
    "#Проверяем размеры полученных датасетов, должны быть 60:40\n",
    "len(features_train), len(features_inter) "
   ]
  },
  {
   "cell_type": "code",
   "execution_count": 11,
   "metadata": {
    "ExecuteTime": {
     "end_time": "2022-02-06T15:57:39.777916Z",
     "start_time": "2022-02-06T15:57:39.757970Z"
    }
   },
   "outputs": [],
   "source": [
    "features_valid, features_test, target_valid, target_test = train_test_split(\n",
    "    features_inter, \n",
    "    target_inter, \n",
    "    test_size=0.5, \n",
    "    random_state=12345,\n",
    "    stratify=target_inter\n",
    ")"
   ]
  },
  {
   "cell_type": "code",
   "execution_count": 12,
   "metadata": {
    "ExecuteTime": {
     "end_time": "2022-02-06T15:57:39.786893Z",
     "start_time": "2022-02-06T15:57:39.779911Z"
    }
   },
   "outputs": [
    {
     "data": {
      "text/plain": [
       "(643, 643)"
      ]
     },
     "execution_count": 12,
     "metadata": {},
     "output_type": "execute_result"
    }
   ],
   "source": [
    "len(features_valid), len(features_test)"
   ]
  },
  {
   "cell_type": "markdown",
   "metadata": {},
   "source": [
    "## Исследование моделей"
   ]
  },
  {
   "cell_type": "markdown",
   "metadata": {},
   "source": [
    "Создадим три модели:\n",
    "1) Решающее дерево  \n",
    "2) Случайный лес  \n",
    "3) Логистическая регрессия  \n",
    "   \n",
    "Для каждой из них подберем лучшие гиперпараметры и сравним значение `accuracy`. Самая точная модель пройдет проверку на тестовой выборке"
   ]
  },
  {
   "cell_type": "markdown",
   "metadata": {},
   "source": [
    "### Решающее дерево"
   ]
  },
  {
   "cell_type": "code",
   "execution_count": 13,
   "metadata": {
    "ExecuteTime": {
     "end_time": "2022-02-06T15:57:39.881560Z",
     "start_time": "2022-02-06T15:57:39.788887Z"
    }
   },
   "outputs": [
    {
     "name": "stderr",
     "output_type": "stream",
     "text": [
      "100%|█████████████████████████████████████████████████████████████████████████████████| 10/10 [00:00<00:00, 133.83it/s]"
     ]
    },
    {
     "name": "stdout",
     "output_type": "stream",
     "text": [
      "max_depth = 1 : 0.7402799377916018\n",
      "max_depth = 2 : 0.7822706065318819\n",
      "max_depth = 3 : 0.7900466562986003\n",
      "max_depth = 4 : 0.7636080870917574\n",
      "max_depth = 5 : 0.7791601866251944\n",
      "max_depth = 6 : 0.7853810264385692\n",
      "max_depth = 7 : 0.7900466562986003\n",
      "max_depth = 8 : 0.7916018662519441\n",
      "max_depth = 9 : 0.7916018662519441\n",
      "max_depth = 10 : 0.7776049766718507\n"
     ]
    },
    {
     "name": "stderr",
     "output_type": "stream",
     "text": [
      "\n"
     ]
    }
   ],
   "source": [
    "#Создаем модель решающего дерева, проверяем значения параметра max_depth \n",
    "#В условие цикла вставим таймер из библиотеки tqdm\n",
    "for depth in tqdm(range(1, 11)):  \n",
    "    model = DecisionTreeClassifier(random_state=12345, max_depth=depth) \n",
    "    model.fit(features_train, target_train) \n",
    "    predictions_valid = model.predict(features_valid) \n",
    "    print(\"max_depth =\", depth, \": \", end='')\n",
    "    print(accuracy_score(target_valid, predictions_valid))"
   ]
  },
  {
   "cell_type": "markdown",
   "metadata": {},
   "source": [
    "Максимальное значение `accuracy` было получено при значении глубины `max_depth = 8`. Сохраним модель в переменную"
   ]
  },
  {
   "cell_type": "code",
   "execution_count": 14,
   "metadata": {
    "ExecuteTime": {
     "end_time": "2022-02-06T15:57:39.897517Z",
     "start_time": "2022-02-06T15:57:39.883555Z"
    }
   },
   "outputs": [],
   "source": [
    "#Создаем модель, обучаем ее на выборке\n",
    "\n",
    "model_1 = DecisionTreeClassifier(random_state=12345, max_depth=8)\n",
    "model_1.fit(features_train, target_train)\n",
    "prediction_1 = model_1.predict(features_valid)\n",
    "accuracy_1 = accuracy_score(target_valid, prediction_1)"
   ]
  },
  {
   "cell_type": "code",
   "execution_count": 15,
   "metadata": {
    "ExecuteTime": {
     "end_time": "2022-02-06T15:57:39.913474Z",
     "start_time": "2022-02-06T15:57:39.900510Z"
    }
   },
   "outputs": [
    {
     "data": {
      "text/plain": [
       "0.7916018662519441"
      ]
     },
     "execution_count": 15,
     "metadata": {},
     "output_type": "execute_result"
    }
   ],
   "source": [
    "accuracy_1"
   ]
  },
  {
   "cell_type": "markdown",
   "metadata": {},
   "source": [
    "### Случайный лес"
   ]
  },
  {
   "cell_type": "markdown",
   "metadata": {},
   "source": [
    "Как и в случае с решающим деревом, необходимо создать модель, подобрать гиперпараметры (в данном случае количество деревьев и глубину)"
   ]
  },
  {
   "cell_type": "code",
   "execution_count": 16,
   "metadata": {
    "ExecuteTime": {
     "end_time": "2022-02-06T15:57:55.677711Z",
     "start_time": "2022-02-06T15:57:39.914472Z"
    }
   },
   "outputs": [
    {
     "name": "stderr",
     "output_type": "stream",
     "text": [
      "100%|██████████████████████████████████████████████████████████████████████████████████| 10/10 [00:15<00:00,  1.58s/it]\n"
     ]
    }
   ],
   "source": [
    "model_2 = None\n",
    "accuracy_2 = 0\n",
    "best_est = 0\n",
    "best_depth = 0\n",
    "for est in tqdm(range(10, 101, 10)):\n",
    "    for depth in range (1, 15):\n",
    "        model = RandomForestClassifier(random_state=12345, n_estimators=est, max_depth=depth) \n",
    "        model.fit(features_train, target_train) \n",
    "        predictions_valid = model.predict(features_valid) \n",
    "        accuracy = accuracy_score(target_valid, predictions_valid)\n",
    "        if accuracy > accuracy_2:\n",
    "            model_2 = model\n",
    "            accuracy_2 = accuracy\n",
    "            best_est = est\n",
    "            best_depth = depth"
   ]
  },
  {
   "cell_type": "code",
   "execution_count": 17,
   "metadata": {
    "ExecuteTime": {
     "end_time": "2022-02-06T15:57:55.693106Z",
     "start_time": "2022-02-06T15:57:55.679706Z"
    }
   },
   "outputs": [
    {
     "name": "stdout",
     "output_type": "stream",
     "text": [
      "Accuracy лучшей модели на валидационной выборке: 0.8164852255054432 Количество деревьев: 50 Максимальная глубина: 12\n"
     ]
    }
   ],
   "source": [
    "print(\"Accuracy лучшей модели на валидационной выборке:\", accuracy_2, \n",
    "      \"Количество деревьев:\", best_est, \n",
    "      \"Максимальная глубина:\", best_depth\n",
    ")"
   ]
  },
  {
   "cell_type": "markdown",
   "metadata": {},
   "source": [
    "Случайный лес показал лучшие результаты по метрике `accuracy`, нежели модель решающего дерева."
   ]
  },
  {
   "cell_type": "markdown",
   "metadata": {},
   "source": [
    "### Логистическая регрессия"
   ]
  },
  {
   "cell_type": "code",
   "execution_count": 18,
   "metadata": {
    "ExecuteTime": {
     "end_time": "2022-02-06T15:57:55.739318Z",
     "start_time": "2022-02-06T15:57:55.696405Z"
    }
   },
   "outputs": [],
   "source": [
    "model_3 = LogisticRegression(random_state=12345)\n",
    "model_3.fit(features_train, target_train)\n",
    "predictions_3 = model_3.predict(features_valid)\n",
    "accuracy_3 = accuracy_score(target_valid, predictions_valid)"
   ]
  },
  {
   "cell_type": "code",
   "execution_count": 19,
   "metadata": {
    "ExecuteTime": {
     "end_time": "2022-02-06T15:57:55.755246Z",
     "start_time": "2022-02-06T15:57:55.740286Z"
    }
   },
   "outputs": [
    {
     "data": {
      "text/plain": [
       "0.8009331259720062"
      ]
     },
     "execution_count": 19,
     "metadata": {},
     "output_type": "execute_result"
    }
   ],
   "source": [
    "accuracy_3"
   ]
  },
  {
   "cell_type": "markdown",
   "metadata": {},
   "source": [
    "### Дообучение моделей"
   ]
  },
  {
   "cell_type": "markdown",
   "metadata": {},
   "source": [
    "Мы подобрали гиперпараметры для каждой из трех моделей, теперь можно дообучить модели на train+valid выборке, чтобы не терять данные.  \n",
    "Для этого сначала объеденим выборки с помощью `concat` и проверим правильность объединения по индексам"
   ]
  },
  {
   "cell_type": "code",
   "execution_count": 20,
   "metadata": {
    "ExecuteTime": {
     "end_time": "2022-02-06T15:57:55.771204Z",
     "start_time": "2022-02-06T15:57:55.757249Z"
    }
   },
   "outputs": [
    {
     "data": {
      "text/html": [
       "<div>\n",
       "<style scoped>\n",
       "    .dataframe tbody tr th:only-of-type {\n",
       "        vertical-align: middle;\n",
       "    }\n",
       "\n",
       "    .dataframe tbody tr th {\n",
       "        vertical-align: top;\n",
       "    }\n",
       "\n",
       "    .dataframe thead th {\n",
       "        text-align: right;\n",
       "    }\n",
       "</style>\n",
       "<table border=\"1\" class=\"dataframe\">\n",
       "  <thead>\n",
       "    <tr style=\"text-align: right;\">\n",
       "      <th></th>\n",
       "      <th>minutes</th>\n",
       "      <th>messages</th>\n",
       "      <th>mb_used</th>\n",
       "    </tr>\n",
       "  </thead>\n",
       "  <tbody>\n",
       "    <tr>\n",
       "      <th>2294</th>\n",
       "      <td>484.49</td>\n",
       "      <td>11.0</td>\n",
       "      <td>22454.35</td>\n",
       "    </tr>\n",
       "    <tr>\n",
       "      <th>1759</th>\n",
       "      <td>328.88</td>\n",
       "      <td>24.0</td>\n",
       "      <td>20511.93</td>\n",
       "    </tr>\n",
       "    <tr>\n",
       "      <th>529</th>\n",
       "      <td>705.05</td>\n",
       "      <td>18.0</td>\n",
       "      <td>22130.74</td>\n",
       "    </tr>\n",
       "    <tr>\n",
       "      <th>1599</th>\n",
       "      <td>135.52</td>\n",
       "      <td>48.0</td>\n",
       "      <td>13152.50</td>\n",
       "    </tr>\n",
       "    <tr>\n",
       "      <th>1868</th>\n",
       "      <td>159.55</td>\n",
       "      <td>0.0</td>\n",
       "      <td>14780.00</td>\n",
       "    </tr>\n",
       "    <tr>\n",
       "      <th>...</th>\n",
       "      <td>...</td>\n",
       "      <td>...</td>\n",
       "      <td>...</td>\n",
       "    </tr>\n",
       "    <tr>\n",
       "      <th>1554</th>\n",
       "      <td>618.35</td>\n",
       "      <td>56.0</td>\n",
       "      <td>19343.02</td>\n",
       "    </tr>\n",
       "    <tr>\n",
       "      <th>2018</th>\n",
       "      <td>468.96</td>\n",
       "      <td>10.0</td>\n",
       "      <td>28630.32</td>\n",
       "    </tr>\n",
       "    <tr>\n",
       "      <th>2981</th>\n",
       "      <td>317.27</td>\n",
       "      <td>27.0</td>\n",
       "      <td>13716.00</td>\n",
       "    </tr>\n",
       "    <tr>\n",
       "      <th>1391</th>\n",
       "      <td>202.92</td>\n",
       "      <td>25.0</td>\n",
       "      <td>12603.80</td>\n",
       "    </tr>\n",
       "    <tr>\n",
       "      <th>2434</th>\n",
       "      <td>313.72</td>\n",
       "      <td>38.0</td>\n",
       "      <td>14234.41</td>\n",
       "    </tr>\n",
       "  </tbody>\n",
       "</table>\n",
       "<p>2571 rows × 3 columns</p>\n",
       "</div>"
      ],
      "text/plain": [
       "      minutes  messages   mb_used\n",
       "2294   484.49      11.0  22454.35\n",
       "1759   328.88      24.0  20511.93\n",
       "529    705.05      18.0  22130.74\n",
       "1599   135.52      48.0  13152.50\n",
       "1868   159.55       0.0  14780.00\n",
       "...       ...       ...       ...\n",
       "1554   618.35      56.0  19343.02\n",
       "2018   468.96      10.0  28630.32\n",
       "2981   317.27      27.0  13716.00\n",
       "1391   202.92      25.0  12603.80\n",
       "2434   313.72      38.0  14234.41\n",
       "\n",
       "[2571 rows x 3 columns]"
      ]
     },
     "execution_count": 20,
     "metadata": {},
     "output_type": "execute_result"
    }
   ],
   "source": [
    "features_learn=pd.concat([features_train, features_valid])\n",
    "features_learn"
   ]
  },
  {
   "cell_type": "code",
   "execution_count": 21,
   "metadata": {
    "ExecuteTime": {
     "end_time": "2022-02-06T15:57:55.787160Z",
     "start_time": "2022-02-06T15:57:55.773198Z"
    }
   },
   "outputs": [
    {
     "data": {
      "text/plain": [
       "2294    0\n",
       "1759    0\n",
       "529     1\n",
       "1599    0\n",
       "1868    0\n",
       "       ..\n",
       "1554    0\n",
       "2018    0\n",
       "2981    0\n",
       "1391    0\n",
       "2434    0\n",
       "Name: is_ultra, Length: 2571, dtype: int64"
      ]
     },
     "execution_count": 21,
     "metadata": {},
     "output_type": "execute_result"
    }
   ],
   "source": [
    "target_learn=pd.concat([target_train, target_valid])\n",
    "target_learn"
   ]
  },
  {
   "cell_type": "code",
   "execution_count": 22,
   "metadata": {
    "ExecuteTime": {
     "end_time": "2022-02-06T15:57:55.994606Z",
     "start_time": "2022-02-06T15:57:55.788159Z"
    }
   },
   "outputs": [
    {
     "data": {
      "text/plain": [
       "LogisticRegression(random_state=12345)"
      ]
     },
     "execution_count": 22,
     "metadata": {},
     "output_type": "execute_result"
    }
   ],
   "source": [
    "model_1.fit(features_learn, target_learn)\n",
    "model_2.fit(features_learn, target_learn)\n",
    "model_3.fit(features_learn, target_learn)"
   ]
  },
  {
   "cell_type": "markdown",
   "metadata": {},
   "source": [
    "### Выводы"
   ]
  },
  {
   "cell_type": "code",
   "execution_count": 23,
   "metadata": {
    "ExecuteTime": {
     "end_time": "2022-02-06T15:57:56.040482Z",
     "start_time": "2022-02-06T15:57:55.996601Z"
    }
   },
   "outputs": [],
   "source": [
    "predictions_train_1 = model_1.predict(features_train)\n",
    "predictions_train_2 = model_2.predict(features_train)\n",
    "predictions_train_3 = model_3.predict(features_train)\n",
    "accuracy_train_1 = accuracy_score(target_train, predictions_train_1)\n",
    "accuracy_train_2 = accuracy_score(target_train, predictions_train_2)\n",
    "accuracy_train_3 = accuracy_score(target_train, predictions_train_3)"
   ]
  },
  {
   "cell_type": "code",
   "execution_count": 24,
   "metadata": {
    "ExecuteTime": {
     "end_time": "2022-02-06T15:57:56.056441Z",
     "start_time": "2022-02-06T15:57:56.042479Z"
    }
   },
   "outputs": [
    {
     "name": "stdout",
     "output_type": "stream",
     "text": [
      "[0.8423236514522822, 0.8967842323651453, 0.7074688796680498]\n",
      "Самый высокий показатель accuracy равняется 89.68%\n",
      "Cамая точная модель - случайный лес\n"
     ]
    }
   ],
   "source": [
    "best_accuracy = [accuracy_train_1, accuracy_train_2, accuracy_train_3]\n",
    "best_model = ['решающее дерево', 'случайный лес', 'логистическая регрессия']\n",
    "print(best_accuracy)\n",
    "print(f'Самый высокий показатель accuracy равняется {max(best_accuracy):.2%}')\n",
    "print(f'Cамая точная модель - {best_model[best_accuracy.index(max(best_accuracy))]}')"
   ]
  },
  {
   "cell_type": "markdown",
   "metadata": {},
   "source": [
    "Все три модели смогли обучиться на обучающей выборке. Используя валидационную выборку мы подобрали наиболее подходящие гиперпараметры и доучили модели используя объединенную выборку train + valid.   \n",
    "По метрике `accuracy` лидирует модель случайного леса, но при этом модель решающего дерева отстает от нее на ~5%, а модель логистической регрессии  - на ~19%. При этом модель логистической регрессии обучается в разы быстрее, что немаловажно, однако она явно underfitting.   \n",
    "По результатам сравнения моделей, для проверки на тестовой выборке берем `model_2`."
   ]
  },
  {
   "cell_type": "markdown",
   "metadata": {},
   "source": [
    "## Проверка модели"
   ]
  },
  {
   "cell_type": "markdown",
   "metadata": {},
   "source": [
    "Возьмем нашу модель случайного леса, предскажем значения целевого признака для тестовой выборки"
   ]
  },
  {
   "cell_type": "code",
   "execution_count": 25,
   "metadata": {
    "ExecuteTime": {
     "end_time": "2022-02-06T15:57:56.087357Z",
     "start_time": "2022-02-06T15:57:56.057438Z"
    }
   },
   "outputs": [],
   "source": [
    "test_prediction = model_2.predict(features_test)\n",
    "accuracy_test = accuracy_score(target_test, test_prediction)"
   ]
  },
  {
   "cell_type": "code",
   "execution_count": 26,
   "metadata": {
    "ExecuteTime": {
     "end_time": "2022-02-06T15:57:56.102318Z",
     "start_time": "2022-02-06T15:57:56.088354Z"
    }
   },
   "outputs": [
    {
     "name": "stdout",
     "output_type": "stream",
     "text": [
      "Accuracy модели случайного леса на тестовой выборке составила 84.14%\n"
     ]
    }
   ],
   "source": [
    "print(f'Accuracy модели случайного леса на тестовой выборке составила {accuracy_test:.2%}')"
   ]
  },
  {
   "cell_type": "code",
   "execution_count": 27,
   "metadata": {
    "ExecuteTime": {
     "end_time": "2022-02-06T15:57:56.118276Z",
     "start_time": "2022-02-06T15:57:56.105311Z"
    }
   },
   "outputs": [
    {
     "name": "stdout",
     "output_type": "stream",
     "text": [
      "Разница между accuracy на обучающей и тестовой выборках составила 5.54%\n"
     ]
    }
   ],
   "source": [
    "print(f'Разница между accuracy на обучающей и тестовой выборках составила {(accuracy_train_2 - accuracy_test):.2%}')"
   ]
  },
  {
   "cell_type": "markdown",
   "metadata": {},
   "source": [
    "Разница между точностью предсказаний на обучающей и тестовой выборках составила около 5.54%, значит, имеет место некий overfitting. Достигнута заданная в задании accuracy в 0.75.\n",
    "\n",
    "Перед тем, как считать модель готовой, необходимо проверить ее на адекватность"
   ]
  },
  {
   "cell_type": "markdown",
   "metadata": {},
   "source": [
    "## Проверка модели на адекватность"
   ]
  },
  {
   "cell_type": "markdown",
   "metadata": {},
   "source": [
    "Используем DummyClassifier, чтобы проверить нашу модель на случайную подстановку значений"
   ]
  },
  {
   "cell_type": "code",
   "execution_count": 28,
   "metadata": {
    "ExecuteTime": {
     "end_time": "2022-02-06T15:57:56.134232Z",
     "start_time": "2022-02-06T15:57:56.124259Z"
    }
   },
   "outputs": [],
   "source": [
    "dummy_clf = DummyClassifier(strategy=\"most_frequent\", random_state=12345)\n",
    "dummy_clf.fit(features_train, target_train)\n",
    "dummy_clf.predict(target_train)\n",
    "score = dummy_clf.score(features_train, target_train)"
   ]
  },
  {
   "cell_type": "code",
   "execution_count": 29,
   "metadata": {
    "ExecuteTime": {
     "end_time": "2022-02-06T15:57:56.149192Z",
     "start_time": "2022-02-06T15:57:56.135229Z"
    }
   },
   "outputs": [
    {
     "name": "stdout",
     "output_type": "stream",
     "text": [
      "Разница между accuracy моделей случайного леса и DummyClassifier составила 20.33%\n"
     ]
    }
   ],
   "source": [
    "print(f'Разница между accuracy моделей случайного леса и DummyClassifier составила {(accuracy_train_2 - score):.2%}')"
   ]
  },
  {
   "cell_type": "markdown",
   "metadata": {},
   "source": [
    "Accuracy DummyClassifier меньше, нежели у нашей модели, причем значительно - целых 20%. Признаем модель адекватной (она смогла найти зависимости между признаками, а не проставила значения наобум)"
   ]
  },
  {
   "cell_type": "markdown",
   "metadata": {},
   "source": [
    "## Общие выводы"
   ]
  },
  {
   "cell_type": "markdown",
   "metadata": {},
   "source": [
    "Перед нами стояла задача бинарной классификации - по портретам клиентов построить рекомендательную модель тарифов (\"Смарт\" или \"Ультра\").   \n",
    "\n",
    "На предоставленом датасете было обучено три модели - решающее дерево, случайный лес и логистическая регрессия. Результативность моделей оценивалась по величине метрики `accuracy`. Модель случайного леса показала самую высокую результативность на обучающей выборке. \n",
    "\n",
    "Далее перед нами стояла задача проверки `accuracy` модели на тестовой выборке и сравнить ее с проверкой на обучающей выборке. Модель успешно справилась с задачей, показав разницу в 8%. Финальная `accuracy` модели равняется 81.16%, что выше установленного в задании значения.  \n",
    "\n",
    "Кроме того, была проведена проверка модели на адекватность, в ходе которого оценивалась способность модели находить взаимосвязи, а не предсказывать случайные значения, основываясь на частоте признака. Сравнение метрик нашей модели с `DummyClassifier` показало, что наша модель способна находить зависимости между признаками объектов."
   ]
  }
 ],
 "metadata": {
  "ExecuteTimeLog": [
   {
    "duration": 1763,
    "start_time": "2021-11-09T14:38:21.827Z"
   },
   {
    "duration": 26,
    "start_time": "2021-11-09T14:39:10.362Z"
   },
   {
    "duration": 34,
    "start_time": "2021-11-09T14:39:15.024Z"
   },
   {
    "duration": 49,
    "start_time": "2021-11-09T14:41:07.288Z"
   },
   {
    "duration": 1039,
    "start_time": "2021-11-09T18:07:29.587Z"
   },
   {
    "duration": 20,
    "start_time": "2021-11-09T18:07:30.628Z"
   },
   {
    "duration": 16,
    "start_time": "2021-11-09T18:07:30.650Z"
   },
   {
    "duration": 28,
    "start_time": "2021-11-09T18:07:30.668Z"
   },
   {
    "duration": 4,
    "start_time": "2021-11-09T18:10:23.826Z"
   },
   {
    "duration": 3,
    "start_time": "2021-11-09T18:21:10.849Z"
   },
   {
    "duration": 260,
    "start_time": "2021-11-09T18:22:56.608Z"
   },
   {
    "duration": 6,
    "start_time": "2021-11-09T18:23:17.568Z"
   },
   {
    "duration": 11,
    "start_time": "2021-11-09T18:23:27.826Z"
   },
   {
    "duration": 12,
    "start_time": "2021-11-09T18:23:41.818Z"
   },
   {
    "duration": 4,
    "start_time": "2021-11-09T18:24:41.154Z"
   },
   {
    "duration": 4,
    "start_time": "2021-11-09T18:25:15.273Z"
   },
   {
    "duration": 4,
    "start_time": "2021-11-09T18:25:21.849Z"
   },
   {
    "duration": 5,
    "start_time": "2021-11-09T18:26:44.425Z"
   },
   {
    "duration": 4,
    "start_time": "2021-11-09T18:26:56.545Z"
   },
   {
    "duration": 3,
    "start_time": "2021-11-09T18:31:54.561Z"
   },
   {
    "duration": 171,
    "start_time": "2021-11-09T18:32:44.192Z"
   },
   {
    "duration": 13,
    "start_time": "2021-11-09T18:32:47.465Z"
   },
   {
    "duration": 206,
    "start_time": "2021-11-09T18:40:41.194Z"
   },
   {
    "duration": 185,
    "start_time": "2021-11-09T18:40:56.681Z"
   },
   {
    "duration": 18,
    "start_time": "2021-11-09T18:41:04.690Z"
   },
   {
    "duration": 4,
    "start_time": "2021-11-09T18:41:08.313Z"
   },
   {
    "duration": 50,
    "start_time": "2021-11-09T18:41:31.442Z"
   },
   {
    "duration": 5,
    "start_time": "2021-11-09T18:41:34.490Z"
   },
   {
    "duration": 131,
    "start_time": "2021-11-09T18:41:47.578Z"
   },
   {
    "duration": 4,
    "start_time": "2021-11-09T18:41:50.722Z"
   },
   {
    "duration": 32,
    "start_time": "2021-11-09T18:42:00.906Z"
   },
   {
    "duration": 4,
    "start_time": "2021-11-09T18:42:03.673Z"
   },
   {
    "duration": 21,
    "start_time": "2021-11-09T18:42:43.537Z"
   },
   {
    "duration": 3,
    "start_time": "2021-11-09T18:42:45.594Z"
   },
   {
    "duration": 50,
    "start_time": "2021-11-09T18:42:50.833Z"
   },
   {
    "duration": 3,
    "start_time": "2021-11-09T18:42:53.706Z"
   },
   {
    "duration": 141,
    "start_time": "2021-11-09T18:43:04.497Z"
   },
   {
    "duration": 3,
    "start_time": "2021-11-09T18:43:07.049Z"
   },
   {
    "duration": 51,
    "start_time": "2021-11-09T18:43:21.657Z"
   },
   {
    "duration": 4,
    "start_time": "2021-11-09T18:43:24.601Z"
   },
   {
    "duration": 25,
    "start_time": "2021-11-09T18:43:31.713Z"
   },
   {
    "duration": 4,
    "start_time": "2021-11-09T18:43:34.537Z"
   },
   {
    "duration": 26,
    "start_time": "2021-11-09T18:43:39.402Z"
   },
   {
    "duration": 4,
    "start_time": "2021-11-09T18:43:42.057Z"
   },
   {
    "duration": 28,
    "start_time": "2021-11-09T18:45:29.730Z"
   },
   {
    "duration": 28,
    "start_time": "2021-11-09T18:45:48.482Z"
   },
   {
    "duration": 10,
    "start_time": "2021-11-09T18:49:26.595Z"
   },
   {
    "duration": 12,
    "start_time": "2021-11-09T18:49:46.458Z"
   },
   {
    "duration": 4,
    "start_time": "2021-11-09T18:50:17.882Z"
   },
   {
    "duration": 6,
    "start_time": "2021-11-09T18:50:23.426Z"
   },
   {
    "duration": 5,
    "start_time": "2021-11-09T18:51:19.090Z"
   },
   {
    "duration": 190,
    "start_time": "2021-11-09T18:57:22.890Z"
   },
   {
    "duration": 265,
    "start_time": "2021-11-09T18:57:33.723Z"
   },
   {
    "duration": 11353,
    "start_time": "2021-11-09T18:57:41.546Z"
   },
   {
    "duration": 4,
    "start_time": "2021-11-09T18:58:20.515Z"
   },
   {
    "duration": 4,
    "start_time": "2021-11-09T18:58:46.642Z"
   },
   {
    "duration": 11469,
    "start_time": "2021-11-09T19:00:47.443Z"
   },
   {
    "duration": 4,
    "start_time": "2021-11-09T19:01:01.154Z"
   },
   {
    "duration": 14,
    "start_time": "2021-11-09T19:03:15.012Z"
   },
   {
    "duration": 2,
    "start_time": "2021-11-09T19:04:39.011Z"
   },
   {
    "duration": 12,
    "start_time": "2021-11-09T19:04:43.755Z"
   },
   {
    "duration": 4,
    "start_time": "2021-11-09T19:04:49.883Z"
   },
   {
    "duration": 167,
    "start_time": "2021-11-09T19:22:53.859Z"
   },
   {
    "duration": 9,
    "start_time": "2021-11-09T19:23:06.148Z"
   },
   {
    "duration": 5,
    "start_time": "2021-11-09T19:23:41.364Z"
   },
   {
    "duration": 241,
    "start_time": "2021-11-09T19:24:40.211Z"
   },
   {
    "duration": 4,
    "start_time": "2021-11-09T19:24:44.571Z"
   },
   {
    "duration": 5,
    "start_time": "2021-11-09T19:24:46.435Z"
   },
   {
    "duration": 4,
    "start_time": "2021-11-09T19:30:16.395Z"
   },
   {
    "duration": 5,
    "start_time": "2021-11-09T19:30:29.867Z"
   },
   {
    "duration": 1605,
    "start_time": "2021-11-10T18:17:04.525Z"
   },
   {
    "duration": 5,
    "start_time": "2021-11-10T18:18:40.520Z"
   },
   {
    "duration": 7,
    "start_time": "2021-11-10T18:18:40.528Z"
   },
   {
    "duration": 26,
    "start_time": "2021-11-10T18:18:40.538Z"
   },
   {
    "duration": 21,
    "start_time": "2021-11-10T18:18:40.567Z"
   },
   {
    "duration": 36,
    "start_time": "2021-11-10T18:18:40.591Z"
   },
   {
    "duration": 5,
    "start_time": "2021-11-10T18:18:40.629Z"
   },
   {
    "duration": 33,
    "start_time": "2021-11-10T18:18:40.636Z"
   },
   {
    "duration": 5,
    "start_time": "2021-11-10T18:18:40.673Z"
   },
   {
    "duration": 8,
    "start_time": "2021-11-10T18:18:40.680Z"
   },
   {
    "duration": 7,
    "start_time": "2021-11-10T18:18:40.690Z"
   },
   {
    "duration": 49,
    "start_time": "2021-11-10T18:18:51.942Z"
   },
   {
    "duration": 13,
    "start_time": "2021-11-10T18:19:10.812Z"
   },
   {
    "duration": 8,
    "start_time": "2021-11-10T18:19:26.059Z"
   },
   {
    "duration": 7,
    "start_time": "2021-11-10T18:19:29.420Z"
   },
   {
    "duration": 20477,
    "start_time": "2021-11-10T18:19:38.340Z"
   },
   {
    "duration": 5,
    "start_time": "2021-11-10T18:20:10.468Z"
   },
   {
    "duration": 20,
    "start_time": "2021-11-10T18:20:26.276Z"
   },
   {
    "duration": 6,
    "start_time": "2021-11-10T18:20:26.979Z"
   },
   {
    "duration": 20,
    "start_time": "2021-11-10T18:23:44.508Z"
   },
   {
    "duration": 8,
    "start_time": "2021-11-10T18:23:47.195Z"
   },
   {
    "duration": 5,
    "start_time": "2021-11-10T18:24:26.861Z"
   },
   {
    "duration": 7,
    "start_time": "2021-11-10T18:24:28.820Z"
   },
   {
    "duration": 6,
    "start_time": "2021-11-10T18:24:44.358Z"
   },
   {
    "duration": 17,
    "start_time": "2021-11-10T18:24:56.484Z"
   },
   {
    "duration": 6,
    "start_time": "2021-11-10T18:24:57.748Z"
   },
   {
    "duration": 7,
    "start_time": "2021-11-10T18:34:31.604Z"
   },
   {
    "duration": 6,
    "start_time": "2021-11-10T18:34:32.979Z"
   },
   {
    "duration": 46,
    "start_time": "2021-11-10T18:35:03.189Z"
   },
   {
    "duration": 13,
    "start_time": "2021-11-10T18:35:20.604Z"
   },
   {
    "duration": 8,
    "start_time": "2021-11-10T18:35:22.932Z"
   },
   {
    "duration": 7,
    "start_time": "2021-11-10T18:35:25.524Z"
   },
   {
    "duration": 9557,
    "start_time": "2021-11-10T18:35:30.997Z"
   },
   {
    "duration": -1599,
    "start_time": "2021-11-10T18:35:42.155Z"
   },
   {
    "duration": 20936,
    "start_time": "2021-11-10T18:35:45.837Z"
   },
   {
    "duration": 5,
    "start_time": "2021-11-10T18:36:11.197Z"
   },
   {
    "duration": 21,
    "start_time": "2021-11-10T18:36:18.948Z"
   },
   {
    "duration": 5,
    "start_time": "2021-11-10T18:36:20.213Z"
   },
   {
    "duration": 14,
    "start_time": "2021-11-10T18:37:45.340Z"
   },
   {
    "duration": 7,
    "start_time": "2021-11-10T18:37:46.548Z"
   },
   {
    "duration": 5,
    "start_time": "2021-11-10T18:44:04.077Z"
   },
   {
    "duration": 913,
    "start_time": "2021-11-10T18:45:41.972Z"
   },
   {
    "duration": 5,
    "start_time": "2021-11-10T18:45:53.933Z"
   },
   {
    "duration": 112,
    "start_time": "2021-11-10T18:49:09.501Z"
   },
   {
    "duration": 359,
    "start_time": "2021-11-10T18:49:14.637Z"
   },
   {
    "duration": 5,
    "start_time": "2021-11-10T18:49:44.102Z"
   },
   {
    "duration": 6,
    "start_time": "2021-11-10T18:50:22.805Z"
   },
   {
    "duration": 365,
    "start_time": "2021-11-10T18:50:26.716Z"
   },
   {
    "duration": 315,
    "start_time": "2021-11-10T18:50:37.734Z"
   },
   {
    "duration": 590,
    "start_time": "2021-11-10T18:50:50.925Z"
   },
   {
    "duration": 368,
    "start_time": "2021-11-10T18:51:03.022Z"
   },
   {
    "duration": 6,
    "start_time": "2021-11-10T18:51:30.022Z"
   },
   {
    "duration": 299,
    "start_time": "2021-11-10T18:53:12.156Z"
   },
   {
    "duration": 711,
    "start_time": "2021-11-10T18:53:32.549Z"
   },
   {
    "duration": 90,
    "start_time": "2021-11-10T18:54:01.950Z"
   },
   {
    "duration": 6,
    "start_time": "2021-11-10T18:54:11.052Z"
   },
   {
    "duration": 6,
    "start_time": "2021-11-10T18:54:29.981Z"
   },
   {
    "duration": 1490,
    "start_time": "2021-11-11T07:35:20.668Z"
   },
   {
    "duration": 3,
    "start_time": "2021-11-11T07:35:22.162Z"
   },
   {
    "duration": 24,
    "start_time": "2021-11-11T07:35:22.168Z"
   },
   {
    "duration": 30,
    "start_time": "2021-11-11T07:35:22.195Z"
   },
   {
    "duration": 34,
    "start_time": "2021-11-11T07:35:22.227Z"
   },
   {
    "duration": 4,
    "start_time": "2021-11-11T07:35:22.264Z"
   },
   {
    "duration": 30,
    "start_time": "2021-11-11T07:35:22.270Z"
   },
   {
    "duration": 7,
    "start_time": "2021-11-11T07:35:22.304Z"
   },
   {
    "duration": 7,
    "start_time": "2021-11-11T07:35:22.316Z"
   },
   {
    "duration": 8,
    "start_time": "2021-11-11T07:35:22.325Z"
   },
   {
    "duration": 98,
    "start_time": "2021-11-11T07:35:22.335Z"
   },
   {
    "duration": 13,
    "start_time": "2021-11-11T07:35:22.435Z"
   },
   {
    "duration": 7,
    "start_time": "2021-11-11T07:35:22.451Z"
   },
   {
    "duration": 11,
    "start_time": "2021-11-11T07:35:22.460Z"
   },
   {
    "duration": 21488,
    "start_time": "2021-11-11T07:35:22.501Z"
   },
   {
    "duration": 16,
    "start_time": "2021-11-11T07:35:43.991Z"
   },
   {
    "duration": 21,
    "start_time": "2021-11-11T07:35:44.011Z"
   },
   {
    "duration": 5,
    "start_time": "2021-11-11T07:35:44.034Z"
   },
   {
    "duration": 5,
    "start_time": "2021-11-11T07:35:44.041Z"
   },
   {
    "duration": 13,
    "start_time": "2021-11-11T07:35:44.048Z"
   },
   {
    "duration": 40,
    "start_time": "2021-11-11T07:35:44.063Z"
   },
   {
    "duration": 10,
    "start_time": "2021-11-11T07:35:44.105Z"
   },
   {
    "duration": 20,
    "start_time": "2021-11-11T07:37:55.572Z"
   },
   {
    "duration": 515,
    "start_time": "2021-11-11T07:40:23.106Z"
   },
   {
    "duration": 24,
    "start_time": "2021-11-11T07:40:24.746Z"
   },
   {
    "duration": 6,
    "start_time": "2021-11-11T07:40:26.582Z"
   },
   {
    "duration": 6,
    "start_time": "2021-11-11T12:12:40.206Z"
   },
   {
    "duration": 5,
    "start_time": "2021-11-11T12:13:51.184Z"
   },
   {
    "duration": 5,
    "start_time": "2021-11-11T12:14:41.102Z"
   },
   {
    "duration": 5,
    "start_time": "2021-11-11T12:14:48.844Z"
   },
   {
    "duration": 5,
    "start_time": "2021-11-11T12:14:51.639Z"
   },
   {
    "duration": 5,
    "start_time": "2021-11-11T12:14:55.981Z"
   },
   {
    "duration": 5,
    "start_time": "2021-11-11T12:15:30.541Z"
   },
   {
    "duration": 6,
    "start_time": "2021-11-11T12:15:37.292Z"
   },
   {
    "duration": 5,
    "start_time": "2021-11-11T12:17:41.576Z"
   },
   {
    "duration": 5,
    "start_time": "2021-11-11T12:34:18.903Z"
   },
   {
    "duration": 10,
    "start_time": "2021-11-11T12:37:58.493Z"
   },
   {
    "duration": 10,
    "start_time": "2021-11-11T12:38:32.170Z"
   },
   {
    "duration": 7,
    "start_time": "2021-11-11T12:39:44.235Z"
   },
   {
    "duration": 4,
    "start_time": "2021-11-11T12:39:58.577Z"
   },
   {
    "duration": 4,
    "start_time": "2021-11-11T13:41:28.852Z"
   },
   {
    "duration": 4,
    "start_time": "2021-11-11T13:49:33.635Z"
   },
   {
    "duration": 4,
    "start_time": "2021-11-11T13:49:46.140Z"
   },
   {
    "duration": 5,
    "start_time": "2021-11-11T13:54:53.479Z"
   },
   {
    "duration": 5,
    "start_time": "2021-11-11T13:56:44.286Z"
   },
   {
    "duration": 4,
    "start_time": "2021-11-11T13:58:38.496Z"
   },
   {
    "duration": 5,
    "start_time": "2021-11-11T14:00:10.674Z"
   },
   {
    "duration": 7,
    "start_time": "2021-11-11T14:00:10.681Z"
   },
   {
    "duration": 22,
    "start_time": "2021-11-11T14:00:10.691Z"
   },
   {
    "duration": 12,
    "start_time": "2021-11-11T14:00:10.716Z"
   },
   {
    "duration": 38,
    "start_time": "2021-11-11T14:00:10.731Z"
   },
   {
    "duration": 29,
    "start_time": "2021-11-11T14:00:10.772Z"
   },
   {
    "duration": 8,
    "start_time": "2021-11-11T14:00:10.805Z"
   },
   {
    "duration": 8,
    "start_time": "2021-11-11T14:00:10.816Z"
   },
   {
    "duration": 7,
    "start_time": "2021-11-11T14:00:10.827Z"
   },
   {
    "duration": 8,
    "start_time": "2021-11-11T14:00:10.836Z"
   },
   {
    "duration": 87,
    "start_time": "2021-11-11T14:00:10.847Z"
   },
   {
    "duration": 11,
    "start_time": "2021-11-11T14:00:10.937Z"
   },
   {
    "duration": 4,
    "start_time": "2021-11-11T14:00:10.951Z"
   },
   {
    "duration": 20143,
    "start_time": "2021-11-11T14:00:10.957Z"
   },
   {
    "duration": 7,
    "start_time": "2021-11-11T14:00:31.103Z"
   },
   {
    "duration": 26,
    "start_time": "2021-11-11T14:00:31.113Z"
   },
   {
    "duration": 6,
    "start_time": "2021-11-11T14:00:31.142Z"
   },
   {
    "duration": 64,
    "start_time": "2021-11-11T14:00:31.155Z"
   },
   {
    "duration": 6,
    "start_time": "2021-11-11T14:00:31.223Z"
   },
   {
    "duration": 17,
    "start_time": "2021-11-11T14:00:31.232Z"
   },
   {
    "duration": 13,
    "start_time": "2021-11-11T14:00:31.252Z"
   },
   {
    "duration": 35,
    "start_time": "2021-11-11T14:00:31.268Z"
   },
   {
    "duration": 26,
    "start_time": "2021-11-11T14:00:31.305Z"
   },
   {
    "duration": 13,
    "start_time": "2021-11-11T14:00:31.333Z"
   },
   {
    "duration": 1038,
    "start_time": "2021-11-11T20:33:55.566Z"
   },
   {
    "duration": 1040,
    "start_time": "2021-11-11T20:34:25.735Z"
   },
   {
    "duration": 3,
    "start_time": "2021-11-11T20:34:26.777Z"
   },
   {
    "duration": 23,
    "start_time": "2021-11-11T20:34:26.782Z"
   },
   {
    "duration": 16,
    "start_time": "2021-11-11T20:34:26.807Z"
   },
   {
    "duration": 23,
    "start_time": "2021-11-11T20:34:26.824Z"
   },
   {
    "duration": 4,
    "start_time": "2021-11-11T20:34:26.849Z"
   },
   {
    "duration": 11,
    "start_time": "2021-11-11T20:34:26.855Z"
   },
   {
    "duration": 5,
    "start_time": "2021-11-11T20:34:26.869Z"
   },
   {
    "duration": 6,
    "start_time": "2021-11-11T20:34:26.876Z"
   },
   {
    "duration": 8,
    "start_time": "2021-11-11T20:34:26.884Z"
   },
   {
    "duration": 76,
    "start_time": "2021-11-11T20:34:26.894Z"
   },
   {
    "duration": 9,
    "start_time": "2021-11-11T20:34:26.972Z"
   },
   {
    "duration": 3,
    "start_time": "2021-11-11T20:34:26.983Z"
   },
   {
    "duration": 14766,
    "start_time": "2021-11-11T20:34:26.988Z"
   },
   {
    "duration": 4,
    "start_time": "2021-11-11T20:34:41.756Z"
   },
   {
    "duration": 28,
    "start_time": "2021-11-11T20:34:41.762Z"
   },
   {
    "duration": 6,
    "start_time": "2021-11-11T20:34:41.791Z"
   },
   {
    "duration": 25,
    "start_time": "2021-11-11T20:34:41.798Z"
   },
   {
    "duration": 3,
    "start_time": "2021-11-11T20:34:41.825Z"
   },
   {
    "duration": 28,
    "start_time": "2021-11-11T20:34:41.830Z"
   },
   {
    "duration": 11,
    "start_time": "2021-11-11T20:34:41.860Z"
   },
   {
    "duration": 17,
    "start_time": "2021-11-11T20:34:41.873Z"
   },
   {
    "duration": 19,
    "start_time": "2021-11-11T20:34:41.893Z"
   },
   {
    "duration": 12,
    "start_time": "2021-11-11T20:34:41.914Z"
   },
   {
    "duration": 1537,
    "start_time": "2021-11-12T08:21:57.012Z"
   },
   {
    "duration": 5,
    "start_time": "2021-11-12T08:22:05.217Z"
   },
   {
    "duration": 7,
    "start_time": "2021-11-12T08:22:05.225Z"
   },
   {
    "duration": 24,
    "start_time": "2021-11-12T08:22:05.235Z"
   },
   {
    "duration": 18,
    "start_time": "2021-11-12T08:22:05.262Z"
   },
   {
    "duration": 36,
    "start_time": "2021-11-12T08:22:05.282Z"
   },
   {
    "duration": 474,
    "start_time": "2021-11-12T08:24:21.270Z"
   },
   {
    "duration": 7,
    "start_time": "2021-11-12T08:24:26.226Z"
   },
   {
    "duration": 7,
    "start_time": "2021-11-12T08:24:26.236Z"
   },
   {
    "duration": 26,
    "start_time": "2021-11-12T08:24:26.246Z"
   },
   {
    "duration": 14,
    "start_time": "2021-11-12T08:24:26.274Z"
   },
   {
    "duration": 42,
    "start_time": "2021-11-12T08:24:26.290Z"
   },
   {
    "duration": 1309,
    "start_time": "2021-11-12T08:25:01.197Z"
   },
   {
    "duration": 453,
    "start_time": "2021-11-12T08:27:09.296Z"
   },
   {
    "duration": 580,
    "start_time": "2021-11-12T08:32:36.576Z"
   },
   {
    "duration": 506,
    "start_time": "2021-11-12T08:32:41.657Z"
   },
   {
    "duration": 571,
    "start_time": "2021-11-12T08:35:05.761Z"
   },
   {
    "duration": 613,
    "start_time": "2021-11-12T08:35:20.478Z"
   },
   {
    "duration": 15,
    "start_time": "2021-11-12T08:36:13.621Z"
   },
   {
    "duration": 5,
    "start_time": "2021-11-12T10:58:02.226Z"
   },
   {
    "duration": 11,
    "start_time": "2021-11-12T11:01:45.427Z"
   },
   {
    "duration": 5,
    "start_time": "2021-11-12T11:01:48.874Z"
   },
   {
    "duration": 7,
    "start_time": "2021-11-12T11:02:06.939Z"
   },
   {
    "duration": 6,
    "start_time": "2021-11-12T11:02:09.554Z"
   },
   {
    "duration": 49,
    "start_time": "2021-11-12T11:03:00.779Z"
   },
   {
    "duration": 11,
    "start_time": "2021-11-12T11:03:47.170Z"
   },
   {
    "duration": 5,
    "start_time": "2021-11-12T11:03:48.435Z"
   },
   {
    "duration": 311,
    "start_time": "2021-11-12T11:06:56.180Z"
   },
   {
    "duration": 299,
    "start_time": "2021-11-12T11:07:05.987Z"
   },
   {
    "duration": 300,
    "start_time": "2021-11-12T11:10:41.067Z"
   },
   {
    "duration": 16,
    "start_time": "2021-11-12T11:10:47.002Z"
   },
   {
    "duration": 15,
    "start_time": "2021-11-12T11:11:37.428Z"
   },
   {
    "duration": 22,
    "start_time": "2021-11-12T11:12:07.227Z"
   },
   {
    "duration": 8,
    "start_time": "2021-11-12T11:12:30.027Z"
   },
   {
    "duration": 7,
    "start_time": "2021-11-12T11:12:39.875Z"
   },
   {
    "duration": 82,
    "start_time": "2021-11-12T11:13:14.876Z"
   },
   {
    "duration": 15,
    "start_time": "2021-11-12T11:14:53.411Z"
   },
   {
    "duration": 8,
    "start_time": "2021-11-12T11:15:04.724Z"
   },
   {
    "duration": 24333,
    "start_time": "2021-11-12T11:16:27.595Z"
   },
   {
    "duration": 7,
    "start_time": "2021-11-12T11:16:53.147Z"
   },
   {
    "duration": 12,
    "start_time": "2021-11-12T11:17:03.332Z"
   },
   {
    "duration": 5,
    "start_time": "2021-11-12T11:17:08.139Z"
   },
   {
    "duration": 13,
    "start_time": "2021-11-12T11:17:14.212Z"
   },
   {
    "duration": 5,
    "start_time": "2021-11-12T11:17:15.339Z"
   },
   {
    "duration": 17,
    "start_time": "2021-11-12T11:17:25.275Z"
   },
   {
    "duration": 5,
    "start_time": "2021-11-12T11:17:26.211Z"
   },
   {
    "duration": 15,
    "start_time": "2021-11-12T11:19:22.628Z"
   },
   {
    "duration": 7,
    "start_time": "2021-11-12T11:19:41.508Z"
   },
   {
    "duration": 31,
    "start_time": "2021-11-12T11:20:19.204Z"
   },
   {
    "duration": 5,
    "start_time": "2021-11-12T11:20:20.213Z"
   },
   {
    "duration": 106,
    "start_time": "2021-11-12T11:20:45.643Z"
   },
   {
    "duration": 7,
    "start_time": "2021-11-12T11:21:34.133Z"
   },
   {
    "duration": 7,
    "start_time": "2021-11-12T11:22:15.965Z"
   },
   {
    "duration": 8,
    "start_time": "2021-11-12T11:22:54.692Z"
   },
   {
    "duration": 298,
    "start_time": "2021-11-12T11:23:55.196Z"
   },
   {
    "duration": 289,
    "start_time": "2021-11-12T11:24:03.564Z"
   },
   {
    "duration": 39,
    "start_time": "2021-11-12T11:24:06.947Z"
   },
   {
    "duration": 7,
    "start_time": "2021-11-12T11:24:08.444Z"
   },
   {
    "duration": 25,
    "start_time": "2021-11-12T11:25:05.773Z"
   },
   {
    "duration": 6,
    "start_time": "2021-11-12T11:25:07.468Z"
   },
   {
    "duration": 4,
    "start_time": "2021-11-12T11:25:09.987Z"
   },
   {
    "duration": 8,
    "start_time": "2021-11-12T11:25:16.412Z"
   },
   {
    "duration": 5,
    "start_time": "2021-11-12T11:25:17.507Z"
   },
   {
    "duration": 15,
    "start_time": "2021-11-12T11:28:17.772Z"
   },
   {
    "duration": 8,
    "start_time": "2021-11-12T11:28:25.284Z"
   },
   {
    "duration": 229,
    "start_time": "2021-11-12T11:28:34.054Z"
   },
   {
    "duration": 112,
    "start_time": "2021-11-12T11:40:15.022Z"
   },
   {
    "duration": 441,
    "start_time": "2021-11-12T11:43:27.942Z"
   },
   {
    "duration": 18,
    "start_time": "2021-11-12T11:43:46.900Z"
   },
   {
    "duration": 15,
    "start_time": "2021-11-12T11:43:53.134Z"
   },
   {
    "duration": 1916,
    "start_time": "2021-11-12T11:53:20.802Z"
   },
   {
    "duration": 5,
    "start_time": "2021-11-12T11:53:22.721Z"
   },
   {
    "duration": 28,
    "start_time": "2021-11-12T11:53:22.730Z"
   },
   {
    "duration": 19,
    "start_time": "2021-11-12T11:53:22.761Z"
   },
   {
    "duration": 37,
    "start_time": "2021-11-12T11:53:22.783Z"
   },
   {
    "duration": 1174,
    "start_time": "2021-11-12T11:53:22.824Z"
   },
   {
    "duration": 14,
    "start_time": "2021-11-12T11:53:24.000Z"
   },
   {
    "duration": 5,
    "start_time": "2021-11-12T11:53:24.017Z"
   },
   {
    "duration": 64,
    "start_time": "2021-11-12T11:53:24.025Z"
   },
   {
    "duration": 11,
    "start_time": "2021-11-12T11:53:24.091Z"
   },
   {
    "duration": 9,
    "start_time": "2021-11-12T11:53:24.104Z"
   },
   {
    "duration": 5,
    "start_time": "2021-11-12T11:53:24.115Z"
   },
   {
    "duration": 182,
    "start_time": "2021-11-12T11:53:24.123Z"
   },
   {
    "duration": 13,
    "start_time": "2021-11-12T11:53:24.307Z"
   },
   {
    "duration": 6,
    "start_time": "2021-11-12T11:53:24.322Z"
   },
   {
    "duration": 23413,
    "start_time": "2021-11-12T11:53:24.330Z"
   },
   {
    "duration": 4,
    "start_time": "2021-11-12T11:53:47.745Z"
   },
   {
    "duration": 36,
    "start_time": "2021-11-12T11:53:47.752Z"
   },
   {
    "duration": 5,
    "start_time": "2021-11-12T11:53:47.790Z"
   },
   {
    "duration": 18,
    "start_time": "2021-11-12T11:53:47.797Z"
   },
   {
    "duration": 9,
    "start_time": "2021-11-12T11:53:47.817Z"
   },
   {
    "duration": 256,
    "start_time": "2021-11-12T11:53:47.828Z"
   },
   {
    "duration": 31,
    "start_time": "2021-11-12T11:53:48.088Z"
   },
   {
    "duration": 6,
    "start_time": "2021-11-12T11:53:48.122Z"
   },
   {
    "duration": 22,
    "start_time": "2021-11-12T11:53:48.130Z"
   },
   {
    "duration": 30,
    "start_time": "2021-11-12T11:53:48.154Z"
   },
   {
    "duration": 8,
    "start_time": "2021-11-12T11:53:48.186Z"
   },
   {
    "duration": 9,
    "start_time": "2021-11-12T11:53:48.196Z"
   },
   {
    "duration": 8,
    "start_time": "2021-11-12T11:53:48.207Z"
   }
  ],
  "hide_input": false,
  "kernelspec": {
   "display_name": "Python 3 (ipykernel)",
   "language": "python",
   "name": "python3"
  },
  "language_info": {
   "codemirror_mode": {
    "name": "ipython",
    "version": 3
   },
   "file_extension": ".py",
   "mimetype": "text/x-python",
   "name": "python",
   "nbconvert_exporter": "python",
   "pygments_lexer": "ipython3",
   "version": "3.9.7"
  },
  "toc": {
   "base_numbering": 1,
   "nav_menu": {},
   "number_sections": true,
   "sideBar": true,
   "skip_h1_title": true,
   "title_cell": "Table of Contents",
   "title_sidebar": "Contents",
   "toc_cell": false,
   "toc_position": {},
   "toc_section_display": true,
   "toc_window_display": false
  },
  "varInspector": {
   "cols": {
    "lenName": 16,
    "lenType": 16,
    "lenVar": 40
   },
   "kernels_config": {
    "python": {
     "delete_cmd_postfix": "",
     "delete_cmd_prefix": "del ",
     "library": "var_list.py",
     "varRefreshCmd": "print(var_dic_list())"
    },
    "r": {
     "delete_cmd_postfix": ") ",
     "delete_cmd_prefix": "rm(",
     "library": "var_list.r",
     "varRefreshCmd": "cat(var_dic_list()) "
    }
   },
   "types_to_exclude": [
    "module",
    "function",
    "builtin_function_or_method",
    "instance",
    "_Feature"
   ],
   "window_display": false
  }
 },
 "nbformat": 4,
 "nbformat_minor": 2
}
